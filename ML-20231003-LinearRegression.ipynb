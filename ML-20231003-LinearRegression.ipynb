{
  "nbformat": 4,
  "nbformat_minor": 0,
  "metadata": {
    "colab": {
      "provenance": [],
      "authorship_tag": "ABX9TyNK969mLEESbYwWjC8AFMs6",
      "include_colab_link": true
    },
    "kernelspec": {
      "name": "python3",
      "display_name": "Python 3"
    },
    "language_info": {
      "name": "python"
    }
  },
  "cells": [
    {
      "cell_type": "markdown",
      "metadata": {
        "id": "view-in-github",
        "colab_type": "text"
      },
      "source": [
        "<a href=\"https://colab.research.google.com/github/renejerez/ubi-master-computer-engineering/blob/main/ML-20231003-LinearRegression.ipynb\" target=\"_parent\"><img src=\"https://colab.research.google.com/assets/colab-badge.svg\" alt=\"Open In Colab\"/></a>"
      ]
    },
    {
      "cell_type": "code",
      "execution_count": 2,
      "metadata": {
        "id": "U0UKNqhXV7HX"
      },
      "outputs": [],
      "source": [
        "\"\"\"\n",
        "Implementation of Linear Regression using Gradient Descent.\n",
        "\n",
        "Let m = #training examples, n = #number of features Sizes differ\n",
        "a little bit from blog notation. It takes as input the following:\n",
        "y is R^(1 x m), X is R^(n x m), w is R^(n x 1)\n",
        "\n",
        "Programmed by Aladdin Persson <aladdin.persson at hotmail dot com>\n",
        "*    2020-04-03 Initial coding\n",
        "*    2020-04-25 Updated comments, and small changes in code\n",
        "\"\"\"\n",
        "\n",
        "import numpy as np\n",
        "\n",
        "\n",
        "class LinearRegression:\n",
        "    def __init__(self, print_cost=False):\n",
        "        self.learning_rate = 0.01\n",
        "        self.total_iterations = 1000\n",
        "        self.print_cost = print_cost\n",
        "\n",
        "    def y_hat(self, X, w):\n",
        "        return np.dot(w.T, X)\n",
        "\n",
        "    def cost(self, yhat, y):\n",
        "        C = 1 / self.m * np.sum(np.power(yhat - y, 2))\n",
        "\n",
        "        return C\n",
        "\n",
        "    def gradient_descent(self, w, X, y, yhat):\n",
        "        dCdW = 2 / self.m * np.dot(X, (yhat - y).T)\n",
        "        w = w - self.learning_rate * dCdW\n",
        "\n",
        "        return w\n",
        "\n",
        "    def main(self, X, y):\n",
        "        # Add x1 = 1\n",
        "        ones = np.ones((1, X.shape[1]))\n",
        "        X = np.append(ones, X, axis=0)\n",
        "\n",
        "        self.m = X.shape[1]\n",
        "        self.n = X.shape[0]\n",
        "\n",
        "        w = np.zeros((self.n, 1))\n",
        "\n",
        "        for it in range(self.total_iterations + 1):\n",
        "            yhat = self.y_hat(X, w)\n",
        "            cost = self.cost(yhat, y)\n",
        "\n",
        "            if it % 2000 == 0 and self.print_cost:\n",
        "                print(f\"Cost at iteration {it} is {cost}\")\n",
        "\n",
        "            w = self.gradient_descent(w, X, y, yhat)\n",
        "\n",
        "        return w\n",
        "\n",
        "\n",
        "if __name__ == \"__main__\":\n",
        "    X = np.random.rand(1, 500)\n",
        "    y = 3 * X + 5 + np.random.randn(1, 500) * 0.1\n",
        "    regression = LinearRegression()\n",
        "    w = regression.main(X, y)"
      ]
    }
  ]
}