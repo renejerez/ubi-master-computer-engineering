{
 "cells": [
  {
   "cell_type": "code",
   "execution_count": 1,
   "metadata": {},
   "outputs": [],
   "source": [
    "import os\n",
    "import random\n",
    "import numpy as np\n",
    "import matplotlib.pyplot as plt\n",
    "\n",
    "import tensorflow as tf\n",
    "from tensorflow.keras import Sequential\n",
    "from tensorflow.keras.layers import Dense, Conv2D, MaxPooling2D, Dropout, Flatten\n",
    "\n",
    "from tensorflow.keras.datasets import cifar10\n",
    "from tensorflow.keras.utils import to_categorical\n",
    "from matplotlib.ticker import (MultipleLocator, FormatStrFormatter)\n",
    "from dataclasses import dataclass"
   ]
  },
  {
   "cell_type": "code",
   "execution_count": 2,
   "metadata": {},
   "outputs": [],
   "source": [
    "#import libs to resize and read files\n",
    "import cv2\n",
    "import os\n",
    "import matplotlib.pyplot as plt\n",
    "from PIL import Image"
   ]
  },
  {
   "cell_type": "code",
   "execution_count": 3,
   "metadata": {},
   "outputs": [],
   "source": [
    "from pathlib import Path\n",
    "import gc"
   ]
  },
  {
   "cell_type": "code",
   "execution_count": 4,
   "metadata": {},
   "outputs": [],
   "source": [
    "#######################################\n",
    "# List all files in the folder\n",
    "#######################################\n",
    "files = list(map(str, filter(lambda file: file.is_file(), Path(\"C:/temp/AR_out\").rglob('*'))))"
   ]
  },
  {
   "cell_type": "code",
   "execution_count": 5,
   "metadata": {},
   "outputs": [],
   "source": [
    "#######################################\n",
    "#declare arrays\n",
    "#######################################\n",
    "image_resized_list = []\n",
    "file_names_list = []\n",
    "\n",
    "\n",
    "#######################################\n",
    "# resize all files and save in arrays\n",
    "#######################################\n",
    "for file in files:\n",
    "    # read image\n",
    "    img = cv2.imread(file, cv2.IMREAD_UNCHANGED)\n",
    "\n",
    "    # Set Scale\n",
    "    scale_percent = 10 \n",
    "    width = int(img.shape[1] * scale_percent / 100)\n",
    "    height = int(img.shape[0] * scale_percent / 100)\n",
    "    dimension = (width, height)\n",
    "\n",
    "    # resize image\n",
    "    resized = cv2.resize(img, dimension, interpolation = cv2.INTER_AREA)\n",
    "\n",
    "    #save image resized and file name in arrays\n",
    "    image_resized_list.append(resized)\n",
    "    file_names_list.append(file.split('\\\\')[-1].split('.')[0])"
   ]
  },
  {
   "cell_type": "code",
   "execution_count": 6,
   "metadata": {},
   "outputs": [
    {
     "data": {
      "text/plain": [
       "40"
      ]
     },
     "execution_count": 6,
     "metadata": {},
     "output_type": "execute_result"
    }
   ],
   "source": [
    "##clear memory\n",
    "gc.collect()"
   ]
  },
  {
   "cell_type": "code",
   "execution_count": 7,
   "metadata": {},
   "outputs": [],
   "source": [
    "# Convert the list to a numpy array\n",
    "image_resized_array = np.array(image_resized_list)\n",
    "\n",
    "# Get the number of images, dimensions and channels of each image\n",
    "num_images, height, width, num_channels = image_resized_array.shape\n",
    "\n",
    "# Reshape the array into a 2D array where each row is a vectorized image\n",
    "data_2d = image_resized_array.reshape(num_images, -1)  # -1 is a placeholder that tells numpy to compute the size of this dimension"
   ]
  },
  {
   "cell_type": "code",
   "execution_count": 8,
   "metadata": {},
   "outputs": [],
   "source": [
    "mean_vector = np.mean(data_2d, axis=0)"
   ]
  },
  {
   "cell_type": "code",
   "execution_count": 9,
   "metadata": {},
   "outputs": [],
   "source": [
    "# Center the data by subtracting the mean\n",
    "centered_data = data_2d - mean_vector"
   ]
  },
  {
   "cell_type": "code",
   "execution_count": 10,
   "metadata": {},
   "outputs": [],
   "source": [
    "covariance_matrix = np.dot(centered_data.T, centered_data) / (num_images - 1)"
   ]
  },
  {
   "cell_type": "code",
   "execution_count": 11,
   "metadata": {},
   "outputs": [],
   "source": [
    "covariance_matrix = np.cov(data_2d, rowvar=False)"
   ]
  },
  {
   "cell_type": "markdown",
   "metadata": {},
   "source": [
    "import matplotlib.pyplot as plt\n",
    "import seaborn as sns  # Optional, for better visualization\n",
    "\n",
    "# Display a heatmap of the covariance matrix\n",
    "plt.figure(figsize=(10, 10))\n",
    "sns.heatmap(covariance_matrix, cmap='coolwarm', fmt='.2f')\n",
    "plt.show()"
   ]
  },
  {
   "cell_type": "code",
   "execution_count": 12,
   "metadata": {},
   "outputs": [
    {
     "data": {
      "text/plain": [
       "120"
      ]
     },
     "execution_count": 12,
     "metadata": {},
     "output_type": "execute_result"
    }
   ],
   "source": [
    "##clear memory\n",
    "gc.collect()"
   ]
  },
  {
   "cell_type": "code",
   "execution_count": 13,
   "metadata": {},
   "outputs": [],
   "source": [
    "eigenvalues, eigenvectors = np.linalg.eigh(covariance_matrix)"
   ]
  },
  {
   "cell_type": "code",
   "execution_count": 14,
   "metadata": {},
   "outputs": [],
   "source": [
    "# Get the indices that would sort the eigenvalues in descending order\n",
    "sorted_indices = np.argsort(eigenvalues)[::-1]\n",
    "\n",
    "# Sort the eigenvalues and eigenvectors\n",
    "sorted_eigenvalues = eigenvalues[sorted_indices]\n",
    "sorted_eigenvectors = eigenvectors[:, sorted_indices]\n"
   ]
  },
  {
   "cell_type": "code",
   "execution_count": 15,
   "metadata": {},
   "outputs": [],
   "source": [
    "total_variance = np.sum(sorted_eigenvalues)"
   ]
  },
  {
   "cell_type": "code",
   "execution_count": 16,
   "metadata": {},
   "outputs": [],
   "source": [
    "cumulative_variance = np.cumsum(sorted_eigenvalues)"
   ]
  },
  {
   "cell_type": "code",
   "execution_count": 17,
   "metadata": {},
   "outputs": [
    {
     "name": "stdout",
     "output_type": "stream",
     "text": [
      "748\n"
     ]
    }
   ],
   "source": [
    "num_eigenvectors_to_retain = np.argmax(cumulative_variance / total_variance >= 0.99) + 1\n",
    "print (num_eigenvectors_to_retain)\n",
    "#num_eigenvectors_to_retain = 500"
   ]
  },
  {
   "cell_type": "code",
   "execution_count": 18,
   "metadata": {},
   "outputs": [],
   "source": [
    "# Select the top eigenvectors to retain 99% of the variance\n",
    "top_eigenvectors = sorted_eigenvectors[:, :num_eigenvectors_to_retain]\n",
    "\n",
    "\n",
    "# Project the centered data onto the selected eigenvectors\n",
    "projected_data = np.dot(centered_data, top_eigenvectors)"
   ]
  },
  {
   "cell_type": "code",
   "execution_count": 19,
   "metadata": {},
   "outputs": [],
   "source": [
    "# Project the centered data onto the selected eigenvectors\n",
    "projected_data = np.dot(centered_data, top_eigenvectors)"
   ]
  },
  {
   "cell_type": "code",
   "execution_count": 22,
   "metadata": {},
   "outputs": [],
   "source": [
    "##############################################################################\n",
    "#Making a test with a orignal, resized and projected image\n",
    "##############################################################################\n",
    "index = 2034  # Index of the image you want to select\n",
    "source_image = cv2.imread(files[index], cv2.IMREAD_UNCHANGED) \n",
    "resized_image = image_resized_array[index]\n",
    "original_image = image_resized_array[index]"
   ]
  },
  {
   "cell_type": "code",
   "execution_count": 23,
   "metadata": {},
   "outputs": [],
   "source": [
    "projected_representation = projected_data[index]\n",
    "reconstructed_image_data = np.dot(projected_representation, top_eigenvectors.T)"
   ]
  },
  {
   "cell_type": "code",
   "execution_count": 24,
   "metadata": {},
   "outputs": [],
   "source": [
    "reconstructed_image = reconstructed_image_data.reshape(height, width, num_channels)\n",
    "reconstructed_image = np.clip(reconstructed_image, 0, 255).astype(np.uint8)\n"
   ]
  },
  {
   "cell_type": "code",
   "execution_count": 25,
   "metadata": {},
   "outputs": [
    {
     "data": {
      "image/png": "[encoded data removed]",
      "text/plain": [
       "<Figure size 1080x360 with 3 Axes>"
      ]
     },
     "metadata": {
      "needs_background": "light"
     },
     "output_type": "display_data"
    }
   ],
   "source": [
    "plt.figure(figsize=(15, 5))  # Adjust the figure size to accommodate three images\n",
    "\n",
    "# Display source image\n",
    "plt.subplot(1, 3, 1)  # 1 row, 3 columns, 1st subplot\n",
    "plt.imshow(cv2.cvtColor(source_image, cv2.COLOR_BGR2RGB))  # Convert BGR to RGB if necessary\n",
    "plt.title('Source Image')\n",
    "\n",
    "# Display original image\n",
    "plt.subplot(1, 3, 2)  # 1 row, 3 columns, 2nd subplot\n",
    "plt.imshow(cv2.cvtColor(resized_image, cv2.COLOR_BGR2RGB))  # Convert BGR to RGB if necessary\n",
    "#axs[1].imshow(resized_image)\n",
    "plt.title('resized Image')\n",
    "\n",
    "# Display reconstructed image\n",
    "plt.subplot(1, 3, 3)  # 1 row, 3 columns, 3rd subplot\n",
    "plt.imshow(cv2.cvtColor(reconstructed_image, cv2.COLOR_BGR2RGB))  # Convert BGR to RGB if necessary\n",
    "plt.title('Vector Image remapped')\n",
    "\n",
    "plt.show()"
   ]
  },
  {
   "cell_type": "markdown",
   "metadata": {},
   "source": [
    "##### Merge projected_data with labels"
   ]
  },
  {
   "cell_type": "code",
   "execution_count": 26,
   "metadata": {},
   "outputs": [],
   "source": [
    "import scr_deep_learning_cnn_keras_py as keras_ml\n",
    "import matplotlib.pyplot as plt\n",
    "import pandas as pd"
   ]
  },
  {
   "cell_type": "code",
   "execution_count": null,
   "metadata": {},
   "outputs": [],
   "source": [
    "# Splitting each string by hyphen and storing the results in a new list\n",
    "file_names_list = [name.split('-') for name in file_names_list]\n",
    "\n",
    "# Creating a DataFrame from the list of split parts\n",
    "file_names_list = pd.DataFrame(file_names_list, columns=['gender', 'seq', 'type'])"
   ]
  },
  {
   "cell_type": "code",
   "execution_count": 28,
   "metadata": {},
   "outputs": [
    {
     "name": "stdout",
     "output_type": "stream",
     "text": [
      "     gender  seq type\n",
      "0         m  001    1\n",
      "1         m  001   10\n",
      "2         m  001   11\n",
      "3         m  001   12\n",
      "4         m  001   13\n",
      "...     ...  ...  ...\n",
      "3310      w  060    5\n",
      "3311      w  060    6\n",
      "3312      w  060    7\n",
      "3313      w  060    8\n",
      "3314      w  060    9\n",
      "\n",
      "[3315 rows x 3 columns]\n"
     ]
    }
   ],
   "source": [
    "file_names_list"
   ]
  },
  {
   "cell_type": "code",
   "execution_count": 29,
   "metadata": {},
   "outputs": [],
   "source": [
    "#Replace genre man and woman to 0 and 1\n",
    "file_names_list['gender'] = file_names_list['gender'].replace('m', 0)\n",
    "file_names_list['gender'] = file_names_list['gender'].replace('w', 1)"
   ]
  },
  {
   "cell_type": "code",
   "execution_count": 30,
   "metadata": {},
   "outputs": [],
   "source": [
    "#Replace from string to int\n",
    "file_names_list['gender'] = file_names_list['gender'].astype(int)\n",
    "file_names_list['seq'] = file_names_list['seq'].astype(int)\n",
    "file_names_list['type'] = file_names_list['type'].astype(int)"
   ]
  },
  {
   "cell_type": "code",
   "execution_count": 32,
   "metadata": {},
   "outputs": [],
   "source": [
    "projected_data = pd.DataFrame(projected_data)\n"
   ]
  },
  {
   "cell_type": "code",
   "execution_count": 33,
   "metadata": {},
   "outputs": [
    {
     "data": {
      "text/plain": [
       "7891"
      ]
     },
     "execution_count": 33,
     "metadata": {},
     "output_type": "execute_result"
    }
   ],
   "source": [
    "##clear memory\n",
    "gc.collect()"
   ]
  },
  {
   "cell_type": "code",
   "execution_count": 35,
   "metadata": {},
   "outputs": [
    {
     "name": "stdout",
     "output_type": "stream",
     "text": [
      "(3315, 748)\n",
      "(3315, 3)\n"
     ]
    }
   ],
   "source": [
    "print(projected_data.shape)\n",
    "print(file_names_list.shape)"
   ]
  },
  {
   "cell_type": "code",
   "execution_count": 36,
   "metadata": {},
   "outputs": [],
   "source": [
    "projected_data = pd.concat([projected_data, file_names_list], axis=1)\n"
   ]
  },
  {
   "cell_type": "code",
   "execution_count": 37,
   "metadata": {},
   "outputs": [
    {
     "data": {
      "text/plain": [
       "(3315, 751)"
      ]
     },
     "execution_count": 37,
     "metadata": {},
     "output_type": "execute_result"
    }
   ],
   "source": [
    "projected_data.shape"
   ]
  },
  {
   "cell_type": "code",
   "execution_count": 38,
   "metadata": {},
   "outputs": [
    {
     "data": {
      "text/html": [
       "<div>\n",
       "<style scoped>\n",
       "    .dataframe tbody tr th:only-of-type {\n",
       "        vertical-align: middle;\n",
       "    }\n",
       "\n",
       "    .dataframe tbody tr th {\n",
       "        vertical-align: top;\n",
       "    }\n",
       "\n",
       "    .dataframe thead th {\n",
       "        text-align: right;\n",
       "    }\n",
       "</style>\n",
       "<table border=\"1\" class=\"dataframe\">\n",
       "  <thead>\n",
       "    <tr style=\"text-align: right;\">\n",
       "      <th></th>\n",
       "      <th>0</th>\n",
       "      <th>1</th>\n",
       "      <th>2</th>\n",
       "      <th>3</th>\n",
       "      <th>4</th>\n",
       "      <th>5</th>\n",
       "      <th>6</th>\n",
       "      <th>7</th>\n",
       "      <th>8</th>\n",
       "      <th>9</th>\n",
       "      <th>...</th>\n",
       "      <th>741</th>\n",
       "      <th>742</th>\n",
       "      <th>743</th>\n",
       "      <th>744</th>\n",
       "      <th>745</th>\n",
       "      <th>746</th>\n",
       "      <th>747</th>\n",
       "      <th>gender</th>\n",
       "      <th>seq</th>\n",
       "      <th>type</th>\n",
       "    </tr>\n",
       "  </thead>\n",
       "  <tbody>\n",
       "    <tr>\n",
       "      <th>0</th>\n",
       "      <td>-3466.350784</td>\n",
       "      <td>226.509663</td>\n",
       "      <td>936.771975</td>\n",
       "      <td>52.920053</td>\n",
       "      <td>1380.270466</td>\n",
       "      <td>-758.574927</td>\n",
       "      <td>-64.936104</td>\n",
       "      <td>-320.890935</td>\n",
       "      <td>883.787151</td>\n",
       "      <td>-98.415013</td>\n",
       "      <td>...</td>\n",
       "      <td>-11.003112</td>\n",
       "      <td>6.679797</td>\n",
       "      <td>49.653419</td>\n",
       "      <td>15.719466</td>\n",
       "      <td>-11.551719</td>\n",
       "      <td>-47.818212</td>\n",
       "      <td>19.183949</td>\n",
       "      <td>0</td>\n",
       "      <td>1</td>\n",
       "      <td>1</td>\n",
       "    </tr>\n",
       "    <tr>\n",
       "      <th>1</th>\n",
       "      <td>-4498.098330</td>\n",
       "      <td>1478.871276</td>\n",
       "      <td>1121.669823</td>\n",
       "      <td>1180.024966</td>\n",
       "      <td>228.843861</td>\n",
       "      <td>-241.947130</td>\n",
       "      <td>899.401680</td>\n",
       "      <td>-614.588305</td>\n",
       "      <td>1168.197954</td>\n",
       "      <td>-1194.726338</td>\n",
       "      <td>...</td>\n",
       "      <td>24.585780</td>\n",
       "      <td>19.695312</td>\n",
       "      <td>-46.167904</td>\n",
       "      <td>-19.337052</td>\n",
       "      <td>20.109861</td>\n",
       "      <td>-17.026091</td>\n",
       "      <td>-9.866462</td>\n",
       "      <td>0</td>\n",
       "      <td>1</td>\n",
       "      <td>10</td>\n",
       "    </tr>\n",
       "    <tr>\n",
       "      <th>2</th>\n",
       "      <td>2446.641785</td>\n",
       "      <td>-1090.686057</td>\n",
       "      <td>2110.156411</td>\n",
       "      <td>2691.990784</td>\n",
       "      <td>1498.185674</td>\n",
       "      <td>-1833.459016</td>\n",
       "      <td>-463.747920</td>\n",
       "      <td>-421.612801</td>\n",
       "      <td>521.367748</td>\n",
       "      <td>147.631379</td>\n",
       "      <td>...</td>\n",
       "      <td>-64.397281</td>\n",
       "      <td>6.164419</td>\n",
       "      <td>10.203567</td>\n",
       "      <td>-34.713198</td>\n",
       "      <td>40.360524</td>\n",
       "      <td>16.799634</td>\n",
       "      <td>-44.745134</td>\n",
       "      <td>0</td>\n",
       "      <td>1</td>\n",
       "      <td>11</td>\n",
       "    </tr>\n",
       "    <tr>\n",
       "      <th>3</th>\n",
       "      <td>937.079475</td>\n",
       "      <td>-712.195333</td>\n",
       "      <td>1460.601550</td>\n",
       "      <td>2573.730049</td>\n",
       "      <td>955.873127</td>\n",
       "      <td>-2351.050197</td>\n",
       "      <td>-1840.811938</td>\n",
       "      <td>-51.833456</td>\n",
       "      <td>-46.428615</td>\n",
       "      <td>131.581298</td>\n",
       "      <td>...</td>\n",
       "      <td>-26.691812</td>\n",
       "      <td>-1.949141</td>\n",
       "      <td>-4.753359</td>\n",
       "      <td>-44.878843</td>\n",
       "      <td>-4.031567</td>\n",
       "      <td>38.683140</td>\n",
       "      <td>4.047155</td>\n",
       "      <td>0</td>\n",
       "      <td>1</td>\n",
       "      <td>12</td>\n",
       "    </tr>\n",
       "    <tr>\n",
       "      <th>4</th>\n",
       "      <td>1092.026210</td>\n",
       "      <td>-325.188885</td>\n",
       "      <td>1992.035309</td>\n",
       "      <td>2999.624469</td>\n",
       "      <td>247.914686</td>\n",
       "      <td>-2754.474634</td>\n",
       "      <td>944.541364</td>\n",
       "      <td>-170.790416</td>\n",
       "      <td>618.299259</td>\n",
       "      <td>883.335012</td>\n",
       "      <td>...</td>\n",
       "      <td>18.359045</td>\n",
       "      <td>24.333879</td>\n",
       "      <td>28.576791</td>\n",
       "      <td>-58.028658</td>\n",
       "      <td>28.914232</td>\n",
       "      <td>57.194495</td>\n",
       "      <td>-16.985502</td>\n",
       "      <td>0</td>\n",
       "      <td>1</td>\n",
       "      <td>13</td>\n",
       "    </tr>\n",
       "    <tr>\n",
       "      <th>5</th>\n",
       "      <td>-3625.157897</td>\n",
       "      <td>-85.238703</td>\n",
       "      <td>2716.102767</td>\n",
       "      <td>605.645940</td>\n",
       "      <td>731.964238</td>\n",
       "      <td>-826.754462</td>\n",
       "      <td>-141.564135</td>\n",
       "      <td>-441.409498</td>\n",
       "      <td>27.043411</td>\n",
       "      <td>-1297.908953</td>\n",
       "      <td>...</td>\n",
       "      <td>-28.500235</td>\n",
       "      <td>13.733569</td>\n",
       "      <td>-1.854852</td>\n",
       "      <td>-2.413203</td>\n",
       "      <td>34.012622</td>\n",
       "      <td>-26.485873</td>\n",
       "      <td>1.282710</td>\n",
       "      <td>0</td>\n",
       "      <td>1</td>\n",
       "      <td>14</td>\n",
       "    </tr>\n",
       "    <tr>\n",
       "      <th>6</th>\n",
       "      <td>-3476.442250</td>\n",
       "      <td>252.882949</td>\n",
       "      <td>2902.038823</td>\n",
       "      <td>1483.056918</td>\n",
       "      <td>791.303405</td>\n",
       "      <td>-815.888890</td>\n",
       "      <td>-179.037443</td>\n",
       "      <td>-1189.959789</td>\n",
       "      <td>-710.541761</td>\n",
       "      <td>-1637.680251</td>\n",
       "      <td>...</td>\n",
       "      <td>9.472624</td>\n",
       "      <td>31.472582</td>\n",
       "      <td>26.931308</td>\n",
       "      <td>20.864491</td>\n",
       "      <td>9.463491</td>\n",
       "      <td>4.604823</td>\n",
       "      <td>-11.061825</td>\n",
       "      <td>0</td>\n",
       "      <td>1</td>\n",
       "      <td>15</td>\n",
       "    </tr>\n",
       "    <tr>\n",
       "      <th>7</th>\n",
       "      <td>-3341.068783</td>\n",
       "      <td>205.367251</td>\n",
       "      <td>3037.976183</td>\n",
       "      <td>1094.675152</td>\n",
       "      <td>711.497411</td>\n",
       "      <td>-576.425967</td>\n",
       "      <td>-113.592372</td>\n",
       "      <td>-872.486312</td>\n",
       "      <td>-441.134010</td>\n",
       "      <td>-1286.637722</td>\n",
       "      <td>...</td>\n",
       "      <td>8.052155</td>\n",
       "      <td>14.055473</td>\n",
       "      <td>-1.164563</td>\n",
       "      <td>20.646619</td>\n",
       "      <td>6.265956</td>\n",
       "      <td>-18.781832</td>\n",
       "      <td>-2.859147</td>\n",
       "      <td>0</td>\n",
       "      <td>1</td>\n",
       "      <td>16</td>\n",
       "    </tr>\n",
       "    <tr>\n",
       "      <th>8</th>\n",
       "      <td>-3280.090374</td>\n",
       "      <td>37.106941</td>\n",
       "      <td>2835.515910</td>\n",
       "      <td>1182.900680</td>\n",
       "      <td>942.768786</td>\n",
       "      <td>-942.082604</td>\n",
       "      <td>-206.022325</td>\n",
       "      <td>-817.549586</td>\n",
       "      <td>-600.577123</td>\n",
       "      <td>-1462.308151</td>\n",
       "      <td>...</td>\n",
       "      <td>9.987325</td>\n",
       "      <td>10.435697</td>\n",
       "      <td>19.948346</td>\n",
       "      <td>1.492998</td>\n",
       "      <td>49.901248</td>\n",
       "      <td>-20.898563</td>\n",
       "      <td>0.797612</td>\n",
       "      <td>0</td>\n",
       "      <td>1</td>\n",
       "      <td>17</td>\n",
       "    </tr>\n",
       "    <tr>\n",
       "      <th>9</th>\n",
       "      <td>-4640.030316</td>\n",
       "      <td>562.688099</td>\n",
       "      <td>2132.209084</td>\n",
       "      <td>1515.786361</td>\n",
       "      <td>-294.685566</td>\n",
       "      <td>-907.533030</td>\n",
       "      <td>-1536.439397</td>\n",
       "      <td>-1143.986567</td>\n",
       "      <td>-770.757901</td>\n",
       "      <td>-1299.491999</td>\n",
       "      <td>...</td>\n",
       "      <td>11.212186</td>\n",
       "      <td>-0.219100</td>\n",
       "      <td>52.271037</td>\n",
       "      <td>-16.025587</td>\n",
       "      <td>9.221183</td>\n",
       "      <td>32.022629</td>\n",
       "      <td>30.489162</td>\n",
       "      <td>0</td>\n",
       "      <td>1</td>\n",
       "      <td>18</td>\n",
       "    </tr>\n",
       "  </tbody>\n",
       "</table>\n",
       "<p>10 rows × 751 columns</p>\n",
       "</div>"
      ],
      "text/plain": [
       "             0            1            2            3            4  \\\n",
       "0 -3466.350784   226.509663   936.771975    52.920053  1380.270466   \n",
       "1 -4498.098330  1478.871276  1121.669823  1180.024966   228.843861   \n",
       "2  2446.641785 -1090.686057  2110.156411  2691.990784  1498.185674   \n",
       "3   937.079475  -712.195333  1460.601550  2573.730049   955.873127   \n",
       "4  1092.026210  -325.188885  1992.035309  2999.624469   247.914686   \n",
       "5 -3625.157897   -85.238703  2716.102767   605.645940   731.964238   \n",
       "6 -3476.442250   252.882949  2902.038823  1483.056918   791.303405   \n",
       "7 -3341.068783   205.367251  3037.976183  1094.675152   711.497411   \n",
       "8 -3280.090374    37.106941  2835.515910  1182.900680   942.768786   \n",
       "9 -4640.030316   562.688099  2132.209084  1515.786361  -294.685566   \n",
       "\n",
       "             5            6            7            8            9  ...  \\\n",
       "0  -758.574927   -64.936104  -320.890935   883.787151   -98.415013  ...   \n",
       "1  -241.947130   899.401680  -614.588305  1168.197954 -1194.726338  ...   \n",
       "2 -1833.459016  -463.747920  -421.612801   521.367748   147.631379  ...   \n",
       "3 -2351.050197 -1840.811938   -51.833456   -46.428615   131.581298  ...   \n",
       "4 -2754.474634   944.541364  -170.790416   618.299259   883.335012  ...   \n",
       "5  -826.754462  -141.564135  -441.409498    27.043411 -1297.908953  ...   \n",
       "6  -815.888890  -179.037443 -1189.959789  -710.541761 -1637.680251  ...   \n",
       "7  -576.425967  -113.592372  -872.486312  -441.134010 -1286.637722  ...   \n",
       "8  -942.082604  -206.022325  -817.549586  -600.577123 -1462.308151  ...   \n",
       "9  -907.533030 -1536.439397 -1143.986567  -770.757901 -1299.491999  ...   \n",
       "\n",
       "         741        742        743        744        745        746  \\\n",
       "0 -11.003112   6.679797  49.653419  15.719466 -11.551719 -47.818212   \n",
       "1  24.585780  19.695312 -46.167904 -19.337052  20.109861 -17.026091   \n",
       "2 -64.397281   6.164419  10.203567 -34.713198  40.360524  16.799634   \n",
       "3 -26.691812  -1.949141  -4.753359 -44.878843  -4.031567  38.683140   \n",
       "4  18.359045  24.333879  28.576791 -58.028658  28.914232  57.194495   \n",
       "5 -28.500235  13.733569  -1.854852  -2.413203  34.012622 -26.485873   \n",
       "6   9.472624  31.472582  26.931308  20.864491   9.463491   4.604823   \n",
       "7   8.052155  14.055473  -1.164563  20.646619   6.265956 -18.781832   \n",
       "8   9.987325  10.435697  19.948346   1.492998  49.901248 -20.898563   \n",
       "9  11.212186  -0.219100  52.271037 -16.025587   9.221183  32.022629   \n",
       "\n",
       "         747  gender  seq  type  \n",
       "0  19.183949       0    1     1  \n",
       "1  -9.866462       0    1    10  \n",
       "2 -44.745134       0    1    11  \n",
       "3   4.047155       0    1    12  \n",
       "4 -16.985502       0    1    13  \n",
       "5   1.282710       0    1    14  \n",
       "6 -11.061825       0    1    15  \n",
       "7  -2.859147       0    1    16  \n",
       "8   0.797612       0    1    17  \n",
       "9  30.489162       0    1    18  \n",
       "\n",
       "[10 rows x 751 columns]"
      ]
     },
     "execution_count": 38,
     "metadata": {},
     "output_type": "execute_result"
    }
   ],
   "source": [
    "projected_data.head(10)"
   ]
  },
  {
   "cell_type": "code",
   "execution_count": 39,
   "metadata": {},
   "outputs": [],
   "source": [
    "from sklearn.model_selection import train_test_split"
   ]
  },
  {
   "cell_type": "code",
   "execution_count": 40,
   "metadata": {},
   "outputs": [],
   "source": [
    "X_train, X_test, y_train, y_test = train_test_split(projected_data.iloc[:, :748].values, projected_data.iloc[:, 749].values, test_size=0.3, random_state=0)"
   ]
  },
  {
   "cell_type": "code",
   "execution_count": null,
   "metadata": {},
   "outputs": [],
   "source": [
    "# DEBUG. Plot some of the images\n",
    "plt.figure(figsize=(18, 9))\n",
    "\n",
    "num_rows = 4\n",
    "num_cols = 5\n",
    "\n",
    "# plot each of the images in the batch and the associated ground truth labels.\n",
    "for i in range(num_rows*num_cols):\n",
    "    ax = plt.subplot(num_rows, num_cols, i + 1)\n",
    "    plt.imshow(X_train[i,:,:])\n",
    "    ax.title.set_text(y_train[i,0])\n",
    "    plt.axis(\"off\")\n",
    "\n",
    "# Normalize images to the range [0, 1].\n",
    "X_train = X_train.astype(\"float32\") / 255\n",
    "X_test  = X_test.astype(\"float32\") / 255\n",
    "\n",
    "# Change the labels from integer to categorical data.\n",
    "print('Original (integer) label for the first training sample: ', y_train[0])\n",
    "\n",
    "# Convert labels to one-hot encoding.\n",
    "y_train = keras_ml.to_categorical(y_train)\n",
    "y_test  = keras_ml.to_categorical(y_test)\n",
    "\n",
    "print('After conversion to categorical one-hot encoded labels: ', y_train[0])\n",
    "\n",
    "# Create the model.\n",
    "model = keras_ml.cnn_model()\n",
    "model.summary()\n",
    "\n",
    "model.compile(optimizer='rmsprop',\n",
    "              loss='categorical_crossentropy',\n",
    "              metrics=['accuracy'],\n",
    "             )\n",
    "\n",
    "history = model.fit(X_train,\n",
    "                    y_train,\n",
    "                    batch_size=32,\n",
    "                    epochs=10,\n",
    "                    verbose=1,\n",
    "                    validation_split=.3,\n",
    "                   )\n",
    "\n",
    "\n",
    "# Retrieve training results.\n",
    "train_loss = history.history[\"loss\"]\n",
    "train_acc  = history.history[\"accuracy\"]\n",
    "valid_loss = history.history[\"val_loss\"]\n",
    "valid_acc  = history.history[\"val_accuracy\"]\n",
    "\n",
    "keras_ml.plot_results([ train_loss, valid_loss ],\n",
    "            ylabel=\"Loss\",\n",
    "            ylim = [0.0, 5.0],\n",
    "            metric_name=[\"Training Loss\", \"Validation Loss\"],\n",
    "            color=[\"g\", \"b\"]);\n",
    "\n",
    "keras_ml.plot_results([ train_acc, valid_acc ],\n",
    "            ylabel=\"Accuracy\",\n",
    "            ylim = [0.0, 1.0],\n",
    "            metric_name=[\"Training Accuracy\", \"Validation Accuracy\"],\n",
    "            color=[\"g\", \"b\"])"
   ]
  },
  {
   "cell_type": "code",
   "execution_count": null,
   "metadata": {},
   "outputs": [],
   "source": []
  },
  {
   "cell_type": "code",
   "execution_count": null,
   "metadata": {},
   "outputs": [],
   "source": []
  },
  {
   "cell_type": "code",
   "execution_count": null,
   "metadata": {},
   "outputs": [],
   "source": []
  },
  {
   "cell_type": "code",
   "execution_count": null,
   "metadata": {},
   "outputs": [],
   "source": []
  },
  {
   "cell_type": "code",
   "execution_count": null,
   "metadata": {},
   "outputs": [],
   "source": []
  },
  {
   "cell_type": "code",
   "execution_count": null,
   "metadata": {},
   "outputs": [],
   "source": []
  },
  {
   "cell_type": "code",
   "execution_count": null,
   "metadata": {},
   "outputs": [],
   "source": [
    "# Load the dataset (CIFAR-10)\n",
    "(X_train, y_train), (X_test, y_test) = keras_ml.cifar10.load_data()\n",
    "\n",
    "print('Learning set:')\n",
    "print('X: ', end='')\n",
    "print(X_train.shape)\n",
    "print('y: ', end='')\n",
    "print(y_train.shape)\n",
    "\n",
    "print('Test set:')\n",
    "print('X: ', end='')\n",
    "print(X_test.shape)\n",
    "print('y: ', end='')\n",
    "print(y_test.shape)\n",
    "\n",
    "# DEBUG. Plot some of the images\n",
    "plt.figure(figsize=(18, 9))\n",
    "\n",
    "num_rows = 4\n",
    "num_cols = 5\n",
    "\n",
    "# plot each of the images in the batch and the associated ground truth labels.\n",
    "for i in range(num_rows*num_cols):\n",
    "    ax = plt.subplot(num_rows, num_cols, i + 1)\n",
    "    plt.imshow(X_train[i,:,:])\n",
    "    ax.title.set_text(y_train[i,0])\n",
    "    plt.axis(\"off\")\n",
    "\n",
    "# Normalize images to the range [0, 1].\n",
    "X_train = X_train.astype(\"float32\") / 255\n",
    "X_test  = X_test.astype(\"float32\") / 255\n",
    "\n",
    "# Change the labels from integer to categorical data.\n",
    "print('Original (integer) label for the first training sample: ', y_train[0])\n",
    "\n",
    "# Convert labels to one-hot encoding.\n",
    "y_train = keras_ml.to_categorical(y_train)\n",
    "y_test  = keras_ml.to_categorical(y_test)\n",
    "\n",
    "print('After conversion to categorical one-hot encoded labels: ', y_train[0])\n",
    "\n",
    "# Create the model.\n",
    "model = keras_ml.cnn_model()\n",
    "model.summary()\n",
    "\n",
    "model.compile(optimizer='rmsprop',\n",
    "              loss='categorical_crossentropy',\n",
    "              metrics=['accuracy'],\n",
    "             )\n",
    "\n",
    "history = model.fit(X_train,\n",
    "                    y_train,\n",
    "                    batch_size=32,\n",
    "                    epochs=10,\n",
    "                    verbose=1,\n",
    "                    validation_split=.3,\n",
    "                   )\n",
    "\n",
    "\n",
    "# Retrieve training results.\n",
    "train_loss = history.history[\"loss\"]\n",
    "train_acc  = history.history[\"accuracy\"]\n",
    "valid_loss = history.history[\"val_loss\"]\n",
    "valid_acc  = history.history[\"val_accuracy\"]\n",
    "\n",
    "keras_ml.plot_results([ train_loss, valid_loss ],\n",
    "            ylabel=\"Loss\",\n",
    "            ylim = [0.0, 5.0],\n",
    "            metric_name=[\"Training Loss\", \"Validation Loss\"],\n",
    "            color=[\"g\", \"b\"]);\n",
    "\n",
    "keras_ml.plot_results([ train_acc, valid_acc ],\n",
    "            ylabel=\"Accuracy\",\n",
    "            ylim = [0.0, 1.0],\n",
    "            metric_name=[\"Training Accuracy\", \"Validation Accuracy\"],\n",
    "            color=[\"g\", \"b\"])"
   ]
  },
  {
   "cell_type": "code",
   "execution_count": null,
   "metadata": {},
   "outputs": [],
   "source": []
  },
  {
   "cell_type": "code",
   "execution_count": null,
   "metadata": {},
   "outputs": [],
   "source": []
  },
  {
   "cell_type": "code",
   "execution_count": null,
   "metadata": {},
   "outputs": [],
   "source": []
  },
  {
   "cell_type": "code",
   "execution_count": null,
   "metadata": {},
   "outputs": [],
   "source": []
  },
  {
   "cell_type": "code",
   "execution_count": null,
   "metadata": {},
   "outputs": [],
   "source": []
  },
  {
   "cell_type": "code",
   "execution_count": null,
   "metadata": {},
   "outputs": [],
   "source": []
  },
  {
   "cell_type": "code",
   "execution_count": null,
   "metadata": {},
   "outputs": [],
   "source": []
  },
  {
   "cell_type": "code",
   "execution_count": null,
   "metadata": {},
   "outputs": [],
   "source": []
  },
  {
   "cell_type": "code",
   "execution_count": null,
   "metadata": {},
   "outputs": [],
   "source": []
  },
  {
   "cell_type": "code",
   "execution_count": null,
   "metadata": {},
   "outputs": [],
   "source": []
  },
  {
   "cell_type": "code",
   "execution_count": null,
   "metadata": {},
   "outputs": [],
   "source": []
  },
  {
   "cell_type": "code",
   "execution_count": null,
   "metadata": {},
   "outputs": [],
   "source": []
  },
  {
   "cell_type": "code",
   "execution_count": null,
   "metadata": {},
   "outputs": [],
   "source": []
  },
  {
   "cell_type": "code",
   "execution_count": null,
   "metadata": {},
   "outputs": [],
   "source": []
  },
  {
   "cell_type": "code",
   "execution_count": null,
   "metadata": {},
   "outputs": [],
   "source": [
    "#Build a Gender model"
   ]
  },
  {
   "cell_type": "code",
   "execution_count": null,
   "metadata": {},
   "outputs": [],
   "source": []
  },
  {
   "cell_type": "code",
   "execution_count": null,
   "metadata": {},
   "outputs": [],
   "source": [
    "#Build a Glasses"
   ]
  },
  {
   "cell_type": "code",
   "execution_count": null,
   "metadata": {},
   "outputs": [],
   "source": [
    "#Build a ID model\n"
   ]
  },
  {
   "cell_type": "code",
   "execution_count": null,
   "metadata": {},
   "outputs": [],
   "source": [
    "#Build a Facial expression"
   ]
  },
  {
   "cell_type": "code",
   "execution_count": null,
   "metadata": {},
   "outputs": [],
   "source": []
  },
  {
   "cell_type": "code",
   "execution_count": null,
   "metadata": {},
   "outputs": [],
   "source": []
  }
 ],
 "metadata": {
  "kernelspec": {
   "display_name": "base",
   "language": "python",
   "name": "python3"
  },
  "language_info": {
   "codemirror_mode": {
    "name": "ipython",
    "version": 3
   },
   "file_extension": ".py",
   "mimetype": "text/x-python",
   "name": "python",
   "nbconvert_exporter": "python",
   "pygments_lexer": "ipython3",
   "version": "3.8.5"
  }
 },
 "nbformat": 4,
 "nbformat_minor": 2
}
