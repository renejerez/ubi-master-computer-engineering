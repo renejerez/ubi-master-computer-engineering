{
 "cells": [
  {
   "cell_type": "markdown",
   "metadata": {
    "slideshow": {
     "slide_type": "skip"
    }
   },
   "source": [
    "<div style=\"Tamplaged                                                                              \">\n",
    "<b><center><font size=\"4\">Notebook Default</font></center></b>\n",
    "<b><center><font size=\"3\">Title of the job</font></center></b>\n",
    "<b><center><font size=\"2\">one short statement about the job</font></center></b>\n",
    "\n",
    "\n",
    "</div>"
   ]
  },
  {
   "cell_type": "markdown",
   "metadata": {
    "slideshow": {
     "slide_type": "skip"
    }
   },
   "source": [
    "**Notebook Developed by**: [Rene Jerez](https://github.com/renejerez)<br>\n",
    "**email:**  rene.jerez@libertyseguros.pt<br>"
   ]
  },
  {
   "cell_type": "code",
   "execution_count": 10,
   "metadata": {},
   "outputs": [],
   "source": [
    "from general_tools import summary_create"
   ]
  },
  {
   "cell_type": "code",
   "execution_count": 17,
   "metadata": {},
   "outputs": [],
   "source": [
    "\n",
    "# Create the summary writing the sections and subsections below:\n",
    "sections = [\n",
    "    (\"Web Scraping and Data Extraction\", [\n",
    "        (\"Open URLs, handle pop-ups\", []),\n",
    "        (\"Extract page content, scores, and 'stars' elements\", [])\n",
    "    ]),\n",
    "    (\"Data Processing and Storage\", [\n",
    "        (\"Parse and count star ratings\", []),\n",
    "        (\"Store results in DataFrame\", [\n",
    "            (\"Subsection 1\", []),\n",
    "            (\"Subsection 2\", [])\n",
    "        ])\n",
    "    ])\n",
    "]"
   ]
  },
  {
   "cell_type": "code",
   "execution_count": 19,
   "metadata": {},
   "outputs": [
    {
     "data": {
      "text/plain": [
       "'<h1>Scraping Scores and Number of Reviews<span class=\"tocSkip\"></span></h1>\\n<div class=\"toc\">\\n  <ul class=\"toc-item\">\\n    <li><span><a href=\"#Web-Scraping-and-Data-Extraction\" data-toc-modified-id=\"Web-Scraping-and-Data-Extraction-1\"><span class=\"toc-item-num\">1&nbsp;&nbsp;</span>Web Scraping and Data Extraction</a></span>\\n      <div class=\"toc\">\\n        <ul class=\"toc-item\">\\n    <li><span><a href=\"#Open-URLs,-handle-pop-ups\" data-toc-modified-id=\"Open-URLs,-handle-pop-ups-1.1\"><span class=\"toc-item-num\">1.1&nbsp;&nbsp;</span>Open URLs, handle pop-ups</a></span>\\n    </li>\\n    <li><span><a href=\"#Extract-page-content,-scores,-and-\\'stars\\'-elements\" data-toc-modified-id=\"Extract-page-content,-scores,-and-\\'stars\\'-elements-1.2\"><span class=\"toc-item-num\">1.2&nbsp;&nbsp;</span>Extract page content, scores, and \\'stars\\' elements</a></span>\\n    </li>\\n        </ul>\\n      </div>\\n    </li>\\n    <li><span><a href=\"#Data-Processing-and-Storage\" data-toc-modified-id=\"Data-Processing-and-Storage-2\"><span class=\"toc-item-num\">2&nbsp;&nbsp;</span>Data Processing and Storage</a></span>\\n      <div class=\"toc\">\\n        <ul class=\"toc-item\">\\n    <li><span><a href=\"#Parse-and-count-star-ratings\" data-toc-modified-id=\"Parse-and-count-star-ratings-2.1\"><span class=\"toc-item-num\">2.1&nbsp;&nbsp;</span>Parse and count star ratings</a></span>\\n    </li>\\n    <li><span><a href=\"#Store-results-in-DataFrame\" data-toc-modified-id=\"Store-results-in-DataFrame-2.2\"><span class=\"toc-item-num\">2.2&nbsp;&nbsp;</span>Store results in DataFrame</a></span>\\n      <div class=\"toc\">\\n        <ul class=\"toc-item\">\\n    <li><span><a href=\"#Subsection-1\" data-toc-modified-id=\"Subsection-1-2.2.1\"><span class=\"toc-item-num\">2.2.1&nbsp;&nbsp;</span>Subsection 1</a></span>\\n    </li>\\n    <li><span><a href=\"#Subsection-2\" data-toc-modified-id=\"Subsection-2-2.2.2\"><span class=\"toc-item-num\">2.2.2&nbsp;&nbsp;</span>Subsection 2</a></span>\\n    </li>\\n        </ul>\\n      </div>\\n    </li>\\n        </ul>\\n      </div>\\n    </li>\\n  </ul>\\n</div>'"
      ]
     },
     "execution_count": 19,
     "metadata": {},
     "output_type": "execute_result"
    }
   ],
   "source": [
    "summary = summary_create(sections)\n",
    "summary"
   ]
  },
  {
   "cell_type": "markdown",
   "metadata": {},
   "source": [
    "<h1>Scraping Scores and Number of Reviews<span class=\"tocSkip\"></span></h1>\n",
    "<div class=\"toc\">\n",
    "  <ul class=\"toc-item\">\n",
    "    <li><span><a href=\"#Web-Scraping-and-Data-Extraction\" data-toc-modified-id=\"Web-Scraping-and-Data-Extraction-1\"><span class=\"toc-item-num\">1&nbsp;&nbsp;</span>Web Scraping and Data Extraction</a></span>\n",
    "      <div class=\"toc\">\n",
    "        <ul class=\"toc-item\">\n",
    "    <li><span><a href=\"#Open-URLs,-handle-pop-ups\" data-toc-modified-id=\"Open-URLs,-handle-pop-ups-1.1\"><span class=\"toc-item-num\">1.1&nbsp;&nbsp;</span>Open URLs, handle pop-ups</a></span>\n",
    "    </li>\n",
    "    <li><span><a href=\"#Extract-page-content,-scores,-and-'stars'-elements\" data-toc-modified-id=\"Extract-page-content,-scores,-and-'stars'-elements-1.2\"><span class=\"toc-item-num\">1.2&nbsp;&nbsp;</span>Extract page content, scores, and 'stars' elements</a></span>\n",
    "    </li>\n",
    "        </ul>\n",
    "      </div>\n",
    "    </li>\n",
    "    <li><span><a href=\"#Data-Processing-and-Storage\" data-toc-modified-id=\"Data-Processing-and-Storage-2\"><span class=\"toc-item-num\">2&nbsp;&nbsp;</span>Data Processing and Storage</a></span>\n",
    "      <div class=\"toc\">\n",
    "        <ul class=\"toc-item\">\n",
    "    <li><span><a href=\"#Parse-and-count-star-ratings\" data-toc-modified-id=\"Parse-and-count-star-ratings-2.1\"><span class=\"toc-item-num\">2.1&nbsp;&nbsp;</span>Parse and count star ratings</a></span>\n",
    "    </li>\n",
    "    <li><span><a href=\"#Store-results-in-DataFrame\" data-toc-modified-id=\"Store-results-in-DataFrame-2.2\"><span class=\"toc-item-num\">2.2&nbsp;&nbsp;</span>Store results in DataFrame</a></span>\n",
    "      <div class=\"toc\">\n",
    "        <ul class=\"toc-item\">\n",
    "    <li><span><a href=\"#Subsection-1\" data-toc-modified-id=\"Subsection-1-2.2.1\"><span class=\"toc-item-num\">2.2.1&nbsp;&nbsp;</span>Subsection 1</a></span>\n",
    "    </li>\n",
    "    <li><span><a href=\"#Subsection-2\" data-toc-modified-id=\"Subsection-2-2.2.2\"><span class=\"toc-item-num\">2.2.2&nbsp;&nbsp;</span>Subsection 2</a></span>\n",
    "    </li>\n",
    "        </ul>\n",
    "      </div>\n",
    "    </li>\n",
    "        </ul>\n",
    "      </div>\n",
    "    </li>\n",
    "  </ul>\n",
    "</div>\n"
   ]
  },
  {
   "cell_type": "markdown",
   "metadata": {},
   "source": [
    "<hr>"
   ]
  },
  {
   "cell_type": "markdown",
   "metadata": {},
   "source": [
    "# Scraping Scores and Number of Reviews"
   ]
  },
  {
   "cell_type": "markdown",
   "metadata": {},
   "source": [
    "This script automates the process of scraping review scores and star ratings from a list of URLs stored in a CSV file. Using Selenium WebDriver, it navigates to each URL, handles potential pop-ups, and extracts relevant content using BeautifulSoup. The extracted data includes review scores and star ratings, which are then stored in a DataFrame for further analysis."
   ]
  },
  {
   "cell_type": "markdown",
   "metadata": {},
   "source": [
    "## Setup and Load Data"
   ]
  },
  {
   "cell_type": "markdown",
   "metadata": {},
   "source": [
    "### Import libraries"
   ]
  },
  {
   "cell_type": "code",
   "execution_count": 14,
   "metadata": {},
   "outputs": [],
   "source": [
    "import pandas as pd\n",
    "from selenium import webdriver\n",
    "from selenium.webdriver.chrome.service import Service\n",
    "from selenium.webdriver.common.by import By\n",
    "from selenium.webdriver.support.ui import WebDriverWait\n",
    "from selenium.webdriver.common.keys import Keys\n",
    "from selenium.webdriver.support import expected_conditions as EC\n",
    "from selenium.webdriver.chrome.options import Options\n",
    "from webdriver_manager.chrome import ChromeDriverManager\n",
    "from bs4 import BeautifulSoup\n",
    "import time\n",
    "import re"
   ]
  },
  {
   "cell_type": "markdown",
   "metadata": {},
   "source": [
    "### Load bodyshops from CSV file"
   ]
  },
  {
   "cell_type": "code",
   "execution_count": 15,
   "metadata": {},
   "outputs": [],
   "source": [
    "# Load the CSV file\n",
    "df = pd.read_csv('bodyshops_to_check.csv')"
   ]
  },
  {
   "cell_type": "markdown",
   "metadata": {},
   "source": [
    "### Find URLs for each bodyshop"
   ]
  },
  {
   "cell_type": "code",
   "execution_count": null,
   "metadata": {},
   "outputs": [],
   "source": [
    "# Step 1: Set up Selenium WebDriver\n",
    "def setup_driver():\n",
    "    options = Options()\n",
    "    options.add_argument('--disable-gpu')  # Disable GPU acceleration\n",
    "    options.add_argument('--no-sandbox')  # Bypass OS security model\n",
    "    options.add_argument('--disable-dev-shm-usage')  # Overcome limited resource problems\n",
    "    driver = webdriver.Chrome(service=Service(ChromeDriverManager().install()), options=options)\n",
    "    return driver\n",
    "\n",
    "# Step 2: Open URL and handle pop-ups\n",
    "def open_url_and_handle_popups(driver, url):\n",
    "    driver.get(url)\n",
    "    time.sleep(5)  # Wait for the page to load\n",
    "\n",
    "    try:\n",
    "        # Accept cookies pop-up\n",
    "        accept_cookies_button = WebDriverWait(driver, 10).until(\n",
    "            EC.element_to_be_clickable((By.XPATH, \"//button[@aria-label='Accept all']\"))\n",
    "        )\n",
    "        accept_cookies_button.click()\n",
    "        print(\"Accepted cookies\")\n",
    "    except Exception as e:\n",
    "        print(f\"No cookies button found: {e}\")\n",
    "\n",
    "    return driver\n",
    "\n",
    "# Step 3: Perform search and get URL\n",
    "def search_and_get_url(driver, address, name):\n",
    "    search_box = WebDriverWait(driver, 10).until(\n",
    "        EC.presence_of_element_located((By.ID, \"searchboxinput\"))\n",
    "    )\n",
    "    search_box.clear()\n",
    "    search_box.send_keys(address)\n",
    "    search_box.send_keys(Keys.ENTER)\n",
    "    time.sleep(5)  # Wait for search results to load\n",
    "\n",
    "    search_box.clear()\n",
    "    search_box.send_keys(name)\n",
    "    search_box.send_keys(Keys.ENTER)\n",
    "    time.sleep(5)  # Wait for search results to load\n",
    "\n",
    "    current_url = driver.current_url\n",
    "    return current_url\n",
    "\n",
    "# Initialize the WebDriver\n",
    "driver = setup_driver()\n",
    "driver = open_url_and_handle_popups(driver, \"https://www.google.com/maps\")\n",
    "\n",
    "# Iterate through the CSV and perform searches\n",
    "urls = []\n",
    "for index, row in df.iterrows():\n",
    "    address = row['bodyshop_address']\n",
    "    name = row['nome_prestador_oficina']\n",
    "    url = search_and_get_url(driver, address, name)\n",
    "    urls.append(url)\n",
    "\n",
    "# Add the URLs to the DataFrame\n",
    "df['url'] = urls\n",
    "\n",
    "# Save the updated DataFrame back to the same CSV file\n",
    "df.to_csv(csv_file_path, index=False)\n",
    "\n",
    "# Close the WebDriver\n",
    "driver.quit()"
   ]
  },
  {
   "cell_type": "code",
   "execution_count": null,
   "metadata": {},
   "outputs": [],
   "source": []
  },
  {
   "cell_type": "markdown",
   "metadata": {},
   "source": [
    "## WebDriver Configuration"
   ]
  },
  {
   "cell_type": "markdown",
   "metadata": {},
   "source": [
    "### Configure and initialize Chrome WebDriver"
   ]
  },
  {
   "cell_type": "code",
   "execution_count": 16,
   "metadata": {},
   "outputs": [],
   "source": [
    "# Step 1: Set up Selenium WebDriver\n",
    "def setup_driver():\n",
    "    options = Options()\n",
    "    options.add_argument('--disable-gpu')  # Disable GPU acceleration\n",
    "    options.add_argument('--no-sandbox')  # Bypass OS security model\n",
    "    options.add_argument('--disable-dev-shm-usage')  # Overcome limited resource problems\n",
    "    driver = webdriver.Chrome(service=Service(ChromeDriverManager().install()), options=options)\n",
    "    return driver\n",
    "\n",
    "# Step 2: Open URL and handle pop-ups\n",
    "def open_url_and_handle_popups(driver, url):\n",
    "    driver.get(url)\n",
    "    time.sleep(5)  # Wait for the page to load\n",
    "\n",
    "    try:\n",
    "        # Accept cookies pop-up\n",
    "        accept_cookies_button = WebDriverWait(driver, 10).until(\n",
    "            EC.element_to_be_clickable((By.XPATH, \"//button[@aria-label='Accept all']\"))\n",
    "        )\n",
    "        accept_cookies_button.click()\n",
    "        print(\"Accepted cookies\")\n",
    "    except Exception as e:\n",
    "        print(f\"No cookies button found: {e}\")\n",
    "\n",
    "    return driver\n",
    "\n",
    "# Step 3: Extract page content and find the score\n",
    "def extract_score(driver):\n",
    "    # Parse the page content with BeautifulSoup\n",
    "    soup = BeautifulSoup(driver.page_source, 'html.parser')\n",
    "\n",
    "    # Locate the score element using aria-label containing \"stars\"\n",
    "    score_element = soup.find('span', {'aria-label': lambda x: x and 'stars' in x})\n",
    "    score = \"Score element not found\"\n",
    "    if score_element:\n",
    "        score = score_element['aria-label']\n",
    "        print(f\"Score (Rating): {score}\")\n",
    "    return score\n",
    "\n",
    "# Step 4: Extract elements containing 'stars'\n",
    "def extract_star_elements(driver):\n",
    "    # Parse the page content with BeautifulSoup\n",
    "    soup = BeautifulSoup(driver.page_source, 'html.parser')\n",
    "\n",
    "    # Locate all elements containing 'stars' in aria-label\n",
    "    star_elements_info = []\n",
    "    star_elements = soup.find_all(attrs={'aria-label': lambda x: x and 'stars' in x})\n",
    "    for element in star_elements:\n",
    "        star_elements_info.append(f\"Element tag: {element.name}, Classes: {element.get('class')}, Aria-label: {element['aria-label']}\")\n",
    "    return star_elements_info\n"
   ]
  },
  {
   "cell_type": "markdown",
   "metadata": {},
   "source": [
    "New Columns\n",
    "\n",
    "URL: Path of the Google Maps link for the body shop\n",
    "\n",
    "Result: Raw HTML information extracted\n",
    "\n",
    "Stars: Number of stars people rated the body shop\n",
    "\n",
    "Score: The score people rated the body shop\n",
    "\n",
    "Review: The number of people who provided a specific score for the body shop"
   ]
  }
 ],
 "metadata": {
  "kernelspec": {
   "display_name": "scraper",
   "language": "python",
   "name": "scraper"
  },
  "language_info": {
   "codemirror_mode": {
    "name": "ipython",
    "version": 3
   },
   "file_extension": ".py",
   "mimetype": "text/x-python",
   "name": "python",
   "nbconvert_exporter": "python",
   "pygments_lexer": "ipython3",
   "version": "3.10.14"
  },
  "toc": {
   "base_numbering": 1,
   "nav_menu": {},
   "number_sections": true,
   "sideBar": true,
   "skip_h1_title": true,
   "title_cell": "Table of Contents",
   "title_sidebar": "Contents",
   "toc_cell": true,
   "toc_position": {
    "height": "calc(100% - 180px)",
    "left": "10px",
    "top": "150px",
    "width": "202px"
   },
   "toc_section_display": true,
   "toc_window_display": true
  }
 },
 "nbformat": 4,
 "nbformat_minor": 4
}
