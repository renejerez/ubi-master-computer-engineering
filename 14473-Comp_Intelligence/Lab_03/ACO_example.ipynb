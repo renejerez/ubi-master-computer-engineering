{
 "cells": [
  {
   "cell_type": "code",
   "execution_count": 1,
   "metadata": {},
   "outputs": [],
   "source": [
    "import random\n",
    "import numpy as np"
   ]
  },
  {
   "cell_type": "code",
   "execution_count": 2,
   "metadata": {},
   "outputs": [],
   "source": [
    "\n",
    "\n",
    "class ACO:\n",
    "    def __init__(self, num_ants, num_iterations, decay, alpha, beta, graph):\n",
    "        self.num_ants = num_ants\n",
    "        self.num_iterations = num_iterations\n",
    "        self.decay = decay\n",
    "        self.alpha = alpha  # influence of pheromone on direction\n",
    "        self.beta = beta    # influence of heuristic value (distance)\n",
    "        self.graph = graph  # adjacency matrix of distances\n",
    "        self.pheromone = np.ones(self.graph.shape) / len(graph)\n",
    "\n",
    "    def run(self):\n",
    "        shortest_path = None\n",
    "        best_cost = float('inf')\n",
    "        for _ in range(self.num_iterations):\n",
    "            all_paths = self.construct_paths()\n",
    "            self.update_pheromone(all_paths)\n",
    "            shortest_path, best_cost = self.find_best_path(all_paths, best_cost, shortest_path)\n",
    "        return shortest_path, best_cost\n",
    "\n",
    "    def construct_paths(self):\n",
    "        all_paths = []\n",
    "        for _ in range(self.num_ants):\n",
    "            path = self.construct_path(0)  # assuming all ants start at node 0\n",
    "            all_paths.append((path, self.path_cost(path)))\n",
    "        return all_paths\n",
    "\n",
    "    def construct_path(self, start):\n",
    "        path = []\n",
    "        visited = set()\n",
    "        current = start\n",
    "        path.append(current)\n",
    "        visited.add(current)\n",
    "        while len(visited) < len(self.graph):\n",
    "            next_node = self.select_next_node(current, visited)\n",
    "            path.append(next_node)\n",
    "            visited.add(next_node)\n",
    "            current = next_node\n",
    "        return path\n",
    "\n",
    "    def select_next_node(self, current, visited):\n",
    "        probabilities = self.calculate_probabilities(current, visited)\n",
    "        next_node = random.choices(range(len(self.graph)), weights=probabilities)[0]\n",
    "        return next_node\n",
    "\n",
    "    def calculate_probabilities(self, current, visited):\n",
    "        pheromone = np.power(self.pheromone[current], self.alpha)\n",
    "        heuristic = np.power(1.0 / self.graph[current], self.beta)  # assuming graph contains distances\n",
    "        probabilities = pheromone * heuristic\n",
    "        probabilities[list(visited)] = 0  # set probabilities of visited nodes to 0\n",
    "        probabilities /= probabilities.sum()\n",
    "        return probabilities\n",
    "\n",
    "    def update_pheromone(self, all_paths):\n",
    "        self.pheromone *= (1 - self.decay)  # evaporation\n",
    "        for path, cost in all_paths:\n",
    "            for step in range(len(path) - 1):\n",
    "                self.pheromone[path[step]][path[step+1]] += 1 / cost\n",
    "\n",
    "    def find_best_path(self, all_paths, best_cost, shortest_path):\n",
    "        for path, cost in all_paths:\n",
    "            if cost < best_cost:\n",
    "                shortest_path = path\n",
    "                best_cost = cost\n",
    "        return shortest_path, best_cost\n",
    "\n",
    "    def path_cost(self, path):\n",
    "        cost = 0\n",
    "        for i in range(len(path) - 1):\n",
    "            cost += self.graph[path[i]][path[i+1]]\n",
    "        return cost\n"
   ]
  },
  {
   "cell_type": "code",
   "execution_count": 3,
   "metadata": {},
   "outputs": [
    {
     "name": "stdout",
     "output_type": "stream",
     "text": [
      "Graph (Adjacency Matrix):\n",
      "[[0.         0.55335441 0.37628922 0.3910315  0.38393577]\n",
      " [0.55335441 0.         0.918043   0.45267863 0.42378322]\n",
      " [0.37628922 0.918043   0.         0.36854777 0.23698481]\n",
      " [0.3910315  0.45267863 0.36854777 0.         0.32879549]\n",
      " [0.38393577 0.42378322 0.23698481 0.32879549 0.        ]]\n"
     ]
    },
    {
     "name": "stderr",
     "output_type": "stream",
     "text": [
      "C:\\Users\\rene_\\AppData\\Local\\Temp\\ipykernel_7216\\149946257.py:47: RuntimeWarning: divide by zero encountered in divide\n",
      "  heuristic = np.power(1.0 / self.graph[current], self.beta)  # assuming graph contains distances\n"
     ]
    },
    {
     "name": "stdout",
     "output_type": "stream",
     "text": [
      "\n",
      "Best Path Found: [0, 3, 2, 4, 1]\n",
      "Cost of the Best Path: 1.4203472952756953\n"
     ]
    }
   ],
   "source": [
    "import numpy as np\n",
    "\n",
    "# Define the adjacency matrix for a 5-node graph\n",
    "# Using a symmetric matrix with diagonal zeros (no self-loop) and random distances\n",
    "np.random.seed(42)  # for reproducible results\n",
    "num_nodes = 5\n",
    "graph = np.random.rand(num_nodes, num_nodes)\n",
    "graph = (graph + graph.T) / 2  # Make the matrix symmetric\n",
    "np.fill_diagonal(graph, 0)  # No self-loops\n",
    "\n",
    "# Example of the graph matrix\n",
    "print(\"Graph (Adjacency Matrix):\")\n",
    "print(graph)\n",
    "\n",
    "# Set up the ACO parameters\n",
    "num_ants = 5\n",
    "num_iterations = 100\n",
    "decay = 0.1\n",
    "alpha = 1.0  # Influence of pheromone\n",
    "beta = 1.0   # Influence of heuristic (inverse of distance here)\n",
    "\n",
    "# Initialize ACO\n",
    "aco = ACO(num_ants, num_iterations, decay, alpha, beta, graph)\n",
    "\n",
    "# Run ACO\n",
    "best_path, best_cost = aco.run()\n",
    "\n",
    "# Print the results\n",
    "print(\"\\nBest Path Found:\", best_path)\n",
    "print(\"Cost of the Best Path:\", best_cost)\n"
   ]
  },
  {
   "cell_type": "code",
   "execution_count": null,
   "metadata": {},
   "outputs": [],
   "source": []
  },
  {
   "cell_type": "code",
   "execution_count": null,
   "metadata": {},
   "outputs": [],
   "source": []
  },
  {
   "cell_type": "code",
   "execution_count": null,
   "metadata": {},
   "outputs": [],
   "source": []
  }
 ],
 "metadata": {
  "kernelspec": {
   "display_name": "base",
   "language": "python",
   "name": "python3"
  },
  "language_info": {
   "codemirror_mode": {
    "name": "ipython",
    "version": 3
   },
   "file_extension": ".py",
   "mimetype": "text/x-python",
   "name": "python",
   "nbconvert_exporter": "python",
   "pygments_lexer": "ipython3",
   "version": "3.11.7"
  }
 },
 "nbformat": 4,
 "nbformat_minor": 2
}
