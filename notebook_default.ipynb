{
 "cells": [
  {
   "cell_type": "markdown",
   "metadata": {
    "slideshow": {
     "slide_type": "skip"
    }
   },
   "source": [
    "<div style=\"Tamplaged                                                                              \">\n",
    "<b><center><font size=\"4\">Notebook Default</font></center></b>\n",
    "<b><center><font size=\"3\">Title of the job</font></center></b>\n",
    "<b><center><font size=\"2\">one short statement about the job</font></center></b>\n",
    "\n",
    "\n",
    "</div>"
   ]
  },
  {
   "cell_type": "markdown",
   "metadata": {
    "slideshow": {
     "slide_type": "skip"
    }
   },
   "source": [
    "**Notebook Developed by**: [Rene Jerez](https://github.com/renejerez)<br>\n",
    "**email:**  rene.jerez@libertyseguros.pt<br>"
   ]
  },
  {
   "cell_type": "code",
   "execution_count": 2,
   "metadata": {},
   "outputs": [],
   "source": [
    "from general_tools import summary_create"
   ]
  },
  {
   "cell_type": "code",
   "execution_count": 11,
   "metadata": {},
   "outputs": [],
   "source": [
    "\n",
    "# Create the summary writing the sections and subsections below:\n",
    "sections = [\n",
    "    (\"Setup and Load Data\", [\n",
    "        (\"Import Libraries\", []),\n",
    "        (\"Load Data\", []),\n",
    "        (\"Transformed Data\", [])\n",
    "    ]),\n",
    "    (\"Exploratory Data Analysis\", [\n",
    "        (\"Convert all the data to numeric values\", []),\n",
    "        (\"Check if there are any missing/NULL values\", []),\n",
    "        (\"Obtain the histogram of each feature, using\", []),\n",
    "        (\"Analyze the correlation between features\", [])\n",
    "    ]),\n",
    "    (\"Implement a linear_regression.py script\", [\n",
    "        (\"Build Math Functions Multiple Variable\", []),\n",
    "        (\"Raw data and aplly Functions\", []),\n",
    "        (\"Run Model\", []),\n",
    "        (\"Normalize data and aplly Functions\", [])                        \n",
    "    ]),\n",
    "    (\"Implement k-fold\", [\n",
    "    ]),\n",
    "    (\"Performance between different folds\", [\n",
    "    ]),\n",
    "    (\"Polynomial Model\", [\n",
    "    ])\n",
    "]"
   ]
  },
  {
   "cell_type": "code",
   "execution_count": 12,
   "metadata": {},
   "outputs": [
    {
     "name": "stdout",
     "output_type": "stream",
     "text": [
      "<h1>Scraping Scores and Number of Reviews<span class=\"tocSkip\"></span></h1>\n",
      "<div class=\"toc\">\n",
      "  <ul class=\"toc-item\">\n",
      "    <li><span><a href=\"#Setup-and-Load-Data\" data-toc-modified-id=\"Setup-and-Load-Data-1\"><span class=\"toc-item-num\">1&nbsp;&nbsp;</span>Setup and Load Data</a></span>\n",
      "      <div class=\"toc\">\n",
      "        <ul class=\"toc-item\">\n",
      "    <li><span><a href=\"#Import-Libraries\" data-toc-modified-id=\"Import-Libraries-1.1\"><span class=\"toc-item-num\">1.1&nbsp;&nbsp;</span>Import Libraries</a></span>\n",
      "    </li>\n",
      "    <li><span><a href=\"#Load-Data\" data-toc-modified-id=\"Load-Data-1.2\"><span class=\"toc-item-num\">1.2&nbsp;&nbsp;</span>Load Data</a></span>\n",
      "    </li>\n",
      "    <li><span><a href=\"#Transformed-Data\" data-toc-modified-id=\"Transformed-Data-1.3\"><span class=\"toc-item-num\">1.3&nbsp;&nbsp;</span>Transformed Data</a></span>\n",
      "    </li>\n",
      "        </ul>\n",
      "      </div>\n",
      "    </li>\n",
      "    <li><span><a href=\"#Exploratory-Data-Analysis\" data-toc-modified-id=\"Exploratory-Data-Analysis-2\"><span class=\"toc-item-num\">2&nbsp;&nbsp;</span>Exploratory Data Analysis</a></span>\n",
      "      <div class=\"toc\">\n",
      "        <ul class=\"toc-item\">\n",
      "    <li><span><a href=\"#Convert-all-the-data-to-numeric-values\" data-toc-modified-id=\"Convert-all-the-data-to-numeric-values-2.1\"><span class=\"toc-item-num\">2.1&nbsp;&nbsp;</span>Convert all the data to numeric values</a></span>\n",
      "    </li>\n",
      "    <li><span><a href=\"#Check-if-there-are-any-missing/NULL-values\" data-toc-modified-id=\"Check-if-there-are-any-missing/NULL-values-2.2\"><span class=\"toc-item-num\">2.2&nbsp;&nbsp;</span>Check if there are any missing/NULL values</a></span>\n",
      "    </li>\n",
      "    <li><span><a href=\"#Obtain-the-histogram-of-each-feature,-using\" data-toc-modified-id=\"Obtain-the-histogram-of-each-feature,-using-2.3\"><span class=\"toc-item-num\">2.3&nbsp;&nbsp;</span>Obtain the histogram of each feature, using</a></span>\n",
      "    </li>\n",
      "    <li><span><a href=\"#Analyze-the-correlation-between-features\" data-toc-modified-id=\"Analyze-the-correlation-between-features-2.4\"><span class=\"toc-item-num\">2.4&nbsp;&nbsp;</span>Analyze the correlation between features</a></span>\n",
      "    </li>\n",
      "        </ul>\n",
      "      </div>\n",
      "    </li>\n",
      "    <li><span><a href=\"#Implement-a-linear_regression.py-script\" data-toc-modified-id=\"Implement-a-linear_regression.py-script-3\"><span class=\"toc-item-num\">3&nbsp;&nbsp;</span>Implement a linear_regression.py script</a></span>\n",
      "      <div class=\"toc\">\n",
      "        <ul class=\"toc-item\">\n",
      "    <li><span><a href=\"#Build-Math-Functions-Multiple-Variable\" data-toc-modified-id=\"Build-Math-Functions-Multiple-Variable-3.1\"><span class=\"toc-item-num\">3.1&nbsp;&nbsp;</span>Build Math Functions Multiple Variable</a></span>\n",
      "    </li>\n",
      "    <li><span><a href=\"#Raw-data-and-aplly-Functions\" data-toc-modified-id=\"Raw-data-and-aplly-Functions-3.2\"><span class=\"toc-item-num\">3.2&nbsp;&nbsp;</span>Raw data and aplly Functions</a></span>\n",
      "    </li>\n",
      "    <li><span><a href=\"#Run-Model\" data-toc-modified-id=\"Run-Model-3.3\"><span class=\"toc-item-num\">3.3&nbsp;&nbsp;</span>Run Model</a></span>\n",
      "    </li>\n",
      "    <li><span><a href=\"#Normalize-data-and-aplly-Functions\" data-toc-modified-id=\"Normalize-data-and-aplly-Functions-3.4\"><span class=\"toc-item-num\">3.4&nbsp;&nbsp;</span>Normalize data and aplly Functions</a></span>\n",
      "    </li>\n",
      "        </ul>\n",
      "      </div>\n",
      "    </li>\n",
      "    <li><span><a href=\"#Implement-k-fold\" data-toc-modified-id=\"Implement-k-fold-4\"><span class=\"toc-item-num\">4&nbsp;&nbsp;</span>Implement k-fold</a></span>\n",
      "    </li>\n",
      "    <li><span><a href=\"#Performance-between-different-folds\" data-toc-modified-id=\"Performance-between-different-folds-5\"><span class=\"toc-item-num\">5&nbsp;&nbsp;</span>Performance between different folds</a></span>\n",
      "    </li>\n",
      "    <li><span><a href=\"#Polynomial-Model\" data-toc-modified-id=\"Polynomial-Model-6\"><span class=\"toc-item-num\">6&nbsp;&nbsp;</span>Polynomial Model</a></span>\n",
      "    </li>\n",
      "  </ul>\n",
      "</div>\n"
     ]
    }
   ],
   "source": [
    "summary = summary_create(sections)\n",
    "print(summary)"
   ]
  },
  {
   "cell_type": "markdown",
   "metadata": {},
   "source": [
    "<h1>Scraping Scores and Number of Reviews<span class=\"tocSkip\"></span></h1>\\n<div class=\"toc\">\\n  <ul class=\"toc-item\">\\n    <li><span><a href=\"#Setup-and-Load-Data\" data-toc-modified-id=\"Setup-and-Load-Data-1\"><span class=\"toc-item-num\">1&nbsp;&nbsp;</span>Setup and Load Data</a></span>\\n      <div class=\"toc\">\\n        <ul class=\"toc-item\">\\n    <li><span><a href=\"#Import-Libraries\" data-toc-modified-id=\"Import-Libraries-1.1\"><span class=\"toc-item-num\">1.1&nbsp;&nbsp;</span>Import Libraries</a></span>\\n    </li>\\n    <li><span><a href=\"#Replace-Functions\" data-toc-modified-id=\"Replace-Functions-1.2\"><span class=\"toc-item-num\">1.2&nbsp;&nbsp;</span>Replace Functions</a></span>\\n    </li>\\n    <li><span><a href=\"#Replace-with-Mapping(enconde)\" data-toc-modified-id=\"Replace-with-Mapping(enconde)-1.3\"><span class=\"toc-item-num\">1.3&nbsp;&nbsp;</span>Replace with Mapping(enconde)</a></span>\\n    </li>\\n    <li><span><a href=\"#Replace-with-Functions(enconde)\" data-toc-modified-id=\"Replace-with-Functions(enconde)-1.4\"><span class=\"toc-item-num\">1.4&nbsp;&nbsp;</span>Replace with Functions(enconde)</a></span>\\n    </li>\\n    <li><span><a href=\"#Final-Data-Replaced\" data-toc-modified-id=\"Final-Data-Replaced-1.5\"><span class=\"toc-item-num\">1.5&nbsp;&nbsp;</span>Final Data Replaced</a></span>\\n    </li>\\n        </ul>\\n      </div>\\n    </li>\\n    <li><span><a href=\"#Data-Processing-and-Storage\" data-toc-modified-id=\"Data-Processing-and-Storage-2\"><span class=\"toc-item-num\">2&nbsp;&nbsp;</span>Data Processing and Storage</a></span>\\n      <div class=\"toc\">\\n        <ul class=\"toc-item\">\\n    <li><span><a href=\"#Parse-and-count-star-ratings\" data-toc-modified-id=\"Parse-and-count-star-ratings-2.1\"><span class=\"toc-item-num\">2.1&nbsp;&nbsp;</span>Parse and count star ratings</a></span>\\n    </li>\\n    <li><span><a href=\"#Store-results-in-DataFrame\" data-toc-modified-id=\"Store-results-in-DataFrame-2.2\"><span class=\"toc-item-num\">2.2&nbsp;&nbsp;</span>Store results in DataFrame</a></span>\\n      <div class=\"toc\">\\n        <ul class=\"toc-item\">\\n    <li><span><a href=\"#Subsection-1\" data-toc-modified-id=\"Subsection-1-2.2.1\"><span class=\"toc-item-num\">2.2.1&nbsp;&nbsp;</span>Subsection 1</a></span>\\n    </li>\\n    <li><span><a href=\"#Subsection-2\" data-toc-modified-id=\"Subsection-2-2.2.2\"><span class=\"toc-item-num\">2.2.2&nbsp;&nbsp;</span>Subsection 2</a></span>\\n    </li>\\n        </ul>\\n      </div>\\n    </li>\\n        </ul>\\n      </div>\\n    </li>\\n  </ul>\\n</div>"
   ]
  },
  {
   "cell_type": "markdown",
   "metadata": {},
   "source": [
    "<hr>"
   ]
  },
  {
   "cell_type": "markdown",
   "metadata": {},
   "source": [
    "# Scraping Scores and Number of Reviews"
   ]
  },
  {
   "cell_type": "markdown",
   "metadata": {},
   "source": [
    "This script automates the process of scraping review scores and star ratings from a list of URLs stored in a CSV file. Using Selenium WebDriver, it navigates to each URL, handles potential pop-ups, and extracts relevant content using BeautifulSoup. The extracted data includes review scores and star ratings, which are then stored in a DataFrame for further analysis."
   ]
  },
  {
   "cell_type": "markdown",
   "metadata": {},
   "source": [
    "## Setup and Load Data"
   ]
  },
  {
   "cell_type": "markdown",
   "metadata": {},
   "source": [
    "### Import libraries"
   ]
  },
  {
   "cell_type": "code",
   "execution_count": 14,
   "metadata": {},
   "outputs": [],
   "source": [
    "import pandas as pd\n",
    "from selenium import webdriver\n",
    "from selenium.webdriver.chrome.service import Service\n",
    "from selenium.webdriver.common.by import By\n",
    "from selenium.webdriver.support.ui import WebDriverWait\n",
    "from selenium.webdriver.common.keys import Keys\n",
    "from selenium.webdriver.support import expected_conditions as EC\n",
    "from selenium.webdriver.chrome.options import Options\n",
    "from webdriver_manager.chrome import ChromeDriverManager\n",
    "from bs4 import BeautifulSoup\n",
    "import time\n",
    "import re"
   ]
  },
  {
   "cell_type": "markdown",
   "metadata": {},
   "source": [
    "### Load bodyshops from CSV file"
   ]
  },
  {
   "cell_type": "code",
   "execution_count": 15,
   "metadata": {},
   "outputs": [],
   "source": [
    "# Load the CSV file\n",
    "df = pd.read_csv('bodyshops_to_check.csv')"
   ]
  },
  {
   "cell_type": "markdown",
   "metadata": {},
   "source": [
    "### Find URLs for each bodyshop"
   ]
  },
  {
   "cell_type": "code",
   "execution_count": null,
   "metadata": {},
   "outputs": [],
   "source": [
    "# Step 1: Set up Selenium WebDriver\n",
    "def setup_driver():\n",
    "    options = Options()\n",
    "    options.add_argument('--disable-gpu')  # Disable GPU acceleration\n",
    "    options.add_argument('--no-sandbox')  # Bypass OS security model\n",
    "    options.add_argument('--disable-dev-shm-usage')  # Overcome limited resource problems\n",
    "    driver = webdriver.Chrome(service=Service(ChromeDriverManager().install()), options=options)\n",
    "    return driver\n",
    "\n",
    "# Step 2: Open URL and handle pop-ups\n",
    "def open_url_and_handle_popups(driver, url):\n",
    "    driver.get(url)\n",
    "    time.sleep(5)  # Wait for the page to load\n",
    "\n",
    "    try:\n",
    "        # Accept cookies pop-up\n",
    "        accept_cookies_button = WebDriverWait(driver, 10).until(\n",
    "            EC.element_to_be_clickable((By.XPATH, \"//button[@aria-label='Accept all']\"))\n",
    "        )\n",
    "        accept_cookies_button.click()\n",
    "        print(\"Accepted cookies\")\n",
    "    except Exception as e:\n",
    "        print(f\"No cookies button found: {e}\")\n",
    "\n",
    "    return driver\n",
    "\n",
    "# Step 3: Perform search and get URL\n",
    "def search_and_get_url(driver, address, name):\n",
    "    search_box = WebDriverWait(driver, 10).until(\n",
    "        EC.presence_of_element_located((By.ID, \"searchboxinput\"))\n",
    "    )\n",
    "    search_box.clear()\n",
    "    search_box.send_keys(address)\n",
    "    search_box.send_keys(Keys.ENTER)\n",
    "    time.sleep(5)  # Wait for search results to load\n",
    "\n",
    "    search_box.clear()\n",
    "    search_box.send_keys(name)\n",
    "    search_box.send_keys(Keys.ENTER)\n",
    "    time.sleep(5)  # Wait for search results to load\n",
    "\n",
    "    current_url = driver.current_url\n",
    "    return current_url\n",
    "\n",
    "# Initialize the WebDriver\n",
    "driver = setup_driver()\n",
    "driver = open_url_and_handle_popups(driver, \"https://www.google.com/maps\")\n",
    "\n",
    "# Iterate through the CSV and perform searches\n",
    "urls = []\n",
    "for index, row in df.iterrows():\n",
    "    address = row['bodyshop_address']\n",
    "    name = row['nome_prestador_oficina']\n",
    "    url = search_and_get_url(driver, address, name)\n",
    "    urls.append(url)\n",
    "\n",
    "# Add the URLs to the DataFrame\n",
    "df['url'] = urls\n",
    "\n",
    "# Save the updated DataFrame back to the same CSV file\n",
    "df.to_csv(csv_file_path, index=False)\n",
    "\n",
    "# Close the WebDriver\n",
    "driver.quit()"
   ]
  },
  {
   "cell_type": "code",
   "execution_count": null,
   "metadata": {},
   "outputs": [],
   "source": []
  },
  {
   "cell_type": "markdown",
   "metadata": {},
   "source": [
    "## WebDriver Configuration"
   ]
  },
  {
   "cell_type": "markdown",
   "metadata": {},
   "source": [
    "### Configure and initialize Chrome WebDriver"
   ]
  },
  {
   "cell_type": "code",
   "execution_count": 16,
   "metadata": {},
   "outputs": [],
   "source": [
    "# Step 1: Set up Selenium WebDriver\n",
    "def setup_driver():\n",
    "    options = Options()\n",
    "    options.add_argument('--disable-gpu')  # Disable GPU acceleration\n",
    "    options.add_argument('--no-sandbox')  # Bypass OS security model\n",
    "    options.add_argument('--disable-dev-shm-usage')  # Overcome limited resource problems\n",
    "    driver = webdriver.Chrome(service=Service(ChromeDriverManager().install()), options=options)\n",
    "    return driver\n",
    "\n",
    "# Step 2: Open URL and handle pop-ups\n",
    "def open_url_and_handle_popups(driver, url):\n",
    "    driver.get(url)\n",
    "    time.sleep(5)  # Wait for the page to load\n",
    "\n",
    "    try:\n",
    "        # Accept cookies pop-up\n",
    "        accept_cookies_button = WebDriverWait(driver, 10).until(\n",
    "            EC.element_to_be_clickable((By.XPATH, \"//button[@aria-label='Accept all']\"))\n",
    "        )\n",
    "        accept_cookies_button.click()\n",
    "        print(\"Accepted cookies\")\n",
    "    except Exception as e:\n",
    "        print(f\"No cookies button found: {e}\")\n",
    "\n",
    "    return driver\n",
    "\n",
    "# Step 3: Extract page content and find the score\n",
    "def extract_score(driver):\n",
    "    # Parse the page content with BeautifulSoup\n",
    "    soup = BeautifulSoup(driver.page_source, 'html.parser')\n",
    "\n",
    "    # Locate the score element using aria-label containing \"stars\"\n",
    "    score_element = soup.find('span', {'aria-label': lambda x: x and 'stars' in x})\n",
    "    score = \"Score element not found\"\n",
    "    if score_element:\n",
    "        score = score_element['aria-label']\n",
    "        print(f\"Score (Rating): {score}\")\n",
    "    return score\n",
    "\n",
    "# Step 4: Extract elements containing 'stars'\n",
    "def extract_star_elements(driver):\n",
    "    # Parse the page content with BeautifulSoup\n",
    "    soup = BeautifulSoup(driver.page_source, 'html.parser')\n",
    "\n",
    "    # Locate all elements containing 'stars' in aria-label\n",
    "    star_elements_info = []\n",
    "    star_elements = soup.find_all(attrs={'aria-label': lambda x: x and 'stars' in x})\n",
    "    for element in star_elements:\n",
    "        star_elements_info.append(f\"Element tag: {element.name}, Classes: {element.get('class')}, Aria-label: {element['aria-label']}\")\n",
    "    return star_elements_info\n"
   ]
  },
  {
   "cell_type": "markdown",
   "metadata": {},
   "source": [
    "New Columns\n",
    "\n",
    "URL: Path of the Google Maps link for the body shop\n",
    "\n",
    "Result: Raw HTML information extracted\n",
    "\n",
    "Stars: Number of stars people rated the body shop\n",
    "\n",
    "Score: The score people rated the body shop\n",
    "\n",
    "Review: The number of people who provided a specific score for the body shop"
   ]
  }
 ],
 "metadata": {
  "kernelspec": {
   "display_name": "scraper",
   "language": "python",
   "name": "scraper"
  },
  "language_info": {
   "codemirror_mode": {
    "name": "ipython",
    "version": 3
   },
   "file_extension": ".py",
   "mimetype": "text/x-python",
   "name": "python",
   "nbconvert_exporter": "python",
   "pygments_lexer": "ipython3",
   "version": "3.10.14"
  },
  "toc": {
   "base_numbering": 1,
   "nav_menu": {},
   "number_sections": true,
   "sideBar": true,
   "skip_h1_title": true,
   "title_cell": "Table of Contents",
   "title_sidebar": "Contents",
   "toc_cell": true,
   "toc_position": {
    "height": "calc(100% - 180px)",
    "left": "10px",
    "top": "150px",
    "width": "202px"
   },
   "toc_section_display": true,
   "toc_window_display": true
  }
 },
 "nbformat": 4,
 "nbformat_minor": 4
}
