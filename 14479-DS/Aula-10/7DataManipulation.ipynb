{
 "cells": [
  {
   "cell_type": "markdown",
   "metadata": {},
   "source": [
    "<div style=\"border: 1px solid black\">\n",
    "<b><center><font size=\"4\">Data Science</font></center></b>\n",
    "\n",
    "<b><center><font size=\"3\">Manipulação e Análise de Dados com Pandas Dataframes</font></center></b>\n",
    "\n",
    "<b><center><font size=\"2\">7 - Data Manipulation</font></center></b>\n",
    "</div>"
   ]
  },
  {
   "cell_type": "markdown",
   "metadata": {},
   "source": [
    "**Notebook Developed by**: [Ricardo Campos](https://www.di.ubi.pt/~rcampos)<br>\n",
    "**email:**  ricardo.campos@ubi.pt<br>\n",
    "**Affiliation:** *Assistant Professor* @ [University of Beira Interior](http://www.ubi.pt);\n",
    "*Researcher* @ [LIAAD](https://www.inesctec.pt/en/centres/liaad)-[INESC TEC](https://www.inesctec.pt/en)\n",
    "\n",
    "<hr>\n",
    "\n",
    "<p><a href=\"7DataManipulation.ipynb\" title=\"Download Notebook\" download><img src=\"https://www.di.ubi.pt/~rcampos/assets/img_tutorials/download.jpg\" align = \"left\" width=\"50\" height=\"50\" alt=\"Download Notebook\"></a></p>\n",
    "<p>&nbsp;</p>\n",
    "<p>&nbsp;</p>\n",
    "\n",
    "<hr>"
   ]
  },
  {
   "cell_type": "markdown",
   "metadata": {
    "toc": true
   },
   "source": [
    "<h1>Table of Contents<span class=\"tocSkip\"></span></h1>\n",
    "<div class=\"toc\"><ul class=\"toc-item\"><li><span><a href=\"#Select\" data-toc-modified-id=\"Select-1\"><span class=\"toc-item-num\">1&nbsp;&nbsp;</span>Select</a></span><ul class=\"toc-item\"><li><span><a href=\"#Single-Element\" data-toc-modified-id=\"Single-Element-1.1\"><span class=\"toc-item-num\">1.1&nbsp;&nbsp;</span>Single Element</a></span></li><li><span><a href=\"#Several-Elements\" data-toc-modified-id=\"Several-Elements-1.2\"><span class=\"toc-item-num\">1.2&nbsp;&nbsp;</span>Several Elements</a></span><ul class=\"toc-item\"><li><span><a href=\"#By-Column\" data-toc-modified-id=\"By-Column-1.2.1\"><span class=\"toc-item-num\">1.2.1&nbsp;&nbsp;</span>By Column</a></span></li><li><span><a href=\"#By-Row\" data-toc-modified-id=\"By-Row-1.2.2\"><span class=\"toc-item-num\">1.2.2&nbsp;&nbsp;</span>By Row</a></span></li></ul></li><li><span><a href=\"#SubSet---Slicing\" data-toc-modified-id=\"SubSet---Slicing-1.3\"><span class=\"toc-item-num\">1.3&nbsp;&nbsp;</span>SubSet - Slicing</a></span><ul class=\"toc-item\"><li><span><a href=\"#By-Label\" data-toc-modified-id=\"By-Label-1.3.1\"><span class=\"toc-item-num\">1.3.1&nbsp;&nbsp;</span>By Label</a></span></li><li><span><a href=\"#By-Index\" data-toc-modified-id=\"By-Index-1.3.2\"><span class=\"toc-item-num\">1.3.2&nbsp;&nbsp;</span>By Index</a></span></li></ul></li></ul></li><li><span><a href=\"#Projection\" data-toc-modified-id=\"Projection-2\"><span class=\"toc-item-num\">2&nbsp;&nbsp;</span>Projection</a></span><ul class=\"toc-item\"><li><span><a href=\"#Create-from-Filter-(subset)\" data-toc-modified-id=\"Create-from-Filter-(subset)-2.1\"><span class=\"toc-item-num\">2.1&nbsp;&nbsp;</span>Create from Filter (subset)</a></span></li><li><span><a href=\"#Create-through-Copy\" data-toc-modified-id=\"Create-through-Copy-2.2\"><span class=\"toc-item-num\">2.2&nbsp;&nbsp;</span>Create through Copy</a></span></li></ul></li><li><span><a href=\"#Search/Filter\" data-toc-modified-id=\"Search/Filter-3\"><span class=\"toc-item-num\">3&nbsp;&nbsp;</span>Search/Filter</a></span><ul class=\"toc-item\"><li><span><a href=\"#Search-for-Values-in-a-Column\" data-toc-modified-id=\"Search-for-Values-in-a-Column-3.1\"><span class=\"toc-item-num\">3.1&nbsp;&nbsp;</span>Search for Values in a Column</a></span></li><li><span><a href=\"#Search-through-Multiple-Columns\" data-toc-modified-id=\"Search-through-Multiple-Columns-3.2\"><span class=\"toc-item-num\">3.2&nbsp;&nbsp;</span>Search through Multiple Columns</a></span></li><li><span><a href=\"#Search-through-Column-Names\" data-toc-modified-id=\"Search-through-Column-Names-3.3\"><span class=\"toc-item-num\">3.3&nbsp;&nbsp;</span>Search through Column Names</a></span></li><li><span><a href=\"#Filter\" data-toc-modified-id=\"Filter-3.4\"><span class=\"toc-item-num\">3.4&nbsp;&nbsp;</span>Filter</a></span></li></ul></li><li><span><a href=\"#Modify\" data-toc-modified-id=\"Modify-4\"><span class=\"toc-item-num\">4&nbsp;&nbsp;</span>Modify</a></span><ul class=\"toc-item\"><li><span><a href=\"#Insert\" data-toc-modified-id=\"Insert-4.1\"><span class=\"toc-item-num\">4.1&nbsp;&nbsp;</span>Insert</a></span><ul class=\"toc-item\"><li><span><a href=\"#Row\" data-toc-modified-id=\"Row-4.1.1\"><span class=\"toc-item-num\">4.1.1&nbsp;&nbsp;</span>Row</a></span><ul class=\"toc-item\"><li><span><a href=\"#Method-1:-Add-a-new-row-at-the-End-using-loc-method\" data-toc-modified-id=\"Method-1:-Add-a-new-row-at-the-End-using-loc-method-4.1.1.1\"><span class=\"toc-item-num\">4.1.1.1&nbsp;&nbsp;</span>Method 1: Add a new row at the End using loc method</a></span></li><li><span><a href=\"#Method-2:-Add-new-rows-at-the-End-using-concat-method\" data-toc-modified-id=\"Method-2:-Add-new-rows-at-the-End-using-concat-method-4.1.1.2\"><span class=\"toc-item-num\">4.1.1.2&nbsp;&nbsp;</span>Method 2: Add new rows at the End using concat method</a></span></li></ul></li><li><span><a href=\"#Column\" data-toc-modified-id=\"Column-4.1.2\"><span class=\"toc-item-num\">4.1.2&nbsp;&nbsp;</span>Column</a></span><ul class=\"toc-item\"><li><span><a href=\"#Method-1:-Add-a-new-Column-at-the-End-using-loc-method\" data-toc-modified-id=\"Method-1:-Add-a-new-Column-at-the-End-using-loc-method-4.1.2.1\"><span class=\"toc-item-num\">4.1.2.1&nbsp;&nbsp;</span>Method 1: Add a new Column at the End using loc method</a></span></li><li><span><a href=\"#Method-2:-Add-a-new-Column-at-the-End-using-brackets\" data-toc-modified-id=\"Method-2:-Add-a-new-Column-at-the-End-using-brackets-4.1.2.2\"><span class=\"toc-item-num\">4.1.2.2&nbsp;&nbsp;</span>Method 2: Add a new Column at the End using brackets</a></span></li><li><span><a href=\"#Method-3:-Add-a-new-Column-at-the-End-using-insert-method\" data-toc-modified-id=\"Method-3:-Add-a-new-Column-at-the-End-using-insert-method-4.1.2.3\"><span class=\"toc-item-num\">4.1.2.3&nbsp;&nbsp;</span>Method 3: Add a new Column at the End using insert method</a></span></li></ul></li></ul></li><li><span><a href=\"#Update\" data-toc-modified-id=\"Update-4.2\"><span class=\"toc-item-num\">4.2&nbsp;&nbsp;</span>Update</a></span><ul class=\"toc-item\"><li><span><a href=\"#Single-Element\" data-toc-modified-id=\"Single-Element-4.2.1\"><span class=\"toc-item-num\">4.2.1&nbsp;&nbsp;</span>Single Element</a></span></li><li><span><a href=\"#Several-Elements\" data-toc-modified-id=\"Several-Elements-4.2.2\"><span class=\"toc-item-num\">4.2.2&nbsp;&nbsp;</span>Several Elements</a></span><ul class=\"toc-item\"><li><span><a href=\"#By-Column\" data-toc-modified-id=\"By-Column-4.2.2.1\"><span class=\"toc-item-num\">4.2.2.1&nbsp;&nbsp;</span>By Column</a></span></li><li><span><a href=\"#By-Row\" data-toc-modified-id=\"By-Row-4.2.2.2\"><span class=\"toc-item-num\">4.2.2.2&nbsp;&nbsp;</span>By Row</a></span></li></ul></li></ul></li><li><span><a href=\"#Rename-Column-Names\" data-toc-modified-id=\"Rename-Column-Names-4.3\"><span class=\"toc-item-num\">4.3&nbsp;&nbsp;</span>Rename Column Names</a></span><ul class=\"toc-item\"><li><span><a href=\"#Method-1:-Rename-Specific-Columns\" data-toc-modified-id=\"Method-1:-Rename-Specific-Columns-4.3.1\"><span class=\"toc-item-num\">4.3.1&nbsp;&nbsp;</span>Method 1: Rename Specific Columns</a></span></li><li><span><a href=\"#Method-2:-Rename-All-Columns\" data-toc-modified-id=\"Method-2:-Rename-All-Columns-4.3.2\"><span class=\"toc-item-num\">4.3.2&nbsp;&nbsp;</span>Method 2: Rename All Columns</a></span></li><li><span><a href=\"#Method-3:-Replace-Specific-Characters-in-Columns\" data-toc-modified-id=\"Method-3:-Replace-Specific-Characters-in-Columns-4.3.3\"><span class=\"toc-item-num\">4.3.3&nbsp;&nbsp;</span>Method 3: Replace Specific Characters in Columns</a></span></li></ul></li><li><span><a href=\"#Drop\" data-toc-modified-id=\"Drop-4.4\"><span class=\"toc-item-num\">4.4&nbsp;&nbsp;</span>Drop</a></span><ul class=\"toc-item\"><li><span><a href=\"#Row\" data-toc-modified-id=\"Row-4.4.1\"><span class=\"toc-item-num\">4.4.1&nbsp;&nbsp;</span>Row</a></span><ul class=\"toc-item\"><li><span><a href=\"#Method-1:-Drop-Rows-by-Label\" data-toc-modified-id=\"Method-1:-Drop-Rows-by-Label-4.4.1.1\"><span class=\"toc-item-num\">4.4.1.1&nbsp;&nbsp;</span>Method 1: Drop Rows by Label</a></span></li><li><span><a href=\"#Method-2:-Drop-Rows-by-Index-Number\" data-toc-modified-id=\"Method-2:-Drop-Rows-by-Index-Number-4.4.1.2\"><span class=\"toc-item-num\">4.4.1.2&nbsp;&nbsp;</span>Method 2: Drop Rows by Index Number</a></span></li><li><span><a href=\"#Method-3:-Drop-Rows-by-Checking-Conditions\" data-toc-modified-id=\"Method-3:-Drop-Rows-by-Checking-Conditions-4.4.1.3\"><span class=\"toc-item-num\">4.4.1.3&nbsp;&nbsp;</span>Method 3: Drop Rows by Checking Conditions</a></span></li></ul></li><li><span><a href=\"#Column\" data-toc-modified-id=\"Column-4.4.2\"><span class=\"toc-item-num\">4.4.2&nbsp;&nbsp;</span>Column</a></span><ul class=\"toc-item\"><li><span><a href=\"#Method-1:-Delete-column-with-pandas-drop-and-axis=1\" data-toc-modified-id=\"Method-1:-Delete-column-with-pandas-drop-and-axis=1-4.4.2.1\"><span class=\"toc-item-num\">4.4.2.1&nbsp;&nbsp;</span>Method 1: Delete column with pandas drop and axis=1</a></span></li><li><span><a href=\"#Method-2:-Delete-column-with-pandas-drop-“columns”-parameter\" data-toc-modified-id=\"Method-2:-Delete-column-with-pandas-drop-“columns”-parameter-4.4.2.2\"><span class=\"toc-item-num\">4.4.2.2&nbsp;&nbsp;</span>Method 2: Delete column with pandas drop “columns” parameter</a></span></li></ul></li></ul></li></ul></li><li><span><a href=\"#Reshaping-Dataframes\" data-toc-modified-id=\"Reshaping-Dataframes-5\"><span class=\"toc-item-num\">5&nbsp;&nbsp;</span>Reshaping Dataframes</a></span><ul class=\"toc-item\"><li><span><a href=\"#How-do-I-want-my-data-to-look-like?\" data-toc-modified-id=\"How-do-I-want-my-data-to-look-like?-5.1\"><span class=\"toc-item-num\">5.1&nbsp;&nbsp;</span>How do I want my data to look like?</a></span></li><li><span><a href=\"#Wide-or-Long?\" data-toc-modified-id=\"Wide-or-Long?-5.2\"><span class=\"toc-item-num\">5.2&nbsp;&nbsp;</span>Wide or Long?</a></span></li><li><span><a href=\"#From-wide-to-long\" data-toc-modified-id=\"From-wide-to-long-5.3\"><span class=\"toc-item-num\">5.3&nbsp;&nbsp;</span>From wide to long</a></span></li><li><span><a href=\"#From-long-to-wide\" data-toc-modified-id=\"From-long-to-wide-5.4\"><span class=\"toc-item-num\">5.4&nbsp;&nbsp;</span>From long to wide</a></span></li><li><span><a href=\"#Working-with-real-data\" data-toc-modified-id=\"Working-with-real-data-5.5\"><span class=\"toc-item-num\">5.5&nbsp;&nbsp;</span>Working with real data</a></span><ul class=\"toc-item\"><li><span><a href=\"#Wide-to-Long\" data-toc-modified-id=\"Wide-to-Long-5.5.1\"><span class=\"toc-item-num\">5.5.1&nbsp;&nbsp;</span>Wide to Long</a></span></li><li><span><a href=\"#Long-to-Wide\" data-toc-modified-id=\"Long-to-Wide-5.5.2\"><span class=\"toc-item-num\">5.5.2&nbsp;&nbsp;</span>Long to Wide</a></span></li></ul></li></ul></li><li><span><a href=\"#Bibliography\" data-toc-modified-id=\"Bibliography-6\"><span class=\"toc-item-num\">6&nbsp;&nbsp;</span>Bibliography</a></span></li></ul></div>"
   ]
  },
  {
   "cell_type": "markdown",
   "metadata": {},
   "source": [
    "# Manipulation <a class=\"tocSkip\">"
   ]
  },
  {
   "cell_type": "markdown",
   "metadata": {},
   "source": [
    "<div class=\"alert alert-success alertsuccess\" style=\"margin-top: 20px\">\n",
    "\n",
    "## Objetivos de aprendizagem  <a class=\"tocSkip\">\n",
    "    \n",
    "No final deste notebook o aluno deverá saber manipular dados em Pandas dataframes.\n",
    "\n",
    "\n",
    "## Learning Objectives  <a class=\"tocSkip\">\n",
    "       \n",
    "When concluding this notebook, the student should know how to manipulate Pandas dataframes. </div>"
   ]
  },
  {
   "cell_type": "markdown",
   "metadata": {},
   "source": [
    "<div class=\"alert alert-success alertsuccess\" style=\"margin-top: 20px\">\n",
    "\n",
    "## Sumário  <a class=\"tocSkip\">\n",
    "### Manipulação de Dados <a class=\"tocSkip\">\n",
    "\n",
    "Introdução dos alunos à manipulação de dados em Pandas dataframes\n",
    "- seleção\n",
    "- projeção\n",
    "- pesquisa e filtros\n",
    "- modificação\n",
    "- alteração da estrutura de daframes\n",
    "    \n",
    "## Class Summary  <a class=\"tocSkip\">\n",
    "### Data Manipulation <a class=\"tocSkip\">\n",
    "Introducing students to data manipulation with Pandas dataframes\n",
    "- selection\n",
    "- projection\n",
    "- search/filter\n",
    "- modification\n",
    "- reshaping dataframes\n",
    "\n",
    "</div>"
   ]
  },
  {
   "cell_type": "markdown",
   "metadata": {},
   "source": [
    "<hr>"
   ]
  },
  {
   "cell_type": "markdown",
   "metadata": {},
   "source": [
    "# Select"
   ]
  },
  {
   "cell_type": "code",
   "execution_count": null,
   "metadata": {},
   "outputs": [],
   "source": [
    "import pandas as pd\n",
    "\n",
    "data = {'nome': ['Argentina','Brasil','França','Itália','Reino Unido'],\n",
    "         'continente': ['América','América','Europa','Europa','Europa'],\n",
    "         'extensao': [2780,8511,644,301,244],\n",
    "         'corVerde': [0,1,0,1,0]\n",
    "}\n",
    "\n",
    "siglas = ['AR','BR','FR','IT','UK']\n",
    "\n",
    "df = pd.DataFrame(data,index=siglas)\n",
    "df"
   ]
  },
  {
   "cell_type": "markdown",
   "metadata": {},
   "source": [
    "## Single Element"
   ]
  },
  {
   "cell_type": "markdown",
   "metadata": {},
   "source": [
    "Usada quando quer recuperar apenas um elemento do dataframe. Utilize os seguintes comandos:"
   ]
  },
  {
   "cell_type": "markdown",
   "metadata": {},
   "source": [
    "- `at[]`: indexação baseada na especificação dos rótulos (da linha e da coluna) - `label-based`;\n",
    "- `iat[]`: indexação baseada na especificação dos índices (daí termos a letra `i` no ínicio do comando) da linha e da coluna - `index-based`."
   ]
  },
  {
   "cell_type": "markdown",
   "metadata": {},
   "source": [
    "O código seguinte recorre ao comando `at` e à indexação baseada na especificação de rótulos para obter o `nome` da sigla `FR`."
   ]
  },
  {
   "cell_type": "code",
   "execution_count": null,
   "metadata": {},
   "outputs": [],
   "source": [
    "df.at['FR','nome']"
   ]
  },
  {
   "cell_type": "markdown",
   "metadata": {},
   "source": [
    "O código seguinte recorre ao comando `iat` para obter o `nome` da sigla `FR` através da especificação dos índices correspondentes ao nome (coluna) e à sigla (linha)."
   ]
  },
  {
   "cell_type": "code",
   "execution_count": null,
   "metadata": {},
   "outputs": [],
   "source": [
    "df.iat[2,0]"
   ]
  },
  {
   "cell_type": "markdown",
   "metadata": {},
   "source": [
    "<hr>"
   ]
  },
  {
   "cell_type": "markdown",
   "metadata": {},
   "source": [
    "## Several Elements"
   ]
  },
  {
   "cell_type": "markdown",
   "metadata": {},
   "source": [
    "### By Column"
   ]
  },
  {
   "cell_type": "markdown",
   "metadata": {},
   "source": [
    "Select a single column:"
   ]
  },
  {
   "cell_type": "code",
   "execution_count": null,
   "metadata": {},
   "outputs": [],
   "source": [
    "df['extensao']"
   ]
  },
  {
   "cell_type": "markdown",
   "metadata": {},
   "source": [
    "Select multiple columns:"
   ]
  },
  {
   "cell_type": "code",
   "execution_count": null,
   "metadata": {},
   "outputs": [],
   "source": [
    "df[['extensao','nome','corVerde']]"
   ]
  },
  {
   "cell_type": "markdown",
   "metadata": {},
   "source": [
    "### By Row"
   ]
  },
  {
   "cell_type": "markdown",
   "metadata": {},
   "source": [
    "A obtenção de vários valores, por linha, obriga ao recurso dos seguintes comandos:"
   ]
  },
  {
   "cell_type": "markdown",
   "metadata": {},
   "source": [
    "- `loc[]`: indexação baseada na especificação dos rótulos (da linha) - `label-based`;\n",
    "- `iloc[]`: indexação baseada na especificação dos índices (daí termos a letra `i` no ínicio do comando) da linha - `index-based`."
   ]
  },
  {
   "cell_type": "code",
   "execution_count": null,
   "metadata": {},
   "outputs": [],
   "source": [
    "df = pd.DataFrame(data,index=siglas)\n",
    "df"
   ]
  },
  {
   "cell_type": "markdown",
   "metadata": {},
   "source": [
    "O código seguinte recorre ao comando `loc` e à indexação baseada na especificação de rótulos para obter todos os dados da sigla `FR`."
   ]
  },
  {
   "cell_type": "code",
   "execution_count": null,
   "metadata": {},
   "outputs": [],
   "source": [
    "df.loc['FR']\n",
    "#df.loc[['FR']]"
   ]
  },
  {
   "cell_type": "markdown",
   "metadata": {},
   "source": [
    "O código seguinte recorre ao comando `iloc` para obter todos os dados da sigla `FR` através da especificação dos índices correspondentes à sigla (linha)."
   ]
  },
  {
   "cell_type": "code",
   "execution_count": null,
   "metadata": {},
   "outputs": [],
   "source": [
    "df.iloc[2]\n",
    "#df.iloc[[2]]"
   ]
  },
  {
   "cell_type": "markdown",
   "metadata": {},
   "source": [
    "## SubSet - Slicing"
   ]
  },
  {
   "cell_type": "markdown",
   "metadata": {},
   "source": [
    "O fatiamento de DataFrames permite \"recortar\" pedaços do DataFrame que sejam diferentes de toda uma\n",
    "linha ou coluna. Pode ser realizado com o uso dos\n",
    "métodos `iloc()` (por posição) e `loc()` (por rótulo). O resultado do fatiamento de um DataFrame será sempre um objeto do tipo DataFrame, exceto quando a\n",
    "operação resultar numa única linha ou uma única coluna\n",
    "retornada. Neste caso, o tipo de objeto resultante é uma Series."
   ]
  },
  {
   "cell_type": "markdown",
   "metadata": {},
   "source": [
    "### By Label"
   ]
  },
  {
   "cell_type": "markdown",
   "metadata": {},
   "source": [
    "No exercício seguinte pretendemos retornar o sub-conjunto de dados definidos pela cor beje."
   ]
  },
  {
   "cell_type": "markdown",
   "metadata": {},
   "source": [
    "<img src=\"https://www.di.ubi.pt/~rcampos/assets/img_tutorials/DataScience/dataframe2.jpg\" width=\"300\" height=\"300\" align=\"center\"/>"
   ]
  },
  {
   "cell_type": "markdown",
   "metadata": {},
   "source": [
    "<center>Adaptado de: https://www.casadocodigo.com.br/products/livro-pandas-python</center>"
   ]
  },
  {
   "cell_type": "markdown",
   "metadata": {},
   "source": [
    "Para tal, fazemos uso do comando `loc`, o qual permite selecionar um sub conjunto de valores do dataframe com recurso à especificação de rótulos. A execução do código seguinte retorna um objeto do tipo series uma vez que o resultado da operação resulta numa única coluna retornada."
   ]
  },
  {
   "cell_type": "code",
   "execution_count": null,
   "metadata": {},
   "outputs": [],
   "source": [
    "df.loc[['BR','IT'],'corVerde']"
   ]
  },
  {
   "cell_type": "markdown",
   "metadata": {},
   "source": [
    "Já os seguintes exemplos retornam um objeto do tipo dataframe."
   ]
  },
  {
   "cell_type": "code",
   "execution_count": null,
   "metadata": {},
   "outputs": [],
   "source": [
    "df.loc[:,'continente':'corVerde']"
   ]
  },
  {
   "cell_type": "code",
   "execution_count": null,
   "metadata": {},
   "outputs": [],
   "source": [
    "df.loc['AR':'FR','nome':'extensao']"
   ]
  },
  {
   "cell_type": "code",
   "execution_count": null,
   "metadata": {},
   "outputs": [],
   "source": [
    "df.loc['AR':'FR',['nome','extensao']]"
   ]
  },
  {
   "cell_type": "code",
   "execution_count": null,
   "metadata": {},
   "outputs": [],
   "source": [
    "df.loc[:,['nome','extensao']]"
   ]
  },
  {
   "cell_type": "markdown",
   "metadata": {},
   "source": [
    "Ao invés de selecionarmos todos os elementos podemos especificar um  conjunto de elementos que decorre de um filtro."
   ]
  },
  {
   "cell_type": "code",
   "execution_count": null,
   "metadata": {},
   "outputs": [],
   "source": [
    "df.loc[df['extensao']>2000,['nome','extensao']]"
   ]
  },
  {
   "cell_type": "markdown",
   "metadata": {},
   "source": [
    "É possível também filtrar tendo em atenção as colunas cujo nome começa com uma determinada palavra (e.g., con)."
   ]
  },
  {
   "cell_type": "code",
   "execution_count": null,
   "metadata": {},
   "outputs": [],
   "source": [
    "df.loc[:, df.columns.str.startswith('con')]"
   ]
  },
  {
   "cell_type": "code",
   "execution_count": null,
   "metadata": {},
   "outputs": [],
   "source": [
    "df.filter(like='con')"
   ]
  },
  {
   "cell_type": "markdown",
   "metadata": {},
   "source": [
    "### By Index"
   ]
  },
  {
   "cell_type": "markdown",
   "metadata": {},
   "source": [
    "No exercício seguinte pretendemos retornar o sub-conjunto de dados definidos pela cor beje."
   ]
  },
  {
   "cell_type": "markdown",
   "metadata": {},
   "source": [
    "<img src=\"https://www.di.ubi.pt/~rcampos/assets/img_tutorials/DataScience/dataframe1.jpg\" width=\"300\" height=\"300\" align=\"center\"/>"
   ]
  },
  {
   "cell_type": "markdown",
   "metadata": {},
   "source": [
    "<center>Adaptado de: https://www.casadocodigo.com.br/products/livro-pandas-python</center>"
   ]
  },
  {
   "cell_type": "markdown",
   "metadata": {},
   "source": [
    "Para tal, fazemos uso do comando `iloc`, o qual permite selecionar um sub conjunto de valores do dataframe com recurso à especificação dos respetivos índices."
   ]
  },
  {
   "cell_type": "code",
   "execution_count": null,
   "metadata": {},
   "outputs": [],
   "source": [
    "df.iloc[:3,:2]"
   ]
  },
  {
   "cell_type": "markdown",
   "metadata": {},
   "source": [
    "No exercício seguinte pretendemos retornar, novamente, o sub-conjunto de dados definidos pela cor beje."
   ]
  },
  {
   "cell_type": "markdown",
   "metadata": {},
   "source": [
    "<img src=\"https://www.di.ubi.pt/~rcampos/assets/img_tutorials/DataScience/dataframe3.jpg\" width=\"300\" height=\"300\" align=\"center\"/>"
   ]
  },
  {
   "cell_type": "markdown",
   "metadata": {},
   "source": [
    "<center>Adaptado de: https://www.casadocodigo.com.br/products/livro-pandas-python</center>"
   ]
  },
  {
   "cell_type": "code",
   "execution_count": null,
   "metadata": {},
   "outputs": [],
   "source": [
    "df.iloc[-2:,1:3]"
   ]
  },
  {
   "cell_type": "markdown",
   "metadata": {},
   "source": [
    "Mais exemplos:"
   ]
  },
  {
   "cell_type": "code",
   "execution_count": null,
   "metadata": {},
   "outputs": [],
   "source": [
    "df.iloc[0:2,0:2]\n"
   ]
  },
  {
   "cell_type": "code",
   "execution_count": null,
   "metadata": {},
   "outputs": [],
   "source": [
    "df.iloc[[0,1],:]"
   ]
  },
  {
   "cell_type": "markdown",
   "metadata": {},
   "source": [
    "<hr>"
   ]
  },
  {
   "cell_type": "markdown",
   "metadata": {},
   "source": [
    "# Projection"
   ]
  },
  {
   "cell_type": "markdown",
   "metadata": {},
   "source": [
    "A projeção é a operação que gera um novo DataFrame a partir\n",
    "da extração de algumas colunas de um outro DataFrame. Para ilustrar a projeção vamos começar por definir o nosso dataframe de exemplo. Desta feita, no entanto, os índices deixam de ser as siglas dos países e passam a ser números."
   ]
  },
  {
   "cell_type": "code",
   "execution_count": null,
   "metadata": {},
   "outputs": [],
   "source": [
    "import pandas as pd\n",
    "\n",
    "data = {'nome': ['Argentina','Brasil','França','Itália','Reino Unido'],\n",
    "         'continente': ['América','América','Europa','Europa','Europa'],\n",
    "         'extensao': [2780,8511,644,301,244],\n",
    "         'corVerde': [0,1,0,1,0]\n",
    "}\n",
    "\n",
    "df = pd.DataFrame(data)\n",
    "df"
   ]
  },
  {
   "cell_type": "markdown",
   "metadata": {},
   "source": [
    "## Create from Filter (subset)"
   ]
  },
  {
   "cell_type": "markdown",
   "metadata": {},
   "source": [
    "Suponha agora que pretende listar apenas o nome dos países e a extensão dos países pertencentes ao continente Europeu."
   ]
  },
  {
   "cell_type": "code",
   "execution_count": null,
   "metadata": {},
   "outputs": [],
   "source": [
    "df = df[df['continente']==\"Europa\"]\n",
    "df[['nome','extensao']]"
   ]
  },
  {
   "cell_type": "markdown",
   "metadata": {},
   "source": [
    "Da execução do código anterior é possível que, não obstante a criação de um novo dataframe, os índices se mantenham de acordo com o dataframe anterior. Para recriar os índices vamos recorrer ao código `reset_index()`."
   ]
  },
  {
   "cell_type": "code",
   "execution_count": null,
   "metadata": {},
   "outputs": [],
   "source": [
    "df = df[df['continente']==\"Europa\"]\n",
    "df = df.reset_index(drop=True)\n",
    "df[['nome','extensao']]"
   ]
  },
  {
   "cell_type": "markdown",
   "metadata": {},
   "source": [
    "## Create through Copy"
   ]
  },
  {
   "cell_type": "code",
   "execution_count": null,
   "metadata": {},
   "outputs": [],
   "source": [
    "new_df = df[['continente']].copy()\n",
    "new_df"
   ]
  },
  {
   "cell_type": "code",
   "execution_count": null,
   "metadata": {},
   "outputs": [],
   "source": [
    "new_df = df[['continente','nome']].copy()\n",
    "new_df"
   ]
  },
  {
   "cell_type": "markdown",
   "metadata": {},
   "source": [
    "<hr>"
   ]
  },
  {
   "cell_type": "markdown",
   "metadata": {},
   "source": [
    "# Search/Filter"
   ]
  },
  {
   "cell_type": "code",
   "execution_count": null,
   "metadata": {},
   "outputs": [],
   "source": [
    "import pandas as pd\n",
    "\n",
    "data = {'nome': ['Argentina','Brasil','França','Itália','Reino Unido'],\n",
    "         'continente': ['América','América','Europa','Europa','Europa'],\n",
    "         'extensao': [2780,8511,644,301,244],\n",
    "         'corVerde': [0,1,0,1,0]\n",
    "}\n",
    "\n",
    "siglas = ['AR','BR','FR','IT','UK']\n",
    "\n",
    "df = pd.DataFrame(data,index=siglas)\n",
    "df"
   ]
  },
  {
   "cell_type": "code",
   "execution_count": null,
   "metadata": {},
   "outputs": [],
   "source": [
    "df[df['nome']==\"Argentina\"]['continente']"
   ]
  },
  {
   "cell_type": "markdown",
   "metadata": {},
   "source": [
    "## Search for Values in a Column"
   ]
  },
  {
   "cell_type": "markdown",
   "metadata": {},
   "source": [
    "Does a column contain a certain value? It return a single False or True."
   ]
  },
  {
   "cell_type": "code",
   "execution_count": null,
   "metadata": {},
   "outputs": [],
   "source": [
    "'América' in df['continente'].values"
   ]
  },
  {
   "cell_type": "markdown",
   "metadata": {},
   "source": [
    "Alternatively, this type of search can be done using the `.any()` and `.all()` methods:"
   ]
  },
  {
   "cell_type": "code",
   "execution_count": null,
   "metadata": {},
   "outputs": [],
   "source": [
    "# Search for any occurrence of a value\n",
    "(df['continente'] == 'América').any()"
   ]
  },
  {
   "cell_type": "code",
   "execution_count": null,
   "metadata": {},
   "outputs": [],
   "source": [
    "# Check if all values in a column meet a criteria\n",
    "(df['extensao'] < 9000).all()"
   ]
  },
  {
   "cell_type": "markdown",
   "metadata": {},
   "source": [
    "You can also get the results of the search for each row"
   ]
  },
  {
   "cell_type": "code",
   "execution_count": null,
   "metadata": {},
   "outputs": [],
   "source": [
    "# Search each row for a value\n",
    "df['continente'] == 'América'"
   ]
  },
  {
   "cell_type": "markdown",
   "metadata": {},
   "source": [
    "We can also use the `isin` operator:"
   ]
  },
  {
   "cell_type": "code",
   "execution_count": null,
   "metadata": {},
   "outputs": [],
   "source": [
    "df['continente'].isin(['América'])"
   ]
  },
  {
   "cell_type": "markdown",
   "metadata": {},
   "source": [
    "The same thing can be done with a function: the where() function from Numpy:"
   ]
  },
  {
   "cell_type": "code",
   "execution_count": null,
   "metadata": {},
   "outputs": [],
   "source": [
    "import numpy as np\n",
    "\n",
    "np.where(df['continente'] == 'América', True, False)"
   ]
  },
  {
   "cell_type": "markdown",
   "metadata": {},
   "source": [
    "Searching for a letter within a column of strings can also be performed using the `.contains()` method:"
   ]
  },
  {
   "cell_type": "code",
   "execution_count": null,
   "metadata": {},
   "outputs": [],
   "source": [
    "# Search for a substring\n",
    "df['continente'].str.contains('a')"
   ]
  },
  {
   "cell_type": "markdown",
   "metadata": {},
   "source": [
    "## Search through Multiple Columns"
   ]
  },
  {
   "cell_type": "markdown",
   "metadata": {},
   "source": [
    "The logical operators ‘and’ (&) and ‘or’ (|) can be used to find rows that match very specific criteria. Notice the round brackets that are being used to group the logical evaluations together:"
   ]
  },
  {
   "cell_type": "code",
   "execution_count": null,
   "metadata": {},
   "outputs": [],
   "source": [
    "# Search for values across multiple columns\n",
    "(df['nome'] == \"Argentina\") | ((df['continente'] == \"Europa\") & df['extensao'] >= 400)"
   ]
  },
  {
   "cell_type": "markdown",
   "metadata": {},
   "source": [
    "## Search through Column Names"
   ]
  },
  {
   "cell_type": "markdown",
   "metadata": {},
   "source": [
    "Instead of searching through the data in a column you can also search through the names of the columns to see if the one you are looking for has been created yet."
   ]
  },
  {
   "cell_type": "code",
   "execution_count": null,
   "metadata": {},
   "outputs": [],
   "source": [
    "'continente' in df.columns"
   ]
  },
  {
   "cell_type": "markdown",
   "metadata": {},
   "source": [
    "We can also look for indexes"
   ]
  },
  {
   "cell_type": "code",
   "execution_count": null,
   "metadata": {},
   "outputs": [],
   "source": [
    "'BR' in df.index"
   ]
  },
  {
   "cell_type": "markdown",
   "metadata": {},
   "source": [
    "## Filter"
   ]
  },
  {
   "cell_type": "markdown",
   "metadata": {},
   "source": [
    "We can filter the results (into a dataframe format) by following the syntax: `df[df[‘column_name’] == value_you_are_looking_for]`"
   ]
  },
  {
   "cell_type": "code",
   "execution_count": null,
   "metadata": {},
   "outputs": [],
   "source": [
    "df[(df['nome'] == \"Argentina\") | ((df['continente'] == \"Europa\") & df['extensao'] >= 400)]"
   ]
  },
  {
   "cell_type": "markdown",
   "metadata": {},
   "source": [
    "<hr>"
   ]
  },
  {
   "cell_type": "markdown",
   "metadata": {},
   "source": [
    "# Modify"
   ]
  },
  {
   "cell_type": "markdown",
   "metadata": {},
   "source": [
    "Este tópico apresenta as técnicas básicas para inserir e alterar\n",
    "linhas de um DataFrame e para modificar o conteúdo de alguma célula."
   ]
  },
  {
   "cell_type": "code",
   "execution_count": null,
   "metadata": {},
   "outputs": [],
   "source": [
    "import pandas as pd\n",
    "\n",
    "data = {'nome': ['Argentina','Brasil','França','Itália','Reino Unido'],\n",
    "         'continente': ['América','América','Europa','Europa','Europa'],\n",
    "         'extensao': [2780,8511,644,301,244],\n",
    "         'corVerde': [0,1,0,1,0]\n",
    "}\n",
    "\n",
    "siglas = ['AR','BR','FR','IT','UK']\n",
    "\n",
    "df = pd.DataFrame(data,index=siglas)\n",
    "df"
   ]
  },
  {
   "cell_type": "markdown",
   "metadata": {},
   "source": [
    "## Insert"
   ]
  },
  {
   "cell_type": "markdown",
   "metadata": {},
   "source": [
    "### Row"
   ]
  },
  {
   "cell_type": "markdown",
   "metadata": {},
   "source": [
    "#### Method 1: Add a new row at the End using loc method"
   ]
  },
  {
   "cell_type": "markdown",
   "metadata": {},
   "source": [
    "O código seguinte recorre ao `loc` para adicionar uma nova linha especificando um label (e.g., JP). Tenha em atenção que, na inclusão de uma nova linha, deverá considerar o mesmo número de colunas já existente no dataframe."
   ]
  },
  {
   "cell_type": "code",
   "execution_count": null,
   "metadata": {},
   "outputs": [],
   "source": [
    "df.loc['JP']= {'nome': 'Japão', 'continente': 'Ásia',\n",
    "                   'extensao': 372,\n",
    "                   'corVerde': 0}\n",
    "df"
   ]
  },
  {
   "cell_type": "markdown",
   "metadata": {},
   "source": [
    "Podemos também usar o `loc` para adicionar uma nova linha a um dataframe que não tenha labels definidos como index. De seguida começamos por redefinir o dataframe (sem fazer uso de índices):"
   ]
  },
  {
   "cell_type": "code",
   "execution_count": null,
   "metadata": {},
   "outputs": [],
   "source": [
    "import pandas as pd\n",
    "\n",
    "df = pd.DataFrame(data)\n",
    "df"
   ]
  },
  {
   "cell_type": "markdown",
   "metadata": {},
   "source": [
    "De seguida usamos o `loc` para adicionar a nova linha ao dataframe no índice da última linha (obtido através do `len(df)`):"
   ]
  },
  {
   "cell_type": "code",
   "execution_count": null,
   "metadata": {},
   "outputs": [],
   "source": [
    "df.loc[len(df)] = {'nome': 'Japão', 'continente': 'Ásia',\n",
    "                   'extensao': 372,\n",
    "                   'corVerde': 0}\n",
    "df"
   ]
  },
  {
   "cell_type": "markdown",
   "metadata": {},
   "source": [
    "#### Method 2: Add new rows at the End using concat method"
   ]
  },
  {
   "cell_type": "markdown",
   "metadata": {},
   "source": [
    "Por sua vez o método `concat` pode ser usado para concatenar mais do que 2 dataframes. No exemplo abaixo, recorremos ao `concat` para juntar 2 dataframes."
   ]
  },
  {
   "cell_type": "code",
   "execution_count": null,
   "metadata": {},
   "outputs": [],
   "source": [
    "import pandas as pd\n",
    "\n",
    "#df\n",
    "data = {'nome': ['Argentina','Brasil','França','Itália','Reino Unido'],\n",
    "         'continente': ['América','América','Europa','Europa','Europa'],\n",
    "         'extensao': [2780,8511,644,301,244],\n",
    "         'corVerde': [0,1,0,1,0]\n",
    "}\n",
    "\n",
    "df = pd.DataFrame(data)\n",
    "\n",
    "#df1\n",
    "data = {'nome': ['Japão'], 'continente': ['Ásia'],\n",
    "                   'extensao': [372],\n",
    "                   'corVerde': [0]}\n",
    "\n",
    "df1 = pd.DataFrame(data)\n",
    "\n",
    "#concat\n",
    "df_new = pd.concat([df, df1])\n",
    "df_new = df_new.reset_index(drop=True)\n",
    "df_new"
   ]
  },
  {
   "cell_type": "markdown",
   "metadata": {},
   "source": [
    "<hr>"
   ]
  },
  {
   "cell_type": "markdown",
   "metadata": {},
   "source": [
    "### Column"
   ]
  },
  {
   "cell_type": "code",
   "execution_count": null,
   "metadata": {},
   "outputs": [],
   "source": [
    "import pandas as pd\n",
    "\n",
    "data = {'nome': ['Argentina','Brasil','França','Itália','Reino Unido'],\n",
    "         'continente': ['América','América','Europa','Europa','Europa'],\n",
    "         'extensao': [2780,8511,644,301,244],\n",
    "         'corVerde': [0,1,0,1,0]\n",
    "}\n",
    "\n",
    "siglas = ['AR','BR','FR','IT','UK']\n",
    "\n",
    "df = pd.DataFrame(data,index=siglas)\n",
    "df"
   ]
  },
  {
   "cell_type": "markdown",
   "metadata": {},
   "source": [
    "#### Method 1: Add a new Column at the End using loc method"
   ]
  },
  {
   "cell_type": "markdown",
   "metadata": {},
   "source": [
    "Se quisermos adicionar uma coluna ao final do dataframe podemos usar o `loc`. Vamos começar por definir o dataframe."
   ]
  },
  {
   "cell_type": "markdown",
   "metadata": {},
   "source": [
    "De seguida acrescentamos a coluna year com recurso ao comando `loc`:"
   ]
  },
  {
   "cell_type": "code",
   "execution_count": null,
   "metadata": {},
   "outputs": [],
   "source": [
    "df.loc[:, [\"year\"]] = [2015, 2022, 2023, 2010, 2012]\n",
    "df"
   ]
  },
  {
   "cell_type": "markdown",
   "metadata": {},
   "source": [
    "#### Method 2: Add a new Column at the End using brackets"
   ]
  },
  {
   "cell_type": "markdown",
   "metadata": {},
   "source": [
    "Podemos também recorrer ao seguinte código para adicionar uma nova coluna no final:"
   ]
  },
  {
   "cell_type": "code",
   "execution_count": null,
   "metadata": {},
   "outputs": [],
   "source": [
    "df['habitantes'] = [1000,2000,3000,4000,5000]\n",
    "df"
   ]
  },
  {
   "cell_type": "markdown",
   "metadata": {},
   "source": [
    "#### Method 3: Add a new Column at the End using insert method"
   ]
  },
  {
   "cell_type": "markdown",
   "metadata": {},
   "source": [
    "Finalmente podemos recorrer ao `insert` para adicionar uma coluna posição em específico."
   ]
  },
  {
   "cell_type": "code",
   "execution_count": null,
   "metadata": {},
   "outputs": [],
   "source": [
    "df.insert(1, \"montanhas\", [1, 2, 7, 9, 20])\n",
    "df"
   ]
  },
  {
   "cell_type": "markdown",
   "metadata": {},
   "source": [
    "<hr>"
   ]
  },
  {
   "cell_type": "markdown",
   "metadata": {},
   "source": [
    "## Update"
   ]
  },
  {
   "cell_type": "markdown",
   "metadata": {},
   "source": [
    "A atualização consiste na operação de alterar os valores de um ou de vários atributos. "
   ]
  },
  {
   "cell_type": "code",
   "execution_count": null,
   "metadata": {},
   "outputs": [],
   "source": [
    "import pandas as pd\n",
    "\n",
    "data = {'nome': ['Argentina','Brasil','França','Itália','Reino Unido'],\n",
    "         'continente': ['América','América','Europa','Europa','Europa'],\n",
    "         'extensao': [2780,8511,644,301,244],\n",
    "         'corVerde': [0,1,0,1,0]\n",
    "}\n",
    "\n",
    "siglas = ['AR','BR','FR','IT','UK']\n",
    "\n",
    "df = pd.DataFrame(data,index=siglas)\n",
    "df"
   ]
  },
  {
   "cell_type": "markdown",
   "metadata": {},
   "source": [
    "### Single Element"
   ]
  },
  {
   "cell_type": "markdown",
   "metadata": {},
   "source": [
    "Usada quando quer alterar apenas um elemento do dataframe. Utilize os seguintes comandos:"
   ]
  },
  {
   "cell_type": "markdown",
   "metadata": {},
   "source": [
    "- `at[]`: indexação baseada na especificação dos rótulos (da linha e da coluna) - `label-based`;\n",
    "- `iat[]`: indexação baseada na especificação dos índices (daí termos a letra `i` no ínicio do comando) da linha e da coluna - `index-based`."
   ]
  },
  {
   "cell_type": "markdown",
   "metadata": {},
   "source": [
    "O código seguinte recorre ao comando `at` e à indexação baseada na especificação de rótulos para atualizar o valor da `extensao` da sigla `UK`."
   ]
  },
  {
   "cell_type": "code",
   "execution_count": null,
   "metadata": {},
   "outputs": [],
   "source": [
    "df.at['UK', 'extensao'] = 343\n",
    "df"
   ]
  },
  {
   "cell_type": "markdown",
   "metadata": {},
   "source": [
    "O código seguinte recorre ao comando `iat` para atualizar o valor da `extensao` da sigla `UK` através da especificação dos índices correspondentes ao nome (coluna) e à sigla (linha)."
   ]
  },
  {
   "cell_type": "code",
   "execution_count": null,
   "metadata": {},
   "outputs": [],
   "source": [
    "df.iat[4,2] = 343\n",
    "df"
   ]
  },
  {
   "cell_type": "markdown",
   "metadata": {},
   "source": [
    "<hr>"
   ]
  },
  {
   "cell_type": "markdown",
   "metadata": {},
   "source": [
    "### Several Elements"
   ]
  },
  {
   "cell_type": "markdown",
   "metadata": {},
   "source": [
    "#### By Column"
   ]
  },
  {
   "cell_type": "markdown",
   "metadata": {},
   "source": [
    "A atualização de vários valores, por coluna, obriga ao recurso dos seguintes comandos:"
   ]
  },
  {
   "cell_type": "markdown",
   "metadata": {},
   "source": [
    "- `loc[]`: indexação baseada na especificação dos rótulos (da linha) - `label-based`;\n",
    "- `iloc[]`: indexação baseada na especificação dos índices (daí termos a letra `i` no ínicio do comando) da linha - `index-based`."
   ]
  },
  {
   "cell_type": "code",
   "execution_count": null,
   "metadata": {},
   "outputs": [],
   "source": [
    "import pandas as pd\n",
    "\n",
    "df = pd.DataFrame(data,index=siglas)\n",
    "df"
   ]
  },
  {
   "cell_type": "markdown",
   "metadata": {},
   "source": [
    "O código seguinte recorre ao comando `loc` e à indexação baseada na especificação de rótulos para atualizar todos os valores da coluna `corVerde` para 0."
   ]
  },
  {
   "cell_type": "code",
   "execution_count": null,
   "metadata": {},
   "outputs": [],
   "source": [
    "df.loc[:,'corVerde'] = 0\n",
    "df"
   ]
  },
  {
   "cell_type": "markdown",
   "metadata": {},
   "source": [
    "O código seguinte recorre ao comando `iloc` para atualizar todos os dados da coluna `corVerde` através da especificação dos índices correspondentes, no caso, coluna 3."
   ]
  },
  {
   "cell_type": "code",
   "execution_count": null,
   "metadata": {},
   "outputs": [],
   "source": [
    "df.iloc[:,3] = 1\n",
    "df"
   ]
  },
  {
   "cell_type": "markdown",
   "metadata": {},
   "source": [
    "Naturalmente podemos atualizar os valores de uma coluna num conjunto de linhas específico (`0:2` representa uma operação de slicing)."
   ]
  },
  {
   "cell_type": "code",
   "execution_count": null,
   "metadata": {},
   "outputs": [],
   "source": [
    "df.iloc[0:2,3] = 1\n",
    "df"
   ]
  },
  {
   "cell_type": "markdown",
   "metadata": {},
   "source": [
    "Não eventualidade de não saber quais são os índices deve recorrer ao método `index`, que retorna os índices correspondentes os quais poderão ser posteriormente usados pelo método `loc`."
   ]
  },
  {
   "cell_type": "code",
   "execution_count": null,
   "metadata": {},
   "outputs": [],
   "source": [
    "index = df[df['extensao']>2000].index\n",
    "index"
   ]
  },
  {
   "cell_type": "code",
   "execution_count": null,
   "metadata": {},
   "outputs": [],
   "source": [
    "df.loc[index,'corVerde'] = 0\n",
    "df"
   ]
  },
  {
   "cell_type": "markdown",
   "metadata": {},
   "source": [
    "<hr>"
   ]
  },
  {
   "cell_type": "markdown",
   "metadata": {},
   "source": [
    "#### By Row"
   ]
  },
  {
   "cell_type": "markdown",
   "metadata": {},
   "source": [
    "A atualização de vários valores, por coluna, obriga ao recurso dos seguintes comandos:"
   ]
  },
  {
   "cell_type": "markdown",
   "metadata": {},
   "source": [
    "- `loc[]`: indexação baseada na especificação dos rótulos (da linha) - `label-based`;\n",
    "- `iloc[]`: indexação baseada na especificação dos índices (daí termos a letra `i` no ínicio do comando) da linha - `index-based`."
   ]
  },
  {
   "cell_type": "code",
   "execution_count": null,
   "metadata": {},
   "outputs": [],
   "source": [
    "import pandas as pd\n",
    "\n",
    "df = pd.DataFrame(data,index=siglas)\n",
    "df"
   ]
  },
  {
   "cell_type": "markdown",
   "metadata": {},
   "source": [
    "O código seguinte recorre ao comando `loc` e à indexação baseada na especificação de rótulos para atualizar todos os valores da linha `UK` para \"nada\"."
   ]
  },
  {
   "cell_type": "code",
   "execution_count": null,
   "metadata": {},
   "outputs": [],
   "source": [
    "df.loc[\"UK\",:] = 1\n",
    "df"
   ]
  },
  {
   "cell_type": "markdown",
   "metadata": {},
   "source": [
    "O código seguinte recorre ao comando `iloc` para atualizar todos os dados da linha relativa ao \"UK\" através da especificação dos índices correspondentes, no caso, a linha 4."
   ]
  },
  {
   "cell_type": "code",
   "execution_count": null,
   "metadata": {},
   "outputs": [],
   "source": [
    "df.iloc[4,:] = \"nada\"\n",
    "df"
   ]
  },
  {
   "cell_type": "markdown",
   "metadata": {},
   "source": [
    "Naturalmente podemos atualizar os valores de uma linha num conjunto de colunas específico:"
   ]
  },
  {
   "cell_type": "code",
   "execution_count": null,
   "metadata": {},
   "outputs": [],
   "source": [
    "df.iloc[4,2:4] = 2018 #na eventualidade de querermos atribuir valores distintos fariamos = 2018, 4000\n",
    "df"
   ]
  },
  {
   "cell_type": "markdown",
   "metadata": {},
   "source": [
    "## Rename Column Names"
   ]
  },
  {
   "cell_type": "markdown",
   "metadata": {},
   "source": [
    "Vamos começar por definir o dataframe."
   ]
  },
  {
   "cell_type": "code",
   "execution_count": null,
   "metadata": {},
   "outputs": [],
   "source": [
    "import pandas as pd\n",
    "\n",
    "data = {'nome': ['Argentina','Brasil','França','Itália','Reino Unido'],\n",
    "         'continente': ['América','América','Europa','Europa','Europa'],\n",
    "         'extensao': [2780,8511,644,301,244],\n",
    "         'corVerde': [0,1,0,1,0]\n",
    "}\n",
    "\n",
    "siglas = ['AR','BR','FR','IT','UK']\n",
    "\n",
    "df = pd.DataFrame(data,index=siglas)\n",
    "df"
   ]
  },
  {
   "cell_type": "markdown",
   "metadata": {},
   "source": [
    "### Method 1: Rename Specific Columns"
   ]
  },
  {
   "cell_type": "markdown",
   "metadata": {},
   "source": [
    "O método `rename` permite alterar o nome de uma ou mais colunas."
   ]
  },
  {
   "cell_type": "markdown",
   "metadata": {},
   "source": [
    "Vamos começar por listar o número de colunas."
   ]
  },
  {
   "cell_type": "code",
   "execution_count": null,
   "metadata": {},
   "outputs": [],
   "source": [
    "df.columns"
   ]
  },
  {
   "cell_type": "markdown",
   "metadata": {},
   "source": [
    "De seguida procedemos à alteração no nome das colunas:"
   ]
  },
  {
   "cell_type": "code",
   "execution_count": null,
   "metadata": {},
   "outputs": [],
   "source": [
    "df.rename(columns = {'nome':'name', 'corVerde': 'Green'}, inplace=True)\n",
    "df"
   ]
  },
  {
   "cell_type": "markdown",
   "metadata": {},
   "source": [
    "### Method 2: Rename All Columns"
   ]
  },
  {
   "cell_type": "markdown",
   "metadata": {},
   "source": [
    "E se pretendermos alterar o nome de todas as colunas de uma só vez? "
   ]
  },
  {
   "cell_type": "code",
   "execution_count": null,
   "metadata": {},
   "outputs": [],
   "source": [
    "ColumnsNames = [\"name\",\"continent\",\"extension\",\"Green\"]\n",
    "df.columns = ColumnsNames\n",
    "df"
   ]
  },
  {
   "cell_type": "markdown",
   "metadata": {},
   "source": [
    "### Method 3: Replace Specific Characters in Columns"
   ]
  },
  {
   "cell_type": "markdown",
   "metadata": {},
   "source": [
    "Suponha agora que os nomes das colunas têm espaços (como é o caso do `nome do país` e `cor Verde`)."
   ]
  },
  {
   "cell_type": "code",
   "execution_count": null,
   "metadata": {},
   "outputs": [],
   "source": [
    "import pandas as pd\n",
    "\n",
    "df = pd.DataFrame(data,index=siglas)\n",
    "df"
   ]
  },
  {
   "cell_type": "markdown",
   "metadata": {},
   "source": [
    "Para alterar o nome das colunas, substituindo o espaço por `_` basta fazer uso de `str`:"
   ]
  },
  {
   "cell_type": "code",
   "execution_count": null,
   "metadata": {},
   "outputs": [],
   "source": [
    "df.columns = df.columns.str.replace(\" \", \"_\")\n",
    "df"
   ]
  },
  {
   "cell_type": "markdown",
   "metadata": {},
   "source": [
    "<hr>"
   ]
  },
  {
   "cell_type": "markdown",
   "metadata": {},
   "source": [
    "## Drop"
   ]
  },
  {
   "cell_type": "markdown",
   "metadata": {},
   "source": [
    "Em pandas o comando Drop é usado para remover linhas ou colunas de um dataframe. A ausência de um comando específico para linhas e colunas obriga à existência do parâmetro `axis`. Assim, `axis = 0` ou `axis = rows`, default value, é usado para as linhas, enquanto `axis = 1` ou `axis = columns` é usado para as colunas."
   ]
  },
  {
   "cell_type": "code",
   "execution_count": null,
   "metadata": {},
   "outputs": [],
   "source": [
    "import pandas as pd\n",
    "\n",
    "data = {'nome': ['Argentina','Brasil','França','Itália','Reino Unido'],\n",
    "         'continente': ['América','América','Europa','Europa','Europa'],\n",
    "         'extensao': [2780,8511,644,301,244],\n",
    "         'corVerde': [0,1,0,1,0]\n",
    "}\n",
    "\n",
    "siglas = ['AR','BR','FR','IT','UK']\n",
    "\n",
    "df = pd.DataFrame(data,index=siglas)\n",
    "df"
   ]
  },
  {
   "cell_type": "markdown",
   "metadata": {},
   "source": [
    "### Row"
   ]
  },
  {
   "cell_type": "markdown",
   "metadata": {},
   "source": [
    "#### Method 1: Drop Rows by Label"
   ]
  },
  {
   "cell_type": "markdown",
   "metadata": {},
   "source": [
    "Se tiver conhecimento dos índices dos objetos a serem excluídos, então a operação pode ser feita de maneira trivial, com o uso do método `drop()`. Como referido anteriormente, o valor de default para o axis é `axis = 0` e refere-se às linhas. Assim ao invés de recorrermos ao comando `df.drop(['AR'], axis = 0)` podemos usar, de forma mais simples, o seguinte comando:"
   ]
  },
  {
   "cell_type": "code",
   "execution_count": null,
   "metadata": {},
   "outputs": [],
   "source": [
    "df.drop(['AR'])"
   ]
  },
  {
   "cell_type": "markdown",
   "metadata": {},
   "source": [
    "Observe no entanto que a eliminação da coluna em especifico não tem efeitos práticos no dataframe."
   ]
  },
  {
   "cell_type": "code",
   "execution_count": null,
   "metadata": {},
   "outputs": [],
   "source": [
    "df"
   ]
  },
  {
   "cell_type": "markdown",
   "metadata": {},
   "source": [
    "Na eventualidade de querer eliminar permanemente esses valores, deve recorrer ao `inplace`. O código seguinte elimina as duas linhas referentes aos países AR e UK."
   ]
  },
  {
   "cell_type": "code",
   "execution_count": null,
   "metadata": {},
   "outputs": [],
   "source": [
    "df.drop(['AR','UK'], inplace = True)\n",
    "df"
   ]
  },
  {
   "cell_type": "markdown",
   "metadata": {},
   "source": [
    "#### Method 2: Drop Rows by Index Number"
   ]
  },
  {
   "cell_type": "markdown",
   "metadata": {},
   "source": [
    "Podemos também remover em função dos índices. Comecemos por definir o dataframe."
   ]
  },
  {
   "cell_type": "code",
   "execution_count": null,
   "metadata": {},
   "outputs": [],
   "source": [
    "import pandas as pd\n",
    "\n",
    "df = pd.DataFrame(data,index=siglas)\n",
    "df"
   ]
  },
  {
   "cell_type": "markdown",
   "metadata": {},
   "source": [
    "De seguida vamos remover as linhas 1 e 3 com recurso ao `df.index`:"
   ]
  },
  {
   "cell_type": "code",
   "execution_count": null,
   "metadata": {},
   "outputs": [],
   "source": [
    "df.drop(df.index[[1,3]], inplace = True)\n",
    "df"
   ]
  },
  {
   "cell_type": "markdown",
   "metadata": {},
   "source": [
    "Podemos remover o primeiro index (o mesmo o último [-1]). Note-se que no código seguinte não estamos a usar o `inplace`."
   ]
  },
  {
   "cell_type": "code",
   "execution_count": null,
   "metadata": {},
   "outputs": [],
   "source": [
    "df.drop(df.index[0])"
   ]
  },
  {
   "cell_type": "markdown",
   "metadata": {},
   "source": [
    "E podemos também especificar um range."
   ]
  },
  {
   "cell_type": "code",
   "execution_count": null,
   "metadata": {},
   "outputs": [],
   "source": [
    "df.drop(df.index[1:])"
   ]
  },
  {
   "cell_type": "markdown",
   "metadata": {},
   "source": [
    "#### Method 3: Drop Rows by Checking Conditions"
   ]
  },
  {
   "cell_type": "markdown",
   "metadata": {},
   "source": [
    "Em alternativa à definição do conjunto de linhas a eliminar pode optar por proceder à especificação de critérios que determinam quais as linhas a remover. "
   ]
  },
  {
   "cell_type": "code",
   "execution_count": null,
   "metadata": {},
   "outputs": [],
   "source": [
    "import pandas as pd\n",
    "\n",
    "df = pd.DataFrame(data,index=siglas)\n",
    "df"
   ]
  },
  {
   "cell_type": "markdown",
   "metadata": {},
   "source": [
    "Recorra ao método `drop`, passando-lhe como parâmetro os índices (`index`) dos elementos que pretendemos remover (com recurso a condições, no caso pretendemos remover todos os elementos cujo continente é américa). Para que o resultado da eliminação do dataframe seja efetivo especifique também o parâmetro `inplace = True`."
   ]
  },
  {
   "cell_type": "code",
   "execution_count": null,
   "metadata": {},
   "outputs": [],
   "source": [
    "df.drop(df[df[\"continente\"]==\"América\"].index, inplace = True)\n",
    "df"
   ]
  },
  {
   "cell_type": "markdown",
   "metadata": {},
   "source": [
    "Uma outra alternativa passa por recorrer ao método `loc()`. Porém, é preciso muita atenção, pois devemos criar um teste lógico para determinar os objetos que deverão permanecer no DataFrame e não os que vão sair. Observe o exemplo a seguir, que remove todos os países que não pertençam ao continente Americano e não possuam a cor verde na sua bandeira."
   ]
  },
  {
   "cell_type": "code",
   "execution_count": null,
   "metadata": {},
   "outputs": [],
   "source": [
    "import pandas as pd\n",
    "\n",
    "df = pd.DataFrame(data,index=siglas)\n",
    "df"
   ]
  },
  {
   "cell_type": "code",
   "execution_count": null,
   "metadata": {},
   "outputs": [],
   "source": [
    "df = df.loc[(df['continente'] == \"América\") & (df['corVerde'] == 1)]\n",
    "df"
   ]
  },
  {
   "cell_type": "markdown",
   "metadata": {},
   "source": [
    "<hr>"
   ]
  },
  {
   "cell_type": "markdown",
   "metadata": {},
   "source": [
    "### Column"
   ]
  },
  {
   "cell_type": "code",
   "execution_count": null,
   "metadata": {},
   "outputs": [],
   "source": [
    "import pandas as pd\n",
    "\n",
    "data = {'nome': ['Argentina','Brasil','França','Itália','Reino Unido'],\n",
    "         'continente': ['América','América','Europa','Europa','Europa'],\n",
    "         'extensao': [2780,8511,644,301,244],\n",
    "         'corVerde': [0,1,0,1,0]\n",
    "}\n",
    "\n",
    "siglas = ['AR','BR','FR','IT','UK']\n",
    "\n",
    "df = pd.DataFrame(data,index=siglas)\n",
    "df"
   ]
  },
  {
   "cell_type": "markdown",
   "metadata": {},
   "source": [
    "#### Method 1: Delete column with pandas drop and axis=1"
   ]
  },
  {
   "cell_type": "markdown",
   "metadata": {},
   "source": [
    "A elimininação dos valores de uma coluna obriga à especificação do eixo (`axis = 1` ou `axis = 'columns'`)."
   ]
  },
  {
   "cell_type": "code",
   "execution_count": null,
   "metadata": {},
   "outputs": [],
   "source": [
    "df.drop(['corVerde'], axis = 1, inplace = True)\n",
    "df"
   ]
  },
  {
   "cell_type": "markdown",
   "metadata": {},
   "source": [
    "O código abaixo exemplifica como se podem eliminar duas colunas:"
   ]
  },
  {
   "cell_type": "code",
   "execution_count": null,
   "metadata": {},
   "outputs": [],
   "source": [
    "import pandas as pd\n",
    "\n",
    "df = pd.DataFrame(data,index=siglas)\n",
    "df"
   ]
  },
  {
   "cell_type": "code",
   "execution_count": null,
   "metadata": {},
   "outputs": [],
   "source": [
    "df.drop(['extensao','corVerde'], axis = 1, inplace = True)\n",
    "df"
   ]
  },
  {
   "cell_type": "markdown",
   "metadata": {},
   "source": [
    "#### Method 2: Delete column with pandas drop “columns” parameter"
   ]
  },
  {
   "cell_type": "markdown",
   "metadata": {},
   "source": [
    "Podemos recorrer ao parâmetro `columns`"
   ]
  },
  {
   "cell_type": "code",
   "execution_count": null,
   "metadata": {},
   "outputs": [],
   "source": [
    "import pandas as pd\n",
    "\n",
    "df = pd.DataFrame(data,index=siglas)\n",
    "df"
   ]
  },
  {
   "cell_type": "code",
   "execution_count": null,
   "metadata": {},
   "outputs": [],
   "source": [
    "# Delete a single named column from the DataFrame\n",
    "df.drop(columns=\"corVerde\")"
   ]
  },
  {
   "cell_type": "code",
   "execution_count": null,
   "metadata": {},
   "outputs": [],
   "source": [
    "# Delete multiple named columns from the DataFrame\n",
    "df.drop(columns=[\"extensao\", \"corVerde\"])"
   ]
  },
  {
   "cell_type": "markdown",
   "metadata": {},
   "source": [
    "<hr>"
   ]
  },
  {
   "cell_type": "markdown",
   "metadata": {},
   "source": [
    "# Reshaping Dataframes <a class=\"tocSkip\">"
   ]
  },
  {
   "cell_type": "markdown",
   "metadata": {},
   "source": [
    "Notebook partly based on: https://towardsdatascience.com/reshaping-a-pandas-dataframe-long-to-wide-and-vice-versa-517c7f0995ad and https://towardsdatascience.com/how-to-reshape-a-pandas-dataframe-98b42c428a8"
   ]
  },
  {
   "cell_type": "markdown",
   "metadata": {},
   "source": [
    "# Reshaping Dataframes"
   ]
  },
  {
   "cell_type": "markdown",
   "metadata": {},
   "source": [
    "## How do I want my data to look like?"
   ]
  },
  {
   "cell_type": "markdown",
   "metadata": {},
   "source": [
    "`in what format should I want my data?`"
   ]
  },
  {
   "cell_type": "markdown",
   "metadata": {},
   "source": [
    "Obviously this question is subjective, but there is a good standard definition for a “tidy” dataset to which we might aspire:\n",
    "- Each variable forms a column.\n",
    "- Each observation forms a row."
   ]
  },
  {
   "cell_type": "markdown",
   "metadata": {},
   "source": [
    "Note that the question of what forms an “observation” depends on the analysis you plan to run (which depends on the answer you seek to ask! See! EVERYTHING ALWAYS COMES BACK TO THE QUESTION YOU ARE SEEKING TO ANSWER!). "
   ]
  },
  {
   "cell_type": "markdown",
   "metadata": {},
   "source": [
    "Suppose you have a dataframe that reports the sales of computer games over the world (with shape `(1034,10)`):"
   ]
  },
  {
   "cell_type": "markdown",
   "metadata": {},
   "source": [
    "<img src=\"https://www.di.ubi.pt/~rcampos/assets/img_tutorials/DataScience/PandasReshaping_v1.jpg\" width=\"600\" height=\"600\" align=\"center\"/>"
   ]
  },
  {
   "cell_type": "markdown",
   "metadata": {},
   "source": [
    "It has got 1034 rows for all games and 10 columns. Why did I choose this format? Because often real-world data comes in this shape. For example, when recording this dataset, let’s say we want to add a new region. There are 1034 games and if you don’t add the new region as a new column, you would have to write out 1034 games once again adding 1034 more rows to the dataset (as we will see for the long-format). Adding new observations as new columns in this format is very handy for people who are recording this data."
   ]
  },
  {
   "cell_type": "markdown",
   "metadata": {},
   "source": [
    "We can observe that each observation is a game and each column is a feature."
   ]
  },
  {
   "cell_type": "markdown",
   "metadata": {},
   "source": [
    "<img src=\"https://www.di.ubi.pt/~rcampos/assets/img_tutorials/DataScience/PandasReshaping4_v2.jpg\" width=\"600\" height=\"600\" align=\"center\"/>"
   ]
  },
  {
   "cell_type": "markdown",
   "metadata": {},
   "source": [
    "That is:\n",
    "- Each feature is in a separate column\n",
    "- Each row contains many features of the same game"
   ]
  },
  {
   "cell_type": "markdown",
   "metadata": {},
   "source": [
    "<img src=\"https://www.di.ubi.pt/~rcampos/assets/img_tutorials/DataScience/PandasReshaping3_v1.jpg\" width=\"600\" height=\"600\" align=\"center\"/>"
   ]
  },
  {
   "cell_type": "markdown",
   "metadata": {},
   "source": [
    "These are distinctive features of a **wide** format. This format is preferred to do: \n",
    "- simple statistics, such as calculating the mean; \n",
    "- imputing missing values; \n",
    "- demonstrate the relationship between columns; \n",
    "- or do time series operations with the variables."
   ]
  },
  {
   "cell_type": "markdown",
   "metadata": {},
   "source": [
    "For instance, calculating the mean of sales for each game for `North America`, `Europe`, `Japan` and the `Rest of World` turns out to be possible with this format."
   ]
  },
  {
   "cell_type": "markdown",
   "metadata": {},
   "source": [
    "Now, when looking at the numerical features, we can observe that a few of the columns refer to the very same thing, that is, to the sales of games in different regions (`North America`, `Europe`, `Japan` and the `Rest of World`). `Global` is another story, since it is the sum of the four previous columns and does not represent a region per se."
   ]
  },
  {
   "cell_type": "markdown",
   "metadata": {},
   "source": [
    "<img src=\"https://www.di.ubi.pt/~rcampos/assets/img_tutorials/DataScience/PandasReshaping5.jpg\" width=\"600\" height=\"600\" align=\"center\"/>"
   ]
  },
  {
   "cell_type": "markdown",
   "metadata": {},
   "source": [
    "In such scenarios it may make sense to represent the regions in one unique column, especially in cases when one wants to do an analysis of the sales per game and region. By looking at the following figure we can observe that the shape of the dataframe has gone from a **wide-format** (left-hand side of the figure) of `(1034,10)` to a **long-format** (right-hand side of the figure) of `(4136,7)`."
   ]
  },
  {
   "cell_type": "markdown",
   "metadata": {},
   "source": [
    "Each row now represents one feature (region) of a game which justifies the fact that we have gone from `1034` to `4136` columns, since we have 4 regions (`North America`, `Europe`, `Japan` and the `Rest of World`) per 1034 games, which accounts for `4 * 1034 = 4136`. Though we only have 1034 games (items), we have a total of 4136 rows, making the dataframe a `long` shape.\n",
    "\n",
    "Naturally, we have also seen the number of columns reduced from 10 to 7, that is, from `North America`, `Europe`, `Japan` and the `Rest of World` to `Region` and the numeric column `Sales`."
   ]
  },
  {
   "cell_type": "markdown",
   "metadata": {},
   "source": [
    "<img src=\"https://www.di.ubi.pt/~rcampos/assets/img_tutorials/DataScience/PandasReshaping6.jpg\" width=\"600\" height=\"600\" align=\"center\"/>"
   ]
  },
  {
   "cell_type": "markdown",
   "metadata": {},
   "source": [
    "Let's take a closer look at the `Grand Theft Auto V` game:"
   ]
  },
  {
   "cell_type": "markdown",
   "metadata": {},
   "source": [
    "<img src=\"https://www.di.ubi.pt/~rcampos/assets/img_tutorials/DataScience/PandasReshaping7.jpg\" width=\"600\" height=\"600\" align=\"center\"/>"
   ]
  },
  {
   "cell_type": "markdown",
   "metadata": {},
   "source": [
    "- Each row now represents one feature (region) of a game\n",
    "- Multiple rows for each game. One for each feature (region)."
   ]
  },
  {
   "cell_type": "markdown",
   "metadata": {},
   "source": [
    "These are typical characteristics of the **long** format that is usually seen as the standard for a tidy dataset. It is commonly the preferred format because it can better summarize data. It has a **structure of key-value pair**, and **many advance graphing and analysis techniques require data in this format**."
   ]
  },
  {
   "cell_type": "markdown",
   "metadata": {},
   "source": [
    "With this we can easily determine the mean of the sales, or the mean of the sales grouped by region, create a boxplot to the distribution of the sales per each region (or per any other feature) or the correlation between the numerical features."
   ]
  },
  {
   "cell_type": "markdown",
   "metadata": {},
   "source": [
    "<img src=\"https://www.di.ubi.pt/~rcampos/assets/img_tutorials/DataScience/PandasReshaping8.jpg\" width=\"600\" height=\"600\" align=\"center\"/>"
   ]
  },
  {
   "cell_type": "markdown",
   "metadata": {},
   "source": [
    "## Wide or Long?"
   ]
  },
  {
   "cell_type": "markdown",
   "metadata": {},
   "source": [
    "As a data scientist, some parts of your analysis will require data to be **long-form**, but others will only work with **wide data**. To decide between using long or wide format think which is the unit of analysis. "
   ]
  },
  {
   "cell_type": "markdown",
   "metadata": {},
   "source": [
    "If you plan to do a game-level analysis using measures of, say, USD sales over each region, then each **row should be a game**, that is **wide-format**! Instead, if you plan to run an analysis where each observation is a game-region, then each row should be a game-feature, that is, **long-format**."
   ]
  },
  {
   "cell_type": "markdown",
   "metadata": {},
   "source": [
    "For the **wide format**, you are interested in **each game**. For the **long format**, you are always interested in each **characteristic/feature of a game**. "
   ]
  },
  {
   "cell_type": "markdown",
   "metadata": {},
   "source": [
    "Reshaping a pandas dataframe is one of the most common data wrangling tasks in the data analysis world. It can be defined as converting data from wide to long format and vice versa. So, how do we convert from a wide to a long format or from a long to a wide format? Let’s see some of the tools available in Pandas."
   ]
  },
  {
   "cell_type": "markdown",
   "metadata": {},
   "source": [
    "## From wide to long"
   ]
  },
  {
   "cell_type": "markdown",
   "metadata": {},
   "source": [
    "To reshape a dataframe from wide to long, we can use Pandas’ `pd.melt()` method. I will start by creating a 1x1 dataframe that holds a city name and a temperature for a single day. Then, I will call `melt()` on it to see what effect it has:"
   ]
  },
  {
   "cell_type": "code",
   "execution_count": null,
   "metadata": {},
   "outputs": [],
   "source": [
    "import pandas as pd\n",
    "\n",
    "df = pd.DataFrame({'New York': [25]})\n",
    "df"
   ]
  },
  {
   "cell_type": "code",
   "execution_count": null,
   "metadata": {},
   "outputs": [],
   "source": [
    "df.melt()"
   ]
  },
  {
   "cell_type": "markdown",
   "metadata": {},
   "source": [
    "So, without any parameters `melt()` takes a column and turns it into a row with two new columns (excluding the index). Let's add two more cities as columns:"
   ]
  },
  {
   "cell_type": "code",
   "execution_count": null,
   "metadata": {},
   "outputs": [],
   "source": [
    "df = pd.DataFrame({'New york': [25], 'Paris': [27], 'London': [30]})\n",
    "df"
   ]
  },
  {
   "cell_type": "markdown",
   "metadata": {},
   "source": [
    "If you notice, this type of format for dataframes are not easy to work with. What would be ideal is to take the columns and turn them into rows with their temperature values on the right side:"
   ]
  },
  {
   "cell_type": "code",
   "execution_count": null,
   "metadata": {},
   "outputs": [],
   "source": [
    "df.melt()"
   ]
  },
  {
   "cell_type": "markdown",
   "metadata": {},
   "source": [
    "Let’s add more temperatures for the cities:"
   ]
  },
  {
   "cell_type": "code",
   "execution_count": null,
   "metadata": {},
   "outputs": [],
   "source": [
    "import pandas as pd\n",
    "\n",
    "df = pd.DataFrame({\n",
    "    'New york': [25, 27, 23, 25, 29],\n",
    "    'Paris': [27, 22, 24, 26, 28],\n",
    "    'London': [30, 31, 33, 29, 25]})\n",
    "df"
   ]
  },
  {
   "cell_type": "markdown",
   "metadata": {},
   "source": [
    "What do you think will happen if we call `melt()` on this version of the dataframe? Watch:"
   ]
  },
  {
   "cell_type": "code",
   "execution_count": null,
   "metadata": {},
   "outputs": [],
   "source": [
    "df.melt()"
   ]
  },
  {
   "cell_type": "markdown",
   "metadata": {},
   "source": [
    "Just like expected, it converts each column value into a row. For example, let’s take a key-value pair. New York’s temperatures are [25, 27, 23, 25, 29]. This means there are 5 key-value pairs and when we use `melt()`, pandas takes each of those pairs and displays them as a single row with two columns. After pandas is done with New York, it moves on to other columns."
   ]
  },
  {
   "cell_type": "markdown",
   "metadata": {},
   "source": [
    "When `melt()` displays each key-value pair in two columns, it gives the columns default names which are variable and value. It is possible to change them to something that makes more sense. `var_name` and `value_name` can be used to change the labels of the melted dataframe's columns."
   ]
  },
  {
   "cell_type": "code",
   "execution_count": null,
   "metadata": {},
   "outputs": [],
   "source": [
    "df.melt(var_name='city', value_name='temperature')"
   ]
  },
  {
   "cell_type": "markdown",
   "metadata": {},
   "source": [
    "Now, let’s get a little serious. Say we have this dataframe:"
   ]
  },
  {
   "cell_type": "code",
   "execution_count": null,
   "metadata": {},
   "outputs": [],
   "source": [
    "df = pd.DataFrame({\n",
    "    'city': ['New York', 'London', 'Paris', 'Berlin', 'Amsterdam'],\n",
    "    'day1': [23, 25, 27, 26, 24],\n",
    "    'day2': [22, 21, 25, 26, 23],\n",
    "    'day3': [26, 25, 24, 27, 23],\n",
    "    'day4': [23, 21, 22, 26, 27],\n",
    "    'day5': [27, 26, 27, 24, 28]\n",
    "})\n",
    "df"
   ]
  },
  {
   "cell_type": "markdown",
   "metadata": {},
   "source": [
    "This time, we already have the cities as a column. This dataset holds temperature information for 5 cities for 5 days. With this structure we can for example compute the mean of the temperatures per city."
   ]
  },
  {
   "cell_type": "code",
   "execution_count": null,
   "metadata": {},
   "outputs": [],
   "source": [
    "df['avg temp'] = df.iloc[:,1:6].mean(axis=1)\n",
    "df"
   ]
  },
  {
   "cell_type": "markdown",
   "metadata": {},
   "source": [
    "But still, this type of format for tables are not useful to work with. For instance, we cannot create a boxplot to see the distribution of the temperature values per day. Let’s try melting the dataframe (but before lets drop the avf temp column)."
   ]
  },
  {
   "cell_type": "code",
   "execution_count": null,
   "metadata": {},
   "outputs": [],
   "source": [
    "df.drop('avg temp', axis=1, inplace=True)"
   ]
  },
  {
   "cell_type": "code",
   "execution_count": null,
   "metadata": {},
   "outputs": [],
   "source": [
    "df.melt()"
   ]
  },
  {
   "cell_type": "markdown",
   "metadata": {},
   "source": [
    "This is not what we want, `melt()` turned the city names into rows too. What would be ideal is if we kept the cities as columns and append the remaining columns as rows. `melt()` has a parameter called `id_vars` to do just that.  `var_name` is the name for the variable column; `value_name` is the name for the value column."
   ]
  },
  {
   "cell_type": "markdown",
   "metadata": {},
   "source": [
    "However other parameters  might also be important here:\n",
    "- `id_vars` stands for identity variables. This argument takes the names of the columns to use as identifier variables. In our case, the value we want to use as identifiers is the city column.\n",
    "\n",
    "- `value_vars` the columns to be unpivoted. The value_vars argument takes the names of the columns we want to melt. This can be only one column or a list of many columns. We want the columns with data about tempratures in the different days as columns to melt (day1,...,day5). Note that although we set them below, the fact is that there is no need to specify them in this case as all the numerical columns are used to this purpose.\n",
    "\n",
    "- `var_name` name for the variable column. The var_name argument takes the name to use for the column variable. In our case, we will name it day. \n",
    "\n",
    "- `value_name` name for the value column.  It takes the name to use for the column value. We want it to be named temperature."
   ]
  },
  {
   "cell_type": "markdown",
   "metadata": {},
   "source": [
    "<img src=\"https://www.di.ubi.pt/~rcampos/assets/img_tutorials/DataScience/PandasReshaping9.jpg\" width=\"600\" height=\"600\" align=\"center\"/>"
   ]
  },
  {
   "cell_type": "code",
   "execution_count": null,
   "metadata": {},
   "outputs": [],
   "source": [
    "df_long = df.melt(id_vars=['city'], value_vars=['day1','day2','day3','day4','day5'], var_name='day', value_name='temperature')\n",
    "df_long"
   ]
  },
  {
   "cell_type": "markdown",
   "metadata": {},
   "source": [
    "we can now plot the graph:"
   ]
  },
  {
   "cell_type": "code",
   "execution_count": null,
   "metadata": {},
   "outputs": [],
   "source": [
    "import seaborn as sns\n",
    "from matplotlib import pyplot as plt\n",
    "\n",
    "sns.boxplot(data=df_long,x='day', y='temperature')\n",
    "plt.title(\"Distribution of temperature per day\")\n",
    "plt.show()"
   ]
  },
  {
   "cell_type": "markdown",
   "metadata": {},
   "source": [
    "## From long to wide"
   ]
  },
  {
   "cell_type": "markdown",
   "metadata": {},
   "source": [
    "The `.pivot()` method allows us to reshape the data from a long to a wide format. The pivot method takes three arguments:"
   ]
  },
  {
   "cell_type": "markdown",
   "metadata": {},
   "source": [
    "<img src=\"https://www.di.ubi.pt/~rcampos/assets/img_tutorials/DataScience/PandasReshaping10.jpg\" width=\"600\" height=\"600\" align=\"center\"/>"
   ]
  },
  {
   "cell_type": "markdown",
   "metadata": {},
   "source": [
    "- The `index` argument takes the name of the column we want to have as an index in the new pivoted DataFrame.\n",
    "- The `columns` argument takes the name of the column we want to have as each column in the new DataFrame.\n",
    "- Finally, the `values` argument takes the name of the column which values we want to populate the new pivoted DataFrame. This is an optional argument. If we specify it, it will only pivot the specified columns. if not pass, it will pivot all columns."
   ]
  },
  {
   "cell_type": "markdown",
   "metadata": {},
   "source": [
    "Let’s pivot the DataFrame and see the output:"
   ]
  },
  {
   "cell_type": "code",
   "execution_count": null,
   "metadata": {},
   "outputs": [],
   "source": [
    "df_wide = df_long.pivot(index=['city'], columns=['day'], values='temperature')\n",
    "df_wide"
   ]
  },
  {
   "cell_type": "markdown",
   "metadata": {},
   "source": [
    "Notice how the columns have now a hierarchical index. To remove them, we can perform the following process:"
   ]
  },
  {
   "cell_type": "code",
   "execution_count": null,
   "metadata": {},
   "outputs": [],
   "source": [
    "#df_wide.columns = [tup[1] for tup in df_wide.columns.to_flat_index()]\n",
    "df_wide.reset_index(inplace=True)\n",
    "df_wide.rename_axis(None, axis=1, inplace=True)\n",
    "df_wide"
   ]
  },
  {
   "cell_type": "markdown",
   "metadata": {},
   "source": [
    "## Working with real data"
   ]
  },
  {
   "cell_type": "markdown",
   "metadata": {},
   "source": [
    "For this purpose, we will use the video games dataset introduced before. Begin by collecting it from kaggle: https://www.kaggle.com/datasets/sidtwr/videogames-sales-dataset and save it under the data folder."
   ]
  },
  {
   "cell_type": "code",
   "execution_count": null,
   "metadata": {},
   "outputs": [],
   "source": [
    "import pandas as pd\n",
    "df = pd.read_csv('data/PS4_GamesSales.csv', encoding='ansi')\n",
    "df"
   ]
  },
  {
   "cell_type": "markdown",
   "metadata": {},
   "source": [
    "From the dataframe one can observe that a **wide-format** is being used. Lets start by determining the avg. sales for each of the 1034 games per region (`North America`, `Europe`, `Japan`, `Rest of World`)."
   ]
  },
  {
   "cell_type": "code",
   "execution_count": null,
   "metadata": {},
   "outputs": [],
   "source": [
    "df['Avg Sales'] = df.iloc[:,4:8].mean(axis = 1)\n",
    "df"
   ]
  },
  {
   "cell_type": "markdown",
   "metadata": {},
   "source": [
    "### Wide to Long"
   ]
  },
  {
   "cell_type": "markdown",
   "metadata": {},
   "source": [
    "Next, we convert from **wide** to **long** format. Note that the avg sales will not be considered as it only takes part of the wide format:"
   ]
  },
  {
   "cell_type": "code",
   "execution_count": null,
   "metadata": {},
   "outputs": [],
   "source": [
    "df_long = df.melt(id_vars=['Game','Year','Genre','Publisher','Global'], \n",
    "                  value_vars=['North America', 'Europe', 'Japan', 'Rest of World'], \n",
    "                  var_name='Region', \n",
    "                  value_name='Sales')\n",
    "df_long = df_long[['Game','Year','Genre','Publisher','Region','Sales','Global']] # To put the columns in the correct order\n",
    "df_long"
   ]
  },
  {
   "cell_type": "markdown",
   "metadata": {},
   "source": [
    "We can now perform some calculations. To start, we begin by determing the mean of the `Sales` column:"
   ]
  },
  {
   "cell_type": "code",
   "execution_count": null,
   "metadata": {},
   "outputs": [],
   "source": [
    "df_long['Sales'].mean()"
   ]
  },
  {
   "cell_type": "markdown",
   "metadata": {},
   "source": [
    "Next, we determine the mean of the `Sales` column by `Region`:"
   ]
  },
  {
   "cell_type": "code",
   "execution_count": null,
   "metadata": {},
   "outputs": [],
   "source": [
    "df_long[['Region','Sales']].groupby('Region').mean()"
   ]
  },
  {
   "cell_type": "markdown",
   "metadata": {},
   "source": [
    "Following, we determine the correlation between the numerical variables:"
   ]
  },
  {
   "cell_type": "code",
   "execution_count": null,
   "metadata": {},
   "outputs": [],
   "source": [
    "df_long.select_dtypes(['float64' , 'int64']).corr()"
   ]
  },
  {
   "cell_type": "markdown",
   "metadata": {},
   "source": [
    "Finally, we plot the distribution of sales per region in a boxplot:"
   ]
  },
  {
   "cell_type": "code",
   "execution_count": null,
   "metadata": {},
   "outputs": [],
   "source": [
    "#Plot two boxplots to compare dispersion\n",
    "import seaborn as sns\n",
    "from matplotlib import pyplot as plt\n",
    "\n",
    "plt.title(\"Distribution of Sales per Region\")\n",
    "\n",
    "sns.set(rc={'figure.figsize':(10,2)})\n",
    "sns.boxplot(data=df_long ,x='Region', y='Sales')\n",
    "plt.show()"
   ]
  },
  {
   "cell_type": "markdown",
   "metadata": {},
   "source": [
    "### Long to Wide"
   ]
  },
  {
   "cell_type": "markdown",
   "metadata": {},
   "source": [
    "Not lets convert from long to wide-format:"
   ]
  },
  {
   "cell_type": "code",
   "execution_count": null,
   "metadata": {},
   "outputs": [],
   "source": [
    "df_wide = df_long.pivot(index=['Game','Year','Genre','Publisher','Global'], columns=['Region'], values='Sales')\n",
    "df_wide"
   ]
  },
  {
   "cell_type": "markdown",
   "metadata": {},
   "source": [
    "Notice how the columns have now a hierarchical index. To remove them, we can performe the following process:"
   ]
  },
  {
   "cell_type": "code",
   "execution_count": null,
   "metadata": {},
   "outputs": [],
   "source": [
    "#df_wide.columns = [tup[1] for tup in df_wide.columns.to_flat_index()]\n",
    "df_wide.reset_index(inplace=True)\n",
    "df_wide.rename_axis(None, axis=1, inplace=True)\n",
    "df_wide"
   ]
  },
  {
   "cell_type": "markdown",
   "metadata": {},
   "source": [
    "# Bibliography"
   ]
  },
  {
   "cell_type": "markdown",
   "metadata": {},
   "source": [
    "- https://www.practicaldatascience.org/html/exercises/Exercise_reshaping.html#Exercises!\n",
    "- https://towardsdatascience.com/shape-tables-like-jelly-with-pandas-melt-and-pivot-f2e13e666d6\n",
    "- https://towardsdatascience.com/reshaping-a-pandas-dataframe-long-to-wide-and-vice-versa-517c7f0995ad\n",
    "- https://towardsdatascience.com/how-to-reshape-a-pandas-dataframe-98b42c428a8"
   ]
  }
 ],
 "metadata": {
  "kernelspec": {
   "display_name": "Python 3 (ipykernel)",
   "language": "python",
   "name": "python3"
  },
  "language_info": {
   "codemirror_mode": {
    "name": "ipython",
    "version": 3
   },
   "file_extension": ".py",
   "mimetype": "text/x-python",
   "name": "python",
   "nbconvert_exporter": "python",
   "pygments_lexer": "ipython3",
   "version": "3.11.7"
  },
  "toc": {
   "base_numbering": 1,
   "nav_menu": {
    "height": "91px",
    "width": "160px"
   },
   "number_sections": true,
   "sideBar": true,
   "skip_h1_title": false,
   "title_cell": "Table of Contents",
   "title_sidebar": "Contents",
   "toc_cell": true,
   "toc_position": {
    "height": "calc(100% - 180px)",
    "left": "10px",
    "top": "150px",
    "width": "256px"
   },
   "toc_section_display": true,
   "toc_window_display": true
  }
 },
 "nbformat": 4,
 "nbformat_minor": 4
}
