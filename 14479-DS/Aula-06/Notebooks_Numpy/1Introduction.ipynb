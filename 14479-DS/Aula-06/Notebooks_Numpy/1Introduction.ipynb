{
 "cells": [
  {
   "cell_type": "markdown",
   "metadata": {},
   "source": [
    "<div style=\"border: 1px solid black\">\n",
    "<b><center><font size=\"4\">Data Science</font></center></b>\n",
    "\n",
    "<b><center><font size=\"3\">Manipulation and Numerical Data Analysis with Numpy</font></center></b>\n",
    "\n",
    "<b><center><font size=\"2\">1 - Introduction</font></center></b>\n",
    "</div>"
   ]
  },
  {
   "cell_type": "markdown",
   "metadata": {},
   "source": [
    "**Notebook Developed by**: [Ricardo Campos](https://www.di.ubi.pt/~rcampos)<br>\n",
    "**email:**  ricardo.campos@ubi.pt<br>\n",
    "**Affiliation:** *Assistant Professor* @ [University of Beira Interior](http://www.ubi.pt);\n",
    "*Researcher* @ [LIAAD](https://www.inesctec.pt/en/centres/liaad)-[INESC TEC](https://www.inesctec.pt/en)\n",
    "\n",
    "<hr>\n",
    "\n",
    "<p><a href=\"1Introduction.ipynb\" title=\"Download Notebook\" download><img src=\"https://www.di.ubi.pt/~rcampos/assets/img_tutorials/download.jpg\" align = \"left\" width=\"50\" height=\"50\" alt=\"Download Notebook\"></a></p>\n",
    "<p>&nbsp;</p>\n",
    "<p>&nbsp;</p>\n",
    "\n",
    "<hr>"
   ]
  },
  {
   "cell_type": "markdown",
   "metadata": {
    "toc": true
   },
   "source": [
    "<h1>Table of Contents<span class=\"tocSkip\"></span></h1>\n",
    "<div class=\"toc\"><ul class=\"toc-item\"><li><span><a href=\"#Cheat-Sheet\" data-toc-modified-id=\"Cheat-Sheet-1\"><span class=\"toc-item-num\">1&nbsp;&nbsp;</span>Cheat Sheet</a></span></li><li><span><a href=\"#Numpy-vs-Lists\" data-toc-modified-id=\"Numpy-vs-Lists-2\"><span class=\"toc-item-num\">2&nbsp;&nbsp;</span>Numpy vs Lists</a></span></li><li><span><a href=\"#Vectorization\" data-toc-modified-id=\"Vectorization-3\"><span class=\"toc-item-num\">3&nbsp;&nbsp;</span>Vectorization</a></span><ul class=\"toc-item\"><li><span><a href=\"#Using-Regular-Pythoon-Tools\" data-toc-modified-id=\"Using-Regular-Pythoon-Tools-3.1\"><span class=\"toc-item-num\">3.1&nbsp;&nbsp;</span>Using Regular Pythoon Tools</a></span></li><li><span><a href=\"#Using-Numpy\" data-toc-modified-id=\"Using-Numpy-3.2\"><span class=\"toc-item-num\">3.2&nbsp;&nbsp;</span>Using Numpy</a></span></li><li><span><a href=\"#A-more-practical-example-for-vectorization\" data-toc-modified-id=\"A-more-practical-example-for-vectorization-3.3\"><span class=\"toc-item-num\">3.3&nbsp;&nbsp;</span>A more practical example for vectorization</a></span></li></ul></li></ul></div>"
   ]
  },
  {
   "cell_type": "markdown",
   "metadata": {},
   "source": [
    "# Numpy <a class=\"tocSkip\">\n",
    "O [Numpy](http://scipy.github.io/old-wiki/pages/Tentative_NumPy_Tutorial) é um módulo que disponibiliza vetores, matrizes e estruturas de dados multi-dimensionais em Python designadas por array. É implementado em C e Fortran e a sua performance é bastante boa, estando na base de vários outros pacotes de Python."
   ]
  },
  {
   "cell_type": "markdown",
   "metadata": {},
   "source": [
    "<div class=\"alert alert-success alertsuccess\" style=\"margin-top: 20px\">\n",
    "\n",
    "## Objetivos de aprendizagem  <a class=\"tocSkip\">\n",
    "    \n",
    "No final deste notebook o aluno deverá saber distinguir entre listas e arrays numpys, bem como saber paralelizar cálculos numéricos com recurso à vetorização.\n",
    "\n",
    "\n",
    "## Learning Objectives  <a class=\"tocSkip\">\n",
    "       \n",
    "When concluding this notebook, the student should know how to distinguish between lists and numpys arrays, as well as know how to parallelize numerical calculations using vectorization. </div>"
   ]
  },
  {
   "cell_type": "markdown",
   "metadata": {},
   "source": [
    "<div class=\"alert alert-success alertsuccess\" style=\"margin-top: 20px\">\n",
    "\n",
    "## Sumário  <a class=\"tocSkip\">\n",
    "### Vetorização <a class=\"tocSkip\">\n",
    "\n",
    "Introdução dos alunos ao numpy e à vetorização\n",
    "- listas vs numpy arrays\n",
    "- vetorização\n",
    "    \n",
    "## Class Summary  <a class=\"tocSkip\">\n",
    "### Vectorization <a class=\"tocSkip\">\n",
    "Introducing students to numpy and to vectorization\n",
    "- lists vs numpy arrays\n",
    "- vectorization\n",
    "\n",
    "</div>"
   ]
  },
  {
   "cell_type": "markdown",
   "metadata": {},
   "source": [
    "<img src=\"https://www.di.ubi.pt/~rcampos/assets/img_tutorials/DataScience/Numpy2.jpg\" width=\"700\" height=\"700\" align=\"center\"/>"
   ]
  },
  {
   "cell_type": "markdown",
   "metadata": {},
   "source": [
    "Source: https://towardsdatascience.com/numpy-a-data-science-perspective-python-for-aspiring-data-scientists-f37a0fe54a0c"
   ]
  },
  {
   "cell_type": "markdown",
   "metadata": {},
   "source": [
    "<hr>"
   ]
  },
  {
   "cell_type": "markdown",
   "metadata": {},
   "source": [
    "## Cheat Sheet"
   ]
  },
  {
   "cell_type": "code",
   "execution_count": null,
   "metadata": {
    "scrolled": true
   },
   "outputs": [],
   "source": [
    "from IPython.display import IFrame\n",
    "IFrame(\"https://s3.amazonaws.com/assets.datacamp.com/blog_assets/Numpy_Python_Cheat_Sheet.pdf\", width=800, height=600)"
   ]
  },
  {
   "cell_type": "markdown",
   "metadata": {},
   "source": [
    "<hr>"
   ]
  },
  {
   "cell_type": "markdown",
   "metadata": {},
   "source": [
    "## Numpy vs Lists"
   ]
  },
  {
   "cell_type": "markdown",
   "metadata": {},
   "source": [
    "Mas porquê não usar simplesmente as convencionais listas/arrays em Python ao invés de arrays numpy?\n",
    "\n",
    "Existem algumas razões para que isso não aconteça:\n",
    "\n",
    "* Listas em Python são dinamicamente tipadas, de uso bastante geral e podem conter qualquer tipo de objeto. Ao invés, arrays Numpy estaticamente tipados, ou seja, o tipo dos elementos é determinado quando o array é criado.\n",
    "* Listas em Python não suportam funções matemáticas como multiplicação e a adição de matrizes, etc. Por exemplo, quando multiplicamos `2 * alist`, onde `alist` é uma lista, não multiplicamos todos os valores de`alist` pelo número 2. O que acontece é que existe como que uma duplicação dos valores.\n",
    "- Eficiência Computacional: O NumPy é altamente otimizado para computação numérica, o que significa que operações em arrays NumPy são significativamente mais rápidas do que operações em listas Python. Isso é especialmente importante quando se lida com grandes conjuntos de dados.\n",
    "\n",
    "- Uso de Memória: Os arrays NumPy utilizam menos memória do que as listas Python, porque os tipos de dados são homogêneos, ou seja, todos os elementos têm o mesmo tipo de dados.\n",
    "\n",
    "- Vetorização: O NumPy permite realizar operações vetorizadas, o que significa que pode aplicar uma operação a um array inteiro numa única operação, sem a necessidade de loops explícitos em Python.\n",
    "\n",
    "- Funções Matemáticas Avançadas: O NumPy oferece uma ampla gama de funções matemáticas e estatísticas avançadas que são essenciais para tarefas científicas e de análise de dados.\n",
    "\n",
    "- Indexação Poderosa: O NumPy permite indexação avançada e fatiamento (slicing), facilitando a seleção e manipulação de partes específicas de arrays multidimensionais.\n",
    "\n",
    "- Integração com Outras Bibliotecas: O NumPy é amplamente utilizado em conjunto com outras bibliotecas científicas e de análise de dados, como SciPy, scikit-learn, Pandas e Matplotlib, o que facilita a integração em fluxos de trabalho de análise de dados.\n",
    "\n",
    "- Paralelismo: O NumPy pode ser usado em conjunto com bibliotecas que suportam computação paralela, como Dask, para aproveitar o poder de processadores multicore e GPUs."
   ]
  },
  {
   "cell_type": "code",
   "execution_count": null,
   "metadata": {},
   "outputs": [],
   "source": [
    "alist = [1, 2, 3]\n",
    "2 * alist"
   ]
  },
  {
   "cell_type": "markdown",
   "metadata": {},
   "source": [
    "Isto pode ser bastante útil, mas não se a intenção for multiplicar efetivamente os valores por 2. Nesse caso teremos que usar Numpy. Para usar o numpy é necessário importar o seguinte módulo:"
   ]
  },
  {
   "cell_type": "code",
   "execution_count": null,
   "metadata": {},
   "outputs": [],
   "source": [
    "import numpy as np"
   ]
  },
  {
   "cell_type": "markdown",
   "metadata": {},
   "source": [
    "Arrays numpy pode ser inicializados a partir de\n",
    "\n",
    "* uma lista ou tuplos em Python\n",
    "* Funções dedicadas a gerar arrays numpy, tais como `arange`, `linspace`, etc.\n",
    "* a partir de ficheiros"
   ]
  },
  {
   "cell_type": "markdown",
   "metadata": {},
   "source": [
    "## Vectorization"
   ]
  },
  {
   "cell_type": "markdown",
   "metadata": {},
   "source": [
    "One of the main reasons that numpy is the foundation of data science in Python is that it does numerical computations incredibly efficiently. Consider, for instance, the task of summing the integers 0 to 100M stored in an array. \n",
    "\n",
    "To illustrate, let's create a list with all the numbers from one to one hundred million and sum them up. We will do this twice - once using regular Python tools, and once using numpy. First, let's make a regular list with all of the numbers from 1 to 100,000,000 and a numpy array with all the numbers from 1 to 100,000,000:"
   ]
  },
  {
   "cell_type": "markdown",
   "metadata": {},
   "source": [
    "### Using Regular Pythoon Tools"
   ]
  },
  {
   "cell_type": "markdown",
   "metadata": {},
   "source": [
    "Lets see the time required to explicitly loop over the array in Python and tally up the sum. Python is unable to take advantage of the fact that the array’s contents are all of a single data type - it has to check, for every iteration, if it is dealing with an integer, a string, a floating point number, etc, just as it does when iterating over a list. This will slow down the computation massively."
   ]
  },
  {
   "cell_type": "code",
   "execution_count": 1,
   "metadata": {},
   "outputs": [
    {
     "name": "stdout",
     "output_type": "stream",
     "text": [
      "6.85 s ± 86.8 ms per loop (mean ± std. dev. of 7 runs, 1 loop each)\n"
     ]
    }
   ],
   "source": [
    "#sum an array by explicitly looping over the array in Python\n",
    "\n",
    "def sum_num():\n",
    "    total = 0\n",
    "    for i in range(100000000): # Make a regular Python list with all the numbers up to one hundred million\n",
    "        total += i\n",
    "    return total\n",
    "\n",
    "%timeit sum_num()"
   ]
  },
  {
   "cell_type": "markdown",
   "metadata": {},
   "source": [
    "### Using Numpy"
   ]
  },
  {
   "cell_type": "markdown",
   "metadata": {},
   "source": [
    "Let’s time how long it takes to compute this sum using the vectorized function `np.sum`"
   ]
  },
  {
   "cell_type": "code",
   "execution_count": 1,
   "metadata": {},
   "outputs": [
    {
     "name": "stdout",
     "output_type": "stream",
     "text": [
      "220 ms ± 18.2 ms per loop (mean ± std. dev. of 7 runs, 1 loop each)\n"
     ]
    }
   ],
   "source": [
    "#sum an array by explicitly looping over the array in Python\n",
    "\n",
    "import numpy as np\n",
    "\n",
    "def sum_num():\n",
    "    total = np.sum(np.arange(100000000))\n",
    "    return total\n",
    "\n",
    "%timeit sum_num()"
   ]
  },
  {
   "cell_type": "markdown",
   "metadata": {},
   "source": [
    "This should make it clear that, whenever computational efficiency is important, one should avoid performing explicit for-loops over long sequences of data in Python, be them lists or NumPy arrays. NumPy provides a whole suite of vectorized functions."
   ]
  },
  {
   "cell_type": "code",
   "execution_count": 2,
   "metadata": {},
   "outputs": [
    {
     "name": "stdout",
     "output_type": "stream",
     "text": [
      "[4 6 8]\n",
      "[ 2.   0.  -7.4]\n",
      "6\n"
     ]
    }
   ],
   "source": [
    "import numpy as np\n",
    "\n",
    "# multiply 2 with each number in the array\n",
    "print(2 * np.array([2, 3, 4]))\n",
    "\n",
    "# subtract the corresponding entries of the two arrays\n",
    "print(np.array([10.2, 3.5, -0.9]) - np.array([8.2, 3.5, 6.5]))\n",
    "\n",
    "# Take the \"dot product\" of the two arrays. \"dot product\" means: multiply their corresponding entries and sum the result\n",
    "print(np.dot(np.array([1, -3, 4]), np.array([2, 0, 1])))"
   ]
  },
  {
   "cell_type": "markdown",
   "metadata": {},
   "source": [
    "### A more practical example for vectorization"
   ]
  },
  {
   "cell_type": "markdown",
   "metadata": {},
   "source": [
    "Let’s create a more practical example for vectorization to see how much can be achieved in an everyday task. One such task might be calculating the great circle distance (GCD) of two points on earth, which can be done with the haversine formula. The formula involves trignometric operations, multiplications, square root, etc. so it might beneficial to use vectorization. Let’s have a look at a non-vectorized implementation in pure Python first. The function takes a row of data, which is a tuple of 4 elements: the latitude and longitude of two points, a and b in degrees. "
   ]
  },
  {
   "cell_type": "code",
   "execution_count": 3,
   "metadata": {},
   "outputs": [],
   "source": [
    "import math\n",
    "\n",
    "def haversine(row):\n",
    "    a_lat, a_lng, b_lat, b_lng = row\n",
    "    R = 6371     # earth radius in km\n",
    "\n",
    "    a_lat = math.radians(a_lat)\n",
    "    a_lng = math.radians(a_lng)\n",
    "    b_lat = math.radians(b_lat)\n",
    "    b_lng = math.radians(b_lng)\n",
    "\n",
    "    d_lat = b_lat - a_lat\n",
    "    d_lng = b_lng - a_lng\n",
    "\n",
    "    a = math.pow(math.sin(d_lat / 2), 2) + math.cos(a_lat) * math.cos(b_lat) * math.pow(math.sin(d_lng / 2), 2)\n",
    "    c = 2 * math.atan2(math.sqrt(a), math.sqrt(1 - a))\n",
    "\n",
    "    return R * c"
   ]
  },
  {
   "cell_type": "markdown",
   "metadata": {},
   "source": [
    "When we want to vectorize a function, we have to think about the layout of the data first and also about the calculations that are made. Not all calculations and algorithms can be vectorized efficiently. In our case, however, we are lucky since the input data can be split into columns as input vectors and all operations translate nicely into vectorized operations that are implemented in NumPy:"
   ]
  },
  {
   "cell_type": "markdown",
   "metadata": {},
   "source": [
    "This vectorized version includes the same calculations as the previous version, but instead of a row with four values that represent single origin and destination coordinates, it takes vectors (NumPy arrays) of origin latitudes, origin longitudes, destination latitudes and destination longitudes. Most of the math functions have the same name in NumPy, so we can easily switch from the non-vectorized functions from Python’s math module to NumPy’s versions."
   ]
  },
  {
   "cell_type": "code",
   "execution_count": 4,
   "metadata": {},
   "outputs": [],
   "source": [
    "import numpy as np\n",
    "\n",
    "def haversine_vectorized(a_lat, a_lng, b_lat, b_lng):\n",
    "    R = 6371  # earth radius in km\n",
    "\n",
    "    a_lat = np.radians(a_lat)\n",
    "    a_lng = np.radians(a_lng)\n",
    "    b_lat = np.radians(b_lat)\n",
    "    b_lng = np.radians(b_lng)\n",
    "\n",
    "    d_lat = b_lat - a_lat\n",
    "    d_lng = b_lng - a_lng\n",
    "\n",
    "    d_lat_sq = np.sin(d_lat / 2) ** 2\n",
    "    d_lng_sq = np.sin(d_lng / 2) ** 2\n",
    "\n",
    "    a = d_lat_sq + np.cos(a_lat) * np.cos(b_lat) * d_lng_sq\n",
    "    c = 2 * np.arctan2(np.sqrt(a), np.sqrt(1-a))\n",
    "\n",
    "    return R * c  # returns distance between a and b in km"
   ]
  },
  {
   "cell_type": "markdown",
   "metadata": {},
   "source": [
    "Let's first execute the non-vectorized version with 1M coordinates (of Berlin to London)."
   ]
  },
  {
   "cell_type": "code",
   "execution_count": 5,
   "metadata": {},
   "outputs": [
    {
     "name": "stdout",
     "output_type": "stream",
     "text": [
      "3.51 s ± 101 ms per loop (mean ± std. dev. of 7 runs, 1 loop each)\n"
     ]
    }
   ],
   "source": [
    "coords = np.array([\n",
    "    # orig_lat, orig_lng,  dest_lat,  dest_lng\n",
    "    [52.516667, 13.388889, 51.507222, -0.1275]]*1000000) # Berlin-London\n",
    "\n",
    "%timeit [haversine(row) for row in coords]"
   ]
  },
  {
   "cell_type": "markdown",
   "metadata": {},
   "source": [
    "And now the vectorized one (the expression coords[:, 0] says take all rows (: on the first axis) and the first column (0 on the second axis)):"
   ]
  },
  {
   "cell_type": "code",
   "execution_count": 6,
   "metadata": {},
   "outputs": [
    {
     "name": "stdout",
     "output_type": "stream",
     "text": [
      "135 ms ± 9.94 ms per loop (mean ± std. dev. of 7 runs, 1 loop each)\n"
     ]
    }
   ],
   "source": [
    "coords = np.array([\n",
    "    # orig_lat, orig_lng,  dest_lat,  dest_lng\n",
    "    [52.516667, 13.388889, 51.507222, -0.1275]]*1000000) # Berlin-London\n",
    "\n",
    "%timeit haversine_vectorized(coords[:, 0], coords[:, 1], coords[:, 2], coords[:, 3])"
   ]
  },
  {
   "cell_type": "markdown",
   "metadata": {},
   "source": [
    "Similar principles can be applied to pandas DataFrames:"
   ]
  },
  {
   "cell_type": "markdown",
   "metadata": {},
   "source": [
    "Let's first construct the dataframe with 1M fictional elements."
   ]
  },
  {
   "cell_type": "code",
   "execution_count": 7,
   "metadata": {},
   "outputs": [
    {
     "data": {
      "text/html": [
       "<div>\n",
       "<style scoped>\n",
       "    .dataframe tbody tr th:only-of-type {\n",
       "        vertical-align: middle;\n",
       "    }\n",
       "\n",
       "    .dataframe tbody tr th {\n",
       "        vertical-align: top;\n",
       "    }\n",
       "\n",
       "    .dataframe thead th {\n",
       "        text-align: right;\n",
       "    }\n",
       "</style>\n",
       "<table border=\"1\" class=\"dataframe\">\n",
       "  <thead>\n",
       "    <tr style=\"text-align: right;\">\n",
       "      <th></th>\n",
       "      <th>origin_lat</th>\n",
       "      <th>origin_lng</th>\n",
       "      <th>destination_lat</th>\n",
       "      <th>destination_lng</th>\n",
       "    </tr>\n",
       "  </thead>\n",
       "  <tbody>\n",
       "    <tr>\n",
       "      <th>0</th>\n",
       "      <td>52.516667</td>\n",
       "      <td>13.388889</td>\n",
       "      <td>51.507222</td>\n",
       "      <td>-0.1275</td>\n",
       "    </tr>\n",
       "    <tr>\n",
       "      <th>1</th>\n",
       "      <td>52.516667</td>\n",
       "      <td>13.388889</td>\n",
       "      <td>51.507222</td>\n",
       "      <td>-0.1275</td>\n",
       "    </tr>\n",
       "    <tr>\n",
       "      <th>2</th>\n",
       "      <td>52.516667</td>\n",
       "      <td>13.388889</td>\n",
       "      <td>51.507222</td>\n",
       "      <td>-0.1275</td>\n",
       "    </tr>\n",
       "    <tr>\n",
       "      <th>3</th>\n",
       "      <td>52.516667</td>\n",
       "      <td>13.388889</td>\n",
       "      <td>51.507222</td>\n",
       "      <td>-0.1275</td>\n",
       "    </tr>\n",
       "    <tr>\n",
       "      <th>4</th>\n",
       "      <td>52.516667</td>\n",
       "      <td>13.388889</td>\n",
       "      <td>51.507222</td>\n",
       "      <td>-0.1275</td>\n",
       "    </tr>\n",
       "    <tr>\n",
       "      <th>...</th>\n",
       "      <td>...</td>\n",
       "      <td>...</td>\n",
       "      <td>...</td>\n",
       "      <td>...</td>\n",
       "    </tr>\n",
       "    <tr>\n",
       "      <th>999995</th>\n",
       "      <td>52.516667</td>\n",
       "      <td>13.388889</td>\n",
       "      <td>51.507222</td>\n",
       "      <td>-0.1275</td>\n",
       "    </tr>\n",
       "    <tr>\n",
       "      <th>999996</th>\n",
       "      <td>52.516667</td>\n",
       "      <td>13.388889</td>\n",
       "      <td>51.507222</td>\n",
       "      <td>-0.1275</td>\n",
       "    </tr>\n",
       "    <tr>\n",
       "      <th>999997</th>\n",
       "      <td>52.516667</td>\n",
       "      <td>13.388889</td>\n",
       "      <td>51.507222</td>\n",
       "      <td>-0.1275</td>\n",
       "    </tr>\n",
       "    <tr>\n",
       "      <th>999998</th>\n",
       "      <td>52.516667</td>\n",
       "      <td>13.388889</td>\n",
       "      <td>51.507222</td>\n",
       "      <td>-0.1275</td>\n",
       "    </tr>\n",
       "    <tr>\n",
       "      <th>999999</th>\n",
       "      <td>52.516667</td>\n",
       "      <td>13.388889</td>\n",
       "      <td>51.507222</td>\n",
       "      <td>-0.1275</td>\n",
       "    </tr>\n",
       "  </tbody>\n",
       "</table>\n",
       "<p>1000000 rows × 4 columns</p>\n",
       "</div>"
      ],
      "text/plain": [
       "        origin_lat  origin_lng  destination_lat  destination_lng\n",
       "0        52.516667   13.388889        51.507222          -0.1275\n",
       "1        52.516667   13.388889        51.507222          -0.1275\n",
       "2        52.516667   13.388889        51.507222          -0.1275\n",
       "3        52.516667   13.388889        51.507222          -0.1275\n",
       "4        52.516667   13.388889        51.507222          -0.1275\n",
       "...            ...         ...              ...              ...\n",
       "999995   52.516667   13.388889        51.507222          -0.1275\n",
       "999996   52.516667   13.388889        51.507222          -0.1275\n",
       "999997   52.516667   13.388889        51.507222          -0.1275\n",
       "999998   52.516667   13.388889        51.507222          -0.1275\n",
       "999999   52.516667   13.388889        51.507222          -0.1275\n",
       "\n",
       "[1000000 rows x 4 columns]"
      ]
     },
     "execution_count": 7,
     "metadata": {},
     "output_type": "execute_result"
    }
   ],
   "source": [
    "import pandas as pd\n",
    "\n",
    "coords = np.array([\n",
    "    # orig_lat, orig_lng,  dest_lat,  dest_lng\n",
    "    [52.516667, 13.388889, 51.507222, -0.1275]]*1000000) # Berlin-London\n",
    "\n",
    "df = pd.DataFrame(coords, columns=['origin_lat', 'origin_lng', 'destination_lat', 'destination_lng'])\n",
    "df"
   ]
  },
  {
   "cell_type": "markdown",
   "metadata": {},
   "source": [
    "Lets use the df.apply (non-vectorized) function."
   ]
  },
  {
   "cell_type": "code",
   "execution_count": 8,
   "metadata": {},
   "outputs": [
    {
     "name": "stdout",
     "output_type": "stream",
     "text": [
      "8.39 s ± 69.4 ms per loop (mean ± std. dev. of 7 runs, 1 loop each)\n"
     ]
    }
   ],
   "source": [
    "%timeit df.apply(haversine,axis=1)"
   ]
  },
  {
   "cell_type": "markdown",
   "metadata": {},
   "source": [
    "Now we can access the columns by name to pass them to the vectorized haversine function:"
   ]
  },
  {
   "cell_type": "code",
   "execution_count": 9,
   "metadata": {},
   "outputs": [
    {
     "name": "stdout",
     "output_type": "stream",
     "text": [
      "150 ms ± 8.38 ms per loop (mean ± std. dev. of 7 runs, 1 loop each)\n"
     ]
    }
   ],
   "source": [
    "%timeit haversine_vectorized(df['origin_lat'], df['origin_lng'], df['destination_lat'], df['destination_lng'])"
   ]
  },
  {
   "cell_type": "markdown",
   "metadata": {},
   "source": [
    "Comparing to a non-vectorized implementation (using DataFrame.apply), we get a speed up factor of more than 30"
   ]
  },
  {
   "cell_type": "markdown",
   "metadata": {},
   "source": [
    "# Bibliography"
   ]
  },
  {
   "cell_type": "markdown",
   "metadata": {},
   "source": [
    "- https://www.pythonlikeyoumeanit.com/Module3_IntroducingNumpy/VectorizedOperations.html\n",
    "- https://datascience.blog.wzb.eu/2018/02/02/vectorization-and-parallelization-in-python-with-numpy-and-pandas/"
   ]
  }
 ],
 "metadata": {
  "kernelspec": {
   "display_name": "Python 3 (ipykernel)",
   "language": "python",
   "name": "python3"
  },
  "language_info": {
   "codemirror_mode": {
    "name": "ipython",
    "version": 3
   },
   "file_extension": ".py",
   "mimetype": "text/x-python",
   "name": "python",
   "nbconvert_exporter": "python",
   "pygments_lexer": "ipython3",
   "version": "3.11.7"
  },
  "toc": {
   "base_numbering": 1,
   "nav_menu": {},
   "number_sections": true,
   "sideBar": true,
   "skip_h1_title": true,
   "title_cell": "Table of Contents",
   "title_sidebar": "Contents",
   "toc_cell": true,
   "toc_position": {
    "height": "calc(100% - 180px)",
    "left": "10px",
    "top": "150px",
    "width": "243.8px"
   },
   "toc_section_display": true,
   "toc_window_display": true
  }
 },
 "nbformat": 4,
 "nbformat_minor": 2
}
