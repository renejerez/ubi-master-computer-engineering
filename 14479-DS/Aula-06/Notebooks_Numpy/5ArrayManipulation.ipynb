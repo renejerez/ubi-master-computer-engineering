{
 "cells": [
  {
   "cell_type": "markdown",
   "metadata": {},
   "source": [
    "<div style=\"border: 1px solid black\">\n",
    "<b><center><font size=\"4\">Data Science</font></center></b>\n",
    "\n",
    "<b><center><font size=\"3\">Manipulation and Numerical Data Analysis with Numpy</font></center></b>\n",
    "\n",
    "<b><center><font size=\"2\">5 - Array Manipulation</font></center></b>\n",
    "</div>"
   ]
  },
  {
   "cell_type": "markdown",
   "metadata": {},
   "source": [
    "**Notebook Developed by**: [Ricardo Campos](https://www.di.ubi.pt/~rcampos)<br>\n",
    "**email:**  ricardo.campos@ubi.pt<br>\n",
    "**Affiliation:** *Assistant Professor* @ [University of Beira Interior](http://www.ubi.pt);\n",
    "*Researcher* @ [LIAAD](https://www.inesctec.pt/en/centres/liaad)-[INESC TEC](https://www.inesctec.pt/en)\n",
    "\n",
    "<hr>\n",
    "\n",
    "<p><a href=\"5ArrayManipulation.ipynb\" title=\"Download Notebook\" download><img src=\"https://www.di.ubi.pt/~rcampos/assets/img_tutorials/download.jpg\" align = \"left\" width=\"50\" height=\"50\" alt=\"Download Notebook\"></a></p>\n",
    "<p>&nbsp;</p>\n",
    "<p>&nbsp;</p>\n",
    "\n",
    "<hr>"
   ]
  },
  {
   "cell_type": "markdown",
   "metadata": {
    "toc": true
   },
   "source": [
    "<h1>Table of Contents<span class=\"tocSkip\"></span></h1>\n",
    "<div class=\"toc\"><ul class=\"toc-item\"><li><span><a href=\"#On-a-single-Array\" data-toc-modified-id=\"On-a-single-Array-1\"><span class=\"toc-item-num\">1&nbsp;&nbsp;</span>On a single Array</a></span><ul class=\"toc-item\"><li><span><a href=\"#Reshaping\" data-toc-modified-id=\"Reshaping-1.1\"><span class=\"toc-item-num\">1.1&nbsp;&nbsp;</span>Reshaping</a></span></li><li><span><a href=\"#Ravel-ou-Flatten\" data-toc-modified-id=\"Ravel-ou-Flatten-1.2\"><span class=\"toc-item-num\">1.2&nbsp;&nbsp;</span>Ravel ou Flatten</a></span></li><li><span><a href=\"#Indexing-and-Slicing\" data-toc-modified-id=\"Indexing-and-Slicing-1.3\"><span class=\"toc-item-num\">1.3&nbsp;&nbsp;</span>Indexing and Slicing</a></span><ul class=\"toc-item\"><li><span><a href=\"#Arrays\" data-toc-modified-id=\"Arrays-1.3.1\"><span class=\"toc-item-num\">1.3.1&nbsp;&nbsp;</span>Arrays</a></span></li><li><span><a href=\"#Matrix\" data-toc-modified-id=\"Matrix-1.3.2\"><span class=\"toc-item-num\">1.3.2&nbsp;&nbsp;</span>Matrix</a></span></li></ul></li><li><span><a href=\"#Boolean-Indexing\" data-toc-modified-id=\"Boolean-Indexing-1.4\"><span class=\"toc-item-num\">1.4&nbsp;&nbsp;</span>Boolean Indexing</a></span></li></ul></li><li><span><a href=\"#Multiple-Arrays\" data-toc-modified-id=\"Multiple-Arrays-2\"><span class=\"toc-item-num\">2&nbsp;&nbsp;</span>Multiple Arrays</a></span><ul class=\"toc-item\"><li><span><a href=\"#Joining-Arrays\" data-toc-modified-id=\"Joining-Arrays-2.1\"><span class=\"toc-item-num\">2.1&nbsp;&nbsp;</span>Joining Arrays</a></span></li></ul></li></ul></div>"
   ]
  },
  {
   "cell_type": "markdown",
   "metadata": {},
   "source": [
    "# Array Manipulation"
   ]
  },
  {
   "cell_type": "markdown",
   "metadata": {},
   "source": [
    "<div class=\"alert alert-success alertsuccess\" style=\"margin-top: 20px\">\n",
    "\n",
    "## Objetivos de aprendizagem  <a class=\"tocSkip\">\n",
    "    \n",
    "No final deste notebook o aluno deverá saber manipular arrays numpy.\n",
    "\n",
    "\n",
    "## Learning Objectives  <a class=\"tocSkip\">\n",
    "       \n",
    "When concluding this notebook, the student should know how to manipulate numerical data. </div>"
   ]
  },
  {
   "cell_type": "markdown",
   "metadata": {},
   "source": [
    "<div class=\"alert alert-success alertsuccess\" style=\"margin-top: 20px\">\n",
    "\n",
    "## Sumário  <a class=\"tocSkip\">\n",
    "### Manipulação de Arrays<a class=\"tocSkip\">\n",
    "\n",
    "Introdução dos alunos à manipulação de arrays Numpy\n",
    "    \n",
    "## Class Summary  <a class=\"tocSkip\">\n",
    "### Array Manipulation <a class=\"tocSkip\">\n",
    "Introducing students to the manipulation of arrays Numpy (single and multiple arrays)\n",
    "\n",
    "</div>"
   ]
  },
  {
   "cell_type": "markdown",
   "metadata": {},
   "source": [
    "## On a single Array"
   ]
  },
  {
   "cell_type": "markdown",
   "metadata": {},
   "source": [
    "### Reshaping"
   ]
  },
  {
   "cell_type": "markdown",
   "metadata": {},
   "source": [
    "A forma de um array pode ser modificada desde que se garanta o mesmo número de elementos."
   ]
  },
  {
   "cell_type": "code",
   "execution_count": null,
   "metadata": {},
   "outputs": [],
   "source": [
    "import numpy as np\n",
    "\n",
    "A = np.array([[n+m*10 for n in range(3)] for m in range(4)])\n",
    "A"
   ]
  },
  {
   "cell_type": "code",
   "execution_count": null,
   "metadata": {},
   "outputs": [],
   "source": [
    "np.shape(A)"
   ]
  },
  {
   "cell_type": "code",
   "execution_count": null,
   "metadata": {},
   "outputs": [],
   "source": [
    "np.reshape(A,(3,4))"
   ]
  },
  {
   "cell_type": "markdown",
   "metadata": {},
   "source": [
    "Note-se que dado o número de linhas, o número de colunas não necessita ser especificado manualmente. Assim, basta especificar o número de linhas e o sistema determina automaticamente (por indicação do -1) o número de colunas."
   ]
  },
  {
   "cell_type": "code",
   "execution_count": null,
   "metadata": {},
   "outputs": [],
   "source": [
    "np.reshape(A,(3,-1))"
   ]
  },
  {
   "cell_type": "markdown",
   "metadata": {},
   "source": [
    "Ou especificar o número de colunas e o sistema determina automaticamente (por indicação do -1) o número de linhas."
   ]
  },
  {
   "cell_type": "code",
   "execution_count": null,
   "metadata": {},
   "outputs": [],
   "source": [
    "np.reshape(A,(-1,3))"
   ]
  },
  {
   "cell_type": "code",
   "execution_count": null,
   "metadata": {},
   "outputs": [],
   "source": [
    "np.reshape(A,(6,2))"
   ]
  },
  {
   "cell_type": "code",
   "execution_count": null,
   "metadata": {},
   "outputs": [],
   "source": [
    "np.reshape(A,(1,12)) #array bi-dimensional com uma estrutura 1 x 12"
   ]
  },
  {
   "cell_type": "code",
   "execution_count": null,
   "metadata": {},
   "outputs": [],
   "source": [
    "#array bi-dimensional com uma estrutura 1 x 5\n",
    "np.array([0,1,2,3,4]).reshape(1,-1) #o sistema determina automaticamente (por indicação do -1) o número de colunas evitando a sua especificação"
   ]
  },
  {
   "cell_type": "code",
   "execution_count": null,
   "metadata": {},
   "outputs": [],
   "source": [
    "#array bi-dimensional com uma estrutura 5 x 1\n",
    "np.array([1,2,3,4,5]).reshape(-1,1) #o sistema determina automaticamente (por indicação do -1) o número de linhas evitando a sua especificação"
   ]
  },
  {
   "cell_type": "markdown",
   "metadata": {},
   "source": [
    "Note-se que a aplicação de reshape a um array gerado a partir de arange, resulta numa matriz. O exemplo seguinte parte de um array de 15 posições e transforma-o numa matriz de 3 linhas x 5 colunas."
   ]
  },
  {
   "cell_type": "code",
   "execution_count": null,
   "metadata": {},
   "outputs": [],
   "source": [
    "np.arange(15).reshape(3,5) #array bi-dimensional com uma estrutura 3 x 5"
   ]
  },
  {
   "cell_type": "code",
   "execution_count": null,
   "metadata": {},
   "outputs": [],
   "source": [
    "np.arange(24).reshape(2,3,4) #array tri-dimensional: 2 arrays com uma estrutura 3 x 4"
   ]
  },
  {
   "cell_type": "markdown",
   "metadata": {},
   "source": [
    "<hr>"
   ]
  },
  {
   "cell_type": "markdown",
   "metadata": {},
   "source": [
    "### Ravel ou Flatten"
   ]
  },
  {
   "cell_type": "markdown",
   "metadata": {},
   "source": [
    "O método `Ravel` permite transformar um `array([[0, 1, 2, 3, 4]])` em `array([0, 1, 2, 3, 4])`."
   ]
  },
  {
   "cell_type": "code",
   "execution_count": null,
   "metadata": {},
   "outputs": [],
   "source": [
    "import numpy as np\n",
    "A = np.array([0,1,2,3,4]).reshape(1,-1)\n",
    "A"
   ]
  },
  {
   "cell_type": "code",
   "execution_count": null,
   "metadata": {},
   "outputs": [],
   "source": [
    "A.ravel()"
   ]
  },
  {
   "cell_type": "code",
   "execution_count": null,
   "metadata": {},
   "outputs": [],
   "source": [
    "A.flatten()"
   ]
  },
  {
   "cell_type": "markdown",
   "metadata": {},
   "source": [
    "### Indexing and Slicing"
   ]
  },
  {
   "cell_type": "markdown",
   "metadata": {},
   "source": [
    "#### Arrays"
   ]
  },
  {
   "cell_type": "markdown",
   "metadata": {},
   "source": [
    "Considere o seguinte array uni-dimensional constituido por 3 valores."
   ]
  },
  {
   "cell_type": "code",
   "execution_count": null,
   "metadata": {},
   "outputs": [],
   "source": [
    "from numpy import random\n",
    "A = random.rand(3)\n",
    "A"
   ]
  },
  {
   "cell_type": "markdown",
   "metadata": {},
   "source": [
    "Para aceder à primeira posição:"
   ]
  },
  {
   "cell_type": "code",
   "execution_count": null,
   "metadata": {},
   "outputs": [],
   "source": [
    "A[0]"
   ]
  },
  {
   "cell_type": "code",
   "execution_count": null,
   "metadata": {},
   "outputs": [],
   "source": [
    "#Os dois primeiros elementos\n",
    "A[:2]"
   ]
  },
  {
   "cell_type": "code",
   "execution_count": null,
   "metadata": {},
   "outputs": [],
   "source": [
    "#Os elementos compreendidos entre as posições 1 e 3 (exclusivé)\n",
    "A[1:3]"
   ]
  },
  {
   "cell_type": "code",
   "execution_count": null,
   "metadata": {},
   "outputs": [],
   "source": [
    "#Todos os elementos\n",
    "A[::]"
   ]
  },
  {
   "cell_type": "code",
   "execution_count": null,
   "metadata": {},
   "outputs": [],
   "source": [
    "#Todos os elementos de 2 em 2\n",
    "A[::2]"
   ]
  },
  {
   "cell_type": "code",
   "execution_count": null,
   "metadata": {},
   "outputs": [],
   "source": [
    "#O último elemento\n",
    "A[-1]"
   ]
  },
  {
   "cell_type": "markdown",
   "metadata": {},
   "source": [
    "<hr>"
   ]
  },
  {
   "cell_type": "markdown",
   "metadata": {},
   "source": [
    "#### Matrix"
   ]
  },
  {
   "cell_type": "markdown",
   "metadata": {},
   "source": [
    "<img src=\"https://www.di.ubi.pt/~rcampos/assets/img_tutorials/DataScience/NumpyIndexing.jpg\" width=\"300\" height=\"300\" align=\"center\"/>"
   ]
  },
  {
   "cell_type": "markdown",
   "metadata": {},
   "source": [
    "Considere a seguinte matriz 3 x 3:"
   ]
  },
  {
   "cell_type": "markdown",
   "metadata": {},
   "source": [
    "<img src=\"https://www.di.ubi.pt/~rcampos/assets/img_tutorials/DataScience/NumpyIndexing1.jpg\" width=\"200\" height=\"200\" align=\"center\"/>"
   ]
  },
  {
   "cell_type": "code",
   "execution_count": null,
   "metadata": {},
   "outputs": [],
   "source": [
    "A = np.array([[10,11,12],[13,14,15],[16,17,18]])\n",
    "A"
   ]
  },
  {
   "cell_type": "markdown",
   "metadata": {},
   "source": [
    "Para aceder ao elemento que consta da linha com índice 0 e da coluna com índice 0:"
   ]
  },
  {
   "cell_type": "code",
   "execution_count": null,
   "metadata": {},
   "outputs": [],
   "source": [
    "A[0,0]"
   ]
  },
  {
   "cell_type": "markdown",
   "metadata": {},
   "source": [
    "Para aceder ao cruzamento de todos os valores da 1.ª à 2.ª linha, e da 1.ª coluna à 2.ª coluna."
   ]
  },
  {
   "cell_type": "code",
   "execution_count": null,
   "metadata": {},
   "outputs": [],
   "source": [
    "A[1:3, 1:3]"
   ]
  },
  {
   "cell_type": "markdown",
   "metadata": {},
   "source": [
    "Para aceder a todos os valores da linha com índice 0:"
   ]
  },
  {
   "cell_type": "code",
   "execution_count": null,
   "metadata": {},
   "outputs": [],
   "source": [
    "A[0,:]"
   ]
  },
  {
   "cell_type": "markdown",
   "metadata": {},
   "source": [
    "Para aceder a todos os valores da coluna com índice 0:"
   ]
  },
  {
   "cell_type": "code",
   "execution_count": null,
   "metadata": {},
   "outputs": [],
   "source": [
    "A[:,0]"
   ]
  },
  {
   "cell_type": "markdown",
   "metadata": {},
   "source": [
    "Para aceder a todos os valores da coluna com índice 0 e 1 basta especificar esses índices dentro de uma lista."
   ]
  },
  {
   "cell_type": "code",
   "execution_count": null,
   "metadata": {},
   "outputs": [],
   "source": [
    "A[:,[0,1]]"
   ]
  },
  {
   "cell_type": "markdown",
   "metadata": {},
   "source": [
    "Similarmente se quisermos aceder a todos da valores da linha com índice 0 e 1 basta especificar esses índices dentro uma lista."
   ]
  },
  {
   "cell_type": "code",
   "execution_count": null,
   "metadata": {},
   "outputs": [],
   "source": [
    "A[[0,1],:]"
   ]
  },
  {
   "cell_type": "markdown",
   "metadata": {},
   "source": [
    "O código seguinte devolve apenas a primeira e a 3.ª linha."
   ]
  },
  {
   "cell_type": "code",
   "execution_count": null,
   "metadata": {},
   "outputs": [],
   "source": [
    "A[[0,2]]"
   ]
  },
  {
   "cell_type": "markdown",
   "metadata": {},
   "source": [
    "O seguinte código devolve da linha 0 a coluna 0 e da linha 2 a coluna 1."
   ]
  },
  {
   "cell_type": "code",
   "execution_count": null,
   "metadata": {},
   "outputs": [],
   "source": [
    "A[[0,2],[0,1]]"
   ]
  },
  {
   "cell_type": "markdown",
   "metadata": {},
   "source": [
    "Podemos também atribuir valores a uma posição da matriz:"
   ]
  },
  {
   "cell_type": "code",
   "execution_count": null,
   "metadata": {},
   "outputs": [],
   "source": [
    "A[0,0] = 1\n",
    "A"
   ]
  },
  {
   "cell_type": "markdown",
   "metadata": {},
   "source": [
    "Ou a várias posições. No primeiro caso, o valor 0 é atribuido a todos os valores da linha com índice 1. No segundo caso, o valor -1 é atribuído a todos os valores da coluna com índice 2."
   ]
  },
  {
   "cell_type": "code",
   "execution_count": null,
   "metadata": {},
   "outputs": [],
   "source": [
    "A[1,:] = 0\n",
    "A[:,2] = -1"
   ]
  },
  {
   "cell_type": "code",
   "execution_count": null,
   "metadata": {},
   "outputs": [],
   "source": [
    "A"
   ]
  },
  {
   "cell_type": "markdown",
   "metadata": {},
   "source": [
    "<hr>"
   ]
  },
  {
   "cell_type": "markdown",
   "metadata": {},
   "source": [
    "<u><b>Quiz 1</b></u>"
   ]
  },
  {
   "cell_type": "markdown",
   "metadata": {},
   "source": [
    "<br>\n",
    "Escreva o código que lhe permita, para o array `x` mostrado abaixo, responder às seguintes questões: \n",
    "\n",
    "* a primeira linha de `x`\n",
    "* a primeira coluna de `x`\n",
    "* a terceira linha de `x`\n",
    "* as duas últimas colunas de `x`\n",
    "* a sub-matriz (2x2) mais à direita de `x`\n",
    "* a sub-matriz (2x2) mais central de `x`\n",
    "\n",
    "`x = np.array([[4, 2, 3, 2],\n",
    "              [2, 4, 3, 1],\n",
    "              [2, 4, 1, 3],\n",
    "              [4, 1, 2, 3]])`"
   ]
  },
  {
   "cell_type": "markdown",
   "metadata": {},
   "source": [
    "Clique duas vezes <b>aqui</b> para aceder à solução\n",
    "<!--\n",
    "x = np.array([[4, 2, 3, 2],\n",
    "              [2, 4, 3, 1],\n",
    "              [2, 4, 1, 3],\n",
    "              [4, 1, 2, 3]])\n",
    "print(x[0])\n",
    "print(x[:,0])\n",
    "print(x[2])\n",
    "print(x[:,2:])\n",
    "print(x[:2, 2:])\n",
    "print(x[1:3, 1:3])\n",
    "-->"
   ]
  },
  {
   "cell_type": "code",
   "execution_count": null,
   "metadata": {},
   "outputs": [],
   "source": [
    "#Insira o seu código aqui"
   ]
  },
  {
   "cell_type": "markdown",
   "metadata": {},
   "source": [
    "<hr>"
   ]
  },
  {
   "cell_type": "markdown",
   "metadata": {},
   "source": [
    "<u><b>Quiz 2</b></u>"
   ]
  },
  {
   "cell_type": "markdown",
   "metadata": {},
   "source": [
    "Crie um array de tamanho 10x10 com recurso ao comando de `zeros`. \n",
    "* Os valores do quadrante mais à esquerda do topo do array devem ter o valor de 4; \n",
    "* Os valores do quadrante mais à direita do topo do array devem ter o valor de 3; \n",
    "* Os valores do quadrante mais à esquerda da parte inferior do do array devem ter o valor de 2; \n",
    "* Os valores do quadrante mais à direita da parte inferior do do array devem ter o valor de 1;"
   ]
  },
  {
   "cell_type": "markdown",
   "metadata": {},
   "source": [
    "Clique duas vezes <b>aqui</b> para aceder à solução\n",
    "<!--\n",
    "a = np.zeros((10,10))\n",
    "a[:5,:5] = 4\n",
    "a[:5,5:] = 3\n",
    "a[5:,:5] = 2\n",
    "a[5:, 5:] = 1\n",
    "a\n",
    "-->"
   ]
  },
  {
   "cell_type": "code",
   "execution_count": null,
   "metadata": {},
   "outputs": [],
   "source": [
    "#Insira o seu código aqui"
   ]
  },
  {
   "cell_type": "markdown",
   "metadata": {},
   "source": [
    "<hr>"
   ]
  },
  {
   "cell_type": "markdown",
   "metadata": {},
   "source": [
    "### Boolean Indexing"
   ]
  },
  {
   "cell_type": "markdown",
   "metadata": {},
   "source": [
    "As máscaras em Numpy permitem especificar o conjunto de dados a selecionar. Assim o sistema vai devolver os dados de um array acaso a máscara naquele item esteja definida a `True`, e não vai devolver acaso esteja definida a `False`:"
   ]
  },
  {
   "cell_type": "markdown",
   "metadata": {},
   "source": [
    "A seguinte máscara estipula que deverá devolver o 1.º e o 3.º elemento de um array."
   ]
  },
  {
   "cell_type": "code",
   "execution_count": null,
   "metadata": {},
   "outputs": [],
   "source": [
    "A = np.array([i for i in range(5)])\n",
    "A"
   ]
  },
  {
   "cell_type": "code",
   "execution_count": null,
   "metadata": {},
   "outputs": [],
   "source": [
    "A[np.array([True, False, True, False, False])]"
   ]
  },
  {
   "cell_type": "markdown",
   "metadata": {},
   "source": [
    "Esta funcionalidade é particularmente útil para selecionar elementos de um array a partir, por exemplo, de operações de comparação:"
   ]
  },
  {
   "cell_type": "markdown",
   "metadata": {},
   "source": [
    "Considere o seguinte array, com valores compreendidos entre 0 e 10 (exclusivé), uniformemente distribuidos por um valor de 0.5"
   ]
  },
  {
   "cell_type": "code",
   "execution_count": null,
   "metadata": {},
   "outputs": [],
   "source": [
    "x = np.arange(0, 10, 0.5)\n",
    "x"
   ]
  },
  {
   "cell_type": "markdown",
   "metadata": {},
   "source": [
    "Suponha que pretende selecionar apenas os valores >= 3.5. Defina a respetiva máscara."
   ]
  },
  {
   "cell_type": "code",
   "execution_count": null,
   "metadata": {},
   "outputs": [],
   "source": [
    "x >= 3.5"
   ]
  },
  {
   "cell_type": "markdown",
   "metadata": {},
   "source": [
    "Aplique a máscara ao array."
   ]
  },
  {
   "cell_type": "code",
   "execution_count": null,
   "metadata": {},
   "outputs": [],
   "source": [
    "x[x >= 3.5]"
   ]
  },
  {
   "cell_type": "markdown",
   "metadata": {},
   "source": [
    "É também possível conjugar diferentes condições com recurso ao operador ao (ou, `|`) e ao (e, `&`). Note que as diferentes condições devem estar dentro de parenteses."
   ]
  },
  {
   "cell_type": "code",
   "execution_count": null,
   "metadata": {},
   "outputs": [],
   "source": [
    "x[(x >= 3.5) & (x <= 7.5)]"
   ]
  },
  {
   "cell_type": "markdown",
   "metadata": {},
   "source": [
    "Os índices da máscara podem ser obtidos a partir da função \"where\""
   ]
  },
  {
   "cell_type": "code",
   "execution_count": null,
   "metadata": {},
   "outputs": [],
   "source": [
    "indices = np.where(x[(x >= 3.5) & (x <= 7.5)])\n",
    "indices"
   ]
  },
  {
   "cell_type": "markdown",
   "metadata": {},
   "source": [
    "<hr>"
   ]
  },
  {
   "cell_type": "markdown",
   "metadata": {},
   "source": [
    "No exemplo abaixo recuperamos novamente o dataset com as temperaturas de Estocolmo. Note que a primeira coluna faz referência ao ano enquanto a segunda coluna indica o mês."
   ]
  },
  {
   "cell_type": "code",
   "execution_count": null,
   "metadata": {},
   "outputs": [],
   "source": [
    "!head -n 3 data/stockholm_td_adj.dat"
   ]
  },
  {
   "cell_type": "markdown",
   "metadata": {},
   "source": [
    "Se estivermos interessados na temperatura média de um mês em particular, por exemplo Fevereiro, podemos criar uma máscara e usá-la para selecionar apenas os dados desse mês:"
   ]
  },
  {
   "cell_type": "code",
   "execution_count": null,
   "metadata": {},
   "outputs": [],
   "source": [
    "data = np.loadtxt('data/stockholm_td_adj.dat')\n",
    "\n",
    "mask_feb = data[:,1] == 2\n",
    "mask_feb"
   ]
  },
  {
   "cell_type": "markdown",
   "metadata": {},
   "source": [
    "O código seguinte permite trabalhar com as temperaturas (coluna 1) dos dados de Fevereiro (mask_feb)."
   ]
  },
  {
   "cell_type": "code",
   "execution_count": null,
   "metadata": {},
   "outputs": [],
   "source": [
    "# the temperature data is in column 3\n",
    "np.mean(data[mask_feb,3])"
   ]
  },
  {
   "cell_type": "markdown",
   "metadata": {},
   "source": [
    "Podemos por exemplo, extrair as temperaturas médias mensais registadas ao longo dos últimos 200 anos."
   ]
  },
  {
   "cell_type": "code",
   "execution_count": null,
   "metadata": {},
   "outputs": [],
   "source": [
    "months = np.arange(1,13)\n",
    "months"
   ]
  },
  {
   "cell_type": "code",
   "execution_count": null,
   "metadata": {},
   "outputs": [],
   "source": [
    "monthly_mean = [np.mean(data[data[:,1] == month, 3]) for month in months]\n",
    "monthly_mean"
   ]
  },
  {
   "cell_type": "code",
   "execution_count": null,
   "metadata": {},
   "outputs": [],
   "source": [
    "import matplotlib.pyplot as plt\n",
    "%matplotlib inline\n",
    "\n",
    "plt.bar(months, monthly_mean)\n",
    "plt.xlabel(\"Month\")\n",
    "plt.ylabel(\"Monthly avg. temp.\")"
   ]
  },
  {
   "cell_type": "markdown",
   "metadata": {},
   "source": [
    "<hr>"
   ]
  },
  {
   "cell_type": "markdown",
   "metadata": {},
   "source": [
    "<u><b>Quiz 3</b></u>"
   ]
  },
  {
   "cell_type": "markdown",
   "metadata": {},
   "source": [
    "<br>\n",
    "Crie um array para uma variável $x$ com 100 valores compreendidos entre 0 e 20. Calcule $y=\\sin(x)$ e plot $y$ vs. $x$. De seguida, substitua todos os valores de $y$ que são > 0.5 por 0.5, e todos os valores que são < $-$0.75 por $-0.75$ e plot $x$ vs. $y$ usando uma linha vermelha no mesmo plot."
   ]
  },
  {
   "cell_type": "markdown",
   "metadata": {},
   "source": [
    "Clique duas vezes <b>aqui</b> para aceder à solução\n",
    "<!--\n",
    "x = np.linspace(0, 20, 100)\n",
    "y = np.sin(x)\n",
    "plt.plot(x, y, 'b')\n",
    "y[y > 0.5] = 0.5\n",
    "y[y < -0.75] = -0.75\n",
    "plt.plot(x, y, 'r');\n",
    "-->"
   ]
  },
  {
   "cell_type": "code",
   "execution_count": null,
   "metadata": {},
   "outputs": [],
   "source": [
    "#Insira o seu código aqui"
   ]
  },
  {
   "cell_type": "markdown",
   "metadata": {},
   "source": [
    "<hr>"
   ]
  },
  {
   "cell_type": "markdown",
   "metadata": {},
   "source": [
    "## Multiple Arrays"
   ]
  },
  {
   "cell_type": "markdown",
   "metadata": {},
   "source": [
    "### Joining Arrays"
   ]
  },
  {
   "cell_type": "code",
   "execution_count": null,
   "metadata": {},
   "outputs": [],
   "source": [
    "import numpy as np\n",
    "\n",
    "A = np.ones((3, 3))\n",
    "B = np.zeros((3, 3))\n",
    "print(A)\n",
    "print(B)"
   ]
  },
  {
   "cell_type": "markdown",
   "metadata": {},
   "source": [
    "A função `vstack` faz um joining de duas matrizes vertical."
   ]
  },
  {
   "cell_type": "code",
   "execution_count": null,
   "metadata": {},
   "outputs": [],
   "source": [
    "np.vstack((A, B))"
   ]
  },
  {
   "cell_type": "markdown",
   "metadata": {},
   "source": [
    "A função `hstack` por sua vez faz um joining de duas matrizes horizontal."
   ]
  },
  {
   "cell_type": "code",
   "execution_count": null,
   "metadata": {},
   "outputs": [],
   "source": [
    "np.hstack((A, B))"
   ]
  },
  {
   "cell_type": "markdown",
   "metadata": {},
   "source": [
    "<hr>"
   ]
  }
 ],
 "metadata": {
  "kernelspec": {
   "display_name": "Python 3 (ipykernel)",
   "language": "python",
   "name": "python3"
  },
  "language_info": {
   "codemirror_mode": {
    "name": "ipython",
    "version": 3
   },
   "file_extension": ".py",
   "mimetype": "text/x-python",
   "name": "python",
   "nbconvert_exporter": "python",
   "pygments_lexer": "ipython3",
   "version": "3.9.7"
  },
  "toc": {
   "base_numbering": 1,
   "nav_menu": {},
   "number_sections": true,
   "sideBar": true,
   "skip_h1_title": true,
   "title_cell": "Table of Contents",
   "title_sidebar": "Contents",
   "toc_cell": true,
   "toc_position": {
    "height": "calc(100% - 180px)",
    "left": "10px",
    "top": "150px",
    "width": "219.8px"
   },
   "toc_section_display": true,
   "toc_window_display": true
  }
 },
 "nbformat": 4,
 "nbformat_minor": 2
}
