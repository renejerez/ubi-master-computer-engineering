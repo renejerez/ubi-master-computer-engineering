{
 "cells": [
  {
   "cell_type": "markdown",
   "metadata": {},
   "source": [
    "<div style=\"border: 1px solid black\">\n",
    "<b><center><font size=\"4\">Data Science</font></center></b>\n",
    "\n",
    "<b><center><font size=\"3\">Manipulation and Numerical Data Analysis with Numpy</font></center></b>\n",
    "\n",
    "<b><center><font size=\"2\">7 - Images</font></center></b>\n",
    "</div>"
   ]
  },
  {
   "cell_type": "markdown",
   "metadata": {},
   "source": [
    "**Notebook Developed by**: [Ricardo Campos](https://www.di.ubi.pt/~rcampos)<br>\n",
    "**email:**  ricardo.campos@ubi.pt<br>\n",
    "**Affiliation:** *Assistant Professor* @ [University of Beira Interior](http://www.ubi.pt);\n",
    "*Researcher* @ [LIAAD](https://www.inesctec.pt/en/centres/liaad)-[INESC TEC](https://www.inesctec.pt/en)\n",
    "\n",
    "<hr>\n",
    "\n",
    "<p><a href=\"7Images.ipynb\" title=\"Download Notebook\" download><img src=\"https://www.di.ubi.pt/~rcampos/assets/img_tutorials/download.jpg\" align = \"left\" width=\"50\" height=\"50\" alt=\"Download Notebook\"></a></p>\n",
    "<p>&nbsp;</p>\n",
    "<p>&nbsp;</p>\n",
    "\n",
    "<hr>"
   ]
  },
  {
   "cell_type": "markdown",
   "metadata": {
    "toc": true
   },
   "source": [
    "<h1>Table of Contents<span class=\"tocSkip\"></span></h1>\n",
    "<div class=\"toc\"><ul class=\"toc-item\"><li><span><a href=\"#Load-image\" data-toc-modified-id=\"Load-image-1\"><span class=\"toc-item-num\">1&nbsp;&nbsp;</span>Load image</a></span></li><li><span><a href=\"#Image-Manipulation\" data-toc-modified-id=\"Image-Manipulation-2\"><span class=\"toc-item-num\">2&nbsp;&nbsp;</span>Image Manipulation</a></span></li><li><span><a href=\"#Read-Multiple-Files\" data-toc-modified-id=\"Read-Multiple-Files-3\"><span class=\"toc-item-num\">3&nbsp;&nbsp;</span>Read Multiple Files</a></span></li></ul></div>"
   ]
  },
  {
   "cell_type": "markdown",
   "metadata": {},
   "source": [
    "# Images as matrices"
   ]
  },
  {
   "cell_type": "markdown",
   "metadata": {},
   "source": [
    "<div class=\"alert alert-success alertsuccess\" style=\"margin-top: 20px\">\n",
    "\n",
    "## Objetivos de aprendizagem  <a class=\"tocSkip\">\n",
    "    \n",
    "No final deste notebook o aluno deverá ter um conhecimento sobre a manipulação de imagens a partir de arrays Numpy\n",
    "\n",
    "\n",
    "## Learning Objectives  <a class=\"tocSkip\">\n",
    "       \n",
    "When concluding this notebook, the student should have a basic knowledge of the manipulation of images through Numpy arrays\n",
    "</div>"
   ]
  },
  {
   "cell_type": "markdown",
   "metadata": {},
   "source": [
    "<div class=\"alert alert-success alertsuccess\" style=\"margin-top: 20px\">\n",
    "\n",
    "## Sumário  <a class=\"tocSkip\">\n",
    "### Imagens como Arrays<a class=\"tocSkip\">\n",
    "\n",
    "Introdução dos alunos a manipulação de imagens a partir de arrays Numpy\n",
    "    \n",
    "## Class Summary  <a class=\"tocSkip\">\n",
    "### Images as Arrays <a class=\"tocSkip\">\n",
    "Introducing students to the manipulation of images through Numpy arrays\n",
    "</div>"
   ]
  },
  {
   "cell_type": "markdown",
   "metadata": {},
   "source": [
    "Based on this notebook: https://github.com/nickeubank/practicaldatascience/blob/master/source/25_images_as_matrices.ipynb"
   ]
  },
  {
   "cell_type": "markdown",
   "metadata": {},
   "source": [
    "## Load image"
   ]
  },
  {
   "cell_type": "markdown",
   "metadata": {},
   "source": [
    "One important reason data scientists have to know how to work with matrices is that, from the perspective of a computer, images are basically just matrices. To illustrate, let's load a simple greyscale `.png` image and display it using the `pyplot.imshow` function, which we'll talk about more below:"
   ]
  },
  {
   "cell_type": "markdown",
   "metadata": {},
   "source": [
    "For this we are going to use [OpenCV](https://opencv.org/) (OpenCV is a library of programming functions mainly for real-time computer vision.)"
   ]
  },
  {
   "cell_type": "code",
   "execution_count": null,
   "metadata": {},
   "outputs": [],
   "source": [
    "!pip install opencv-python"
   ]
  },
  {
   "cell_type": "code",
   "execution_count": null,
   "metadata": {},
   "outputs": [],
   "source": [
    "import cv2\n",
    "from matplotlib import pyplot\n",
    "import numpy as np\n",
    "\n",
    "image = cv2.imread(\"data/monty-python-flying-circus.png\").astype(np.int32)\n",
    "pyplot.imshow(image)"
   ]
  },
  {
   "cell_type": "markdown",
   "metadata": {},
   "source": [
    "To know the dimensions of a given image like the `height`, `width` and number of `channels` in the given image, which are generally stored in numpy ndarray, we make use of a function in OpenCV called `shape()` function"
   ]
  },
  {
   "cell_type": "code",
   "execution_count": null,
   "metadata": {},
   "outputs": [],
   "source": [
    "image.shape"
   ]
  },
  {
   "cell_type": "code",
   "execution_count": null,
   "metadata": {},
   "outputs": [],
   "source": [
    "dimensions = image.shape\n",
    "height = image.shape[0]\n",
    "width = image.shape[1]\n",
    "number_of_channels = image.shape[2]\n",
    "print(height)\n",
    "print(width)\n",
    "print(number_of_channels)"
   ]
  },
  {
   "cell_type": "markdown",
   "metadata": {},
   "source": [
    "If you want to now the rgb color of all the pixels (fixing w = 0, c = 0) run the following code (it will take a lit bit of time)."
   ]
  },
  {
   "cell_type": "code",
   "execution_count": null,
   "metadata": {},
   "outputs": [],
   "source": [
    "for h in range(height):\n",
    "    for w in range(width):\n",
    "        for c in range(number_of_channels):\n",
    "            print(f\"[{h},0,0] {image[h][0][0]}\")"
   ]
  },
  {
   "cell_type": "markdown",
   "metadata": {},
   "source": [
    "## Image Manipulation"
   ]
  },
  {
   "cell_type": "markdown",
   "metadata": {},
   "source": [
    "Because this is just a numpy array, we can manipulate it with basic numpy tools! For example, to make everything darker, we can just make all the numbers smaller by reducing 160 pixels:"
   ]
  },
  {
   "cell_type": "code",
   "execution_count": null,
   "metadata": {},
   "outputs": [],
   "source": [
    "darker = image - 160\n",
    "pyplot.imshow(darker)"
   ]
  },
  {
   "cell_type": "markdown",
   "metadata": {},
   "source": [
    "## Read Multiple Files"
   ]
  },
  {
   "cell_type": "code",
   "execution_count": null,
   "metadata": {},
   "outputs": [],
   "source": [
    "import cv2\n",
    "from matplotlib import pyplot\n",
    "import numpy as np\n",
    "\n",
    "image1 = cv2.imread(\"data/j1_42.jpg\").astype(np.int32)\n",
    "image2 = cv2.imread(\"data/r1_2_1.jpg\").astype(np.int32)\n",
    "image3 = image2 - image1\n",
    "pyplot.imshow(image3)"
   ]
  },
  {
   "cell_type": "markdown",
   "metadata": {},
   "source": [
    "In the following, we will print out the shape of all the jpg images that exist within the `data` folder."
   ]
  },
  {
   "cell_type": "code",
   "execution_count": null,
   "metadata": {},
   "outputs": [],
   "source": [
    "import cv2 \n",
    "import os\n",
    "import numpy as np\n",
    "\n",
    "path = \"data/\"\n",
    "for file in os.listdir (path) :\n",
    "    if file.endswith(\".jpg\"):\n",
    "        image = cv2.imread(path + file).astype(np.int32)\n",
    "        print(image.shape)"
   ]
  }
 ],
 "metadata": {
  "kernelspec": {
   "display_name": "Python 3 (ipykernel)",
   "language": "python",
   "name": "python3"
  },
  "language_info": {
   "codemirror_mode": {
    "name": "ipython",
    "version": 3
   },
   "file_extension": ".py",
   "mimetype": "text/x-python",
   "name": "python",
   "nbconvert_exporter": "python",
   "pygments_lexer": "ipython3",
   "version": "3.9.7"
  },
  "toc": {
   "base_numbering": 1,
   "nav_menu": {},
   "number_sections": true,
   "sideBar": true,
   "skip_h1_title": true,
   "title_cell": "Table of Contents",
   "title_sidebar": "Contents",
   "toc_cell": true,
   "toc_position": {
    "height": "calc(100% - 180px)",
    "left": "10px",
    "top": "150px",
    "width": "320px"
   },
   "toc_section_display": true,
   "toc_window_display": true
  }
 },
 "nbformat": 4,
 "nbformat_minor": 2
}
