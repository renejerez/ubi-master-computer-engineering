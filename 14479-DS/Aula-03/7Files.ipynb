{
 "cells": [
  {
   "cell_type": "markdown",
   "metadata": {},
   "source": [
    "<div style=\"border: 1px solid black\">\n",
    "<b><center><font size=\"4\">Introduction to Python</font></center></b>\n",
    "\n",
    "<b><center><font size=\"2\">7 - Files</font></center></b>\n",
    "</div>"
   ]
  },
  {
   "cell_type": "markdown",
   "metadata": {},
   "source": [
    "**Notebook Developed by**: [Ricardo Campos](https://www.di.ubi.pt/~rcampos)<br>\n",
    "**email:**  ricardo.campos@ubi.pt<br>\n",
    "**Affiliation:** *Assistant Professor* @ [University of Beira Interior](http://www.ubi.pt);\n",
    "*Researcher* @ [LIAAD](https://www.inesctec.pt/en/centres/liaad)-[INESC TEC](https://www.inesctec.pt/en)\n",
    "\n",
    "<hr>\n",
    "\n",
    "<p><a href=\"7Files.ipynb\" title=\"Download Notebook\" download><img src=\"https://www.di.ubi.pt/~rcampos/assets/img_tutorials/download.jpg\" align = \"left\" width=\"50\" height=\"50\" alt=\"Download Notebook\"></a></p>\n",
    "<p>&nbsp;</p>\n",
    "<p>&nbsp;</p>\n",
    "\n",
    "<hr>"
   ]
  },
  {
   "cell_type": "markdown",
   "metadata": {
    "toc": true
   },
   "source": [
    "<h1>Table of Contents<span class=\"tocSkip\"></span></h1>\n",
    "<div class=\"toc\"><ul class=\"toc-item\"><li><span><a href=\"#Instructions\" data-toc-modified-id=\"Instructions-1\"><span class=\"toc-item-num\">1&nbsp;&nbsp;</span>Instructions</a></span><ul class=\"toc-item\"><li><span><a href=\"#Windows\" data-toc-modified-id=\"Windows-1.1\"><span class=\"toc-item-num\">1.1&nbsp;&nbsp;</span>Windows</a></span></li><li><span><a href=\"#Google-Colab\" data-toc-modified-id=\"Google-Colab-1.2\"><span class=\"toc-item-num\">1.2&nbsp;&nbsp;</span>Google Colab</a></span></li></ul></li><li><span><a href=\"#Text-Files\" data-toc-modified-id=\"Text-Files-2\"><span class=\"toc-item-num\">2&nbsp;&nbsp;</span>Text Files</a></span><ul class=\"toc-item\"><li><span><a href=\"#Open\" data-toc-modified-id=\"Open-2.1\"><span class=\"toc-item-num\">2.1&nbsp;&nbsp;</span>Open</a></span></li><li><span><a href=\"#Read\" data-toc-modified-id=\"Read-2.2\"><span class=\"toc-item-num\">2.2&nbsp;&nbsp;</span>Read</a></span><ul class=\"toc-item\"><li><span><a href=\"#read\" data-toc-modified-id=\"read-2.2.1\"><span class=\"toc-item-num\">2.2.1&nbsp;&nbsp;</span>read</a></span></li><li><span><a href=\"#readlines\" data-toc-modified-id=\"readlines-2.2.2\"><span class=\"toc-item-num\">2.2.2&nbsp;&nbsp;</span>readlines</a></span></li><li><span><a href=\"#zip-and-gzip\" data-toc-modified-id=\"zip-and-gzip-2.2.3\"><span class=\"toc-item-num\">2.2.3&nbsp;&nbsp;</span>zip and gzip</a></span></li></ul></li><li><span><a href=\"#character-encoding\" data-toc-modified-id=\"character-encoding-2.3\"><span class=\"toc-item-num\">2.3&nbsp;&nbsp;</span>character encoding</a></span></li><li><span><a href=\"#Check-if-a-File-Exists\" data-toc-modified-id=\"Check-if-a-File-Exists-2.4\"><span class=\"toc-item-num\">2.4&nbsp;&nbsp;</span>Check if a File Exists</a></span></li><li><span><a href=\"#Read-Multiple-Files-from-Folder\" data-toc-modified-id=\"Read-Multiple-Files-from-Folder-2.5\"><span class=\"toc-item-num\">2.5&nbsp;&nbsp;</span>Read Multiple Files from Folder</a></span></li><li><span><a href=\"#Write\" data-toc-modified-id=\"Write-2.6\"><span class=\"toc-item-num\">2.6&nbsp;&nbsp;</span>Write</a></span><ul class=\"toc-item\"><li><span><a href=\"#write\" data-toc-modified-id=\"write-2.6.1\"><span class=\"toc-item-num\">2.6.1&nbsp;&nbsp;</span>write</a></span></li><li><span><a href=\"#Create-Directory\" data-toc-modified-id=\"Create-Directory-2.6.2\"><span class=\"toc-item-num\">2.6.2&nbsp;&nbsp;</span>Create Directory</a></span></li></ul></li><li><span><a href=\"#Copy-Files-from-Folder-to-Folder\" data-toc-modified-id=\"Copy-Files-from-Folder-to-Folder-2.7\"><span class=\"toc-item-num\">2.7&nbsp;&nbsp;</span>Copy Files from Folder to Folder</a></span></li><li><span><a href=\"#Quizzes\" data-toc-modified-id=\"Quizzes-2.8\"><span class=\"toc-item-num\">2.8&nbsp;&nbsp;</span>Quizzes</a></span></li></ul></li><li><span><a href=\"#Image-Files\" data-toc-modified-id=\"Image-Files-3\"><span class=\"toc-item-num\">3&nbsp;&nbsp;</span>Image Files</a></span><ul class=\"toc-item\"><li><span><a href=\"#Optical-Character-Recognition-(OCR)\" data-toc-modified-id=\"Optical-Character-Recognition-(OCR)-3.1\"><span class=\"toc-item-num\">3.1&nbsp;&nbsp;</span>Optical Character Recognition (OCR)</a></span></li><li><span><a href=\"#Tesseract\" data-toc-modified-id=\"Tesseract-3.2\"><span class=\"toc-item-num\">3.2&nbsp;&nbsp;</span>Tesseract</a></span><ul class=\"toc-item\"><li><span><a href=\"#Windows\" data-toc-modified-id=\"Windows-3.2.1\"><span class=\"toc-item-num\">3.2.1&nbsp;&nbsp;</span>Windows</a></span></li><li><span><a href=\"#Google-Colab\" data-toc-modified-id=\"Google-Colab-3.2.2\"><span class=\"toc-item-num\">3.2.2&nbsp;&nbsp;</span>Google Colab</a></span></li></ul></li><li><span><a href=\"#pytesseract\" data-toc-modified-id=\"pytesseract-3.3\"><span class=\"toc-item-num\">3.3&nbsp;&nbsp;</span>pytesseract</a></span></li></ul></li><li><span><a href=\"#PDF-Files\" data-toc-modified-id=\"PDF-Files-4\"><span class=\"toc-item-num\">4&nbsp;&nbsp;</span>PDF Files</a></span><ul class=\"toc-item\"><li><span><a href=\"#Plain-Text\" data-toc-modified-id=\"Plain-Text-4.1\"><span class=\"toc-item-num\">4.1&nbsp;&nbsp;</span>Plain Text</a></span><ul class=\"toc-item\"><li><span><a href=\"#pdfminer\" data-toc-modified-id=\"pdfminer-4.1.1\"><span class=\"toc-item-num\">4.1.1&nbsp;&nbsp;</span>pdfminer</a></span></li><li><span><a href=\"#PyPDF2\" data-toc-modified-id=\"PyPDF2-4.1.2\"><span class=\"toc-item-num\">4.1.2&nbsp;&nbsp;</span>PyPDF2</a></span></li><li><span><a href=\"#llmsherpa-(LayoutPDFReader)\" data-toc-modified-id=\"llmsherpa-(LayoutPDFReader)-4.1.3\"><span class=\"toc-item-num\">4.1.3&nbsp;&nbsp;</span>llmsherpa (LayoutPDFReader)</a></span></li></ul></li><li><span><a href=\"#non-plain-text\" data-toc-modified-id=\"non-plain-text-4.2\"><span class=\"toc-item-num\">4.2&nbsp;&nbsp;</span>non-plain text</a></span><ul class=\"toc-item\"><li><span><a href=\"#ConvertPdf2Images\" data-toc-modified-id=\"ConvertPdf2Images-4.2.1\"><span class=\"toc-item-num\">4.2.1&nbsp;&nbsp;</span>ConvertPdf2Images</a></span><ul class=\"toc-item\"><li><span><a href=\"#Windows\" data-toc-modified-id=\"Windows-4.2.1.1\"><span class=\"toc-item-num\">4.2.1.1&nbsp;&nbsp;</span>Windows</a></span></li><li><span><a href=\"#Google-Colab\" data-toc-modified-id=\"Google-Colab-4.2.1.2\"><span class=\"toc-item-num\">4.2.1.2&nbsp;&nbsp;</span>Google Colab</a></span></li></ul></li><li><span><a href=\"#pytesseract\" data-toc-modified-id=\"pytesseract-4.2.2\"><span class=\"toc-item-num\">4.2.2&nbsp;&nbsp;</span>pytesseract</a></span></li><li><span><a href=\"#Quizzes\" data-toc-modified-id=\"Quizzes-4.2.3\"><span class=\"toc-item-num\">4.2.3&nbsp;&nbsp;</span>Quizzes</a></span></li></ul></li></ul></li><li><span><a href=\"#MS-Word-Files\" data-toc-modified-id=\"MS-Word-Files-5\"><span class=\"toc-item-num\">5&nbsp;&nbsp;</span>MS Word Files</a></span></li><li><span><a href=\"#HTML-Files\" data-toc-modified-id=\"HTML-Files-6\"><span class=\"toc-item-num\">6&nbsp;&nbsp;</span>HTML Files</a></span><ul class=\"toc-item\"><li><span><a href=\"#Requests\" data-toc-modified-id=\"Requests-6.1\"><span class=\"toc-item-num\">6.1&nbsp;&nbsp;</span>Requests</a></span></li><li><span><a href=\"#URLLIB\" data-toc-modified-id=\"URLLIB-6.2\"><span class=\"toc-item-num\">6.2&nbsp;&nbsp;</span>URLLIB</a></span></li><li><span><a href=\"#WGet\" data-toc-modified-id=\"WGet-6.3\"><span class=\"toc-item-num\">6.3&nbsp;&nbsp;</span>WGet</a></span></li></ul></li><li><span><a href=\"#CSV\" data-toc-modified-id=\"CSV-7\"><span class=\"toc-item-num\">7&nbsp;&nbsp;</span>CSV</a></span><ul class=\"toc-item\"><li><span><a href=\"#Read\" data-toc-modified-id=\"Read-7.1\"><span class=\"toc-item-num\">7.1&nbsp;&nbsp;</span>Read</a></span></li><li><span><a href=\"#Write-with-Comma\" data-toc-modified-id=\"Write-with-Comma-7.2\"><span class=\"toc-item-num\">7.2&nbsp;&nbsp;</span>Write with Comma</a></span></li><li><span><a href=\"#Write-with-Delimeter\" data-toc-modified-id=\"Write-with-Delimeter-7.3\"><span class=\"toc-item-num\">7.3&nbsp;&nbsp;</span>Write with Delimeter</a></span></li></ul></li><li><span><a href=\"#JSON\" data-toc-modified-id=\"JSON-8\"><span class=\"toc-item-num\">8&nbsp;&nbsp;</span>JSON</a></span><ul class=\"toc-item\"><li><span><a href=\"#Write\" data-toc-modified-id=\"Write-8.1\"><span class=\"toc-item-num\">8.1&nbsp;&nbsp;</span>Write</a></span></li><li><span><a href=\"#Read\" data-toc-modified-id=\"Read-8.2\"><span class=\"toc-item-num\">8.2&nbsp;&nbsp;</span>Read</a></span><ul class=\"toc-item\"><li><span><a href=\"#keys-of-dict-as-str\" data-toc-modified-id=\"keys-of-dict-as-str-8.2.1\"><span class=\"toc-item-num\">8.2.1&nbsp;&nbsp;</span>keys of dict as str</a></span></li><li><span><a href=\"#Dates-in-json-files\" data-toc-modified-id=\"Dates-in-json-files-8.2.2\"><span class=\"toc-item-num\">8.2.2&nbsp;&nbsp;</span>Dates in json files</a></span></li><li><span><a href=\"#ASCII\" data-toc-modified-id=\"ASCII-8.2.3\"><span class=\"toc-item-num\">8.2.3&nbsp;&nbsp;</span>ASCII</a></span></li></ul></li><li><span><a href=\"#Serialization\" data-toc-modified-id=\"Serialization-8.3\"><span class=\"toc-item-num\">8.3&nbsp;&nbsp;</span>Serialization</a></span></li><li><span><a href=\"#Quizzes\" data-toc-modified-id=\"Quizzes-8.4\"><span class=\"toc-item-num\">8.4&nbsp;&nbsp;</span>Quizzes</a></span></li></ul></li><li><span><a href=\"#Lock-Files\" data-toc-modified-id=\"Lock-Files-9\"><span class=\"toc-item-num\">9&nbsp;&nbsp;</span>Lock Files</a></span></li><li><span><a href=\"#Temporary-Files\" data-toc-modified-id=\"Temporary-Files-10\"><span class=\"toc-item-num\">10&nbsp;&nbsp;</span>Temporary Files</a></span></li></ul></div>"
   ]
  },
  {
   "cell_type": "markdown",
   "metadata": {},
   "source": [
    "# Files"
   ]
  },
  {
   "cell_type": "markdown",
   "metadata": {},
   "source": [
    "<div class=\"alert alert-success alertsuccess\" style=\"margin-top: 20px\">\n",
    "\n",
    "## Objetivos de aprendizagem  <a class=\"tocSkip\">\n",
    "    \n",
    "No final deste notebook o aluno deve saber ler e criar ficheiros de texto, word, CSV, JSON, e documentos web, bem como\n",
    "entender a importância do OCR (mecanismo de reconhecimento de caracteres) no processamento de texto a partir de imagens e pdfs.\n",
    "\n",
    "\n",
    "## Learning Objectives  <a class=\"tocSkip\">\n",
    "       \n",
    "When concluding this notebook, the student should know how to read and create text files, word, CSV, JSON, and web documents, as well as understand the importance of OCR (optical character recognition) to extract text from images and pdfs.</div>"
   ]
  },
  {
   "cell_type": "markdown",
   "metadata": {},
   "source": [
    "<div class=\"alert alert-success alertsuccess\" style=\"margin-top: 20px\">\n",
    "\n",
    "## Sumário  <a class=\"tocSkip\">\n",
    "### Ficheiros <a class=\"tocSkip\">\n",
    "\n",
    "Introdução dos alunos à leitura e à escrita de ficheiros.\n",
    "- Texto (operações de leitura e escrita; métodos read e readlines; ficheiros zip; codificação de caracteres; leitura de múltiplos ficheiros; verificação da existência de ficheiros e de pastas; criação de pastas)\n",
    "- Imagens (extração de texto a partir de ficheiros de imagem com recurso a OCR e ao pytesseract a partir do Google Colab)\n",
    "- PDFs (extração de texto a partir de ficheiros pdf nativamente digitais e de pdfs digitalizados)\n",
    "- Word (extração de texto a partir de ficheiros word)\n",
    "- HTML (introdução à biblioteca requests para a obtenção de texto a partir da web; uso da biblioteca urllib e wget para proceder ao download de ficheiros diretamente a partir da web)\n",
    "- CSV (operações de leitura e escrita com diferentes delimitadores)\n",
    "- JSON (operações de leitura e escrita; cache de ficheiros e serialização)\n",
    "- Lock files (operações de bloqueamento de ficheiros)\n",
    "- Ficheiros temporários (criação de ficheiros temporários)\n",
    "\n",
    "## Class Summary  <a class=\"tocSkip\">\n",
    "### Files <a class=\"tocSkip\">\n",
    "Introduction to the process of reading and writing files.\n",
    "- Text (read and write operations; read and readlines methods; zip files; character encoding; read multiple files; check if a file and a folder exists; how to create folders)\n",
    "- Images (text extraction from image files using OCR and pytesseract in Google Colab)\n",
    "- PDFs (text extraction from plain and non-plain pdfs)\n",
    "- Word (text extraction from word files)\n",
    "- HTML (introduction to the requests library as a means to get text from the web; urllib and wget libraries to download files directly from the web)\n",
    "- CSV (read and write operations with different delimiters)\n",
    "- JSON (read and write operations; cache and serialization)\n",
    "- Lock files (file lock operations)\n",
    "- Temporary files (how to create temporary files)\n",
    "\n",
    "</div>"
   ]
  },
  {
   "cell_type": "markdown",
   "metadata": {
    "slideshow": {
     "slide_type": "slide"
    }
   },
   "source": [
    "## Instructions"
   ]
  },
  {
   "cell_type": "markdown",
   "metadata": {},
   "source": [
    "### Windows"
   ]
  },
  {
   "cell_type": "markdown",
   "metadata": {},
   "source": [
    "A execução deste notebook pressupõe a existência do folder [data](https://www.di.ubi.pt/~rcampos/assets/files_tutorials/Introduction2Python/data.zip) junto do seu notebook."
   ]
  },
  {
   "cell_type": "markdown",
   "metadata": {},
   "source": [
    "<img src=\"https://www.di.ubi.pt/~rcampos/assets/img_tutorials/Introduction2Python/jupyter2.jpg\" width=\"700\" height=\"700\" align=\"center\"/>"
   ]
  },
  {
   "cell_type": "markdown",
   "metadata": {},
   "source": [
    "### Google Colab"
   ]
  },
  {
   "cell_type": "markdown",
   "metadata": {},
   "source": [
    "Comece por colocar a pasta data no [Google Drive](https://drive.google.com/drive/my-drive), em concreto dentro da pasta `Colab Notebooks`."
   ]
  },
  {
   "cell_type": "markdown",
   "metadata": {},
   "source": [
    "De seguida, no Google Colab, execute o seguinte comando:"
   ]
  },
  {
   "cell_type": "code",
   "execution_count": null,
   "metadata": {},
   "outputs": [],
   "source": [
    "from google.colab import drive\n",
    "drive.mount('/content/drive', force_remount=True)"
   ]
  },
  {
   "cell_type": "markdown",
   "metadata": {
    "slideshow": {
     "slide_type": "slide"
    }
   },
   "source": [
    "## Text Files"
   ]
  },
  {
   "cell_type": "markdown",
   "metadata": {
    "slideshow": {
     "slide_type": "subslide"
    }
   },
   "source": [
    "### Open"
   ]
  },
  {
   "cell_type": "markdown",
   "metadata": {},
   "source": [
    "Python disponibiliza uma função muito simples, chamada `open` que permite ler textos e que recebe como primeiro parâmetro o \"path\" do ficheiro. A função aceita outros parâmetros, sendo que a mais importante é o \"mode\", o qual especifica a forma como o ficheiro vai ser aberto. Abaixo listamos algumas opções de \"mode\":"
   ]
  },
  {
   "cell_type": "markdown",
   "metadata": {
    "slideshow": {
     "slide_type": "subslide"
    }
   },
   "source": [
    "- 'r' : usado para ler um ficheiro (modo default, no caso de não ser especificado nenhum modo) \n",
    "- 'w' : usado para escrita\n",
    "- 'a' : usado para acrescentar \"append\" conteúdo a um ficheiro\n",
    "- 'r+' : usado para leitura e escrita no mesmo ficheiro (lê primeiro o ficheiro e escreve no final deste)\n",
    "- 'w+' : usado para escrita de um ficheiro que já existe (limpa o ficheiro e escreve nele)"
   ]
  },
  {
   "cell_type": "markdown",
   "metadata": {},
   "source": [
    "A figura abaixo ilustra o processo de leitura de um ficheiro:"
   ]
  },
  {
   "cell_type": "markdown",
   "metadata": {},
   "source": [
    "<img src=\"https://s3-api.us-geo.objectstorage.softlayer.net/cf-courses-data/CognitiveClass/PY0101EN/Chapter%204/Images/ReadOpen.png\" width=\"500\" />"
   ]
  },
  {
   "cell_type": "markdown",
   "metadata": {},
   "source": [
    "<center>source: https://cognitiveclass.ai/</center>"
   ]
  },
  {
   "cell_type": "markdown",
   "metadata": {
    "slideshow": {
     "slide_type": "subslide"
    }
   },
   "source": [
    "Neste exemplo vamos abrir o ficheiro \"austen-emma-excerpt.txt\" que poderá encontrar na pasta \"data\". Para abrir um ficheiro tem de se fornecer ao Python a localização do ficheiro no disco. Isso é feito através do caminho (path) para o ficheiro.\n",
    "- se o ficheiro e o programa Python estão no mesmo diretório, podemos usar apenas o nome do ficheiro\n",
    "- se o ficheiro e o programa Python estão em diretórios diferentes, tem de se indicar o caminho (absoluto ou relativo) até ao ficheiro. Embora em Mac e em Linux se use o símbolo /, e em Windows o símbolo \\, na função open é sempre usado o símbolo / para separar os diferentes folders da path."
   ]
  },
  {
   "cell_type": "markdown",
   "metadata": {
    "slideshow": {
     "slide_type": "subslide"
    }
   },
   "source": [
    "Note que print(file) imprime apenas uma menção ao <i>TextIOWrapper</i>, que é uma forma de o Python dizer que abriu uma conexão para o ficheiro <i>data/austen-emma-excerpt.txt</i>. A leitura do conteúdo do ficheiro fica a cargo do método read (mais abaixo)."
   ]
  },
  {
   "cell_type": "code",
   "execution_count": 1,
   "metadata": {
    "slideshow": {
     "slide_type": "subslide"
    }
   },
   "outputs": [
    {
     "name": "stdout",
     "output_type": "stream",
     "text": [
      "<_io.TextIOWrapper name='data/austen-emma-excerpt.txt' mode='r' encoding='cp1252'>\n"
     ]
    }
   ],
   "source": [
    "path = \"data/\"\n",
    "#path = '/content/drive/My Drive/Colab Notebooks/data/' #Google Colab\n",
    "\n",
    "file_name = 'austen-emma-excerpt.txt'\n",
    "\n",
    "file = open(path + file_name)\n",
    "print(file)"
   ]
  },
  {
   "cell_type": "markdown",
   "metadata": {},
   "source": [
    "<hr>"
   ]
  },
  {
   "cell_type": "markdown",
   "metadata": {},
   "source": [
    "### Read"
   ]
  },
  {
   "cell_type": "markdown",
   "metadata": {
    "slideshow": {
     "slide_type": "subslide"
    }
   },
   "source": [
    "#### read"
   ]
  },
  {
   "cell_type": "markdown",
   "metadata": {},
   "source": [
    "Existem várias formas de ler dados a partir de um ficheiro. A forma mais simples é usar o método \"read\" (que opera em cima de objetos <i>TextIOWrapper</i>) para ler a totalidade dos conteúdos como uma única string (incluindo caracteres newline, no caso de estes existirem). O próximo código mostra como usar este método:"
   ]
  },
  {
   "cell_type": "code",
   "execution_count": 2,
   "metadata": {
    "slideshow": {
     "slide_type": "fragment"
    }
   },
   "outputs": [
    {
     "name": "stdout",
     "output_type": "stream",
     "text": [
      "Emma by Jane Austen 1816\n",
      "\n",
      "VOLUME I\n",
      "\n",
      "CHAPTER I\n",
      "\n",
      "\n",
      "Emma Woodhouse, handsome, clever, and rich, with a comfortable home\n",
      "and happy disposition, seemed to unite some of the best blessings\n",
      "of existence; and had lived nearly twenty-one years in the world\n",
      "with very little to distress or vex her.\n",
      "\n",
      "She was the youngest of the two daughters of a most affectionate,\n",
      "indulgent father; and had, in consequence of her sister's marriage,\n",
      "been mistress of his house from a very early period.  Her mother\n",
      "had died too long ago for her to have more than an indistinct\n",
      "remembrance of her caresses; and her place had been supplied\n",
      "by an excellent woman as governess, who had fallen little short\n",
      "of a mother in affection.\n"
     ]
    }
   ],
   "source": [
    "print(file.read())"
   ]
  },
  {
   "cell_type": "markdown",
   "metadata": {
    "slideshow": {
     "slide_type": "subslide"
    }
   },
   "source": [
    "Ao invés de imprimirmos o conteúdo é possível associá-lo a uma variável texto, que a partir desse momento pode passar a ser manipulada como qualquer outra string."
   ]
  },
  {
   "cell_type": "code",
   "execution_count": 3,
   "metadata": {
    "slideshow": {
     "slide_type": "fragment"
    }
   },
   "outputs": [
    {
     "name": "stdout",
     "output_type": "stream",
     "text": [
      "Emma by Jane Austen 1816\n",
      "\n",
      "VOLUME I\n",
      "\n",
      "CHAPTER I\n",
      "\n",
      "\n",
      "Emma Woodhouse, handsome, clever, and rich, with a comfortable home\n",
      "and happy disposition, seemed to unite some of the best blessings\n",
      "of existence; and had lived nearly twenty-one years in the world\n",
      "with very little to distress or vex her.\n",
      "\n",
      "She was the youngest of the two daughters of a most affectionate,\n",
      "indulgent father; and had, in consequence of her sister's marriage,\n",
      "been mistress of his house from a very early period.  Her mother\n",
      "had died too long ago for her to have more than an indistinct\n",
      "remembrance of her caresses; and her place had been supplied\n",
      "by an excellent woman as governess, who had fallen little short\n",
      "of a mother in affection.\n"
     ]
    }
   ],
   "source": [
    "path = \"data/\"\n",
    "#path = '/content/drive/My Drive/Colab Notebooks/data/' #Google Colab\n",
    "\n",
    "file_name = 'austen-emma-excerpt.txt'\n",
    "\n",
    "file = open(path + file_name)\n",
    "\n",
    "text = file.read()\n",
    "print(text)"
   ]
  },
  {
   "cell_type": "markdown",
   "metadata": {
    "slideshow": {
     "slide_type": "subslide"
    }
   },
   "source": [
    "Uma nova chamada a read() vai retornar uma string a vazio, para indicar que o final do ficheiro foi atingido."
   ]
  },
  {
   "cell_type": "code",
   "execution_count": 4,
   "metadata": {
    "slideshow": {
     "slide_type": "fragment"
    }
   },
   "outputs": [
    {
     "name": "stdout",
     "output_type": "stream",
     "text": [
      "\n"
     ]
    }
   ],
   "source": [
    "text = file.read()\n",
    "print(text)"
   ]
  },
  {
   "cell_type": "markdown",
   "metadata": {
    "slideshow": {
     "slide_type": "subslide"
    }
   },
   "source": [
    "Se efetivamente pretender ler novamente os dados, terá que reabrir a conexão ao ficheiro."
   ]
  },
  {
   "cell_type": "code",
   "execution_count": 5,
   "metadata": {
    "slideshow": {
     "slide_type": "fragment"
    }
   },
   "outputs": [
    {
     "name": "stdout",
     "output_type": "stream",
     "text": [
      "Emma by Jane Austen 1816\n",
      "\n",
      "VOLUME I\n",
      "\n",
      "CHAPTER I\n",
      "\n",
      "\n",
      "Emma Woodhouse, handsome, clever, and rich, with a comfortable home\n",
      "and happy disposition, seemed to unite some of the best blessings\n",
      "of existence; and had lived nearly twenty-one years in the world\n",
      "with very little to distress or vex her.\n",
      "\n",
      "She was the youngest of the two daughters of a most affectionate,\n",
      "indulgent father; and had, in consequence of her sister's marriage,\n",
      "been mistress of his house from a very early period.  Her mother\n",
      "had died too long ago for her to have more than an indistinct\n",
      "remembrance of her caresses; and her place had been supplied\n",
      "by an excellent woman as governess, who had fallen little short\n",
      "of a mother in affection.\n"
     ]
    }
   ],
   "source": [
    "path = \"data/\"\n",
    "#path = '/content/drive/My Drive/Colab Notebooks/data/' #Google Colab\n",
    "\n",
    "file_name = 'austen-emma-excerpt.txt'\n",
    "\n",
    "file = open(path + file_name)\n",
    "text = file.read()\n",
    "print(text)"
   ]
  },
  {
   "cell_type": "markdown",
   "metadata": {
    "slideshow": {
     "slide_type": "subslide"
    }
   },
   "source": [
    "Note que apesar de não ser necessário fechar a conexão ao ficheiro, é uma boa prática fazê-lo, por forma que o Python possa desde logo libertar os recursos associados à abertura de um ficheiro (algo que necessariamente acontecerá quando terminar o programa). Além do mais, no caso da escrita de um conteúdo para um ficheiro, o fato de não fechar a conexão pode ter como implicação o fato de as alterações não ficarem guardadas."
   ]
  },
  {
   "cell_type": "code",
   "execution_count": 6,
   "metadata": {
    "slideshow": {
     "slide_type": "fragment"
    }
   },
   "outputs": [],
   "source": [
    "file.close()"
   ]
  },
  {
   "cell_type": "markdown",
   "metadata": {},
   "source": [
    "Ler a totalidade do ficheiro, de uma só vez, para uma string nem sempre é desejável, especialmente quando lidamos com ficheiros grandes. O próximo exemplo usa um ciclo \"For\" para ler, uma a uma, as linhas de um ficheiro. Um tal código é possível, uma vez que o objeto \"file\" funciona como um iterador (uma sequência de linhas de texto). A cada passagem no loop, a variável de loop (no caso line), passa para a próxima linha de texto na sequência. Note que o comando \"print\" imprime uma newline adicional. Tal situação acontece, porque cada linha é tratada individualmente (incluindo as que contêm \"\\n\"). Para remover essas linhas adicionais pode recorrer à função strip()."
   ]
  },
  {
   "cell_type": "code",
   "execution_count": 7,
   "metadata": {},
   "outputs": [
    {
     "name": "stdout",
     "output_type": "stream",
     "text": [
      "Emma by Jane Austen 1816\n",
      "\n",
      "VOLUME I\n",
      "\n",
      "CHAPTER I\n",
      "\n",
      "\n",
      "Emma Woodhouse, handsome, clever, and rich, with a comfortable home\n",
      "and happy disposition, seemed to unite some of the best blessings\n",
      "of existence; and had lived nearly twenty-one years in the world\n",
      "with very little to distress or vex her.\n",
      "\n",
      "She was the youngest of the two daughters of a most affectionate,\n",
      "indulgent father; and had, in consequence of her sister's marriage,\n",
      "been mistress of his house from a very early period.  Her mother\n",
      "had died too long ago for her to have more than an indistinct\n",
      "remembrance of her caresses; and her place had been supplied\n",
      "by an excellent woman as governess, who had fallen little short\n",
      "of a mother in affection.\n"
     ]
    }
   ],
   "source": [
    "path = \"data/\"\n",
    "#path = '/content/drive/My Drive/Colab Notebooks/data/' #Google Colab\n",
    "\n",
    "file_name = 'austen-emma-excerpt.txt'\n",
    "\n",
    "file = open(path + file_name)\n",
    "for line in file:\n",
    "    print(line.strip(\"\\n\"))\n",
    "file.close()"
   ]
  },
  {
   "cell_type": "markdown",
   "metadata": {
    "slideshow": {
     "slide_type": "subslide"
    }
   },
   "source": [
    "Uma forma mais elegante de ler um ficheiro, passa pelo recurso ao <i>with</i>, um comando que fecha o <i>TextIOWrapper</i> automaticamente, sem necessidade de haver uma declaração (close) para que tal aconteça."
   ]
  },
  {
   "cell_type": "code",
   "execution_count": 8,
   "metadata": {
    "slideshow": {
     "slide_type": "fragment"
    }
   },
   "outputs": [
    {
     "name": "stdout",
     "output_type": "stream",
     "text": [
      "Emma by Jane Austen 1816\n",
      "\n",
      "VOLUME I\n",
      "\n",
      "CHAPTER I\n",
      "\n",
      "\n",
      "Emma Woodhouse, handsome, clever, and rich, with a comfortable home\n",
      "and happy disposition, seemed to unite some of the best blessings\n",
      "of existence; and had lived nearly twenty-one years in the world\n",
      "with very little to distress or vex her.\n",
      "\n",
      "She was the youngest of the two daughters of a most affectionate,\n",
      "indulgent father; and had, in consequence of her sister's marriage,\n",
      "been mistress of his house from a very early period.  Her mother\n",
      "had died too long ago for her to have more than an indistinct\n",
      "remembrance of her caresses; and her place had been supplied\n",
      "by an excellent woman as governess, who had fallen little short\n",
      "of a mother in affection.\n"
     ]
    }
   ],
   "source": [
    "path = \"data/\"\n",
    "#path = '/content/drive/My Drive/Colab Notebooks/data/' #Google Colab\n",
    "\n",
    "file_name = 'austen-emma-excerpt.txt'\n",
    "with open(path + file_name) as f:\n",
    "    text = f.read()\n",
    "\n",
    "print(text)"
   ]
  },
  {
   "cell_type": "markdown",
   "metadata": {},
   "source": [
    "Similarmente podemos recorrer a uma ciclo for para ler um ficheiro linha a linha."
   ]
  },
  {
   "cell_type": "code",
   "execution_count": null,
   "metadata": {},
   "outputs": [],
   "source": [
    "path = \"data/\"\n",
    "#path = '/content/drive/My Drive/Colab Notebooks/data/' #Google Colab\n",
    "\n",
    "file_name = 'austen-emma-excerpt.txt'\n",
    "with open(path + file_name) as f:\n",
    "    for line in f:\n",
    "        print(line)"
   ]
  },
  {
   "cell_type": "markdown",
   "metadata": {},
   "source": [
    "<hr>"
   ]
  },
  {
   "cell_type": "markdown",
   "metadata": {
    "slideshow": {
     "slide_type": "subslide"
    }
   },
   "source": [
    "#### readlines"
   ]
  },
  {
   "cell_type": "markdown",
   "metadata": {},
   "source": [
    "Ao invés do comando <i>read</i> é possível usar o comando <i>readlines</i>, o qual vai ler todas as linhas para uma lista de <i>strings</i>. Observe no entanto que à frente de cada string é adicionado um newline `\\n`."
   ]
  },
  {
   "cell_type": "code",
   "execution_count": 9,
   "metadata": {
    "slideshow": {
     "slide_type": "fragment"
    }
   },
   "outputs": [
    {
     "name": "stdout",
     "output_type": "stream",
     "text": [
      "['Emma by Jane Austen 1816\\n', '\\n', 'VOLUME I\\n', '\\n', 'CHAPTER I\\n', '\\n', '\\n', 'Emma Woodhouse, handsome, clever, and rich, with a comfortable home\\n', 'and happy disposition, seemed to unite some of the best blessings\\n', 'of existence; and had lived nearly twenty-one years in the world\\n', 'with very little to distress or vex her.\\n', '\\n', 'She was the youngest of the two daughters of a most affectionate,\\n', \"indulgent father; and had, in consequence of her sister's marriage,\\n\", 'been mistress of his house from a very early period.  Her mother\\n', 'had died too long ago for her to have more than an indistinct\\n', 'remembrance of her caresses; and her place had been supplied\\n', 'by an excellent woman as governess, who had fallen little short\\n', 'of a mother in affection.']\n"
     ]
    }
   ],
   "source": [
    "path = \"data/\"\n",
    "#path = '/content/drive/My Drive/Colab Notebooks/data/' #Google Colab\n",
    "\n",
    "file_name = 'austen-emma-excerpt.txt'\n",
    "with open(path + file_name) as f:\n",
    "    ListOfSentences = f.readlines()\n",
    "\n",
    "print(ListOfSentences)"
   ]
  },
  {
   "cell_type": "markdown",
   "metadata": {},
   "source": [
    "Para remover esse newline podemos recorrer ao seguinte código:"
   ]
  },
  {
   "cell_type": "code",
   "execution_count": 10,
   "metadata": {},
   "outputs": [
    {
     "data": {
      "text/plain": [
       "['Emma by Jane Austen 1816',\n",
       " '',\n",
       " 'VOLUME I',\n",
       " '',\n",
       " 'CHAPTER I',\n",
       " '',\n",
       " '',\n",
       " 'Emma Woodhouse, handsome, clever, and rich, with a comfortable home',\n",
       " 'and happy disposition, seemed to unite some of the best blessings',\n",
       " 'of existence; and had lived nearly twenty-one years in the world',\n",
       " 'with very little to distress or vex her.',\n",
       " '',\n",
       " 'She was the youngest of the two daughters of a most affectionate,',\n",
       " \"indulgent father; and had, in consequence of her sister's marriage,\",\n",
       " 'been mistress of his house from a very early period.  Her mother',\n",
       " 'had died too long ago for her to have more than an indistinct',\n",
       " 'remembrance of her caresses; and her place had been supplied',\n",
       " 'by an excellent woman as governess, who had fallen little short',\n",
       " 'of a mother in affection']"
      ]
     },
     "execution_count": 10,
     "metadata": {},
     "output_type": "execute_result"
    }
   ],
   "source": [
    "lines = [s[:-1] for s in ListOfSentences]\n",
    "lines"
   ]
  },
  {
   "cell_type": "markdown",
   "metadata": {},
   "source": [
    "<hr>"
   ]
  },
  {
   "cell_type": "markdown",
   "metadata": {
    "slideshow": {
     "slide_type": "subslide"
    }
   },
   "source": [
    "#### zip and gzip"
   ]
  },
  {
   "cell_type": "markdown",
   "metadata": {},
   "source": [
    "O código seguinte permite a leitura do ficheiro de texto `austen-emma-excerpt.txt` que faz parte de um ficheiro zip `austen-emma-excerpt.zip`. Esta situação é particulamente útil quando estamos na presença de um ficheiro demasiado grande e não queremos descompactá-lo, preferindo ao invés, proceder à sua leitura diretamente a partir do zip."
   ]
  },
  {
   "cell_type": "code",
   "execution_count": null,
   "metadata": {},
   "outputs": [],
   "source": [
    "import zipfile\n",
    "\n",
    "path = \"data/\"\n",
    "#path = '/content/drive/My Drive/Colab Notebooks/data/' #Google Colab\n",
    "\n",
    "file_name_zip = 'austen-emma-excerpt.zip'\n",
    "file_name_txt = 'austen-emma-excerpt.txt'\n",
    "\n",
    "f = zipfile.ZipFile(path + file_name_zip)\n",
    "text = f.read(file_name_txt)\n",
    "print(text)"
   ]
  },
  {
   "cell_type": "markdown",
   "metadata": {},
   "source": [
    "O código seguinte permite a leitura do texto de todos os ficheiros que constam do zip."
   ]
  },
  {
   "cell_type": "code",
   "execution_count": null,
   "metadata": {},
   "outputs": [],
   "source": [
    "import zipfile\n",
    "\n",
    "path = \"data/\"\n",
    "#path = '/content/drive/My Drive/Colab Notebooks/data/' #Google Colab\n",
    "\n",
    "file_name_zip = 'austen-emma-excerpt.zip'\n",
    "\n",
    "fzip = zipfile.ZipFile(path + file_name_zip)\n",
    "\n",
    "# list file information\n",
    "for file in fzip.infolist():\n",
    "    print(file.filename, file.date_time)\n",
    "    print(\"--------------------------------------------------------\\n\")\n",
    "    with fzip.open(file.filename) as f:\n",
    "        text = f.read()\n",
    "        print(text)"
   ]
  },
  {
   "cell_type": "markdown",
   "metadata": {},
   "source": [
    "Muitos ficheiros aparecem no formato gz, um método de compressão dos sistemas linux. O código seguinte permite ler um ficheiro (composto por um conjunto de texto sem grande significado) diretamente a partir do formato gz, ou seja, sem necessidade de proceder à sua descompactação."
   ]
  },
  {
   "cell_type": "code",
   "execution_count": null,
   "metadata": {},
   "outputs": [],
   "source": [
    "import gzip\n",
    "\n",
    "path = \"data/\"\n",
    "#path = '/content/drive/My Drive/Colab Notebooks/data/' #Google Colab\n",
    "\n",
    "file_name_gz = 'SampleFile.gz'\n",
    "with gzip.open(path + file_name_gz,'rb') as f:\n",
    "    text = f.read()\n",
    "\n",
    "print(text)"
   ]
  },
  {
   "cell_type": "markdown",
   "metadata": {},
   "source": [
    "Método read de file:\n",
    "- devolve o conteúdo de todo o ficheiro numa só string."
   ]
  },
  {
   "cell_type": "markdown",
   "metadata": {
    "slideshow": {
     "slide_type": "subslide"
    }
   },
   "source": [
    "Método readlines de file:\n",
    "- devolve o conteúdo de todo o ficheiro numa lista de strings;\n",
    "- cada elemento da lista é uma string, que corresponde a uma linha do ficheiro"
   ]
  },
  {
   "cell_type": "markdown",
   "metadata": {},
   "source": [
    "<hr>"
   ]
  },
  {
   "cell_type": "markdown",
   "metadata": {},
   "source": [
    "### character encoding"
   ]
  },
  {
   "cell_type": "markdown",
   "metadata": {},
   "source": [
    "<u>What is character encoding?</u>"
   ]
  },
  {
   "cell_type": "markdown",
   "metadata": {},
   "source": [
    "The encoding by definition is a way to convert data from one format to another. When we have some text (sequence of characters) and we want to either store it inside a computer (machine) or transfer over a digital network, we need to convert it to binary representation because that’s the only language a binary-based computer can understand. A character encoding is a way to convert text data into binary numbers. In a nutshell, we can assign unique numeric values to specific characters and convert those numbers in binary language. These binary numbers later can be converted back to original characters based on their values. More [here](https://itnext.io/introduction-to-character-encoding-3b9735f265a6)."
   ]
  },
  {
   "cell_type": "markdown",
   "metadata": {},
   "source": [
    "De acordo com a documentação do método `open()` do Python 3, o encoding por defeito de um ficheiro de texto é dado pelo próprio sistema, se o argumento de enconding não for fornecido."
   ]
  },
  {
   "cell_type": "markdown",
   "metadata": {},
   "source": [
    "Para verificar o default encoding do seu sistema execute o seguinte código:"
   ]
  },
  {
   "cell_type": "code",
   "execution_count": 11,
   "metadata": {},
   "outputs": [
    {
     "data": {
      "text/plain": [
       "'cp1252'"
      ]
     },
     "execution_count": 11,
     "metadata": {},
     "output_type": "execute_result"
    }
   ],
   "source": [
    "import locale\n",
    "locale.getpreferredencoding()"
   ]
  },
  {
   "cell_type": "markdown",
   "metadata": {},
   "source": [
    "Para obter uma lista completa dos encodings consulte: https://docs.python.org/3/library/codecs.html#standard-encodings"
   ]
  },
  {
   "cell_type": "markdown",
   "metadata": {},
   "source": [
    "A maioria dos ficheiros apresenta no entanto um encoding diferente (habitualmente UTF-8)."
   ]
  },
  {
   "cell_type": "markdown",
   "metadata": {},
   "source": [
    "Para saber o encoding do ficheiro, abra o ficheiro com o Notepad. Posteriormente clique em \"Ficheiro - Guardar Como\" e terá acesso à codificação conforme exemplificado na figura seguinte:"
   ]
  },
  {
   "cell_type": "markdown",
   "metadata": {},
   "source": [
    "<img src=\"https://www.di.ubi.pt/~rcampos/assets/img_tutorials/Introduction2Python/encoding.jpg\" width=\"500\" height=\"500\" align=\"center\"/>"
   ]
  },
  {
   "cell_type": "markdown",
   "metadata": {},
   "source": [
    "A não especificação do encoding UTF-8 na leitura do ficheiro, terá como consequência a geração de um erro, conhecido como `UnicodeDecodeError`."
   ]
  },
  {
   "cell_type": "code",
   "execution_count": 12,
   "metadata": {},
   "outputs": [
    {
     "ename": "UnicodeDecodeError",
     "evalue": "'charmap' codec can't decode byte 0x81 in position 3280: character maps to <undefined>",
     "output_type": "error",
     "traceback": [
      "\u001b[1;31m---------------------------------------------------------------------------\u001b[0m",
      "\u001b[1;31mUnicodeDecodeError\u001b[0m                        Traceback (most recent call last)",
      "Cell \u001b[1;32mIn[12], line 7\u001b[0m\n\u001b[0;32m      4\u001b[0m file_name \u001b[38;5;241m=\u001b[39m \u001b[38;5;124m'\u001b[39m\u001b[38;5;124mmarcelo.txt\u001b[39m\u001b[38;5;124m'\u001b[39m\n\u001b[0;32m      6\u001b[0m file \u001b[38;5;241m=\u001b[39m \u001b[38;5;28mopen\u001b[39m(path \u001b[38;5;241m+\u001b[39m file_name)\n\u001b[1;32m----> 7\u001b[0m \u001b[38;5;28mprint\u001b[39m(\u001b[43mfile\u001b[49m\u001b[38;5;241;43m.\u001b[39;49m\u001b[43mread\u001b[49m\u001b[43m(\u001b[49m\u001b[43m)\u001b[49m)\n",
      "File \u001b[1;32m~\\Anaconda3\\lib\\encodings\\cp1252.py:23\u001b[0m, in \u001b[0;36mIncrementalDecoder.decode\u001b[1;34m(self, input, final)\u001b[0m\n\u001b[0;32m     22\u001b[0m \u001b[38;5;28;01mdef\u001b[39;00m \u001b[38;5;21mdecode\u001b[39m(\u001b[38;5;28mself\u001b[39m, \u001b[38;5;28minput\u001b[39m, final\u001b[38;5;241m=\u001b[39m\u001b[38;5;28;01mFalse\u001b[39;00m):\n\u001b[1;32m---> 23\u001b[0m     \u001b[38;5;28;01mreturn\u001b[39;00m \u001b[43mcodecs\u001b[49m\u001b[38;5;241;43m.\u001b[39;49m\u001b[43mcharmap_decode\u001b[49m\u001b[43m(\u001b[49m\u001b[38;5;28;43minput\u001b[39;49m\u001b[43m,\u001b[49m\u001b[38;5;28;43mself\u001b[39;49m\u001b[38;5;241;43m.\u001b[39;49m\u001b[43merrors\u001b[49m\u001b[43m,\u001b[49m\u001b[43mdecoding_table\u001b[49m\u001b[43m)\u001b[49m[\u001b[38;5;241m0\u001b[39m]\n",
      "\u001b[1;31mUnicodeDecodeError\u001b[0m: 'charmap' codec can't decode byte 0x81 in position 3280: character maps to <undefined>"
     ]
    }
   ],
   "source": [
    "path = \"data/\"\n",
    "#path = '/content/drive/My Drive/Colab Notebooks/data/' #Google Colab\n",
    "\n",
    "file_name = 'marcelo.txt'\n",
    "\n",
    "file = open(path + file_name)\n",
    "print(file.read())"
   ]
  },
  {
   "cell_type": "markdown",
   "metadata": {},
   "source": [
    "Para evitar este tipo de problemas o método `open` oferece-nos a possibilidade de especificarmos o tipo de `encoding`."
   ]
  },
  {
   "cell_type": "code",
   "execution_count": 13,
   "metadata": {},
   "outputs": [
    {
     "name": "stdout",
     "output_type": "stream",
     "text": [
      "Blogue Entrar | Criar Blogue Blogue Belém, escutas e dramatização 23 September 09 12:00 AM ESCUTAS i. Fernando Lima muda de pelouro em Belém. Em teoria, bastaria chamada de atenção ou reajuste após as eleições. Do meu ponto de vista – que nunca dramatizou a matéria das escutas. Mas o Presidente lá sabe.   ESCUTAS iI. Pode o PS retirar daqui absolvição de arrogâncias, autoritarismos e controleirismos de quatro anos e meio? Não pode. E nós não esquecemos. ESCUTAS IIi. Bloco e PS querem continuar a dramatizar a situação. Obviamente, para atacarem Cavaco, a pensar nas presidenciais. Espero que, no PSD, não haja quem, pelos motivos mais respeitáveis, alimente essa ‘saga’, ao menos pensando nas eleições de Janeiro de 2011.   ESCUTAS iV. Exemplar a reacção de Manuela. Inteligente e com classe. FALCÃO E CUNHA. Antigo colaborador de meu pai, velho amigo de família e homem bom. Espalhou optimismo pela vida dos outros. Publicado por  MarceloRSousa | 12 Comentário(s)     Mendes, PSD e poeira do CDS 22 September 09 12:00 AM MARQUES MENDES. Outra presença determinante, ao lado de Manuela. Na hora da verdade, os verdadeiros laranjinhas nunca faltam.   POEIRA. Dizer, como diz o CDS, que o importante é PSD+CDS terem mais do que PS e, para isso,   ser   indiferente   votar   PSD   ou   CDS   é    enganar   o   pagode.   Se   Manuela   tiver   35%   e Portas 8%, ou seja, juntos, 43%, mas Sócrates tiver   38%,   quem   vai   governar   é   Sócrates.   Sócrates só sai se Manuela (e, portanto, o PSD) tiver mais votos e deputados do que ele. RUI TEIXEIRA. Conselho Superior da Magistratura garante que a suspensão da nota de avaliação do juiz Rui Teixeira nada teve a ver com razão partidária. Acredito. Mas, que há cidadãos de 1.ª e de 2.ª, há. Tantos recursos por decidir e, por feliz acaso, só o do processo de Paulo Pedroso, aparentemente, determina suspensão de nota de juiz... EDUARDO BARROSO. Homenageado, hoje, na abertura de Congresso Mundial, em Pequim. Pelo mérito excepcional no domínio da cirurgia do fígado. Já 1050 transplantes! Também assinalados, em Portugal, na Gulbenkian. Dia 20 de Novembro. Publicado por  MarceloRSousa | 1 Comentário(s)     Alegre, Soares e ataques excessivos 21 September 09 12:00 AM ALEGRE E SOARES na campanha de Sócrates. Quanto vezes não falaram eles em arrogância do Governo nos últimos quatro anos!... Esqueceram-se? ATAQUES EXCESSIVOS. Manuela é fanática – diz Soares. Por ter outra opinião económica… Fanáticos são os terroristas-bomba. Confundir as duas coisas não revela grande discernimento. CORDÃO   DE   LEITURA. Sábado e domingo, na Praça Luís de Camões. Ideia de Editorial Objectiva. Boa ideia! SP.   BRAGA. Ontem. Sólido contra o FC Porto. E mais uma vitória. Caminhada impressionante! MALANGATANA. Uma semana depois da inauguração da escultura Paz e Amizade, de exposição de fotos no Barreiro e de óleos na Guarda, reunião na Faculdade. Projectos para o futuro, muitos.   Não envelhece, o meu ‘mano mais velho’, como continua a dizer-se. E bem! COINCIDÊNCIA. Pelo meio, li projectos de tese de doutoramento de dois mestrandos moçambicanos,que oriento. Verdadeiro Dia de Moçambique! NOTÁVEL. A evocação de Joaquín Ruíz-Giménez por Guilherme d’Oliveira Martins. No Voz da Verdade . Um social-cristão do Vaticano II, que desapareceu. _ GULBENKIAN. Prokofiev (Sinfonia n.º 1) e Chopin (Concertos para piano e orquestra n.ºs 1 e 2). Orquestra Gulbenkian e Daniel Barenboim.   Lawrence Foster a dirigir. Um grande início de temporada. BALSEMÃO. Atacou – bem – Santos Silva e aparece sexta-feira, ao lado de Manuela. Presença essencial. Publicado por  MarceloRSousa | 2 Comentário(s)     Sampaio, Óbidos e PSD 19 September 09 12:00 AM JORGE SAMPAIO I. Jantar-surpresa. Pelos 70 anos. Ideia de Maria José Rita, Vera, André e amigos. No Pestana Palace. Trezentas pessoas. Muito emotivo – com colegas de há 50 anos (e mais) a falar. Pelo meio, fado com Maria Ana Bobone e Miguel Capucho. Gente muito variada. Mais esquerda do que direita – como se esperaria (PSD notórios estávamos Isabel Mota, Marques Mendes e eu). Traço comum – a amizade, superando diversidades e divergências. JORGE SAMPAIO II. Recordo a amizade dos nossos pais (Arnaldo Sampaio foi mesmo colaborador cimeiro de meu pai na Saúde, apesar das suas ideias diferentes). E, depois, os almoços no snack--bar do Hotel Flórida, a partir de 1972 (já lá vão 37 anos!). Sendo o escritório de Jorge vizinho da sede do Expresso , que então arrancava. Ainda não se sabia, sequer, quando chegaria a democracia... PAULA REGO. Garante a minha filha Sofia: noite feérica na Cidadela de Cascais. Com Camané. Pela inauguração do Museu-Casa das História de Paula Rego. Uma óptima visita de Outono. Já agora, indo à exposição de António Olmos no Centro Cultural. MAIS   SONDAGENS. Estas com PS a menos distância do PSD – entre 3% e 3,5%. Recuperação do PSD? Ou, no fundo, tudo na margem de erro ou perto dela? Dentro de oito dias se saberá. E oito dias podem ser (ou não) uma eternidade. ÓBIDOS. Casamento de fim de Verão. Maria João e João Silveira Botelho, anfitriões. Dizia a Rita, com razão: «Cenário lindíssimo, junto ao castelo. Ambiente sóbrio, mas caloroso» . Óbidos – exemplo de preservação e valorização patrimonial. Parabéns ao presidente Telmo Faria. PSD. Pelo meio, mais um pulo. Novamente a Coimbra. Para estar presente na festa do PSD com Manuela Ferreira Leite. Como em todas as campanhas, nunca falto. PSD é, para mim, uma família. E à família, nos momentos decisivos, não se diz não. Ia só para estar. Mas tinha lógica que falasse. Estou desacostumado e saiu misto de emotivo (sobre o partido) e analítico (sobre o país). O que importa é a intenção. Dar força nesta ponta final.   E   Manuela   merece. Fim-de-semana cheio: irmão, amigo, Jorge Sampaio, amigo João Silveira Botelho, partido, outra família. Mas são estes instantes que dão cor (e sentido) à vida. Publicado por  MarceloRSousa | 1 Comentário(s)     Jornais, propaganda e escutas 18 September 09 12:00 AM PROPAGANDA subtil. Do Governo e do PS. Suplemento do DN e do JN . De hoje. Sobre as Novas Oportunidades. A uma semana das eleições. Percebidos. E a culpa não é dos jornais. ASSESSOR? Foi um assessor a fonte da Presidência no caso estival das escutas de S. Bento a Belém? Por definição, fontes são sigilosas. SECRETA? Foram os serviços secretos a apanhar o e-mail entre jornalistas do Público que denunciaria o assessor? Por definição, e-mails não são correspondência pública. RIDÍCULO OU GRAVE? É grave haver assessores de Belém a fazer o que se insinua   terem   feito?   E   existirem   serviços   secretos   que   se   especula teriam violado direitos fundamentais dos portugueses? Prefiro manter a versão do equívoco e do ridículo: tudo para investigar um ‘cuscas’ de S. Bento que teria andado a tentar ouvir conversas, num jantar na Madeira,   aos   homens   do   Presidente…   Se   fosse   mesmo   sério,   Cavaco teria agido de outro modo. E com tempo. Até para que os portugueses pudessem   ponderar   os   factos   no   momento   de   decidirem   a   eventual reeleição   de   alguém   que,   nesse   caso,   teria   sido   responsável   político   por   coisas   muito   graves. JOSÉ   MANUEL   FERNANDES. Noticiada a saída do Público . Em Outubro. Se for verdade, pena! Um jornalista que foi muito importante para afirmar o Público e o seu papel na difícil sucessão de Vicente Jorge Silva. Nem sempre concordei com as suas posições, cada vez mais à minha direita. Mas admirei sempre a sua coragem na defesa do que entendia ser a boa causa. Publicado por  MarceloRSousa | 0 Comentário(s)     Sondagem, Sócrates e TGV 17 September 09 12:00 AM SONDAGEM   I. Ainda um quarto de indecisos. A duas semanas das eleições legislativas (o trabalho de campo da sondagem da Universidade Católica terminou a 14). É muita indecisão. SONDAGEM   II. Nos já decididos, PS alarga para 6% sobre PSD, e BE bate CDS e CDU, quase empatados. Razões? Debates? Mensagem? Imagem? Para mim – apelo de Sócrates a voto útil está a entrar em abstencionistas, no PCP e no BE. Manuela não tem apelado a voto útil no centro-direita. RESULTADOS FINAIS. Quais serão? Subida de PS é tendência? Ou PSD sobe na parte final? Nas eleições norueguesas, as últimas sondagens davam vitória à direita e os trabalhistas venceram. Por pouco. Mas venceram. PRETO E LOPES DA COSTA. Mais um caso. A criar ruído. Contra o PSD. Isso é indiscutível. Quanto à substância, como é possível, depois de tanta preocupação de rigor em estatutos e regulamento eleitoral, desde as reformas de Rui Rio (na minha liderança) às de Marques Mendes? Não vejo como. SÓCRATES. Sempre andou de TGV, de Paris a Bruxelas, para a fotografia. A explorar o que ele acha que é a pacovice nacional. A Oposição nada disse. Depois, admira-se... 2-1. Sporting e Benfica, bem na Liga Europa. Nacional, quase bem. Jornada, globalmente, positiva para Portugal. FERRAZ DA COSTA. Notável o retratoque fez de José Manuel de Mello, na SIC_Notícias . Publicado por  MarceloRSousa | 1 Comentário(s)     Aulas, Barroso e Mello 16 September 09 12:00 PM AULAS na Faculdade. Começaram ontem. Finalmente… Em ritmo promissor. CONSELHO PEDAGÓGICO. Reunião sobre o novo ano lectivo e a avaliação. Má notícia: saída de Duarte Nogueira, futuro director da Faculdade de Direito da Lusíada. Dará aulas na nossa escola, mas deixará o órgão a que presidia. Luís Morais parece-me um sucessor natural. MOÇAMBICANOS. Alunos de mestrado. Reuniões de trabalho na Faculdade. Mestrados avançam em boa forma. MANUELA. No novo programa dos Gato Fedorento. Bem. Mais tímida do que Sócrates no dia anterior. Mas com audiência recorde de quase dois milhões de espectadores, batendo mesmo o Chelsea-FC Porto. BARROSO.   Eleito como se previa. Bom para a Europa. Mas segundo mandato à frente da Comissão Europeia será mais exigente. JOSÉ    MANUEL    DE    MELLO. Inteligente, visionário, precursor. Nas empresas. Na percepção da necessidade de viragem para democracia e Europa. Recordo sessão na SEDES, em 1972, com Silva Lopes, Eugénio Mota e João Salgueiro, que deu brado na ditadura. Depois de 1974, relançou a Saúde privada, as infra-estruturas rodoviárias e novos serviços. Espírito sempre jovem. COIMBRA. Sessão com Barbosa de Melo e Mota Pinto. Uma multidão. PSD já sonha com vitória. Publicado por  MarceloRSousa | 9 Comentário(s)      Alegre e Leiria 15 September 09 12:00 PM Seg 14 e Ter 15 ALEGRE.   Afinal,   vai   a   comício   do   PS   em   Coimbra. Solidário com Ana Jorge. Uma ajudinha   a   Sócrates… TENSA. Muito. A entrevista de Sócrates à Antena 1.   Flor   Pedroso,   dura.   À   noite, leve e divertida a conversa com os Gatos, na    SIC.    Uma    descompressão    em    dia   ainda   muito   (demasiado)   TGV… LEIRIA. Debate com jovens (e não jovens) sobre cidadania e participação. Isabel Damasceno, mais nova, outra vez. Teresa Morais, brilhante. Eu, mais analítico e concreto. Duzentas e tal pessoas. Bastantes perguntas. Três horas. Uma ou outra, via internet. Boa ideia! ESPREITAR. A preparação do comício de amanhã do PS. Foi o que fizemos, entre jantar e sessão. Cópia de Obama. Espaço muito pequeno. Três bancadas para enquadramento. Sócrates, no meio. Impressionante, a sofisticação (e o custo?), sobretudo comparada com as arruadas do PSD, os contactos do CDS, e as sessões do PCP e do BE… ROTARY CLUBE DE LISBOA. Homenagem ao Brasil, na pessoa do seu embaixador. Sublinhado a Bruno Vicente pela doação de livros e material escolar ao meu Celorico de Basto. FC PORTO bem na atitude contra o Chelsea. Minutos finais justificavam o empate... SP. BRAGA. E o meu Braga líder da Liga. Ainda. Pode ser passageiro, mas é óptimo! SALDO do dia político: empate persiste. Entre PS e PSD. Impressão retirada de conversas na Faculdade e à margem do Rotary (lá dentro, partidos não existem). Tudo em aberto. Até quando? Publicado por  MarceloRSousa | 0 Comentário(s)     Campanha em TGV 13 September 09 12:00 PM TGV 1. Sócrates continua a guerra do TGV. Será pagante para tanto eleitor pobre ou desempregado? Tenho dúvidas. TGV 2. Ministro do Fomento espanhol está preocupado com posição de Manuela sobre o TGV. E ninguém lhe diz que resista à tentação de se meter na vida política portuguesa em plena campanha eleitoral? TGV 3. E Manuela, não chamou à colação Espanha? Sim. Mas, para mim, o forte do seu argumento sobre o TGV não é, obviamente, esse – é Portugal 2009 não ser Portugal 2003 e haver constrangimentos que não é possível ignorar. TGV 4. Alguém me dizia, hoje, que Sócrates vai a França, andar de TGV de Paris a Lyon ou a Bruxelas, para mostrar a rapidez do transporte. Cairá daí abaixo, em ridículo? E o PSD não tirará proveito? A questão não é a rapidez, é o custo. Publicado por  MarceloRSousa | 2 Comentário(s)     Debate político de bom nível 12 September 09 12:10 PM ACABARAM os debates. Sócrates e Manuela: 3-4. Portas, a surpresa. Manuela, lisonjeira para uma recém-chegada a debates e com magnífica última prestação. Sócrates, a sair-se bem para o desgaste que tem. Louçã, a desilusão. Jerónimo, não vocacionado para a matéria. Influenciarão o voto? Ninguém sabe. Mas continuo na minha – menos do que se pensa. A maioria esmagadora dos que os viram já sabe como votar. Quem ainda não sabe provavelmente não se decide por debates. E, entre Portas, Manuela e Sócrates, a diferença foi pequena. Mas será mesmo que os debates não contam? Veremos. De todo o modo, recorde-se o sucedido com Hillary e Obama. Ela muito melhor nos debates, ele o vencedor das primárias. O ÚLTIMO debate teve bom nível. Manuela mostrou-se aguerrida, firme, muito mais solta. E marcou muitos pontos por isso – é uma plausível primeira-ministra. Sócrates confirmou articulação e segurança. Marcou também pontos – para quem se confrontou com a crise, os erros, os abusos, os casos Universidade Independente e Freeport, o desgaste pessoal que acumulou nestes quatro anos e meio, a forma é bastante boa. MORA. Em dia de exame de Introdução ao Direito, apresentação, em Mora, do livro Lugares alentejanos na literatura portuguesa (obra colectiva de escritores e fotógrafos lá nascidos ou adoptados). Projecto de Fernando Dacosta. Lançamento ainda da Estação-Imagem, museu vivo de fotografia na velha estação de comboios, arquitectonicamente repensada. Grande entusiasta, o fotógrafo Luís Vasconcelos. Homenagem a António Gonçalves Pedro, fotógrafo amador da velha Mora.   No   final,   tempo   para   ir   ao fluviário [foto acima], aquário imaginativo e instrutivo para crianças, jovens e adultos. DIFERENÇAS. No regresso de Mora, inauguração na Fundação Gulbenkian de exposição de Design – que é imperativo visitar – com artistas de uma dezena de nacionalidades convidados a criar sobre o tema de Diferenças (tema que corresponde ao nome de associação com o mesmo nome e votada a crianças portadoras de síndrome de Down ou trissomia 21 e outras diferenciações análogas). Notável exposição. Parabéns a Pedro Bidarra, Guta Moura Guedes e, claro, Miguel Palha. HOMENAGEM. Com este dia exaustivo, faltei à homenagem prestada a Emília Nadal – pessoa e obra. Em Lamego. No encontro pluridisciplinar Plast&Ciea. Presentes, Eduardo Lourenço, Vasco Graça Moura, Francisco Laranjo, Bento Domingues, José Luís Porfírio e Rui Mário Gonçalves (e muitos mais). Primeira, a artista portuguesa viva. Bem justa. Publicado por  MarceloRSousa | 0 Comentário(s)     Portugal na UE, Maddie e Louçã 11 September 09 12:00 PM NA MESMA. Como a lesma. Não piorámos. Mas não melhorámos: Portugal em 43.º entre 133 países, na competitividade (12.º na Zona Euro e 17.º nos 27 da UE). Boas notícias: mortalidade infantil (3.º), investimento em qualificações (27.º, subindo) e inovação (33.º, subindo); curioso o 12.º lugar em telemóveis. Negativo: rigidez do mundo laboral (129.º) e, claro, na qualidade da educação básica (59.º). Primeiros lugares: Suíça, EUA, Singapura, Suécia, Dinamarca, Finlândia. Atenção aos exemplos dos nórdicos. GONÇALO AMARAL. Livro retirado da venda pelo Tribunal. Meio caminho andado para aumentar o sucesso editorial. E um dos maiores fracassos da nossa investigação judicial. Mas em que o casal McCann não sai nada bem. Diria mesmo que sai bastante mal, por muito injusto que possa, eventualmente, ser. EXAMES da cadeira de Direito Administrativo I. Vistos e entregues. Época de recurso do recurso. Saldo – o possível. PORTAS-LOUÇÃ. O maior beneficiário dos debates, Portas, contra quem perdeu mais do que ganhou com eles, Louçã. Vitória tangencial do primeiro, 2-1. Mas como, a meu ver, os debates não foram decisivos, tudo (ou quase tudo), ainda, em aberto. Embora me pareça que o BE ficará sempre acima do PCP e Portas aguentará votação das europeias sem dificuldade. Publicado por  MarceloRSousa | 0 Comentário(s)     Júlio, P. Cruz e voto útil 10 September 09 12:00 PM JÚLIO MAGALHÃES. Ao ouvir a escolha para director de Informação da TVI, dezenas de óptimas recordações de 2002 a 2004 vieram ao meu espírito. Do programa com ele (alternando, então, sobretudo, com José Carlos Castro). Criámos empatia inesquecível. Um abraço de felicidades ao Júlio, que a tarefa é hercúlea (e faz falta um coordenador tipo Moniz entre programas e informação). Mas ele é decidido e popular. Será que, um dia, nos reencontraremos? Uma boa pergunta para ele, para mim, e até para a RTP... HOMENAGEM em Peniche. A D. António Viçoso (1787--1875). Bispo lutador contra a escravatura de negros e índios, no Brasil. Exemplo a evocar. 150 ANOS do nascimento do padre Cruz. Prossegue a causa da canonização. Marcou muito meus pais, através do seu confessor e meu baptizante Abel Varzim. Curiosamente (ou não), recebi de minha mãe o missal anotado com que o padre Cruz preparava as suas homilias, oferta do sobrinho Francisco Elmano Alves, amigo e afilhado de meus pais. MONCHIQUE. Jantar de lançamento do jovem Rui André, actual vereador. Com grande futuro. Aqui fiz, em 1974, a primeira sessão do PPD. E voltei em 1975 na campanha para a Constituinte (comício à chuva, em cima de camioneta). Nos primeiros meses do PPD, tive a meu cargo a coordenação da Grande Lisboa, Alentejo e Algarve. Ou seja, tudo o que era difícil. Felizmente, o Pedro Roseta, o Jorge Correia da Cunha e o Luciano Ravara (logo) e a Helena Roseta (a partir do Verão) foram essenciais. Sobretudo, a Helena e o Pedro – sem os quais o PPD, hoje PSD, não teria arrancado em Lisboa e no Sul do continente. Aliás, viriam a ser, ambos, presidentes da Distrital de Lisboa. MANUELA-PORTAS. Manuela evitou conflito. Quer votos, mas também abrir para PSD-CDS, se for o caso. Portas quer manter e reforçar votação. Debate equilibrado: 1-1. Único problema: ter de ser eu a convencer a dúzia de viúvas da praia, que querem votar Portas, de que é preferível concentrar votos em Manuela. Minha tarefa persistente. Publicado por  MarceloRSousa | 0 Comentário(s)     Selecção, Jerónimo e Justiça 09 September 09 12:00 PM NOVA ESPERANÇA. Não é política, é futebolística. Hoje, em Budapeste, Portugal venceu, não convenceu, mas deu mais um passo para o Mundial. Por si só, não chega. Mas ajuda a manter a chama acesa, na expectativa de mais duas vitórias e de um sucesso acalentador da Dinamarca no próximo jogo com a Suécia. Ir ao Mundial da África do Sul é muito importante, em termos nacionais – pensemos em Angola, Moçambique e comunidade residente no país anfitrião… DEBATE VII. Jerónimo de Sousa continuou a ser um senhor, mas um senhor muito mortiço. Manuela teve um quase-passeio. 2-0. PORQUÊ? Porque é que os presidentes de Câmara do PS faltaram à reunião de Manuela na Junta Metropolitana do Porto? Representam os municípios ou o partido? E porquê a ausência de Menezes? Confunde o município com divergências pessoais? Não percebi. JUSTIÇA. Encontraram-se os responsáveis da Justiça. Deus queira que o resultado possa ser promissor. Apesar de já ser o quarto encontro… Publicado por  MarceloRSousa | 5 Comentário(s)     Debates, sondagens e Alentejo 08 September 09 12:00 PM RESUMO dos primeiros cinco debates. Em termos futebolísticos. Minha opinião: Sócrates-2, Portas -3; Jerónimo-1, Louçã -2; Sócrates -2, Jerónimo-0; Manuela -3, Louçã-2; Portas -2, Jerónimo-0. Em audiências televisivas: 1.º, de longe, Sócrates-Portas; 2.º Manuela-Louçã; 3.º Sócrates-_-Jerónimo; 4.ºs, quase ex-aequo , os de Jerónimo com Louçã e Portas. Influência dos debates? Continuo descrente… SONDAGENS começam a sair. Primeira, da Aximage, no CM . PS à frente por 5,6%, com ascendente de Sócrates e convicção de que o PS irá vencer. Curiosamente, a minha sensibilidade (não desejo, mas percepção da realidade) é oposta: ligeira vantagem do PSD. Mas como acreditar em sondagens, após as europeias?… Vamos esperar por mais. CASTELO DE VIDE-CRATO . Ontem. Tarde mais quente do ano no Alentejo. Relançamento do presidente António Ribeiro, em Castelo de Vide. No jardim público. Familiar. Acolhedor. Depois, lançamento de João de Matos, no Crato. Boa surpresa – muita gente. E óptimos sopa de cação e ensopado de borrego. Pelo meio, visita ao Carmelo, no Crato. Encontro inesquecível. Companheiras de viagem: filha Sofia (tal como o Nuno, antiga aluna de João de Matos), Alda e Virgínia (sim, a frenética Virgínia Estorninho). Grande jornada. Mas extenuante. Só que ainda sou do tempo em que campanhas eram assim – intensas, agitadas e com sessões, jantares e comícios. DEBATE   VI. Louçã em má forma deixou Sócrates liderar o debate. Dois temas durante quase meia-hora. Sócrates venceu facilmente por 4-1. Publicado por  MarceloRSousa | 6 Comentário(s)     Asfixias, PS e Jardim 07 September 09 12:00 PM ASFIXIAS I. Portugal é uma ditadura? Não. É recorrente a acusação de maiorias absolutas serem ditaduras (ou quase)? Sim (vide Soares contra Cavaco). Há no socratismo feição autoritária e arrogante? Sim, claramente. É asfixia democrática o que se sente? Prefiro os termos ‘arrogância autoritária’, percebo a carga eleitoral do termo us0ado pelo PSD, mas não o uso. E já o disse várias vezes: quem – como Sócrates – é intratável acaba muito mal politicamente. ASFIXIAS II. E na Madeira e nos Açores? Há asfixia democrática, como acusam, respectivamente, PS e PSD? Há, certamente, domínio da maioria regional sobre a sociedade civil. Como em muitas autarquias locais continentais. É indesmentível, e condiciona, largamente, o espaço possível da Oposição. Mas há também a simpatia pessoal de Jardim e mesmo de César (embora menor). O que faz a diferença de estilo para Sócrates. Para não falar em obra (no caso de Jardim, há trinta e um anos). DEBATE V. Jerónimo, em perfil baixo, novamente. Portas, bem, embora menos bem do que com Sócrates. Vitória fácil de Portas. Publicado por  MarceloRSousa | 2 Comentário(s)     More Posts Next page » Tags Não existem tags. Navegação Sol Blogues Fóruns Imagens Arquivo September 2009 (21) August 2009 (26) July 2009 (30) June 2009 (30) May 2009 (31) April 2009 (25) March 2009 (30) February 2009 (23) January 2009 (26) December 2008 (28) November 2008 (28) October 2008 (24) September 2008 (27) August 2008 (29) July 2008 (28) June 2008 (31) May 2008 (31) April 2008 (28) March 2008 (30) February 2008 (29) January 2008 (27) December 2007 (29) November 2007 (28) October 2007 (26) September 2007 (25) August 2007 (31) July 2007 (31) June 2007 (28) May 2007 (31) April 2007 (28) March 2007 (31) February 2007 (25) January 2007 (27) December 2006 (28) November 2006 (28) October 2006 (31) September 2006 (24)\n"
     ]
    }
   ],
   "source": [
    "path = \"data/\"\n",
    "#path = '/content/drive/My Drive/Colab Notebooks/data/' #Google Colab\n",
    "\n",
    "file_name = 'marcelo.txt'\n",
    "\n",
    "file = open(path + file_name,encoding=\"utf8\")\n",
    "print(file.read())"
   ]
  },
  {
   "cell_type": "markdown",
   "metadata": {},
   "source": [
    "O código seguinte por sua vez permite converter um ficheiro com codificação `ansi` em `utf-8` recorrendo à leitura e à escrita de ficheiros (mais sobre isto abaixo) e à especificação da correspondente codificação."
   ]
  },
  {
   "cell_type": "code",
   "execution_count": null,
   "metadata": {},
   "outputs": [],
   "source": [
    "import os\n",
    "\n",
    "path = \"data/\"\n",
    "#path = '/content/drive/My Drive/Colab Notebooks/data/' #Google Colab\n",
    "\n",
    "file_name_ansi = 'ansi.txt'\n",
    "file_name_utf = 'utf8.txt'\n",
    "\n",
    "f = open(path + file_name_ansi,encoding=\"ansi\")\n",
    "text = f.read()\n",
    "\n",
    "#write output file       \n",
    "fw = open(path + file_name_utf, 'w',encoding=\"utf8\") # open in write mode. Se não existir cria o ficheiro\n",
    "fw.write(text) # write some text\n",
    "\n",
    "fw.close() # closes the file"
   ]
  },
  {
   "cell_type": "markdown",
   "metadata": {},
   "source": [
    "### Check if a File Exists"
   ]
  },
  {
   "cell_type": "code",
   "execution_count": 14,
   "metadata": {},
   "outputs": [
    {
     "name": "stdout",
     "output_type": "stream",
     "text": [
      "Exists\n"
     ]
    }
   ],
   "source": [
    "import os\n",
    "\n",
    "path = \"data/\"\n",
    "#path = '/content/drive/My Drive/Colab Notebooks/data/' #Google Colab\n",
    "\n",
    "file_name = 'marcelo.txt'\n",
    "\n",
    "if os.path.exists(path + file_name) == True:\n",
    "    print(\"Exists\")\n",
    "else:\n",
    "    print(\"Não Existe\")"
   ]
  },
  {
   "cell_type": "markdown",
   "metadata": {},
   "source": [
    "### Read Multiple Files from Folder"
   ]
  },
  {
   "cell_type": "markdown",
   "metadata": {},
   "source": [
    "O código seguinte faz uso do módulo `os` para ler/carregar um conjunto de ficheiros existentes num dado folder."
   ]
  },
  {
   "cell_type": "code",
   "execution_count": 15,
   "metadata": {
    "code_folding": []
   },
   "outputs": [
    {
     "data": {
      "text/plain": [
       "26"
      ]
     },
     "execution_count": 15,
     "metadata": {},
     "output_type": "execute_result"
    }
   ],
   "source": [
    "import os\n",
    "\n",
    "path = \"data/british-novels\"\n",
    "#path = '/content/drive/My Drive/Colab Notebooks/data/british-novels' #Google Colab\n",
    "\n",
    "ListOfTexts = []\n",
    "for file in os.listdir (path) :\n",
    "    with open(os.path.join(path, file),'r', encoding='utf-8') as f:\n",
    "        txt = f.read()\n",
    "        ListOfTexts.append(txt)\n",
    "\n",
    "len(ListOfTexts)"
   ]
  },
  {
   "cell_type": "markdown",
   "metadata": {},
   "source": [
    "O conteúdo de cada ficheiro fica guardado numa determinada posição da lista. Por exemplo, o conteúdo do primeiro ficheiro ficar guardado na posição 0 da variável `ListOfTexts`."
   ]
  },
  {
   "cell_type": "code",
   "execution_count": 18,
   "metadata": {},
   "outputs": [
    {
     "data": {
      "text/plain": [
       "'AGNES GREY\\nCHAPTER I--THE PARSONAGE\\nAll true histories contain instruction; though, in some, the\\ntreasure may be hard to find, and when found, so trivial in\\nquantity, that the dry, shrivelled kernel scarcely compensates for\\nthe trouble of cracking the nut. Whether this be the case with my\\nhistory or not, I am hardly competent to judge. I sometimes think\\nit might prove useful to some, and entertaining to others; but the\\nworld may judge for itself. Shielded by my own obscurity, and by\\nthe lapse of years, and a few fictitious names, I do not fear to\\nventure; and will candidly lay before the public what I would not\\ndisclose to the most intimate friend.\\nMy father was a clergyman of the north of England, who was\\ndeservedly respected by all who knew him; and, in his younger days,\\nlived pretty comfortably on the joint income of a small incumbency\\nand a snug little property of his own. My mother, who married him\\nagainst the wishes of her friends, was a squire\\'s daughter, and a\\nwoman of spirit. In vain it was represented to her, that if she\\nbecame the poor parson\\'s wife, she must relinquish her carriage and\\nher lady\\'s-maid, and all the luxuries and elegancies of affluence;\\nwhich to her were little less than the necessaries of life. A\\ncarriage and a lady\\'s-maid were great conveniences; but, thank\\nheaven, she had feet to carry her, and hands to minister to her own\\nnecessities. An elegant house and spacious grounds were not to be\\ndespised; but she would rather live in a cottage with Richard Grey\\nthan in a palace with any other man in the world.\\nFinding arguments of no avail, her father, at length, told the\\nlovers they might marry if they pleased; but, in so doing, his\\ndaughter would forfeit every fraction of her fortune. He expected\\nthis would cool the ardour of both; but he was mistaken. My father\\nknew too well my mother\\'s superior worth not to be sensible that\\nshe was a valuable fortune in herself: and if she would but\\nconsent to embellish his humble hearth he should be happy to take\\nher on any terms; while she, on her part, would rather labour with\\nher own hands than be divided from the man she loved, whose\\nhappiness it would be her joy to make, and who was already one with\\nher in heart and soul. So her fortune went to swell the purse of a\\nwiser sister, who had married a rich nabob; and she, to the wonder\\nand compassionate regret of all who knew her, went to bury herself\\nin the homely village parsonage among the hills of -. And yet, in\\nspite of all this, and in spite of my mother\\'s high spirit and my\\nfather\\'s whims, I believe you might search all England through, and\\nfail to find a happier couple.\\nOf six children, my sister Mary and myself were the only two that\\nsurvived the perils of infancy and early childhood. I, being the\\nyounger by five or six years, was always regarded as THE child, and\\nthe pet of the family: father, mother, and sister, all combined to\\nspoil me--not by foolish indulgence, to render me fractious and\\nungovernable, but by ceaseless kindness, to make me too helpless\\nand dependent--too unfit for buffeting with the cares and turmoils\\nof life.\\nMary and I were brought up in the strictest seclusion. My mother,\\nbeing at once highly accomplished, well informed, and fond of\\nemployment, took the whole charge of our education on herself, with\\nthe exception of Latin--which my father undertook to teach us--so\\nthat we never even went to school; and, as there was no society in\\nthe neighbourhood, our only intercourse with the world consisted in\\na stately tea-party, now and then, with the principal farmers and\\ntradespeople of the vicinity (just to avoid being stigmatized as\\ntoo proud to consort with our neighbours), and an annual visit to\\nour paternal grandfather\\'s; where himself, our kind grandmamma, a\\nmaiden aunt, and two or three elderly ladies and gentlemen, were\\nthe only persons we ever saw. Sometimes our mother would amuse us\\nwith stories and anecdotes of her younger days, which, while they\\nentertained us amazingly, frequently awoke--in ME, at least--a\\nsecret wish to see a little more of the world.\\nI thought she must have been very happy: but she never seemed to\\nregret past times. My father, however, whose temper was neither\\ntranquil nor cheerful by nature, often unduly vexed himself with\\nthinking of the sacrifices his dear wife had made for him; and\\ntroubled his head with revolving endless schemes for the\\naugmentation of his little fortune, for her sake and ours. In vain\\nmy mother assured him she was quite satisfied; and if he would but\\nlay by a little for the children, we should all have plenty, both\\nfor time present and to come: but saving was not my father\\'s\\nforte. He would not run in debt (at least, my mother took good\\ncare he should not), but while he had money he must spend it: he\\nliked to see his house comfortable, and his wife and daughters well\\nclothed, and well attended; and besides, he was charitably\\ndisposed, and liked to give to the poor, according to his means:\\nor, as some might think, beyond them.\\nAt length, however, a kind friend suggested to him a means of\\ndoubling his private property at one stroke; and further increasing\\nit, hereafter, to an untold amount. This friend was a merchant, a\\nman of enterprising spirit and undoubted talent, who was somewhat\\nstraitened in his mercantile pursuits for want of capital; but\\ngenerously proposed to give my father a fair share of his profits,\\nif he would only entrust him with what he could spare; and he\\nthought he might safely promise that whatever sum the latter chose\\nto put into his hands, it should bring him in cent. per cent. The\\nsmall patrimony was speedily sold, and the whole of its price was\\ndeposited in the hands of the friendly merchant; who as promptly\\nproceeded to ship his cargo, and prepare for his voyage.\\nMy father was delighted, so were we all, with our brightening\\nprospects. For the present, it is true, we were reduced to the\\nnarrow income of the curacy; but my father seemed to think there\\nwas no necessity for scrupulously restricting our expenditure to\\nthat; so, with a standing bill at Mr. Jackson\\'s, another at\\nSmith\\'s, and a third at Hobson\\'s, we got along even more\\ncomfortably than before: though my mother affirmed we had better\\nkeep within bounds, for our prospects of wealth were but\\nprecarious, after all; and if my father would only trust everything\\nto her management, he should never feel himself stinted: but he,\\nfor once, was incorrigible.\\nWhat happy hours Mary and I have passed while sitting at our work\\nby the fire, or wandering on the heath-clad hills, or idling under\\nthe weeping birch (the only considerable tree in the garden),\\ntalking of future happiness to ourselves and our parents, of what\\nwe would do, and see, and possess; with no firmer foundation for\\nour goodly superstructure than the riches that were expected to\\nflow in upon us from the success of the worthy merchant\\'s\\nspeculations. Our father was nearly as bad as ourselves; only that\\nhe affected not to be so much in earnest: expressing his bright\\nhopes and sanguine expectations in jests and playful sallies, that\\nalways struck me as being exceedingly witty and pleasant. Our\\nmother laughed with delight to see him so hopeful and happy: but\\nstill she feared he was setting his heart too much upon the matter;\\nand once I heard her whisper as she left the room, \\'God grant he be\\nnot disappointed! I know not how he would bear it.\\'\\nDisappointed he was; and bitterly, too. It came like a thunder-\\nclap on us all, that the vessel which contained our fortune had\\nbeen wrecked, and gone to the bottom with all its stores, together\\nwith several of the crew, and the unfortunate merchant himself. I\\nwas grieved for him; I was grieved for the overthrow of all our\\nair-built castles: but, with the elasticity of youth, I soon\\nrecovered the shook.\\nThough riches had charms, poverty had no terrors for an\\ninexperienced girl like me. Indeed, to say the truth, there was\\nsomething exhilarating in the idea of being driven to straits, and\\nthrown upon our own resources. I only wished papa, mamma, and Mary\\nwere all of the same mind as myself; and then, instead of lamenting\\npast calamities we might all cheerfully set to work to remedy them;\\nand the greater the difficulties, the harder our present\\nprivations, the greater should be our cheerfulness to endure the\\nlatter, and our vigour to contend against the former.\\nMary did not lament, but she brooded continually over the\\nmisfortune, and sank into a state of dejection from which no effort\\nof mine could rouse her. I could not possibly bring her to regard\\nthe matter on its bright side as I did: and indeed I was so\\nfearful of being charged with childish frivolity, or stupid\\ninsensibility, that I carefully kept most of my bright ideas and\\ncheering notions to myself; well knowing they could not be\\nappreciated.\\nMy mother thought only of consoling my father, and paying our debts\\nand retrenching our expenditure by every available means; but my\\nfather was completely overwhelmed by the calamity: health,\\nstrength, and spirits sank beneath the blow, and he never wholly\\nrecovered them. In vain my mother strove to cheer him, by\\nappealing to his piety, to his courage, to his affection for\\nherself and us. That very affection was his greatest torment: it\\nwas for our sakes he had so ardently longed to increase his\\nfortune--it was our interest that had lent such brightness to his\\nhopes, and that imparted such bitterness to his present distress.\\nHe now tormented himself with remorse at having neglected my\\nmother\\'s advice; which would at least have saved him from the\\nadditional burden of debt--he vainly reproached himself for having\\nbrought her from the dignity, the ease, the luxury of her former\\nstation to toil with him through the cares and toils of poverty.\\nIt was gall and wormwood to his soul to see that splendid, highly-\\naccomplished woman, once so courted and admired, transformed into\\nan active managing housewife, with hands and head continually\\noccupied with household labours and household economy. The very\\nwillingness with which she performed these duties, the cheerfulness\\nwith which she bore her reverses, and the kindness which withheld\\nher from imputing the smallest blame to him, were all perverted by\\nthis ingenious self-tormentor into further aggravations of his\\nsufferings. And thus the mind preyed upon the body, and disordered\\nthe system of the nerves, and they in turn increased the troubles\\nof the mind, till by action and reaction his health was seriously\\nimpaired; and not one of us could convince him that the aspect of\\nour affairs was not half so gloomy, so utterly hopeless, as his\\nmorbid imagination represented it to be.\\nThe useful pony phaeton was sold, together with the stout, well-fed\\npony--the old favourite that we had fully determined should end its\\ndays in peace, and never pass from our hands; the little coach-\\nhouse and stable were let; the servant boy, and the more efficient\\n(being the more expensive) of the two maid-servants, were\\ndismissed. Our clothes were mended, turned, and darned to the\\nutmost verge of decency; our food, always plain, was now simplified\\nto an unprecedented degree--except my father\\'s favourite dishes;\\nour coals and candles were painfully economized--the pair of\\ncandles reduced to one, and that most sparingly used; the coals\\ncarefully husbanded in the half-empty grate: especially when my\\nfather was out on his parish duties, or confined to bed through\\nillness--then we sat with our feet on the fender, scraping the\\nperishing embers together from time to time, and occasionally\\nadding a slight scattering of the dust and fragments of coal, just\\nto keep them alive. As for our carpets, they in time were worn\\nthreadbare, and patched and darned even to a greater extent than\\nour garments. To save the expense of a gardener, Mary and I\\nundertook to keep the garden in order; and all the cooking and\\nhousehold work that could not easily be managed by one servant-\\ngirl, was done by my mother and sister, with a little occasional\\nhelp from me: only a little, because, though a woman in my own\\nestimation, I was still a child in theirs; and my mother, like most\\nactive, managing women, was not gifted with very active daughters:\\nfor this reason--that being so clever and diligent herself, she was\\nnever tempted to trust her affairs to a deputy, but, on the\\ncontrary, was willing to act and think for others as well as for\\nnumber one; and whatever was the business in hand, she was apt to\\nthink that no one could do it so well as herself: so that whenever\\nI offered to assist her, I received such an answer as--\\'No, love,\\nyou cannot indeed--there\\'s nothing here you can do. Go and help\\nyour sister, or get her to take a walk with you--tell her she must\\nnot sit so much, and stay so constantly in the house as she does--\\nshe may well look thin and dejected.\\'\\n\\'Mary, mamma says I\\'m to help you; or get you to take a walk with\\nme; she says you may well look thin and dejected, if you sit so\\nconstantly in the house.\\'\\n\\'Help me you cannot, Agnes; and I cannot go out with YOU--I have\\nfar too much to do.\\'\\n\\'Then let me help you.\\'\\n\\'You cannot, indeed, dear child. Go and practise your music, or\\nplay with the kitten.\\'\\nThere was always plenty of sewing on hand; but I had not been\\ntaught to cut out a single garment, and except plain hemming and\\nseaming, there was little I could do, even in that line; for they\\nboth asserted that it was far easier to do the work themselves than\\nto prepare it for me: and besides, they liked better to see me\\nprosecuting my studies, or amusing myself--it was time enough for\\nme to sit bending over my work, like a grave matron, when my\\nfavourite little pussy was become a steady old cat. Under such\\ncircumstances, although I was not many degrees more useful than the\\nkitten, my idleness was not entirely without excuse.\\nThrough all our troubles, I never but once heard my mother complain\\nof our want of money. As summer was coming on she observed to Mary\\nand me, \\'What a desirable thing it would be for your papa to spend\\na few weeks at a watering-place. I am convinced the sea-air and\\nthe change of scene would be of incalculable service to him. But\\nthen, you see, there\\'s no money,\\' she added, with a sigh. We both\\nwished exceedingly that the thing might be done, and lamented\\ngreatly that it could not. \\'Well, well!\\' said she, \\'it\\'s no use\\ncomplaining. Possibly something might be done to further the\\nproject after all. Mary, you are a beautiful drawer. What do you\\nsay to doing a few more pictures in your best style, and getting\\nthem framed, with the water-coloured drawings you have already\\ndone, and trying to dispose of them to some liberal picture-dealer,\\nwho has the sense to discern their merits?\\'\\n\\'Mamma, I should be delighted if you think they COULD be sold; and\\nfor anything worth while.\\'\\n\\'It\\'s worth while trying, however, my dear: do you procure the\\ndrawings, and I\\'ll endeavour to find a purchaser.\\'\\n\\'I wish _I_ could do something,\\' said I.\\n\\'You, Agnes! well, who knows? You draw pretty well, too: if you\\nchoose some simple piece for your subject, I daresay you will be\\nable to produce something we shall all be proud to exhibit.\\'\\n\\'But I have another scheme in my head, mamma, and have had long,\\nonly I did not like to mention it.\\'\\n\\'Indeed! pray tell us what it is.\\'\\n\\'I should like to be a governess.\\'\\nMy mother uttered an exclamation of surprise, and laughed. My\\nsister dropped her work in astonishment, exclaiming, \\'YOU a\\ngoverness, Agnes! What can you be dreaming of?\\'\\n\\'Well! I don\\'t see anything so VERY extraordinary in it. I do not\\npretend to be able to instruct great girls; but surely I could\\nteach little ones: and I should like it so much: I am so fond of\\nchildren. Do let me, mamma!\\'\\n\\'But, my love, you have not learned to take care of YOURSELF yet:\\nand young children require more judgment and experience to manage\\nthan elder ones.\\'\\n\\'But, mamma, I am above eighteen, and quite able to take care of\\nmyself, and others too. You do not know half the wisdom and\\nprudence I possess, because I have never been tried.\\'\\n\\'Only think,\\' said Mary, \\'what would you do in a house full of\\nstrangers, without me or mamma to speak and act for you--with a\\nparcel of children, besides yourself, to attend to; and no one to\\nlook to for advice? You would not even know what clothes to put\\non.\\'\\n\\'You think, because I always do as you bid me, I have no judgment\\nof my own: but only try me--that is all I ask--and you shall see\\nwhat I can do.\\'\\nAt that moment my father entered and the subject of our discussion\\nwas explained to him.\\n\\'What, my little Agnes a governess!\\' cried he, and, in spite of his\\ndejection, he laughed at the idea.\\n\\'Yes, papa, don\\'t YOU say anything against it: I should like it so\\nmuch; and I am sure I could manage delightfully.\\'\\n\\'But, my darling, we could not spare you.\\' And a tear glistened in\\nhis eye as he added--\\'No, no! afflicted as we are, surely we are\\nnot brought to that pass yet.\\'\\n\\'Oh, no!\\' said my mother. \\'There is no necessity whatever for such\\na step; it is merely a whim of her own. So you must hold your\\ntongue, you naughty girl; for, though you are so ready to leave us,\\nyou know very well we cannot part with YOU.\\'\\nI was silenced for that day, and for many succeeding ones; but\\nstill I did not wholly relinquish my darling scheme. Mary got her\\ndrawing materials, and steadily set to work. I got mine too; but\\nwhile I drew, I thought of other things. How delightful it would\\nbe to be a governess! To go out into the world; to enter upon a\\nnew life; to act for myself; to exercise my unused faculties; to\\ntry my unknown powers; to earn my own maintenance, and something to\\ncomfort and help my father, mother, and sister, besides exonerating\\nthem from the provision of my food and clothing; to show papa what\\nhis little Agnes could do; to convince mamma and Mary that I was\\nnot quite the helpless, thoughtless being they supposed. And then,\\nhow charming to be entrusted with the care and education of\\nchildren! Whatever others said, I felt I was fully competent to\\nthe task: the clear remembrance of my own thoughts in early\\nchildhood would be a surer guide than the instructions of the most\\nmature adviser. I had but to turn from my little pupils to myself\\nat their age, and I should know, at once, how to win their\\nconfidence and affections: how to waken the contrition of the\\nerring; how to embolden the timid and console the afflicted; how to\\nmake Virtue practicable, Instruction desirable, and Religion lovely\\nand comprehensible.\\n- Delightful task!\\nTo teach the young idea how to shoot!\\nTo train the tender plants, and watch their buds unfolding day by\\nday!\\nInfluenced by so many inducements, I determined still to persevere;\\nthough the fear of displeasing my mother, or distressing my\\nfather\\'s feelings, prevented me from resuming the subject for\\nseveral days. At length, again, I mentioned it to my mother in\\nprivate; and, with some difficulty, got her to promise to assist me\\nwith her endeavours. My father\\'s reluctant consent was next\\nobtained, and then, though Mary still sighed her disapproval, my\\ndear, kind mother began to look out for a situation for me. She\\nwrote to my father\\'s relations, and consulted the newspaper\\nadvertisements--her own relations she had long dropped all\\ncommunication with: a formal interchange of occasional letters was\\nall she had ever had since her marriage, and she would not at any\\ntime have applied to them in a case of this nature. But so long\\nand so entire had been my parents\\' seclusion from the world, that\\nmany weeks elapsed before a suitable situation could be procured.\\nAt last, to my great joy, it was decreed that I should take charge\\nof the young family of a certain Mrs. Bloomfield; whom my kind,\\nprim aunt Grey had known in her youth, and asserted to be a very\\nnice woman. Her husband was a retired tradesman, who had realized\\na very comfortable fortune; but could not be prevailed upon to give\\na greater salary than twenty-five pounds to the instructress of his\\nchildren. I, however, was glad to accept this, rather than refuse\\nthe situation--which my parents were inclined to think the better\\nplan.\\nBut some weeks more were yet to be devoted to preparation. How\\nlong, how tedious those weeks appeared to me! Yet they were happy\\nones in the main--full of bright hopes and ardent expectations.\\nWith what peculiar pleasure I assisted at the making of my new\\nclothes, and, subsequently, the packing of my trunks! But there\\nwas a feeling of bitterness mingling with the latter occupation\\ntoo; and when it was done--when all was ready for my departure on\\nthe morrow, and the last night at home approached--a sudden anguish\\nseemed to swell my heart. My dear friends looked so sad, and spoke\\nso very kindly, that I could scarcely keep my eyes from\\noverflowing: but I still affected to be gay. I had taken my last\\nramble with Mary on the moors, my last walk in the garden, and\\nround the house; I had fed, with her, our pet pigeons for the last\\ntime--the pretty creatures that we had tamed to peck their food\\nfrom our hands: I had given a farewell stroke to all their silky\\nbacks as they crowded in my lap. I had tenderly kissed my own\\npeculiar favourites, the pair of snow-white fantails; I had played\\nmy last tune on the old familiar piano, and sung my last song to\\npapa: not the last, I hoped, but the last for what appeared to me\\na very long time. And, perhaps, when I did these things again it\\nwould be with different feelings: circumstances might be changed,\\nand this house might never be my settled home again. My dear\\nlittle friend, the kitten, would certainly be changed: she was\\nalready growing a fine cat; and when I returned, even for a hasty\\nvisit at Christmas, would, most likely, have forgotten both her\\nplaymate and her merry pranks. I had romped with her for the last\\ntime; and when I stroked her soft bright fur, while she lay purring\\nherself to sleep in my lap, it was with a feeling of sadness I\\ncould not easily disguise. Then at bed-time, when I retired with\\nMary to our quiet little chamber, where already my drawers were\\ncleared out and my share of the bookcase was empty--and where,\\nhereafter, she would have to sleep alone, in dreary solitude, as\\nshe expressed it--my heart sank more than ever: I felt as if I had\\nbeen selfish and wrong to persist in leaving her; and when I knelt\\nonce more beside our little bed, I prayed for a blessing on her and\\non my parents more fervently than ever I had done before. To\\nconceal my emotion, I buried my face in my hands, and they were\\npresently bathed in tears. I perceived, on rising, that she had\\nbeen crying too: but neither of us spoke; and in silence we betook\\nourselves to our repose, creeping more closely together from the\\nconsciousness that we were to part so soon.\\nBut the morning brought a renewal of hope and spirits. I was to\\ndepart early; that the conveyance which took me (a gig, hired from\\nMr. Smith, the draper, grocer, and tea-dealer of the village) might\\nreturn the same day. I rose, washed, dressed, swallowed a hasty\\nbreakfast, received the fond embraces of my father, mother, and\\nsister, kissed the cat--to the great scandal of Sally, the maid--\\nshook hands with her, mounted the gig, drew my veil over my face,\\nand then, but not till then, burst into a flood of tears. The gig\\nrolled on; I looked back; my dear mother and sister were still\\nstanding at the door, looking after me, and waving their adieux. I\\nreturned their salute, and prayed God to bless them from my heart:\\nwe descended the hill, and I could see them no more.\\n\\'It\\'s a coldish mornin\\' for you, Miss Agnes,\\' observed Smith; \\'and\\na darksome \\'un too; but we\\'s happen get to yon spot afore there\\ncome much rain to signify.\\'\\n\\'Yes, I hope so,\\' replied I, as calmly as I could.\\n\\'It\\'s comed a good sup last night too.\\'\\n\\'Yes.\\'\\n\\'But this cold wind will happen keep it off.\\'\\n\\'Perhaps it will.\\'\\nHere ended our colloquy. We crossed the valley, and began to\\nascend the opposite hill. As we were toiling up, I looked back\\nagain; there was the village spire, and the old grey parsonage\\nbeyond it, basking in a slanting beam of sunshine--it was but a\\nsickly ray, but the village and surrounding hills were all in\\nsombre shade, and I hailed the wandering beam as a propitious omen\\nto my home. With clasped hands I fervently implored a blessing on\\nits inhabitants, and hastily turned away; for I saw the sunshine\\nwas departing; and I carefully avoided another glance, lest I\\nshould see it in gloomy shadow, like the rest of the landscape.\\nCHAPTER II--FIRST LESSONS IN THE ART OF INSTRUCTION\\nAs we drove along, my spirits revived again, and I turned, with\\npleasure, to the contemplation of the new life upon which I was\\nentering. But though it was not far past the middle of September,\\nthe heavy clouds and strong north-easterly wind combined to render\\nthe day extremely cold and dreary; and the journey seemed a very\\nlong one, for, as Smith observed, the roads were \\'very heavy\\'; and\\ncertainly, his horse was very heavy too: it crawled up the hills,\\nand crept down them, and only condescended to shake its sides in a\\ntrot where the road was at a dead level or a very gentle slope,\\nwhich was rarely the case in those rugged regions; so that it was\\nnearly one o\\'clock before we reached the place of our destination.\\nYet, after all, when we entered the lofty iron gateway, when we\\ndrove softly up the smooth, well-rolled carriage-road, with the\\ngreen lawn on each side, studded with young trees, and approached\\nthe new but stately mansion of Wellwood, rising above its mushroom\\npoplar-groves, my heart failed me, and I wished it were a mile or\\ntwo farther off. For the first time in my life I must stand alone:\\nthere was no retreating now. I must enter that house, and\\nintroduce myself among its strange inhabitants. But how was it to\\nbe done? True, I was near nineteen; but, thanks to my retired life\\nand the protecting care of my mother and sister, I well knew that\\nmany a girl of fifteen, or under, was gifted with a more womanly\\naddress, and greater ease and self-possession, than I was. Yet, if\\nMrs. Bloomfield were a kind, motherly woman, I might do very well,\\nafter all; and the children, of course, I should soon be at ease\\nwith them--and Mr. Bloomfield, I hoped, I should have but little to\\ndo with.\\n\\'Be calm, be calm, whatever happens,\\' I said within myself; and\\ntruly I kept this resolution so well, and was so fully occupied in\\nsteadying my nerves and stifling the rebellious flutter of my\\nheart, that when I was admitted into the hall and ushered into the\\npresence of Mrs. Bloomfield, I almost forgot to answer her polite\\nsalutation; and it afterwards struck me, that the little I did say\\nwas spoken in the tone of one half-dead or half-asleep. The lady,\\ntoo, was somewhat chilly in her manner, as I discovered when I had\\ntime to reflect. She was a tall, spare, stately woman, with thick\\nblack hair, cold grey eyes, and extremely sallow complexion.\\nWith due politeness, however, she showed me my bedroom, and left me\\nthere to take a little refreshment. I was somewhat dismayed at my\\nappearance on looking in the glass: the cold wind had swelled and\\nreddened my hands, uncurled and entangled my hair, and dyed my face\\nof a pale purple; add to this my collar was horridly crumpled, my\\nfrock splashed with mud, my feet clad in stout new boots, and as\\nthe trunks were not brought up, there was no remedy; so having\\nsmoothed my hair as well as I could, and repeatedly twitched my\\nobdurate collar, I proceeded to clomp down the two flights of\\nstairs, philosophizing as I went; and with some difficulty found my\\nway into the room where Mrs. Bloomfield awaited me.\\nShe led me into the dining-room, where the family luncheon had been\\nlaid out. Some beefsteaks and half-cold potatoes were set before\\nme; and while I dined upon these, she sat opposite, watching me (as\\nI thought) and endeavouring to sustain something like a\\nconversation--consisting chiefly of a succession of commonplace\\nremarks, expressed with frigid formality: but this might be more\\nmy fault than hers, for I really could NOT converse. In fact, my\\nattention was almost wholly absorbed in my dinner: not from\\nravenous appetite, but from distress at the toughness of the\\nbeefsteaks, and the numbness of my hands, almost palsied by their\\nfive-hours\\' exposure to the bitter wind. I would gladly have eaten\\nthe potatoes and let the meat alone, but having got a large piece\\nof the latter on to my plate, I could not be so impolite as to\\nleave it; so, after many awkward and unsuccessful attempts to cut\\nit with the knife, or tear it with the fork, or pull it asunder\\nbetween them, sensible that the awful lady was a spectator to the\\nwhole transaction, I at last desperately grasped the knife and fork\\nin my fists, like a child of two years old, and fell to work with\\nall the little strength I possessed. But this needed some apology-\\n-with a feeble attempt at a laugh, I said, \\'My hands are so\\nbenumbed with the cold that I can scarcely handle my knife and\\nfork.\\'\\n\\'I daresay you would find it cold,\\' replied she with a cool,\\nimmutable gravity that did not serve to reassure me.\\nWhen the ceremony was concluded, she led me into the sitting-room\\nagain, where she rang and sent for the children.\\n\\'You will find them not very far advanced in their attainments,\\'\\nsaid she, \\'for I have had so little time to attend to their\\neducation myself, and we have thought them too young for a\\ngoverness till now; but I think they are clever children, and very\\napt to learn, especially the little boy; he is, I think, the flower\\nof the flock--a generous, noble-spirited boy, one to be led, but\\nnot driven, and remarkable for always speaking the truth. He seems\\nto scorn deception\\' (this was good news). \\'His sister Mary Ann\\nwill require watching,\\' continued she, \\'but she is a very good girl\\nupon the whole; though I wish her to be kept out of the nursery as\\nmuch as possible, as she is now almost six years old, and might\\nacquire bad habits from the nurses. I have ordered her crib to be\\nplaced in your room, and if you will be so kind as to overlook her\\nwashing and dressing, and take charge of her clothes, she need have\\nnothing further to do with the nursery maid.\\'\\nI replied I was quite willing to do so; and at that moment my young\\npupils entered the apartment, with their two younger sisters.\\nMaster Tom Bloomfield was a well-grown boy of seven, with a\\nsomewhat wiry frame, flaxen hair, blue eyes, small turned-up nose,\\nand fair complexion. Mary Ann was a tall girl too, somewhat dark\\nlike her mother, but with a round full face and a high colour in\\nher cheeks. The second sister was Fanny, a very pretty little\\ngirl; Mrs. Bloomfield assured me she was a remarkably gentle child,\\nand required encouragement: she had not learned anything yet; but\\nin a few days, she would be four years old, and then she might take\\nher first lesson in the alphabet, and be promoted to the\\nschoolroom. The remaining one was Harriet, a little broad, fat,\\nmerry, playful thing of scarcely two, that I coveted more than all\\nthe rest--but with her I had nothing to do.\\nI talked to my little pupils as well as I could, and tried to\\nrender myself agreeable; but with little success I fear, for their\\nmother\\'s presence kept me under an unpleasant restraint. They,\\nhowever, were remarkably free from shyness. They seemed bold,\\nlively children, and I hoped I should soon be on friendly terms\\nwith them--the little boy especially, of whom I had heard such a\\nfavourable character from his mamma. In Mary Ann there was a\\ncertain affected simper, and a craving for notice, that I was sorry\\nto observe. But her brother claimed all my attention to himself;\\nhe stood bolt upright between me and the fire, with his hands\\nbehind his back, talking away like an orator, occasionally\\ninterrupting his discourse with a sharp reproof to his sisters when\\nthey made too much noise.\\n\\'Oh, Tom, what a darling you are!\\' exclaimed his mother. \\'Come and\\nkiss dear mamma; and then won\\'t you show Miss Grey your schoolroom,\\nand your nice new books?\\'\\n\\'I won\\'t kiss YOU, mamma; but I WILL show Miss Grey my schoolroom,\\nand my new books.\\'\\n\\'And MY schoolroom, and MY new books, Tom,\\' said Mary Ann.\\n\\'They\\'re mine too.\\'\\n\\'They\\'re MINE,\\' replied he decisively. \\'Come along, Miss Grey--\\nI\\'ll escort you.\\'\\nWhen the room and books had been shown, with some bickerings\\nbetween the brother and sister that I did my utmost to appease or\\nmitigate, Mary Ann brought me her doll, and began to be very\\nloquacious on the subject of its fine clothes, its bed, its chest\\nof drawers, and other appurtenances; but Tom told her to hold her\\nclamour, that Miss Grey might see his rocking-horse, which, with a\\nmost important bustle, he dragged forth from its corner into the\\nmiddle of the room, loudly calling on me to attend to it. Then,\\nordering his sister to hold the reins, he mounted, and made me\\nstand for ten minutes, watching how manfully he used his whip and\\nspurs. Meantime, however, I admired Mary Ann\\'s pretty doll, and\\nall its possessions; and then told Master Tom he was a capital\\nrider, but I hoped he would not use his whip and spurs so much when\\nhe rode a real pony.\\n\\'Oh, yes, I will!\\' said he, laying on with redoubled ardour. \\'I\\'ll\\ncut into him like smoke! Eeh! my word! but he shall sweat for it.\\'\\nThis was very shocking; but I hoped in time to be able to work a\\nreformation.\\n\\'Now you must put on your bonnet and shawl,\\' said the little hero,\\n\\'and I\\'ll show you my garden.\\'\\n\\'And MINE,\\' said Mary Ann.\\nTom lifted his fist with a menacing gesture; she uttered a loud,\\nshrill scream, ran to the other side of me, and made a face at him.\\n\\'Surely, Tom, you would not strike your sister! I hope I shall\\nNEVER see you do that.\\'\\n\\'You will sometimes: I\\'m obliged to do it now and then to keep her\\nin order.\\'\\n\\'But it is not your business to keep her in order, you know--that\\nis for--\\'\\n\\'Well, now go and put on your bonnet.\\'\\n\\'I don\\'t know--it is so very cloudy and cold, it seems likely to\\nrain;--and you know I have had a long drive.\\'\\n\\'No matter--you MUST come; I shall allow of no excuses,\\' replied\\nthe consequential little gentleman. And, as it was the first day\\nof our acquaintance, I thought I might as well indulge him. It was\\ntoo cold for Mary Ann to venture, so she stayed with her mamma, to\\nthe great relief of her brother, who liked to have me all to\\nhimself.\\nThe garden was a large one, and tastefully laid out; besides\\nseveral splendid dahlias, there were some other fine flowers still\\nin bloom: but my companion would not give me time to examine them:\\nI must go with him, across the wet grass, to a remote sequestered\\ncorner, the most important place in the grounds, because it\\ncontained HIS garden. There were two round beds, stocked with a\\nvariety of plants. In one there was a pretty little rose-tree. I\\npaused to admire its lovely blossoms.\\n\\'Oh, never mind that!\\' said he, contemptuously. \\'That\\'s only Mary\\nAnn\\'s garden; look, THIS is mine.\\'\\nAfter I had observed every flower, and listened to a disquisition\\non every plant, I was permitted to depart; but first, with great\\npomp, he plucked a polyanthus and presented it to me, as one\\nconferring a prodigious favour. I observed, on the grass about his\\ngarden, certain apparatus of sticks and corn, and asked what they\\nwere.\\n\\'Traps for birds.\\'\\n\\'Why do you catch them?\\'\\n\\'Papa says they do harm.\\'\\n\\'And what do you do with them when you catch them?\\'\\n\\'Different things. Sometimes I give them to the cat; sometimes I\\ncut them in pieces with my penknife; but the next, I mean to roast\\nalive.\\'\\n\\'And why do you mean to do such a horrible thing?\\'\\n\\'For two reasons: first, to see how long it will live--and then,\\nto see what it will taste like.\\'\\n\\'But don\\'t you know it is extremely wicked to do such things?\\nRemember, the birds can feel as well as you; and think, how would\\nyou like it yourself?\\'\\n\\'Oh, that\\'s nothing! I\\'m not a bird, and I can\\'t feel what I do to\\nthem.\\'\\n\\'But you will have to feel it some time, Tom: you have heard where\\nwicked people go to when they die; and if you don\\'t leave off\\ntorturing innocent birds, remember, you will have to go there, and\\nsuffer just what you have made them suffer.\\'\\n\\'Oh, pooh! I shan\\'t. Papa knows how I treat them, and he never\\nblames me for it: he says it is just what HE used to do when HE\\nwas a boy. Last summer, he gave me a nest full of young sparrows,\\nand he saw me pulling off their legs and wings, and heads, and\\nnever said anything; except that they were nasty things, and I must\\nnot let them soil my trousers: end Uncle Robson was there too, and\\nhe laughed, and said I was a fine boy.\\'\\n\\'But what would your mamma say?\\'\\n\\'Oh, she doesn\\'t care! she says it\\'s a pity to kill the pretty\\nsinging birds, but the naughty sparrows, and mice, and rats, I may\\ndo what I like with. So now, Miss Grey, you see it is NOT wicked.\\'\\n\\'I still think it is, Tom; and perhaps your papa and mamma would\\nthink so too, if they thought much about it. However,\\' I\\ninternally added, \\'they may say what they please, but I am\\ndetermined you shall do nothing of the kind, as long as I have\\npower to prevent it.\\'\\nHe next took me across the lawn to see his mole-traps, and then\\ninto the stack-yard to see his weasel-traps: one of which, to his\\ngreat joy, contained a dead weasel; and then into the stable to\\nsee, not the fine carriage-horses, but a little rough colt, which\\nhe informed me had been bred on purpose for him, and he was to ride\\nit as soon as it was properly trained. I tried to amuse the little\\nfellow, and listened to all his chatter as complacently as I could;\\nfor I thought if he had any affections at all, I would endeavour to\\nwin them; and then, in time, I might be able to show him the error\\nof his ways: but I looked in vain for that generous, noble spirit\\nhis mother talked of; though I could see he was not without a\\ncertain degree of quickness and penetration, when he chose to exert\\nit.\\nWhen we re-entered the house it was nearly tea-time. Master Tom\\ntold me that, as papa was from home, he and I and Mary Ann were to\\nhave tea with mamma, for a treat; for, on such occasions, she\\nalways dined at luncheon-time with them, instead of at six o\\'clock.\\nSoon after tea, Mary Ann went to bed, but Tom favoured us with his\\ncompany and conversation till eight. After he was gone, Mrs.\\nBloomfield further enlightened me on the subject of her children\\'s\\ndispositions and acquirements, and on what they were to learn, and\\nhow they were to be managed, and cautioned me to mention their\\ndefects to no one but herself. My mother had warned me before to\\nmention them as little as possible to HER, for people did not like\\nto be told of their children\\'s faults, and so I concluded I was to\\nkeep silence on them altogether. About half-past nine, Mrs.\\nBloomfield invited me to partake of a frugal supper of cold meat\\nand bread. I was glad when that was over, and she took her bedroom\\ncandlestick and retired to rest; for though I wished to be pleased\\nwith her, her company was extremely irksome to me; and I could not\\nhelp feeling that she was cold, grave, and forbidding--the very\\nopposite of the kind, warm-hearted matron my hopes had depicted her\\nto be.\\nCHAPTER III--A FEW MORE LESSONS\\nI rose next morning with a feeling of hopeful exhilaration, in\\nspite of the disappointments already experienced; but I found the\\ndressing of Mary Ann was no light matter, as her abundant hair was\\nto be smeared with pomade, plaited in three long tails, and tied\\nwith bows of ribbon: a task my unaccustomed fingers found great\\ndifficulty in performing. She told me her nurse could do it in\\nhalf the time, and, by keeping up a constant fidget of impatience,\\ncontrived to render me still longer. When all was done, we went\\ninto the schoolroom, where I met my other pupil, and chatted with\\nthe two till it was time to go down to breakfast. That meal being\\nconcluded, and a few civil words having been exchanged with Mrs.\\nBloomfield, we repaired to the schoolroom again, and commenced the\\nbusiness of the day. I found my pupils very backward, indeed; but\\nTom, though averse to every species of mental exertion, was not\\nwithout abilities. Mary Ann could scarcely read a word, and was so\\ncareless and inattentive that I could hardly get on with her at\\nall. However, by dint of great labour and patience, I managed to\\nget something done in the course of the morning, and then\\naccompanied my young charge out into the garden and adjacent\\ngrounds, for a little recreation before dinner. There we got along\\ntolerably together, except that I found they had no notion of going\\nwith me: I must go with them, wherever they chose to lead me. I\\nmust run, walk, or stand, exactly as it suited their fancy. This,\\nI thought, was reversing the order of things; and I found it doubly\\ndisagreeable, as on this as well as subsequent occasions, they\\nseemed to prefer the dirtiest places and the most dismal\\noccupations. But there was no remedy; either I must follow them,\\nor keep entirely apart from them, and thus appear neglectful of my\\ncharge. To-day, they manifested a particular attachment to a well\\nat the bottom of the lawn, where they persisted in dabbling with\\nsticks and pebbles for above half an hour. I was in constant fear\\nthat their mother would see them from the window, and blame me for\\nallowing them thus to draggle their clothes and wet their feet and\\nhands, instead of taking exercise; but no arguments, commands, or\\nentreaties could draw them away. If SHE did not see them, some one\\nelse did--a gentleman on horseback had entered the gate and was\\nproceeding up the road; at the distance of a few paces from us he\\npaused, and calling to the children in a waspish penetrating tone,\\nbade them \\'keep out of that water.\\' \\'Miss Grey,\\' said he, \\'(I\\nsuppose it IS Miss Grey), I am surprised that you should allow them\\nto dirty their clothes in that manner! Don\\'t you see how Miss\\nBloomfield has soiled her frock? and that Master Bloomfield\\'s socks\\nare quite wet? and both of them without gloves? Dear, dear! Let\\nme REQUEST that in future you will keep them DECENT at least!\\' so\\nsaying, he turned away, and continued his ride up to the house.\\nThis was Mr. Bloomfield. I was surprised that he should nominate\\nhis children Master and Miss Bloomfield; and still more so, that he\\nshould speak so uncivilly to me, their governess, and a perfect\\nstranger to himself. Presently the bell rang to summon us in. I\\ndined with the children at one, while he and his lady took their\\nluncheon at the same table. His conduct there did not greatly\\nraise him in my estimation. He was a man of ordinary stature--\\nrather below than above--and rather thin than stout, apparently\\nbetween thirty and forty years of age: he had a large mouth, pale,\\ndingy complexion, milky blue eyes, and hair the colour of a hempen\\ncord. There was a roast leg of mutton before him: he helped Mrs.\\nBloomfield, the children, and me, desiring me to cut up the\\nchildren\\'s meat; then, after twisting about the mutton in various\\ndirections, and eyeing it from different points, he pronounced it\\nnot fit to be eaten, and called for the cold beef.\\n\\'What is the matter with the mutton, my dear?\\' asked his mate.\\n\\'It is quite overdone. Don\\'t you taste, Mrs. Bloomfield, that all\\nthe goodness is roasted out of it? And can\\'t you see that all that\\nnice, red gravy is completely dried away?\\'\\n\\'Well, I think the BEEF will suit you.\\'\\nThe beef was set before him, and he began to carve, but with the\\nmost rueful expressions of discontent.\\n\\'What is the matter with the BEEF, Mr. Bloomfield? I\\'m sure I\\nthought it was very nice.\\'\\n\\'And so it WAS very nice. A nicer joint could not be; but it is\\nQUITE spoiled,\\' replied he, dolefully.\\n\\'How so?\\'\\n\\'How so! Why, don\\'t you see how it is cut? Dear--dear! it is\\nquite shocking!\\'\\n\\'They must have cut it wrong in the kitchen, then, for I\\'m sure I\\ncarved it quite properly here, yesterday.\\'\\n\\'No DOUBT they cut it wrong in the kitchen--the savages! Dear--\\ndear! Did ever any one see such a fine piece of beef so completely\\nruined? But remember that, in future, when a decent dish leaves\\nthis table, they shall not TOUCH it in the kitchen. Remember THAT,\\nMrs. Bloomfield!\\'\\nNotwithstanding the ruinous state of the beef, the gentleman\\nmanaged to out himself some delicate slices, part of which he ate\\nin silence. When he next spoke, it was, in a less querulous tone,\\nto ask what there was for dinner.\\n\\'Turkey and grouse,\\' was the concise reply.\\n\\'And what besides?\\'\\n\\'Fish.\\'\\n\\'What kind of fish?\\'\\n\\'I don\\'t know.\\'\\n\\'YOU DON\\'T KNOW?\\' cried he, looking solemnly up from his plate, and\\nsuspending his knife and fork in astonishment.\\n\\'No. I told the cook to get some fish--I did not particularize\\nwhat.\\'\\n\\'Well, that beats everything! A lady professes to keep house, and\\ndoesn\\'t even know what fish is for dinner! professes to order fish,\\nand doesn\\'t specify what!\\'\\n\\'Perhaps, Mr. Bloomfield, you will order dinner yourself in\\nfuture.\\'\\nNothing more was said; and I was very glad to get out of the room\\nwith my pupils; for I never felt so ashamed and uncomfortable in my\\nlife for anything that was not my own fault.\\nIn the afternoon we applied to lessons again: then went out again;\\nthen had tea in the schoolroom; then I dressed Mary Ann for\\ndessert; and when she and her brother had gone down to the dining-\\nroom, I took the opportunity of beginning a letter to my dear\\nfriends at home: but the children came up before I had half\\ncompleted it. At seven I had to put Mary Ann to bed; then I played\\nwith Tom till eight, when he, too, went; and I finished my letter\\nand unpacked my clothes, which I had hitherto found no opportunity\\nfor doing, and, finally, went to bed myself.\\nBut this is a very favourable specimen of a day\\'s proceedings.\\nMy task of instruction and surveillance, instead of becoming easier\\nas my charges and I got better accustomed to each other, became\\nmore arduous as their characters unfolded. The name of governess,\\nI soon found, was a mere mockery as applied to me: my pupils had\\nno more notion of obedience than a wild, unbroken colt. The\\nhabitual fear of their father\\'s peevish temper, and the dread of\\nthe punishments he was wont to inflict when irritated, kept them\\ngenerally within bounds in his immediate presence. The girls, too,\\nhad some fear of their mother\\'s anger; and the boy might\\noccasionally be bribed to do as she bid him by the hope of reward;\\nbut I had no rewards to offer; and as for punishments, I was given\\nto understand, the parents reserved that privilege to themselves;\\nand yet they expected me to keep my pupils in order. Other\\nchildren might be guided by the fear of anger and the desire of\\napprobation; but neither the one nor the other had any effect upon\\nthese.\\nMaster Tom, not content with refusing to be ruled, must needs set\\nup as a ruler, and manifested a determination to keep, not only his\\nsisters, but his governess in order, by violent manual and pedal\\napplications; and, as he was a tall, strong boy of his years, this\\noccasioned no trifling inconvenience. A few sound boxes on the\\near, on such occasions, might have settled the matter easily\\nenough: but as, in that case, he might make up some story to his\\nmother which she would be sure to believe, as she had such unshaken\\nfaith in his veracity--though I had already discovered it to be by\\nno means unimpeachable--I determined to refrain from striking him,\\neven in self-defence; and, in his most violent moods, my only\\nresource was to throw him on his back and hold his hands and feet\\ntill the frenzy was somewhat abated. To the difficulty of\\npreventing him from doing what he ought not, was added that of\\nforcing him to do what he ought. Often he would positively refuse\\nto learn, or to repeat his lessons, or even to look at his book.\\nHere, again, a good birch rod might have been serviceable; but, as\\nmy powers were so limited, I must make the best use of what I had.\\nAs there were no settled hours for study and play, I resolved to\\ngive my pupils a certain task, which, with moderate attention, they\\ncould perform in a short time; and till this was done, however\\nweary I was, or however perverse they might be, nothing short of\\nparental interference should induce me to suffer them to leave the\\nschoolroom, even if I should sit with my chair against the door to\\nkeep them in. Patience, Firmness, and Perseverance were my only\\nweapons; and these I resolved to use to the utmost. I determined\\nalways strictly to fulfil the threats and promises I made; and, to\\nthat end, I must be cautious to threaten and promise nothing that I\\ncould not perform. Then, I would carefully refrain from all\\nuseless irritability and indulgence of my own ill-temper: when\\nthey behaved tolerably, I would be as kind and obliging as it was\\nin my power to be, in order to make the widest possible distinction\\nbetween good and bad conduct; I would reason with them, too, in the\\nsimplest and most effective manner. When I reproved them, or\\nrefused to gratify their wishes, after a glaring fault, it should\\nbe more in sorrow than in anger: their little hymns and prayers I\\nwould make plain and clear to their understanding; when they said\\ntheir prayers at night and asked pardon for their offences, I would\\nremind them of the sins of the past day, solemnly, but in perfect\\nkindness, to avoid raising a spirit of opposition; penitential\\nhymns should be said by the naughty, cheerful ones by the\\ncomparatively good; and every kind of instruction I would convey to\\nthem, as much as possible, by entertaining discourse--apparently\\nwith no other object than their present amusement in view.\\nBy these means I hoped in time both to benefit the children and to\\ngain the approbation of their parents; and also to convince my\\nfriends at home that I was not so wanting in skill and prudence as\\nthey supposed. I knew the difficulties I had to contend with were\\ngreat; but I knew (at least I believed) unremitting patience and\\nperseverance could overcome them; and night and morning I implored\\nDivine assistance to this end. But either the children were so\\nincorrigible, the parents so unreasonable, or myself so mistaken in\\nmy views, or so unable to carry them out, that my best intentions\\nand most strenuous efforts seemed productive of no better result\\nthan sport to the children, dissatisfaction to their parents, and\\ntorment to myself.\\nThe task of instruction was as arduous for the body as the mind. I\\nhad to run after my pupils to catch them, to carry or drag them to\\nthe table, and often forcibly to hold them there till the lesson\\nwas done. Tom I frequently put into a corner, seating myself\\nbefore him in a chair, with a book which contained the little task\\nthat must be said or read, before he was released, in my hand. He\\nwas not strong enough to push both me and the chair away, so he\\nwould stand twisting his body and face into the most grotesque and\\nsingular contortions--laughable, no doubt, to an unconcerned\\nspectator, but not to me--and uttering loud yells and doleful\\noutcries, intended to represent weeping but wholly without the\\naccompaniment of tears. I knew this was done solely for the\\npurpose of annoying me; and, therefore, however I might inwardly\\ntremble with impatience and irritation, I manfully strove to\\nsuppress all visible signs of molestation, and affected to sit with\\ncalm indifference, waiting till it should please him to cease this\\npastime, and prepare for a run in the garden, by casting his eye on\\nthe book and reading or repeating the few words he was required to\\nsay. Sometimes he was determined to do his writing badly; and I\\nhad to hold his hand to prevent him from purposely blotting or\\ndisfiguring the paper. Frequently I threatened that, if he did not\\ndo better, he should have another line: then he would stubbornly\\nrefuse to write this line; and I, to save my word, had finally to\\nresort to the expedient of holding his fingers upon the pen, and\\nforcibly drawing his hand up and down, till, in spite of his\\nresistance, the line was in some sort completed.\\nYet Tom was by no means the most unmanageable of my pupils:\\nsometimes, to my great joy, he would have the sense to see that his\\nwisest policy was to finish his tasks, and go out and amuse himself\\ntill I and his sisters came to join him; which frequently was not\\nat all, for Mary Ann seldom followed his example in this\\nparticular: she apparently preferred rolling on the floor to any\\nother amusement: down she would drop like a leaden weight; and\\nwhen I, with great difficulty, had succeeded in rooting her thence,\\nI had still to hold her up with one arm, while with the other I\\nheld the book from which she was to read or spell her lesson. As\\nthe dead weight of the big girl of six became too heavy for one arm\\nto bear, I transferred it to the other; or, if both were weary of\\nthe burden, I carried her into a corner, and told her she might\\ncome out when she should find the use of her feet, and stand up:\\nbut she generally preferred lying there like a log till dinner or\\ntea-time, when, as I could not deprive her of her meals, she must\\nbe liberated, and would come crawling out with a grin of triumph on\\nher round, red face. Often she would stubbornly refuse to\\npronounce some particular word in her lesson; and now I regret the\\nlost labour I have had in striving to conquer her obstinacy. If I\\nhad passed it over as a matter of no consequence, it would have\\nbeen better for both parties, than vainly striving to overcome it\\nas I did; but I thought it my absolute duty to crush this vicious\\ntendency in the bud: and so it was, if I could have done it; and\\nhad my powers been less limited, I might have enforced obedience;\\nbut, as it was, it was a trial of strength between her and me, in\\nwhich she generally came off victorious; and every victory served\\nto encourage and strengthen her for a future contest. In vain I\\nargued, coaxed, entreated, threatened, scolded; in vain I kept her\\nin from play, or, if obliged to take her out, refused to play with\\nher, or to speak kindly or have anything to do with her; in vain I\\ntried to set before her the advantages of doing as she was bid, and\\nbeing loved, and kindly treated in consequence, and the\\ndisadvantages of persisting in her absurd perversity. Sometimes,\\nwhen she would ask me to do something for her, I would answer,--\\n\\'Yes, I will, Mary Ann, if you will only say that word. Come!\\nyou\\'d better say it at once, and have no more trouble about it.\\'\\n\\'No.\\'\\n\\'Then, of course, I can do nothing for you.\\'\\nWith me, at her age, or under, neglect and disgrace were the most\\ndreadful of punishments; but on her they made no impression.\\nSometimes, exasperated to the utmost pitch, I would shake her\\nviolently by the shoulder, or pull her long hair, or put her in the\\ncorner; for which she punished me with loud, shrill, piercing\\nscreams, that went through my head like a knife. She knew I hated\\nthis, and when she had shrieked her utmost, would look into my face\\nwith an air of vindictive satisfaction, exclaiming,--\\'NOW, then!\\nTHAT\\'S for you!\\' and then shriek again and again, till I was forced\\nto stop my ears. Often these dreadful cries would bring Mrs.\\nBloomfield up to inquire what was the matter?\\n\\'Mary Ann is a naughty girl, ma\\'am.\\'\\n\\'But what are these shocking screams?\\'\\n\\'She is screaming in a passion.\\'\\n\\'I never heard such a dreadful noise! You might be killing her.\\nWhy is she not out with her brother?\\'\\n\\'I cannot get her to finish her lessons.\\'\\n\\'But Mary Ann must be a GOOD girl, and finish her lessons.\\' This\\nwas blandly spoken to the child. \\'And I hope I shall NEVER hear\\nsuch terrible cries again!\\'\\nAnd fixing her cold, stony eyes upon me with a look that could not\\nbe mistaken, she would shut the door, and walk away. Sometimes I\\nwould try to take the little obstinate creature by surprise, and\\ncasually ask her the word while she was thinking of something else;\\nfrequently she would begin to say it, and then suddenly cheek\\nherself, with a provoking look that seemed to say, \\'Ah! I\\'m too\\nsharp for you; you shan\\'t trick it out of me, either.\\'\\nOn another occasion, I pretended to forget the whole affair; and\\ntalked and played with her as usual, till night, when I put her to\\nbed; then bending over her, while she lay all smiles and good\\nhumour, just before departing, I said, as cheerfully and kindly as\\nbefore--\\'Now, Mary Ann, just tell me that word before I kiss you\\ngood-night. You are a good girl now, and, of course, you will say\\nit.\\'\\n\\'No, I won\\'t.\\'\\n\\'Then I can\\'t kiss you.\\'\\n\\'Well, I don\\'t care.\\'\\nIn vain I expressed my sorrow; in vain I lingered for some symptom\\nof contrition; she really \\'didn\\'t care,\\' and I left her alone, and\\nin darkness, wondering most of all at this last proof of insensate\\nstubbornness. In MY childhood I could not imagine a more\\nafflictive punishment than for my mother to refuse to kiss me at\\nnight: the very idea was terrible. More than the idea I never\\nfelt, for, happily, I never committed a fault that was deemed\\nworthy of such penalty; but once I remember, for some transgression\\nof my sister\\'s, our mother thought proper to inflict it upon her:\\nwhat SHE felt, I cannot tell; but my sympathetic tears and\\nsuffering for her sake I shall not soon forget.\\nAnother troublesome trait in Mary Ann was her incorrigible\\npropensity to keep running into the nursery, to play with her\\nlittle sisters and the nurse. This was natural enough, but, as it\\nwas against her mother\\'s express desire, I, of course, forbade her\\nto do so, and did my utmost to keep her with me; but that only\\nincreased her relish for the nursery, and the more I strove to keep\\nher out of it, the oftener she went, and the longer she stayed, to\\nthe great dissatisfaction of Mrs. Bloomfield, who, I well knew,\\nwould impute all the blame of the matter to me. Another of my\\ntrials was the dressing in the morning: at one time she would not\\nbe washed; at another she would not be dressed, unless she might\\nwear some particular frock, that I knew her mother would not like\\nher to have; at another she would scream and run away if I\\nattempted to touch her hair. So that, frequently, when, after much\\ntrouble and toil, I had, at length, succeeded in bringing her down,\\nthe breakfast was nearly half over; and black looks from \\'mamma,\\'\\nand testy observations from \\'papa,\\' spoken at me, if not to me,\\nwere sure to be my meed: for few things irritated the latter so\\nmuch as want of punctuality at meal times. Then, among the minor\\nannoyances, was my inability to satisfy Mrs. Bloomfield with her\\ndaughter\\'s dress; and the child\\'s hair \\'was never fit to be seen.\\'\\nSometimes, as a powerful reproach to me, she would perform the\\noffice of tire woman herself, and then complain bitterly of the\\ntrouble it gave her.\\nWhen little Fanny came into the schoolroom, I hoped she would be\\nmild and inoffensive, at least; but a few days, if not a few hours,\\nsufficed to destroy the illusion: I found her a mischievous,\\nintractable little creature, given up to falsehood and deception,\\nyoung as she was, and alarmingly fond of exercising her two\\nfavourite weapons of offence and defence: that of spitting in the\\nfaces of those who incurred her displeasure, and bellowing like a\\nbull when her unreasonable desires were not gratified. As she,\\ngenerally, was pretty quiet in her parents\\' presence, and they were\\nimpressed with the notion of her being a remarkably gentle child,\\nher falsehoods were readily believed, and her loud uproars led them\\nto suspect harsh and injudicious treatment on my part; and when, at\\nlength, her bad disposition became manifest even to their\\nprejudiced eyes, I felt that the whole was attributed to me.\\n\\'What a naughty girl Fanny is getting!\\' Mrs. Bloomfield would say\\nto her spouse. \\'Don\\'t you observe, my dear, how she is altered\\nsince she entered the schoolroom? She will soon be as bad as the\\nother two; and, I am sorry to say, they have quite deteriorated of\\nlate.\\'\\n\\'You may say that,\\' was the answer. \\'I\\'ve been thinking that same\\nmyself. I thought when we got them a governess they\\'d improve;\\nbut, instead of that, they get worse and worse: I don\\'t know how\\nit is with their learning, but their habits, I know, make no sort\\nof improvement; they get rougher, and dirtier, and more unseemly\\nevery day.\\'\\nI knew this was all pointed at me; and these, and all similar\\ninnuendoes, affected me far more deeply than any open accusations\\nwould have done; for against the latter I should have been roused\\nto speak in my own defence: now I judged it my wisest plan to\\nsubdue every resentful impulse, suppress every sensitive shrinking,\\nand go on perseveringly, doing my best; for, irksome as my\\nsituation was, I earnestly wished to retain it. I thought, if I\\ncould struggle on with unremitting firmness and integrity, the\\nchildren would in time become more humanized: every month would\\ncontribute to make them some little wiser, and, consequently, more\\nmanageable; for a child of nine or ten as frantic and ungovernable\\nas these at six and seven would be a maniac.\\nI flattered myself I was benefiting my parents and sister by my\\ncontinuance here; for small as the salary was, I still was earning\\nsomething, and with strict economy I could easily manage to have\\nsomething to spare for them, if they would favour me by taking it.\\nThen it was by my own will that I had got the place: I had brought\\nall this tribulation on myself, and I was determined to bear it;\\nnay, more than that, I did not even regret the step I had taken. I\\nlonged to show my friends that, even now, I was competent to\\nundertake the charge, and able to acquit myself honourably to the\\nend; and if ever I felt it degrading to submit so quietly, or\\nintolerable to toil so constantly, I would turn towards my home,\\nand say within myself -\\nThey may crush, but they shall not subdue me!\\n\\'Tis of thee that I think, not of them.\\nAbout Christmas I was allowed to visit home; but my holiday was\\nonly of a fortnight\\'s duration: \\'For,\\' said Mrs. Bloomfield, \\'I\\nthought, as you had seen your friends so lately, you would not care\\nfor a longer stay.\\' I left her to think so still: but she little\\nknew how long, how wearisome those fourteen weeks of absence had\\nbeen to me; how intensely I had longed for my holidays, how greatly\\nI was disappointed at their curtailment. Yet she was not to blame\\nin this. I had never told her my feelings, and she could not be\\nexpected to divine them; I had not been with her a full term, and\\nshe was justified in not allowing me a full vacation.\\nCHAPTER IV--THE GRANDMAMMA\\nI spare my readers the account of my delight on coming home, my\\nhappiness while there--enjoying a brief space of rest and liberty\\nin that dear, familiar place, among the loving and the loved--and\\nmy sorrow on being obliged to bid them, once more, a long adieu.\\nI returned, however, with unabated vigour to my work--a more\\narduous task than anyone can imagine, who has not felt something\\nlike the misery of being charged with the care and direction of a\\nset of mischievous, turbulent rebels, whom his utmost exertions\\ncannot bind to their duty; while, at the same time, he is\\nresponsible for their conduct to a higher power, who exacts from\\nhim what cannot be achieved without the aid of the superior\\'s more\\npotent authority; which, either from indolence, or the fear of\\nbecoming unpopular with the said rebellious gang, the latter\\nrefuses to give. I can conceive few situations more harassing than\\nthat wherein, however you may long for success, however you may\\nlabour to fulfil your duty, your efforts are baffled and set at\\nnought by those beneath you, and unjustly censured and misjudged by\\nthose above.\\nI have not enumerated half the vexatious propensities of my pupils,\\nor half the troubles resulting from my heavy responsibilities, for\\nfear of trespassing too much upon the reader\\'s patience; as,\\nperhaps, I have already done; but my design in writing the few last\\npages was not to amuse, but to benefit those whom it might concern;\\nhe that has no interest in such matters will doubtless have skipped\\nthem over with a cursory glance, and, perhaps, a malediction\\nagainst the prolixity of the writer; but if a parent has,\\ntherefrom, gathered any useful hint, or an unfortunate governess\\nreceived thereby the slightest benefit, I am well rewarded for my\\npains.\\nTo avoid trouble and confusion, I have taken my pupils one by one,\\nand discussed their various qualities; but this can give no\\nadequate idea of being worried by the whole three together; when,\\nas was often the case, all were determined to \\'be naughty, and to\\ntease Miss Grey, and put her in a passion.\\'\\nSometimes, on such occasions, the thought has suddenly occurred to\\nme--\\'If they could see me now!\\' meaning, of course, my friends at\\nhome; and the idea of how they would pity me has made me pity\\nmyself--so greatly that I have had the utmost difficulty to\\nrestrain my tears: but I have restrained them, till my little\\ntormentors were gone to dessert, or cleared off to bed (my only\\nprospects of deliverance), and then, in all the bliss of solitude,\\nI have given myself up to the luxury of an unrestricted burst of\\nweeping. But this was a weakness I did not often indulge: my\\nemployments were too numerous, my leisure moments too precious, to\\nadmit of much time being given to fruitless lamentations.\\nI particularly remember one wild, snowy afternoon, soon after my\\nreturn in January: the children had all come up from dinner,\\nloudly declaring that they meant \\'to be naughty;\\' and they had well\\nkept their resolution, though I had talked myself hoarse, and\\nwearied every muscle in my throat, in the vain attempt to reason\\nthem out of it. I had got Tom pinned up in a corner, whence, I\\ntold him, he should not escape till he had done his appointed task.\\nMeantime, Fanny had possessed herself of my work-bag, and was\\nrifling its contents--and spitting into it besides. I told her to\\nlet it alone, but to no purpose, of course. \\'Burn it, Fanny!\\'\\ncried Tom: and THIS command she hastened to obey. I sprang to\\nsnatch it from the fire, and Tom darted to the door. \\'Mary Ann,\\nthrow her desk out of the window!\\' cried he: and my precious desk,\\ncontaining my letters and papers, my small amount of cash, and all\\nmy valuables, was about to be precipitated from the three-storey\\nwindow. I flew to rescue it. Meanwhile Tom had left the room, and\\nwas rushing down the stairs, followed by Fanny. Having secured my\\ndesk, I ran to catch them, and Mary Ann came scampering after. All\\nthree escaped me, and ran out of the house into the garden, where\\nthey plunged about in the snow, shouting and screaming in exultant\\nglee.\\nWhat must I do? If I followed them, I should probably be unable to\\ncapture one, and only drive them farther away; if I did not, how\\nwas I to get them in? And what would their parents think of me, if\\nthey saw or heard the children rioting, hatless, bonnetless,\\ngloveless, and bootless, in the deep soft snow? While I stood in\\nthis perplexity, just without the door, trying, by grim looks and\\nangry words, to awe them into subjection, I heard a voice behind\\nme, in harshly piercing tones, exclaiming, -\\n\\'Miss Grey! Is it possible? What, in the devil\\'s name, can you be\\nthinking about?\\'\\n\\'I can\\'t get them in, sir,\\' said I, turning round, and beholding\\nMr. Bloomfield, with his hair on end, and his pale blue eyes\\nbolting from their sockets.\\n\\'But I INSIST upon their being got in!\\' cried he, approaching\\nnearer, and looking perfectly ferocious.\\n\\'Then, sir, you must call them yourself, if you please, for they\\nwon\\'t listen to me,\\' I replied, stepping back.\\n\\'Come in with you, you filthy brats; or I\\'ll horsewhip you every\\none!\\' roared he; and the children instantly obeyed. \\'There, you\\nsee!--they come at the first word!\\'\\n\\'Yes, when YOU speak.\\'\\n\\'And it\\'s very strange, that when you\\'ve the care of \\'em you\\'ve no\\nbetter control over \\'em than that!--Now, there they are--gone\\nupstairs with their nasty snowy feet! Do go after \\'em and see them\\nmade decent, for heaven\\'s sake!\\'\\nThat gentleman\\'s mother was then staying in the house; and, as I\\nascended the stairs and passed the drawing-room door, I had the\\nsatisfaction of hearing the old lady declaiming aloud to her\\ndaughter-in-law to this effect (for I could only distinguish the\\nmost emphatic words) -\\n\\'Gracious heavens!--never in all my life--!--get their death as\\nsure as--! Do you think, my dear, she\\'s a PROPER PERSON? Take my\\nword for it--\\'\\nI heard no more; but that sufficed.\\nThe senior Mrs. Bloomfield had been very attentive and civil to me;\\nand till now I had thought her a nice, kind-hearted, chatty old\\nbody. She would often come to me and talk in a confidential\\nstrain; nodding and shaking her head, and gesticulating with hands\\nand eyes, as a certain class of old ladies are won\\'t to do; though\\nI never knew one that carried the peculiarity to so great an\\nextent. She would even sympathise with me for the trouble I had\\nwith the children, and express at times, by half sentences,\\ninterspersed with nods and knowing winks, her sense of the\\ninjudicious conduct of their mamma in so restricting my power, and\\nneglecting to support me with her authority. Such a mode of\\ntestifying disapprobation was not much to my taste; and I generally\\nrefused to take it in, or understand anything more than was openly\\nspoken; at least, I never went farther than an implied\\nacknowledgment that, if matters were otherwise ordered my task\\nwould be a less difficult one, and I should be better able to guide\\nand instruct my charge; but now I must be doubly cautious.\\nHitherto, though I saw the old lady had her defects (of which one\\nwas a proneness to proclaim her perfections), I had always been\\nwishful to excuse them, and to give her credit for all the virtues\\nshe professed, and even imagine others yet untold. Kindness, which\\nhad been the food of my life through so many years, had lately been\\nso entirely denied me, that I welcomed with grateful joy the\\nslightest semblance of it. No wonder, then, that my heart warmed\\nto the old lady, and always gladdened at her approach and regretted\\nher departure.\\nBut now, the few words luckily or unluckily heard in passing had\\nwholly revolutionized my ideas respecting her: now I looked upon\\nher as hypocritical and insincere, a flatterer, and a spy upon my\\nwords and deeds. Doubtless it would have been my interest still to\\nmeet her with the same cheerful smile and tone of respectful\\ncordiality as before; but I could not, if I would: my manner\\naltered with my feelings, and became so cold and shy that she could\\nnot fail to notice it. She soon did notice it, and HER manner\\naltered too: the familiar nod was changed to a stiff bow, the\\ngracious smile gave place to a glare of Gorgon ferocity; her\\nvivacious loquacity was entirely transferred from me to \\'the\\ndarling boy and girls,\\' whom she flattered and indulged more\\nabsurdly than ever their mother had done.\\nI confess I was somewhat troubled at this change: I feared the\\nconsequences of her displeasure, and even made some efforts to\\nrecover the ground I had lost--and with better apparent success\\nthan I could have anticipated. At one time, I, merely in common\\ncivility, asked after her cough; immediately her long visage\\nrelaxed into a smile, and she favoured me with a particular history\\nof that and her other infirmities, followed by an account of her\\npious resignation, delivered in the usual emphatic, declamatory\\nstyle, which no writing can portray.\\n\\'But there\\'s one remedy for all, my dear, and that\\'s resignation\\'\\n(a toss of the head), \\'resignation to the will of heaven!\\' (an\\nuplifting of the hands and eyes). \\'It has always supported me\\nthrough all my trials, and always will do\\' (a succession of nods).\\n\\'But then, it isn\\'t everybody that can say that\\' (a shake of the\\nhead); \\'but I\\'m one of the pious ones, Miss Grey!\\' (a very\\nsignificant nod and toss). \\'And, thank heaven, I always was\\'\\n(another nod), \\'and I glory in it!\\' (an emphatic clasping of the\\nhands and shaking of the head). And with several texts of\\nScripture, misquoted or misapplied, and religious exclamations so\\nredolent of the ludicrous in the style of delivery and manner of\\nbringing in, if not in the expressions themselves, that I decline\\nrepeating them, she withdrew; tossing her large head in high good-\\nhumour--with herself at least--and left me hoping that, after all,\\nshe was rather weak than wicked.\\nAt her next visit to Wellwood House, I went so far as to say I was\\nglad to see her looking so well. The effect of this was magical:\\nthe words, intended as a mark of civility, were received as a\\nflattering compliment; her countenance brightened up, and from that\\nmoment she became as gracious and benign as heart could wish--in\\noutward semblance at least. From what I now saw of her, and what I\\nheard from the children, I know that, in order to gain her cordial\\nfriendship, I had but to utter a word of flattery at each\\nconvenient opportunity: but this was against my principles; and\\nfor lack of this, the capricious old dame soon deprived me of her\\nfavour again, and I believe did me much secret injury.\\nShe could not greatly influence her daughter-in-law against me,\\nbecause, between that lady and herself there was a mutual dislike--\\nchiefly shown by her in secret detractions and calumniations; by\\nthe other, in an excess of frigid formality in her demeanour; and\\nno fawning flattery of the elder could thaw away the wall of ice\\nwhich the younger interposed between them. But with her son, the\\nold lady had better success: he would listen to all she had to\\nsay, provided she could soothe his fretful temper, and refrain from\\nirritating him by her own asperities; and I have reason to believe\\nthat she considerably strengthened his prejudice against me. She\\nwould tell him that I shamefully neglected the children, and even\\nhis wife did not attend to them as she ought; and that he must look\\nafter them himself, or they would all go to ruin.\\nThus urged, he would frequently give himself the trouble of\\nwatching them from the windows during their play; at times, he\\nwould follow them through the grounds, and too often came suddenly\\nupon them while they were dabbling in the forbidden well, talking\\nto the coachman in the stables, or revelling in the filth of the\\nfarm-yard--and I, meanwhile, wearily standing, by, having\\npreviously exhausted my energy in vain attempts to get them away.\\nOften, too, he would unexpectedly pop his head into the schoolroom\\nwhile the young people were at meals, and find them spilling their\\nmilk over the table and themselves, plunging their fingers into\\ntheir own or each other\\'s mugs, or quarrelling over their victuals\\nlike a set of tiger\\'s cubs. If I were quiet at the moment, I was\\nconniving at their disorderly conduct; if (as was frequently the\\ncase) I happened to be exalting my voice to enforce order, I was\\nusing undue violence, and setting the girls a bad example by such\\nungentleness of tone and language.\\nI remember one afternoon in spring, when, owing to the rain, they\\ncould not go out; but, by some amazing good fortune, they had all\\nfinished their lessons, and yet abstained from running down to\\ntease their parents--a trick that annoyed me greatly, but which, on\\nrainy days, I seldom could prevent their doing; because, below,\\nthey found novelty and amusement--especially when visitors were in\\nthe house; and their mother, though she bid me keep them in the\\nschoolroom, would never chide them for leaving it, or trouble\\nherself to send them back. But this day they appeared satisfied\\nwith, their present abode, and what is more wonderful still, seemed\\ndisposed to play together without depending on me for amusement,\\nand without quarrelling with each other. Their occupation was a\\nsomewhat puzzling one: they were all squatted together on the\\nfloor by the window, over a heap of broken toys and a quantity of\\nbirds\\' eggs--or rather egg-shells, for the contents had luckily\\nbeen abstracted. These shells they had broken up and were pounding\\ninto small fragments, to what end I could not imagine; but so long\\nas they were quiet and not in positive mischief, I did not care;\\nand, with a feeling of unusual repose, I sat by the fire, putting\\nthe finishing stitches to a frock for Mary Ann\\'s doll; intending,\\nwhen that was done, to begin a letter to my mother. Suddenly the\\ndoor opened, and the dingy head of Mr. Bloomfield looked in.\\n\\'All very quiet here! What are you doing?\\' said he. \\'No harm TO-\\nDAY, at least,\\' thought I. But he was of a different opinion.\\nAdvancing to the window, and seeing the children\\'s occupations, he\\ntestily exclaimed--\\'What in the world are you about?\\'\\n\\'We\\'re grinding egg-shells, papa!\\' cried Tom.\\n\\'How DARE you make such a mess, you little devils? Don\\'t you see\\nwhat confounded work you\\'re making of the carpet?\\' (the carpet was\\na plain brown drugget). \\'Miss Grey, did you know what they were\\ndoing?\\'\\n\\'Yes, sir.\\'\\n\\'You knew it?\\'\\n\\'Yes.\\'\\n\\'You knew it! and you actually sat there and permitted them to go\\non without a word of reproof!\\'\\n\\'I didn\\'t think they were doing any harm.\\'\\n\\'Any harm! Why, look there! Just look at that carpet, and see--\\nwas there ever anything like it in a Christian house before? No\\nwonder your room is not fit for a pigsty--no wonder your pupils are\\nworse than a litter of pigs!--no wonder--oh! I declare, it puts me\\nquite past my patience\\' and he departed, shutting the door after\\nhim with a bang that made the children laugh.\\n\\'It puts me quite past my patience too!\\' muttered I, getting up;\\nand, seizing the poker, I dashed it repeatedly into the cinders,\\nand stirred them up with unwonted energy; thus easing my irritation\\nunder pretence of mending the fire.\\nAfter this, Mr. Bloomfield was continually looking in to see if the\\nschoolroom was in order; and, as the children were continually\\nlittering the floor with fragments of toys, sticks, stones,\\nstubble, leaves, and other rubbish, which I could not prevent their\\nbringing, or oblige them to gather up, and which the servants\\nrefused to \\'clean after them,\\' I had to spend a considerable\\nportion of my valuable leisure moments on my knees upon the floor,\\nin painsfully reducing things to order. Once I told them that they\\nshould not taste their supper till they had picked up everything\\nfrom the carpet; Fanny might have hers when she had taken up a\\ncertain quantity, Mary Ann when she had gathered twice as many, and\\nTom was to clear away the rest. Wonderful to state, the girls did\\ntheir part; but Tom was in such a fury that he flew upon the table,\\nscattered the bread and milk about the floor, struck his sisters,\\nkicked the coals out of the coal-pan, attempted to overthrow the\\ntable and chairs, and seemed inclined to make a Douglas-larder of\\nthe whole contents of the room: but I seized upon him, and,\\nsending Mary Ann to call her mamma, held him, in spite of kicks,\\nblows, yells, and execrations, till Mrs. Bloomfield made her\\nappearance.\\n\\'What is the matter with my boy?\\' said she.\\nAnd when the matter was explained to her, all she did was to send\\nfor the nursery-maid to put the room in order, and bring Master\\nBloomfield his supper.\\n\\'There now,\\' cried Tom, triumphantly, looking up from his viands\\nwith his mouth almost too full for speech. \\'There now, Miss Grey!\\nyou see I\\'ve got my supper in spite of you: and I haven\\'t picked\\nup a single thing!\\'\\nThe only person in the house who had any real sympathy for me was\\nthe nurse; for she had suffered like afflictions, though in a\\nsmaller degree; as she had not the task of teaching, nor was she so\\nresponsible for the conduct of her charge.\\n\\'Oh, Miss Grey!\\' she would say, \\'you have some trouble with them\\nchilder!\\'\\n\\'I have, indeed, Betty; and I daresay you know what it is.\\'\\n\\'Ay, I do so! But I don\\'t vex myself o\\'er \\'em as you do. And\\nthen, you see, I hit \\'em a slap sometimes: and them little \\'uns--I\\ngives \\'em a good whipping now and then: there\\'s nothing else will\\ndo for \\'em, as what they say. Howsoever, I\\'ve lost my place for\\nit.\\'\\n\\'Have you, Betty? I heard you were going to leave.\\'\\n\\'Eh, bless you, yes! Missis gave me warning a three wik sin\\'. She\\ntold me afore Christmas how it mud be, if I hit \\'em again; but I\\ncouldn\\'t hold my hand off \\'em at nothing. I know not how YOU do,\\nfor Miss Mary Ann\\'s worse by the half nor her sisters!\\'\\nCHAPTER V--THE UNCLE\\nBesides the old lady, there was another relative of the family,\\nwhose visits were a great annoyance to me--this was \\'Uncle Robson,\\'\\nMrs. Bloomfield\\'s brother; a tall, self-sufficient fellow, with\\ndark hair and sallow complexion like his sister, a nose that seemed\\nto disdain the earth, and little grey eyes, frequently half-closed,\\nwith a mixture of real stupidity and affected contempt of all\\nsurrounding objects. He was a thick-set, strongly-built man, but\\nhe had found some means of compressing his waist into a remarkably\\nsmall compass; and that, together with the unnatural stillness of\\nhis form, showed that the lofty-minded, manly Mr. Robson, the\\nscorner of the female sex, was not above the foppery of stays. He\\nseldom deigned to notice me; and, when he did, it was with a\\ncertain supercilious insolence of tone and manner that convinced me\\nhe was no gentleman: though it was intended to have a contrary\\neffect. But it was not for that I disliked his coming, so much as\\nfor the harm he did the children--encouraging all their evil\\npropensities, and undoing in a few minutes the little good it had\\ntaken me months of labour to achieve.\\nFanny and little Harriet he seldom condescended to notice; but Mary\\nAnn was something of a favourite. He was continually encouraging\\nher tendency to affectation (which I had done my utmost to crush),\\ntalking about her pretty face, and filling her head with all manner\\nof conceited notions concerning her personal appearance (which I\\nhad instructed her to regard as dust in the balance compared with\\nthe cultivation of her mind and manners); and I never saw a child\\nso susceptible of flattery as she was. Whatever was wrong, in\\neither her or her brother, he would encourage by laughing at, if\\nnot by actually praising: people little know the injury they do to\\nchildren by laughing at their faults, and making a pleasant jest of\\nwhat their true friends have endeavoured to teach them to hold in\\ngrave abhorrence.\\nThough not a positive drunkard, Mr. Robson habitually swallowed\\ngreat quantities of wine, and took with relish an occasional glass\\nof brandy and water. He taught his nephew to imitate him in this\\nto the utmost of his ability, and to believe that the more wine and\\nspirits he could take, and the better he liked them, the more he\\nmanifested his bold, and manly spirit, and rose superior to his\\nsisters. Mr. Bloomfield had not much to say against it, for his\\nfavourite beverage was gin and water; of which he took a\\nconsiderable portion every day, by dint of constant sipping--and to\\nthat I chiefly attributed his dingy complexion and waspish temper.\\nMr. Robson likewise encouraged Tom\\'s propensity to persecute the\\nlower creation, both by precept and example. As he frequently came\\nto course or shoot over his brother-in-law\\'s grounds, he would\\nbring his favourite dogs with him; and he treated them so brutally\\nthat, poor as I was, I would have given a sovereign any day to see\\none of them bite him, provided the animal could have done it with\\nimpunity. Sometimes, when in a very complacent mood, he would go\\na-birds\\'-nesting with the children, a thing that irritated and\\nannoyed me exceedingly; as, by frequent and persevering attempts, I\\nflattered myself I had partly shown them the evil of this pastime,\\nand hoped, in time, to bring them to some general sense of justice\\nand humanity; but ten minutes\\' birds\\'-nesting with uncle Robson, or\\neven a laugh from him at some relation of their former barbarities,\\nwas sufficient at once to destroy the effect of my whole elaborate\\ncourse of reasoning and persuasion. Happily, however, during that\\nspring, they never, but once, got anything but empty nests, or\\neggs--being too impatient to leave them till the birds were\\nhatched; that once, Tom, who had been with his uncle into the\\nneighbouring plantation, came running in high glee into the garden,\\nwith a brood of little callow nestlings in his hands. Mary Ann and\\nFanny, whom I was just bringing out, ran to admire his spoils, and\\nto beg each a bird for themselves. \\'No, not one!\\' cried Tom.\\n\\'They\\'re all mine; uncle Robson gave them to me--one, two, three,\\nfour, five--you shan\\'t touch one of them! no, not one, for your\\nlives!\\' continued he, exultingly; laying the nest on the ground,\\nand standing over it with his legs wide apart, his hands thrust\\ninto his breeches-pockets, his body bent forward, and his face\\ntwisted into all manner of contortions in the ecstasy of his\\ndelight.\\n\\'But you shall see me fettle \\'em off. My word, but I WILL wallop\\n\\'em? See if I don\\'t now. By gum! but there\\'s rare sport for me in\\nthat nest.\\'\\n\\'But, Tom,\\' said I, \\'I shall not allow you to torture those birds.\\nThey must either be killed at once or carried back to the place you\\ntook them from, that the old birds may continue to feed them.\\'\\n\\'But you don\\'t know where that is, Madam: it\\'s only me and uncle\\nRobson that knows that.\\'\\n\\'But if you don\\'t tell me, I shall kill them myself--much as I hate\\nit.\\'\\n\\'You daren\\'t. You daren\\'t touch them for your life! because you\\nknow papa and mamma, and uncle Robson, would be angry. Ha, ha!\\nI\\'ve caught you there, Miss!\\'\\n\\'I shall do what I think right in a case of this sort without\\nconsulting any one. If your papa and mamma don\\'t happen to approve\\nof it, I shall be sorry to offend them; but your uncle Robson\\'s\\nopinions, of course, are nothing to me.\\'\\nSo saying--urged by a sense of duty--at the risk of both making\\nmyself sick and incurring the wrath of my employers--I got a large\\nflat stone, that had been reared up for a mouse-trap by the\\ngardener; then, having once more vainly endeavoured to persuade the\\nlittle tyrant to let the birds be carried back, I asked what he\\nintended to do with them. With fiendish glee he commenced a list\\nof torments; and while he was busied in the relation, I dropped the\\nstone upon his intended victims and crushed them flat beneath it.\\nLoud were the outcries, terrible the execrations, consequent upon\\nthis daring outrage; uncle Robson had been coming up the walk with\\nhis gun, and was just then pausing to kick his dog. Tom flew\\ntowards him, vowing he would make him kick me instead of Juno. Mr.\\nRobson leant upon his gun, and laughed excessively at the violence\\nof his nephew\\'s passion, and the bitter maledictions and\\nopprobrious epithets he heaped upon me. \\'Well, you ARE a good\\n\\'un!\\' exclaimed he, at length, taking up his weapon and proceeding\\ntowards the house. \\'Damme, but the lad has some spunk in him, too.\\nCurse me, if ever I saw a nobler little scoundrel than that. He\\'s\\nbeyond petticoat government already: by God! he defies mother,\\ngranny, governess, and all! Ha, ha, ha! Never mind, Tom, I\\'ll get\\nyou another brood to-morrow.\\'\\n\\'If you do, Mr. Robson, I shall kill them too,\\' said I.\\n\\'Humph!\\' replied he, and having honoured me with a broad stare--\\nwhich, contrary to his expectations, I sustained without flinching-\\n-he turned away with an air of supreme contempt, and stalked into\\nthe house. Tom next went to tell his mamma. It was not her way to\\nsay much on any subject; but, when she next saw me, her aspect and\\ndemeanour were doubly dark and chilled. After some casual remark\\nabout the weather, she observed--\\'I am sorry, Miss Grey, you should\\nthink it necessary to interfere with Master Bloomfield\\'s\\namusements; he was very much distressed about your destroying the\\nbirds.\\'\\n\\'When Master Bloomfield\\'s amusements consist in injuring sentient\\ncreatures,\\' I answered, \\'I think it my duty to interfere.\\'\\n\\'You seemed to have forgotten,\\' said she, calmly, \\'that the\\ncreatures were all created for our convenience.\\'\\nI thought that doctrine admitted some doubt, but merely replied--\\n\\'If they were, we have no right to torment them for our amusement.\\'\\n\\'I think,\\' said she, \\'a child\\'s amusement is scarcely to be weighed\\nagainst the welfare of a soulless brute.\\'\\n\\'But, for the child\\'s own sake, it ought not to be encouraged to\\nhave such amusements,\\' answered I, as meekly as I could, to make up\\nfor such unusual pertinacity. \\'\"Blessed are the merciful, for they\\nshall obtain mercy.\"\\'\\n\\'Oh! of course; but that refers to our conduct towards each other.\\'\\n\\'\"The merciful man shows mercy to his beast,\"\\' I ventured to add.\\n\\'I think YOU have not shown much mercy,\\' replied she, with a short,\\nbitter laugh; \\'killing the poor birds by wholesale in that shocking\\nmanner, and putting the dear boy to such misery for a mere whim.\\'\\nI judged it prudent to say no more. This was the nearest approach\\nto a quarrel I ever had with Mrs. Bloomfield; as well as the\\ngreatest number of words I ever exchanged with her at one time,\\nsince the day of my first arrival.\\nBut Mr. Robson and old Mrs. Bloomfield were not the only guests\\nwhose coming to Wellwood House annoyed me; every visitor disturbed\\nme more or less; not so much because they neglected me (though I\\ndid feel their conduct strange and disagreeable in that respect),\\nas because I found it impossible to keep my pupils away from them,\\nas I was repeatedly desired to do: Tom must talk to them, and Mary\\nAnn must be noticed by them. Neither the one nor the other knew\\nwhat it was to feel any degree of shamefacedness, or even common\\nmodesty. They would indecently and clamorously interrupt the\\nconversation of their elders, tease them with the most impertinent\\nquestions, roughly collar the gentlemen, climb their knees\\nuninvited, hang about their shoulders or rifle their pockets, pull\\nthe ladies\\' gowns, disorder their hair, tumble their collars, and\\nimportunately beg for their trinkets.\\nMrs. Bloomfield had the sense to be shocked and annoyed at all\\nthis, but she had not sense to prevent it: she expected me to\\nprevent it. But how could I--when the guests, with their fine\\nclothes and new faces, continually flattered and indulged them, out\\nof complaisance to their parents--how could I, with my homely\\ngarments, every-day face, and honest words, draw them away? I\\nstrained every nerve to do so: by striving to amuse them, I\\nendeavoured to attract them to my side; by the exertion of such\\nauthority as I possessed, and by such severity as I dared to use, I\\ntried to deter them from tormenting the guests; and by reproaching\\ntheir unmannerly conduct, to make them ashamed to repeat it. But\\nthey knew no shame; they scorned authority which had no terrors to\\nback it; and as for kindness and affection, either they had no\\nhearts, or such as they had were so strongly guarded, and so well\\nconcealed, that I, with all my efforts, had not yet discovered how\\nto reach them.\\nBut soon my trials in this quarter came to a close--sooner than I\\neither expected or desired; for one sweet evening towards the close\\nof May, as I was rejoicing in the near approach of the holidays,\\nand congratulating myself upon having made some progress with my\\npupils (as far as their learning went, at least, for I HAD\\ninstilled SOMETHING into their heads, and I had, at length, brought\\nthem to be a little--a very little--more rational about getting\\ntheir lessons done in time to leave some space for recreation,\\ninstead of tormenting themselves and me all day long to no\\npurpose), Mrs. Bloomfield sent for me, and calmly told me that\\nafter Midsummer my services would be no longer required. She\\nassured me that my character and general conduct were\\nunexceptionable; but the children had made so little improvement\\nsince my arrival that Mr. Bloomfield and she felt it their duty to\\nseek some other mode of instruction. Though superior to most\\nchildren of their years in abilities, they were decidedly behind\\nthem in attainments; their manners were uncultivated, and their\\ntempers unruly. And this she attributed to a want of sufficient\\nfirmness, and diligent, persevering care on my part.\\nUnshaken firmness, devoted diligence, unwearied perseverance,\\nunceasing care, were the very qualifications on which I had\\nsecretly prided myself; and by which I had hoped in time to\\novercome all difficulties, and obtain success at last. I wished to\\nsay something in my own justification; but in attempting to speak,\\nI felt my voice falter; and rather than testify any emotion, or\\nsuffer the tears to overflow that were already gathering in my\\neyes, I chose to keep silence, and bear all like a self-convicted\\nculprit.\\nThus was I dismissed, and thus I sought my home. Alas! what would\\nthey think of me? unable, after all my boasting, to keep my place,\\neven for a single year, as governess to three small children, whose\\nmother was asserted by my own aunt to be a \\'very nice woman.\\'\\nHaving been thus weighed in the balance and found wanting, I need\\nnot hope they would be willing to try me again. And this was an\\nunwelcome thought; for vexed, harassed, disappointed as I had been,\\nand greatly as I had learned to love and value my home, I was not\\nyet weary of adventure, nor willing to relax my efforts. I knew\\nthat all parents were not like Mr. and Mrs. Bloomfield, and I was\\ncertain all children were not like theirs. The next family must be\\ndifferent, and any change must be for the better. I had been\\nseasoned by adversity, and tutored by experience, and I longed to\\nredeem my lost honour in the eyes of those whose opinion was more\\nthan that of all the world to me.\\nCHAPTER VI--THE PARSONAGE AGAIN\\nFor a few months I remained peaceably at home, in the quiet\\nenjoyment of liberty and rest, and genuine friendship, from all of\\nwhich I had fasted so long; and in the earnest prosecution of my\\nstudies, to recover what I had lost during my stay at Wellwood\\nHouse, and to lay in new stores for future use. My father\\'s health\\nwas still very infirm, but not materially worse than when I last\\nsaw him; and I was glad I had it in my power to cheer him by my\\nreturn, and to amuse him with singing his favourite songs.\\nNo one triumphed over my failure, or said I had better have taken\\nhis or her advice, and quietly stayed at home. All were glad to\\nhave me back again, and lavished more kindness than ever upon me,\\nto make up for the sufferings I had undergone; but not one would\\ntouch a shilling of what I had so cheerfully earned and so\\ncarefully saved, in the hope of sharing it with them. By dint of\\npinching here, and scraping there, our debts were already nearly\\npaid. Mary had had good success with her drawings; but our father\\nhad insisted upon HER likewise keeping all the produce of her\\nindustry to herself. All we could spare from the supply of our\\nhumble wardrobe and our little casual expenses, he directed us to\\nput into the savings\\'-bank; saying, we knew not how soon we might\\nbe dependent on that alone for support: for he felt he had not\\nlong to be with us, and what would become of our mother and us when\\nhe was gone, God only knew!\\nDear papa! if he had troubled himself less about the afflictions\\nthat threatened us in case of his death, I am convinced that\\ndreaded event would not have taken place so soon. My mother would\\nnever suffer him to ponder on the subject if she could help it.\\n\\'Oh, Richard!\\' exclaimed she, on one occasion, \\'if you would but\\ndismiss such gloomy subjects from your mind, you would live as long\\nas any of us; at least you would live to see the girls married, and\\nyourself a happy grandfather, with a canty old dame for your\\ncompanion.\\'\\nMy mother laughed, and so did my father: but his laugh soon\\nperished in a dreary sigh.\\n\\'THEY married--poor penniless things!\\' said he; \\'who will take them\\nI wonder!\\'\\n\\'Why, nobody shall that isn\\'t thankful for them. Wasn\\'t I\\npenniless when you took me? and you PRETENDED, at least, to be\\nvastly pleased with your acquisition. But it\\'s no matter whether\\nthey get married or not: we can devise a thousand honest ways of\\nmaking a livelihood. And I wonder, Richard, you can think of\\nbothering your head about our POVERTY in case of your death; as if\\nTHAT would be anything compared with the calamity of losing you--an\\naffliction that you well know would swallow up all others, and\\nwhich you ought to do your utmost to preserve us from: and there\\nis nothing like a cheerful mind for keeping the body in health.\\'\\n\\'I know, Alice, it is wrong to keep repining as I do, but I cannot\\nhelp it: you must bear with me.\\'\\n\\'I WON\\'T bear with you, if I can alter you,\\' replied my mother:\\nbut the harshness of her words was undone by the earnest affection\\nof her tone and pleasant smile, that made my father smile again,\\nless sadly and less transiently than was his wont.\\n\\'Mamma,\\' said I, as soon as I could find an opportunity of speaking\\nwith her alone, \\'my money is but little, and cannot last long; if I\\ncould increase it, it would lessen papa\\'s anxiety, on one subject\\nat least. I cannot draw like Mary, and so the best thing I could\\ndo would be to look out for another situation.\\'\\n\\'And so you would actually try again, Agnes?\\'\\n\\'Decidedly, I would.\\'\\n\\'Why, my dear, I should have thought you had had enough of it.\\'\\n\\'I know,\\' said I, \\'everybody is not like Mr. and Mrs. Bloomfield--\\'\\n\\'Some are worse,\\' interrupted my mother.\\n\\'But not many, I think,\\' replied I, \\'and I\\'m sure all children are\\nnot like theirs; for I and Mary were not: we always did as you bid\\nus, didn\\'t we?\\'\\n\\'Generally: but then, I did not spoil you; and you were not\\nperfect angels after all: Mary had a fund of quiet obstinacy, and\\nyou were somewhat faulty in regard to temper; but you were very\\ngood children on the whole.\\'\\n\\'I know I was sulky sometimes, and I should have been glad to see\\nthese children sulky sometimes too; for then I could have\\nunderstood them: but they never were, for they COULD not be\\noffended, nor hurt, nor ashamed: they could not be unhappy in any\\nway, except when they were in a passion.\\'\\n\\'Well, if they COULD not, it was not their fault: you cannot\\nexpect stone to be as pliable as clay.\\'\\n\\'No, but still it is very unpleasant to live with such\\nunimpressible, incomprehensible creatures. You cannot love them;\\nand if you could, your love would be utterly thrown away: they\\ncould neither return it, nor value, nor understand it. But,\\nhowever, even if I should stumble on such a family again, which is\\nquite unlikely, I have all this experience to begin with, and I\\nshould manage better another time; and the end and aim of this\\npreamble is, let me try again.\\'\\n\\'Well, my girl, you are not easily discouraged, I see: I am glad\\nof that. But, let me tell you, you are a good deal paler and\\nthinner than when you first left home; and we cannot have you\\nundermining your health to hoard up money either for yourself or\\nothers.\\'\\n\\'Mary tells me I am changed too; and I don\\'t much wonder at it, for\\nI was in a constant state of agitation and anxiety all day long:\\nbut next time I am determined to take things coolly.\\'\\nAfter some further discussion, my mother promised once more to\\nassist me, provided I would wait and be patient; and I left her to\\nbroach the matter to my father, when and how she deemed it most\\nadvisable: never doubting her ability to obtain his consent.\\nMeantime, I searched, with great interest, the advertising columns\\nof the newspapers, and wrote answers to every \\'Wanted a Governess\\'\\nthat appeared at all eligible; but all my letters, as well as the\\nreplies, when I got any, were dutifully shown to my mother; and\\nshe, to my chagrin, made me reject the situations one after\\nanother: these were low people, these were too exacting in their\\ndemands, and these too niggardly in their remuneration.\\n\\'Your talents are not such as every poor clergyman\\'s daughter\\npossesses, Agnes,\\' she would say, \\'and you must not throw them\\naway. Remember, you promised to be patient: there is no need of\\nhurry: you have plenty of time before you, and may have many\\nchances yet.\\'\\nAt length, she advised me to put an advertisement, myself, in the\\npaper, stating my qualifications, &c.\\n\\'Music, singing, drawing, French, Latin, and German,\\' said she,\\n\\'are no mean assemblage: many will be glad to have so much in one\\ninstructor; and this time, you shall try your fortune in a somewhat\\nhigher family in that of some genuine, thoroughbred gentleman; for\\nsuch are far more likely to treat you with proper respect and\\nconsideration than those purse-proud tradespeople and arrogant\\nupstarts. I have known several among the higher ranks who treated\\ntheir governesses quite as one of the family; though some, I allow,\\nare as insolent and exacting as any one else can be: for there are\\nbad and good in all classes.\\'\\nThe advertisement was quickly written and despatched. Of the two\\nparties who answered it, but one would consent to give me fifty\\npounds, the sum my mother bade me name as the salary I should\\nrequire; and here, I hesitated about engaging myself, as I feared\\nthe children would be too old, and their parents would require some\\none more showy, or more experienced, if not more accomplished than\\nI. But my mother dissuaded me from declining it on that account:\\nI should do vastly well, she said, if I would only throw aside my\\ndiffidence, and acquire a little more confidence in myself. I was\\njust to give a plain, true statement of my acquirements and\\nqualifications, and name what stipulations I chose to make, and\\nthen await the result. The only stipulation I ventured to propose,\\nwas that I might be allowed two months\\' holidays during the year to\\nvisit my friends, at Midsummer and Christmas. The unknown lady, in\\nher reply, made no objection to this, and stated that, as to my\\nacquirements, she had no doubt I should be able to give\\nsatisfaction; but in the engagement of governesses she considered\\nthose things as but subordinate points; as being situated in the\\nneighbourhood of O---, she could get masters to supply any\\ndeficiencies in that respect: but, in her opinion, next to\\nunimpeachable morality, a mild and cheerful temper and obliging\\ndisposition were the most essential requisities.\\nMy mother did not relish this at all, and now made many objections\\nto my accepting the situation; in which my sister warmly supported\\nher: but, unwilling to be balked again, I overruled them all; and,\\nhaving first obtained the consent of my father (who had, a short\\ntime previously, been apprised of these transactions), I wrote a\\nmost obliging epistle to my unknown correspondent, and, finally,\\nthe bargain was concluded.\\nIt was decreed that on the last day of January I was to enter upon\\nmy new office as governess in the family of Mr. Murray, of Horton\\nLodge, near O---, about seventy miles from our village: a\\nformidable distance to me, as I had never been above twenty miles\\nfrom home in all the course of my twenty years\\' sojourn on earth;\\nand as, moreover, every individual in that family and in the\\nneighbourhood was utterly unknown to myself and all my\\nacquaintances. But this rendered it only the more piquant to me.\\nI had now, in some measure, got rid of the mauvaise honte that had\\nformerly oppressed me so much; there was a pleasing excitement in\\nthe idea of entering these unknown regions, and making my way alone\\namong its strange inhabitants. I now flattered myself I was going\\nto see something in the world: Mr. Murray\\'s residence was near a\\nlarge town, and not in a manufacturing district, where the people\\nhad nothing to do but to make money; his rank from what I could\\ngather, appeared to be higher than that of Mr. Bloomfield; and,\\ndoubtless, he was one of those genuine thoroughbred gentry my\\nmother spoke of, who would treat his governess with due\\nconsideration as a respectable well-educated lady, the instructor\\nand guide of his children, and not a mere upper servant. Then, my\\npupils being older, would be more rational, more teachable, and\\nless troublesome than the last; they would be less confined to the\\nschoolroom, and not require that constant labour and incessant\\nwatching; and, finally, bright visions mingled with my hopes, with\\nwhich the care of children and the mere duties of a governess had\\nlittle or nothing to do. Thus, the reader will see that I had no\\nclaim to be regarded as a martyr to filial piety, going forth to\\nsacrifice peace and liberty for the sole purpose of laying up\\nstores for the comfort and support of my parents: though certainly\\nthe comfort of my father, and the future support of my mother, had\\na large share in my calculations; and fifty pounds appeared to me\\nno ordinary sum. I must have decent clothes becoming my station; I\\nmust, it seemed, put out my washing, and also pay for my four\\nannual journeys between Horton Lodge and home; but with strict\\nattention to economy, surely twenty pounds, or little more, would\\ncover those expenses, and then there would be thirty for the bank,\\nor little less: what a valuable addition to our stock! Oh, I must\\nstruggle to keep this situation, whatever it might be! both for my\\nown honour among my friends and for the solid services I might\\nrender them by my continuance there.\\nCHAPTER VII--HORTON LODGE\\nThe 31st of January was a wild, tempestuous day: there was a\\nstrong north wind, with a continual storm of snow drifting on the\\nground and whirling through the air. My friends would have had me\\ndelay my departure, but fearful of prejudicing my employers against\\nme by such want of punctuality at the commencement of my\\nundertaking, I persisted in keeping the appointment.\\nI will not inflict upon my readers an account of my leaving home on\\nthat dark winter morning: the fond farewells, the long, long\\njourney to O---, the solitary waitings in inns for coaches or\\ntrains--for there were some railways then--and, finally, the\\nmeeting at O--- with Mr. Murray\\'s servant, who had been sent with\\nthe phaeton to drive me from thence to Horton Lodge. I will just\\nstate that the heavy snow had thrown such impediments in the way of\\nboth horses and steam-engines, that it was dark some hours before I\\nreached my journey\\'s end, and that a most bewildering storm came on\\nat last, which made the few miles\\' space between O--- and Horton\\nLodge a long and formidable passage. I sat resigned, with the\\ncold, sharp snow drifting through my veil and filling my lap,\\nseeing nothing, and wondering how the unfortunate horse and driver\\ncould make their way even as well as they did; and indeed it was\\nbut a toilsome, creeping style of progression, to say the best of\\nit. At length we paused; and, at the call of the driver, someone\\nunlatched and rolled back upon their creaking hinges what appeared\\nto be the park gates. Then we proceeded along a smoother road,\\nwhence, occasionally, I perceived some huge, hoary mass gleaming\\nthrough the darkness, which I took to be a portion of a snow-clad\\ntree. After a considerable time we paused again, before the\\nstately portico of a large house with long windows descending to\\nthe ground.\\nI rose with some difficulty from under the superincumbent\\nsnowdrift, and alighted from the carriage, expecting that a kind\\nand hospitable reception would indemnify me for the toils and\\nhardships of the day. A gentleman person in black opened the door,\\nand admitted me into a spacious hall, lighted by an amber-coloured\\nlamp suspended from the ceiling; he led me through this, along a\\npassage, and opening the door of a back room, told me that was the\\nschoolroom. I entered, and found two young ladies and two young\\ngentlemen--my future pupils, I supposed. After a formal greeting,\\nthe elder girl, who was trifling over a piece of canvas and a\\nbasket of German wools, asked if I should like to go upstairs. I\\nreplied in the affirmative, of course.\\n\\'Matilda, take a candle, and show her her room,\\' said she.\\nMiss Matilda, a strapping hoyden of about fourteen, with a short\\nfrock and trousers, shrugged her shoulders and made a slight\\ngrimace, but took a candle and proceeded before me up the back\\nstairs (a long, steep, double flight), and through a long, narrow\\npassage, to a small but tolerably comfortable room. She then asked\\nme if I would take some tea or coffee. I was about to answer No;\\nbut remembering that I had taken nothing since seven o\\'clock that\\nmorning, and feeling faint in consequence, I said I would take a\\ncup of tea. Saying she would tell \\'Brown,\\' the young lady\\ndeparted; and by the time I had divested myself of my heavy, wet\\ncloak, shawl, bonnet, &c., a mincing damsel came to say the young\\nladies desired to know whether I would take my tea up there or in\\nthe schoolroom. Under the plea of fatigue I chose to take it\\nthere. She withdrew; and, after a while, returned again with a\\nsmall tea-tray, and placed it on the chest of drawers, which served\\nas a dressing-table. Having civilly thanked her, I asked at what\\ntime I should be expected to rise in the morning.\\n\\'The young ladies and gentlemen breakfast at half-past eight,\\nma\\'am,\\' said she; \\'they rise early; but, as they seldom do any\\nlessons before breakfast, I should think it will do if you rise\\nsoon after seven.\\'\\nI desired her to be so kind as to call me at seven, and, promising\\nto do so, she withdrew. Then, having broken my long fast on a cup\\nof tea and a little thin bread and butter, I sat down beside the\\nsmall, smouldering fire, and amused myself with a hearty fit of\\ncrying; after which, I said my prayers, and then, feeling\\nconsiderably relieved, began to prepare for bed. Finding that none\\nof my luggage was brought up, I instituted a search for the bell;\\nand failing to discover any signs of such a convenience in any\\ncorner of the room, I took my candle and ventured through the long\\npassage, and down the steep stairs, on a voyage of discovery.\\nMeeting a well-dressed female on the way, I told her what I wanted;\\nbut not without considerable hesitation, as I was not quite sure\\nwhether it was one of the upper servants, or Mrs. Murray herself:\\nit happened, however, to be the lady\\'s-maid. With the air of one\\nconferring an unusual favour, she vouchsafed to undertake the\\nsending up of my things; and when I had re-entered my room, and\\nwaited and wondered a long time (greatly fearing that she had\\nforgotten or neglected to perform her promise, and doubting whether\\nto keep waiting or go to bed, or go down again), my hopes, at\\nlength, were revived by the sound of voices and laughter,\\naccompanied by the tramp of feet along the passage; and presently\\nthe luggage was brought in by a rough-looking maid and a man,\\nneither of them very respectful in their demeanour to me. Having\\nshut the door upon their retiring footsteps, and unpacked a few of\\nmy things, I betook myself to rest; gladly enough, for I was weary\\nin body and mind.\\nIt was with a strange feeling of desolation, mingled with a strong\\nsense of the novelty of my situation, and a joyless kind of\\ncuriosity concerning what was yet unknown, that I awoke the next\\nmorning; feeling like one whirled away by enchantment, and suddenly\\ndropped from the clouds into a remote and unknown land, widely and\\ncompletely isolated from all he had ever seen or known before; or\\nlike a thistle-seed borne on the wind to some strange nook of\\nuncongenial soil, where it must lie long enough before it can take\\nroot and germinate, extracting nourishment from what appears so\\nalien to its nature: if, indeed, it ever can. But this gives no\\nproper idea of my feelings at all; and no one that has not lived\\nsuch a retired, stationary life as mine, can possibly imagine what\\nthey were: hardly even if he has known what it is to awake some\\nmorning, and find himself in Port Nelson, in New Zealand, with a\\nworld of waters between himself and all that knew him.\\nI shall not soon forget the peculiar feeling with which I raised my\\nblind and looked out upon the unknown world: a wide, white\\nwilderness was all that met my gaze; a waste of\\nDeserts tossed in snow,\\nAnd heavy laden groves.\\nI descended to the schoolroom with no remarkable eagerness to join\\nmy pupils, though not without some feeling of curiosity respecting\\nwhat a further acquaintance would reveal. One thing, among others\\nof more obvious importance, I determined with myself--I must begin\\nwith calling them Miss and Master. It seemed to me a chilling and\\nunnatural piece of punctilio between the children of a family and\\ntheir instructor and daily companion; especially where the former\\nwere in their early childhood, as at Wellwood House; but even\\nthere, my calling the little Bloomfields by their simple names had\\nbeen regarded as an offensive liberty: as their parents had taken\\ncare to show me, by carefully designating them MASTER and MISS\\nBloomfield, &c., in speaking to me. I had been very slow to take\\nthe hint, because the whole affair struck me as so very absurd; but\\nnow I determined to be wiser, and begin at once with as much form\\nand ceremony as any member of the family would be likely to\\nrequire: and, indeed, the children being so much older, there\\nwould be less difficulty; though the little words Miss and Master\\nseemed to have a surprising effect in repressing all familiar,\\nopen-hearted kindness, and extinguishing every gleam of cordiality\\nthat might arise between us.\\nAs I cannot, like Dogberry, find it in my heart to bestow all my\\ntediousness upon the reader, I will not go on to bore him with a\\nminute detail of all the discoveries and proceedings of this and\\nthe following day. No doubt he will be amply satisfied with a\\nslight sketch of the different members of the family, and a general\\nview of the first year or two of my sojourn among them.\\nTo begin with the head: Mr. Murray was, by all accounts, a\\nblustering, roystering, country squire: a devoted fox-hunter, a\\nskilful horse-jockey and farrier, an active, practical farmer, and\\na hearty bon vivant. By all accounts, I say; for, except on\\nSundays, when he went to church, I never saw him from month to\\nmonth: unless, in crossing the hall or walking in the grounds, the\\nfigure of a tall, stout gentleman, with scarlet cheeks and crimson\\nnose, happened to come across me; on which occasions, if he passed\\nnear enough to speak, an unceremonious nod, accompanied by a\\n\\'Morning, Miss Grey,\\' or some such brief salutation, was usually\\nvouchsafed. Frequently, indeed, his loud laugh reached me from\\nafar; and oftener still I heard him swearing and blaspheming\\nagainst the footmen, groom, coachman, or some other hapless\\ndependant.\\nMrs. Murray was a handsome, dashing lady of forty, who certainly\\nrequired neither rouge nor padding to add to her charms; and whose\\nchief enjoyments were, or seemed to be, in giving or frequenting\\nparties, and in dressing at the very top of the fashion. I did not\\nsee her till eleven o\\'clock on the morning after my arrival; when\\nshe honoured me with a visit, just as my mother might step into the\\nkitchen to see a new servant-girl: yet not so, either, for my\\nmother would have seen her immediately after her arrival, and not\\nwaited till the next day; and, moreover, she would have addressed\\nher in a more kind and friendly manner, and given her some words of\\ncomfort as well as a plain exposition of her duties; but Mrs.\\nMurray did neither the one nor the other. She just stepped into\\nthe schoolroom on her return from ordering dinner in the\\nhousekeeper\\'s room, bade me good-morning, stood for two minutes by\\nthe fire, said a few words about the weather and the \\'rather rough\\'\\njourney I must have had yesterday; petted her youngest child--a boy\\nof ten--who had just been wiping his mouth and hands on her gown,\\nafter indulging in some savoury morsel from the housekeeper\\'s\\nstore; told me what a sweet, good boy he was; and then sailed out,\\nwith a self-complacent smile upon her face: thinking, no doubt,\\nthat she had done quite enough for the present, and had been\\ndelightfully condescending into the bargain. Her children\\nevidently held the same opinion, and I alone thought otherwise.\\nAfter this she looked in upon me once or twice, during the absence\\nof my pupils, to enlighten me concerning my duties towards them.\\nFor the girls she seemed anxious only to render them as\\nsuperficially attractive and showily accomplished as they could\\npossibly be made, without present trouble or discomfort to\\nthemselves; and I was to act accordingly--to study and strive to\\namuse and oblige, instruct, refine, and polish, with the least\\npossible exertion on their part, and no exercise of authority on\\nmine. With regard to the two boys, it was much the same; only\\ninstead of accomplishments, I was to get the greatest possible\\nquantity of Latin grammar and Valpy\\'s Delectus into their heads, in\\norder to fit them for school--the greatest possible quantity at\\nleast WITHOUT trouble to themselves. John might be a \\'little high-\\nspirited,\\' and Charles might be a little \\'nervous and tedious--\\'\\n\\'But at all events, Miss Grey,\\' said she, \\'I hope YOU will keep\\nyour temper, and be mild and patient throughout; especially with\\nthe dear little Charles; he is so extremely nervous and\\nsusceptible, and so utterly unaccustomed to anything but the\\ntenderest treatment. You will excuse my naming these things to\\nyou; for the fact is, I have hitherto found all the governesses,\\neven the very best of them, faulty in this particular. They wanted\\nthat meek and quiet spirit, which St. Matthew, or some of them,\\nsays is better than the putting on of apparel--you will know the\\npassage to which I allude, for you are a clergyman\\'s daughter. But\\nI have no doubt you will give satisfaction in this respect as well\\nas the rest. And remember, on all occasions, when any of the young\\npeople do anything improper, if persuasion and gentle remonstrance\\nwill not do, let one of the others come and tell me; for I can\\nspeak to them more plainly than it would be proper for you to do.\\nAnd make them as happy as you can, Miss Grey, and I dare say you\\nwill do very well.\\'\\nI observed that while Mrs. Murray was so extremely solicitous for\\nthe comfort and happiness of her children, and continually talking\\nabout it, she never once mentioned mine; though they were at home,\\nsurrounded by friends, and I an alien among strangers; and I did\\nnot yet know enough of the world, not to be considerably surprised\\nat this anomaly.\\nMiss Murray, otherwise Rosalie, was about sixteen when I came, and\\ndecidedly a very pretty girl; and in two years longer, as time more\\ncompletely developed her form and added grace to her carriage and\\ndeportment, she became positively beautiful; and that in no common\\ndegree. She was tall and slender, yet not thin; perfectly formed,\\nexquisitely fair, though not without a brilliant, healthy bloom;\\nher hair, which she wore in a profusion of long ringlets, was of a\\nvery light brown inclining to yellow; her eyes were pale blue, but\\nso clear and bright that few would wish them darker; the rest of\\nher features were small, not quite regular, and not remarkably\\notherwise: but altogether you could not hesitate to pronounce her\\na very lovely girl. I wish I could say as much for mind and\\ndisposition as I can for her form and face.\\nYet think not I have any dreadful disclosures to make: she was\\nlively, light-hearted, and could be very agreeable, with those who\\ndid not cross her will. Towards me, when I first came, she was\\ncold and haughty, then insolent and overbearing; but, on a further\\nacquaintance, she gradually laid aside her airs, and in time became\\nas deeply attached to me as it was possible for HER to be to one of\\nmy character and position: for she seldom lost sight, for above\\nhalf an hour at a time, of the fact of my being a hireling and a\\npoor curate\\'s daughter. And yet, upon the whole, I believe she\\nrespected me more than she herself was aware of; because I was the\\nonly person in the house who steadily professed good principles,\\nhabitually spoke the truth, and generally endeavoured to make\\ninclination bow to duty; and this I say, not, of course, in\\ncommendation of myself, but to show the unfortunate state of the\\nfamily to which my services were, for the present, devoted. There\\nwas no member of it in whom I regretted this sad want of principle\\nso much as Miss Murray herself; not only because she had taken a\\nfancy to me, but because there was so much of what was pleasant and\\nprepossessing in herself, that, in spite of her failings, I really\\nliked her--when she did not rouse my indignation, or ruffle my\\ntemper by TOO great a display of her faults. These, however, I\\nwould fain persuade myself were rather the effect of her education\\nthan her disposition: she had never been perfectly taught the\\ndistinction between right and wrong; she had, like her brothers and\\nsisters, been suffered, from infancy, to tyrannize over nurses,\\ngovernesses, and servants; she had not been taught to moderate her\\ndesires, to control her temper or bridle her will, or to sacrifice\\nher own pleasure for the good of others. Her temper being\\nnaturally good, she was never violent or morose, but from constant\\nindulgence, and habitual scorn of reason, she was often testy and\\ncapricious; her mind had never been cultivated: her intellect, at\\nbest, was somewhat shallow; she possessed considerable vivacity,\\nsome quickness of perception, and some talent for music and the\\nacquisition of languages, but till fifteen she had troubled herself\\nto acquire nothing;--then the love of display had roused her\\nfaculties, and induced her to apply herself, but only to the more\\nshowy accomplishments. And when I came it was the same:\\neverything was neglected but French, German, music, singing,\\ndancing, fancy-work, and a little drawing--such drawing as might\\nproduce the greatest show with the smallest labour, and the\\nprincipal parts of which were generally done by me. For music and\\nsinging, besides my occasional instructions, she had the attendance\\nof the best master the country afforded; and in these\\naccomplishments, as well as in dancing, she certainly attained\\ngreat proficiency. To music, indeed, she devoted too much of her\\ntime, as, governess though I was, I frequently told her; but her\\nmother thought that if SHE liked it, she COULD not give too much\\ntime to the acquisition of so attractive an art. Of fancy-work I\\nknew nothing but what I gathered from my pupil and my own\\nobservation; but no sooner was I initiated, than she made me useful\\nin twenty different ways: all the tedious parts of her work were\\nshifted on to my shoulders; such as stretching the frames,\\nstitching in the canvas, sorting the wools and silks, putting in\\nthe grounds, counting the stitches, rectifying mistakes, and\\nfinishing the pieces she was tired of.\\nAt sixteen, Miss Murray was something of a romp, yet not more so\\nthan is natural and allowable for a girl of that age, but at\\nseventeen, that propensity, like all other things, began to give\\nway to the ruling passion, and soon was swallowed up in the all-\\nabsorbing ambition to attract and dazzle the other sex. But enough\\nof her: now let us turn to her sister.\\nMiss Matilda Murray was a veritable hoyden, of whom little need be\\nsaid. She was about two years and a half younger than her sister;\\nher features were larger, her complexion much darker. She might\\npossibly make a handsome woman; but she was far too big-boned and\\nawkward ever to be called a pretty girl, and at present she cared\\nlittle about it. Rosalie knew all her charms, and thought them\\neven greater than they were, and valued them more highly than she\\nought to have done, had they been three times as great; Matilda\\nthought she was well enough, but cared little about the matter;\\nstill less did she care about the cultivation of her mind, and the\\nacquisition of ornamental accomplishments. The manner in which she\\nlearnt her lessons and practised her music was calculated to drive\\nany governess to despair. Short and easy as her tasks were, if\\ndone at all, they were slurred over, at any time and in any way;\\nbut generally at the least convenient times, and in the way least\\nbeneficial to herself, and least satisfactory to me: the short\\nhalf-hour of practising was horribly strummed through; she,\\nmeantime, unsparingly abusing me, either for interrupting her with\\ncorrections, or for not rectifying her mistakes before they were\\nmade, or something equally unreasonable. Once or twice, I ventured\\nto remonstrate with her seriously for such irrational conduct; but\\non each of those occasions, I received such reprehensive\\nexpostulations from her mother, as convinced me that, if I wished\\nto keep the situation, I must even let Miss Matilda go on in her\\nown way.\\nWhen her lessons were over, however, her ill-humour was generally\\nover too: while riding her spirited pony, or romping with the dogs\\nor her brothers and sister, but especially with her dear brother\\nJohn, she was as happy as a lark. As an animal, Matilda was all\\nright, full of life, vigour, and activity; as an intelligent being,\\nshe was barbarously ignorant, indocile, careless and irrational;\\nand, consequently, very distressing to one who had the task of\\ncultivating her understanding, reforming her manners, and aiding\\nher to acquire those ornamental attainments which, unlike her\\nsister, she despised as much as the rest. Her mother was partly\\naware of her deficiencies, and gave me many a lecture as to how I\\nshould try to form her tastes, and endeavour to rouse and cherish\\nher dormant vanity; and, by insinuating, skilful flattery, to win\\nher attention to the desired objects--which I would not do; and how\\nI should prepare and smooth the path of learning till she could\\nglide along it without the least exertion to herself: which I\\ncould not, for nothing can be taught to any purpose without some\\nlittle exertion on the part of the learner.\\nAs a moral agent, Matilda was reckless, headstrong, violent, and\\nunamenable to reason. One proof of the deplorable state of her\\nmind was, that from her father\\'s example she had learned to swear\\nlike a trooper. Her mother was greatly shocked at the \\'unlady-like\\ntrick,\\' and wondered \\'how she had picked it up.\\' \\'But you can soon\\nbreak her of it, Miss Grey,\\' said she: \\'it is only a habit; and if\\nyou will just gently remind her every time she does so, I am sure\\nshe will soon lay it aside.\\' I not only \\'gently reminded\\' her, I\\ntried to impress upon her how wrong it was, and how distressing to\\nthe ears of decent people: but all in vain: I was only answered\\nby a careless laugh, and, \\'Oh, Miss Grey, how shocked you are! I\\'m\\nso glad!\\' or, \\'Well! I can\\'t help it; papa shouldn\\'t have taught\\nme: I learned it all from him; and maybe a bit from the coachman.\\'\\nHer brother John, alias Master Murray, was about eleven when I\\ncame: a fine, stout, healthy boy, frank and good-natured in the\\nmain, and might have been a decent lad had he been properly\\neducated; but now he was as rough as a young bear, boisterous,\\nunruly, unprincipled, untaught, unteachable--at least, for a\\ngoverness under his mother\\'s eye. His masters at school might be\\nable to manage him better--for to school he was sent, greatly to my\\nrelief, in the course of a year; in a state, it is true, of\\nscandalous ignorance as to Latin, as well as the more useful though\\nmore neglected things: and this, doubtless, would all be laid to\\nthe account of his education having been entrusted to an ignorant\\nfemale teacher, who had presumed to take in hand what she was\\nwholly incompetent to perform. I was not delivered from his\\nbrother till full twelve months after, when he also was despatched\\nin the same state of disgraceful ignorance as the former.\\nMaster Charles was his mother\\'s peculiar darling. He was little\\nmore than a year younger than John, but much smaller, paler, and\\nless active and robust; a pettish, cowardly, capricious, selfish\\nlittle fellow, only active in doing mischief, and only clever in\\ninventing falsehoods: not simply to hide his faults, but, in mere\\nmalicious wantonness, to bring odium upon others. In fact, Master\\nCharles was a very great nuisance to me: it was a trial of\\npatience to live with him peaceably; to watch over him was worse;\\nand to teach him, or pretend to teach him, was inconceivable. At\\nten years old, he could not read correctly the easiest line in the\\nsimplest book; and as, according to his mother\\'s principle, he was\\nto be told every word, before he had time to hesitate or examine\\nits orthography, and never even to be informed, as a stimulant to\\nexertion, that other boys were more forward than he, it is not\\nsurprising that he made but little progress during the two years I\\nhad charge of his education. His minute portions of Latin grammar,\\n&c., were to be repeated over to him, till he chose to say he knew\\nthem, and then he was to be helped to say them; if he made mistakes\\nin his little easy sums in arithmetic, they were to be shown him at\\nonce, and the sum done for him, instead of his being left to\\nexercise his faculties in finding them out himself; so that, of\\ncourse, he took no pains to avoid mistakes, but frequently set down\\nhis figures at random, without any calculation at all.\\nI did not invariably confine myself to these rules: it was against\\nmy conscience to do so; but I seldom could venture to deviate from\\nthem in the slightest degree, without incurring the wrath of my\\nlittle pupil, and subsequently of his mamma; to whom he would\\nrelate my transgressions maliciously exaggerated, or adorned with\\nembellishments of his own; and often, in consequence, was I on the\\npoint of losing or resigning my situation. But, for their sakes at\\nhome, I smothered my pride and suppressed my indignation, and\\nmanaged to struggle on till my little tormentor was despatched to\\nschool; his father declaring that home education was \\'no go; for\\nhim, it was plain; his mother spoiled him outrageously, and his\\ngoverness could make no hand of him at all.\\'\\nA few more observations about Horton Lodge and its ongoings, and I\\nhave done with dry description for the present. The house was a\\nvery respectable one; superior to Mr. Bloomfield\\'s, both in age,\\nsize, and magnificence: the garden was not so tastefully laid out;\\nbut instead of the smooth-shaven lawn, the young trees guarded by\\npalings, the grove of upstart poplars, and the plantation of firs,\\nthere was a wide park, stocked with deer, and beautified by fine\\nold trees. The surrounding country itself was pleasant, as far as\\nfertile fields, flourishing trees, quiet green lanes, and smiling\\nhedges with wild-flowers scattered along their banks, could make\\nit; but it was depressingly flat to one born and nurtured among the\\nrugged hills of -.\\nWe were situated nearly two miles from the village church, and,\\nconsequently, the family carriage was put in requisition every\\nSunday morning, and sometimes oftener. Mr. and Mrs. Murray\\ngenerally thought it sufficient to show themselves at church once\\nin the course of the day; but frequently the children preferred\\ngoing a second time to wandering about the grounds all the day with\\nnothing to do. If some of my pupils chose to walk and take me with\\nthem, it was well for me; for otherwise my position in the carriage\\nwas to be crushed into the corner farthest from the open window,\\nand with my back to the horses: a position which invariably made\\nme sick; and if I were not actually obliged to leave the church in\\nthe middle of the service, my devotions were disturbed with a\\nfeeling of languor and sickliness, and the tormenting fear of its\\nbecoming worse: and a depressing headache was generally my\\ncompanion throughout the day, which would otherwise have been one\\nof welcome rest, and holy, calm enjoyment.\\n\\'It\\'s very odd, Miss Grey, that the carriage should always make you\\nsick: it never makes ME,\\' remarked Miss Matilda,\\n\\'Nor me either,\\' said her sister; \\'but I dare say it would, if I\\nsat where she does--such a nasty, horrid place, Miss Grey; I wonder\\nhow you can bear it!\\'\\n\\'I am obliged to bear it, since no choice is left me,\\'--I might\\nhave answered; but in tenderness for their feelings I only\\nreplied,--\\'Oh! it is but a short way, and if I am not sick in\\nchurch, I don\\'t mind it.\\'\\nIf I were called upon to give a description of the usual divisions\\nand arrangements of the day, I should find it a very difficult\\nmatter. I had all my meals in the schoolroom with my pupils, at\\nsuch times as suited their fancy: sometimes they would ring for\\ndinner before it was half cooked; sometimes they would keep it\\nwaiting on the table for above an hour, and then be out of humour\\nbecause the potatoes were cold, and the gravy covered with cakes of\\nsolid fat; sometimes they would have tea at four; frequently, they\\nwould storm at the servants because it was not in precisely at\\nfive; and when these orders were obeyed, by way of encouragement to\\npunctuality, they would keep it on the table till seven or eight.\\nTheir hours of study were managed in much the same way; my judgment\\nor convenience was never once consulted. Sometimes Matilda and\\nJohn would determine \\'to get all the plaguy business over before\\nbreakfast,\\' and send the maid to call me up at half-past five,\\nwithout any scruple or apology; sometimes, I was told to be ready\\nprecisely at six, and, having dressed in a hurry, came down to an\\nempty room, and after waiting a long time in suspense, discovered\\nthat they had changed their minds, and were still in bed; or,\\nperhaps, if it were a fine summer morning, Brown would come to tell\\nme that the young ladies and gentlemen had taken a holiday, and\\nwere gone out; and then I was kept waiting for breakfast till I was\\nalmost ready to faint: they having fortified themselves with\\nsomething before they went.\\nOften they would do their lessons in the open air; which I had\\nnothing to say against: except that I frequently caught cold by\\nsitting on the damp grass, or from exposure to the evening dew, or\\nsome insidious draught, which seemed to have no injurious effect on\\nthem. It was quite right that they should be hardy; yet, surely,\\nthey might have been taught some consideration for others who were\\nless so. But I must not blame them for what was, perhaps, my own\\nfault; for I never made any particular objections to sitting where\\nthey pleased; foolishly choosing to risk the consequences, rather\\nthan trouble them for my convenience. Their indecorous manner of\\ndoing their lessons was quite as remarkable as the caprice\\ndisplayed in their choice of time and place. While receiving my\\ninstructions, or repeating what they had learned, they would lounge\\nupon the sofa, lie on the rug, stretch, yawn, talk to each other,\\nor look out of the window; whereas, I could not so much as stir the\\nfire, or pick up the handkerchief I had dropped, without being\\nrebuked for inattention by one of my pupils, or told that \\'mamma\\nwould not like me to be so careless.\\'\\nThe servants, seeing in what little estimation the governess was\\nheld by both parents and children, regulated their behaviour by the\\nsame standard. I have frequently stood up for them, at the risk of\\nsome injury to myself, against the tyranny and injustice of their\\nyoung masters and mistresses; and I always endeavoured to give them\\nas little trouble as possible: but they entirely neglected my\\ncomfort, despised my requests, and slighted my directions. All\\nservants, I am convinced, would not have done so; but domestics in\\ngeneral, being ignorant and little accustomed to reason and\\nreflection, are too easily corrupted by the carelessness and bad\\nexample of those above them; and these, I think, were not of the\\nbest order to begin with.\\nI sometimes felt myself degraded by the life I led, and ashamed of\\nsubmitting to so many indignities; and sometimes I thought myself a\\nfool for caring so much about them, and feared I must be sadly\\nwanting in Christian humility, or that charity which \\'suffereth\\nlong and is kind, seeketh not her own, is not easily provoked,\\nbeareth all things, endureth all things.\\'\\nBut, with time and patience, matters began to be slightly\\nameliorated: slowly, it is true, and almost imperceptibly; but I\\ngot rid of my male pupils (that was no trifling advantage), and the\\ngirls, as I intimated before concerning one of them, became a\\nlittle less insolent, and began to show some symptoms of esteem.\\n\\'Miss Grey was a queer creature: she never flattered, and did not\\npraise them half enough; but whenever she did speak favourably of\\nthem, or anything belonging to them, they could be quite sure her\\napprobation was sincere. She was very obliging, quiet, and\\npeaceable in the main, but there were some things that put her out\\nof temper: they did not much care for that, to be sure, but still\\nit was better to keep her in tune; as when she was in a good humour\\nshe would talk to them, and be very agreeable and amusing\\nsometimes, in her way; which was quite different to mamma\\'s, but\\nstill very well for a change. She had her own opinions on every\\nsubject, and kept steadily to them--very tiresome opinions they\\noften were; as she was always thinking of what was right and what\\nwas wrong, and had a strange reverence for matters connected with\\nreligion, and an unaccountable liking to good people.\\'\\nCHAPTER VIII--THE \\'COMING OUT\\'\\nAt eighteen, Miss Murray was to emerge from the quiet obscurity of\\nthe schoolroom into the full blaze of the fashionable world--as\\nmuch of it, at least, as could be had out of London; for her papa\\ncould not be persuaded to leave his rural pleasures and pursuits,\\neven for a few weeks\\' residence in town. She was to make her debut\\non the third of January, at a magnificent ball, which her mamma\\nproposed to give to all the nobility and choice gentry of O--- and\\nits neighbourhood for twenty miles round. Of course, she looked\\nforward to it with the wildest impatience, and the most extravagant\\nanticipations of delight.\\n\\'Miss Grey,\\' said she, one evening, a month before the all-\\nimportant day, as I was perusing a long and extremely interesting\\nletter of my sister\\'s--which I had just glanced at in the morning\\nto see that it contained no very bad news, and kept till now,\\nunable before to find a quiet moment for reading it,--\\'Miss Grey,\\ndo put away that dull, stupid letter, and listen to me! I\\'m sure\\nmy talk must be far more amusing than that.\\'\\nShe seated herself on the low stool at my feet; and I, suppressing\\na sigh of vexation, began to fold up the epistle.\\n\\'You should tell the good people at home not to bore you with such\\nlong letters,\\' said she; \\'and, above all, do bid them write on\\nproper note-paper, and not on those great vulgar sheets. You\\nshould see the charming little lady-like notes mamma writes to her\\nfriends.\\'\\n\\'The good people at home,\\' replied I, \\'know very well that the\\nlonger their letters are, the better I like them. I should be very\\nsorry to receive a charming little lady-like note from any of them;\\nand I thought you were too much of a lady yourself, Miss Murray, to\\ntalk about the \"vulgarity\" of writing on a large sheet of paper.\\'\\n\\'Well, I only said it to tease you. But now I want to talk about\\nthe ball; and to tell you that you positively must put off your\\nholidays till it is over.\\'\\n\\'Why so?--I shall not be present at the ball.\\'\\n\\'No, but you will see the rooms decked out before it begins, and\\nhear the music, and, above all, see me in my splendid new dress. I\\nshall be so charming, you\\'ll be ready to worship me--you really\\nmust stay.\\'\\n\\'I should like to see you very much; but I shall have many\\nopportunities of seeing you equally charming, on the occasion of\\nsome of the numberless balls and parties that are to be, and I\\ncannot disappoint my friends by postponing my return so long.\\'\\n\\'Oh, never mind your friends! Tell them we won\\'t let you go.\\'\\n\\'But, to say the truth, it would be a disappointment to myself: I\\nlong to see them as much as they to see me--perhaps more.\\'\\n\\'Well, but it is such a short time.\\'\\n\\'Nearly a fortnight by my computation; and, besides, I cannot bear\\nthe thoughts of a Christmas spent from home: and, moreover, my\\nsister is going to be married.\\'\\n\\'Is she--when?\\'\\n\\'Not till next month; but I want to be there to assist her in\\nmaking preparations, and to make the best of her company while we\\nhave her.\\'\\n\\'Why didn\\'t you tell me before?\\'\\n\\'I\\'ve only got the news in this letter, which you stigmatize as\\ndull and stupid, and won\\'t let me read.\\'\\n\\'To whom is she to be married?\\'\\n\\'To Mr. Richardson, the vicar of a neighbouring parish.\\'\\n\\'Is he rich?\\'\\n\\'No; only comfortable.\\'\\n\\'Is he handsome?\\'\\n\\'No; only decent.\\'\\n\\'Young?\\'\\n\\'No; only middling.\\'\\n\\'Oh, mercy! what a wretch! What sort of a house is it?\\'\\n\\'A quiet little vicarage, with an ivy-clad porch, an old-fashioned\\ngarden, and--\\'\\n\\'Oh, stop!--you\\'ll make me sick. How CAN she bear it?\\'\\n\\'I expect she\\'ll not only be able to bear it, but to be very happy.\\nYou did not ask me if Mr. Richardson were a good, wise, or amiable\\nman; I could have answered Yes, to all these questions--at least so\\nMary thinks, and I hope she will not find herself mistaken.\\'\\n\\'But--miserable creature! how can she think of spending her life\\nthere, cooped up with that nasty old man; and no hope of change?\\'\\n\\'He is not old: he\\'s only six or seven and thirty; and she herself\\nis twenty-eight, and as sober as if she were fifty.\\'\\n\\'Oh! that\\'s better then--they\\'re well matched; but do they call him\\nthe \"worthy vicar\"?\\'\\n\\'I don\\'t know; but if they do, I believe he merits the epithet.\\'\\n\\'Mercy, how shocking! and will she wear a white apron and make pies\\nand puddings?\\'\\n\\'I don\\'t know about the white apron, but I dare say she will make\\npies and puddings now and then; but that will be no great hardship,\\nas she has done it before.\\'\\n\\'And will she go about in a plain shawl, and a large straw bonnet,\\ncarrying tracts and bone soup to her husband\\'s poor parishioners?\\'\\n\\'I\\'m not clear about that; but I dare say she will do her best to\\nmake them comfortable in body and mind, in accordance with our\\nmother\\'s example.\\'\\nCHAPTER IX--THE BALL\\n\\'Now, Miss Grey,\\' exclaimed Miss Murray, immediately I entered the\\nschoolroom, after having taken off my outdoor garments, upon\\nreturning from my four weeks\\' recreation, \\'Now--shut the door, and\\nsit down, and I\\'ll tell you all about the ball.\\'\\n\\'No--damn it, no!\\' shouted Miss Matilda. \\'Hold your tongue, can\\'t\\nye? and let me tell her about my new mare--SUCH a splendour, Miss\\nGrey! a fine blood mare--\\'\\n\\'Do be quiet, Matilda; and let me tell my news first.\\'\\n\\'No, no, Rosalie; you\\'ll be such a damned long time over it--she\\nshall hear me first--I\\'ll be hanged if she doesn\\'t!\\'\\n\\'I\\'m sorry to hear, Miss Matilda, that you\\'ve not got rid of that\\nshocking habit yet.\\'\\n\\'Well, I can\\'t help it: but I\\'ll never say a wicked word again, if\\nyou\\'ll only listen to me, and tell Rosalie to hold her confounded\\ntongue.\\'\\nRosalie remonstrated, and I thought I should have been torn in\\npieces between them; but Miss Matilda having the loudest voice, her\\nsister at length gave in, and suffered her to tell her story first:\\nso I was doomed to hear a long account of her splendid mare, its\\nbreeding and pedigree, its paces, its action, its spirit, &c., and\\nof her own amazing skill and courage in riding it; concluding with\\nan assertion that she could clear a five-barred gate \\'like\\nwinking,\\' that papa said she might hunt the next time the hounds\\nmet, and mamma had ordered a bright scarlet hunting-habit for her.\\n\\'Oh, Matilda! what stories you are telling!\\' exclaimed her sister.\\n\\'Well,\\' answered she, no whit abashed, \\'I know I COULD clear a\\nfive-barred gate, if I tried, and papa WILL say I may hunt, and\\nmamma WILL order the habit when I ask it.\\'\\n\\'Well, now get along,\\' replied Miss Murray; \\'and do, dear Matilda,\\ntry to be a little more lady-like. Miss Grey, I wish you would\\ntell her not to use such shocking words; she will call her horse a\\nmare: it is so inconceivably shocking! and then she uses such\\ndreadful expressions in describing it: she must have learned it\\nfrom the grooms. It nearly puts me into fits when she begins.\\'\\n\\'I learned it from papa, you ass! and his jolly friends,\\' said the\\nyoung lady, vigorously cracking a hunting-whip, which she\\nhabitually carried in her hand. \\'I\\'m as good judge of horseflesh\\nas the best of \\'m.\\'\\n\\'Well, now get along, you shocking girl! I really shall take a fit\\nif you go on in such a way. And now, Miss Grey, attend to me; I\\'m\\ngoing to tell you about the ball. You must be dying to hear about\\nit, I know. Oh, SUCH a ball! You never saw or heard, or read, or\\ndreamt of anything like it in all your life. The decorations, the\\nentertainment, the supper, the music were indescribable! and then\\nthe guests! There were two noblemen, three baronets, and five\\ntitled ladies, and other ladies and gentlemen innumerable. The\\nladies, of course, were of no consequence to me, except to put me\\nin a good humour with myself, by showing how ugly and awkward most\\nof them were; and the best, mamma told me,--the most transcendent\\nbeauties among them, were nothing to me. As for me, Miss Grey--I\\'m\\nso SORRY you didn\\'t see me! I was CHARMING--wasn\\'t I, Matilda?\\'\\n\\'Middling.\\'\\n\\'No, but I really was--at least so mamma said--and Brown and\\nWilliamson. Brown said she was sure no gentleman could set eyes on\\nme without falling in love that minute; and so I may be allowed to\\nbe a little vain. I know you think me a shocking, conceited,\\nfrivolous girl; but then, you know, I don\\'t attribute it ALL to my\\npersonal attractions: I give some praise to the hairdresser, and\\nsome to my exquisitely lovely dress--you must see it to-morrow--\\nwhite gauze over pink satin--and so SWEETLY made! and a necklace\\nand bracelet of beautiful, large pearls!\\'\\n\\'I have no doubt you looked very charming: but should that delight\\nyou so very much?\\'\\n\\'Oh, no!--not that alone: but, then, I was so much admired; and I\\nmade so MANY conquests in that one night--you\\'d be astonished to\\nhear--\\'\\n\\'But what good will they do you?\\'\\n\\'What good! Think of any woman asking that!\\'\\n\\'Well, I should think one conquest would be enough; and too much,\\nunless the subjugation were mutual.\\'\\n\\'Oh, but you know I never agree with you on those points. Now,\\nwait a bit, and I\\'ll tell you my principal admirers--those who made\\nthemselves very conspicuous that night and after: for I\\'ve been to\\ntwo parties since. Unfortunately the two noblemen, Lord G--- and\\nLord F---, were married, or I might have condescended to be\\nparticularly gracious to THEM; as it was, I did not: though Lord\\nF---, who hates his wife, was evidently much struck with me. He\\nasked me to dance with him twice--he is a charming dancer, by-the-\\nby, and so am I: you can\\'t think how well I did--I was astonished\\nat myself. My lord was very complimentary too--rather too much so\\nin fact--and I thought proper to be a little haughty and repellent;\\nbut I had the pleasure of seeing his nasty, cross wife ready to\\nperish with spite and vexation--\\'\\n\\'Oh, Miss Murray! you don\\'t mean to say that such a thing could\\nreally give you pleasure? However cross or--\\'\\n\\'Well, I know it\\'s very wrong;--but never mind! I mean to be good\\nsome time--only don\\'t preach now, there\\'s a good creature. I\\nhaven\\'t told you half yet. Let me see. Oh! I was going to tell\\nyou how many unmistakeable admirers I had:- Sir Thomas Ashby was\\none,--Sir Hugh Meltham and Sir Broadley Wilson are old codgers,\\nonly fit companions for papa and mamma. Sir Thomas is young, rich,\\nand gay; but an ugly beast, nevertheless: however, mamma says I\\nshould not mind that after a few months\\' acquaintance. Then, there\\nwas Henry Meltham, Sir Hugh\\'s younger son; rather good-looking, and\\na pleasant fellow to flirt with: but BEING a younger son, that is\\nall he is good for; then there was young Mr. Green, rich enough,\\nbut of no family, and a great stupid fellow, a mere country booby!\\nand then, our good rector, Mr. Hatfield: an HUMBLE admirer he\\nought to consider himself; but I fear he has forgotten to number\\nhumility among his stock of Christian virtues.\\'\\n\\'Was Mr. Hatfield at the ball?\\'\\n\\'Yes, to be sure. Did you think he was too good to go?\\'\\n\\'I thought be might consider it unclerical.\\'\\n\\'By no means. He did not profane his cloth by dancing; but it was\\nwith difficulty he could refrain, poor man: he looked as if he\\nwere dying to ask my hand just for ONE set; and--oh! by-the-by--\\nhe\\'s got a new curate: that seedy old fellow Mr. Bligh has got his\\nlong-wished-for living at last, and is gone.\\'\\n\\'And what is the new one like?\\'\\n\\'Oh, SUCH a beast! Weston his name is. I can give you his\\ndescription in three words--an insensate, ugly, stupid blockhead.\\nThat\\'s four, but no matter--enough of HIM now.\\'\\nThen she returned to the ball, and gave me a further account of her\\ndeportment there, and at the several parties she had since\\nattended; and further particulars respecting Sir Thomas Ashby and\\nMessrs. Meltham, Green, and Hatfield, and the ineffaceable\\nimpression she had wrought upon each of them.\\n\\'Well, which of the four do you like best?\\' said I, suppressing my\\nthird or fourth yawn.\\n\\'I detest them all!\\' replied she, shaking her bright ringlets in\\nvivacious scorn.\\n\\'That means, I suppose, \"I like them all\"--but which most?\\'\\n\\'No, I really detest them all; but Harry Meltham is the handsomest\\nand most amusing, and Mr. Hatfield the cleverest, Sir Thomas the\\nwickedest, and Mr. Green the most stupid. But the one I\\'m to have,\\nI suppose, if I\\'m doomed to have any of them, is Sir Thomas Ashby.\\'\\n\\'Surely not, if he\\'s so wicked, and if you dislike him?\\'\\n\\'Oh, I don\\'t mind his being wicked: he\\'s all the better for that;\\nand as for disliking him--I shouldn\\'t greatly object to being Lady\\nAshby of Ashby Park, if I must marry. But if I could be always\\nyoung, I would be always single. I should like to enjoy myself\\nthoroughly, and coquet with all the world, till I am on the verge\\nof being called an old maid; and then, to escape the infamy of\\nthat, after having made ten thousand conquests, to break all their\\nhearts save one, by marrying some high-born, rich, indulgent\\nhusband, whom, on the other hand, fifty ladies were dying to have.\\'\\n\\'Well, as long as you entertain these views, keep single by all\\nmeans, and never marry at all: not even to escape the infamy of\\nold-maidenhood.\\'\\nCHAPTER X--THE CHURCH\\n\\'Well, Miss Grey, what do you think of the new curate?\\' asked Miss\\nMurray, on our return from church the Sunday after the\\nrecommencement of our duties.\\n\\'I can scarcely tell,\\' was my reply: \\'I have not even heard him\\npreach.\\'\\n\\'Well, but you saw him, didn\\'t you?\\'\\n\\'Yes, but I cannot pretend to judge of a man\\'s character by a\\nsingle cursory glance at his face.\\'\\n\\'But isn\\'t he ugly?\\'\\n\\'He did not strike me as being particularly so; I don\\'t dislike\\nthat cast of countenance: but the only thing I particularly\\nnoticed about him was his style of reading; which appeared to me\\ngood--infinitely better, at least, than Mr. Hatfield\\'s. He read\\nthe Lessons as if he were bent on giving full effect to every\\npassage; it seemed as if the most careless person could not have\\nhelped attending, nor the most ignorant have failed to understand;\\nand the prayers he read as if he were not reading at all, but\\npraying earnestly and sincerely from his own heart.\\'\\n\\'Oh, yes, that\\'s all he is good for: he can plod through the\\nservice well enough; but he has not a single idea beyond it.\\'\\n\\'How do you know?\\'\\n\\'Oh! I know perfectly well; I am an excellent judge in such\\nmatters. Did you see how he went out of church? stumping along--as\\nif there were nobody there but himself--never looking to the right\\nhand or the left, and evidently thinking of nothing but just\\ngetting out of the church, and, perhaps, home to his dinner: his\\ngreat stupid head could contain no other idea.\\'\\n\\'I suppose you would have had him cast a glance into the squire\\'s\\npew,\\' said I, laughing at the vehemence of her hostility.\\n\\'Indeed! I should have been highly indignant if he had dared to do\\nsuch a thing!\\' replied she, haughtily tossing her head; then, after\\na moment\\'s reflection, she added--\\'Well, well! I suppose he\\'s good\\nenough for his place: but I\\'m glad I\\'m not dependent on HIM for\\namusement--that\\'s all. Did you see how Mr. Hatfield hurried out to\\nget a bow from me, and be in time to put us into the carriage?\\'\\n\\'Yes,\\' answered I; internally adding, \\'and I thought it somewhat\\nderogatory to his dignity as a clergyman to come flying from the\\npulpit in such eager haste to shake hands with the squire, and hand\\nhis wife and daughters into their carriage: and, moreover, I owe\\nhim a grudge for nearly shutting me out of it\\'; for, in fact,\\nthough I was standing before his face, close beside the carriage\\nsteps, waiting to get in, he would persist in putting them up and\\nclosing the door, till one of the family stopped him by calling out\\nthat the governess was not in yet; then, without a word of apology,\\nhe departed, wishing them good-morning, and leaving the footman to\\nfinish the business.\\nNota bene.--Mr. Hatfield never spoke to me, neither did Sir Hugh or\\nLady Meltham, nor Mr. Harry or Miss Meltham, nor Mr. Green or his\\nsisters, nor any other lady or gentleman who frequented that\\nchurch: nor, in fact, any one that visited at Horton Lodge.\\nMiss Murray ordered the carriage again, in the afternoon, for\\nherself and her sister: she said it was too cold for them to enjoy\\nthemselves in the garden; and besides, she believed Harry Meltham\\nwould be at church. \\'For,\\' said she, smiling slyly at her own fair\\nimage in the glass, \\'he has been a most exemplary attendant at\\nchurch these last few Sundays: you would think he was quite a good\\nChristian. And you may go with us, Miss Grey: I want you to see\\nhim; he is so greatly improved since he returned from abroad--you\\ncan\\'t think! And besides, then you will have an opportunity of\\nseeing the beautiful Mr. Weston again, and of hearing him preach.\\'\\nI did hear him preach, and was decidedly pleased with the\\nevangelical truth of his doctrine, as well as the earnest\\nsimplicity of his manner, and the clearness and force of his style.\\nIt was truly refreshing to hear such a sermon, after being so long\\naccustomed to the dry, prosy discourses of the former curate, and\\nthe still less edifying harangues of the rector. Mr. Hatfield\\nwould come sailing up the aisle, or rather sweeping along like a\\nwhirlwind, with his rich silk gown flying behind him and rustling\\nagainst the pew doors, mount the pulpit like a conqueror ascending\\nhis triumphal car; then, sinking on the velvet cushion in an\\nattitude of studied grace, remain in silent prostration for a\\ncertain time; then mutter over a Collect, and gabble through the\\nLord\\'s Prayer, rise, draw off one bright lavender glove, to give\\nthe congregation the benefit of his sparkling rings, lightly pass\\nhis fingers through his well-curled hair, flourish a cambric\\nhandkerchief, recite a very short passage, or, perhaps, a mere\\nphrase of Scripture, as a head-piece to his discourse, and,\\nfinally, deliver a composition which, as a composition, might be\\nconsidered good, though far too studied and too artificial to be\\npleasing to me: the propositions were well laid down, the\\narguments logically conducted; and yet, it was sometimes hard to\\nlisten quietly throughout, without some slight demonstrations of\\ndisapproval or impatience.\\nHis favourite subjects were church discipline, rites and\\nceremonies, apostolical succession, the duty of reverence and\\nobedience to the clergy, the atrocious criminality of dissent, the\\nabsolute necessity of observing all the forms of godliness, the\\nreprehensible presumption of individuals who attempted to think for\\nthemselves in matters connected with religion, or to be guided by\\ntheir own interpretations of Scripture, and, occasionally (to\\nplease his wealthy parishioners) the necessity of deferential\\nobedience from the poor to the rich--supporting his maxims and\\nexhortations throughout with quotations from the Fathers: with\\nwhom he appeared to be far better acquainted than with the Apostles\\nand Evangelists, and whose importance he seemed to consider at\\nleast equal to theirs. But now and then he gave us a sermon of a\\ndifferent order--what some would call a very good one; but sunless\\nand severe: representing the Deity as a terrible taskmaster rather\\nthan a benevolent father. Yet, as I listened, I felt inclined to\\nthink the man was sincere in all he said: he must have changed his\\nviews, and become decidedly religious, gloomy and austere, yet\\nstill devout. But such illusions were usually dissipated, on\\ncoming out of church, by hearing his voice in jocund colloquy with\\nsome of the Melthams or Greens, or, perhaps, the Murrays\\nthemselves; probably laughing at his own sermon, and hoping that he\\nhad given the rascally people something to think about; perchance,\\nexulting in the thought that old Betty Holmes would now lay aside\\nthe sinful indulgence of her pipe, which had been her daily solace\\nfor upwards of thirty years: that George Higgins would be\\nfrightened out of his Sabbath evening walks, and Thomas Jackson\\nwould be sorely troubled in his conscience, and shaken in his sure\\nand certain hope of a joyful resurrection at the last day.\\nThus, I could not but conclude that Mr. Hatfield was one of those\\nwho \\'bind heavy burdens, and grievous to be borne, and lay them\\nupon men\\'s shoulders, while they themselves will not move them with\\none of their fingers\\'; and who \\'make the word of God of none effect\\nby their traditions, teaching for doctrines the commandments of\\nmen.\\' I was well pleased to observe that the new curate resembled\\nhim, as far as I could see, in none of these particulars.\\n\\'Well, Miss Grey, what do you think of him now?\\' said Miss Murray,\\nas we took our places in the carriage after service.\\n\\'No harm still,\\' replied I.\\n\\'No harm!\\' repeated she in amazement. \\'What do you mean?\\'\\n\\'I mean, I think no worse of him than I did before.\\'\\n\\'No worse! I should think not indeed--quite the contrary! Is he\\nnot greatly improved?\\'\\n\\'Oh, yes; very much indeed,\\' replied I; for I had now discovered\\nthat it was Harry Meltham she meant, not Mr. Weston. That\\ngentleman had eagerly come forward to speak to the young ladies: a\\nthing he would hardly have ventured to do had their mother been\\npresent; he had likewise politely handed them into the carriage.\\nHe had not attempted to shut me out, like Mr. Hatfield; neither, of\\ncourse, had he offered me his assistance (I should not have\\naccepted it, if he had), but as long as the door remained open he\\nhad stood smirking and chatting with them, and then lifted his hat\\nand departed to his own abode: but I had scarcely noticed him all\\nthe time. My companions, however, had been more observant; and, as\\nwe rolled along, they discussed between them not only his looks,\\nwords, and actions, but every feature of his face, and every\\narticle of his apparel.\\n\\'You shan\\'t have him all to yourself, Rosalie,\\' said Miss Matilda\\nat the close of this discussion; \\'I like him: I know he\\'d make a\\nnice, jolly companion for me.\\'\\n\\'Well, you\\'re quite welcome to him, Matilda,\\' replied her sister,\\nin a tone of affected indifference.\\n\\'And I\\'m sure,\\' continued the other, \\'he admires me quite as much\\nas he does you; doesn\\'t he, Miss Grey?\\'\\n\\'I don\\'t know; I\\'m not acquainted with his sentiments.\\'\\n\\'Well, but he DOES though.\\'\\n\\'My DEAR Matilda! nobody will ever admire you till you get rid of\\nyour rough, awkward manners.\\'\\n\\'Oh, stuff! Harry Meltham likes such manners; and so do papa\\'s\\nfriends.\\'\\n\\'Well, you MAY captivate old men, and younger sons; but nobody\\nelse, I am sure, will ever take a fancy to you.\\'\\n\\'I don\\'t care: I\\'m not always grabbing after money, like you and\\nmamma. If my husband is able to keep a few good horses and dogs, I\\nshall be quite satisfied; and all the rest may go to the devil!\\'\\n\\'Well, if you use such shocking expressions, I\\'m sure no real\\ngentleman will ever venture to come near you. Really, Miss Grey,\\nyou should not let her do so.\\'\\n\\'I can\\'t possibly prevent it, Miss Murray.\\'\\n\\'And you\\'re quite mistaken, Matilda, in supposing that Harry\\nMeltham admires you: I assure you he does nothing of the kind.\\'\\nMatilda was beginning an angry reply; but, happily, our journey was\\nnow at an end; and the contention was cut short by the footman\\nopening the carriage-door, and letting down the steps for our\\ndescent.\\nCHAPTER XI--THE COTTAGERS\\nAs I had now only one regular pupil--though she contrived to give\\nme as much trouble as three or four ordinary ones, and though her\\nsister still took lessons in German and drawing--I had considerably\\nmore time at my own disposal than I had ever been blessed with\\nbefore, since I had taken upon me the governess\\'s yoke; which time\\nI devoted partly to correspondence with my friends, partly to\\nreading, study, and the practice of music, singing, &c., partly to\\nwandering in the grounds or adjacent fields, with my pupils if they\\nwanted me, alone if they did not.\\nOften, when they had no more agreeable occupation at hand, the\\nMisses Murray would amuse themselves with visiting the poor\\ncottagers on their father\\'s estate, to receive their flattering\\nhomage, or to hear the old stories or gossiping news of the\\ngarrulous old women; or, perhaps, to enjoy the purer pleasure of\\nmaking the poor people happy with their cheering presence and their\\noccasional gifts, so easily bestowed, so thankfully received.\\nSometimes, I was called upon to accompany one or both of the\\nsisters in these visits; and sometimes I was desired to go alone,\\nto fulfil some promise which they had been more ready to make than\\nto perform; to carry some small donation, or read to one who was\\nsick or seriously disposed: and thus I made a few acquaintances\\namong the cottagers; and, occasionally, I went to see them on my\\nown account.\\nI generally had more satisfaction in going alone than with either\\nof the young ladies; for they, chiefly owing to their defective\\neducation, comported themselves towards their inferiors in a manner\\nthat was highly disagreeable for me to witness. They never, in\\nthought, exchanged places with them; and, consequently, had no\\nconsideration for their feelings, regarding them as an order of\\nbeings entirely different from themselves. They would watch the\\npoor creatures at their meals, making uncivil remarks about their\\nfood, and their manner of eating; they would laugh at their simple\\nnotions and provincial expressions, till some of them scarcely\\ndurst venture to speak; they would call the grave elderly men and\\nwomen old fools and silly old blockheads to their faces: and all\\nthis without meaning to offend. I could see that the people were\\noften hurt and annoyed by such conduct, though their fear of the\\n\\'grand ladies\\' prevented them from testifying any resentment; but\\nTHEY never perceived it. They thought that, as these cottagers\\nwere poor and untaught, they must be stupid and brutish; and as\\nlong as they, their superiors, condescended to talk to them, and to\\ngive them shillings and half-crowns, or articles of clothing, they\\nhad a right to amuse themselves, even at their expense; and the\\npeople must adore them as angels of light, condescending to\\nminister to their necessities, and enlighten their humble\\ndwellings.\\nI made many and various attempts to deliver my pupils from these\\ndelusive notions without alarming their pride--which was easily\\noffended, and not soon appeased--but with little apparent result;\\nand I know not which was the more reprehensible of the two:\\nMatilda was more rude and boisterous; but from Rosalie\\'s womanly\\nage and lady-like exterior better things were expected: yet she\\nwas as provokingly careless and inconsiderate as a giddy child of\\ntwelve.\\nOne bright day in the last week of February, I was walking in the\\npark, enjoying the threefold luxury of solitude, a book, and\\npleasant weather; for Miss Matilda had set out on her daily ride,\\nand Miss Murray was gone in the carriage with her mamma to pay some\\nmorning calls. But it struck me that I ought to leave these\\nselfish pleasures, and the park with its glorious canopy of bright\\nblue sky, the west wind sounding through its yet leafless branches,\\nthe snow-wreaths still lingering in its hollows, but melting fast\\nbeneath the sun, and the graceful deer browsing on its moist\\nherbage already assuming the freshness and verdure of spring--and\\ngo to the cottage of one Nancy Brown, a widow, whose son was at\\nwork all day in the fields, and who was afflicted with an\\ninflammation in the eyes; which had for some time incapacitated her\\nfrom reading: to her own great grief, for she was a woman of a\\nserious, thoughtful turn of mind. I accordingly went, and found\\nher alone, as usual, in her little, close, dark cottage, redolent\\nof smoke and confined air, but as tidy and clean as she could make\\nit. She was seated beside her little fire (consisting of a few red\\ncinders and a bit of stick), busily knitting, with a small\\nsackcloth cushion at her feet, placed for the accommodation of her\\ngentle friend the cat, who was seated thereon, with her long tail\\nhalf encircling her velvet paws, and her half-closed eyes dreamily\\ngazing on the low, crooked fender.\\n\\'Well, Nancy, how are you to-day?\\'\\n\\'Why, middling, Miss, i\\' myseln--my eyes is no better, but I\\'m a\\ndeal easier i\\' my mind nor I have been,\\' replied she, rising to\\nwelcome me with a contented smile; which I was glad to see, for\\nNancy had been somewhat afflicted with religious melancholy. I\\ncongratulated her upon the change. She agreed that it was a great\\nblessing, and expressed herself \\'right down thankful for it\\';\\nadding, \\'If it please God to spare my sight, and make me so as I\\ncan read my Bible again, I think I shall be as happy as a queen.\\'\\n\\'I hope He will, Nancy,\\' replied I; \\'and, meantime, I\\'ll come and\\nread to you now and then, when I have a little time to spare.\\'\\nWith expressions of grateful pleasure, the poor woman moved to get\\nme a chair; but, as I saved her the trouble, she busied herself\\nwith stirring the fire, and adding a few more sticks to the\\ndecaying embers; and then, taking her well-used Bible from the\\nshelf, dusted it carefully, and gave it me. On my asking if there\\nwas any particular part she should like me to read, she answered -\\n\\'Well, Miss Grey, if it\\'s all the same to you, I should like to\\nhear that chapter in the First Epistle of St. John, that says, \"God\\nis love, and he that dwelleth in love dwelleth in God, and God in\\nhim.\"\\'\\nWith a little searching, I found these words in the fourth chapter.\\nWhen I came to the seventh verse she interrupted me, and, with\\nneedless apologies for such a liberty, desired me to read it very\\nslowly, that she might take it all in, and dwell on every word;\\nhoping I would excuse her, as she was but a \\'simple body.\\'\\n\\'The wisest person,\\' I replied, \\'might think over each of these\\nverses for an hour, and be all the better for it; and I would\\nrather read them slowly than not.\\'\\nAccordingly, I finished the chapter as slowly as need be, and at\\nthe same time as impressively as I could; my auditor listened most\\nattentively all the while, and sincerely thanked me when I had\\ndone. I sat still about half a minute to give her time to reflect\\nupon it; when, somewhat to my surprise, she broke the pause by\\nasking me how I liked Mr. Weston?\\n\\'I don\\'t know,\\' I replied, a little startled by the suddenness of\\nthe question; \\'I think he preaches very well.\\'\\n\\'Ay, he does so; and talks well too.\\'\\n\\'Does he?\\'\\n\\'He does. Maybe, you haven\\'t seen him--not to talk to him much,\\nyet?\\'\\n\\'No, I never see any one to talk to--except the young ladies of the\\nHall.\\'\\n\\'Ah; they\\'re nice, kind young ladies; but they can\\'t talk as he\\ndoes.\\'\\n\\'Then he comes to see you, Nancy?\\'\\n\\'He does, Miss; and I\\'se thankful for it. He comes to see all us\\npoor bodies a deal ofter nor Maister Bligh, or th\\' Rector ever did;\\nan\\' it\\'s well he does, for he\\'s always welcome: we can\\'t say as\\nmuch for th\\' Rector--there is \\'at says they\\'re fair feared on him.\\nWhen he comes into a house, they say he\\'s sure to find summut\\nwrong, and begin a-calling \\'em as soon as he crosses th\\' doorstuns:\\nbut maybe he thinks it his duty like to tell \\'em what\\'s wrong. And\\nvery oft he comes o\\' purpose to reprove folk for not coming to\\nchurch, or not kneeling an\\' standing when other folk does, or going\\nto the Methody chapel, or summut o\\' that sort: but I can\\'t say \\'at\\nhe ever fund much fault wi\\' me. He came to see me once or twice,\\nafore Maister Weston come, when I was so ill troubled in my mind;\\nand as I had only very poor health besides, I made bold to send for\\nhim--and he came right enough. I was sore distressed, Miss Grey--\\nthank God, it\\'s owered now--but when I took my Bible, I could get\\nno comfort of it at all. That very chapter \\'at you\\'ve just been\\nreading troubled me as much as aught--\"He that loveth not, knoweth\\nnot God.\" It seemed fearsome to me; for I felt that I loved\\nneither God nor man as I should do, and could not, if I tried ever\\nso. And th\\' chapter afore, where it says,--\"He that is born of God\\ncannot commit sin.\" And another place where it says,--\"Love is the\\nfulfilling of the Law.\" And many, many others, Miss: I should\\nfair weary you out, if I was to tell them all. But all seemed to\\ncondemn me, and to show me \\'at I was not in the right way; and as I\\nknew not how to get into it, I sent our Bill to beg Maister\\nHatfield to be as kind as look in on me some day and when he came,\\nI telled him all my troubles.\\'\\n\\'And what did he say, Nancy?\\'\\n\\'Why, Miss, he seemed to scorn me. I might be mista\\'en--but he\\nlike gave a sort of a whistle, and I saw a bit of a smile on his\\nface; and he said, \"Oh, it\\'s all stuff! You\\'ve been among the\\nMethodists, my good woman.\" But I telled him I\\'d never been near\\nthe Methodies. And then he said,--\"Well,\" says he, \"you must come\\nto church, where you\\'ll hear the Scriptures properly explained,\\ninstead of sitting poring over your Bible at home.\"\\n\\'But I telled him I always used coming to church when I had my\\nhealth; but this very cold winter weather I hardly durst venture so\\nfar--and me so bad wi\\' th\\' rheumatic and all.\\n\\'But he says, \"It\\'ll do your rheumatiz good to hobble to church:\\nthere\\'s nothing like exercise for the rheumatiz. You can walk\\nabout the house well enough; why can\\'t you walk to church? The\\nfact is,\" says he, \"you\\'re getting too fond of your ease. It\\'s\\nalways easy to find excuses for shirking one\\'s duty.\"\\n\\'But then, you know, Miss Grey, it wasn\\'t so. However, I telled\\nhim I\\'d try. \"But please, sir,\" says I, \"if I do go to church,\\nwhat the better shall I be? I want to have my sins blotted out,\\nand to feel that they are remembered no more against me, and that\\nthe love of God is shed abroad in my heart; and if I can get no\\ngood by reading my Bible an\\' saying my prayers at home, what good\\nshall I get by going to church?\"\\'\\n\\'\"The church,\" says he, \"is the place appointed by God for His\\nworship. It\\'s your duty to go there as often as you can. If you\\nwant comfort, you must seek it in the path of duty,\"--an\\' a deal\\nmore he said, but I cannot remember all his fine words. However,\\nit all came to this, that I was to come to church as oft as ever I\\ncould, and bring my prayer-book with me, an\\' read up all the\\nsponsers after the clerk, an\\' stand, an\\' kneel, an\\' sit, an\\' do all\\nas I should, and take the Lord\\'s Supper at every opportunity, an\\'\\nhearken his sermons, and Maister Bligh\\'s, an\\' it \\'ud be all right:\\nif I went on doing my duty, I should get a blessing at last.\\n\\'\"But if you get no comfort that way,\" says he, \"it\\'s all up.\"\\n\\'\"Then, sir,\" says I, \"should you think I\\'m a reprobate?\"\\n\\'\"Why,\" says he--he says, \"if you do your best to get to heaven and\\ncan\\'t manage it, you must be one of those that seek to enter in at\\nthe strait gate and shall not be able.\"\\n\\'An\\' then he asked me if I\\'d seen any of the ladies o\\' th\\' Hall\\nabout that mornin\\'; so I telled him where I had seen the young\\nmisses go on th\\' Moss Lane;--an\\' he kicked my poor cat right across\\nth\\' floor, an\\' went after \\'em as gay as a lark: but I was very\\nsad. That last word o\\' his fair sunk into my heart, an\\' lay there\\nlike a lump o\\' lead, till I was weary to bear it.\\n\\'Howsever, I follered his advice: I thought he meant it all for\\nth\\' best, though he HAD a queer way with him. But you know, Miss,\\nhe\\'s rich an\\' young, and such like cannot right understand the\\nthoughts of a poor old woman such as me. But, howsever, I did my\\nbest to do all as he bade me--but maybe I\\'m plaguing you, Miss, wi\\'\\nmy chatter.\\'\\n\\'Oh, no, Nancy! Go on, and tell me all.\\'\\n\\'Well, my rheumatiz got better--I know not whether wi\\' going to\\nchurch or not, but one frosty Sunday I got this cold i\\' my eyes.\\nTh\\' inflammation didn\\'t come on all at once like, but bit by bit--\\nbut I wasn\\'t going to tell you about my eyes, I was talking about\\nmy trouble o\\' mind;--and to tell the truth, Miss Grey, I don\\'t\\nthink it was anyways eased by coming to church--nought to speak on,\\nat least: I like got my health better; but that didn\\'t mend my\\nsoul. I hearkened and hearkened the ministers, and read an\\' read\\nat my prayer-book; but it was all like sounding brass and a\\ntinkling cymbal: the sermons I couldn\\'t understand, an\\' th\\'\\nprayer-book only served to show me how wicked I was, that I could\\nread such good words an\\' never be no better for it, and oftens feel\\nit a sore labour an\\' a heavy task beside, instead of a blessing and\\na privilege as all good Christians does. It seemed like as all\\nwere barren an\\' dark to me. And then, them dreadful words, \"Many\\nshall seek to enter in, and shall not be able.\" They like as they\\nfair dried up my sperrit.\\n\\'But one Sunday, when Maister Hatfield gave out about the\\nsacrament, I noticed where he said, \"If there be any of you that\\ncannot quiet his own conscience, but requireth further comfort or\\ncounsel, let him come to me, or some other discreet and learned\\nminister of God\\'s word, and open his grief!\" So next Sunday\\nmorning, afore service, I just looked into the vestry, an\\' began a-\\ntalking to th\\' Rector again. I hardly could fashion to take such a\\nliberty, but I thought when my soul was at stake I shouldn\\'t stick\\nat a trifle. But he said he hadn\\'t time to attend to me then.\\n\\'\"And, indeed,\" says he, \"I\\'ve nothing to say to you but what I\\'ve\\nsaid before. Take the sacrament, of course, and go on doing your\\nduty; and if that won\\'t serve you, nothing will. So don\\'t bother\\nme any more.\"\\n\\'So then, I went away. But I heard Maister Weston--Maister Weston\\nwas there, Miss--this was his first Sunday at Horton, you know, an\\'\\nhe was i\\' th\\' vestry in his surplice, helping th\\' Rector on with\\nhis gown--\\'\\n\\'Yes, Nancy.\\'\\n\\'And I heard him ask Maister Hatfield who I was, an\\' he says, \"Oh,\\nshe\\'s a canting old fool.\"\\n\\'And I was very ill grieved, Miss Grey; but I went to my seat, and\\nI tried to do my duty as aforetime: but I like got no peace. An\\'\\nI even took the sacrament; but I felt as though I were eating and\\ndrinking to my own damnation all th\\' time. So I went home, sorely\\ntroubled.\\n\\'But next day, afore I\\'d gotten fettled up--for indeed, Miss, I\\'d\\nno heart to sweeping an\\' fettling, an\\' washing pots; so I sat me\\ndown i\\' th\\' muck--who should come in but Maister Weston! I started\\nsiding stuff then, an\\' sweeping an\\' doing; and I expected he\\'d\\nbegin a-calling me for my idle ways, as Maister Hatfield would a\\'\\ndone; but I was mista\\'en: he only bid me good-mornin\\' like, in a\\nquiet dacent way. So I dusted him a chair, an\\' fettled up th\\'\\nfireplace a bit; but I hadn\\'t forgotten th\\' Rector\\'s words, so says\\nI, \"I wonder, sir, you should give yourself that trouble, to come\\nso far to see a \\'canting old fool,\\' such as me.\"\\n\\'He seemed taken aback at that; but he would fain persuade me \\'at\\nthe Rector was only in jest; and when that wouldn\\'t do, he says,\\n\"Well, Nancy, you shouldn\\'t think so much about it: Mr. Hatfield\\nwas a little out of humour just then: you know we\\'re none of us\\nperfect--even Moses spoke unadvisedly with his lips. But now sit\\ndown a minute, if you can spare the time, and tell me all your\\ndoubts and fears; and I\\'ll try to remove them.\"\\n\\'So I sat me down anent him. He was quite a stranger, you know,\\nMiss Grey, and even YOUNGER nor Maister Hatfield, I believe; and I\\nhad thought him not so pleasant-looking as him, and rather a bit\\ncrossish, at first, to look at; but he spake so civil like--and\\nwhen th\\' cat, poor thing, jumped on to his knee, he only stroked\\nher, and gave a bit of a smile: so I thought that was a good sign;\\nfor once, when she did so to th\\' Rector, he knocked her off, like\\nas it might be in scorn and anger, poor thing. But you can\\'t\\nexpect a cat to know manners like a Christian, you know, Miss\\nGrey.\\'\\n\\'No; of course not, Nancy. But what did Mr. Weston say then?\\'\\n\\'He said nought; but he listened to me as steady an\\' patient as\\ncould be, an\\' never a bit o\\' scorn about him; so I went on, an\\'\\ntelled him all, just as I\\'ve telled you--an\\' more too.\\n\\'\"Well,\" says he, \"Mr. Hatfield was quite right in telling you to\\npersevere in doing your duty; but in advising you to go to church\\nand attend to the service, and so on, he didn\\'t mean that was the\\nwhole of a Christian\\'s duty: he only thought you might there learn\\nwhat more was to be done, and be led to take delight in those\\nexercises, instead of finding them a task and a burden. And if you\\nhad asked him to explain those words that trouble you so much, I\\nthink he would have told you, that if many shall seek to enter in\\nat the strait gate and shall not be able, it is their own sins that\\nhinder them; just as a man with a large sack on his back might wish\\nto pass through a narrow doorway, and find it impossible to do so\\nunless he would leave his sack behind him. But you, Nancy, I dare\\nsay, have no sins that you would not gladly throw aside, if you\\nknew how?\"\\n\\'\"Indeed, sir, you speak truth,\" said I.\\n\\'\"Well,\" says he, \"you know the first and great commandment--and\\nthe second, which is like unto it--on which two commandments hang\\nall the law and the prophets? You say you cannot love God; but it\\nstrikes me that if you rightly consider who and what He is, you\\ncannot help it. He is your father, your best friend: every\\nblessing, everything good, pleasant, or useful, comes from Him; and\\neverything evil, everything you have reason to hate, to shun, or to\\nfear, comes from Satan--HIS enemy as well as ours. And for THIS\\ncause was God manifest in the flesh, that He might destroy the\\nworks of the Devil: in one word, God is LOVE; and the more of love\\nwe have within us, the nearer we are to Him and the more of His\\nspirit we possess.\"\\n\\'\"Well, sir,\" I said, \"if I can always think on these things, I\\nthink I might well love God: but how can I love my neighbours,\\nwhen they vex me, and be so contrary and sinful as some on \\'em is?\"\\n\\'\"It may seem a hard matter,\" says he, \"to love our neighbours, who\\nhave so much of what is evil about them, and whose faults so often\\nawaken the evil that lingers within ourselves; but remember that HE\\nmade them, and HE loves them; and whosoever loveth him that begat,\\nloveth him that is begotten also. And if God so loveth us, that He\\ngave His only begotten Son to die for us, we ought also to love one\\nanother. But if you cannot feel positive affection for those who\\ndo not care for you, you can at least try to do to them as you\\nwould they should do unto you: you can endeavour to pity their\\nfailings and excuse their offences, and to do all the good you can\\nto those about you. And if you accustom yourself to this, Nancy,\\nthe very effort itself will make you love them in some degree--to\\nsay nothing of the goodwill your kindness would beget in them,\\nthough they might have little else that is good about them. If we\\nlove God and wish to serve Him, let us try to be like Him, to do\\nHis work, to labour for His glory--which is the good of man--to\\nhasten the coming of His kingdom, which is the peace and happiness\\nof all the world: however powerless we may seem to be, in doing\\nall the good we can through life, the humblest of us may do much\\ntowards it: and let us dwell in love, that He may dwell in us and\\nwe in Him. The more happiness we bestow, the more we shall\\nreceive, even here; and the greater will be our reward in heaven\\nwhen we rest from our labours.\" I believe, Miss, them is his very\\nwords, for I\\'ve thought \\'em ower many a time. An\\' then he took\\nthat Bible, an\\' read bits here and there, an\\' explained \\'em as\\nclear as the day: and it seemed like as a new light broke in on my\\nsoul; an\\' I felt fair aglow about my heart, an\\' only wished poor\\nBill an\\' all the world could ha\\' been there, an\\' heard it all, and\\nrejoiced wi\\' me.\\n\\'After he was gone, Hannah Rogers, one o\\' th\\' neighbours, came in\\nand wanted me to help her to wash. I telled her I couldn\\'t just\\nthen, for I hadn\\'t set on th\\' potaties for th\\' dinner, nor washed\\nup th\\' breakfast stuff yet. So then she began a-calling me for my\\nnasty idle ways. I was a little bit vexed at first, but I never\\nsaid nothing wrong to her: I only telled her like all in a quiet\\nway, \\'at I\\'d had th\\' new parson to see me; but I\\'d get done as\\nquick as ever I could, an\\' then come an\\' help her. So then she\\nsoftened down; and my heart like as it warmed towards her, an\\' in a\\nbit we was very good friends. An\\' so it is, Miss Grey, \"a soft\\nanswer turneth away wrath; but grievous words stir up anger.\" It\\nisn\\'t only in them you speak to, but in yourself.\\'\\n\\'Very true, Nancy, if we could always remember it.\\'\\n\\'Ay, if we could!\\'\\n\\'And did Mr. Weston ever come to see you again?\\'\\n\\'Yes, many a time; and since my eyes has been so bad, he\\'s sat an\\'\\nread to me by the half-hour together: but you know, Miss, he has\\nother folks to see, and other things to do--God bless him! An\\'\\nthat next Sunday he preached SUCH a sermon! His text was, \"Come\\nunto me all ye that labour and are heavy laden, and I will give you\\nrest,\" and them two blessed verses that follows. You wasn\\'t there,\\nMiss, you was with your friends then--but it made me SO happy! And\\nI AM happy now, thank God! an\\' I take a pleasure, now, in doing\\nlittle bits o\\' jobs for my neighbours--such as a poor old body\\n\\'at\\'s half blind can do; and they take it kindly of me, just as he\\nsaid. You see, Miss, I\\'m knitting a pair o\\' stockings now;--\\nthey\\'re for Thomas Jackson: he\\'s a queerish old body, an\\' we\\'ve\\nhad many a bout at threaping, one anent t\\'other; an\\' at times we\\'ve\\ndiffered sorely. So I thought I couldn\\'t do better nor knit him a\\npair o\\' warm stockings; an\\' I\\'ve felt to like him a deal better,\\npoor old man, sin\\' I began. It\\'s turned out just as Maister Weston\\nsaid.\\'\\n\\'Well, I\\'m very glad to see you so happy, Nancy, and so wise: but\\nI must go now; I shall be wanted at the Hall,\\' said I; and bidding\\nher good-bye, I departed, promising to come again when I had time,\\nand feeling nearly as happy as herself.\\nAt another time I went to read to a poor labourer who was in the\\nlast stage of consumption. The young ladies had been to see him,\\nand somehow a promise of reading had been extracted from them; but\\nit was too much trouble, so they begged me to do it instead. I\\nwent, willingly enough; and there too I was gratified with the\\npraises of Mr. Weston, both from the sick man and his wife. The\\nformer told me that he derived great comfort and benefit from the\\nvisits of the new parson, who frequently came to see him, and was\\n\\'another guess sort of man\\' to Mr. Hatfield; who, before the\\nother\\'s arrival at Horton, had now and then paid him a visit; on\\nwhich occasions he would always insist upon having the cottage-door\\nkept open, to admit the fresh air for his own convenience, without\\nconsidering how it might injure the sufferer; and having opened his\\nprayer-book and hastily read over a part of the Service for the\\nSick, would hurry away again: if he did not stay to administer\\nsome harsh rebuke to the afflicted wife, or to make some\\nthoughtless, not to say heartless, observation, rather calculated\\nto increase than diminish the troubles of the suffering pair.\\n\\'Whereas,\\' said the man, \\'Maister Weston \\'ull pray with me quite in\\na different fashion, an\\' talk to me as kind as owt; an\\' oft read to\\nme too, an\\' sit beside me just like a brother.\\'\\n\\'Just for all the world!\\' exclaimed his wife; \\'an\\' about a three\\nwik sin\\', when he seed how poor Jem shivered wi\\' cold, an\\' what\\npitiful fires we kept, he axed if wer stock of coals was nearly\\ndone. I telled him it was, an\\' we was ill set to get more: but\\nyou know, mum, I didn\\'t think o\\' him helping us; but, howsever, he\\nsent us a sack o\\' coals next day; an\\' we\\'ve had good fires ever\\nsin\\': and a great blessing it is, this winter time. But that\\'s\\nhis way, Miss Grey: when he comes into a poor body\\'s house a-\\nseein\\' sick folk, he like notices what they most stand i\\' need on;\\nan\\' if he thinks they can\\'t readily get it therseln, he never says\\nnowt about it, but just gets it for \\'em. An\\' it isn\\'t everybody\\n\\'at \\'ud do that, \\'at has as little as he has: for you know, mum,\\nhe\\'s nowt at all to live on but what he gets fra\\' th\\' Rector, an\\'\\nthat\\'s little enough they say.\\'\\nI remembered then, with a species of exultation, that he had\\nfrequently been styled a vulgar brute by the amiable Miss Murray,\\nbecause he wore a silver watch, and clothes not quite so bright and\\nfresh as Mr. Hatfield\\'s.\\nIn returning to the Lodge I felt very happy, and thanked God that I\\nhad now something to think about; something to dwell on as a relief\\nfrom the weary monotony, the lonely drudgery, of my present life:\\nfor I WAS lonely. Never, from month to month, from year to year,\\nexcept during my brief intervals of rest at home, did I see one\\ncreature to whom I could open my heart, or freely speak my thoughts\\nwith any hope of sympathy, or even comprehension: never one,\\nunless it were poor Nancy Brown, with whom I could enjoy a single\\nmoment of real social intercourse, or whose conversation was\\ncalculated to render me better, wiser, or happier than before; or\\nwho, as far as I could see, could be greatly benefited by mine. My\\nonly companions had been unamiable children, and ignorant, wrong-\\nheaded girls; from whose fatiguing folly, unbroken solitude was\\noften a relief most earnestly desired and dearly prized. But to be\\nrestricted to such associates was a serious evil, both in its\\nimmediate effects and the consequences that were likely to ensue.\\nNever a new idea or stirring thought came to me from without; and\\nsuch as rose within me were, for the most part, miserably crushed\\nat once, or doomed to sicken or fade away, because they could not\\nsee the light.\\nHabitual associates are known to exercise a great influence over\\neach other\\'s minds and manners. Those whose actions are for ever\\nbefore our eyes, whose words are ever in our ears, will naturally\\nlead us, albeit against our will, slowly, gradually, imperceptibly,\\nperhaps, to act and speak as they do. I will not presume to say\\nhow far this irresistible power of assimilation extends; but if one\\ncivilised man were doomed to pass a dozen years amid a race of\\nintractable savages, unless he had power to improve them, I greatly\\nquestion whether, at the close of that period, he would not have\\nbecome, at least, a barbarian himself. And I, as I could not make\\nmy young companions better, feared exceedingly that they would make\\nme worse--would gradually bring my feelings, habits, capacities, to\\nthe level of their own; without, however, imparting to me their\\nlightheartedness and cheerful vivacity.\\nAlready, I seemed to feel my intellect deteriorating, my heart\\npetrifying, my soul contracting; and I trembled lest my very moral\\nperceptions should become deadened, my distinctions of right and\\nwrong confounded, and all my better faculties be sunk, at last,\\nbeneath the baneful influence of such a mode of life. The gross\\nvapours of earth were gathering around me, and closing in upon my\\ninward heaven; and thus it was that Mr. Weston rose at length upon\\nme, appearing like the morning star in my horizon, to save me from\\nthe fear of utter darkness; and I rejoiced that I had now a subject\\nfor contemplation that was above me, not beneath. I was glad to\\nsee that all the world was not made up of Bloomfields, Murrays,\\nHatfields, Ashbys, &c.; and that human excellence was not a mere\\ndream of the imagination. When we hear a little good and no harm\\nof a person, it is easy and pleasant to imagine more: in short, it\\nis needless to analyse all my thoughts; but Sunday was now become a\\nday of peculiar delight to me (I was now almost broken-in to the\\nback corner in the carriage), for I liked to hear him--and I liked\\nto see him, too; though I knew he was not handsome, or even what is\\ncalled agreeable, in outward aspect; but, certainly, he was not\\nugly.\\nIn stature he was a little, a very little, above the middle size;\\nthe outline of his face would be pronounced too square for beauty,\\nbut to me it announced decision of character; his dark brown hair\\nwas not carefully curled, like Mr. Hatfield\\'s, but simply brushed\\naside over a broad white forehead; the eyebrows, I suppose, were\\ntoo projecting, but from under those dark brows there gleamed an\\neye of singular power, brown in colour, not large, and somewhat\\ndeep-set, but strikingly brilliant, and full of expression; there\\nwas character, too, in the mouth, something that bespoke a man of\\nfirm purpose and an habitual thinker; and when he smiled--but I\\nwill not speak of that yet, for, at the time I mention, I had never\\nseen him smile: and, indeed, his general appearance did not\\nimpress me with the idea of a man given to such a relaxation, nor\\nof such an individual as the cottagers described him. I had early\\nformed my opinion of him; and, in spite of Miss Murray\\'s\\nobjurgations: was fully convinced that he was a man of strong\\nsense, firm faith, and ardent piety, but thoughtful and stern: and\\nwhen I found that, to his other good qualities, was added that of\\ntrue benevolence and gentle, considerate kindness, the discovery,\\nperhaps, delighted me the more, as I had not been prepared to\\nexpect it.\\nCHAPTER XII--THE SHOWER\\nThe next visit I paid to Nancy Brown was in the second week in\\nMarch: for, though I had many spare minutes during the day, I\\nseldom could look upon an hour as entirely my own; since, where\\neverything was left to the caprices of Miss Matilda and her sister,\\nthere could be no order or regularity. Whatever occupation I\\nchose, when not actually busied about them or their concerns, I\\nhad, as it were, to keep my loins girded, my shoes on my feet, and\\nmy staff in my hand; for not to be immediately forthcoming when\\ncalled for, was regarded as a grave and inexcusable offence: not\\nonly by my pupils and their mother, but by the very servant, who\\ncame in breathless haste to call me, exclaiming, \\'You\\'re to go to\\nthe schoolroom DIRECTLY, mum, the young ladies is WAITING!!\\'\\nClimax of horror! actually waiting for their governess!!!\\nBut this time I was pretty sure of an hour or two to myself; for\\nMatilda was preparing for a long ride, and Rosalie was dressing for\\na dinner-party at Lady Ashby\\'s: so I took the opportunity of\\nrepairing to the widow\\'s cottage, where I found her in some anxiety\\nabout her cat, which had been absent all day. I comforted her with\\nas many anecdotes of that animal\\'s roving propensities as I could\\nrecollect. \\'I\\'m feared o\\' th\\' gamekeepers,\\' said she: \\'that\\'s all\\n\\'at I think on. If th\\' young gentlemen had been at home, I should\\na\\' thought they\\'d been setting their dogs at her, an\\' worried her,\\npoor thing, as they did MANY a poor thing\\'s cat; but I haven\\'t that\\nto be feared on now.\\' Nancy\\'s eyes were better, but still far from\\nwell: she had been trying to make a Sunday shirt for her son, but\\ntold me she could only bear to do a little bit at it now and then,\\nso that it progressed but slowly, though the poor lad wanted it\\nsadly. So I proposed to help her a little, after I had read to\\nher, for I had plenty of time that evening, and need not return\\ntill dusk. She thankfully accepted the offer. \\'An\\' you\\'ll be a\\nbit o\\' company for me too, Miss,\\' said she; \\'I like as I feel\\nlonesome without my cat.\\' But when I had finished reading, and\\ndone the half of a seam, with Nancy\\'s capacious brass thimble\\nfitted on to my finger by means of a roll of paper, I was disturbed\\nby the entrance of Mr. Weston, with the identical cat in his arms.\\nI now saw that he could smile, and very pleasantly too.\\n\\'I\\'ve done you a piece of good service, Nancy,\\' he began: then\\nseeing me, he acknowledged my presence by a slight bow. I should\\nhave been invisible to Hatfield, or any other gentleman of those\\nparts. \\'I\\'ve delivered your cat,\\' he continued, \\'from the hands,\\nor rather the gun, of Mr. Murray\\'s gamekeeper.\\'\\n\\'God bless you, sir!\\' cried the grateful old woman, ready to weep\\nfor joy as she received her favourite from his arms.\\n\\'Take care of it,\\' said he, \\'and don\\'t let it go near the rabbit-\\nwarren, for the gamekeeper swears he\\'ll shoot it if he sees it\\nthere again: he would have done so to-day, if I had not been in\\ntime to stop him. I believe it is raining, Miss Grey,\\' added he,\\nmore quietly, observing that I had put aside my work, and was\\npreparing to depart. \\'Don\\'t let me disturb you--I shan\\'t stay two\\nminutes.\\'\\n\\'You\\'ll BOTH stay while this shower gets owered,\\' said Nancy, as\\nshe stirred the fire, and placed another chair beside it; \\'what!\\nthere\\'s room for all.\\'\\n\\'I can see better here, thank you, Nancy,\\' replied I, taking my\\nwork to the window, where she had the goodness to suffer me to\\nremain unmolested, while she got a brush to remove the cat\\'s hairs\\nfrom Mr. Weston\\'s coat, carefully wiped the rain from his hat, and\\ngave the cat its supper, busily talking all the time: now thanking\\nher clerical friend for what he had done; now wondering how the cat\\nhad found out the warren; and now lamenting the probable\\nconsequences of such a discovery. He listened with a quiet, good-\\nnatured smile, and at length took a seat in compliance with her\\npressing invitations, but repeated that he did not mean to stay.\\n\\'I have another place to go to,\\' said he, \\'and I see\\' (glancing at\\nthe book on the table) \\'someone else has been reading to you.\\'\\n\\'Yes, sir; Miss Grey has been as kind as read me a chapter; an\\' now\\nshe\\'s helping me with a shirt for our Bill--but I\\'m feared she\\'ll\\nbe cold there. Won\\'t you come to th\\' fire, Miss?\\'\\n\\'No, thank you, Nancy, I\\'m quite warm. I must go as soon as this\\nshower is over.\\'\\n\\'Oh, Miss! You said you could stop while dusk!\\' cried the\\nprovoking old woman, and Mr. Weston seized his hat.\\n\\'Nay, sir,\\' exclaimed she, \\'pray don\\'t go now, while it rains so\\nfast.\\'\\n\\'But it strikes me I\\'m keeping your visitor away from the fire.\\'\\n\\'No, you\\'re not, Mr. Weston,\\' replied I, hoping there was no harm\\nin a falsehood of that description.\\n\\'No, sure!\\' cried Nancy. \\'What, there\\'s lots o\\' room!\\'\\n\\'Miss Grey,\\' said he, half-jestingly, as if he felt it necessary to\\nchange the present subject, whether he had anything particular to\\nsay or not, \\'I wish you would make my peace with the squire, when\\nyou see him. He was by when I rescued Nancy\\'s cat, and did not\\nquite approve of the deed. I told him I thought he might better\\nspare all his rabbits than she her cat, for which audacious\\nassertion he treated me to some rather ungentlemanly language; and\\nI fear I retorted a trifle too warmly.\\'\\n\\'Oh, lawful sir! I hope you didn\\'t fall out wi\\' th\\' maister for\\nsake o\\' my cat! he cannot bide answering again--can th\\' maister.\\'\\n\\'Oh! it\\'s no matter, Nancy: I don\\'t care about it, really; I said\\nnothing VERY uncivil; and I suppose Mr. Murray is accustomed to use\\nrather strong language when he\\'s heated.\\'\\n\\'Ay, sir: it\\'s a pity.\\'\\n\\'And now, I really must go. I have to visit a place a mile beyond\\nthis; and you would not have me to return in the dark: besides, it\\nhas nearly done raining now--so good-evening, Nancy. Good-evening,\\nMiss Grey.\\'\\n\\'Good-evening, Mr. Weston; but don\\'t depend upon me for making your\\npeace with Mr. Murray, for I never see him--to speak to.\\'\\n\\'Don\\'t you; it can\\'t be helped then,\\' replied he, in dolorous\\nresignation: then, with a peculiar half-smile, he added, \\'But\\nnever mind; I imagine the squire has more to apologise for than I;\\'\\nand left the cottage.\\nI went on with my sewing as long as I could see, and then bade\\nNancy good-evening; checking her too lively gratitude by the\\nundeniable assurance that I had only done for her what she would\\nhave done for me, if she had been in my place and I in hers. I\\nhastened back to Horton Lodge, where, having entered the\\nschoolroom, I found the tea-table all in confusion, the tray\\nflooded with slops, and Miss Matilda in a most ferocious humour.\\n\\'Miss Grey, whatever have you been about? I\\'ve had tea half an\\nhour ago, and had to make it myself, and drink it all alone! I\\nwish you would come in sooner!\\'\\n\\'I\\'ve been to see Nancy Brown. I thought you would not be back\\nfrom your ride.\\'\\n\\'How could I ride in the rain, I should like to know. That damned\\npelting shower was vexatious enough--coming on when I was just in\\nfull swing: and then to come and find nobody in to tea! and you\\nknow I can\\'t make the tea as I like it.\\'\\n\\'I didn\\'t think of the shower,\\' replied I (and, indeed, the thought\\nof its driving her home had never entered my head).\\n\\'No, of course; you were under shelter yourself, and you never\\nthought of other people.\\'\\nI bore her coarse reproaches with astonishing equanimity, even with\\ncheerfulness; for I was sensible that I had done more good to Nancy\\nBrown than harm to her: and perhaps some other thoughts assisted\\nto keep up my spirits, and impart a relish to the cup of cold,\\noverdrawn tea, and a charm to the otherwise unsightly table; and--I\\nhad almost said--to Miss Matilda\\'s unamiable face. But she soon\\nbetook herself to the stables, and left me to the quiet enjoyment\\nof my solitary meal.\\nCHAPTER XIII--THE PRIMROSES\\nMiss Murray now always went twice to church, for she so loved\\nadmiration that she could not bear to lose a single opportunity of\\nobtaining it; and she was so sure of it wherever she showed\\nherself, that, whether Harry Meltham and Mr. Green were there or\\nnot, there was certain to be somebody present who would not be\\ninsensible to her charms, besides the Rector, whose official\\ncapacity generally obliged him to attend. Usually, also, if the\\nweather permitted, both she and her sister would walk home;\\nMatilda, because she hated the confinement of the carriage; she,\\nbecause she disliked the privacy of it, and enjoyed the company\\nthat generally enlivened the first mile of the journey in walking\\nfrom the church to Mr. Green\\'s park-gates: near which commenced\\nthe private road to Horton Lodge, which lay in the opposite\\ndirection, while the highway conducted in a straightforward course\\nto the still more distant mansion of Sir Hugh Meltham. Thus there\\nwas always a chance of being accompanied, so far, either by Harry\\nMeltham, with or without Miss Meltham, or Mr. Green, with perhaps\\none or both of his sisters, and any gentlemen visitors they might\\nhave.\\nWhether I walked with the young ladies or rode with their parents,\\ndepended upon their own capricious will: if they chose to \\'take\\'\\nme, I went; if, for reasons best known to themselves, they chose to\\ngo alone, I took my seat in the carriage. I liked walking better,\\nbut a sense of reluctance to obtrude my presence on anyone who did\\nnot desire it, always kept me passive on these and similar\\noccasions; and I never inquired into the causes of their varying\\nwhims. Indeed, this was the best policy--for to submit and oblige\\nwas the governess\\'s part, to consult their own pleasure was that of\\nthe pupils. But when I did walk, the first half of journey was\\ngenerally a great nuisance to me. As none of the before-mentioned\\nladies and gentlemen ever noticed me, it was disagreeable to walk\\nbeside them, as if listening to what they said, or wishing to be\\nthought one of them, while they talked over me, or across; and if\\ntheir eyes, in speaking, chanced to fall on me, it seemed as if\\nthey looked on vacancy--as if they either did not see me, or were\\nvery desirous to make it appear so. It was disagreeable, too, to\\nwalk behind, and thus appear to acknowledge my own inferiority;\\nfor, in truth, I considered myself pretty nearly as good as the\\nbest of them, and wished them to know that I did so, and not to\\nimagine that I looked upon myself as a mere domestic, who knew her\\nown place too well to walk beside such fine ladies and gentlemen as\\nthey were--though her young ladies might choose to have her with\\nthem, and even condescend to converse with her when no better\\ncompany were at hand. Thus--I am almost ashamed to confess it--but\\nindeed I gave myself no little trouble in my endeavours (if I did\\nkeep up with them) to appear perfectly unconscious or regardless of\\ntheir presence, as if I were wholly absorbed in my own reflections,\\nor the contemplation of surrounding objects; or, if I lingered\\nbehind, it was some bird or insect, some tree or flower, that\\nattracted my attention, and having duly examined that, I would\\npursue my walk alone, at a leisurely pace, until my pupils had\\nbidden adieu to their companions and turned off into the quiet\\nprivate road.\\nOne such occasion I particularly well remember; it was a lovely\\nafternoon about the close of March; Mr. Green and his sisters had\\nsent their carriage back empty, in order to enjoy the bright\\nsunshine and balmy air in a sociable walk home along with their\\nvisitors, Captain Somebody and Lieutenant Somebody-else (a couple\\nof military fops), and the Misses Murray, who, of course, contrived\\nto join them. Such a party was highly agreeable to Rosalie; but\\nnot finding it equally suitable to my taste, I presently fell back,\\nand began to botanise and entomologise along the green banks and\\nbudding hedges, till the company was considerably in advance of me,\\nand I could hear the sweet song of the happy lark; then my spirit\\nof misanthropy began to melt away beneath the soft, pure air and\\ngenial sunshine; but sad thoughts of early childhood, and yearnings\\nfor departed joys, or for a brighter future lot, arose instead. As\\nmy eyes wandered over the steep banks covered with young grass and\\ngreen-leaved plants, and surmounted by budding hedges, I longed\\nintensely for some familiar flower that might recall the woody\\ndales or green hill-sides of home: the brown moorlands, of course,\\nwere out of the question. Such a discovery would make my eyes gush\\nout with water, no doubt; but that was one of my greatest\\nenjoyments now. At length I descried, high up between the twisted\\nroots of an oak, three lovely primroses, peeping so sweetly from\\ntheir hiding-place that the tears already started at the sight; but\\nthey grew so high above me, that I tried in vain to gather one or\\ntwo, to dream over and to carry with me: I could not reach them\\nunless I climbed the bank, which I was deterred from doing by\\nhearing a footstep at that moment behind me, and was, therefore,\\nabout to turn away, when I was startled by the words, \\'Allow me to\\ngather them for you, Miss Grey,\\' spoken in the grave, low tones of\\na well-known voice. Immediately the flowers were gathered, and in\\nmy hand. It was Mr. Weston, of course--who else would trouble\\nhimself to do so much for ME?\\n\\'I thanked him; whether warmly or coldly, I cannot tell: but\\ncertain I am that I did not express half the gratitude I felt. It\\nwas foolish, perhaps, to feel any gratitude at all; but it seemed\\nto me, at that moment, as if this were a remarkable instance of his\\ngood-nature: an act of kindness, which I could not repay, but\\nnever should forget: so utterly unaccustomed was I to receive such\\ncivilities, so little prepared to expect them from anyone within\\nfifty miles of Horton Lodge. Yet this did not prevent me from\\nfeeling a little uncomfortable in his presence; and I proceeded to\\nfollow my pupils at a much quicker pace than before; though,\\nperhaps, if Mr. Weston had taken the hint, and let me pass without\\nanother word, I might have repeated it an hour after: but he did\\nnot. A somewhat rapid walk for me was but an ordinary pace for\\nhim.\\n\\'Your young ladies have left you alone,\\' said he.\\n\\'Yes, they are occupied with more agreeable company.\\'\\n\\'Then don\\'t trouble yourself to overtake them.\\' I slackened my\\npace; but next moment regretted having done so: my companion did\\nnot speak; and I had nothing in the world to say, and feared he\\nmight be in the same predicament. At length, however, he broke the\\npause by asking, with a certain quiet abruptness peculiar to\\nhimself, if I liked flowers.\\n\\'Yes; very much,\\' I answered, \\'wild-flowers especially.\\'\\n\\'_I_ like wild-flowers,\\' said he; \\'others I don\\'t care about,\\nbecause I have no particular associations connected with them--\\nexcept one or two. What are your favourite flowers?\\'\\n\\'Primroses, bluebells, and heath-blossoms.\\'\\n\\'Not violets?\\'\\n\\'No; because, as you say, I have no particular associations\\nconnected with them; for there are no sweet violets among the hills\\nand valleys round my home.\\'\\n\\'It must be a great consolation to you to have a home, Miss Grey,\\'\\nobserved my companion after a short pause: \\'however remote, or\\nhowever seldom visited, still it is something to look to.\\'\\n\\'It is so much that I think I could not live without it,\\' replied\\nI, with an enthusiasm of which I immediately repented; for I\\nthought it must have sounded essentially silly.\\n\\'Oh, yes, you could,\\' said he, with a thoughtful smile. \\'The ties\\nthat bind us to life are tougher than you imagine, or than anyone\\ncan who has not felt how roughly they may be pulled without\\nbreaking. You might be miserable without a home, but even YOU\\ncould live; and not so miserably as you suppose. The human heart\\nis like india-rubber; a little swells it, but a great deal will not\\nburst it. If \"little more than nothing will disturb it, little\\nless than all things will suffice\" to break it. As in the outer\\nmembers of our frame, there is a vital power inherent in itself\\nthat strengthens it against external violence. Every blow that\\nshakes it will serve to harden it against a future stroke; as\\nconstant labour thickens the skin of the hand, and strengthens its\\nmuscles instead of wasting them away: so that a day of arduous\\ntoil, that might excoriate a lady\\'s palm, would make no sensible\\nimpression on that of a hardy ploughman.\\n\\'I speak from experience--partly my own. There was a time when I\\nthought as you do--at least, I was fully persuaded that home and\\nits affections were the only things that made life tolerable:\\nthat, if deprived of these, existence would become a burden hard to\\nbe endured; but now I have no home--unless you would dignify my two\\nhired rooms at Horton by such a name;--and not twelve months ago I\\nlost the last and dearest of my early friends; and yet, not only I\\nlive, but I am not wholly destitute of hope and comfort, even for\\nthis life: though I must acknowledge that I can seldom enter even\\nan humble cottage at the close of day, and see its inhabitants\\npeaceably gathered around their cheerful hearth, without a feeling\\nALMOST of envy at their domestic enjoyment.\\'\\n\\'You don\\'t know what happiness lies before you yet,\\' said I: \\'you\\nare now only in the commencement of your journey.\\'\\n\\'The best of happiness,\\' replied he, \\'is mine already--the power\\nand the will to be useful.\\'\\nWe now approached a stile communicating with a footpath that\\nconducted to a farm-house, where, I suppose, Mr. Weston purposed to\\nmake himself \\'useful;\\' for he presently took leave of me, crossed\\nthe stile, and traversed the path with his usual firm, elastic\\ntread, leaving me to ponder his words as I continued my course\\nalone. I had heard before that he had lost his mother not many\\nmonths before he came. She then was the last and dearest of his\\nearly friends; and he had NO HOME. I pitied him from my heart: I\\nalmost wept for sympathy. And this, I thought, accounted for the\\nshade of premature thoughtfulness that so frequently clouded his\\nbrow, and obtained for him the reputation of a morose and sullen\\ndisposition with the charitable Miss Murray and all her kin.\\n\\'But,\\' thought I, \\'he is not so miserable as I should be under such\\na deprivation: he leads an active life; and a wide field for\\nuseful exertion lies before him. He can MAKE friends; and he can\\nmake a home too, if he pleases; and, doubtless, he will please some\\ntime. God grant the partner of that home may be worthy of his\\nchoice, and make it a happy one--such a home as he deserves to\\nhave! And how delightful it would be to--\\' But no matter what I\\nthought.\\nI began this book with the intention of concealing nothing; that\\nthose who liked might have the benefit of perusing a fellow-\\ncreature\\'s heart: but we have some thoughts that all the angels in\\nheaven are welcome to behold, but not our brother-men--not even the\\nbest and kindest amongst them.\\nBy this time the Greens had taken themselves to their own abode,\\nand the Murrays had turned down the private road, whither I\\nhastened to follow them. I found the two girls warm in an animated\\ndiscussion on the respective merits of the two young officers; but\\non seeing me Rosalie broke off in the middle of a sentence to\\nexclaim, with malicious glee -\\n\\'Oh-ho, Miss Grey! you\\'re come at last, are you? No WONDER you\\nlingered so long behind; and no WONDER you always stand up so\\nvigorously for Mr. Weston when I abuse him. Ah-ha! I see it all\\nnow!\\'\\n\\'Now, come, Miss Murray, don\\'t be foolish,\\' said I, attempting a\\ngood-natured laugh; \\'you know such nonsense can make no impression\\non me.\\'\\nBut she still went on talking such intolerable stuff--her sister\\nhelping her with appropriate fiction coined for the occasion--that\\nI thought it necessary to say something in my own justification.\\n\\'What folly all this is!\\' I exclaimed. \\'If Mr. Weston\\'s road\\nhappened to be the same as mine for a few yards, and if he chose to\\nexchange a word or two in passing, what is there so remarkable in\\nthat? I assure you, I never spoke to him before: except once.\\'\\n\\'Where? where? and when?\\' cried they eagerly.\\n\\'In Nancy\\'s cottage.\\'\\n\\'Ah-ha! you\\'ve met him there, have you?\\' exclaimed Rosalie, with\\nexultant laughter. \\'Ah! now, Matilda, I\\'ve found out why she\\'s so\\nfond of going to Nancy Brown\\'s! She goes there to flirt with Mr.\\nWeston.\\'\\n\\'Really, that is not worth contradicting--I only saw him there\\nonce, I tell you--and how could I know he was coming?\\'\\nIrritated as I was at their foolish mirth and vexatious\\nimputations, the uneasiness did not continue long: when they had\\nhad their laugh out, they returned again to the captain and\\nlieutenant; and, while they disputed and commented upon them, my\\nindignation rapidly cooled; the cause of it was quickly forgotten,\\nand I turned my thoughts into a pleasanter channel. Thus we\\nproceeded up the park, and entered the hall; and as I ascended the\\nstairs to my own chamber, I had but one thought within me: my\\nheart was filled to overflowing with one single earnest wish.\\nHaving entered the room, and shut the door, I fell upon my knees\\nand offered up a fervent but not impetuous prayer: \\'Thy will be\\ndone,\\' I strove to say throughout; but, \\'Father, all things are\\npossible with Thee, and may it be Thy will,\\' was sure to follow.\\nThat wish--that prayer--both men and women would have scorned me\\nfor--\\'But, Father, THOU wilt NOT despise!\\' I said, and felt that it\\nwas true. It seemed to me that another\\'s welfare was at least as\\nardently implored for as my own; nay, even THAT was the principal\\nobject of my heart\\'s desire. I might have been deceiving myself;\\nbut that idea gave me confidence to ask, and power to hope I did\\nnot ask in vain. As for the primroses, I kept two of them in a\\nglass in my room until they were completely withered, and the\\nhousemaid threw them out; and the petals of the other I pressed\\nbetween the leaves of my Bible--I have them still, and mean to keep\\nthem always.\\nCHAPTER XIV--THE RECTOR\\nThe following day was as fine as the preceding one. Soon after\\nbreakfast Miss Matilda, having galloped and blundered through a few\\nunprofitable lessons, and vengeably thumped the piano for an hour,\\nin a terrible humour with both me and it, because her mamma would\\nnot give her a holiday, had betaken herself to her favourite places\\nof resort, the yards, the stables, and the dog-kennels; and Miss\\nMurray was gone forth to enjoy a quiet ramble with a new\\nfashionable novel for her companion, leaving me in the schoolroom\\nhard at work upon a water-colour drawing which I had promised to do\\nfor her, and which she insisted upon my finishing that day.\\nAt my feet lay a little rough terrier. It was the property of Miss\\nMatilda; but she hated the animal, and intended to sell it,\\nalleging that it was quite spoiled. It was really an excellent dog\\nof its kind; but she affirmed it was fit for nothing, and had not\\neven the sense to know its own mistress.\\nThe fact was she had purchased it when but a small puppy, insisting\\nat first that no one should touch it but herself; but soon becoming\\ntired of so helpless and troublesome a nursling, she had gladly\\nyielded to my entreaties to be allowed to take charge of it; and I,\\nby carefully nursing the little creature from infancy to\\nadolescence, of course, had obtained its affections: a reward I\\nshould have greatly valued, and looked upon as far outweighing all\\nthe trouble I had had with it, had not poor Snap\\'s grateful\\nfeelings exposed him to many a harsh word and many a spiteful kick\\nand pinch from his owner, and were he not now in danger of being\\n\\'put away\\' in consequence, or transferred to some rough, stony-\\nhearted master. But how could I help it? I could not make the dog\\nhate me by cruel treatment, and she would not propitiate him by\\nkindness.\\nHowever, while I thus sat, working away with my pencil, Mrs. Murray\\ncame, half-sailing, half-bustling, into the room.\\n\\'Miss Grey,\\' she began,--\\'dear! how can you sit at your drawing\\nsuch a day as this?\\' (She thought I was doing it for my own\\npleasure.) \\'I WONDER you don\\'t put on your bonnet and go out with\\nthe young ladies.\\'\\n\\'I think, ma\\'am, Miss Murray is reading; and Miss Matilda is\\namusing herself with her dogs.\\'\\n\\'If you would try to amuse Miss Matilda yourself a little more, I\\nthink she would not be driven to seek amusement in the\\ncompanionship of dogs and horses and grooms, so much as she is; and\\nif you would be a little more cheerful and conversable with Miss\\nMurray, she would not so often go wandering in the fields with a\\nbook in her hand. However, I don\\'t want to vex you,\\' added she,\\nseeing, I suppose, that my cheeks burned and my hand trembled with\\nsome unamiable emotion. \\'Do, pray, try not to be so touchy--\\nthere\\'s no speaking to you else. And tell me if you know where\\nRosalie is gone: and why she likes to be so much alone?\\'\\n\\'She says she likes to be alone when she has a new book to read.\\'\\n\\'But why can\\'t she read it in the park or the garden?--why should\\nshe go into the fields and lanes? And how is it that that Mr.\\nHatfield so often finds her out? She told me last week he\\'d walked\\nhis horse by her side all up Moss Lane; and now I\\'m sure it was he\\nI saw, from my dressing-room window, walking so briskly past the\\npark-gates, and on towards the field where she so frequently goes.\\nI wish you would go and see if she is there; and just gently remind\\nher that it is not proper for a young lady of her rank and\\nprospects to be wandering about by herself in that manner, exposed\\nto the attentions of anyone that presumes to address her; like some\\npoor neglected girl that has no park to walk in, and no friends to\\ntake care of her: and tell her that her papa would be extremely\\nangry if he knew of her treating Mr. Hatfield in the familiar\\nmanner that I fear she does; and--oh! if you--if ANY governess had\\nbut half a mother\\'s watchfulness--half a mother\\'s anxious care, I\\nshould be saved this trouble; and you would see at once the\\nnecessity of keeping your eye upon her, and making your company\\nagreeable to-- Well, go--go; there\\'s no time to be lost,\\' cried\\nshe, seeing that I had put away my drawing materials, and was\\nwaiting in the doorway for the conclusion of her address.\\nAccording to her prognostications, I found Miss Murray in her\\nfavourite field just without the park; and, unfortunately, not\\nalone; for the tall, stately figure of Mr. Hatfield was slowly\\nsauntering by her side.\\nHere was a poser for me. It was my duty to interrupt the tete-a-\\ntete: but how was it to be done? Mr. Hatfield could not to be\\ndriven away by so insignificant person as I; and to go and place\\nmyself on the other side of Miss Murray, and intrude my unwelcome\\npresence upon her without noticing her companion, was a piece of\\nrudeness I could not be guilty of: neither had I the courage to\\ncry aloud from the top of the field that she was wanted elsewhere.\\nSo I took the intermediate course of walking slowly but steadily\\ntowards them; resolving, if my approach failed to scare away the\\nbeau, to pass by and tell Miss Murray her mamma wanted her.\\nShe certainly looked very charming as she strolled, lingering along\\nunder the budding horse-chestnut trees that stretched their long\\narms over the park-palings; with her closed book in one hand, and\\nin the other a graceful sprig of myrtle, which served her as a very\\npretty plaything; her bright ringlets escaping profusely from her\\nlittle bonnet, and gently stirred by the breeze, her fair cheek\\nflushed with gratified vanity, her smiling blue eyes, now slyly\\nglancing towards her admirer, now gazing downward at her myrtle\\nsprig. But Snap, running before me, interrupted her in the midst\\nof some half-pert, half-playful repartee, by catching hold of her\\ndress and vehemently tugging thereat; till Mr. Hatfield, with his\\ncane, administered a resounding thwack upon the animal\\'s skull, and\\nsent it yelping back to me with a clamorous outcry that afforded\\nthe reverend gentleman great amusement: but seeing me so near, he\\nthought, I suppose, he might as well be taking his departure; and,\\nas I stooped to caress the dog, with ostentatious pity to show my\\ndisapproval of his severity, I heard him say: \\'When shall I see\\nyou again, Miss Murray?\\'\\n\\'At church, I suppose,\\' replied she, \\'unless your business chances\\nto bring you here again at the precise moment when I happen to be\\nwalking by.\\'\\n\\'I could always manage to have business here, if I knew precisely\\nwhen and where to find you.\\'\\n\\'But if I would, I could not inform you, for I am so immethodical,\\nI never can tell to-day what I shall do to-morrow.\\'\\n\\'Then give me that, meantime, to comfort me,\\' said he, half\\njestingly and half in earnest, extending his hand for the sprig of\\nmyrtle.\\n\\'No, indeed, I shan\\'t.\\'\\n\\'Do! PRAY do! I shall be the most miserable of men if you don\\'t.\\nYou cannot be so cruel as to deny me a favour so easily granted and\\nyet so highly prized!\\' pleaded he as ardently as if his life\\ndepended on it.\\nBy this time I stood within a very few yards of them, impatiently\\nwaiting his departure.\\n\\'There then! take it and go,\\' said Rosalie.\\nHe joyfully received the gift, murmured something that made her\\nblush and toss her head, but with a little laugh that showed her\\ndispleasure was entirely affected; and then with a courteous\\nsalutation withdrew.\\n\\'Did you ever see such a man, Miss Grey?\\' said she, turning to me;\\n\\'I\\'m so GLAD you came! I thought I never SHOULD, get rid of him;\\nand I was so terribly afraid of papa seeing him.\\'\\n\\'Has he been with you long?\\'\\n\\'No, not long, but he\\'s so extremely impertinent: and he\\'s always\\nhanging about, pretending his business or his clerical duties\\nrequire his attendance in these parts, and really watching for poor\\nme, and pouncing upon me wherever he sees me.\\'\\n\\'Well, your mamma thinks you ought not to go beyond the park or\\ngarden without some discreet, matronly person like me to accompany\\nyou, and keep off all intruders. She descried Mr. Hatfield\\nhurrying past the park-gates, and forthwith despatched me with\\ninstructions to seek you up and to take care of you, and likewise\\nto warn--\\'\\n\\'Oh, mamma\\'s so tiresome! As if I couldn\\'t take care of myself.\\nShe bothered me before about Mr. Hatfield; and I told her she might\\ntrust me: I never should forget my rank and station for the most\\ndelightful man that ever breathed. I wish he would go down on his\\nknees to-morrow, and implore me to be his wife, that I might just\\nshow her how mistaken she is in supposing that I could ever--Oh, it\\nprovokes me so! To think that I could be such a fool as to fall in\\nLOVE! It is quite beneath the dignity of a woman to do such a\\nthing. Love! I detest the word! As applied to one of our sex, I\\nthink it a perfect insult. A preference I MIGHT acknowledge; but\\nnever for one like poor Mr. Hatfield, who has not seven hundred a\\nyear to bless himself with. I like to talk to him, because he\\'s so\\nclever and amusing--I wish Sir Thomas Ashby were half as nice;\\nbesides, I must have SOMEBODY to flirt with, and no one else has\\nthe sense to come here; and when we go out, mamma won\\'t let me\\nflirt with anybody but Sir Thomas--if he\\'s there; and if he\\'s NOT\\nthere, I\\'m bound hand and foot, for fear somebody should go and\\nmake up some exaggerated story, and put it into his head that I\\'m\\nengaged, or likely to be engaged, to somebody else; or, what is\\nmore probable, for fear his nasty old mother should see or hear of\\nmy ongoings, and conclude that I\\'m not a fit wife for her excellent\\nson: as if the said son were not the greatest scamp in\\nChristendom; and as if any woman of common decency were not a world\\ntoo good for him.\\'\\n\\'Is it really so, Miss Murray? and does your mamma know it, and yet\\nwish you to marry him?\\'\\n\\'To be sure, she does! She knows more against him than I do, I\\nbelieve: she keeps it from me lest I should be discouraged; not\\nknowing how little I care about such things. For it\\'s no great\\nmatter, really: he\\'ll be all right when he\\'s married, as mamma\\nsays; and reformed rakes make the best husbands, EVERYBODY knows.\\nI only wish he were not so ugly--THAT\\'S all _I_ think about: but\\nthen there\\'s no choice here in the country; and papa WILL NOT let\\nus go to London--\\'\\n\\'But I should think Mr. Hatfield would be far better.\\'\\n\\'And so he would, if he were lord of Ashby Park--there\\'s not a\\ndoubt of it: but the fact is, I MUST have Ashby Park, whoever\\nshares it with me.\\'\\n\\'But Mr. Hatfield thinks you like him all this time; you don\\'t\\nconsider how bitterly he will be disappointed when he finds himself\\nmistaken.\\'\\n\\'NO, indeed! It will be a proper punishment for his presumption--\\nfor ever DARING to think I could like him. I should enjoy nothing\\nso much as lifting the veil from his eyes.\\'\\n\\'The sooner you do it the better then.\\'\\n\\'No; I tell you, I like to amuse myself with him. Besides, he\\ndoesn\\'t really think I like him. I take good care of that: you\\ndon\\'t know how cleverly I manage. He may presume to think he can\\ninduce me to like him; for which I shall punish him as he\\ndeserves.\\'\\n\\'Well, mind you don\\'t give too much reason for such presumption--\\nthat\\'s all,\\' replied I.\\nBut all my exhortations were in vain: they only made her somewhat\\nmore solicitous to disguise her wishes and her thoughts from me.\\nShe talked no more to me about the Rector; but I could see that her\\nmind, if not her heart, was fixed upon him still, and that she was\\nintent upon obtaining another interview: for though, in compliance\\nwith her mother\\'s request, I was now constituted the companion of\\nher rambles for a time, she still persisted in wandering in the\\nfields and lanes that lay in the nearest proximity to the road;\\nand, whether she talked to me or read the book she carried in her\\nhand, she kept continually pausing to look round her, or gaze up\\nthe road to see if anyone was coming; and if a horseman trotted by,\\nI could tell by her unqualified abuse of the poor equestrian,\\nwhoever he might be, that she hated him BECAUSE he was not Mr.\\nHatfield.\\n\\'Surely,\\' thought I, \\'she is not so indifferent to him as she\\nbelieves herself to be, or would have others to believe her; and\\nher mother\\'s anxiety is not so wholly causeless as she affirms.\\'\\nThree days passed away, and he did not make his appearance. On the\\nafternoon of the fourth, as we were walking beside the park-palings\\nin the memorable field, each furnished with a book (for I always\\ntook care to provide myself with something to be doing when she did\\nnot require me to talk), she suddenly interrupted my studies by\\nexclaiming -\\n\\'Oh, Miss Grey! do be so kind as to go and see Mark Wood, and take\\nhis wife half-a-crown from me--I should have given or sent it a\\nweek ago, but quite forgot. There!\\' said she, throwing me her\\npurse, and speaking very fast--\\'Never mind getting it out now, but\\ntake the purse and give them what you like; I would go with you,\\nbut I want to finish this volume. I\\'ll come and meet you when I\\'ve\\ndone it. Be quick, will you--and--oh, wait; hadn\\'t you better read\\nto him a bit? Run to the house and get some sort of a good book.\\nAnything will do.\\'\\nI did as I was desired; but, suspecting something from her hurried\\nmanner and the suddenness of the request, I just glanced back\\nbefore I quitted the field, and there was Mr. Hatfield about to\\nenter at the gate below. By sending me to the house for a book,\\nshe had just prevented my meeting him on the road.\\n\\'Never mind!\\' thought I, \\'there\\'ll be no great harm done. Poor\\nMark will be glad of the half-crown, and perhaps of the good book\\ntoo; and if the Rector does steal Miss Rosalie\\'s heart, it will\\nonly humble her pride a little; and if they do get married at last,\\nit will only save her from a worse fate; and she will be quite a\\ngood enough partner for him, and he for her.\\'\\nMark Wood was the consumptive labourer whom I mentioned before. He\\nwas now rapidly wearing away. Miss Murray, by her liberality,\\nobtained literally the blessing of him that was ready to perish;\\nfor though the half-crown could be of very little service to him,\\nhe was glad of it for the sake of his wife and children, so soon to\\nbe widowed and fatherless. After I had sat a few minutes, and read\\na little for the comfort and edification of himself and his\\nafflicted wife, I left them; but I had not proceeded fifty yards\\nbefore I encountered Mr. Weston, apparently on his way to the same\\nabode. He greeted me in his usual quiet, unaffected way, stopped\\nto inquire about the condition of the sick man and his family, and\\nwith a sort of unconscious, brotherly disregard to ceremony took\\nfrom my hand the book out of which I had been reading, turned over\\nits pages, made a few brief but very sensible remarks, and restored\\nit; then told me about some poor sufferer he had just been\\nvisiting, talked a little about Nancy Brown, made a few\\nobservations upon my little rough friend the terrier, that was\\nfrisking at his feet, and finally upon the beauty of the weather,\\nand departed.\\nI have omitted to give a detail of his words, from a notion that\\nthey would not interest the reader as they did me, and not because\\nI have forgotten them. No; I remember them well; for I thought\\nthem over and over again in the course of that day and many\\nsucceeding ones, I know not how often; and recalled every\\nintonation of his deep, clear voice, every flash of his quick,\\nbrown eye, and every gleam of his pleasant, but too transient\\nsmile. Such a confession will look very absurd, I fear: but no\\nmatter: I have written it: and they that read it will not know\\nthe writer.\\nWhile I was walking along, happy within, and pleased with all\\naround, Miss Murray came hastening to meet me; her buoyant step,\\nflushed cheek, and radiant smiles showing that she, too, was happy,\\nin her own way. Running up to me, she put her arm through mine,\\nand without waiting to recover breath, began--\\'Now, Miss Grey,\\nthink yourself highly honoured, for I\\'m come to tell you my news\\nbefore I\\'ve breathed a word of it to anyone else.\\'\\n\\'Well, what is it?\\'\\n\\'Oh, SUCH news! In the first place, you must know that Mr.\\nHatfield came upon me just after you were gone. I was in such a\\nway for fear papa or mamma should see him; but you know I couldn\\'t\\ncall you back again, and so!--oh, dear! I can\\'t tell you all about\\nit now, for there\\'s Matilda, I see, in the park, and I must go and\\nopen my budget to her. But, however, Hatfield was most uncommonly\\naudacious, unspeakably complimentary, and unprecedentedly tender--\\ntried to be so, at least--he didn\\'t succeed very well in THAT,\\nbecause it\\'s not his vein. I\\'ll tell you all he said another\\ntime.\\'\\n\\'But what did YOU say--I\\'m more interested in that?\\'\\n\\'I\\'ll tell you that, too, at some future period. I happened to be\\nin a very good humour just then; but, though I was complaisant and\\ngracious enough, I took care not to compromise myself in any\\npossible way. But, however, the conceited wretch chose to\\ninterpret my amiability of temper his own way, and at length\\npresumed upon my indulgence so far--what do you think?--he actually\\nmade me an offer!\\'\\n\\'And you--\\'\\n\\'I proudly drew myself up, and with the greatest coolness expressed\\nmy astonishment at such an occurrence, and hoped he had seen\\nnothing in my conduct to justify his expectations. You should have\\nSEEN how his countenance fell! He went perfectly white in the\\nface. I assured him that I esteemed him and all that, but could\\nnot possibly accede to his proposals; and if I did, papa and mamma\\ncould never be brought to give their consent.\\'\\n\\'\"But if they could,\" said he, \"would yours be wanting?\"\\n\\'\"Certainly, Mr. Hatfield,\" I replied, with a cool decision which\\nquelled all hope at once. Oh, if you had seen how dreadfully\\nmortified he was--how crushed to the earth by his disappointment!\\nreally, I almost pitied him myself.\\n\\'One more desperate attempt, however, he made. After a silence of\\nconsiderable duration, during which he struggled to be calm, and I\\nto be grave--for I felt a strong propensity to laugh--which would\\nhave ruined all--he said, with the ghost of a smile--\"But tell me\\nplainly, Miss Murray, if I had the wealth of Sir Hugh Meltham, or\\nthe prospects of his eldest son, would you still refuse me? Answer\\nme truly, upon your honour.\"\\n\\'\"Certainly,\" said I. \"That would make no difference whatever.\"\\n\\'It was a great lie, but he looked so confident in his own\\nattractions still, that I determined not to leave him one stone\\nupon another. He looked me full in the face; but I kept my\\ncountenance so well that he could not imagine I was saying anything\\nmore than the actual truth.\\n\\'\"Then it\\'s all over, I suppose,\" he said, looking as if he could\\nhave died on the spot with vexation and the intensity of his\\ndespair. But he was angry as well as disappointed. There was he,\\nsuffering so unspeakably, and there was I, the pitiless cause of it\\nall, so utterly impenetrable to all the artillery of his looks and\\nwords, so calmly cold and proud, he could not but feel some\\nresentment; and with singular bitterness he began--\"I certainly did\\nnot expect this, Miss Murray. I might say something about your\\npast conduct, and the hopes you have led me to foster, but I\\nforbear, on condition--\"\\n\\'\"No conditions, Mr. Hatfield!\" said I, now truly indignant at his\\ninsolence.\\n\\'\"Then let me beg it as a favour,\" he replied, lowering his voice\\nat once, and taking a humbler tone: \"let me entreat that you will\\nnot mention this affair to anyone whatever. If you will keep\\nsilence about it, there need be no unpleasantness on either side--\\nnothing, I mean, beyond what is quite unavoidable: for my own\\nfeelings I will endeavour to keep to myself, if I cannot annihilate\\nthem--I will try to forgive, if I cannot forget the cause of my\\nsufferings. I will not suppose, Miss Murray, that you know how\\ndeeply you have injured me. I would not have you aware of it; but\\nif, in addition to the injury you have already done me--pardon me,\\nbut, whether innocently or not, you HAVE done it--and if you add to\\nit by giving publicity to this unfortunate affair, or naming it AT\\nALL, you will find that I too can speak, and though you scorned my\\nlove, you will hardly scorn my--\"\\n\\'He stopped, but he bit his bloodless lip, and looked so terribly\\nfierce that I was quite frightened. However, my pride upheld me\\nstill, and I answered disdainfully; \"I do not know what motive you\\nsuppose I could have for naming it to anyone, Mr. Hatfield; but if\\nI were disposed to do so, you would not deter me by threats; and it\\nis scarcely the part of a gentleman to attempt it.\"\\n\\'\"Pardon me, Miss Murray,\" said he, \"I have loved you so intensely-\\n-I do still adore you so deeply, that I would not willingly offend\\nyou; but though I never have loved, and never CAN love any woman as\\nI have loved you, it is equally certain that I never was so ill-\\ntreated by any. On the contrary, I have always found your sex the\\nkindest and most tender and obliging of God\\'s creation, till now.\"\\n(Think of the conceited fellow saying that!) \"And the novelty and\\nharshness of the lesson you have taught me to-day, and the\\nbitterness of being disappointed in the only quarter on which the\\nhappiness of my life depended, must excuse any appearance of\\nasperity. If my presence is disagreeable to you, Miss Murray,\" he\\nsaid (for I was looking about me to show how little I cared for\\nhim, so he thought I was tired of him, I suppose)--\"if my presence\\nis disagreeable to you, Miss Murray, you have only to promise me\\nthe favour I named, and I will relieve you at once. There are many\\nladies--some even in this parish--who would be delighted to accept\\nwhat you have so scornfully trampled under your feet. They would\\nbe naturally inclined to hate one whose surpassing loveliness has\\nso completely estranged my heart from them and blinded me to their\\nattractions; and a single hint of the truth from me to one of these\\nwould be sufficient to raise such a talk against you as would\\nseriously injure your prospects, and diminish your chance of\\nsuccess with any other gentleman you or your mamma might design to\\nentangle.\"\\n\\'\"What do your mean, sir?\" said I, ready to stamp with passion.\\n\\'\"I mean that this affair from beginning to end appears to me like\\na case of arrant flirtation, to say the least of it--such a case as\\nyou would find it rather inconvenient to have blazoned through the\\nworld: especially with the additions and exaggerations of your\\nfemale rivals, who would be too glad to publish the matter, if I\\nonly gave them a handle to it. But I promise you, on the faith of\\na gentleman, that no word or syllable that could tend to your\\nprejudice shall ever escape my lips, provided you will--\"\\n\\'\"Well, well, I won\\'t mention it,\" said I. \"You may rely upon my\\nsilence, if that can afford you any consolation.\"\\n\\'\"You promise it?\"\\n\\'\"Yes,\" I answered; for I wanted to get rid of him now.\\n\\'\"Farewell, then!\" said he, in a most doleful, heart-sick tone; and\\nwith a look where pride vainly struggled against despair, he turned\\nand went away: longing, no doubt, to get home, that he might shut\\nhimself up in his study and cry--if he doesn\\'t burst into tears\\nbefore he gets there.\\'\\n\\'But you have broken your promise already,\\' said I, truly horrified\\nat her perfidy.\\n\\'Oh! it\\'s only to you; I know you won\\'t repeat it.\\'\\n\\'Certainly, I shall not: but you say you are going to tell your\\nsister; and she will tell your brothers when they come home, and\\nBrown immediately, if you do not tell her yourself; and Brown will\\nblazon it, or be the means of blazoning it, throughout the\\ncountry.\\'\\n\\'No, indeed, she won\\'t. We shall not tell her at all, unless it be\\nunder the promise of the strictest secrecy.\\'\\n\\'But how can you expect her to keep her promises better than her\\nmore enlightened mistress?\\'\\n\\'Well, well, she shan\\'t hear it then,\\' said Miss Murray, somewhat\\nsnappishly.\\n\\'But you will tell your mamma, of course,\\' pursued I; \\'and she will\\ntell your papa.\\'\\n\\'Of course I shall tell mamma--that is the very thing that pleases\\nme so much. I shall now be able to convince her how mistaken she\\nwas in her fears about me.\\'\\n\\'Oh, THAT\\'S it, is it? I was wondering what it was that delighted\\nyou so much.\\'\\n\\'Yes; and another thing is, that I\\'ve humbled Mr. Hatfield so\\ncharmingly; and another--why, you must allow me some share of\\nfemale vanity: I don\\'t pretend to be without that most essential\\nattribute of our sex--and if you had seen poor Hatfield\\'s intense\\neagerness in making his ardent declaration and his flattering\\nproposal, and his agony of mind, that no effort of pride could\\nconceal, on being refused, you would have allowed I had some cause\\nto be gratified.\\'\\n\\'The greater his agony, I should think, the less your cause for\\ngratification.\\'\\n\\'Oh, nonsense!\\' cried the young lady, shaking herself with\\nvexation. \\'You either can\\'t understand me, or you won\\'t. If I had\\nnot confidence in your magnanimity, I should think you envied me.\\nBut you will, perhaps, comprehend this cause of pleasure--which is\\nas great as any--namely, that I am delighted with myself for my\\nprudence, my self-command, my heartlessness, if you please. I was\\nnot a bit taken by surprise, not a bit confused, or awkward, or\\nfoolish; I just acted and spoke as I ought to have done, and was\\ncompletely my own mistress throughout. And here was a man,\\ndecidedly good-looking--Jane and Susan Green call him bewitchingly\\nhandsome I suppose they\\'re two of the ladies he pretends would be\\nso glad to have him; but, however, he was certainly a very clever,\\nwitty, agreeable companion--not what you call clever, but just\\nenough to make him entertaining; and a man one needn\\'t be ashamed\\nof anywhere, and would not soon grow tired of; and to confess the\\ntruth, I rather liked him--better even, of late, than Harry\\nMeltham--and he evidently idolised me; and yet, though he came upon\\nme all alone and unprepared, I had the wisdom, and the pride, and\\nthe strength to refuse him--and so scornfully and coolly as I did:\\nI have good reason to be proud of that.\\'\\n\\'And are you equally proud of having told him that his having the\\nwealth of Sir Hugh Meltham would make no difference to you, when\\nthat was not the case; and of having promised to tell no one of his\\nmisadventure, apparently without the slightest intention of keeping\\nyour promise?\\'\\n\\'Of course! what else could I do? You would not have had me--but I\\nsee, Miss Grey, you\\'re not in a good temper. Here\\'s Matilda; I\\'ll\\nsee what she and mamma have to say about it.\\'\\nShe left me, offended at my want of sympathy, and thinking, no\\ndoubt, that I envied her. I did not--at least, I firmly believed I\\ndid not. I was sorry for her; I was amazed, disgusted at her\\nheartless vanity; I wondered why so much beauty should be given to\\nthose who made so bad a use of it, and denied to some who would\\nmake it a benefit to both themselves and others.\\nBut, God knows best, I concluded. There are, I suppose, some men\\nas vain, as selfish, and as heartless as she is, and, perhaps, such\\nwomen may be useful to punish them.\\nCHAPTER XV--THE WALK\\n\\'Oh, dear! I wish Hatfield had not been so precipitate!\\' said\\nRosalie next day at four P.M., as, with a portentous yawn, she laid\\ndown her worsted-work and looked listlessly towards the window.\\n\\'There\\'s no inducement to go out now; and nothing to look forward\\nto. The days will be so long and dull when there are no parties to\\nenliven them; and there are none this week, or next either, that I\\nknow of.\\'\\n\\'Pity you were so cross to him,\\' observed Matilda, to whom this\\nlamentation was addressed. \\'He\\'ll never come again: and I suspect\\nyou liked him after all. I hoped you would have taken him for your\\nbeau, and left dear Harry to me.\\'\\n\\'Humph! my beau must be an Adonis indeed, Matilda, the admired of\\nall beholders, if I am to be contented with him alone. I\\'m sorry\\nto lose Hatfield, I confess; but the first decent man, or number of\\nmen, that come to supply his place, will be more than welcome.\\nIt\\'s Sunday to-morrow--I do wonder how he\\'ll look, and whether\\nhe\\'ll be able to go through the service. Most likely he\\'ll pretend\\nhe\\'s got a cold, and make Mr. Weston do it all.\\'\\n\\'Not he!\\' exclaimed Matilda, somewhat contemptuously. \\'Fool as he\\nis, he\\'s not so soft as that comes to.\\'\\nHer sister was slightly offended; but the event proved Matilda was\\nright: the disappointed lover performed his pastoral duties as\\nusual. Rosalie, indeed, affirmed he looked very pale and dejected:\\nhe might be a little paler; but the difference, if any, was\\nscarcely perceptible. As for his dejection, I certainly did not\\nhear his laugh ringing from the vestry as usual, nor his voice loud\\nin hilarious discourse; though I did hear it uplifted in rating the\\nsexton in a manner that made the congregation stare; and, in his\\ntransits to and from the pulpit and the communion-table, there was\\nmore of solemn pomp, and less of that irreverent, self-confident,\\nor rather self-delighted imperiousness with which he usually swept\\nalong--that air that seemed to say, \\'You all reverence and adore\\nme, I know; but if anyone does not, I defy him to the teeth!\\' But\\nthe most remarkable change was, that he never once suffered his\\neyes to wander in the direction of Mr. Murray\\'s pew, and did not\\nleave the church till we were gone.\\nMr. Hatfield had doubtless received a very severe blow; but his\\npride impelled him to use every effort to conceal the effects of\\nit. He had been disappointed in his certain hope of obtaining not\\nonly a beautiful, and, to him, highly attractive wife, but one\\nwhose rank and fortune might give brilliance to far inferior\\ncharms: he was likewise, no doubt, intensely mortified by his\\nrepulse, and deeply offended at the conduct of Miss Murray\\nthroughout. It would have given him no little consolation to have\\nknown how disappointed she was to find him apparently so little\\nmoved, and to see that he was able to refrain from casting a single\\nglance at her throughout both services; though, she declared, it\\nshowed he was thinking of her all the time, or his eyes would have\\nfallen upon her, if it were only by chance: but if they had so\\nchanced to fall, she would have affirmed it was because they could\\nnot resist the attraction. It might have pleased him, too, in some\\ndegree, to have seen how dull and dissatisfied she was throughout\\nthat week (the greater part of it, at least), for lack of her usual\\nsource of excitement; and how often she regretted having \\'used him\\nup so soon,\\' like a child that, having devoured its plumcake too\\nhastily, sits sucking its fingers, and vainly lamenting its\\ngreediness.\\nAt length I was called upon, one fine morning, to accompany her in\\na walk to the village. Ostensibly she went to get some shades of\\nBerlin wool, at a tolerably respectable shop that was chiefly\\nsupported by the ladies of the vicinity: really--I trust there is\\nno breach of charity in supposing that she went with the idea of\\nmeeting either with the Rector himself, or some other admirer by\\nthe way; for as we went along, she kept wondering \\'what Hatfield\\nwould do or say, if we met him,\\' &c. &c.; as we passed Mr. Green\\'s\\npark-gates, she \\'wondered whether he was at home--great stupid\\nblockhead\\'; as Lady Meltham\\'s carriage passed us, she \\'wondered\\nwhat Mr. Harry was doing this fine day\\'; and then began to abuse\\nhis elder brother for being \\'such a fool as to get married and go\\nand live in London.\\'\\n\\'Why,\\' said I, \\'I thought you wanted to live in London yourself.\\'\\n\\'Yes, because it\\'s so dull here: but then he makes it still duller\\nby taking himself off: and if he were not married I might have him\\ninstead of that odious Sir Thomas.\\'\\nThen, observing the prints of a horse\\'s feet on the somewhat miry\\nroad, she \\'wondered whether it was a gentleman\\'s horse,\\' and\\nfinally concluded it was, for the impressions were too small to\\nhave been made by a \\'great clumsy cart-horse\\'; and then she\\n\\'wondered who the rider could be,\\' and whether we should meet him\\ncoming back, for she was sure he had only passed that morning; and\\nlastly, when we entered the village and saw only a few of its\\nhumble inhabitants moving about, she \\'wondered why the stupid\\npeople couldn\\'t keep in their houses; she was sure she didn\\'t want\\nto see their ugly faces, and dirty, vulgar clothes--it wasn\\'t for\\nthat she came to Horton!\\'\\nAmid all this, I confess, I wondered, too, in secret, whether we\\nshould meet, or catch a glimpse of somebody else; and as we passed\\nhis lodgings, I even went so far as to wonder whether he was at the\\nwindow. On entering the shop, Miss Murray desired me to stand in\\nthe doorway while she transacted her business, and tell her if\\nanyone passed. But alas! there was no one visible besides the\\nvillagers, except Jane and Susan Green coming down the single\\nstreet, apparently returning from a walk.\\n\\'Stupid things!\\' muttered she, as she came out after having\\nconcluded her bargain. \\'Why couldn\\'t they have their dolt of a\\nbrother with them? even he would be better than nothing.\\'\\nShe greeted them, however, with a cheerful smile, and protestations\\nof pleasure at the happy meeting equal to their own. They placed\\nthemselves one on each side of her, and all three walked away\\nchatting and laughing as young ladies do when they get together, if\\nthey be but on tolerably intimate terms. But I, feeling myself to\\nbe one too many, left them to their merriment and lagged behind, as\\nusual on such occasions: I had no relish for walking beside Miss\\nGreen or Miss Susan like one deaf and dumb, who could neither speak\\nnor be spoken to.\\nBut this time I was not long alone. It struck me, first, as very\\nodd, that just as I was thinking about Mr. Weston he should come up\\nand accost me; but afterwards, on due reflection, I thought there\\nwas nothing odd about it, unless it were the fact of his speaking\\nto me; for on such a morning and so near his own abode, it was\\nnatural enough that he should be about; and as for my thinking of\\nhim, I had been doing that, with little intermission, ever since we\\nset out on our journey; so there was nothing remarkable in that.\\n\\'You are alone again, Miss Grey,\\' said he.\\n\\'Yes.\\'\\n\\'What kind of people are those ladies--the Misses Green?\\'\\n\\'I really don\\'t know.\\'\\n\\'That\\'s strange--when you live so near and see them so often!\\'\\n\\'Well, I suppose they are lively, good-tempered girls; but I\\nimagine you must know them better than I do, yourself, for I never\\nexchanged a word with either of them.\\'\\n\\'Indeed? They don\\'t strike me as being particularly reserved.\\'\\n\\'Very likely they are not so to people of their own class; but they\\nconsider themselves as moving in quite a different sphere from me!\\'\\nHe made no reply to this: but after a short pause, he said,--\\'I\\nsuppose it\\'s these things, Miss Grey, that make you think you could\\nnot live without a home?\\'\\n\\'Not exactly. The fact is I am too socially disposed to be able to\\nlive contentedly without a friend; and as the only friends I have,\\nor am likely to have, are at home, if it--or rather, if they were\\ngone--I will not say I could not live--but I would rather not live\\nin such a desolate world.\\'\\n\\'But why do you say the only friends you are likely to have? Are\\nyou so unsociable that you cannot make friends?\\'\\n\\'No, but I never made one yet; and in my present position there is\\nno possibility of doing so, or even of forming a common\\nacquaintance. The fault may be partly in myself, but I hope not\\naltogether.\\'\\n\\'The fault is partly in society, and partly, I should think, in\\nyour immediate neighbours: and partly, too, in yourself; for many\\nladies, in your position, would make themselves be noticed and\\naccounted of. But your pupils should be companions for you in some\\ndegree; they cannot be many years younger than yourself.\\'\\n\\'Oh, yes, they are good company sometimes; but I cannot call them\\nfriends, nor would they think of bestowing such a name on me--they\\nhave other companions better suited to their tastes.\\'\\n\\'Perhaps you are too wise for them. How do you amuse yourself when\\nalone--do you read much?\\'\\n\\'Reading is my favourite occupation, when I have leisure for it and\\nbooks to read.\\'\\nFrom speaking of books in general, he passed to different books in\\nparticular, and proceeded by rapid transitions from topic to topic,\\ntill several matters, both of taste and opinion, had been discussed\\nconsiderably within the space of half an hour, but without the\\nembellishment of many observations from himself; he being evidently\\nless bent upon communicating his own thoughts and predilections,\\nthan on discovering mine. He had not the tact, or the art, to\\neffect such a purpose by skilfully drawing out my sentiments or\\nideas through the real or apparent statement of his own, or leading\\nthe conversation by imperceptible gradations to such topics as he\\nwished to advert to: but such gentle abruptness, and such single-\\nminded straightforwardness, could not possibly offend me.\\n\\'And why should he interest himself at all in my moral and\\nintellectual capacities: what is it to him what I think or feel?\\'\\nI asked myself. And my heart throbbed in answer to the question.\\nBut Jane and Susan Green soon reached their home. As they stood\\nparleying at the park-gates, attempting to persuade Miss Murray to\\ncome in, I wished Mr. Weston would go, that she might not see him\\nwith me when she turned round; but, unfortunately, his business,\\nwhich was to pay one more visit to poor Mark Wood, led him to\\npursue the same path as we did, till nearly the close of our\\njourney. When, however, he saw that Rosalie had taken leave of her\\nfriends and I was about to join her, he would have left me and\\npassed on at a quicker pace; but, as he civilly lifted his hat in\\npassing her, to my surprise, instead of returning the salute with a\\nstiff, ungracious bow, she accosted him with one of her sweetest\\nsmiles, and, walking by his side, began to talk to him with all\\nimaginable cheerfulness and affability; and so we proceeded all\\nthree together.\\nAfter a short pause in the conversation, Mr. Weston made some\\nremark addressed particularly to me, as referring to something we\\nhad been talking of before; but before I could answer, Miss Murray\\nreplied to the observation and enlarged upon it: he rejoined; and,\\nfrom thence to the close of the interview, she engrossed him\\nentirely to herself. It might be partly owing to my own stupidity,\\nmy want of tact and assurance: but I felt myself wronged: I\\ntrembled with apprehension; and I listened with envy to her easy,\\nrapid flow of utterance, and saw with anxiety the bright smile with\\nwhich she looked into his face from time to time: for she was\\nwalking a little in advance, for the purpose (as I judged) of being\\nseen as well as heard. If her conversation was light and trivial,\\nit was amusing, and she was never at a loss for something to say,\\nor for suitable words to express it in. There was nothing pert or\\nflippant in her manner now, as when she walked with Mr. Hatfield,\\nthere was only a gentle, playful kind of vivacity, which I thought\\nmust be peculiarly pleasing to a man of Mr. Weston\\'s disposition\\nand temperament.\\nWhen he was gone she began to laugh, and muttered to herself, \\'I\\nthought I could do it!\\'\\n\\'Do what?\\' I asked.\\n\\'Fix that man.\\'\\n\\'What in the world do you mean?\\'\\n\\'I mean that he will go home and dream of me. I have shot him\\nthrough the heart!\\'\\n\\'How do you know?\\'\\n\\'By many infallible proofs: more especially the look he gave me\\nwhen he went away. It was not an impudent look--I exonerate him\\nfrom that--it was a look of reverential, tender adoration. Ha, ha!\\nhe\\'s not quite such a stupid blockhead as I thought him!\\'\\nI made no answer, for my heart was in my throat, or something like\\nit, and I could not trust myself to speak. \\'O God, avert it!\\' I\\ncried, internally--\\'for his sake, not for mine!\\'\\nMiss Murray made several trivial observations as we passed up the\\npark, to which (in spite of my reluctance to let one glimpse of my\\nfeelings appear) I could only answer by monosyllables. Whether she\\nintended to torment me, or merely to amuse herself, I could not\\ntell--and did not much care; but I thought of the poor man and his\\none lamb, and the rich man with his thousand flocks; and I dreaded\\nI knew not what for Mr. Weston, independently of my own blighted\\nhopes.\\nRight glad was I to get into the house, and find myself alone once\\nmore in my own room. My first impulse was to sink into the chair\\nbeside the bed; and laying my head on the pillow, to seek relief in\\na passionate burst of tears: there was an imperative craving for\\nsuch an indulgence; but, alas! I must restrain and swallow back my\\nfeelings still: there was the bell--the odious bell for the\\nschoolroom dinner; and I must go down with a calm face, and smile,\\nand laugh, and talk nonsense--yes, and eat, too, if possible, as if\\nall was right, and I was just returned from a pleasant walk.\\nCHAPTER XVI--THE SUBSTITUTION\\nNext Sunday was one of the gloomiest of April days--a day of thick,\\ndark clouds, and heavy showers. None of the Murrays were disposed\\nto attend church in the afternoon, excepting Rosalie: she was bent\\nupon going as usual; so she ordered the carriage, and I went with\\nher: nothing loth, of course, for at church I might look without\\nfear of scorn or censure upon a form and face more pleasing to me\\nthan the most beautiful of God\\'s creations; I might listen without\\ndisturbance to a voice more charming than the sweetest music to my\\nears; I might seem to hold communion with that soul in which I felt\\nso deeply interested, and imbibe its purest thoughts and holiest\\naspirations, with no alloy to such felicity except the secret\\nreproaches of my conscience, which would too often whisper that I\\nwas deceiving my own self, and mocking God with the service of a\\nheart more bent upon the creature than the Creator.\\nSometimes, such thoughts would give me trouble enough; but\\nsometimes I could quiet them with thinking--it is not the man, it\\nis his goodness that I love. \\'Whatsoever things are pure,\\nwhatsoever things are lovely, whatsoever things are honest and of\\ngood report, think on these things.\\' We do well to worship God in\\nHis works; and I know none of them in which so many of His\\nattributes--so much of His own spirit shines, as in this His\\nfaithful servant; whom to know and not to appreciate, were obtuse\\ninsensibility in me, who have so little else to occupy my heart.\\nAlmost immediately after the conclusion of the service, Miss Murray\\nleft the church. We had to stand in the porch, for it was raining,\\nand the carriage was not yet come. I wondered at her coming forth\\nso hastily, for neither young Meltham nor Squire Green was there;\\nbut I soon found it was to secure an interview with Mr. Weston as\\nhe came out, which he presently did. Having saluted us both, he\\nwould have passed on, but she detained him; first with observations\\nupon the disagreeable weather, and then with asking if he would be\\nso kind as to come some time to-morrow to see the granddaughter of\\nthe old woman who kept the porter\\'s lodge, for the girl was ill of\\na fever, and wished to see him. He promised to do so.\\n\\'And at what time will you be most likely to come, Mr. Weston? The\\nold woman will like to know when to expect you--you know such\\npeople think more about having their cottages in order when decent\\npeople come to see them than we are apt to suppose.\\'\\nHere was a wonderful instance of consideration from the thoughtless\\nMiss Murray. Mr. Weston named an hour in the morning at which he\\nwould endeavour, to be there. By this time the carriage was ready,\\nand the footman was waiting, with an open umbrella, to escort Miss\\nMurray through the churchyard. I was about to follow; but Mr.\\nWeston had an umbrella too, and offered me the benefit of its\\nshelter, for it was raining heavily.\\n\\'No, thank you, I don\\'t mind the rain,\\' I said. I always lacked\\ncommon sense when taken by surprise.\\n\\'But you don\\'t LIKE it, I suppose?--an umbrella will do you no harm\\nat any rate,\\' he replied, with a smile that showed he was not\\noffended; as a man of worse temper or less penetration would have\\nbeen at such a refusal of his aid. I could not deny the truth of\\nhis assertion, and so went with him to the carriage; he even\\noffered me his hand on getting in: an unnecessary piece of\\ncivility, but I accepted that too, for fear of giving offence. One\\nglance he gave, one little smile at parting--it was but for a\\nmoment; but therein I read, or thought I read, a meaning that\\nkindled in my heart a brighter flame of hope than had ever yet\\narisen.\\n\\'I would have sent the footman back for you, Miss Grey, if you\\'d\\nwaited a moment--you needn\\'t have taken Mr. Weston\\'s umbrella,\\'\\nobserved Rosalie, with a very unamiable cloud upon her pretty face.\\n\\'I would have come without an umbrella, but Mr. Weston offered me\\nthe benefit of his, and I could not have refused it more than I did\\nwithout offending him,\\' replied I, smiling placidly; for my inward\\nhappiness made that amusing, which would have wounded me at another\\ntime.\\nThe carriage was now in motion. Miss Murray bent forwards, and\\nlooked out of the window as we were passing Mr. Weston. He was\\npacing homewards along the causeway, and did not turn his head.\\n\\'Stupid ass!\\' cried she, throwing herself back again in the seat.\\n\\'You don\\'t know what you\\'ve lost by not looking this way!\\'\\n\\'What has he lost?\\'\\n\\'A bow from me, that would have raised him to the seventh heaven!\\'\\nI made no answer. I saw she was out of humour, and I derived a\\nsecret gratification from the fact, not that she was vexed, but\\nthat she thought she had reason to be so. It made me think my\\nhopes were not entirely the offspring of my wishes and imagination.\\n\\'I mean to take up Mr. Weston instead of Mr. Hatfield,\\' said my\\ncompanion, after a short pause, resuming something of her usual\\ncheerfulness. \\'The ball at Ashby Park takes place on Tuesday, you\\nknow; and mamma thinks it very likely that Sir Thomas will propose\\nto me then: such things are often done in the privacy of the ball-\\nroom, when gentlemen are most easily ensnared, and ladies most\\nenchanting. But if I am to be married so soon, I must make the\\nbest of the present time: I am determined Hatfield shall not be\\nthe only man who shall lay his heart at my feet, and implore me to\\naccept the worthless gift in vain.\\'\\n\\'If you mean Mr. Weston to be one of your victims,\\' said I, with\\naffected indifference, \\'you will have to make such overtures\\nyourself that you will find it difficult to draw back when he asks\\nyou to fulfil the expectations you have raised.\\'\\n\\'I don\\'t suppose he will ask me to marry him, nor should I desire\\nit: that would be rather too much presumption! but I intend him to\\nfeel my power. He has felt it already, indeed: but he shall\\nACKNOWLEDGE it too; and what visionary hopes he may have, he must\\nkeep to himself, and only amuse me with the result of them--for a\\ntime.\\'\\n\\'Oh! that some kind spirit would whisper those words in his ear,\\' I\\ninwardly exclaimed. I was far too indignant to hazard a reply to\\nher observation aloud; and nothing more was said about Mr. Weston\\nthat day, by me or in my hearing. But next morning, soon after\\nbreakfast, Miss Murray came into the schoolroom, where her sister\\nwas employed at her studies, or rather her lessons, for studies\\nthey were not, and said, \\'Matilda, I want you to take a walk with\\nme about eleven o\\'clock.\\'\\n\\'Oh, I can\\'t, Rosalie! I have to give orders about my new bridle\\nand saddle-cloth, and speak to the rat-catcher about his dogs:\\nMiss Grey must go with you.\\'\\n\\'No, I want you,\\' said Rosalie; and calling her sister to the\\nwindow, she whispered an explanation in her ear; upon which the\\nlatter consented to go.\\nI remembered that eleven was the hour at which Mr. Weston proposed\\nto come to the porter\\'s lodge; and remembering that, I beheld the\\nwhole contrivance. Accordingly, at dinner, I was entertained with\\na long account of how Mr. Weston had overtaken them as they were\\nwalking along the road; and how they had had a long walk and talk\\nwith him, and really found him quite an agreeable companion; and\\nhow he must have been, and evidently was, delighted with them and\\ntheir amazing condescension, &c. &c.\\nCHAPTER XVII--CONFESSIONS\\nAs I am in the way of confessions I may as well acknowledge that,\\nabout this time, I paid more attention to dress than ever I had\\ndone before. This is not saying much--for hitherto I had been a\\nlittle neglectful in that particular; but now, also, it was no\\nuncommon thing to spend as much as two minutes in the contemplation\\nof my own image in the glass; though I never could derive any\\nconsolation from such a study. I could discover no beauty in those\\nmarked features, that pale hollow cheek, and ordinary dark brown\\nhair; there might be intellect in the forehead, there might be\\nexpression in the dark grey eyes, but what of that?--a low Grecian\\nbrow, and large black eyes devoid of sentiment would be esteemed\\nfar preferable. It is foolish to wish for beauty. Sensible people\\nnever either desire it for themselves or care about it in others.\\nIf the mind be but well cultivated, and the heart well disposed, no\\none ever cares for the exterior. So said the teachers of our\\nchildhood; and so say we to the children of the present day. All\\nvery judicious and proper, no doubt; but are such assertions\\nsupported by actual experience?\\nWe are naturally disposed to love what gives us pleasure, and what\\nmore pleasing than a beautiful face--when we know no harm of the\\npossessor at least? A little girl loves her bird--Why? Because it\\nlives and feels; because it is helpless and harmless? A toad,\\nlikewise, lives and feels, and is equally helpless and harmless;\\nbut though she would not hurt a toad, she cannot love it like the\\nbird, with its graceful form, soft feathers, and bright, speaking\\neyes. If a woman is fair and amiable, she is praised for both\\nqualities, but especially the former, by the bulk of mankind: if,\\non the other hand, she is disagreeable in person and character, her\\nplainness is commonly inveighed against as her greatest crime,\\nbecause, to common observers, it gives the greatest offence; while,\\nif she is plain and good, provided she is a person of retired\\nmanners and secluded life, no one ever knows of her goodness,\\nexcept her immediate connections. Others, on the contrary, are\\ndisposed to form unfavourable opinions of her mind, and\\ndisposition, if it be but to excuse themselves for their\\ninstinctive dislike of one so unfavoured by nature; and visa versa\\nwith her whose angel form conceals a vicious heart, or sheds a\\nfalse, deceitful charm over defects and foibles that would not be\\ntolerated in another. They that have beauty, let them be thankful\\nfor it, and make a good use of it, like any other talent; they that\\nhave it not, let them console themselves, and do the best they can\\nwithout it: certainly, though liable to be over-estimated, it is a\\ngift of God, and not to be despised. Many will feel this who have\\nfelt that they could love, and whose hearts tell them that they are\\nworthy to be loved again; while yet they are debarred, by the lack\\nof this or some such seeming trifle, from giving and receiving that\\nhappiness they seem almost made to feel and to impart. As well\\nmight the humble glowworm despise that power of giving light\\nwithout which the roving fly might pass her and repass her a\\nthousand times, and never rest beside her: she might hear her\\nwinged darling buzzing over and around her; he vainly seeking her,\\nshe longing to be found, but with no power to make her presence\\nknown, no voice to call him, no wings to follow his flight;--the\\nfly must seek another mate, the worm must live and die alone.\\nSuch were some of my reflections about this period. I might go on\\nprosing more and more, I might dive much deeper, and disclose other\\nthoughts, propose questions the reader might be puzzled to answer,\\nand deduce arguments that might startle his prejudices, or,\\nperhaps, provoke his ridicule, because he could not comprehend\\nthem; but I forbear.\\nNow, therefore, let us return to Miss Murray. She accompanied her\\nmamma to the ball on Tuesday; of course splendidly attired, and\\ndelighted with her prospects and her charms. As Ashby Park was\\nnearly ten miles distant from Horton Lodge, they had to set out\\npretty early, and I intended to have spent the evening with Nancy\\nBrown, whom I had not seen for a long time; but my kind pupil took\\ncare I should spend it neither there nor anywhere else beyond the\\nlimits of the schoolroom, by giving me a piece of music to copy,\\nwhich kept me closely occupied till bed-time. About eleven next\\nmorning, as soon as she had left her room, she came to tell me her\\nnews. Sir Thomas had indeed proposed to her at the ball; an event\\nwhich reflected great credit on her mamma\\'s sagacity, if not upon\\nher skill in contrivance. I rather incline to the belief that she\\nhad first laid her plans, and then predicted their success. The\\noffer had been accepted, of course, and the bridegroom elect was\\ncoming that day to settle matters with Mr. Murray.\\nRosalie was pleased with the thoughts of becoming mistress of Ashby\\nPark; she was elated with the prospect of the bridal ceremony and\\nits attendant splendour and eclat, the honeymoon spent abroad, and\\nthe subsequent gaieties she expected to enjoy in London and\\nelsewhere; she appeared pretty well pleased too, for the time\\nbeing, with Sir Thomas himself, because she had so lately seen him,\\ndanced with him, and been flattered by him; but, after all, she\\nseemed to shrink from the idea of being so soon united: she wished\\nthe ceremony to be delayed some months, at least; and I wished it\\ntoo. It seemed a horrible thing to hurry on the inauspicious\\nmatch, and not to give the poor creature time to think and reason\\non the irrevocable step she was about to take. I made no\\npretension to \\'a mother\\'s watchful, anxious care,\\' but I was amazed\\nand horrified at Mrs. Murray\\'s heartlessness, or want of thought\\nfor the real good of her child; and by my unheeded warnings and\\nexhortations, I vainly strove to remedy the evil. Miss Murray only\\nlaughed at what I said; and I soon found that her reluctance to an\\nimmediate union arose chiefly from a desire to do what execution\\nshe could among the young gentlemen of her acquaintance, before she\\nwas incapacitated from further mischief of the kind. It was for\\nthis cause that, before confiding to me the secret of her\\nengagement, she had extracted a promise that I would not mention a\\nword on the subject to any one. And when I saw this, and when I\\nbeheld her plunge more recklessly than ever into the depths of\\nheartless coquetry, I had no more pity for her. \\'Come what will,\\'\\nI thought, \\'she deserves it. Sir Thomas cannot be too bad for her;\\nand the sooner she is incapacitated from deceiving and injuring\\nothers the better.\\'\\nThe wedding was fixed for the first of June. Between that and the\\ncritical ball was little more than six weeks; but, with Rosalie\\'s\\naccomplished skill and resolute exertion, much might be done, even\\nwithin that period; especially as Sir Thomas spent most of the\\ninterim in London; whither he went up, it was said, to settle\\naffairs with his lawyer, and make other preparations for the\\napproaching nuptials. He endeavoured to supply the want of his\\npresence by a pretty constant fire of billets-doux; but these did\\nnot attract the neighbours\\' attention, and open their eyes, as\\npersonal visits would have done; and old Lady Ashby\\'s haughty, sour\\nspirit of reserve withheld her from spreading the news, while her\\nindifferent health prevented her coming to visit her future\\ndaughter-in-law; so that, altogether, this affair was kept far\\ncloser than such things usually are.\\nRosalie would sometimes show her lover\\'s epistles to me, to\\nconvince me what a kind, devoted husband he would make. She showed\\nme the letters of another individual, too, the unfortunate Mr.\\nGreen, who had not the courage, or, as she expressed it, the\\n\\'spunk,\\' to plead his cause in person, but whom one denial would\\nnot satisfy: he must write again and again. He would not have\\ndone so if he could have seen the grimaces his fair idol made over\\nhis moving appeals to her feelings, and heard her scornful\\nlaughter, and the opprobrious epithets she heaped upon him for his\\nperseverance.\\n\\'Why don\\'t you tell him, at once, that you are engaged?\\' I asked.\\n\\'Oh, I don\\'t want him to know that,\\' replied she. \\'If he knew it,\\nhis sisters and everybody would know it, and then there would be an\\nend of my--ahem! And, besides, if I told him that, he would think\\nmy engagement was the only obstacle, and that I would have him if I\\nwere free; which I could not bear that any man should think, and\\nhe, of all others, at least. Besides, I don\\'t care for his\\nletters,\\' she added, contemptuously; \\'he may write as often as he\\npleases, and look as great a calf as he likes when I meet him; it\\nonly amuses me.\\'\\nMeantime, young Meltham was pretty frequent in his visits to the\\nhouse or transits past it; and, judging by Matilda\\'s execrations\\nand reproaches, her sister paid more attention to him than civility\\nrequired; in other words, she carried on as animated a flirtation\\nas the presence of her parents would admit. She made some attempts\\nto bring Mr. Hatfield once more to her feet; but finding them\\nunsuccessful, she repaid his haughty indifference with still\\nloftier scorn, and spoke of him with as much disdain and\\ndetestation as she had formerly done of his curate. But, amid all\\nthis, she never for a moment lost sight of Mr. Weston. She\\nembraced every opportunity of meeting him, tried every art to\\nfascinate him, and pursued him with as much perseverance as if she\\nreally loved him and no other, and the happiness of her life\\ndepended upon eliciting a return of affection. Such conduct was\\ncompletely beyond my comprehension. Had I seen it depicted in a\\nnovel, I should have thought it unnatural; had I heard it described\\nby others, I should have deemed it a mistake or an exaggeration;\\nbut when I saw it with my own eyes, and suffered from it too, I\\ncould only conclude that excessive vanity, like drunkenness,\\nhardens the heart, enslaves the faculties, and perverts the\\nfeelings; and that dogs are not the only creatures which, when\\ngorged to the throat, will yet gloat over what they cannot devour,\\nand grudge the smallest morsel to a starving brother.\\nShe now became extremely beneficent to the poor cottagers. Her\\nacquaintance among them was more widely extended, her visits to\\ntheir humble dwellings were more frequent and excursive than they\\nhad ever been before. Hereby, she earned among them the reputation\\nof a condescending and very charitable young lady; and their\\nencomiums were sure to be repeated to Mr. Weston: whom also she\\nhad thus a daily chance of meeting in one or other of their abodes,\\nor in her transits to and fro; and often, likewise, she could\\ngather, through their gossip, to what places he was likely to go at\\nsuch and such a time, whether to baptize a child, or to visit the\\naged, the sick, the sad, or the dying; and most skilfully she laid\\nher plans accordingly. In these excursions she would sometimes go\\nwith her sister--whom, by some means, she had persuaded or bribed\\nto enter into her schemes--sometimes alone, never, now, with me; so\\nthat I was debarred the pleasure of seeing Mr. Weston, or hearing\\nhis voice even in conversation with another: which would certainly\\nhave been a very great pleasure, however hurtful or however fraught\\nwith pain. I could not even see him at church: for Miss Murray,\\nunder some trivial pretext, chose to take possession of that corner\\nin the family pew which had been mine ever since I came; and,\\nunless I had the presumption to station myself between Mr. and Mrs.\\nMurray, I must sit with my back to the pulpit, which I accordingly\\ndid.\\nNow, also, I never walked home with my pupils: they said their\\nmamma thought it did not look well to see three people out of the\\nfamily walking, and only two going in the carriage; and, as they\\ngreatly preferred walking in fine weather, I should be honoured by\\ngoing with the seniors. \\'And besides,\\' said they, \\'you can\\'t walk\\nas fast as we do; you know you\\'re always lagging behind.\\' I knew\\nthese were false excuses, but I made no objections, and never\\ncontradicted such assertions, well knowing the motives which\\ndictated them. And in the afternoons, during those six memorable\\nweeks, I never went to church at all. If I had a cold, or any\\nslight indisposition, they took advantage of that to make me stay\\nat home; and often they would tell me they were not going again\\nthat day, themselves, and then pretend to change their minds, and\\nset off without telling me: so managing their departure that I\\nnever discovered the change of purpose till too late. Upon their\\nreturn home, on one of these occasions, they entertained me with an\\nanimated account of a conversation they had had with Mr. Weston as\\nthey came along. \\'And he asked if you were ill, Miss Grey,\\' said\\nMatilda; \\'but we told him you were quite well, only you didn\\'t want\\nto come to church--so he\\'ll think you\\'re turned wicked.\\'\\nAll chance meetings on week-days were likewise carefully prevented;\\nfor, lest I should go to see poor Nancy Brown or any other person,\\nMiss Murray took good care to provide sufficient employment for all\\nmy leisure hours. There was always some drawing to finish, some\\nmusic to copy, or some work to do, sufficient to incapacitate me\\nfrom indulging in anything beyond a short walk about the grounds,\\nhowever she or her sister might be occupied.\\nOne morning, having sought and waylaid Mr. Weston, they returned in\\nhigh glee to give me an account of their interview. \\'And he asked\\nafter you again,\\' said Matilda, in spite of her sister\\'s silent but\\nimperative intimation that she should hold her tongue. \\'He\\nwondered why you were never with us, and thought you must have\\ndelicate health, as you came out so seldom.\\'\\n\\'He didn\\'t Matilda--what nonsense you\\'re talking!\\'\\n\\'Oh, Rosalie, what a lie! He did, you know; and you said--Don\\'t,\\nRosalie--hang it!--I won\\'t be pinched so! And, Miss Grey, Rosalie\\ntold him you were quite well, but you were always so buried in your\\nbooks that you had no pleasure in anything else.\\'\\n\\'What an idea he must have of me!\\' I thought.\\n\\'And,\\' I asked, \\'does old Nancy ever inquire about me?\\'\\n\\'Yes; and we tell her you are so fond of reading and drawing that\\nyou can do nothing else.\\'\\n\\'That is not the case though; if you had told her I was so busy I\\ncould not come to see her, it would have been nearer the truth.\\'\\n\\'I don\\'t think it would,\\' replied Miss Murray, suddenly kindling\\nup; \\'I\\'m sure you have plenty of time to yourself now, when you\\nhave so little teaching to do.\\'\\nIt was no use beginning to dispute with such indulged, unreasoning\\ncreatures: so I held my peace. I was accustomed, now, to keeping\\nsilence when things distasteful to my ear were uttered; and now,\\ntoo, I was used to wearing a placid smiling countenance when my\\nheart was bitter within me. Only those who have felt the like can\\nimagine my feelings, as I sat with an assumption of smiling\\nindifference, listening to the accounts of those meetings and\\ninterviews with Mr. Weston, which they seemed to find such pleasure\\nin describing to me; and hearing things asserted of him which, from\\nthe character of the man, I knew to be exaggerations and\\nperversions of the truth, if not entirely false--things derogatory\\nto him, and flattering to them--especially to Miss Murray--which I\\nburned to contradict, or, at least, to show my doubts about, but\\ndared not; lest, in expressing my disbelief, I should display my\\ninterest too. Other things I heard, which I felt or feared were\\nindeed too true: but I must still conceal my anxiety respecting\\nhim, my indignation against them, beneath a careless aspect;\\nothers, again, mere hints of something said or done, which I longed\\nto hear more of, but could not venture to inquire. So passed the\\nweary time. I could not even comfort myself with saying, \\'She will\\nsoon be married; and then there may be hope.\\'\\nSoon after her marriage the holidays would come; and when I\\nreturned from home, most likely, Mr. Weston would be gone, for I\\nwas told that he and the Rector could not agree (the Rector\\'s\\nfault, of course), and he was about to remove to another place.\\nNo--besides my hope in God, my only consolation was in thinking\\nthat, though he know it not, I was more worthy of his love than\\nRosalie Murray, charming and engaging as she was; for I could\\nappreciate his excellence, which she could not: I would devote my\\nlife to the promotion of his happiness; she would destroy his\\nhappiness for the momentary gratification of her own vanity. \\'Oh,\\nif he could but know the difference!\\' I would earnestly exclaim.\\n\\'But no! I would not have him see my heart: yet, if he could but\\nknow her hollowness, her worthless, heartless frivolity, he would\\nthen be safe, and I should be--ALMOST happy, though I might never\\nsee him more!\\'\\nI fear, by this time, the reader is well nigh disgusted with the\\nfolly and weakness I have so freely laid before him. I never\\ndisclosed it then, and would not have done so had my own sister or\\nmy mother been with me in the house. I was a close and resolute\\ndissembler--in this one case at least. My prayers, my tears, my\\nwishes, fears, and lamentations, were witnessed by myself and\\nheaven alone.\\nWhen we are harassed by sorrows or anxieties, or long oppressed by\\nany powerful feelings which we must keep to ourselves, for which we\\ncan obtain and seek no sympathy from any living creature, and which\\nyet we cannot, or will not wholly crush, we often naturally seek\\nrelief in poetry--and often find it, too--whether in the effusions\\nof others, which seem to harmonize with our existing case, or in\\nour own attempts to give utterance to those thoughts and feelings\\nin strains less musical, perchance, but more appropriate, and\\ntherefore more penetrating and sympathetic, and, for the time, more\\nsoothing, or more powerful to rouse and to unburden the oppressed\\nand swollen heart. Before this time, at Wellwood House and here,\\nwhen suffering from home-sick melancholy, I had sought relief twice\\nor thrice at this secret source of consolation; and now I flew to\\nit again, with greater avidity than ever, because I seemed to need\\nit more. I still preserve those relics of past sufferings and\\nexperience, like pillars of witness set up in travelling through\\nthe vale of life, to mark particular occurrences. The footsteps\\nare obliterated now; the face of the country may be changed; but\\nthe pillar is still there, to remind me how all things were when it\\nwas reared. Lest the reader should be curious to see any of these\\neffusions, I will favour him with one short specimen: cold and\\nlanguid as the lines may seem, it was almost a passion of grief to\\nwhich they owed their being:-\\nOh, they have robbed me of the hope\\nMy spirit held so dear;\\nThey will not let me hear that voice\\nMy soul delights to hear.\\nThey will not let me see that face\\nI so delight to see;\\nAnd they have taken all thy smiles,\\nAnd all thy love from me.\\nWell, let them seize on all they can; -\\nOne treasure still is mine, -\\nA heart that loves to think on thee,\\nAnd feels the worth of thine.\\nYes, at least, they could not deprive me of that: I could think of\\nhim day and night; and I could feel that he was worthy to be\\nthought of. Nobody knew him as I did; nobody could appreciate him\\nas I did; nobody could love him as I--could, if I might: but there\\nwas the evil. What business had I to think so much of one that\\nnever thought of me? Was it not foolish? was it not wrong? Yet,\\nif I found such deep delight in thinking of him, and if I kept\\nthose thoughts to myself, and troubled no one else with them, where\\nwas the harm of it? I would ask myself. And such reasoning\\nprevented me from making any sufficient effort to shake off my\\nfetters.\\nBut, if those thoughts brought delight, it was a painful, troubled\\npleasure, too near akin to anguish; and one that did me more injury\\nthan I was aware of. It was an indulgence that a person of more\\nwisdom or more experience would doubtless have denied herself. And\\nyet, how dreary to turn my eyes from the contemplation of that\\nbright object and force them to dwell on the dull, grey, desolate\\nprospect around: the joyless, hopeless, solitary path that lay\\nbefore me. It was wrong to be so joyless, so desponding; I should\\nhave made God my friend, and to do His will the pleasure and the\\nbusiness of my life; but faith was weak, and passion was too\\nstrong.\\nIn this time of trouble I had two other causes of affliction. The\\nfirst may seem a trifle, but it cost me many a tear: Snap, my\\nlittle dumb, rough-visaged, but bright-eyed, warm-hearted\\ncompanion, the only thing I had to love me, was taken away, and\\ndelivered over to the tender mercies of the village rat-catcher, a\\nman notorious for his brutal treatment of his canine slaves. The\\nother was serious enough; my letters from home gave intimation that\\nmy father\\'s health was worse. No boding fears were expressed, but\\nI was grown timid and despondent, and could not help fearing that\\nsome dreadful calamity awaited us there. I seemed to see the black\\nclouds gathering round my native hills, and to hear the angry\\nmuttering of a storm that was about to burst, and desolate our\\nhearth.\\nCHAPTER XVIII--MIRTH AND MOURNING\\nThe 1st of June arrived at last: and Rosalie Murray was transmuted\\ninto Lady Ashby. Most splendidly beautiful she looked in her\\nbridal costume. Upon her return from church, after the ceremony,\\nshe came flying into the schoolroom, flushed with excitement, and\\nlaughing, half in mirth, and half in reckless desperation, as it\\nseemed to me.\\n\\'Now, Miss Grey, I\\'m Lady Ashby!\\' she exclaimed. \\'It\\'s done, my\\nfate is sealed: there\\'s no drawing back now. I\\'m come to receive\\nyour congratulations and bid you good-by; and then I\\'m off for\\nParis, Rome, Naples, Switzerland, London--oh, dear! what a deal I\\nshall see and hear before I come back again. But don\\'t forget me:\\nI shan\\'t forget you, though I\\'ve been a naughty girl. Come, why\\ndon\\'t you congratulate me?\\'\\n\\'I cannot congratulate you,\\' I replied, \\'till I know whether this\\nchange is really for the better: but I sincerely hope it is; and I\\nwish you true happiness and the best of blessings.\\'\\n\\'Well, good-by, the carriage is waiting, and they\\'re calling me.\\'\\nShe gave me a hasty kiss, and was hurrying away; but, suddenly\\nreturning, embraced me with more affection than I thought her\\ncapable of evincing, and departed with tears in her eyes. Poor\\ngirl! I really loved her then; and forgave her from my heart all\\nthe injury she had done me--and others also: she had not half\\nknown it, I was sure; and I prayed God to pardon her too.\\nDuring the remainder of that day of festal sadness, I was left to\\nmy own devices. Being too much unhinged for any steady occupation,\\nI wandered about with a book in my hand for several hours, more\\nthinking than reading, for I had many things to think about. In\\nthe evening, I made use of my liberty to go and see my old friend\\nNancy once again; to apologize for my long absence (which must have\\nseemed so neglectful and unkind) by telling her how busy I had\\nbeen; and to talk, or read, or work for her, whichever might be\\nmost acceptable, and also, of course, to tell her the news of this\\nimportant day: and perhaps to obtain a little information from her\\nin return, respecting Mr. Weston\\'s expected departure. But of this\\nshe seemed to know nothing, and I hoped, as she did, that it was\\nall a false report. She was very glad to see me; but, happily, her\\neyes were now so nearly well that she was almost independent of my\\nservices. She was deeply interested in the wedding; but while I\\namused her with the details of the festive day, the splendours of\\nthe bridal party and of the bride herself, she often sighed and\\nshook her head, and wished good might come of it; she seemed, like\\nme, to regard it rather as a theme for sorrow than rejoicing. I\\nsat a long time talking to her about that and other things--but no\\none came.\\nShall I confess that I sometimes looked towards the door with a\\nhalf-expectant wish to see it open and give entrance to Mr. Weston,\\nas had happened once before? and that, returning through the lanes\\nand fields, I often paused to look round me, and walked more slowly\\nthan was at all necessary--for, though a fine evening, it was not a\\nhot one--and, finally, felt a sense of emptiness and disappointment\\nat having reached the house without meeting or even catching a\\ndistant glimpse of any one, except a few labourers returning from\\ntheir work?\\nSunday, however, was approaching: I should see him then: for now\\nthat Miss Murray was gone, I could have my old corner again. I\\nshould see him, and by look, speech, and manner, I might judge\\nwhether the circumstance of her marriage had very much afflicted\\nhim. Happily I could perceive no shadow of a difference: he wore\\nthe same aspect as he had worn two months ago--voice, look, manner,\\nall alike unchanged: there was the same keen-sighted, unclouded\\ntruthfulness in his discourse, the same forcible clearness in his\\nstyle, the same earnest simplicity in all he said and did, that\\nmade itself, not marked by the eye and ear, but felt upon the\\nhearts of his audience.\\nI walked home with Miss Matilda; but HE DID NOT JOIN US. Matilda\\nwas now sadly at a loss for amusement, and wofully in want of a\\ncompanion: her brothers at school, her sister married and gone,\\nshe too young to be admitted into society; for which, from\\nRosalie\\'s example, she was in some degree beginning to acquire a\\ntaste--a taste at least for the company of certain classes of\\ngentlemen; at this dull time of year--no hunting going on, no\\nshooting even--for, though she might not join in that, it was\\nSOMETHING to see her father or the gamekeeper go out with the dogs,\\nand to talk with them on their return, about the different birds\\nthey had bagged. Now, also, she was denied the solace which the\\ncompanionship of the coachman, grooms, horses, greyhounds, and\\npointers might have afforded; for her mother having,\\nnotwithstanding the disadvantages of a country life, so\\nsatisfactorily disposed of her elder daughter, the pride of her\\nheart had begun seriously to turn her attention to the younger;\\nand, being truly alarmed at the roughness of her manners, and\\nthinking it high time to work a reform, had been roused at length\\nto exert her authority, and prohibited entirely the yards, stables,\\nkennels, and coach-house. Of course, she was not implicitly\\nobeyed; but, indulgent as she had hitherto been, when once her\\nspirit was roused, her temper was not so gentle as she required\\nthat of her governesses to be, and her will was not to be thwarted\\nwith impunity. After many a scene of contention between mother and\\ndaughter, many a violent outbreak which I was ashamed to witness,\\nin which the father\\'s authority was often called in to confirm with\\noaths and threats the mother\\'s slighted prohibitions--for even HE\\ncould see that \\'Tilly, though she would have made a fine lad, was\\nnot quite what a young lady ought to be\\'--Matilda at length found\\nthat her easiest plan was to keep clear of the forbidden regions;\\nunless she could now and then steal a visit without her watchful\\nmother\\'s knowledge.\\nAmid all this, let it not be imagined that I escaped without many a\\nreprimand, and many an implied reproach, that lost none of its\\nsting from not being openly worded; but rather wounded the more\\ndeeply, because, from that very reason, it seemed to preclude self-\\ndefence. Frequently, I was told to amuse Miss Matilda with other\\nthings, and to remind her of her mother\\'s precepts and\\nprohibitions. I did so to the best of my power: but she would not\\nbe amused against her will, and could not against her taste; and\\nthough I went beyond mere reminding, such gentle remonstrances as I\\ncould use were utterly ineffectual.\\n\\'DEAR Miss Grey! it is the STRANGEST thing. I suppose you can\\'t\\nhelp it, if it\\'s not in your nature--but I WONDER you can\\'t win the\\nconfidence of that girl, and make your society at LEAST as\\nagreeable to her as that of Robert or Joseph!\\'\\n\\'They can talk the best about the things in which she is most\\ninterested,\\' I replied.\\n\\'Well! that is a strange confession, HOWEVER, to come from her\\nGOVERNESS! Who is to form a young lady\\'s tastes, I wonder, if the\\ngoverness doesn\\'t do it? I have known governesses who have so\\ncompletely identified themselves with the reputation of their young\\nladies for elegance and propriety in mind and manners, that they\\nwould blush to speak a word against them; and to hear the slightest\\nblame imputed to their pupils was worse than to be censured in\\ntheir own persons--and I really think it very natural, for my\\npart.\\'\\n\\'Do you, ma\\'am?\\'\\n\\'Yes, of course: the young lady\\'s proficiency and elegance is of\\nmore consequence to the governess than her own, as well as to the\\nworld. If she wishes to prosper in her vocation she must devote\\nall her energies to her business: all her ideas and all her\\nambition will tend to the accomplishment of that one object. When\\nwe wish to decide upon the merits of a governess, we naturally look\\nat the young ladies she professes to have educated, and judge\\naccordingly. The JUDICIOUS governess knows this: she knows that,\\nwhile she lives in obscurity herself, her pupils\\' virtues and\\ndefects will be open to every eye; and that, unless she loses sight\\nof herself in their cultivation, she need not hope for success.\\nYou see, Miss Grey, it is just the same as any other trade or\\nprofession: they that wish to prosper must devote themselves body\\nand soul to their calling; and if they begin to yield to indolence\\nor self-indulgence they are speedily distanced by wiser\\ncompetitors: there is little to choose between a person that ruins\\nher pupils by neglect, and one that corrupts them by her example.\\nYou will excuse my dropping these little hints: you know it is all\\nfor your own good. Many ladies would speak to you much more\\nstrongly; and many would not trouble themselves to speak at all,\\nbut quietly look out for a substitute. That, of course, would be\\nthe EASIEST plan: but I know the advantages of a place like this\\nto a person in your situation; and I have no desire to part with\\nyou, as I am sure you would do very well if you will only think of\\nthese things and try to exert yourself a LITTLE more: then, I am\\nconvinced, you would SOON acquire that delicate tact which alone is\\nwanting to give you a proper influence over the mind of your\\npupil.\\'\\nI was about to give the lady some idea of the fallacy of her\\nexpectations; but she sailed away as soon as she had concluded her\\nspeech. Having said what she wished, it was no part of her plan to\\nawait my answer: it was my business to hear, and not to speak.\\nHowever, as I have said, Matilda at length yielded in some degree\\nto her mother\\'s authority (pity it had not been exerted before);\\nand being thus deprived of almost every source of amusement, there\\nwas nothing for it but to take long rides with the groom and long\\nwalks with the governess, and to visit the cottages and farmhouses\\non her father\\'s estate, to kill time in chatting with the old men\\nand women that inhabited them. In one of these walks, it was our\\nchance to meet Mr. Weston. This was what I had long desired; but\\nnow, for a moment, I wished either he or I were away: I felt my\\nheart throb so violently that I dreaded lest some outward signs of\\nemotion should appear; but I think he hardly glanced at me, and I\\nwas soon calm enough. After a brief salutation to both, he asked\\nMatilda if she had lately heard from her sister.\\n\\'Yes,\\' replied she. \\'She was at Paris when she wrote, and very\\nwell, and very happy.\\'\\nShe spoke the last word emphatically, and with a glance\\nimpertinently sly. He did not seem to notice it, but replied, with\\nequal emphasis, and very seriously -\\n\\'I hope she will continue to be so.\\'\\n\\'Do you think it likely?\\' I ventured to inquire: for Matilda had\\nstarted off in pursuit of her dog, that was chasing a leveret.\\n\\'I cannot tell,\\' replied he. \\'Sir Thomas may be a better man than\\nI suppose; but, from all I have heard and seen, it seems a pity\\nthat one so young and gay, and--and interesting, to express many\\nthings by one word--whose greatest, if not her only fault, appears\\nto be thoughtlessness--no trifling fault to be sure, since it\\nrenders the possessor liable to almost every other, and exposes him\\nto so many temptations--but it seems a pity that she should be\\nthrown away on such a man. It was her mother\\'s wish, I suppose?\\'\\n\\'Yes; and her own too, I think, for she always laughed at my\\nattempts to dissuade her from the step.\\'\\n\\'You did attempt it? Then, at least, you will have the\\nsatisfaction of knowing that it is no fault of yours, if any harm\\nshould come of it. As for Mrs. Murray, I don\\'t know how she can\\njustify her conduct: if I had sufficient acquaintance with her,\\nI\\'d ask her.\\'\\n\\'It seems unnatural: but some people think rank and wealth the\\nchief good; and, if they can secure that for their children, they\\nthink they have done their duty.\\'\\n\\'True: but is it not strange that persons of experience, who have\\nbeen married themselves, should judge so falsely?\\' Matilda now\\ncame panting back, with the lacerated body of the young hare in her\\nhand.\\n\\'Was it your intention to kill that hare, or to save it, Miss\\nMurray?\\' asked Mr. Weston, apparently puzzled at her gleeful\\ncountenance.\\n\\'I pretended to want to save it,\\' she answered, honestly enough,\\n\\'as it was so glaringly out of season; but I was better pleased to\\nsee it lolled. However, you can both witness that I couldn\\'t help\\nit: Prince was determined to have her; and he clutched her by the\\nback, and killed her in a minute! Wasn\\'t it a noble chase?\\'\\n\\'Very! for a young lady after a leveret.\\'\\nThere was a quiet sarcasm in the tone of his reply which was not\\nlost upon her; she shrugged her shoulders, and, turning away with a\\nsignificant \\'Humph!\\' asked me how I had enjoyed the fun. I replied\\nthat I saw no fun in the matter; but admitted that I had not\\nobserved the transaction very narrowly.\\n\\'Didn\\'t you see how it doubled--just like an old hare? and didn\\'t\\nyou hear it scream?\\'\\n\\'I\\'m happy to say I did not.\\'\\n\\'It cried out just like a child.\\'\\n\\'Poor little thing! What will you do with it?\\'\\n\\'Come along--I shall leave it in the first house we come to. I\\ndon\\'t want to take it home, for fear papa should scold me for\\nletting the dog kill it.\\'\\nMr. Weston was now gone, and we too went on our way; but as we\\nreturned, after having deposited the hare in a farm-house, and\\ndemolished some spice-cake and currant-wine in exchange, we met him\\nreturning also from the execution of his mission, whatever it might\\nbe. He carried in his hand a cluster of beautiful bluebells, which\\nhe offered to me; observing, with a smile, that though he had seen\\nso little of me for the last two months, he had not forgotten that\\nbluebells were numbered among my favourite flowers. It was done as\\na simple act of goodwill, without compliment or remarkable\\ncourtesy, or any look that could be construed into \\'reverential,\\ntender adoration\\' (vide Rosalie Murray); but still, it was\\nsomething to find my unimportant saying so well remembered: it was\\nsomething that he had noticed so accurately the time I had ceased\\nto be visible.\\n\\'I was told,\\' said he, \\'that you were a perfect bookworm, Miss\\nGrey: so completely absorbed in your studies that you were lost to\\nevery other pleasure.\\'\\n\\'Yes, and it\\'s quite true!\\' cried Matilda.\\n\\'No, Mr. Weston: don\\'t believe it: it\\'s a scandalous libel.\\nThese young ladies are too fond of making random assertions at the\\nexpense of their friends; and you ought to be careful how you\\nlisten to them.\\'\\n\\'I hope THIS assertion is groundless, at any rate.\\'\\n\\'Why? Do you particularly object to ladies studying?\\'\\n\\'No; but I object to anyone so devoting himself or herself to\\nstudy, as to lose sight of everything else. Except under peculiar\\ncircumstances, I consider very close and constant study as a waste\\nof time, and an injury to the mind as well as the body.\\'\\n\\'Well, I have neither the time nor the inclination for such\\ntransgressions.\\'\\nWe parted again.\\nWell! what is there remarkable in all this? Why have I recorded\\nit? Because, reader, it was important enough to give me a cheerful\\nevening, a night of pleasing dreams, and a morning of felicitous\\nhopes. Shallow-brained cheerfulness, foolish dreams, unfounded\\nhopes, you would say; and I will not venture to deny it:\\nsuspicions to that effect arose too frequently in my own mind. But\\nour wishes are like tinder: the flint and steel of circumstances\\nare continually striking out sparks, which vanish immediately,\\nunless they chance to fall upon the tinder of our wishes; then,\\nthey instantly ignite, and the flame of hope is kindled in a\\nmoment.\\nBut alas! that very morning, my flickering flame of hope was\\ndismally quenched by a letter from my mother, which spoke so\\nseriously of my father\\'s increasing illness, that I feared there\\nwas little or no chance of his recovery; and, close at hand as the\\nholidays were, I almost trembled lest they should come too late for\\nme to meet him in this world. Two days after, a letter from Mary\\ntold me his life was despaired of, and his end seemed fast\\napproaching. Then, immediately, I sought permission to anticipate\\nthe vacation, and go without delay. Mrs. Murray stared, and\\nwondered at the unwonted energy and boldness with which I urged the\\nrequest, and thought there was no occasion to hurry; but finally\\ngave me leave: stating, however, that there was \\'no need to be in\\nsuch agitation about the matter--it might prove a false alarm after\\nall; and if not--why, it was only in the common course of nature:\\nwe must all die some time; and I was not to suppose myself the only\\nafflicted person in the world;\\' and concluding with saying I might\\nhave the phaeton to take me to O-. \\'And instead of REPINING, Miss\\nGrey, be thankful for the PRIVILEGES you enjoy. There\\'s many a\\npoor clergyman whose family would be plunged into ruin by the event\\nof his death; but you, you see, have influential friends ready to\\ncontinue their patronage, and to show you every consideration.\\'\\nI thanked her for her \\'consideration,\\' and flew to my room to make\\nsome hurried preparations for my departure. My bonnet and shawl\\nbeing on, and a few things hastily crammed into my largest trunk, I\\ndescended. But I might have done the work more leisurely, for no\\none else was in a hurry; and I had still a considerable time to\\nwait for the phaeton. At length it came to the door, and I was\\noff: but, oh, what a dreary journey was that! how utterly\\ndifferent from my former passages homewards! Being too late for\\nthe last coach to -, I had to hire a cab for ten miles, and then a\\ncar to take me over the rugged hills.\\nIt was half-past ten before I reached home. They were not in bed.\\nMy mother and sister both met me in the passage--sad--silent--pale!\\nI was so much shocked and terror-stricken that I could not speak,\\nto ask the information I so much longed yet dreaded to obtain.\\n\\'Agnes!\\' said my mother, struggling to repress some strong emotion.\\n\\'Oh, Agnes!\\' cried Mary, and burst into tears.\\n\\'How is he?\\' I asked, gasping for the answer.\\n\\'Dead!\\'\\nIt was the reply I had anticipated: but the shock seemed none the\\nless tremendous.\\nCHAPTER XIX--THE LETTER\\nMy father\\'s mortal remains had been consigned to the tomb; and we,\\nwith sad faces and sombre garments, sat lingering over the frugal\\nbreakfast-table, revolving plans for our future life. My mother\\'s\\nstrong mind had not given way beneath even this affliction: her\\nspirit, though crushed, was not broken. Mary\\'s wish was that I\\nshould go back to Horton Lodge, and that our mother should come and\\nlive with her and Mr. Richardson at the vicarage: she affirmed\\nthat he wished it no less than herself, and that such an\\narrangement could not fail to benefit all parties; for my mother\\'s\\nsociety and experience would be of inestimable value to them, and\\nthey would do all they could to make her happy. But no arguments\\nor entreaties could prevail: my mother was determined not to go.\\nNot that she questioned, for a moment, the kind wishes and\\nintentions of her daughter; but she affirmed that so long as God\\nspared her health and strength, she would make use of them to earn\\nher own livelihood, and be chargeable to no one; whether her\\ndependence would be felt as a burden or not. If she could afford\\nto reside as a lodger in--vicarage, she would choose that house\\nbefore all others as the place of her abode; but not being so\\ncircumstanced, she would never come under its roof, except as an\\noccasional visitor: unless sickness or calamity should render her\\nassistance really needful, or until age or infirmity made her\\nincapable of maintaining herself.\\n\\'No, Mary,\\' said she, \\'if Richardson and you have anything to\\nspare, you must lay it aside for your family; and Agnes and I must\\ngather honey for ourselves. Thanks to my having had daughters to\\neducate, I have not forgotten my accomplishments. God willing, I\\nwill check this vain repining,\\' she said, while the tears coursed\\none another down her cheeks in spite of her efforts; but she wiped\\nthem away, and resolutely shaking back her head, continued, \\'I will\\nexert myself, and look out for a small house, commodiously situated\\nin some populous but healthy district, where we will take a few\\nyoung ladies to board and educate--if we can get them--and as many\\nday pupils as will come, or as we can manage to instruct. Your\\nfather\\'s relations and old friends will be able to send us some\\npupils, or to assist us with their recommendations, no doubt: I\\nshall not apply to my own. What say you to it, Agnes? will you be\\nwilling to leave your present situation and try?\\'\\n\\'Quite willing, mamma; and the money I have saved will do to\\nfurnish the house. It shall be taken from the bank directly.\\'\\n\\'When it is wanted: we must get the house, and settle on\\npreliminaries first.\\'\\nMary offered to lend the little she possessed; but my mother\\ndeclined it, saying that we must begin on an economical plan; and\\nshe hoped that the whole or part of mine, added to what we could\\nget by the sale of the furniture, and what little our dear papa had\\ncontrived to lay aside for her since the debts were paid, would be\\nsufficient to last us till Christmas; when, it was hoped, something\\nwould accrue from our united labours. It was finally settled that\\nthis should be our plan; and that inquiries and preparations should\\nimmediately be set on foot; and while my mother busied herself with\\nthese, I should return to Horton Lodge at the close of my four\\nweeks\\' vacation, and give notice for my final departure when things\\nwere in train for the speedy commencement of our school.\\nWe were discussing these affairs on the morning I have mentioned,\\nabout a fortnight after my father\\'s death, when a letter was\\nbrought in for my mother, on beholding which the colour mounted to\\nher face--lately pale enough with anxious watchings and excessive\\nsorrow. \\'From my father!\\' murmured she, as she hastily tore off\\nthe cover. It was many years since she had heard from any of her\\nown relations before. Naturally wondering what the letter might\\ncontain, I watched her countenance while she read it, and was\\nsomewhat surprised to see her bite her lip and knit her brows as if\\nin anger. When she had done, she somewhat irreverently cast it on\\nthe table, saying with a scornful smile,--\\'Your grandpapa has been\\nso kind as to write to me. He says he has no doubt I have long\\nrepented of my \"unfortunate marriage,\" and if I will only\\nacknowledge this, and confess I was wrong in neglecting his advice,\\nand that I have justly suffered for it, he will make a lady of me\\nonce again--if that be possible after my long degradation--and\\nremember my girls in his will. Get my desk, Agnes, and send these\\nthings away: I will answer the letter directly. But first, as I\\nmay be depriving you both of a legacy, it is just that I should\\ntell you what I mean to say. I shall say that he is mistaken in\\nsupposing that I can regret the birth of my daughters (who have\\nbeen the pride of my life, and are likely to be the comfort of my\\nold age), or the thirty years I have passed in the company of my\\nbest and dearest friend;--that, had our misfortunes been three\\ntimes as great as they were (unless they had been of my bringing\\non), I should still the more rejoice to have shared them with your\\nfather, and administered what consolation I was able; and, had his\\nsufferings in illness been ten times what they wore, I could not\\nregret having watched over and laboured to relieve them;--that, if\\nhe had married a richer wife, misfortunes and trials would no doubt\\nhave come upon him still; while I am egotist enough to imagine that\\nno other woman could have cheered him through them so well: not\\nthat I am superior to the rest, but I was made for him, and he for\\nme; and I can no more repent the hours, days, years of happiness we\\nhave spent together, and which neither could have had without the\\nother, than I can the privilege of having been his nurse in\\nsickness, and his comfort in affliction.\\n\\'Will this do, children?--or shall I say we are all very sorry for\\nwhat has happened during the last thirty years, and my daughters\\nwish they had never been born; but since they have had that\\nmisfortune, they will be thankful for any trifle their grandpapa\\nwill be kind enough to bestow?\\'\\nOf course, we both applauded our mother\\'s resolution; Mary cleared\\naway the breakfast things; I brought the desk; the letter was\\nquickly written and despatched; and, from that day, we heard no\\nmore of our grandfather, till we saw his death announced in the\\nnewspaper a considerable time after--all his worldly possessions,\\nof course, being left to our wealthy unknown cousins.\\nCHAPTER XX--THE FAREWELL\\nA house in A---, the fashionable watering-place, was hired for our\\nseminary; and a promise of two or three pupils was obtained to\\ncommence with. I returned to Horton Lodge about the middle of\\nJuly, leaving my mother to conclude the bargain for the house, to\\nobtain more pupils, to sell off the furniture of our old abode, and\\nto fit out the new one.\\nWe often pity the poor, because they have no leisure to mourn their\\ndeparted relatives, and necessity obliges them to labour through\\ntheir severest afflictions: but is not active employment the best\\nremedy for overwhelming sorrow--the surest antidote for despair?\\nIt may be a rough comforter: it may seem hard to be harassed with\\nthe cares of life when we have no relish for its enjoyments; to be\\ngoaded to labour when the heart is ready to break, and the vexed\\nspirit implores for rest only to weep in silence: but is not\\nlabour better than the rest we covet? and are not those petty,\\ntormenting cares less hurtful than a continual brooding over the\\ngreat affliction that oppresses us? Besides, we cannot have cares,\\nand anxieties, and toil, without hope--if it be but the hope of\\nfulfilling our joyless task, accomplishing some needful project, or\\nescaping some further annoyance. At any rate, I was glad my mother\\nhad so much employment for every faculty of her action-loving\\nframe. Our kind neighbours lamented that she, once so exalted in\\nwealth and station, should be reduced to such extremity in her time\\nof sorrow; but I am persuaded that she would have suffered thrice\\nas much had she been left in affluence, with liberty to remain in\\nthat house, the scene of her early happiness and late affliction,\\nand no stern necessity to prevent her from incessantly brooding\\nover and lamenting her bereavement.\\nI will not dilate upon the feelings with which I left the old\\nhouse, the well-known garden, the little village church--then\\ndoubly dear to me, because my father, who, for thirty years, had\\ntaught and prayed within its walls, lay slumbering now beneath its\\nflags--and the old bare hills, delightful in their very desolation,\\nwith the narrow vales between, smiling in green wood and sparkling\\nwater--the house where I was born, the scene of all my early\\nassociations, the place where throughout life my earthly affections\\nhad been centred;--and left them to return no more! True, I was\\ngoing back to Horton Lodge, where, amid many evils, one source of\\npleasure yet remained: but it was pleasure mingled with excessive\\npain; and my stay, alas! was limited to six weeks. And even of\\nthat precious time, day after day slipped by and I did not see him:\\nexcept at church, I never saw him for a fortnight after my return.\\nIt seemed a long time to me: and, as I was often out with my\\nrambling pupil, of course hopes would keep rising, and\\ndisappointments would ensue; and then, I would say to my own heart,\\n\\'Here is a convincing proof--if you would but have the sense to see\\nit, or the candour to acknowledge it--that he does not care for\\nyou. If he only thought HALF as much about you as you do about\\nhim, he would have contrived to meet you many times ere this: you\\nmust know that, by consulting your own feelings. Therefore, have\\ndone with this nonsense: you have no ground for hope: dismiss, at\\nonce, these hurtful thoughts and foolish wishes from your mind, and\\nturn to your own duty, and the dull blank life that lies before\\nyou. You might have known such happiness was not for you.\\'\\nBut I saw him at last. He came suddenly upon me as I was crossing\\na field in returning from a visit to Nancy Brown, which I had taken\\nthe opportunity of paying while Matilda Murray was riding her\\nmatchless mare. He must have heard of the heavy loss I had\\nsustained: he expressed no sympathy, offered no condolence: but\\nalmost the first words he uttered were,--\\'How is your mother?\\' And\\nthis was no matter-of-course question, for I never told him that I\\nhad a mother: he must have learned the fact from others, if he\\nknew it at all; and, besides, there was sincere goodwill, and even\\ndeep, touching, unobtrusive sympathy in the tone and manner of the\\ninquiry. I thanked him with due civility, and told him she was as\\nwell as could be expected. \\'What will she do?\\' was the next\\nquestion. Many would have deemed it an impertinent one, and given\\nan evasive reply; but such an idea never entered my head, and I\\ngave a brief but plain statement of my mother\\'s plans and\\nprospects.\\n\\'Then you will leave this place shortly?\\' said he.\\n\\'Yes, in a month.\\'\\nHe paused a minute, as if in thought. When he spoke again, I hoped\\nit would be to express his concern at my departure; but it was only\\nto say,--\\'I should think you will be willing enough to go?\\'\\n\\'Yes--for some things,\\' I replied.\\n\\'For SOME things only--I wonder what should make you regret it?\\'\\nI was annoyed at this in some degree; because it embarrassed me: I\\nhad only one reason for regretting it; and that was a profound\\nsecret, which he had no business to trouble me about.\\n\\'Why,\\' said I--\\'why should you suppose that I dislike the place?\\'\\n\\'You told me so yourself,\\' was the decisive reply. \\'You said, at\\nleast, that you could not live contentedly, without a friend; and\\nthat you had no friend here, and no possibility of making one--and,\\nbesides, I know you MUST dislike it.\\'\\n\\'But if you remember rightly, I said, or meant to say, I could not\\nlive contentedly without a friend in the world: I was not so\\nunreasonable as to require one always near me. I think I could be\\nhappy in a house full of enemies, if--\\' but no; that sentence must\\nnot be continued--I paused, and hastily added,--\\'And, besides, we\\ncannot well leave a place where we have lived for two or three\\nyears, without some feeling of regret.\\'\\n\\'Will you regret to part with Miss Murray, your sole remaining\\npupil and companion?\\'\\n\\'I dare say I shall in some degree: it was not without sorrow I\\nparted with her sister.\\'\\n\\'I can imagine that.\\'\\n\\'Well, Miss Matilda is quite as good--better in one respect.\\'\\n\\'What is that?\\'\\n\\'She\\'s honest.\\'\\n\\'And the other is not?\\'\\n\\'I should not call her DIShonest; but it must be confessed she\\'s a\\nlittle artful.\\'\\n\\'ARTFUL is she?--I saw she was giddy and vain--and now,\\' he added,\\nafter a pause, \\'I can well believe she was artful too; but so\\nexcessively so as to assume an aspect of extreme simplicity and\\nunguarded openness. Yes,\\' continued he, musingly, \\'that accounts\\nfor some little things that puzzled me a trifle before.\\'\\nAfter that, he turned the conversation to more general subjects.\\nHe did not leave me till we had nearly reached the park-gates: he\\nhad certainly stepped a little out of his way to accompany me so\\nfar, for he now went back and disappeared down Moss Lane, the\\nentrance of which we had passed some time before. Assuredly I did\\nnot regret this circumstance: if sorrow had any place in my heart,\\nit was that he was gone at last--that he was no longer walking by\\nmy side, and that that short interval of delightful intercourse was\\nat an end. He had not breathed a word of love, or dropped one hint\\nof tenderness or affection, and yet I had been supremely happy. To\\nbe near him, to hear him talk as he did talk, and to feel that he\\nthought me worthy to be so spoken to--capable of understanding and\\nduly appreciating such discourse--was enough.\\n\\'Yes, Edward Weston, I could indeed be happy in a house full of\\nenemies, if I had but one friend, who truly, deeply, and faithfully\\nloved me; and if that friend were you--though we might be far\\napart--seldom to hear from each other, still more seldom to meet--\\nthough toil, and trouble, and vexation might surround me, still--it\\nwould be too much happiness for me to dream of! Yet who can tell,\\'\\nsaid I within myself, as I proceeded up the park,--\\'who can tell\\nwhat this one month may bring forth? I have lived nearly three-\\nand-twenty years, and I have suffered much, and tasted little\\npleasure yet; is it likely my life all through will be so clouded?\\nIs it not possible that God may hear my prayers, disperse these\\ngloomy shadows, and grant me some beams of heaven\\'s sunshine yet?\\nWill He entirely deny to me those blessings which are so freely\\ngiven to others, who neither ask them nor acknowledge them when\\nreceived? May I not still hope and trust? I did hope and trust\\nfor a while: but, alas, alas! the time ebbed away: one week\\nfollowed another, and, excepting one distant glimpse and two\\ntransient meetings--during which scarcely anything was said--while\\nI was walking with Miss Matilda, I saw nothing of him: except, of\\ncourse, at church.\\nAnd now, the last Sunday was come, and the last service. I was\\noften on the point of melting into tears during the sermon--the\\nlast I was to hear from him: the best I should hear from anyone, I\\nwas well assured. It was over--the congregation were departing;\\nand I must follow. I had then seen him, and heard his voice, too,\\nprobably for the last time. In the churchyard, Matilda was pounced\\nupon by the two Misses Green. They had many inquiries to make\\nabout her sister, and I know not what besides. I only wished they\\nwould have done, that we might hasten back to Horton Lodge: I\\nlonged to seek the retirement of my own room, or some sequestered\\nnook in the grounds, that I might deliver myself up to my feelings-\\n-to weep my last farewell, and lament my false hopes and vain\\ndelusions. Only this once, and then adieu to fruitless dreaming--\\nthenceforth, only sober, solid, sad reality should occupy my mind.\\nBut while I thus resolved, a low voice close beside me said--\\'I\\nsuppose you are going this week, Miss Grey?\\' \\'Yes,\\' I replied. I\\nwas very much startled; and had I been at all hysterically\\ninclined, I certainly should have committed myself in some way\\nthen. Thank God, I was not.\\n\\'Well,\\' said Mr. Weston, \\'I want to bid you good-bye--it is not\\nlikely I shall see you again before you go.\\'\\n\\'Good-bye, Mr. Weston,\\' I said. Oh, how I struggled to say it\\ncalmly! I gave him my hand. He retained it a few seconds in his.\\n\\'It is possible we may meet again,\\' said he; \\'will it be of any\\nconsequence to you whether we do or not?\\'\\n\\'Yes, I should be very glad to see you again.\\'\\nI COULD say no less. He kindly pressed my hand, and went. Now, I\\nwas happy again--though more inclined to burst into tears than\\never. If I had been forced to speak at that moment, a succession\\nof sobs would have inevitably ensued; and as it was, I could not\\nkeep the water out of my eyes. I walked along with Miss Murray,\\nturning aside my face, and neglecting to notice several successive\\nremarks, till she bawled out that I was either deaf or stupid; and\\nthen (having recovered my self-possession), as one awakened from a\\nfit of abstraction, I suddenly looked up and asked what she had\\nbeen saying.\\nCHAPTER XXI--THE SCHOOL\\nI left Horton Lodge, and went to join my mother in our new abode at\\nA-. I found her well in health, resigned in spirit, and even\\ncheerful, though subdued and sober, in her general demeanour. We\\nhad only three boarders and half a dozen day-pupils to commence\\nwith; but by due care and diligence we hoped ere long to increase\\nthe number of both.\\nI set myself with befitting energy to discharge the duties of this\\nnew mode of life. I call it NEW, for there was, indeed, a\\nconsiderable difference between working with my mother in a school\\nof our own, and working as a hireling among strangers, despised and\\ntrampled upon by old and young; and for the first few weeks I was\\nby no means unhappy. \\'It is possible we may meet again,\\' and \\'will\\nit be of any consequence to you whether we do or not?\\'--Those words\\nstill rang in my ear and rested on my heart: they were my secret\\nsolace and support. \\'I shall see him again.--He will come; or he\\nwill write.\\' No promise, in fact, was too bright or too\\nextravagant for Hope to whisper in my ear. I did not believe half\\nof what she told me: I pretended to laugh at it all; but I was far\\nmore credulous than I myself supposed; otherwise, why did my heart\\nleap up when a knock was heard at the front door, and the maid, who\\nopened it, came to tell my mother a gentleman wished to see her?\\nand why was I out of humour for the rest of the day, because it\\nproved to be a music-master come to offer his services to our\\nschool? and what stopped my breath for a moment, when the postman\\nhaving brought a couple of letters, my mother said, \\'Here, Agnes,\\nthis is for you,\\' and threw one of them to me? and what made the\\nhot blood rush into my face when I saw it was directed in a\\ngentleman\\'s hand? and why--oh! why did that cold, sickening sense\\nof disappointment fall upon me, when I had torn open the cover and\\nfound it was ONLY a letter from Mary, which, for some reason or\\nother, her husband had directed for her?\\nWas it then come to this--that I should be DISAPPOINTED to receive\\na letter from my only sister: and because it was not written by a\\ncomparative stranger? Dear Mary! and she had written it so kindly-\\n-and thinking I should be so pleased to have it!--I was not worthy\\nto read it! And I believe, in my indignation against myself, I\\nshould have put it aside till I had schooled myself into a better\\nframe of mind, and was become more deserving of the honour and\\nprivilege of its perusal: but there was my mother looking on, and\\nwishful to know what news it contained; so I read it and delivered\\nit to her, and then went into the schoolroom to attend to the\\npupils: but amidst the cares of copies and sums--in the intervals\\nof correcting errors here, and reproving derelictions of duty\\nthere, I was inwardly taking myself to task with far sterner\\nseverity. \\'What a fool you must be,\\' said my head to my heart, or\\nmy sterner to my softer self;--\\'how could you ever dream that he\\nwould write to you? What grounds have you for such a hope--or that\\nhe will see you, or give himself any trouble about you--or even\\nthink of you again?\\' \\'What grounds?\\'--and then Hope set before me\\nthat last, short interview, and repeated the words I had so\\nfaithfully treasured in my memory. \\'Well, and what was there in\\nthat?--Who ever hung his hopes upon so frail a twig? What was\\nthere in those words that any common acquaintance might not say to\\nanother? Of course, it was possible you might meet again: he\\nmight have said so if you had been going to New Zealand; but that\\ndid not imply any INTENTION of seeing you--and then, as to the\\nquestion that followed, anyone might ask that: and how did you\\nanswer?--Merely with a stupid, commonplace reply, such as you would\\nhave given to Master Murray, or anyone else you had been on\\ntolerably civil terms with.\\' \\'But, then,\\' persisted Hope, \\'the\\ntone and manner in which he spoke.\\' \\'Oh, that is nonsense! he\\nalways speaks impressively; and at that moment there were the\\nGreens and Miss Matilda Murray just before, and other people\\npassing by, and he was obliged to stand close beside you, and to\\nspeak very low, unless he wished everybody to hear what he said,\\nwhich--though it was nothing at all particular--of course, he would\\nrather not.\\' But then, above all, that emphatic, yet gentle\\npressure of the hand, which seemed to say, \\'TRUST me;\\' and many\\nother things besides--too delightful, almost too flattering, to be\\nrepeated even to one\\'s self. \\'Egregious folly--too absurd to\\nrequire contradiction--mere inventions of the imagination, which\\nyou ought to be ashamed of. If you would but consider your own\\nunattractive exterior, your unamiable reserve, your foolish\\ndiffidence--which must make you appear cold, dull, awkward, and\\nperhaps ill-tempered too;--if you had but rightly considered these\\nfrom the beginning, you would never have harboured such\\npresumptuous thoughts: and now that you have been so foolish, pray\\nrepent and amend, and let us have no more of it!\\'\\nI cannot say that I implicitly obeyed my own injunctions: but such\\nreasoning as this became more and more effective as time wore on,\\nand nothing was seen or heard of Mr. Weston; until, at last, I gave\\nup hoping, for even my heart acknowledged it was all in vain. But\\nstill, I would think of him: I would cherish his image in my mind;\\nand treasure every word, look, and gesture that my memory could\\nretain; and brood over his excellences and his peculiarities, and,\\nin fact, all I had seen, heard, or imagined respecting him.\\n\\'Agnes, this sea air and change of scene do you no good, I think:\\nI never saw you look so wretched. It must be that you sit too\\nmuch, and allow the cares of the schoolroom to worry you. You must\\nlearn to take things easy, and to be more active and cheerful; you\\nmust take exercise whenever you can get it, and leave the most\\ntiresome duties to me: they will only serve to exercise my\\npatience, and, perhaps, try my temper a little.\\'\\nSo said my mother, as we sat at work one morning during the Easter\\nholidays. I assured her that my employments were not at all\\noppressive; that I was well; or, if there was anything amiss, it\\nwould be gone as soon as the trying months of spring were over:\\nwhen summer came I should be as strong and hearty as she could wish\\nto see me: but inwardly her observation startled me. I knew my\\nstrength was declining, my appetite had failed, and I was grown\\nlistless and desponding;--and if, indeed, he could never care for\\nme, and I could never see him more--if I was forbidden to minister\\nto his happiness--forbidden, for ever, to taste the joys of love,\\nto bless, and to be blessed--then, life must be a burden, and if my\\nheavenly Father would call me away, I should be glad to rest. But\\nit would not do to die and leave my mother. Selfish, unworthy\\ndaughter, to forget her for a moment! Was not her happiness\\ncommitted in a great measure to my charge?--and the welfare of our\\nyoung pupils too? Should I shrink from the work that God had set\\nbefore me, because it was not fitted to my taste? Did not He know\\nbest what I should do, and where I ought to labour?--and should I\\nlong to quit His service before I had finished my task, and expect\\nto enter into His rest without having laboured to earn it? \\'No; by\\nHis help I will arise and address myself diligently to my appointed\\nduty. If happiness in this world is not for me, I will endeavour\\nto promote the welfare of those around me, and my reward shall be\\nhereafter.\\' So said I in my heart; and from that hour I only\\npermitted my thoughts to wander to Edward Weston--or at least to\\ndwell upon him now and then--as a treat for rare occasions: and,\\nwhether it was really the approach of summer or the effect of these\\ngood resolutions, or the lapse of time, or all together,\\ntranquillity of mind was soon restored; and bodily health and\\nvigour began likewise, slowly, but surely, to return.\\nEarly in June, I received a letter from Lady Ashby, late Miss\\nMurray. She had written to me twice or thrice before, from the\\ndifferent stages of her bridal tour, always in good spirits, and\\nprofessing to be very happy. I wondered every time that she had\\nnot forgotten me, in the midst of so much gaiety and variety of\\nscene. At length, however, there was a pause; and it seemed she\\nhad forgotten me, for upwards of seven months passed away and no\\nletter. Of course, I did not break my heart about THAT, though I\\noften wondered how she was getting on; and when this last epistle\\nso unexpectedly arrived, I was glad enough to receive it. It was\\ndated from Ashby Park, where she was come to settle down at last,\\nhaving previously divided her time between the continent and the\\nmetropolis. She made many apologies for having neglected me so\\nlong, assured me she had not forgotten me, and had often intended\\nto write, &c. &c., but had always been prevented by something. She\\nacknowledged that she had been leading a very dissipated life, and\\nI should think her very wicked and very thoughtless; but,\\nnotwithstanding that, she thought a great deal, and, among other\\nthings, that she should vastly like to see me. \\'We have been\\nseveral days here already,\\' wrote she. \\'We have not a single\\nfriend with us, and are likely to be very dull. You know I never\\nhad a fancy for living with my husband like two turtles in a nest,\\nwere he the most delightful creature that ever wore a coat; so do\\ntake pity upon me and come. I suppose your Midsummer holidays\\ncommence in June, the same as other people\\'s; therefore you cannot\\nplead want of time; and you must and shall come--in fact, I shall\\ndie if you don\\'t. I want you to visit me as a friend, and stay a\\nlong time. There is nobody with me, as I told you before, but Sir\\nThomas and old Lady Ashby: but you needn\\'t mind them--they\\'ll\\ntrouble us but little with their company. And you shall have a\\nroom to yourself, whenever you like to retire to it, and plenty of\\nbooks to read when my company is not sufficiently amusing. I\\nforget whether you like babies; if you do, you may have the\\npleasure of seeing mine--the most charming child in the world, no\\ndoubt; and all the more so, that I am not troubled with nursing it-\\n-I was determined I wouldn\\'t be bothered with that. Unfortunately,\\nit is a girl, and Sir Thomas has never forgiven me: but, however,\\nif you will only come, I promise you shall be its governess as soon\\nas it can speak; and you shall bring it up in the way it should go,\\nand make a better woman of it than its mamma. And you shall see my\\npoodle, too: a splendid little charmer imported from Paris: and\\ntwo fine Italian paintings of great value--I forget the artist.\\nDoubtless you will be able to discover prodigious beauties in them,\\nwhich you must point out to me, as I only admire by hearsay; and\\nmany elegant curiosities besides, which I purchased at Rome and\\nelsewhere; and, finally, you shall see my new home--the splendid\\nhouse and grounds I used to covet so greatly. Alas! how far the\\npromise of anticipation exceeds the pleasure of possession!\\nThere\\'s a fine sentiment! I assure you I am become quite a grave\\nold matron: pray come, if it be only to witness the wonderful\\nchange. Write by return of post, and tell me when your vacation\\ncommences, and say that you will come the day after, and stay till\\nthe day before it closes--in mercy to\\n\\'Yours affectionately,\\n\\'ROSALIE ASHBY.\\'\\nI showed this strange epistle to my mother, and consulted her on\\nwhat I ought to do. She advised me to go; and I went--willing\\nenough to see Lady Ashby, and her baby, too, and to do anything I\\ncould to benefit her, by consolation or advice; for I imagined she\\nmust be unhappy, or she would not have applied to me thus--but\\nfeeling, as may readily be conceived, that, in accepting the\\ninvitation, I made a great sacrifice for her, and did violence to\\nmy feelings in many ways, instead of being delighted with the\\nhonourable distinction of being entreated by the baronet\\'s lady to\\nvisit her as a friend. However, I determined my visit should be\\nonly for a few days at most; and I will not deny that I derived\\nsome consolation from the idea that, as Ashby Park was not very far\\nfrom Horton, I might possibly see Mr. Weston, or, at least, hear\\nsomething about him.\\nCHAPTER XXII--THE VISIT\\nAshby Park was certainly a very delightful residence. The mansion\\nwas stately without, commodious and elegant within; the park was\\nspacious and beautiful, chiefly on account of its magnificent old\\ntrees, its stately herds of deer, its broad sheet of water, and the\\nancient woods that stretched beyond it: for there was no broken\\nground to give variety to the landscape, and but very little of\\nthat undulating swell which adds so greatly to the charm of park\\nscenery. And so, this was the place Rosalie Murray had so longed\\nto call her own, that she must have a share of it, on whatever\\nterms it might be offered--whatever price was to be paid for the\\ntitle of mistress, and whoever was to be her partner in the honour\\nand bliss of such a possession! Well I am not disposed to censure\\nher now.\\nShe received me very kindly; and, though I was a poor clergyman\\'s\\ndaughter, a governess, and a schoolmistress, she welcomed me with\\nunaffected pleasure to her home; and--what surprised me rather--\\ntook some pains to make my visit agreeable. I could see, it is\\ntrue, that she expected me to be greatly struck with the\\nmagnificence that surrounded her; and, I confess, I was rather\\nannoyed at her evident efforts to reassure me, and prevent me from\\nbeing overwhelmed by so much grandeur--too much awed at the idea of\\nencountering her husband and mother-in-law, or too much ashamed of\\nmy own humble appearance. I was not ashamed of it at all; for,\\nthough plain, I had taken good care not to shabby or mean, and\\nshould have been pretty considerably at my ease, if my\\ncondescending hostess had not taken such manifest pains to make me\\nso; and, as for the magnificence that surrounded her, nothing that\\nmet my eyes struck me or affected me half so much as her own\\naltered appearance. Whether from the influence of fashionable\\ndissipation, or some other evil, a space of little more than twelve\\nmonths had had the effect that might be expected from as many\\nyears, in reducing the plumpness of her form, the freshness of her\\ncomplexion, the vivacity of her movements, and the exuberance of\\nher spirits.\\nI wished to know if she was unhappy; but I felt it was not my\\nprovince to inquire: I might endeavour to win her confidence; but,\\nif she chose to conceal her matrimonial cares from me, I would\\ntrouble her with no obtrusive questions. I, therefore, at first,\\nconfined myself to a few general inquiries about her health and\\nwelfare, and a few commendations on the beauty of the park, and of\\nthe little girl that should have been a boy: a small delicate\\ninfant of seven or eight weeks old, whom its mother seemed to\\nregard with no remarkable degree of interest or affection, though\\nfull as much as I expected her to show.\\nShortly after my arrival, she commissioned her maid to conduct me\\nto my room and see that I had everything I wanted; it was a small,\\nunpretending, but sufficiently comfortable apartment. When I\\ndescended thence--having divested myself of all travelling\\nencumbrances, and arranged my toilet with due consideration for the\\nfeelings of my lady hostess, she conducted me herself to the room I\\nwas to occupy when I chose to be alone, or when she was engaged\\nwith visitors, or obliged to be with her mother-in-law, or\\notherwise prevented, as she said, from enjoying the pleasure of my\\nsociety. It was a quiet, tidy little sitting-room; and I was not\\nsorry to be provided with such a harbour of refuge.\\n\\'And some time,\\' said she, \\'I will show you the library: I never\\nexamined its shelves, but, I daresay, it is full of wise books; and\\nyou may go and burrow among them whenever you please. And now you\\nshall have some tea--it will soon be dinner-time, but I thought, as\\nyou were accustomed to dine at one, you would perhaps like better\\nto have a cup of tea about this time, and to dine when we lunch:\\nand then, you know, you can have your tea in this room, and that\\nwill save you from having to dine with Lady Ashby and Sir Thomas:\\nwhich would be rather awkward--at least, not awkward, but rather--\\na--you know what I mean. I thought you mightn\\'t like it so well--\\nespecially as we may have other ladies and gentlemen to dine with\\nus occasionally.\\'\\n\\'Certainly,\\' said I, \\'I would much rather have it as you say, and,\\nif you have no objection, I should prefer having all my meals in\\nthis room.\\'\\n\\'Why so?\\'\\n\\'Because, I imagine, it would be more agreeable to Lady Ashby and\\nSir Thomas.\\'\\n\\'Nothing of the kind.\\'\\n\\'At any rate it would be more agreeable to me.\\'\\nShe made some faint objections, but soon conceded; and I could see\\nthat the proposal was a considerable relief to her.\\n\\'Now, come into the drawing-room,\\' said she. \\'There\\'s the dressing\\nbell; but I won\\'t go yet: it\\'s no use dressing when there\\'s no one\\nto see you; and I want to have a little discourse.\\'\\nThe drawing-room was certainly an imposing apartment, and very\\nelegantly furnished; but I saw its young mistress glance towards me\\nas we entered, as if to notice how I was impressed by the\\nspectacle, and accordingly I determined to preserve an aspect of\\nstony indifference, as if I saw nothing at all remarkable. But\\nthis was only for a moment: immediately conscience whispered, \\'Why\\nshould I disappoint her to save my pride? No--rather let me\\nsacrifice my pride to give her a little innocent gratification.\\'\\nAnd I honestly looked round, and told her it was a noble room, and\\nvery tastefully furnished. She said little, but I saw she was\\npleased.\\nShe showed me her fat French poodle, that lay curled up on a silk\\ncushion, and the two fine Italian paintings: which, however, she\\nwould not give me time to examine, but, saying I must look at them\\nsome other day, insisted upon my admiring the little jewelled watch\\nshe had purchased in Geneva; and then she took me round the room to\\npoint out sundry articles of vertu she had brought from Italy: an\\nelegant little timepiece, and several busts, small graceful\\nfigures, and vases, all beautifully carved in white marble. She\\nspoke of these with animation, and heard my admiring comments with\\na smile of pleasure: that soon, however, vanished, and was\\nfollowed by a melancholy sigh; as if in consideration of the\\ninsufficiency of all such baubles to the happiness of the human\\nheart, and their woeful inability to supply its insatiate demands.\\nThen, stretching herself upon a couch, she motioned me to a\\ncapacious easy-chair that stood opposite--not before the fire, but\\nbefore a wide open window; for it was summer, be it remembered; a\\nsweet, warm evening in the latter half of June. I sat for a moment\\nin silence, enjoying the still, pure air, and the delightful\\nprospect of the park that lay before me, rich in verdure and\\nfoliage, and basking in yellow sunshine, relieved by the long\\nshadows of declining day. But I must take advantage of this pause:\\nI had inquiries to make, and, like the substance of a lady\\'s\\npostscript, the most important must come last. So I began with\\nasking after Mr. and Mrs. Murray, and Miss Matilda and the young\\ngentlemen.\\nI was told that papa had the gout, which made him very ferocious;\\nand that he would not give up his choice wines, and his substantial\\ndinners and suppers, and had quarrelled with his physician, because\\nthe latter had dared to say that no medicine could cure him while\\nhe lived so freely; that mamma and the rest were well. Matilda was\\nstill wild and reckless, but she had got a fashionable governess,\\nand was considerably improved in her manners, and soon to be\\nintroduced to the world; and John and Charles (now at home for the\\nholidays) were, by all accounts, \\'fine, bold, unruly, mischievous\\nboys.\\'\\n\\'And how are the other people getting on?\\' said I--\\'the Greens, for\\ninstance?\\'\\n\\'Ah! Mr. Green is heart-broken, you know,\\' replied she, with a\\nlanguid smile: \\'he hasn\\'t got over his disappointment yet, and\\nnever will, I suppose. He\\'s doomed to be an old bachelor; and his\\nsisters are doing their best to get married.\\'\\n\\'And the Melthams?\\'\\n\\'Oh, they\\'re jogging on as usual, I suppose: but I know very\\nlittle about any of them--except Harry,\\' said she, blushing\\nslightly, and smiling again. \\'I saw a great deal of him while we\\nwere in London; for, as soon as he heard we were there, he came up\\nunder pretence of visiting his brother, and either followed me,\\nlike a shadow, wherever I went, or met me, like a reflection, at\\nevery turn. You needn\\'t look so shocked, Miss Grey; I was very\\ndiscreet, I assure you, but, you know, one can\\'t help being\\nadmired. Poor fellow! He was not my only worshipper; though he\\nwas certainly the most conspicuous, and, I think, the most devoted\\namong them all. And that detestable--ahem--and Sir Thomas chose to\\ntake offence at him--or my profuse expenditure, or something--I\\ndon\\'t exactly know what--and hurried me down to the country at a\\nmoment\\'s notice; where I\\'m to play the hermit, I suppose, for\\nlife.\\'\\nAnd she bit her lip, and frowned vindictively upon the fair domain\\nshe had once so coveted to call her own.\\n\\'And Mr. Hatfield,\\' said I, \\'what is become of him?\\'\\nAgain she brightened up, and answered gaily--\\'Oh! he made up to an\\nelderly spinster, and married her, not long since; weighing her\\nheavy purse against her faded charms, and expecting to find that\\nsolace in gold which was denied him in love--ha, ha!\\'\\n\\'Well, and I think that\\'s all--except Mr. Weston: what is he\\ndoing?\\'\\n\\'I don\\'t know, I\\'m sure. He\\'s gone from Horton.\\'\\n\\'How long since? and where is he gone to?\\'\\n\\'I know nothing about him,\\' replied she, yawning--\\'except that he\\nwent about a month ago--I never asked where\\' (I would have asked\\nwhether it was to a living or merely another curacy, but thought it\\nbetter not); \\'and the people made a great rout about his leaving,\\'\\ncontinued she, \\'much to Mr. Hatfield\\'s displeasure; for Hatfield\\ndidn\\'t like him, because he had too much influence with the common\\npeople, and because he was not sufficiently tractable and\\nsubmissive to him--and for some other unpardonable sins, I don\\'t\\nknow what. But now I positively must go and dress: the second\\nbell will ring directly, and if I come to dinner in this guise, I\\nshall never hear the end of it from Lady Ashby. It\\'s a strange\\nthing one can\\'t be mistress in one\\'s own house! Just ring the\\nbell, and I\\'ll send for my maid, and tell them to get you some tea.\\nOnly think of that intolerable woman--\\'\\n\\'Who--your maid?\\'\\n\\'No;--my mother-in-law--and my unfortunate mistake! Instead of\\nletting her take herself off to some other house, as she offered to\\ndo when I married, I was fool enough to ask her to live here still,\\nand direct the affairs of the house for me; because, in the first\\nplace, I hoped we should spend the greater part of the year, in\\ntown, and in the second place, being so young and inexperienced, I\\nwas frightened at the idea of having a houseful of servants to\\nmanage, and dinners to order, and parties to entertain, and all the\\nrest of it, and I thought she might assist me with her experience;\\nnever dreaming she would prove a usurper, a tyrant, an incubus, a\\nspy, and everything else that\\'s detestable. I wish she was dead!\\'\\nShe then turned to give her orders to the footman, who had been\\nstanding bolt upright within the door for the last half minute, and\\nhad heard the latter part of her animadversions; and, of course,\\nmade his own reflections upon them, notwithstanding the inflexible,\\nwooden countenance he thought proper to preserve in the drawing-\\nroom. On my remarking afterwards that he must have heard her, she\\nreplied--\\'Oh, no matter! I never care about the footmen; they\\'re\\nmere automatons: it\\'s nothing to them what their superiors say or\\ndo; they won\\'t dare to repeat it; and as to what they think--if\\nthey presume to think at all--of course, nobody cares for that. It\\nwould be a pretty thing indeed, it we were to be tongue-tied by our\\nservants!\\'\\nSo saying, she ran off to make her hasty toilet, leaving me to\\npilot my way back to my sitting-room, where, in due time, I was\\nserved with a cup of tea. After that, I sat musing on Lady Ashby\\'s\\npast and present condition; and on what little information I had\\nobtained respecting Mr. Weston, and the small chance there was of\\never seeing or hearing anything more of him throughout my quiet,\\ndrab-colour life: which, henceforth, seemed to offer no\\nalternative between positive rainy days, and days of dull grey\\nclouds without downfall. At length, however, I began to weary of\\nmy thoughts, and to wish I knew where to find the library my\\nhostess had spoken of; and to wonder whether I was to remain there\\ndoing nothing till bed-time.\\nAs I was not rich enough to possess a watch, I could not tell how\\ntime was passing, except by observing the slowly lengthening\\nshadows from the window; which presented a side view, including a\\ncorner of the park, a clump of trees whose topmost branches had\\nbeen colonized by an innumerable company of noisy rooks, and a high\\nwall with a massive wooden gate: no doubt communicating with the\\nstable-yard, as a broad carriage-road swept up to it from the park.\\nThe shadow of this wall soon took posession of the whole of the\\nground as far as I could see, forcing the golden sunlight to\\nretreat inch by inch, and at last take refuge in the very tops of\\nthe trees. Ere long, even they were left in shadow--the shadow of\\nthe distant hills, or of the earth itself; and, in sympathy for the\\nbusy citizens of the rookery, I regretted to see their habitation,\\nso lately bathed in glorious light, reduced to the sombre, work-a-\\nday hue of the lower world, or of my own world within. For a\\nmoment, such birds as soared above the rest might still receive the\\nlustre on their wings, which imparted to their sable plumage the\\nhue and brilliance of deep red gold; at last, that too departed.\\nTwilight came stealing on; the rooks became more quiet; I became\\nmore weary, and wished I were going home to-morrow. At length it\\ngrew dark; and I was thinking of ringing for a candle, and betaking\\nmyself to bed, when my hostess appeared, with many apologies for\\nhaving neglected me so long, and laying all the blame upon that\\n\\'nasty old woman,\\' as she called her mother-in-law.\\n\\'If I didn\\'t sit with her in the drawing-room while Sir Thomas is\\ntaking his wine,\\' said she, \\'she would never forgive me; and then,\\nif I leave the room the instant he comes--as I have done once or\\ntwice--it is an unpardonable offence against her dear Thomas. SHE\\nnever showed such disrespect to HER husband: and as for affection,\\nwives never think of that now-a-days, she supposes: but things\\nwere different in HER time--as if there was any good to be done by\\nstaying in the room, when he does nothing but grumble and scold\\nwhen he\\'s in a bad humour, talk disgusting nonsense when he\\'s in a\\ngood one, and go to sleep on the sofa when he\\'s too stupid for\\neither; which is most frequently the case now, when he has nothing\\nto do but to sot over his wine.\\'\\n\\'But could you not try to occupy his mind with something better;\\nand engage him to give up such habits? I\\'m sure you have powers of\\npersuasion, and qualifications for amusing a gentleman, which many\\nladies would be glad to possess.\\'\\n\\'And so you think I would lay myself out for his amusement! No:\\nthat\\'s not MY idea of a wife. It\\'s the husband\\'s part to please\\nthe wife, not hers to please him; and if he isn\\'t satisfied with\\nher as she is--and thankful to possess her too--he isn\\'t worthy of\\nher, that\\'s all. And as for persuasion, I assure you I shan\\'t\\ntrouble myself with that: I\\'ve enough to do to bear with him as he\\nis, without attempting to work a reform. But I\\'m sorry I left you\\nso long alone, Miss Grey. How have you passed the time?\\'\\n\\'Chiefly in watching the rooks.\\'\\n\\'Mercy, how dull you must have been! I really must show you the\\nlibrary; and you must ring for everything you want, just as you\\nwould in an inn, and make yourself comfortable. I have selfish\\nreasons for wishing to make you happy, because I want you to stay\\nwith me, and not fulfil your horrid threat of running away in a day\\nor two.\\'\\n\\'Well, don\\'t let me keep you out of the drawing-room any longer to-\\nnight, for at present I am tired and wish to go to bed.\\'\\nCHAPTER XXIII--THE PARK\\nI came down a little before eight, next morning, as I knew by the\\nstriking of a distant clock. There was no appearance of breakfast.\\nI waited above an hour before it came, still vainly longing for\\naccess to the library; and, after that lonely repast was concluded,\\nI waited again about an hour and a half in great suspense and\\ndiscomfort, uncertain what to do. At length Lady Ashby came to bid\\nme good-morning. She informed me she had only just breakfasted,\\nand now wanted me to take an early walk with her in the park. She\\nasked how long I had been up, and on receiving my answer, expressed\\nthe deepest regret, and again promised to show me the library. I\\nsuggested she had better do so at once, and then there would be no\\nfurther trouble either with remembering or forgetting. She\\ncomplied, on condition that I would not think of reading, or\\nbothering with the books now; for she wanted to show me the\\ngardens, and take a walk in the park with me, before it became too\\nhot for enjoyment; which, indeed, was nearly the case already. Of\\ncourse I readily assented; and we took our walk accordingly.\\nAs we were strolling in the park, talking of what my companion had\\nseen and heard during her travelling experience, a gentleman on\\nhorseback rode up and passed us. As he turned, in passing, and\\nstared me full in the face, I had a good opportunity of seeing what\\nhe was like. He was tall, thin, and wasted, with a slight stoop in\\nthe shoulders, a pale face, but somewhat blotchy, and disagreeably\\nred about the eyelids, plain features, and a general appearance of\\nlanguor and flatness, relieved by a sinister expression in the\\nmouth and the dull, soulless eyes.\\n\\'I detest that man!\\' whispered Lady Ashby, with bitter emphasis, as\\nhe slowly trotted by.\\n\\'Who is it?\\' I asked, unwilling to suppose that she should so speak\\nof her husband.\\n\\'Sir Thomas Ashby,\\' she replied, with dreary composure.\\n\\'And do you DETEST him, Miss Murray?\\' said I, for I was too much\\nshocked to remember her name at the moment.\\n\\'Yes, I do, Miss Grey, and despise him too; and if you knew him you\\nwould not blame me.\\'\\n\\'But you knew what he was before you married him.\\'\\n\\'No; I only thought so: I did not half know him really. I know\\nyou warned me against it, and I wish I had listened to you: but\\nit\\'s too late to regret that now. And besides, mamma ought to have\\nknown better than either of us, and she never said anything against\\nit--quite the contrary. And then I thought he adored me, and would\\nlet me have my own way: he did pretend to do so at first, but now\\nhe does not care a bit about me. Yet I should not care for that:\\nhe might do as he pleased, if I might only be free to amuse myself\\nand to stay in London, or have a few friends down here: but HE\\nWILL do as he pleases, and I must be a prisoner and a slave. The\\nmoment he saw I could enjoy myself without him, and that others\\nknew my value better than himself, the selfish wretch began to\\naccuse me of coquetry and extravagance; and to abuse Harry Meltham,\\nwhose shoes he was not worthy to clean. And then he must needs\\nhave me down in the country, to lead the life of a nun, lest I\\nshould dishonour him or bring him to ruin; as if he had not been\\nten times worse every way, with his betting-book, and his gaming-\\ntable, and his opera-girls, and his Lady This and Mrs. That--yes,\\nand his bottles of wine, and glasses of brandy-and-water too! Oh,\\nI would give ten thousand worlds to be Mss Murray again! It is TOO\\nbad to feel life, health, and beauty wasting away, unfelt and\\nunenjoyed, for such a brute as that!\\' exclaimed she, fairly\\nbursting into tears in the bitterness of her vexation.\\nOf course, I pitied her exceedingly; as well for her false idea of\\nhappiness and disregard of duty, as for the wretched partner with\\nwhom her fate was linked. I said what I could to comfort her, and\\noffered such counsels as I thought she most required: advising\\nher, first, by gentle reasoning, by kindness, example, and\\npersuasion, to try to ameliorate her husband; and then, when she\\nhad done all she could, if she still found him incorrigible, to\\nendeavour to abstract herself from him--to wrap herself up in her\\nown integrity, and trouble herself as little about him as possible.\\nI exhorted her to seek consolation in doing her duty to God and\\nman, to put her trust in Heaven, and solace herself with the care\\nand nurture of her little daughter; assuring her she would be amply\\nrewarded by witnessing its progress in strength and wisdom, and\\nreceiving its genuine affection.\\n\\'But I can\\'t devote myself entirely to a child,\\' said she; \\'it may\\ndie--which is not at all improbable.\\'\\n\\'But, with care, many a delicate infant has become a strong man or\\nwoman.\\'\\n\\'But it may grow so intolerably like its father that I shall hate\\nit.\\'\\n\\'That is not likely; it is a little girl, and strongly resembles\\nits mother.\\'\\n\\'No matter; I should like it better if it were a boy--only that its\\nfather will leave it no inheritance that he can possibly squander\\naway. What pleasure can I have in seeing a girl grow up to eclipse\\nme, and enjoy those pleasures that I am for ever debarred from?\\nBut supposing I could be so generous as to take delight in this,\\nstill it is ONLY a child; and I can\\'t centre all my hopes in a\\nchild: that is only one degree better than devoting oneself to a\\ndog. And as for all the wisdom and goodness you have been trying\\nto instil into me--that is all very right and proper, I daresay,\\nand if I were some twenty years older, I might fructify by it: but\\npeople must enjoy themselves when they are young; and if others\\nwon\\'t let them--why, they must hate them for it!\\'\\n\\'The best way to enjoy yourself is to do what is right and hate\\nnobody. The end of Religion is not to teach us how to die, but how\\nto live; and the earlier you become wise and good, the more of\\nhappiness you secure. And now, Lady Ashby, I have one more piece\\nof advice to offer you, which is, that you will not make an enemy\\nof your mother-in-law. Don\\'t get into the way of holding her at\\narms\\' length, and regarding her with jealous distrust. I never saw\\nher, but I have heard good as well as evil respecting her; and I\\nimagine that, though cold and haughty in her general demeanour, and\\neven exacting in her requirements, she has strong affections for\\nthose who can reach them; and, though so blindly attached to her\\nson, she is not without good principles, or incapable of hearing\\nreason. If you would but conciliate her a little, and adopt a\\nfriendly, open manner--and even confide your grievances to her--\\nreal grievances, such as you have a right to complain of--it is my\\nfirm belief that she would, in time, become your faithful friend,\\nand a comfort and support to you, instead of the incubus you\\ndescribe her.\\' But I fear my advice had little effect upon the\\nunfortunate young lady; and, finding I could render myself so\\nlittle serviceable, my residence at Ashby Park became doubly\\npainful. But still, I must stay out that day and the following\\none, as I had promised to do so: though, resisting all entreaties\\nand inducements to prolong my visit further, I insisted upon\\ndeparting the next morning; affirming that my mother would be\\nlonely without me, and that she impatiently expected my return.\\nNevertheless, it was with a heavy heart that I bade adieu to poor\\nLady Ashby, and left her in her princely home. It was no slight\\nadditional proof of her unhappiness, that she should so cling to\\nthe consolation of my presence, and earnestly desire the company of\\none whose general tastes and ideas were so little congenial to her\\nown--whom she had completely forgotten in her hour of prosperity,\\nand whose presence would be rather a nuisance than a pleasure, if\\nshe could but have half her heart\\'s desire.\\nCHAPTER XXIV--THE SANDS\\nOur school was not situated in the heart of the town: on entering\\nA--- from the north-west there is a row of respectable-looking\\nhouses, on each side of the broad, white road, with narrow slips of\\ngarden-ground before them, Venetian blinds to the windows, and a\\nflight of steps leading to each trim, brass-handled door. In one\\nof the largest of these habitations dwelt my mother and I, with\\nsuch young ladies as our friends and the public chose to commit to\\nour charge. Consequently, we were a considerable distance from the\\nsea, and divided from it by a labyrinth of streets and houses. But\\nthe sea was my delight; and I would often gladly pierce the town to\\nobtain the pleasure of a walk beside it, whether with the pupils,\\nor alone with my mother during the vacations. It was delightful to\\nme at all times and seasons, but especially in the wild commotion\\nof a rough sea-breeze, and in the brilliant freshness of a summer\\nmorning.\\nI awoke early on the third morning after my return from Ashby Park-\\n-the sun was shining through the blind, and I thought how pleasant\\nit would be to pass through the quiet town and take a solitary\\nramble on the sands while half the world was in bed. I was not\\nlong in forming the resolution, nor slow to act upon it. Of course\\nI would not disturb my mother, so I stole noiselessly downstairs,\\nand quietly unfastened the door. I was dressed and out, when the\\nchurch clock struck a quarter to six. There was a feeling of\\nfreshness and vigour in the very streets; and when I got free of\\nthe town, when my foot was on the sands and my face towards the\\nbroad, bright bay, no language can describe the effect of the deep,\\nclear azure of the sky and ocean, the bright morning sunshine on\\nthe semicircular barrier of craggy cliffs surmounted by green\\nswelling hills, and on the smooth, wide sands, and the low rocks\\nout at sea--looking, with their clothing of weeds and moss, like\\nlittle grass-grown islands--and above all, on the brilliant,\\nsparkling waves. And then, the unspeakable purity--and freshness\\nof the air! There was just enough heat to enhance the value of the\\nbreeze, and just enough wind to keep the whole sea in motion, to\\nmake the waves come bounding to the shore, foaming and sparkling,\\nas if wild with glee. Nothing else was stirring--no living\\ncreature was visible besides myself. My footsteps were the first\\nto press the firm, unbroken sands;--nothing before had trampled\\nthem since last night\\'s flowing tide had obliterated the deepest\\nmarks of yesterday, and left them fair and even, except where the\\nsubsiding water had left behind it the traces of dimpled pools and\\nlittle running streams.\\nRefreshed, delighted, invigorated, I walked along, forgetting all\\nmy cares, feeling as if I had wings to my feet, and could go at\\nleast forty miles without fatigue, and experiencing a sense of\\nexhilaration to which I had been an entire stranger since the days\\nof early youth. About half-past six, however, the grooms began to\\ncome down to air their masters\\' horses--first one, and then\\nanother, till there were some dozen horses and five or six riders:\\nbut that need not trouble me, for they would not come as far as the\\nlow rocks which I was now approaching. When I had reached these,\\nand walked over the moist, slippery sea-weed (at the risk of\\nfloundering into one of the numerous pools of clear, salt water\\nthat lay between them), to a little mossy promontory with the sea\\nsplashing round it, I looked back again to see who next was\\nstirring. Still, there were only the early grooms with their\\nhorses, and one gentleman with a little dark speck of a dog running\\nbefore him, and one water-cart coming out of the town to get water\\nfor the baths. In another minute or two, the distant bathing\\nmachines would begin to move, and then the elderly gentlemen of\\nregular habits and sober quaker ladies would be coming to take\\ntheir salutary morning walks. But however interesting such a scene\\nmight be, I could not wait to witness it, for the sun and the sea\\nso dazzled my eyes in that direction, that I could but afford one\\nglance; and then I turned again to delight myself with the sight\\nand the sound of the sea, dashing against my promontory--with no\\nprodigious force, for the swell was broken by the tangled sea-weed\\nand the unseen rocks beneath; otherwise I should soon have been\\ndeluged with spray. But the tide was coming in; the water was\\nrising; the gulfs and lakes were filling; the straits were\\nwidening: it was time to seek some safer footing; so I walked,\\nskipped, and stumbled back to the smooth, wide sands, and resolved\\nto proceed to a certain bold projection in the cliffs, and then\\nreturn.\\nPresently, I heard a snuffling sound behind me and then a dog came\\nfrisking and wriggling to my feet. It was my own Snap--the little\\ndark, wire-haired terrier! When I spoke his name, he leapt up in\\nmy face and yelled for joy. Almost as much delighted as himself, I\\ncaught the little creature in my arms, and kissed him repeatedly.\\nBut how came he to be there? He could not have dropped from the\\nsky, or come all that way alone: it must be either his master, the\\nrat-catcher, or somebody else that had brought him; so, repressing\\nmy extravagant caresses, and endeavouring to repress his likewise,\\nI looked round, and beheld--Mr. Weston!\\n\\'Your dog remembers you well, Miss Grey,\\' said he, warmly grasping\\nthe hand I offered him without clearly knowing what I was about.\\n\\'You rise early.\\'\\n\\'Not often so early as this,\\' I replied, with amazing composure,\\nconsidering all the circumstances of the case.\\n\\'How far do you purpose to extend your walk?\\'\\n\\'I was thinking of returning--it must be almost time, I think.\\'\\nHe consulted his watch--a gold one now--and told me it was only\\nfive minutes past seven.\\n\\'But, doubtless, you have had a long enough walk,\\' said he, turning\\ntowards the town, to which I now proceeded leisurely to retrace my\\nsteps; and he walked beside me.\\n\\'In what part of the town do you live?\\' asked he. \\'I never could\\ndiscover.\\'\\nNever could discover? Had he endeavoured to do so then? I told\\nhim the place of our abode. He asked how we prospered in our\\naffairs. I told him we were doing very well--that we had had a\\nconsiderable addition to our pupils after the Christmas vacation,\\nand expected a still further increase at the close of this.\\n\\'You must be an accomplished instructor,\\' he observed.\\n\\'No, it is my mother,\\' I replied; \\'she manages things so well, and\\nis so active, and clever, and kind.\\'\\n\\'I should like to know your mother. Will you introduce me to her\\nsome time, if I call?\\'\\n\\'Yes, willingly.\\'\\n\\'And will you allow me the privilege of an old friend, of looking\\nin upon you now and then?\\'\\n\\'Yes, if--I suppose so.\\'\\nThis was a very foolish answer, but the truth was, I considered\\nthat I had no right to invite anyone to my mother\\'s house without\\nher knowledge; and if I had said, \\'Yes, if my mother does not\\nobject,\\' it would appear as if by his question I understood more\\nthan was expected; so, SUPPOSING she would not, I added, \\'I suppose\\nso:\\' but of course I should have said something more sensible and\\nmore polite, if I had had my wits about me. We continued our walk\\nfor a minute in silence; which, however, was shortly relieved (no\\nsmall relief to me) by Mr. Weston commenting upon the brightness of\\nthe morning and the beauty of the bay, and then upon the advantages\\nA--- possessed over many other fashionable places of resort.\\n\\'You don\\'t ask what brings me to A--- \\' said he. \\'You can\\'t\\nsuppose I\\'m rich enough to come for my own pleasure.\\'\\n\\'I heard you had left Horton.\\'\\n\\'You didn\\'t hear, then, that I had got the living of F-?\\'\\nF--- was a village about two miles distant from A-.\\n\\'No,\\' said I; \\'we live so completely out of the world, even here,\\nthat news seldom reaches me through any quarter; except through the\\nmedium of the--Gazette. But I hope you like your new parish; and\\nthat I may congratulate you on the acquisition?\\'\\n\\'I expect to like my parish better a year or two hence, when I have\\nworked certain reforms I have set my heart upon--or, at least,\\nprogressed some steps towards such an achievement. But you may\\ncongratulate me now; for I find it very agreeable to HAVE a parish\\nall to myself, with nobody to interfere with me--to thwart my plans\\nor cripple my exertions: and besides, I have a respectable house\\nin a rather pleasant neighbourhood, and three hundred pounds a\\nyear; and, in fact, I have nothing but solitude to complain of, and\\nnothing but a companion to wish for.\\'\\nHe looked at me as he concluded: and the flash of his dark eyes\\nseemed to set my face on fire; greatly to my own discomfiture, for\\nto evince confusion at such a juncture was intolerable. I made an\\neffort, therefore, to remedy the evil, and disclaim all personal\\napplication of the remark by a hasty, ill-expressed reply, to the\\neffect that, if he waited till he was well known in the\\nneighbourhood, he might have numerous opportunities for supplying\\nhis want among the residents of F--- and its vicinity, or the\\nvisitors of A---, if he required so ample a choice: not\\nconsidering the compliment implied by such an assertion, till his\\nanswer made me aware of it.\\n\\'I am not so presumptuous as to believe that,\\' said he, \\'though you\\ntell it me; but if it were so, I am rather particular in my notions\\nof a companion for life, and perhaps I might not find one to suit\\nme among the ladies you mention.\\'\\n\\'If you require perfection, you never will.\\'\\n\\'I do not--I have no right to require it, as being so far from\\nperfect myself.\\'\\nHere the conversation was interrupted by a water-cart lumbering\\npast us, for we were now come to the busy part of the sands; and,\\nfor the next eight or ten minutes, between carts and horses, and\\nasses, and men, there was little room for social intercourse, till\\nwe had turned our backs upon the sea, and begun to ascend the\\nprecipitous road leading into the town. Here my companion offered\\nme his arm, which I accepted, though not with the intention of\\nusing it as a support.\\n\\'You don\\'t often come on to the sands, I think,\\' said he, \\'for I\\nhave walked there many times, both morning and evening, since I\\ncame, and never seen you till now; and several times, in passing\\nthrough the town, too, I have looked about for your school--but I\\ndid not think of the--Road; and once or twice I made inquiries, but\\nwithout obtaining the requisite information.\\'\\nWhen we had surmounted the acclivity, I was about to withdraw my\\narm from his, but by a slight tightening of the elbow was tacitly\\ninformed that such was not his will, and accordingly desisted.\\nDiscoursing on different subjects, we entered the town, and passed\\nthrough several streets. I saw that he was going out of his way to\\naccompany me, notwithstanding the long walk that was yet before\\nhim; and, fearing that he might be inconveniencing himself from\\nmotives of politeness, I observed--\\'I fear I am taking you out of\\nyour way, Mr. Weston--I believe the road to F--- lies quite in\\nanother direction.\\'\\n\\'I\\'ll leave you at the end of the next street,\\' said he.\\n\\'And when will you come to see mamma?\\'\\n\\'To-morrow--God willing.\\'\\nThe end of the next street was nearly the conclusion of my journey.\\nHe stopped there, however, bid me good-morning, and called Snap,\\nwho seemed a little doubtful whether to follow his old mistress or\\nhis new master, but trotted away upon being summoned by the latter.\\n\\'I won\\'t offer to restore him to you, Miss Grey,\\' said Mr. Weston,\\nsmiling, \\'because I like him.\\'\\n\\'Oh, I don\\'t want him,\\' replied I, \\'now that he has a good master;\\nI\\'m quite satisfied.\\'\\n\\'You take it for granted that I am a good one, then?\\'\\nThe man and the dog departed, and I returned home, full of\\ngratitude to heaven for so much bliss, and praying that my hopes\\nmight not again be crushed.\\nCHAPTER XXV--CONCLUSION\\n\\'Well, Agnes, you must not take such long walks again before\\nbreakfast,\\' said my mother, observing that I drank an extra cup of\\ncoffee and ate nothing--pleading the heat of the weather, and the\\nfatigue of my long walk as an excuse. I certainly did feel\\nfeverish and tired too.\\n\\'You always do things by extremes: now, if you had taken a SHORT\\nwalk every morning, and would continue to do so, it would do you\\ngood.\\'\\n\\'Well, mamma, I will.\\'\\n\\'But this is worse than lying in bed or bending over your books:\\nyou have quite put yourself into a fever.\\'\\n\\'I won\\'t do it again,\\' said I.\\nI was racking my brains with thinking how to tell her about Mr.\\nWeston, for she must know he was coming to-morrow. However, I\\nwaited till the breakfast things were removed, and I was more calm\\nand cool; and then, having sat down to my drawing, I began--\\'I met\\nan old friend on the sands to-day, mamma.\\'\\n\\'An old friend! Who could it be?\\'\\n\\'Two old friends, indeed. One was a dog;\\' and then I reminded her\\nof Snap, whose history I had recounted before, and related the\\nincident of his sudden appearance and remarkable recognition; \\'and\\nthe other,\\' continued I, \\'was Mr. Weston, the curate of Horton.\\'\\n\\'Mr. Weston! I never heard of him before.\\'\\n\\'Yes, you have: I\\'ve mentioned him several times, I believe: but\\nyou don\\'t remember.\\'\\n\\'I\\'ve heard you speak of Mr. Hatfield.\\'\\n\\'Mr. Hatfield was the rector, and Mr. Weston the curate: I used to\\nmention him sometimes in contradistinction to Mr. Hatfield, as\\nbeing a more efficient clergyman. However, he was on the sands\\nthis morning with the dog--he had bought it, I suppose, from the\\nrat-catcher; and he knew me as well as it did--probably through its\\nmeans: and I had a little conversation with him, in the course of\\nwhich, as he asked about our school, I was led to say something\\nabout you, and your good management; and he said he should like to\\nknow you, and asked if I would introduce him to you, if he should\\ntake the liberty of calling to-morrow; so I said I would. Was I\\nright?\\'\\n\\'Of course. What kind of a man is he?\\'\\n\\'A very RESPECTABLE man, I think: but you will see him to-morrow.\\nHe is the new vicar of F---, and as he has only been there a few\\nweeks, I suppose he has made no friends yet, and wants a little\\nsociety.\\'\\nThe morrow came. What a fever of anxiety and expectation I was in\\nfrom breakfast till noon--at which time he made his appearance!\\nHaving introduced him to my mother, I took my work to the window,\\nand sat down to await the result of the interview. They got on\\nextremely well together--greatly to my satisfaction, for I had felt\\nvery anxious about what my mother would think of him. He did not\\nstay long that time: but when he rose to take leave, she said she\\nshould be happy to see him, whenever he might find it convenient to\\ncall again; and when he was gone, I was gratified by hearing her\\nsay,--\\'Well! I think he\\'s a very sensible man. But why did you\\nsit back there, Agnes,\\' she added, \\'and talk so little?\\'\\n\\'Because you talked so well, mamma, I thought you required no\\nassistance from me: and, besides, he was your visitor, not mine.\\'\\nAfter that, he often called upon us--several times in the course of\\na week. He generally addressed most of his conversation to my\\nmother: and no wonder, for she could converse. I almost envied\\nthe unfettered, vigorous fluency of her discourse, and the strong\\nsense evinced by everything she said--and yet, I did not; for,\\nthough I occasionally regretted my own deficiencies for his sake,\\nit gave me very great pleasure to sit and hear the two beings I\\nloved and honoured above every one else in the world, discoursing\\ntogether so amicably, so wisely, and so well. I was not always\\nsilent, however; nor was I at all neglected. I was quite as much\\nnoticed as I would wish to be: there was no lack of kind words and\\nkinder looks, no end of delicate attentions, too fine and subtle to\\nbe grasped by words, and therefore indescribable--but deeply felt\\nat heart.\\nCeremony was quickly dropped between us: Mr. Weston came as an\\nexpected guest, welcome at all times, and never deranging the\\neconomy of our household affairs. He even called me \\'Agnes:\\' the\\nname had been timidly spoken at first, but, finding it gave no\\noffence in any quarter, he seemed greatly to prefer that\\nappellation to \\'Miss Grey;\\' and so did I. How tedious and gloomy\\nwere those days in which he did not come! And yet not miserable;\\nfor I had still the remembrance of the last visit and the hope of\\nthe next to cheer me. But when two or three days passed without my\\nseeing him, I certainly felt very anxious--absurdly, unreasonably\\nso; for, of course, he had his own business and the affairs of his\\nparish to attend to. And I dreaded the close of the holidays, when\\nMY business also would begin, and I should be sometimes unable to\\nsee him, and sometimes--when my mother was in the schoolroom--\\nobliged to be with him alone: a position I did not at all desire,\\nin the house; though to meet him out of doors, and walk beside him,\\nhad proved by no means disagreeable.\\nOne evening, however, in the last week of the vacation, he arrived-\\n-unexpectedly: for a heavy and protracted thunder-shower during\\nthe afternoon had almost destroyed my hopes of seeing him that day;\\nbut now the storm was over, and the sun was shining brightly.\\n\\'A beautiful evening, Mrs. Grey!\\' said he, as he entered. \\'Agnes,\\nI want you to take a walk with me to--\\' (he named a certain part of\\nthe coast--a bold hill on the land side, and towards the sea a\\nsteep precipice, from the summit of which a glorious view is to be\\nhad). \\'The rain has laid the dust, and cooled and cleared the air,\\nand the prospect will be magnificent. Will you come?\\'\\n\\'Can I go, mamma?\\'\\n\\'Yes; to be sure.\\'\\nI went to get ready, and was down again in a few minutes; though,\\nof course, I took a little more pains with my attire than if I had\\nmerely been going out on some shopping expedition alone. The\\nthunder-shower had certainly had a most beneficial effect upon the\\nweather, and the evening was most delightful. Mr. Weston would\\nhave me to take his arm; he said little during our passage through\\nthe crowded streets, but walked very fast, and appeared grave and\\nabstracted. I wondered what was the matter, and felt an indefinite\\ndread that something unpleasant was on his mind; and vague\\nsurmises, concerning what it might be, troubled me not a little,\\nand made me grave and silent enough. But these fantasies vanished\\nupon reaching the quiet outskirts of the town; for as soon as we\\ncame within sight of the venerable old church, and the--hill, with\\nthe deep blue beyond it, I found my companion was cheerful enough.\\n\\'I\\'m afraid I\\'ve been walking too fast for you, Agnes,\\' said he:\\n\\'in my impatience to be rid of the town, I forgot to consult your\\nconvenience; but now we\\'ll walk as slowly as you please. I see, by\\nthose light clouds in the west, there will be a brilliant sunset,\\nand we shall be in time to witness its effect upon the sea, at the\\nmost moderate rate of progression.\\'\\nWhen we had got about half-way up the hill, we fell into silence\\nagain; which, as usual, he was the first to break.\\n\\'My house is desolate yet, Miss Grey,\\' he smilingly observed, \\'and\\nI am acquainted now with all the ladies in my parish, and several\\nin this town too; and many others I know by sight and by report;\\nbut not one of them will suit me for a companion; in fact, there is\\nonly one person in the world that will: and that is yourself; and\\nI want to know your decision?\\'\\n\\'Are you in earnest, Mr. Weston?\\'\\n\\'In earnest! How could you think I should jest on such a subject?\\'\\nHe laid his hand on mine, that rested on his arm: he must have\\nfelt it tremble--but it was no great matter now.\\n\\'I hope I have not been too precipitate,\\' he said, in a serious\\ntone. \\'You must have known that it was not my way to flatter and\\ntalk soft nonsense, or even to speak the admiration that I felt;\\nand that a single word or glance of mine meant more than the honied\\nphrases and fervent protestations of most other men.\\'\\nI said something about not liking to leave my mother, and doing\\nnothing without her consent.\\n\\'I settled everything with Mrs. Grey, while you were putting on\\nyour bonnet,\\' replied he. \\'She said I might have her consent, if I\\ncould obtain yours; and I asked her, in case I should be so happy,\\nto come and live with us--for I was sure you would like it better.\\nBut she refused, saying she could now afford to employ an\\nassistant, and would continue the school till she could purchase an\\nannuity sufficient to maintain her in comfortable lodgings; and,\\nmeantime, she would spend her vacations alternately with us and\\nyour sister, and should be quite contented if you were happy. And\\nso now I have overruled your objections on her account. Have you\\nany other?\\'\\n\\'No--none.\\'\\n\\'You love me then?\\' said be, fervently pressing my hand.\\n\\'Yes.\\'\\nHere I pause. My Diary, from which I have compiled these pages,\\ngoes but little further. I could go on for years, but I will\\ncontent myself with adding, that I shall never forget that glorious\\nsummer evening, and always remember with delight that steep hill,\\nand the edge of the precipice where we stood together, watching the\\nsplendid sunset mirrored in the restless world of waters at our\\nfeet--with hearts filled with gratitude to heaven, and happiness,\\nand love--almost too full for speech.\\nA few weeks after that, when my mother had supplied herself with an\\nassistant, I became the wife of Edward Weston; and never have found\\ncause to repent it, and am certain that I never shall. We have had\\ntrials, and we know that we must have them again; but we bear them\\nwell together, and endeavour to fortify ourselves and each other\\nagainst the final separation--that greatest of all afflictions to\\nthe survivor. But, if we keep in mind the glorious heaven beyond,\\nwhere both may meet again, and sin and sorrow are unknown, surely\\nthat too may be borne; and, meantime, we endeavour to live to the\\nglory of Him who has scattered so many blessings in our path.\\nEdward, by his strenuous exertions, has worked surprising reforms\\nin his parish, and is esteemed and loved by its inhabitants--as he\\ndeserves; for whatever his faults may be as a man (and no one is\\nentirely without), I defy anybody to blame him as a pastor, a\\nhusband, or a father.\\nOur children, Edward, Agnes, and little Mary, promise well; their\\neducation, for the time being, is chiefly committed to me; and they\\nshall want no good thing that a mother\\'s care can give. Our modest\\nincome is amply sufficient for our requirements: and by practising\\nthe economy we learnt in harder times, and never attempting to\\nimitate our richer neighbours, we manage not only to enjoy comfort\\nand contentment ourselves, but to have every year something to lay\\nby for our children, and something to give to those who need it.\\nAnd now I think I have said sufficient.\\n'"
      ]
     },
     "execution_count": 18,
     "metadata": {},
     "output_type": "execute_result"
    }
   ],
   "source": [
    "ListOfTexts[0]"
   ]
  },
  {
   "cell_type": "markdown",
   "metadata": {},
   "source": [
    "Para determinar o número de sentences de cada documento execute o seguinte código:"
   ]
  },
  {
   "cell_type": "code",
   "execution_count": 21,
   "metadata": {},
   "outputs": [
    {
     "name": "stdout",
     "output_type": "stream",
     "text": [
      "6190\n",
      "15596\n",
      "13879\n",
      "2268\n",
      "10600\n",
      "4083\n",
      "7852\n",
      "17735\n",
      "33101\n",
      "33128\n",
      "2251\n",
      "17605\n",
      "28114\n",
      "18217\n",
      "11415\n",
      "30202\n",
      "83985\n",
      "35942\n",
      "845\n",
      "15631\n",
      "11006\n",
      "4169\n",
      "26343\n",
      "18056\n",
      "23305\n",
      "24987\n"
     ]
    }
   ],
   "source": [
    "for text in ListOfTexts:\n",
    "    print(len(text.split(\"\\n\")))"
   ]
  },
  {
   "cell_type": "markdown",
   "metadata": {},
   "source": [
    "Cole na box abaixo, o código da box anterior. Posteriormente substitua o código `txt = f.read()` por `txt = f.readlines()`. Recorde que o método `readlines` detecta automaticamente as frases de cada texto. Assim e apesar de voltarmos a ter 26 elementos na lista, cada elemento é agora, uma lista de strings, ou seja, uma lista de sentences."
   ]
  },
  {
   "cell_type": "code",
   "execution_count": 22,
   "metadata": {},
   "outputs": [
    {
     "data": {
      "text/plain": [
       "26"
      ]
     },
     "execution_count": 22,
     "metadata": {},
     "output_type": "execute_result"
    }
   ],
   "source": [
    "#Copie para aqui o código e altere txt = f.read() por txt = f.readlines()\n",
    "import os\n",
    "\n",
    "path = \"data/british-novels\"\n",
    "#path = '/content/drive/My Drive/Colab Notebooks/data/british-novels' #Google Colab\n",
    "\n",
    "ListOfTexts = []\n",
    "for file in os.listdir (path) :\n",
    "    with open(os.path.join(path, file),'r', encoding='utf-8') as f:\n",
    "        txt = f.readlines()\n",
    "        ListOfTexts.append(txt)\n",
    "\n",
    "len(ListOfTexts)"
   ]
  },
  {
   "cell_type": "markdown",
   "metadata": {},
   "source": [
    "De seguida aceda ao conteúdo do primeiro texto. Recordo que o mesmo estará dividido em sentences."
   ]
  },
  {
   "cell_type": "code",
   "execution_count": null,
   "metadata": {},
   "outputs": [],
   "source": [
    "ListOfTexts[0]"
   ]
  },
  {
   "cell_type": "markdown",
   "metadata": {},
   "source": [
    "Se quisermos ler apenas ficheiros de um determinado tipo recorremos ao seguinte código:"
   ]
  },
  {
   "cell_type": "code",
   "execution_count": 23,
   "metadata": {},
   "outputs": [
    {
     "data": {
      "text/plain": [
       "26"
      ]
     },
     "execution_count": 23,
     "metadata": {},
     "output_type": "execute_result"
    }
   ],
   "source": [
    "import os\n",
    "\n",
    "path = \"data/british-novels\"\n",
    "#path = '/content/drive/My Drive/Colab Notebooks/data/british-novels' #Google Colab\n",
    "\n",
    "ListOfTexts = []\n",
    "for file in os.listdir(path):\n",
    "    if file.endswith(\".txt\"):\n",
    "        with open(os.path.join(path, file),'r', encoding='utf-8') as f:\n",
    "            txt = f.read()\n",
    "            ListOfTexts.append(txt)\n",
    "\n",
    "len(ListOfTexts)"
   ]
  },
  {
   "cell_type": "markdown",
   "metadata": {},
   "source": [
    "Em alternativa pode fazer uso do módulo `glob`:"
   ]
  },
  {
   "cell_type": "code",
   "execution_count": null,
   "metadata": {},
   "outputs": [],
   "source": [
    "import glob\n",
    "import os\n",
    "\n",
    "path = \"data/british-novels\"\n",
    "#path = '/content/drive/My Drive/Colab Notebooks/data/british-novels' #Google Colab\n",
    "\n",
    "ListOfTexts = []\n",
    "for file in glob.glob(path + '/*.txt'):\n",
    "    with open(file,'r', encoding='utf-8') as f:\n",
    "        txt = f.read()\n",
    "        ListOfTexts.append(txt)\n",
    "\n",
    "len(ListOfTexts)"
   ]
  },
  {
   "cell_type": "markdown",
   "metadata": {},
   "source": [
    "Suponha agora que pretende listar o nome de todos os ficheiros existentes dentro do folder `path`."
   ]
  },
  {
   "cell_type": "code",
   "execution_count": 24,
   "metadata": {},
   "outputs": [
    {
     "data": {
      "text/plain": [
       "['data/british-novels\\\\ABronte_Agnes.txt',\n",
       " 'data/british-novels\\\\ABronte_Tenant.txt',\n",
       " 'data/british-novels\\\\Austen_Emma.txt',\n",
       " 'data/british-novels\\\\Austen_Pride.txt',\n",
       " 'data/british-novels\\\\Austen_Sense.txt',\n",
       " 'data/british-novels\\\\CBronte_Jane.txt',\n",
       " 'data/british-novels\\\\CBronte_Professor.txt',\n",
       " 'data/british-novels\\\\CBronte_Villette.txt',\n",
       " 'data/british-novels\\\\Dickens_Bleak.txt',\n",
       " 'data/british-novels\\\\Dickens_David.txt',\n",
       " 'data/british-novels\\\\Dickens_Hard.txt',\n",
       " 'data/british-novels\\\\Eliot_Adam.txt',\n",
       " 'data/british-novels\\\\Eliot_Middlemarch.txt',\n",
       " 'data/british-novels\\\\Eliot_Mill.txt',\n",
       " 'data/british-novels\\\\Fielding_Joseph.txt',\n",
       " 'data/british-novels\\\\Fielding_Tom.txt',\n",
       " 'data/british-novels\\\\Richardson_Clarissa.txt',\n",
       " 'data/british-novels\\\\Richardson_Pamela.txt',\n",
       " 'data/british-novels\\\\Sterne_Sentimental.txt',\n",
       " 'data/british-novels\\\\Sterne_Tristram.txt',\n",
       " 'data/british-novels\\\\Thackeray_Barry.txt',\n",
       " 'data/british-novels\\\\Thackeray_Pendennis.txt',\n",
       " 'data/british-novels\\\\Thackeray_Vanity.txt',\n",
       " 'data/british-novels\\\\Trollope_Barchester.txt',\n",
       " 'data/british-novels\\\\Trollope_Phineas.txt',\n",
       " 'data/british-novels\\\\Trollope_Prime.txt']"
      ]
     },
     "execution_count": 24,
     "metadata": {},
     "output_type": "execute_result"
    }
   ],
   "source": [
    "import glob\n",
    "import os\n",
    "\n",
    "path = \"data/british-novels\"\n",
    "#path = '/content/drive/My Drive/Colab Notebooks/data/british-novels' #Google Colab\n",
    "\n",
    "ListOfFiles = []\n",
    "for file in glob.glob(path + '/*.txt'):\n",
    "    ListOfFiles.append(file)\n",
    "\n",
    "ListOfFiles"
   ]
  },
  {
   "cell_type": "markdown",
   "metadata": {},
   "source": [
    "Da execução do código anterior é possível observar que, na junção dos respetivos ficheiros ao path, o módulo glob.glob recorre aos separadores definidos como padrão pelo sistema operativo, `/` para Unix e `\\\\` para windows."
   ]
  },
  {
   "cell_type": "markdown",
   "metadata": {},
   "source": [
    "Assim teremos para o primeiro ficheiro o caminho `data/british-novels/ABronte_Agnes.txt` no caso de executarmos o código numa máquina Unix e o caminho `data/british-novels\\\\ABronte_Agnes.txt` no caso de o fazermos numa máquina Windows."
   ]
  },
  {
   "cell_type": "markdown",
   "metadata": {},
   "source": [
    "Uma tal situação pode causar problemas. Imagine por exemplo que posteriormente pretenderia obter apenas o nome do ficheiro. O código seguinte funcionaria, mas apenas seria válido para caminhos windows (com split a `\\\\`)."
   ]
  },
  {
   "cell_type": "code",
   "execution_count": 25,
   "metadata": {},
   "outputs": [
    {
     "data": {
      "text/plain": [
       "'Trollope_Prime.txt'"
      ]
     },
     "execution_count": 25,
     "metadata": {},
     "output_type": "execute_result"
    }
   ],
   "source": [
    "input_file = 'data/british-novels\\\\Trollope_Prime.txt'\n",
    "input_file.split('\\\\')[-1]"
   ]
  },
  {
   "cell_type": "markdown",
   "metadata": {},
   "source": [
    "De fato, se estivesse na presença de um ficheiro com separador `/`, o mesmo código retornaria diferentes resultados:"
   ]
  },
  {
   "cell_type": "code",
   "execution_count": 26,
   "metadata": {},
   "outputs": [
    {
     "data": {
      "text/plain": [
       "'data/british-novels/Trollope_Prime.txt'"
      ]
     },
     "execution_count": 26,
     "metadata": {},
     "output_type": "execute_result"
    }
   ],
   "source": [
    "input_file = 'data/british-novels/Trollope_Prime.txt'\n",
    "input_file.split('\\\\')[-1]"
   ]
  },
  {
   "cell_type": "markdown",
   "metadata": {},
   "source": [
    "Para evitar que isso aconteça deve garantir a substituição do separador usado pelo sistema operativo sempre pelo mesmo separador, recorrendo ao código: `replace(os.sep, '/')`"
   ]
  },
  {
   "cell_type": "code",
   "execution_count": 27,
   "metadata": {},
   "outputs": [
    {
     "data": {
      "text/plain": [
       "['data/british-novels/ABronte_Agnes.txt',\n",
       " 'data/british-novels/ABronte_Tenant.txt',\n",
       " 'data/british-novels/Austen_Emma.txt',\n",
       " 'data/british-novels/Austen_Pride.txt',\n",
       " 'data/british-novels/Austen_Sense.txt',\n",
       " 'data/british-novels/CBronte_Jane.txt',\n",
       " 'data/british-novels/CBronte_Professor.txt',\n",
       " 'data/british-novels/CBronte_Villette.txt',\n",
       " 'data/british-novels/Dickens_Bleak.txt',\n",
       " 'data/british-novels/Dickens_David.txt',\n",
       " 'data/british-novels/Dickens_Hard.txt',\n",
       " 'data/british-novels/Eliot_Adam.txt',\n",
       " 'data/british-novels/Eliot_Middlemarch.txt',\n",
       " 'data/british-novels/Eliot_Mill.txt',\n",
       " 'data/british-novels/Fielding_Joseph.txt',\n",
       " 'data/british-novels/Fielding_Tom.txt',\n",
       " 'data/british-novels/Richardson_Clarissa.txt',\n",
       " 'data/british-novels/Richardson_Pamela.txt',\n",
       " 'data/british-novels/Sterne_Sentimental.txt',\n",
       " 'data/british-novels/Sterne_Tristram.txt',\n",
       " 'data/british-novels/Thackeray_Barry.txt',\n",
       " 'data/british-novels/Thackeray_Pendennis.txt',\n",
       " 'data/british-novels/Thackeray_Vanity.txt',\n",
       " 'data/british-novels/Trollope_Barchester.txt',\n",
       " 'data/british-novels/Trollope_Phineas.txt',\n",
       " 'data/british-novels/Trollope_Prime.txt']"
      ]
     },
     "execution_count": 27,
     "metadata": {},
     "output_type": "execute_result"
    }
   ],
   "source": [
    "import glob\n",
    "import os\n",
    "\n",
    "path = \"data/british-novels\"\n",
    "#path = '/content/drive/My Drive/Colab Notebooks/data/british-novels' #Google Colab\n",
    "\n",
    "ListOfFiles = []\n",
    "for file in glob.glob(path + '/*.txt'):\n",
    "    ListOfFiles.append(file.replace(os.sep, '/'))\n",
    "\n",
    "ListOfFiles"
   ]
  },
  {
   "cell_type": "markdown",
   "metadata": {},
   "source": [
    "Uma tal uniformização permitirá agora usar o código seguinte (tanto para máquinas windows como unix):"
   ]
  },
  {
   "cell_type": "code",
   "execution_count": 28,
   "metadata": {},
   "outputs": [
    {
     "name": "stdout",
     "output_type": "stream",
     "text": [
      "ABronte_Agnes.txt\n",
      "ABronte_Tenant.txt\n",
      "Austen_Emma.txt\n",
      "Austen_Pride.txt\n",
      "Austen_Sense.txt\n",
      "CBronte_Jane.txt\n",
      "CBronte_Professor.txt\n",
      "CBronte_Villette.txt\n",
      "Dickens_Bleak.txt\n",
      "Dickens_David.txt\n",
      "Dickens_Hard.txt\n",
      "Eliot_Adam.txt\n",
      "Eliot_Middlemarch.txt\n",
      "Eliot_Mill.txt\n",
      "Fielding_Joseph.txt\n",
      "Fielding_Tom.txt\n",
      "Richardson_Clarissa.txt\n",
      "Richardson_Pamela.txt\n",
      "Sterne_Sentimental.txt\n",
      "Sterne_Tristram.txt\n",
      "Thackeray_Barry.txt\n",
      "Thackeray_Pendennis.txt\n",
      "Thackeray_Vanity.txt\n",
      "Trollope_Barchester.txt\n",
      "Trollope_Phineas.txt\n",
      "Trollope_Prime.txt\n"
     ]
    }
   ],
   "source": [
    "for file in ListOfFiles:\n",
    "    print(file.split('/')[-1])"
   ]
  },
  {
   "cell_type": "markdown",
   "metadata": {},
   "source": [
    "Note no entanto que quer tenha um path `data/british-novels/ABronte_Agnes.txt` ou um path `data/british-novels\\\\ABronte_Agnes.txt` pode sempre recorrer ao `basename` para obter apenas o nome do ficheiro (e a respetiva extensão, e.g., `ABronte_Agnes.txt`:"
   ]
  },
  {
   "cell_type": "code",
   "execution_count": 29,
   "metadata": {},
   "outputs": [
    {
     "name": "stdout",
     "output_type": "stream",
     "text": [
      "ABronte_Agnes.txt\n",
      "ABronte_Agnes.txt\n"
     ]
    }
   ],
   "source": [
    "import os\n",
    "  \n",
    "# Path \n",
    "input_file_unix = 'data/british-novels/ABronte_Agnes.txt'\n",
    "input_file_windows = 'data/british-novels\\\\ABronte_Agnes.txt'\n",
    "\n",
    "print(os.path.basename(input_file_unix))\n",
    "print(os.path.basename(input_file_windows))"
   ]
  },
  {
   "cell_type": "markdown",
   "metadata": {},
   "source": [
    "Por sua vez a função `splitext` permite fazer um split em função da extensão, permitindo dessa forma ter acesso não só ao path e nome do ficheiro (e.g., `data/british-novels/ABronte_Agnes`), mas também à extensão (e.g., `.txt`)."
   ]
  },
  {
   "cell_type": "code",
   "execution_count": 30,
   "metadata": {},
   "outputs": [
    {
     "name": "stdout",
     "output_type": "stream",
     "text": [
      "('data/british-novels/ABronte_Agnes', '.txt')\n",
      "('data/british-novels\\\\ABronte_Agnes', '.txt')\n"
     ]
    }
   ],
   "source": [
    "import os\n",
    "\n",
    "# Path \n",
    "input_file_unix = 'data/british-novels/ABronte_Agnes.txt'\n",
    "input_file_windows = 'data/british-novels\\\\ABronte_Agnes.txt'\n",
    "\n",
    "print(os.path.splitext(input_file_unix))\n",
    "print(os.path.splitext(input_file_windows))"
   ]
  },
  {
   "cell_type": "markdown",
   "metadata": {},
   "source": [
    "Já o código seguinte permite obter apenas o nome do ficheiro (removendo a extensão, e.g., `ABronte_Agnes`)."
   ]
  },
  {
   "cell_type": "code",
   "execution_count": 31,
   "metadata": {},
   "outputs": [
    {
     "data": {
      "text/plain": [
       "'ABronte_Agnes'"
      ]
     },
     "execution_count": 31,
     "metadata": {},
     "output_type": "execute_result"
    }
   ],
   "source": [
    "doc_id  = os.path.basename(input_file_unix).split('.')[0]\n",
    "doc_id"
   ]
  },
  {
   "cell_type": "markdown",
   "metadata": {},
   "source": [
    "Opcionalmente poderia fazer uso das duas funções `basename` e `splitext`."
   ]
  },
  {
   "cell_type": "code",
   "execution_count": 32,
   "metadata": {},
   "outputs": [
    {
     "name": "stdout",
     "output_type": "stream",
     "text": [
      "ABronte_Agnes\n",
      "ABronte_Agnes\n"
     ]
    }
   ],
   "source": [
    "# Path \n",
    "input_file_unix = 'data/british-novels/ABronte_Agnes.txt'\n",
    "input_file_windows = 'data/british-novels\\\\ABronte_Agnes.txt'\n",
    "\n",
    "print(os.path.basename(os.path.splitext(input_file_unix)[0]))\n",
    "print(os.path.basename(os.path.splitext(input_file_windows)[0]))"
   ]
  },
  {
   "cell_type": "markdown",
   "metadata": {
    "slideshow": {
     "slide_type": "subslide"
    }
   },
   "source": [
    "### Write"
   ]
  },
  {
   "cell_type": "markdown",
   "metadata": {},
   "source": [
    "#### write"
   ]
  },
  {
   "cell_type": "markdown",
   "metadata": {},
   "source": [
    "Escrever algo num ficheiro é um processo similar ao de leitura. Tal como no <i>read</i>, também no <i>write</i> fazemos de uso do <i>TextIOWrapper</i>, uma conexão para o ficheiro em questão."
   ]
  },
  {
   "cell_type": "markdown",
   "metadata": {
    "slideshow": {
     "slide_type": "fragment"
    }
   },
   "source": [
    "A única diferença reside no modo de abertura do ficheiro. No caso da escrita usamos o modo <i>w</i> que significa \"abrir o ficheiro para escrita\". No caso da leitura usamos o modo <i>r</i> que significa \"abrir o ficheiro para leitura\". Note-se no entanto, que no caso da leitura, podemos omitir o <i>r</i> (default)."
   ]
  },
  {
   "cell_type": "markdown",
   "metadata": {
    "slideshow": {
     "slide_type": "subslide"
    }
   },
   "source": [
    "O código seguinte mostra como podemos escrever num ficheiro:"
   ]
  },
  {
   "cell_type": "code",
   "execution_count": null,
   "metadata": {
    "slideshow": {
     "slide_type": "fragment"
    }
   },
   "outputs": [],
   "source": [
    "path = \"data/\"\n",
    "#path = '/content/drive/My Drive/Colab Notebooks/data/' #Google Colab\n",
    "\n",
    "file_name = \"text_file.txt\"\n",
    "\n",
    "file = open(path + file_name, 'w',encoding=\"utf8\") # open in write mode. Se não existir cria o ficheiro\n",
    "file.write(\"This is some text\\n\") # write some text\n",
    "file.close() # closes the file"
   ]
  },
  {
   "cell_type": "markdown",
   "metadata": {},
   "source": [
    "#### Create Directory"
   ]
  },
  {
   "cell_type": "markdown",
   "metadata": {},
   "source": [
    "No código seguinte pretende-se guardar um ficheiro numa diretoria. Se a diretoria ainda não existir deve ser criada."
   ]
  },
  {
   "cell_type": "code",
   "execution_count": null,
   "metadata": {},
   "outputs": [],
   "source": [
    "import os\n",
    "path = \"data/teste/\"\n",
    "#path = '/content/drive/My Drive/Colab Notebooks/data/teste/' #Google Colab\n",
    "\n",
    "if not os.path.exists(path):\n",
    "    os.makedirs(path)\n",
    "    \n",
    "file_name = 'text_file.txt'\n",
    "\n",
    "f = open(path + file_name, 'w') # open in write mode. Se não existir cria o ficheiro\n",
    "f.write(\"This is some text\\n\") # write some text\n",
    "f.close() # closes the file"
   ]
  },
  {
   "cell_type": "markdown",
   "metadata": {},
   "source": [
    "### Copy Files from Folder to Folder"
   ]
  },
  {
   "cell_type": "markdown",
   "metadata": {},
   "source": [
    "O comando `copyfile` permite copiar um ficheiro de uma origem para um destino."
   ]
  },
  {
   "cell_type": "code",
   "execution_count": null,
   "metadata": {},
   "outputs": [],
   "source": [
    "import os\n",
    "from shutil import copyfile\n",
    "\n",
    "path_origin = \"data1/\"\n",
    "path_dest = \"data2/\"\n",
    "\n",
    "#path_origin = '/content/drive/My Drive/Colab Notebooks/data1/' #Google Colab\n",
    "#path_dest= '/content/drive/My Drive/Colab Notebooks/data2/' #Google Colab\n",
    "\n",
    "if not os.path.exists(path_origin):\n",
    "    os.makedirs(path_origin)\n",
    "\n",
    "if not os.path.exists(path_dest):\n",
    "    os.makedirs(path_dest)\n",
    "    \n",
    "file_name = \"text.txt\"\n",
    "\n",
    "copyfile(path_origin + file_name, path_dest + file_name)"
   ]
  },
  {
   "cell_type": "markdown",
   "metadata": {},
   "source": [
    "Similarmente, o comando `copy` permite copiar um ficheiro de uma origem para o destino (não obrigando no entanto à especificação do nome do ficheiro no destino)."
   ]
  },
  {
   "cell_type": "code",
   "execution_count": null,
   "metadata": {},
   "outputs": [],
   "source": [
    "import os\n",
    "from shutil import copy\n",
    "\n",
    "path_origin = \"data1/\"\n",
    "path_dest = \"data2/\"\n",
    "\n",
    "#path_origin = '/content/drive/My Drive/Colab Notebooks/data1/' #Google Colab\n",
    "#path_dest= '/content/drive/My Drive/Colab Notebooks/data2/' #Google Colab\n",
    "\n",
    "if not os.path.exists(path_origin):\n",
    "    os.makedirs(path_origin)\n",
    "\n",
    "if not os.path.exists(path_dest):\n",
    "    os.makedirs(path_dest)\n",
    "\n",
    "source = os.listdir(path_origin)\n",
    "for files in source:\n",
    "    if files.endswith(\".txt\"):\n",
    "        print(os.path.join(path_origin,files))\n",
    "        copy(os.path.join(path_origin,files),path_dest)"
   ]
  },
  {
   "cell_type": "markdown",
   "metadata": {},
   "source": [
    "<hr>"
   ]
  },
  {
   "cell_type": "markdown",
   "metadata": {},
   "source": [
    "### Quizzes"
   ]
  },
  {
   "cell_type": "markdown",
   "metadata": {},
   "source": [
    "Escreva um programa que crie um ficheiro de texto `data/ipt.txt` com um texto à sua escolha: "
   ]
  },
  {
   "cell_type": "code",
   "execution_count": null,
   "metadata": {},
   "outputs": [],
   "source": [
    "path = \"data/\"\n",
    "\n",
    "file_name = \"ipt.txt\"\n",
    "\n",
    "# open in write mode. Se não existir cria o ficheiro\n",
    "\n",
    "# write some text\n",
    "\n",
    "f.close() # closes the file"
   ]
  },
  {
   "cell_type": "markdown",
   "metadata": {},
   "source": [
    "Clique duas vezes <b>aqui</b> para aceder à solução completa\n",
    "<!--\n",
    "path = \"data/\"\n",
    "\n",
    "file_name = \"ipt.txt\"\n",
    "\n",
    "f = open(path + file_name, 'w',encoding=\"utf8\") # open in write mode. Se não existir cria o ficheiro\n",
    "f.write(\"Um texto à minha escolha\\n\") # write some text\n",
    "f.close() # closes the file\n",
    "-->"
   ]
  },
  {
   "cell_type": "markdown",
   "metadata": {},
   "source": [
    "<hr>"
   ]
  },
  {
   "cell_type": "markdown",
   "metadata": {},
   "source": [
    "Escreva um programa que leia o ficheiro de texto anteriormente criado. Guarde o resultado da leitura do ficheiro numa variável denominada `txt`. Imprima o conteúdo da variável."
   ]
  },
  {
   "cell_type": "code",
   "execution_count": null,
   "metadata": {},
   "outputs": [],
   "source": [
    "path = \"data/\"\n",
    "\n",
    "file_name = \"ipt.txt\"\n",
    "\n",
    "#open in read mode\n",
    "\n",
    "#save the text in a variable named txt\n",
    "\n",
    "#close de connection\n",
    "\n",
    "#print the content of the variable txt"
   ]
  },
  {
   "cell_type": "markdown",
   "metadata": {},
   "source": [
    "Clique duas vezes <b>aqui</b> para aceder à solução completa\n",
    "<!--\n",
    "path = \"data/\"\n",
    "\n",
    "file_name = \"ipt.txt\"\n",
    "\n",
    "f = open(path + file_name, encoding=\"utf8\")\n",
    "txt = f.read()\n",
    "f.close()\n",
    "print(txt)\n",
    "-->"
   ]
  },
  {
   "cell_type": "markdown",
   "metadata": {},
   "source": [
    "<hr>"
   ]
  },
  {
   "cell_type": "markdown",
   "metadata": {},
   "source": [
    "Calcule o tamanho médio de cada palavra existente no ficheiro 'data/austen-emma-excerpt.txt':"
   ]
  },
  {
   "cell_type": "code",
   "execution_count": null,
   "metadata": {
    "slideshow": {
     "slide_type": "fragment"
    }
   },
   "outputs": [],
   "source": [
    "#Insira o seu código aqui\n",
    "\n",
    "#Estratégia: guardar o tamanho de cada token numa lista e dividi-lo pelo número total de elementos da lista.\n",
    "\n",
    "#Algoritmo:\n",
    "#Efetuar conexão ao ficheiro em modo leitura\n",
    "#Inicializar variável ListOfTokenLenghts cujo objetivo passa por guardar o tamanho de cada token\n",
    "#Ler conteúdo do ficheiro linha a linha (também pode lê-lo na totalidade)\n",
    "    #Aplicar a função split (a cada nova linha) para obter a lista de tokens\n",
    "        #Percorrer a lista de tokens:\n",
    "            #se o lenght do token for > 0:\n",
    "                #adicionar o respetivo tamanho do token ListOfTokenLenghts\n",
    "\n",
    "#Feche a conexão ao ficheiro\n",
    "#Determine a média do tamanho de cada token: proceda à soma de todos os tamanhos existentes na ListOfTokenLenghts e divida pelo número total de elementos aí existentes\n",
    "            \n",
    "\n",
    "# solução = 4.69672131147541"
   ]
  },
  {
   "cell_type": "markdown",
   "metadata": {},
   "source": [
    "Clique duas vezes <b>aqui</b> para aceder à solução\n",
    "<!--\n",
    "file = open('../data/austen-emma-excerpt.txt')\n",
    "ListOfTokenLenghts = []\n",
    "for line in file:\n",
    "    ListOfTokens = line.split()\n",
    "    for token in ListOfTokens:\n",
    "        if len(token) > 0:\n",
    "            ListOfTokenLenghts.append(len(token))  \n",
    "file.close()\n",
    "print(ListOfTokenLenghts)\n",
    "average = sum(ListOfTokenLenghts)/len(ListOfTokenLenghts)\n",
    "print(average)\n",
    "-->"
   ]
  },
  {
   "cell_type": "markdown",
   "metadata": {},
   "source": [
    "<hr>"
   ]
  },
  {
   "cell_type": "markdown",
   "metadata": {},
   "source": [
    "Leia o ficheiro `data/austen-emma-excerpt-tokenised.txt` e escreva todas as palavras que ocorrem no texto (sem duplicados) para um novo ficheiro denominado `data/words.txt` . Coloque uma palavra por linha."
   ]
  },
  {
   "cell_type": "code",
   "execution_count": null,
   "metadata": {},
   "outputs": [],
   "source": [
    "#Insira o seu código aqui\n",
    "\n",
    "#Estratégia: guardar cada token num `set()` uma estrutura (similar a uma lista) mas que não permite duplicados.\n",
    "#A declaração de uma variável de conjunto é feita com recurso ao seguinte código: setOfTokens = set()\n",
    "#A adição de um elemento a um conjunto é feita através do método `add` por oposição ao método `append` usado em listas."
   ]
  },
  {
   "cell_type": "markdown",
   "metadata": {},
   "source": [
    "Clique duas vezes <b>aqui</b> para aceder à solução\n",
    "<!--\n",
    "file = open('../data/austen-emma-excerpt-tokenised.txt')\n",
    "setOfTokens = set()\n",
    "for line in file:\n",
    "    ListOfTokens = line.split()\n",
    "    for token in ListOfTokens:\n",
    "        setOfTokens.add(token)     \n",
    "f.close()\n",
    "print(setOfTokens)\n",
    "f = open('..\\data\\words.txt','w',encoding='utf-8')\n",
    "for token in setOfTokens:\n",
    "    f.write(token + \"\\n\")\n",
    "f.close()\n",
    "-->"
   ]
  },
  {
   "cell_type": "markdown",
   "metadata": {},
   "source": [
    "<hr>"
   ]
  },
  {
   "cell_type": "markdown",
   "metadata": {},
   "source": [
    "Considere um array com alguns números de alunos da turma. Crie uma pasta /data/aluno (e.g., /data/8699) e dentro de cada pasta um ficheiro de texto com conteúdo lorem ipsum (para a geração do texto considere a bibliteca https://pypi.org/project/lorem/)."
   ]
  },
  {
   "cell_type": "markdown",
   "metadata": {},
   "source": [
    "Clique duas vezes <b>aqui</b> para aceder à solução\n",
    "<!--\n",
    "import os\n",
    "import lorem\n",
    "\n",
    "ListOfNums = ['80850','81926']\n",
    "path = \"data/\"\n",
    "for num in ListOfNums:\n",
    "    if not os.path.exists(path + num):\n",
    "        os.makedirs(path + num)\n",
    "    \n",
    "    path_filename = path + num + \"/\" + \"lorem.txt\"\n",
    "    print(path_filename)\n",
    "    f = open(path_filename, \"w\")\n",
    "    f.write(lorem.text())\n",
    "    print(\"-------------\")\n",
    "    f.close()\n",
    "-->"
   ]
  },
  {
   "cell_type": "markdown",
   "metadata": {},
   "source": [
    "<hr>"
   ]
  },
  {
   "cell_type": "markdown",
   "metadata": {},
   "source": [
    "## Image Files"
   ]
  },
  {
   "cell_type": "markdown",
   "metadata": {},
   "source": [
    "### Optical Character Recognition (OCR)"
   ]
  },
  {
   "cell_type": "markdown",
   "metadata": {},
   "source": [
    "A leitura de texto a partir de imagens implica o recurso ao mecanismo de `Optical Character Recognition (OCR)`, uma técnica de aprendizagem automática usada para transformar imagens que contêm texto (e.g. textos antigos que tenham sido objeto de digitalização - scan, escritos à mão, datilografados, etc) em texto propriamente dito. "
   ]
  },
  {
   "cell_type": "markdown",
   "metadata": {},
   "source": [
    "### Tesseract"
   ]
  },
  {
   "cell_type": "markdown",
   "metadata": {},
   "source": [
    "Para extrair texto a partir de imagens recorremos ao `tesseract`, um mecanismo de reconhecimento de texto (OCR) de código aberto, disponível sob a licença Apache 2.0. Pode ser usado diretamente na linha de comandos ou através de linguagens de programação usando uma wrapper para extrair texto impresso de imagens. Suporta uma ampla variedade de idiomas."
   ]
  },
  {
   "cell_type": "markdown",
   "metadata": {},
   "source": [
    "#### Windows"
   ]
  },
  {
   "cell_type": "markdown",
   "metadata": {},
   "source": [
    "Os executáveis de instalação para o Windows encontram-se disponíveis [aqui](https://github.com/UB-Mannheim/tesseract/wiki). Para instalar noutro sistema operativo consulte a seguinte página: https://github.com/tesseract-ocr/tessdoc/blob/master/Home.md"
   ]
  },
  {
   "cell_type": "markdown",
   "metadata": {},
   "source": [
    "Após a instalação execute o seguinte comando para consultar o folder onde o software ficou instalado:"
   ]
  },
  {
   "cell_type": "code",
   "execution_count": null,
   "metadata": {},
   "outputs": [],
   "source": [
    "!which tesseract"
   ]
  },
  {
   "cell_type": "markdown",
   "metadata": {},
   "source": [
    "A instalação default inclui dados de treino para o Inglês. Se pretender usar outro idioma, proceda ao [download](https://github.com/tesseract-ocr/tessdoc/blob/master/Data-Files.md) dos dados de treino da respetiva língua da seguinte forma. "
   ]
  },
  {
   "cell_type": "markdown",
   "metadata": {},
   "source": [
    "<u>Instalação em Máquina Local Windows</u>\n",
    "- proceda ao download do ficheiro (e.g,. `https://github.com/tesseract-ocr/tessdata/raw/4.00/por.traineddata`);\n",
    "- copie o ficheiro para o diretório `tessdata`: `C:\\Program Files\\Tesseract-OCR\\tessdata`"
   ]
  },
  {
   "cell_type": "code",
   "execution_count": null,
   "metadata": {},
   "outputs": [],
   "source": [
    "!pip install wget\n",
    "!wget https://github.com/tesseract-ocr/tessdata/raw/4.00/por.traineddata -P /usr/share/tesseract-ocr/4.00/tessdata"
   ]
  },
  {
   "cell_type": "markdown",
   "metadata": {},
   "source": [
    "Para aceder ao `tesseract-OCR` a partir de qualquer localização, adicione a diretoria onde este ficou instalado às variáveis de ambiente:"
   ]
  },
  {
   "cell_type": "markdown",
   "metadata": {},
   "source": [
    "<img src=\"https://www.di.ubi.pt/~rcampos/assets/img_tutorials/Introduction2Python/tesseract.jpg\" width=\"500\" height=\"500\" align=\"center\"/>"
   ]
  },
  {
   "cell_type": "markdown",
   "metadata": {},
   "source": [
    "<hr>"
   ]
  },
  {
   "cell_type": "markdown",
   "metadata": {},
   "source": [
    "Após a instalação, o sistema está agora capacitado para obter texto a partir de imagens através da linha de comandos, guardando o resultado final num ficheiro denominado `out`. Se pretender executar o tesseract abra o terminal:"
   ]
  },
  {
   "cell_type": "markdown",
   "metadata": {},
   "source": [
    "Comece por abrir o terminal:"
   ]
  },
  {
   "cell_type": "markdown",
   "metadata": {},
   "source": [
    "<img src=\"https://www.di.ubi.pt/~rcampos/assets/img_tutorials/Introduction2Python/terminal.jpg\" width=\"500\" height=\"500\" align=\"center\"/>"
   ]
  },
  {
   "cell_type": "markdown",
   "metadata": {},
   "source": [
    "E proceda de forma similar à exemplificada na figura seguinte:"
   ]
  },
  {
   "cell_type": "markdown",
   "metadata": {},
   "source": [
    "<img src=\"https://www.di.ubi.pt/~rcampos/assets/img_tutorials/Introduction2Python/tesseract1.jpg\" width=\"500\" height=\"500\" align=\"center\"/>"
   ]
  },
  {
   "cell_type": "markdown",
   "metadata": {},
   "source": [
    "<hr>"
   ]
  },
  {
   "cell_type": "markdown",
   "metadata": {},
   "source": [
    "#### Google Colab"
   ]
  },
  {
   "cell_type": "code",
   "execution_count": null,
   "metadata": {},
   "outputs": [],
   "source": [
    "!sudo apt install tesseract-ocr"
   ]
  },
  {
   "cell_type": "markdown",
   "metadata": {},
   "source": [
    "Após a instalação execute o seguinte comando para consultar o folder onde o software ficou instalado:"
   ]
  },
  {
   "cell_type": "code",
   "execution_count": null,
   "metadata": {},
   "outputs": [],
   "source": [
    "!which tesseract"
   ]
  },
  {
   "cell_type": "markdown",
   "metadata": {},
   "source": [
    "A instalação default inclui dados de treino para o Inglês. Se pretender usar outro idioma, proceda ao [download](https://github.com/tesseract-ocr/tessdoc/blob/master/Data-Files.md) dos dados de treino da respetiva língua da seguinte forma. "
   ]
  },
  {
   "cell_type": "markdown",
   "metadata": {},
   "source": [
    "<u>Instalação em Máquina Local Linux e Google Colab</u>\n",
    "- proceda ao download do ficheiro (e.g,. `https://github.com/tesseract-ocr/tessdata/raw/4.00/por.traineddata`);\n",
    "- copie o ficheiro para o diretório `tessdata`: `/usr/share/tesseract-ocr/4.00/tessdata`\n",
    "- Com vista a esse objetivo execute o seguinte comando:"
   ]
  },
  {
   "cell_type": "code",
   "execution_count": null,
   "metadata": {},
   "outputs": [],
   "source": [
    "!pip install wget\n",
    "!wget https://github.com/tesseract-ocr/tessdata/raw/4.00/por.traineddata -P /usr/share/tesseract-ocr/4.00/tessdata"
   ]
  },
  {
   "cell_type": "markdown",
   "metadata": {},
   "source": [
    "Para aceder ao `tesseract-OCR` a partir de qualquer localização, adicione a diretoria onde este ficou instalado às variáveis de ambiente:"
   ]
  },
  {
   "cell_type": "code",
   "execution_count": null,
   "metadata": {},
   "outputs": [],
   "source": [
    "import os\n",
    "os.environ[\"tesseract\"] = \"/usr/bin/tesseract\""
   ]
  },
  {
   "cell_type": "markdown",
   "metadata": {},
   "source": [
    "O tesseract encontra-se agora instalado. Na seção seguinte explicamos como executar o tesseract a partir do Python."
   ]
  },
  {
   "cell_type": "markdown",
   "metadata": {},
   "source": [
    "<hr>"
   ]
  },
  {
   "cell_type": "markdown",
   "metadata": {},
   "source": [
    "### pytesseract"
   ]
  },
  {
   "cell_type": "markdown",
   "metadata": {},
   "source": [
    "Como visto anteriormente o Tesseract é um software possível de ser executado através da linha de comandos, possuindo apenas suporte para as linguagens C/C++. Para usá-lo em Python é necessário recorrer a um wrapper denominado `pytesseract`."
   ]
  },
  {
   "cell_type": "markdown",
   "metadata": {},
   "source": [
    "Uma das vantagens desta biblioteca é a possibilidade de trabalhar com argumentos do tipo PIL (Python Image Library) que permite trabalhar com os formatos jpeg, png, gif, bmp, tiff…. Um acréscimo nas opções, quando comparado com as extensões nativamente suportadas do tesseract (somente tiff e bmp)."
   ]
  },
  {
   "cell_type": "markdown",
   "metadata": {},
   "source": [
    "Para extrair texto a partir de imagens no Python recorremos ao `PIL` (Python Imaging Library) e ao `pytesseract`."
   ]
  },
  {
   "cell_type": "code",
   "execution_count": null,
   "metadata": {},
   "outputs": [],
   "source": [
    "!pip install pillow\n",
    "!pip install pytesseract"
   ]
  },
  {
   "cell_type": "markdown",
   "metadata": {},
   "source": [
    "Para visualizar informações acerca do package, incluindo o folder de instalação, execute o seguinte comando:"
   ]
  },
  {
   "cell_type": "code",
   "execution_count": null,
   "metadata": {},
   "outputs": [],
   "source": [
    "!pip show pytesseract"
   ]
  },
  {
   "cell_type": "markdown",
   "metadata": {},
   "source": [
    "O código seguinte permite importar as bibliotecas:"
   ]
  },
  {
   "cell_type": "code",
   "execution_count": null,
   "metadata": {},
   "outputs": [],
   "source": [
    "from PIL import Image\n",
    "import pytesseract"
   ]
  },
  {
   "cell_type": "markdown",
   "metadata": {},
   "source": [
    "e definir os caminhos:"
   ]
  },
  {
   "cell_type": "markdown",
   "metadata": {},
   "source": [
    "<u>Máquina Local Windows</u>"
   ]
  },
  {
   "cell_type": "code",
   "execution_count": null,
   "metadata": {},
   "outputs": [],
   "source": [
    "pytesseract.pytesseract.tesseract_cmd = 'C:/Program Files/Tesseract-OCR/tesseract'\n",
    "tessdata_dir_config = r'--tessdata-dir \"C:/Program Files/Tesseract-OCR/tesseract\"'"
   ]
  },
  {
   "cell_type": "markdown",
   "metadata": {},
   "source": [
    "<u>Máquina Local Linux</u>"
   ]
  },
  {
   "cell_type": "code",
   "execution_count": null,
   "metadata": {},
   "outputs": [],
   "source": [
    "pytesseract.pytesseract.tesseract_cmd = '/usr/bin/tesseract'\n",
    "tessdata_dir_config = r'--tessdata-dir \"/usr/share/tesserac-ocr/\"'"
   ]
  },
  {
   "cell_type": "markdown",
   "metadata": {},
   "source": [
    "<u>Google Colab</u>"
   ]
  },
  {
   "cell_type": "markdown",
   "metadata": {},
   "source": [
    "Não caso do Google Colab não é necessário proceder a nenhuma especificação."
   ]
  },
  {
   "cell_type": "markdown",
   "metadata": {},
   "source": [
    "<hr>"
   ]
  },
  {
   "cell_type": "markdown",
   "metadata": {},
   "source": [
    "No exemplo abaixo vamos extrair informação a partir da seguinte imagem:"
   ]
  },
  {
   "cell_type": "markdown",
   "metadata": {},
   "source": [
    "<img src=\"https://www.di.ubi.pt/~rcampos/assets/img_tutorials/Introduction2Python/bill1.jpg\" width=\"300\" height=\"300\" align=\"center\"/>"
   ]
  },
  {
   "cell_type": "code",
   "execution_count": null,
   "metadata": {},
   "outputs": [],
   "source": [
    "path = \"data/\"\n",
    "#path = '/content/drive/My Drive/Colab Notebooks/data/' #Google Colab\n",
    "\n",
    "file_name = \"bill1.jpg\"\n",
    "\n",
    "text = pytesseract.image_to_string(Image.open(path + file_name))\n",
    "text"
   ]
  },
  {
   "cell_type": "markdown",
   "metadata": {},
   "source": [
    "Observe agora o resultado em cima de uma fatura um pouco mais elaborada:"
   ]
  },
  {
   "cell_type": "markdown",
   "metadata": {},
   "source": [
    "<img src=\"https://www.di.ubi.pt/~rcampos/assets/img_tutorials/Introduction2Python/bill.jpg\" width=\"300\" height=\"300\" align=\"center\"/>"
   ]
  },
  {
   "cell_type": "code",
   "execution_count": null,
   "metadata": {},
   "outputs": [],
   "source": [
    "path = \"data/\"\n",
    "#path = '/content/drive/My Drive/Colab Notebooks/data/' #Google Colab\n",
    "\n",
    "file_name = \"bill.jpg\"\n",
    "text = pytesseract.image_to_string(Image.open(path + file_name))\n",
    "print(text)"
   ]
  },
  {
   "cell_type": "markdown",
   "metadata": {},
   "source": [
    "No próximo exemplo vamos obter texto a partir de um jornal:"
   ]
  },
  {
   "cell_type": "markdown",
   "metadata": {},
   "source": [
    "<img src=\"https://www.di.ubi.pt/~rcampos/assets/img_tutorials/Introduction2Python/jornalEN.jpg\" width=\"500\" height=\"500\" align=\"center\"/>"
   ]
  },
  {
   "cell_type": "code",
   "execution_count": null,
   "metadata": {},
   "outputs": [],
   "source": [
    "path = \"data/\"\n",
    "#path = '/content/drive/My Drive/Colab Notebooks/data/' #Google Colab\n",
    "\n",
    "file_name = \"jornalEN.jpg\"\n",
    "text = pytesseract.image_to_string(Image.open(path + file_name))\n",
    "text"
   ]
  },
  {
   "cell_type": "markdown",
   "metadata": {},
   "source": [
    "E desta feira a partir da capa de um jornal em Português. Repare que os resultados são bastantes satisfatórios (isto apesar de não especificarmos que a língua é por). Na verdade a especificação do parametro `lang = 'por'` (e.g., `Image.open(path + file), lang='por'`) tende a retornar problemas ao nível do encoding."
   ]
  },
  {
   "cell_type": "markdown",
   "metadata": {},
   "source": [
    "<img src=\"https://www.di.ubi.pt/~rcampos/assets/img_tutorials/Introduction2Python/jornalPT1.jpg\" width=\"500\" height=\"500\" align=\"center\"/>"
   ]
  },
  {
   "cell_type": "code",
   "execution_count": null,
   "metadata": {},
   "outputs": [],
   "source": [
    "path = \"data/\"\n",
    "#path = '/content/drive/My Drive/Colab Notebooks/data/' #Google Colab\n",
    "\n",
    "file_name = \"jornalPT.jpg\"\n",
    "text = pytesseract.image_to_string(Image.open(path + file_name))\n",
    "text"
   ]
  },
  {
   "cell_type": "code",
   "execution_count": null,
   "metadata": {},
   "outputs": [],
   "source": [
    "ListOfSentences = text.split(\"\\n\")\n",
    "ListOfSentences\n",
    "\" \".join([sent for sent in ListOfSentences])"
   ]
  },
  {
   "cell_type": "markdown",
   "metadata": {},
   "source": [
    "Veja-se o seguinte exemplo:"
   ]
  },
  {
   "cell_type": "markdown",
   "metadata": {},
   "source": [
    "<img src=\"https://www.di.ubi.pt/~rcampos/assets/img_tutorials/Introduction2Python/ubi.jpg\" width=\"500\" height=\"500\" align=\"center\"/>"
   ]
  },
  {
   "cell_type": "code",
   "execution_count": null,
   "metadata": {},
   "outputs": [],
   "source": [
    "path = \"data/\"\n",
    "#path = '/content/drive/My Drive/Colab Notebooks/data/' #Google Colab\n",
    "\n",
    "file_name = \"ubi.jpg\"\n",
    "text = pytesseract.image_to_string(Image.open(path + file_name))\n",
    "text"
   ]
  },
  {
   "cell_type": "markdown",
   "metadata": {},
   "source": [
    "Experimente agora obter resultados da seguinte imagem. Observe que não obtém quaisquer resultados."
   ]
  },
  {
   "cell_type": "markdown",
   "metadata": {},
   "source": [
    "<img src=\"https://www.di.ubi.pt/~rcampos/assets/img_tutorials/Introduction2Python/lisboa.jpg\" width=\"200\" height=\"200\" align=\"center\"/>"
   ]
  },
  {
   "cell_type": "code",
   "execution_count": null,
   "metadata": {},
   "outputs": [],
   "source": [
    "path = \"data/\"\n",
    "#path = '/content/drive/My Drive/Colab Notebooks/data/' #Google Colab\n",
    "\n",
    "file_name = \"lisboa.jpg\"\n",
    "text = pytesseract.image_to_string(Image.open(path + file_name))\n",
    "text"
   ]
  },
  {
   "cell_type": "markdown",
   "metadata": {},
   "source": [
    "Conforme explicado nesta [página](https://github.com/tesseract-ocr/tesseract/wiki/ImproveQuality?source=post_page---------------------------) várias etapas podem ser feitas para melhorar a qualidade da Engine, tais como:\n",
    "- redimensionamento; \n",
    "- binarização; \n",
    "- redução de ruídos; \n",
    "- rotação/alinhamento das linhas e remoção das bordas."
   ]
  },
  {
   "cell_type": "markdown",
   "metadata": {},
   "source": [
    "Uma das primeiras opções passa por descartar a parte excedente do texto:"
   ]
  },
  {
   "cell_type": "markdown",
   "metadata": {},
   "source": [
    "<img src=\"https://www.di.ubi.pt/~rcampos/assets/img_tutorials/Introduction2Python/lisboa1.jpg\" width=\"200\" height=\"200\" align=\"center\"/>"
   ]
  },
  {
   "cell_type": "markdown",
   "metadata": {},
   "source": [
    "Infelizmente continuamos sem conseguir obter resultados."
   ]
  },
  {
   "cell_type": "code",
   "execution_count": null,
   "metadata": {},
   "outputs": [],
   "source": [
    "path = \"data/\"\n",
    "#path = '/content/drive/My Drive/Colab Notebooks/data/' #Google Colab\n",
    "\n",
    "file_name = \"lisboa1.jpg\"\n",
    "text = pytesseract.image_to_string(Image.open(path + file_name))\n",
    "text"
   ]
  },
  {
   "cell_type": "markdown",
   "metadata": {},
   "source": [
    "De acordo com a página web acima referida, uma imagem elegível para uma extração mais fiel pelo tesseract OCR deve possuir as seguintes recomendações:\n",
    "- Dois canais de cores somente (preto e branco). Seja ela em escala de cinza (0≤ Vi≤ 255) ou então a imagem binarizada (Vi== 0 || Vi== 255). Vi=Valor de intensidade.\n",
    "- Texto alinhado/padronizado e sem ruídos (gerados geralmente durante a etapa de binarização).\n",
    "- Altura do box (espaço ocupado pelos caracteres) superior ao mínimo de 10px.\n",
    "- Densidade ideal de 300dpi, ou proporcionais para o pressuposto acima.\n",
    "- Possuir o texto extraível em um único padrão de alfabeto (ou idioma).\n",
    "- Sem espaço inútil, considerado como bordas para o texto."
   ]
  },
  {
   "cell_type": "markdown",
   "metadata": {},
   "source": [
    "O Tesseract faz a maioria destes processos internamente, mas há casos (como o exemplo acima) em que tal não é o suficiente. Para estes é necessária a subotimização da imagem a ser enviada por parâmetro, o que pode ser feito com recurso ao OpenCV."
   ]
  },
  {
   "cell_type": "code",
   "execution_count": null,
   "metadata": {},
   "outputs": [],
   "source": [
    "!pip install opencv-python\n",
    "!pip install numpy"
   ]
  },
  {
   "cell_type": "code",
   "execution_count": null,
   "metadata": {},
   "outputs": [],
   "source": [
    "import numpy as np\n",
    "import cv2\n",
    "\n",
    "# tipando a leitura para os canais de ordem RGB\n",
    "imagem = Image.open(path + file_name).convert('RGB')\n",
    "\n",
    "# convertendo em um array editável de numpy[x, y, CANALS]\n",
    "npimagem = np.asarray(imagem).astype(np.uint8)  \n",
    "\n",
    "# diminuição dos ruidos antes da binarização\n",
    "npimagem[:, :, 0] = 0 # zerando o canal R (RED)\n",
    "npimagem[:, :, 2] = 0 # zerando o canal B (BLUE)\n",
    "\n",
    "# atribuição em escala de cinza\n",
    "im = cv2.cvtColor(npimagem, cv2.COLOR_RGB2GRAY) \n",
    "\n",
    "# aplicação da truncagem binária para a intensidade\n",
    "# pixels de intensidade de cor abaixo de 127 serão convertidos para 0 (PRETO)\n",
    "# pixels de intensidade de cor acima de 127 serão convertidos para 255 (BRANCO)\n",
    "# A atrubição do THRESH_OTSU incrementa uma análise inteligente dos nivels de truncagem\n",
    "ret, thresh = cv2.threshold(im, 127, 255, cv2.THRESH_BINARY | cv2.THRESH_OTSU) \n",
    "\n",
    "# reconvertendo o retorno do threshold em um objeto do tipo PIL.Image\n",
    "binimagem = Image.fromarray(thresh) \n",
    "\n",
    "# chamada ao tesseract OCR por meio de seu wrapper\n",
    "text = pytesseract.image_to_string(binimagem)\n",
    "\n",
    "# impressão do resultado\n",
    "print(text) "
   ]
  },
  {
   "cell_type": "markdown",
   "metadata": {},
   "source": [
    "<hr>"
   ]
  },
  {
   "cell_type": "markdown",
   "metadata": {},
   "source": [
    "## PDF Files"
   ]
  },
  {
   "cell_type": "markdown",
   "metadata": {},
   "source": [
    "Nesta seção vamos explicar como extrair `plain text` e `non-plain text` a partir de PDFs."
   ]
  },
  {
   "cell_type": "markdown",
   "metadata": {},
   "source": [
    "### Plain Text"
   ]
  },
  {
   "cell_type": "markdown",
   "metadata": {},
   "source": [
    "Os PDFs são atualmente um dos tipos de ficheiros mais usados para a comunicação de informação. A grande maioria destes documentos nasceu nativamente de uma forma digital (e.g., criados a partir de processadores de documentos como o MS Word) e como tal contêm desde logo `plain text` (texto simples). Uma forma simples de verificar isso passa por recorrer à seleção de texto existente no pdf a partir do seu rato. Se o conseguir selecionar, é porque o texto se encontra efetivamente embedido no pdf."
   ]
  },
  {
   "cell_type": "markdown",
   "metadata": {},
   "source": [
    "A extração de texto embebido a partir de PDFs é possível com recurso a uma série de bibliotecas actualmente disponíveis, como é o caso do [pdfminer](https://pdfminersix.readthedocs.io/en/latest/tutorial/highlevel.html) e do [PyPDF2](http://www.blog.pythonlibrary.org/2018/06/07/an-intro-to-pypdf2/)."
   ]
  },
  {
   "cell_type": "markdown",
   "metadata": {},
   "source": [
    "Considere o seguinte pdf:"
   ]
  },
  {
   "cell_type": "code",
   "execution_count": null,
   "metadata": {},
   "outputs": [],
   "source": [
    "from IPython.display import IFrame\n",
    "IFrame(\"https://www.di.ubi.pt/~rcampos/assets/files_tutorials/Introduction2Python/Worcester1.pdf\", width=800, height=600)"
   ]
  },
  {
   "cell_type": "markdown",
   "metadata": {},
   "source": [
    "#### pdfminer"
   ]
  },
  {
   "cell_type": "markdown",
   "metadata": {},
   "source": [
    "Para instalar o pdfminer execute o seguinte código:"
   ]
  },
  {
   "cell_type": "code",
   "execution_count": null,
   "metadata": {},
   "outputs": [],
   "source": [
    "!pip install pdfminer.six"
   ]
  },
  {
   "cell_type": "markdown",
   "metadata": {},
   "source": [
    "De seguida recorra ao seguinte código para extrair o conteúdo a partir do ficheiro pdf."
   ]
  },
  {
   "cell_type": "code",
   "execution_count": null,
   "metadata": {},
   "outputs": [],
   "source": [
    "from pdfminer.high_level import extract_text\n",
    "path = \"data/\"\n",
    "#path = '/content/drive/My Drive/Colab Notebooks/data/' #Google Colab\n",
    "\n",
    "file_name = \"Worcester1.pdf\"\n",
    "\n",
    "text = extract_text(path + file_name)\n",
    "print(text)"
   ]
  },
  {
   "cell_type": "markdown",
   "metadata": {},
   "source": [
    "#### PyPDF2"
   ]
  },
  {
   "cell_type": "markdown",
   "metadata": {},
   "source": [
    "Uma alternativa é o PyPDF2, uma biblioteca PDF em Python usada para dividir, juntar, cortar e transformar páginas a partir de ficheiros PDFs. Pode ser usada também visualizar opções e senhas, bem como para extrair texto e metadados dos seus PDFs."
   ]
  },
  {
   "cell_type": "code",
   "execution_count": null,
   "metadata": {},
   "outputs": [],
   "source": [
    "!pip install pypdf2"
   ]
  },
  {
   "cell_type": "markdown",
   "metadata": {},
   "source": [
    "Com recurso ao código seguinte vamos extrair o conteúdo existente no pdf."
   ]
  },
  {
   "cell_type": "code",
   "execution_count": null,
   "metadata": {},
   "outputs": [],
   "source": [
    "import PyPDF2\n",
    "path = \"data/\"\n",
    "#path = '/content/drive/My Drive/Colab Notebooks/data/' #Google Colab\n",
    "\n",
    "file_name = \"Worcester1.pdf\"\n",
    "pdfFileObject = open(path + file_name, 'rb')\n",
    "pdfReader = PyPDF2.PdfReader(pdfFileObject)\n",
    "count = len(pdfReader.pages)\n",
    "PageContent = []\n",
    "for i in range(count):\n",
    "    page = pdfReader.pages[i]\n",
    "    content = page.extract_text()\n",
    "    PageContent.append(content.encode('utf-8'))"
   ]
  },
  {
   "cell_type": "code",
   "execution_count": null,
   "metadata": {},
   "outputs": [],
   "source": [
    "for page in PageContent:\n",
    "    print(page)\n",
    "    print(\"\\n\")"
   ]
  },
  {
   "cell_type": "markdown",
   "metadata": {},
   "source": [
    "Para guardar o texto num ficheiro use o seguinte código:"
   ]
  },
  {
   "cell_type": "code",
   "execution_count": null,
   "metadata": {},
   "outputs": [],
   "source": [
    "f = open(path + file[:-4] + \".txt\", 'wb') # open in write mode. Se não existir cria o ficheiro\n",
    "for content in PageContent:\n",
    "    f.write(content) # write some text\n",
    "f.close() # closes the file"
   ]
  },
  {
   "cell_type": "markdown",
   "metadata": {},
   "source": [
    "Recorde que isto não é OCR. Estamos apenas a extrair texto que já se encontra atualmente embedido num ficheiro PDF."
   ]
  },
  {
   "cell_type": "markdown",
   "metadata": {},
   "source": [
    "#### llmsherpa (LayoutPDFReader)"
   ]
  },
  {
   "cell_type": "markdown",
   "metadata": {},
   "source": [
    "[LayoutPDFReader](https://github.com/nlmatics/llmsherpa) é um parser rápido que pertence ao package [llmsherpa](https://llmsherpa.readthedocs.io/en/latest/) e que leva em consideração o layout do pdf. É particularmente eficiente no processamento de seções, sub-seções, tabelas, notas de rodapé, etc."
   ]
  },
  {
   "cell_type": "markdown",
   "metadata": {},
   "source": [
    "Comece por proceder à instalação do package:"
   ]
  },
  {
   "cell_type": "code",
   "execution_count": null,
   "metadata": {},
   "outputs": [],
   "source": [
    "!pip install llmsherpa"
   ]
  },
  {
   "cell_type": "markdown",
   "metadata": {},
   "source": [
    "De seguida proceda à definição do path para o pdf (que tanto pode ser url, como um ficheiro guardado no seu computador). No exemplo seguinte vamos considerar o seguinte pdf: https://arxiv.org/pdf/1910.13461.pdf"
   ]
  },
  {
   "cell_type": "code",
   "execution_count": null,
   "metadata": {},
   "outputs": [],
   "source": [
    "from llmsherpa.readers import LayoutPDFReader\n",
    "\n",
    "url = \"https://arxiv.org/pdf/1910.13461.pdf\" # also allowed is a file path e.g. data/xyz.pdf\n",
    "\n",
    "llmsherpa_api_url = \"https://readers.llmsherpa.com/api/document/developer/parseDocument?renderFormat=all\"\n",
    "pdf_reader = LayoutPDFReader(llmsherpa_api_url)\n",
    "doc = pdf_reader.read_pdf(url)"
   ]
  },
  {
   "cell_type": "markdown",
   "metadata": {},
   "source": [
    "É possível ter acesso às denominações dos títulos das seções. É importante observar que o sistema não é naturalmente perfeito, pelo que este tipo de sistemas é adequado ao tratamos de seções específicas conforme exemplo mais abaixo."
   ]
  },
  {
   "cell_type": "code",
   "execution_count": null,
   "metadata": {},
   "outputs": [],
   "source": [
    "for section in doc.sections():\n",
    "    print(section.title)"
   ]
  },
  {
   "cell_type": "markdown",
   "metadata": {},
   "source": [
    "No exemplo seguinte imprimimos o texto da seção com títullo \"Abstract\":"
   ]
  },
  {
   "cell_type": "code",
   "execution_count": null,
   "metadata": {},
   "outputs": [],
   "source": [
    "for section in doc.sections():\n",
    "    if section.title == 'Abstract':\n",
    "        print(section.to_text(include_children=True))\n",
    "        break"
   ]
  },
  {
   "cell_type": "markdown",
   "metadata": {},
   "source": [
    "Adicionalmente é possível ver os resultados num formato HTML. No exemplo seguinte imprimimos nesse formato o texto da seção \"3 Fine-tuning BART\":"
   ]
  },
  {
   "cell_type": "code",
   "execution_count": null,
   "metadata": {},
   "outputs": [],
   "source": [
    "from IPython.display import display, HTML\n",
    "\n",
    "# find a section in the document by title\n",
    "for section in doc.sections():\n",
    "    if section.title == '3 Fine-tuning BART':\n",
    "        html = section.to_html(include_children=True, recurse=True)\n",
    "        break\n",
    "        \n",
    "display(HTML(html))"
   ]
  },
  {
   "cell_type": "markdown",
   "metadata": {},
   "source": [
    "É possível também iterar sobre todas as tabelas de um documento:"
   ]
  },
  {
   "cell_type": "code",
   "execution_count": null,
   "metadata": {},
   "outputs": [],
   "source": [
    "ListOfTables = []\n",
    "for table in doc.tables():\n",
    "    ListOfTables.append(table.to_text())"
   ]
  },
  {
   "cell_type": "code",
   "execution_count": null,
   "metadata": {},
   "outputs": [],
   "source": [
    "ListOfTables[5]"
   ]
  },
  {
   "cell_type": "markdown",
   "metadata": {},
   "source": [
    "É possível observar uma tabela em particular em formato HTML:"
   ]
  },
  {
   "cell_type": "code",
   "execution_count": null,
   "metadata": {},
   "outputs": [],
   "source": [
    "HTML(doc.tables()[5].to_html())"
   ]
  },
  {
   "cell_type": "markdown",
   "metadata": {},
   "source": [
    "Finalmente todo o objeto `doc` pode ser explorado via `json` abrindo possibilidade para outro tipo de iterações."
   ]
  },
  {
   "cell_type": "code",
   "execution_count": null,
   "metadata": {},
   "outputs": [],
   "source": [
    "doc.json"
   ]
  },
  {
   "cell_type": "markdown",
   "metadata": {},
   "source": [
    "### non-plain text"
   ]
  },
  {
   "cell_type": "markdown",
   "metadata": {},
   "source": [
    "Para extrair texto não embebido num pdf teremos que recorrer ao mecanismo de OCR (Optical Character Recognition), nomeadamente ao `Tesseract` um excelente sistema de reconhecimento de texto open-source habitualmente usado para extrair texto a partir de imagens (digitalizadas, por exemplo). No entanto, e uma vez que o `Tesseract` não consegue trabalhar diretamente em cima de PDFs, teremos primeiro que converter o pdf em imagens. A extração de texto não embedido em pdf requer por isso a execução de duas tarefas:\n",
    "- converter (primeiro) o PDF em imagens;\n",
    "- usar OCR para extrair texto a partir de imagens."
   ]
  },
  {
   "cell_type": "markdown",
   "metadata": {},
   "source": [
    "#### ConvertPdf2Images"
   ]
  },
  {
   "cell_type": "markdown",
   "metadata": {},
   "source": [
    "Embora possa conter imagens, um PDF não é uma imagem em si e, portanto, não podemos executar OCR diretamente nele. Para converter PDFs em imagens, usamos a função de conversão do ImageMagick."
   ]
  },
  {
   "cell_type": "markdown",
   "metadata": {},
   "source": [
    "##### Windows"
   ]
  },
  {
   "cell_type": "markdown",
   "metadata": {},
   "source": [
    "Para instalar o `ImageMagick` no Windows carregue a seguinte página: http://www.imagemagick.org/download/binaries/ e proceda ao download do executável `ImageMagick-6.9.10-55-Q8-x64-dll`."
   ]
  },
  {
   "cell_type": "markdown",
   "metadata": {},
   "source": [
    "De seguida adicione a seguinte variável de ambiente:"
   ]
  },
  {
   "cell_type": "markdown",
   "metadata": {},
   "source": [
    "<img src=\"https://www.di.ubi.pt/~rcampos/assets/img_tutorials/Introduction2Python/magic.jpg\" width=\"700\" height=\"700\" align=\"center\"/>"
   ]
  },
  {
   "cell_type": "markdown",
   "metadata": {},
   "source": [
    "Finalmente, instale o `wand` um wrapper do ImageMagick."
   ]
  },
  {
   "cell_type": "code",
   "execution_count": null,
   "metadata": {},
   "outputs": [],
   "source": [
    "!pip install wand==0.4.4"
   ]
  },
  {
   "cell_type": "markdown",
   "metadata": {},
   "source": [
    "##### Google Colab"
   ]
  },
  {
   "cell_type": "markdown",
   "metadata": {},
   "source": [
    "Para a instalação do ImageMagick baseamo-nos no seguinte link: http://docs.wand-py.org/en/latest/guide/install.html#install-imagemagick-on-windows"
   ]
  },
  {
   "cell_type": "markdown",
   "metadata": {},
   "source": [
    "Comece por executar o seguinte código:"
   ]
  },
  {
   "cell_type": "code",
   "execution_count": null,
   "metadata": {},
   "outputs": [],
   "source": [
    "!apt-get install libmagickwand-dev"
   ]
  },
  {
   "cell_type": "markdown",
   "metadata": {},
   "source": [
    "De seguida adicione a seguinte variável de ambiente:"
   ]
  },
  {
   "cell_type": "code",
   "execution_count": null,
   "metadata": {},
   "outputs": [],
   "source": [
    "import os\n",
    "os.environ[\"MAGICK_HOME\"] = \"/etc/ImageMagick-6\""
   ]
  },
  {
   "cell_type": "markdown",
   "metadata": {},
   "source": [
    "Posteriormente proceda à instalação da biblioteca Wand."
   ]
  },
  {
   "cell_type": "code",
   "execution_count": null,
   "metadata": {},
   "outputs": [],
   "source": [
    "!pip install Wand"
   ]
  },
  {
   "cell_type": "markdown",
   "metadata": {},
   "source": [
    "Por fim, é necessário alterar o ficheiro `/etc/ImageMagick-6/policy.xml`. Com vista a esse objetivo execute o seguinte comando:"
   ]
  },
  {
   "cell_type": "code",
   "execution_count": null,
   "metadata": {},
   "outputs": [],
   "source": [
    "!wget https://www.di.ubi.pt/~rcampos/assets/files_tutorials/Introduction2Python/policy.xml -O /etc/ImageMagick-6/policy.xml"
   ]
  },
  {
   "cell_type": "markdown",
   "metadata": {},
   "source": [
    "<hr>"
   ]
  },
  {
   "cell_type": "markdown",
   "metadata": {},
   "source": [
    "Considere agora o seguinte pdf:"
   ]
  },
  {
   "cell_type": "code",
   "execution_count": null,
   "metadata": {},
   "outputs": [],
   "source": [
    "from IPython.display import IFrame\n",
    "IFrame(\"https://www.di.ubi.pt/~rcampos/assets/files_tutorials/Introduction2Python/mayor.pdf\", width=800, height=600)"
   ]
  },
  {
   "cell_type": "markdown",
   "metadata": {},
   "source": [
    "O código seguinte permite converter o pdf num conjunto de imagens (tantas quantas as páginas existentes no pdf). As 4 imagens geradas vão possuir o nome: `mayor-0`....`mayor-3`."
   ]
  },
  {
   "cell_type": "code",
   "execution_count": null,
   "metadata": {},
   "outputs": [],
   "source": [
    "from wand.image import Image as Img\n",
    "path = \"data/\"\n",
    "#path = '/content/drive/My Drive/Colab Notebooks/data/' #Google Colab\n",
    "\n",
    "file_name = \"mayor.pdf\"\n",
    "\n",
    "with Img(filename=path + file_name, resolution=300) as img:\n",
    "    img.compression_quality = 99\n",
    "    img.save(filename=path + file_name[:-4] + \".jpg\")"
   ]
  },
  {
   "cell_type": "markdown",
   "metadata": {},
   "source": [
    "#### pytesseract"
   ]
  },
  {
   "cell_type": "markdown",
   "metadata": {},
   "source": [
    "Na posse das imagens e com recurso ao pytesseract (uma ferramenta de ocr) podemos agora extrair o texto. Para saber como instalar o pytesseract recorde o capítulo [ImageFiles](#Image-Files)."
   ]
  },
  {
   "cell_type": "markdown",
   "metadata": {},
   "source": [
    "Para começar vamos importar o nome dos 4 ficheiros anteriormente gerados."
   ]
  },
  {
   "cell_type": "code",
   "execution_count": null,
   "metadata": {},
   "outputs": [],
   "source": [
    "import glob\n",
    "import os\n",
    "\n",
    "path = \"data/\"\n",
    "#path = '/content/drive/My Drive/Colab Notebooks/data/' #Google Colab\n",
    "\n",
    "file_name = \"mayor\"\n",
    "\n",
    "ListOfTexts = []\n",
    "listFile = glob.glob(path + file_name + '*.jpg')\n",
    "listFile"
   ]
  },
  {
   "cell_type": "markdown",
   "metadata": {},
   "source": [
    "Posteriormente recorremos ao `pytesseract` para extrair o texto das 4 imagens. No final guardamos o texto num ficheiro com o nome `mayor.txt`."
   ]
  },
  {
   "cell_type": "code",
   "execution_count": null,
   "metadata": {},
   "outputs": [],
   "source": [
    "import pytesseract\n",
    "from PIL import Image\n",
    "\n",
    "text = \"\"\n",
    "for pictureFile in listFile:\n",
    "    text += pytesseract.image_to_string(Image.open(pictureFile))\n",
    "text"
   ]
  },
  {
   "cell_type": "markdown",
   "metadata": {},
   "source": [
    "No final podemos guardar o texto produzido num único ficheiro com o nome `mayor.txt`."
   ]
  },
  {
   "cell_type": "code",
   "execution_count": null,
   "metadata": {},
   "outputs": [],
   "source": [
    "f = open(path + file_name + '.txt', 'w') # open in write mode. Se não existir cria o ficheiro\n",
    "f.write(text) # write some text\n",
    "f.close() # closes the file"
   ]
  },
  {
   "cell_type": "markdown",
   "metadata": {},
   "source": [
    "<hr>"
   ]
  },
  {
   "cell_type": "markdown",
   "metadata": {},
   "source": [
    "#### Quizzes"
   ]
  },
  {
   "cell_type": "markdown",
   "metadata": {},
   "source": [
    "Escreva um programa que guarde o conteúdo do ficheiro pdf (existente na variável `text`) num ficheiro de texto denominado `pdf-nonplain.txt`:"
   ]
  },
  {
   "cell_type": "code",
   "execution_count": null,
   "metadata": {},
   "outputs": [],
   "source": [
    "path = \"data/\"\n",
    "\n",
    "file_name = \"pdf-nonplain.txt\"\n",
    "\n",
    "# open in write mode. Se não existir cria o ficheiro\n",
    "\n",
    "# write some text\n",
    "\n",
    "# closes the file"
   ]
  },
  {
   "cell_type": "markdown",
   "metadata": {},
   "source": [
    "Clique duas vezes <b>aqui</b> para aceder à solução completa\n",
    "<!--\n",
    "path = \"data/\"\n",
    "\n",
    "file_name = \"pdf-nonplain.txt\"\n",
    "\n",
    "f = open(path + file_name, 'w',encoding=\"utf8\") # open in write mode. Se não existir cria o ficheiro\n",
    "f.write(text) # write some text\n",
    "f.close() # closes the file\n",
    "-->"
   ]
  },
  {
   "cell_type": "markdown",
   "metadata": {},
   "source": [
    "<hr>"
   ]
  },
  {
   "cell_type": "markdown",
   "metadata": {},
   "source": [
    "## MS Word Files"
   ]
  },
  {
   "cell_type": "markdown",
   "metadata": {},
   "source": [
    "http://theautomatic.net/2019/10/14/how-to-read-word-documents-with-python/"
   ]
  },
  {
   "cell_type": "markdown",
   "metadata": {},
   "source": [
    "Para extrairmos texto a partir de docs Word vamos recorrer ao [docx2python](https://pypi.org/project/docx2python/)."
   ]
  },
  {
   "cell_type": "code",
   "execution_count": null,
   "metadata": {},
   "outputs": [],
   "source": [
    "!pip install docx2python"
   ]
  },
  {
   "cell_type": "markdown",
   "metadata": {},
   "source": [
    "No método `docx2python` indicamos o caminho onde podemos encontrar o documento word bem como o caminho onde pretendemos guardar as imagens que eventualmente possam existir no documento. Na eventualidade de não pretender guardar as imagens remova o parâmetro `img_path` que encontra no método `docx2python`."
   ]
  },
  {
   "cell_type": "code",
   "execution_count": null,
   "metadata": {},
   "outputs": [],
   "source": [
    "from docx2python import docx2python\n",
    "\n",
    "path = \"data/\"\n",
    "#path = '/content/drive/My Drive/Colab Notebooks/data/' #Google Colab\n",
    "\n",
    "file_name = \"MSWord.docx\"\n",
    "images_folder = \"images_word\"\n",
    "\n",
    "docx_path = path + file_name #data/MSWord.docx\n",
    "img_path = path + images_folder #data/images_word\n",
    "\n",
    "doc_result = docx2python(docx_path, img_path)"
   ]
  },
  {
   "cell_type": "markdown",
   "metadata": {},
   "source": [
    "Para termos acesso às propriedades do documento:"
   ]
  },
  {
   "cell_type": "code",
   "execution_count": null,
   "metadata": {},
   "outputs": [],
   "source": [
    "doc_result.core_properties"
   ]
  },
  {
   "cell_type": "markdown",
   "metadata": {},
   "source": [
    "Paa termos acesso ao texto execute o seguinte código. Observe que determinado campos aparecem marcados no texto (e.g., `----footnote1----`, `----media/image1.png----`."
   ]
  },
  {
   "cell_type": "code",
   "execution_count": null,
   "metadata": {},
   "outputs": [],
   "source": [
    "doc_result.text"
   ]
  },
  {
   "cell_type": "markdown",
   "metadata": {},
   "source": [
    "O objeto `doc_result.body` por sua vez dá-nos acesso aos elementos individuais do documento."
   ]
  },
  {
   "cell_type": "code",
   "execution_count": null,
   "metadata": {},
   "outputs": [],
   "source": [
    "# get separate components of the document\n",
    "doc_result.body"
   ]
  },
  {
   "cell_type": "markdown",
   "metadata": {},
   "source": [
    "O índice 0 mostra-nos o texto:"
   ]
  },
  {
   "cell_type": "code",
   "execution_count": null,
   "metadata": {},
   "outputs": [],
   "source": [
    "doc_result.body[0]"
   ]
  },
  {
   "cell_type": "markdown",
   "metadata": {},
   "source": [
    "O índice 1 a primeira tabela que aparece no documento:"
   ]
  },
  {
   "cell_type": "code",
   "execution_count": null,
   "metadata": {},
   "outputs": [],
   "source": [
    "doc_result.body[1]"
   ]
  },
  {
   "cell_type": "markdown",
   "metadata": {},
   "source": [
    "Já o índice 3 dá-nos os detalhes da segunda tabela:"
   ]
  },
  {
   "cell_type": "code",
   "execution_count": null,
   "metadata": {},
   "outputs": [],
   "source": [
    "doc_result.body[3]"
   ]
  },
  {
   "cell_type": "markdown",
   "metadata": {},
   "source": [
    "Por sua vez o método `images` consiste de um dicionário onde a key é o nome da image e o valor é a imagem em formato binário:"
   ]
  },
  {
   "cell_type": "code",
   "execution_count": null,
   "metadata": {},
   "outputs": [],
   "source": [
    "doc_result.images"
   ]
  },
  {
   "cell_type": "markdown",
   "metadata": {},
   "source": [
    "Para termos acesso à lista de todas as imagens:"
   ]
  },
  {
   "cell_type": "code",
   "execution_count": null,
   "metadata": {},
   "outputs": [],
   "source": [
    "doc_result.images.keys()"
   ]
  },
  {
   "cell_type": "markdown",
   "metadata": {},
   "source": [
    "Podemos também ter acesso às notas de rodapé:"
   ]
  },
  {
   "cell_type": "code",
   "execution_count": null,
   "metadata": {},
   "outputs": [],
   "source": [
    "doc_result.footnotes"
   ]
  },
  {
   "cell_type": "markdown",
   "metadata": {},
   "source": [
    "Bem como ao cabeçalho e ao rodapé (se definidos):"
   ]
  },
  {
   "cell_type": "code",
   "execution_count": null,
   "metadata": {},
   "outputs": [],
   "source": [
    "doc_result.header"
   ]
  },
  {
   "cell_type": "markdown",
   "metadata": {},
   "source": [
    "O código seguinte permite importar a biblioteca e definir o path."
   ]
  },
  {
   "cell_type": "markdown",
   "metadata": {},
   "source": [
    "## HTML Files"
   ]
  },
  {
   "cell_type": "markdown",
   "metadata": {},
   "source": [
    "### Requests"
   ]
  },
  {
   "cell_type": "markdown",
   "metadata": {},
   "source": [
    "Uma das possibilidades para fazer download de um ficheiro é usar o método `requests`, ler os conteúdos e gravá-los num ficheiro de texto. Na presença de um ficheiro grande, este método pode no entanto tornar-se algo lento."
   ]
  },
  {
   "cell_type": "code",
   "execution_count": null,
   "metadata": {},
   "outputs": [],
   "source": [
    "import requests\n",
    "\n",
    "url = \"http://dataquestio.github.io/web-scraping-pages/simple.html\"\n",
    "page = requests.get(url, stream=True)\n",
    "print(page.content)"
   ]
  },
  {
   "cell_type": "markdown",
   "metadata": {},
   "source": [
    "Os dois módulos seguintes, oferecem ao utilizador a possibilidade de contornar este problema, ao possibilitar o download direto do ficheiro."
   ]
  },
  {
   "cell_type": "markdown",
   "metadata": {},
   "source": [
    "### URLLIB"
   ]
  },
  {
   "cell_type": "code",
   "execution_count": null,
   "metadata": {},
   "outputs": [],
   "source": [
    "import urllib\n",
    "\n",
    "url = \"http://dataquestio.github.io/web-scraping-pages/simple.html\"\n",
    "\n",
    "SavePath = \"data/simple.html\"\n",
    "urllib.request.urlretrieve (url, SavePath)"
   ]
  },
  {
   "cell_type": "markdown",
   "metadata": {},
   "source": [
    "Um outro método interessante prende-se com a possibilidade de obtermos apenas o endereço absoluto de um dado URL."
   ]
  },
  {
   "cell_type": "code",
   "execution_count": null,
   "metadata": {},
   "outputs": [],
   "source": [
    "from urllib.parse import urlparse\n",
    "o = urlparse('http://www.cwi.nl:80/%7Eguido/Python.html')\n",
    "o.netloc"
   ]
  },
  {
   "cell_type": "markdown",
   "metadata": {},
   "source": [
    "### WGet"
   ]
  },
  {
   "cell_type": "code",
   "execution_count": null,
   "metadata": {},
   "outputs": [],
   "source": [
    "!pip install wget"
   ]
  },
  {
   "cell_type": "code",
   "execution_count": null,
   "metadata": {},
   "outputs": [],
   "source": [
    "import wget\n",
    "\n",
    "url = 'http://i3.ytimg.com/vi/J---aiyznGQ/mqdefault.jpg'  \n",
    "wget.download(url, 'data/cat4.jpg')"
   ]
  },
  {
   "cell_type": "markdown",
   "metadata": {},
   "source": [
    "<hr>"
   ]
  },
  {
   "cell_type": "markdown",
   "metadata": {
    "slideshow": {
     "slide_type": "slide"
    }
   },
   "source": [
    "## CSV"
   ]
  },
  {
   "cell_type": "markdown",
   "metadata": {},
   "source": [
    "Considere o seguinte <i>CSV</i>:"
   ]
  },
  {
   "cell_type": "markdown",
   "metadata": {
    "slideshow": {
     "slide_type": "fragment"
    }
   },
   "source": [
    "```\n",
    "4/5/2015 13:34,Apples,73\n",
    "4/5/2015 3:41,Cherries,85\n",
    "4/6/2015 12:46,Pears,14\n",
    "4/8/2015 8:59,Oranges,52\n",
    "4/10/2015 2:07,Apples,152\n",
    "4/10/2015 18:10,Bananas,23\n",
    "4/10/2015 2:40,Strawberries,98\n",
    "```"
   ]
  },
  {
   "cell_type": "markdown",
   "metadata": {},
   "source": [
    "### Read"
   ]
  },
  {
   "cell_type": "markdown",
   "metadata": {
    "slideshow": {
     "slide_type": "subslide"
    }
   },
   "source": [
    "Com recurso ao módulo <i>csv</i> leia o ficheiro anteriormente criado."
   ]
  },
  {
   "cell_type": "code",
   "execution_count": null,
   "metadata": {
    "code_folding": [],
    "slideshow": {
     "slide_type": "fragment"
    }
   },
   "outputs": [],
   "source": [
    "import csv\n",
    "\n",
    "path = \"data/\"\n",
    "#path = '/content/drive/My Drive/Colab Notebooks/data/' #Google Colab\n",
    "\n",
    "file_name = \"example.csv\"\n",
    "\n",
    "with open(path + file_name, encoding='utf-8') as csvfile:\n",
    "    readCSV = csv.reader(csvfile, delimiter=',')\n",
    "    for row in readCSV:\n",
    "        print(row)\n",
    "        print(row[0]) #imprime os resultados da 1.ª coluna\n",
    "        print(\"\\n\")"
   ]
  },
  {
   "cell_type": "markdown",
   "metadata": {
    "slideshow": {
     "slide_type": "subslide"
    }
   },
   "source": [
    "Suponha que pretende guardar as datas e os frutos à medida que os lê."
   ]
  },
  {
   "cell_type": "code",
   "execution_count": null,
   "metadata": {
    "slideshow": {
     "slide_type": "fragment"
    }
   },
   "outputs": [],
   "source": [
    "import csv\n",
    "dates = []\n",
    "fruits = []\n",
    "qtd = []\n",
    "\n",
    "path = \"data/\"\n",
    "#path = '/content/drive/My Drive/Colab Notebooks/data/' #Google Colab\n",
    "\n",
    "file_name = \"example.csv\"\n",
    "\n",
    "with open(path + file_name) as csvfile:\n",
    "    readCSV = csv.reader(csvfile, delimiter=',')\n",
    "    for row in readCSV:\n",
    "        dates.append(row[0])\n",
    "        fruits.append(row[1])\n",
    "        qtd.append(row[2])\n",
    "print (dates)\n",
    "print (fruits)\n",
    "print(qtd)"
   ]
  },
  {
   "cell_type": "markdown",
   "metadata": {
    "slideshow": {
     "slide_type": "subslide"
    }
   },
   "source": [
    "Uma outra possibilidade passa por ler o ficheiro e fechar automaticamente a conexão, fazendo as operações posteriormente."
   ]
  },
  {
   "cell_type": "code",
   "execution_count": null,
   "metadata": {
    "slideshow": {
     "slide_type": "fragment"
    }
   },
   "outputs": [],
   "source": [
    "import csv\n",
    "\n",
    "path = \"data/\"\n",
    "#path = '/content/drive/My Drive/Colab Notebooks/data/' #Google Colab\n",
    "\n",
    "file_name = \"example.csv\"\n",
    "\n",
    "csvfile = open(path + file_name)\n",
    "readCSV = csv.reader(csvfile, delimiter=',')\n",
    "data = list(readCSV)\n",
    "print(data)\n",
    "print(\"\\n\")\n",
    "print(data[0][0])"
   ]
  },
  {
   "cell_type": "markdown",
   "metadata": {},
   "source": [
    "### Write with Comma"
   ]
  },
  {
   "cell_type": "markdown",
   "metadata": {},
   "source": [
    "Por defeito os ficheiros `CSV` são guardados com os elementos separados por `,`."
   ]
  },
  {
   "cell_type": "markdown",
   "metadata": {},
   "source": [
    "O código abaixo exemplifica como poderia guardar uma linha de dados num ficheiro csv."
   ]
  },
  {
   "cell_type": "code",
   "execution_count": null,
   "metadata": {},
   "outputs": [],
   "source": [
    "import csv\n",
    "\n",
    "path = \"data/\"\n",
    "#path = '/content/drive/My Drive/Colab Notebooks/data/' #Google Colab\n",
    "\n",
    "file_name = \"holidays.csv\"\n",
    "\n",
    "row = ['4', ' Danny', ' New York']\n",
    "\n",
    "with open(path + file_name, 'w') as csvFile:\n",
    "    writer = csv.writer(csvFile)\n",
    "    writer.writerow(row)\n",
    "\n",
    "csvFile.close()"
   ]
  },
  {
   "cell_type": "markdown",
   "metadata": {},
   "source": [
    "Se os seus dados incluírem mais do que uma linha, terá que recorrer a um ciclo `for` para iterar sob os mesmos."
   ]
  },
  {
   "cell_type": "code",
   "execution_count": null,
   "metadata": {},
   "outputs": [],
   "source": [
    "import csv\n",
    "\n",
    "path = \"data/\"\n",
    "#path = '/content/drive/My Drive/Colab Notebooks/data/' #Google Colab\n",
    "\n",
    "file_name = \"holidays1.csv\"\n",
    "\n",
    "multipleRows = [['4', ' Danny', ' New York'],\n",
    "['5', ' Miguel', ' Los Angeles']]\n",
    "\n",
    "with open(path + file_name, 'w') as csvFile:\n",
    "    writer = csv.writer(csvFile)\n",
    "    for row in multipleRows:\n",
    "        writer.writerow(row)"
   ]
  },
  {
   "cell_type": "markdown",
   "metadata": {},
   "source": [
    "### Write with Delimeter"
   ]
  },
  {
   "cell_type": "markdown",
   "metadata": {},
   "source": [
    "Suponha que pretende guardar os dados seguinte (e.g., `'SN', 'Person', 'DOB'`) num ficheiro csv mas com um delimitador que não a `,`.  Com vista a esse objetivo terá que registar um dialeto, ou seja o delimitador pretendido."
   ]
  },
  {
   "cell_type": "code",
   "execution_count": null,
   "metadata": {},
   "outputs": [],
   "source": [
    "import csv\n",
    "\n",
    "person = [['SN', 'Person', 'DOB'],\n",
    "['1', 'John', '18/1/1997'],\n",
    "['2', 'Marie','19/2/1998'],\n",
    "['3', 'Simon','20/3/1999'],\n",
    "['4', 'Erik', '21/4/2000'],\n",
    "['5', 'Ana', '22/5/2001']]\n",
    "\n",
    "csv.register_dialect('myDialect',\n",
    "delimiter = ';',\n",
    "quoting=csv.QUOTE_NONE,\n",
    "skipinitialspace=True)\n",
    "\n",
    "path = \"data/\"\n",
    "#path = '/content/drive/My Drive/Colab Notebooks/data/' #Google Colab\n",
    "\n",
    "file_name = \"person1.csv\"\n",
    "\n",
    "with open(path + file_name, 'w') as csvFile:\n",
    "    writer = csv.writer(csvFile, dialect='myDialect')\n",
    "    for row in person:\n",
    "        writer.writerow(row)"
   ]
  },
  {
   "cell_type": "markdown",
   "metadata": {},
   "source": [
    "No exemplo seguinte os dados que pretende guardar (`data`) advêm de uma junção de duas listas feita com recurso ao comando `zip`."
   ]
  },
  {
   "cell_type": "code",
   "execution_count": null,
   "metadata": {},
   "outputs": [],
   "source": [
    "import csv\n",
    "\n",
    "fruit = ['a','b','c']\n",
    "recipes = ['pie','juice','milkshake']\n",
    "data = list(zip(fruit,recipes))\n",
    "\n",
    "csv.register_dialect('myDialect',\n",
    "delimiter = ';',\n",
    "quoting=csv.QUOTE_NONE,\n",
    "skipinitialspace=True)\n",
    "\n",
    "path = \"data/\"\n",
    "#path = '/content/drive/My Drive/Colab Notebooks/data/' #Google Colab\n",
    "\n",
    "file_name = \"fruit.csv\"\n",
    "\n",
    "with open(path + file_name, \"w\") as csvFile:\n",
    "    writer = csv.writer(csvFile, dialect='myDialect')\n",
    "    for row in data:\n",
    "        writer.writerow(row)"
   ]
  },
  {
   "cell_type": "markdown",
   "metadata": {},
   "source": [
    "<hr>"
   ]
  },
  {
   "cell_type": "markdown",
   "metadata": {
    "slideshow": {
     "slide_type": "slide"
    }
   },
   "source": [
    "## JSON"
   ]
  },
  {
   "cell_type": "markdown",
   "metadata": {},
   "source": [
    "Desde o seu surgimento que o JSON rapidamente se tornou no \"de facto standard\" para troca de informação. A obtenção de um ficheiro JSON decorre habitualmente no decurso da execução de uma API. A figura abaixo ilustra um ficheiro JSON:"
   ]
  },
  {
   "cell_type": "markdown",
   "metadata": {},
   "source": [
    "<img src=\"https://www.di.ubi.pt/~rcampos/assets/img_tutorials/Introduction2Python/json.jpg\" width=\"500\" height=\"500\" align=\"center\"/>"
   ]
  },
  {
   "cell_type": "markdown",
   "metadata": {},
   "source": [
    "Como pode ver, o JSON suporta tipos de dados primitivos (strings, numbers, floats, etc), assim como listas encadeadas e objetos."
   ]
  },
  {
   "cell_type": "markdown",
   "metadata": {},
   "source": [
    "### Write"
   ]
  },
  {
   "cell_type": "markdown",
   "metadata": {},
   "source": [
    "JSON (JavaScript Object Notation) faz parte da biblioteca padrão do Python desde a versão 2.5. Consideramo-lo um formato nativo, agora. É um formato baseado em texto."
   ]
  },
  {
   "cell_type": "markdown",
   "metadata": {},
   "source": [
    "No Python recorremos ao módulo `json` para guardar objetos Python (listas, dicionários, etc) num ficheiro ou para os converter num JSon String. Em primeira instância isso pode ser útil para guardar variáveis de Python num ficheiro (em inglês: serializing e de-serializing de objetos) por forma que mais tarde possam ser usadas. Uma tal opção permite por exemplo realizar **cache** de resultados evitando dessa forma: (1) sobrecarregar o servidor a partir do qual os resultados são obtidos; (2) manter a consistência dos resultados (diferentes chamadas poderiam retornar diferentes resultados) o que pode ser útil aquando da realização de experiências. Em segunda instância permite passar dados para um endpoint de uma API."
   ]
  },
  {
   "cell_type": "markdown",
   "metadata": {},
   "source": [
    "O código seguinte simula uma lista com informações de pessoas. Em concreto, cada elemento da lista guarda informações acerca do nome da pessoa, do email, da idade e da data de nascimento."
   ]
  },
  {
   "cell_type": "code",
   "execution_count": null,
   "metadata": {},
   "outputs": [],
   "source": [
    "infoperson = [\n",
    "    {\"name\": \"Alethia Alonso\", \"email\": \"altethia@example.com\", \"age\": 35, \"birthday\": \"4 July\"}, \n",
    "    {\"name\": \"Klaus Mauer\", \"email\": \"klaus@example.com\", \"age\": 57, \"birthday\": \"31 August\"}, \n",
    "    {\"name\": \"Natsuo Shinohara\", \"email\": \"natsuo@example.com\", \"age\": 29, \"birthday\": \"14 July\"}]"
   ]
  },
  {
   "cell_type": "markdown",
   "metadata": {},
   "source": [
    "Para guardar os resultados num formato json (num ficheiro) recorremos ao método `dump`."
   ]
  },
  {
   "cell_type": "code",
   "execution_count": null,
   "metadata": {},
   "outputs": [],
   "source": [
    "import json\n",
    "\n",
    "path = \"data/\"\n",
    "#path = '/content/drive/My Drive/Colab Notebooks/data/' #Google Colab\n",
    "\n",
    "file_name = \"infoperson.json\"\n",
    "\n",
    "with open(path + file_name, \"w\") as outfile:\n",
    "    json.dump(infoperson, outfile)"
   ]
  },
  {
   "cell_type": "markdown",
   "metadata": {},
   "source": [
    "Se pretender que o json fique guardado com um formato mais entendível use `indent`. Uma vez executado o seguinte código abra o ficheiro e observe a forma como o json fica guardado."
   ]
  },
  {
   "cell_type": "code",
   "execution_count": null,
   "metadata": {},
   "outputs": [],
   "source": [
    "import json\n",
    "\n",
    "path = \"data/\"\n",
    "#path = '/content/drive/My Drive/Colab Notebooks/data/' #Google Colab\n",
    "\n",
    "file_name = \"infoperson.json\"\n",
    "\n",
    "with open(path + file_name, \"w\") as outfile:\n",
    "    json.dump(infoperson, outfile, indent = 4)"
   ]
  },
  {
   "cell_type": "markdown",
   "metadata": {},
   "source": [
    "### Read"
   ]
  },
  {
   "cell_type": "markdown",
   "metadata": {},
   "source": [
    "Em sentido inverso o método `load` carrega o ficheiro json a partir do ficheiro aí especificado."
   ]
  },
  {
   "cell_type": "code",
   "execution_count": null,
   "metadata": {},
   "outputs": [],
   "source": [
    "import json\n",
    "\n",
    "path = \"data/\"\n",
    "#path = '/content/drive/My Drive/Colab Notebooks/data/' #Google Colab\n",
    "\n",
    "file_name = \"infoperson.json\"\n",
    "\n",
    "with open(path + file_name, \"r\") as readfile:\n",
    "    data = json.load(readfile)\n",
    "\n",
    "#Impressao com recurso ao pretty print - mais entendivel\n",
    "import pprint\n",
    "pprint.pprint(data)"
   ]
  },
  {
   "cell_type": "code",
   "execution_count": null,
   "metadata": {},
   "outputs": [],
   "source": [
    "import pandas as pd\n",
    "pd.DataFrame(data)"
   ]
  },
  {
   "cell_type": "markdown",
   "metadata": {},
   "source": [
    "#### keys of dict as str"
   ]
  },
  {
   "cell_type": "markdown",
   "metadata": {},
   "source": [
    "Note que JSon guarda sempre as keys de um dicionário como string, mesmo que as keys sejam inteiras. Para confirmar isso considere o seguinte dicionário:"
   ]
  },
  {
   "cell_type": "code",
   "execution_count": null,
   "metadata": {},
   "outputs": [],
   "source": [
    "data = {1: 0.9, 2: 0.7}"
   ]
  },
  {
   "cell_type": "markdown",
   "metadata": {},
   "source": [
    "Guarde agora o dicionário num ficheiro JSon:"
   ]
  },
  {
   "cell_type": "code",
   "execution_count": null,
   "metadata": {},
   "outputs": [],
   "source": [
    "path = \"data/\"\n",
    "#path = '/content/drive/My Drive/Colab Notebooks/data/' #Google Colab\n",
    "\n",
    "file_name = \"dict.json\"\n",
    "\n",
    "with open(path + file_name, \"w\") as outfile:\n",
    "    json.dump(data, outfile, indent = 4)"
   ]
  },
  {
   "cell_type": "markdown",
   "metadata": {},
   "source": [
    "Carregue agora o ficheiro JSon e observe que tanto 1 como 2 apresentam-se como strings. Isto é porque o JSon guarda todas as keys como strings."
   ]
  },
  {
   "cell_type": "code",
   "execution_count": null,
   "metadata": {},
   "outputs": [],
   "source": [
    "import json\n",
    "\n",
    "path = \"data/\"\n",
    "#path = '/content/drive/My Drive/Colab Notebooks/data/' #Google Colab\n",
    "\n",
    "file_name = \"dict.json\"\n",
    "\n",
    "with open(path + file_name, \"r\") as readfile:\n",
    "    data = json.load(readfile)\n",
    "\n",
    "print(data)"
   ]
  },
  {
   "cell_type": "markdown",
   "metadata": {},
   "source": [
    "Se prentender (re-)converter as keys para int proceda da seguinte forma:"
   ]
  },
  {
   "cell_type": "code",
   "execution_count": null,
   "metadata": {},
   "outputs": [],
   "source": [
    "data = {int(k):v for k,v in data.items()}\n",
    "print(data)"
   ]
  },
  {
   "cell_type": "markdown",
   "metadata": {},
   "source": [
    "#### Dates in json files"
   ]
  },
  {
   "cell_type": "markdown",
   "metadata": {},
   "source": [
    "Se pretender guardar datas em formato json terá que usar o parâmetro `default=str`, parâmetro que permite guardar todos os elementos em formato string (datas incluídas). A não especificação deste parâmetro retornará o seguinte erro: `TypeError: Object of type datetime is not JSON serializable`."
   ]
  },
  {
   "cell_type": "code",
   "execution_count": null,
   "metadata": {},
   "outputs": [],
   "source": [
    "import json\n",
    "from datetime import datetime\n",
    "\n",
    "path = \"data/\"\n",
    "#path = '/content/drive/My Drive/Colab Notebooks/data/' #Google Colab\n",
    "\n",
    "file_name = \"timestamp.json\"\n",
    "now = datetime.now()\n",
    "\n",
    "data = {'timestamp':now}\n",
    "with open(path + file_name, \"w\", encoding='utf-8') as outfile:\n",
    "    json.dump(data, outfile, default=str)"
   ]
  },
  {
   "cell_type": "markdown",
   "metadata": {},
   "source": [
    "Proceda ao load do ficheiro json e observe que data é agora um objeto string."
   ]
  },
  {
   "cell_type": "code",
   "execution_count": null,
   "metadata": {},
   "outputs": [],
   "source": [
    "with open(path + file_name, \"r\", encoding='utf-8') as readfile:\n",
    "    data = json.load(readfile)\n",
    "data"
   ]
  },
  {
   "cell_type": "markdown",
   "metadata": {},
   "source": [
    "Posteriormente pode recorrer ao método `parse` para formatar a string em formato data."
   ]
  },
  {
   "cell_type": "code",
   "execution_count": null,
   "metadata": {},
   "outputs": [],
   "source": [
    "from dateutil import parser\n",
    "data['timestamp'] = parser.parse(data['timestamp'])\n",
    "data"
   ]
  },
  {
   "cell_type": "markdown",
   "metadata": {},
   "source": [
    "#### ASCII"
   ]
  },
  {
   "cell_type": "markdown",
   "metadata": {},
   "source": [
    "Note também que por defeito, o `json.dump` garante que todo o texto de um dado dicionário é ASCII-encoded. Assim, se caracteres non-ASCII forem encontrados no texto, os mesmos serão automaticamente `escaped` (e.g., `\\u00a34.00`). Para manter os caracteres na sua forma original recorra ao `ensure_ascii=False`. Pode também gravar o ficheiro com encoding `utf-8`."
   ]
  },
  {
   "cell_type": "code",
   "execution_count": null,
   "metadata": {},
   "outputs": [],
   "source": [
    "import json\n",
    "\n",
    "path = \"data/\"\n",
    "#path = '/content/drive/My Drive/Colab Notebooks/data/' #Google Colab\n",
    "\n",
    "file_name = \"dict.json\"\n",
    "\n",
    "data = {'price':'£34.00'}\n",
    "with open(path + file_name, \"w\", encoding='utf-8') as outfile:\n",
    "    json.dump(data, outfile, ensure_ascii=False, indent = 4)"
   ]
  },
  {
   "cell_type": "markdown",
   "metadata": {},
   "source": [
    "Naturalmente depois na leitura deverá usar também `encoding='utf-8'`."
   ]
  },
  {
   "cell_type": "code",
   "execution_count": null,
   "metadata": {},
   "outputs": [],
   "source": [
    "with open(path + file_name, \"r\", encoding='utf-8') as readfile:\n",
    "    data = json.load(readfile)\n",
    "data"
   ]
  },
  {
   "cell_type": "markdown",
   "metadata": {},
   "source": [
    "### Serialization"
   ]
  },
  {
   "cell_type": "markdown",
   "metadata": {},
   "source": [
    "O processo de \"encoding JSON\" é designado de \"serialization\". O termo em si, refere-se à transformação de dados numa série de bytes (daí \"serial\") por forma a serem transmitidos através de uma rede. Naturalmente, \"deserialization\" é o processo inverso de \"decoding\" dados que foram guardados num standard JSON."
   ]
  },
  {
   "cell_type": "markdown",
   "metadata": {},
   "source": [
    "Para converter um objeto Python num formato JSon string recorremos ao método `dumps`. Se `dump`, como vimos anteriormente, permite guardar um objeto em formato JSon num ficheiro, `dumps` tem por objetivo convertê-lo numa string (sem necessidade de o guardar num ficheiro). Uma tal conversão pode ser útil para passar um conjunto de dados para o endpoint de uma API."
   ]
  },
  {
   "cell_type": "markdown",
   "metadata": {},
   "source": [
    "O exemplo abaixo permite converter uma lista (de 3 pequenos textos) num JSon string."
   ]
  },
  {
   "cell_type": "code",
   "execution_count": null,
   "metadata": {},
   "outputs": [],
   "source": [
    "import json\n",
    "my_list = ['texto1', 'texto2', 'texto3']\n",
    "my_json_string = json.dumps(my_list)\n",
    "my_json_string"
   ]
  },
  {
   "cell_type": "code",
   "execution_count": null,
   "metadata": {},
   "outputs": [],
   "source": [
    "type(my_json_string)"
   ]
  },
  {
   "cell_type": "markdown",
   "metadata": {},
   "source": [
    "Já no servidor poderá, posteriormente, re-converter o texto de novo para uma lista."
   ]
  },
  {
   "cell_type": "code",
   "execution_count": null,
   "metadata": {},
   "outputs": [],
   "source": [
    "new_list = json.loads(my_json_string)\n",
    "type(new_list)"
   ]
  },
  {
   "cell_type": "markdown",
   "metadata": {},
   "source": [
    "<hr>"
   ]
  },
  {
   "cell_type": "markdown",
   "metadata": {},
   "source": [
    "### Quizzes"
   ]
  },
  {
   "cell_type": "markdown",
   "metadata": {},
   "source": [
    "Considere a variável ListOfStudents que reúne as preferências dos alunos em termos de unidades curriculares.\n",
    "```python\n",
    "ListOfStudents = [{\"id\":1, \"name\":\"joão\", \"ucs\":[\"text and web mining\", \"sistemas de recomendação\"]},\n",
    "                              {\"id\":2, \"name\":\"filipa\", \"ucs\":[\"text and web mining\", \"infraestruturas para big data\"]}]\n",
    "```"
   ]
  },
  {
   "cell_type": "markdown",
   "metadata": {},
   "source": [
    "Escreva um programa que guarde o conteúdo da variável `ListOfStudents` num ficheiro json denominado `students.json`."
   ]
  },
  {
   "cell_type": "code",
   "execution_count": null,
   "metadata": {},
   "outputs": [],
   "source": [
    "import json\n",
    "\n",
    "path = \"data/\"\n",
    "\n",
    "file_name = \"students.json\"\n",
    "\n",
    "ListOfStudents = [{\"id\":1, \"name\":\"joão\", \"ucs\":[\"text and web mining\", \"sistemas de recomendação\"]},\n",
    "                              {\"id\":2, \"name\":\"filipa\", \"ucs\":[\"text and web mining\", \"infraestruturas para big data\"]}]\n",
    "\n",
    "#gravar ficheiro com recurso a dump"
   ]
  },
  {
   "cell_type": "markdown",
   "metadata": {},
   "source": [
    "Clique duas vezes <b>aqui</b> para aceder à solução completa\n",
    "<!--\n",
    "import json\n",
    "\n",
    "path = \"data/\"\n",
    "\n",
    "file_name = \"students.json\"\n",
    "\n",
    "ListOfStudents = [{\"id\":1, \"name\":\"joão\", \"ucs\":[\"text and web mining\", \"sistemas de recomendação\"]},\n",
    "                              {\"id\":2, \"name\":\"filipa\", \"ucs\":[\"text and web mining\", \"infraestruturas para big data\"]}]\n",
    "\n",
    "#gravar ficheiro com recurso a dump\n",
    "with open(path + file_name, \"w\") as outfile:\n",
    "    json.dump(ListOfStudents, outfile, ensure_ascii=False, indent = 4)\n",
    "-->"
   ]
  },
  {
   "cell_type": "code",
   "execution_count": null,
   "metadata": {},
   "outputs": [],
   "source": [
    "import json\n",
    "\n",
    "path = \"data/\"\n",
    "\n",
    "file_name = \"students.json\"\n",
    "\n",
    "#ler com recurso ao json.load\n",
    "\n",
    "#Impressao com recurso ao pretty print - mais entendivel"
   ]
  },
  {
   "cell_type": "markdown",
   "metadata": {},
   "source": [
    "Clique duas vezes <b>aqui</b> para aceder à solução completa\n",
    "<!--\n",
    "import json\n",
    "\n",
    "path = \"data/\"\n",
    "\n",
    "file_name = \"students.json\"\n",
    "\n",
    "#ler com recurso ao json.load\n",
    "with open(path + file_name, \"r\") as readfile:\n",
    "    data = json.load(readfile)\n",
    "\n",
    "#Impressao com recurso ao pretty print - mais entendivel\n",
    "import pprint\n",
    "pprint.pprint(data)\n",
    "-->"
   ]
  },
  {
   "cell_type": "markdown",
   "metadata": {},
   "source": [
    "Finalmente, recorra a um ciclo for para iterar sobre todos os estudantes existentes na variável data e imprimir a lista de UCs preferidas. Output esperado:\n",
    "```python\n",
    "[\"text and web mining\", \"sistemas de recomendação\"]\n",
    "[\"text and web mining\", \"infraestruturas para big data]\n",
    "```"
   ]
  },
  {
   "cell_type": "code",
   "execution_count": null,
   "metadata": {},
   "outputs": [],
   "source": [
    "#imprimir lista de ucs preferidas"
   ]
  },
  {
   "cell_type": "markdown",
   "metadata": {},
   "source": [
    "Clique duas vezes <b>aqui</b> para aceder à solução completa\n",
    "<!--\n",
    "for student in data:\n",
    "    print(student['ucs'])\n",
    "-->"
   ]
  },
  {
   "cell_type": "markdown",
   "metadata": {},
   "source": [
    "<hr>"
   ]
  },
  {
   "cell_type": "markdown",
   "metadata": {},
   "source": [
    "## Lock Files"
   ]
  },
  {
   "cell_type": "markdown",
   "metadata": {},
   "source": [
    "[FileLock](https://py-filelock.readthedocs.io/en/latest/) é usado para indicar que um determinado ficheiro se encontra atualmente a ser usado (particularmente útil no caso de se pretender fazer cache)."
   ]
  },
  {
   "cell_type": "markdown",
   "metadata": {},
   "source": [
    "Para proceder à instalação do FileLock:"
   ]
  },
  {
   "cell_type": "code",
   "execution_count": null,
   "metadata": {},
   "outputs": [],
   "source": [
    "!pip install filelock"
   ]
  },
  {
   "cell_type": "markdown",
   "metadata": {},
   "source": [
    "No exemplo a seguir pretendemos escrever um pequeno texto (\"teste\") no ficheiro denominado `testlock.txt`. Para garantir que nenhum outro processo pode aceder ao ficheiro durante o processo de escrita, `filelock` recorre à criação de um ficheiro adicional (`lock_path = pathfile + \".lock\"`) que se manterá temporariamente no disco durante o processo de escrita (observe que neste exemplo especificamos 20 segundos de espera até o `lock` ser libertado, por forma a que possa consultar a pasta onde o ficheiro se encontra a ser escrito e nela possa observar a existência do ficheiro lock)."
   ]
  },
  {
   "cell_type": "code",
   "execution_count": null,
   "metadata": {},
   "outputs": [],
   "source": [
    "from filelock import Timeout, FileLock\n",
    "import time\n",
    "import os\n",
    "\n",
    "path = \"data/data/\"\n",
    "#path = '/content/drive/My Drive/Colab Notebooks/data/' #Google Colab\n",
    "\n",
    "file_name = \"testlock.txt\"\n",
    "\n",
    "pathfile = path + file_name\n",
    "\n",
    "lock_path = pathfile + \".lock\" #always need to have this!\n",
    "lock = FileLock(lock_path)\n",
    "\n",
    "lock.acquire()\n",
    "try:\n",
    "    with open(pathfile, \"w\") as f:\n",
    "        f.write(\"teste\")\n",
    "finally:\n",
    "    time.sleep(20)\n",
    "    lock.release()\n",
    "    if os.path.exists(lock.lock_file):\n",
    "        os.remove(lock.lock_file)"
   ]
  },
  {
   "cell_type": "markdown",
   "metadata": {},
   "source": [
    "<img src=\"https://www.di.ubi.pt/~rcampos/assets/img_tutorials/Introduction2Python/lockfile.jpg\" width=\"300\" height=\"300\" align=\"center\"/>"
   ]
  },
  {
   "cell_type": "markdown",
   "metadata": {},
   "source": [
    "Uma vez concluído o `release` o ficheiro de extensão `.lock` é eliminado dando indicação aos restantes processos que o ficheiro se encontra livre para escrita."
   ]
  },
  {
   "cell_type": "markdown",
   "metadata": {},
   "source": [
    "Para verificar o funcionamento do filelock pode (paralelamente) abrir um novo notebook e tentar escrever um qualquer conteúdo dentro do ficheiro durante o tempo (20 segundos) em que o ficheiro se encontra bloqueado."
   ]
  },
  {
   "cell_type": "markdown",
   "metadata": {},
   "source": [
    "## Temporary Files"
   ]
  },
  {
   "cell_type": "markdown",
   "metadata": {},
   "source": [
    "Ficheiros temporários ou \"tempfiles\" são maioritariamente usados para guardar informação intermédia num disco rígido. Idealmente estes ficheiros são localizados num diretório separado que varia de sistema operativo para sistema operativo e os nomes dos ficheiros deverão ser únicos. Uma vez terminada a execução do programa os ficheiros devem ser automaticamente eliminados."
   ]
  },
  {
   "cell_type": "markdown",
   "metadata": {},
   "source": [
    "O Python disponibiliza um módulo denominado \"tempfile\" que torna o processo de gestão deste tipod e ficheiros bastantes simples. Um tutorial sobre o uso deste módulo pode ser encontrado [aqui](https://stackabuse.com/the-python-tempfile-module/)."
   ]
  }
 ],
 "metadata": {
  "kernelspec": {
   "display_name": "Python 3 (ipykernel)",
   "language": "python",
   "name": "python3"
  },
  "language_info": {
   "codemirror_mode": {
    "name": "ipython",
    "version": 3
   },
   "file_extension": ".py",
   "mimetype": "text/x-python",
   "name": "python",
   "nbconvert_exporter": "python",
   "pygments_lexer": "ipython3",
   "version": "3.11.7"
  },
  "toc": {
   "base_numbering": 1,
   "nav_menu": {},
   "number_sections": true,
   "sideBar": true,
   "skip_h1_title": true,
   "title_cell": "Table of Contents",
   "title_sidebar": "Contents",
   "toc_cell": true,
   "toc_position": {
    "height": "calc(100% - 180px)",
    "left": "10px",
    "top": "150px",
    "width": "226.667px"
   },
   "toc_section_display": true,
   "toc_window_display": true
  }
 },
 "nbformat": 4,
 "nbformat_minor": 2
}
