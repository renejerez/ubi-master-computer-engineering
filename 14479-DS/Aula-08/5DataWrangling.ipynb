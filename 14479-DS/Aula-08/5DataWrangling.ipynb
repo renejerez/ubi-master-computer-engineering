{
 "cells": [
  {
   "cell_type": "markdown",
   "metadata": {},
   "source": [
    "<div style=\"border: 1px solid black\">\n",
    "<b><center><font size=\"4\">Data Science</font></center></b>\n",
    "\n",
    "<b><center><font size=\"3\">Manipulação e Análise de Dados com Pandas Dataframes</font></center></b>\n",
    "\n",
    "<b><center><font size=\"2\">5 - Data Wrangling</font></center></b>\n",
    "</div>"
   ]
  },
  {
   "cell_type": "markdown",
   "metadata": {},
   "source": [
    "**Notebook Developed by**: [Ricardo Campos](https://www.di.ubi.pt/~rcampos)<br>\n",
    "**email:**  ricardo.campos@ubi.pt<br>\n",
    "**Affiliation:** *Assistant Professor* @ [University of Beira Interior](http://www.ubi.pt);\n",
    "*Researcher* @ [LIAAD](https://www.inesctec.pt/en/centres/liaad)-[INESC TEC](https://www.inesctec.pt/en)\n",
    "\n",
    "<hr>\n",
    "\n",
    "<p><a href=\"5DataWrangling.ipynb\" title=\"Download Notebook\" download><img src=\"https://www.di.ubi.pt/~rcampos/assets/img_tutorials/download.jpg\" align = \"left\" width=\"50\" height=\"50\" alt=\"Download Notebook\"></a></p>\n",
    "<p>&nbsp;</p>\n",
    "<p>&nbsp;</p>\n",
    "\n",
    "<hr>"
   ]
  },
  {
   "cell_type": "markdown",
   "metadata": {
    "toc": true
   },
   "source": [
    "<h1>Table of Contents<span class=\"tocSkip\"></span></h1>\n",
    "<div class=\"toc\"><ul class=\"toc-item\"><li><span><a href=\"#Step-1:-Data-Cleaning\" data-toc-modified-id=\"Step-1:-Data-Cleaning-1\"><span class=\"toc-item-num\">1&nbsp;&nbsp;</span>Step 1: Data Cleaning</a></span><ul class=\"toc-item\"><li><span><a href=\"#Missing-Data-(NaN)\" data-toc-modified-id=\"Missing-Data-(NaN)-1.1\"><span class=\"toc-item-num\">1.1&nbsp;&nbsp;</span>Missing Data (NaN)</a></span><ul class=\"toc-item\"><li><span><a href=\"#Checking-for-Missing-Data\" data-toc-modified-id=\"Checking-for-Missing-Data-1.1.1\"><span class=\"toc-item-num\">1.1.1&nbsp;&nbsp;</span>Checking for Missing Data</a></span></li><li><span><a href=\"#replace\" data-toc-modified-id=\"replace-1.1.2\"><span class=\"toc-item-num\">1.1.2&nbsp;&nbsp;</span>replace</a></span></li><li><span><a href=\"#Deletion-(DropNa)\" data-toc-modified-id=\"Deletion-(DropNa)-1.1.3\"><span class=\"toc-item-num\">1.1.3&nbsp;&nbsp;</span>Deletion (DropNa)</a></span></li><li><span><a href=\"#Imputation-(FillNa)\" data-toc-modified-id=\"Imputation-(FillNa)-1.1.4\"><span class=\"toc-item-num\">1.1.4&nbsp;&nbsp;</span>Imputation (FillNa)</a></span><ul class=\"toc-item\"><li><span><a href=\"#Mean\" data-toc-modified-id=\"Mean-1.1.4.1\"><span class=\"toc-item-num\">1.1.4.1&nbsp;&nbsp;</span>Mean</a></span></li><li><span><a href=\"#Mode\" data-toc-modified-id=\"Mode-1.1.4.2\"><span class=\"toc-item-num\">1.1.4.2&nbsp;&nbsp;</span>Mode</a></span></li><li><span><a href=\"#Determining-different-values-to-give-to-fillna\" data-toc-modified-id=\"Determining-different-values-to-give-to-fillna-1.1.4.3\"><span class=\"toc-item-num\">1.1.4.3&nbsp;&nbsp;</span>Determining different values to give to fillna</a></span></li><li><span><a href=\"#bfill\" data-toc-modified-id=\"bfill-1.1.4.4\"><span class=\"toc-item-num\">1.1.4.4&nbsp;&nbsp;</span>bfill</a></span></li><li><span><a href=\"#ffill\" data-toc-modified-id=\"ffill-1.1.4.5\"><span class=\"toc-item-num\">1.1.4.5&nbsp;&nbsp;</span>ffill</a></span></li><li><span><a href=\"#Default-Value\" data-toc-modified-id=\"Default-Value-1.1.4.6\"><span class=\"toc-item-num\">1.1.4.6&nbsp;&nbsp;</span>Default Value</a></span></li></ul></li></ul></li><li><span><a href=\"#Duplicates\" data-toc-modified-id=\"Duplicates-1.2\"><span class=\"toc-item-num\">1.2&nbsp;&nbsp;</span>Duplicates</a></span><ul class=\"toc-item\"><li><span><a href=\"#Identify\" data-toc-modified-id=\"Identify-1.2.1\"><span class=\"toc-item-num\">1.2.1&nbsp;&nbsp;</span>Identify</a></span></li><li><span><a href=\"#Drop\" data-toc-modified-id=\"Drop-1.2.2\"><span class=\"toc-item-num\">1.2.2&nbsp;&nbsp;</span>Drop</a></span></li></ul></li></ul></li><li><span><a href=\"#Step-2:-Data-Transformation\" data-toc-modified-id=\"Step-2:-Data-Transformation-2\"><span class=\"toc-item-num\">2&nbsp;&nbsp;</span>Step 2: Data Transformation</a></span><ul class=\"toc-item\"><li><span><a href=\"#Change-Data-Types\" data-toc-modified-id=\"Change-Data-Types-2.1\"><span class=\"toc-item-num\">2.1&nbsp;&nbsp;</span>Change Data Types</a></span><ul class=\"toc-item\"><li><span><a href=\"#dates\" data-toc-modified-id=\"dates-2.1.1\"><span class=\"toc-item-num\">2.1.1&nbsp;&nbsp;</span>dates</a></span></li><li><span><a href=\"#int-(astype)\" data-toc-modified-id=\"int-(astype)-2.1.2\"><span class=\"toc-item-num\">2.1.2&nbsp;&nbsp;</span>int (astype)</a></span></li><li><span><a href=\"#float-(astype)\" data-toc-modified-id=\"float-(astype)-2.1.3\"><span class=\"toc-item-num\">2.1.3&nbsp;&nbsp;</span>float (astype)</a></span></li><li><span><a href=\"#category-(astype)\" data-toc-modified-id=\"category-(astype)-2.1.4\"><span class=\"toc-item-num\">2.1.4&nbsp;&nbsp;</span>category (astype)</a></span></li><li><span><a href=\"#str\" data-toc-modified-id=\"str-2.1.5\"><span class=\"toc-item-num\">2.1.5&nbsp;&nbsp;</span>str</a></span></li></ul></li><li><span><a href=\"#ConvertDF2Numpy\" data-toc-modified-id=\"ConvertDF2Numpy-2.2\"><span class=\"toc-item-num\">2.2&nbsp;&nbsp;</span>ConvertDF2Numpy</a></span></li><li><span><a href=\"#Add-New-Data\" data-toc-modified-id=\"Add-New-Data-2.3\"><span class=\"toc-item-num\">2.3&nbsp;&nbsp;</span>Add New Data</a></span><ul class=\"toc-item\"><li><span><a href=\"#Columns\" data-toc-modified-id=\"Columns-2.3.1\"><span class=\"toc-item-num\">2.3.1&nbsp;&nbsp;</span>Columns</a></span><ul class=\"toc-item\"><li><span><a href=\"#Add\" data-toc-modified-id=\"Add-2.3.1.1\"><span class=\"toc-item-num\">2.3.1.1&nbsp;&nbsp;</span>Add</a></span><ul class=\"toc-item\"><li><span><a href=\"#Lambda-Function\" data-toc-modified-id=\"Lambda-Function-2.3.1.1.1\"><span class=\"toc-item-num\">2.3.1.1.1&nbsp;&nbsp;</span>Lambda Function</a></span></li><li><span><a href=\"#Custom-Function\" data-toc-modified-id=\"Custom-Function-2.3.1.1.2\"><span class=\"toc-item-num\">2.3.1.1.2&nbsp;&nbsp;</span>Custom Function</a></span></li></ul></li><li><span><a href=\"#Replace-Column-Names\" data-toc-modified-id=\"Replace-Column-Names-2.3.1.2\"><span class=\"toc-item-num\">2.3.1.2&nbsp;&nbsp;</span>Replace Column Names</a></span></li></ul></li><li><span><a href=\"#Rows\" data-toc-modified-id=\"Rows-2.3.2\"><span class=\"toc-item-num\">2.3.2&nbsp;&nbsp;</span>Rows</a></span></li><li><span><a href=\"#Vectorization\" data-toc-modified-id=\"Vectorization-2.3.3\"><span class=\"toc-item-num\">2.3.3&nbsp;&nbsp;</span>Vectorization</a></span><ul class=\"toc-item\"><li><span><a href=\"#Series\" data-toc-modified-id=\"Series-2.3.3.1\"><span class=\"toc-item-num\">2.3.3.1&nbsp;&nbsp;</span>Series</a></span></li><li><span><a href=\"#Numpy\" data-toc-modified-id=\"Numpy-2.3.3.2\"><span class=\"toc-item-num\">2.3.3.2&nbsp;&nbsp;</span>Numpy</a></span><ul class=\"toc-item\"><li><span><a href=\"#Numpy-Functions\" data-toc-modified-id=\"Numpy-Functions-2.3.3.2.1\"><span class=\"toc-item-num\">2.3.3.2.1&nbsp;&nbsp;</span>Numpy Functions</a></span></li><li><span><a href=\"#numpy-where\" data-toc-modified-id=\"numpy-where-2.3.3.2.2\"><span class=\"toc-item-num\">2.3.3.2.2&nbsp;&nbsp;</span>numpy where</a></span></li></ul></li></ul></li></ul></li><li><span><a href=\"#Normalization\" data-toc-modified-id=\"Normalization-2.4\"><span class=\"toc-item-num\">2.4&nbsp;&nbsp;</span>Normalization</a></span><ul class=\"toc-item\"><li><span><a href=\"#MinMaxScaler\" data-toc-modified-id=\"MinMaxScaler-2.4.1\"><span class=\"toc-item-num\">2.4.1&nbsp;&nbsp;</span>MinMaxScaler</a></span></li><li><span><a href=\"#StandardScaler\" data-toc-modified-id=\"StandardScaler-2.4.2\"><span class=\"toc-item-num\">2.4.2&nbsp;&nbsp;</span>StandardScaler</a></span></li></ul></li><li><span><a href=\"#Feature-Encoding\" data-toc-modified-id=\"Feature-Encoding-2.5\"><span class=\"toc-item-num\">2.5&nbsp;&nbsp;</span>Feature Encoding</a></span><ul class=\"toc-item\"><li><span><a href=\"#Discretization-(Binning)\" data-toc-modified-id=\"Discretization-(Binning)-2.5.1\"><span class=\"toc-item-num\">2.5.1&nbsp;&nbsp;</span>Discretization (Binning)</a></span><ul class=\"toc-item\"><li><span><a href=\"#Custom-Function\" data-toc-modified-id=\"Custom-Function-2.5.1.1\"><span class=\"toc-item-num\">2.5.1.1&nbsp;&nbsp;</span>Custom Function</a></span></li><li><span><a href=\"#Equal-Width\" data-toc-modified-id=\"Equal-Width-2.5.1.2\"><span class=\"toc-item-num\">2.5.1.2&nbsp;&nbsp;</span>Equal-Width</a></span></li><li><span><a href=\"#Equal-Frequency\" data-toc-modified-id=\"Equal-Frequency-2.5.1.3\"><span class=\"toc-item-num\">2.5.1.3&nbsp;&nbsp;</span>Equal-Frequency</a></span></li></ul></li><li><span><a href=\"#Categorical-Data-Encoding\" data-toc-modified-id=\"Categorical-Data-Encoding-2.5.2\"><span class=\"toc-item-num\">2.5.2&nbsp;&nbsp;</span>Categorical Data Encoding</a></span><ul class=\"toc-item\"><li><span><a href=\"#Load-Dataset\" data-toc-modified-id=\"Load-Dataset-2.5.2.1\"><span class=\"toc-item-num\">2.5.2.1&nbsp;&nbsp;</span>Load Dataset</a></span></li><li><span><a href=\"#Find-and-Replace\" data-toc-modified-id=\"Find-and-Replace-2.5.2.2\"><span class=\"toc-item-num\">2.5.2.2&nbsp;&nbsp;</span>Find and Replace</a></span></li><li><span><a href=\"#Ordinal-Features\" data-toc-modified-id=\"Ordinal-Features-2.5.2.3\"><span class=\"toc-item-num\">2.5.2.3&nbsp;&nbsp;</span>Ordinal Features</a></span><ul class=\"toc-item\"><li><span><a href=\"#Ordinal-Encoding\" data-toc-modified-id=\"Ordinal-Encoding-2.5.2.3.1\"><span class=\"toc-item-num\">2.5.2.3.1&nbsp;&nbsp;</span>Ordinal Encoding</a></span></li><li><span><a href=\"#Label-Encoding\" data-toc-modified-id=\"Label-Encoding-2.5.2.3.2\"><span class=\"toc-item-num\">2.5.2.3.2&nbsp;&nbsp;</span>Label Encoding</a></span></li></ul></li><li><span><a href=\"#Nominal-Features\" data-toc-modified-id=\"Nominal-Features-2.5.2.4\"><span class=\"toc-item-num\">2.5.2.4&nbsp;&nbsp;</span>Nominal Features</a></span><ul class=\"toc-item\"><li><span><a href=\"#One-Hot-Encoding\" data-toc-modified-id=\"One-Hot-Encoding-2.5.2.4.1\"><span class=\"toc-item-num\">2.5.2.4.1&nbsp;&nbsp;</span>One Hot Encoding</a></span></li></ul></li><li><span><a href=\"#Wrap-up\" data-toc-modified-id=\"Wrap-up-2.5.2.5\"><span class=\"toc-item-num\">2.5.2.5&nbsp;&nbsp;</span>Wrap-up</a></span></li><li><span><a href=\"#Advanced-Approaches\" data-toc-modified-id=\"Advanced-Approaches-2.5.2.6\"><span class=\"toc-item-num\">2.5.2.6&nbsp;&nbsp;</span>Advanced Approaches</a></span></li><li><span><a href=\"#scikit-learn-pipelines\" data-toc-modified-id=\"scikit-learn-pipelines-2.5.2.7\"><span class=\"toc-item-num\">2.5.2.7&nbsp;&nbsp;</span>scikit-learn pipelines</a></span></li></ul></li></ul></li></ul></li><li><span><a href=\"#Bibliography\" data-toc-modified-id=\"Bibliography-3\"><span class=\"toc-item-num\">3&nbsp;&nbsp;</span>Bibliography</a></span></li></ul></div>"
   ]
  },
  {
   "cell_type": "markdown",
   "metadata": {},
   "source": [
    "# Data Wrangling <a class=\"tocSkip\">"
   ]
  },
  {
   "cell_type": "markdown",
   "metadata": {},
   "source": [
    "<div class=\"alert alert-success alertsuccess\" style=\"margin-top: 20px\">\n",
    "\n",
    "## Objetivos de aprendizagem  <a class=\"tocSkip\">\n",
    "    \n",
    "No final deste notebook o aluno deverá dominar o processo de limpeza de dados.\n",
    "\n",
    "## Learning Objectives  <a class=\"tocSkip\">\n",
    "       \n",
    "When concluding this notebook, the student should master the data wrangling process. </div>"
   ]
  },
  {
   "cell_type": "markdown",
   "metadata": {},
   "source": [
    "<div class=\"alert alert-success alertsuccess\" style=\"margin-top: 20px\">\n",
    "\n",
    "## Sumário  <a class=\"tocSkip\">\n",
    "### Limpeza de Dados <a class=\"tocSkip\">\n",
    "\n",
    "Introdução dos alunos ao processo de limpeza e transformação de dados\n",
    "- passo 1: limpeza de dados (valores nulos, duplicados)\n",
    "- passo 2: transformação de dados (alteração de tipos de dados, conversão de dataframes em arrays numpy, adição de novos dados, normalização de dados, encoding de features)\n",
    "    \n",
    "## Class Summary  <a class=\"tocSkip\">\n",
    "### Data Wrangling <a class=\"tocSkip\">\n",
    "Introducing students to the data wrangling process\n",
    "- step 1: data cleaning (NaN values, duplicates)\n",
    "- step 2: data transformation (data types modification, converting dataframes to numpy arrays, adding new data, normalization, feature encosing)\n",
    "\n",
    "</div>"
   ]
  },
  {
   "cell_type": "markdown",
   "metadata": {},
   "source": [
    "<hr>"
   ]
  },
  {
   "cell_type": "markdown",
   "metadata": {},
   "source": [
    "Ciência de dados (data science) é um processo que emprega técnicas estatísticas e computacionais para analisar grandes bases de dados, procurando extrair delas conhecimento útil para empresas, instituições científicas, governos e demais organizações."
   ]
  },
  {
   "cell_type": "markdown",
   "metadata": {},
   "source": [
    "De acordo com a literatura, a etapa de pré-processamento de\n",
    "dados costuma ser a mais trabalhosa em qualquer\n",
    "projeto relacionado à ciência de dados, ocupando tipicamente 80%\n",
    "do tempo consumido. É nesta fase que são realizadas as tarefas de\n",
    "seleção, limpeza e transformação dos dados que serão utilizados\n",
    "posteriormente pelo algoritmo de Machine Learning / Estatística."
   ]
  },
  {
   "cell_type": "markdown",
   "metadata": {},
   "source": [
    "As atividades de seleção, limpeza e transformação de dados são comumente referenciadas como atividades de Data `Wrangling`, `Data Munging` ou `Data Preparation`. A biblioteca pandas (Python Data Analysis Library) foi\n",
    "especialmente projetada para oferecer o suporte ao processo de Data Wrangling."
   ]
  },
  {
   "cell_type": "markdown",
   "metadata": {},
   "source": [
    "## Step 1: Data Cleaning"
   ]
  },
  {
   "cell_type": "markdown",
   "metadata": {},
   "source": [
    "### Missing Data (NaN)"
   ]
  },
  {
   "cell_type": "markdown",
   "metadata": {},
   "source": [
    "Here we begin by defining a function to load the dataset, as this dataset will be used several times in this section."
   ]
  },
  {
   "cell_type": "code",
   "execution_count": 1,
   "metadata": {},
   "outputs": [],
   "source": [
    "def load_dataset_marks():\n",
    "    # Import pandas package\n",
    "    import pandas as pd\n",
    "\n",
    "    # Assign data\n",
    "    data = {'Name': ['Jai', 'Princi', 'Gaurav',\n",
    "                     'Anuj', 'Ravi', 'Natasha', 'Riya'],\n",
    "            'Age': ['N/A', 17, 18, 17, 18, 17, 17],\n",
    "            'Gender': ['M', 'F', 'M', 'M', 'M', 'F', 'F'],\n",
    "            'Marks1': [None, -9999, None, 74, 65, None, None],\n",
    "            'Marks2': [100, 7, 60, None, 65, 90, 95]}\n",
    "\n",
    "    # Convert into DataFrame\n",
    "    df = pd.DataFrame(data)\n",
    "\n",
    "    # Display data\n",
    "    return df"
   ]
  },
  {
   "cell_type": "code",
   "execution_count": 2,
   "metadata": {},
   "outputs": [
    {
     "data": {
      "text/html": [
       "<div>\n",
       "<style scoped>\n",
       "    .dataframe tbody tr th:only-of-type {\n",
       "        vertical-align: middle;\n",
       "    }\n",
       "\n",
       "    .dataframe tbody tr th {\n",
       "        vertical-align: top;\n",
       "    }\n",
       "\n",
       "    .dataframe thead th {\n",
       "        text-align: right;\n",
       "    }\n",
       "</style>\n",
       "<table border=\"1\" class=\"dataframe\">\n",
       "  <thead>\n",
       "    <tr style=\"text-align: right;\">\n",
       "      <th></th>\n",
       "      <th>Name</th>\n",
       "      <th>Age</th>\n",
       "      <th>Gender</th>\n",
       "      <th>Marks1</th>\n",
       "      <th>Marks2</th>\n",
       "    </tr>\n",
       "  </thead>\n",
       "  <tbody>\n",
       "    <tr>\n",
       "      <th>0</th>\n",
       "      <td>Jai</td>\n",
       "      <td>N/A</td>\n",
       "      <td>M</td>\n",
       "      <td>NaN</td>\n",
       "      <td>100.0</td>\n",
       "    </tr>\n",
       "    <tr>\n",
       "      <th>1</th>\n",
       "      <td>Princi</td>\n",
       "      <td>17</td>\n",
       "      <td>F</td>\n",
       "      <td>-9999.0</td>\n",
       "      <td>7.0</td>\n",
       "    </tr>\n",
       "    <tr>\n",
       "      <th>2</th>\n",
       "      <td>Gaurav</td>\n",
       "      <td>18</td>\n",
       "      <td>M</td>\n",
       "      <td>NaN</td>\n",
       "      <td>60.0</td>\n",
       "    </tr>\n",
       "    <tr>\n",
       "      <th>3</th>\n",
       "      <td>Anuj</td>\n",
       "      <td>17</td>\n",
       "      <td>M</td>\n",
       "      <td>74.0</td>\n",
       "      <td>NaN</td>\n",
       "    </tr>\n",
       "    <tr>\n",
       "      <th>4</th>\n",
       "      <td>Ravi</td>\n",
       "      <td>18</td>\n",
       "      <td>M</td>\n",
       "      <td>65.0</td>\n",
       "      <td>65.0</td>\n",
       "    </tr>\n",
       "    <tr>\n",
       "      <th>5</th>\n",
       "      <td>Natasha</td>\n",
       "      <td>17</td>\n",
       "      <td>F</td>\n",
       "      <td>NaN</td>\n",
       "      <td>90.0</td>\n",
       "    </tr>\n",
       "    <tr>\n",
       "      <th>6</th>\n",
       "      <td>Riya</td>\n",
       "      <td>17</td>\n",
       "      <td>F</td>\n",
       "      <td>NaN</td>\n",
       "      <td>95.0</td>\n",
       "    </tr>\n",
       "  </tbody>\n",
       "</table>\n",
       "</div>"
      ],
      "text/plain": [
       "      Name  Age Gender  Marks1  Marks2\n",
       "0      Jai  N/A      M     NaN   100.0\n",
       "1   Princi   17      F -9999.0     7.0\n",
       "2   Gaurav   18      M     NaN    60.0\n",
       "3     Anuj   17      M    74.0     NaN\n",
       "4     Ravi   18      M    65.0    65.0\n",
       "5  Natasha   17      F     NaN    90.0\n",
       "6     Riya   17      F     NaN    95.0"
      ]
     },
     "execution_count": 2,
     "metadata": {},
     "output_type": "execute_result"
    }
   ],
   "source": [
    "df = load_dataset_marks()\n",
    "df"
   ]
  },
  {
   "cell_type": "markdown",
   "metadata": {},
   "source": [
    "#### Checking for Missing Data"
   ]
  },
  {
   "cell_type": "markdown",
   "metadata": {},
   "source": [
    "The following lists information about the records with `non-N/A` values:"
   ]
  },
  {
   "cell_type": "code",
   "execution_count": 3,
   "metadata": {},
   "outputs": [
    {
     "data": {
      "text/plain": [
       "Name      7\n",
       "Age       7\n",
       "Gender    7\n",
       "Marks1    3\n",
       "Marks2    6\n",
       "dtype: int64"
      ]
     },
     "execution_count": 3,
     "metadata": {},
     "output_type": "execute_result"
    }
   ],
   "source": [
    "df.count()"
   ]
  },
  {
   "cell_type": "markdown",
   "metadata": {},
   "source": [
    "We will start by checking the dataset for missing or null values. For this, we can use the `isna()` or `isnull()` method which returns a dataframe of boolean values indicating if a field is null or not. To group all missing values by column, we can include the `sum()` method."
   ]
  },
  {
   "cell_type": "code",
   "execution_count": 4,
   "metadata": {},
   "outputs": [
    {
     "data": {
      "text/plain": [
       "Name      0\n",
       "Age       0\n",
       "Gender    0\n",
       "Marks1    4\n",
       "Marks2    1\n",
       "dtype: int64"
      ]
     },
     "execution_count": 4,
     "metadata": {},
     "output_type": "execute_result"
    }
   ],
   "source": [
    "df.isna().sum()"
   ]
  },
  {
   "cell_type": "markdown",
   "metadata": {},
   "source": [
    "Here we are going to find out the percentage of missing values in each variable."
   ]
  },
  {
   "cell_type": "code",
   "execution_count": 5,
   "metadata": {},
   "outputs": [
    {
     "data": {
      "text/plain": [
       "Name       0.000000\n",
       "Age        0.000000\n",
       "Gender     0.000000\n",
       "Marks1    57.142857\n",
       "Marks2    14.285714\n",
       "dtype: float64"
      ]
     },
     "execution_count": 5,
     "metadata": {},
     "output_type": "execute_result"
    }
   ],
   "source": [
    "df.isna().sum()/df.shape[0] * 100"
   ]
  },
  {
   "cell_type": "markdown",
   "metadata": {},
   "source": [
    "The following code shows the records that have at least one `NaN` value."
   ]
  },
  {
   "cell_type": "code",
   "execution_count": 6,
   "metadata": {},
   "outputs": [
    {
     "data": {
      "text/html": [
       "<div>\n",
       "<style scoped>\n",
       "    .dataframe tbody tr th:only-of-type {\n",
       "        vertical-align: middle;\n",
       "    }\n",
       "\n",
       "    .dataframe tbody tr th {\n",
       "        vertical-align: top;\n",
       "    }\n",
       "\n",
       "    .dataframe thead th {\n",
       "        text-align: right;\n",
       "    }\n",
       "</style>\n",
       "<table border=\"1\" class=\"dataframe\">\n",
       "  <thead>\n",
       "    <tr style=\"text-align: right;\">\n",
       "      <th></th>\n",
       "      <th>Name</th>\n",
       "      <th>Age</th>\n",
       "      <th>Gender</th>\n",
       "      <th>Marks1</th>\n",
       "      <th>Marks2</th>\n",
       "    </tr>\n",
       "  </thead>\n",
       "  <tbody>\n",
       "    <tr>\n",
       "      <th>0</th>\n",
       "      <td>Jai</td>\n",
       "      <td>N/A</td>\n",
       "      <td>M</td>\n",
       "      <td>NaN</td>\n",
       "      <td>100.0</td>\n",
       "    </tr>\n",
       "    <tr>\n",
       "      <th>2</th>\n",
       "      <td>Gaurav</td>\n",
       "      <td>18</td>\n",
       "      <td>M</td>\n",
       "      <td>NaN</td>\n",
       "      <td>60.0</td>\n",
       "    </tr>\n",
       "    <tr>\n",
       "      <th>3</th>\n",
       "      <td>Anuj</td>\n",
       "      <td>17</td>\n",
       "      <td>M</td>\n",
       "      <td>74.0</td>\n",
       "      <td>NaN</td>\n",
       "    </tr>\n",
       "    <tr>\n",
       "      <th>5</th>\n",
       "      <td>Natasha</td>\n",
       "      <td>17</td>\n",
       "      <td>F</td>\n",
       "      <td>NaN</td>\n",
       "      <td>90.0</td>\n",
       "    </tr>\n",
       "    <tr>\n",
       "      <th>6</th>\n",
       "      <td>Riya</td>\n",
       "      <td>17</td>\n",
       "      <td>F</td>\n",
       "      <td>NaN</td>\n",
       "      <td>95.0</td>\n",
       "    </tr>\n",
       "  </tbody>\n",
       "</table>\n",
       "</div>"
      ],
      "text/plain": [
       "      Name  Age Gender  Marks1  Marks2\n",
       "0      Jai  N/A      M     NaN   100.0\n",
       "2   Gaurav   18      M     NaN    60.0\n",
       "3     Anuj   17      M    74.0     NaN\n",
       "5  Natasha   17      F     NaN    90.0\n",
       "6     Riya   17      F     NaN    95.0"
      ]
     },
     "execution_count": 6,
     "metadata": {},
     "output_type": "execute_result"
    }
   ],
   "source": [
    "df[df.isnull().any(axis=1)].head()"
   ]
  },
  {
   "cell_type": "markdown",
   "metadata": {},
   "source": [
    "We can also count the number of NaN values per row and put it in another column."
   ]
  },
  {
   "cell_type": "code",
   "execution_count": 7,
   "metadata": {},
   "outputs": [
    {
     "data": {
      "text/html": [
       "<div>\n",
       "<style scoped>\n",
       "    .dataframe tbody tr th:only-of-type {\n",
       "        vertical-align: middle;\n",
       "    }\n",
       "\n",
       "    .dataframe tbody tr th {\n",
       "        vertical-align: top;\n",
       "    }\n",
       "\n",
       "    .dataframe thead th {\n",
       "        text-align: right;\n",
       "    }\n",
       "</style>\n",
       "<table border=\"1\" class=\"dataframe\">\n",
       "  <thead>\n",
       "    <tr style=\"text-align: right;\">\n",
       "      <th></th>\n",
       "      <th>Name</th>\n",
       "      <th>Age</th>\n",
       "      <th>Gender</th>\n",
       "      <th>Marks1</th>\n",
       "      <th>Marks2</th>\n",
       "      <th>count_nan</th>\n",
       "    </tr>\n",
       "  </thead>\n",
       "  <tbody>\n",
       "    <tr>\n",
       "      <th>0</th>\n",
       "      <td>Jai</td>\n",
       "      <td>N/A</td>\n",
       "      <td>M</td>\n",
       "      <td>NaN</td>\n",
       "      <td>100.0</td>\n",
       "      <td>1</td>\n",
       "    </tr>\n",
       "    <tr>\n",
       "      <th>1</th>\n",
       "      <td>Princi</td>\n",
       "      <td>17</td>\n",
       "      <td>F</td>\n",
       "      <td>-9999.0</td>\n",
       "      <td>7.0</td>\n",
       "      <td>0</td>\n",
       "    </tr>\n",
       "    <tr>\n",
       "      <th>2</th>\n",
       "      <td>Gaurav</td>\n",
       "      <td>18</td>\n",
       "      <td>M</td>\n",
       "      <td>NaN</td>\n",
       "      <td>60.0</td>\n",
       "      <td>1</td>\n",
       "    </tr>\n",
       "    <tr>\n",
       "      <th>3</th>\n",
       "      <td>Anuj</td>\n",
       "      <td>17</td>\n",
       "      <td>M</td>\n",
       "      <td>74.0</td>\n",
       "      <td>NaN</td>\n",
       "      <td>1</td>\n",
       "    </tr>\n",
       "    <tr>\n",
       "      <th>4</th>\n",
       "      <td>Ravi</td>\n",
       "      <td>18</td>\n",
       "      <td>M</td>\n",
       "      <td>65.0</td>\n",
       "      <td>65.0</td>\n",
       "      <td>0</td>\n",
       "    </tr>\n",
       "    <tr>\n",
       "      <th>5</th>\n",
       "      <td>Natasha</td>\n",
       "      <td>17</td>\n",
       "      <td>F</td>\n",
       "      <td>NaN</td>\n",
       "      <td>90.0</td>\n",
       "      <td>1</td>\n",
       "    </tr>\n",
       "    <tr>\n",
       "      <th>6</th>\n",
       "      <td>Riya</td>\n",
       "      <td>17</td>\n",
       "      <td>F</td>\n",
       "      <td>NaN</td>\n",
       "      <td>95.0</td>\n",
       "      <td>1</td>\n",
       "    </tr>\n",
       "  </tbody>\n",
       "</table>\n",
       "</div>"
      ],
      "text/plain": [
       "      Name  Age Gender  Marks1  Marks2  count_nan\n",
       "0      Jai  N/A      M     NaN   100.0          1\n",
       "1   Princi   17      F -9999.0     7.0          0\n",
       "2   Gaurav   18      M     NaN    60.0          1\n",
       "3     Anuj   17      M    74.0     NaN          1\n",
       "4     Ravi   18      M    65.0    65.0          0\n",
       "5  Natasha   17      F     NaN    90.0          1\n",
       "6     Riya   17      F     NaN    95.0          1"
      ]
     },
     "execution_count": 7,
     "metadata": {},
     "output_type": "execute_result"
    }
   ],
   "source": [
    "df['count_nan'] = df.iloc[:,3:].isna().sum(axis=1)\n",
    "df"
   ]
  },
  {
   "cell_type": "markdown",
   "metadata": {},
   "source": [
    "#### replace"
   ]
  },
  {
   "cell_type": "markdown",
   "metadata": {},
   "source": [
    "It happens more often than not, that NaN values are represented not as NaN but as another value, such as `-9999` or `N/A`. One way to replace these values by NaN is by applying the `replace` method:"
   ]
  },
  {
   "cell_type": "markdown",
   "metadata": {},
   "source": [
    "The following enables to replace one value (the `-9999`)."
   ]
  },
  {
   "cell_type": "code",
   "execution_count": 8,
   "metadata": {},
   "outputs": [
    {
     "data": {
      "text/html": [
       "<div>\n",
       "<style scoped>\n",
       "    .dataframe tbody tr th:only-of-type {\n",
       "        vertical-align: middle;\n",
       "    }\n",
       "\n",
       "    .dataframe tbody tr th {\n",
       "        vertical-align: top;\n",
       "    }\n",
       "\n",
       "    .dataframe thead th {\n",
       "        text-align: right;\n",
       "    }\n",
       "</style>\n",
       "<table border=\"1\" class=\"dataframe\">\n",
       "  <thead>\n",
       "    <tr style=\"text-align: right;\">\n",
       "      <th></th>\n",
       "      <th>Name</th>\n",
       "      <th>Age</th>\n",
       "      <th>Gender</th>\n",
       "      <th>Marks1</th>\n",
       "      <th>Marks2</th>\n",
       "    </tr>\n",
       "  </thead>\n",
       "  <tbody>\n",
       "    <tr>\n",
       "      <th>0</th>\n",
       "      <td>Jai</td>\n",
       "      <td>N/A</td>\n",
       "      <td>M</td>\n",
       "      <td>NaN</td>\n",
       "      <td>100.0</td>\n",
       "    </tr>\n",
       "    <tr>\n",
       "      <th>1</th>\n",
       "      <td>Princi</td>\n",
       "      <td>17</td>\n",
       "      <td>F</td>\n",
       "      <td>NaN</td>\n",
       "      <td>7.0</td>\n",
       "    </tr>\n",
       "    <tr>\n",
       "      <th>2</th>\n",
       "      <td>Gaurav</td>\n",
       "      <td>18</td>\n",
       "      <td>M</td>\n",
       "      <td>NaN</td>\n",
       "      <td>60.0</td>\n",
       "    </tr>\n",
       "    <tr>\n",
       "      <th>3</th>\n",
       "      <td>Anuj</td>\n",
       "      <td>17</td>\n",
       "      <td>M</td>\n",
       "      <td>74.0</td>\n",
       "      <td>NaN</td>\n",
       "    </tr>\n",
       "    <tr>\n",
       "      <th>4</th>\n",
       "      <td>Ravi</td>\n",
       "      <td>18</td>\n",
       "      <td>M</td>\n",
       "      <td>65.0</td>\n",
       "      <td>65.0</td>\n",
       "    </tr>\n",
       "    <tr>\n",
       "      <th>5</th>\n",
       "      <td>Natasha</td>\n",
       "      <td>17</td>\n",
       "      <td>F</td>\n",
       "      <td>NaN</td>\n",
       "      <td>90.0</td>\n",
       "    </tr>\n",
       "    <tr>\n",
       "      <th>6</th>\n",
       "      <td>Riya</td>\n",
       "      <td>17</td>\n",
       "      <td>F</td>\n",
       "      <td>NaN</td>\n",
       "      <td>95.0</td>\n",
       "    </tr>\n",
       "  </tbody>\n",
       "</table>\n",
       "</div>"
      ],
      "text/plain": [
       "      Name  Age Gender  Marks1  Marks2\n",
       "0      Jai  N/A      M     NaN   100.0\n",
       "1   Princi   17      F     NaN     7.0\n",
       "2   Gaurav   18      M     NaN    60.0\n",
       "3     Anuj   17      M    74.0     NaN\n",
       "4     Ravi   18      M    65.0    65.0\n",
       "5  Natasha   17      F     NaN    90.0\n",
       "6     Riya   17      F     NaN    95.0"
      ]
     },
     "execution_count": 8,
     "metadata": {},
     "output_type": "execute_result"
    }
   ],
   "source": [
    "import numpy as np\n",
    "\n",
    "df = load_dataset_marks()\n",
    "df.replace(-9999, np.nan, inplace=True)\n",
    "df"
   ]
  },
  {
   "cell_type": "markdown",
   "metadata": {},
   "source": [
    "There is also the chance to replace more than one value at the same time:"
   ]
  },
  {
   "cell_type": "code",
   "execution_count": 9,
   "metadata": {},
   "outputs": [
    {
     "data": {
      "text/html": [
       "<div>\n",
       "<style scoped>\n",
       "    .dataframe tbody tr th:only-of-type {\n",
       "        vertical-align: middle;\n",
       "    }\n",
       "\n",
       "    .dataframe tbody tr th {\n",
       "        vertical-align: top;\n",
       "    }\n",
       "\n",
       "    .dataframe thead th {\n",
       "        text-align: right;\n",
       "    }\n",
       "</style>\n",
       "<table border=\"1\" class=\"dataframe\">\n",
       "  <thead>\n",
       "    <tr style=\"text-align: right;\">\n",
       "      <th></th>\n",
       "      <th>Name</th>\n",
       "      <th>Age</th>\n",
       "      <th>Gender</th>\n",
       "      <th>Marks1</th>\n",
       "      <th>Marks2</th>\n",
       "    </tr>\n",
       "  </thead>\n",
       "  <tbody>\n",
       "    <tr>\n",
       "      <th>0</th>\n",
       "      <td>Jai</td>\n",
       "      <td>N/A</td>\n",
       "      <td>M</td>\n",
       "      <td>NaN</td>\n",
       "      <td>100.0</td>\n",
       "    </tr>\n",
       "    <tr>\n",
       "      <th>1</th>\n",
       "      <td>Princi</td>\n",
       "      <td>17</td>\n",
       "      <td>F</td>\n",
       "      <td>-9999.0</td>\n",
       "      <td>7.0</td>\n",
       "    </tr>\n",
       "    <tr>\n",
       "      <th>2</th>\n",
       "      <td>Gaurav</td>\n",
       "      <td>18</td>\n",
       "      <td>M</td>\n",
       "      <td>NaN</td>\n",
       "      <td>60.0</td>\n",
       "    </tr>\n",
       "    <tr>\n",
       "      <th>3</th>\n",
       "      <td>Anuj</td>\n",
       "      <td>17</td>\n",
       "      <td>M</td>\n",
       "      <td>74.0</td>\n",
       "      <td>NaN</td>\n",
       "    </tr>\n",
       "    <tr>\n",
       "      <th>4</th>\n",
       "      <td>Ravi</td>\n",
       "      <td>18</td>\n",
       "      <td>M</td>\n",
       "      <td>65.0</td>\n",
       "      <td>65.0</td>\n",
       "    </tr>\n",
       "    <tr>\n",
       "      <th>5</th>\n",
       "      <td>Natasha</td>\n",
       "      <td>17</td>\n",
       "      <td>F</td>\n",
       "      <td>NaN</td>\n",
       "      <td>90.0</td>\n",
       "    </tr>\n",
       "    <tr>\n",
       "      <th>6</th>\n",
       "      <td>Riya</td>\n",
       "      <td>17</td>\n",
       "      <td>F</td>\n",
       "      <td>NaN</td>\n",
       "      <td>95.0</td>\n",
       "    </tr>\n",
       "  </tbody>\n",
       "</table>\n",
       "</div>"
      ],
      "text/plain": [
       "      Name  Age Gender  Marks1  Marks2\n",
       "0      Jai  N/A      M     NaN   100.0\n",
       "1   Princi   17      F -9999.0     7.0\n",
       "2   Gaurav   18      M     NaN    60.0\n",
       "3     Anuj   17      M    74.0     NaN\n",
       "4     Ravi   18      M    65.0    65.0\n",
       "5  Natasha   17      F     NaN    90.0\n",
       "6     Riya   17      F     NaN    95.0"
      ]
     },
     "execution_count": 9,
     "metadata": {},
     "output_type": "execute_result"
    }
   ],
   "source": [
    "df = load_dataset_marks()\n",
    "df"
   ]
  },
  {
   "cell_type": "code",
   "execution_count": 10,
   "metadata": {},
   "outputs": [
    {
     "data": {
      "text/html": [
       "<div>\n",
       "<style scoped>\n",
       "    .dataframe tbody tr th:only-of-type {\n",
       "        vertical-align: middle;\n",
       "    }\n",
       "\n",
       "    .dataframe tbody tr th {\n",
       "        vertical-align: top;\n",
       "    }\n",
       "\n",
       "    .dataframe thead th {\n",
       "        text-align: right;\n",
       "    }\n",
       "</style>\n",
       "<table border=\"1\" class=\"dataframe\">\n",
       "  <thead>\n",
       "    <tr style=\"text-align: right;\">\n",
       "      <th></th>\n",
       "      <th>Name</th>\n",
       "      <th>Age</th>\n",
       "      <th>Gender</th>\n",
       "      <th>Marks1</th>\n",
       "      <th>Marks2</th>\n",
       "    </tr>\n",
       "  </thead>\n",
       "  <tbody>\n",
       "    <tr>\n",
       "      <th>0</th>\n",
       "      <td>Jai</td>\n",
       "      <td>NaN</td>\n",
       "      <td>M</td>\n",
       "      <td>NaN</td>\n",
       "      <td>100.0</td>\n",
       "    </tr>\n",
       "    <tr>\n",
       "      <th>1</th>\n",
       "      <td>Princi</td>\n",
       "      <td>17.0</td>\n",
       "      <td>F</td>\n",
       "      <td>NaN</td>\n",
       "      <td>7.0</td>\n",
       "    </tr>\n",
       "    <tr>\n",
       "      <th>2</th>\n",
       "      <td>Gaurav</td>\n",
       "      <td>18.0</td>\n",
       "      <td>M</td>\n",
       "      <td>NaN</td>\n",
       "      <td>60.0</td>\n",
       "    </tr>\n",
       "    <tr>\n",
       "      <th>3</th>\n",
       "      <td>Anuj</td>\n",
       "      <td>17.0</td>\n",
       "      <td>M</td>\n",
       "      <td>74.0</td>\n",
       "      <td>NaN</td>\n",
       "    </tr>\n",
       "    <tr>\n",
       "      <th>4</th>\n",
       "      <td>Ravi</td>\n",
       "      <td>18.0</td>\n",
       "      <td>M</td>\n",
       "      <td>65.0</td>\n",
       "      <td>65.0</td>\n",
       "    </tr>\n",
       "    <tr>\n",
       "      <th>5</th>\n",
       "      <td>Natasha</td>\n",
       "      <td>17.0</td>\n",
       "      <td>F</td>\n",
       "      <td>NaN</td>\n",
       "      <td>90.0</td>\n",
       "    </tr>\n",
       "    <tr>\n",
       "      <th>6</th>\n",
       "      <td>Riya</td>\n",
       "      <td>17.0</td>\n",
       "      <td>F</td>\n",
       "      <td>NaN</td>\n",
       "      <td>95.0</td>\n",
       "    </tr>\n",
       "  </tbody>\n",
       "</table>\n",
       "</div>"
      ],
      "text/plain": [
       "      Name   Age Gender  Marks1  Marks2\n",
       "0      Jai   NaN      M     NaN   100.0\n",
       "1   Princi  17.0      F     NaN     7.0\n",
       "2   Gaurav  18.0      M     NaN    60.0\n",
       "3     Anuj  17.0      M    74.0     NaN\n",
       "4     Ravi  18.0      M    65.0    65.0\n",
       "5  Natasha  17.0      F     NaN    90.0\n",
       "6     Riya  17.0      F     NaN    95.0"
      ]
     },
     "execution_count": 10,
     "metadata": {},
     "output_type": "execute_result"
    }
   ],
   "source": [
    "import numpy as np\n",
    "df = load_dataset_marks()\n",
    "df.replace({-9999: np.nan, 'N/A': np.nan}, inplace=True)\n",
    "df"
   ]
  },
  {
   "cell_type": "markdown",
   "metadata": {},
   "source": [
    "#### Deletion (DropNa)"
   ]
  },
  {
   "cell_type": "markdown",
   "metadata": {},
   "source": [
    "O comando `dropna` permite eliminar as linhas com pelo menos um registo em falta."
   ]
  },
  {
   "cell_type": "code",
   "execution_count": 11,
   "metadata": {},
   "outputs": [
    {
     "data": {
      "text/html": [
       "<div>\n",
       "<style scoped>\n",
       "    .dataframe tbody tr th:only-of-type {\n",
       "        vertical-align: middle;\n",
       "    }\n",
       "\n",
       "    .dataframe tbody tr th {\n",
       "        vertical-align: top;\n",
       "    }\n",
       "\n",
       "    .dataframe thead th {\n",
       "        text-align: right;\n",
       "    }\n",
       "</style>\n",
       "<table border=\"1\" class=\"dataframe\">\n",
       "  <thead>\n",
       "    <tr style=\"text-align: right;\">\n",
       "      <th></th>\n",
       "      <th>Name</th>\n",
       "      <th>Age</th>\n",
       "      <th>Gender</th>\n",
       "      <th>Marks1</th>\n",
       "      <th>Marks2</th>\n",
       "    </tr>\n",
       "  </thead>\n",
       "  <tbody>\n",
       "    <tr>\n",
       "      <th>4</th>\n",
       "      <td>Ravi</td>\n",
       "      <td>18.0</td>\n",
       "      <td>M</td>\n",
       "      <td>65.0</td>\n",
       "      <td>65.0</td>\n",
       "    </tr>\n",
       "  </tbody>\n",
       "</table>\n",
       "</div>"
      ],
      "text/plain": [
       "   Name   Age Gender  Marks1  Marks2\n",
       "4  Ravi  18.0      M    65.0    65.0"
      ]
     },
     "execution_count": 11,
     "metadata": {},
     "output_type": "execute_result"
    }
   ],
   "source": [
    "df.dropna()"
   ]
  },
  {
   "cell_type": "markdown",
   "metadata": {},
   "source": [
    "Quando all é definido `dropna(how='all', inplace=True)` significa que só vai remover no caso de todas as colunas terem os valores a `NaN`."
   ]
  },
  {
   "cell_type": "markdown",
   "metadata": {},
   "source": [
    "Situações há em que apenas se pretende eliminar as linhas NaN de uma determinada coluna. Nesse caso deverá recorrer não só ao dropna mas também ao `subset` para especificar qual a coluna a partir da qual se pretendem eliminar as linhas."
   ]
  },
  {
   "cell_type": "code",
   "execution_count": 12,
   "metadata": {},
   "outputs": [
    {
     "data": {
      "text/html": [
       "<div>\n",
       "<style scoped>\n",
       "    .dataframe tbody tr th:only-of-type {\n",
       "        vertical-align: middle;\n",
       "    }\n",
       "\n",
       "    .dataframe tbody tr th {\n",
       "        vertical-align: top;\n",
       "    }\n",
       "\n",
       "    .dataframe thead th {\n",
       "        text-align: right;\n",
       "    }\n",
       "</style>\n",
       "<table border=\"1\" class=\"dataframe\">\n",
       "  <thead>\n",
       "    <tr style=\"text-align: right;\">\n",
       "      <th></th>\n",
       "      <th>Name</th>\n",
       "      <th>Age</th>\n",
       "      <th>Gender</th>\n",
       "      <th>Marks1</th>\n",
       "      <th>Marks2</th>\n",
       "    </tr>\n",
       "  </thead>\n",
       "  <tbody>\n",
       "    <tr>\n",
       "      <th>0</th>\n",
       "      <td>Jai</td>\n",
       "      <td>NaN</td>\n",
       "      <td>M</td>\n",
       "      <td>NaN</td>\n",
       "      <td>100.0</td>\n",
       "    </tr>\n",
       "    <tr>\n",
       "      <th>1</th>\n",
       "      <td>Princi</td>\n",
       "      <td>17.0</td>\n",
       "      <td>F</td>\n",
       "      <td>NaN</td>\n",
       "      <td>7.0</td>\n",
       "    </tr>\n",
       "    <tr>\n",
       "      <th>2</th>\n",
       "      <td>Gaurav</td>\n",
       "      <td>18.0</td>\n",
       "      <td>M</td>\n",
       "      <td>NaN</td>\n",
       "      <td>60.0</td>\n",
       "    </tr>\n",
       "    <tr>\n",
       "      <th>3</th>\n",
       "      <td>Anuj</td>\n",
       "      <td>17.0</td>\n",
       "      <td>M</td>\n",
       "      <td>74.0</td>\n",
       "      <td>NaN</td>\n",
       "    </tr>\n",
       "    <tr>\n",
       "      <th>4</th>\n",
       "      <td>Ravi</td>\n",
       "      <td>18.0</td>\n",
       "      <td>M</td>\n",
       "      <td>65.0</td>\n",
       "      <td>65.0</td>\n",
       "    </tr>\n",
       "    <tr>\n",
       "      <th>5</th>\n",
       "      <td>Natasha</td>\n",
       "      <td>17.0</td>\n",
       "      <td>F</td>\n",
       "      <td>NaN</td>\n",
       "      <td>90.0</td>\n",
       "    </tr>\n",
       "    <tr>\n",
       "      <th>6</th>\n",
       "      <td>Riya</td>\n",
       "      <td>17.0</td>\n",
       "      <td>F</td>\n",
       "      <td>NaN</td>\n",
       "      <td>95.0</td>\n",
       "    </tr>\n",
       "  </tbody>\n",
       "</table>\n",
       "</div>"
      ],
      "text/plain": [
       "      Name   Age Gender  Marks1  Marks2\n",
       "0      Jai   NaN      M     NaN   100.0\n",
       "1   Princi  17.0      F     NaN     7.0\n",
       "2   Gaurav  18.0      M     NaN    60.0\n",
       "3     Anuj  17.0      M    74.0     NaN\n",
       "4     Ravi  18.0      M    65.0    65.0\n",
       "5  Natasha  17.0      F     NaN    90.0\n",
       "6     Riya  17.0      F     NaN    95.0"
      ]
     },
     "execution_count": 12,
     "metadata": {},
     "output_type": "execute_result"
    }
   ],
   "source": [
    "import numpy as np\n",
    "df = load_dataset_marks()\n",
    "df.replace({-9999: np.nan, 'N/A': np.nan}, inplace=True)\n",
    "df"
   ]
  },
  {
   "cell_type": "markdown",
   "metadata": {},
   "source": [
    "Observe-se que o registo com o índice 3 mantêm-se disponível apesar da existência de um `NaN` (uma vez que o mesmo é na coluna `Marks2`)."
   ]
  },
  {
   "cell_type": "code",
   "execution_count": 13,
   "metadata": {},
   "outputs": [
    {
     "data": {
      "text/html": [
       "<div>\n",
       "<style scoped>\n",
       "    .dataframe tbody tr th:only-of-type {\n",
       "        vertical-align: middle;\n",
       "    }\n",
       "\n",
       "    .dataframe tbody tr th {\n",
       "        vertical-align: top;\n",
       "    }\n",
       "\n",
       "    .dataframe thead th {\n",
       "        text-align: right;\n",
       "    }\n",
       "</style>\n",
       "<table border=\"1\" class=\"dataframe\">\n",
       "  <thead>\n",
       "    <tr style=\"text-align: right;\">\n",
       "      <th></th>\n",
       "      <th>Name</th>\n",
       "      <th>Age</th>\n",
       "      <th>Gender</th>\n",
       "      <th>Marks1</th>\n",
       "      <th>Marks2</th>\n",
       "    </tr>\n",
       "  </thead>\n",
       "  <tbody>\n",
       "    <tr>\n",
       "      <th>3</th>\n",
       "      <td>Anuj</td>\n",
       "      <td>17.0</td>\n",
       "      <td>M</td>\n",
       "      <td>74.0</td>\n",
       "      <td>NaN</td>\n",
       "    </tr>\n",
       "    <tr>\n",
       "      <th>4</th>\n",
       "      <td>Ravi</td>\n",
       "      <td>18.0</td>\n",
       "      <td>M</td>\n",
       "      <td>65.0</td>\n",
       "      <td>65.0</td>\n",
       "    </tr>\n",
       "  </tbody>\n",
       "</table>\n",
       "</div>"
      ],
      "text/plain": [
       "   Name   Age Gender  Marks1  Marks2\n",
       "3  Anuj  17.0      M    74.0     NaN\n",
       "4  Ravi  18.0      M    65.0    65.0"
      ]
     },
     "execution_count": 13,
     "metadata": {},
     "output_type": "execute_result"
    }
   ],
   "source": [
    "df.dropna(subset = ['Marks1'], inplace=True)\n",
    "df"
   ]
  },
  {
   "cell_type": "markdown",
   "metadata": {},
   "source": [
    "<hr>"
   ]
  },
  {
   "cell_type": "markdown",
   "metadata": {},
   "source": [
    "#### Imputation (FillNa)"
   ]
  },
  {
   "cell_type": "markdown",
   "metadata": {},
   "source": [
    "##### Mean"
   ]
  },
  {
   "cell_type": "markdown",
   "metadata": {},
   "source": [
    "Let's load the dataset again."
   ]
  },
  {
   "cell_type": "code",
   "execution_count": 14,
   "metadata": {},
   "outputs": [
    {
     "data": {
      "text/html": [
       "<div>\n",
       "<style scoped>\n",
       "    .dataframe tbody tr th:only-of-type {\n",
       "        vertical-align: middle;\n",
       "    }\n",
       "\n",
       "    .dataframe tbody tr th {\n",
       "        vertical-align: top;\n",
       "    }\n",
       "\n",
       "    .dataframe thead th {\n",
       "        text-align: right;\n",
       "    }\n",
       "</style>\n",
       "<table border=\"1\" class=\"dataframe\">\n",
       "  <thead>\n",
       "    <tr style=\"text-align: right;\">\n",
       "      <th></th>\n",
       "      <th>Name</th>\n",
       "      <th>Age</th>\n",
       "      <th>Gender</th>\n",
       "      <th>Marks1</th>\n",
       "      <th>Marks2</th>\n",
       "    </tr>\n",
       "  </thead>\n",
       "  <tbody>\n",
       "    <tr>\n",
       "      <th>0</th>\n",
       "      <td>Jai</td>\n",
       "      <td>NaN</td>\n",
       "      <td>M</td>\n",
       "      <td>NaN</td>\n",
       "      <td>100.0</td>\n",
       "    </tr>\n",
       "    <tr>\n",
       "      <th>1</th>\n",
       "      <td>Princi</td>\n",
       "      <td>17.0</td>\n",
       "      <td>F</td>\n",
       "      <td>NaN</td>\n",
       "      <td>7.0</td>\n",
       "    </tr>\n",
       "    <tr>\n",
       "      <th>2</th>\n",
       "      <td>Gaurav</td>\n",
       "      <td>18.0</td>\n",
       "      <td>M</td>\n",
       "      <td>NaN</td>\n",
       "      <td>60.0</td>\n",
       "    </tr>\n",
       "    <tr>\n",
       "      <th>3</th>\n",
       "      <td>Anuj</td>\n",
       "      <td>17.0</td>\n",
       "      <td>M</td>\n",
       "      <td>74.0</td>\n",
       "      <td>NaN</td>\n",
       "    </tr>\n",
       "    <tr>\n",
       "      <th>4</th>\n",
       "      <td>Ravi</td>\n",
       "      <td>18.0</td>\n",
       "      <td>M</td>\n",
       "      <td>65.0</td>\n",
       "      <td>65.0</td>\n",
       "    </tr>\n",
       "    <tr>\n",
       "      <th>5</th>\n",
       "      <td>Natasha</td>\n",
       "      <td>17.0</td>\n",
       "      <td>F</td>\n",
       "      <td>NaN</td>\n",
       "      <td>90.0</td>\n",
       "    </tr>\n",
       "    <tr>\n",
       "      <th>6</th>\n",
       "      <td>Riya</td>\n",
       "      <td>17.0</td>\n",
       "      <td>F</td>\n",
       "      <td>NaN</td>\n",
       "      <td>95.0</td>\n",
       "    </tr>\n",
       "  </tbody>\n",
       "</table>\n",
       "</div>"
      ],
      "text/plain": [
       "      Name   Age Gender  Marks1  Marks2\n",
       "0      Jai   NaN      M     NaN   100.0\n",
       "1   Princi  17.0      F     NaN     7.0\n",
       "2   Gaurav  18.0      M     NaN    60.0\n",
       "3     Anuj  17.0      M    74.0     NaN\n",
       "4     Ravi  18.0      M    65.0    65.0\n",
       "5  Natasha  17.0      F     NaN    90.0\n",
       "6     Riya  17.0      F     NaN    95.0"
      ]
     },
     "execution_count": 14,
     "metadata": {},
     "output_type": "execute_result"
    }
   ],
   "source": [
    "import numpy as np\n",
    "df = load_dataset_marks()\n",
    "df.replace({-9999: np.nan, 'N/A': np.nan}, inplace=True)\n",
    "df"
   ]
  },
  {
   "cell_type": "markdown",
   "metadata": {},
   "source": [
    "We illustrate this process for the `Marks1` column. We begin by converting the Marks column from object datatype to numeric. Next the `nan` values are replaced by the mean value of the `Marks1`."
   ]
  },
  {
   "cell_type": "code",
   "execution_count": 15,
   "metadata": {},
   "outputs": [
    {
     "data": {
      "text/html": [
       "<div>\n",
       "<style scoped>\n",
       "    .dataframe tbody tr th:only-of-type {\n",
       "        vertical-align: middle;\n",
       "    }\n",
       "\n",
       "    .dataframe tbody tr th {\n",
       "        vertical-align: top;\n",
       "    }\n",
       "\n",
       "    .dataframe thead th {\n",
       "        text-align: right;\n",
       "    }\n",
       "</style>\n",
       "<table border=\"1\" class=\"dataframe\">\n",
       "  <thead>\n",
       "    <tr style=\"text-align: right;\">\n",
       "      <th></th>\n",
       "      <th>Name</th>\n",
       "      <th>Age</th>\n",
       "      <th>Gender</th>\n",
       "      <th>Marks1</th>\n",
       "      <th>Marks2</th>\n",
       "    </tr>\n",
       "  </thead>\n",
       "  <tbody>\n",
       "    <tr>\n",
       "      <th>0</th>\n",
       "      <td>Jai</td>\n",
       "      <td>NaN</td>\n",
       "      <td>M</td>\n",
       "      <td>69.5</td>\n",
       "      <td>100.0</td>\n",
       "    </tr>\n",
       "    <tr>\n",
       "      <th>1</th>\n",
       "      <td>Princi</td>\n",
       "      <td>17.0</td>\n",
       "      <td>F</td>\n",
       "      <td>69.5</td>\n",
       "      <td>7.0</td>\n",
       "    </tr>\n",
       "    <tr>\n",
       "      <th>2</th>\n",
       "      <td>Gaurav</td>\n",
       "      <td>18.0</td>\n",
       "      <td>M</td>\n",
       "      <td>69.5</td>\n",
       "      <td>60.0</td>\n",
       "    </tr>\n",
       "    <tr>\n",
       "      <th>3</th>\n",
       "      <td>Anuj</td>\n",
       "      <td>17.0</td>\n",
       "      <td>M</td>\n",
       "      <td>74.0</td>\n",
       "      <td>NaN</td>\n",
       "    </tr>\n",
       "    <tr>\n",
       "      <th>4</th>\n",
       "      <td>Ravi</td>\n",
       "      <td>18.0</td>\n",
       "      <td>M</td>\n",
       "      <td>65.0</td>\n",
       "      <td>65.0</td>\n",
       "    </tr>\n",
       "    <tr>\n",
       "      <th>5</th>\n",
       "      <td>Natasha</td>\n",
       "      <td>17.0</td>\n",
       "      <td>F</td>\n",
       "      <td>69.5</td>\n",
       "      <td>90.0</td>\n",
       "    </tr>\n",
       "    <tr>\n",
       "      <th>6</th>\n",
       "      <td>Riya</td>\n",
       "      <td>17.0</td>\n",
       "      <td>F</td>\n",
       "      <td>69.5</td>\n",
       "      <td>95.0</td>\n",
       "    </tr>\n",
       "  </tbody>\n",
       "</table>\n",
       "</div>"
      ],
      "text/plain": [
       "      Name   Age Gender  Marks1  Marks2\n",
       "0      Jai   NaN      M    69.5   100.0\n",
       "1   Princi  17.0      F    69.5     7.0\n",
       "2   Gaurav  18.0      M    69.5    60.0\n",
       "3     Anuj  17.0      M    74.0     NaN\n",
       "4     Ravi  18.0      M    65.0    65.0\n",
       "5  Natasha  17.0      F    69.5    90.0\n",
       "6     Riya  17.0      F    69.5    95.0"
      ]
     },
     "execution_count": 15,
     "metadata": {},
     "output_type": "execute_result"
    }
   ],
   "source": [
    "import pandas as pd\n",
    "\n",
    "#convert from object type to numeric\n",
    "df['Marks1'] = pd.to_numeric(df['Marks1'],errors='coerce')\n",
    "\n",
    "#Calculate mean\n",
    "mean = df['Marks1'].mean()\n",
    "\n",
    "#Fill nan\n",
    "#df['Marks'].fillna(mean, inplace=True)\n",
    "#df['Marks'] = df['Marks'].fillna(mean)\n",
    "df.fillna({\"Marks1\": mean}, inplace=True)\n",
    "\n",
    "df"
   ]
  },
  {
   "cell_type": "markdown",
   "metadata": {},
   "source": [
    "##### Mode"
   ]
  },
  {
   "cell_type": "markdown",
   "metadata": {},
   "source": [
    "A similar process could be done for the `mode` with slight changes. This time we illustrate this process for the `Age` column."
   ]
  },
  {
   "cell_type": "code",
   "execution_count": 16,
   "metadata": {},
   "outputs": [
    {
     "data": {
      "text/html": [
       "<div>\n",
       "<style scoped>\n",
       "    .dataframe tbody tr th:only-of-type {\n",
       "        vertical-align: middle;\n",
       "    }\n",
       "\n",
       "    .dataframe tbody tr th {\n",
       "        vertical-align: top;\n",
       "    }\n",
       "\n",
       "    .dataframe thead th {\n",
       "        text-align: right;\n",
       "    }\n",
       "</style>\n",
       "<table border=\"1\" class=\"dataframe\">\n",
       "  <thead>\n",
       "    <tr style=\"text-align: right;\">\n",
       "      <th></th>\n",
       "      <th>Name</th>\n",
       "      <th>Age</th>\n",
       "      <th>Gender</th>\n",
       "      <th>Marks1</th>\n",
       "      <th>Marks2</th>\n",
       "    </tr>\n",
       "  </thead>\n",
       "  <tbody>\n",
       "    <tr>\n",
       "      <th>0</th>\n",
       "      <td>Jai</td>\n",
       "      <td>NaN</td>\n",
       "      <td>M</td>\n",
       "      <td>NaN</td>\n",
       "      <td>100.0</td>\n",
       "    </tr>\n",
       "    <tr>\n",
       "      <th>1</th>\n",
       "      <td>Princi</td>\n",
       "      <td>17.0</td>\n",
       "      <td>F</td>\n",
       "      <td>NaN</td>\n",
       "      <td>7.0</td>\n",
       "    </tr>\n",
       "    <tr>\n",
       "      <th>2</th>\n",
       "      <td>Gaurav</td>\n",
       "      <td>18.0</td>\n",
       "      <td>M</td>\n",
       "      <td>NaN</td>\n",
       "      <td>60.0</td>\n",
       "    </tr>\n",
       "    <tr>\n",
       "      <th>3</th>\n",
       "      <td>Anuj</td>\n",
       "      <td>17.0</td>\n",
       "      <td>M</td>\n",
       "      <td>74.0</td>\n",
       "      <td>NaN</td>\n",
       "    </tr>\n",
       "    <tr>\n",
       "      <th>4</th>\n",
       "      <td>Ravi</td>\n",
       "      <td>18.0</td>\n",
       "      <td>M</td>\n",
       "      <td>65.0</td>\n",
       "      <td>65.0</td>\n",
       "    </tr>\n",
       "    <tr>\n",
       "      <th>5</th>\n",
       "      <td>Natasha</td>\n",
       "      <td>17.0</td>\n",
       "      <td>F</td>\n",
       "      <td>NaN</td>\n",
       "      <td>90.0</td>\n",
       "    </tr>\n",
       "    <tr>\n",
       "      <th>6</th>\n",
       "      <td>Riya</td>\n",
       "      <td>17.0</td>\n",
       "      <td>F</td>\n",
       "      <td>NaN</td>\n",
       "      <td>95.0</td>\n",
       "    </tr>\n",
       "  </tbody>\n",
       "</table>\n",
       "</div>"
      ],
      "text/plain": [
       "      Name   Age Gender  Marks1  Marks2\n",
       "0      Jai   NaN      M     NaN   100.0\n",
       "1   Princi  17.0      F     NaN     7.0\n",
       "2   Gaurav  18.0      M     NaN    60.0\n",
       "3     Anuj  17.0      M    74.0     NaN\n",
       "4     Ravi  18.0      M    65.0    65.0\n",
       "5  Natasha  17.0      F     NaN    90.0\n",
       "6     Riya  17.0      F     NaN    95.0"
      ]
     },
     "execution_count": 16,
     "metadata": {},
     "output_type": "execute_result"
    }
   ],
   "source": [
    "import numpy as np\n",
    "df = load_dataset_marks()\n",
    "df.replace({-9999: np.nan, 'N/A': np.nan}, inplace=True)\n",
    "df"
   ]
  },
  {
   "cell_type": "code",
   "execution_count": null,
   "metadata": {},
   "outputs": [],
   "source": [
    "#convert from object type to numeric\n",
    "df['Age'] = pd.to_numeric(df['Age'],errors='coerce')\n",
    "\n",
    "#Calculate mode\n",
    "mode = df['Age'].mode()[0]\n",
    "\n",
    "#Fill nan\n",
    "#df['Marks'].fillna(mode, inplace=True)\n",
    "#df['Marks'] = df['Marks'].fillna(mode)\n",
    "df.fillna({\"Age\": mode}, inplace=True)\n",
    "\n",
    "df"
   ]
  },
  {
   "cell_type": "markdown",
   "metadata": {},
   "source": [
    "##### Determining different values to give to fillna"
   ]
  },
  {
   "cell_type": "markdown",
   "metadata": {},
   "source": [
    "Another interesting thing to do is to fill in the nan values of the column `Marks2` according to the mean of the two different `sex` fields (`M` and `F`). The assumption is that, different mean values can be computed depending on the `Gender`. So instead of calculating a single average value, two `Marks2` values will be computed, one when the `Gender == M` and another one where the `Gender == F`."
   ]
  },
  {
   "cell_type": "code",
   "execution_count": 21,
   "metadata": {},
   "outputs": [
    {
     "data": {
      "text/html": [
       "<div>\n",
       "<style scoped>\n",
       "    .dataframe tbody tr th:only-of-type {\n",
       "        vertical-align: middle;\n",
       "    }\n",
       "\n",
       "    .dataframe tbody tr th {\n",
       "        vertical-align: top;\n",
       "    }\n",
       "\n",
       "    .dataframe thead th {\n",
       "        text-align: right;\n",
       "    }\n",
       "</style>\n",
       "<table border=\"1\" class=\"dataframe\">\n",
       "  <thead>\n",
       "    <tr style=\"text-align: right;\">\n",
       "      <th></th>\n",
       "      <th>Name</th>\n",
       "      <th>Age</th>\n",
       "      <th>Gender</th>\n",
       "      <th>Marks1</th>\n",
       "      <th>Marks2</th>\n",
       "    </tr>\n",
       "  </thead>\n",
       "  <tbody>\n",
       "    <tr>\n",
       "      <th>0</th>\n",
       "      <td>Jai</td>\n",
       "      <td>NaN</td>\n",
       "      <td>M</td>\n",
       "      <td>NaN</td>\n",
       "      <td>100.0</td>\n",
       "    </tr>\n",
       "    <tr>\n",
       "      <th>1</th>\n",
       "      <td>Princi</td>\n",
       "      <td>17.0</td>\n",
       "      <td>F</td>\n",
       "      <td>NaN</td>\n",
       "      <td>7.0</td>\n",
       "    </tr>\n",
       "    <tr>\n",
       "      <th>2</th>\n",
       "      <td>Gaurav</td>\n",
       "      <td>18.0</td>\n",
       "      <td>M</td>\n",
       "      <td>NaN</td>\n",
       "      <td>60.0</td>\n",
       "    </tr>\n",
       "    <tr>\n",
       "      <th>3</th>\n",
       "      <td>Anuj</td>\n",
       "      <td>17.0</td>\n",
       "      <td>M</td>\n",
       "      <td>74.0</td>\n",
       "      <td>75.0</td>\n",
       "    </tr>\n",
       "    <tr>\n",
       "      <th>4</th>\n",
       "      <td>Ravi</td>\n",
       "      <td>18.0</td>\n",
       "      <td>M</td>\n",
       "      <td>65.0</td>\n",
       "      <td>65.0</td>\n",
       "    </tr>\n",
       "    <tr>\n",
       "      <th>5</th>\n",
       "      <td>Natasha</td>\n",
       "      <td>17.0</td>\n",
       "      <td>F</td>\n",
       "      <td>NaN</td>\n",
       "      <td>90.0</td>\n",
       "    </tr>\n",
       "    <tr>\n",
       "      <th>6</th>\n",
       "      <td>Riya</td>\n",
       "      <td>17.0</td>\n",
       "      <td>F</td>\n",
       "      <td>NaN</td>\n",
       "      <td>95.0</td>\n",
       "    </tr>\n",
       "  </tbody>\n",
       "</table>\n",
       "</div>"
      ],
      "text/plain": [
       "      Name   Age Gender  Marks1  Marks2\n",
       "0      Jai   NaN      M     NaN   100.0\n",
       "1   Princi  17.0      F     NaN     7.0\n",
       "2   Gaurav  18.0      M     NaN    60.0\n",
       "3     Anuj  17.0      M    74.0    75.0\n",
       "4     Ravi  18.0      M    65.0    65.0\n",
       "5  Natasha  17.0      F     NaN    90.0\n",
       "6     Riya  17.0      F     NaN    95.0"
      ]
     },
     "execution_count": 21,
     "metadata": {},
     "output_type": "execute_result"
    }
   ],
   "source": [
    "import numpy as np\n",
    "df = load_dataset_marks()\n",
    "df.replace({-9999: np.nan, 'N/A': np.nan}, inplace=True)\n",
    "\n",
    "#convert from object type to numeric\n",
    "df['Marks2'] = pd.to_numeric(df['Marks2'],errors='coerce')\n",
    "\n",
    "mask_m = df['Gender']=='M'\n",
    "mean_m = df[mask_m]['Marks2'].mean()\n",
    "df.loc[mask_m,\"Marks2\"] = df[mask_m]['Marks2'].fillna(mean_m)\n",
    "\n",
    "mask_f = df['Gender']=='F'\n",
    "mean_f = df[mask_f]['Marks2'].mean()\n",
    "df.loc[mask_f,\"Marks2\"] = df[mask_f]['Marks2'].fillna(mean_f)\n",
    "\n",
    "df"
   ]
  },
  {
   "cell_type": "markdown",
   "metadata": {},
   "source": [
    "Instead of repeating the code we can define a function as follows:"
   ]
  },
  {
   "cell_type": "code",
   "execution_count": 22,
   "metadata": {},
   "outputs": [],
   "source": [
    "#Create a function to impute missing values based on mean credit score for each income group\n",
    "def impute_marks(gender_classes):\n",
    "    \"\"\"This function takes a list of income groups and imputes the missing values of each based on the mean credit score for          each group\"\"\"\n",
    "    #iterate through each income group\n",
    "    for gender in gender_classes:      \n",
    "        \n",
    "        #create a subset of dataframe to use as filter\n",
    "        mask = df[\"Gender\"] == gender\n",
    "        \n",
    "        #calculate the mean for the income group\n",
    "        mean = df[mask][\"Marks2\"].mean()\n",
    "        \n",
    "        #fill the missing values with mean of credit score for group\n",
    "        df.loc[mask,\"Marks2\"] = df[mask]['Marks2'].fillna(mean)"
   ]
  },
  {
   "cell_type": "markdown",
   "metadata": {},
   "source": [
    "We can now apply our custom function to the dataframe."
   ]
  },
  {
   "cell_type": "code",
   "execution_count": 23,
   "metadata": {},
   "outputs": [
    {
     "data": {
      "text/html": [
       "<div>\n",
       "<style scoped>\n",
       "    .dataframe tbody tr th:only-of-type {\n",
       "        vertical-align: middle;\n",
       "    }\n",
       "\n",
       "    .dataframe tbody tr th {\n",
       "        vertical-align: top;\n",
       "    }\n",
       "\n",
       "    .dataframe thead th {\n",
       "        text-align: right;\n",
       "    }\n",
       "</style>\n",
       "<table border=\"1\" class=\"dataframe\">\n",
       "  <thead>\n",
       "    <tr style=\"text-align: right;\">\n",
       "      <th></th>\n",
       "      <th>Name</th>\n",
       "      <th>Age</th>\n",
       "      <th>Gender</th>\n",
       "      <th>Marks1</th>\n",
       "      <th>Marks2</th>\n",
       "    </tr>\n",
       "  </thead>\n",
       "  <tbody>\n",
       "    <tr>\n",
       "      <th>0</th>\n",
       "      <td>Jai</td>\n",
       "      <td>NaN</td>\n",
       "      <td>M</td>\n",
       "      <td>NaN</td>\n",
       "      <td>100.0</td>\n",
       "    </tr>\n",
       "    <tr>\n",
       "      <th>1</th>\n",
       "      <td>Princi</td>\n",
       "      <td>17.0</td>\n",
       "      <td>F</td>\n",
       "      <td>NaN</td>\n",
       "      <td>7.0</td>\n",
       "    </tr>\n",
       "    <tr>\n",
       "      <th>2</th>\n",
       "      <td>Gaurav</td>\n",
       "      <td>18.0</td>\n",
       "      <td>M</td>\n",
       "      <td>NaN</td>\n",
       "      <td>60.0</td>\n",
       "    </tr>\n",
       "    <tr>\n",
       "      <th>3</th>\n",
       "      <td>Anuj</td>\n",
       "      <td>17.0</td>\n",
       "      <td>M</td>\n",
       "      <td>74.0</td>\n",
       "      <td>75.0</td>\n",
       "    </tr>\n",
       "    <tr>\n",
       "      <th>4</th>\n",
       "      <td>Ravi</td>\n",
       "      <td>18.0</td>\n",
       "      <td>M</td>\n",
       "      <td>65.0</td>\n",
       "      <td>65.0</td>\n",
       "    </tr>\n",
       "    <tr>\n",
       "      <th>5</th>\n",
       "      <td>Natasha</td>\n",
       "      <td>17.0</td>\n",
       "      <td>F</td>\n",
       "      <td>NaN</td>\n",
       "      <td>90.0</td>\n",
       "    </tr>\n",
       "    <tr>\n",
       "      <th>6</th>\n",
       "      <td>Riya</td>\n",
       "      <td>17.0</td>\n",
       "      <td>F</td>\n",
       "      <td>NaN</td>\n",
       "      <td>95.0</td>\n",
       "    </tr>\n",
       "  </tbody>\n",
       "</table>\n",
       "</div>"
      ],
      "text/plain": [
       "      Name   Age Gender  Marks1  Marks2\n",
       "0      Jai   NaN      M     NaN   100.0\n",
       "1   Princi  17.0      F     NaN     7.0\n",
       "2   Gaurav  18.0      M     NaN    60.0\n",
       "3     Anuj  17.0      M    74.0    75.0\n",
       "4     Ravi  18.0      M    65.0    65.0\n",
       "5  Natasha  17.0      F     NaN    90.0\n",
       "6     Riya  17.0      F     NaN    95.0"
      ]
     },
     "execution_count": 23,
     "metadata": {},
     "output_type": "execute_result"
    }
   ],
   "source": [
    "import numpy as np\n",
    "df = load_dataset_marks()\n",
    "df.replace({-9999: np.nan, 'N/A': np.nan}, inplace=True)\n",
    "\n",
    "#Apply the function to the dataframe\n",
    "gender = [\"M\",\"F\"]\n",
    "impute_marks(gender)\n",
    "\n",
    "df"
   ]
  },
  {
   "cell_type": "markdown",
   "metadata": {},
   "source": [
    "##### bfill"
   ]
  },
  {
   "cell_type": "markdown",
   "metadata": {},
   "source": [
    "The `bfill()` method replaces the NULL values with the values from the next row (or next column, if the axis parameter is set to 'columns', `axis=1`). We illustrate this process for the `Marks1` column. One can observe that the last two columns are not replaced due to the fact that there is no value after them to consider."
   ]
  },
  {
   "cell_type": "code",
   "execution_count": 25,
   "metadata": {},
   "outputs": [
    {
     "data": {
      "text/html": [
       "<div>\n",
       "<style scoped>\n",
       "    .dataframe tbody tr th:only-of-type {\n",
       "        vertical-align: middle;\n",
       "    }\n",
       "\n",
       "    .dataframe tbody tr th {\n",
       "        vertical-align: top;\n",
       "    }\n",
       "\n",
       "    .dataframe thead th {\n",
       "        text-align: right;\n",
       "    }\n",
       "</style>\n",
       "<table border=\"1\" class=\"dataframe\">\n",
       "  <thead>\n",
       "    <tr style=\"text-align: right;\">\n",
       "      <th></th>\n",
       "      <th>Name</th>\n",
       "      <th>Age</th>\n",
       "      <th>Gender</th>\n",
       "      <th>Marks1</th>\n",
       "      <th>Marks2</th>\n",
       "    </tr>\n",
       "  </thead>\n",
       "  <tbody>\n",
       "    <tr>\n",
       "      <th>0</th>\n",
       "      <td>Jai</td>\n",
       "      <td>NaN</td>\n",
       "      <td>M</td>\n",
       "      <td>NaN</td>\n",
       "      <td>100.0</td>\n",
       "    </tr>\n",
       "    <tr>\n",
       "      <th>1</th>\n",
       "      <td>Princi</td>\n",
       "      <td>17.0</td>\n",
       "      <td>F</td>\n",
       "      <td>NaN</td>\n",
       "      <td>7.0</td>\n",
       "    </tr>\n",
       "    <tr>\n",
       "      <th>2</th>\n",
       "      <td>Gaurav</td>\n",
       "      <td>18.0</td>\n",
       "      <td>M</td>\n",
       "      <td>NaN</td>\n",
       "      <td>60.0</td>\n",
       "    </tr>\n",
       "    <tr>\n",
       "      <th>3</th>\n",
       "      <td>Anuj</td>\n",
       "      <td>17.0</td>\n",
       "      <td>M</td>\n",
       "      <td>74.0</td>\n",
       "      <td>NaN</td>\n",
       "    </tr>\n",
       "    <tr>\n",
       "      <th>4</th>\n",
       "      <td>Ravi</td>\n",
       "      <td>18.0</td>\n",
       "      <td>M</td>\n",
       "      <td>65.0</td>\n",
       "      <td>65.0</td>\n",
       "    </tr>\n",
       "    <tr>\n",
       "      <th>5</th>\n",
       "      <td>Natasha</td>\n",
       "      <td>17.0</td>\n",
       "      <td>F</td>\n",
       "      <td>NaN</td>\n",
       "      <td>90.0</td>\n",
       "    </tr>\n",
       "    <tr>\n",
       "      <th>6</th>\n",
       "      <td>Riya</td>\n",
       "      <td>17.0</td>\n",
       "      <td>F</td>\n",
       "      <td>NaN</td>\n",
       "      <td>95.0</td>\n",
       "    </tr>\n",
       "  </tbody>\n",
       "</table>\n",
       "</div>"
      ],
      "text/plain": [
       "      Name   Age Gender  Marks1  Marks2\n",
       "0      Jai   NaN      M     NaN   100.0\n",
       "1   Princi  17.0      F     NaN     7.0\n",
       "2   Gaurav  18.0      M     NaN    60.0\n",
       "3     Anuj  17.0      M    74.0     NaN\n",
       "4     Ravi  18.0      M    65.0    65.0\n",
       "5  Natasha  17.0      F     NaN    90.0\n",
       "6     Riya  17.0      F     NaN    95.0"
      ]
     },
     "execution_count": 25,
     "metadata": {},
     "output_type": "execute_result"
    }
   ],
   "source": [
    "import numpy as np\n",
    "\n",
    "df = load_dataset_marks()\n",
    "df.replace({-9999: np.nan, 'N/A': np.nan}, inplace=True)\n",
    "df"
   ]
  },
  {
   "cell_type": "code",
   "execution_count": 26,
   "metadata": {},
   "outputs": [
    {
     "name": "stderr",
     "output_type": "stream",
     "text": [
      "C:\\Users\\campo\\AppData\\Local\\Temp\\ipykernel_20208\\1807588442.py:1: FutureWarning: Series.fillna with 'method' is deprecated and will raise in a future version. Use obj.ffill() or obj.bfill() instead.\n",
      "  df['Marks1'].fillna(method=\"bfill\", inplace=True)\n"
     ]
    },
    {
     "data": {
      "text/html": [
       "<div>\n",
       "<style scoped>\n",
       "    .dataframe tbody tr th:only-of-type {\n",
       "        vertical-align: middle;\n",
       "    }\n",
       "\n",
       "    .dataframe tbody tr th {\n",
       "        vertical-align: top;\n",
       "    }\n",
       "\n",
       "    .dataframe thead th {\n",
       "        text-align: right;\n",
       "    }\n",
       "</style>\n",
       "<table border=\"1\" class=\"dataframe\">\n",
       "  <thead>\n",
       "    <tr style=\"text-align: right;\">\n",
       "      <th></th>\n",
       "      <th>Name</th>\n",
       "      <th>Age</th>\n",
       "      <th>Gender</th>\n",
       "      <th>Marks1</th>\n",
       "      <th>Marks2</th>\n",
       "    </tr>\n",
       "  </thead>\n",
       "  <tbody>\n",
       "    <tr>\n",
       "      <th>0</th>\n",
       "      <td>Jai</td>\n",
       "      <td>NaN</td>\n",
       "      <td>M</td>\n",
       "      <td>74.0</td>\n",
       "      <td>100.0</td>\n",
       "    </tr>\n",
       "    <tr>\n",
       "      <th>1</th>\n",
       "      <td>Princi</td>\n",
       "      <td>17.0</td>\n",
       "      <td>F</td>\n",
       "      <td>74.0</td>\n",
       "      <td>7.0</td>\n",
       "    </tr>\n",
       "    <tr>\n",
       "      <th>2</th>\n",
       "      <td>Gaurav</td>\n",
       "      <td>18.0</td>\n",
       "      <td>M</td>\n",
       "      <td>74.0</td>\n",
       "      <td>60.0</td>\n",
       "    </tr>\n",
       "    <tr>\n",
       "      <th>3</th>\n",
       "      <td>Anuj</td>\n",
       "      <td>17.0</td>\n",
       "      <td>M</td>\n",
       "      <td>74.0</td>\n",
       "      <td>NaN</td>\n",
       "    </tr>\n",
       "    <tr>\n",
       "      <th>4</th>\n",
       "      <td>Ravi</td>\n",
       "      <td>18.0</td>\n",
       "      <td>M</td>\n",
       "      <td>65.0</td>\n",
       "      <td>65.0</td>\n",
       "    </tr>\n",
       "    <tr>\n",
       "      <th>5</th>\n",
       "      <td>Natasha</td>\n",
       "      <td>17.0</td>\n",
       "      <td>F</td>\n",
       "      <td>NaN</td>\n",
       "      <td>90.0</td>\n",
       "    </tr>\n",
       "    <tr>\n",
       "      <th>6</th>\n",
       "      <td>Riya</td>\n",
       "      <td>17.0</td>\n",
       "      <td>F</td>\n",
       "      <td>NaN</td>\n",
       "      <td>95.0</td>\n",
       "    </tr>\n",
       "  </tbody>\n",
       "</table>\n",
       "</div>"
      ],
      "text/plain": [
       "      Name   Age Gender  Marks1  Marks2\n",
       "0      Jai   NaN      M    74.0   100.0\n",
       "1   Princi  17.0      F    74.0     7.0\n",
       "2   Gaurav  18.0      M    74.0    60.0\n",
       "3     Anuj  17.0      M    74.0     NaN\n",
       "4     Ravi  18.0      M    65.0    65.0\n",
       "5  Natasha  17.0      F     NaN    90.0\n",
       "6     Riya  17.0      F     NaN    95.0"
      ]
     },
     "execution_count": 26,
     "metadata": {},
     "output_type": "execute_result"
    }
   ],
   "source": [
    "df['Marks1'].fillna(method=\"bfill\", inplace=True)\n",
    "df"
   ]
  },
  {
   "cell_type": "markdown",
   "metadata": {},
   "source": [
    "##### ffill"
   ]
  },
  {
   "cell_type": "markdown",
   "metadata": {},
   "source": [
    "The `ffill()` method replaces the NULL values with the values from the previous row (or previous column, if the axis parameter is set to 'columns', `axis=1` ).  `ffill` stands for `forward fill` and will propagate last valid observation forward. We can observe that the first NaN items have not been replaced as there is no previous item to consider."
   ]
  },
  {
   "cell_type": "code",
   "execution_count": 27,
   "metadata": {},
   "outputs": [
    {
     "data": {
      "text/html": [
       "<div>\n",
       "<style scoped>\n",
       "    .dataframe tbody tr th:only-of-type {\n",
       "        vertical-align: middle;\n",
       "    }\n",
       "\n",
       "    .dataframe tbody tr th {\n",
       "        vertical-align: top;\n",
       "    }\n",
       "\n",
       "    .dataframe thead th {\n",
       "        text-align: right;\n",
       "    }\n",
       "</style>\n",
       "<table border=\"1\" class=\"dataframe\">\n",
       "  <thead>\n",
       "    <tr style=\"text-align: right;\">\n",
       "      <th></th>\n",
       "      <th>Name</th>\n",
       "      <th>Age</th>\n",
       "      <th>Gender</th>\n",
       "      <th>Marks1</th>\n",
       "      <th>Marks2</th>\n",
       "    </tr>\n",
       "  </thead>\n",
       "  <tbody>\n",
       "    <tr>\n",
       "      <th>0</th>\n",
       "      <td>Jai</td>\n",
       "      <td>NaN</td>\n",
       "      <td>M</td>\n",
       "      <td>NaN</td>\n",
       "      <td>100.0</td>\n",
       "    </tr>\n",
       "    <tr>\n",
       "      <th>1</th>\n",
       "      <td>Princi</td>\n",
       "      <td>17.0</td>\n",
       "      <td>F</td>\n",
       "      <td>NaN</td>\n",
       "      <td>7.0</td>\n",
       "    </tr>\n",
       "    <tr>\n",
       "      <th>2</th>\n",
       "      <td>Gaurav</td>\n",
       "      <td>18.0</td>\n",
       "      <td>M</td>\n",
       "      <td>NaN</td>\n",
       "      <td>60.0</td>\n",
       "    </tr>\n",
       "    <tr>\n",
       "      <th>3</th>\n",
       "      <td>Anuj</td>\n",
       "      <td>17.0</td>\n",
       "      <td>M</td>\n",
       "      <td>74.0</td>\n",
       "      <td>NaN</td>\n",
       "    </tr>\n",
       "    <tr>\n",
       "      <th>4</th>\n",
       "      <td>Ravi</td>\n",
       "      <td>18.0</td>\n",
       "      <td>M</td>\n",
       "      <td>65.0</td>\n",
       "      <td>65.0</td>\n",
       "    </tr>\n",
       "    <tr>\n",
       "      <th>5</th>\n",
       "      <td>Natasha</td>\n",
       "      <td>17.0</td>\n",
       "      <td>F</td>\n",
       "      <td>NaN</td>\n",
       "      <td>90.0</td>\n",
       "    </tr>\n",
       "    <tr>\n",
       "      <th>6</th>\n",
       "      <td>Riya</td>\n",
       "      <td>17.0</td>\n",
       "      <td>F</td>\n",
       "      <td>NaN</td>\n",
       "      <td>95.0</td>\n",
       "    </tr>\n",
       "  </tbody>\n",
       "</table>\n",
       "</div>"
      ],
      "text/plain": [
       "      Name   Age Gender  Marks1  Marks2\n",
       "0      Jai   NaN      M     NaN   100.0\n",
       "1   Princi  17.0      F     NaN     7.0\n",
       "2   Gaurav  18.0      M     NaN    60.0\n",
       "3     Anuj  17.0      M    74.0     NaN\n",
       "4     Ravi  18.0      M    65.0    65.0\n",
       "5  Natasha  17.0      F     NaN    90.0\n",
       "6     Riya  17.0      F     NaN    95.0"
      ]
     },
     "execution_count": 27,
     "metadata": {},
     "output_type": "execute_result"
    }
   ],
   "source": [
    "import numpy as np\n",
    "\n",
    "df = load_dataset_marks()\n",
    "df.replace({-9999: np.nan, 'N/A': np.nan}, inplace=True)\n",
    "df"
   ]
  },
  {
   "cell_type": "code",
   "execution_count": 28,
   "metadata": {},
   "outputs": [
    {
     "name": "stderr",
     "output_type": "stream",
     "text": [
      "C:\\Users\\campo\\AppData\\Local\\Temp\\ipykernel_20208\\3886390600.py:1: FutureWarning: Series.fillna with 'method' is deprecated and will raise in a future version. Use obj.ffill() or obj.bfill() instead.\n",
      "  df['Marks1'].fillna(method=\"ffill\", inplace=True)\n"
     ]
    },
    {
     "data": {
      "text/html": [
       "<div>\n",
       "<style scoped>\n",
       "    .dataframe tbody tr th:only-of-type {\n",
       "        vertical-align: middle;\n",
       "    }\n",
       "\n",
       "    .dataframe tbody tr th {\n",
       "        vertical-align: top;\n",
       "    }\n",
       "\n",
       "    .dataframe thead th {\n",
       "        text-align: right;\n",
       "    }\n",
       "</style>\n",
       "<table border=\"1\" class=\"dataframe\">\n",
       "  <thead>\n",
       "    <tr style=\"text-align: right;\">\n",
       "      <th></th>\n",
       "      <th>Name</th>\n",
       "      <th>Age</th>\n",
       "      <th>Gender</th>\n",
       "      <th>Marks1</th>\n",
       "      <th>Marks2</th>\n",
       "    </tr>\n",
       "  </thead>\n",
       "  <tbody>\n",
       "    <tr>\n",
       "      <th>0</th>\n",
       "      <td>Jai</td>\n",
       "      <td>NaN</td>\n",
       "      <td>M</td>\n",
       "      <td>NaN</td>\n",
       "      <td>100.0</td>\n",
       "    </tr>\n",
       "    <tr>\n",
       "      <th>1</th>\n",
       "      <td>Princi</td>\n",
       "      <td>17.0</td>\n",
       "      <td>F</td>\n",
       "      <td>NaN</td>\n",
       "      <td>7.0</td>\n",
       "    </tr>\n",
       "    <tr>\n",
       "      <th>2</th>\n",
       "      <td>Gaurav</td>\n",
       "      <td>18.0</td>\n",
       "      <td>M</td>\n",
       "      <td>NaN</td>\n",
       "      <td>60.0</td>\n",
       "    </tr>\n",
       "    <tr>\n",
       "      <th>3</th>\n",
       "      <td>Anuj</td>\n",
       "      <td>17.0</td>\n",
       "      <td>M</td>\n",
       "      <td>74.0</td>\n",
       "      <td>NaN</td>\n",
       "    </tr>\n",
       "    <tr>\n",
       "      <th>4</th>\n",
       "      <td>Ravi</td>\n",
       "      <td>18.0</td>\n",
       "      <td>M</td>\n",
       "      <td>65.0</td>\n",
       "      <td>65.0</td>\n",
       "    </tr>\n",
       "    <tr>\n",
       "      <th>5</th>\n",
       "      <td>Natasha</td>\n",
       "      <td>17.0</td>\n",
       "      <td>F</td>\n",
       "      <td>65.0</td>\n",
       "      <td>90.0</td>\n",
       "    </tr>\n",
       "    <tr>\n",
       "      <th>6</th>\n",
       "      <td>Riya</td>\n",
       "      <td>17.0</td>\n",
       "      <td>F</td>\n",
       "      <td>65.0</td>\n",
       "      <td>95.0</td>\n",
       "    </tr>\n",
       "  </tbody>\n",
       "</table>\n",
       "</div>"
      ],
      "text/plain": [
       "      Name   Age Gender  Marks1  Marks2\n",
       "0      Jai   NaN      M     NaN   100.0\n",
       "1   Princi  17.0      F     NaN     7.0\n",
       "2   Gaurav  18.0      M     NaN    60.0\n",
       "3     Anuj  17.0      M    74.0     NaN\n",
       "4     Ravi  18.0      M    65.0    65.0\n",
       "5  Natasha  17.0      F    65.0    90.0\n",
       "6     Riya  17.0      F    65.0    95.0"
      ]
     },
     "execution_count": 28,
     "metadata": {},
     "output_type": "execute_result"
    }
   ],
   "source": [
    "df['Marks1'].fillna(method=\"ffill\", inplace=True)\n",
    "df"
   ]
  },
  {
   "cell_type": "markdown",
   "metadata": {},
   "source": [
    "There is also the chance to fill in the values (either with the previous or with the next one) in terms of the columns. However, this only makes sense in case we are talking about columns that refer to the same thing (which is not the case, below). In this case, for instance, `Marks1` will get results from `Gender` which doesn't make sense at all."
   ]
  },
  {
   "cell_type": "code",
   "execution_count": 29,
   "metadata": {},
   "outputs": [
    {
     "data": {
      "text/html": [
       "<div>\n",
       "<style scoped>\n",
       "    .dataframe tbody tr th:only-of-type {\n",
       "        vertical-align: middle;\n",
       "    }\n",
       "\n",
       "    .dataframe tbody tr th {\n",
       "        vertical-align: top;\n",
       "    }\n",
       "\n",
       "    .dataframe thead th {\n",
       "        text-align: right;\n",
       "    }\n",
       "</style>\n",
       "<table border=\"1\" class=\"dataframe\">\n",
       "  <thead>\n",
       "    <tr style=\"text-align: right;\">\n",
       "      <th></th>\n",
       "      <th>Name</th>\n",
       "      <th>Age</th>\n",
       "      <th>Gender</th>\n",
       "      <th>Marks1</th>\n",
       "      <th>Marks2</th>\n",
       "    </tr>\n",
       "  </thead>\n",
       "  <tbody>\n",
       "    <tr>\n",
       "      <th>0</th>\n",
       "      <td>Jai</td>\n",
       "      <td>NaN</td>\n",
       "      <td>M</td>\n",
       "      <td>NaN</td>\n",
       "      <td>100.0</td>\n",
       "    </tr>\n",
       "    <tr>\n",
       "      <th>1</th>\n",
       "      <td>Princi</td>\n",
       "      <td>17.0</td>\n",
       "      <td>F</td>\n",
       "      <td>NaN</td>\n",
       "      <td>7.0</td>\n",
       "    </tr>\n",
       "    <tr>\n",
       "      <th>2</th>\n",
       "      <td>Gaurav</td>\n",
       "      <td>18.0</td>\n",
       "      <td>M</td>\n",
       "      <td>NaN</td>\n",
       "      <td>60.0</td>\n",
       "    </tr>\n",
       "    <tr>\n",
       "      <th>3</th>\n",
       "      <td>Anuj</td>\n",
       "      <td>17.0</td>\n",
       "      <td>M</td>\n",
       "      <td>74.0</td>\n",
       "      <td>NaN</td>\n",
       "    </tr>\n",
       "    <tr>\n",
       "      <th>4</th>\n",
       "      <td>Ravi</td>\n",
       "      <td>18.0</td>\n",
       "      <td>M</td>\n",
       "      <td>65.0</td>\n",
       "      <td>65.0</td>\n",
       "    </tr>\n",
       "    <tr>\n",
       "      <th>5</th>\n",
       "      <td>Natasha</td>\n",
       "      <td>17.0</td>\n",
       "      <td>F</td>\n",
       "      <td>NaN</td>\n",
       "      <td>90.0</td>\n",
       "    </tr>\n",
       "    <tr>\n",
       "      <th>6</th>\n",
       "      <td>Riya</td>\n",
       "      <td>17.0</td>\n",
       "      <td>F</td>\n",
       "      <td>NaN</td>\n",
       "      <td>95.0</td>\n",
       "    </tr>\n",
       "  </tbody>\n",
       "</table>\n",
       "</div>"
      ],
      "text/plain": [
       "      Name   Age Gender  Marks1  Marks2\n",
       "0      Jai   NaN      M     NaN   100.0\n",
       "1   Princi  17.0      F     NaN     7.0\n",
       "2   Gaurav  18.0      M     NaN    60.0\n",
       "3     Anuj  17.0      M    74.0     NaN\n",
       "4     Ravi  18.0      M    65.0    65.0\n",
       "5  Natasha  17.0      F     NaN    90.0\n",
       "6     Riya  17.0      F     NaN    95.0"
      ]
     },
     "execution_count": 29,
     "metadata": {},
     "output_type": "execute_result"
    }
   ],
   "source": [
    "import numpy as np\n",
    "df = load_dataset_marks()\n",
    "df.replace({-9999: np.nan, 'N/A': np.nan}, inplace=True)\n",
    "df"
   ]
  },
  {
   "cell_type": "code",
   "execution_count": 30,
   "metadata": {},
   "outputs": [
    {
     "name": "stderr",
     "output_type": "stream",
     "text": [
      "C:\\Users\\campo\\AppData\\Local\\Temp\\ipykernel_20208\\2192981752.py:1: FutureWarning: DataFrame.fillna with 'method' is deprecated and will raise in a future version. Use obj.ffill() or obj.bfill() instead.\n",
      "  df = df.fillna(method=\"ffill\", axis = 1)\n"
     ]
    },
    {
     "data": {
      "text/html": [
       "<div>\n",
       "<style scoped>\n",
       "    .dataframe tbody tr th:only-of-type {\n",
       "        vertical-align: middle;\n",
       "    }\n",
       "\n",
       "    .dataframe tbody tr th {\n",
       "        vertical-align: top;\n",
       "    }\n",
       "\n",
       "    .dataframe thead th {\n",
       "        text-align: right;\n",
       "    }\n",
       "</style>\n",
       "<table border=\"1\" class=\"dataframe\">\n",
       "  <thead>\n",
       "    <tr style=\"text-align: right;\">\n",
       "      <th></th>\n",
       "      <th>Name</th>\n",
       "      <th>Age</th>\n",
       "      <th>Gender</th>\n",
       "      <th>Marks1</th>\n",
       "      <th>Marks2</th>\n",
       "    </tr>\n",
       "  </thead>\n",
       "  <tbody>\n",
       "    <tr>\n",
       "      <th>0</th>\n",
       "      <td>Jai</td>\n",
       "      <td>Jai</td>\n",
       "      <td>M</td>\n",
       "      <td>M</td>\n",
       "      <td>100.0</td>\n",
       "    </tr>\n",
       "    <tr>\n",
       "      <th>1</th>\n",
       "      <td>Princi</td>\n",
       "      <td>17.0</td>\n",
       "      <td>F</td>\n",
       "      <td>F</td>\n",
       "      <td>7.0</td>\n",
       "    </tr>\n",
       "    <tr>\n",
       "      <th>2</th>\n",
       "      <td>Gaurav</td>\n",
       "      <td>18.0</td>\n",
       "      <td>M</td>\n",
       "      <td>M</td>\n",
       "      <td>60.0</td>\n",
       "    </tr>\n",
       "    <tr>\n",
       "      <th>3</th>\n",
       "      <td>Anuj</td>\n",
       "      <td>17.0</td>\n",
       "      <td>M</td>\n",
       "      <td>74.0</td>\n",
       "      <td>74.0</td>\n",
       "    </tr>\n",
       "    <tr>\n",
       "      <th>4</th>\n",
       "      <td>Ravi</td>\n",
       "      <td>18.0</td>\n",
       "      <td>M</td>\n",
       "      <td>65.0</td>\n",
       "      <td>65.0</td>\n",
       "    </tr>\n",
       "    <tr>\n",
       "      <th>5</th>\n",
       "      <td>Natasha</td>\n",
       "      <td>17.0</td>\n",
       "      <td>F</td>\n",
       "      <td>F</td>\n",
       "      <td>90.0</td>\n",
       "    </tr>\n",
       "    <tr>\n",
       "      <th>6</th>\n",
       "      <td>Riya</td>\n",
       "      <td>17.0</td>\n",
       "      <td>F</td>\n",
       "      <td>F</td>\n",
       "      <td>95.0</td>\n",
       "    </tr>\n",
       "  </tbody>\n",
       "</table>\n",
       "</div>"
      ],
      "text/plain": [
       "      Name   Age Gender Marks1 Marks2\n",
       "0      Jai   Jai      M      M  100.0\n",
       "1   Princi  17.0      F      F    7.0\n",
       "2   Gaurav  18.0      M      M   60.0\n",
       "3     Anuj  17.0      M   74.0   74.0\n",
       "4     Ravi  18.0      M   65.0   65.0\n",
       "5  Natasha  17.0      F      F   90.0\n",
       "6     Riya  17.0      F      F   95.0"
      ]
     },
     "execution_count": 30,
     "metadata": {},
     "output_type": "execute_result"
    }
   ],
   "source": [
    "df = df.fillna(method=\"ffill\", axis = 1)\n",
    "df"
   ]
  },
  {
   "cell_type": "markdown",
   "metadata": {},
   "source": [
    "##### Default Value"
   ]
  },
  {
   "cell_type": "markdown",
   "metadata": {},
   "source": [
    "There is also the chance to fill missing values with a default value:"
   ]
  },
  {
   "cell_type": "code",
   "execution_count": 31,
   "metadata": {},
   "outputs": [
    {
     "name": "stderr",
     "output_type": "stream",
     "text": [
      "C:\\Users\\campo\\AppData\\Local\\Temp\\ipykernel_20208\\1679045030.py:4: FutureWarning: Setting an item of incompatible dtype is deprecated and will raise in a future error of pandas. Value '0' has dtype incompatible with float64, please explicitly cast to a compatible dtype first.\n",
      "  df.fillna(\"0\", inplace = True)\n"
     ]
    },
    {
     "data": {
      "text/html": [
       "<div>\n",
       "<style scoped>\n",
       "    .dataframe tbody tr th:only-of-type {\n",
       "        vertical-align: middle;\n",
       "    }\n",
       "\n",
       "    .dataframe tbody tr th {\n",
       "        vertical-align: top;\n",
       "    }\n",
       "\n",
       "    .dataframe thead th {\n",
       "        text-align: right;\n",
       "    }\n",
       "</style>\n",
       "<table border=\"1\" class=\"dataframe\">\n",
       "  <thead>\n",
       "    <tr style=\"text-align: right;\">\n",
       "      <th></th>\n",
       "      <th>Name</th>\n",
       "      <th>Age</th>\n",
       "      <th>Gender</th>\n",
       "      <th>Marks1</th>\n",
       "      <th>Marks2</th>\n",
       "    </tr>\n",
       "  </thead>\n",
       "  <tbody>\n",
       "    <tr>\n",
       "      <th>0</th>\n",
       "      <td>Jai</td>\n",
       "      <td>0</td>\n",
       "      <td>M</td>\n",
       "      <td>0</td>\n",
       "      <td>100.0</td>\n",
       "    </tr>\n",
       "    <tr>\n",
       "      <th>1</th>\n",
       "      <td>Princi</td>\n",
       "      <td>17.0</td>\n",
       "      <td>F</td>\n",
       "      <td>0</td>\n",
       "      <td>7.0</td>\n",
       "    </tr>\n",
       "    <tr>\n",
       "      <th>2</th>\n",
       "      <td>Gaurav</td>\n",
       "      <td>18.0</td>\n",
       "      <td>M</td>\n",
       "      <td>0</td>\n",
       "      <td>60.0</td>\n",
       "    </tr>\n",
       "    <tr>\n",
       "      <th>3</th>\n",
       "      <td>Anuj</td>\n",
       "      <td>17.0</td>\n",
       "      <td>M</td>\n",
       "      <td>74.0</td>\n",
       "      <td>0</td>\n",
       "    </tr>\n",
       "    <tr>\n",
       "      <th>4</th>\n",
       "      <td>Ravi</td>\n",
       "      <td>18.0</td>\n",
       "      <td>M</td>\n",
       "      <td>65.0</td>\n",
       "      <td>65.0</td>\n",
       "    </tr>\n",
       "    <tr>\n",
       "      <th>5</th>\n",
       "      <td>Natasha</td>\n",
       "      <td>17.0</td>\n",
       "      <td>F</td>\n",
       "      <td>0</td>\n",
       "      <td>90.0</td>\n",
       "    </tr>\n",
       "    <tr>\n",
       "      <th>6</th>\n",
       "      <td>Riya</td>\n",
       "      <td>17.0</td>\n",
       "      <td>F</td>\n",
       "      <td>0</td>\n",
       "      <td>95.0</td>\n",
       "    </tr>\n",
       "  </tbody>\n",
       "</table>\n",
       "</div>"
      ],
      "text/plain": [
       "      Name   Age Gender Marks1 Marks2\n",
       "0      Jai     0      M      0  100.0\n",
       "1   Princi  17.0      F      0    7.0\n",
       "2   Gaurav  18.0      M      0   60.0\n",
       "3     Anuj  17.0      M   74.0      0\n",
       "4     Ravi  18.0      M   65.0   65.0\n",
       "5  Natasha  17.0      F      0   90.0\n",
       "6     Riya  17.0      F      0   95.0"
      ]
     },
     "execution_count": 31,
     "metadata": {},
     "output_type": "execute_result"
    }
   ],
   "source": [
    "import numpy as np\n",
    "df = load_dataset_marks()\n",
    "df.replace({-9999: np.nan, 'N/A': np.nan}, inplace=True)\n",
    "df.fillna(\"0\", inplace = True)\n",
    "df"
   ]
  },
  {
   "cell_type": "markdown",
   "metadata": {},
   "source": [
    "<hr>"
   ]
  },
  {
   "cell_type": "markdown",
   "metadata": {},
   "source": [
    "### Duplicates"
   ]
  },
  {
   "cell_type": "code",
   "execution_count": 32,
   "metadata": {},
   "outputs": [
    {
     "data": {
      "text/html": [
       "<div>\n",
       "<style scoped>\n",
       "    .dataframe tbody tr th:only-of-type {\n",
       "        vertical-align: middle;\n",
       "    }\n",
       "\n",
       "    .dataframe tbody tr th {\n",
       "        vertical-align: top;\n",
       "    }\n",
       "\n",
       "    .dataframe thead th {\n",
       "        text-align: right;\n",
       "    }\n",
       "</style>\n",
       "<table border=\"1\" class=\"dataframe\">\n",
       "  <thead>\n",
       "    <tr style=\"text-align: right;\">\n",
       "      <th></th>\n",
       "      <th>nome</th>\n",
       "      <th>continente</th>\n",
       "      <th>extensao</th>\n",
       "      <th>corVerde</th>\n",
       "    </tr>\n",
       "  </thead>\n",
       "  <tbody>\n",
       "    <tr>\n",
       "      <th>0</th>\n",
       "      <td>Argentina</td>\n",
       "      <td>América</td>\n",
       "      <td>2780</td>\n",
       "      <td>0</td>\n",
       "    </tr>\n",
       "    <tr>\n",
       "      <th>1</th>\n",
       "      <td>Argentina</td>\n",
       "      <td>América</td>\n",
       "      <td>2780</td>\n",
       "      <td>0</td>\n",
       "    </tr>\n",
       "    <tr>\n",
       "      <th>2</th>\n",
       "      <td>Argentina</td>\n",
       "      <td>América</td>\n",
       "      <td>2780</td>\n",
       "      <td>0</td>\n",
       "    </tr>\n",
       "    <tr>\n",
       "      <th>3</th>\n",
       "      <td>Itália</td>\n",
       "      <td>Europa</td>\n",
       "      <td>301</td>\n",
       "      <td>1</td>\n",
       "    </tr>\n",
       "    <tr>\n",
       "      <th>4</th>\n",
       "      <td>Argentina</td>\n",
       "      <td>Europa</td>\n",
       "      <td>244</td>\n",
       "      <td>1</td>\n",
       "    </tr>\n",
       "  </tbody>\n",
       "</table>\n",
       "</div>"
      ],
      "text/plain": [
       "        nome continente  extensao  corVerde\n",
       "0  Argentina    América      2780         0\n",
       "1  Argentina    América      2780         0\n",
       "2  Argentina    América      2780         0\n",
       "3     Itália     Europa       301         1\n",
       "4  Argentina     Europa       244         1"
      ]
     },
     "execution_count": 32,
     "metadata": {},
     "output_type": "execute_result"
    }
   ],
   "source": [
    "import pandas as pd\n",
    "\n",
    "data = {'nome': ['Argentina','Argentina','Argentina','Itália','Argentina'],\n",
    "         'continente': ['América','América','América','Europa','Europa'],\n",
    "         'extensao': [2780,2780,2780,301,244],\n",
    "         'corVerde': [0,0,0,1,1]\n",
    "}\n",
    "\n",
    "df = pd.DataFrame(data)\n",
    "df"
   ]
  },
  {
   "cell_type": "markdown",
   "metadata": {},
   "source": [
    "#### Identify"
   ]
  },
  {
   "cell_type": "markdown",
   "metadata": {},
   "source": [
    "O comando seguinte marca os registos duplicados (levando em consideração todas as colunas) com o boolean True. Por defeito o pandas mantém o primeiro registo (keep = 'first') e considera como duplicados todos os restantes que apareçam."
   ]
  },
  {
   "cell_type": "code",
   "execution_count": 33,
   "metadata": {},
   "outputs": [
    {
     "data": {
      "text/plain": [
       "0    False\n",
       "1     True\n",
       "2     True\n",
       "3    False\n",
       "4    False\n",
       "dtype: bool"
      ]
     },
     "execution_count": 33,
     "metadata": {},
     "output_type": "execute_result"
    }
   ],
   "source": [
    "df.duplicated(keep = 'first')"
   ]
  },
  {
   "cell_type": "markdown",
   "metadata": {},
   "source": [
    " Sendo este o comportamento de default não é necessário recorrer ao parâmetro keep:"
   ]
  },
  {
   "cell_type": "code",
   "execution_count": 34,
   "metadata": {},
   "outputs": [
    {
     "data": {
      "text/plain": [
       "0    False\n",
       "1     True\n",
       "2     True\n",
       "3    False\n",
       "4    False\n",
       "dtype: bool"
      ]
     },
     "execution_count": 34,
     "metadata": {},
     "output_type": "execute_result"
    }
   ],
   "source": [
    "df.duplicated()"
   ]
  },
  {
   "cell_type": "markdown",
   "metadata": {},
   "source": [
    "Já o parâmetro `keep = false` considera todos os registos como duplicados."
   ]
  },
  {
   "cell_type": "code",
   "execution_count": 35,
   "metadata": {},
   "outputs": [
    {
     "data": {
      "text/plain": [
       "0     True\n",
       "1     True\n",
       "2     True\n",
       "3    False\n",
       "4    False\n",
       "dtype: bool"
      ]
     },
     "execution_count": 35,
     "metadata": {},
     "output_type": "execute_result"
    }
   ],
   "source": [
    "df.duplicated(keep = False)"
   ]
  },
  {
   "cell_type": "markdown",
   "metadata": {},
   "source": [
    "Podemos contabilizar o número de registos duplicados:"
   ]
  },
  {
   "cell_type": "code",
   "execution_count": 36,
   "metadata": {},
   "outputs": [
    {
     "data": {
      "text/plain": [
       "2"
      ]
     },
     "execution_count": 36,
     "metadata": {},
     "output_type": "execute_result"
    }
   ],
   "source": [
    "df.duplicated().sum()"
   ]
  },
  {
   "cell_type": "markdown",
   "metadata": {},
   "source": [
    "Se pretendermos saber que registos são esses (a True) basta executar o seguinte código:"
   ]
  },
  {
   "cell_type": "code",
   "execution_count": 37,
   "metadata": {},
   "outputs": [
    {
     "data": {
      "text/html": [
       "<div>\n",
       "<style scoped>\n",
       "    .dataframe tbody tr th:only-of-type {\n",
       "        vertical-align: middle;\n",
       "    }\n",
       "\n",
       "    .dataframe tbody tr th {\n",
       "        vertical-align: top;\n",
       "    }\n",
       "\n",
       "    .dataframe thead th {\n",
       "        text-align: right;\n",
       "    }\n",
       "</style>\n",
       "<table border=\"1\" class=\"dataframe\">\n",
       "  <thead>\n",
       "    <tr style=\"text-align: right;\">\n",
       "      <th></th>\n",
       "      <th>nome</th>\n",
       "      <th>continente</th>\n",
       "      <th>extensao</th>\n",
       "      <th>corVerde</th>\n",
       "    </tr>\n",
       "  </thead>\n",
       "  <tbody>\n",
       "    <tr>\n",
       "      <th>1</th>\n",
       "      <td>Argentina</td>\n",
       "      <td>América</td>\n",
       "      <td>2780</td>\n",
       "      <td>0</td>\n",
       "    </tr>\n",
       "    <tr>\n",
       "      <th>2</th>\n",
       "      <td>Argentina</td>\n",
       "      <td>América</td>\n",
       "      <td>2780</td>\n",
       "      <td>0</td>\n",
       "    </tr>\n",
       "  </tbody>\n",
       "</table>\n",
       "</div>"
      ],
      "text/plain": [
       "        nome continente  extensao  corVerde\n",
       "1  Argentina    América      2780         0\n",
       "2  Argentina    América      2780         0"
      ]
     },
     "execution_count": 37,
     "metadata": {},
     "output_type": "execute_result"
    }
   ],
   "source": [
    "df[df.duplicated()]"
   ]
  },
  {
   "cell_type": "markdown",
   "metadata": {},
   "source": [
    "É possível também verificarmos duplicações numa coluna em específico:"
   ]
  },
  {
   "cell_type": "code",
   "execution_count": 38,
   "metadata": {},
   "outputs": [
    {
     "data": {
      "text/plain": [
       "0    False\n",
       "1     True\n",
       "2     True\n",
       "3    False\n",
       "4     True\n",
       "Name: nome, dtype: bool"
      ]
     },
     "execution_count": 38,
     "metadata": {},
     "output_type": "execute_result"
    }
   ],
   "source": [
    "df['nome'].duplicated()\n",
    "#df.duplicated(subset='nome')"
   ]
  },
  {
   "cell_type": "markdown",
   "metadata": {},
   "source": [
    "Se pretendermos especificar mais do que uma coluna podemos recorrer a listas e ao parâmetro subset:"
   ]
  },
  {
   "cell_type": "code",
   "execution_count": 39,
   "metadata": {},
   "outputs": [
    {
     "data": {
      "text/plain": [
       "0    False\n",
       "1     True\n",
       "2     True\n",
       "3    False\n",
       "4    False\n",
       "dtype: bool"
      ]
     },
     "execution_count": 39,
     "metadata": {},
     "output_type": "execute_result"
    }
   ],
   "source": [
    "df[['nome','continente']].duplicated()\n",
    "#df.duplicated(subset=['nome','continente'])"
   ]
  },
  {
   "cell_type": "markdown",
   "metadata": {},
   "source": [
    "#### Drop"
   ]
  },
  {
   "cell_type": "markdown",
   "metadata": {},
   "source": [
    "É possível eliminar todos os registos duplicados. O exemplo abaixo faz isso tomando em consideração todas as colunas. Tenha em atenção também que esta operação tem como default `inplace=False`, pelo que se pretender que efetivamente a eliminação dos duplicados tenha efeito, deverá passar `inplace=True` como parâmetro"
   ]
  },
  {
   "cell_type": "code",
   "execution_count": 40,
   "metadata": {},
   "outputs": [
    {
     "data": {
      "text/html": [
       "<div>\n",
       "<style scoped>\n",
       "    .dataframe tbody tr th:only-of-type {\n",
       "        vertical-align: middle;\n",
       "    }\n",
       "\n",
       "    .dataframe tbody tr th {\n",
       "        vertical-align: top;\n",
       "    }\n",
       "\n",
       "    .dataframe thead th {\n",
       "        text-align: right;\n",
       "    }\n",
       "</style>\n",
       "<table border=\"1\" class=\"dataframe\">\n",
       "  <thead>\n",
       "    <tr style=\"text-align: right;\">\n",
       "      <th></th>\n",
       "      <th>nome</th>\n",
       "      <th>continente</th>\n",
       "      <th>extensao</th>\n",
       "      <th>corVerde</th>\n",
       "    </tr>\n",
       "  </thead>\n",
       "  <tbody>\n",
       "    <tr>\n",
       "      <th>0</th>\n",
       "      <td>Argentina</td>\n",
       "      <td>América</td>\n",
       "      <td>2780</td>\n",
       "      <td>0</td>\n",
       "    </tr>\n",
       "    <tr>\n",
       "      <th>3</th>\n",
       "      <td>Itália</td>\n",
       "      <td>Europa</td>\n",
       "      <td>301</td>\n",
       "      <td>1</td>\n",
       "    </tr>\n",
       "    <tr>\n",
       "      <th>4</th>\n",
       "      <td>Argentina</td>\n",
       "      <td>Europa</td>\n",
       "      <td>244</td>\n",
       "      <td>1</td>\n",
       "    </tr>\n",
       "  </tbody>\n",
       "</table>\n",
       "</div>"
      ],
      "text/plain": [
       "        nome continente  extensao  corVerde\n",
       "0  Argentina    América      2780         0\n",
       "3     Itália     Europa       301         1\n",
       "4  Argentina     Europa       244         1"
      ]
     },
     "execution_count": 40,
     "metadata": {},
     "output_type": "execute_result"
    }
   ],
   "source": [
    "df.drop_duplicates()"
   ]
  },
  {
   "cell_type": "markdown",
   "metadata": {},
   "source": [
    "Também poderá optar por decidir qual dos duplicados pretende manter:"
   ]
  },
  {
   "cell_type": "code",
   "execution_count": 41,
   "metadata": {},
   "outputs": [
    {
     "data": {
      "text/html": [
       "<div>\n",
       "<style scoped>\n",
       "    .dataframe tbody tr th:only-of-type {\n",
       "        vertical-align: middle;\n",
       "    }\n",
       "\n",
       "    .dataframe tbody tr th {\n",
       "        vertical-align: top;\n",
       "    }\n",
       "\n",
       "    .dataframe thead th {\n",
       "        text-align: right;\n",
       "    }\n",
       "</style>\n",
       "<table border=\"1\" class=\"dataframe\">\n",
       "  <thead>\n",
       "    <tr style=\"text-align: right;\">\n",
       "      <th></th>\n",
       "      <th>nome</th>\n",
       "      <th>continente</th>\n",
       "      <th>extensao</th>\n",
       "      <th>corVerde</th>\n",
       "    </tr>\n",
       "  </thead>\n",
       "  <tbody>\n",
       "    <tr>\n",
       "      <th>2</th>\n",
       "      <td>Argentina</td>\n",
       "      <td>América</td>\n",
       "      <td>2780</td>\n",
       "      <td>0</td>\n",
       "    </tr>\n",
       "    <tr>\n",
       "      <th>3</th>\n",
       "      <td>Itália</td>\n",
       "      <td>Europa</td>\n",
       "      <td>301</td>\n",
       "      <td>1</td>\n",
       "    </tr>\n",
       "    <tr>\n",
       "      <th>4</th>\n",
       "      <td>Argentina</td>\n",
       "      <td>Europa</td>\n",
       "      <td>244</td>\n",
       "      <td>1</td>\n",
       "    </tr>\n",
       "  </tbody>\n",
       "</table>\n",
       "</div>"
      ],
      "text/plain": [
       "        nome continente  extensao  corVerde\n",
       "2  Argentina    América      2780         0\n",
       "3     Itália     Europa       301         1\n",
       "4  Argentina     Europa       244         1"
      ]
     },
     "execution_count": 41,
     "metadata": {},
     "output_type": "execute_result"
    }
   ],
   "source": [
    "df.drop_duplicates(keep = 'last')"
   ]
  },
  {
   "cell_type": "markdown",
   "metadata": {},
   "source": [
    "Podemos especificar a coluna que deve contribuir para a análise dos duplicados:"
   ]
  },
  {
   "cell_type": "code",
   "execution_count": 42,
   "metadata": {},
   "outputs": [
    {
     "data": {
      "text/html": [
       "<div>\n",
       "<style scoped>\n",
       "    .dataframe tbody tr th:only-of-type {\n",
       "        vertical-align: middle;\n",
       "    }\n",
       "\n",
       "    .dataframe tbody tr th {\n",
       "        vertical-align: top;\n",
       "    }\n",
       "\n",
       "    .dataframe thead th {\n",
       "        text-align: right;\n",
       "    }\n",
       "</style>\n",
       "<table border=\"1\" class=\"dataframe\">\n",
       "  <thead>\n",
       "    <tr style=\"text-align: right;\">\n",
       "      <th></th>\n",
       "      <th>nome</th>\n",
       "      <th>continente</th>\n",
       "      <th>extensao</th>\n",
       "      <th>corVerde</th>\n",
       "    </tr>\n",
       "  </thead>\n",
       "  <tbody>\n",
       "    <tr>\n",
       "      <th>0</th>\n",
       "      <td>Argentina</td>\n",
       "      <td>América</td>\n",
       "      <td>2780</td>\n",
       "      <td>0</td>\n",
       "    </tr>\n",
       "    <tr>\n",
       "      <th>3</th>\n",
       "      <td>Itália</td>\n",
       "      <td>Europa</td>\n",
       "      <td>301</td>\n",
       "      <td>1</td>\n",
       "    </tr>\n",
       "  </tbody>\n",
       "</table>\n",
       "</div>"
      ],
      "text/plain": [
       "        nome continente  extensao  corVerde\n",
       "0  Argentina    América      2780         0\n",
       "3     Itália     Europa       301         1"
      ]
     },
     "execution_count": 42,
     "metadata": {},
     "output_type": "execute_result"
    }
   ],
   "source": [
    "df.drop_duplicates(subset='nome')"
   ]
  },
  {
   "cell_type": "markdown",
   "metadata": {},
   "source": [
    "Ou as colunas:"
   ]
  },
  {
   "cell_type": "code",
   "execution_count": 43,
   "metadata": {},
   "outputs": [
    {
     "data": {
      "text/html": [
       "<div>\n",
       "<style scoped>\n",
       "    .dataframe tbody tr th:only-of-type {\n",
       "        vertical-align: middle;\n",
       "    }\n",
       "\n",
       "    .dataframe tbody tr th {\n",
       "        vertical-align: top;\n",
       "    }\n",
       "\n",
       "    .dataframe thead th {\n",
       "        text-align: right;\n",
       "    }\n",
       "</style>\n",
       "<table border=\"1\" class=\"dataframe\">\n",
       "  <thead>\n",
       "    <tr style=\"text-align: right;\">\n",
       "      <th></th>\n",
       "      <th>nome</th>\n",
       "      <th>continente</th>\n",
       "      <th>extensao</th>\n",
       "      <th>corVerde</th>\n",
       "    </tr>\n",
       "  </thead>\n",
       "  <tbody>\n",
       "    <tr>\n",
       "      <th>0</th>\n",
       "      <td>Argentina</td>\n",
       "      <td>América</td>\n",
       "      <td>2780</td>\n",
       "      <td>0</td>\n",
       "    </tr>\n",
       "    <tr>\n",
       "      <th>3</th>\n",
       "      <td>Itália</td>\n",
       "      <td>Europa</td>\n",
       "      <td>301</td>\n",
       "      <td>1</td>\n",
       "    </tr>\n",
       "    <tr>\n",
       "      <th>4</th>\n",
       "      <td>Argentina</td>\n",
       "      <td>Europa</td>\n",
       "      <td>244</td>\n",
       "      <td>1</td>\n",
       "    </tr>\n",
       "  </tbody>\n",
       "</table>\n",
       "</div>"
      ],
      "text/plain": [
       "        nome continente  extensao  corVerde\n",
       "0  Argentina    América      2780         0\n",
       "3     Itália     Europa       301         1\n",
       "4  Argentina     Europa       244         1"
      ]
     },
     "execution_count": 43,
     "metadata": {},
     "output_type": "execute_result"
    }
   ],
   "source": [
    "df.drop_duplicates(subset=['nome','continente'])"
   ]
  },
  {
   "cell_type": "markdown",
   "metadata": {},
   "source": [
    "Tal como referido atrás, para que a eliminação tenha consequência deverá recorrer ao parâmetro `inplace=True`. Adicionalmente é possível fazer um reset aos índices para que a contabilização de todos os registos reinicie em 0."
   ]
  },
  {
   "cell_type": "code",
   "execution_count": 44,
   "metadata": {},
   "outputs": [
    {
     "data": {
      "text/html": [
       "<div>\n",
       "<style scoped>\n",
       "    .dataframe tbody tr th:only-of-type {\n",
       "        vertical-align: middle;\n",
       "    }\n",
       "\n",
       "    .dataframe tbody tr th {\n",
       "        vertical-align: top;\n",
       "    }\n",
       "\n",
       "    .dataframe thead th {\n",
       "        text-align: right;\n",
       "    }\n",
       "</style>\n",
       "<table border=\"1\" class=\"dataframe\">\n",
       "  <thead>\n",
       "    <tr style=\"text-align: right;\">\n",
       "      <th></th>\n",
       "      <th>nome</th>\n",
       "      <th>continente</th>\n",
       "      <th>extensao</th>\n",
       "      <th>corVerde</th>\n",
       "    </tr>\n",
       "  </thead>\n",
       "  <tbody>\n",
       "    <tr>\n",
       "      <th>0</th>\n",
       "      <td>Argentina</td>\n",
       "      <td>América</td>\n",
       "      <td>2780</td>\n",
       "      <td>0</td>\n",
       "    </tr>\n",
       "    <tr>\n",
       "      <th>1</th>\n",
       "      <td>Itália</td>\n",
       "      <td>Europa</td>\n",
       "      <td>301</td>\n",
       "      <td>1</td>\n",
       "    </tr>\n",
       "    <tr>\n",
       "      <th>2</th>\n",
       "      <td>Argentina</td>\n",
       "      <td>Europa</td>\n",
       "      <td>244</td>\n",
       "      <td>1</td>\n",
       "    </tr>\n",
       "  </tbody>\n",
       "</table>\n",
       "</div>"
      ],
      "text/plain": [
       "        nome continente  extensao  corVerde\n",
       "0  Argentina    América      2780         0\n",
       "1     Itália     Europa       301         1\n",
       "2  Argentina     Europa       244         1"
      ]
     },
     "execution_count": 44,
     "metadata": {},
     "output_type": "execute_result"
    }
   ],
   "source": [
    "df.drop_duplicates(keep = 'last', inplace=True)\n",
    "df = df.reset_index(drop=True)\n",
    "df"
   ]
  },
  {
   "cell_type": "markdown",
   "metadata": {},
   "source": [
    "<hr>"
   ]
  },
  {
   "cell_type": "markdown",
   "metadata": {},
   "source": [
    "## Step 2: Data Transformation"
   ]
  },
  {
   "cell_type": "markdown",
   "metadata": {},
   "source": [
    "### Change Data Types"
   ]
  },
  {
   "cell_type": "markdown",
   "metadata": {},
   "source": [
    "#### dates"
   ]
  },
  {
   "cell_type": "markdown",
   "metadata": {},
   "source": [
    "Para exemplificar algumas operações comuns de data wrangling recorremos ao `Melbourne housing dataset` disponível no [kaggle](https://www.kaggle.com/dansbecker/melbourne-housing-snapshot). Para começar vamos ler o ficheiro csv."
   ]
  },
  {
   "cell_type": "code",
   "execution_count": 53,
   "metadata": {},
   "outputs": [
    {
     "name": "stdout",
     "output_type": "stream",
     "text": [
      "(13580, 21)\n"
     ]
    }
   ],
   "source": [
    "import numpy as np\n",
    "import pandas as pd\n",
    "\n",
    "pd.set_option('display.max_columns', None)\n",
    "\n",
    "df = pd.read_csv(\"data/melb_data.csv\")\n",
    "print(df.shape)"
   ]
  },
  {
   "cell_type": "code",
   "execution_count": 56,
   "metadata": {},
   "outputs": [
    {
     "data": {
      "text/html": [
       "<div>\n",
       "<style scoped>\n",
       "    .dataframe tbody tr th:only-of-type {\n",
       "        vertical-align: middle;\n",
       "    }\n",
       "\n",
       "    .dataframe tbody tr th {\n",
       "        vertical-align: top;\n",
       "    }\n",
       "\n",
       "    .dataframe thead th {\n",
       "        text-align: right;\n",
       "    }\n",
       "</style>\n",
       "<table border=\"1\" class=\"dataframe\">\n",
       "  <thead>\n",
       "    <tr style=\"text-align: right;\">\n",
       "      <th></th>\n",
       "      <th>Suburb</th>\n",
       "      <th>Address</th>\n",
       "      <th>Rooms</th>\n",
       "      <th>Type</th>\n",
       "      <th>Price</th>\n",
       "      <th>Method</th>\n",
       "      <th>SellerG</th>\n",
       "      <th>Date</th>\n",
       "      <th>Distance</th>\n",
       "      <th>Postcode</th>\n",
       "      <th>Bedroom2</th>\n",
       "      <th>Bathroom</th>\n",
       "      <th>Car</th>\n",
       "      <th>Landsize</th>\n",
       "      <th>BuildingArea</th>\n",
       "      <th>YearBuilt</th>\n",
       "      <th>CouncilArea</th>\n",
       "      <th>Lattitude</th>\n",
       "      <th>Longtitude</th>\n",
       "      <th>Regionname</th>\n",
       "      <th>Propertycount</th>\n",
       "    </tr>\n",
       "  </thead>\n",
       "  <tbody>\n",
       "    <tr>\n",
       "      <th>0</th>\n",
       "      <td>Abbotsford</td>\n",
       "      <td>85 Turner St</td>\n",
       "      <td>2</td>\n",
       "      <td>h</td>\n",
       "      <td>1480000.0</td>\n",
       "      <td>S</td>\n",
       "      <td>Biggin</td>\n",
       "      <td>3/12/2016</td>\n",
       "      <td>2.5</td>\n",
       "      <td>3067.0</td>\n",
       "      <td>2.0</td>\n",
       "      <td>1.0</td>\n",
       "      <td>1.0</td>\n",
       "      <td>202.0</td>\n",
       "      <td>NaN</td>\n",
       "      <td>NaN</td>\n",
       "      <td>Yarra</td>\n",
       "      <td>-37.7996</td>\n",
       "      <td>144.9984</td>\n",
       "      <td>Northern Metropolitan</td>\n",
       "      <td>4019.0</td>\n",
       "    </tr>\n",
       "    <tr>\n",
       "      <th>1</th>\n",
       "      <td>Abbotsford</td>\n",
       "      <td>25 Bloomburg St</td>\n",
       "      <td>2</td>\n",
       "      <td>h</td>\n",
       "      <td>1035000.0</td>\n",
       "      <td>S</td>\n",
       "      <td>Biggin</td>\n",
       "      <td>4/02/2016</td>\n",
       "      <td>2.5</td>\n",
       "      <td>3067.0</td>\n",
       "      <td>2.0</td>\n",
       "      <td>1.0</td>\n",
       "      <td>0.0</td>\n",
       "      <td>156.0</td>\n",
       "      <td>79.0</td>\n",
       "      <td>1900.0</td>\n",
       "      <td>Yarra</td>\n",
       "      <td>-37.8079</td>\n",
       "      <td>144.9934</td>\n",
       "      <td>Northern Metropolitan</td>\n",
       "      <td>4019.0</td>\n",
       "    </tr>\n",
       "    <tr>\n",
       "      <th>2</th>\n",
       "      <td>Abbotsford</td>\n",
       "      <td>5 Charles St</td>\n",
       "      <td>3</td>\n",
       "      <td>h</td>\n",
       "      <td>1465000.0</td>\n",
       "      <td>SP</td>\n",
       "      <td>Biggin</td>\n",
       "      <td>4/03/2017</td>\n",
       "      <td>2.5</td>\n",
       "      <td>3067.0</td>\n",
       "      <td>3.0</td>\n",
       "      <td>2.0</td>\n",
       "      <td>0.0</td>\n",
       "      <td>134.0</td>\n",
       "      <td>150.0</td>\n",
       "      <td>1900.0</td>\n",
       "      <td>Yarra</td>\n",
       "      <td>-37.8093</td>\n",
       "      <td>144.9944</td>\n",
       "      <td>Northern Metropolitan</td>\n",
       "      <td>4019.0</td>\n",
       "    </tr>\n",
       "    <tr>\n",
       "      <th>3</th>\n",
       "      <td>Abbotsford</td>\n",
       "      <td>40 Federation La</td>\n",
       "      <td>3</td>\n",
       "      <td>h</td>\n",
       "      <td>850000.0</td>\n",
       "      <td>PI</td>\n",
       "      <td>Biggin</td>\n",
       "      <td>4/03/2017</td>\n",
       "      <td>2.5</td>\n",
       "      <td>3067.0</td>\n",
       "      <td>3.0</td>\n",
       "      <td>2.0</td>\n",
       "      <td>1.0</td>\n",
       "      <td>94.0</td>\n",
       "      <td>NaN</td>\n",
       "      <td>NaN</td>\n",
       "      <td>Yarra</td>\n",
       "      <td>-37.7969</td>\n",
       "      <td>144.9969</td>\n",
       "      <td>Northern Metropolitan</td>\n",
       "      <td>4019.0</td>\n",
       "    </tr>\n",
       "    <tr>\n",
       "      <th>4</th>\n",
       "      <td>Abbotsford</td>\n",
       "      <td>55a Park St</td>\n",
       "      <td>4</td>\n",
       "      <td>h</td>\n",
       "      <td>1600000.0</td>\n",
       "      <td>VB</td>\n",
       "      <td>Nelson</td>\n",
       "      <td>4/06/2016</td>\n",
       "      <td>2.5</td>\n",
       "      <td>3067.0</td>\n",
       "      <td>3.0</td>\n",
       "      <td>1.0</td>\n",
       "      <td>2.0</td>\n",
       "      <td>120.0</td>\n",
       "      <td>142.0</td>\n",
       "      <td>2014.0</td>\n",
       "      <td>Yarra</td>\n",
       "      <td>-37.8072</td>\n",
       "      <td>144.9941</td>\n",
       "      <td>Northern Metropolitan</td>\n",
       "      <td>4019.0</td>\n",
       "    </tr>\n",
       "    <tr>\n",
       "      <th>5</th>\n",
       "      <td>Abbotsford</td>\n",
       "      <td>129 Charles St</td>\n",
       "      <td>2</td>\n",
       "      <td>h</td>\n",
       "      <td>941000.0</td>\n",
       "      <td>S</td>\n",
       "      <td>Jellis</td>\n",
       "      <td>7/05/2016</td>\n",
       "      <td>2.5</td>\n",
       "      <td>3067.0</td>\n",
       "      <td>2.0</td>\n",
       "      <td>1.0</td>\n",
       "      <td>0.0</td>\n",
       "      <td>181.0</td>\n",
       "      <td>NaN</td>\n",
       "      <td>NaN</td>\n",
       "      <td>Yarra</td>\n",
       "      <td>-37.8041</td>\n",
       "      <td>144.9953</td>\n",
       "      <td>Northern Metropolitan</td>\n",
       "      <td>4019.0</td>\n",
       "    </tr>\n",
       "    <tr>\n",
       "      <th>6</th>\n",
       "      <td>Abbotsford</td>\n",
       "      <td>124 Yarra St</td>\n",
       "      <td>3</td>\n",
       "      <td>h</td>\n",
       "      <td>1876000.0</td>\n",
       "      <td>S</td>\n",
       "      <td>Nelson</td>\n",
       "      <td>7/05/2016</td>\n",
       "      <td>2.5</td>\n",
       "      <td>3067.0</td>\n",
       "      <td>4.0</td>\n",
       "      <td>2.0</td>\n",
       "      <td>0.0</td>\n",
       "      <td>245.0</td>\n",
       "      <td>210.0</td>\n",
       "      <td>1910.0</td>\n",
       "      <td>Yarra</td>\n",
       "      <td>-37.8024</td>\n",
       "      <td>144.9993</td>\n",
       "      <td>Northern Metropolitan</td>\n",
       "      <td>4019.0</td>\n",
       "    </tr>\n",
       "    <tr>\n",
       "      <th>7</th>\n",
       "      <td>Abbotsford</td>\n",
       "      <td>98 Charles St</td>\n",
       "      <td>2</td>\n",
       "      <td>h</td>\n",
       "      <td>1636000.0</td>\n",
       "      <td>S</td>\n",
       "      <td>Nelson</td>\n",
       "      <td>8/10/2016</td>\n",
       "      <td>2.5</td>\n",
       "      <td>3067.0</td>\n",
       "      <td>2.0</td>\n",
       "      <td>1.0</td>\n",
       "      <td>2.0</td>\n",
       "      <td>256.0</td>\n",
       "      <td>107.0</td>\n",
       "      <td>1890.0</td>\n",
       "      <td>Yarra</td>\n",
       "      <td>-37.8060</td>\n",
       "      <td>144.9954</td>\n",
       "      <td>Northern Metropolitan</td>\n",
       "      <td>4019.0</td>\n",
       "    </tr>\n",
       "    <tr>\n",
       "      <th>8</th>\n",
       "      <td>Abbotsford</td>\n",
       "      <td>6/241 Nicholson St</td>\n",
       "      <td>1</td>\n",
       "      <td>u</td>\n",
       "      <td>300000.0</td>\n",
       "      <td>S</td>\n",
       "      <td>Biggin</td>\n",
       "      <td>8/10/2016</td>\n",
       "      <td>2.5</td>\n",
       "      <td>3067.0</td>\n",
       "      <td>1.0</td>\n",
       "      <td>1.0</td>\n",
       "      <td>1.0</td>\n",
       "      <td>0.0</td>\n",
       "      <td>NaN</td>\n",
       "      <td>NaN</td>\n",
       "      <td>Yarra</td>\n",
       "      <td>-37.8008</td>\n",
       "      <td>144.9973</td>\n",
       "      <td>Northern Metropolitan</td>\n",
       "      <td>4019.0</td>\n",
       "    </tr>\n",
       "    <tr>\n",
       "      <th>9</th>\n",
       "      <td>Abbotsford</td>\n",
       "      <td>10 Valiant St</td>\n",
       "      <td>2</td>\n",
       "      <td>h</td>\n",
       "      <td>1097000.0</td>\n",
       "      <td>S</td>\n",
       "      <td>Biggin</td>\n",
       "      <td>8/10/2016</td>\n",
       "      <td>2.5</td>\n",
       "      <td>3067.0</td>\n",
       "      <td>3.0</td>\n",
       "      <td>1.0</td>\n",
       "      <td>2.0</td>\n",
       "      <td>220.0</td>\n",
       "      <td>75.0</td>\n",
       "      <td>1900.0</td>\n",
       "      <td>Yarra</td>\n",
       "      <td>-37.8010</td>\n",
       "      <td>144.9989</td>\n",
       "      <td>Northern Metropolitan</td>\n",
       "      <td>4019.0</td>\n",
       "    </tr>\n",
       "  </tbody>\n",
       "</table>\n",
       "</div>"
      ],
      "text/plain": [
       "       Suburb             Address  Rooms Type      Price Method SellerG  \\\n",
       "0  Abbotsford        85 Turner St      2    h  1480000.0      S  Biggin   \n",
       "1  Abbotsford     25 Bloomburg St      2    h  1035000.0      S  Biggin   \n",
       "2  Abbotsford        5 Charles St      3    h  1465000.0     SP  Biggin   \n",
       "3  Abbotsford    40 Federation La      3    h   850000.0     PI  Biggin   \n",
       "4  Abbotsford         55a Park St      4    h  1600000.0     VB  Nelson   \n",
       "5  Abbotsford      129 Charles St      2    h   941000.0      S  Jellis   \n",
       "6  Abbotsford        124 Yarra St      3    h  1876000.0      S  Nelson   \n",
       "7  Abbotsford       98 Charles St      2    h  1636000.0      S  Nelson   \n",
       "8  Abbotsford  6/241 Nicholson St      1    u   300000.0      S  Biggin   \n",
       "9  Abbotsford       10 Valiant St      2    h  1097000.0      S  Biggin   \n",
       "\n",
       "        Date  Distance  Postcode  Bedroom2  Bathroom  Car  Landsize  \\\n",
       "0  3/12/2016       2.5    3067.0       2.0       1.0  1.0     202.0   \n",
       "1  4/02/2016       2.5    3067.0       2.0       1.0  0.0     156.0   \n",
       "2  4/03/2017       2.5    3067.0       3.0       2.0  0.0     134.0   \n",
       "3  4/03/2017       2.5    3067.0       3.0       2.0  1.0      94.0   \n",
       "4  4/06/2016       2.5    3067.0       3.0       1.0  2.0     120.0   \n",
       "5  7/05/2016       2.5    3067.0       2.0       1.0  0.0     181.0   \n",
       "6  7/05/2016       2.5    3067.0       4.0       2.0  0.0     245.0   \n",
       "7  8/10/2016       2.5    3067.0       2.0       1.0  2.0     256.0   \n",
       "8  8/10/2016       2.5    3067.0       1.0       1.0  1.0       0.0   \n",
       "9  8/10/2016       2.5    3067.0       3.0       1.0  2.0     220.0   \n",
       "\n",
       "   BuildingArea  YearBuilt CouncilArea  Lattitude  Longtitude  \\\n",
       "0           NaN        NaN       Yarra   -37.7996    144.9984   \n",
       "1          79.0     1900.0       Yarra   -37.8079    144.9934   \n",
       "2         150.0     1900.0       Yarra   -37.8093    144.9944   \n",
       "3           NaN        NaN       Yarra   -37.7969    144.9969   \n",
       "4         142.0     2014.0       Yarra   -37.8072    144.9941   \n",
       "5           NaN        NaN       Yarra   -37.8041    144.9953   \n",
       "6         210.0     1910.0       Yarra   -37.8024    144.9993   \n",
       "7         107.0     1890.0       Yarra   -37.8060    144.9954   \n",
       "8           NaN        NaN       Yarra   -37.8008    144.9973   \n",
       "9          75.0     1900.0       Yarra   -37.8010    144.9989   \n",
       "\n",
       "              Regionname  Propertycount  \n",
       "0  Northern Metropolitan         4019.0  \n",
       "1  Northern Metropolitan         4019.0  \n",
       "2  Northern Metropolitan         4019.0  \n",
       "3  Northern Metropolitan         4019.0  \n",
       "4  Northern Metropolitan         4019.0  \n",
       "5  Northern Metropolitan         4019.0  \n",
       "6  Northern Metropolitan         4019.0  \n",
       "7  Northern Metropolitan         4019.0  \n",
       "8  Northern Metropolitan         4019.0  \n",
       "9  Northern Metropolitan         4019.0  "
      ]
     },
     "execution_count": 56,
     "metadata": {},
     "output_type": "execute_result"
    }
   ],
   "source": [
    "df.head(10)"
   ]
  },
  {
   "cell_type": "markdown",
   "metadata": {},
   "source": [
    "The dates are usually stored as objects or strings. The date column in our dataset is stored as object."
   ]
  },
  {
   "cell_type": "code",
   "execution_count": 47,
   "metadata": {},
   "outputs": [
    {
     "data": {
      "text/plain": [
       "dtype('O')"
      ]
     },
     "execution_count": 47,
     "metadata": {},
     "output_type": "execute_result"
    }
   ],
   "source": [
    "df['Date'].dtypes"
   ]
  },
  {
   "cell_type": "markdown",
   "metadata": {},
   "source": [
    "In order to use the date time specific functions of Pandas, we need to convert the dates to an appropriate format. One option is to use the `to_datetime` function."
   ]
  },
  {
   "cell_type": "code",
   "execution_count": 48,
   "metadata": {},
   "outputs": [
    {
     "data": {
      "text/plain": [
       "0    3/12/2016\n",
       "1    4/02/2016\n",
       "Name: Date, dtype: object"
      ]
     },
     "execution_count": 48,
     "metadata": {},
     "output_type": "execute_result"
    }
   ],
   "source": [
    "# Before converting\n",
    "df['Date'][:2]"
   ]
  },
  {
   "cell_type": "markdown",
   "metadata": {},
   "source": [
    "A conversão da coluna `date` em formato de datetime é possível com recurso ao código `to_datetime`. Da execução do código abaixo é possível observar que o formato da data não foi adequadamente inferido, dado que o sistema considera por default o formado US (\"%m/%d/%Y\"), quando na verdade as datas estão no formato europeu. Repare que no final da mensagem de erro são-lhe oferecidas algumas opções:"
   ]
  },
  {
   "cell_type": "code",
   "execution_count": 59,
   "metadata": {},
   "outputs": [
    {
     "ename": "ValueError",
     "evalue": "time data \"13/08/2016\" doesn't match format \"%m/%d/%Y\", at position 7. You might want to try:\n    - passing `format` if your strings have a consistent format;\n    - passing `format='ISO8601'` if your strings are all ISO8601 but not necessarily in exactly the same format;\n    - passing `format='mixed'`, and the format will be inferred for each element individually. You might want to use `dayfirst` alongside this.",
     "output_type": "error",
     "traceback": [
      "\u001b[1;31m---------------------------------------------------------------------------\u001b[0m",
      "\u001b[1;31mValueError\u001b[0m                                Traceback (most recent call last)",
      "Cell \u001b[1;32mIn[59], line 1\u001b[0m\n\u001b[1;32m----> 1\u001b[0m df[\u001b[38;5;124m'\u001b[39m\u001b[38;5;124mDate\u001b[39m\u001b[38;5;124m'\u001b[39m] \u001b[38;5;241m=\u001b[39m pd\u001b[38;5;241m.\u001b[39mto_datetime(df[\u001b[38;5;124m'\u001b[39m\u001b[38;5;124mDate\u001b[39m\u001b[38;5;124m'\u001b[39m])\n",
      "File \u001b[1;32m~\\Anaconda3\\Lib\\site-packages\\pandas\\core\\tools\\datetimes.py:1108\u001b[0m, in \u001b[0;36mto_datetime\u001b[1;34m(arg, errors, dayfirst, yearfirst, utc, format, exact, unit, infer_datetime_format, origin, cache)\u001b[0m\n\u001b[0;32m   1106\u001b[0m             result \u001b[38;5;241m=\u001b[39m arg\u001b[38;5;241m.\u001b[39mtz_localize(\u001b[38;5;124m\"\u001b[39m\u001b[38;5;124mutc\u001b[39m\u001b[38;5;124m\"\u001b[39m)\n\u001b[0;32m   1107\u001b[0m \u001b[38;5;28;01melif\u001b[39;00m \u001b[38;5;28misinstance\u001b[39m(arg, ABCSeries):\n\u001b[1;32m-> 1108\u001b[0m     cache_array \u001b[38;5;241m=\u001b[39m _maybe_cache(arg, \u001b[38;5;28mformat\u001b[39m, cache, convert_listlike)\n\u001b[0;32m   1109\u001b[0m     \u001b[38;5;28;01mif\u001b[39;00m \u001b[38;5;129;01mnot\u001b[39;00m cache_array\u001b[38;5;241m.\u001b[39mempty:\n\u001b[0;32m   1110\u001b[0m         result \u001b[38;5;241m=\u001b[39m arg\u001b[38;5;241m.\u001b[39mmap(cache_array)\n",
      "File \u001b[1;32m~\\Anaconda3\\Lib\\site-packages\\pandas\\core\\tools\\datetimes.py:254\u001b[0m, in \u001b[0;36m_maybe_cache\u001b[1;34m(arg, format, cache, convert_listlike)\u001b[0m\n\u001b[0;32m    252\u001b[0m unique_dates \u001b[38;5;241m=\u001b[39m unique(arg)\n\u001b[0;32m    253\u001b[0m \u001b[38;5;28;01mif\u001b[39;00m \u001b[38;5;28mlen\u001b[39m(unique_dates) \u001b[38;5;241m<\u001b[39m \u001b[38;5;28mlen\u001b[39m(arg):\n\u001b[1;32m--> 254\u001b[0m     cache_dates \u001b[38;5;241m=\u001b[39m convert_listlike(unique_dates, \u001b[38;5;28mformat\u001b[39m)\n\u001b[0;32m    255\u001b[0m     \u001b[38;5;66;03m# GH#45319\u001b[39;00m\n\u001b[0;32m    256\u001b[0m     \u001b[38;5;28;01mtry\u001b[39;00m:\n",
      "File \u001b[1;32m~\\Anaconda3\\Lib\\site-packages\\pandas\\core\\tools\\datetimes.py:488\u001b[0m, in \u001b[0;36m_convert_listlike_datetimes\u001b[1;34m(arg, format, name, utc, unit, errors, dayfirst, yearfirst, exact)\u001b[0m\n\u001b[0;32m    486\u001b[0m \u001b[38;5;66;03m# `format` could be inferred, or user didn't ask for mixed-format parsing.\u001b[39;00m\n\u001b[0;32m    487\u001b[0m \u001b[38;5;28;01mif\u001b[39;00m \u001b[38;5;28mformat\u001b[39m \u001b[38;5;129;01mis\u001b[39;00m \u001b[38;5;129;01mnot\u001b[39;00m \u001b[38;5;28;01mNone\u001b[39;00m \u001b[38;5;129;01mand\u001b[39;00m \u001b[38;5;28mformat\u001b[39m \u001b[38;5;241m!=\u001b[39m \u001b[38;5;124m\"\u001b[39m\u001b[38;5;124mmixed\u001b[39m\u001b[38;5;124m\"\u001b[39m:\n\u001b[1;32m--> 488\u001b[0m     \u001b[38;5;28;01mreturn\u001b[39;00m _array_strptime_with_fallback(arg, name, utc, \u001b[38;5;28mformat\u001b[39m, exact, errors)\n\u001b[0;32m    490\u001b[0m result, tz_parsed \u001b[38;5;241m=\u001b[39m objects_to_datetime64ns(\n\u001b[0;32m    491\u001b[0m     arg,\n\u001b[0;32m    492\u001b[0m     dayfirst\u001b[38;5;241m=\u001b[39mdayfirst,\n\u001b[1;32m   (...)\u001b[0m\n\u001b[0;32m    496\u001b[0m     allow_object\u001b[38;5;241m=\u001b[39m\u001b[38;5;28;01mTrue\u001b[39;00m,\n\u001b[0;32m    497\u001b[0m )\n\u001b[0;32m    499\u001b[0m \u001b[38;5;28;01mif\u001b[39;00m tz_parsed \u001b[38;5;129;01mis\u001b[39;00m \u001b[38;5;129;01mnot\u001b[39;00m \u001b[38;5;28;01mNone\u001b[39;00m:\n\u001b[0;32m    500\u001b[0m     \u001b[38;5;66;03m# We can take a shortcut since the datetime64 numpy array\u001b[39;00m\n\u001b[0;32m    501\u001b[0m     \u001b[38;5;66;03m# is in UTC\u001b[39;00m\n",
      "File \u001b[1;32m~\\Anaconda3\\Lib\\site-packages\\pandas\\core\\tools\\datetimes.py:519\u001b[0m, in \u001b[0;36m_array_strptime_with_fallback\u001b[1;34m(arg, name, utc, fmt, exact, errors)\u001b[0m\n\u001b[0;32m    508\u001b[0m \u001b[38;5;28;01mdef\u001b[39;00m \u001b[38;5;21m_array_strptime_with_fallback\u001b[39m(\n\u001b[0;32m    509\u001b[0m     arg,\n\u001b[0;32m    510\u001b[0m     name,\n\u001b[1;32m   (...)\u001b[0m\n\u001b[0;32m    514\u001b[0m     errors: \u001b[38;5;28mstr\u001b[39m,\n\u001b[0;32m    515\u001b[0m ) \u001b[38;5;241m-\u001b[39m\u001b[38;5;241m>\u001b[39m Index:\n\u001b[0;32m    516\u001b[0m \u001b[38;5;250m    \u001b[39m\u001b[38;5;124;03m\"\"\"\u001b[39;00m\n\u001b[0;32m    517\u001b[0m \u001b[38;5;124;03m    Call array_strptime, with fallback behavior depending on 'errors'.\u001b[39;00m\n\u001b[0;32m    518\u001b[0m \u001b[38;5;124;03m    \"\"\"\u001b[39;00m\n\u001b[1;32m--> 519\u001b[0m     result, timezones \u001b[38;5;241m=\u001b[39m array_strptime(arg, fmt, exact\u001b[38;5;241m=\u001b[39mexact, errors\u001b[38;5;241m=\u001b[39merrors, utc\u001b[38;5;241m=\u001b[39mutc)\n\u001b[0;32m    520\u001b[0m     \u001b[38;5;28;01mif\u001b[39;00m \u001b[38;5;28many\u001b[39m(tz \u001b[38;5;129;01mis\u001b[39;00m \u001b[38;5;129;01mnot\u001b[39;00m \u001b[38;5;28;01mNone\u001b[39;00m \u001b[38;5;28;01mfor\u001b[39;00m tz \u001b[38;5;129;01min\u001b[39;00m timezones):\n\u001b[0;32m    521\u001b[0m         \u001b[38;5;28;01mreturn\u001b[39;00m _return_parsed_timezone_results(result, timezones, utc, name)\n",
      "File \u001b[1;32mstrptime.pyx:534\u001b[0m, in \u001b[0;36mpandas._libs.tslibs.strptime.array_strptime\u001b[1;34m()\u001b[0m\n",
      "File \u001b[1;32mstrptime.pyx:355\u001b[0m, in \u001b[0;36mpandas._libs.tslibs.strptime.array_strptime\u001b[1;34m()\u001b[0m\n",
      "\u001b[1;31mValueError\u001b[0m: time data \"13/08/2016\" doesn't match format \"%m/%d/%Y\", at position 7. You might want to try:\n    - passing `format` if your strings have a consistent format;\n    - passing `format='ISO8601'` if your strings are all ISO8601 but not necessarily in exactly the same format;\n    - passing `format='mixed'`, and the format will be inferred for each element individually. You might want to use `dayfirst` alongside this."
     ]
    }
   ],
   "source": [
    "df['Date'] = pd.to_datetime(df['Date'])"
   ]
  },
  {
   "cell_type": "markdown",
   "metadata": {},
   "source": [
    "Uma dessas opções é o recurso à utilização do parâmetro `dayfirst=True` que especifica o formato Europeu `day/month/year`."
   ]
  },
  {
   "cell_type": "code",
   "execution_count": 61,
   "metadata": {},
   "outputs": [],
   "source": [
    "df['Date'] = pd.to_datetime(df['Date'], dayfirst=True)\n",
    "#df['Date'] = pd.to_datetime(df['Date'], format=\"%d/%m/%Y\")"
   ]
  },
  {
   "cell_type": "code",
   "execution_count": 62,
   "metadata": {},
   "outputs": [
    {
     "data": {
      "text/plain": [
       "0   2016-12-03\n",
       "1   2016-02-04\n",
       "Name: Date, dtype: datetime64[ns]"
      ]
     },
     "execution_count": 62,
     "metadata": {},
     "output_type": "execute_result"
    }
   ],
   "source": [
    "# After converting\n",
    "df.Date[:2]"
   ]
  },
  {
   "cell_type": "markdown",
   "metadata": {},
   "source": [
    "In some cases, we may need to extract a particular part from dates such as weekday, hour, day, month, year, and so on. We can use the functions under the dt accessor to extract pretty much any piece of information about a date."
   ]
  },
  {
   "cell_type": "code",
   "execution_count": 63,
   "metadata": {},
   "outputs": [
    {
     "data": {
      "text/plain": [
       "0    12\n",
       "1     2\n",
       "2     3\n",
       "3     3\n",
       "4     6\n",
       "Name: Month, dtype: int32"
      ]
     },
     "execution_count": 63,
     "metadata": {},
     "output_type": "execute_result"
    }
   ],
   "source": [
    "# Extract month\n",
    "df['Month'] = df['Date'].dt.month\n",
    "df['Month'][:5]"
   ]
  },
  {
   "cell_type": "code",
   "execution_count": 64,
   "metadata": {},
   "outputs": [
    {
     "data": {
      "text/plain": [
       "0    5\n",
       "1    3\n",
       "2    5\n",
       "3    5\n",
       "4    5\n",
       "Name: Weekday, dtype: int32"
      ]
     },
     "execution_count": 64,
     "metadata": {},
     "output_type": "execute_result"
    }
   ],
   "source": [
    "# Extract weekday\n",
    "df['Weekday'] = df['Date'].dt.weekday\n",
    "df['Weekday'][:5]"
   ]
  },
  {
   "cell_type": "markdown",
   "metadata": {},
   "source": [
    "Por sua vez `dt.week`, `dt.dayofweek` e `dt.is_leap_year` permite ter acesso ao número da semana, ao dia da semana  (onde 0 significa segunda-feira) e ao facto de se tratar ou não um ano bissexto."
   ]
  },
  {
   "cell_type": "markdown",
   "metadata": {},
   "source": [
    "Para obter o número de anos percorrido entre a `date` e o dia de hoje recorremos ao seguinte código:"
   ]
  },
  {
   "cell_type": "code",
   "execution_count": 65,
   "metadata": {},
   "outputs": [
    {
     "data": {
      "text/html": [
       "<div>\n",
       "<style scoped>\n",
       "    .dataframe tbody tr th:only-of-type {\n",
       "        vertical-align: middle;\n",
       "    }\n",
       "\n",
       "    .dataframe tbody tr th {\n",
       "        vertical-align: top;\n",
       "    }\n",
       "\n",
       "    .dataframe thead th {\n",
       "        text-align: right;\n",
       "    }\n",
       "</style>\n",
       "<table border=\"1\" class=\"dataframe\">\n",
       "  <thead>\n",
       "    <tr style=\"text-align: right;\">\n",
       "      <th></th>\n",
       "      <th>Suburb</th>\n",
       "      <th>Address</th>\n",
       "      <th>Rooms</th>\n",
       "      <th>Type</th>\n",
       "      <th>Price</th>\n",
       "      <th>Method</th>\n",
       "      <th>SellerG</th>\n",
       "      <th>Date</th>\n",
       "      <th>Distance</th>\n",
       "      <th>Postcode</th>\n",
       "      <th>Bedroom2</th>\n",
       "      <th>Bathroom</th>\n",
       "      <th>Car</th>\n",
       "      <th>Landsize</th>\n",
       "      <th>BuildingArea</th>\n",
       "      <th>YearBuilt</th>\n",
       "      <th>CouncilArea</th>\n",
       "      <th>Lattitude</th>\n",
       "      <th>Longtitude</th>\n",
       "      <th>Regionname</th>\n",
       "      <th>Propertycount</th>\n",
       "      <th>Month</th>\n",
       "      <th>Weekday</th>\n",
       "      <th>Year</th>\n",
       "      <th>Age</th>\n",
       "    </tr>\n",
       "  </thead>\n",
       "  <tbody>\n",
       "    <tr>\n",
       "      <th>0</th>\n",
       "      <td>Abbotsford</td>\n",
       "      <td>85 Turner St</td>\n",
       "      <td>2</td>\n",
       "      <td>h</td>\n",
       "      <td>1480000.0</td>\n",
       "      <td>S</td>\n",
       "      <td>Biggin</td>\n",
       "      <td>2016-12-03</td>\n",
       "      <td>2.5</td>\n",
       "      <td>3067.0</td>\n",
       "      <td>2.0</td>\n",
       "      <td>1.0</td>\n",
       "      <td>1.0</td>\n",
       "      <td>202.0</td>\n",
       "      <td>NaN</td>\n",
       "      <td>NaN</td>\n",
       "      <td>Yarra</td>\n",
       "      <td>-37.79960</td>\n",
       "      <td>144.99840</td>\n",
       "      <td>Northern Metropolitan</td>\n",
       "      <td>4019.0</td>\n",
       "      <td>12</td>\n",
       "      <td>5</td>\n",
       "      <td>2016</td>\n",
       "      <td>8</td>\n",
       "    </tr>\n",
       "    <tr>\n",
       "      <th>1</th>\n",
       "      <td>Abbotsford</td>\n",
       "      <td>25 Bloomburg St</td>\n",
       "      <td>2</td>\n",
       "      <td>h</td>\n",
       "      <td>1035000.0</td>\n",
       "      <td>S</td>\n",
       "      <td>Biggin</td>\n",
       "      <td>2016-02-04</td>\n",
       "      <td>2.5</td>\n",
       "      <td>3067.0</td>\n",
       "      <td>2.0</td>\n",
       "      <td>1.0</td>\n",
       "      <td>0.0</td>\n",
       "      <td>156.0</td>\n",
       "      <td>79.0</td>\n",
       "      <td>1900.0</td>\n",
       "      <td>Yarra</td>\n",
       "      <td>-37.80790</td>\n",
       "      <td>144.99340</td>\n",
       "      <td>Northern Metropolitan</td>\n",
       "      <td>4019.0</td>\n",
       "      <td>2</td>\n",
       "      <td>3</td>\n",
       "      <td>2016</td>\n",
       "      <td>8</td>\n",
       "    </tr>\n",
       "    <tr>\n",
       "      <th>2</th>\n",
       "      <td>Abbotsford</td>\n",
       "      <td>5 Charles St</td>\n",
       "      <td>3</td>\n",
       "      <td>h</td>\n",
       "      <td>1465000.0</td>\n",
       "      <td>SP</td>\n",
       "      <td>Biggin</td>\n",
       "      <td>2017-03-04</td>\n",
       "      <td>2.5</td>\n",
       "      <td>3067.0</td>\n",
       "      <td>3.0</td>\n",
       "      <td>2.0</td>\n",
       "      <td>0.0</td>\n",
       "      <td>134.0</td>\n",
       "      <td>150.0</td>\n",
       "      <td>1900.0</td>\n",
       "      <td>Yarra</td>\n",
       "      <td>-37.80930</td>\n",
       "      <td>144.99440</td>\n",
       "      <td>Northern Metropolitan</td>\n",
       "      <td>4019.0</td>\n",
       "      <td>3</td>\n",
       "      <td>5</td>\n",
       "      <td>2017</td>\n",
       "      <td>7</td>\n",
       "    </tr>\n",
       "    <tr>\n",
       "      <th>3</th>\n",
       "      <td>Abbotsford</td>\n",
       "      <td>40 Federation La</td>\n",
       "      <td>3</td>\n",
       "      <td>h</td>\n",
       "      <td>850000.0</td>\n",
       "      <td>PI</td>\n",
       "      <td>Biggin</td>\n",
       "      <td>2017-03-04</td>\n",
       "      <td>2.5</td>\n",
       "      <td>3067.0</td>\n",
       "      <td>3.0</td>\n",
       "      <td>2.0</td>\n",
       "      <td>1.0</td>\n",
       "      <td>94.0</td>\n",
       "      <td>NaN</td>\n",
       "      <td>NaN</td>\n",
       "      <td>Yarra</td>\n",
       "      <td>-37.79690</td>\n",
       "      <td>144.99690</td>\n",
       "      <td>Northern Metropolitan</td>\n",
       "      <td>4019.0</td>\n",
       "      <td>3</td>\n",
       "      <td>5</td>\n",
       "      <td>2017</td>\n",
       "      <td>7</td>\n",
       "    </tr>\n",
       "    <tr>\n",
       "      <th>4</th>\n",
       "      <td>Abbotsford</td>\n",
       "      <td>55a Park St</td>\n",
       "      <td>4</td>\n",
       "      <td>h</td>\n",
       "      <td>1600000.0</td>\n",
       "      <td>VB</td>\n",
       "      <td>Nelson</td>\n",
       "      <td>2016-06-04</td>\n",
       "      <td>2.5</td>\n",
       "      <td>3067.0</td>\n",
       "      <td>3.0</td>\n",
       "      <td>1.0</td>\n",
       "      <td>2.0</td>\n",
       "      <td>120.0</td>\n",
       "      <td>142.0</td>\n",
       "      <td>2014.0</td>\n",
       "      <td>Yarra</td>\n",
       "      <td>-37.80720</td>\n",
       "      <td>144.99410</td>\n",
       "      <td>Northern Metropolitan</td>\n",
       "      <td>4019.0</td>\n",
       "      <td>6</td>\n",
       "      <td>5</td>\n",
       "      <td>2016</td>\n",
       "      <td>8</td>\n",
       "    </tr>\n",
       "    <tr>\n",
       "      <th>...</th>\n",
       "      <td>...</td>\n",
       "      <td>...</td>\n",
       "      <td>...</td>\n",
       "      <td>...</td>\n",
       "      <td>...</td>\n",
       "      <td>...</td>\n",
       "      <td>...</td>\n",
       "      <td>...</td>\n",
       "      <td>...</td>\n",
       "      <td>...</td>\n",
       "      <td>...</td>\n",
       "      <td>...</td>\n",
       "      <td>...</td>\n",
       "      <td>...</td>\n",
       "      <td>...</td>\n",
       "      <td>...</td>\n",
       "      <td>...</td>\n",
       "      <td>...</td>\n",
       "      <td>...</td>\n",
       "      <td>...</td>\n",
       "      <td>...</td>\n",
       "      <td>...</td>\n",
       "      <td>...</td>\n",
       "      <td>...</td>\n",
       "      <td>...</td>\n",
       "    </tr>\n",
       "    <tr>\n",
       "      <th>13575</th>\n",
       "      <td>Wheelers Hill</td>\n",
       "      <td>12 Strada Cr</td>\n",
       "      <td>4</td>\n",
       "      <td>h</td>\n",
       "      <td>1245000.0</td>\n",
       "      <td>S</td>\n",
       "      <td>Barry</td>\n",
       "      <td>2017-08-26</td>\n",
       "      <td>16.7</td>\n",
       "      <td>3150.0</td>\n",
       "      <td>4.0</td>\n",
       "      <td>2.0</td>\n",
       "      <td>2.0</td>\n",
       "      <td>652.0</td>\n",
       "      <td>NaN</td>\n",
       "      <td>1981.0</td>\n",
       "      <td>NaN</td>\n",
       "      <td>-37.90562</td>\n",
       "      <td>145.16761</td>\n",
       "      <td>South-Eastern Metropolitan</td>\n",
       "      <td>7392.0</td>\n",
       "      <td>8</td>\n",
       "      <td>5</td>\n",
       "      <td>2017</td>\n",
       "      <td>7</td>\n",
       "    </tr>\n",
       "    <tr>\n",
       "      <th>13576</th>\n",
       "      <td>Williamstown</td>\n",
       "      <td>77 Merrett Dr</td>\n",
       "      <td>3</td>\n",
       "      <td>h</td>\n",
       "      <td>1031000.0</td>\n",
       "      <td>SP</td>\n",
       "      <td>Williams</td>\n",
       "      <td>2017-08-26</td>\n",
       "      <td>6.8</td>\n",
       "      <td>3016.0</td>\n",
       "      <td>3.0</td>\n",
       "      <td>2.0</td>\n",
       "      <td>2.0</td>\n",
       "      <td>333.0</td>\n",
       "      <td>133.0</td>\n",
       "      <td>1995.0</td>\n",
       "      <td>NaN</td>\n",
       "      <td>-37.85927</td>\n",
       "      <td>144.87904</td>\n",
       "      <td>Western Metropolitan</td>\n",
       "      <td>6380.0</td>\n",
       "      <td>8</td>\n",
       "      <td>5</td>\n",
       "      <td>2017</td>\n",
       "      <td>7</td>\n",
       "    </tr>\n",
       "    <tr>\n",
       "      <th>13577</th>\n",
       "      <td>Williamstown</td>\n",
       "      <td>83 Power St</td>\n",
       "      <td>3</td>\n",
       "      <td>h</td>\n",
       "      <td>1170000.0</td>\n",
       "      <td>S</td>\n",
       "      <td>Raine</td>\n",
       "      <td>2017-08-26</td>\n",
       "      <td>6.8</td>\n",
       "      <td>3016.0</td>\n",
       "      <td>3.0</td>\n",
       "      <td>2.0</td>\n",
       "      <td>4.0</td>\n",
       "      <td>436.0</td>\n",
       "      <td>NaN</td>\n",
       "      <td>1997.0</td>\n",
       "      <td>NaN</td>\n",
       "      <td>-37.85274</td>\n",
       "      <td>144.88738</td>\n",
       "      <td>Western Metropolitan</td>\n",
       "      <td>6380.0</td>\n",
       "      <td>8</td>\n",
       "      <td>5</td>\n",
       "      <td>2017</td>\n",
       "      <td>7</td>\n",
       "    </tr>\n",
       "    <tr>\n",
       "      <th>13578</th>\n",
       "      <td>Williamstown</td>\n",
       "      <td>96 Verdon St</td>\n",
       "      <td>4</td>\n",
       "      <td>h</td>\n",
       "      <td>2500000.0</td>\n",
       "      <td>PI</td>\n",
       "      <td>Sweeney</td>\n",
       "      <td>2017-08-26</td>\n",
       "      <td>6.8</td>\n",
       "      <td>3016.0</td>\n",
       "      <td>4.0</td>\n",
       "      <td>1.0</td>\n",
       "      <td>5.0</td>\n",
       "      <td>866.0</td>\n",
       "      <td>157.0</td>\n",
       "      <td>1920.0</td>\n",
       "      <td>NaN</td>\n",
       "      <td>-37.85908</td>\n",
       "      <td>144.89299</td>\n",
       "      <td>Western Metropolitan</td>\n",
       "      <td>6380.0</td>\n",
       "      <td>8</td>\n",
       "      <td>5</td>\n",
       "      <td>2017</td>\n",
       "      <td>7</td>\n",
       "    </tr>\n",
       "    <tr>\n",
       "      <th>13579</th>\n",
       "      <td>Yarraville</td>\n",
       "      <td>6 Agnes St</td>\n",
       "      <td>4</td>\n",
       "      <td>h</td>\n",
       "      <td>1285000.0</td>\n",
       "      <td>SP</td>\n",
       "      <td>Village</td>\n",
       "      <td>2017-08-26</td>\n",
       "      <td>6.3</td>\n",
       "      <td>3013.0</td>\n",
       "      <td>4.0</td>\n",
       "      <td>1.0</td>\n",
       "      <td>1.0</td>\n",
       "      <td>362.0</td>\n",
       "      <td>112.0</td>\n",
       "      <td>1920.0</td>\n",
       "      <td>NaN</td>\n",
       "      <td>-37.81188</td>\n",
       "      <td>144.88449</td>\n",
       "      <td>Western Metropolitan</td>\n",
       "      <td>6543.0</td>\n",
       "      <td>8</td>\n",
       "      <td>5</td>\n",
       "      <td>2017</td>\n",
       "      <td>7</td>\n",
       "    </tr>\n",
       "  </tbody>\n",
       "</table>\n",
       "<p>13580 rows × 25 columns</p>\n",
       "</div>"
      ],
      "text/plain": [
       "              Suburb           Address  Rooms Type      Price Method  \\\n",
       "0         Abbotsford      85 Turner St      2    h  1480000.0      S   \n",
       "1         Abbotsford   25 Bloomburg St      2    h  1035000.0      S   \n",
       "2         Abbotsford      5 Charles St      3    h  1465000.0     SP   \n",
       "3         Abbotsford  40 Federation La      3    h   850000.0     PI   \n",
       "4         Abbotsford       55a Park St      4    h  1600000.0     VB   \n",
       "...              ...               ...    ...  ...        ...    ...   \n",
       "13575  Wheelers Hill      12 Strada Cr      4    h  1245000.0      S   \n",
       "13576   Williamstown     77 Merrett Dr      3    h  1031000.0     SP   \n",
       "13577   Williamstown       83 Power St      3    h  1170000.0      S   \n",
       "13578   Williamstown      96 Verdon St      4    h  2500000.0     PI   \n",
       "13579     Yarraville        6 Agnes St      4    h  1285000.0     SP   \n",
       "\n",
       "        SellerG       Date  Distance  Postcode  Bedroom2  Bathroom  Car  \\\n",
       "0        Biggin 2016-12-03       2.5    3067.0       2.0       1.0  1.0   \n",
       "1        Biggin 2016-02-04       2.5    3067.0       2.0       1.0  0.0   \n",
       "2        Biggin 2017-03-04       2.5    3067.0       3.0       2.0  0.0   \n",
       "3        Biggin 2017-03-04       2.5    3067.0       3.0       2.0  1.0   \n",
       "4        Nelson 2016-06-04       2.5    3067.0       3.0       1.0  2.0   \n",
       "...         ...        ...       ...       ...       ...       ...  ...   \n",
       "13575     Barry 2017-08-26      16.7    3150.0       4.0       2.0  2.0   \n",
       "13576  Williams 2017-08-26       6.8    3016.0       3.0       2.0  2.0   \n",
       "13577     Raine 2017-08-26       6.8    3016.0       3.0       2.0  4.0   \n",
       "13578   Sweeney 2017-08-26       6.8    3016.0       4.0       1.0  5.0   \n",
       "13579   Village 2017-08-26       6.3    3013.0       4.0       1.0  1.0   \n",
       "\n",
       "       Landsize  BuildingArea  YearBuilt CouncilArea  Lattitude  Longtitude  \\\n",
       "0         202.0           NaN        NaN       Yarra  -37.79960   144.99840   \n",
       "1         156.0          79.0     1900.0       Yarra  -37.80790   144.99340   \n",
       "2         134.0         150.0     1900.0       Yarra  -37.80930   144.99440   \n",
       "3          94.0           NaN        NaN       Yarra  -37.79690   144.99690   \n",
       "4         120.0         142.0     2014.0       Yarra  -37.80720   144.99410   \n",
       "...         ...           ...        ...         ...        ...         ...   \n",
       "13575     652.0           NaN     1981.0         NaN  -37.90562   145.16761   \n",
       "13576     333.0         133.0     1995.0         NaN  -37.85927   144.87904   \n",
       "13577     436.0           NaN     1997.0         NaN  -37.85274   144.88738   \n",
       "13578     866.0         157.0     1920.0         NaN  -37.85908   144.89299   \n",
       "13579     362.0         112.0     1920.0         NaN  -37.81188   144.88449   \n",
       "\n",
       "                       Regionname  Propertycount  Month  Weekday  Year  Age  \n",
       "0           Northern Metropolitan         4019.0     12        5  2016    8  \n",
       "1           Northern Metropolitan         4019.0      2        3  2016    8  \n",
       "2           Northern Metropolitan         4019.0      3        5  2017    7  \n",
       "3           Northern Metropolitan         4019.0      3        5  2017    7  \n",
       "4           Northern Metropolitan         4019.0      6        5  2016    8  \n",
       "...                           ...            ...    ...      ...   ...  ...  \n",
       "13575  South-Eastern Metropolitan         7392.0      8        5  2017    7  \n",
       "13576        Western Metropolitan         6380.0      8        5  2017    7  \n",
       "13577        Western Metropolitan         6380.0      8        5  2017    7  \n",
       "13578        Western Metropolitan         6380.0      8        5  2017    7  \n",
       "13579        Western Metropolitan         6543.0      8        5  2017    7  \n",
       "\n",
       "[13580 rows x 25 columns]"
      ]
     },
     "execution_count": 65,
     "metadata": {},
     "output_type": "execute_result"
    }
   ],
   "source": [
    "import pandas as pd\n",
    "\n",
    "df['Year'] = df['Date'].dt.year\n",
    "\n",
    "today = pd.to_datetime('today')\n",
    "df['Age'] = today.year - df['Year']\n",
    "df"
   ]
  },
  {
   "cell_type": "markdown",
   "metadata": {},
   "source": [
    "#### int (astype)"
   ]
  },
  {
   "cell_type": "markdown",
   "metadata": {},
   "source": [
    "In addition to dates, we may need to do some other data type conversions as well. A typical case that need conversion would be storing integers as floats. For instance, the property column in our dataset is stored as float but it should be integer. The `astype` function can be used to do data type conversions."
   ]
  },
  {
   "cell_type": "code",
   "execution_count": 66,
   "metadata": {},
   "outputs": [
    {
     "data": {
      "text/html": [
       "<div>\n",
       "<style scoped>\n",
       "    .dataframe tbody tr th:only-of-type {\n",
       "        vertical-align: middle;\n",
       "    }\n",
       "\n",
       "    .dataframe tbody tr th {\n",
       "        vertical-align: top;\n",
       "    }\n",
       "\n",
       "    .dataframe thead th {\n",
       "        text-align: right;\n",
       "    }\n",
       "</style>\n",
       "<table border=\"1\" class=\"dataframe\">\n",
       "  <thead>\n",
       "    <tr style=\"text-align: right;\">\n",
       "      <th></th>\n",
       "      <th>Suburb</th>\n",
       "      <th>Address</th>\n",
       "      <th>Rooms</th>\n",
       "      <th>Type</th>\n",
       "      <th>Price</th>\n",
       "      <th>Method</th>\n",
       "      <th>SellerG</th>\n",
       "      <th>Date</th>\n",
       "      <th>Distance</th>\n",
       "      <th>Postcode</th>\n",
       "      <th>Bedroom2</th>\n",
       "      <th>Bathroom</th>\n",
       "      <th>Car</th>\n",
       "      <th>Landsize</th>\n",
       "      <th>BuildingArea</th>\n",
       "      <th>YearBuilt</th>\n",
       "      <th>CouncilArea</th>\n",
       "      <th>Lattitude</th>\n",
       "      <th>Longtitude</th>\n",
       "      <th>Regionname</th>\n",
       "      <th>Propertycount</th>\n",
       "    </tr>\n",
       "  </thead>\n",
       "  <tbody>\n",
       "    <tr>\n",
       "      <th>0</th>\n",
       "      <td>Abbotsford</td>\n",
       "      <td>85 Turner St</td>\n",
       "      <td>2</td>\n",
       "      <td>h</td>\n",
       "      <td>1480000.0</td>\n",
       "      <td>S</td>\n",
       "      <td>Biggin</td>\n",
       "      <td>3/12/2016</td>\n",
       "      <td>2.5</td>\n",
       "      <td>3067.0</td>\n",
       "      <td>2.0</td>\n",
       "      <td>1.0</td>\n",
       "      <td>1.0</td>\n",
       "      <td>202.0</td>\n",
       "      <td>NaN</td>\n",
       "      <td>NaN</td>\n",
       "      <td>Yarra</td>\n",
       "      <td>-37.7996</td>\n",
       "      <td>144.9984</td>\n",
       "      <td>Northern Metropolitan</td>\n",
       "      <td>4019.0</td>\n",
       "    </tr>\n",
       "    <tr>\n",
       "      <th>1</th>\n",
       "      <td>Abbotsford</td>\n",
       "      <td>25 Bloomburg St</td>\n",
       "      <td>2</td>\n",
       "      <td>h</td>\n",
       "      <td>1035000.0</td>\n",
       "      <td>S</td>\n",
       "      <td>Biggin</td>\n",
       "      <td>4/02/2016</td>\n",
       "      <td>2.5</td>\n",
       "      <td>3067.0</td>\n",
       "      <td>2.0</td>\n",
       "      <td>1.0</td>\n",
       "      <td>0.0</td>\n",
       "      <td>156.0</td>\n",
       "      <td>79.0</td>\n",
       "      <td>1900.0</td>\n",
       "      <td>Yarra</td>\n",
       "      <td>-37.8079</td>\n",
       "      <td>144.9934</td>\n",
       "      <td>Northern Metropolitan</td>\n",
       "      <td>4019.0</td>\n",
       "    </tr>\n",
       "    <tr>\n",
       "      <th>2</th>\n",
       "      <td>Abbotsford</td>\n",
       "      <td>5 Charles St</td>\n",
       "      <td>3</td>\n",
       "      <td>h</td>\n",
       "      <td>1465000.0</td>\n",
       "      <td>SP</td>\n",
       "      <td>Biggin</td>\n",
       "      <td>4/03/2017</td>\n",
       "      <td>2.5</td>\n",
       "      <td>3067.0</td>\n",
       "      <td>3.0</td>\n",
       "      <td>2.0</td>\n",
       "      <td>0.0</td>\n",
       "      <td>134.0</td>\n",
       "      <td>150.0</td>\n",
       "      <td>1900.0</td>\n",
       "      <td>Yarra</td>\n",
       "      <td>-37.8093</td>\n",
       "      <td>144.9944</td>\n",
       "      <td>Northern Metropolitan</td>\n",
       "      <td>4019.0</td>\n",
       "    </tr>\n",
       "    <tr>\n",
       "      <th>3</th>\n",
       "      <td>Abbotsford</td>\n",
       "      <td>40 Federation La</td>\n",
       "      <td>3</td>\n",
       "      <td>h</td>\n",
       "      <td>850000.0</td>\n",
       "      <td>PI</td>\n",
       "      <td>Biggin</td>\n",
       "      <td>4/03/2017</td>\n",
       "      <td>2.5</td>\n",
       "      <td>3067.0</td>\n",
       "      <td>3.0</td>\n",
       "      <td>2.0</td>\n",
       "      <td>1.0</td>\n",
       "      <td>94.0</td>\n",
       "      <td>NaN</td>\n",
       "      <td>NaN</td>\n",
       "      <td>Yarra</td>\n",
       "      <td>-37.7969</td>\n",
       "      <td>144.9969</td>\n",
       "      <td>Northern Metropolitan</td>\n",
       "      <td>4019.0</td>\n",
       "    </tr>\n",
       "    <tr>\n",
       "      <th>4</th>\n",
       "      <td>Abbotsford</td>\n",
       "      <td>55a Park St</td>\n",
       "      <td>4</td>\n",
       "      <td>h</td>\n",
       "      <td>1600000.0</td>\n",
       "      <td>VB</td>\n",
       "      <td>Nelson</td>\n",
       "      <td>4/06/2016</td>\n",
       "      <td>2.5</td>\n",
       "      <td>3067.0</td>\n",
       "      <td>3.0</td>\n",
       "      <td>1.0</td>\n",
       "      <td>2.0</td>\n",
       "      <td>120.0</td>\n",
       "      <td>142.0</td>\n",
       "      <td>2014.0</td>\n",
       "      <td>Yarra</td>\n",
       "      <td>-37.8072</td>\n",
       "      <td>144.9941</td>\n",
       "      <td>Northern Metropolitan</td>\n",
       "      <td>4019.0</td>\n",
       "    </tr>\n",
       "  </tbody>\n",
       "</table>\n",
       "</div>"
      ],
      "text/plain": [
       "       Suburb           Address  Rooms Type      Price Method SellerG  \\\n",
       "0  Abbotsford      85 Turner St      2    h  1480000.0      S  Biggin   \n",
       "1  Abbotsford   25 Bloomburg St      2    h  1035000.0      S  Biggin   \n",
       "2  Abbotsford      5 Charles St      3    h  1465000.0     SP  Biggin   \n",
       "3  Abbotsford  40 Federation La      3    h   850000.0     PI  Biggin   \n",
       "4  Abbotsford       55a Park St      4    h  1600000.0     VB  Nelson   \n",
       "\n",
       "        Date  Distance  Postcode  Bedroom2  Bathroom  Car  Landsize  \\\n",
       "0  3/12/2016       2.5    3067.0       2.0       1.0  1.0     202.0   \n",
       "1  4/02/2016       2.5    3067.0       2.0       1.0  0.0     156.0   \n",
       "2  4/03/2017       2.5    3067.0       3.0       2.0  0.0     134.0   \n",
       "3  4/03/2017       2.5    3067.0       3.0       2.0  1.0      94.0   \n",
       "4  4/06/2016       2.5    3067.0       3.0       1.0  2.0     120.0   \n",
       "\n",
       "   BuildingArea  YearBuilt CouncilArea  Lattitude  Longtitude  \\\n",
       "0           NaN        NaN       Yarra   -37.7996    144.9984   \n",
       "1          79.0     1900.0       Yarra   -37.8079    144.9934   \n",
       "2         150.0     1900.0       Yarra   -37.8093    144.9944   \n",
       "3           NaN        NaN       Yarra   -37.7969    144.9969   \n",
       "4         142.0     2014.0       Yarra   -37.8072    144.9941   \n",
       "\n",
       "              Regionname  Propertycount  \n",
       "0  Northern Metropolitan         4019.0  \n",
       "1  Northern Metropolitan         4019.0  \n",
       "2  Northern Metropolitan         4019.0  \n",
       "3  Northern Metropolitan         4019.0  \n",
       "4  Northern Metropolitan         4019.0  "
      ]
     },
     "execution_count": 66,
     "metadata": {},
     "output_type": "execute_result"
    }
   ],
   "source": [
    "import numpy as np\n",
    "import pandas as pd\n",
    "\n",
    "pd.set_option('display.max_columns', None)\n",
    "\n",
    "df = pd.read_csv(\"data/melb_data.csv\")\n",
    "df.head()"
   ]
  },
  {
   "cell_type": "code",
   "execution_count": 67,
   "metadata": {},
   "outputs": [
    {
     "data": {
      "text/plain": [
       "dtype('float64')"
      ]
     },
     "execution_count": 67,
     "metadata": {},
     "output_type": "execute_result"
    }
   ],
   "source": [
    "# Before converting\n",
    "df['Propertycount'].dtypes"
   ]
  },
  {
   "cell_type": "markdown",
   "metadata": {},
   "source": [
    "In the following, we show how to convert a specific column by specifying it in a dictionary. Other columns (and different types) could have been added too."
   ]
  },
  {
   "cell_type": "code",
   "execution_count": 68,
   "metadata": {},
   "outputs": [
    {
     "data": {
      "text/html": [
       "<div>\n",
       "<style scoped>\n",
       "    .dataframe tbody tr th:only-of-type {\n",
       "        vertical-align: middle;\n",
       "    }\n",
       "\n",
       "    .dataframe tbody tr th {\n",
       "        vertical-align: top;\n",
       "    }\n",
       "\n",
       "    .dataframe thead th {\n",
       "        text-align: right;\n",
       "    }\n",
       "</style>\n",
       "<table border=\"1\" class=\"dataframe\">\n",
       "  <thead>\n",
       "    <tr style=\"text-align: right;\">\n",
       "      <th></th>\n",
       "      <th>Suburb</th>\n",
       "      <th>Address</th>\n",
       "      <th>Rooms</th>\n",
       "      <th>Type</th>\n",
       "      <th>Price</th>\n",
       "      <th>Method</th>\n",
       "      <th>SellerG</th>\n",
       "      <th>Date</th>\n",
       "      <th>Distance</th>\n",
       "      <th>Postcode</th>\n",
       "      <th>Bedroom2</th>\n",
       "      <th>Bathroom</th>\n",
       "      <th>Car</th>\n",
       "      <th>Landsize</th>\n",
       "      <th>BuildingArea</th>\n",
       "      <th>YearBuilt</th>\n",
       "      <th>CouncilArea</th>\n",
       "      <th>Lattitude</th>\n",
       "      <th>Longtitude</th>\n",
       "      <th>Regionname</th>\n",
       "      <th>Propertycount</th>\n",
       "    </tr>\n",
       "  </thead>\n",
       "  <tbody>\n",
       "    <tr>\n",
       "      <th>0</th>\n",
       "      <td>Abbotsford</td>\n",
       "      <td>85 Turner St</td>\n",
       "      <td>2</td>\n",
       "      <td>h</td>\n",
       "      <td>1480000.0</td>\n",
       "      <td>S</td>\n",
       "      <td>Biggin</td>\n",
       "      <td>3/12/2016</td>\n",
       "      <td>2.5</td>\n",
       "      <td>3067.0</td>\n",
       "      <td>2.0</td>\n",
       "      <td>1.0</td>\n",
       "      <td>1.0</td>\n",
       "      <td>202.0</td>\n",
       "      <td>NaN</td>\n",
       "      <td>NaN</td>\n",
       "      <td>Yarra</td>\n",
       "      <td>-37.7996</td>\n",
       "      <td>144.9984</td>\n",
       "      <td>Northern Metropolitan</td>\n",
       "      <td>4019</td>\n",
       "    </tr>\n",
       "    <tr>\n",
       "      <th>1</th>\n",
       "      <td>Abbotsford</td>\n",
       "      <td>25 Bloomburg St</td>\n",
       "      <td>2</td>\n",
       "      <td>h</td>\n",
       "      <td>1035000.0</td>\n",
       "      <td>S</td>\n",
       "      <td>Biggin</td>\n",
       "      <td>4/02/2016</td>\n",
       "      <td>2.5</td>\n",
       "      <td>3067.0</td>\n",
       "      <td>2.0</td>\n",
       "      <td>1.0</td>\n",
       "      <td>0.0</td>\n",
       "      <td>156.0</td>\n",
       "      <td>79.0</td>\n",
       "      <td>1900.0</td>\n",
       "      <td>Yarra</td>\n",
       "      <td>-37.8079</td>\n",
       "      <td>144.9934</td>\n",
       "      <td>Northern Metropolitan</td>\n",
       "      <td>4019</td>\n",
       "    </tr>\n",
       "    <tr>\n",
       "      <th>2</th>\n",
       "      <td>Abbotsford</td>\n",
       "      <td>5 Charles St</td>\n",
       "      <td>3</td>\n",
       "      <td>h</td>\n",
       "      <td>1465000.0</td>\n",
       "      <td>SP</td>\n",
       "      <td>Biggin</td>\n",
       "      <td>4/03/2017</td>\n",
       "      <td>2.5</td>\n",
       "      <td>3067.0</td>\n",
       "      <td>3.0</td>\n",
       "      <td>2.0</td>\n",
       "      <td>0.0</td>\n",
       "      <td>134.0</td>\n",
       "      <td>150.0</td>\n",
       "      <td>1900.0</td>\n",
       "      <td>Yarra</td>\n",
       "      <td>-37.8093</td>\n",
       "      <td>144.9944</td>\n",
       "      <td>Northern Metropolitan</td>\n",
       "      <td>4019</td>\n",
       "    </tr>\n",
       "    <tr>\n",
       "      <th>3</th>\n",
       "      <td>Abbotsford</td>\n",
       "      <td>40 Federation La</td>\n",
       "      <td>3</td>\n",
       "      <td>h</td>\n",
       "      <td>850000.0</td>\n",
       "      <td>PI</td>\n",
       "      <td>Biggin</td>\n",
       "      <td>4/03/2017</td>\n",
       "      <td>2.5</td>\n",
       "      <td>3067.0</td>\n",
       "      <td>3.0</td>\n",
       "      <td>2.0</td>\n",
       "      <td>1.0</td>\n",
       "      <td>94.0</td>\n",
       "      <td>NaN</td>\n",
       "      <td>NaN</td>\n",
       "      <td>Yarra</td>\n",
       "      <td>-37.7969</td>\n",
       "      <td>144.9969</td>\n",
       "      <td>Northern Metropolitan</td>\n",
       "      <td>4019</td>\n",
       "    </tr>\n",
       "    <tr>\n",
       "      <th>4</th>\n",
       "      <td>Abbotsford</td>\n",
       "      <td>55a Park St</td>\n",
       "      <td>4</td>\n",
       "      <td>h</td>\n",
       "      <td>1600000.0</td>\n",
       "      <td>VB</td>\n",
       "      <td>Nelson</td>\n",
       "      <td>4/06/2016</td>\n",
       "      <td>2.5</td>\n",
       "      <td>3067.0</td>\n",
       "      <td>3.0</td>\n",
       "      <td>1.0</td>\n",
       "      <td>2.0</td>\n",
       "      <td>120.0</td>\n",
       "      <td>142.0</td>\n",
       "      <td>2014.0</td>\n",
       "      <td>Yarra</td>\n",
       "      <td>-37.8072</td>\n",
       "      <td>144.9941</td>\n",
       "      <td>Northern Metropolitan</td>\n",
       "      <td>4019</td>\n",
       "    </tr>\n",
       "  </tbody>\n",
       "</table>\n",
       "</div>"
      ],
      "text/plain": [
       "       Suburb           Address  Rooms Type      Price Method SellerG  \\\n",
       "0  Abbotsford      85 Turner St      2    h  1480000.0      S  Biggin   \n",
       "1  Abbotsford   25 Bloomburg St      2    h  1035000.0      S  Biggin   \n",
       "2  Abbotsford      5 Charles St      3    h  1465000.0     SP  Biggin   \n",
       "3  Abbotsford  40 Federation La      3    h   850000.0     PI  Biggin   \n",
       "4  Abbotsford       55a Park St      4    h  1600000.0     VB  Nelson   \n",
       "\n",
       "        Date  Distance  Postcode  Bedroom2  Bathroom  Car  Landsize  \\\n",
       "0  3/12/2016       2.5    3067.0       2.0       1.0  1.0     202.0   \n",
       "1  4/02/2016       2.5    3067.0       2.0       1.0  0.0     156.0   \n",
       "2  4/03/2017       2.5    3067.0       3.0       2.0  0.0     134.0   \n",
       "3  4/03/2017       2.5    3067.0       3.0       2.0  1.0      94.0   \n",
       "4  4/06/2016       2.5    3067.0       3.0       1.0  2.0     120.0   \n",
       "\n",
       "   BuildingArea  YearBuilt CouncilArea  Lattitude  Longtitude  \\\n",
       "0           NaN        NaN       Yarra   -37.7996    144.9984   \n",
       "1          79.0     1900.0       Yarra   -37.8079    144.9934   \n",
       "2         150.0     1900.0       Yarra   -37.8093    144.9944   \n",
       "3           NaN        NaN       Yarra   -37.7969    144.9969   \n",
       "4         142.0     2014.0       Yarra   -37.8072    144.9941   \n",
       "\n",
       "              Regionname  Propertycount  \n",
       "0  Northern Metropolitan           4019  \n",
       "1  Northern Metropolitan           4019  \n",
       "2  Northern Metropolitan           4019  \n",
       "3  Northern Metropolitan           4019  \n",
       "4  Northern Metropolitan           4019  "
      ]
     },
     "execution_count": 68,
     "metadata": {},
     "output_type": "execute_result"
    }
   ],
   "source": [
    "df = df.astype({'Propertycount':'int64'})\n",
    "df.head()"
   ]
  },
  {
   "cell_type": "code",
   "execution_count": 69,
   "metadata": {},
   "outputs": [
    {
     "data": {
      "text/plain": [
       "dtype('int64')"
      ]
     },
     "execution_count": 69,
     "metadata": {},
     "output_type": "execute_result"
    }
   ],
   "source": [
    "#After converting\n",
    "df['Propertycount'].dtypes"
   ]
  },
  {
   "cell_type": "markdown",
   "metadata": {},
   "source": [
    "#### float (astype)"
   ]
  },
  {
   "cell_type": "markdown",
   "metadata": {},
   "source": [
    "Suponha agora o seguinte ficheiro. Imagine que pretende calcular a média dos `item_price`."
   ]
  },
  {
   "cell_type": "code",
   "execution_count": 70,
   "metadata": {},
   "outputs": [
    {
     "data": {
      "text/html": [
       "<div>\n",
       "<style scoped>\n",
       "    .dataframe tbody tr th:only-of-type {\n",
       "        vertical-align: middle;\n",
       "    }\n",
       "\n",
       "    .dataframe tbody tr th {\n",
       "        vertical-align: top;\n",
       "    }\n",
       "\n",
       "    .dataframe thead th {\n",
       "        text-align: right;\n",
       "    }\n",
       "</style>\n",
       "<table border=\"1\" class=\"dataframe\">\n",
       "  <thead>\n",
       "    <tr style=\"text-align: right;\">\n",
       "      <th></th>\n",
       "      <th>order_id</th>\n",
       "      <th>quantity</th>\n",
       "      <th>item_name</th>\n",
       "      <th>choice_description</th>\n",
       "      <th>item_price</th>\n",
       "    </tr>\n",
       "  </thead>\n",
       "  <tbody>\n",
       "    <tr>\n",
       "      <th>0</th>\n",
       "      <td>1</td>\n",
       "      <td>1</td>\n",
       "      <td>Chips and Fresh Tomato Salsa</td>\n",
       "      <td>NaN</td>\n",
       "      <td>$2.39</td>\n",
       "    </tr>\n",
       "    <tr>\n",
       "      <th>1</th>\n",
       "      <td>1</td>\n",
       "      <td>1</td>\n",
       "      <td>Izze</td>\n",
       "      <td>[Clementine]</td>\n",
       "      <td>$3.39</td>\n",
       "    </tr>\n",
       "    <tr>\n",
       "      <th>2</th>\n",
       "      <td>1</td>\n",
       "      <td>1</td>\n",
       "      <td>Nantucket Nectar</td>\n",
       "      <td>[Apple]</td>\n",
       "      <td>$3.39</td>\n",
       "    </tr>\n",
       "    <tr>\n",
       "      <th>3</th>\n",
       "      <td>1</td>\n",
       "      <td>1</td>\n",
       "      <td>Chips and Tomatillo-Green Chili Salsa</td>\n",
       "      <td>NaN</td>\n",
       "      <td>$2.39</td>\n",
       "    </tr>\n",
       "    <tr>\n",
       "      <th>4</th>\n",
       "      <td>2</td>\n",
       "      <td>2</td>\n",
       "      <td>Chicken Bowl</td>\n",
       "      <td>[Tomatillo-Red Chili Salsa (Hot), [Black Beans...</td>\n",
       "      <td>$16.98</td>\n",
       "    </tr>\n",
       "  </tbody>\n",
       "</table>\n",
       "</div>"
      ],
      "text/plain": [
       "   order_id  quantity                              item_name  \\\n",
       "0         1         1           Chips and Fresh Tomato Salsa   \n",
       "1         1         1                                   Izze   \n",
       "2         1         1                       Nantucket Nectar   \n",
       "3         1         1  Chips and Tomatillo-Green Chili Salsa   \n",
       "4         2         2                           Chicken Bowl   \n",
       "\n",
       "                                  choice_description item_price  \n",
       "0                                                NaN     $2.39   \n",
       "1                                       [Clementine]     $3.39   \n",
       "2                                            [Apple]     $3.39   \n",
       "3                                                NaN     $2.39   \n",
       "4  [Tomatillo-Red Chili Salsa (Hot), [Black Beans...    $16.98   "
      ]
     },
     "execution_count": 70,
     "metadata": {},
     "output_type": "execute_result"
    }
   ],
   "source": [
    "import pandas as pd\n",
    "df = pd.read_csv(\"http://bit.ly/chiporders\", sep='\\t')\n",
    "df.head()"
   ]
  },
  {
   "cell_type": "markdown",
   "metadata": {},
   "source": [
    "Conforme pode observar `item_price` encontra-se definido como uma string."
   ]
  },
  {
   "cell_type": "code",
   "execution_count": 71,
   "metadata": {},
   "outputs": [
    {
     "data": {
      "text/plain": [
       "order_id               int64\n",
       "quantity               int64\n",
       "item_name             object\n",
       "choice_description    object\n",
       "item_price            object\n",
       "dtype: object"
      ]
     },
     "execution_count": 71,
     "metadata": {},
     "output_type": "execute_result"
    }
   ],
   "source": [
    "df.dtypes"
   ]
  },
  {
   "cell_type": "markdown",
   "metadata": {},
   "source": [
    "Para calcular a média, terá primeiro que remover o caracter `$` e posteriormente converter o tipo de dados para float. Só depois poderá calcular a média:"
   ]
  },
  {
   "cell_type": "code",
   "execution_count": 72,
   "metadata": {},
   "outputs": [
    {
     "data": {
      "text/plain": [
       "7.464335785374297"
      ]
     },
     "execution_count": 72,
     "metadata": {},
     "output_type": "execute_result"
    }
   ],
   "source": [
    "df['item_price'].str.replace('$','').astype(float).mean()"
   ]
  },
  {
   "cell_type": "markdown",
   "metadata": {},
   "source": [
    "#### category (astype)"
   ]
  },
  {
   "cell_type": "markdown",
   "metadata": {},
   "source": [
    "Back to our original dataframe:"
   ]
  },
  {
   "cell_type": "code",
   "execution_count": 73,
   "metadata": {},
   "outputs": [
    {
     "data": {
      "text/html": [
       "<div>\n",
       "<style scoped>\n",
       "    .dataframe tbody tr th:only-of-type {\n",
       "        vertical-align: middle;\n",
       "    }\n",
       "\n",
       "    .dataframe tbody tr th {\n",
       "        vertical-align: top;\n",
       "    }\n",
       "\n",
       "    .dataframe thead th {\n",
       "        text-align: right;\n",
       "    }\n",
       "</style>\n",
       "<table border=\"1\" class=\"dataframe\">\n",
       "  <thead>\n",
       "    <tr style=\"text-align: right;\">\n",
       "      <th></th>\n",
       "      <th>Suburb</th>\n",
       "      <th>Address</th>\n",
       "      <th>Rooms</th>\n",
       "      <th>Type</th>\n",
       "      <th>Price</th>\n",
       "      <th>Method</th>\n",
       "      <th>SellerG</th>\n",
       "      <th>Date</th>\n",
       "      <th>Distance</th>\n",
       "      <th>Postcode</th>\n",
       "      <th>Bedroom2</th>\n",
       "      <th>Bathroom</th>\n",
       "      <th>Car</th>\n",
       "      <th>Landsize</th>\n",
       "      <th>BuildingArea</th>\n",
       "      <th>YearBuilt</th>\n",
       "      <th>CouncilArea</th>\n",
       "      <th>Lattitude</th>\n",
       "      <th>Longtitude</th>\n",
       "      <th>Regionname</th>\n",
       "      <th>Propertycount</th>\n",
       "    </tr>\n",
       "  </thead>\n",
       "  <tbody>\n",
       "    <tr>\n",
       "      <th>0</th>\n",
       "      <td>Abbotsford</td>\n",
       "      <td>85 Turner St</td>\n",
       "      <td>2</td>\n",
       "      <td>h</td>\n",
       "      <td>1480000.0</td>\n",
       "      <td>S</td>\n",
       "      <td>Biggin</td>\n",
       "      <td>3/12/2016</td>\n",
       "      <td>2.5</td>\n",
       "      <td>3067.0</td>\n",
       "      <td>2.0</td>\n",
       "      <td>1.0</td>\n",
       "      <td>1.0</td>\n",
       "      <td>202.0</td>\n",
       "      <td>NaN</td>\n",
       "      <td>NaN</td>\n",
       "      <td>Yarra</td>\n",
       "      <td>-37.7996</td>\n",
       "      <td>144.9984</td>\n",
       "      <td>Northern Metropolitan</td>\n",
       "      <td>4019.0</td>\n",
       "    </tr>\n",
       "    <tr>\n",
       "      <th>1</th>\n",
       "      <td>Abbotsford</td>\n",
       "      <td>25 Bloomburg St</td>\n",
       "      <td>2</td>\n",
       "      <td>h</td>\n",
       "      <td>1035000.0</td>\n",
       "      <td>S</td>\n",
       "      <td>Biggin</td>\n",
       "      <td>4/02/2016</td>\n",
       "      <td>2.5</td>\n",
       "      <td>3067.0</td>\n",
       "      <td>2.0</td>\n",
       "      <td>1.0</td>\n",
       "      <td>0.0</td>\n",
       "      <td>156.0</td>\n",
       "      <td>79.0</td>\n",
       "      <td>1900.0</td>\n",
       "      <td>Yarra</td>\n",
       "      <td>-37.8079</td>\n",
       "      <td>144.9934</td>\n",
       "      <td>Northern Metropolitan</td>\n",
       "      <td>4019.0</td>\n",
       "    </tr>\n",
       "    <tr>\n",
       "      <th>2</th>\n",
       "      <td>Abbotsford</td>\n",
       "      <td>5 Charles St</td>\n",
       "      <td>3</td>\n",
       "      <td>h</td>\n",
       "      <td>1465000.0</td>\n",
       "      <td>SP</td>\n",
       "      <td>Biggin</td>\n",
       "      <td>4/03/2017</td>\n",
       "      <td>2.5</td>\n",
       "      <td>3067.0</td>\n",
       "      <td>3.0</td>\n",
       "      <td>2.0</td>\n",
       "      <td>0.0</td>\n",
       "      <td>134.0</td>\n",
       "      <td>150.0</td>\n",
       "      <td>1900.0</td>\n",
       "      <td>Yarra</td>\n",
       "      <td>-37.8093</td>\n",
       "      <td>144.9944</td>\n",
       "      <td>Northern Metropolitan</td>\n",
       "      <td>4019.0</td>\n",
       "    </tr>\n",
       "    <tr>\n",
       "      <th>3</th>\n",
       "      <td>Abbotsford</td>\n",
       "      <td>40 Federation La</td>\n",
       "      <td>3</td>\n",
       "      <td>h</td>\n",
       "      <td>850000.0</td>\n",
       "      <td>PI</td>\n",
       "      <td>Biggin</td>\n",
       "      <td>4/03/2017</td>\n",
       "      <td>2.5</td>\n",
       "      <td>3067.0</td>\n",
       "      <td>3.0</td>\n",
       "      <td>2.0</td>\n",
       "      <td>1.0</td>\n",
       "      <td>94.0</td>\n",
       "      <td>NaN</td>\n",
       "      <td>NaN</td>\n",
       "      <td>Yarra</td>\n",
       "      <td>-37.7969</td>\n",
       "      <td>144.9969</td>\n",
       "      <td>Northern Metropolitan</td>\n",
       "      <td>4019.0</td>\n",
       "    </tr>\n",
       "    <tr>\n",
       "      <th>4</th>\n",
       "      <td>Abbotsford</td>\n",
       "      <td>55a Park St</td>\n",
       "      <td>4</td>\n",
       "      <td>h</td>\n",
       "      <td>1600000.0</td>\n",
       "      <td>VB</td>\n",
       "      <td>Nelson</td>\n",
       "      <td>4/06/2016</td>\n",
       "      <td>2.5</td>\n",
       "      <td>3067.0</td>\n",
       "      <td>3.0</td>\n",
       "      <td>1.0</td>\n",
       "      <td>2.0</td>\n",
       "      <td>120.0</td>\n",
       "      <td>142.0</td>\n",
       "      <td>2014.0</td>\n",
       "      <td>Yarra</td>\n",
       "      <td>-37.8072</td>\n",
       "      <td>144.9941</td>\n",
       "      <td>Northern Metropolitan</td>\n",
       "      <td>4019.0</td>\n",
       "    </tr>\n",
       "  </tbody>\n",
       "</table>\n",
       "</div>"
      ],
      "text/plain": [
       "       Suburb           Address  Rooms Type      Price Method SellerG  \\\n",
       "0  Abbotsford      85 Turner St      2    h  1480000.0      S  Biggin   \n",
       "1  Abbotsford   25 Bloomburg St      2    h  1035000.0      S  Biggin   \n",
       "2  Abbotsford      5 Charles St      3    h  1465000.0     SP  Biggin   \n",
       "3  Abbotsford  40 Federation La      3    h   850000.0     PI  Biggin   \n",
       "4  Abbotsford       55a Park St      4    h  1600000.0     VB  Nelson   \n",
       "\n",
       "        Date  Distance  Postcode  Bedroom2  Bathroom  Car  Landsize  \\\n",
       "0  3/12/2016       2.5    3067.0       2.0       1.0  1.0     202.0   \n",
       "1  4/02/2016       2.5    3067.0       2.0       1.0  0.0     156.0   \n",
       "2  4/03/2017       2.5    3067.0       3.0       2.0  0.0     134.0   \n",
       "3  4/03/2017       2.5    3067.0       3.0       2.0  1.0      94.0   \n",
       "4  4/06/2016       2.5    3067.0       3.0       1.0  2.0     120.0   \n",
       "\n",
       "   BuildingArea  YearBuilt CouncilArea  Lattitude  Longtitude  \\\n",
       "0           NaN        NaN       Yarra   -37.7996    144.9984   \n",
       "1          79.0     1900.0       Yarra   -37.8079    144.9934   \n",
       "2         150.0     1900.0       Yarra   -37.8093    144.9944   \n",
       "3           NaN        NaN       Yarra   -37.7969    144.9969   \n",
       "4         142.0     2014.0       Yarra   -37.8072    144.9941   \n",
       "\n",
       "              Regionname  Propertycount  \n",
       "0  Northern Metropolitan         4019.0  \n",
       "1  Northern Metropolitan         4019.0  \n",
       "2  Northern Metropolitan         4019.0  \n",
       "3  Northern Metropolitan         4019.0  \n",
       "4  Northern Metropolitan         4019.0  "
      ]
     },
     "execution_count": 73,
     "metadata": {},
     "output_type": "execute_result"
    }
   ],
   "source": [
    "import numpy as np\n",
    "import pandas as pd\n",
    "\n",
    "pd.set_option('display.max_columns', None)\n",
    "\n",
    "df = pd.read_csv(\"data/melb_data.csv\")\n",
    "df.head()"
   ]
  },
  {
   "cell_type": "markdown",
   "metadata": {},
   "source": [
    "A typical dataset contains both numerical and categorical columns. The categorical columns are usually stored with object data type. If the number of distinct categories are very few compared to the number of rows, we can save a substantial amount of memory by using the category data type."
   ]
  },
  {
   "cell_type": "markdown",
   "metadata": {},
   "source": [
    "Our dataset contains 13580 rows. The number of categories in the type column is 3. Let’s first check the memory consumption (in bytes) of this column."
   ]
  },
  {
   "cell_type": "code",
   "execution_count": 74,
   "metadata": {},
   "outputs": [
    {
     "data": {
      "text/plain": [
       "108772"
      ]
     },
     "execution_count": 74,
     "metadata": {},
     "output_type": "execute_result"
    }
   ],
   "source": [
    "df['Type'].memory_usage()"
   ]
  },
  {
   "cell_type": "markdown",
   "metadata": {},
   "source": [
    "We will convert it to the category data type and check the memory consumption again."
   ]
  },
  {
   "cell_type": "code",
   "execution_count": 75,
   "metadata": {},
   "outputs": [
    {
     "data": {
      "text/html": [
       "<div>\n",
       "<style scoped>\n",
       "    .dataframe tbody tr th:only-of-type {\n",
       "        vertical-align: middle;\n",
       "    }\n",
       "\n",
       "    .dataframe tbody tr th {\n",
       "        vertical-align: top;\n",
       "    }\n",
       "\n",
       "    .dataframe thead th {\n",
       "        text-align: right;\n",
       "    }\n",
       "</style>\n",
       "<table border=\"1\" class=\"dataframe\">\n",
       "  <thead>\n",
       "    <tr style=\"text-align: right;\">\n",
       "      <th></th>\n",
       "      <th>Suburb</th>\n",
       "      <th>Address</th>\n",
       "      <th>Rooms</th>\n",
       "      <th>Type</th>\n",
       "      <th>Price</th>\n",
       "      <th>Method</th>\n",
       "      <th>SellerG</th>\n",
       "      <th>Date</th>\n",
       "      <th>Distance</th>\n",
       "      <th>Postcode</th>\n",
       "      <th>Bedroom2</th>\n",
       "      <th>Bathroom</th>\n",
       "      <th>Car</th>\n",
       "      <th>Landsize</th>\n",
       "      <th>BuildingArea</th>\n",
       "      <th>YearBuilt</th>\n",
       "      <th>CouncilArea</th>\n",
       "      <th>Lattitude</th>\n",
       "      <th>Longtitude</th>\n",
       "      <th>Regionname</th>\n",
       "      <th>Propertycount</th>\n",
       "    </tr>\n",
       "  </thead>\n",
       "  <tbody>\n",
       "    <tr>\n",
       "      <th>0</th>\n",
       "      <td>Abbotsford</td>\n",
       "      <td>85 Turner St</td>\n",
       "      <td>2</td>\n",
       "      <td>h</td>\n",
       "      <td>1480000.0</td>\n",
       "      <td>S</td>\n",
       "      <td>Biggin</td>\n",
       "      <td>3/12/2016</td>\n",
       "      <td>2.5</td>\n",
       "      <td>3067.0</td>\n",
       "      <td>2.0</td>\n",
       "      <td>1.0</td>\n",
       "      <td>1.0</td>\n",
       "      <td>202.0</td>\n",
       "      <td>NaN</td>\n",
       "      <td>NaN</td>\n",
       "      <td>Yarra</td>\n",
       "      <td>-37.7996</td>\n",
       "      <td>144.9984</td>\n",
       "      <td>Northern Metropolitan</td>\n",
       "      <td>4019.0</td>\n",
       "    </tr>\n",
       "    <tr>\n",
       "      <th>1</th>\n",
       "      <td>Abbotsford</td>\n",
       "      <td>25 Bloomburg St</td>\n",
       "      <td>2</td>\n",
       "      <td>h</td>\n",
       "      <td>1035000.0</td>\n",
       "      <td>S</td>\n",
       "      <td>Biggin</td>\n",
       "      <td>4/02/2016</td>\n",
       "      <td>2.5</td>\n",
       "      <td>3067.0</td>\n",
       "      <td>2.0</td>\n",
       "      <td>1.0</td>\n",
       "      <td>0.0</td>\n",
       "      <td>156.0</td>\n",
       "      <td>79.0</td>\n",
       "      <td>1900.0</td>\n",
       "      <td>Yarra</td>\n",
       "      <td>-37.8079</td>\n",
       "      <td>144.9934</td>\n",
       "      <td>Northern Metropolitan</td>\n",
       "      <td>4019.0</td>\n",
       "    </tr>\n",
       "    <tr>\n",
       "      <th>2</th>\n",
       "      <td>Abbotsford</td>\n",
       "      <td>5 Charles St</td>\n",
       "      <td>3</td>\n",
       "      <td>h</td>\n",
       "      <td>1465000.0</td>\n",
       "      <td>SP</td>\n",
       "      <td>Biggin</td>\n",
       "      <td>4/03/2017</td>\n",
       "      <td>2.5</td>\n",
       "      <td>3067.0</td>\n",
       "      <td>3.0</td>\n",
       "      <td>2.0</td>\n",
       "      <td>0.0</td>\n",
       "      <td>134.0</td>\n",
       "      <td>150.0</td>\n",
       "      <td>1900.0</td>\n",
       "      <td>Yarra</td>\n",
       "      <td>-37.8093</td>\n",
       "      <td>144.9944</td>\n",
       "      <td>Northern Metropolitan</td>\n",
       "      <td>4019.0</td>\n",
       "    </tr>\n",
       "    <tr>\n",
       "      <th>3</th>\n",
       "      <td>Abbotsford</td>\n",
       "      <td>40 Federation La</td>\n",
       "      <td>3</td>\n",
       "      <td>h</td>\n",
       "      <td>850000.0</td>\n",
       "      <td>PI</td>\n",
       "      <td>Biggin</td>\n",
       "      <td>4/03/2017</td>\n",
       "      <td>2.5</td>\n",
       "      <td>3067.0</td>\n",
       "      <td>3.0</td>\n",
       "      <td>2.0</td>\n",
       "      <td>1.0</td>\n",
       "      <td>94.0</td>\n",
       "      <td>NaN</td>\n",
       "      <td>NaN</td>\n",
       "      <td>Yarra</td>\n",
       "      <td>-37.7969</td>\n",
       "      <td>144.9969</td>\n",
       "      <td>Northern Metropolitan</td>\n",
       "      <td>4019.0</td>\n",
       "    </tr>\n",
       "    <tr>\n",
       "      <th>4</th>\n",
       "      <td>Abbotsford</td>\n",
       "      <td>55a Park St</td>\n",
       "      <td>4</td>\n",
       "      <td>h</td>\n",
       "      <td>1600000.0</td>\n",
       "      <td>VB</td>\n",
       "      <td>Nelson</td>\n",
       "      <td>4/06/2016</td>\n",
       "      <td>2.5</td>\n",
       "      <td>3067.0</td>\n",
       "      <td>3.0</td>\n",
       "      <td>1.0</td>\n",
       "      <td>2.0</td>\n",
       "      <td>120.0</td>\n",
       "      <td>142.0</td>\n",
       "      <td>2014.0</td>\n",
       "      <td>Yarra</td>\n",
       "      <td>-37.8072</td>\n",
       "      <td>144.9941</td>\n",
       "      <td>Northern Metropolitan</td>\n",
       "      <td>4019.0</td>\n",
       "    </tr>\n",
       "  </tbody>\n",
       "</table>\n",
       "</div>"
      ],
      "text/plain": [
       "       Suburb           Address  Rooms Type      Price Method SellerG  \\\n",
       "0  Abbotsford      85 Turner St      2    h  1480000.0      S  Biggin   \n",
       "1  Abbotsford   25 Bloomburg St      2    h  1035000.0      S  Biggin   \n",
       "2  Abbotsford      5 Charles St      3    h  1465000.0     SP  Biggin   \n",
       "3  Abbotsford  40 Federation La      3    h   850000.0     PI  Biggin   \n",
       "4  Abbotsford       55a Park St      4    h  1600000.0     VB  Nelson   \n",
       "\n",
       "        Date  Distance  Postcode  Bedroom2  Bathroom  Car  Landsize  \\\n",
       "0  3/12/2016       2.5    3067.0       2.0       1.0  1.0     202.0   \n",
       "1  4/02/2016       2.5    3067.0       2.0       1.0  0.0     156.0   \n",
       "2  4/03/2017       2.5    3067.0       3.0       2.0  0.0     134.0   \n",
       "3  4/03/2017       2.5    3067.0       3.0       2.0  1.0      94.0   \n",
       "4  4/06/2016       2.5    3067.0       3.0       1.0  2.0     120.0   \n",
       "\n",
       "   BuildingArea  YearBuilt CouncilArea  Lattitude  Longtitude  \\\n",
       "0           NaN        NaN       Yarra   -37.7996    144.9984   \n",
       "1          79.0     1900.0       Yarra   -37.8079    144.9934   \n",
       "2         150.0     1900.0       Yarra   -37.8093    144.9944   \n",
       "3           NaN        NaN       Yarra   -37.7969    144.9969   \n",
       "4         142.0     2014.0       Yarra   -37.8072    144.9941   \n",
       "\n",
       "              Regionname  Propertycount  \n",
       "0  Northern Metropolitan         4019.0  \n",
       "1  Northern Metropolitan         4019.0  \n",
       "2  Northern Metropolitan         4019.0  \n",
       "3  Northern Metropolitan         4019.0  \n",
       "4  Northern Metropolitan         4019.0  "
      ]
     },
     "execution_count": 75,
     "metadata": {},
     "output_type": "execute_result"
    }
   ],
   "source": [
    "df = df.astype({'Type':'category'})\n",
    "df.head()"
   ]
  },
  {
   "cell_type": "code",
   "execution_count": 76,
   "metadata": {},
   "outputs": [
    {
     "data": {
      "text/plain": [
       "13844"
      ]
     },
     "execution_count": 76,
     "metadata": {},
     "output_type": "execute_result"
    }
   ],
   "source": [
    "df.Type.memory_usage()"
   ]
  },
  {
   "cell_type": "code",
   "execution_count": 77,
   "metadata": {},
   "outputs": [
    {
     "data": {
      "text/plain": [
       "CategoricalDtype(categories=['h', 't', 'u'], ordered=False, categories_dtype=object)"
      ]
     },
     "execution_count": 77,
     "metadata": {},
     "output_type": "execute_result"
    }
   ],
   "source": [
    "df['Type'].dtypes"
   ]
  },
  {
   "cell_type": "markdown",
   "metadata": {},
   "source": [
    "#### str"
   ]
  },
  {
   "cell_type": "markdown",
   "metadata": {},
   "source": [
    "Textual data usually contains multiple pieces of information. Just like we have done with dates, we may need to extract a piece of information from a text. The `str` accessor of Pandas provides numerous function to perform such operations efficiently. Let’s take a look at the address column."
   ]
  },
  {
   "cell_type": "code",
   "execution_count": 78,
   "metadata": {},
   "outputs": [
    {
     "name": "stdout",
     "output_type": "stream",
     "text": [
      "(13580, 21)\n"
     ]
    }
   ],
   "source": [
    "import numpy as np\n",
    "import pandas as pd\n",
    "\n",
    "df = pd.read_csv(\"data/melb_data.csv\")\n",
    "print(df.shape)"
   ]
  },
  {
   "cell_type": "code",
   "execution_count": 79,
   "metadata": {},
   "outputs": [
    {
     "data": {
      "text/plain": [
       "0        85 Turner St\n",
       "1     25 Bloomburg St\n",
       "2        5 Charles St\n",
       "3    40 Federation La\n",
       "4         55a Park St\n",
       "Name: Address, dtype: object"
      ]
     },
     "execution_count": 79,
     "metadata": {},
     "output_type": "execute_result"
    }
   ],
   "source": [
    "df['Address'][:5]"
   ]
  },
  {
   "cell_type": "markdown",
   "metadata": {},
   "source": [
    "The last characters represent the type of location. For instance, `st` stands for street and `dr` stands for drive. It can be a useful piece of information for grouping the addresses."
   ]
  },
  {
   "cell_type": "markdown",
   "metadata": {},
   "source": [
    "We can extract the last part of the address by splitting the strings at space character and taking the last split. Here is how we do this operation with the str accessor. The split function, as the same suggests, splits a string at the specified character which is space in our case. The next str is used for accessing the pieces after splitting. “-1” means the last one."
   ]
  },
  {
   "cell_type": "code",
   "execution_count": 80,
   "metadata": {},
   "outputs": [
    {
     "data": {
      "text/plain": [
       "0        St\n",
       "1        St\n",
       "2        St\n",
       "3        La\n",
       "4        St\n",
       "         ..\n",
       "13575    Cr\n",
       "13576    Dr\n",
       "13577    St\n",
       "13578    St\n",
       "13579    St\n",
       "Name: Address, Length: 13580, dtype: object"
      ]
     },
     "execution_count": 80,
     "metadata": {},
     "output_type": "execute_result"
    }
   ],
   "source": [
    "df['Address'].str.split(' ').str[-1]"
   ]
  },
  {
   "cell_type": "markdown",
   "metadata": {},
   "source": [
    "Uppercase:"
   ]
  },
  {
   "cell_type": "code",
   "execution_count": 81,
   "metadata": {},
   "outputs": [
    {
     "data": {
      "text/plain": [
       "0            85 TURNER ST\n",
       "1         25 BLOOMBURG ST\n",
       "2            5 CHARLES ST\n",
       "3        40 FEDERATION LA\n",
       "4             55A PARK ST\n",
       "               ...       \n",
       "13575        12 STRADA CR\n",
       "13576       77 MERRETT DR\n",
       "13577         83 POWER ST\n",
       "13578        96 VERDON ST\n",
       "13579          6 AGNES ST\n",
       "Name: Address, Length: 13580, dtype: object"
      ]
     },
     "execution_count": 81,
     "metadata": {},
     "output_type": "execute_result"
    }
   ],
   "source": [
    "df['Address'].str.upper()"
   ]
  },
  {
   "cell_type": "markdown",
   "metadata": {},
   "source": [
    "Contains retrieves a series:"
   ]
  },
  {
   "cell_type": "code",
   "execution_count": 82,
   "metadata": {},
   "outputs": [
    {
     "data": {
      "text/plain": [
       "0         True\n",
       "1         True\n",
       "2         True\n",
       "3        False\n",
       "4         True\n",
       "         ...  \n",
       "13575     True\n",
       "13576    False\n",
       "13577     True\n",
       "13578     True\n",
       "13579     True\n",
       "Name: Address, Length: 13580, dtype: bool"
      ]
     },
     "execution_count": 82,
     "metadata": {},
     "output_type": "execute_result"
    }
   ],
   "source": [
    "df['Address'].str.contains('St')"
   ]
  },
  {
   "cell_type": "markdown",
   "metadata": {},
   "source": [
    "Why would we use contains? Because we might want to filter results based on that condition:"
   ]
  },
  {
   "cell_type": "code",
   "execution_count": 83,
   "metadata": {},
   "outputs": [
    {
     "data": {
      "text/html": [
       "<div>\n",
       "<style scoped>\n",
       "    .dataframe tbody tr th:only-of-type {\n",
       "        vertical-align: middle;\n",
       "    }\n",
       "\n",
       "    .dataframe tbody tr th {\n",
       "        vertical-align: top;\n",
       "    }\n",
       "\n",
       "    .dataframe thead th {\n",
       "        text-align: right;\n",
       "    }\n",
       "</style>\n",
       "<table border=\"1\" class=\"dataframe\">\n",
       "  <thead>\n",
       "    <tr style=\"text-align: right;\">\n",
       "      <th></th>\n",
       "      <th>Suburb</th>\n",
       "      <th>Address</th>\n",
       "      <th>Rooms</th>\n",
       "      <th>Type</th>\n",
       "      <th>Price</th>\n",
       "      <th>Method</th>\n",
       "      <th>SellerG</th>\n",
       "      <th>Date</th>\n",
       "      <th>Distance</th>\n",
       "      <th>Postcode</th>\n",
       "      <th>Bedroom2</th>\n",
       "      <th>Bathroom</th>\n",
       "      <th>Car</th>\n",
       "      <th>Landsize</th>\n",
       "      <th>BuildingArea</th>\n",
       "      <th>YearBuilt</th>\n",
       "      <th>CouncilArea</th>\n",
       "      <th>Lattitude</th>\n",
       "      <th>Longtitude</th>\n",
       "      <th>Regionname</th>\n",
       "      <th>Propertycount</th>\n",
       "    </tr>\n",
       "  </thead>\n",
       "  <tbody>\n",
       "    <tr>\n",
       "      <th>0</th>\n",
       "      <td>Abbotsford</td>\n",
       "      <td>85 Turner St</td>\n",
       "      <td>2</td>\n",
       "      <td>h</td>\n",
       "      <td>1480000.0</td>\n",
       "      <td>S</td>\n",
       "      <td>Biggin</td>\n",
       "      <td>3/12/2016</td>\n",
       "      <td>2.5</td>\n",
       "      <td>3067.0</td>\n",
       "      <td>2.0</td>\n",
       "      <td>1.0</td>\n",
       "      <td>1.0</td>\n",
       "      <td>202.0</td>\n",
       "      <td>NaN</td>\n",
       "      <td>NaN</td>\n",
       "      <td>Yarra</td>\n",
       "      <td>-37.79960</td>\n",
       "      <td>144.99840</td>\n",
       "      <td>Northern Metropolitan</td>\n",
       "      <td>4019.0</td>\n",
       "    </tr>\n",
       "    <tr>\n",
       "      <th>1</th>\n",
       "      <td>Abbotsford</td>\n",
       "      <td>25 Bloomburg St</td>\n",
       "      <td>2</td>\n",
       "      <td>h</td>\n",
       "      <td>1035000.0</td>\n",
       "      <td>S</td>\n",
       "      <td>Biggin</td>\n",
       "      <td>4/02/2016</td>\n",
       "      <td>2.5</td>\n",
       "      <td>3067.0</td>\n",
       "      <td>2.0</td>\n",
       "      <td>1.0</td>\n",
       "      <td>0.0</td>\n",
       "      <td>156.0</td>\n",
       "      <td>79.0</td>\n",
       "      <td>1900.0</td>\n",
       "      <td>Yarra</td>\n",
       "      <td>-37.80790</td>\n",
       "      <td>144.99340</td>\n",
       "      <td>Northern Metropolitan</td>\n",
       "      <td>4019.0</td>\n",
       "    </tr>\n",
       "    <tr>\n",
       "      <th>2</th>\n",
       "      <td>Abbotsford</td>\n",
       "      <td>5 Charles St</td>\n",
       "      <td>3</td>\n",
       "      <td>h</td>\n",
       "      <td>1465000.0</td>\n",
       "      <td>SP</td>\n",
       "      <td>Biggin</td>\n",
       "      <td>4/03/2017</td>\n",
       "      <td>2.5</td>\n",
       "      <td>3067.0</td>\n",
       "      <td>3.0</td>\n",
       "      <td>2.0</td>\n",
       "      <td>0.0</td>\n",
       "      <td>134.0</td>\n",
       "      <td>150.0</td>\n",
       "      <td>1900.0</td>\n",
       "      <td>Yarra</td>\n",
       "      <td>-37.80930</td>\n",
       "      <td>144.99440</td>\n",
       "      <td>Northern Metropolitan</td>\n",
       "      <td>4019.0</td>\n",
       "    </tr>\n",
       "    <tr>\n",
       "      <th>4</th>\n",
       "      <td>Abbotsford</td>\n",
       "      <td>55a Park St</td>\n",
       "      <td>4</td>\n",
       "      <td>h</td>\n",
       "      <td>1600000.0</td>\n",
       "      <td>VB</td>\n",
       "      <td>Nelson</td>\n",
       "      <td>4/06/2016</td>\n",
       "      <td>2.5</td>\n",
       "      <td>3067.0</td>\n",
       "      <td>3.0</td>\n",
       "      <td>1.0</td>\n",
       "      <td>2.0</td>\n",
       "      <td>120.0</td>\n",
       "      <td>142.0</td>\n",
       "      <td>2014.0</td>\n",
       "      <td>Yarra</td>\n",
       "      <td>-37.80720</td>\n",
       "      <td>144.99410</td>\n",
       "      <td>Northern Metropolitan</td>\n",
       "      <td>4019.0</td>\n",
       "    </tr>\n",
       "    <tr>\n",
       "      <th>5</th>\n",
       "      <td>Abbotsford</td>\n",
       "      <td>129 Charles St</td>\n",
       "      <td>2</td>\n",
       "      <td>h</td>\n",
       "      <td>941000.0</td>\n",
       "      <td>S</td>\n",
       "      <td>Jellis</td>\n",
       "      <td>7/05/2016</td>\n",
       "      <td>2.5</td>\n",
       "      <td>3067.0</td>\n",
       "      <td>2.0</td>\n",
       "      <td>1.0</td>\n",
       "      <td>0.0</td>\n",
       "      <td>181.0</td>\n",
       "      <td>NaN</td>\n",
       "      <td>NaN</td>\n",
       "      <td>Yarra</td>\n",
       "      <td>-37.80410</td>\n",
       "      <td>144.99530</td>\n",
       "      <td>Northern Metropolitan</td>\n",
       "      <td>4019.0</td>\n",
       "    </tr>\n",
       "    <tr>\n",
       "      <th>...</th>\n",
       "      <td>...</td>\n",
       "      <td>...</td>\n",
       "      <td>...</td>\n",
       "      <td>...</td>\n",
       "      <td>...</td>\n",
       "      <td>...</td>\n",
       "      <td>...</td>\n",
       "      <td>...</td>\n",
       "      <td>...</td>\n",
       "      <td>...</td>\n",
       "      <td>...</td>\n",
       "      <td>...</td>\n",
       "      <td>...</td>\n",
       "      <td>...</td>\n",
       "      <td>...</td>\n",
       "      <td>...</td>\n",
       "      <td>...</td>\n",
       "      <td>...</td>\n",
       "      <td>...</td>\n",
       "      <td>...</td>\n",
       "      <td>...</td>\n",
       "    </tr>\n",
       "    <tr>\n",
       "      <th>13574</th>\n",
       "      <td>Westmeadows</td>\n",
       "      <td>9 Black St</td>\n",
       "      <td>3</td>\n",
       "      <td>h</td>\n",
       "      <td>582000.0</td>\n",
       "      <td>S</td>\n",
       "      <td>Red</td>\n",
       "      <td>26/08/2017</td>\n",
       "      <td>16.5</td>\n",
       "      <td>3049.0</td>\n",
       "      <td>3.0</td>\n",
       "      <td>2.0</td>\n",
       "      <td>2.0</td>\n",
       "      <td>256.0</td>\n",
       "      <td>NaN</td>\n",
       "      <td>NaN</td>\n",
       "      <td>NaN</td>\n",
       "      <td>-37.67917</td>\n",
       "      <td>144.89390</td>\n",
       "      <td>Northern Metropolitan</td>\n",
       "      <td>2474.0</td>\n",
       "    </tr>\n",
       "    <tr>\n",
       "      <th>13575</th>\n",
       "      <td>Wheelers Hill</td>\n",
       "      <td>12 Strada Cr</td>\n",
       "      <td>4</td>\n",
       "      <td>h</td>\n",
       "      <td>1245000.0</td>\n",
       "      <td>S</td>\n",
       "      <td>Barry</td>\n",
       "      <td>26/08/2017</td>\n",
       "      <td>16.7</td>\n",
       "      <td>3150.0</td>\n",
       "      <td>4.0</td>\n",
       "      <td>2.0</td>\n",
       "      <td>2.0</td>\n",
       "      <td>652.0</td>\n",
       "      <td>NaN</td>\n",
       "      <td>1981.0</td>\n",
       "      <td>NaN</td>\n",
       "      <td>-37.90562</td>\n",
       "      <td>145.16761</td>\n",
       "      <td>South-Eastern Metropolitan</td>\n",
       "      <td>7392.0</td>\n",
       "    </tr>\n",
       "    <tr>\n",
       "      <th>13577</th>\n",
       "      <td>Williamstown</td>\n",
       "      <td>83 Power St</td>\n",
       "      <td>3</td>\n",
       "      <td>h</td>\n",
       "      <td>1170000.0</td>\n",
       "      <td>S</td>\n",
       "      <td>Raine</td>\n",
       "      <td>26/08/2017</td>\n",
       "      <td>6.8</td>\n",
       "      <td>3016.0</td>\n",
       "      <td>3.0</td>\n",
       "      <td>2.0</td>\n",
       "      <td>4.0</td>\n",
       "      <td>436.0</td>\n",
       "      <td>NaN</td>\n",
       "      <td>1997.0</td>\n",
       "      <td>NaN</td>\n",
       "      <td>-37.85274</td>\n",
       "      <td>144.88738</td>\n",
       "      <td>Western Metropolitan</td>\n",
       "      <td>6380.0</td>\n",
       "    </tr>\n",
       "    <tr>\n",
       "      <th>13578</th>\n",
       "      <td>Williamstown</td>\n",
       "      <td>96 Verdon St</td>\n",
       "      <td>4</td>\n",
       "      <td>h</td>\n",
       "      <td>2500000.0</td>\n",
       "      <td>PI</td>\n",
       "      <td>Sweeney</td>\n",
       "      <td>26/08/2017</td>\n",
       "      <td>6.8</td>\n",
       "      <td>3016.0</td>\n",
       "      <td>4.0</td>\n",
       "      <td>1.0</td>\n",
       "      <td>5.0</td>\n",
       "      <td>866.0</td>\n",
       "      <td>157.0</td>\n",
       "      <td>1920.0</td>\n",
       "      <td>NaN</td>\n",
       "      <td>-37.85908</td>\n",
       "      <td>144.89299</td>\n",
       "      <td>Western Metropolitan</td>\n",
       "      <td>6380.0</td>\n",
       "    </tr>\n",
       "    <tr>\n",
       "      <th>13579</th>\n",
       "      <td>Yarraville</td>\n",
       "      <td>6 Agnes St</td>\n",
       "      <td>4</td>\n",
       "      <td>h</td>\n",
       "      <td>1285000.0</td>\n",
       "      <td>SP</td>\n",
       "      <td>Village</td>\n",
       "      <td>26/08/2017</td>\n",
       "      <td>6.3</td>\n",
       "      <td>3013.0</td>\n",
       "      <td>4.0</td>\n",
       "      <td>1.0</td>\n",
       "      <td>1.0</td>\n",
       "      <td>362.0</td>\n",
       "      <td>112.0</td>\n",
       "      <td>1920.0</td>\n",
       "      <td>NaN</td>\n",
       "      <td>-37.81188</td>\n",
       "      <td>144.88449</td>\n",
       "      <td>Western Metropolitan</td>\n",
       "      <td>6543.0</td>\n",
       "    </tr>\n",
       "  </tbody>\n",
       "</table>\n",
       "<p>8114 rows × 21 columns</p>\n",
       "</div>"
      ],
      "text/plain": [
       "              Suburb          Address  Rooms Type      Price Method  SellerG  \\\n",
       "0         Abbotsford     85 Turner St      2    h  1480000.0      S   Biggin   \n",
       "1         Abbotsford  25 Bloomburg St      2    h  1035000.0      S   Biggin   \n",
       "2         Abbotsford     5 Charles St      3    h  1465000.0     SP   Biggin   \n",
       "4         Abbotsford      55a Park St      4    h  1600000.0     VB   Nelson   \n",
       "5         Abbotsford   129 Charles St      2    h   941000.0      S   Jellis   \n",
       "...              ...              ...    ...  ...        ...    ...      ...   \n",
       "13574    Westmeadows       9 Black St      3    h   582000.0      S      Red   \n",
       "13575  Wheelers Hill     12 Strada Cr      4    h  1245000.0      S    Barry   \n",
       "13577   Williamstown      83 Power St      3    h  1170000.0      S    Raine   \n",
       "13578   Williamstown     96 Verdon St      4    h  2500000.0     PI  Sweeney   \n",
       "13579     Yarraville       6 Agnes St      4    h  1285000.0     SP  Village   \n",
       "\n",
       "             Date  Distance  Postcode  Bedroom2  Bathroom  Car  Landsize  \\\n",
       "0       3/12/2016       2.5    3067.0       2.0       1.0  1.0     202.0   \n",
       "1       4/02/2016       2.5    3067.0       2.0       1.0  0.0     156.0   \n",
       "2       4/03/2017       2.5    3067.0       3.0       2.0  0.0     134.0   \n",
       "4       4/06/2016       2.5    3067.0       3.0       1.0  2.0     120.0   \n",
       "5       7/05/2016       2.5    3067.0       2.0       1.0  0.0     181.0   \n",
       "...           ...       ...       ...       ...       ...  ...       ...   \n",
       "13574  26/08/2017      16.5    3049.0       3.0       2.0  2.0     256.0   \n",
       "13575  26/08/2017      16.7    3150.0       4.0       2.0  2.0     652.0   \n",
       "13577  26/08/2017       6.8    3016.0       3.0       2.0  4.0     436.0   \n",
       "13578  26/08/2017       6.8    3016.0       4.0       1.0  5.0     866.0   \n",
       "13579  26/08/2017       6.3    3013.0       4.0       1.0  1.0     362.0   \n",
       "\n",
       "       BuildingArea  YearBuilt CouncilArea  Lattitude  Longtitude  \\\n",
       "0               NaN        NaN       Yarra  -37.79960   144.99840   \n",
       "1              79.0     1900.0       Yarra  -37.80790   144.99340   \n",
       "2             150.0     1900.0       Yarra  -37.80930   144.99440   \n",
       "4             142.0     2014.0       Yarra  -37.80720   144.99410   \n",
       "5               NaN        NaN       Yarra  -37.80410   144.99530   \n",
       "...             ...        ...         ...        ...         ...   \n",
       "13574           NaN        NaN         NaN  -37.67917   144.89390   \n",
       "13575           NaN     1981.0         NaN  -37.90562   145.16761   \n",
       "13577           NaN     1997.0         NaN  -37.85274   144.88738   \n",
       "13578         157.0     1920.0         NaN  -37.85908   144.89299   \n",
       "13579         112.0     1920.0         NaN  -37.81188   144.88449   \n",
       "\n",
       "                       Regionname  Propertycount  \n",
       "0           Northern Metropolitan         4019.0  \n",
       "1           Northern Metropolitan         4019.0  \n",
       "2           Northern Metropolitan         4019.0  \n",
       "4           Northern Metropolitan         4019.0  \n",
       "5           Northern Metropolitan         4019.0  \n",
       "...                           ...            ...  \n",
       "13574       Northern Metropolitan         2474.0  \n",
       "13575  South-Eastern Metropolitan         7392.0  \n",
       "13577        Western Metropolitan         6380.0  \n",
       "13578        Western Metropolitan         6380.0  \n",
       "13579        Western Metropolitan         6543.0  \n",
       "\n",
       "[8114 rows x 21 columns]"
      ]
     },
     "execution_count": 83,
     "metadata": {},
     "output_type": "execute_result"
    }
   ],
   "source": [
    "df[df['Address'].str.contains('St')]"
   ]
  },
  {
   "cell_type": "markdown",
   "metadata": {},
   "source": [
    "Or suppose we want to have this as a numeric feature for a machine learning process:"
   ]
  },
  {
   "cell_type": "code",
   "execution_count": 84,
   "metadata": {},
   "outputs": [
    {
     "data": {
      "text/plain": [
       "0    1.0\n",
       "1    1.0\n",
       "2    1.0\n",
       "3    0.0\n",
       "4    1.0\n",
       "Name: Address, dtype: float64"
      ]
     },
     "execution_count": 84,
     "metadata": {},
     "output_type": "execute_result"
    }
   ],
   "source": [
    "df['Address'].str.contains('St').astype(float).head()"
   ]
  },
  {
   "cell_type": "markdown",
   "metadata": {},
   "source": [
    "For more `str` methods you can search for `str` in the following Pandas documentation page: https://pandas.pydata.org/pandas-docs/stable/reference/index.html"
   ]
  },
  {
   "cell_type": "markdown",
   "metadata": {},
   "source": [
    "How to use regex in pandas: https://kanoki.org/2019/11/12/how-to-use-regex-in-pandas/"
   ]
  },
  {
   "cell_type": "markdown",
   "metadata": {},
   "source": [
    "<hr>"
   ]
  },
  {
   "cell_type": "markdown",
   "metadata": {},
   "source": [
    "In many cases, we do a comparison based on textual data. A typical problem with such comparisons is not having a standard on strings. For instance, same words may not be detected if one starts with a capital case letter and the other is not."
   ]
  },
  {
   "cell_type": "markdown",
   "metadata": {},
   "source": [
    "To overcome this issue, we should standardize the strings. We can make them all upper case or lower case letters with the upper and lower functions of the str accessor, respectively"
   ]
  },
  {
   "cell_type": "code",
   "execution_count": 85,
   "metadata": {},
   "outputs": [
    {
     "data": {
      "text/plain": [
       "0        85 TURNER ST\n",
       "1     25 BLOOMBURG ST\n",
       "2        5 CHARLES ST\n",
       "3    40 FEDERATION LA\n",
       "4         55A PARK ST\n",
       "Name: Address, dtype: object"
      ]
     },
     "execution_count": 85,
     "metadata": {},
     "output_type": "execute_result"
    }
   ],
   "source": [
    "df['Address'].str.upper()[:5]\n",
    "#df['Address'] = df['Address'].apply(str.upper)"
   ]
  },
  {
   "cell_type": "markdown",
   "metadata": {},
   "source": [
    "Another option is to capitalize the strings."
   ]
  },
  {
   "cell_type": "code",
   "execution_count": 86,
   "metadata": {},
   "outputs": [
    {
     "data": {
      "text/plain": [
       "0    Abbotsford\n",
       "1    Abbotsford\n",
       "2    Abbotsford\n",
       "3    Abbotsford\n",
       "4    Abbotsford\n",
       "Name: Suburb, dtype: object"
      ]
     },
     "execution_count": 86,
     "metadata": {},
     "output_type": "execute_result"
    }
   ],
   "source": [
    "df['Suburb'].str.capitalize()[:5]"
   ]
  },
  {
   "cell_type": "markdown",
   "metadata": {},
   "source": [
    "<hr>"
   ]
  },
  {
   "cell_type": "markdown",
   "metadata": {},
   "source": [
    "### ConvertDF2Numpy"
   ]
  },
  {
   "cell_type": "markdown",
   "metadata": {},
   "source": [
    "A conversão de um dataframe para numpy é particularmente útil no caso de estarmos a trabalhar com algoritmos de machine learning. O próximo código começa por fazer a importação de um dataframe:"
   ]
  },
  {
   "cell_type": "code",
   "execution_count": 87,
   "metadata": {},
   "outputs": [
    {
     "data": {
      "text/html": [
       "<div>\n",
       "<style scoped>\n",
       "    .dataframe tbody tr th:only-of-type {\n",
       "        vertical-align: middle;\n",
       "    }\n",
       "\n",
       "    .dataframe tbody tr th {\n",
       "        vertical-align: top;\n",
       "    }\n",
       "\n",
       "    .dataframe thead th {\n",
       "        text-align: right;\n",
       "    }\n",
       "</style>\n",
       "<table border=\"1\" class=\"dataframe\">\n",
       "  <thead>\n",
       "    <tr style=\"text-align: right;\">\n",
       "      <th></th>\n",
       "      <th>nome</th>\n",
       "      <th>continente</th>\n",
       "      <th>extensao</th>\n",
       "      <th>corVerde</th>\n",
       "    </tr>\n",
       "    <tr>\n",
       "      <th>sigla</th>\n",
       "      <th></th>\n",
       "      <th></th>\n",
       "      <th></th>\n",
       "      <th></th>\n",
       "    </tr>\n",
       "  </thead>\n",
       "  <tbody>\n",
       "    <tr>\n",
       "      <th>AR</th>\n",
       "      <td>Argentina</td>\n",
       "      <td>América</td>\n",
       "      <td>-9999</td>\n",
       "      <td>0</td>\n",
       "    </tr>\n",
       "    <tr>\n",
       "      <th>BR</th>\n",
       "      <td>Brasil</td>\n",
       "      <td>América</td>\n",
       "      <td>8511</td>\n",
       "      <td>1</td>\n",
       "    </tr>\n",
       "    <tr>\n",
       "      <th>FR</th>\n",
       "      <td>França</td>\n",
       "      <td>Europa</td>\n",
       "      <td>644</td>\n",
       "      <td>0</td>\n",
       "    </tr>\n",
       "    <tr>\n",
       "      <th>IT</th>\n",
       "      <td>Itália</td>\n",
       "      <td>Europa</td>\n",
       "      <td>301</td>\n",
       "      <td>1</td>\n",
       "    </tr>\n",
       "    <tr>\n",
       "      <th>UK</th>\n",
       "      <td>Reino Unido</td>\n",
       "      <td>Europa</td>\n",
       "      <td>244</td>\n",
       "      <td>0</td>\n",
       "    </tr>\n",
       "  </tbody>\n",
       "</table>\n",
       "</div>"
      ],
      "text/plain": [
       "              nome continente  extensao  corVerde\n",
       "sigla                                            \n",
       "AR       Argentina    América     -9999         0\n",
       "BR          Brasil    América      8511         1\n",
       "FR          França     Europa       644         0\n",
       "IT          Itália     Europa       301         1\n",
       "UK     Reino Unido     Europa       244         0"
      ]
     },
     "execution_count": 87,
     "metadata": {},
     "output_type": "execute_result"
    }
   ],
   "source": [
    "import pandas as pd\n",
    "df = pd.read_csv(\"data/paises.csv\",index_col=\"sigla\")\n",
    "df"
   ]
  },
  {
   "cell_type": "markdown",
   "metadata": {},
   "source": [
    "O método `to_numpy()` procede à conversão do dataframe para um array numpy:"
   ]
  },
  {
   "cell_type": "code",
   "execution_count": 88,
   "metadata": {},
   "outputs": [
    {
     "data": {
      "text/plain": [
       "array([['Argentina', 'América', -9999, 0],\n",
       "       ['Brasil', 'América', 8511, 1],\n",
       "       ['França', 'Europa', 644, 0],\n",
       "       ['Itália', 'Europa', 301, 1],\n",
       "       ['Reino Unido', 'Europa', 244, 0]], dtype=object)"
      ]
     },
     "execution_count": 88,
     "metadata": {},
     "output_type": "execute_result"
    }
   ],
   "source": [
    "data = df.to_numpy()\n",
    "data"
   ]
  },
  {
   "cell_type": "markdown",
   "metadata": {},
   "source": [
    "A seleção de todos os países faz-se através do seguinte código:"
   ]
  },
  {
   "cell_type": "code",
   "execution_count": 89,
   "metadata": {},
   "outputs": [
    {
     "data": {
      "text/plain": [
       "array(['Argentina', 'Brasil', 'França', 'Itália', 'Reino Unido'],\n",
       "      dtype=object)"
      ]
     },
     "execution_count": 89,
     "metadata": {},
     "output_type": "execute_result"
    }
   ],
   "source": [
    "nome = data[:,0]\n",
    "nome"
   ]
  },
  {
   "cell_type": "markdown",
   "metadata": {},
   "source": [
    "Para selecionarmos a extensão recorreríamos ao seguinte código:"
   ]
  },
  {
   "cell_type": "code",
   "execution_count": 90,
   "metadata": {},
   "outputs": [
    {
     "data": {
      "text/plain": [
       "array([-9999, 8511, 644, 301, 244], dtype=object)"
      ]
     },
     "execution_count": 90,
     "metadata": {},
     "output_type": "execute_result"
    }
   ],
   "source": [
    "extensao = data[:,2]\n",
    "extensao"
   ]
  },
  {
   "cell_type": "markdown",
   "metadata": {},
   "source": [
    "Ao invés de recorrermos à conversão num array numpy poderiamos simplesmente proceder à seleção dos valores pretendidos (ainda com recurso ao dataframe) e posteriormente converter a série de dados em valores Numpy (com recurso ao values). O próximo código exemplifica a criação das variáveis X e y, bem como a obtenção dos respetivos valores:"
   ]
  },
  {
   "cell_type": "code",
   "execution_count": 96,
   "metadata": {},
   "outputs": [
    {
     "name": "stdout",
     "output_type": "stream",
     "text": [
      "[-9999  8511   644   301   244]\n",
      "[0 1 0 1 0]\n"
     ]
    }
   ],
   "source": [
    "X = df['extensao'].values\n",
    "y = df['corVerde'].values\n",
    "print(X)\n",
    "print(y)"
   ]
  },
  {
   "cell_type": "markdown",
   "metadata": {},
   "source": [
    "<hr>"
   ]
  },
  {
   "cell_type": "markdown",
   "metadata": {},
   "source": [
    "### Add New Data"
   ]
  },
  {
   "cell_type": "markdown",
   "metadata": {},
   "source": [
    "Based on the following tutorial: https://www.dataquest.io/blog/tutorial-how-to-use-the-apply-method-in-pandas/"
   ]
  },
  {
   "cell_type": "markdown",
   "metadata": {},
   "source": [
    "#### Columns"
   ]
  },
  {
   "cell_type": "markdown",
   "metadata": {},
   "source": [
    "##### Add"
   ]
  },
  {
   "cell_type": "markdown",
   "metadata": {},
   "source": [
    "The `apply()` method is one of the most common methods of data preprocessing. It simplifies applying a function on each element in a pandas Series and each row or column in a pandas DataFrame. Let us start by defining the following dataframe:"
   ]
  },
  {
   "cell_type": "code",
   "execution_count": 98,
   "metadata": {},
   "outputs": [
    {
     "data": {
      "text/html": [
       "<div>\n",
       "<style scoped>\n",
       "    .dataframe tbody tr th:only-of-type {\n",
       "        vertical-align: middle;\n",
       "    }\n",
       "\n",
       "    .dataframe tbody tr th {\n",
       "        vertical-align: top;\n",
       "    }\n",
       "\n",
       "    .dataframe thead th {\n",
       "        text-align: right;\n",
       "    }\n",
       "</style>\n",
       "<table border=\"1\" class=\"dataframe\">\n",
       "  <thead>\n",
       "    <tr style=\"text-align: right;\">\n",
       "      <th></th>\n",
       "      <th>EmployeeName</th>\n",
       "      <th>Department</th>\n",
       "      <th>HireDate</th>\n",
       "      <th>Sex</th>\n",
       "      <th>Birthdate</th>\n",
       "      <th>Weight</th>\n",
       "      <th>Height</th>\n",
       "      <th>Kids</th>\n",
       "    </tr>\n",
       "  </thead>\n",
       "  <tbody>\n",
       "    <tr>\n",
       "      <th>0</th>\n",
       "      <td>Callen Dunkley</td>\n",
       "      <td>Accounting</td>\n",
       "      <td>2010</td>\n",
       "      <td>M</td>\n",
       "      <td>04/09/1982</td>\n",
       "      <td>78</td>\n",
       "      <td>176</td>\n",
       "      <td>2</td>\n",
       "    </tr>\n",
       "    <tr>\n",
       "      <th>1</th>\n",
       "      <td>Sarah Rayner</td>\n",
       "      <td>Engineering</td>\n",
       "      <td>2018</td>\n",
       "      <td>F</td>\n",
       "      <td>14/04/1981</td>\n",
       "      <td>80</td>\n",
       "      <td>160</td>\n",
       "      <td>1</td>\n",
       "    </tr>\n",
       "    <tr>\n",
       "      <th>2</th>\n",
       "      <td>Jeanette Sloan</td>\n",
       "      <td>Engineering</td>\n",
       "      <td>2012</td>\n",
       "      <td>F</td>\n",
       "      <td>06/05/1997</td>\n",
       "      <td>66</td>\n",
       "      <td>169</td>\n",
       "      <td>0</td>\n",
       "    </tr>\n",
       "    <tr>\n",
       "      <th>3</th>\n",
       "      <td>Kaycee Acosta</td>\n",
       "      <td>HR</td>\n",
       "      <td>2014</td>\n",
       "      <td>F</td>\n",
       "      <td>08/01/1986</td>\n",
       "      <td>67</td>\n",
       "      <td>157</td>\n",
       "      <td>1</td>\n",
       "    </tr>\n",
       "    <tr>\n",
       "      <th>4</th>\n",
       "      <td>Henri Conroy</td>\n",
       "      <td>HR</td>\n",
       "      <td>2014</td>\n",
       "      <td>M</td>\n",
       "      <td>10/10/1988</td>\n",
       "      <td>90</td>\n",
       "      <td>185</td>\n",
       "      <td>1</td>\n",
       "    </tr>\n",
       "    <tr>\n",
       "      <th>5</th>\n",
       "      <td>Emma Peralta</td>\n",
       "      <td>HR</td>\n",
       "      <td>2018</td>\n",
       "      <td>F</td>\n",
       "      <td>12/11/1992</td>\n",
       "      <td>57</td>\n",
       "      <td>164</td>\n",
       "      <td>0</td>\n",
       "    </tr>\n",
       "    <tr>\n",
       "      <th>6</th>\n",
       "      <td>Martin Butt</td>\n",
       "      <td>Data Science</td>\n",
       "      <td>2020</td>\n",
       "      <td>M</td>\n",
       "      <td>10/04/1991</td>\n",
       "      <td>115</td>\n",
       "      <td>195</td>\n",
       "      <td>2</td>\n",
       "    </tr>\n",
       "    <tr>\n",
       "      <th>7</th>\n",
       "      <td>Alex Jensen</td>\n",
       "      <td>Data Science</td>\n",
       "      <td>2018</td>\n",
       "      <td>M</td>\n",
       "      <td>16/07/1995</td>\n",
       "      <td>87</td>\n",
       "      <td>180</td>\n",
       "      <td>0</td>\n",
       "    </tr>\n",
       "    <tr>\n",
       "      <th>8</th>\n",
       "      <td>Kim Howarth</td>\n",
       "      <td>Accounting</td>\n",
       "      <td>2020</td>\n",
       "      <td>M</td>\n",
       "      <td>08/10/1992</td>\n",
       "      <td>95</td>\n",
       "      <td>174</td>\n",
       "      <td>3</td>\n",
       "    </tr>\n",
       "    <tr>\n",
       "      <th>9</th>\n",
       "      <td>Jane Burnett</td>\n",
       "      <td>Data Science</td>\n",
       "      <td>2012</td>\n",
       "      <td>F</td>\n",
       "      <td>11/10/1979</td>\n",
       "      <td>57</td>\n",
       "      <td>165</td>\n",
       "      <td>1</td>\n",
       "    </tr>\n",
       "  </tbody>\n",
       "</table>\n",
       "</div>"
      ],
      "text/plain": [
       "     EmployeeName    Department  HireDate Sex   Birthdate  Weight  Height  \\\n",
       "0  Callen Dunkley    Accounting      2010   M  04/09/1982      78     176   \n",
       "1    Sarah Rayner   Engineering      2018   F  14/04/1981      80     160   \n",
       "2  Jeanette Sloan   Engineering      2012   F  06/05/1997      66     169   \n",
       "3   Kaycee Acosta            HR      2014   F  08/01/1986      67     157   \n",
       "4    Henri Conroy            HR      2014   M  10/10/1988      90     185   \n",
       "5    Emma Peralta            HR      2018   F  12/11/1992      57     164   \n",
       "6     Martin Butt  Data Science      2020   M  10/04/1991     115     195   \n",
       "7     Alex Jensen  Data Science      2018   M  16/07/1995      87     180   \n",
       "8     Kim Howarth    Accounting      2020   M  08/10/1992      95     174   \n",
       "9    Jane Burnett  Data Science      2012   F  11/10/1979      57     165   \n",
       "\n",
       "   Kids  \n",
       "0     2  \n",
       "1     1  \n",
       "2     0  \n",
       "3     1  \n",
       "4     1  \n",
       "5     0  \n",
       "6     2  \n",
       "7     0  \n",
       "8     3  \n",
       "9     1  "
      ]
     },
     "execution_count": 98,
     "metadata": {},
     "output_type": "execute_result"
    }
   ],
   "source": [
    "import pandas as pd\n",
    "\n",
    "df = pd.DataFrame({'EmployeeName': ['Callen Dunkley', 'Sarah Rayner', 'Jeanette Sloan', 'Kaycee Acosta', 'Henri Conroy', 'Emma Peralta', 'Martin Butt', 'Alex Jensen', 'Kim Howarth', 'Jane Burnett'],\n",
    "                    'Department': ['Accounting', 'Engineering', 'Engineering', 'HR', 'HR', 'HR', 'Data Science', 'Data Science', 'Accounting', 'Data Science'],\n",
    "                    'HireDate': [2010, 2018, 2012, 2014, 2014, 2018, 2020, 2018, 2020, 2012],\n",
    "                    'Sex': ['M', 'F', 'F', 'F', 'M', 'F', 'M', 'M', 'M', 'F'],\n",
    "                    'Birthdate': ['04/09/1982', '14/04/1981', '06/05/1997', '08/01/1986', '10/10/1988', '12/11/1992', '10/04/1991', '16/07/1995', '08/10/1992', '11/10/1979'],\n",
    "                    'Weight': [78, 80, 66, 67, 90, 57, 115, 87, 95, 57],\n",
    "                    'Height': [176, 160, 169, 157, 185, 164, 195, 180, 174, 165],\n",
    "                    'Kids': [2, 1, 0, 1, 1, 0, 2, 0, 3, 1]\n",
    "                    })\n",
    "\n",
    "df"
   ]
  },
  {
   "cell_type": "markdown",
   "metadata": {},
   "source": [
    "###### Lambda Function"
   ]
  },
  {
   "cell_type": "markdown",
   "metadata": {},
   "source": [
    "Let’s assume that the HR team wants to send an invitation email that starts with a friendly greeting to all the employees (e.g., Hey, Sarah!). They asked you to create two columns for storing the employees’ first and last names separately, making referring to the employees’ first names easy. To do so, we can use a lambda function that splits a string into a list after breaking it by the specified separator; the default separator character of the split() method is any white space."
   ]
  },
  {
   "cell_type": "code",
   "execution_count": 99,
   "metadata": {},
   "outputs": [
    {
     "data": {
      "text/html": [
       "<div>\n",
       "<style scoped>\n",
       "    .dataframe tbody tr th:only-of-type {\n",
       "        vertical-align: middle;\n",
       "    }\n",
       "\n",
       "    .dataframe tbody tr th {\n",
       "        vertical-align: top;\n",
       "    }\n",
       "\n",
       "    .dataframe thead th {\n",
       "        text-align: right;\n",
       "    }\n",
       "</style>\n",
       "<table border=\"1\" class=\"dataframe\">\n",
       "  <thead>\n",
       "    <tr style=\"text-align: right;\">\n",
       "      <th></th>\n",
       "      <th>EmployeeName</th>\n",
       "      <th>Department</th>\n",
       "      <th>HireDate</th>\n",
       "      <th>Sex</th>\n",
       "      <th>Birthdate</th>\n",
       "      <th>Weight</th>\n",
       "      <th>Height</th>\n",
       "      <th>Kids</th>\n",
       "      <th>FirstName</th>\n",
       "      <th>LastName</th>\n",
       "    </tr>\n",
       "  </thead>\n",
       "  <tbody>\n",
       "    <tr>\n",
       "      <th>0</th>\n",
       "      <td>Callen Dunkley</td>\n",
       "      <td>Accounting</td>\n",
       "      <td>2010</td>\n",
       "      <td>M</td>\n",
       "      <td>04/09/1982</td>\n",
       "      <td>78</td>\n",
       "      <td>176</td>\n",
       "      <td>2</td>\n",
       "      <td>Callen</td>\n",
       "      <td>Dunkley</td>\n",
       "    </tr>\n",
       "    <tr>\n",
       "      <th>1</th>\n",
       "      <td>Sarah Rayner</td>\n",
       "      <td>Engineering</td>\n",
       "      <td>2018</td>\n",
       "      <td>F</td>\n",
       "      <td>14/04/1981</td>\n",
       "      <td>80</td>\n",
       "      <td>160</td>\n",
       "      <td>1</td>\n",
       "      <td>Sarah</td>\n",
       "      <td>Rayner</td>\n",
       "    </tr>\n",
       "    <tr>\n",
       "      <th>2</th>\n",
       "      <td>Jeanette Sloan</td>\n",
       "      <td>Engineering</td>\n",
       "      <td>2012</td>\n",
       "      <td>F</td>\n",
       "      <td>06/05/1997</td>\n",
       "      <td>66</td>\n",
       "      <td>169</td>\n",
       "      <td>0</td>\n",
       "      <td>Jeanette</td>\n",
       "      <td>Sloan</td>\n",
       "    </tr>\n",
       "    <tr>\n",
       "      <th>3</th>\n",
       "      <td>Kaycee Acosta</td>\n",
       "      <td>HR</td>\n",
       "      <td>2014</td>\n",
       "      <td>F</td>\n",
       "      <td>08/01/1986</td>\n",
       "      <td>67</td>\n",
       "      <td>157</td>\n",
       "      <td>1</td>\n",
       "      <td>Kaycee</td>\n",
       "      <td>Acosta</td>\n",
       "    </tr>\n",
       "    <tr>\n",
       "      <th>4</th>\n",
       "      <td>Henri Conroy</td>\n",
       "      <td>HR</td>\n",
       "      <td>2014</td>\n",
       "      <td>M</td>\n",
       "      <td>10/10/1988</td>\n",
       "      <td>90</td>\n",
       "      <td>185</td>\n",
       "      <td>1</td>\n",
       "      <td>Henri</td>\n",
       "      <td>Conroy</td>\n",
       "    </tr>\n",
       "    <tr>\n",
       "      <th>5</th>\n",
       "      <td>Emma Peralta</td>\n",
       "      <td>HR</td>\n",
       "      <td>2018</td>\n",
       "      <td>F</td>\n",
       "      <td>12/11/1992</td>\n",
       "      <td>57</td>\n",
       "      <td>164</td>\n",
       "      <td>0</td>\n",
       "      <td>Emma</td>\n",
       "      <td>Peralta</td>\n",
       "    </tr>\n",
       "    <tr>\n",
       "      <th>6</th>\n",
       "      <td>Martin Butt</td>\n",
       "      <td>Data Science</td>\n",
       "      <td>2020</td>\n",
       "      <td>M</td>\n",
       "      <td>10/04/1991</td>\n",
       "      <td>115</td>\n",
       "      <td>195</td>\n",
       "      <td>2</td>\n",
       "      <td>Martin</td>\n",
       "      <td>Butt</td>\n",
       "    </tr>\n",
       "    <tr>\n",
       "      <th>7</th>\n",
       "      <td>Alex Jensen</td>\n",
       "      <td>Data Science</td>\n",
       "      <td>2018</td>\n",
       "      <td>M</td>\n",
       "      <td>16/07/1995</td>\n",
       "      <td>87</td>\n",
       "      <td>180</td>\n",
       "      <td>0</td>\n",
       "      <td>Alex</td>\n",
       "      <td>Jensen</td>\n",
       "    </tr>\n",
       "    <tr>\n",
       "      <th>8</th>\n",
       "      <td>Kim Howarth</td>\n",
       "      <td>Accounting</td>\n",
       "      <td>2020</td>\n",
       "      <td>M</td>\n",
       "      <td>08/10/1992</td>\n",
       "      <td>95</td>\n",
       "      <td>174</td>\n",
       "      <td>3</td>\n",
       "      <td>Kim</td>\n",
       "      <td>Howarth</td>\n",
       "    </tr>\n",
       "    <tr>\n",
       "      <th>9</th>\n",
       "      <td>Jane Burnett</td>\n",
       "      <td>Data Science</td>\n",
       "      <td>2012</td>\n",
       "      <td>F</td>\n",
       "      <td>11/10/1979</td>\n",
       "      <td>57</td>\n",
       "      <td>165</td>\n",
       "      <td>1</td>\n",
       "      <td>Jane</td>\n",
       "      <td>Burnett</td>\n",
       "    </tr>\n",
       "  </tbody>\n",
       "</table>\n",
       "</div>"
      ],
      "text/plain": [
       "     EmployeeName    Department  HireDate Sex   Birthdate  Weight  Height  \\\n",
       "0  Callen Dunkley    Accounting      2010   M  04/09/1982      78     176   \n",
       "1    Sarah Rayner   Engineering      2018   F  14/04/1981      80     160   \n",
       "2  Jeanette Sloan   Engineering      2012   F  06/05/1997      66     169   \n",
       "3   Kaycee Acosta            HR      2014   F  08/01/1986      67     157   \n",
       "4    Henri Conroy            HR      2014   M  10/10/1988      90     185   \n",
       "5    Emma Peralta            HR      2018   F  12/11/1992      57     164   \n",
       "6     Martin Butt  Data Science      2020   M  10/04/1991     115     195   \n",
       "7     Alex Jensen  Data Science      2018   M  16/07/1995      87     180   \n",
       "8     Kim Howarth    Accounting      2020   M  08/10/1992      95     174   \n",
       "9    Jane Burnett  Data Science      2012   F  11/10/1979      57     165   \n",
       "\n",
       "   Kids FirstName LastName  \n",
       "0     2    Callen  Dunkley  \n",
       "1     1     Sarah   Rayner  \n",
       "2     0  Jeanette    Sloan  \n",
       "3     1    Kaycee   Acosta  \n",
       "4     1     Henri   Conroy  \n",
       "5     0      Emma  Peralta  \n",
       "6     2    Martin     Butt  \n",
       "7     0      Alex   Jensen  \n",
       "8     3       Kim  Howarth  \n",
       "9     1      Jane  Burnett  "
      ]
     },
     "execution_count": 99,
     "metadata": {},
     "output_type": "execute_result"
    }
   ],
   "source": [
    "df['FirstName'] = df['EmployeeName'].apply(lambda x : x.split()[0])\n",
    "df['LastName'] = df['EmployeeName'].apply(lambda x : x.split()[1])\n",
    "df"
   ]
  },
  {
   "cell_type": "markdown",
   "metadata": {},
   "source": [
    "###### Custom Function"
   ]
  },
  {
   "cell_type": "markdown",
   "metadata": {},
   "source": [
    "Let’s assume that the HR team wants to know every employee’s age and the average age of the employees because they want to determine if an employee’s age influences job satisfaction and work engagement. To get the job done, the first step is to define a function that gets an employee’s date of birth and returns their age. Instead of using a lambda function we will define our own function (as doing this with lambda would be too complex)."
   ]
  },
  {
   "cell_type": "code",
   "execution_count": 100,
   "metadata": {},
   "outputs": [],
   "source": [
    "from datetime import datetime, date\n",
    "\n",
    "def calculate_age(birthdate):\n",
    "    birthdate = datetime.strptime(birthdate, '%d/%m/%Y').date()\n",
    "    today = date.today()\n",
    "    return today.year - birthdate.year - (today.month < birthdate.month)"
   ]
  },
  {
   "cell_type": "markdown",
   "metadata": {},
   "source": [
    "The `calculate_age()` function gets a person’s date of birth in a proper format and, after performing a simple calculation on it, returns their age. The next step is to apply the function on the Birthdate column of the DataFrame using the apply() method, as follows:"
   ]
  },
  {
   "cell_type": "code",
   "execution_count": 101,
   "metadata": {},
   "outputs": [
    {
     "data": {
      "text/html": [
       "<div>\n",
       "<style scoped>\n",
       "    .dataframe tbody tr th:only-of-type {\n",
       "        vertical-align: middle;\n",
       "    }\n",
       "\n",
       "    .dataframe tbody tr th {\n",
       "        vertical-align: top;\n",
       "    }\n",
       "\n",
       "    .dataframe thead th {\n",
       "        text-align: right;\n",
       "    }\n",
       "</style>\n",
       "<table border=\"1\" class=\"dataframe\">\n",
       "  <thead>\n",
       "    <tr style=\"text-align: right;\">\n",
       "      <th></th>\n",
       "      <th>EmployeeName</th>\n",
       "      <th>Department</th>\n",
       "      <th>HireDate</th>\n",
       "      <th>Sex</th>\n",
       "      <th>Birthdate</th>\n",
       "      <th>Weight</th>\n",
       "      <th>Height</th>\n",
       "      <th>Kids</th>\n",
       "      <th>FirstName</th>\n",
       "      <th>LastName</th>\n",
       "      <th>Age</th>\n",
       "    </tr>\n",
       "  </thead>\n",
       "  <tbody>\n",
       "    <tr>\n",
       "      <th>0</th>\n",
       "      <td>Callen Dunkley</td>\n",
       "      <td>Accounting</td>\n",
       "      <td>2010</td>\n",
       "      <td>M</td>\n",
       "      <td>04/09/1982</td>\n",
       "      <td>78</td>\n",
       "      <td>176</td>\n",
       "      <td>2</td>\n",
       "      <td>Callen</td>\n",
       "      <td>Dunkley</td>\n",
       "      <td>41</td>\n",
       "    </tr>\n",
       "    <tr>\n",
       "      <th>1</th>\n",
       "      <td>Sarah Rayner</td>\n",
       "      <td>Engineering</td>\n",
       "      <td>2018</td>\n",
       "      <td>F</td>\n",
       "      <td>14/04/1981</td>\n",
       "      <td>80</td>\n",
       "      <td>160</td>\n",
       "      <td>1</td>\n",
       "      <td>Sarah</td>\n",
       "      <td>Rayner</td>\n",
       "      <td>43</td>\n",
       "    </tr>\n",
       "    <tr>\n",
       "      <th>2</th>\n",
       "      <td>Jeanette Sloan</td>\n",
       "      <td>Engineering</td>\n",
       "      <td>2012</td>\n",
       "      <td>F</td>\n",
       "      <td>06/05/1997</td>\n",
       "      <td>66</td>\n",
       "      <td>169</td>\n",
       "      <td>0</td>\n",
       "      <td>Jeanette</td>\n",
       "      <td>Sloan</td>\n",
       "      <td>26</td>\n",
       "    </tr>\n",
       "    <tr>\n",
       "      <th>3</th>\n",
       "      <td>Kaycee Acosta</td>\n",
       "      <td>HR</td>\n",
       "      <td>2014</td>\n",
       "      <td>F</td>\n",
       "      <td>08/01/1986</td>\n",
       "      <td>67</td>\n",
       "      <td>157</td>\n",
       "      <td>1</td>\n",
       "      <td>Kaycee</td>\n",
       "      <td>Acosta</td>\n",
       "      <td>38</td>\n",
       "    </tr>\n",
       "    <tr>\n",
       "      <th>4</th>\n",
       "      <td>Henri Conroy</td>\n",
       "      <td>HR</td>\n",
       "      <td>2014</td>\n",
       "      <td>M</td>\n",
       "      <td>10/10/1988</td>\n",
       "      <td>90</td>\n",
       "      <td>185</td>\n",
       "      <td>1</td>\n",
       "      <td>Henri</td>\n",
       "      <td>Conroy</td>\n",
       "      <td>35</td>\n",
       "    </tr>\n",
       "    <tr>\n",
       "      <th>5</th>\n",
       "      <td>Emma Peralta</td>\n",
       "      <td>HR</td>\n",
       "      <td>2018</td>\n",
       "      <td>F</td>\n",
       "      <td>12/11/1992</td>\n",
       "      <td>57</td>\n",
       "      <td>164</td>\n",
       "      <td>0</td>\n",
       "      <td>Emma</td>\n",
       "      <td>Peralta</td>\n",
       "      <td>31</td>\n",
       "    </tr>\n",
       "    <tr>\n",
       "      <th>6</th>\n",
       "      <td>Martin Butt</td>\n",
       "      <td>Data Science</td>\n",
       "      <td>2020</td>\n",
       "      <td>M</td>\n",
       "      <td>10/04/1991</td>\n",
       "      <td>115</td>\n",
       "      <td>195</td>\n",
       "      <td>2</td>\n",
       "      <td>Martin</td>\n",
       "      <td>Butt</td>\n",
       "      <td>33</td>\n",
       "    </tr>\n",
       "    <tr>\n",
       "      <th>7</th>\n",
       "      <td>Alex Jensen</td>\n",
       "      <td>Data Science</td>\n",
       "      <td>2018</td>\n",
       "      <td>M</td>\n",
       "      <td>16/07/1995</td>\n",
       "      <td>87</td>\n",
       "      <td>180</td>\n",
       "      <td>0</td>\n",
       "      <td>Alex</td>\n",
       "      <td>Jensen</td>\n",
       "      <td>28</td>\n",
       "    </tr>\n",
       "    <tr>\n",
       "      <th>8</th>\n",
       "      <td>Kim Howarth</td>\n",
       "      <td>Accounting</td>\n",
       "      <td>2020</td>\n",
       "      <td>M</td>\n",
       "      <td>08/10/1992</td>\n",
       "      <td>95</td>\n",
       "      <td>174</td>\n",
       "      <td>3</td>\n",
       "      <td>Kim</td>\n",
       "      <td>Howarth</td>\n",
       "      <td>31</td>\n",
       "    </tr>\n",
       "    <tr>\n",
       "      <th>9</th>\n",
       "      <td>Jane Burnett</td>\n",
       "      <td>Data Science</td>\n",
       "      <td>2012</td>\n",
       "      <td>F</td>\n",
       "      <td>11/10/1979</td>\n",
       "      <td>57</td>\n",
       "      <td>165</td>\n",
       "      <td>1</td>\n",
       "      <td>Jane</td>\n",
       "      <td>Burnett</td>\n",
       "      <td>44</td>\n",
       "    </tr>\n",
       "  </tbody>\n",
       "</table>\n",
       "</div>"
      ],
      "text/plain": [
       "     EmployeeName    Department  HireDate Sex   Birthdate  Weight  Height  \\\n",
       "0  Callen Dunkley    Accounting      2010   M  04/09/1982      78     176   \n",
       "1    Sarah Rayner   Engineering      2018   F  14/04/1981      80     160   \n",
       "2  Jeanette Sloan   Engineering      2012   F  06/05/1997      66     169   \n",
       "3   Kaycee Acosta            HR      2014   F  08/01/1986      67     157   \n",
       "4    Henri Conroy            HR      2014   M  10/10/1988      90     185   \n",
       "5    Emma Peralta            HR      2018   F  12/11/1992      57     164   \n",
       "6     Martin Butt  Data Science      2020   M  10/04/1991     115     195   \n",
       "7     Alex Jensen  Data Science      2018   M  16/07/1995      87     180   \n",
       "8     Kim Howarth    Accounting      2020   M  08/10/1992      95     174   \n",
       "9    Jane Burnett  Data Science      2012   F  11/10/1979      57     165   \n",
       "\n",
       "   Kids FirstName LastName  Age  \n",
       "0     2    Callen  Dunkley   41  \n",
       "1     1     Sarah   Rayner   43  \n",
       "2     0  Jeanette    Sloan   26  \n",
       "3     1    Kaycee   Acosta   38  \n",
       "4     1     Henri   Conroy   35  \n",
       "5     0      Emma  Peralta   31  \n",
       "6     2    Martin     Butt   33  \n",
       "7     0      Alex   Jensen   28  \n",
       "8     3       Kim  Howarth   31  \n",
       "9     1      Jane  Burnett   44  "
      ]
     },
     "execution_count": 101,
     "metadata": {},
     "output_type": "execute_result"
    }
   ],
   "source": [
    "df['Age'] = df['Birthdate'].apply(calculate_age)\n",
    "df"
   ]
  },
  {
   "cell_type": "markdown",
   "metadata": {},
   "source": [
    "The HR manager of the company is exploring options for healthcare coverage for all employees. Potential providers require information about the employees. Since the DataFrame contains the weight and height of each employee, let’s assume the HR manager asked you to provide a Body Mass Index (BMI) for every employee so she can get quotes from potential healthcare providers.\n",
    "\n",
    "To do the task, first, we need to define a function that calculates the Body Mass Index (BMI). The formula for the BMI is weight in kilograms divided by height in meters squared. Because the employees’ heights are measured in centimeters, we need to divide the heights by 100 to obtain the heights in meters. Let’s implement the function:"
   ]
  },
  {
   "cell_type": "code",
   "execution_count": 102,
   "metadata": {},
   "outputs": [],
   "source": [
    "def calc_bmi(weight, height):\n",
    "    return np.round(weight/(height/100)**2, 2)"
   ]
  },
  {
   "cell_type": "markdown",
   "metadata": {},
   "source": [
    "The next step is to apply the function on the DataFrame. Whenever we have more than 1 parameter, we have to resort to lambda functions. In that case, `apply` is applied to `df` (instead of `df[somecolumn]`) and we need to include the `axis = 1`), which means to iterate over rows in the DataFrame."
   ]
  },
  {
   "cell_type": "code",
   "execution_count": 103,
   "metadata": {},
   "outputs": [
    {
     "data": {
      "text/html": [
       "<div>\n",
       "<style scoped>\n",
       "    .dataframe tbody tr th:only-of-type {\n",
       "        vertical-align: middle;\n",
       "    }\n",
       "\n",
       "    .dataframe tbody tr th {\n",
       "        vertical-align: top;\n",
       "    }\n",
       "\n",
       "    .dataframe thead th {\n",
       "        text-align: right;\n",
       "    }\n",
       "</style>\n",
       "<table border=\"1\" class=\"dataframe\">\n",
       "  <thead>\n",
       "    <tr style=\"text-align: right;\">\n",
       "      <th></th>\n",
       "      <th>EmployeeName</th>\n",
       "      <th>Department</th>\n",
       "      <th>HireDate</th>\n",
       "      <th>Sex</th>\n",
       "      <th>Birthdate</th>\n",
       "      <th>Weight</th>\n",
       "      <th>Height</th>\n",
       "      <th>Kids</th>\n",
       "      <th>FirstName</th>\n",
       "      <th>LastName</th>\n",
       "      <th>Age</th>\n",
       "      <th>BMI</th>\n",
       "    </tr>\n",
       "  </thead>\n",
       "  <tbody>\n",
       "    <tr>\n",
       "      <th>0</th>\n",
       "      <td>Callen Dunkley</td>\n",
       "      <td>Accounting</td>\n",
       "      <td>2010</td>\n",
       "      <td>M</td>\n",
       "      <td>04/09/1982</td>\n",
       "      <td>78</td>\n",
       "      <td>176</td>\n",
       "      <td>2</td>\n",
       "      <td>Callen</td>\n",
       "      <td>Dunkley</td>\n",
       "      <td>41</td>\n",
       "      <td>25.18</td>\n",
       "    </tr>\n",
       "    <tr>\n",
       "      <th>1</th>\n",
       "      <td>Sarah Rayner</td>\n",
       "      <td>Engineering</td>\n",
       "      <td>2018</td>\n",
       "      <td>F</td>\n",
       "      <td>14/04/1981</td>\n",
       "      <td>80</td>\n",
       "      <td>160</td>\n",
       "      <td>1</td>\n",
       "      <td>Sarah</td>\n",
       "      <td>Rayner</td>\n",
       "      <td>43</td>\n",
       "      <td>31.25</td>\n",
       "    </tr>\n",
       "    <tr>\n",
       "      <th>2</th>\n",
       "      <td>Jeanette Sloan</td>\n",
       "      <td>Engineering</td>\n",
       "      <td>2012</td>\n",
       "      <td>F</td>\n",
       "      <td>06/05/1997</td>\n",
       "      <td>66</td>\n",
       "      <td>169</td>\n",
       "      <td>0</td>\n",
       "      <td>Jeanette</td>\n",
       "      <td>Sloan</td>\n",
       "      <td>26</td>\n",
       "      <td>23.11</td>\n",
       "    </tr>\n",
       "    <tr>\n",
       "      <th>3</th>\n",
       "      <td>Kaycee Acosta</td>\n",
       "      <td>HR</td>\n",
       "      <td>2014</td>\n",
       "      <td>F</td>\n",
       "      <td>08/01/1986</td>\n",
       "      <td>67</td>\n",
       "      <td>157</td>\n",
       "      <td>1</td>\n",
       "      <td>Kaycee</td>\n",
       "      <td>Acosta</td>\n",
       "      <td>38</td>\n",
       "      <td>27.18</td>\n",
       "    </tr>\n",
       "    <tr>\n",
       "      <th>4</th>\n",
       "      <td>Henri Conroy</td>\n",
       "      <td>HR</td>\n",
       "      <td>2014</td>\n",
       "      <td>M</td>\n",
       "      <td>10/10/1988</td>\n",
       "      <td>90</td>\n",
       "      <td>185</td>\n",
       "      <td>1</td>\n",
       "      <td>Henri</td>\n",
       "      <td>Conroy</td>\n",
       "      <td>35</td>\n",
       "      <td>26.30</td>\n",
       "    </tr>\n",
       "    <tr>\n",
       "      <th>5</th>\n",
       "      <td>Emma Peralta</td>\n",
       "      <td>HR</td>\n",
       "      <td>2018</td>\n",
       "      <td>F</td>\n",
       "      <td>12/11/1992</td>\n",
       "      <td>57</td>\n",
       "      <td>164</td>\n",
       "      <td>0</td>\n",
       "      <td>Emma</td>\n",
       "      <td>Peralta</td>\n",
       "      <td>31</td>\n",
       "      <td>21.19</td>\n",
       "    </tr>\n",
       "    <tr>\n",
       "      <th>6</th>\n",
       "      <td>Martin Butt</td>\n",
       "      <td>Data Science</td>\n",
       "      <td>2020</td>\n",
       "      <td>M</td>\n",
       "      <td>10/04/1991</td>\n",
       "      <td>115</td>\n",
       "      <td>195</td>\n",
       "      <td>2</td>\n",
       "      <td>Martin</td>\n",
       "      <td>Butt</td>\n",
       "      <td>33</td>\n",
       "      <td>30.24</td>\n",
       "    </tr>\n",
       "    <tr>\n",
       "      <th>7</th>\n",
       "      <td>Alex Jensen</td>\n",
       "      <td>Data Science</td>\n",
       "      <td>2018</td>\n",
       "      <td>M</td>\n",
       "      <td>16/07/1995</td>\n",
       "      <td>87</td>\n",
       "      <td>180</td>\n",
       "      <td>0</td>\n",
       "      <td>Alex</td>\n",
       "      <td>Jensen</td>\n",
       "      <td>28</td>\n",
       "      <td>26.85</td>\n",
       "    </tr>\n",
       "    <tr>\n",
       "      <th>8</th>\n",
       "      <td>Kim Howarth</td>\n",
       "      <td>Accounting</td>\n",
       "      <td>2020</td>\n",
       "      <td>M</td>\n",
       "      <td>08/10/1992</td>\n",
       "      <td>95</td>\n",
       "      <td>174</td>\n",
       "      <td>3</td>\n",
       "      <td>Kim</td>\n",
       "      <td>Howarth</td>\n",
       "      <td>31</td>\n",
       "      <td>31.38</td>\n",
       "    </tr>\n",
       "    <tr>\n",
       "      <th>9</th>\n",
       "      <td>Jane Burnett</td>\n",
       "      <td>Data Science</td>\n",
       "      <td>2012</td>\n",
       "      <td>F</td>\n",
       "      <td>11/10/1979</td>\n",
       "      <td>57</td>\n",
       "      <td>165</td>\n",
       "      <td>1</td>\n",
       "      <td>Jane</td>\n",
       "      <td>Burnett</td>\n",
       "      <td>44</td>\n",
       "      <td>20.94</td>\n",
       "    </tr>\n",
       "  </tbody>\n",
       "</table>\n",
       "</div>"
      ],
      "text/plain": [
       "     EmployeeName    Department  HireDate Sex   Birthdate  Weight  Height  \\\n",
       "0  Callen Dunkley    Accounting      2010   M  04/09/1982      78     176   \n",
       "1    Sarah Rayner   Engineering      2018   F  14/04/1981      80     160   \n",
       "2  Jeanette Sloan   Engineering      2012   F  06/05/1997      66     169   \n",
       "3   Kaycee Acosta            HR      2014   F  08/01/1986      67     157   \n",
       "4    Henri Conroy            HR      2014   M  10/10/1988      90     185   \n",
       "5    Emma Peralta            HR      2018   F  12/11/1992      57     164   \n",
       "6     Martin Butt  Data Science      2020   M  10/04/1991     115     195   \n",
       "7     Alex Jensen  Data Science      2018   M  16/07/1995      87     180   \n",
       "8     Kim Howarth    Accounting      2020   M  08/10/1992      95     174   \n",
       "9    Jane Burnett  Data Science      2012   F  11/10/1979      57     165   \n",
       "\n",
       "   Kids FirstName LastName  Age    BMI  \n",
       "0     2    Callen  Dunkley   41  25.18  \n",
       "1     1     Sarah   Rayner   43  31.25  \n",
       "2     0  Jeanette    Sloan   26  23.11  \n",
       "3     1    Kaycee   Acosta   38  27.18  \n",
       "4     1     Henri   Conroy   35  26.30  \n",
       "5     0      Emma  Peralta   31  21.19  \n",
       "6     2    Martin     Butt   33  30.24  \n",
       "7     0      Alex   Jensen   28  26.85  \n",
       "8     3       Kim  Howarth   31  31.38  \n",
       "9     1      Jane  Burnett   44  20.94  "
      ]
     },
     "execution_count": 103,
     "metadata": {},
     "output_type": "execute_result"
    }
   ],
   "source": [
    "df['BMI'] = df.apply(lambda x: calc_bmi(x['Weight'], x['Height']), axis=1)\n",
    "df"
   ]
  },
  {
   "cell_type": "markdown",
   "metadata": {},
   "source": [
    "Instead we can redefine the function to get a row of the dataframe, instead of the actual values as a parameter."
   ]
  },
  {
   "cell_type": "code",
   "execution_count": 104,
   "metadata": {},
   "outputs": [
    {
     "data": {
      "text/html": [
       "<div>\n",
       "<style scoped>\n",
       "    .dataframe tbody tr th:only-of-type {\n",
       "        vertical-align: middle;\n",
       "    }\n",
       "\n",
       "    .dataframe tbody tr th {\n",
       "        vertical-align: top;\n",
       "    }\n",
       "\n",
       "    .dataframe thead th {\n",
       "        text-align: right;\n",
       "    }\n",
       "</style>\n",
       "<table border=\"1\" class=\"dataframe\">\n",
       "  <thead>\n",
       "    <tr style=\"text-align: right;\">\n",
       "      <th></th>\n",
       "      <th>EmployeeName</th>\n",
       "      <th>Department</th>\n",
       "      <th>HireDate</th>\n",
       "      <th>Sex</th>\n",
       "      <th>Birthdate</th>\n",
       "      <th>Weight</th>\n",
       "      <th>Height</th>\n",
       "      <th>Kids</th>\n",
       "      <th>FirstName</th>\n",
       "      <th>LastName</th>\n",
       "      <th>Age</th>\n",
       "      <th>BMI</th>\n",
       "    </tr>\n",
       "  </thead>\n",
       "  <tbody>\n",
       "    <tr>\n",
       "      <th>0</th>\n",
       "      <td>Callen Dunkley</td>\n",
       "      <td>Accounting</td>\n",
       "      <td>2010</td>\n",
       "      <td>M</td>\n",
       "      <td>04/09/1982</td>\n",
       "      <td>78</td>\n",
       "      <td>176</td>\n",
       "      <td>2</td>\n",
       "      <td>Callen</td>\n",
       "      <td>Dunkley</td>\n",
       "      <td>41</td>\n",
       "      <td>25.18</td>\n",
       "    </tr>\n",
       "    <tr>\n",
       "      <th>1</th>\n",
       "      <td>Sarah Rayner</td>\n",
       "      <td>Engineering</td>\n",
       "      <td>2018</td>\n",
       "      <td>F</td>\n",
       "      <td>14/04/1981</td>\n",
       "      <td>80</td>\n",
       "      <td>160</td>\n",
       "      <td>1</td>\n",
       "      <td>Sarah</td>\n",
       "      <td>Rayner</td>\n",
       "      <td>43</td>\n",
       "      <td>31.25</td>\n",
       "    </tr>\n",
       "    <tr>\n",
       "      <th>2</th>\n",
       "      <td>Jeanette Sloan</td>\n",
       "      <td>Engineering</td>\n",
       "      <td>2012</td>\n",
       "      <td>F</td>\n",
       "      <td>06/05/1997</td>\n",
       "      <td>66</td>\n",
       "      <td>169</td>\n",
       "      <td>0</td>\n",
       "      <td>Jeanette</td>\n",
       "      <td>Sloan</td>\n",
       "      <td>26</td>\n",
       "      <td>23.11</td>\n",
       "    </tr>\n",
       "    <tr>\n",
       "      <th>3</th>\n",
       "      <td>Kaycee Acosta</td>\n",
       "      <td>HR</td>\n",
       "      <td>2014</td>\n",
       "      <td>F</td>\n",
       "      <td>08/01/1986</td>\n",
       "      <td>67</td>\n",
       "      <td>157</td>\n",
       "      <td>1</td>\n",
       "      <td>Kaycee</td>\n",
       "      <td>Acosta</td>\n",
       "      <td>38</td>\n",
       "      <td>27.18</td>\n",
       "    </tr>\n",
       "    <tr>\n",
       "      <th>4</th>\n",
       "      <td>Henri Conroy</td>\n",
       "      <td>HR</td>\n",
       "      <td>2014</td>\n",
       "      <td>M</td>\n",
       "      <td>10/10/1988</td>\n",
       "      <td>90</td>\n",
       "      <td>185</td>\n",
       "      <td>1</td>\n",
       "      <td>Henri</td>\n",
       "      <td>Conroy</td>\n",
       "      <td>35</td>\n",
       "      <td>26.30</td>\n",
       "    </tr>\n",
       "    <tr>\n",
       "      <th>5</th>\n",
       "      <td>Emma Peralta</td>\n",
       "      <td>HR</td>\n",
       "      <td>2018</td>\n",
       "      <td>F</td>\n",
       "      <td>12/11/1992</td>\n",
       "      <td>57</td>\n",
       "      <td>164</td>\n",
       "      <td>0</td>\n",
       "      <td>Emma</td>\n",
       "      <td>Peralta</td>\n",
       "      <td>31</td>\n",
       "      <td>21.19</td>\n",
       "    </tr>\n",
       "    <tr>\n",
       "      <th>6</th>\n",
       "      <td>Martin Butt</td>\n",
       "      <td>Data Science</td>\n",
       "      <td>2020</td>\n",
       "      <td>M</td>\n",
       "      <td>10/04/1991</td>\n",
       "      <td>115</td>\n",
       "      <td>195</td>\n",
       "      <td>2</td>\n",
       "      <td>Martin</td>\n",
       "      <td>Butt</td>\n",
       "      <td>33</td>\n",
       "      <td>30.24</td>\n",
       "    </tr>\n",
       "    <tr>\n",
       "      <th>7</th>\n",
       "      <td>Alex Jensen</td>\n",
       "      <td>Data Science</td>\n",
       "      <td>2018</td>\n",
       "      <td>M</td>\n",
       "      <td>16/07/1995</td>\n",
       "      <td>87</td>\n",
       "      <td>180</td>\n",
       "      <td>0</td>\n",
       "      <td>Alex</td>\n",
       "      <td>Jensen</td>\n",
       "      <td>28</td>\n",
       "      <td>26.85</td>\n",
       "    </tr>\n",
       "    <tr>\n",
       "      <th>8</th>\n",
       "      <td>Kim Howarth</td>\n",
       "      <td>Accounting</td>\n",
       "      <td>2020</td>\n",
       "      <td>M</td>\n",
       "      <td>08/10/1992</td>\n",
       "      <td>95</td>\n",
       "      <td>174</td>\n",
       "      <td>3</td>\n",
       "      <td>Kim</td>\n",
       "      <td>Howarth</td>\n",
       "      <td>31</td>\n",
       "      <td>31.38</td>\n",
       "    </tr>\n",
       "    <tr>\n",
       "      <th>9</th>\n",
       "      <td>Jane Burnett</td>\n",
       "      <td>Data Science</td>\n",
       "      <td>2012</td>\n",
       "      <td>F</td>\n",
       "      <td>11/10/1979</td>\n",
       "      <td>57</td>\n",
       "      <td>165</td>\n",
       "      <td>1</td>\n",
       "      <td>Jane</td>\n",
       "      <td>Burnett</td>\n",
       "      <td>44</td>\n",
       "      <td>20.94</td>\n",
       "    </tr>\n",
       "  </tbody>\n",
       "</table>\n",
       "</div>"
      ],
      "text/plain": [
       "     EmployeeName    Department  HireDate Sex   Birthdate  Weight  Height  \\\n",
       "0  Callen Dunkley    Accounting      2010   M  04/09/1982      78     176   \n",
       "1    Sarah Rayner   Engineering      2018   F  14/04/1981      80     160   \n",
       "2  Jeanette Sloan   Engineering      2012   F  06/05/1997      66     169   \n",
       "3   Kaycee Acosta            HR      2014   F  08/01/1986      67     157   \n",
       "4    Henri Conroy            HR      2014   M  10/10/1988      90     185   \n",
       "5    Emma Peralta            HR      2018   F  12/11/1992      57     164   \n",
       "6     Martin Butt  Data Science      2020   M  10/04/1991     115     195   \n",
       "7     Alex Jensen  Data Science      2018   M  16/07/1995      87     180   \n",
       "8     Kim Howarth    Accounting      2020   M  08/10/1992      95     174   \n",
       "9    Jane Burnett  Data Science      2012   F  11/10/1979      57     165   \n",
       "\n",
       "   Kids FirstName LastName  Age    BMI  \n",
       "0     2    Callen  Dunkley   41  25.18  \n",
       "1     1     Sarah   Rayner   43  31.25  \n",
       "2     0  Jeanette    Sloan   26  23.11  \n",
       "3     1    Kaycee   Acosta   38  27.18  \n",
       "4     1     Henri   Conroy   35  26.30  \n",
       "5     0      Emma  Peralta   31  21.19  \n",
       "6     2    Martin     Butt   33  30.24  \n",
       "7     0      Alex   Jensen   28  26.85  \n",
       "8     3       Kim  Howarth   31  31.38  \n",
       "9     1      Jane  Burnett   44  20.94  "
      ]
     },
     "execution_count": 104,
     "metadata": {},
     "output_type": "execute_result"
    }
   ],
   "source": [
    "def calc_bmi(row):\n",
    "    weight = row['Weight']\n",
    "    height = row['Height']\n",
    "    return np.round(weight/(height/100)**2, 2)\n",
    "\n",
    "df['BMI'] = df.apply(calc_bmi, axis=1)\n",
    "df"
   ]
  },
  {
   "cell_type": "markdown",
   "metadata": {},
   "source": [
    "##### Replace Column Names"
   ]
  },
  {
   "cell_type": "markdown",
   "metadata": {},
   "source": [
    "In some case we want to replace the names of the columns. Lets start by defining the following dataframe:"
   ]
  },
  {
   "cell_type": "code",
   "execution_count": 105,
   "metadata": {},
   "outputs": [
    {
     "data": {
      "text/html": [
       "<div>\n",
       "<style scoped>\n",
       "    .dataframe tbody tr th:only-of-type {\n",
       "        vertical-align: middle;\n",
       "    }\n",
       "\n",
       "    .dataframe tbody tr th {\n",
       "        vertical-align: top;\n",
       "    }\n",
       "\n",
       "    .dataframe thead th {\n",
       "        text-align: right;\n",
       "    }\n",
       "</style>\n",
       "<table border=\"1\" class=\"dataframe\">\n",
       "  <thead>\n",
       "    <tr style=\"text-align: right;\">\n",
       "      <th></th>\n",
       "      <th>Value1</th>\n",
       "      <th>Value2</th>\n",
       "      <th>Value3</th>\n",
       "      <th>Country</th>\n",
       "    </tr>\n",
       "  </thead>\n",
       "  <tbody>\n",
       "    <tr>\n",
       "      <th>0</th>\n",
       "      <td>2012</td>\n",
       "      <td>2011</td>\n",
       "      <td>2010</td>\n",
       "      <td>PT</td>\n",
       "    </tr>\n",
       "    <tr>\n",
       "      <th>1</th>\n",
       "      <td>2017</td>\n",
       "      <td>2012</td>\n",
       "      <td>2018</td>\n",
       "      <td>FR</td>\n",
       "    </tr>\n",
       "    <tr>\n",
       "      <th>2</th>\n",
       "      <td>2018</td>\n",
       "      <td>2017</td>\n",
       "      <td>2012</td>\n",
       "      <td>FR</td>\n",
       "    </tr>\n",
       "  </tbody>\n",
       "</table>\n",
       "</div>"
      ],
      "text/plain": [
       "   Value1  Value2  Value3 Country\n",
       "0    2012    2011    2010      PT\n",
       "1    2017    2012    2018      FR\n",
       "2    2018    2017    2012      FR"
      ]
     },
     "execution_count": 105,
     "metadata": {},
     "output_type": "execute_result"
    }
   ],
   "source": [
    "import pandas as pd\n",
    "\n",
    "df = pd.DataFrame({'Value1': [2012, 2017, 2018],\n",
    "                    'Value2': [2011, 2012, 2017],\n",
    "                    'Value3': [2010, 2018, 2012],\n",
    "                    'Country': ['PT', 'FR', 'FR'],\n",
    "                    })\n",
    "\n",
    "df"
   ]
  },
  {
   "cell_type": "markdown",
   "metadata": {},
   "source": [
    "If one wants to change a specific column, the following code can be used."
   ]
  },
  {
   "cell_type": "code",
   "execution_count": 106,
   "metadata": {},
   "outputs": [
    {
     "data": {
      "text/html": [
       "<div>\n",
       "<style scoped>\n",
       "    .dataframe tbody tr th:only-of-type {\n",
       "        vertical-align: middle;\n",
       "    }\n",
       "\n",
       "    .dataframe tbody tr th {\n",
       "        vertical-align: top;\n",
       "    }\n",
       "\n",
       "    .dataframe thead th {\n",
       "        text-align: right;\n",
       "    }\n",
       "</style>\n",
       "<table border=\"1\" class=\"dataframe\">\n",
       "  <thead>\n",
       "    <tr style=\"text-align: right;\">\n",
       "      <th></th>\n",
       "      <th>Value1</th>\n",
       "      <th>Value2</th>\n",
       "      <th>Value3</th>\n",
       "      <th>CT</th>\n",
       "    </tr>\n",
       "  </thead>\n",
       "  <tbody>\n",
       "    <tr>\n",
       "      <th>0</th>\n",
       "      <td>2012</td>\n",
       "      <td>2011</td>\n",
       "      <td>2010</td>\n",
       "      <td>PT</td>\n",
       "    </tr>\n",
       "    <tr>\n",
       "      <th>1</th>\n",
       "      <td>2017</td>\n",
       "      <td>2012</td>\n",
       "      <td>2018</td>\n",
       "      <td>FR</td>\n",
       "    </tr>\n",
       "    <tr>\n",
       "      <th>2</th>\n",
       "      <td>2018</td>\n",
       "      <td>2017</td>\n",
       "      <td>2012</td>\n",
       "      <td>FR</td>\n",
       "    </tr>\n",
       "  </tbody>\n",
       "</table>\n",
       "</div>"
      ],
      "text/plain": [
       "   Value1  Value2  Value3  CT\n",
       "0    2012    2011    2010  PT\n",
       "1    2017    2012    2018  FR\n",
       "2    2018    2017    2012  FR"
      ]
     },
     "execution_count": 106,
     "metadata": {},
     "output_type": "execute_result"
    }
   ],
   "source": [
    "df.rename(columns = {'Country':'CT'}, inplace = True)\n",
    "df"
   ]
  },
  {
   "cell_type": "markdown",
   "metadata": {},
   "source": [
    "Instead, if several columns are to be replaced in batch mode we can resort to the following code:"
   ]
  },
  {
   "cell_type": "code",
   "execution_count": 107,
   "metadata": {},
   "outputs": [
    {
     "data": {
      "text/html": [
       "<div>\n",
       "<style scoped>\n",
       "    .dataframe tbody tr th:only-of-type {\n",
       "        vertical-align: middle;\n",
       "    }\n",
       "\n",
       "    .dataframe tbody tr th {\n",
       "        vertical-align: top;\n",
       "    }\n",
       "\n",
       "    .dataframe thead th {\n",
       "        text-align: right;\n",
       "    }\n",
       "</style>\n",
       "<table border=\"1\" class=\"dataframe\">\n",
       "  <thead>\n",
       "    <tr style=\"text-align: right;\">\n",
       "      <th></th>\n",
       "      <th>Year1</th>\n",
       "      <th>Year2</th>\n",
       "      <th>Year3</th>\n",
       "      <th>CT</th>\n",
       "    </tr>\n",
       "  </thead>\n",
       "  <tbody>\n",
       "    <tr>\n",
       "      <th>0</th>\n",
       "      <td>2012</td>\n",
       "      <td>2011</td>\n",
       "      <td>2010</td>\n",
       "      <td>PT</td>\n",
       "    </tr>\n",
       "    <tr>\n",
       "      <th>1</th>\n",
       "      <td>2017</td>\n",
       "      <td>2012</td>\n",
       "      <td>2018</td>\n",
       "      <td>FR</td>\n",
       "    </tr>\n",
       "    <tr>\n",
       "      <th>2</th>\n",
       "      <td>2018</td>\n",
       "      <td>2017</td>\n",
       "      <td>2012</td>\n",
       "      <td>FR</td>\n",
       "    </tr>\n",
       "  </tbody>\n",
       "</table>\n",
       "</div>"
      ],
      "text/plain": [
       "   Year1  Year2  Year3  CT\n",
       "0   2012   2011   2010  PT\n",
       "1   2017   2012   2018  FR\n",
       "2   2018   2017   2012  FR"
      ]
     },
     "execution_count": 107,
     "metadata": {},
     "output_type": "execute_result"
    }
   ],
   "source": [
    "df.columns = df.columns.str.replace('Value', 'Year')\n",
    "df"
   ]
  },
  {
   "cell_type": "markdown",
   "metadata": {},
   "source": [
    "#### Rows"
   ]
  },
  {
   "cell_type": "markdown",
   "metadata": {},
   "source": [
    "Let’s assume the new year is around the corner and the company management has announced that those employees who have more than ten years of experience will get an extra bonus. The HR manager wants to know who is qualified to get the bonus.\n",
    "\n",
    "To prepare the requested information, you need to apply the following lambda function on the HireDate column, which returns True if the difference between the current year and the hire year is greater than or equal to ten years otherwise False."
   ]
  },
  {
   "cell_type": "code",
   "execution_count": 108,
   "metadata": {},
   "outputs": [
    {
     "data": {
      "text/html": [
       "<div>\n",
       "<style scoped>\n",
       "    .dataframe tbody tr th:only-of-type {\n",
       "        vertical-align: middle;\n",
       "    }\n",
       "\n",
       "    .dataframe tbody tr th {\n",
       "        vertical-align: top;\n",
       "    }\n",
       "\n",
       "    .dataframe thead th {\n",
       "        text-align: right;\n",
       "    }\n",
       "</style>\n",
       "<table border=\"1\" class=\"dataframe\">\n",
       "  <thead>\n",
       "    <tr style=\"text-align: right;\">\n",
       "      <th></th>\n",
       "      <th>EmployeeName</th>\n",
       "      <th>Department</th>\n",
       "      <th>HireDate</th>\n",
       "      <th>Sex</th>\n",
       "      <th>Birthdate</th>\n",
       "      <th>Weight</th>\n",
       "      <th>Height</th>\n",
       "      <th>Kids</th>\n",
       "    </tr>\n",
       "  </thead>\n",
       "  <tbody>\n",
       "    <tr>\n",
       "      <th>0</th>\n",
       "      <td>Callen Dunkley</td>\n",
       "      <td>Accounting</td>\n",
       "      <td>2010</td>\n",
       "      <td>M</td>\n",
       "      <td>04/09/1982</td>\n",
       "      <td>78</td>\n",
       "      <td>176</td>\n",
       "      <td>2</td>\n",
       "    </tr>\n",
       "    <tr>\n",
       "      <th>1</th>\n",
       "      <td>Sarah Rayner</td>\n",
       "      <td>Engineering</td>\n",
       "      <td>2018</td>\n",
       "      <td>F</td>\n",
       "      <td>14/04/1981</td>\n",
       "      <td>80</td>\n",
       "      <td>160</td>\n",
       "      <td>1</td>\n",
       "    </tr>\n",
       "    <tr>\n",
       "      <th>2</th>\n",
       "      <td>Jeanette Sloan</td>\n",
       "      <td>Engineering</td>\n",
       "      <td>2012</td>\n",
       "      <td>F</td>\n",
       "      <td>06/05/1997</td>\n",
       "      <td>66</td>\n",
       "      <td>169</td>\n",
       "      <td>0</td>\n",
       "    </tr>\n",
       "    <tr>\n",
       "      <th>3</th>\n",
       "      <td>Kaycee Acosta</td>\n",
       "      <td>HR</td>\n",
       "      <td>2014</td>\n",
       "      <td>F</td>\n",
       "      <td>08/01/1986</td>\n",
       "      <td>67</td>\n",
       "      <td>157</td>\n",
       "      <td>1</td>\n",
       "    </tr>\n",
       "    <tr>\n",
       "      <th>4</th>\n",
       "      <td>Henri Conroy</td>\n",
       "      <td>HR</td>\n",
       "      <td>2014</td>\n",
       "      <td>M</td>\n",
       "      <td>10/10/1988</td>\n",
       "      <td>90</td>\n",
       "      <td>185</td>\n",
       "      <td>1</td>\n",
       "    </tr>\n",
       "    <tr>\n",
       "      <th>5</th>\n",
       "      <td>Emma Peralta</td>\n",
       "      <td>HR</td>\n",
       "      <td>2018</td>\n",
       "      <td>F</td>\n",
       "      <td>12/11/1992</td>\n",
       "      <td>57</td>\n",
       "      <td>164</td>\n",
       "      <td>0</td>\n",
       "    </tr>\n",
       "    <tr>\n",
       "      <th>6</th>\n",
       "      <td>Martin Butt</td>\n",
       "      <td>Data Science</td>\n",
       "      <td>2020</td>\n",
       "      <td>M</td>\n",
       "      <td>10/04/1991</td>\n",
       "      <td>115</td>\n",
       "      <td>195</td>\n",
       "      <td>2</td>\n",
       "    </tr>\n",
       "    <tr>\n",
       "      <th>7</th>\n",
       "      <td>Alex Jensen</td>\n",
       "      <td>Data Science</td>\n",
       "      <td>2018</td>\n",
       "      <td>M</td>\n",
       "      <td>16/07/1995</td>\n",
       "      <td>87</td>\n",
       "      <td>180</td>\n",
       "      <td>0</td>\n",
       "    </tr>\n",
       "    <tr>\n",
       "      <th>8</th>\n",
       "      <td>Kim Howarth</td>\n",
       "      <td>Accounting</td>\n",
       "      <td>2020</td>\n",
       "      <td>M</td>\n",
       "      <td>08/10/1992</td>\n",
       "      <td>95</td>\n",
       "      <td>174</td>\n",
       "      <td>3</td>\n",
       "    </tr>\n",
       "    <tr>\n",
       "      <th>9</th>\n",
       "      <td>Jane Burnett</td>\n",
       "      <td>Data Science</td>\n",
       "      <td>2012</td>\n",
       "      <td>F</td>\n",
       "      <td>11/10/1979</td>\n",
       "      <td>57</td>\n",
       "      <td>165</td>\n",
       "      <td>1</td>\n",
       "    </tr>\n",
       "  </tbody>\n",
       "</table>\n",
       "</div>"
      ],
      "text/plain": [
       "     EmployeeName    Department  HireDate Sex   Birthdate  Weight  Height  \\\n",
       "0  Callen Dunkley    Accounting      2010   M  04/09/1982      78     176   \n",
       "1    Sarah Rayner   Engineering      2018   F  14/04/1981      80     160   \n",
       "2  Jeanette Sloan   Engineering      2012   F  06/05/1997      66     169   \n",
       "3   Kaycee Acosta            HR      2014   F  08/01/1986      67     157   \n",
       "4    Henri Conroy            HR      2014   M  10/10/1988      90     185   \n",
       "5    Emma Peralta            HR      2018   F  12/11/1992      57     164   \n",
       "6     Martin Butt  Data Science      2020   M  10/04/1991     115     195   \n",
       "7     Alex Jensen  Data Science      2018   M  16/07/1995      87     180   \n",
       "8     Kim Howarth    Accounting      2020   M  08/10/1992      95     174   \n",
       "9    Jane Burnett  Data Science      2012   F  11/10/1979      57     165   \n",
       "\n",
       "   Kids  \n",
       "0     2  \n",
       "1     1  \n",
       "2     0  \n",
       "3     1  \n",
       "4     1  \n",
       "5     0  \n",
       "6     2  \n",
       "7     0  \n",
       "8     3  \n",
       "9     1  "
      ]
     },
     "execution_count": 108,
     "metadata": {},
     "output_type": "execute_result"
    }
   ],
   "source": [
    "import pandas as pd\n",
    "\n",
    "df = pd.DataFrame({'EmployeeName': ['Callen Dunkley', 'Sarah Rayner', 'Jeanette Sloan', 'Kaycee Acosta', 'Henri Conroy', 'Emma Peralta', 'Martin Butt', 'Alex Jensen', 'Kim Howarth', 'Jane Burnett'],\n",
    "                    'Department': ['Accounting', 'Engineering', 'Engineering', 'HR', 'HR', 'HR', 'Data Science', 'Data Science', 'Accounting', 'Data Science'],\n",
    "                    'HireDate': [2010, 2018, 2012, 2014, 2014, 2018, 2020, 2018, 2020, 2012],\n",
    "                    'Sex': ['M', 'F', 'F', 'F', 'M', 'F', 'M', 'M', 'M', 'F'],\n",
    "                    'Birthdate': ['04/09/1982', '14/04/1981', '06/05/1997', '08/01/1986', '10/10/1988', '12/11/1992', '10/04/1991', '16/07/1995', '08/10/1992', '11/10/1979'],\n",
    "                    'Weight': [78, 80, 66, 67, 90, 57, 115, 87, 95, 57],\n",
    "                    'Height': [176, 160, 169, 157, 185, 164, 195, 180, 174, 165],\n",
    "                    'Kids': [2, 1, 0, 1, 1, 0, 2, 0, 3, 1]\n",
    "                    })\n",
    "\n",
    "df"
   ]
  },
  {
   "cell_type": "code",
   "execution_count": 109,
   "metadata": {},
   "outputs": [
    {
     "data": {
      "text/html": [
       "<div>\n",
       "<style scoped>\n",
       "    .dataframe tbody tr th:only-of-type {\n",
       "        vertical-align: middle;\n",
       "    }\n",
       "\n",
       "    .dataframe tbody tr th {\n",
       "        vertical-align: top;\n",
       "    }\n",
       "\n",
       "    .dataframe thead th {\n",
       "        text-align: right;\n",
       "    }\n",
       "</style>\n",
       "<table border=\"1\" class=\"dataframe\">\n",
       "  <thead>\n",
       "    <tr style=\"text-align: right;\">\n",
       "      <th></th>\n",
       "      <th>EmployeeName</th>\n",
       "      <th>Department</th>\n",
       "      <th>HireDate</th>\n",
       "      <th>Sex</th>\n",
       "      <th>Birthdate</th>\n",
       "      <th>Weight</th>\n",
       "      <th>Height</th>\n",
       "      <th>Kids</th>\n",
       "    </tr>\n",
       "  </thead>\n",
       "  <tbody>\n",
       "    <tr>\n",
       "      <th>0</th>\n",
       "      <td>Callen Dunkley</td>\n",
       "      <td>Accounting</td>\n",
       "      <td>2010</td>\n",
       "      <td>M</td>\n",
       "      <td>04/09/1982</td>\n",
       "      <td>78</td>\n",
       "      <td>176</td>\n",
       "      <td>2</td>\n",
       "    </tr>\n",
       "    <tr>\n",
       "      <th>2</th>\n",
       "      <td>Jeanette Sloan</td>\n",
       "      <td>Engineering</td>\n",
       "      <td>2012</td>\n",
       "      <td>F</td>\n",
       "      <td>06/05/1997</td>\n",
       "      <td>66</td>\n",
       "      <td>169</td>\n",
       "      <td>0</td>\n",
       "    </tr>\n",
       "    <tr>\n",
       "      <th>3</th>\n",
       "      <td>Kaycee Acosta</td>\n",
       "      <td>HR</td>\n",
       "      <td>2014</td>\n",
       "      <td>F</td>\n",
       "      <td>08/01/1986</td>\n",
       "      <td>67</td>\n",
       "      <td>157</td>\n",
       "      <td>1</td>\n",
       "    </tr>\n",
       "    <tr>\n",
       "      <th>4</th>\n",
       "      <td>Henri Conroy</td>\n",
       "      <td>HR</td>\n",
       "      <td>2014</td>\n",
       "      <td>M</td>\n",
       "      <td>10/10/1988</td>\n",
       "      <td>90</td>\n",
       "      <td>185</td>\n",
       "      <td>1</td>\n",
       "    </tr>\n",
       "    <tr>\n",
       "      <th>9</th>\n",
       "      <td>Jane Burnett</td>\n",
       "      <td>Data Science</td>\n",
       "      <td>2012</td>\n",
       "      <td>F</td>\n",
       "      <td>11/10/1979</td>\n",
       "      <td>57</td>\n",
       "      <td>165</td>\n",
       "      <td>1</td>\n",
       "    </tr>\n",
       "  </tbody>\n",
       "</table>\n",
       "</div>"
      ],
      "text/plain": [
       "     EmployeeName    Department  HireDate Sex   Birthdate  Weight  Height  \\\n",
       "0  Callen Dunkley    Accounting      2010   M  04/09/1982      78     176   \n",
       "2  Jeanette Sloan   Engineering      2012   F  06/05/1997      66     169   \n",
       "3   Kaycee Acosta            HR      2014   F  08/01/1986      67     157   \n",
       "4    Henri Conroy            HR      2014   M  10/10/1988      90     185   \n",
       "9    Jane Burnett  Data Science      2012   F  11/10/1979      57     165   \n",
       "\n",
       "   Kids  \n",
       "0     2  \n",
       "2     0  \n",
       "3     1  \n",
       "4     1  \n",
       "9     1  "
      ]
     },
     "execution_count": 109,
     "metadata": {},
     "output_type": "execute_result"
    }
   ],
   "source": [
    "from datetime import date\n",
    "\n",
    "df[df['HireDate'].apply(lambda x: date.today().year - x >= 10)]"
   ]
  },
  {
   "cell_type": "markdown",
   "metadata": {},
   "source": [
    "<hr>"
   ]
  },
  {
   "cell_type": "markdown",
   "metadata": {},
   "source": [
    "#### Vectorization"
   ]
  },
  {
   "cell_type": "markdown",
   "metadata": {},
   "source": [
    "In this talk, Nathan Cheever, we will go over multiple ways to enhance a data transformation workflow with Pandas and Numpy by showing how to replace slower, perhaps more familiar, ways of operating on Pandas data frames "
   ]
  },
  {
   "cell_type": "code",
   "execution_count": null,
   "metadata": {},
   "outputs": [],
   "source": [
    "from IPython.display import HTML\n",
    "HTML('<div align=\"center\"><iframe width=\"560\" height=\"315\" src=\"https://www.youtube.com/embed/nxWginnBklU\" frameborder=\"0\" allow=\"autoplay; encrypted-media\" allowfullscreen></iframe></div>')"
   ]
  },
  {
   "cell_type": "markdown",
   "metadata": {},
   "source": [
    "When using Loops or `Apply` to perform calculations on a Pandas dataframe, the operation is applied sequentially. This causes repeated access to memory, calculations, and updated values which can be slow and resource-intensive. To sum up, the Pandas `apply()` function is slow! It does not take the advantage of vectorization and it acts as just another loop."
   ]
  },
  {
   "cell_type": "markdown",
   "metadata": {},
   "source": [
    "Vectorized operations, on the other hand, are implemented in Cython (Python in C or C++) and utilize the CPU's vector processing capabilities, which can perform multiple operations at once, further increasing performance by calculating multiple parameters at the same time. "
   ]
  },
  {
   "cell_type": "markdown",
   "metadata": {},
   "source": [
    "The reason why vectorization is so much faster than Looping/Iterating and Apply is that it doesn’t calculate the entire row every single time but instead applies the parameters to the entire dataset as a whole. Vectorization is a process where operations are applied to entire arrays of data at once, instead of operating on each element of the array individually. This allows for much more efficient use of memory and CPU resources."
   ]
  },
  {
   "cell_type": "markdown",
   "metadata": {},
   "source": [
    "Let's consider the following example which consists of 1M values."
   ]
  },
  {
   "cell_type": "code",
   "execution_count": 110,
   "metadata": {},
   "outputs": [],
   "source": [
    "A_list = np.random.randint(1, 100, 1000000)\n",
    "B_list = np.random.randint(1, 100, 1000000)\n",
    "df = pd.DataFrame({'x': A_list, 'y': B_list})"
   ]
  },
  {
   "cell_type": "code",
   "execution_count": 111,
   "metadata": {},
   "outputs": [
    {
     "data": {
      "text/html": [
       "<div>\n",
       "<style scoped>\n",
       "    .dataframe tbody tr th:only-of-type {\n",
       "        vertical-align: middle;\n",
       "    }\n",
       "\n",
       "    .dataframe tbody tr th {\n",
       "        vertical-align: top;\n",
       "    }\n",
       "\n",
       "    .dataframe thead th {\n",
       "        text-align: right;\n",
       "    }\n",
       "</style>\n",
       "<table border=\"1\" class=\"dataframe\">\n",
       "  <thead>\n",
       "    <tr style=\"text-align: right;\">\n",
       "      <th></th>\n",
       "      <th>x</th>\n",
       "      <th>y</th>\n",
       "    </tr>\n",
       "  </thead>\n",
       "  <tbody>\n",
       "    <tr>\n",
       "      <th>0</th>\n",
       "      <td>43</td>\n",
       "      <td>17</td>\n",
       "    </tr>\n",
       "    <tr>\n",
       "      <th>1</th>\n",
       "      <td>70</td>\n",
       "      <td>40</td>\n",
       "    </tr>\n",
       "    <tr>\n",
       "      <th>2</th>\n",
       "      <td>28</td>\n",
       "      <td>46</td>\n",
       "    </tr>\n",
       "    <tr>\n",
       "      <th>3</th>\n",
       "      <td>3</td>\n",
       "      <td>65</td>\n",
       "    </tr>\n",
       "    <tr>\n",
       "      <th>4</th>\n",
       "      <td>13</td>\n",
       "      <td>66</td>\n",
       "    </tr>\n",
       "    <tr>\n",
       "      <th>...</th>\n",
       "      <td>...</td>\n",
       "      <td>...</td>\n",
       "    </tr>\n",
       "    <tr>\n",
       "      <th>999995</th>\n",
       "      <td>79</td>\n",
       "      <td>6</td>\n",
       "    </tr>\n",
       "    <tr>\n",
       "      <th>999996</th>\n",
       "      <td>22</td>\n",
       "      <td>42</td>\n",
       "    </tr>\n",
       "    <tr>\n",
       "      <th>999997</th>\n",
       "      <td>23</td>\n",
       "      <td>16</td>\n",
       "    </tr>\n",
       "    <tr>\n",
       "      <th>999998</th>\n",
       "      <td>53</td>\n",
       "      <td>60</td>\n",
       "    </tr>\n",
       "    <tr>\n",
       "      <th>999999</th>\n",
       "      <td>67</td>\n",
       "      <td>70</td>\n",
       "    </tr>\n",
       "  </tbody>\n",
       "</table>\n",
       "<p>1000000 rows × 2 columns</p>\n",
       "</div>"
      ],
      "text/plain": [
       "         x   y\n",
       "0       43  17\n",
       "1       70  40\n",
       "2       28  46\n",
       "3        3  65\n",
       "4       13  66\n",
       "...     ..  ..\n",
       "999995  79   6\n",
       "999996  22  42\n",
       "999997  23  16\n",
       "999998  53  60\n",
       "999999  67  70\n",
       "\n",
       "[1000000 rows x 2 columns]"
      ]
     },
     "execution_count": 111,
     "metadata": {},
     "output_type": "execute_result"
    }
   ],
   "source": [
    "df"
   ]
  },
  {
   "cell_type": "markdown",
   "metadata": {},
   "source": [
    "We begin by running the code with the non-vectorized function `apply` which calls a Python function for every row with the code being called repeatedly."
   ]
  },
  {
   "cell_type": "code",
   "execution_count": 112,
   "metadata": {},
   "outputs": [
    {
     "name": "stdout",
     "output_type": "stream",
     "text": [
      "22.1 s ± 1.39 s per loop (mean ± std. dev. of 7 runs, 1 loop each)\n"
     ]
    }
   ],
   "source": [
    "# ... Non-vectorized operation:\n",
    "def calc_ratio(row):\n",
    "    return 100 * (row[\"x\"] + row[\"y\"])\n",
    "\n",
    "%timeit df[\"ratio1\"] = df.apply(calc_ratio, axis=1)"
   ]
  },
  {
   "cell_type": "markdown",
   "metadata": {},
   "source": [
    "##### Series"
   ]
  },
  {
   "cell_type": "markdown",
   "metadata": {},
   "source": [
    "Instead, we can resort to vectorized operations which can apply to entire DataFrames and Series. This includes mathematical operations, comparisons, and logic to create a boolean mask to select multiple rows from your dataset."
   ]
  },
  {
   "cell_type": "markdown",
   "metadata": {},
   "source": [
    "The vectorized `100 * (df[\"x\"] / df[\"y\"])` is much faster because it avoids using Python code in the inner loop"
   ]
  },
  {
   "cell_type": "code",
   "execution_count": 113,
   "metadata": {},
   "outputs": [
    {
     "name": "stdout",
     "output_type": "stream",
     "text": [
      "10.3 ms ± 1.2 ms per loop (mean ± std. dev. of 7 runs, 100 loops each)\n"
     ]
    }
   ],
   "source": [
    "#vectorized\n",
    "%timeit df[\"ratio2\"] = 100 * (df[\"x\"] + df[\"y\"])"
   ]
  },
  {
   "cell_type": "markdown",
   "metadata": {},
   "source": [
    "##### Numpy"
   ]
  },
  {
   "cell_type": "markdown",
   "metadata": {},
   "source": [
    "Put simply, vectorization allows numpy to perform a function once over an entire array rather than individually to each element within it."
   ]
  },
  {
   "cell_type": "markdown",
   "metadata": {},
   "source": [
    "###### Numpy Functions"
   ]
  },
  {
   "cell_type": "markdown",
   "metadata": {},
   "source": [
    "Use NumPy Functions that have implemented C like `add`"
   ]
  },
  {
   "cell_type": "code",
   "execution_count": 114,
   "metadata": {},
   "outputs": [
    {
     "name": "stdout",
     "output_type": "stream",
     "text": [
      "10.8 ms ± 1.17 ms per loop (mean ± std. dev. of 7 runs, 100 loops each)\n"
     ]
    }
   ],
   "source": [
    "import numpy as np\n",
    "%timeit df[\"ratio2\"] = 100 * np.add(df[\"x\"],df[\"y\"])"
   ]
  },
  {
   "cell_type": "markdown",
   "metadata": {},
   "source": [
    "###### numpy where"
   ]
  },
  {
   "cell_type": "markdown",
   "metadata": {},
   "source": [
    "Now let’s think about this a little bit more with the example of `numpy.where`, which I’ll be referring to moving forward as `np.where`. \n",
    "\n",
    "`np.where` uses the syntax: `np.where(condition, x, y)`. `Condition` is a boolean condition where, if `True`, we want to return `x`. If `False`, we want to return `y`."
   ]
  },
  {
   "cell_type": "markdown",
   "metadata": {},
   "source": [
    "The following is the traditional non-vectorized `apply` function:"
   ]
  },
  {
   "cell_type": "code",
   "execution_count": 115,
   "metadata": {},
   "outputs": [
    {
     "name": "stdout",
     "output_type": "stream",
     "text": [
      "240 ms ± 22.1 ms per loop (mean ± std. dev. of 7 runs, 1 loop each)\n"
     ]
    }
   ],
   "source": [
    "def odd(x):\n",
    "    if x%2 == 1:\n",
    "        return 1\n",
    "    else:\n",
    "        return 0\n",
    "    \n",
    "%timeit df['odd'] = df['x'].apply(lambda x: odd)"
   ]
  },
  {
   "cell_type": "markdown",
   "metadata": {},
   "source": [
    "Next we have a vectorized version, which used the `where` clause. Not only is faster but it also more readable."
   ]
  },
  {
   "cell_type": "code",
   "execution_count": 116,
   "metadata": {},
   "outputs": [
    {
     "name": "stdout",
     "output_type": "stream",
     "text": [
      "20.6 ms ± 3.58 ms per loop (mean ± std. dev. of 7 runs, 10 loops each)\n"
     ]
    }
   ],
   "source": [
    "import numpy as np\n",
    "%timeit df['odd'] = np.where(df['x']%2 == 1,1,0)"
   ]
  },
  {
   "cell_type": "markdown",
   "metadata": {},
   "source": [
    "### Normalization"
   ]
  },
  {
   "cell_type": "markdown",
   "metadata": {},
   "source": [
    "Em qualquer base dados, é comum que diferentes variáveis\n",
    "(atributos) estejam representadas em diferentes unidades de\n",
    "medidas. Por exemplo, os atributos `population`, `area` e `colours`, todos eles têm diferentes\n",
    "atributos numéricos presentes na base de dados flags."
   ]
  },
  {
   "cell_type": "markdown",
   "metadata": {},
   "source": [
    "- population : milhões de pessoas\n",
    "- area : milhares de quilómetros quadrados\n",
    "- colours : unidades"
   ]
  },
  {
   "cell_type": "code",
   "execution_count": 117,
   "metadata": {},
   "outputs": [
    {
     "data": {
      "text/html": [
       "<div>\n",
       "<style scoped>\n",
       "    .dataframe tbody tr th:only-of-type {\n",
       "        vertical-align: middle;\n",
       "    }\n",
       "\n",
       "    .dataframe tbody tr th {\n",
       "        vertical-align: top;\n",
       "    }\n",
       "\n",
       "    .dataframe thead th {\n",
       "        text-align: right;\n",
       "    }\n",
       "</style>\n",
       "<table border=\"1\" class=\"dataframe\">\n",
       "  <thead>\n",
       "    <tr style=\"text-align: right;\">\n",
       "      <th></th>\n",
       "      <th>population</th>\n",
       "      <th>area</th>\n",
       "      <th>colours</th>\n",
       "    </tr>\n",
       "  </thead>\n",
       "  <tbody>\n",
       "    <tr>\n",
       "      <th>0</th>\n",
       "      <td>16</td>\n",
       "      <td>648</td>\n",
       "      <td>5</td>\n",
       "    </tr>\n",
       "    <tr>\n",
       "      <th>1</th>\n",
       "      <td>3</td>\n",
       "      <td>29</td>\n",
       "      <td>3</td>\n",
       "    </tr>\n",
       "    <tr>\n",
       "      <th>2</th>\n",
       "      <td>20</td>\n",
       "      <td>2388</td>\n",
       "      <td>3</td>\n",
       "    </tr>\n",
       "    <tr>\n",
       "      <th>3</th>\n",
       "      <td>0</td>\n",
       "      <td>0</td>\n",
       "      <td>5</td>\n",
       "    </tr>\n",
       "    <tr>\n",
       "      <th>4</th>\n",
       "      <td>0</td>\n",
       "      <td>0</td>\n",
       "      <td>3</td>\n",
       "    </tr>\n",
       "  </tbody>\n",
       "</table>\n",
       "</div>"
      ],
      "text/plain": [
       "   population  area  colours\n",
       "0          16   648        5\n",
       "1           3    29        3\n",
       "2          20  2388        3\n",
       "3           0     0        5\n",
       "4           0     0        3"
      ]
     },
     "execution_count": 117,
     "metadata": {},
     "output_type": "execute_result"
    }
   ],
   "source": [
    "import pandas as pd\n",
    "df = pd.read_csv('data/flags.csv')\n",
    "df[['population','area','colours']].head()"
   ]
  },
  {
   "cell_type": "markdown",
   "metadata": {},
   "source": [
    "No entanto, diversos algoritmos de ciência de dados\n",
    "(especialmente algoritmos para cálculo de similaridade ou\n",
    "distância entre objetos, como é o caso do k-nearest neighbors (k-NN)) requerem que todos os atributos\n",
    "numéricos estejam na mesma escala para que possam funcionar\n",
    "corretamente, ou seja, que estes atributos estejam normalizados\n",
    "dentro de uma faixa de valores comum como [0.0, 1.0] ou\n",
    "[-1, 1] . Isto deve ser feito para assegurar que os números\n",
    "grandes não \"dominem\" os números pequenos durante a análise."
   ]
  },
  {
   "cell_type": "markdown",
   "metadata": {},
   "source": [
    "Considere, por exemplo, um DataFrame contendo dois\n",
    "atributos X e Y , onde a unidade de medida de X é milhas\n",
    "náuticas e a de Y centímetros. Neste caso, uma diferença de 1\n",
    "unidade em X é equivalente a 160.964 unidades em Y ! Ao\n",
    "aplicar uma fórmula para medir a distância entre os objetos do\n",
    "DataFrame, o valor de Y acabaria sendo o único a contribuir no\n",
    "valor computado."
   ]
  },
  {
   "cell_type": "markdown",
   "metadata": {},
   "source": [
    "#### MinMaxScaler"
   ]
  },
  {
   "cell_type": "markdown",
   "metadata": {},
   "source": [
    "Existem diversas fórmulas que podem ser utilizadas para\n",
    "mapear todos os valores de um atributo para a faixa [0.0, 1.0] . Uma das mais simples é apresentada a seguir. Ela pode ser\n",
    "utilizada sobre qualquer atributo que armazene valores contínuos\n",
    "positivos. A fórmula apresentada\n",
    "retornará o valor normalizado de x , isto é o valor convertido para\n",
    "um número localizado entre 0 e 1."
   ]
  },
  {
   "cell_type": "markdown",
   "metadata": {},
   "source": [
    "`valor_normalizado = (x-min(X))/(max(X)-min(X))`"
   ]
  },
  {
   "cell_type": "markdown",
   "metadata": {},
   "source": [
    "Por exemplo, para um dataset onde os valores mínimo são o -10 e o máximo é 30, o valor 18.8 seria normalizado da seguinte forma:\n",
    "\n",
    "    y = (x – min) / (max – min)\n",
    "    y = (18.8 – (-10)) / (30 – (-10))\n",
    "    y = 28.8 / 40\n",
    "    y = 0.72"
   ]
  },
  {
   "cell_type": "markdown",
   "metadata": {},
   "source": [
    "No exemplo a seguir, mostra-se uma aplicação prática da fórmula: ela é empregada para computar o valor normalizado do atributo `area` para todos os países presentes no dataframe."
   ]
  },
  {
   "cell_type": "code",
   "execution_count": 118,
   "metadata": {},
   "outputs": [
    {
     "data": {
      "text/html": [
       "<div>\n",
       "<style scoped>\n",
       "    .dataframe tbody tr th:only-of-type {\n",
       "        vertical-align: middle;\n",
       "    }\n",
       "\n",
       "    .dataframe tbody tr th {\n",
       "        vertical-align: top;\n",
       "    }\n",
       "\n",
       "    .dataframe thead th {\n",
       "        text-align: right;\n",
       "    }\n",
       "</style>\n",
       "<table border=\"1\" class=\"dataframe\">\n",
       "  <thead>\n",
       "    <tr style=\"text-align: right;\">\n",
       "      <th></th>\n",
       "      <th>name</th>\n",
       "      <th>landmass</th>\n",
       "      <th>zone</th>\n",
       "      <th>area</th>\n",
       "      <th>population</th>\n",
       "      <th>language</th>\n",
       "      <th>religion</th>\n",
       "      <th>bars</th>\n",
       "      <th>stripes</th>\n",
       "      <th>colours</th>\n",
       "      <th>red</th>\n",
       "      <th>green</th>\n",
       "      <th>blue</th>\n",
       "      <th>gold</th>\n",
       "      <th>white</th>\n",
       "      <th>black</th>\n",
       "      <th>orange</th>\n",
       "      <th>mainhue</th>\n",
       "      <th>circles</th>\n",
       "      <th>crosses</th>\n",
       "      <th>saltires</th>\n",
       "      <th>quarters</th>\n",
       "      <th>sunstars</th>\n",
       "      <th>crescent</th>\n",
       "      <th>triangle</th>\n",
       "      <th>icon</th>\n",
       "      <th>animate</th>\n",
       "      <th>text</th>\n",
       "      <th>topleft</th>\n",
       "      <th>botright</th>\n",
       "      <th>area_norm</th>\n",
       "    </tr>\n",
       "  </thead>\n",
       "  <tbody>\n",
       "    <tr>\n",
       "      <th>0</th>\n",
       "      <td>Afghanistan</td>\n",
       "      <td>5</td>\n",
       "      <td>1</td>\n",
       "      <td>648</td>\n",
       "      <td>16</td>\n",
       "      <td>10</td>\n",
       "      <td>2</td>\n",
       "      <td>0</td>\n",
       "      <td>3</td>\n",
       "      <td>5</td>\n",
       "      <td>1</td>\n",
       "      <td>1</td>\n",
       "      <td>0</td>\n",
       "      <td>1</td>\n",
       "      <td>1</td>\n",
       "      <td>1</td>\n",
       "      <td>0</td>\n",
       "      <td>green</td>\n",
       "      <td>0</td>\n",
       "      <td>0</td>\n",
       "      <td>0</td>\n",
       "      <td>0</td>\n",
       "      <td>1</td>\n",
       "      <td>0</td>\n",
       "      <td>0</td>\n",
       "      <td>1</td>\n",
       "      <td>0</td>\n",
       "      <td>0</td>\n",
       "      <td>black</td>\n",
       "      <td>green</td>\n",
       "      <td>0.028926</td>\n",
       "    </tr>\n",
       "    <tr>\n",
       "      <th>1</th>\n",
       "      <td>Albania</td>\n",
       "      <td>3</td>\n",
       "      <td>1</td>\n",
       "      <td>29</td>\n",
       "      <td>3</td>\n",
       "      <td>6</td>\n",
       "      <td>6</td>\n",
       "      <td>0</td>\n",
       "      <td>0</td>\n",
       "      <td>3</td>\n",
       "      <td>1</td>\n",
       "      <td>0</td>\n",
       "      <td>0</td>\n",
       "      <td>1</td>\n",
       "      <td>0</td>\n",
       "      <td>1</td>\n",
       "      <td>0</td>\n",
       "      <td>red</td>\n",
       "      <td>0</td>\n",
       "      <td>0</td>\n",
       "      <td>0</td>\n",
       "      <td>0</td>\n",
       "      <td>1</td>\n",
       "      <td>0</td>\n",
       "      <td>0</td>\n",
       "      <td>0</td>\n",
       "      <td>1</td>\n",
       "      <td>0</td>\n",
       "      <td>red</td>\n",
       "      <td>red</td>\n",
       "      <td>0.001295</td>\n",
       "    </tr>\n",
       "    <tr>\n",
       "      <th>2</th>\n",
       "      <td>Algeria</td>\n",
       "      <td>4</td>\n",
       "      <td>1</td>\n",
       "      <td>2388</td>\n",
       "      <td>20</td>\n",
       "      <td>8</td>\n",
       "      <td>2</td>\n",
       "      <td>2</td>\n",
       "      <td>0</td>\n",
       "      <td>3</td>\n",
       "      <td>1</td>\n",
       "      <td>1</td>\n",
       "      <td>0</td>\n",
       "      <td>0</td>\n",
       "      <td>1</td>\n",
       "      <td>0</td>\n",
       "      <td>0</td>\n",
       "      <td>green</td>\n",
       "      <td>0</td>\n",
       "      <td>0</td>\n",
       "      <td>0</td>\n",
       "      <td>0</td>\n",
       "      <td>1</td>\n",
       "      <td>1</td>\n",
       "      <td>0</td>\n",
       "      <td>0</td>\n",
       "      <td>0</td>\n",
       "      <td>0</td>\n",
       "      <td>green</td>\n",
       "      <td>white</td>\n",
       "      <td>0.106598</td>\n",
       "    </tr>\n",
       "    <tr>\n",
       "      <th>3</th>\n",
       "      <td>American-Samoa</td>\n",
       "      <td>6</td>\n",
       "      <td>3</td>\n",
       "      <td>0</td>\n",
       "      <td>0</td>\n",
       "      <td>1</td>\n",
       "      <td>1</td>\n",
       "      <td>0</td>\n",
       "      <td>0</td>\n",
       "      <td>5</td>\n",
       "      <td>1</td>\n",
       "      <td>0</td>\n",
       "      <td>1</td>\n",
       "      <td>1</td>\n",
       "      <td>1</td>\n",
       "      <td>0</td>\n",
       "      <td>1</td>\n",
       "      <td>blue</td>\n",
       "      <td>0</td>\n",
       "      <td>0</td>\n",
       "      <td>0</td>\n",
       "      <td>0</td>\n",
       "      <td>0</td>\n",
       "      <td>0</td>\n",
       "      <td>1</td>\n",
       "      <td>1</td>\n",
       "      <td>1</td>\n",
       "      <td>0</td>\n",
       "      <td>blue</td>\n",
       "      <td>red</td>\n",
       "      <td>0.000000</td>\n",
       "    </tr>\n",
       "    <tr>\n",
       "      <th>4</th>\n",
       "      <td>Andorra</td>\n",
       "      <td>3</td>\n",
       "      <td>1</td>\n",
       "      <td>0</td>\n",
       "      <td>0</td>\n",
       "      <td>6</td>\n",
       "      <td>0</td>\n",
       "      <td>3</td>\n",
       "      <td>0</td>\n",
       "      <td>3</td>\n",
       "      <td>1</td>\n",
       "      <td>0</td>\n",
       "      <td>1</td>\n",
       "      <td>1</td>\n",
       "      <td>0</td>\n",
       "      <td>0</td>\n",
       "      <td>0</td>\n",
       "      <td>gold</td>\n",
       "      <td>0</td>\n",
       "      <td>0</td>\n",
       "      <td>0</td>\n",
       "      <td>0</td>\n",
       "      <td>0</td>\n",
       "      <td>0</td>\n",
       "      <td>0</td>\n",
       "      <td>0</td>\n",
       "      <td>0</td>\n",
       "      <td>0</td>\n",
       "      <td>blue</td>\n",
       "      <td>red</td>\n",
       "      <td>0.000000</td>\n",
       "    </tr>\n",
       "    <tr>\n",
       "      <th>...</th>\n",
       "      <td>...</td>\n",
       "      <td>...</td>\n",
       "      <td>...</td>\n",
       "      <td>...</td>\n",
       "      <td>...</td>\n",
       "      <td>...</td>\n",
       "      <td>...</td>\n",
       "      <td>...</td>\n",
       "      <td>...</td>\n",
       "      <td>...</td>\n",
       "      <td>...</td>\n",
       "      <td>...</td>\n",
       "      <td>...</td>\n",
       "      <td>...</td>\n",
       "      <td>...</td>\n",
       "      <td>...</td>\n",
       "      <td>...</td>\n",
       "      <td>...</td>\n",
       "      <td>...</td>\n",
       "      <td>...</td>\n",
       "      <td>...</td>\n",
       "      <td>...</td>\n",
       "      <td>...</td>\n",
       "      <td>...</td>\n",
       "      <td>...</td>\n",
       "      <td>...</td>\n",
       "      <td>...</td>\n",
       "      <td>...</td>\n",
       "      <td>...</td>\n",
       "      <td>...</td>\n",
       "      <td>...</td>\n",
       "    </tr>\n",
       "    <tr>\n",
       "      <th>189</th>\n",
       "      <td>Western-Samoa</td>\n",
       "      <td>6</td>\n",
       "      <td>3</td>\n",
       "      <td>3</td>\n",
       "      <td>0</td>\n",
       "      <td>1</td>\n",
       "      <td>1</td>\n",
       "      <td>0</td>\n",
       "      <td>0</td>\n",
       "      <td>3</td>\n",
       "      <td>1</td>\n",
       "      <td>0</td>\n",
       "      <td>1</td>\n",
       "      <td>0</td>\n",
       "      <td>1</td>\n",
       "      <td>0</td>\n",
       "      <td>0</td>\n",
       "      <td>red</td>\n",
       "      <td>0</td>\n",
       "      <td>0</td>\n",
       "      <td>0</td>\n",
       "      <td>1</td>\n",
       "      <td>5</td>\n",
       "      <td>0</td>\n",
       "      <td>0</td>\n",
       "      <td>0</td>\n",
       "      <td>0</td>\n",
       "      <td>0</td>\n",
       "      <td>blue</td>\n",
       "      <td>red</td>\n",
       "      <td>0.000134</td>\n",
       "    </tr>\n",
       "    <tr>\n",
       "      <th>190</th>\n",
       "      <td>Yugoslavia</td>\n",
       "      <td>3</td>\n",
       "      <td>1</td>\n",
       "      <td>256</td>\n",
       "      <td>22</td>\n",
       "      <td>6</td>\n",
       "      <td>6</td>\n",
       "      <td>0</td>\n",
       "      <td>3</td>\n",
       "      <td>4</td>\n",
       "      <td>1</td>\n",
       "      <td>0</td>\n",
       "      <td>1</td>\n",
       "      <td>1</td>\n",
       "      <td>1</td>\n",
       "      <td>0</td>\n",
       "      <td>0</td>\n",
       "      <td>red</td>\n",
       "      <td>0</td>\n",
       "      <td>0</td>\n",
       "      <td>0</td>\n",
       "      <td>0</td>\n",
       "      <td>1</td>\n",
       "      <td>0</td>\n",
       "      <td>0</td>\n",
       "      <td>0</td>\n",
       "      <td>0</td>\n",
       "      <td>0</td>\n",
       "      <td>blue</td>\n",
       "      <td>red</td>\n",
       "      <td>0.011428</td>\n",
       "    </tr>\n",
       "    <tr>\n",
       "      <th>191</th>\n",
       "      <td>Zaire</td>\n",
       "      <td>4</td>\n",
       "      <td>2</td>\n",
       "      <td>905</td>\n",
       "      <td>28</td>\n",
       "      <td>10</td>\n",
       "      <td>5</td>\n",
       "      <td>0</td>\n",
       "      <td>0</td>\n",
       "      <td>4</td>\n",
       "      <td>1</td>\n",
       "      <td>1</td>\n",
       "      <td>0</td>\n",
       "      <td>1</td>\n",
       "      <td>0</td>\n",
       "      <td>0</td>\n",
       "      <td>1</td>\n",
       "      <td>green</td>\n",
       "      <td>1</td>\n",
       "      <td>0</td>\n",
       "      <td>0</td>\n",
       "      <td>0</td>\n",
       "      <td>0</td>\n",
       "      <td>0</td>\n",
       "      <td>0</td>\n",
       "      <td>1</td>\n",
       "      <td>1</td>\n",
       "      <td>0</td>\n",
       "      <td>green</td>\n",
       "      <td>green</td>\n",
       "      <td>0.040398</td>\n",
       "    </tr>\n",
       "    <tr>\n",
       "      <th>192</th>\n",
       "      <td>Zambia</td>\n",
       "      <td>4</td>\n",
       "      <td>2</td>\n",
       "      <td>753</td>\n",
       "      <td>6</td>\n",
       "      <td>10</td>\n",
       "      <td>5</td>\n",
       "      <td>3</td>\n",
       "      <td>0</td>\n",
       "      <td>4</td>\n",
       "      <td>1</td>\n",
       "      <td>1</td>\n",
       "      <td>0</td>\n",
       "      <td>0</td>\n",
       "      <td>0</td>\n",
       "      <td>1</td>\n",
       "      <td>1</td>\n",
       "      <td>green</td>\n",
       "      <td>0</td>\n",
       "      <td>0</td>\n",
       "      <td>0</td>\n",
       "      <td>0</td>\n",
       "      <td>0</td>\n",
       "      <td>0</td>\n",
       "      <td>0</td>\n",
       "      <td>0</td>\n",
       "      <td>1</td>\n",
       "      <td>0</td>\n",
       "      <td>green</td>\n",
       "      <td>brown</td>\n",
       "      <td>0.033613</td>\n",
       "    </tr>\n",
       "    <tr>\n",
       "      <th>193</th>\n",
       "      <td>Zimbabwe</td>\n",
       "      <td>4</td>\n",
       "      <td>2</td>\n",
       "      <td>391</td>\n",
       "      <td>8</td>\n",
       "      <td>10</td>\n",
       "      <td>5</td>\n",
       "      <td>0</td>\n",
       "      <td>7</td>\n",
       "      <td>5</td>\n",
       "      <td>1</td>\n",
       "      <td>1</td>\n",
       "      <td>0</td>\n",
       "      <td>1</td>\n",
       "      <td>1</td>\n",
       "      <td>1</td>\n",
       "      <td>0</td>\n",
       "      <td>green</td>\n",
       "      <td>0</td>\n",
       "      <td>0</td>\n",
       "      <td>0</td>\n",
       "      <td>0</td>\n",
       "      <td>1</td>\n",
       "      <td>0</td>\n",
       "      <td>1</td>\n",
       "      <td>1</td>\n",
       "      <td>1</td>\n",
       "      <td>0</td>\n",
       "      <td>green</td>\n",
       "      <td>green</td>\n",
       "      <td>0.017454</td>\n",
       "    </tr>\n",
       "  </tbody>\n",
       "</table>\n",
       "<p>194 rows × 31 columns</p>\n",
       "</div>"
      ],
      "text/plain": [
       "               name  landmass  zone  area  population  language  religion  \\\n",
       "0       Afghanistan         5     1   648          16        10         2   \n",
       "1           Albania         3     1    29           3         6         6   \n",
       "2           Algeria         4     1  2388          20         8         2   \n",
       "3    American-Samoa         6     3     0           0         1         1   \n",
       "4           Andorra         3     1     0           0         6         0   \n",
       "..              ...       ...   ...   ...         ...       ...       ...   \n",
       "189   Western-Samoa         6     3     3           0         1         1   \n",
       "190      Yugoslavia         3     1   256          22         6         6   \n",
       "191           Zaire         4     2   905          28        10         5   \n",
       "192          Zambia         4     2   753           6        10         5   \n",
       "193        Zimbabwe         4     2   391           8        10         5   \n",
       "\n",
       "     bars  stripes  colours  red  green  blue  gold  white  black  orange  \\\n",
       "0       0        3        5    1      1     0     1      1      1       0   \n",
       "1       0        0        3    1      0     0     1      0      1       0   \n",
       "2       2        0        3    1      1     0     0      1      0       0   \n",
       "3       0        0        5    1      0     1     1      1      0       1   \n",
       "4       3        0        3    1      0     1     1      0      0       0   \n",
       "..    ...      ...      ...  ...    ...   ...   ...    ...    ...     ...   \n",
       "189     0        0        3    1      0     1     0      1      0       0   \n",
       "190     0        3        4    1      0     1     1      1      0       0   \n",
       "191     0        0        4    1      1     0     1      0      0       1   \n",
       "192     3        0        4    1      1     0     0      0      1       1   \n",
       "193     0        7        5    1      1     0     1      1      1       0   \n",
       "\n",
       "    mainhue  circles  crosses  saltires  quarters  sunstars  crescent  \\\n",
       "0     green        0        0         0         0         1         0   \n",
       "1       red        0        0         0         0         1         0   \n",
       "2     green        0        0         0         0         1         1   \n",
       "3      blue        0        0         0         0         0         0   \n",
       "4      gold        0        0         0         0         0         0   \n",
       "..      ...      ...      ...       ...       ...       ...       ...   \n",
       "189     red        0        0         0         1         5         0   \n",
       "190     red        0        0         0         0         1         0   \n",
       "191   green        1        0         0         0         0         0   \n",
       "192   green        0        0         0         0         0         0   \n",
       "193   green        0        0         0         0         1         0   \n",
       "\n",
       "     triangle  icon  animate  text topleft botright  area_norm  \n",
       "0           0     1        0     0   black    green   0.028926  \n",
       "1           0     0        1     0     red      red   0.001295  \n",
       "2           0     0        0     0   green    white   0.106598  \n",
       "3           1     1        1     0    blue      red   0.000000  \n",
       "4           0     0        0     0    blue      red   0.000000  \n",
       "..        ...   ...      ...   ...     ...      ...        ...  \n",
       "189         0     0        0     0    blue      red   0.000134  \n",
       "190         0     0        0     0    blue      red   0.011428  \n",
       "191         0     1        1     0   green    green   0.040398  \n",
       "192         0     0        1     0   green    brown   0.033613  \n",
       "193         1     1        1     0   green    green   0.017454  \n",
       "\n",
       "[194 rows x 31 columns]"
      ]
     },
     "execution_count": 118,
     "metadata": {},
     "output_type": "execute_result"
    }
   ],
   "source": [
    "area_max = max(df['area'])\n",
    "area_min = min(df['area'])\n",
    "df['area_norm'] = (df['area'] - area_min) / (area_max - area_min)\n",
    "df"
   ]
  },
  {
   "cell_type": "markdown",
   "metadata": {},
   "source": [
    "Uma alternativa ao código anterior passaria por definir a função `norm` e recorrer à função Apply."
   ]
  },
  {
   "cell_type": "code",
   "execution_count": 119,
   "metadata": {},
   "outputs": [
    {
     "data": {
      "text/html": [
       "<div>\n",
       "<style scoped>\n",
       "    .dataframe tbody tr th:only-of-type {\n",
       "        vertical-align: middle;\n",
       "    }\n",
       "\n",
       "    .dataframe tbody tr th {\n",
       "        vertical-align: top;\n",
       "    }\n",
       "\n",
       "    .dataframe thead th {\n",
       "        text-align: right;\n",
       "    }\n",
       "</style>\n",
       "<table border=\"1\" class=\"dataframe\">\n",
       "  <thead>\n",
       "    <tr style=\"text-align: right;\">\n",
       "      <th></th>\n",
       "      <th>name</th>\n",
       "      <th>landmass</th>\n",
       "      <th>zone</th>\n",
       "      <th>area</th>\n",
       "      <th>population</th>\n",
       "      <th>language</th>\n",
       "      <th>religion</th>\n",
       "      <th>bars</th>\n",
       "      <th>stripes</th>\n",
       "      <th>colours</th>\n",
       "      <th>red</th>\n",
       "      <th>green</th>\n",
       "      <th>blue</th>\n",
       "      <th>gold</th>\n",
       "      <th>white</th>\n",
       "      <th>black</th>\n",
       "      <th>orange</th>\n",
       "      <th>mainhue</th>\n",
       "      <th>circles</th>\n",
       "      <th>crosses</th>\n",
       "      <th>saltires</th>\n",
       "      <th>quarters</th>\n",
       "      <th>sunstars</th>\n",
       "      <th>crescent</th>\n",
       "      <th>triangle</th>\n",
       "      <th>icon</th>\n",
       "      <th>animate</th>\n",
       "      <th>text</th>\n",
       "      <th>topleft</th>\n",
       "      <th>botright</th>\n",
       "      <th>area_norm</th>\n",
       "    </tr>\n",
       "  </thead>\n",
       "  <tbody>\n",
       "    <tr>\n",
       "      <th>0</th>\n",
       "      <td>Afghanistan</td>\n",
       "      <td>5</td>\n",
       "      <td>1</td>\n",
       "      <td>648</td>\n",
       "      <td>16</td>\n",
       "      <td>10</td>\n",
       "      <td>2</td>\n",
       "      <td>0</td>\n",
       "      <td>3</td>\n",
       "      <td>5</td>\n",
       "      <td>1</td>\n",
       "      <td>1</td>\n",
       "      <td>0</td>\n",
       "      <td>1</td>\n",
       "      <td>1</td>\n",
       "      <td>1</td>\n",
       "      <td>0</td>\n",
       "      <td>green</td>\n",
       "      <td>0</td>\n",
       "      <td>0</td>\n",
       "      <td>0</td>\n",
       "      <td>0</td>\n",
       "      <td>1</td>\n",
       "      <td>0</td>\n",
       "      <td>0</td>\n",
       "      <td>1</td>\n",
       "      <td>0</td>\n",
       "      <td>0</td>\n",
       "      <td>black</td>\n",
       "      <td>green</td>\n",
       "      <td>0.028926</td>\n",
       "    </tr>\n",
       "    <tr>\n",
       "      <th>1</th>\n",
       "      <td>Albania</td>\n",
       "      <td>3</td>\n",
       "      <td>1</td>\n",
       "      <td>29</td>\n",
       "      <td>3</td>\n",
       "      <td>6</td>\n",
       "      <td>6</td>\n",
       "      <td>0</td>\n",
       "      <td>0</td>\n",
       "      <td>3</td>\n",
       "      <td>1</td>\n",
       "      <td>0</td>\n",
       "      <td>0</td>\n",
       "      <td>1</td>\n",
       "      <td>0</td>\n",
       "      <td>1</td>\n",
       "      <td>0</td>\n",
       "      <td>red</td>\n",
       "      <td>0</td>\n",
       "      <td>0</td>\n",
       "      <td>0</td>\n",
       "      <td>0</td>\n",
       "      <td>1</td>\n",
       "      <td>0</td>\n",
       "      <td>0</td>\n",
       "      <td>0</td>\n",
       "      <td>1</td>\n",
       "      <td>0</td>\n",
       "      <td>red</td>\n",
       "      <td>red</td>\n",
       "      <td>0.001295</td>\n",
       "    </tr>\n",
       "    <tr>\n",
       "      <th>2</th>\n",
       "      <td>Algeria</td>\n",
       "      <td>4</td>\n",
       "      <td>1</td>\n",
       "      <td>2388</td>\n",
       "      <td>20</td>\n",
       "      <td>8</td>\n",
       "      <td>2</td>\n",
       "      <td>2</td>\n",
       "      <td>0</td>\n",
       "      <td>3</td>\n",
       "      <td>1</td>\n",
       "      <td>1</td>\n",
       "      <td>0</td>\n",
       "      <td>0</td>\n",
       "      <td>1</td>\n",
       "      <td>0</td>\n",
       "      <td>0</td>\n",
       "      <td>green</td>\n",
       "      <td>0</td>\n",
       "      <td>0</td>\n",
       "      <td>0</td>\n",
       "      <td>0</td>\n",
       "      <td>1</td>\n",
       "      <td>1</td>\n",
       "      <td>0</td>\n",
       "      <td>0</td>\n",
       "      <td>0</td>\n",
       "      <td>0</td>\n",
       "      <td>green</td>\n",
       "      <td>white</td>\n",
       "      <td>0.106598</td>\n",
       "    </tr>\n",
       "    <tr>\n",
       "      <th>3</th>\n",
       "      <td>American-Samoa</td>\n",
       "      <td>6</td>\n",
       "      <td>3</td>\n",
       "      <td>0</td>\n",
       "      <td>0</td>\n",
       "      <td>1</td>\n",
       "      <td>1</td>\n",
       "      <td>0</td>\n",
       "      <td>0</td>\n",
       "      <td>5</td>\n",
       "      <td>1</td>\n",
       "      <td>0</td>\n",
       "      <td>1</td>\n",
       "      <td>1</td>\n",
       "      <td>1</td>\n",
       "      <td>0</td>\n",
       "      <td>1</td>\n",
       "      <td>blue</td>\n",
       "      <td>0</td>\n",
       "      <td>0</td>\n",
       "      <td>0</td>\n",
       "      <td>0</td>\n",
       "      <td>0</td>\n",
       "      <td>0</td>\n",
       "      <td>1</td>\n",
       "      <td>1</td>\n",
       "      <td>1</td>\n",
       "      <td>0</td>\n",
       "      <td>blue</td>\n",
       "      <td>red</td>\n",
       "      <td>0.000000</td>\n",
       "    </tr>\n",
       "    <tr>\n",
       "      <th>4</th>\n",
       "      <td>Andorra</td>\n",
       "      <td>3</td>\n",
       "      <td>1</td>\n",
       "      <td>0</td>\n",
       "      <td>0</td>\n",
       "      <td>6</td>\n",
       "      <td>0</td>\n",
       "      <td>3</td>\n",
       "      <td>0</td>\n",
       "      <td>3</td>\n",
       "      <td>1</td>\n",
       "      <td>0</td>\n",
       "      <td>1</td>\n",
       "      <td>1</td>\n",
       "      <td>0</td>\n",
       "      <td>0</td>\n",
       "      <td>0</td>\n",
       "      <td>gold</td>\n",
       "      <td>0</td>\n",
       "      <td>0</td>\n",
       "      <td>0</td>\n",
       "      <td>0</td>\n",
       "      <td>0</td>\n",
       "      <td>0</td>\n",
       "      <td>0</td>\n",
       "      <td>0</td>\n",
       "      <td>0</td>\n",
       "      <td>0</td>\n",
       "      <td>blue</td>\n",
       "      <td>red</td>\n",
       "      <td>0.000000</td>\n",
       "    </tr>\n",
       "    <tr>\n",
       "      <th>...</th>\n",
       "      <td>...</td>\n",
       "      <td>...</td>\n",
       "      <td>...</td>\n",
       "      <td>...</td>\n",
       "      <td>...</td>\n",
       "      <td>...</td>\n",
       "      <td>...</td>\n",
       "      <td>...</td>\n",
       "      <td>...</td>\n",
       "      <td>...</td>\n",
       "      <td>...</td>\n",
       "      <td>...</td>\n",
       "      <td>...</td>\n",
       "      <td>...</td>\n",
       "      <td>...</td>\n",
       "      <td>...</td>\n",
       "      <td>...</td>\n",
       "      <td>...</td>\n",
       "      <td>...</td>\n",
       "      <td>...</td>\n",
       "      <td>...</td>\n",
       "      <td>...</td>\n",
       "      <td>...</td>\n",
       "      <td>...</td>\n",
       "      <td>...</td>\n",
       "      <td>...</td>\n",
       "      <td>...</td>\n",
       "      <td>...</td>\n",
       "      <td>...</td>\n",
       "      <td>...</td>\n",
       "      <td>...</td>\n",
       "    </tr>\n",
       "    <tr>\n",
       "      <th>189</th>\n",
       "      <td>Western-Samoa</td>\n",
       "      <td>6</td>\n",
       "      <td>3</td>\n",
       "      <td>3</td>\n",
       "      <td>0</td>\n",
       "      <td>1</td>\n",
       "      <td>1</td>\n",
       "      <td>0</td>\n",
       "      <td>0</td>\n",
       "      <td>3</td>\n",
       "      <td>1</td>\n",
       "      <td>0</td>\n",
       "      <td>1</td>\n",
       "      <td>0</td>\n",
       "      <td>1</td>\n",
       "      <td>0</td>\n",
       "      <td>0</td>\n",
       "      <td>red</td>\n",
       "      <td>0</td>\n",
       "      <td>0</td>\n",
       "      <td>0</td>\n",
       "      <td>1</td>\n",
       "      <td>5</td>\n",
       "      <td>0</td>\n",
       "      <td>0</td>\n",
       "      <td>0</td>\n",
       "      <td>0</td>\n",
       "      <td>0</td>\n",
       "      <td>blue</td>\n",
       "      <td>red</td>\n",
       "      <td>0.000134</td>\n",
       "    </tr>\n",
       "    <tr>\n",
       "      <th>190</th>\n",
       "      <td>Yugoslavia</td>\n",
       "      <td>3</td>\n",
       "      <td>1</td>\n",
       "      <td>256</td>\n",
       "      <td>22</td>\n",
       "      <td>6</td>\n",
       "      <td>6</td>\n",
       "      <td>0</td>\n",
       "      <td>3</td>\n",
       "      <td>4</td>\n",
       "      <td>1</td>\n",
       "      <td>0</td>\n",
       "      <td>1</td>\n",
       "      <td>1</td>\n",
       "      <td>1</td>\n",
       "      <td>0</td>\n",
       "      <td>0</td>\n",
       "      <td>red</td>\n",
       "      <td>0</td>\n",
       "      <td>0</td>\n",
       "      <td>0</td>\n",
       "      <td>0</td>\n",
       "      <td>1</td>\n",
       "      <td>0</td>\n",
       "      <td>0</td>\n",
       "      <td>0</td>\n",
       "      <td>0</td>\n",
       "      <td>0</td>\n",
       "      <td>blue</td>\n",
       "      <td>red</td>\n",
       "      <td>0.011428</td>\n",
       "    </tr>\n",
       "    <tr>\n",
       "      <th>191</th>\n",
       "      <td>Zaire</td>\n",
       "      <td>4</td>\n",
       "      <td>2</td>\n",
       "      <td>905</td>\n",
       "      <td>28</td>\n",
       "      <td>10</td>\n",
       "      <td>5</td>\n",
       "      <td>0</td>\n",
       "      <td>0</td>\n",
       "      <td>4</td>\n",
       "      <td>1</td>\n",
       "      <td>1</td>\n",
       "      <td>0</td>\n",
       "      <td>1</td>\n",
       "      <td>0</td>\n",
       "      <td>0</td>\n",
       "      <td>1</td>\n",
       "      <td>green</td>\n",
       "      <td>1</td>\n",
       "      <td>0</td>\n",
       "      <td>0</td>\n",
       "      <td>0</td>\n",
       "      <td>0</td>\n",
       "      <td>0</td>\n",
       "      <td>0</td>\n",
       "      <td>1</td>\n",
       "      <td>1</td>\n",
       "      <td>0</td>\n",
       "      <td>green</td>\n",
       "      <td>green</td>\n",
       "      <td>0.040398</td>\n",
       "    </tr>\n",
       "    <tr>\n",
       "      <th>192</th>\n",
       "      <td>Zambia</td>\n",
       "      <td>4</td>\n",
       "      <td>2</td>\n",
       "      <td>753</td>\n",
       "      <td>6</td>\n",
       "      <td>10</td>\n",
       "      <td>5</td>\n",
       "      <td>3</td>\n",
       "      <td>0</td>\n",
       "      <td>4</td>\n",
       "      <td>1</td>\n",
       "      <td>1</td>\n",
       "      <td>0</td>\n",
       "      <td>0</td>\n",
       "      <td>0</td>\n",
       "      <td>1</td>\n",
       "      <td>1</td>\n",
       "      <td>green</td>\n",
       "      <td>0</td>\n",
       "      <td>0</td>\n",
       "      <td>0</td>\n",
       "      <td>0</td>\n",
       "      <td>0</td>\n",
       "      <td>0</td>\n",
       "      <td>0</td>\n",
       "      <td>0</td>\n",
       "      <td>1</td>\n",
       "      <td>0</td>\n",
       "      <td>green</td>\n",
       "      <td>brown</td>\n",
       "      <td>0.033613</td>\n",
       "    </tr>\n",
       "    <tr>\n",
       "      <th>193</th>\n",
       "      <td>Zimbabwe</td>\n",
       "      <td>4</td>\n",
       "      <td>2</td>\n",
       "      <td>391</td>\n",
       "      <td>8</td>\n",
       "      <td>10</td>\n",
       "      <td>5</td>\n",
       "      <td>0</td>\n",
       "      <td>7</td>\n",
       "      <td>5</td>\n",
       "      <td>1</td>\n",
       "      <td>1</td>\n",
       "      <td>0</td>\n",
       "      <td>1</td>\n",
       "      <td>1</td>\n",
       "      <td>1</td>\n",
       "      <td>0</td>\n",
       "      <td>green</td>\n",
       "      <td>0</td>\n",
       "      <td>0</td>\n",
       "      <td>0</td>\n",
       "      <td>0</td>\n",
       "      <td>1</td>\n",
       "      <td>0</td>\n",
       "      <td>1</td>\n",
       "      <td>1</td>\n",
       "      <td>1</td>\n",
       "      <td>0</td>\n",
       "      <td>green</td>\n",
       "      <td>green</td>\n",
       "      <td>0.017454</td>\n",
       "    </tr>\n",
       "  </tbody>\n",
       "</table>\n",
       "<p>194 rows × 31 columns</p>\n",
       "</div>"
      ],
      "text/plain": [
       "               name  landmass  zone  area  population  language  religion  \\\n",
       "0       Afghanistan         5     1   648          16        10         2   \n",
       "1           Albania         3     1    29           3         6         6   \n",
       "2           Algeria         4     1  2388          20         8         2   \n",
       "3    American-Samoa         6     3     0           0         1         1   \n",
       "4           Andorra         3     1     0           0         6         0   \n",
       "..              ...       ...   ...   ...         ...       ...       ...   \n",
       "189   Western-Samoa         6     3     3           0         1         1   \n",
       "190      Yugoslavia         3     1   256          22         6         6   \n",
       "191           Zaire         4     2   905          28        10         5   \n",
       "192          Zambia         4     2   753           6        10         5   \n",
       "193        Zimbabwe         4     2   391           8        10         5   \n",
       "\n",
       "     bars  stripes  colours  red  green  blue  gold  white  black  orange  \\\n",
       "0       0        3        5    1      1     0     1      1      1       0   \n",
       "1       0        0        3    1      0     0     1      0      1       0   \n",
       "2       2        0        3    1      1     0     0      1      0       0   \n",
       "3       0        0        5    1      0     1     1      1      0       1   \n",
       "4       3        0        3    1      0     1     1      0      0       0   \n",
       "..    ...      ...      ...  ...    ...   ...   ...    ...    ...     ...   \n",
       "189     0        0        3    1      0     1     0      1      0       0   \n",
       "190     0        3        4    1      0     1     1      1      0       0   \n",
       "191     0        0        4    1      1     0     1      0      0       1   \n",
       "192     3        0        4    1      1     0     0      0      1       1   \n",
       "193     0        7        5    1      1     0     1      1      1       0   \n",
       "\n",
       "    mainhue  circles  crosses  saltires  quarters  sunstars  crescent  \\\n",
       "0     green        0        0         0         0         1         0   \n",
       "1       red        0        0         0         0         1         0   \n",
       "2     green        0        0         0         0         1         1   \n",
       "3      blue        0        0         0         0         0         0   \n",
       "4      gold        0        0         0         0         0         0   \n",
       "..      ...      ...      ...       ...       ...       ...       ...   \n",
       "189     red        0        0         0         1         5         0   \n",
       "190     red        0        0         0         0         1         0   \n",
       "191   green        1        0         0         0         0         0   \n",
       "192   green        0        0         0         0         0         0   \n",
       "193   green        0        0         0         0         1         0   \n",
       "\n",
       "     triangle  icon  animate  text topleft botright  area_norm  \n",
       "0           0     1        0     0   black    green   0.028926  \n",
       "1           0     0        1     0     red      red   0.001295  \n",
       "2           0     0        0     0   green    white   0.106598  \n",
       "3           1     1        1     0    blue      red   0.000000  \n",
       "4           0     0        0     0    blue      red   0.000000  \n",
       "..        ...   ...      ...   ...     ...      ...        ...  \n",
       "189         0     0        0     0    blue      red   0.000134  \n",
       "190         0     0        0     0    blue      red   0.011428  \n",
       "191         0     1        1     0   green    green   0.040398  \n",
       "192         0     0        1     0   green    brown   0.033613  \n",
       "193         1     1        1     0   green    green   0.017454  \n",
       "\n",
       "[194 rows x 31 columns]"
      ]
     },
     "execution_count": 119,
     "metadata": {},
     "output_type": "execute_result"
    }
   ],
   "source": [
    "def norm(x, area_min, area_max):\n",
    "    return (x - area_min)/(area_max - area_min)\n",
    "\n",
    "#determina de entre todos os registos os valores máximo e mínimo\n",
    "area_max = max(df['area'])\n",
    "area_min = min(df['area'])\n",
    "\n",
    "df['area_norm'] = df['area'].apply(lambda x: norm(x, area_min, area_max))\n",
    "df"
   ]
  },
  {
   "cell_type": "markdown",
   "metadata": {},
   "source": [
    "Se não se sentir confortável com funções anónimas (lambda) pode optar por passar para a função `norm` os parâmetros `area_min` e `area_max`:"
   ]
  },
  {
   "cell_type": "code",
   "execution_count": 120,
   "metadata": {},
   "outputs": [
    {
     "data": {
      "text/html": [
       "<div>\n",
       "<style scoped>\n",
       "    .dataframe tbody tr th:only-of-type {\n",
       "        vertical-align: middle;\n",
       "    }\n",
       "\n",
       "    .dataframe tbody tr th {\n",
       "        vertical-align: top;\n",
       "    }\n",
       "\n",
       "    .dataframe thead th {\n",
       "        text-align: right;\n",
       "    }\n",
       "</style>\n",
       "<table border=\"1\" class=\"dataframe\">\n",
       "  <thead>\n",
       "    <tr style=\"text-align: right;\">\n",
       "      <th></th>\n",
       "      <th>name</th>\n",
       "      <th>landmass</th>\n",
       "      <th>zone</th>\n",
       "      <th>area</th>\n",
       "      <th>population</th>\n",
       "      <th>language</th>\n",
       "      <th>religion</th>\n",
       "      <th>bars</th>\n",
       "      <th>stripes</th>\n",
       "      <th>colours</th>\n",
       "      <th>red</th>\n",
       "      <th>green</th>\n",
       "      <th>blue</th>\n",
       "      <th>gold</th>\n",
       "      <th>white</th>\n",
       "      <th>black</th>\n",
       "      <th>orange</th>\n",
       "      <th>mainhue</th>\n",
       "      <th>circles</th>\n",
       "      <th>crosses</th>\n",
       "      <th>saltires</th>\n",
       "      <th>quarters</th>\n",
       "      <th>sunstars</th>\n",
       "      <th>crescent</th>\n",
       "      <th>triangle</th>\n",
       "      <th>icon</th>\n",
       "      <th>animate</th>\n",
       "      <th>text</th>\n",
       "      <th>topleft</th>\n",
       "      <th>botright</th>\n",
       "      <th>area_norm</th>\n",
       "    </tr>\n",
       "  </thead>\n",
       "  <tbody>\n",
       "    <tr>\n",
       "      <th>0</th>\n",
       "      <td>Afghanistan</td>\n",
       "      <td>5</td>\n",
       "      <td>1</td>\n",
       "      <td>648</td>\n",
       "      <td>16</td>\n",
       "      <td>10</td>\n",
       "      <td>2</td>\n",
       "      <td>0</td>\n",
       "      <td>3</td>\n",
       "      <td>5</td>\n",
       "      <td>1</td>\n",
       "      <td>1</td>\n",
       "      <td>0</td>\n",
       "      <td>1</td>\n",
       "      <td>1</td>\n",
       "      <td>1</td>\n",
       "      <td>0</td>\n",
       "      <td>green</td>\n",
       "      <td>0</td>\n",
       "      <td>0</td>\n",
       "      <td>0</td>\n",
       "      <td>0</td>\n",
       "      <td>1</td>\n",
       "      <td>0</td>\n",
       "      <td>0</td>\n",
       "      <td>1</td>\n",
       "      <td>0</td>\n",
       "      <td>0</td>\n",
       "      <td>black</td>\n",
       "      <td>green</td>\n",
       "      <td>0.028926</td>\n",
       "    </tr>\n",
       "    <tr>\n",
       "      <th>1</th>\n",
       "      <td>Albania</td>\n",
       "      <td>3</td>\n",
       "      <td>1</td>\n",
       "      <td>29</td>\n",
       "      <td>3</td>\n",
       "      <td>6</td>\n",
       "      <td>6</td>\n",
       "      <td>0</td>\n",
       "      <td>0</td>\n",
       "      <td>3</td>\n",
       "      <td>1</td>\n",
       "      <td>0</td>\n",
       "      <td>0</td>\n",
       "      <td>1</td>\n",
       "      <td>0</td>\n",
       "      <td>1</td>\n",
       "      <td>0</td>\n",
       "      <td>red</td>\n",
       "      <td>0</td>\n",
       "      <td>0</td>\n",
       "      <td>0</td>\n",
       "      <td>0</td>\n",
       "      <td>1</td>\n",
       "      <td>0</td>\n",
       "      <td>0</td>\n",
       "      <td>0</td>\n",
       "      <td>1</td>\n",
       "      <td>0</td>\n",
       "      <td>red</td>\n",
       "      <td>red</td>\n",
       "      <td>0.001295</td>\n",
       "    </tr>\n",
       "    <tr>\n",
       "      <th>2</th>\n",
       "      <td>Algeria</td>\n",
       "      <td>4</td>\n",
       "      <td>1</td>\n",
       "      <td>2388</td>\n",
       "      <td>20</td>\n",
       "      <td>8</td>\n",
       "      <td>2</td>\n",
       "      <td>2</td>\n",
       "      <td>0</td>\n",
       "      <td>3</td>\n",
       "      <td>1</td>\n",
       "      <td>1</td>\n",
       "      <td>0</td>\n",
       "      <td>0</td>\n",
       "      <td>1</td>\n",
       "      <td>0</td>\n",
       "      <td>0</td>\n",
       "      <td>green</td>\n",
       "      <td>0</td>\n",
       "      <td>0</td>\n",
       "      <td>0</td>\n",
       "      <td>0</td>\n",
       "      <td>1</td>\n",
       "      <td>1</td>\n",
       "      <td>0</td>\n",
       "      <td>0</td>\n",
       "      <td>0</td>\n",
       "      <td>0</td>\n",
       "      <td>green</td>\n",
       "      <td>white</td>\n",
       "      <td>0.106598</td>\n",
       "    </tr>\n",
       "    <tr>\n",
       "      <th>3</th>\n",
       "      <td>American-Samoa</td>\n",
       "      <td>6</td>\n",
       "      <td>3</td>\n",
       "      <td>0</td>\n",
       "      <td>0</td>\n",
       "      <td>1</td>\n",
       "      <td>1</td>\n",
       "      <td>0</td>\n",
       "      <td>0</td>\n",
       "      <td>5</td>\n",
       "      <td>1</td>\n",
       "      <td>0</td>\n",
       "      <td>1</td>\n",
       "      <td>1</td>\n",
       "      <td>1</td>\n",
       "      <td>0</td>\n",
       "      <td>1</td>\n",
       "      <td>blue</td>\n",
       "      <td>0</td>\n",
       "      <td>0</td>\n",
       "      <td>0</td>\n",
       "      <td>0</td>\n",
       "      <td>0</td>\n",
       "      <td>0</td>\n",
       "      <td>1</td>\n",
       "      <td>1</td>\n",
       "      <td>1</td>\n",
       "      <td>0</td>\n",
       "      <td>blue</td>\n",
       "      <td>red</td>\n",
       "      <td>0.000000</td>\n",
       "    </tr>\n",
       "    <tr>\n",
       "      <th>4</th>\n",
       "      <td>Andorra</td>\n",
       "      <td>3</td>\n",
       "      <td>1</td>\n",
       "      <td>0</td>\n",
       "      <td>0</td>\n",
       "      <td>6</td>\n",
       "      <td>0</td>\n",
       "      <td>3</td>\n",
       "      <td>0</td>\n",
       "      <td>3</td>\n",
       "      <td>1</td>\n",
       "      <td>0</td>\n",
       "      <td>1</td>\n",
       "      <td>1</td>\n",
       "      <td>0</td>\n",
       "      <td>0</td>\n",
       "      <td>0</td>\n",
       "      <td>gold</td>\n",
       "      <td>0</td>\n",
       "      <td>0</td>\n",
       "      <td>0</td>\n",
       "      <td>0</td>\n",
       "      <td>0</td>\n",
       "      <td>0</td>\n",
       "      <td>0</td>\n",
       "      <td>0</td>\n",
       "      <td>0</td>\n",
       "      <td>0</td>\n",
       "      <td>blue</td>\n",
       "      <td>red</td>\n",
       "      <td>0.000000</td>\n",
       "    </tr>\n",
       "    <tr>\n",
       "      <th>...</th>\n",
       "      <td>...</td>\n",
       "      <td>...</td>\n",
       "      <td>...</td>\n",
       "      <td>...</td>\n",
       "      <td>...</td>\n",
       "      <td>...</td>\n",
       "      <td>...</td>\n",
       "      <td>...</td>\n",
       "      <td>...</td>\n",
       "      <td>...</td>\n",
       "      <td>...</td>\n",
       "      <td>...</td>\n",
       "      <td>...</td>\n",
       "      <td>...</td>\n",
       "      <td>...</td>\n",
       "      <td>...</td>\n",
       "      <td>...</td>\n",
       "      <td>...</td>\n",
       "      <td>...</td>\n",
       "      <td>...</td>\n",
       "      <td>...</td>\n",
       "      <td>...</td>\n",
       "      <td>...</td>\n",
       "      <td>...</td>\n",
       "      <td>...</td>\n",
       "      <td>...</td>\n",
       "      <td>...</td>\n",
       "      <td>...</td>\n",
       "      <td>...</td>\n",
       "      <td>...</td>\n",
       "      <td>...</td>\n",
       "    </tr>\n",
       "    <tr>\n",
       "      <th>189</th>\n",
       "      <td>Western-Samoa</td>\n",
       "      <td>6</td>\n",
       "      <td>3</td>\n",
       "      <td>3</td>\n",
       "      <td>0</td>\n",
       "      <td>1</td>\n",
       "      <td>1</td>\n",
       "      <td>0</td>\n",
       "      <td>0</td>\n",
       "      <td>3</td>\n",
       "      <td>1</td>\n",
       "      <td>0</td>\n",
       "      <td>1</td>\n",
       "      <td>0</td>\n",
       "      <td>1</td>\n",
       "      <td>0</td>\n",
       "      <td>0</td>\n",
       "      <td>red</td>\n",
       "      <td>0</td>\n",
       "      <td>0</td>\n",
       "      <td>0</td>\n",
       "      <td>1</td>\n",
       "      <td>5</td>\n",
       "      <td>0</td>\n",
       "      <td>0</td>\n",
       "      <td>0</td>\n",
       "      <td>0</td>\n",
       "      <td>0</td>\n",
       "      <td>blue</td>\n",
       "      <td>red</td>\n",
       "      <td>0.000134</td>\n",
       "    </tr>\n",
       "    <tr>\n",
       "      <th>190</th>\n",
       "      <td>Yugoslavia</td>\n",
       "      <td>3</td>\n",
       "      <td>1</td>\n",
       "      <td>256</td>\n",
       "      <td>22</td>\n",
       "      <td>6</td>\n",
       "      <td>6</td>\n",
       "      <td>0</td>\n",
       "      <td>3</td>\n",
       "      <td>4</td>\n",
       "      <td>1</td>\n",
       "      <td>0</td>\n",
       "      <td>1</td>\n",
       "      <td>1</td>\n",
       "      <td>1</td>\n",
       "      <td>0</td>\n",
       "      <td>0</td>\n",
       "      <td>red</td>\n",
       "      <td>0</td>\n",
       "      <td>0</td>\n",
       "      <td>0</td>\n",
       "      <td>0</td>\n",
       "      <td>1</td>\n",
       "      <td>0</td>\n",
       "      <td>0</td>\n",
       "      <td>0</td>\n",
       "      <td>0</td>\n",
       "      <td>0</td>\n",
       "      <td>blue</td>\n",
       "      <td>red</td>\n",
       "      <td>0.011428</td>\n",
       "    </tr>\n",
       "    <tr>\n",
       "      <th>191</th>\n",
       "      <td>Zaire</td>\n",
       "      <td>4</td>\n",
       "      <td>2</td>\n",
       "      <td>905</td>\n",
       "      <td>28</td>\n",
       "      <td>10</td>\n",
       "      <td>5</td>\n",
       "      <td>0</td>\n",
       "      <td>0</td>\n",
       "      <td>4</td>\n",
       "      <td>1</td>\n",
       "      <td>1</td>\n",
       "      <td>0</td>\n",
       "      <td>1</td>\n",
       "      <td>0</td>\n",
       "      <td>0</td>\n",
       "      <td>1</td>\n",
       "      <td>green</td>\n",
       "      <td>1</td>\n",
       "      <td>0</td>\n",
       "      <td>0</td>\n",
       "      <td>0</td>\n",
       "      <td>0</td>\n",
       "      <td>0</td>\n",
       "      <td>0</td>\n",
       "      <td>1</td>\n",
       "      <td>1</td>\n",
       "      <td>0</td>\n",
       "      <td>green</td>\n",
       "      <td>green</td>\n",
       "      <td>0.040398</td>\n",
       "    </tr>\n",
       "    <tr>\n",
       "      <th>192</th>\n",
       "      <td>Zambia</td>\n",
       "      <td>4</td>\n",
       "      <td>2</td>\n",
       "      <td>753</td>\n",
       "      <td>6</td>\n",
       "      <td>10</td>\n",
       "      <td>5</td>\n",
       "      <td>3</td>\n",
       "      <td>0</td>\n",
       "      <td>4</td>\n",
       "      <td>1</td>\n",
       "      <td>1</td>\n",
       "      <td>0</td>\n",
       "      <td>0</td>\n",
       "      <td>0</td>\n",
       "      <td>1</td>\n",
       "      <td>1</td>\n",
       "      <td>green</td>\n",
       "      <td>0</td>\n",
       "      <td>0</td>\n",
       "      <td>0</td>\n",
       "      <td>0</td>\n",
       "      <td>0</td>\n",
       "      <td>0</td>\n",
       "      <td>0</td>\n",
       "      <td>0</td>\n",
       "      <td>1</td>\n",
       "      <td>0</td>\n",
       "      <td>green</td>\n",
       "      <td>brown</td>\n",
       "      <td>0.033613</td>\n",
       "    </tr>\n",
       "    <tr>\n",
       "      <th>193</th>\n",
       "      <td>Zimbabwe</td>\n",
       "      <td>4</td>\n",
       "      <td>2</td>\n",
       "      <td>391</td>\n",
       "      <td>8</td>\n",
       "      <td>10</td>\n",
       "      <td>5</td>\n",
       "      <td>0</td>\n",
       "      <td>7</td>\n",
       "      <td>5</td>\n",
       "      <td>1</td>\n",
       "      <td>1</td>\n",
       "      <td>0</td>\n",
       "      <td>1</td>\n",
       "      <td>1</td>\n",
       "      <td>1</td>\n",
       "      <td>0</td>\n",
       "      <td>green</td>\n",
       "      <td>0</td>\n",
       "      <td>0</td>\n",
       "      <td>0</td>\n",
       "      <td>0</td>\n",
       "      <td>1</td>\n",
       "      <td>0</td>\n",
       "      <td>1</td>\n",
       "      <td>1</td>\n",
       "      <td>1</td>\n",
       "      <td>0</td>\n",
       "      <td>green</td>\n",
       "      <td>green</td>\n",
       "      <td>0.017454</td>\n",
       "    </tr>\n",
       "  </tbody>\n",
       "</table>\n",
       "<p>194 rows × 31 columns</p>\n",
       "</div>"
      ],
      "text/plain": [
       "               name  landmass  zone  area  population  language  religion  \\\n",
       "0       Afghanistan         5     1   648          16        10         2   \n",
       "1           Albania         3     1    29           3         6         6   \n",
       "2           Algeria         4     1  2388          20         8         2   \n",
       "3    American-Samoa         6     3     0           0         1         1   \n",
       "4           Andorra         3     1     0           0         6         0   \n",
       "..              ...       ...   ...   ...         ...       ...       ...   \n",
       "189   Western-Samoa         6     3     3           0         1         1   \n",
       "190      Yugoslavia         3     1   256          22         6         6   \n",
       "191           Zaire         4     2   905          28        10         5   \n",
       "192          Zambia         4     2   753           6        10         5   \n",
       "193        Zimbabwe         4     2   391           8        10         5   \n",
       "\n",
       "     bars  stripes  colours  red  green  blue  gold  white  black  orange  \\\n",
       "0       0        3        5    1      1     0     1      1      1       0   \n",
       "1       0        0        3    1      0     0     1      0      1       0   \n",
       "2       2        0        3    1      1     0     0      1      0       0   \n",
       "3       0        0        5    1      0     1     1      1      0       1   \n",
       "4       3        0        3    1      0     1     1      0      0       0   \n",
       "..    ...      ...      ...  ...    ...   ...   ...    ...    ...     ...   \n",
       "189     0        0        3    1      0     1     0      1      0       0   \n",
       "190     0        3        4    1      0     1     1      1      0       0   \n",
       "191     0        0        4    1      1     0     1      0      0       1   \n",
       "192     3        0        4    1      1     0     0      0      1       1   \n",
       "193     0        7        5    1      1     0     1      1      1       0   \n",
       "\n",
       "    mainhue  circles  crosses  saltires  quarters  sunstars  crescent  \\\n",
       "0     green        0        0         0         0         1         0   \n",
       "1       red        0        0         0         0         1         0   \n",
       "2     green        0        0         0         0         1         1   \n",
       "3      blue        0        0         0         0         0         0   \n",
       "4      gold        0        0         0         0         0         0   \n",
       "..      ...      ...      ...       ...       ...       ...       ...   \n",
       "189     red        0        0         0         1         5         0   \n",
       "190     red        0        0         0         0         1         0   \n",
       "191   green        1        0         0         0         0         0   \n",
       "192   green        0        0         0         0         0         0   \n",
       "193   green        0        0         0         0         1         0   \n",
       "\n",
       "     triangle  icon  animate  text topleft botright  area_norm  \n",
       "0           0     1        0     0   black    green   0.028926  \n",
       "1           0     0        1     0     red      red   0.001295  \n",
       "2           0     0        0     0   green    white   0.106598  \n",
       "3           1     1        1     0    blue      red   0.000000  \n",
       "4           0     0        0     0    blue      red   0.000000  \n",
       "..        ...   ...      ...   ...     ...      ...        ...  \n",
       "189         0     0        0     0    blue      red   0.000134  \n",
       "190         0     0        0     0    blue      red   0.011428  \n",
       "191         0     1        1     0   green    green   0.040398  \n",
       "192         0     0        1     0   green    brown   0.033613  \n",
       "193         1     1        1     0   green    green   0.017454  \n",
       "\n",
       "[194 rows x 31 columns]"
      ]
     },
     "execution_count": 120,
     "metadata": {},
     "output_type": "execute_result"
    }
   ],
   "source": [
    "def norm(x, area_min, area_max):\n",
    "    return (x - area_min)/(area_max - area_min)\n",
    "\n",
    "#determina de entre todos os registos os valores máximo e mínimo\n",
    "area_max = max(df['area'])\n",
    "area_min = min(df['area'])\n",
    "\n",
    "df['area_norm'] = df['area'].apply(norm, area_min=area_min, area_max=area_max)\n",
    "df"
   ]
  },
  {
   "cell_type": "markdown",
   "metadata": {},
   "source": [
    "<hr>"
   ]
  },
  {
   "cell_type": "markdown",
   "metadata": {},
   "source": [
    "Uma outra alternativa passa por recorre ao sklearn e às suas funções de normalização. O código abaixo exemplifica a aplicação do método `MinMaxScaler`. Esta função obriga à passagem de um array com pelo menos uma coluna, algo que não está explicitamente definido em `df['area']` (como se pode observar). Por esse motivo aplicamos o código (`df['area'].values.reshape(-1, 1)`) para dessa forma definir explicitamente `x` linhas e `1` coluna."
   ]
  },
  {
   "cell_type": "code",
   "execution_count": 121,
   "metadata": {},
   "outputs": [
    {
     "data": {
      "text/plain": [
       "(194,)"
      ]
     },
     "execution_count": 121,
     "metadata": {},
     "output_type": "execute_result"
    }
   ],
   "source": [
    "df['area'].shape"
   ]
  },
  {
   "cell_type": "code",
   "execution_count": 122,
   "metadata": {},
   "outputs": [
    {
     "data": {
      "text/plain": [
       "array([[2.89259888e-02],\n",
       "       [1.29452727e-03],\n",
       "       [1.06597625e-01],\n",
       "       [0.00000000e+00],\n",
       "       [0.00000000e+00],\n",
       "       [5.56646728e-02],\n",
       "       [0.00000000e+00],\n",
       "       [0.00000000e+00],\n",
       "       [1.23962146e-01],\n",
       "       [1.23962146e-01],\n",
       "       [3.43272922e-01],\n",
       "       [3.74966521e-03],\n",
       "       [8.48138559e-04],\n",
       "       [4.46388715e-05],\n",
       "       [6.38335863e-03],\n",
       "       [0.00000000e+00],\n",
       "       [1.38380502e-03],\n",
       "       [1.02669405e-03],\n",
       "       [5.04419248e-03],\n",
       "       [0.00000000e+00],\n",
       "       [2.09802696e-03],\n",
       "       [4.90581198e-02],\n",
       "       [2.67833229e-02],\n",
       "       [3.79966074e-01],\n",
       "       [0.00000000e+00],\n",
       "       [2.67833229e-04],\n",
       "       [4.95491474e-03],\n",
       "       [1.22310508e-02],\n",
       "       [3.02651549e-02],\n",
       "       [1.24988840e-03],\n",
       "       [2.11588251e-02],\n",
       "       [4.45317382e-01],\n",
       "       [1.78555486e-04],\n",
       "       [0.00000000e+00],\n",
       "       [2.78100170e-02],\n",
       "       [5.73163110e-02],\n",
       "       [3.37916257e-02],\n",
       "       [4.26792251e-01],\n",
       "       [5.08436747e-02],\n",
       "       [8.92777431e-05],\n",
       "       [1.52664941e-02],\n",
       "       [0.00000000e+00],\n",
       "       [2.27658245e-03],\n",
       "       [5.13347023e-03],\n",
       "       [4.01749844e-04],\n",
       "       [5.71377556e-03],\n",
       "       [1.91947148e-03],\n",
       "       [9.82055174e-04],\n",
       "       [0.00000000e+00],\n",
       "       [2.18730470e-03],\n",
       "       [1.26774395e-02],\n",
       "       [4.46835104e-02],\n",
       "       [9.37416302e-04],\n",
       "       [1.24988840e-03],\n",
       "       [5.45487010e-02],\n",
       "       [4.46388715e-05],\n",
       "       [5.35666458e-04],\n",
       "       [8.03499688e-04],\n",
       "       [1.50432997e-02],\n",
       "       [2.44174627e-02],\n",
       "       [4.06213731e-03],\n",
       "       [1.78555486e-04],\n",
       "       [1.19632176e-02],\n",
       "       [4.46388715e-04],\n",
       "       [4.82099813e-03],\n",
       "       [1.11150790e-02],\n",
       "       [1.06686903e-02],\n",
       "       [0.00000000e+00],\n",
       "       [5.89233104e-03],\n",
       "       [9.71341844e-02],\n",
       "       [0.00000000e+00],\n",
       "       [0.00000000e+00],\n",
       "       [4.86563700e-03],\n",
       "       [1.09811624e-02],\n",
       "       [1.60699938e-03],\n",
       "       [9.59735738e-03],\n",
       "       [1.24988840e-03],\n",
       "       [4.99955361e-03],\n",
       "       [4.46388715e-05],\n",
       "       [4.15141505e-03],\n",
       "       [4.59780377e-03],\n",
       "       [1.45879832e-01],\n",
       "       [8.49924114e-02],\n",
       "       [7.35648603e-02],\n",
       "       [1.94179091e-02],\n",
       "       [3.12472101e-03],\n",
       "       [9.37416302e-04],\n",
       "       [1.34363003e-02],\n",
       "       [1.44183555e-02],\n",
       "       [4.91027587e-04],\n",
       "       [1.66056602e-02],\n",
       "       [4.37460941e-03],\n",
       "       [8.07963575e-03],\n",
       "       [2.60244621e-02],\n",
       "       [0.00000000e+00],\n",
       "       [8.03499688e-04],\n",
       "       [1.05347737e-02],\n",
       "       [4.46388715e-04],\n",
       "       [1.33916615e-03],\n",
       "       [4.95491474e-03],\n",
       "       [7.85644139e-02],\n",
       "       [0.00000000e+00],\n",
       "       [1.33916615e-04],\n",
       "       [2.62030176e-02],\n",
       "       [5.26738684e-03],\n",
       "       [1.48647442e-02],\n",
       "       [0.00000000e+00],\n",
       "       [5.53522007e-02],\n",
       "       [0.00000000e+00],\n",
       "       [0.00000000e+00],\n",
       "       [4.60226765e-02],\n",
       "       [8.92777431e-05],\n",
       "       [8.80724935e-02],\n",
       "       [4.46388715e-05],\n",
       "       [0.00000000e+00],\n",
       "       [6.99044728e-02],\n",
       "       [0.00000000e+00],\n",
       "       [1.99535756e-02],\n",
       "       [3.49522364e-02],\n",
       "       [0.00000000e+00],\n",
       "       [6.24944201e-03],\n",
       "       [1.83019373e-03],\n",
       "       [0.00000000e+00],\n",
       "       [1.19632176e-02],\n",
       "       [5.71377556e-03],\n",
       "       [5.65574502e-02],\n",
       "       [4.12909562e-02],\n",
       "       [0.00000000e+00],\n",
       "       [5.40130346e-03],\n",
       "       [8.70457995e-03],\n",
       "       [1.44629944e-02],\n",
       "       [9.46344076e-03],\n",
       "       [3.58896527e-02],\n",
       "       [3.39255424e-03],\n",
       "       [2.06677975e-02],\n",
       "       [1.81680207e-02],\n",
       "       [5.73609499e-02],\n",
       "       [1.33916615e-02],\n",
       "       [1.39719668e-02],\n",
       "       [4.10677618e-03],\n",
       "       [4.01749844e-04],\n",
       "       [4.91027587e-04],\n",
       "       [1.05794126e-02],\n",
       "       [1.16061066e-03],\n",
       "       [0.00000000e+00],\n",
       "       [0.00000000e+00],\n",
       "       [9.59735738e-02],\n",
       "       [8.74921882e-03],\n",
       "       [0.00000000e+00],\n",
       "       [3.21399875e-03],\n",
       "       [4.46388715e-05],\n",
       "       [1.33916615e-03],\n",
       "       [2.84349612e-02],\n",
       "       [5.45040621e-02],\n",
       "       [4.41924828e-03],\n",
       "       [1.28559950e-02],\n",
       "       [2.25426301e-02],\n",
       "       [2.94616552e-03],\n",
       "       [0.00000000e+00],\n",
       "       [0.00000000e+00],\n",
       "       [0.00000000e+00],\n",
       "       [0.00000000e+00],\n",
       "       [1.11865012e-01],\n",
       "       [2.81224891e-03],\n",
       "       [7.58860816e-04],\n",
       "       [2.00874922e-02],\n",
       "       [1.83019373e-03],\n",
       "       [8.25819123e-03],\n",
       "       [1.60699938e-03],\n",
       "       [4.21837336e-02],\n",
       "       [2.29443800e-02],\n",
       "       [2.54441568e-03],\n",
       "       [4.46388715e-05],\n",
       "       [2.23194358e-04],\n",
       "       [7.32077493e-03],\n",
       "       [3.48629587e-02],\n",
       "       [0.00000000e+00],\n",
       "       [0.00000000e+00],\n",
       "       [3.74966521e-03],\n",
       "       [1.05347737e-02],\n",
       "       [1.09365235e-02],\n",
       "       [7.94571913e-03],\n",
       "       [0.00000000e+00],\n",
       "       [4.17953754e-01],\n",
       "       [1.00000000e+00],\n",
       "       [6.69583073e-04],\n",
       "       [0.00000000e+00],\n",
       "       [4.07106508e-02],\n",
       "       [1.48647442e-02],\n",
       "       [1.33916615e-04],\n",
       "       [1.14275511e-02],\n",
       "       [4.03981787e-02],\n",
       "       [3.36130703e-02],\n",
       "       [1.74537988e-02]])"
      ]
     },
     "execution_count": 122,
     "metadata": {},
     "output_type": "execute_result"
    }
   ],
   "source": [
    "from sklearn.preprocessing import MinMaxScaler\n",
    "MinMaxScaler().fit_transform(df['area'].values.reshape(-1, 1))"
   ]
  },
  {
   "cell_type": "markdown",
   "metadata": {},
   "source": [
    "Os valores são devolvidos em notação científica. O `e` indica-nos para onde a casa decimal deve ser movida. Nos casos em que o `e` é seguido de `+` movemos o ponto decimal para a direita (tantas casas quantas as aí indicadas). Por exemplo `1.00e+00` é equivalente a 1; `2.89e+02` é equivalente a 289. Nos casos em que `e` é seguido de `-` movemos o ponto decimal para a esquerda (tantas casas quantas as aí indicadas). Por exemplo `2.89e-02` é equivalente a `0.0289`."
   ]
  },
  {
   "cell_type": "markdown",
   "metadata": {},
   "source": [
    "Tal como anteriormente também aqui podemos atribuir os valores a uma nova coluna do dataframe."
   ]
  },
  {
   "cell_type": "code",
   "execution_count": 123,
   "metadata": {},
   "outputs": [
    {
     "data": {
      "text/html": [
       "<div>\n",
       "<style scoped>\n",
       "    .dataframe tbody tr th:only-of-type {\n",
       "        vertical-align: middle;\n",
       "    }\n",
       "\n",
       "    .dataframe tbody tr th {\n",
       "        vertical-align: top;\n",
       "    }\n",
       "\n",
       "    .dataframe thead th {\n",
       "        text-align: right;\n",
       "    }\n",
       "</style>\n",
       "<table border=\"1\" class=\"dataframe\">\n",
       "  <thead>\n",
       "    <tr style=\"text-align: right;\">\n",
       "      <th></th>\n",
       "      <th>name</th>\n",
       "      <th>landmass</th>\n",
       "      <th>zone</th>\n",
       "      <th>area</th>\n",
       "      <th>population</th>\n",
       "      <th>language</th>\n",
       "      <th>religion</th>\n",
       "      <th>bars</th>\n",
       "      <th>stripes</th>\n",
       "      <th>colours</th>\n",
       "      <th>red</th>\n",
       "      <th>green</th>\n",
       "      <th>blue</th>\n",
       "      <th>gold</th>\n",
       "      <th>white</th>\n",
       "      <th>black</th>\n",
       "      <th>orange</th>\n",
       "      <th>mainhue</th>\n",
       "      <th>circles</th>\n",
       "      <th>crosses</th>\n",
       "      <th>saltires</th>\n",
       "      <th>quarters</th>\n",
       "      <th>sunstars</th>\n",
       "      <th>crescent</th>\n",
       "      <th>triangle</th>\n",
       "      <th>icon</th>\n",
       "      <th>animate</th>\n",
       "      <th>text</th>\n",
       "      <th>topleft</th>\n",
       "      <th>botright</th>\n",
       "      <th>area_norm</th>\n",
       "    </tr>\n",
       "  </thead>\n",
       "  <tbody>\n",
       "    <tr>\n",
       "      <th>0</th>\n",
       "      <td>Afghanistan</td>\n",
       "      <td>5</td>\n",
       "      <td>1</td>\n",
       "      <td>648</td>\n",
       "      <td>16</td>\n",
       "      <td>10</td>\n",
       "      <td>2</td>\n",
       "      <td>0</td>\n",
       "      <td>3</td>\n",
       "      <td>5</td>\n",
       "      <td>1</td>\n",
       "      <td>1</td>\n",
       "      <td>0</td>\n",
       "      <td>1</td>\n",
       "      <td>1</td>\n",
       "      <td>1</td>\n",
       "      <td>0</td>\n",
       "      <td>green</td>\n",
       "      <td>0</td>\n",
       "      <td>0</td>\n",
       "      <td>0</td>\n",
       "      <td>0</td>\n",
       "      <td>1</td>\n",
       "      <td>0</td>\n",
       "      <td>0</td>\n",
       "      <td>1</td>\n",
       "      <td>0</td>\n",
       "      <td>0</td>\n",
       "      <td>black</td>\n",
       "      <td>green</td>\n",
       "      <td>0.028926</td>\n",
       "    </tr>\n",
       "    <tr>\n",
       "      <th>1</th>\n",
       "      <td>Albania</td>\n",
       "      <td>3</td>\n",
       "      <td>1</td>\n",
       "      <td>29</td>\n",
       "      <td>3</td>\n",
       "      <td>6</td>\n",
       "      <td>6</td>\n",
       "      <td>0</td>\n",
       "      <td>0</td>\n",
       "      <td>3</td>\n",
       "      <td>1</td>\n",
       "      <td>0</td>\n",
       "      <td>0</td>\n",
       "      <td>1</td>\n",
       "      <td>0</td>\n",
       "      <td>1</td>\n",
       "      <td>0</td>\n",
       "      <td>red</td>\n",
       "      <td>0</td>\n",
       "      <td>0</td>\n",
       "      <td>0</td>\n",
       "      <td>0</td>\n",
       "      <td>1</td>\n",
       "      <td>0</td>\n",
       "      <td>0</td>\n",
       "      <td>0</td>\n",
       "      <td>1</td>\n",
       "      <td>0</td>\n",
       "      <td>red</td>\n",
       "      <td>red</td>\n",
       "      <td>0.001295</td>\n",
       "    </tr>\n",
       "    <tr>\n",
       "      <th>2</th>\n",
       "      <td>Algeria</td>\n",
       "      <td>4</td>\n",
       "      <td>1</td>\n",
       "      <td>2388</td>\n",
       "      <td>20</td>\n",
       "      <td>8</td>\n",
       "      <td>2</td>\n",
       "      <td>2</td>\n",
       "      <td>0</td>\n",
       "      <td>3</td>\n",
       "      <td>1</td>\n",
       "      <td>1</td>\n",
       "      <td>0</td>\n",
       "      <td>0</td>\n",
       "      <td>1</td>\n",
       "      <td>0</td>\n",
       "      <td>0</td>\n",
       "      <td>green</td>\n",
       "      <td>0</td>\n",
       "      <td>0</td>\n",
       "      <td>0</td>\n",
       "      <td>0</td>\n",
       "      <td>1</td>\n",
       "      <td>1</td>\n",
       "      <td>0</td>\n",
       "      <td>0</td>\n",
       "      <td>0</td>\n",
       "      <td>0</td>\n",
       "      <td>green</td>\n",
       "      <td>white</td>\n",
       "      <td>0.106598</td>\n",
       "    </tr>\n",
       "    <tr>\n",
       "      <th>3</th>\n",
       "      <td>American-Samoa</td>\n",
       "      <td>6</td>\n",
       "      <td>3</td>\n",
       "      <td>0</td>\n",
       "      <td>0</td>\n",
       "      <td>1</td>\n",
       "      <td>1</td>\n",
       "      <td>0</td>\n",
       "      <td>0</td>\n",
       "      <td>5</td>\n",
       "      <td>1</td>\n",
       "      <td>0</td>\n",
       "      <td>1</td>\n",
       "      <td>1</td>\n",
       "      <td>1</td>\n",
       "      <td>0</td>\n",
       "      <td>1</td>\n",
       "      <td>blue</td>\n",
       "      <td>0</td>\n",
       "      <td>0</td>\n",
       "      <td>0</td>\n",
       "      <td>0</td>\n",
       "      <td>0</td>\n",
       "      <td>0</td>\n",
       "      <td>1</td>\n",
       "      <td>1</td>\n",
       "      <td>1</td>\n",
       "      <td>0</td>\n",
       "      <td>blue</td>\n",
       "      <td>red</td>\n",
       "      <td>0.000000</td>\n",
       "    </tr>\n",
       "    <tr>\n",
       "      <th>4</th>\n",
       "      <td>Andorra</td>\n",
       "      <td>3</td>\n",
       "      <td>1</td>\n",
       "      <td>0</td>\n",
       "      <td>0</td>\n",
       "      <td>6</td>\n",
       "      <td>0</td>\n",
       "      <td>3</td>\n",
       "      <td>0</td>\n",
       "      <td>3</td>\n",
       "      <td>1</td>\n",
       "      <td>0</td>\n",
       "      <td>1</td>\n",
       "      <td>1</td>\n",
       "      <td>0</td>\n",
       "      <td>0</td>\n",
       "      <td>0</td>\n",
       "      <td>gold</td>\n",
       "      <td>0</td>\n",
       "      <td>0</td>\n",
       "      <td>0</td>\n",
       "      <td>0</td>\n",
       "      <td>0</td>\n",
       "      <td>0</td>\n",
       "      <td>0</td>\n",
       "      <td>0</td>\n",
       "      <td>0</td>\n",
       "      <td>0</td>\n",
       "      <td>blue</td>\n",
       "      <td>red</td>\n",
       "      <td>0.000000</td>\n",
       "    </tr>\n",
       "  </tbody>\n",
       "</table>\n",
       "</div>"
      ],
      "text/plain": [
       "             name  landmass  zone  area  population  language  religion  bars  \\\n",
       "0     Afghanistan         5     1   648          16        10         2     0   \n",
       "1         Albania         3     1    29           3         6         6     0   \n",
       "2         Algeria         4     1  2388          20         8         2     2   \n",
       "3  American-Samoa         6     3     0           0         1         1     0   \n",
       "4         Andorra         3     1     0           0         6         0     3   \n",
       "\n",
       "   stripes  colours  red  green  blue  gold  white  black  orange mainhue  \\\n",
       "0        3        5    1      1     0     1      1      1       0   green   \n",
       "1        0        3    1      0     0     1      0      1       0     red   \n",
       "2        0        3    1      1     0     0      1      0       0   green   \n",
       "3        0        5    1      0     1     1      1      0       1    blue   \n",
       "4        0        3    1      0     1     1      0      0       0    gold   \n",
       "\n",
       "   circles  crosses  saltires  quarters  sunstars  crescent  triangle  icon  \\\n",
       "0        0        0         0         0         1         0         0     1   \n",
       "1        0        0         0         0         1         0         0     0   \n",
       "2        0        0         0         0         1         1         0     0   \n",
       "3        0        0         0         0         0         0         1     1   \n",
       "4        0        0         0         0         0         0         0     0   \n",
       "\n",
       "   animate  text topleft botright  area_norm  \n",
       "0        0     0   black    green   0.028926  \n",
       "1        1     0     red      red   0.001295  \n",
       "2        0     0   green    white   0.106598  \n",
       "3        1     0    blue      red   0.000000  \n",
       "4        0     0    blue      red   0.000000  "
      ]
     },
     "execution_count": 123,
     "metadata": {},
     "output_type": "execute_result"
    }
   ],
   "source": [
    "from sklearn.preprocessing import MinMaxScaler\n",
    "df['area_norm'] = MinMaxScaler().fit_transform(df['area'].values.reshape(-1, 1))\n",
    "df.head()"
   ]
  },
  {
   "cell_type": "markdown",
   "metadata": {},
   "source": [
    "#### StandardScaler"
   ]
  },
  {
   "cell_type": "markdown",
   "metadata": {},
   "source": [
    "Standardizing a dataset involves rescaling the distribution of values so that the mean of observed values is 0 and the standard deviation is 1. This can be thought of as subtracting the mean value or centering the data. Subtracting the mean from the data is called centering, whereas dividing by the standard deviation is called scaling. As such, the method is sometime called “center scaling“."
   ]
  },
  {
   "cell_type": "markdown",
   "metadata": {},
   "source": [
    "`y = (x – mean) / standard_deviation`"
   ]
  },
  {
   "cell_type": "markdown",
   "metadata": {},
   "source": [
    "Where the mean is calculated as:"
   ]
  },
  {
   "cell_type": "markdown",
   "metadata": {},
   "source": [
    "`mean = sum(x) / count(x)`"
   ]
  },
  {
   "cell_type": "markdown",
   "metadata": {},
   "source": [
    "And the standard_deviation is calculated as:"
   ]
  },
  {
   "cell_type": "markdown",
   "metadata": {},
   "source": [
    "`standard_deviation = sqrt( sum( (x – mean)^2 ) / count(x))`"
   ]
  },
  {
   "cell_type": "markdown",
   "metadata": {},
   "source": [
    "Por exemplo, para um dataset onde a média é 10 e o desvio padrão é 5, o valor 18.8 seria normalizado da seguinte forma:\n",
    "\n",
    "    y = (x – mean) / standard_deviation\n",
    "    y = (18.8 – 10) / 5\n",
    "    y = (8.8) / 5\n",
    "    y = 1.76"
   ]
  },
  {
   "cell_type": "markdown",
   "metadata": {},
   "source": [
    "Use StandardScaler if you know the data distribution is normal."
   ]
  },
  {
   "cell_type": "markdown",
   "metadata": {},
   "source": [
    "If there are outliers, use RobustScaler(). Alternatively you could remove the outliers and use either of the above 2 scalers (choice depends on whether data is normally distributed)"
   ]
  },
  {
   "cell_type": "code",
   "execution_count": null,
   "metadata": {},
   "outputs": [],
   "source": [
    "from sklearn.preprocessing import StandardScaler\n",
    "df['area_norm'] = StandardScaler().fit_transform(df['area'].values.reshape(-1, 1))\n",
    "df.head()"
   ]
  },
  {
   "cell_type": "markdown",
   "metadata": {},
   "source": [
    "<hr>"
   ]
  },
  {
   "cell_type": "markdown",
   "metadata": {},
   "source": [
    "### Feature Encoding"
   ]
  },
  {
   "cell_type": "markdown",
   "metadata": {},
   "source": [
    "<img src=\"https://www.di.ubi.pt/~rcampos/assets/img_tutorials/DataScience/FeatureEncoding.jpg\" width=\"600\" height=\"600\" align=\"center\"/>"
   ]
  },
  {
   "cell_type": "markdown",
   "metadata": {},
   "source": [
    "#### Discretization (Binning)"
   ]
  },
  {
   "cell_type": "markdown",
   "metadata": {},
   "source": [
    "Discretization (aka binning) is a common data pre-processing technique used to group intervals of numerical data into “bins” or “buckets”. "
   ]
  },
  {
   "cell_type": "markdown",
   "metadata": {},
   "source": [
    "No código abaixo exemplificamos o processo de discretização, onde valores numéricos são transformados num conjunto reduzido de valores categóricos. Para melhor exemplificar este processo comece por importar o ficheiro `flags.csv` para um dataframe."
   ]
  },
  {
   "cell_type": "code",
   "execution_count": null,
   "metadata": {},
   "outputs": [],
   "source": [
    "import pandas as pd\n",
    "df = pd.read_csv('data/flags.csv')\n",
    "df.head()"
   ]
  },
  {
   "cell_type": "markdown",
   "metadata": {},
   "source": [
    "The main challenge in discretization is to choose the number of intervals or bins and how to decide on their width. There are several methods that you can use to discretize data."
   ]
  },
  {
   "cell_type": "markdown",
   "metadata": {},
   "source": [
    "##### Custom Function"
   ]
  },
  {
   "cell_type": "markdown",
   "metadata": {},
   "source": [
    "Em processos de transformação de dados, é muito comum que\n",
    "exista a necessidade de realizar o ajuste ou formatação dos dados de\n",
    "uma coluna do DataFrame através da aplicação de uma função\n",
    "Python sobre a coluna. Situações deste tipo podem ser\n",
    "resolvidas de maneira extremamente simples com o uso do método\n",
    "`apply()`, que permite que qualquer função do Python seja\n",
    "aplicada de uma só vez sobre todos os valores de uma coluna."
   ]
  },
  {
   "cell_type": "markdown",
   "metadata": {},
   "source": [
    "Neste exercício pretendemos criar uma função que caracterize a dimensão da área (fornecida em milhares de quilômetros quadrados) em seis códigos possíveis."
   ]
  },
  {
   "cell_type": "markdown",
   "metadata": {},
   "source": [
    "| Código        | Tamanho da área         |\n",
    "| ------------------------------ |:-------------|\n",
    "| **A**      | mais de 1 000 000 km2    |\n",
    "| **B** | de 500 000 km2 a 1 000 000 km2    |\n",
    "| **C**      | de 100 000 km2 a 500 000 km2    |\n",
    "| **D** | de 50 000 km2 a 99 000 km2    |\n",
    "| **E**      | de 10 000 km2 a 50 000 km2    |\n",
    "| **F** | menos de 10 000 km2    |"
   ]
  },
  {
   "cell_type": "markdown",
   "metadata": {},
   "source": [
    "Com vista a esse objetivo definimos a seguinte função:"
   ]
  },
  {
   "cell_type": "code",
   "execution_count": null,
   "metadata": {},
   "outputs": [],
   "source": [
    "def classe_area(area):\n",
    "    if (area < 10) :\n",
    "        return 'F'\n",
    "    elif (area >= 10 and area < 50) :\n",
    "        return 'E'\n",
    "    elif (area >= 50 and area < 100) :\n",
    "        return 'D'\n",
    "    elif (area >= 100 and area < 500) :\n",
    "        return 'C'\n",
    "    elif (area >= 500 and area < 1000) :\n",
    "        return 'B'\n",
    "    else :\n",
    "        return 'A'  "
   ]
  },
  {
   "cell_type": "markdown",
   "metadata": {},
   "source": [
    "Posteriormente recorremos ao método `apply` para criar um novo atributo `classe_area` que decorre da aplicação da função `classe_area` ao atributo `area`."
   ]
  },
  {
   "cell_type": "code",
   "execution_count": null,
   "metadata": {},
   "outputs": [],
   "source": [
    "df['classe_area'] = df['area'].apply(classe_area)\n",
    "df[['name','area','classe_area']].head()"
   ]
  },
  {
   "cell_type": "markdown",
   "metadata": {},
   "source": [
    "Uma alternativa à definiçao de uma função e ao uso do apply passa por recorrer à função `cut`. Tal como acima podemos recorrer\n",
    "à especificação de intervalos:\n",
    "- -float(\"inf\") - 10: F\n",
    "- 10 - 50: E\n",
    "- 50 - 100: D\n",
    "- 100 - 500: C\n",
    "- 500 - 1000: B\n",
    "- 1000 - float(\"inf\"): A"
   ]
  },
  {
   "cell_type": "code",
   "execution_count": null,
   "metadata": {},
   "outputs": [],
   "source": [
    "df['classe_area'] = pd.cut(df['area'], bins = [-float(\"inf\"),10,50, 100, 500, 1000, float(\"inf\")], labels=['F', 'E', 'D', 'C', 'B','A'])\n",
    "df[['name','area','classe_area']].head()"
   ]
  },
  {
   "cell_type": "markdown",
   "metadata": {},
   "source": [
    "##### Equal-Width"
   ]
  },
  {
   "cell_type": "markdown",
   "metadata": {},
   "source": [
    "Uma alternativa à definiçao de uma função e ao uso do apply passa por recorrer à função `cut`. No caso o sistema define 6 bins equidistantes."
   ]
  },
  {
   "cell_type": "code",
   "execution_count": null,
   "metadata": {},
   "outputs": [],
   "source": [
    "df['classe_area'], cut_bin = pd.cut(df['area'], bins = 6, labels=['F', 'E', 'D', 'C', 'B', 'A'], retbins = True)\n",
    "df[['name','area','classe_area']].head()"
   ]
  },
  {
   "cell_type": "markdown",
   "metadata": {},
   "source": [
    "The first thing you’ll notice is that the bin ranges are all about 3,734"
   ]
  },
  {
   "cell_type": "code",
   "execution_count": null,
   "metadata": {},
   "outputs": [],
   "source": [
    "cut_bin"
   ]
  },
  {
   "cell_type": "markdown",
   "metadata": {},
   "source": [
    "but that the distribution of bin elements is not equal. "
   ]
  },
  {
   "cell_type": "code",
   "execution_count": null,
   "metadata": {},
   "outputs": [],
   "source": [
    "df['classe_area'].value_counts()"
   ]
  },
  {
   "cell_type": "markdown",
   "metadata": {},
   "source": [
    "##### Equal-Frequency"
   ]
  },
  {
   "cell_type": "markdown",
   "metadata": {},
   "source": [
    "Rather than simply passing in a number of groupings you want to create, you can also pass in a list of quartiles you want to create. This list should be a range from 0 through 1, splitting the data into equal percentages. The major distinction is that qcut will calculate the size of each bin in order to make sure the distribution of data in the bins is equal. In other words, all bins will have (roughly) the same number of observations but the bin range will vary. Let’ see how we can split our data into 25% bins (which means using q = 5 or q = [0, 0.25, 0.5, 0.75, 1])"
   ]
  },
  {
   "cell_type": "code",
   "execution_count": null,
   "metadata": {},
   "outputs": [],
   "source": [
    "df['classe_area'], cut_bin = pd.qcut(df['area'], q=5, labels=['E', 'D', 'C', 'B','A'], retbins = True)\n",
    "df[['name','area','classe_area']].head()"
   ]
  },
  {
   "cell_type": "markdown",
   "metadata": {},
   "source": [
    "The below code shows that we have the approximate number of records in each of the 5 bins."
   ]
  },
  {
   "cell_type": "code",
   "execution_count": null,
   "metadata": {},
   "outputs": [],
   "source": [
    "df['classe_area'].value_counts()"
   ]
  },
  {
   "cell_type": "markdown",
   "metadata": {},
   "source": [
    "However, the bins are not equally-sized"
   ]
  },
  {
   "cell_type": "code",
   "execution_count": null,
   "metadata": {},
   "outputs": [],
   "source": [
    "cut_bin"
   ]
  },
  {
   "cell_type": "markdown",
   "metadata": {},
   "source": [
    "- Quantile 0: 0 (min number)\n",
    "- Quantile 0.25: 1\n",
    "- Quantile 0.50: 47.40\n",
    "- Quantile 0.75: 231.80\n",
    "- Quantile 1: 660.00 (max number)"
   ]
  },
  {
   "cell_type": "markdown",
   "metadata": {},
   "source": [
    "Having q = 6 in this case, will generate an error as the system generates duplicate values in the arrays (in the case, it generates two zeros)."
   ]
  },
  {
   "cell_type": "code",
   "execution_count": null,
   "metadata": {},
   "outputs": [],
   "source": [
    "df['classe_area'], cut_bin = pd.qcut(df['area'], q=6, labels=['F', 'E', 'D', 'C', 'B','A'], retbins = True)\n",
    "df[['name','area','classe_area']].head()"
   ]
  },
  {
   "cell_type": "markdown",
   "metadata": {},
   "source": [
    "<hr>"
   ]
  },
  {
   "cell_type": "markdown",
   "metadata": {},
   "source": [
    "#### Categorical Data Encoding"
   ]
  },
  {
   "cell_type": "markdown",
   "metadata": {},
   "source": [
    "This part of the notebook is based on: https://github.com/atulpatelDS/Youtube/blob/main/Feature_Engineering/Categorical%20Features%20Encoding%20Ordinal%20Encoding%20Label%20Encoding%20OnehotEncoding%20-%20Feature%20Transformation%20Tutorial%204%20%2C5%20%2C6.ipynb"
   ]
  },
  {
   "cell_type": "markdown",
   "metadata": {},
   "source": [
    "Most Machine Learning Algorithms cannot work with categorical variables directly, they need to be converted to numbers. Even if we find a way to directly work with categorical variables without converting them to numbers, our model shall get biased towards the language we use. For eg, in an animal classification task, if the labels are {‘rat’, ‘dog’, ‘ant’}, then using such a labelling method would train our model to predict labels only in English, which would put a linguistic restriction upon the possible applications of the model."
   ]
  },
  {
   "cell_type": "markdown",
   "metadata": {},
   "source": [
    "So most machine learning models only accept numerical variables, preprocessing the categorical variables becomes a necessary step. We need to convert these categorical variables to numbers so that the model is able to understand and extract valuable information."
   ]
  },
  {
   "cell_type": "markdown",
   "metadata": {},
   "source": [
    "<img src=\"https://www.di.ubi.pt/~rcampos/assets/img_tutorials/DataScience/Categorical.jpg\" width=\"600\" height=\"600\" align=\"center\"/>"
   ]
  },
  {
   "cell_type": "markdown",
   "metadata": {},
   "source": [
    "<center>Source: https://towardsdatascience.com/all-about-categorical-variable-encoding-305f3361fd02</center>"
   ]
  },
  {
   "cell_type": "markdown",
   "metadata": {},
   "source": [
    "Unfortunately, there is no single answer on how to approach this problem. Each approach has trade-offs and has potential impact on the outcome of the analysis. Fortunately, the python tools of **pandas** and **scikit-learn** provide several approaches that can be applied to transform the categorical data into suitable numeric values."
   ]
  },
  {
   "cell_type": "markdown",
   "metadata": {},
   "source": [
    "Before we start, let us recap what we have learned before. Give us three examples of categorical variables (both nominal and ordinal):"
   ]
  },
  {
   "cell_type": "code",
   "execution_count": null,
   "metadata": {},
   "outputs": [],
   "source": [
    "#type here your answer"
   ]
  },
  {
   "cell_type": "markdown",
   "metadata": {},
   "source": [
    "Click <b>here</b> twice to see the solution.\n",
    "\n",
    "<!--\n",
    "Categóricas nominais:\n",
    "- Red, Yellow, Pink, Blue\n",
    "- Singapore, Japan, USA, India, Korea\n",
    "- Cow, Dog, Cat, Snake\n",
    "\n",
    "Categóricas Ordinais\n",
    "- High, Medium, Low\n",
    "- “Strongly agree,” Agree, Neutral, Disagree, and “Strongly Disagree.”\n",
    "- Excellent, Okay, Bad\n",
    "-->"
   ]
  },
  {
   "cell_type": "markdown",
   "metadata": {},
   "source": [
    "##### Load Dataset"
   ]
  },
  {
   "cell_type": "markdown",
   "metadata": {},
   "source": [
    "To start with, we begin by loading a dataset named `feature_encoding`. As this dataset is going to be used a few times we defined a function named `load_dataset()` to be called whenever needed."
   ]
  },
  {
   "cell_type": "code",
   "execution_count": null,
   "metadata": {},
   "outputs": [],
   "source": [
    "import pandas as pd\n",
    "import numpy as np\n",
    "import seaborn as sns\n",
    "import matplotlib.pyplot as plt\n",
    "    \n",
    "def load_dataset():\n",
    "    #df = pd.read_excel(\"https://raw.githubusercontent.com/atulpatelDS/Data_Files/master/Feature_Engineering/feature_encoding.xlsx\")\n",
    "    df = pd.read_excel(\"data/feature_encoding.xlsx\")\n",
    "    df.drop(\"CUSTID\",axis=1,inplace=True)\n",
    "    return df"
   ]
  },
  {
   "cell_type": "markdown",
   "metadata": {},
   "source": [
    "Next, we call the function:"
   ]
  },
  {
   "cell_type": "code",
   "execution_count": null,
   "metadata": {},
   "outputs": [],
   "source": [
    "df = load_dataset()\n",
    "df"
   ]
  },
  {
   "cell_type": "markdown",
   "metadata": {},
   "source": [
    "And get some info about the dataset."
   ]
  },
  {
   "cell_type": "code",
   "execution_count": null,
   "metadata": {},
   "outputs": [],
   "source": [
    "df.info()"
   ]
  },
  {
   "cell_type": "markdown",
   "metadata": {},
   "source": [
    "##### Find and Replace"
   ]
  },
  {
   "cell_type": "markdown",
   "metadata": {},
   "source": [
    "Before we go into some of the more “standard” approaches for encoding categorical data, this data set highlights one potential approach I’m calling “find and replace.” In the following, we replace two cardinal binary features (`PAYMENT_MODE_CARD` with `N` and `Y`; and `CUSTOMER_TYPE` with `Premium` and `NonPremium`) by 1 and 0."
   ]
  },
  {
   "cell_type": "markdown",
   "metadata": {},
   "source": [
    "To this regard we can use `apply` as below:"
   ]
  },
  {
   "cell_type": "markdown",
   "metadata": {},
   "source": [
    "```\n",
    "df[\"PAYMENT_MODE_CARD\"] = df[\"PAYMENT_MODE_CARD\"].apply(lambda x : 1 if x =='Y' else (0 if x == 'N' else None))\n",
    "df[\"CUSTOMER_TYPE\"] = df[\"CUSTOMER_TYPE\"].apply(lambda x : 1 if x == \"Premium\" else (0 if x == \"NonPremium\" else None))\n",
    "```"
   ]
  },
  {
   "cell_type": "markdown",
   "metadata": {},
   "source": [
    "or the `replace` method:"
   ]
  },
  {
   "cell_type": "code",
   "execution_count": null,
   "metadata": {},
   "outputs": [],
   "source": [
    "dict_map = {\"PAYMENT_MODE_CARD\": {\"Y\": 1, \"N\": 2},\n",
    "             \"CUSTOMER_TYPE\": {\"Premium\": 1, \"NonPremium\": 0}}\n",
    "\n",
    "df = df.replace(dict_map)\n",
    "\n",
    "df[['PAYMENT_MODE_CARD',\"CUSTOMER_TYPE\"]].head()"
   ]
  },
  {
   "cell_type": "markdown",
   "metadata": {},
   "source": [
    "##### Ordinal Features"
   ]
  },
  {
   "cell_type": "markdown",
   "metadata": {},
   "source": [
    "We use this categorical data encoding technique when the categorical feature is ordinal. In this case, retaining the order is important. Hence encoding should reflect the sequence. In encoding, each label is converted into an integer value."
   ]
  },
  {
   "cell_type": "markdown",
   "metadata": {},
   "source": [
    "###### Ordinal Encoding"
   ]
  },
  {
   "cell_type": "markdown",
   "metadata": {},
   "source": [
    "Ordinal encoding can be applied to one just single feature or to multiple features of the table."
   ]
  },
  {
   "cell_type": "markdown",
   "metadata": {},
   "source": [
    "<u>**One Single Feature**</u>"
   ]
  },
  {
   "cell_type": "markdown",
   "metadata": {},
   "source": [
    "In this technique, each label is assigned a unique integer based on alphabetical ordering."
   ]
  },
  {
   "cell_type": "code",
   "execution_count": null,
   "metadata": {},
   "outputs": [],
   "source": [
    "df = load_dataset()\n",
    "df['RATING'].unique()"
   ]
  },
  {
   "cell_type": "markdown",
   "metadata": {},
   "source": [
    "One way to circumvent this problem is to explicitly define the categories when calling the OrdinalEncoder. To this regard we can make use of pandas:"
   ]
  },
  {
   "cell_type": "code",
   "execution_count": null,
   "metadata": {},
   "outputs": [],
   "source": [
    "dict_rating = {'extremely dislike': 0, 'dislike': 1, 'neutral': 2, 'like':3, 'extremely like': 4}\n",
    "df['RATING'] = df['RATING'].map(dict_rating)\n",
    "df.head(10)"
   ]
  },
  {
   "cell_type": "markdown",
   "metadata": {},
   "source": [
    "Alternatively we can make use  of sklearn. To this, we resort to the categories attribute to define the rating."
   ]
  },
  {
   "cell_type": "code",
   "execution_count": null,
   "metadata": {},
   "outputs": [],
   "source": [
    "from sklearn.preprocessing import OrdinalEncoder\n",
    "\n",
    "df = load_dataset()\n",
    "\n",
    "encoder = OrdinalEncoder(categories=[[\"extremely dislike\",\"dislike\", \"neutral\", \"like\", \"extremely like\"]])\n",
    "df['RATING'] = encoder.fit_transform(df['RATING'].values.reshape(-1,1)) #Expected 2D array, got 1D array instead\n",
    "#encoder.fit_transform(df_train['RATING'])\n",
    "df.head(10)"
   ]
  },
  {
   "cell_type": "markdown",
   "metadata": {},
   "source": [
    "The following shows the categories, which are encoded with values in-between 0 and 4."
   ]
  },
  {
   "cell_type": "code",
   "execution_count": null,
   "metadata": {},
   "outputs": [],
   "source": [
    "encoder.categories_"
   ]
  },
  {
   "cell_type": "markdown",
   "metadata": {},
   "source": [
    "Next we show how this process can be done to multiple features."
   ]
  },
  {
   "cell_type": "markdown",
   "metadata": {},
   "source": [
    "<u>**Multiple Features**</u>"
   ]
  },
  {
   "cell_type": "markdown",
   "metadata": {},
   "source": [
    "We begin by re-loading the dataset through the `load_dataset()` function which was defined before in this notebook."
   ]
  },
  {
   "cell_type": "code",
   "execution_count": null,
   "metadata": {},
   "outputs": [],
   "source": [
    "df = load_dataset()"
   ]
  },
  {
   "cell_type": "markdown",
   "metadata": {},
   "source": [
    "In this case we are going to encode the `RATING` and the `EDUCATION` features."
   ]
  },
  {
   "cell_type": "code",
   "execution_count": null,
   "metadata": {},
   "outputs": [],
   "source": [
    "print(df['RATING'].unique())\n",
    "print(df['EDUCATION'].unique())"
   ]
  },
  {
   "cell_type": "markdown",
   "metadata": {},
   "source": [
    "Next, we specify the categories of both `RATING` and `EDUCATION` and `fit_transform` both features."
   ]
  },
  {
   "cell_type": "code",
   "execution_count": null,
   "metadata": {},
   "outputs": [],
   "source": [
    "from sklearn.preprocessing import OrdinalEncoder\n",
    "\n",
    "encoder = OrdinalEncoder(categories=[[\"extremely dislike\",\"dislike\", \"neutral\", \"like\", \"extremely like\"],[\"phd\",\"ms\", \"bs\"]])\n",
    "df[['RATING','EDUCATION']] = encoder.fit_transform(df[['RATING','EDUCATION']])\n",
    "df.head(5)"
   ]
  },
  {
   "cell_type": "markdown",
   "metadata": {},
   "source": [
    "<hr>"
   ]
  },
  {
   "cell_type": "markdown",
   "metadata": {},
   "source": [
    "###### Label Encoding"
   ]
  },
  {
   "cell_type": "markdown",
   "metadata": {},
   "source": [
    "Label enconding is again to be used with ordinal features. It has the advantage that it is straightforward but it has the disadvantage that the numeric values can be “misinterpreted” by the algorithms. For example, the value of 0 is obviously less than the value of 4 but does that really correspond to the data set in real life? Does a wagon have “4X” more weight in our calculation than the convertible? I don't think so. For that reason Label encoding should only used to target variables."
   ]
  },
  {
   "cell_type": "markdown",
   "metadata": {},
   "source": [
    "Label coding would not consider whether the variable is ordinal or not, and it will assign a sequence of integers (still this could be understood as having some order, which may not be the case, and for that reason, Label encoding can only by used for target variables)."
   ]
  },
  {
   "cell_type": "markdown",
   "metadata": {},
   "source": [
    " **While OrdinalEncoder is for converting features, LabelEncoder is for converting target variable**."
   ]
  },
  {
   "cell_type": "markdown",
   "metadata": {},
   "source": [
    "Other important differences from **OrdinalEncoder** vs **LabelEncoder**:"
   ]
  },
  {
   "cell_type": "markdown",
   "metadata": {},
   "source": [
    "- OrdinalEncoder for 2D data; shape (n_samples, n_features), LabelEncoder is for 1D data: for shape (n_samples,))\n",
    "- Another difference between the encoders is the name of their learned parameter: LabelEncoder learns `classes_`   ; OrdinalEncoder learns `categories_`"
   ]
  },
  {
   "cell_type": "markdown",
   "metadata": {},
   "source": [
    "We begin, once again by loading the dataset:"
   ]
  },
  {
   "cell_type": "code",
   "execution_count": null,
   "metadata": {},
   "outputs": [],
   "source": [
    "df = load_dataset()\n",
    "df.head()"
   ]
  },
  {
   "cell_type": "markdown",
   "metadata": {},
   "source": [
    "To perform label encoding in pandas we can resort to `pd.factorize` function which requires a series object (the reason for us to use [0]; then reshape will define multiple rows (-1) with 1 column). Compared to the find and replace approach, here, the numbers for the categories `CUSTOMER_TYPE` are automatically assigned without any specific meaning. Indeed it uses the order of data appearing in the dataframe. Thus we will have: \n",
    "- Premium --> 0\n",
    "- NonPremium --> 1"
   ]
  },
  {
   "cell_type": "markdown",
   "metadata": {},
   "source": [
    "One major issue with this approach is there is no relation or order between these classes, but the algorithm might consider them as some order or some relationship (e.g., premium < nonpremium). **Thus, label encoders should only be used to encode the target values not the feature values**. For feature values we should use **ordinal encoding** if the order has some meaning or **one hot encoding** as we will see next."
   ]
  },
  {
   "cell_type": "code",
   "execution_count": null,
   "metadata": {},
   "outputs": [],
   "source": [
    "df[\"CUSTOMER_TYPE\"] = pd.factorize(df['CUSTOMER_TYPE'])[0].reshape(-1,1)\n",
    "df.head()"
   ]
  },
  {
   "cell_type": "markdown",
   "metadata": {},
   "source": [
    "In addition to the pandas approach, scikit-learn provides similar functionality. Personally, I find using pandas a little simpler to understand but the scikit approach is optimal when you are trying to build a predictive model."
   ]
  },
  {
   "cell_type": "markdown",
   "metadata": {},
   "source": [
    "Instead of pandas, however, sklearn will not use the order of the data appearing in th dataframe but instead the alphabetical sorted order:\n",
    "- NonPremium --> 0\n",
    "- Premium --> 1"
   ]
  },
  {
   "cell_type": "code",
   "execution_count": null,
   "metadata": {},
   "outputs": [],
   "source": [
    "from sklearn.preprocessing import LabelEncoder\n",
    "\n",
    "encoder = LabelEncoder()\n",
    "df['CUSTOMER_TYPE'] = encoder.fit_transform(df[\"CUSTOMER_TYPE\"])\n",
    "df.head(10)"
   ]
  },
  {
   "cell_type": "markdown",
   "metadata": {},
   "source": [
    "<hr>"
   ]
  },
  {
   "cell_type": "markdown",
   "metadata": {},
   "source": [
    "##### Nominal Features"
   ]
  },
  {
   "cell_type": "markdown",
   "metadata": {},
   "source": [
    "###### One Hot Encoding"
   ]
  },
  {
   "cell_type": "markdown",
   "metadata": {},
   "source": [
    "If we have the Nominal Dataset and If we perform the LabelEncoding, it encode the values on the basis of their alphabetical order. For instance, for the animal classification task the label variable, which is a nominal categorical variable can be encoded as: {‘rat’: 1, ‘dog’: 2, ‘ant’: 3}. "
   ]
  },
  {
   "cell_type": "markdown",
   "metadata": {},
   "source": [
    "There is one major issue with this - the labels in the animal classification problem should not be encoded to integers (like we have done above) since that would enforce an apparently incorrect natural ordering of: ‘rat’ < ‘dog’ < ‘ant’. While we understand no such ordering really exists and that the numbers 1, 2 and 3 do not hold any numerical ordering in the labels we have encoded, our Machine Learning model will not be able to intuitively understand that. "
   ]
  },
  {
   "cell_type": "markdown",
   "metadata": {},
   "source": [
    "If we feed these numbers directly into a model, the cost/loss function is likely to get affected by these values. Indeed, there is a very high probability that the model captures the relationship between the values while training and this will misleading to nominal features present in the data. This is something that we do not want! "
   ]
  },
  {
   "cell_type": "markdown",
   "metadata": {},
   "source": [
    "So how can we overcome this obstacle? Here comes the concept of One-Hot Encoding:"
   ]
  },
  {
   "cell_type": "markdown",
   "metadata": {},
   "source": [
    "- Every unique value in the category will be added as a feature and represented as a one-hot vector.\n",
    "- Each category is mapped with a binary variable containing either 0 or 1. Here, 0 represents the absence, and 1 represents the presence of that category.\n",
    "- These newly created binary features are known as Dummy variables.\n",
    "- The number of columns depends on the number of categories for features. This has the benefit of not weighting a value improperly but does have the downside of adding more columns to the data set which may slow down the learning significantly if the number of the category is very high for the feature. "
   ]
  },
  {
   "cell_type": "markdown",
   "metadata": {},
   "source": [
    "So lets understand how we can encode the one-hot encoding on the `CITY` feature."
   ]
  },
  {
   "cell_type": "code",
   "execution_count": null,
   "metadata": {},
   "outputs": [],
   "source": [
    "df = load_dataset()\n",
    "df.head()"
   ]
  },
  {
   "cell_type": "markdown",
   "metadata": {},
   "source": [
    "Pandas supports this feature using `get_dummies`. Note that the column `CITY` is automatically deleted once the new columns are generated."
   ]
  },
  {
   "cell_type": "code",
   "execution_count": null,
   "metadata": {},
   "outputs": [],
   "source": [
    "pd.get_dummies(df, columns=[\"CITY\"]).head()"
   ]
  },
  {
   "cell_type": "markdown",
   "metadata": {},
   "source": [
    "It can also be applied to more than one column and enables one to specify a prefix for the newly generated columns. In the following we apply it to the `CITY` and the `PAYMENT_MODE_CARD` features adding the prefix `PAYMENT` for the newly generated columns."
   ]
  },
  {
   "cell_type": "code",
   "execution_count": null,
   "metadata": {},
   "outputs": [],
   "source": [
    "df = load_dataset()\n",
    "df = pd.get_dummies(df, prefix = ['CITY', 'PAYMENT'], columns= ['CITY', 'PAYMENT_MODE_CARD'])\n",
    "df.head()"
   ]
  },
  {
   "cell_type": "markdown",
   "metadata": {},
   "source": [
    "Scikit-learn also supports binary encoding by using the OneHotEncoder. We use a similar process as above to transform the data but the process of creating a pandas DataFrame adds a couple of extra steps."
   ]
  },
  {
   "cell_type": "code",
   "execution_count": null,
   "metadata": {},
   "outputs": [],
   "source": [
    "from sklearn.preprocessing import OneHotEncoder\n",
    "\n",
    "df = load_dataset()\n",
    "\n",
    "encoder = OneHotEncoder()\n",
    "hot = encoder.fit_transform(df[[\"CITY\"]])\n",
    "pd.DataFrame(hot.toarray(), columns=[\"CITY_\" + name for name in encoder.categories_])"
   ]
  },
  {
   "cell_type": "markdown",
   "metadata": {},
   "source": [
    "The following example shows how to encode the variable and at the same time join the encoding result with the dataframe. Here is an example:"
   ]
  },
  {
   "cell_type": "code",
   "execution_count": null,
   "metadata": {},
   "outputs": [],
   "source": [
    "from sklearn.preprocessing import OneHotEncoder\n",
    "\n",
    "encoder = OneHotEncoder()\n",
    "hot = encoder.fit_transform(df[[\"CITY\"]])\n",
    "df = df.join(pd.DataFrame(hot.toarray(), columns=[\"CITY_\" + name for name in encoder.categories_]))\n",
    "df.head()"
   ]
  },
  {
   "cell_type": "markdown",
   "metadata": {},
   "source": [
    "However, it may probably make more sense to have indexes as names of the newly generated columns:"
   ]
  },
  {
   "cell_type": "code",
   "execution_count": null,
   "metadata": {},
   "outputs": [],
   "source": [
    "from sklearn.preprocessing import OneHotEncoder\n",
    "\n",
    "df = load_dataset()\n",
    "\n",
    "encoder = OneHotEncoder()\n",
    "hot = encoder.fit_transform(df[[\"CITY\"]])\n",
    "df = df.join(pd.DataFrame(hot.toarray(), columns=[\"CITY_\" + str(i) for i in range(len(df['CITY'].unique()))]))\n",
    "df.head()"
   ]
  },
  {
   "cell_type": "markdown",
   "metadata": {},
   "source": [
    "Also, don't forget to delete the `CITY` column feature:"
   ]
  },
  {
   "cell_type": "code",
   "execution_count": null,
   "metadata": {},
   "outputs": [],
   "source": [
    "df.drop(\"CITY\",inplace=True,axis=1) #droping the \"CITY\" column \n",
    "df.head()"
   ]
  },
  {
   "cell_type": "markdown",
   "metadata": {},
   "source": [
    "The following shows how to do this process to more than one feature."
   ]
  },
  {
   "cell_type": "code",
   "execution_count": null,
   "metadata": {},
   "outputs": [],
   "source": [
    "from sklearn.preprocessing import OneHotEncoder\n",
    "\n",
    "df = load_dataset()\n",
    "\n",
    "encoder = OneHotEncoder()\n",
    "hot = encoder.fit_transform(df[[\"CITY\",\"PAYMENT_MODE_CARD\"]])\n",
    "#encoder.categories_\n",
    "df = df.join(pd.DataFrame(hot.toarray(), columns=[\"CITY_\" + name for name in encoder.categories_[0]] + [\"PAYMENT_\" + name for name in encoder.categories_[1]]))\n",
    "df.head()"
   ]
  },
  {
   "cell_type": "markdown",
   "metadata": {},
   "source": [
    "Note that the parameter `drop='if_binary'` can be used in the `OneHotEnconder` (e.g., `OneHotEncoder(drop='if_binary')`) whenever we want to discard the creation of two columns (when in the presence of binary features). For instance, in machine learning models it doesn't make sense to have both `PAYMENT_N` and `PAYMENT_Y`."
   ]
  },
  {
   "cell_type": "markdown",
   "metadata": {},
   "source": [
    "<u>**Drawbacks of One-Hot and Dummy Encoding**</u>"
   ]
  },
  {
   "cell_type": "markdown",
   "metadata": {},
   "source": [
    "- if there are multiple categories in a feature variable in such a case we need a similar number of dummy variables to encode the data. For example, a column with 100 different values will require 100 new variables for coding.\n",
    "- If we have multiple categorical features in the dataset ,again we will end to have several binary features each representing the categorical feature and their multiple categories.\n",
    "- In both the above cases, these two encoding schemes introduce sparsity in the dataset i.e several columns having 0s and a few of them having 1s. In other words, it creates multiple dummy features in the dataset without adding much information.\n",
    "- Due to the massive increase in the dataset, coding slows down the learning of the model along with deteriorating the overall performance that ultimately makes the model computationally expensive.\n",
    "- Further, while using tree-based models these encodings are not an optimum choice."
   ]
  },
  {
   "cell_type": "markdown",
   "metadata": {},
   "source": [
    "##### Wrap-up"
   ]
  },
  {
   "cell_type": "markdown",
   "metadata": {},
   "source": [
    "We apply one hot encoding when:\n",
    "- The categorical feature is not ordinal (e.g., CITY names)\n",
    "- The number of categorical feature instances is reduced such that one-hot encoding can be applied efficiently."
   ]
  },
  {
   "cell_type": "markdown",
   "metadata": {},
   "source": [
    "We apply labeling enconding and ordinal encoding when:\n",
    "- the categorical feature is ordinal (e.g., primary school, high school)\n",
    "- the number of categories is quite large (and one-hot encoding cannot be applied due to memory consumption)"
   ]
  },
  {
   "cell_type": "markdown",
   "metadata": {},
   "source": [
    "You use ordinal encoding to preserve order of categorical data i.e. `cold, warm, hot; low, medium, high`. You use label encoding or one hot for categorical data, where there's no order in data i.e. `dog, cat, whale`. "
   ]
  },
  {
   "cell_type": "markdown",
   "metadata": {},
   "source": [
    "Note however that LabelEncoding assumes an order (the same way Ordinal does). Thus LabelEncoding should also be used on top of the target variables. Running it over feature variable may be risky as some algorithms may take into account its alleged ranking order."
   ]
  },
  {
   "cell_type": "markdown",
   "metadata": {},
   "source": [
    "- target variables: LabelEncoding (nominal)\n",
    "- feature variables: OneHotEncoding (nominal) or OrdinalEncoding (ordinal)."
   ]
  },
  {
   "cell_type": "markdown",
   "metadata": {},
   "source": [
    "Other differences:"
   ]
  },
  {
   "cell_type": "markdown",
   "metadata": {},
   "source": [
    "- OrdinalEncoder for 2D data; shape (n_samples, n_features), LabelEncoder is for 1D data: for shape (n_samples,))\n",
    "- Another difference between the encoders is the name of their learned parameter: LabelEncoder learns `classes_`   ; OrdinalEncoder learns `categories_`"
   ]
  },
  {
   "cell_type": "markdown",
   "metadata": {},
   "source": [
    "<u>**sklearn.preprocessing.OneHotEncoder instead of pd.get_dummies**</u>"
   ]
  },
  {
   "cell_type": "markdown",
   "metadata": {},
   "source": [
    "- This is because sklearn.preprocessing.OneHotEncoder returns an object of sklearn.preprocessing.OneHotEncoder class. We can fit this object on the training set and then use the same object to transform the test set.\n",
    "- On the other hand, pd.get_dummies returns a dataframe with encodings based on the values in the dataframe we pass to it. This might be good for a quick analysis, but for an extended model building project where you train on training set and will be later testing on a test set, I would suggest using sklearn.preprocessing.OneHotEncoder."
   ]
  },
  {
   "cell_type": "markdown",
   "metadata": {},
   "source": [
    "##### Advanced Approaches"
   ]
  },
  {
   "cell_type": "markdown",
   "metadata": {},
   "source": [
    "There are even more advanced algorithms for categorical encoding. A description of some of those advanced approaches can be seen here: https://towardsdatascience.com/all-about-categorical-variable-encoding-305f3361fd02 and here: https://pbpython.com/categorical-encoding.html"
   ]
  },
  {
   "cell_type": "markdown",
   "metadata": {},
   "source": [
    "A python package to play with these advanced approaches can ge found here: https://github.com/scikit-learn-contrib/category_encoders"
   ]
  },
  {
   "cell_type": "markdown",
   "metadata": {},
   "source": [
    "##### scikit-learn pipelines"
   ]
  },
  {
   "cell_type": "markdown",
   "metadata": {},
   "source": [
    "As mentioned above, scikit-learn’s categorical encoders allow you to incorporate the transformation into your pipelines which can simplify the model building process and avoid some pitfalls. I recommend this Data School video as a good intro. "
   ]
  },
  {
   "cell_type": "code",
   "execution_count": null,
   "metadata": {},
   "outputs": [],
   "source": [
    "from IPython.display import HTML\n",
    "HTML('<div align=\"center\"><iframe width=\"560\" height=\"315\" src=\"https://www.youtube.com/embed/irHhDMbw3xo\" frameborder=\"0\" allow=\"autoplay; encrypted-media\" allowfullscreen></iframe></div>')"
   ]
  },
  {
   "cell_type": "markdown",
   "metadata": {},
   "source": [
    "So we begin again by importing our dataset:"
   ]
  },
  {
   "cell_type": "code",
   "execution_count": null,
   "metadata": {},
   "outputs": [],
   "source": [
    "import pandas as pd\n",
    "import numpy as np\n",
    "\n",
    "# Define the headers since the data does not have any\n",
    "headers = [\"symboling\", \"normalized_losses\", \"make\", \"fuel_type\", \"aspiration\",\n",
    "           \"num_doors\", \"body_style\", \"drive_wheels\", \"engine_location\",\n",
    "           \"wheel_base\", \"length\", \"width\", \"height\", \"curb_weight\",\n",
    "           \"engine_type\", \"num_cylinders\", \"engine_size\", \"fuel_system\",\n",
    "           \"bore\", \"stroke\", \"compression_ratio\", \"horsepower\", \"peak_rpm\",\n",
    "           \"city_mpg\", \"highway_mpg\", \"price\"]\n",
    "\n",
    "# Read in the CSV file and convert \"?\" to NaN\n",
    "df = pd.read_csv(\"https://archive.ics.uci.edu/ml/machine-learning-databases/autos/imports-85.data\",\n",
    "                  header=None, names=headers, na_values=\"?\" )\n",
    "df.head()"
   ]
  },
  {
   "cell_type": "markdown",
   "metadata": {},
   "source": [
    "In this example we are going to try to predict the `price` based on a number of features `fuel_type`, `make`, `aspiration`, `highway_mpg`, `city_mpg`, `curb_weight`, `drive_wheels`"
   ]
  },
  {
   "cell_type": "markdown",
   "metadata": {},
   "source": [
    "The following code show us that the target column `price` has some `NaN` values."
   ]
  },
  {
   "cell_type": "code",
   "execution_count": null,
   "metadata": {},
   "outputs": [],
   "source": [
    "df.columns[df.isnull().any()]"
   ]
  },
  {
   "cell_type": "markdown",
   "metadata": {},
   "source": [
    "So a good starting point is to remove NaN values on the price column:"
   ]
  },
  {
   "cell_type": "code",
   "execution_count": null,
   "metadata": {},
   "outputs": [],
   "source": [
    "# Remove the empty price rows\n",
    "df = df.dropna(subset=['price'])"
   ]
  },
  {
   "cell_type": "markdown",
   "metadata": {},
   "source": [
    "Next we define the features columns and the target"
   ]
  },
  {
   "cell_type": "code",
   "execution_count": null,
   "metadata": {},
   "outputs": [],
   "source": [
    "# for the purposes of this analysis, only use a small subset of features\n",
    "\n",
    "feature_cols = [\n",
    "    'fuel_type', 'make', 'aspiration', 'highway_mpg', 'city_mpg',\n",
    "    'curb_weight', 'drive_wheels'\n",
    "]\n",
    "\n",
    "X = df[feature_cols]\n",
    "y = df['price']"
   ]
  },
  {
   "cell_type": "code",
   "execution_count": null,
   "metadata": {},
   "outputs": [],
   "source": [
    "X.head()"
   ]
  },
  {
   "cell_type": "markdown",
   "metadata": {},
   "source": [
    "Now that we have our data, let’s build the column transformer. This example shows how to apply different encoder types for certain columns. Using the remainder='passthrough' argument to pass all the numeric values through the pipeline without any changes."
   ]
  },
  {
   "cell_type": "code",
   "execution_count": null,
   "metadata": {},
   "outputs": [],
   "source": [
    "from sklearn.compose import make_column_transformer\n",
    "\n",
    "from sklearn.preprocessing import OneHotEncoder\n",
    "from sklearn.preprocessing import OrdinalEncoder\n",
    "\n",
    "column_trans = make_column_transformer((OneHotEncoder(handle_unknown='ignore'),\n",
    "                                        ['fuel_type', 'make', 'drive_wheels']),\n",
    "                                      (OrdinalEncoder(), ['aspiration']),\n",
    "                                      remainder='passthrough')"
   ]
  },
  {
   "cell_type": "markdown",
   "metadata": {},
   "source": [
    "For the model, we use a simple linear regression and then make the pipeline (which takes the data that we pass to it; it transforms the columns (pre-processing steps); builds the model):"
   ]
  },
  {
   "cell_type": "code",
   "execution_count": null,
   "metadata": {},
   "outputs": [],
   "source": [
    "from sklearn.linear_model import LinearRegression\n",
    "from sklearn.pipeline import make_pipeline\n",
    "\n",
    "pipe = make_pipeline(column_trans, LinearRegression())"
   ]
  },
  {
   "cell_type": "markdown",
   "metadata": {},
   "source": [
    "Run the cross validation 10 times using the negative mean absolute error as our scoring function. Finally, take the average of the 10 values to see the magnitude of the error:"
   ]
  },
  {
   "cell_type": "code",
   "execution_count": null,
   "metadata": {},
   "outputs": [],
   "source": [
    "from sklearn.model_selection import cross_val_score\n",
    "cross_val_score(pipe, X, y, cv=5, scoring='neg_mean_absolute_error').mean().round(2)"
   ]
  },
  {
   "cell_type": "markdown",
   "metadata": {},
   "source": [
    "Another example, this time for the Titanic dataset and for the above video can be seen here: https://github.com/justmarkham/scikit-learn-videos/blob/master/10_categorical_features.ipynb"
   ]
  },
  {
   "cell_type": "markdown",
   "metadata": {},
   "source": [
    "`Pipelines` are a convenient and intuitive way to structure our ML flows, which are characterized by a predictable sequence of core tasks including preprocessing, feature selection, standardization/normalization, and classification."
   ]
  },
  {
   "cell_type": "markdown",
   "metadata": {},
   "source": [
    "## Bibliography"
   ]
  },
  {
   "cell_type": "markdown",
   "metadata": {},
   "source": [
    "- https://towardsdatascience.com/7-must-know-data-wrangling-operations-with-python-pandas-849438a90d15\n",
    "- https://towardsdatascience.com/all-about-categorical-variable-encoding-305f3361fd02\n",
    "- https://pbpython.com/categorical-encoding.html"
   ]
  }
 ],
 "metadata": {
  "kernelspec": {
   "display_name": "Python 3 (ipykernel)",
   "language": "python",
   "name": "python3"
  },
  "language_info": {
   "codemirror_mode": {
    "name": "ipython",
    "version": 3
   },
   "file_extension": ".py",
   "mimetype": "text/x-python",
   "name": "python",
   "nbconvert_exporter": "python",
   "pygments_lexer": "ipython3",
   "version": "3.11.7"
  },
  "toc": {
   "base_numbering": 1,
   "nav_menu": {},
   "number_sections": true,
   "sideBar": true,
   "skip_h1_title": false,
   "title_cell": "Table of Contents",
   "title_sidebar": "Contents",
   "toc_cell": true,
   "toc_position": {
    "height": "calc(100% - 180px)",
    "left": "10px",
    "top": "150px",
    "width": "256px"
   },
   "toc_section_display": true,
   "toc_window_display": true
  }
 },
 "nbformat": 4,
 "nbformat_minor": 4
}
