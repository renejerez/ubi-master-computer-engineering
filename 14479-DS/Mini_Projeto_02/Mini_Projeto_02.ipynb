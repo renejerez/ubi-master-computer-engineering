{
 "cells": [
  {
   "cell_type": "markdown",
   "metadata": {
    "slideshow": {
     "slide_type": "skip"
    }
   },
   "source": [
    "<div style=\"border: 1px solid black\">\n",
    "<b><center><font size=\"3\">Data Acquisition</font></center></b>\n",
    "\n",
    "<b><center><font size=\"2\">Web Scraping Project</font></center></b>\n",
    "</div>"
   ]
  },
  {
   "cell_type": "markdown",
   "metadata": {
    "slideshow": {
     "slide_type": "skip"
    }
   },
   "source": [
    "**Notebook Developed by**: Rene Jerez </b>\n",
    "\n",
    "**Notebook Co-writer by**: ChatGPT </b>\n",
    "\n",
    "**Notebook Based on**: [Ricardo Campos](https://www.di.ubi.pt/~rcampos)<br>\n",
    "\n"
   ]
  },
  {
   "cell_type": "markdown",
   "metadata": {
    "toc": true
   },
   "source": [
    "<h1>Table of Contents<span class=\"tocSkip\"></span></h1>\n",
    "<div class=\"toc\"><ul class=\"toc-item\"><li><span>\n",
    "<a href=\"#Informação de uma página web estática 1\" data-toc-modified-id=\"Informação de uma página web estática 1-1\"><span class=\"toc-item-num\">1&nbsp;&nbsp;</span>Informação de uma página web estática</a></span></span></li>\n",
    "<li><span>\n",
    "<a href=\"#Informação de uma página web dinâmica 2\" data-toc-modified-id=\"Informação de uma página web dinâmica 2-2\"><span class=\"toc-item-num\">2&nbsp;&nbsp;</span>Informação de uma página web dinâmica</a></span>\n"
   ]
  },
  {
   "cell_type": "markdown",
   "metadata": {},
   "source": [
    "### 1. Informação de uma página web estática"
   ]
  },
  {
   "cell_type": "markdown",
   "metadata": {},
   "source": [
    "Obter melhores preços de tickets aereos da Companhia RyanAir com origem no Aeroporto do Porto"
   ]
  },
  {
   "cell_type": "code",
   "execution_count": 5,
   "metadata": {},
   "outputs": [],
   "source": [
    "import requests\n",
    "from bs4 import BeautifulSoup\n",
    "import pandas as pd\n",
    "from urllib.parse import urlencode\n",
    "from selenium import webdriver\n",
    "from selenium.webdriver.chrome.service import Service\n",
    "from webdriver_manager.chrome import ChromeDriverManager\n",
    "from selenium.webdriver.common.by import By\n",
    "import time\n",
    "import logging"
   ]
  },
  {
   "cell_type": "code",
   "execution_count": 16,
   "metadata": {},
   "outputs": [],
   "source": [
    "# logging settings\n",
    "logging.basicConfig(level=logging.INFO)"
   ]
  },
  {
   "cell_type": "code",
   "execution_count": 21,
   "metadata": {},
   "outputs": [],
   "source": [
    "########################################\n",
    "# Make a URL variable\n",
    "########################################\n",
    "\n",
    "# Base URL\n",
    "base_url = 'https://www.ryanair.com/gb/en/cheap-flights-beta'\n",
    "\n",
    "# Query parameters\n",
    "payload = {\n",
    "    'originIata': 'OPO',\n",
    "    'destinationIata': 'ANY',\n",
    "    'isReturn': 'true',\n",
    "    'isMacDestination': 'false',\n",
    "    'promoCode': '',\n",
    "    'adults': '1',\n",
    "    'teens': '0',\n",
    "    'children': '0',\n",
    "    'infants': '0',\n",
    "    'dateOut': '2024-04-01',\n",
    "    'dateIn': '2024-04-30',\n",
    "    'daysTrip': '3',\n",
    "    'dayOfWeek': 'FRIDAY',\n",
    "    'isExactDate': 'false',\n",
    "    'outboundFromHour': '00:00',\n",
    "    'outboundToHour': '23:59',\n",
    "    'inboundFromHour': '00:00',\n",
    "    'inboundToHour': '23:59',\n",
    "    'priceValueTo': '',\n",
    "    'currency': 'EUR',\n",
    "    'isFlexibleDay': 'false'\n",
    "}\n",
    "\n",
    "# Encode parameters\n",
    "query_string = urlencode(payload)\n",
    "\n",
    "# Full URL\n",
    "ryanair_url = f\"{base_url}?{query_string}\"\n",
    "#ryanair_url = 'https://www.ryanair.com/gb/en/cheap-flights-beta?originIata=OPO&destinationIata=ANY&isReturn=false&isMacDestination=false&promoCode=&adults=1&teens=0&children=0&infants=0&dateOut=2024-04-01&dateIn=2024-04-30&daysTrip=3&dayOfWeek=FRIDAY&isExactDate=false&outboundFromHour=00:00&outboundToHour=23:59&priceValueTo=&currency=EUR&isFlexibleDay=false'\n"
   ]
  },
  {
   "cell_type": "code",
   "execution_count": 22,
   "metadata": {},
   "outputs": [
    {
     "name": "stderr",
     "output_type": "stream",
     "text": [
      "2024-04-02 22:45:15,864 - INFO - ====== WebDriver manager ======\n",
      "2024-04-02 22:45:17,068 - INFO - Get LATEST chromedriver version for google-chrome\n",
      "2024-04-02 22:45:17,902 - INFO - Get LATEST chromedriver version for google-chrome\n",
      "2024-04-02 22:45:18,913 - INFO - Driver [C:\\Users\\rene_\\.wdm\\drivers\\chromedriver\\win64\\123.0.6312.86\\chromedriver-win32/chromedriver.exe] found in cache\n",
      "2024-04-02 22:46:26,954 - INFO - Start extracting content\n"
     ]
    }
   ],
   "source": [
    "########################################\n",
    "# Selenium Exraction\n",
    "########################################\n",
    "\n",
    "# Initialize WebDriver\n",
    "driver = webdriver.Chrome(service=Service(ChromeDriverManager().install()))\n",
    "\n",
    "# Open URL\n",
    "driver.get(ryanair_url)\n",
    "\n",
    "# Process info\n",
    "logging.info(\"Start extracting content\")\n",
    "\n",
    "# Wait\n",
    "time.sleep(60)\n",
    "\n",
    "# Extract info\n",
    "page_content = driver.page_source\n",
    "\n",
    "\n",
    "# Save info in html file\n",
    "with open('page.html', 'w', encoding='utf-8') as f:\n",
    "    f.write(page_content)\n",
    "\n",
    "driver.quit()"
   ]
  },
  {
   "cell_type": "code",
   "execution_count": 23,
   "metadata": {},
   "outputs": [
    {
     "name": "stdout",
     "output_type": "stream",
     "text": [
      "File 'destinations.html' has been created with the extracted content.\n"
     ]
    }
   ],
   "source": [
    "########################################\n",
    "# Find destinations in the full content\n",
    "########################################\n",
    "\n",
    "# Load HTML file\n",
    "with open('page.html', 'r', encoding='utf-8') as file:\n",
    "    html_content = file.read()\n",
    "\n",
    "# Parse with Soup\n",
    "soup = BeautifulSoup(html_content, 'html.parser')\n",
    "\n",
    "# Find destinations classes\n",
    "elements = soup.find_all(class_='country-card__content')\n",
    "all_elements_html = \"\"\n",
    "\n",
    "\n",
    "# Check if any elements were found\n",
    "if elements:\n",
    "    for element in elements:\n",
    "        # Convert to a string\n",
    "        element_html = str(element)\n",
    "\n",
    "        # Append all elements\n",
    "        all_elements_html += element_html + \"\\n\\n\"\n",
    "        \n",
    "else:\n",
    "    print(\"No destinations classes found.\")\n",
    "\n",
    "\n",
    "# Save file 'destinations.html'\n",
    "if all_elements_html:\n",
    "    with open('destinations.html', 'w', encoding='utf-8') as f:\n",
    "        f.write(all_elements_html)\n",
    "    print(\"File 'destinations.html' has been created with the extracted content.\")\n",
    "    \n",
    "else:\n",
    "    print(\"No content to write to 'destinations.html'.\")"
   ]
  },
  {
   "cell_type": "code",
   "execution_count": 26,
   "metadata": {},
   "outputs": [],
   "source": [
    "########################################\n",
    "# Convert from HTML to Dataframe\n",
    "########################################\n",
    "\n",
    "# Load HTML file\n",
    "with open('destinations.html', 'r', encoding='utf-8') as file:\n",
    "    html_content = file.read()\n",
    "\n",
    "# Parse HTML with Soup\n",
    "soup = BeautifulSoup(html_content, 'html.parser')\n",
    "\n",
    "# Info we need\n",
    "countries = []\n",
    "dates = []\n",
    "prices = []\n",
    "\n",
    "# Find destinations\n",
    "elements = soup.find_all(class_='country-card__content')\n",
    "\n",
    "# Select informations about Country, Date and Price\n",
    "for element in elements:\n",
    "    # Country\n",
    "    country = element.find(class_='country-card__country').text.strip()\n",
    "    countries.append(country)\n",
    "    \n",
    "    # Date\n",
    "    date_info = element.find(class_='b2').text.strip()\n",
    "    dates.append(date_info)\n",
    "    \n",
    "    # Price\n",
    "    price = element.find(class_='country-card__price').text.strip()\n",
    "    prices.append(price)\n",
    "\n",
    "# Final dataframe\n",
    "df_ryanair = pd.DataFrame({\n",
    "    'Country': countries,\n",
    "    'Date Info': dates,\n",
    "    'Price': prices\n",
    "})"
   ]
  },
  {
   "cell_type": "code",
   "execution_count": 27,
   "metadata": {},
   "outputs": [
    {
     "data": {
      "text/html": [
       "<div>\n",
       "<style scoped>\n",
       "    .dataframe tbody tr th:only-of-type {\n",
       "        vertical-align: middle;\n",
       "    }\n",
       "\n",
       "    .dataframe tbody tr th {\n",
       "        vertical-align: top;\n",
       "    }\n",
       "\n",
       "    .dataframe thead th {\n",
       "        text-align: right;\n",
       "    }\n",
       "</style>\n",
       "<table border=\"1\" class=\"dataframe\">\n",
       "  <thead>\n",
       "    <tr style=\"text-align: right;\">\n",
       "      <th></th>\n",
       "      <th>Country</th>\n",
       "      <th>Date Info</th>\n",
       "      <th>Price</th>\n",
       "    </tr>\n",
       "  </thead>\n",
       "  <tbody>\n",
       "    <tr>\n",
       "      <th>0</th>\n",
       "      <td>Portugal  3 days in April</td>\n",
       "      <td>3 days in April</td>\n",
       "      <td>€94.57</td>\n",
       "    </tr>\n",
       "    <tr>\n",
       "      <th>1</th>\n",
       "      <td>Morocco  3 days in April</td>\n",
       "      <td>3 days in April</td>\n",
       "      <td>€105.04</td>\n",
       "    </tr>\n",
       "    <tr>\n",
       "      <th>2</th>\n",
       "      <td>Spain  3 days in April</td>\n",
       "      <td>3 days in April</td>\n",
       "      <td>€122.88</td>\n",
       "    </tr>\n",
       "    <tr>\n",
       "      <th>3</th>\n",
       "      <td>United Kingdom  3 days in April</td>\n",
       "      <td>3 days in April</td>\n",
       "      <td>€123.88</td>\n",
       "    </tr>\n",
       "    <tr>\n",
       "      <th>4</th>\n",
       "      <td>France  3 days in April</td>\n",
       "      <td>3 days in April</td>\n",
       "      <td>€171.37</td>\n",
       "    </tr>\n",
       "    <tr>\n",
       "      <th>5</th>\n",
       "      <td>Hungary  3 days in April</td>\n",
       "      <td>3 days in April</td>\n",
       "      <td>€191.62</td>\n",
       "    </tr>\n",
       "    <tr>\n",
       "      <th>6</th>\n",
       "      <td>Belgium  3 days in April</td>\n",
       "      <td>3 days in April</td>\n",
       "      <td>€239.30</td>\n",
       "    </tr>\n",
       "  </tbody>\n",
       "</table>\n",
       "</div>"
      ],
      "text/plain": [
       "                           Country        Date Info    Price\n",
       "0        Portugal  3 days in April  3 days in April   €94.57\n",
       "1         Morocco  3 days in April  3 days in April  €105.04\n",
       "2           Spain  3 days in April  3 days in April  €122.88\n",
       "3  United Kingdom  3 days in April  3 days in April  €123.88\n",
       "4          France  3 days in April  3 days in April  €171.37\n",
       "5         Hungary  3 days in April  3 days in April  €191.62\n",
       "6         Belgium  3 days in April  3 days in April  €239.30"
      ]
     },
     "execution_count": 27,
     "metadata": {},
     "output_type": "execute_result"
    }
   ],
   "source": [
    "########################################\n",
    "# Flights Recommendations\n",
    "########################################\n",
    "df_ryanair"
   ]
  },
  {
   "cell_type": "code",
   "execution_count": null,
   "metadata": {},
   "outputs": [],
   "source": []
  },
  {
   "cell_type": "code",
   "execution_count": null,
   "metadata": {},
   "outputs": [],
   "source": []
  },
  {
   "cell_type": "markdown",
   "metadata": {},
   "source": [
    "### 2. Informação de uma página web Dinâmica"
   ]
  },
  {
   "cell_type": "markdown",
   "metadata": {},
   "source": [
    "Obter Contratos Publicos recentes de origem da Covilhã"
   ]
  },
  {
   "cell_type": "code",
   "execution_count": 8,
   "metadata": {},
   "outputs": [],
   "source": [
    "########################################\n",
    "# Make a URL variable\n",
    "########################################\n",
    "\n",
    "# Base URL\n",
    "base_url = 'https://www.base.gov.pt/Base4/pt/pesquisa/'\n",
    "\n",
    "# Query parameters\n",
    "payload = {\n",
    "            'type':'contratos',\n",
    "            'texto':'',\n",
    "            'tipo':'0',\n",
    "            'tipocontrato':'0',\n",
    "            'cpv':'',\n",
    "            'aqinfo':'',\n",
    "            'adjudicante':'',\n",
    "            'adjudicataria':'',\n",
    "            'sel_price':'price_c1',\n",
    "            'desdeprecocontrato':'',\n",
    "            'ateprecocontrato':'',\n",
    "            'desdeprecoefectivo':'',\n",
    "            'ateprecoefectivo':'',\n",
    "            'desdeprazoexecucao':'',\n",
    "            'ateprazoexecucao':'',\n",
    "            'sel_date':'date_c1',\n",
    "            'desdedatacontrato':'2024-03-01',\n",
    "            'atedatacontrato':'2024-03-31',\n",
    "            'desdedatapublicacao':'',\n",
    "            'atedatapublicacao':'',\n",
    "            'desdedatafecho':'',\n",
    "            'atedatafecho':'',\n",
    "            'pais':'187',\n",
    "            'distrito':'6',\n",
    "            'concelho':'68'\n",
    "}\n",
    "\n",
    "# Encode parameters\n",
    "query_string = urlencode(payload)\n",
    "\n",
    "# Full URL\n",
    "url_covilha = f\"{base_url}?{query_string}\"\n"
   ]
  },
  {
   "cell_type": "code",
   "execution_count": 17,
   "metadata": {},
   "outputs": [
    {
     "name": "stderr",
     "output_type": "stream",
     "text": [
      "2024-04-02 22:36:50,887 - INFO - ====== WebDriver manager ======\n",
      "2024-04-02 22:36:52,133 - INFO - Get LATEST chromedriver version for google-chrome\n",
      "2024-04-02 22:36:53,516 - INFO - Get LATEST chromedriver version for google-chrome\n",
      "2024-04-02 22:36:54,492 - INFO - Driver [C:\\Users\\rene_\\.wdm\\drivers\\chromedriver\\win64\\123.0.6312.86\\chromedriver-win32/chromedriver.exe] found in cache\n",
      "2024-04-02 22:37:04,212 - INFO - Start extracting content\n",
      "2024-04-02 22:38:04,381 - INFO - Set headers\n",
      "2024-04-02 22:38:10,603 - INFO - Finish extraction\n"
     ]
    }
   ],
   "source": [
    "########################################\n",
    "# Extract content from website\n",
    "########################################\n",
    "\n",
    "# Initialize WebDriver\n",
    "driver = webdriver.Chrome(service=Service(ChromeDriverManager().install()))\n",
    "\n",
    "# Open URL\n",
    "driver.get(url_covilha)\n",
    "\n",
    "# Process info\n",
    "logging.info(\"Start extracting content\")\n",
    "\n",
    "# Wait\n",
    "time.sleep(60)\n",
    "\n",
    "# Locate the table\n",
    "table = driver.find_element(By.CLASS_NAME, 'table-striped')\n",
    "\n",
    "# Assuming headers are in the first row\n",
    "headers = [th.text for th in table.find_elements(By.TAG_NAME, \"th\")]\n",
    "logging.info(\"Set headers\")\n",
    "\n",
    "overall_dict = {}\n",
    "for index, row in enumerate(table.find_elements(By.TAG_NAME, \"tr\")[1:], start=1):\n",
    "    cells = row.find_elements(By.TAG_NAME, \"td\")\n",
    "    row_dict = {headers[i]: cell.text for i, cell in enumerate(cells)}\n",
    "    overall_dict[f\"row_{index}\"] = row_dict\n",
    "\n",
    "logging.info(\"Finish extraction\")\n",
    "\n",
    "# Close the browser\n",
    "driver.quit()"
   ]
  },
  {
   "cell_type": "code",
   "execution_count": 18,
   "metadata": {},
   "outputs": [],
   "source": [
    "########################################\n",
    "# Convert from dictionary to dataframe\n",
    "########################################\n",
    "df_rows = pd.DataFrame.from_dict(overall_dict, orient='index')"
   ]
  },
  {
   "cell_type": "code",
   "execution_count": 19,
   "metadata": {},
   "outputs": [
    {
     "data": {
      "text/html": [
       "<div>\n",
       "<style scoped>\n",
       "    .dataframe tbody tr th:only-of-type {\n",
       "        vertical-align: middle;\n",
       "    }\n",
       "\n",
       "    .dataframe tbody tr th {\n",
       "        vertical-align: top;\n",
       "    }\n",
       "\n",
       "    .dataframe thead th {\n",
       "        text-align: right;\n",
       "    }\n",
       "</style>\n",
       "<table border=\"1\" class=\"dataframe\">\n",
       "  <thead>\n",
       "    <tr style=\"text-align: right;\">\n",
       "      <th></th>\n",
       "      <th>Objeto do contrato</th>\n",
       "      <th>Tipo de procedimento</th>\n",
       "      <th>Adjudicante</th>\n",
       "      <th>Adjudicatário</th>\n",
       "      <th>Preço contratual</th>\n",
       "      <th>Publicação</th>\n",
       "      <th></th>\n",
       "    </tr>\n",
       "  </thead>\n",
       "  <tbody>\n",
       "    <tr>\n",
       "      <th>row_1</th>\n",
       "      <td>Consulta Prévia nº 02/SASUBI/2024 - Aquisição ...</td>\n",
       "      <td>Consulta Prévia</td>\n",
       "      <td>Serviços de Acção Social da Universidade da Be...</td>\n",
       "      <td>PANIFICADORA CENTRAL DO TORTOSENDO LDA</td>\n",
       "      <td>22.977,80 €</td>\n",
       "      <td>02-04-2024</td>\n",
       "      <td></td>\n",
       "    </tr>\n",
       "    <tr>\n",
       "      <th>row_2</th>\n",
       "      <td>Ajuste Direto nº 02/SASUBI/2024 - Aquisição de...</td>\n",
       "      <td>Ajuste Direto Regime Geral</td>\n",
       "      <td>Serviços de Acção Social da Universidade da Be...</td>\n",
       "      <td>CONTACTO - REPRESENTAÇÕES E COMÉRCIO DE BEBIDA...</td>\n",
       "      <td>8.986,44 €</td>\n",
       "      <td>02-04-2024</td>\n",
       "      <td></td>\n",
       "    </tr>\n",
       "    <tr>\n",
       "      <th>row_3</th>\n",
       "      <td>Produtos de higiene</td>\n",
       "      <td>Ajuste Direto Regime Geral</td>\n",
       "      <td>Centro de Formação Profissional da Indústria T...</td>\n",
       "      <td>MUNDISAN - PAPEIS E PRODUTOS DE HIGIENE, LDA</td>\n",
       "      <td>3.588,26 €</td>\n",
       "      <td>02-04-2024</td>\n",
       "      <td></td>\n",
       "    </tr>\n",
       "    <tr>\n",
       "      <th>row_4</th>\n",
       "      <td>Aquisição de Serviços de Reparação de Telhado ...</td>\n",
       "      <td>Ajuste Direto Regime Geral</td>\n",
       "      <td>Escola Profissional Agrícola Quinta da Lageosa...</td>\n",
       "      <td>António Ventura, Unipessoal, Lda.</td>\n",
       "      <td>760,00 €</td>\n",
       "      <td>02-04-2024</td>\n",
       "      <td></td>\n",
       "    </tr>\n",
       "    <tr>\n",
       "      <th>row_5</th>\n",
       "      <td>Aquisição de dispositivos de proteção individual</td>\n",
       "      <td>Concurso público</td>\n",
       "      <td>Centro Hospitalar Universitário Cova da Beira,...</td>\n",
       "      <td>BARNA IMPORT MEDICA PORTUGAL-UNIPESSOAL, LDA</td>\n",
       "      <td>24.459,27 €</td>\n",
       "      <td>28-03-2024</td>\n",
       "      <td></td>\n",
       "    </tr>\n",
       "  </tbody>\n",
       "</table>\n",
       "</div>"
      ],
      "text/plain": [
       "                                      Objeto do contrato  \\\n",
       "row_1  Consulta Prévia nº 02/SASUBI/2024 - Aquisição ...   \n",
       "row_2  Ajuste Direto nº 02/SASUBI/2024 - Aquisição de...   \n",
       "row_3                                Produtos de higiene   \n",
       "row_4  Aquisição de Serviços de Reparação de Telhado ...   \n",
       "row_5   Aquisição de dispositivos de proteção individual   \n",
       "\n",
       "             Tipo de procedimento  \\\n",
       "row_1             Consulta Prévia   \n",
       "row_2  Ajuste Direto Regime Geral   \n",
       "row_3  Ajuste Direto Regime Geral   \n",
       "row_4  Ajuste Direto Regime Geral   \n",
       "row_5            Concurso público   \n",
       "\n",
       "                                             Adjudicante  \\\n",
       "row_1  Serviços de Acção Social da Universidade da Be...   \n",
       "row_2  Serviços de Acção Social da Universidade da Be...   \n",
       "row_3  Centro de Formação Profissional da Indústria T...   \n",
       "row_4  Escola Profissional Agrícola Quinta da Lageosa...   \n",
       "row_5  Centro Hospitalar Universitário Cova da Beira,...   \n",
       "\n",
       "                                           Adjudicatário Preço contratual  \\\n",
       "row_1             PANIFICADORA CENTRAL DO TORTOSENDO LDA      22.977,80 €   \n",
       "row_2  CONTACTO - REPRESENTAÇÕES E COMÉRCIO DE BEBIDA...       8.986,44 €   \n",
       "row_3       MUNDISAN - PAPEIS E PRODUTOS DE HIGIENE, LDA       3.588,26 €   \n",
       "row_4                  António Ventura, Unipessoal, Lda.         760,00 €   \n",
       "row_5       BARNA IMPORT MEDICA PORTUGAL-UNIPESSOAL, LDA      24.459,27 €   \n",
       "\n",
       "       Publicação    \n",
       "row_1  02-04-2024    \n",
       "row_2  02-04-2024    \n",
       "row_3  02-04-2024    \n",
       "row_4  02-04-2024    \n",
       "row_5  28-03-2024    "
      ]
     },
     "execution_count": 19,
     "metadata": {},
     "output_type": "execute_result"
    }
   ],
   "source": [
    "df_rows.head()"
   ]
  }
 ],
 "metadata": {
  "kernelspec": {
   "display_name": "Python 3 (ipykernel)",
   "language": "python",
   "name": "python3"
  },
  "language_info": {
   "codemirror_mode": {
    "name": "ipython",
    "version": 3
   },
   "file_extension": ".py",
   "mimetype": "text/x-python",
   "name": "python",
   "nbconvert_exporter": "python",
   "pygments_lexer": "ipython3",
   "version": "3.11.7"
  },
  "toc": {
   "base_numbering": 1,
   "nav_menu": {},
   "number_sections": true,
   "sideBar": true,
   "skip_h1_title": true,
   "title_cell": "Table of Contents",
   "title_sidebar": "Contents",
   "toc_cell": true,
   "toc_position": {
    "height": "calc(100% - 180px)",
    "left": "10px",
    "top": "150px",
    "width": "348.233px"
   },
   "toc_section_display": true,
   "toc_window_display": true
  }
 },
 "nbformat": 4,
 "nbformat_minor": 2
}
