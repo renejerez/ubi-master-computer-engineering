{
 "cells": [
  {
   "cell_type": "markdown",
   "metadata": {
    "slideshow": {
     "slide_type": "skip"
    }
   },
   "source": [
    "<div style=\"border: 1px solid black\">\n",
    "<b><center><font size=\"4\">Text2Analytics</font></center></b>\n",
    "\n",
    "<b><center><font size=\"3\">Data Acquisition</font></center></b>\n",
    "\n",
    "<b><center><font size=\"2\">2 - Packages</font></center></b>\n",
    "</div>"
   ]
  },
  {
   "cell_type": "markdown",
   "metadata": {
    "slideshow": {
     "slide_type": "skip"
    }
   },
   "source": [
    "**Notebook Developed by**: [Ricardo Campos](https://www.di.ubi.pt/~rcampos)<br>\n",
    "**email:**  ricardo.campos@ubi.pt<br>\n",
    "**Affiliation:** *Assistant Professor* @ [University of Beira Interior](http://www.ubi.pt);\n",
    "*Researcher* @ [LIAAD](https://www.inesctec.pt/en/centres/liaad)-[INESC TEC](https://www.inesctec.pt/en)\n",
    "\n",
    "<hr>\n",
    "\n",
    "\n",
    "<p><a href=\"2Packages.ipynb\" title=\"Download Notebook\" download><img src=\"https://www.di.ubi.pt/~rcampos/assets/img_tutorials/download.jpg\" align = \"left\" width=\"50\" height=\"50\" alt=\"Download Notebook\"></a></p>\n",
    "<p>&nbsp;</p>\n",
    "<p>&nbsp;</p>\n",
    "\n",
    "<hr>"
   ]
  },
  {
   "cell_type": "markdown",
   "metadata": {
    "toc": true
   },
   "source": [
    "<h1>Table of Contents<span class=\"tocSkip\"></span></h1>\n",
    "<div class=\"toc\"><ul class=\"toc-item\"><li><span><a href=\"#Packages-Evaluation\" data-toc-modified-id=\"Packages-Evaluation-1\"><span class=\"toc-item-num\">1&nbsp;&nbsp;</span>Packages Evaluation</a></span></li><li><span><a href=\"#Newspaper3k:-Article-scraping-&amp;-curation\" data-toc-modified-id=\"Newspaper3k:-Article-scraping-&amp;-curation-2\"><span class=\"toc-item-num\">2&nbsp;&nbsp;</span>Newspaper3k: Article scraping &amp; curation</a></span></li><li><span><a href=\"#JusText\" data-toc-modified-id=\"JusText-3\"><span class=\"toc-item-num\">3&nbsp;&nbsp;</span>JusText</a></span></li><li><span><a href=\"#Wikipedia\" data-toc-modified-id=\"Wikipedia-4\"><span class=\"toc-item-num\">4&nbsp;&nbsp;</span>Wikipedia</a></span><ul class=\"toc-item\"><li><span><a href=\"#Languages-Supported\" data-toc-modified-id=\"Languages-Supported-4.1\"><span class=\"toc-item-num\">4.1&nbsp;&nbsp;</span>Languages Supported</a></span></li><li><span><a href=\"#Search\" data-toc-modified-id=\"Search-4.2\"><span class=\"toc-item-num\">4.2&nbsp;&nbsp;</span>Search</a></span></li><li><span><a href=\"#Text-Extraction\" data-toc-modified-id=\"Text-Extraction-4.3\"><span class=\"toc-item-num\">4.3&nbsp;&nbsp;</span>Text Extraction</a></span><ul class=\"toc-item\"><li><span><a href=\"#Summary\" data-toc-modified-id=\"Summary-4.3.1\"><span class=\"toc-item-num\">4.3.1&nbsp;&nbsp;</span>Summary</a></span></li><li><span><a href=\"#Page\" data-toc-modified-id=\"Page-4.3.2\"><span class=\"toc-item-num\">4.3.2&nbsp;&nbsp;</span>Page</a></span><ul class=\"toc-item\"><li><span><a href=\"#Title\" data-toc-modified-id=\"Title-4.3.2.1\"><span class=\"toc-item-num\">4.3.2.1&nbsp;&nbsp;</span>Title</a></span></li><li><span><a href=\"#URL\" data-toc-modified-id=\"URL-4.3.2.2\"><span class=\"toc-item-num\">4.3.2.2&nbsp;&nbsp;</span>URL</a></span></li><li><span><a href=\"#Content\" data-toc-modified-id=\"Content-4.3.2.3\"><span class=\"toc-item-num\">4.3.2.3&nbsp;&nbsp;</span>Content</a></span></li><li><span><a href=\"#Image-Links\" data-toc-modified-id=\"Image-Links-4.3.2.4\"><span class=\"toc-item-num\">4.3.2.4&nbsp;&nbsp;</span>Image Links</a></span></li><li><span><a href=\"#Wikipedia-Links\" data-toc-modified-id=\"Wikipedia-Links-4.3.2.5\"><span class=\"toc-item-num\">4.3.2.5&nbsp;&nbsp;</span>Wikipedia Links</a></span></li><li><span><a href=\"#Categories\" data-toc-modified-id=\"Categories-4.3.2.6\"><span class=\"toc-item-num\">4.3.2.6&nbsp;&nbsp;</span>Categories</a></span></li></ul></li><li><span><a href=\"#wiki_page-function\" data-toc-modified-id=\"wiki_page-function-4.3.3\"><span class=\"toc-item-num\">4.3.3&nbsp;&nbsp;</span>wiki_page function</a></span></li><li><span><a href=\"#wiki_scraping\" data-toc-modified-id=\"wiki_scraping-4.3.4\"><span class=\"toc-item-num\">4.3.4&nbsp;&nbsp;</span>wiki_scraping</a></span></li></ul></li></ul></li><li><span><a href=\"#Google\" data-toc-modified-id=\"Google-5\"><span class=\"toc-item-num\">5&nbsp;&nbsp;</span>Google</a></span><ul class=\"toc-item\"><li><span><a href=\"#Search-Results\" data-toc-modified-id=\"Search-Results-5.1\"><span class=\"toc-item-num\">5.1&nbsp;&nbsp;</span>Search Results</a></span><ul class=\"toc-item\"><li><span><a href=\"#googlesearch-package\" data-toc-modified-id=\"googlesearch-package-5.1.1\"><span class=\"toc-item-num\">5.1.1&nbsp;&nbsp;</span>googlesearch package</a></span></li><li><span><a href=\"#googleapiclient-package\" data-toc-modified-id=\"googleapiclient-package-5.1.2\"><span class=\"toc-item-num\">5.1.2&nbsp;&nbsp;</span>googleapiclient package</a></span></li><li><span><a href=\"#SerpAPI\" data-toc-modified-id=\"SerpAPI-5.1.3\"><span class=\"toc-item-num\">5.1.3&nbsp;&nbsp;</span>SerpAPI</a></span></li></ul></li><li><span><a href=\"#Google-Maps\" data-toc-modified-id=\"Google-Maps-5.2\"><span class=\"toc-item-num\">5.2&nbsp;&nbsp;</span>Google Maps</a></span></li></ul></li></ul></div>"
   ]
  },
  {
   "cell_type": "markdown",
   "metadata": {},
   "source": [
    "# Packages"
   ]
  },
  {
   "cell_type": "markdown",
   "metadata": {},
   "source": [
    "<div class=\"alert alert-success alertsuccess\" style=\"margin-top: 20px\">\n",
    "\n",
    "## Objetivos de aprendizagem  <a class=\"tocSkip\">\n",
    "    \n",
    "No final deste notebook o aluno deverá ter conhecimento de packages Python que facilitam a aquisição de dados.\n",
    "\n",
    "\n",
    "## Learning Objectives  <a class=\"tocSkip\">\n",
    "       \n",
    "When concluding this notebook, the student should be aware of Python packages that ease the process of data acquisition. </div>"
   ]
  },
  {
   "cell_type": "markdown",
   "metadata": {},
   "source": [
    "<div class=\"alert alert-success alertsuccess\" style=\"margin-top: 20px\">\n",
    "\n",
    "## Sumário  <a class=\"tocSkip\">\n",
    "### Aquisição de dados com recurso a packages Python<a class=\"tocSkip\">\n",
    "\n",
    "Introdução dos alunos à aquisição de dados com recurso a packages Python. Extração de dados a partir de páginas web com recurso ao Newspaper3k, JusText, bibliotecas da Wikipedia e Google\n",
    "    \n",
    "## Class Summary  <a class=\"tocSkip\">\n",
    "### Data acquisition using Python packages <a class=\"tocSkip\">\n",
    "Introducing students to data acquisition with Python packages. Data acquisition from web pages using Newspaper3k, JusText, Wikipedia and Google.\n",
    "\n",
    "\n",
    "</div>"
   ]
  },
  {
   "cell_type": "markdown",
   "metadata": {},
   "source": [
    "<b>Is Web Scraping Legal?</b>"
   ]
  },
  {
   "cell_type": "markdown",
   "metadata": {},
   "source": [
    "- [Is web scraping legal?](https://scrapediary.com/is-web-scraping-legal/)\n",
    "- [Is web scraping illegal?](https://www.imperva.com/blog/is-web-scraping-illegal/)\n",
    "- [Web scraping is now legal](https://medium.com/@tjwaterman99/web-scraping-is-now-legal-6bf0e5730a78)\n",
    "- [O Web scraping é legal ou ilegal?](http://datascienceacademy.com.br/blog/web-scraping-e-web-crawling-sao-legais-ou-ilegais/)"
   ]
  },
  {
   "cell_type": "markdown",
   "metadata": {},
   "source": [
    "## Packages Evaluation"
   ]
  },
  {
   "cell_type": "markdown",
   "metadata": {},
   "source": [
    "<img src=\"https://www.di.ubi.pt/~rcampos/assets/img_tutorials/Text2Analytics/DataAcquisition.jpg\" width=\"500\" height=\"500\" align=\"center\"/>"
   ]
  },
  {
   "cell_type": "markdown",
   "metadata": {},
   "source": [
    "<center>https://github.com/tsolewski/Text_extraction_comparison_PL</center>"
   ]
  },
  {
   "cell_type": "markdown",
   "metadata": {},
   "source": [
    "## Newspaper3k: Article scraping & curation"
   ]
  },
  {
   "cell_type": "markdown",
   "metadata": {},
   "source": [
    "[Newspaper3k](https://github.com/codelucas/newspaper/) é uma biblioteca python (inspirada no requests) que dado um URL, permite extrair conteúdos de uma página web. Apesar de funcionar em cima de qualquer página web, é especialmente funcional na extração de contéudos de artigos noticiosos."
   ]
  },
  {
   "cell_type": "code",
   "execution_count": 1,
   "metadata": {},
   "outputs": [
    {
     "name": "stdout",
     "output_type": "stream",
     "text": [
      "Collecting newspaper3k\n",
      "  Downloading newspaper3k-0.2.8-py3-none-any.whl.metadata (11 kB)\n",
      "Requirement already satisfied: beautifulsoup4>=4.4.1 in c:\\users\\rene_\\anaconda3\\lib\\site-packages (from newspaper3k) (4.12.2)\n",
      "Requirement already satisfied: Pillow>=3.3.0 in c:\\users\\rene_\\anaconda3\\lib\\site-packages (from newspaper3k) (10.2.0)\n",
      "Requirement already satisfied: PyYAML>=3.11 in c:\\users\\rene_\\anaconda3\\lib\\site-packages (from newspaper3k) (6.0.1)\n",
      "Requirement already satisfied: cssselect>=0.9.2 in c:\\users\\rene_\\anaconda3\\lib\\site-packages (from newspaper3k) (1.2.0)\n",
      "Requirement already satisfied: lxml>=3.6.0 in c:\\users\\rene_\\anaconda3\\lib\\site-packages (from newspaper3k) (4.9.3)\n",
      "Requirement already satisfied: nltk>=3.2.1 in c:\\users\\rene_\\anaconda3\\lib\\site-packages (from newspaper3k) (3.8.1)\n",
      "Requirement already satisfied: requests>=2.10.0 in c:\\users\\rene_\\anaconda3\\lib\\site-packages (from newspaper3k) (2.31.0)\n",
      "Collecting feedparser>=5.2.1 (from newspaper3k)\n",
      "  Downloading feedparser-6.0.11-py3-none-any.whl.metadata (2.4 kB)\n",
      "Requirement already satisfied: tldextract>=2.0.1 in c:\\users\\rene_\\anaconda3\\lib\\site-packages (from newspaper3k) (3.2.0)\n",
      "Collecting feedfinder2>=0.0.4 (from newspaper3k)\n",
      "  Downloading feedfinder2-0.0.4.tar.gz (3.3 kB)\n",
      "  Preparing metadata (setup.py): started\n",
      "  Preparing metadata (setup.py): finished with status 'done'\n",
      "Collecting jieba3k>=0.35.1 (from newspaper3k)\n",
      "  Downloading jieba3k-0.35.1.zip (7.4 MB)\n",
      "     ---------------------------------------- 0.0/7.4 MB ? eta -:--:--\n",
      "      --------------------------------------- 0.1/7.4 MB ? eta -:--:--\n",
      "      --------------------------------------- 0.1/7.4 MB ? eta -:--:--\n",
      "     - -------------------------------------- 0.2/7.4 MB 2.0 MB/s eta 0:00:04\n",
      "     - -------------------------------------- 0.2/7.4 MB 1.8 MB/s eta 0:00:05\n",
      "     - -------------------------------------- 0.3/7.4 MB 1.5 MB/s eta 0:00:05\n",
      "     - -------------------------------------- 0.4/7.4 MB 1.5 MB/s eta 0:00:05\n",
      "     -- ------------------------------------- 0.5/7.4 MB 1.7 MB/s eta 0:00:05\n",
      "     -- ------------------------------------- 0.5/7.4 MB 1.6 MB/s eta 0:00:05\n",
      "     --- ------------------------------------ 0.6/7.4 MB 1.6 MB/s eta 0:00:05\n",
      "     --- ------------------------------------ 0.7/7.4 MB 1.6 MB/s eta 0:00:05\n",
      "     ---- ----------------------------------- 0.8/7.4 MB 1.7 MB/s eta 0:00:04\n",
      "     ---- ----------------------------------- 0.9/7.4 MB 1.7 MB/s eta 0:00:04\n",
      "     ----- ---------------------------------- 0.9/7.4 MB 1.7 MB/s eta 0:00:04\n",
      "     ----- ---------------------------------- 1.1/7.4 MB 1.8 MB/s eta 0:00:04\n",
      "     ------ --------------------------------- 1.1/7.4 MB 1.8 MB/s eta 0:00:04\n",
      "     ------ --------------------------------- 1.2/7.4 MB 1.7 MB/s eta 0:00:04\n",
      "     ------ --------------------------------- 1.3/7.4 MB 1.7 MB/s eta 0:00:04\n",
      "     ------- -------------------------------- 1.3/7.4 MB 1.7 MB/s eta 0:00:04\n",
      "     ------- -------------------------------- 1.4/7.4 MB 1.7 MB/s eta 0:00:04\n",
      "     -------- ------------------------------- 1.6/7.4 MB 1.8 MB/s eta 0:00:04\n",
      "     -------- ------------------------------- 1.7/7.4 MB 1.8 MB/s eta 0:00:04\n",
      "     --------- ------------------------------ 1.7/7.4 MB 1.8 MB/s eta 0:00:04\n",
      "     --------- ------------------------------ 1.8/7.4 MB 1.8 MB/s eta 0:00:04\n",
      "     ---------- ----------------------------- 1.9/7.4 MB 1.7 MB/s eta 0:00:04\n",
      "     ---------- ----------------------------- 2.0/7.4 MB 1.8 MB/s eta 0:00:04\n",
      "     ----------- ---------------------------- 2.1/7.4 MB 1.8 MB/s eta 0:00:03\n",
      "     ----------- ---------------------------- 2.2/7.4 MB 1.8 MB/s eta 0:00:03\n",
      "     ------------ --------------------------- 2.3/7.4 MB 1.8 MB/s eta 0:00:03\n",
      "     ------------- -------------------------- 2.4/7.4 MB 1.9 MB/s eta 0:00:03\n",
      "     ------------- -------------------------- 2.5/7.4 MB 1.9 MB/s eta 0:00:03\n",
      "     -------------- ------------------------- 2.6/7.4 MB 1.9 MB/s eta 0:00:03\n",
      "     -------------- ------------------------- 2.7/7.4 MB 1.8 MB/s eta 0:00:03\n",
      "     -------------- ------------------------- 2.7/7.4 MB 1.8 MB/s eta 0:00:03\n",
      "     --------------- ------------------------ 2.9/7.4 MB 1.8 MB/s eta 0:00:03\n",
      "     --------------- ------------------------ 2.9/7.4 MB 1.9 MB/s eta 0:00:03\n",
      "     ---------------- ----------------------- 3.1/7.4 MB 1.9 MB/s eta 0:00:03\n",
      "     ---------------- ----------------------- 3.2/7.4 MB 1.9 MB/s eta 0:00:03\n",
      "     ----------------- ---------------------- 3.3/7.4 MB 1.9 MB/s eta 0:00:03\n",
      "     ------------------ --------------------- 3.4/7.4 MB 1.9 MB/s eta 0:00:03\n",
      "     ------------------ --------------------- 3.5/7.4 MB 1.9 MB/s eta 0:00:03\n",
      "     ------------------- -------------------- 3.6/7.4 MB 1.9 MB/s eta 0:00:02\n",
      "     ------------------- -------------------- 3.7/7.4 MB 1.9 MB/s eta 0:00:02\n",
      "     -------------------- ------------------- 3.8/7.4 MB 1.9 MB/s eta 0:00:02\n",
      "     --------------------- ------------------ 3.9/7.4 MB 1.9 MB/s eta 0:00:02\n",
      "     --------------------- ------------------ 4.0/7.4 MB 1.9 MB/s eta 0:00:02\n",
      "     --------------------- ------------------ 4.0/7.4 MB 1.9 MB/s eta 0:00:02\n",
      "     --------------------- ------------------ 4.0/7.4 MB 1.9 MB/s eta 0:00:02\n",
      "     --------------------- ------------------ 4.1/7.4 MB 1.8 MB/s eta 0:00:02\n",
      "     ---------------------- ----------------- 4.1/7.4 MB 1.8 MB/s eta 0:00:02\n",
      "     ---------------------- ----------------- 4.1/7.4 MB 1.8 MB/s eta 0:00:02\n",
      "     ---------------------- ----------------- 4.1/7.4 MB 1.8 MB/s eta 0:00:02\n",
      "     ---------------------- ----------------- 4.1/7.4 MB 1.7 MB/s eta 0:00:02\n",
      "     ---------------------- ----------------- 4.1/7.4 MB 1.7 MB/s eta 0:00:02\n",
      "     ---------------------- ----------------- 4.1/7.4 MB 1.7 MB/s eta 0:00:02\n",
      "     ---------------------- ----------------- 4.1/7.4 MB 1.7 MB/s eta 0:00:02\n",
      "     ---------------------- ----------------- 4.1/7.4 MB 1.7 MB/s eta 0:00:02\n",
      "     ---------------------- ----------------- 4.1/7.4 MB 1.7 MB/s eta 0:00:02\n",
      "     ---------------------- ----------------- 4.1/7.4 MB 1.7 MB/s eta 0:00:02\n",
      "     ---------------------- ----------------- 4.1/7.4 MB 1.7 MB/s eta 0:00:02\n",
      "     ---------------------- ----------------- 4.2/7.4 MB 1.5 MB/s eta 0:00:03\n",
      "     ---------------------- ----------------- 4.2/7.4 MB 1.5 MB/s eta 0:00:03\n",
      "     ----------------------- ---------------- 4.3/7.4 MB 1.5 MB/s eta 0:00:03\n",
      "     ----------------------- ---------------- 4.4/7.4 MB 1.5 MB/s eta 0:00:03\n",
      "     ----------------------- ---------------- 4.4/7.4 MB 1.5 MB/s eta 0:00:03\n",
      "     ------------------------ --------------- 4.5/7.4 MB 1.5 MB/s eta 0:00:02\n",
      "     ------------------------ --------------- 4.5/7.4 MB 1.5 MB/s eta 0:00:02\n",
      "     ------------------------ --------------- 4.6/7.4 MB 1.5 MB/s eta 0:00:02\n",
      "     ------------------------- -------------- 4.6/7.4 MB 1.5 MB/s eta 0:00:02\n",
      "     ------------------------- -------------- 4.7/7.4 MB 1.5 MB/s eta 0:00:02\n",
      "     ------------------------- -------------- 4.7/7.4 MB 1.4 MB/s eta 0:00:02\n",
      "     ------------------------- -------------- 4.7/7.4 MB 1.4 MB/s eta 0:00:02\n",
      "     ------------------------- -------------- 4.8/7.4 MB 1.4 MB/s eta 0:00:02\n",
      "     ------------------------- -------------- 4.8/7.4 MB 1.4 MB/s eta 0:00:02\n",
      "     -------------------------- ------------- 4.8/7.4 MB 1.4 MB/s eta 0:00:02\n",
      "     -------------------------- ------------- 4.9/7.4 MB 1.4 MB/s eta 0:00:02\n",
      "     -------------------------- ------------- 5.0/7.4 MB 1.4 MB/s eta 0:00:02\n",
      "     --------------------------- ------------ 5.0/7.4 MB 1.4 MB/s eta 0:00:02\n",
      "     --------------------------- ------------ 5.1/7.4 MB 1.4 MB/s eta 0:00:02\n",
      "     ---------------------------- ----------- 5.2/7.4 MB 1.4 MB/s eta 0:00:02\n",
      "     ---------------------------- ----------- 5.3/7.4 MB 1.4 MB/s eta 0:00:02\n",
      "     ---------------------------- ----------- 5.4/7.4 MB 1.4 MB/s eta 0:00:02\n",
      "     ----------------------------- ---------- 5.4/7.4 MB 1.4 MB/s eta 0:00:02\n",
      "     ----------------------------- ---------- 5.5/7.4 MB 1.4 MB/s eta 0:00:02\n",
      "     ----------------------------- ---------- 5.5/7.4 MB 1.4 MB/s eta 0:00:02\n",
      "     ------------------------------ --------- 5.6/7.4 MB 1.4 MB/s eta 0:00:02\n",
      "     ------------------------------ --------- 5.7/7.4 MB 1.4 MB/s eta 0:00:02\n",
      "     ------------------------------ --------- 5.7/7.4 MB 1.4 MB/s eta 0:00:02\n",
      "     ------------------------------- -------- 5.8/7.4 MB 1.4 MB/s eta 0:00:02\n",
      "     ------------------------------- -------- 5.8/7.4 MB 1.4 MB/s eta 0:00:02\n",
      "     ------------------------------- -------- 5.9/7.4 MB 1.4 MB/s eta 0:00:02\n",
      "     ------------------------------- -------- 5.9/7.4 MB 1.4 MB/s eta 0:00:02\n",
      "     -------------------------------- ------- 6.0/7.4 MB 1.4 MB/s eta 0:00:02\n",
      "     -------------------------------- ------- 6.1/7.4 MB 1.4 MB/s eta 0:00:01\n",
      "     -------------------------------- ------- 6.1/7.4 MB 1.4 MB/s eta 0:00:01\n",
      "     --------------------------------- ------ 6.2/7.4 MB 1.4 MB/s eta 0:00:01\n",
      "     --------------------------------- ------ 6.2/7.4 MB 1.4 MB/s eta 0:00:01\n",
      "     --------------------------------- ------ 6.3/7.4 MB 1.4 MB/s eta 0:00:01\n",
      "     ---------------------------------- ----- 6.4/7.4 MB 1.4 MB/s eta 0:00:01\n",
      "     ---------------------------------- ----- 6.4/7.4 MB 1.4 MB/s eta 0:00:01\n",
      "     ----------------------------------- ---- 6.5/7.4 MB 1.4 MB/s eta 0:00:01\n",
      "     ----------------------------------- ---- 6.6/7.4 MB 1.4 MB/s eta 0:00:01\n",
      "     ----------------------------------- ---- 6.7/7.4 MB 1.4 MB/s eta 0:00:01\n",
      "     ------------------------------------ --- 6.7/7.4 MB 1.4 MB/s eta 0:00:01\n",
      "     ------------------------------------ --- 6.8/7.4 MB 1.4 MB/s eta 0:00:01\n",
      "     ------------------------------------ --- 6.9/7.4 MB 1.4 MB/s eta 0:00:01\n",
      "     ------------------------------------- -- 6.9/7.4 MB 1.4 MB/s eta 0:00:01\n",
      "     ------------------------------------- -- 7.0/7.4 MB 1.4 MB/s eta 0:00:01\n",
      "     ------------------------------------- -- 7.0/7.4 MB 1.4 MB/s eta 0:00:01\n",
      "     -------------------------------------- - 7.1/7.4 MB 1.4 MB/s eta 0:00:01\n",
      "     -------------------------------------- - 7.1/7.4 MB 1.4 MB/s eta 0:00:01\n",
      "     -------------------------------------- - 7.2/7.4 MB 1.4 MB/s eta 0:00:01\n",
      "     -------------------------------------- - 7.2/7.4 MB 1.4 MB/s eta 0:00:01\n",
      "     ---------------------------------------  7.3/7.4 MB 1.4 MB/s eta 0:00:01\n",
      "     ---------------------------------------  7.3/7.4 MB 1.4 MB/s eta 0:00:01\n",
      "     ---------------------------------------  7.4/7.4 MB 1.4 MB/s eta 0:00:01\n",
      "     ---------------------------------------  7.4/7.4 MB 1.4 MB/s eta 0:00:01\n",
      "     ---------------------------------------  7.4/7.4 MB 1.4 MB/s eta 0:00:01\n",
      "     ---------------------------------------  7.4/7.4 MB 1.4 MB/s eta 0:00:01\n",
      "     ---------------------------------------  7.4/7.4 MB 1.4 MB/s eta 0:00:01\n",
      "     ---------------------------------------  7.4/7.4 MB 1.4 MB/s eta 0:00:01\n",
      "     ---------------------------------------  7.4/7.4 MB 1.4 MB/s eta 0:00:01\n",
      "     ---------------------------------------  7.4/7.4 MB 1.4 MB/s eta 0:00:01\n",
      "     ---------------------------------------  7.4/7.4 MB 1.4 MB/s eta 0:00:01\n",
      "     ---------------------------------------  7.4/7.4 MB 1.4 MB/s eta 0:00:01\n",
      "     ---------------------------------------  7.4/7.4 MB 1.4 MB/s eta 0:00:01\n",
      "     ---------------------------------------- 7.4/7.4 MB 1.3 MB/s eta 0:00:00\n",
      "  Preparing metadata (setup.py): started\n",
      "  Preparing metadata (setup.py): finished with status 'done'\n",
      "Requirement already satisfied: python-dateutil>=2.5.3 in c:\\users\\rene_\\anaconda3\\lib\\site-packages (from newspaper3k) (2.8.2)\n",
      "Collecting tinysegmenter==0.3 (from newspaper3k)\n",
      "  Downloading tinysegmenter-0.3.tar.gz (16 kB)\n",
      "  Preparing metadata (setup.py): started\n",
      "  Preparing metadata (setup.py): finished with status 'done'\n",
      "Requirement already satisfied: soupsieve>1.2 in c:\\users\\rene_\\anaconda3\\lib\\site-packages (from beautifulsoup4>=4.4.1->newspaper3k) (2.5)\n",
      "Requirement already satisfied: six in c:\\users\\rene_\\anaconda3\\lib\\site-packages (from feedfinder2>=0.0.4->newspaper3k) (1.16.0)\n",
      "Collecting sgmllib3k (from feedparser>=5.2.1->newspaper3k)\n",
      "  Downloading sgmllib3k-1.0.0.tar.gz (5.8 kB)\n",
      "  Preparing metadata (setup.py): started\n",
      "  Preparing metadata (setup.py): finished with status 'done'\n",
      "Requirement already satisfied: click in c:\\users\\rene_\\anaconda3\\lib\\site-packages (from nltk>=3.2.1->newspaper3k) (8.1.7)\n",
      "Requirement already satisfied: joblib in c:\\users\\rene_\\anaconda3\\lib\\site-packages (from nltk>=3.2.1->newspaper3k) (1.2.0)\n",
      "Requirement already satisfied: regex>=2021.8.3 in c:\\users\\rene_\\anaconda3\\lib\\site-packages (from nltk>=3.2.1->newspaper3k) (2023.10.3)\n",
      "Requirement already satisfied: tqdm in c:\\users\\rene_\\anaconda3\\lib\\site-packages (from nltk>=3.2.1->newspaper3k) (4.65.0)\n",
      "Requirement already satisfied: charset-normalizer<4,>=2 in c:\\users\\rene_\\anaconda3\\lib\\site-packages (from requests>=2.10.0->newspaper3k) (2.0.4)\n",
      "Requirement already satisfied: idna<4,>=2.5 in c:\\users\\rene_\\anaconda3\\lib\\site-packages (from requests>=2.10.0->newspaper3k) (3.4)\n",
      "Requirement already satisfied: urllib3<3,>=1.21.1 in c:\\users\\rene_\\anaconda3\\lib\\site-packages (from requests>=2.10.0->newspaper3k) (2.0.7)\n",
      "Requirement already satisfied: certifi>=2017.4.17 in c:\\users\\rene_\\anaconda3\\lib\\site-packages (from requests>=2.10.0->newspaper3k) (2024.2.2)\n",
      "Requirement already satisfied: requests-file>=1.4 in c:\\users\\rene_\\anaconda3\\lib\\site-packages (from tldextract>=2.0.1->newspaper3k) (1.5.1)\n",
      "Requirement already satisfied: filelock>=3.0.8 in c:\\users\\rene_\\anaconda3\\lib\\site-packages (from tldextract>=2.0.1->newspaper3k) (3.13.1)\n",
      "Requirement already satisfied: colorama in c:\\users\\rene_\\anaconda3\\lib\\site-packages (from click->nltk>=3.2.1->newspaper3k) (0.4.6)\n",
      "Downloading newspaper3k-0.2.8-py3-none-any.whl (211 kB)\n",
      "   ---------------------------------------- 0.0/211.1 kB ? eta -:--:--\n",
      "   ------------- -------------------------- 71.7/211.1 kB 2.0 MB/s eta 0:00:01\n",
      "   --------------------------- ------------ 143.4/211.1 kB 1.7 MB/s eta 0:00:01\n",
      "   -------------------------------------- - 204.8/211.1 kB 1.8 MB/s eta 0:00:01\n",
      "   -------------------------------------- - 204.8/211.1 kB 1.8 MB/s eta 0:00:01\n",
      "   ---------------------------------------- 211.1/211.1 kB 1.1 MB/s eta 0:00:00\n",
      "Downloading feedparser-6.0.11-py3-none-any.whl (81 kB)\n",
      "   ---------------------------------------- 0.0/81.3 kB ? eta -:--:--\n",
      "   -------------------- ------------------- 41.0/81.3 kB ? eta -:--:--\n",
      "   ----------------------------------- ---- 71.7/81.3 kB 2.0 MB/s eta 0:00:01\n",
      "   ---------------------------------------- 81.3/81.3 kB 911.6 kB/s eta 0:00:00\n",
      "Building wheels for collected packages: tinysegmenter, feedfinder2, jieba3k, sgmllib3k\n",
      "  Building wheel for tinysegmenter (setup.py): started\n",
      "  Building wheel for tinysegmenter (setup.py): finished with status 'done'\n",
      "  Created wheel for tinysegmenter: filename=tinysegmenter-0.3-py3-none-any.whl size=13567 sha256=275711bab10880ae158546eaf47360c5b28e11c561d3bfa03c153318c07666cb\n",
      "  Stored in directory: c:\\users\\rene_\\appdata\\local\\pip\\cache\\wheels\\fc\\ab\\f8\\cce3a9ae6d828bd346be695f7ff54612cd22b7cbd7208d68f3\n",
      "  Building wheel for feedfinder2 (setup.py): started\n",
      "  Building wheel for feedfinder2 (setup.py): finished with status 'done'\n",
      "  Created wheel for feedfinder2: filename=feedfinder2-0.0.4-py3-none-any.whl size=3357 sha256=706cbc0764cf55199d2c2e3d256761b17037dc890ed89485b853abead049e91a\n",
      "  Stored in directory: c:\\users\\rene_\\appdata\\local\\pip\\cache\\wheels\\80\\d5\\72\\9cd9eccc819636436c6a6e59c22a0fb1ec167beef141f56491\n",
      "  Building wheel for jieba3k (setup.py): started\n",
      "  Building wheel for jieba3k (setup.py): finished with status 'done'\n",
      "  Created wheel for jieba3k: filename=jieba3k-0.35.1-py3-none-any.whl size=7398387 sha256=7c399e8e5614265877f44d2cf68df40c527ea6881859304cc1efdeb0e4848aab\n",
      "  Stored in directory: c:\\users\\rene_\\appdata\\local\\pip\\cache\\wheels\\3a\\a1\\46\\8e68055c1713f9c4598774c15ad0541f26d5425ee7423b6493\n",
      "  Building wheel for sgmllib3k (setup.py): started\n",
      "  Building wheel for sgmllib3k (setup.py): finished with status 'done'\n",
      "  Created wheel for sgmllib3k: filename=sgmllib3k-1.0.0-py3-none-any.whl size=6061 sha256=44c6c93dc614fa2c235e4aa7dc5fe4af7b0e90183a65ee84df756615f7cfabfc\n",
      "  Stored in directory: c:\\users\\rene_\\appdata\\local\\pip\\cache\\wheels\\3b\\25\\2a\\105d6a15df6914f4d15047691c6c28f9052cc1173e40285d03\n",
      "Successfully built tinysegmenter feedfinder2 jieba3k sgmllib3k\n",
      "Installing collected packages: tinysegmenter, sgmllib3k, jieba3k, feedparser, feedfinder2, newspaper3k\n",
      "Successfully installed feedfinder2-0.0.4 feedparser-6.0.11 jieba3k-0.35.1 newspaper3k-0.2.8 sgmllib3k-1.0.0 tinysegmenter-0.3\n"
     ]
    }
   ],
   "source": [
    "!pip install newspaper3k"
   ]
  },
  {
   "cell_type": "code",
   "execution_count": 2,
   "metadata": {},
   "outputs": [],
   "source": [
    "from newspaper import Article\n",
    "\n",
    "#url = 'https://pt.wikipedia.org/wiki/Merc%C3%BArio_(planeta)'\n",
    "#url = 'https://arquivo.pt/noFrame/replay/20150409001238/http://pt.wikipedia.org/wiki/Jos%C3%A9_S%C3%B3crates'\n",
    "#url = 'https://www.publico.pt/2022/04/03/local/noticia/ir-pe-emprego-escola-desafio-nao-facil-andar-lisboa-1996445?ref=hp&cx=stories_cover__important_b--507490'\n",
    "#url = 'https://eco.sapo.pt/2021/07/20/temos-a-expectativa-que-a-venda-da-groundforce-pelo-montepio-seja-concluida-com-sucesso-diz-pedro-nuno-santos/'\n",
    "#url = 'https://multinews.sapo.pt/noticias/plano-de-contingencia-nos-aeroportos-entra-hoje-em-funcionamento-em-pleno-recorde-as-principais-medidas/'\n",
    "#url = \"https://arquivo.pt/noFrame/replay/20100326190237/http://www.publico.pt/Pol%C3%ADtica/passos-coelho-ganha-em-macau_1429610\"\n",
    "#url = \"https://www.dinheirovivo.pt/bolsa/bolsa-de-lisboa-em-alta-com-sonae-a-subir-127-16285173.html\"\n",
    "#url = \"https://arquivo.pt/noFrame/replay/20170107192028/https://www.dinheirovivo.pt/outras/morreu-mario-soares/\"\n",
    "#url = \"http://www.ftof-finance.co.uk\"\n",
    "url = \"https://arquivo.pt/noFrame/replay/20200110180847/https://www.noticiasdacovilha.pt/covilhanense-nos-jogos-olimpicos-da-juventude-de-inverno/\"\n",
    "\n",
    "article = Article(url)"
   ]
  },
  {
   "cell_type": "code",
   "execution_count": 3,
   "metadata": {},
   "outputs": [
    {
     "data": {
      "text/plain": [
       "'<!DOCTYPE html><html lang=\"pt-PT\"><head>\\n<!-- WB Insert -->\\n<script>\\n  wbinfo = {};\\n  wbinfo.top_url = \"https://arquivo.pt/noFrame/replay/20200110181245/https://www.noticiasdacovilha.pt/covilhanense-nos-jogos-olimpicos-da-juventude-de-inverno/\";\\n  wbinfo.url = \"https://www.noticiasdacovilha.pt/covilhanense-nos-jogos-olimpicos-da-juventude-de-inverno/\";\\n  wbinfo.timestamp = \"20200110181245\";\\n  wbinfo.request_ts = \"20200110181245\";\\n  wbinfo.prefix = decodeURI(\"https://arquivo.pt/noFrame/replay/\");\\n  wbinfo.mod = \"\";\\n  wbinfo.is_framed = false;\\n  wbinfo.is_live = false;\\n  wbinfo.coll = \"replay\";\\n  wbinfo.proxy_magic = \"\";\\n  wbinfo.static_prefix = \"https://arquivo.pt/noFrame/static/\";\\n  wbinfo.enable_auto_fetch = true;\\n</script>\\n<script src=\\'https://arquivo.pt/noFrame/static/wombat.js\\'> </script>\\n<script>\\n  wbinfo.wombat_ts = \"20200110181245\";\\n  wbinfo.wombat_sec = \"1578679965\";\\n  wbinfo.wombat_scheme = \"https\";\\n  wbinfo.wombat_host = \"www.noticiasdacovilha.pt\";\\n\\n  wbinfo.wombat_opts = {};\\n\\n  if (window && window._WBWombatInit) {\\n    window._WBWombatInit(wbinfo);\\n  }\\n</script>\\n\\n\\n\\n\\n\\n<!-- End WB Insert -->\\n<meta charset=\"UTF-8\"><meta name=\"viewport\" content=\"width=device-width, initial-scale=1\"><link rel=\"profile\" href=\"https://arquivo.pt/noFrame/replay/20200110181245oe_/http://gmpg.org/xfn/11\"><link rel=\"pingback\" href=\"https://arquivo.pt/noFrame/replay/20200110181245oe_/https://www.noticiasdacovilha.pt/xmlrpc.php\"><title>Covilhanense nos Jogos Olímpicos da Juventude de Inverno - Jornal Notícias da Covilhã</title> <script>\\nvar _____WB$wombat$assign$function_____ = function(name) {return (self._wb_wombat && self._wb_wombat.local_init && self._wb_wombat.local_init(name)) || self[name]; };\\nif (!self.__WB_pmw) { self.__WB_pmw = function(obj) { this.__WB_source = obj; return this; } }\\n{\\nlet window = _____WB$wombat$assign$function_____(\"window\");\\nlet self = _____WB$wombat$assign$function_____(\"self\");\\nlet document = _____WB$wombat$assign$function_____(\"document\");\\nlet location = _____WB$wombat$assign$function_____(\"location\");\\nlet top = _____WB$wombat$assign$function_____(\"top\");\\nlet parent = _____WB$wombat$assign$function_____(\"parent\");\\nlet frames = _____WB$wombat$assign$function_____(\"frames\");\\nlet opener = _____WB$wombat$assign$function_____(\"opener\");\\nlet arguments;\\n\\n{var ajaxurl=\"https://www.noticiasdacovilha.pt/wp-admin/admin-ajax.php\"\\n\\n}}</script><meta property=\"og:title\" content=\"Covilhanense nos Jogos Olímpicos da Juventude de Inverno\"><meta property=\"og:type\" content=\"article\"><meta property=\"og:url\" content=\"https://arquivo.pt/noFrame/replay/20200110181245/https://www.noticiasdacovilha.pt/covilhanense-nos-jogos-olimpicos-da-juventude-de-inverno/\"><meta property=\"og:site_name\" content=\"Jornal Notícias da Covilhã\"><meta property=\"og:image\" content=\"https://arquivo.pt/noFrame/replay/20200110181245/https://i2.wp.com/www.noticiasdacovilha.pt/wp-content/uploads/2020/01/manuel-ramos.jpg?fit=960%2C720&ssl=1\"><link rel=\"canonical\" href=\"https://arquivo.pt/noFrame/replay/20200110181245oe_/https://www.noticiasdacovilha.pt/covilhanense-nos-jogos-olimpicos-da-juventude-de-inverno/\"><meta property=\"og:locale\" content=\"pt_PT\"><meta property=\"og:type\" content=\"article\"><meta property=\"og:title\" content=\"Covilhanense nos Jogos Olímpicos da Juventude de Inverno - Jornal Notícias da Covilhã\"><meta property=\"og:description\" content=\"Começou a praticar esqui aos três anos, na Serra da Estrela. Na próxima semana o covilhanense Manuel Ramos, de 17 anos, estreia-se nos Jogos Olímpicos de Inverno da Juventude Lausanne 2020, dia 13 no slalom gigante e a 14 na prova de slalom. O aluno da escola Quinta das Palmeiras é um dos dois esquiadores presentes na competição, que decorre na Suíça entre os dias 09 e 22 de Janeiro. Na bagagem leva a ambição de ficar &#8220;a meio da tabela&#8221;. A terceira edição da competição, destinada a atletas entre os 15 e os 18 anos, conta também com a &hellip;\"><meta property=\"og:url\" content=\"https://arquivo.pt/noFrame/replay/20200110181245/https://www.noticiasdacovilha.pt/covilhanense-nos-jogos-olimpicos-da-juventude-de-inverno/\"><meta property=\"og:site_name\" content=\"Jornal Notícias da Covilhã\"><meta property=\"article:publisher\" content=\"https://arquivo.pt/noFrame/replay/20200110181245/https://www.facebook.com/Not%C3%ADcias-da-Covilh%C3%A3-107534245992881/\"><meta property=\"article:tag\" content=\"associativismo\"><meta property=\"article:tag\" content=\"Covilhã\"><meta property=\"article:tag\" content=\"Desporto\"><meta property=\"article:tag\" content=\"ESQUI\"><meta property=\"article:tag\" content=\"Federação de Desportos de Inverno\"><meta property=\"article:tag\" content=\"Juventude\"><meta property=\"article:tag\" content=\"Manuel Ramos\"><meta property=\"article:tag\" content=\"montanha\"><meta property=\"article:tag\" content=\"Serra da Estrela\"><meta property=\"article:section\" content=\"Actualidade\"><meta property=\"article:published_time\" content=\"2020-01-08T11:43:07+00:00\"><meta property=\"article:modified_time\" content=\"2020-01-08T10:43:40+00:00\"><meta property=\"og:updated_time\" content=\"2020-01-08T10:43:40+00:00\"><meta property=\"og:image\" content=\"https://arquivo.pt/noFrame/replay/20200110181245/https://i2.wp.com/www.noticiasdacovilha.pt/wp-content/uploads/2020/01/manuel-ramos.jpg?fit=960%2C720&#038;ssl=1\"><meta property=\"og:image:secure_url\" content=\"https://arquivo.pt/noFrame/replay/20200110181245/https://i2.wp.com/www.noticiasdacovilha.pt/wp-content/uploads/2020/01/manuel-ramos.jpg?fit=960%2C720&#038;ssl=1\"><meta property=\"og:image:width\" content=\"960\"><meta property=\"og:image:height\" content=\"720\"><meta name=\"twitter:card\" content=\"summary_large_image\"><meta name=\"twitter:description\" content=\"Começou a praticar esqui aos três anos, na Serra da Estrela. Na próxima semana o covilhanense Manuel Ramos, de 17 anos, estreia-se nos Jogos Olímpicos de Inverno da Juventude Lausanne 2020, dia 13 no slalom gigante e a 14 na prova de slalom. O aluno da escola Quinta das Palmeiras é um dos dois esquiadores presentes na competição, que decorre na Suíça entre os dias 09 e 22 de Janeiro. Na bagagem leva a ambição de ficar &#8220;a meio da tabela&#8221;. A terceira edição da competição, destinada a atletas entre os 15 e os 18 anos, conta também com a [&hellip;]\"><meta name=\"twitter:title\" content=\"Covilhanense nos Jogos Olímpicos da Juventude de Inverno - Jornal Notícias da Covilhã\"><meta name=\"twitter:image\" content=\"https://arquivo.pt/noFrame/replay/20200110181245/https://i2.wp.com/www.noticiasdacovilha.pt/wp-content/uploads/2020/01/manuel-ramos.jpg?fit=960%2C720&#038;ssl=1\"> <script type=\"application/ld+json\" class=\"yoast-schema-graph yoast-schema-graph--main\">{\"@context\":\"https://schema.org\",\"@graph\":[{\"@type\":\"Organization\",\"@id\":\"https://www.noticiasdacovilha.pt/#organization\",\"name\":\"Jornal Not\\\\u00edcias da Covilh\\\\u00e3\",\"url\":\"https://www.noticiasdacovilha.pt/\",\"sameAs\":[\"https://www.facebook.com/Not\\\\u00edcias-da-Covilh\\\\u00e3-107534245992881/\",\"https://www.instagram.com/noticias_covilha/\"],\"logo\":{\"@type\":\"ImageObject\",\"@id\":\"https://www.noticiasdacovilha.pt/#logo\",\"url\":\"https://i0.wp.com/www.noticiasdacovilha.pt/wp-content/uploads/2019/05/LOGOS-Not\\\\u00edcias-da-Covilh\\\\u00e3-13.png?fit=544%2C177&ssl=1\",\"width\":544,\"height\":177,\"caption\":\"Jornal Not\\\\u00edcias da Covilh\\\\u00e3\"},\"image\":{\"@id\":\"https://www.noticiasdacovilha.pt/#logo\"}},{\"@type\":\"WebSite\",\"@id\":\"https://www.noticiasdacovilha.pt/#website\",\"url\":\"https://www.noticiasdacovilha.pt/\",\"name\":\"Jornal Not\\\\u00edcias da Covilh\\\\u00e3\",\"publisher\":{\"@id\":\"https://www.noticiasdacovilha.pt/#organization\"},\"potentialAction\":{\"@type\":\"SearchAction\",\"target\":\"https://www.noticiasdacovilha.pt/?s={search_term_string}\",\"query-input\":\"required name=search_term_string\"}},{\"@type\":\"WebPage\",\"@id\":\"https://www.noticiasdacovilha.pt/covilhanense-nos-jogos-olimpicos-da-juventude-de-inverno/#webpage\",\"url\":\"https://www.noticiasdacovilha.pt/covilhanense-nos-jogos-olimpicos-da-juventude-de-inverno/\",\"inLanguage\":\"pt-PT\",\"name\":\"Covilhanense nos Jogos Ol\\\\u00edmpicos da Juventude de Inverno - Jornal Not\\\\u00edcias da Covilh\\\\u00e3\",\"isPartOf\":{\"@id\":\"https://www.noticiasdacovilha.pt/#website\"},\"image\":{\"@type\":\"ImageObject\",\"@id\":\"https://www.noticiasdacovilha.pt/covilhanense-nos-jogos-olimpicos-da-juventude-de-inverno/#primaryimage\",\"url\":\"https://i2.wp.com/www.noticiasdacovilha.pt/wp-content/uploads/2020/01/manuel-ramos.jpg?fit=960%2C720&ssl=1\",\"width\":960,\"height\":720},\"primaryImageOfPage\":{\"@id\":\"https://www.noticiasdacovilha.pt/covilhanense-nos-jogos-olimpicos-da-juventude-de-inverno/#primaryimage\"},\"datePublished\":\"2020-01-08T11:43:07+00:00\",\"dateModified\":\"2020-01-08T10:43:40+00:00\"},{\"@type\":\"Article\",\"@id\":\"https://www.noticiasdacovilha.pt/covilhanense-nos-jogos-olimpicos-da-juventude-de-inverno/#article\",\"isPartOf\":{\"@id\":\"https://www.noticiasdacovilha.pt/covilhanense-nos-jogos-olimpicos-da-juventude-de-inverno/#webpage\"},\"author\":{\"@id\":\"https://www.noticiasdacovilha.pt/author/anarrodriguesgmail-com/#author\"},\"headline\":\"Covilhanense nos Jogos Ol\\\\u00edmpicos da Juventude de Inverno\",\"datePublished\":\"2020-01-08T11:43:07+00:00\",\"dateModified\":\"2020-01-08T10:43:40+00:00\",\"commentCount\":0,\"mainEntityOfPage\":\"https://www.noticiasdacovilha.pt/covilhanense-nos-jogos-olimpicos-da-juventude-de-inverno/#webpage\",\"publisher\":{\"@id\":\"https://www.noticiasdacovilha.pt/#organization\"},\"image\":{\"@id\":\"https://www.noticiasdacovilha.pt/covilhanense-nos-jogos-olimpicos-da-juventude-de-inverno/#primaryimage\"},\"keywords\":\"associativismo,Covilh\\\\u00e3,Desporto,ESQUI,Federa\\\\u00e7\\\\u00e3o de Desportos de Inverno,Juventude,Manuel Ramos,montanha,Serra da Estrela\",\"articleSection\":\"Actualidade,Agenda,Centrais,Covilh\\\\u00e3,Desporto,Destaque,Regi\\\\u00e3o\"},{\"@type\":[\"Person\"],\"@id\":\"https://www.noticiasdacovilha.pt/author/anarrodriguesgmail-com/#author\",\"name\":\"Ana Ribeiro Rodrigues\",\"image\":{\"@type\":\"ImageObject\",\"@id\":\"https://www.noticiasdacovilha.pt/#authorlogo\",\"url\":\"https://secure.gravatar.com/avatar/e6b6310418d6461185575c1036992af5?s=96&d=mm&r=g\",\"caption\":\"Ana Ribeiro Rodrigues\"},\"sameAs\":[]}]}</script> <link rel=\"dns-prefetch\" href=\"//arquivo.pt/noFrame/replay/20200110181245oe_///s0.wp.com\"><link rel=\"dns-prefetch\" href=\"//arquivo.pt/noFrame/replay/20200110181245oe_///fonts.googleapis.com\"><link rel=\"dns-prefetch\" href=\"//arquivo.pt/noFrame/replay/20200110181245oe_///s.w.org\"><link rel=\"alternate\" type=\"application/rss+xml\" title=\"Jornal Notícias da Covilhã &raquo; Feed\" href=\"https://arquivo.pt/noFrame/replay/20200110181245mp_/https://www.noticiasdacovilha.pt/feed/\"><link rel=\"alternate\" type=\"application/rss+xml\" title=\"Jornal Notícias da Covilhã &raquo; Feed de comentários\" href=\"https://arquivo.pt/noFrame/replay/20200110181245mp_/https://www.noticiasdacovilha.pt/comments/feed/\"><link rel=\"alternate\" type=\"application/rss+xml\" title=\"Feed de comentários de Jornal Notícias da Covilhã &raquo; Covilhanense nos Jogos Olímpicos da Juventude de Inverno\" href=\"https://arquivo.pt/noFrame/replay/20200110181245mp_/https://www.noticiasdacovilha.pt/covilhanense-nos-jogos-olimpicos-da-juventude-de-inverno/feed/\"> <script>\\nvar _____WB$wombat$assign$function_____ = function(name) {return (self._wb_wombat && self._wb_wombat.local_init && self._wb_wombat.local_init(name)) || self[name]; };\\nif (!self.__WB_pmw) { self.__WB_pmw = function(obj) { this.__WB_source = obj; return this; } }\\n{\\nlet window = _____WB$wombat$assign$function_____(\"window\");\\nlet self = _____WB$wombat$assign$function_____(\"self\");\\nlet document = _____WB$wombat$assign$function_____(\"document\");\\nlet location = _____WB$wombat$assign$function_____(\"location\");\\nlet top = _____WB$wombat$assign$function_____(\"top\");\\nlet parent = _____WB$wombat$assign$function_____(\"parent\");\\nlet frames = _____WB$wombat$assign$function_____(\"frames\");\\nlet opener = _____WB$wombat$assign$function_____(\"opener\");\\nlet arguments;\\n\\n{window._wpemojiSettings={\"baseUrl\":\"https:\\\\/\\\\/s.w.org\\\\/images\\\\/core\\\\/emoji\\\\/12.0.0-1\\\\/72x72\\\\/\",\"ext\":\".png\",\"svgUrl\":\"https:\\\\/\\\\/s.w.org\\\\/images\\\\/core\\\\/emoji\\\\/12.0.0-1\\\\/svg\\\\/\",\"svgExt\":\".svg\",\"source\":{\"concatemoji\":\"https:\\\\/\\\\/www.noticiasdacovilha.pt\\\\/wp-includes\\\\/js\\\\/wp-emoji-release.min.js?ver=74c9b2f90b1d51255de7c663e0d52884\"}};!function(a,b,c){function d(a,b){var c=String.fromCharCode;l.clearRect(0,0,k.width,k.height),l.fillText(c.apply(this,a),0,0);var d=k.toDataURL();l.clearRect(0,0,k.width,k.height),l.fillText(c.apply(this,b),0,0);var e=k.toDataURL();return d===e}function e(a){var b;if(!l||!l.fillText)return!1;switch(l.textBaseline=\"top\",l.font=\"600 32px Arial\",a){case\"flag\":return!(b=d([55356,56826,55356,56819],[55356,56826,8203,55356,56819]))&&(b=d([55356,57332,56128,56423,56128,56418,56128,56421,56128,56430,56128,56423,56128,56447],[55356,57332,8203,56128,56423,8203,56128,56418,8203,56128,56421,8203,56128,56430,8203,56128,56423,8203,56128,56447]),!b);case\"emoji\":return b=d([55357,56424,55356,57342,8205,55358,56605,8205,55357,56424,55356,57340],[55357,56424,55356,57342,8203,55358,56605,8203,55357,56424,55356,57340]),!b}return!1}function f(a){var c=b.createElement(\"script\");c.src=a,c.defer=c.type=\"text/javascript\",b.getElementsByTagName(\"head\")[0].appendChild(c)}var g,h,i,j,k=b.createElement(\"canvas\"),l=k.getContext&&k.getContext(\"2d\");for(j=Array(\"flag\",\"emoji\"),c.supports={everything:!0,everythingExceptFlag:!0},i=0;i<j.length;i++)c.supports[j[i]]=e(j[i]),c.supports.everything=c.supports.everything&&c.supports[j[i]],\"flag\"!==j[i]&&(c.supports.everythingExceptFlag=c.supports.everythingExceptFlag&&c.supports[j[i]]);c.supports.everythingExceptFlag=c.supports.everythingExceptFlag&&!c.supports.flag,c.DOMReady=!1,c.readyCallback=function(){c.DOMReady=!0},c.supports.everything||(h=function(){c.readyCallback()},b.addEventListener?(b.addEventListener(\"DOMContentLoaded\",h,!1),a.addEventListener(\"load\",h,!1)):(a.attachEvent(\"onload\",h),b.attachEvent(\"onreadystatechange\",function(){\"complete\"===b.readyState&&c.readyCallback()})),g=c.source||{},g.concatemoji?f(g.concatemoji):g.wpemoji&&g.twemoji&&(f(g.twemoji),f(g.wpemoji)))}(window,document,window._wpemojiSettings);\\n\\n}}</script> <style>img.wp-smiley,img.emoji{display:inline !important;border:none !important;box-shadow:none !important;height:1em !important;width:1em !important;margin:0\\n.07em !important;vertical-align:-0.1em !important;background:none !important;padding:0\\n!important}</style><link rel=\"stylesheet\" id=\"wp-block-library-css\" href=\"https://arquivo.pt/noFrame/replay/20200110181245cs_/https://c0.wp.com/c/5.2.5/wp-includes/css/dist/block-library/style.min.css\" type=\"text/css\" media=\"all\"><link rel=\"stylesheet\" href=\"https://arquivo.pt/noFrame/replay/20200110181245cs_/https://www.noticiasdacovilha.pt/wp-content/cache/minify/60ed8.css\" media=\"all\"><style id=\"wp-polls-inline-css\">.wp-polls\\n.pollbar{margin:1px;font-size:6px;line-height:8px;height:8px;background:#c4973e;border:1px\\nsolid #fff}</style><link rel=\"stylesheet\" href=\"https://arquivo.pt/noFrame/replay/20200110181245cs_/https://www.noticiasdacovilha.pt/wp-content/cache/minify/a251c.css\" media=\"all\"><style id=\"rubik-style-inline-css\">.bk-breadcrumbs-wrap{display:none}::selection{color:#FFF;background:#c5181d}::-webkit-selection{color:#FFF;background:#c5181d}.content_out.small-post h4:hover,\\n.bk-sub-posts .post-title a:hover,\\n.bk-blog-content .meta-wrap .post-category,\\n.breadcrumbs .fa-home, .module-feature2 .meta-wrap .post-category, .module-tech-grid ul li .meta > div.post-category a, .module-pyramid-grid ul li .meta > div.post-category a,\\np > a, p > a:hover, .single-page .article-content a:hover, .single-page .article-content a:visited, .content_out.small-post .meta .post-category, .bk-sub-menu li > a:hover,\\n#top-menu>ul>li > .sub-menu a:hover, .bk-dropdown-menu li > a:hover, .widget-twitter .fa-twitter,\\n.widget-twitter ul.slides li .twitter-message a, .content_in .meta > div.post-category a,\\n.row-type .meta-wrap .post-category, .article-content li a, .article-content p a,\\n.s-post-header .meta > .post-category, .breadcrumbs .location,\\n.s-post-nav .nav-title span, .error-number h4, .redirect-home, .module-breaking-carousel .flex-direction-nav .flex-next, .module-breaking-carousel:hover .flex-direction-nav .flex-prev,\\n.bk-author-box .author-info .author-title:hover, .bk-author-box .author-info .bk-author-page-contact a:hover, .module-feature2 .meta .post-category,\\n.bk-blog-content .meta .post-category, .bk-forum-title:hover,\\n.content_out .post-c-wrap .readmore a:hover, .module-blog ul li .readmore a:hover, .widget_latest_replies .details h4:hover,\\n#pagination .page-numbers, .post-page-links a, .single-page .icon-play, #wp-calendar tbody td a, #wp-calendar tfoot #prev,\\n.widget_comment .post-title:hover,\\n.widget_latest_replies .details .comment-author, .widget_recent_topics .details .comment-author a,\\na.bk_u_login:hover, a.bk_u_logout:hover, .bk-back-login:hover,\\n.main-nav.bk-menu-light .bk-sub-menu li > a:hover, .main-nav.bk-menu-light .bk-sub-posts .post-title a:hover,\\n.row-type h4:hover, .widget-social ul li a:hover, .module-large-blog .post-c-wrap h4:hover,\\n.module-feature2 .content_out h4:hover, .module-classic-blog .bk-blog-content h4:hover, .content_out .meta > div.post-author a:hover,\\n.s-post-header .meta > div.post-author a:hover, .s-post-header .post-category a, .module-title .bk-tabs.active a,\\n.bk-tabs-dropdown:hover .bk-tabs-more, .header-5 .main-menu > ul > li.current-menu-item > a, .header-5 .main-menu > ul > li.current-menu-item > a:hover,\\n.header-2 .main-menu > ul > li.current-menu-item > a, .header-2 .main-menu > ul > li.current-menu-item > a:hover,\\n.nav-btn h3:hover, .title > a:hover, .module-grid-7 .grid7-col:first-child:hover .title,\\n.widget a:hover, .ticker-content a:hover, .heading-related-posts h4:hover, .s-template-14 .heading-related-posts h4:hover,\\n.s-template-16 .heading-related-posts h4:hover{color:#c5181d}#top-menu>ul>li > .sub-menu, .bk-dropdown-menu, .s-post-nav .nav-title span,\\n.s-post-nav .nav-title span, .bk-mega-menu, .bk-mega-column-menu, .search-loadding, #comment-submit:hover, .s-tags a:hover, input[type=\\'submit\\']:hover,\\n.ticker-controls li.jnt-prev:hover:before, .ticker-controls li.jnt-next:hover:after,\\n#pagination .page-numbers, .post-page-links a, .post-page-links > span, .widget-twitter .flex-direction-nav li a:hover, .menu-location-title,\\n.button:hover, .bk-lwa:hover > .bk-account-info, .bk-back-login:hover,\\n.page-nav .current, .widget_tag_cloud .tagcloud a:hover{border-color:#c5181d}.sidebar_header_24 .sidebar-wrap .widget-title{border-color:#333}.sidebar_header_25 .sidebar-wrap .widget-title h3:after, .module_header_11 .module-title h2:after{border-left-color:#c5181d}.footer_header_15 .footer .widget-title h3:after{border-left-color:#c5181d}.module_header_13 .module-title h2:before{border-color:#c5181d transparent transparent transparent}.bk-preload-wrapper:after{border-top-color:#c5181d;border-bottom-color:#c5181d}.s-tags a:hover, .s-post-nav .icon, #comment-submit:hover, .flex-direction-nav li a,\\n.widget-twitter .flex-direction-nav li a:hover,.button:hover, .widget_most_commented .comments,\\n.footer .widget-title h3, .post-c-wrap .readmore a:hover, .ticker-title span, .ticker-controls li.jnt-prev:hover:before,\\n.ticker-controls li.jnt-next:hover:after,\\n.widget_tag_cloud .tagcloud a:hover, .footer .widget_tag_cloud .tagcloud a:hover, input[type=\\'submit\\']:hover,\\n.thumb, .module-fw-slider .flex-control-nav li a.flex-active, .module-breaking-carousel .content_out.small-post .meta:after,\\n.footer .cm-flex .flex-control-paging li a.flex-active, .header-1 .main-nav .menu > li.current-menu-item,\\n.header-3 .main-nav .menu > li.current-menu-item,\\n.module-feature2 .flex-direction-nav li a,\\n.bk-review-box .bk-overlay span, .bk-score-box, .share-total, #pagination .page-numbers.current, .post-page-links > span,\\n.widget_display_stats dd strong, .widget_display_search .search-icon, .searchform-wrap .search-icon,\\n#back-top, .module-square-grid .content_in_wrapper, .bk_tabs .ui-tabs-nav li.ui-tabs-active, #bk-gallery-carousel .bk-gallery-item:before,\\n.page-nav .current, .bk-page-header.header-1 .main-menu > ul > li:hover > a:after, .bk-page-header.header-2 .main-menu > ul > li:hover > a:after,\\n.module_header_13 .module-title h2, .bk-page-header.header-3 .main-menu > ul > li:hover > a:after, .loadmore span.ajaxtext,\\n.heading-related-posts h4:hover:before, .s-template-14 .heading-related-posts h4:hover:before, .s-template-16 .heading-related-posts h4:hover:before{background-color:#c5181d}.content_out .review-score,::-webkit-scrollbar-thumb{background-color:rgba(197,24,29,0.9)}.footer .cm-flex .flex-control-paging li\\na{background-color:rgba(197,24,29,0.3)}.widget_most_commented .comments:after{border-right-color:#c5181d}.post-category a:after{border-left-color:#c5181d}#page-wrap{width:auto}.header-inner{margin-top:50px}.header-inner{margin-bottom:50px}.footer{padding-top:50px}.footer .footer-lower{margin-top:50px}.sidebar-wrap .widget-title h3:before{border-color:#333 transparent transparent transparent}.footer .widget-title h3:before{border-color:#333 transparent transparent transparent}.post-category a.term-2,\\n.main-nav .main-menu .menu > li.menu-category-2:hover > a:after, .main-nav .menu > li.current-menu-item.menu-category-2 > a:after,\\n.content_out .thumb.term-2, .content_in .bk-thumb-wrap.term-2,\\n.header-1 .main-nav .menu > li.current-menu-item.menu-category-2,\\n.header-3 .main-nav .menu > li.current-menu-item.menu-category-2,\\n.header-4 .main-nav .menu > li.current-menu-item.menu-category-2,\\n.rating-wrap.term-2 .rating-canvas-bg{background-color:#ed1b2f !important}.bk-preload-wrapper.term-2:after{border-top-color:#ed1b2f !important;border-bottom-color:#ed1b2f !important}.bk-tabs.active > a.term-2, .bk-tabs a.term-2:hover, .content_out h4:hover a.term-2,\\n.menu-category-2 .post-title a:hover,\\n.bk-mega-menu .bk-sub-menu .menu-category-2.active > a, .bk-mega-menu .bk-sub-menu .menu-category-2:hover > a,\\n.menu-category-2 .all.active > a,\\n.main-nav .main-menu .bk-mega-menu .post-title a.term-2:hover,.bk-dropdown-menu li.menu-category-2 > a:hover,\\n.bk-page-header.header-5 .main-menu > ul > li.menu-category-2:hover > a,\\n.bk-page-header.header-5 .main-menu > ul > li.current-menu-item.menu-category-2 > a,\\n.bk-page-header.header-2 .main-menu > ul > li.menu-category-2:hover > a,\\n.bk-page-header.header-2 .main-menu>ul>li.current-menu-item.menu-category-2>a{color:#ed1b2f !important}.main-nav .menu > li.menu-category-2:hover > .bk-mega-menu,\\n.main-nav .menu > li.menu-category-2:hover > .bk-mega-column-menu, .main-menu > ul > li.menu-category-2:hover .bk-dropdown-menu{border-color:#ed1b2f !important}.post-category a.term-2:after{border-left-color:#ed1b2f !important}.module-title.module-term-2:before{background-color:#ed1b2f !important}.module-title.module-term-2 .bk-tab-original{color:#ed1b2f !important}.post-category a.term-9,\\n.main-nav .main-menu .menu > li.menu-category-9:hover > a:after, .main-nav .menu > li.current-menu-item.menu-category-9 > a:after,\\n.content_out .thumb.term-9, .content_in .bk-thumb-wrap.term-9,\\n.header-1 .main-nav .menu > li.current-menu-item.menu-category-9,\\n.header-3 .main-nav .menu > li.current-menu-item.menu-category-9,\\n.header-4 .main-nav .menu > li.current-menu-item.menu-category-9,\\n.rating-wrap.term-9 .rating-canvas-bg{background-color:#ed1b2f !important}.bk-preload-wrapper.term-9:after{border-top-color:#ed1b2f !important;border-bottom-color:#ed1b2f !important}.bk-tabs.active > a.term-9, .bk-tabs a.term-9:hover, .content_out h4:hover a.term-9,\\n.menu-category-9 .post-title a:hover,\\n.bk-mega-menu .bk-sub-menu .menu-category-9.active > a, .bk-mega-menu .bk-sub-menu .menu-category-9:hover > a,\\n.menu-category-9 .all.active > a,\\n.main-nav .main-menu .bk-mega-menu .post-title a.term-9:hover,.bk-dropdown-menu li.menu-category-9 > a:hover,\\n.bk-page-header.header-5 .main-menu > ul > li.menu-category-9:hover > a,\\n.bk-page-header.header-5 .main-menu > ul > li.current-menu-item.menu-category-9 > a,\\n.bk-page-header.header-2 .main-menu > ul > li.menu-category-9:hover > a,\\n.bk-page-header.header-2 .main-menu>ul>li.current-menu-item.menu-category-9>a{color:#ed1b2f !important}.main-nav .menu > li.menu-category-9:hover > .bk-mega-menu,\\n.main-nav .menu > li.menu-category-9:hover > .bk-mega-column-menu, .main-menu > ul > li.menu-category-9:hover .bk-dropdown-menu{border-color:#ed1b2f !important}.post-category a.term-9:after{border-left-color:#ed1b2f !important}.module-title.module-term-9:before{background-color:#ed1b2f !important}.module-title.module-term-9 .bk-tab-original{color:#ed1b2f !important}.post-category a.term-8,\\n.main-nav .main-menu .menu > li.menu-category-8:hover > a:after, .main-nav .menu > li.current-menu-item.menu-category-8 > a:after,\\n.content_out .thumb.term-8, .content_in .bk-thumb-wrap.term-8,\\n.header-1 .main-nav .menu > li.current-menu-item.menu-category-8,\\n.header-3 .main-nav .menu > li.current-menu-item.menu-category-8,\\n.header-4 .main-nav .menu > li.current-menu-item.menu-category-8,\\n.rating-wrap.term-8 .rating-canvas-bg{background-color:#ed1b2f !important}.bk-preload-wrapper.term-8:after{border-top-color:#ed1b2f !important;border-bottom-color:#ed1b2f !important}.bk-tabs.active > a.term-8, .bk-tabs a.term-8:hover, .content_out h4:hover a.term-8,\\n.menu-category-8 .post-title a:hover,\\n.bk-mega-menu .bk-sub-menu .menu-category-8.active > a, .bk-mega-menu .bk-sub-menu .menu-category-8:hover > a,\\n.menu-category-8 .all.active > a,\\n.main-nav .main-menu .bk-mega-menu .post-title a.term-8:hover,.bk-dropdown-menu li.menu-category-8 > a:hover,\\n.bk-page-header.header-5 .main-menu > ul > li.menu-category-8:hover > a,\\n.bk-page-header.header-5 .main-menu > ul > li.current-menu-item.menu-category-8 > a,\\n.bk-page-header.header-2 .main-menu > ul > li.menu-category-8:hover > a,\\n.bk-page-header.header-2 .main-menu>ul>li.current-menu-item.menu-category-8>a{color:#ed1b2f !important}.main-nav .menu > li.menu-category-8:hover > .bk-mega-menu,\\n.main-nav .menu > li.menu-category-8:hover > .bk-mega-column-menu, .main-menu > ul > li.menu-category-8:hover .bk-dropdown-menu{border-color:#ed1b2f !important}.post-category a.term-8:after{border-left-color:#ed1b2f !important}.module-title.module-term-8:before{background-color:#ed1b2f !important}.module-title.module-term-8 .bk-tab-original{color:#ed1b2f !important}.post-category a.term-7,\\n.main-nav .main-menu .menu > li.menu-category-7:hover > a:after, .main-nav .menu > li.current-menu-item.menu-category-7 > a:after,\\n.content_out .thumb.term-7, .content_in .bk-thumb-wrap.term-7,\\n.header-1 .main-nav .menu > li.current-menu-item.menu-category-7,\\n.header-3 .main-nav .menu > li.current-menu-item.menu-category-7,\\n.header-4 .main-nav .menu > li.current-menu-item.menu-category-7,\\n.rating-wrap.term-7 .rating-canvas-bg{background-color:#ed1b2f !important}.bk-preload-wrapper.term-7:after{border-top-color:#ed1b2f !important;border-bottom-color:#ed1b2f !important}.bk-tabs.active > a.term-7, .bk-tabs a.term-7:hover, .content_out h4:hover a.term-7,\\n.menu-category-7 .post-title a:hover,\\n.bk-mega-menu .bk-sub-menu .menu-category-7.active > a, .bk-mega-menu .bk-sub-menu .menu-category-7:hover > a,\\n.menu-category-7 .all.active > a,\\n.main-nav .main-menu .bk-mega-menu .post-title a.term-7:hover,.bk-dropdown-menu li.menu-category-7 > a:hover,\\n.bk-page-header.header-5 .main-menu > ul > li.menu-category-7:hover > a,\\n.bk-page-header.header-5 .main-menu > ul > li.current-menu-item.menu-category-7 > a,\\n.bk-page-header.header-2 .main-menu > ul > li.menu-category-7:hover > a,\\n.bk-page-header.header-2 .main-menu>ul>li.current-menu-item.menu-category-7>a{color:#ed1b2f !important}.main-nav .menu > li.menu-category-7:hover > .bk-mega-menu,\\n.main-nav .menu > li.menu-category-7:hover > .bk-mega-column-menu, .main-menu > ul > li.menu-category-7:hover .bk-dropdown-menu{border-color:#ed1b2f !important}.post-category a.term-7:after{border-left-color:#ed1b2f !important}.module-title.module-term-7:before{background-color:#ed1b2f !important}.module-title.module-term-7 .bk-tab-original{color:#ed1b2f !important}.post-category a.term-6,\\n.main-nav .main-menu .menu > li.menu-category-6:hover > a:after, .main-nav .menu > li.current-menu-item.menu-category-6 > a:after,\\n.content_out .thumb.term-6, .content_in .bk-thumb-wrap.term-6,\\n.header-1 .main-nav .menu > li.current-menu-item.menu-category-6,\\n.header-3 .main-nav .menu > li.current-menu-item.menu-category-6,\\n.header-4 .main-nav .menu > li.current-menu-item.menu-category-6,\\n.rating-wrap.term-6 .rating-canvas-bg{background-color:#ed1b2f !important}.bk-preload-wrapper.term-6:after{border-top-color:#ed1b2f !important;border-bottom-color:#ed1b2f !important}.bk-tabs.active > a.term-6, .bk-tabs a.term-6:hover, .content_out h4:hover a.term-6,\\n.menu-category-6 .post-title a:hover,\\n.bk-mega-menu .bk-sub-menu .menu-category-6.active > a, .bk-mega-menu .bk-sub-menu .menu-category-6:hover > a,\\n.menu-category-6 .all.active > a,\\n.main-nav .main-menu .bk-mega-menu .post-title a.term-6:hover,.bk-dropdown-menu li.menu-category-6 > a:hover,\\n.bk-page-header.header-5 .main-menu > ul > li.menu-category-6:hover > a,\\n.bk-page-header.header-5 .main-menu > ul > li.current-menu-item.menu-category-6 > a,\\n.bk-page-header.header-2 .main-menu > ul > li.menu-category-6:hover > a,\\n.bk-page-header.header-2 .main-menu>ul>li.current-menu-item.menu-category-6>a{color:#ed1b2f !important}.main-nav .menu > li.menu-category-6:hover > .bk-mega-menu,\\n.main-nav .menu > li.menu-category-6:hover > .bk-mega-column-menu, .main-menu > ul > li.menu-category-6:hover .bk-dropdown-menu{border-color:#ed1b2f !important}.post-category a.term-6:after{border-left-color:#ed1b2f !important}.module-title.module-term-6:before{background-color:#ed1b2f !important}.module-title.module-term-6 .bk-tab-original{color:#ed1b2f !important}.post-category a.term-5,\\n.main-nav .main-menu .menu > li.menu-category-5:hover > a:after, .main-nav .menu > li.current-menu-item.menu-category-5 > a:after,\\n.content_out .thumb.term-5, .content_in .bk-thumb-wrap.term-5,\\n.header-1 .main-nav .menu > li.current-menu-item.menu-category-5,\\n.header-3 .main-nav .menu > li.current-menu-item.menu-category-5,\\n.header-4 .main-nav .menu > li.current-menu-item.menu-category-5,\\n.rating-wrap.term-5 .rating-canvas-bg{background-color:#ed1b2f !important}.bk-preload-wrapper.term-5:after{border-top-color:#ed1b2f !important;border-bottom-color:#ed1b2f !important}.bk-tabs.active > a.term-5, .bk-tabs a.term-5:hover, .content_out h4:hover a.term-5,\\n.menu-category-5 .post-title a:hover,\\n.bk-mega-menu .bk-sub-menu .menu-category-5.active > a, .bk-mega-menu .bk-sub-menu .menu-category-5:hover > a,\\n.menu-category-5 .all.active > a,\\n.main-nav .main-menu .bk-mega-menu .post-title a.term-5:hover,.bk-dropdown-menu li.menu-category-5 > a:hover,\\n.bk-page-header.header-5 .main-menu > ul > li.menu-category-5:hover > a,\\n.bk-page-header.header-5 .main-menu > ul > li.current-menu-item.menu-category-5 > a,\\n.bk-page-header.header-2 .main-menu > ul > li.menu-category-5:hover > a,\\n.bk-page-header.header-2 .main-menu>ul>li.current-menu-item.menu-category-5>a{color:#ed1b2f !important}.main-nav .menu > li.menu-category-5:hover > .bk-mega-menu,\\n.main-nav .menu > li.menu-category-5:hover > .bk-mega-column-menu, .main-menu > ul > li.menu-category-5:hover .bk-dropdown-menu{border-color:#ed1b2f !important}.post-category a.term-5:after{border-left-color:#ed1b2f !important}.module-title.module-term-5:before{background-color:#ed1b2f !important}.module-title.module-term-5 .bk-tab-original{color:#ed1b2f !important}.post-category a.term-79,\\n.main-nav .main-menu .menu > li.menu-category-79:hover > a:after, .main-nav .menu > li.current-menu-item.menu-category-79 > a:after,\\n.content_out .thumb.term-79, .content_in .bk-thumb-wrap.term-79,\\n.header-1 .main-nav .menu > li.current-menu-item.menu-category-79,\\n.header-3 .main-nav .menu > li.current-menu-item.menu-category-79,\\n.header-4 .main-nav .menu > li.current-menu-item.menu-category-79,\\n.rating-wrap.term-79 .rating-canvas-bg{background-color:#c5181d !important}.bk-preload-wrapper.term-79:after{border-top-color:#c5181d !important;border-bottom-color:#c5181d !important}.bk-tabs.active > a.term-79, .bk-tabs a.term-79:hover, .content_out h4:hover a.term-79,\\n.menu-category-79 .post-title a:hover,\\n.bk-mega-menu .bk-sub-menu .menu-category-79.active > a, .bk-mega-menu .bk-sub-menu .menu-category-79:hover > a,\\n.menu-category-79 .all.active > a,\\n.main-nav .main-menu .bk-mega-menu .post-title a.term-79:hover,.bk-dropdown-menu li.menu-category-79 > a:hover,\\n.bk-page-header.header-5 .main-menu > ul > li.menu-category-79:hover > a,\\n.bk-page-header.header-5 .main-menu > ul > li.current-menu-item.menu-category-79 > a,\\n.bk-page-header.header-2 .main-menu > ul > li.menu-category-79:hover > a,\\n.bk-page-header.header-2 .main-menu>ul>li.current-menu-item.menu-category-79>a{color:#c5181d !important}.main-nav .menu > li.menu-category-79:hover > .bk-mega-menu,\\n.main-nav .menu > li.menu-category-79:hover > .bk-mega-column-menu, .main-menu > ul > li.menu-category-79:hover .bk-dropdown-menu{border-color:#c5181d !important}.post-category a.term-79:after{border-left-color:#c5181d !important}.module-title.module-term-79:before{background-color:#c5181d !important}.module-title.module-term-79 .bk-tab-original{color:#c5181d !important}.post-category a.term-77,\\n.main-nav .main-menu .menu > li.menu-category-77:hover > a:after, .main-nav .menu > li.current-menu-item.menu-category-77 > a:after,\\n.content_out .thumb.term-77, .content_in .bk-thumb-wrap.term-77,\\n.header-1 .main-nav .menu > li.current-menu-item.menu-category-77,\\n.header-3 .main-nav .menu > li.current-menu-item.menu-category-77,\\n.header-4 .main-nav .menu > li.current-menu-item.menu-category-77,\\n.rating-wrap.term-77 .rating-canvas-bg{background-color:#c5181d !important}.bk-preload-wrapper.term-77:after{border-top-color:#c5181d !important;border-bottom-color:#c5181d !important}.bk-tabs.active > a.term-77, .bk-tabs a.term-77:hover, .content_out h4:hover a.term-77,\\n.menu-category-77 .post-title a:hover,\\n.bk-mega-menu .bk-sub-menu .menu-category-77.active > a, .bk-mega-menu .bk-sub-menu .menu-category-77:hover > a,\\n.menu-category-77 .all.active > a,\\n.main-nav .main-menu .bk-mega-menu .post-title a.term-77:hover,.bk-dropdown-menu li.menu-category-77 > a:hover,\\n.bk-page-header.header-5 .main-menu > ul > li.menu-category-77:hover > a,\\n.bk-page-header.header-5 .main-menu > ul > li.current-menu-item.menu-category-77 > a,\\n.bk-page-header.header-2 .main-menu > ul > li.menu-category-77:hover > a,\\n.bk-page-header.header-2 .main-menu>ul>li.current-menu-item.menu-category-77>a{color:#c5181d !important}.main-nav .menu > li.menu-category-77:hover > .bk-mega-menu,\\n.main-nav .menu > li.menu-category-77:hover > .bk-mega-column-menu, .main-menu > ul > li.menu-category-77:hover .bk-dropdown-menu{border-color:#c5181d !important}.post-category a.term-77:after{border-left-color:#c5181d !important}.module-title.module-term-77:before{background-color:#c5181d !important}.module-title.module-term-77 .bk-tab-original{color:#c5181d !important}.post-category a.term-76,\\n.main-nav .main-menu .menu > li.menu-category-76:hover > a:after, .main-nav .menu > li.current-menu-item.menu-category-76 > a:after,\\n.content_out .thumb.term-76, .content_in .bk-thumb-wrap.term-76,\\n.header-1 .main-nav .menu > li.current-menu-item.menu-category-76,\\n.header-3 .main-nav .menu > li.current-menu-item.menu-category-76,\\n.header-4 .main-nav .menu > li.current-menu-item.menu-category-76,\\n.rating-wrap.term-76 .rating-canvas-bg{background-color:#c5181d !important}.bk-preload-wrapper.term-76:after{border-top-color:#c5181d !important;border-bottom-color:#c5181d !important}.bk-tabs.active > a.term-76, .bk-tabs a.term-76:hover, .content_out h4:hover a.term-76,\\n.menu-category-76 .post-title a:hover,\\n.bk-mega-menu .bk-sub-menu .menu-category-76.active > a, .bk-mega-menu .bk-sub-menu .menu-category-76:hover > a,\\n.menu-category-76 .all.active > a,\\n.main-nav .main-menu .bk-mega-menu .post-title a.term-76:hover,.bk-dropdown-menu li.menu-category-76 > a:hover,\\n.bk-page-header.header-5 .main-menu > ul > li.menu-category-76:hover > a,\\n.bk-page-header.header-5 .main-menu > ul > li.current-menu-item.menu-category-76 > a,\\n.bk-page-header.header-2 .main-menu > ul > li.menu-category-76:hover > a,\\n.bk-page-header.header-2 .main-menu>ul>li.current-menu-item.menu-category-76>a{color:#c5181d !important}.main-nav .menu > li.menu-category-76:hover > .bk-mega-menu,\\n.main-nav .menu > li.menu-category-76:hover > .bk-mega-column-menu, .main-menu > ul > li.menu-category-76:hover .bk-dropdown-menu{border-color:#c5181d !important}.post-category a.term-76:after{border-left-color:#c5181d !important}.module-title.module-term-76:before{background-color:#c5181d !important}.module-title.module-term-76 .bk-tab-original{color:#c5181d !important}.bkmodule-dark .content_in .bk-thumb-wrap{background-color:#000 !important}.post-category\\na{background-color:#c5181d;color:#fff !important;padding:1px\\n5px 2px 5px}</style><link rel=\"stylesheet\" href=\"https://arquivo.pt/noFrame/replay/20200110181245cs_/https://www.noticiasdacovilha.pt/wp-content/cache/minify/7765b.css\" media=\"all\"><link rel=\"stylesheet\" id=\"redux-google-fonts-rubik_option-css\" href=\"https://arquivo.pt/noFrame/replay/20200110181245cs_/https://fonts.googleapis.com/css?family=Work+Sans%3A100%2C200%2C300%2C400%2C500%2C600%2C700%2C800%2C900%7COpen+Sans%3A300%2C400%2C600%2C700%2C800%2C300italic%2C400italic%2C600italic%2C700italic%2C800italic%7CLato%3A100%2C300%2C400%2C700%2C900%2C100italic%2C300italic%2C400italic%2C700italic%2C900italic&#038;ver=1561112264\" type=\"text/css\" media=\"all\"><link rel=\"stylesheet\" id=\"jetpack_css-css\" href=\"https://arquivo.pt/noFrame/replay/20200110181245cs_/https://c0.wp.com/p/jetpack/8.0/css/jetpack.css\" type=\"text/css\" media=\"all\"> <script src=\"https://arquivo.pt/noFrame/replay/20200110181245js_/https://c0.wp.com/c/5.2.5/wp-includes/js/jquery/jquery.js\"></script> <script defer=\"defer\" src=\"https://arquivo.pt/noFrame/replay/20200110181245js_/https://c0.wp.com/c/5.2.5/wp-includes/js/jquery/jquery-migrate.min.js\"></script> <link rel=\"https://api.w.org/\" href=\"https://arquivo.pt/noFrame/replay/20200110181245oe_/https://www.noticiasdacovilha.pt/wp-json/\"><link rel=\"EditURI\" type=\"application/rsd+xml\" title=\"RSD\" href=\"https://arquivo.pt/noFrame/replay/20200110181245oe_/https://www.noticiasdacovilha.pt/xmlrpc.php?rsd\"><link rel=\"wlwmanifest\" type=\"application/wlwmanifest+xml\" href=\"https://arquivo.pt/noFrame/replay/20200110181245oe_/https://www.noticiasdacovilha.pt/wp-includes/wlwmanifest.xml\"><link rel=\"shortlink\" href=\"https://arquivo.pt/noFrame/replay/20200110181245oe_/https://www.noticiasdacovilha.pt/?p=3487\"><link rel=\"alternate\" type=\"application/json+oembed\" href=\"https://arquivo.pt/noFrame/replay/20200110181245mp_/https://www.noticiasdacovilha.pt/wp-json/oembed/1.0/embed?url=https%3A%2F%2Fwww.noticiasdacovilha.pt%2Fcovilhanense-nos-jogos-olimpicos-da-juventude-de-inverno%2F\"><link rel=\"alternate\" type=\"text/xml+oembed\" href=\"https://arquivo.pt/noFrame/replay/20200110181245mp_/https://www.noticiasdacovilha.pt/wp-json/oembed/1.0/embed?url=https%3A%2F%2Fwww.noticiasdacovilha.pt%2Fcovilhanense-nos-jogos-olimpicos-da-juventude-de-inverno%2F&#038;format=xml\"><style media=\"screen\">.g{margin:0px;padding:0px;overflow:hidden;line-height:1;zoom:1}.g\\nimg{height:auto}.g-col{position:relative;float:left}.g-col:first-child{margin-left:0}.g-col:last-child{margin-right:0}@media only screen and (max-width: 480px){.g-col,.g-dyn,.g-single{width:100%;margin-left:0;margin-right:0}}</style><style>.no-js\\nimg.lazyload{display:none}figure.wp-block-image\\nimg.lazyloading{min-width:150px}.lazyload,.lazyloading{opacity:0}.lazyloaded{opacity:1;transition:opacity 400ms;transition-delay:0ms}</style><link rel=\"dns-prefetch\" href=\"//arquivo.pt/noFrame/replay/20200110181245oe_///i0.wp.com\"><link rel=\"dns-prefetch\" href=\"//arquivo.pt/noFrame/replay/20200110181245oe_///i1.wp.com\"><link rel=\"dns-prefetch\" href=\"//arquivo.pt/noFrame/replay/20200110181245oe_///i2.wp.com\"><link rel=\"dns-prefetch\" href=\"//arquivo.pt/noFrame/replay/20200110181245oe_///c0.wp.com\"><style>img#wpstats{display:none}</style><link rel=\"icon\" href=\"https://arquivo.pt/noFrame/replay/20200110181245oe_/https://i0.wp.com/www.noticiasdacovilha.pt/wp-content/uploads/2019/05/cropped-logo_nc.jpg?fit=32%2C32&#038;ssl=1\" sizes=\"32x32\"><link rel=\"icon\" href=\"https://arquivo.pt/noFrame/replay/20200110181245oe_/https://i0.wp.com/www.noticiasdacovilha.pt/wp-content/uploads/2019/05/cropped-logo_nc.jpg?fit=192%2C192&#038;ssl=1\" sizes=\"192x192\"><link rel=\"apple-touch-icon-precomposed\" href=\"https://arquivo.pt/noFrame/replay/20200110181245oe_/https://i0.wp.com/www.noticiasdacovilha.pt/wp-content/uploads/2019/05/cropped-logo_nc.jpg?fit=180%2C180&#038;ssl=1\"><meta name=\"msapplication-TileImage\" content=\"https://arquivo.pt/noFrame/replay/20200110181245/https://i0.wp.com/www.noticiasdacovilha.pt/wp-content/uploads/2019/05/cropped-logo_nc.jpg?fit=270%2C270&#038;ssl=1\"><style id=\"wp-custom-css\">@media (max-width: 991px){.logo{display:block!important;margin-top:2px;margin-bottom:2px;text-align:center}}@media (max-width: 600px){.header-1 .header-wrap .canvas-menu-wrap .logo\\nimg{max-width:500px}}.logo>a>img{height:100px}#page-content-wrap{margin-top:0}.post-category\\na{background-color:#c5181d!important;font-size:10px;display:inline-block}.bk-module-inner>div>div>div>div>a>.size-rubik-620-420{height:320px!important;width:auto!important}.bk-module-inner>div>div>div>div>a{margin:auto;text-align:center;background:#fff}.adrotate_widgets>div>a>img{display:block;margin:auto}#main-canvas-menu .rubik-canvas-background-img{background-image:url(/noFrame/replay/20200110181245oe_/https://www.noticiasdacovilha.pt/wp-content/uploads/2019/05/bg_menu.jpg)!important;opacity:0.50}.footer{background-image:url(/noFrame/replay/20200110181245oe_/https://www.noticiasdacovilha.pt/wp-content/uploads/2019/05/bg_menu.jpg)!important}#main-canvas-menu\\n.expand{height:auto}.header-1 .main-nav .main-menu>#menu-main-menu-1>li.menu-item-has-children>a{padding-right:20px}.main-menu>#menu-main-menu-1>li{width:auto}.main-menu>#menu-main-menu-1>li>a{padding:0\\n20px;text-align:center}.header-1 .main-nav .main-menu>#menu-main-menu-2>li.menu-item-has-children>a{padding-right:0px}.main-menu>#menu-main-menu-2>li{width:auto;padding-left:calc(calc(100% - 300px)/106);padding-right:calc(calc(100% - 300px)/106)}.main-menu>#menu-main-menu-2>li>a{padding:0\\n0px;font-size:12px}.menu-item-has-children > a:before, .main-nav .menu-category-megamenu>a:before{content:\\'\\'}.widget-social-counter ul li .data\\n.text{float:left}.widget_polls-widget>ul>li{text-align:center}.post-category a.term-6, .main-nav .main-menu .menu > li.menu-category-6:hover > a:after, .main-nav .menu > li.current-menu-item.menu-category-6 > a:after, .content_out .thumb.term-6, .content_in .bk-thumb-wrap.term-6, .header-1 .main-nav .menu > li.current-menu-item.menu-category-6, .header-3 .main-nav .menu > li.current-menu-item.menu-category-6, .header-4 .main-nav .menu > li.current-menu-item.menu-category-6, .rating-wrap.term-6 .rating-canvas-bg, .post-category a.term-2, .main-nav .main-menu .menu > li.menu-category-2:hover > a:after, .main-nav .menu > li.current-menu-item.menu-category-2 > a:after, .content_out .thumb.term-2, .content_in .bk-thumb-wrap.term-2, .header-1 .main-nav .menu > li.current-menu-item.menu-category-2, .header-3 .main-nav .menu > li.current-menu-item.menu-category-2, .header-4 .main-nav .menu > li.current-menu-item.menu-category-2, .rating-wrap.term-2 .rating-canvas-bg, .post-category a.term-2, .main-nav .main-menu .menu > li.menu-category-2:hover > a:after, .main-nav .menu > li.current-menu-item.menu-category-2 > a:after, .content_out .thumb.term-2, .content_in .bk-thumb-wrap.term-2, .header-1 .main-nav .menu > li.current-menu-item.menu-category-2, .header-3 .main-nav .menu > li.current-menu-item.menu-category-2, .header-4 .main-nav .menu > li.current-menu-item.menu-category-2, .rating-wrap.term-2 .rating-canvas-bg , .post-category a.term-3, .main-nav .main-menu .menu > li.menu-category-3:hover > a:after, .main-nav .menu > li.current-menu-item.menu-category-3 > a:after, .content_out .thumb.term-3, .content_in .bk-thumb-wrap.term-3, .header-1 .main-nav .menu > li.current-menu-item.menu-category-3, .header-3 .main-nav .menu > li.current-menu-item.menu-category-3, .header-4 .main-nav .menu > li.current-menu-item.menu-category-3, .rating-wrap.term-3 .rating-canvas-bg, .post-category a.term-5, .main-nav .main-menu .menu > li.menu-category-5:hover > a:after, .main-nav .menu > li.current-menu-item.menu-category-5 > a:after, .content_out .thumb.term-5, .content_in .bk-thumb-wrap.term-5, .header-1 .main-nav .menu > li.current-menu-item.menu-category-5, .header-3 .main-nav .menu > li.current-menu-item.menu-category-5, .header-4 .main-nav .menu > li.current-menu-item.menu-category-5, .rating-wrap.term-5 .rating-canvas-bg, .post-category a.term-7, .main-nav .main-menu .menu > li.menu-category-7:hover > a:after, .main-nav .menu > li.current-menu-item.menu-category-7 > a:after, .content_out .thumb.term-7, .content_in .bk-thumb-wrap.term-7, .header-1 .main-nav .menu > li.current-menu-item.menu-category-7, .header-3 .main-nav .menu > li.current-menu-item.menu-category-7, .header-4 .main-nav .menu > li.current-menu-item.menu-category-7, .rating-wrap.term-7 .rating-canvas-bg, .post-category a.term-8, .main-nav .main-menu .menu > li.menu-category-8:hover > a:after, .main-nav .menu > li.current-menu-item.menu-category-8 > a:after, .content_out .thumb.term-8, .content_in .bk-thumb-wrap.term-8, .header-1 .main-nav .menu > li.current-menu-item.menu-category-8, .header-3 .main-nav .menu > li.current-menu-item.menu-category-8, .header-4 .main-nav .menu > li.current-menu-item.menu-category-8, .rating-wrap.term-8 .rating-canvas-bg, .post-category a.term-9, .main-nav .main-menu .menu > li.menu-category-9:hover > a:after, .main-nav .menu > li.current-menu-item.menu-category-9 > a:after, .content_out .thumb.term-9, .content_in .bk-thumb-wrap.term-9, .header-1 .main-nav .menu > li.current-menu-item.menu-category-9, .header-3 .main-nav .menu > li.current-menu-item.menu-category-9, .header-4 .main-nav .menu > li.current-menu-item.menu-category-9, .rating-wrap.term-9 .rating-canvas-bg{background-color:#c5181d!important}.post-category a.term-1:after,\\n.post-category a.term-2:after,\\n.post-category a.term-3:after,\\n.post-category a.term-4:after,\\n.post-category a.term-5:after,\\n.post-category a.term-6:after,\\n.post-category a.term-7:after,\\n.post-category a.term-8:after,\\n.post-category a.term-9:after,\\n.post-category a.term-9:after{border-left-color:#c5181d!important}.tnp-widget-minimal input.tnp-submit{background-color:#c4973e}</style><style title=\"dynamic-css\" class=\"options-output\">.header-wrap{background-color:#fff}.top-bar, .top-bar .rubik-ajax-search-bg{background-color:#000}#top-menu>ul>li>a, .rubik_data_time, .bk-page-header .top-bar .ajax-form-search\\ni{color:#fff}.main-nav .rubik-ajax-search-bg, .header-12 .main-nav{background-color:#fff}.main-nav .main-menu > ul > li > a, .ajax-form-search i, .ajax-form input, .header-3 .header-wrap\\n.logo{color:#000}.main-nav .main-menu > ul > li:hover > a, .main-nav .main-menu>ul>li.current-menu-item>a{color:#fff}#main-canvas-menu .rubik-canvas-background-img{background-repeat:no-repeat;background-size:cover;background-position:center top;background-image:url(\\'https://arquivo.pt/noFrame/replay/20200110181245oe_/http://bk-ninja.com/rubik-world/wp-content/uploads/2018/05/2-1.jpg\\')}#main-canvas-menu .rubik-canvas-menu li a, #main-canvas-menu\\n.expand{font-family:\"Work Sans\";font-weight:600;color:#0a0a0a;font-size:15px}.canvas-nav-btn, .header-12 .header-social .social-icon\\na{color:#222}.canvas-nav-btn:hover{color:#000}.footer,.footer:before{background-color:#000}#footer-menu{font-family:\"Open Sans\";text-align:center;text-transform:uppercase;font-weight:normal;font-size:16px}.footer .footer-lower{background-color:#111}.footer-lower-left .bk-copyright, .footer-lower-right #footer-menu-lower, .footer-lower-right ul li.social-icon{font-family:\"Work Sans\";text-transform:capitalize;font-weight:400;color:#fff;font-size:13px}body{font-size:16px}#top-menu>ul>li, #top-menu>ul>li .sub-menu li,.rubik_data_time{font-family:\"Work Sans\";font-weight:500;font-style:normal}.main-nav .main-menu .menu > li, .main-nav .main-menu .menu > li > a, .mega-title h3, .header .logo.logo-text h1,\\n.comment-box .comment-author-name,.today-date{font-family:\"Work Sans\";text-transform:uppercase;font-weight:700;font-style:normal}.meta, .post-category, .widget_comment .cm-header div, .module-feature2 .post-author, .comment-box .comment-time, .share-box ul li .share-item__value,.share-box .bk-share .share-item__valuem, .share-total, .loadmore span.ajaxtext,\\n.post-c-wrap .readmore a, .breadcrumbs, .s-post-nav .nav-title span, .product_meta .post-tags-title,\\n.button, .bk-search-content .nothing-respond{font-family:\"Open Sans\";font-weight:600;font-style:normal}h1, h2, h3, h4, h5, .ticker-title, .bk-copyright, .rubik-widget-categories li,\\n.widget-social-counter .counter, .widget-social-counter ul li .data .subscribe, .related-box .related-box-tabs a,\\n.bk_tabs  .ui-tabs-nav li, .bk-tabs-more, .bkteamsc .team-member .member-name, .buttonsc, .bk-forum-title, .bk-sub-posts .post-title,\\n.module-title .bk-tabs, .widget_recent_entries > ul li, .widget_archive > ul li, .widget_categories > ul li, .widget_meta > ul li, .widget_pages > ul li, .widget_recent_comments > ul li, .widget_nav_menu > div > ul li,\\n.bk-module-pagination .pagination-btn, .bk-widget-pagination .widget-pagination-btn, .bk-related-pagination .related-pagination-btn, .bk-megamenu-pagination .megamenu-pagination-btn{font-family:\"Work Sans\";font-weight:700;font-style:normal}body, textarea, input, p,\\n.entry-excerpt, .comment-text, .comment-author, .article-content,\\n.comments-area, .tag-list, .bk-mega-menu .bk-sub-posts .feature-post .menu-post-item .post-date, .comments-area\\nsmall{font-family:Lato;font-weight:400;font-style:normal}blockquote{font-family:\"Open Sans\";text-transform:inherit;line-height:35px;font-weight:700;font-style:normal;color:#fff;font-size:22px}blockquote{background-color:#4DB2EC}.error-404-page-posts-wrap .module-square-grid .content_in .post-c-wrap\\n.title{text-transform:inherit;font-weight:700;font-style:normal;font-size:16px}.s-post-header\\nh1{text-transform:inherit;font-weight:700;font-style:normal;font-size:34px}.single-page .main .article-content{font-family:\"Open Sans\";text-transform:inherit;line-height:27px;font-weight:400;font-style:normal;color:#111;font-size:16px}.single-page .article-content p, .single-page\\nblockquote{margin-bottom:25px}.s-static-post-nav .nav-title h3, .s-post-nav .nav-title\\nh3{text-transform:inherit;font-size:18px}.related-box .post-c-wrap\\nh4{text-transform:inherit;font-size:16px}.module-title,.page-title-wrapper{margin-bottom:30px}.module-title h2, .page-title\\nh2{font-weight:700;font-size:18px}.sidebar-wrap .widget-title{margin-bottom:30px}.sidebar_header_5 .sidebar-wrap .widget-title h3, .sidebar_header_5 .sidebar-wrap .widget-title:before,\\n.sidebar_header_6 .sidebar-wrap .widget-title h3, .sidebar_header_6 .sidebar-wrap .widget-title:before,\\n.sidebar_header_7 .sidebar-wrap .widget-title h3, .sidebar_header_7 .sidebar-wrap .widget-title:before,\\n.sidebar_header_8 .sidebar-wrap .widget-title h3, .sidebar_header_8 .sidebar-wrap .widget-title:before,\\n.sidebar_header_9 .sidebar-wrap .widget-title:before,\\n.sidebar_header_10 .sidebar-wrap .widget-title:before,\\n.sidebar_header_11 .sidebar-wrap .widget-title:before,\\n.sidebar_header_12 .sidebar-wrap .widget-title:before,\\n.sidebar_header_13 .sidebar-wrap .widget-title:before,\\n.sidebar_header_14 .sidebar-wrap .widget-title:before,\\n.sidebar_header_15 .sidebar-wrap .widget-title:before,\\n.sidebar_header_16 .sidebar-wrap .widget-title:before,\\n.sidebar_header_17 .sidebar-wrap .widget-title:before,\\n.sidebar_header_18 .sidebar-wrap .widget-title:before,\\n.sidebar_header_21 .sidebar-wrap .widget-title:before,\\n.sidebar_header_22 .sidebar-wrap .widget-title h3:before,\\n.sidebar_header_23 .sidebar-wrap .widget-title h3:before, .sidebar_header_23 .sidebar-wrap .widget-title h3:after,\\n.sidebar_header_25 .sidebar-wrap .widget-title h3, .sidebar_header_25 .sidebar-wrap .widget-title:before,\\n.sidebar_header_26 .sidebar-wrap .widget-title:before,\\n.sidebar_header_27 .sidebar-wrap .widget-title h3, .sidebar_header_27 .sidebar-wrap .widget-title:before,\\n.sidebar_header_28 .sidebar-wrap .widget-title h3, .sidebar_header_28 .sidebar-wrap .widget-title:before{background-color:#c5181d}.sidebar_header_9 .sidebar-wrap .widget-title,.sidebar_header_10 .sidebar-wrap .widget-title,.sidebar_header_11 .sidebar-wrap .widget-title,.sidebar_header_12 .sidebar-wrap .widget-title,.sidebar_header_13 .sidebar-wrap .widget-title,.sidebar_header_14 .sidebar-wrap .widget-title,.sidebar_header_15 .sidebar-wrap .widget-title,.sidebar_header_16 .sidebar-wrap .widget-title,.sidebar_header_17 .sidebar-wrap .widget-title,.sidebar_header_18 .sidebar-wrap .widget-title,.sidebar_header_19 .sidebar-wrap .widget-title,.sidebar_header_20 .sidebar-wrap .widget-title,.sidebar_header_21 .sidebar-wrap .widget-title,.sidebar_header_24 .sidebar-wrap .widget-title,.sidebar_header_26 .sidebar-wrap .widget-title{color:#222}.sidebar-wrap .widget-title\\nh3{font-weight:700;font-size:16px}.footer .widget-title{margin-bottom:30px}.footer_header_1 .footer .widget-title h3, .footer_header_1 .footer .widget-title:before,\\n.footer_header_2 .footer .widget-title h3, .footer_header_2 .footer .widget-title:before,\\n.footer_header_3 .footer .widget-title h3, .footer_header_3 .footer .widget-title:before,\\n.footer_header_4 .footer .widget-title h3, .footer_header_4 .footer .widget-title:before,\\n.footer_header_5 .footer .widget-title:before, .footer_header_6 .footer .widget-title:before,\\n.footer_header_7 .footer .widget-title:before, .footer_header_8 .footer .widget-title:before,\\n.footer_header_9 .footer .widget-title:before, .footer_header_10 .footer .widget-title:before,\\n.footer_header_13 .footer .widget-title h3:before, .footer_header_14 .footer .widget-title h3:before,\\n.footer_header_14 .footer .widget-title h3:after,\\n.footer_header_15 .footer .widget-title h3, .footer_header_15 .footer .widget-title:before,\\n.footer_header_16 .footer .widget-title:before, .footer_header_17 .footer .widget-title h3,\\n.footer_header_18 .footer .widget-title\\nh3{background-color:#c5181d}.footer_header_1 .footer .widget-title h3, .footer_header_2 .footer .widget-title h3,\\n.footer_header_3 .footer .widget-title h3, .footer_header_4 .footer .widget-title h3,\\n.footer_header_5 .footer .widget-title h3, .footer_header_6 .footer .widget-title h3,\\n.footer_header_7 .footer .widget-title h3, .footer_header_8 .footer .widget-title h3,\\n.footer_header_9 .footer .widget-title h3, .footer_header_10 .footer .widget-title h3,\\n.footer_header_11 .footer .widget-title h3, .footer_header_12 .footer .widget-title h3,\\n.footer_header_13 .footer .widget-title h3, .footer_header_14 .footer .widget-title h3,\\n.footer_header_15 .footer .widget-title h3, .footer_header_16 .footer .widget-title h3,\\n.footer_header_17 .footer .widget-title h3, .footer_header_18 .footer .widget-title\\nh3{color:#fff}.footer .widget-title\\nh3{font-size:18px}</style></head><body class=\"post-template-default single single-post postid-3487 single-format-standard module_header_7 sidebar_header_17 footer_header_16\"><div id=\"page-wrap\" class=\"wide\"><div id=\"main-canvas-menu\" class=\"light\"><div class=\"canvas-panel-wrap block\"><div class=\"rubik-offcanvas-top\"><div id=\"canvas-inner-header\"><div class=\"bk-offcanvas__title\"><h2 class=\"site-logo\">\\n<a href=\"https://arquivo.pt/noFrame/replay/20200110181245/https://www.noticiasdacovilha.pt\">\\n<img src=\"https://arquivo.pt/noFrame/replay/20200110181245im_/https://www.noticiasdacovilha.pt/wp-content/uploads/2019/05/LOGOS-Not%C3%ADcias-da-Covilh%C3%A3-13.png\" alt=\"Logo\">\\n</a></h2></div>\\n<a class=\"canvas-menu-close\" href=\"#\" title=\"Close\">&#10005;</a></div><div class=\"rubik-canvas-menu\"><div id=\"canvas-menu\" class=\"menu-main-menu-container\"><ul id=\"menu-main-menu\" class=\"menu\"><li id=\"menu-item-1472\" class=\"menu-item menu-item-type-taxonomy menu-item-object-category current-post-ancestor current-menu-parent current-post-parent menu-item-1472 menu-category-76\"><a href=\"https://arquivo.pt/noFrame/replay/20200110181245/https://www.noticiasdacovilha.pt/category/covilha/\">Covilhã</a></li><li id=\"menu-item-1470\" class=\"menu-item menu-item-type-taxonomy menu-item-object-category menu-item-1470 menu-category-77\"><a href=\"https://arquivo.pt/noFrame/replay/20200110181245/https://www.noticiasdacovilha.pt/category/belmonte/\">Belmonte</a></li><li id=\"menu-item-1480\" class=\"menu-item menu-item-type-taxonomy menu-item-object-category current-post-ancestor current-menu-parent current-post-parent menu-item-1480 menu-category-79\"><a href=\"https://arquivo.pt/noFrame/replay/20200110181245/https://www.noticiasdacovilha.pt/category/regiao/\">Região</a></li><li id=\"menu-item-1474\" class=\"menu-item menu-item-type-taxonomy menu-item-object-category current-post-ancestor current-menu-parent current-post-parent menu-item-1474 menu-category-7\"><a href=\"https://arquivo.pt/noFrame/replay/20200110181245/https://www.noticiasdacovilha.pt/category/desporto/\">Desporto</a></li><li id=\"menu-item-1473\" class=\"menu-item menu-item-type-taxonomy menu-item-object-category menu-item-1473 menu-category-5\"><a href=\"https://arquivo.pt/noFrame/replay/20200110181245/https://www.noticiasdacovilha.pt/category/cultura/\">Cultura</a></li><li id=\"menu-item-1481\" class=\"menu-item menu-item-type-taxonomy menu-item-object-category menu-item-1481 menu-category-6\"><a href=\"https://arquivo.pt/noFrame/replay/20200110181245/https://www.noticiasdacovilha.pt/category/religiao/\">Religião</a></li><li id=\"menu-item-1479\" class=\"menu-item menu-item-type-taxonomy menu-item-object-category menu-item-has-children menu-item-1479 menu-category-80\"><a href=\"https://arquivo.pt/noFrame/replay/20200110181245/https://www.noticiasdacovilha.pt/category/opiniao/\">Opinião</a><ul class=\"sub-menu\"><li id=\"menu-item-2101\" class=\"menu-item menu-item-type-taxonomy menu-item-object-category menu-item-2101 menu-category-81\"><a href=\"https://arquivo.pt/noFrame/replay/20200110181245/https://www.noticiasdacovilha.pt/category/editorial/\">Editorial</a></li></ul></li><li id=\"menu-item-1478\" class=\"menu-item menu-item-type-taxonomy menu-item-object-category menu-item-1478 menu-category-82\"><a href=\"https://arquivo.pt/noFrame/replay/20200110181245/https://www.noticiasdacovilha.pt/category/multimedia/\">Multimédia</a></li></ul></div></div></div><div class=\"rubik-offcanvas-bottom\"><div class=\"header-social\"><ul class=\"clearfix\"><li class=\"social-icon fb\"><a class=\"bk-tipper-bottom\" data-title=\"Facebook\" href=\"https://arquivo.pt/noFrame/replay/20200110181245/https://www.facebook.com/Not%C3%ADcias-da-Covilh%C3%A3-107534245992881/\" target=\"_blank\"><i class=\"fa fa-facebook\"></i></a></li><li class=\"social-icon instagram\"><a class=\"bk-tipper-bottom\" data-title=\"Instagram\" href=\"https://arquivo.pt/noFrame/replay/20200110181245/https://www.instagram.com/noticias_covilha/\" target=\"_blank\"><i class=\"fa fa-instagram\"></i></a></li></ul></div><div class=\"rubik-off-canvas-copyright\"><p>©2019 Notícias da Covilhã. Todos os direitos reservados. Powered by <a href=\"https://arquivo.pt/noFrame/replay/20200110181245/https://www.peakit.pt/\">PeakIT</a></p></div></div></div><div class=\"rubik-canvas-background-img\"></div></div><div id=\"page-inner-wrap\"><div class=\"page-cover canvas-menu-close\"></div><div class=\"bk-page-header header-1\"><div class=\"header-wrap\"><div class=\"bk-ticker-module bk-white-bg\"><div class=\"bkwrapper container\"><div class=\"bk-ticker-inner\"><ul id=\"ticker-5e18b86ce8be5\" class=\"bk-ticker-wrapper\"><li class=\"news-item\"><div class=\"bk-article-wrapper\"><h4 class=\"title\"><a class=\"term-85\" href=\"https://arquivo.pt/noFrame/replay/20200110181245/https://www.noticiasdacovilha.pt/mais-acidentes-mas-menos-mortes-nas-estradas/\">Mais acidentes mas menos mortes nas estradas</a></h4></div></li><li class=\"news-item\"><div class=\"bk-article-wrapper\"><h4 class=\"title\"><a class=\"term-85\" href=\"https://arquivo.pt/noFrame/replay/20200110181245/https://www.noticiasdacovilha.pt/este-ano-houve-menos-azeite/\">Este ano houve menos azeite</a></h4></div></li><li class=\"news-item\"><div class=\"bk-article-wrapper\"><h4 class=\"title\"><a class=\"term-8\" href=\"https://arquivo.pt/noFrame/replay/20200110181245/https://www.noticiasdacovilha.pt/candidato-a-concelhia-laranja-diz-que-nao-o-e-a-camara/\">Candidato à concelhia &#8220;laranja&#8221; diz que não o é à Câmara</a></h4></div></li><li class=\"news-item\"><div class=\"bk-article-wrapper\"><h4 class=\"title\"><a class=\"term-85\" href=\"https://arquivo.pt/noFrame/replay/20200110181245/https://www.noticiasdacovilha.pt/novo-hostel-da-mutualista-no-verao/\">Novo hostel da Mutualista no Verão</a></h4></div></li><li class=\"news-item\"><div class=\"bk-article-wrapper\"><h4 class=\"title\"><a class=\"term-8\" href=\"https://arquivo.pt/noFrame/replay/20200110181245/https://www.noticiasdacovilha.pt/covilhanense-nos-jogos-olimpicos-da-juventude-de-inverno/\">Covilhanense nos Jogos Olímpicos da Juventude de Inverno</a></h4></div></li></ul></div></div></div><div class=\"top-bar\"><div class=\"bkwrapper container\"><div class=\"top-nav clearfix\"><div id=\"top-menu\" class=\"menu-top-menu-container\"><ul id=\"menu-top-menu\" class=\"menu\"><li id=\"menu-item-1502\" class=\"menu-item menu-item-type-post_type menu-item-object-page menu-item-1502\"><a href=\"https://arquivo.pt/noFrame/replay/20200110181245/https://www.noticiasdacovilha.pt/assinatura/\">Assinatura</a></li><li id=\"menu-item-1444\" class=\"menu-item menu-item-type-post_type menu-item-object-page menu-item-1444\"><a href=\"https://arquivo.pt/noFrame/replay/20200110181245/https://www.noticiasdacovilha.pt/contactos/\">Contactos</a></li><li id=\"menu-item-1495\" class=\"menu-item menu-item-type-post_type menu-item-object-page menu-item-1495\"><a href=\"https://arquivo.pt/noFrame/replay/20200110181245/https://www.noticiasdacovilha.pt/publicidade/\">Publicidade</a></li><li id=\"menu-item-1498\" class=\"menu-item menu-item-type-post_type menu-item-object-page menu-item-1498\"><a href=\"https://arquivo.pt/noFrame/replay/20200110181245/https://www.noticiasdacovilha.pt/ficha-tecnica/\">Ficha Técnica</a></li><li id=\"menu-item-1605\" class=\"menu-item menu-item-type-post_type menu-item-object-page menu-item-1605\"><a href=\"https://arquivo.pt/noFrame/replay/20200110181245/https://www.noticiasdacovilha.pt/feed-rss/\">Feed RSS</a></li></ul></div><div class=\"header-social\"><ul class=\"clearfix\"><li class=\"social-icon fb\"><a class=\"bk-tipper-bottom\" data-title=\"Facebook\" href=\"https://arquivo.pt/noFrame/replay/20200110181245/https://www.facebook.com/Not%C3%ADcias-da-Covilh%C3%A3-107534245992881/\" target=\"_blank\"><i class=\"fa fa-facebook\"></i></a></li><li class=\"social-icon instagram\"><a class=\"bk-tipper-bottom\" data-title=\"Instagram\" href=\"https://arquivo.pt/noFrame/replay/20200110181245/https://www.instagram.com/noticias_covilha/\" target=\"_blank\"><i class=\"fa fa-instagram\"></i></a></li></ul></div><div class=\"rubik_data_time rubik-float-right\">\\nSexta-feira, Janeiro 10</div></div></div></div><div class=\"header-logo-wrapper\"><div class=\"header container\"><div class=\"row\"><div class=\"col-md-12\"><div class=\"header-inner \"><div class=\"logo\">\\n<a href=\"https://arquivo.pt/noFrame/replay/20200110181245/https://www.noticiasdacovilha.pt\">\\n<img src=\"https://arquivo.pt/noFrame/replay/20200110181245im_/https://www.noticiasdacovilha.pt/wp-content/uploads/2019/05/LOGOS-Not%C3%ADcias-da-Covilh%C3%A3-13.png\" alt=\"Logo\">\\n</a></div><div class=\"header-banner\">\\n<a class=\"ads-banner-link\" target=\"_blank\" href=\"https://arquivo.pt/noFrame/replay/20200110181245/http://\"><div class=\"a-single a-1\"><a class=\"gofollow\" data-track=\"MSwwLDEsNjA=\" href=\"#\" target=\"_blank\"><img src=\"https://arquivo.pt/noFrame/replay/20200110181245im_/https://i1.wp.com/www.noticiasdacovilha.pt/wp-content/uploads/2019/06/banner_montiel.jpg?ssl=1\"></a></div>\\n</a></div></div></div></div></div></div><nav class=\"main-nav\"><div class=\"main-nav-inner bkwrapper container\"><div class=\"main-nav-container clearfix\"><div class=\"main-nav-wrap\"><div class=\"canvas-menu-wrap show-on-desktop left\">\\n<a class=\"canvas-nav-btn nav-open-btn bold\"><span></span><span></span><span></span></a><div class=\"logo\">\\n<a href=\"https://arquivo.pt/noFrame/replay/20200110181245/https://www.noticiasdacovilha.pt\">\\n<img src=\"https://arquivo.pt/noFrame/replay/20200110181245im_/https://www.noticiasdacovilha.pt/wp-content/uploads/2019/05/LOGOS-Not%C3%ADcias-da-Covilh%C3%A3-13.png\" alt=\"Logo\">\\n</a></div><div class=\"logo\">\\n<a class=\"ads-banner-link\" target=\"_blank\" href=\"https://arquivo.pt/noFrame/replay/20200110181245/http://\"><div class=\"a-single a-1\"><a class=\"gofollow\" data-track=\"MSwwLDEsNjA=\" href=\"#\" target=\"_blank\"><img src=\"https://arquivo.pt/noFrame/replay/20200110181245im_/https://i1.wp.com/www.noticiasdacovilha.pt/wp-content/uploads/2019/06/banner_montiel.jpg?ssl=1\"></a></div>  </a></div></div><div class=\"main-menu\"><ul id=\"menu-main-menu-1\" class=\"menu\"><li class=\"menu-item menu-item-type-taxonomy menu-item-object-category current-post-ancestor current-menu-parent current-post-parent menu-item-1472 menu-category-76\"><a href=\"https://arquivo.pt/noFrame/replay/20200110181245/https://www.noticiasdacovilha.pt/category/covilha/\">Covilhã</a></li><li class=\"menu-item menu-item-type-taxonomy menu-item-object-category menu-item-1470 menu-category-77\"><a href=\"https://arquivo.pt/noFrame/replay/20200110181245/https://www.noticiasdacovilha.pt/category/belmonte/\">Belmonte</a></li><li class=\"menu-item menu-item-type-taxonomy menu-item-object-category current-post-ancestor current-menu-parent current-post-parent menu-item-1480 menu-category-79\"><a href=\"https://arquivo.pt/noFrame/replay/20200110181245/https://www.noticiasdacovilha.pt/category/regiao/\">Região</a></li><li class=\"menu-item menu-item-type-taxonomy menu-item-object-category current-post-ancestor current-menu-parent current-post-parent menu-item-1474 menu-category-7\"><a href=\"https://arquivo.pt/noFrame/replay/20200110181245/https://www.noticiasdacovilha.pt/category/desporto/\">Desporto</a></li><li class=\"menu-item menu-item-type-taxonomy menu-item-object-category menu-item-1473 menu-category-5\"><a href=\"https://arquivo.pt/noFrame/replay/20200110181245/https://www.noticiasdacovilha.pt/category/cultura/\">Cultura</a></li><li class=\"menu-item menu-item-type-taxonomy menu-item-object-category menu-item-1481 menu-category-6\"><a href=\"https://arquivo.pt/noFrame/replay/20200110181245/https://www.noticiasdacovilha.pt/category/religiao/\">Religião</a></li><li class=\"menu-item menu-item-type-taxonomy menu-item-object-category menu-item-has-children menu-item-1479 menu-category-80\"><a href=\"https://arquivo.pt/noFrame/replay/20200110181245/https://www.noticiasdacovilha.pt/category/opiniao/\">Opinião</a><div class=\"bk-dropdown-menu\"><div class=\"bk-sub-menu-wrap\"><ul class=\"bk-sub-menu clearfix\"><li class=\"menu-item menu-item-type-taxonomy menu-item-object-category menu-item-2101 menu-category-81\"><a href=\"https://arquivo.pt/noFrame/replay/20200110181245/https://www.noticiasdacovilha.pt/category/editorial/\">Editorial</a></li></ul></div></div></li><li class=\"menu-item menu-item-type-taxonomy menu-item-object-category menu-item-1478 menu-category-82\"><a href=\"https://arquivo.pt/noFrame/replay/20200110181245/https://www.noticiasdacovilha.pt/category/multimedia/\">Multimédia</a></li></ul></div></div><div class=\"ajax-search-wrap placeholder-black\"><div class=\"ajax-form-search ajax-search-icon \"><i class=\"fa fa-search\"></i><i class=\"fa fa-times\"></i></div><form class=\"ajax-form\" method=\"get\" action=\"https://arquivo.pt/noFrame/replay/20200110181245/https://www.noticiasdacovilha.pt/\"><fieldset><input type=\"text\" class=\"field search-form-text\" name=\"s\" autocomplete=\"off\" value placeholder=\"Pesquisa\"></fieldset></form><div class=\"ajax-search-result\"></div></div></div></div><div class=\"rubik-ajax-search-bg\"></div></nav></div><div class=\"rubik-sticky-header header-wrap\"><nav class=\"main-nav\"><div class=\"main-nav-inner\"><div class=\"main-nav-container clearfix\"><div class=\"main-nav-wrap\"><div class=\"canvas-menu-wrap show-on-desktop\">\\n<a class=\"canvas-nav-btn nav-open-btn bold\"><span></span><span></span><span></span></a></div><div class=\"header-logo-wrapper\"><div class=\"logo\">\\n<a href=\"https://arquivo.pt/noFrame/replay/20200110181245/https://www.noticiasdacovilha.pt\">\\n<img src=\"https://arquivo.pt/noFrame/replay/20200110181245im_/https://www.noticiasdacovilha.pt/wp-content/uploads/2019/05/LOGOS-Not%C3%ADcias-da-Covilh%C3%A3-13.png\" alt=\"Logo\">\\n</a></div></div><div class=\"main-menu\"><ul id=\"menu-main-menu-2\" class=\"menu\"><li class=\"menu-item menu-item-type-taxonomy menu-item-object-category current-post-ancestor current-menu-parent current-post-parent menu-item-1472 menu-category-76\"><a href=\"https://arquivo.pt/noFrame/replay/20200110181245/https://www.noticiasdacovilha.pt/category/covilha/\">Covilhã</a></li><li class=\"menu-item menu-item-type-taxonomy menu-item-object-category menu-item-1470 menu-category-77\"><a href=\"https://arquivo.pt/noFrame/replay/20200110181245/https://www.noticiasdacovilha.pt/category/belmonte/\">Belmonte</a></li><li class=\"menu-item menu-item-type-taxonomy menu-item-object-category current-post-ancestor current-menu-parent current-post-parent menu-item-1480 menu-category-79\"><a href=\"https://arquivo.pt/noFrame/replay/20200110181245/https://www.noticiasdacovilha.pt/category/regiao/\">Região</a></li><li class=\"menu-item menu-item-type-taxonomy menu-item-object-category current-post-ancestor current-menu-parent current-post-parent menu-item-1474 menu-category-7\"><a href=\"https://arquivo.pt/noFrame/replay/20200110181245/https://www.noticiasdacovilha.pt/category/desporto/\">Desporto</a></li><li class=\"menu-item menu-item-type-taxonomy menu-item-object-category menu-item-1473 menu-category-5\"><a href=\"https://arquivo.pt/noFrame/replay/20200110181245/https://www.noticiasdacovilha.pt/category/cultura/\">Cultura</a></li><li class=\"menu-item menu-item-type-taxonomy menu-item-object-category menu-item-1481 menu-category-6\"><a href=\"https://arquivo.pt/noFrame/replay/20200110181245/https://www.noticiasdacovilha.pt/category/religiao/\">Religião</a></li><li class=\"menu-item menu-item-type-taxonomy menu-item-object-category menu-item-has-children menu-item-1479 menu-category-80\"><a href=\"https://arquivo.pt/noFrame/replay/20200110181245/https://www.noticiasdacovilha.pt/category/opiniao/\">Opinião</a><div class=\"bk-dropdown-menu\"><div class=\"bk-sub-menu-wrap\"><ul class=\"bk-sub-menu clearfix\"><li class=\"menu-item menu-item-type-taxonomy menu-item-object-category menu-item-2101 menu-category-81\"><a href=\"https://arquivo.pt/noFrame/replay/20200110181245/https://www.noticiasdacovilha.pt/category/editorial/\">Editorial</a></li></ul></div></div></li><li class=\"menu-item menu-item-type-taxonomy menu-item-object-category menu-item-1478 menu-category-82\"><a href=\"https://arquivo.pt/noFrame/replay/20200110181245/https://www.noticiasdacovilha.pt/category/multimedia/\">Multimédia</a></li></ul></div></div><div class=\"ajax-search-wrap placeholder-black\"><div class=\"ajax-form-search ajax-search-icon \"><i class=\"fa fa-search\"></i><i class=\"fa fa-times\"></i></div><form class=\"ajax-form\" method=\"get\" action=\"https://arquivo.pt/noFrame/replay/20200110181245/https://www.noticiasdacovilha.pt/\"><fieldset><input type=\"text\" class=\"field search-form-text\" name=\"s\" autocomplete=\"off\" value placeholder=\"Pesquisa\"></fieldset></form><div class=\"ajax-search-result\"></div></div></div></div><div class=\"rubik-ajax-search-bg\"></div></nav></div></div><div class=\"bk-breadcrumbs-container\"><div class=\"bk-breadcrumbs-wrap bkwrapper container\"><div class=\"breadcrumbs\"><i class=\"fa fa-home\"></i><span itemscope itemtype=\"http://data-vocabulary.org/Breadcrumb\"><a itemprop=\"url\" href=\"https://arquivo.pt/noFrame/replay/20200110181245/https://www.noticiasdacovilha.pt//\"><span itemprop=\"title\">Home</span></a></span><span class=\"delim\">&rsaquo;</span><span itemscope itemtype=\"http://data-vocabulary.org/Breadcrumb\"><a itemprop=\"url\" href=\"https://arquivo.pt/noFrame/replay/20200110181245/https://www.noticiasdacovilha.pt/category/actualidade/\"><span itemprop=\"title\">Actualidade</span></a></span><span class=\"delim\">&rsaquo;</span><span class=\"current\">Covilhanense nos Jogos Olímpicos da Juventude de Inverno</span></div></div></div><div id=\"back-top\"><i class=\"fa fa-long-arrow-up\"></i></div><div class=\"rubik-page-content-wrapper clearfix \"><div class=\"single-page s-template-7 s-template-9\" itemscope itemtype=\"https://schema.org/Article\"><div class=\"bk-fw-header-wrap\"><div class=\"bkwrapper container\"><div class=\"bk-feature-image-fw-wrap\"><div class=\"post-head clearfix\"><div class=\"s-feat-img\"><img width=\"960\" height=\"540\" alt data-src=\"https://i2.wp.com/www.noticiasdacovilha.pt/wp-content/uploads/2020/01/manuel-ramos.jpg?resize=960%2C540&amp;ssl=1\" data-sizes=\"auto\" class=\"attachment-rubik-1000-540 size-rubik-1000-540 wp-post-image lazyload\" src=\"data:image/gif;base64,R0lGODlhAQABAAAAACH5BAEKAAEALAAAAAABAAEAAAICTAEAOw==\"><noscript><img width=\"960\" height=\"540\" src=\"https://arquivo.pt/noFrame/replay/20200110181245im_/https://i2.wp.com/www.noticiasdacovilha.pt/wp-content/uploads/2020/01/manuel-ramos.jpg?resize=960%2C540&amp;ssl=1\" class=\"attachment-rubik-1000-540 size-rubik-1000-540 wp-post-image\" alt></noscript></div></div></div></div></div><div class=\"article-wrap bkwrapper container \"><div class=\"row bk-in-single-page bksection\"><div class=\"main col-md-8\"><div class=\"s_header_wraper\"><div class=\"s-post-header\"><div class=\"post-category\"><a class=\"term-8\" href=\"https://arquivo.pt/noFrame/replay/20200110181245/https://www.noticiasdacovilha.pt/category/actualidade/\">Actualidade</a><a class=\"term-2\" href=\"https://arquivo.pt/noFrame/replay/20200110181245/https://www.noticiasdacovilha.pt/category/agenda/\">Agenda</a><a class=\"term-9\" href=\"https://arquivo.pt/noFrame/replay/20200110181245/https://www.noticiasdacovilha.pt/category/centrais/\">Centrais</a><a class=\"term-76\" href=\"https://arquivo.pt/noFrame/replay/20200110181245/https://www.noticiasdacovilha.pt/category/covilha/\">Covilhã</a><a class=\"term-7\" href=\"https://arquivo.pt/noFrame/replay/20200110181245/https://www.noticiasdacovilha.pt/category/desporto/\">Desporto</a><a class=\"term-84\" href=\"https://arquivo.pt/noFrame/replay/20200110181245/https://www.noticiasdacovilha.pt/category/destaque/\">Destaque</a><a class=\"term-79\" href=\"https://arquivo.pt/noFrame/replay/20200110181245/https://www.noticiasdacovilha.pt/category/regiao/\">Região</a></div><h1 itemprop=\"headline\">Covilhanense nos Jogos Olímpicos da Juventude de Inverno</h1><div class=\"bk-post-subtitle\">Manuel Ramos, de 17 anos, compete na próxima segunda-feira em slalom gigante e no dia seguinte em slalom</div><div class=\"meta\"><div class=\"post-author\"><a href=\"https://arquivo.pt/noFrame/replay/20200110181245/https://www.noticiasdacovilha.pt/author/anarrodriguesgmail-com/\">Ana Ribeiro Rodrigues</a></div><div class=\"post-date\">8 de Janeiro, 2020</div><div class=\"comments\"><i class=\"fa fa-comment-o\"></i>0</div><div class=\"views\"><i class=\"fa fa-eye\"></i>52</div></div></div></div><div class=\"single-share-box-no-cnt top-pos\"><div class=\"share-box-wrap 4\"><div class=\"share-box\"><ul class=\"social-share clearfix\"><li class=\"bk_facebook_share \"><a onclick=\"var _____WB$wombat$assign$function_____ = function(name) {return (self._wb_wombat && self._wb_wombat.local_init && self._wb_wombat.local_init(name)) || self[name]; };if (!self.__WB_pmw) { self.__WB_pmw = function(obj) { this.__WB_source = obj; return this; } }{let window = _____WB$wombat$assign$function_____(&quot;window&quot;);let self = _____WB$wombat$assign$function_____(&quot;self&quot;);let document = _____WB$wombat$assign$function_____(&quot;document&quot;);let location = _____WB$wombat$assign$function_____(&quot;location&quot;);let top = _____WB$wombat$assign$function_____(&quot;top&quot;);let parent = _____WB$wombat$assign$function_____(&quot;parent&quot;);let frames = _____WB$wombat$assign$function_____(&quot;frames&quot;);let opener = _____WB$wombat$assign$function_____(&quot;opener&quot;);let arguments;{window.open(\\'http://www.facebook.com/sharer.php?u=https%3A%2F%2Fwww.noticiasdacovilha.pt%2Fcovilhanense-nos-jogos-olimpicos-da-juventude-de-inverno%2F\\',\\'Facebook\\',\\'width=600,height=300,left=\\'+(screen.availWidth/2-300)+\\',top=\\'+(screen.availHeight/2-150)+\\'\\'); return false;}}\" href=\"https://arquivo.pt/noFrame/replay/20200110181245/http://www.facebook.com/sharer.php?u=https%3A%2F%2Fwww.noticiasdacovilha.pt%2Fcovilhanense-nos-jogos-olimpicos-da-juventude-de-inverno%2F\"><div class=\"share-item__icon\"><i class=\"fa fa-facebook \" title=\"Facebook\"></i><span>Partilhe no Facebook</span></div></a></li><li class=\"bk_twitter_share \"><a onclick=\"var _____WB$wombat$assign$function_____ = function(name) {return (self._wb_wombat && self._wb_wombat.local_init && self._wb_wombat.local_init(name)) || self[name]; };if (!self.__WB_pmw) { self.__WB_pmw = function(obj) { this.__WB_source = obj; return this; } }{let window = _____WB$wombat$assign$function_____(&quot;window&quot;);let self = _____WB$wombat$assign$function_____(&quot;self&quot;);let document = _____WB$wombat$assign$function_____(&quot;document&quot;);let location = _____WB$wombat$assign$function_____(&quot;location&quot;);let top = _____WB$wombat$assign$function_____(&quot;top&quot;);let parent = _____WB$wombat$assign$function_____(&quot;parent&quot;);let frames = _____WB$wombat$assign$function_____(&quot;frames&quot;);let opener = _____WB$wombat$assign$function_____(&quot;opener&quot;);let arguments;{window.open(\\'http://twitter.com/share?url=https%3A%2F%2Fwww.noticiasdacovilha.pt%2Fcovilhanense-nos-jogos-olimpicos-da-juventude-de-inverno%2F&amp;text=Covilhanense%20nos%20Jogos%20Olímpicos%20da%20Juventude%20de%20Inverno\\',\\'Twitter share\\',\\'width=600,height=300,left=\\'+(screen.availWidth/2-300)+\\',top=\\'+(screen.availHeight/2-150)+\\'\\'); return false;}}\" href=\"https://arquivo.pt/noFrame/replay/20200110181245/http://twitter.com/share%3Furl%3Dhttps%253A%252F%252Fwww.noticiasdacovilha.pt%252Fcovilhanense-nos-jogos-olimpicos-da-juventude-de-inverno%252F%26amp%3Btext%3DCovilhanense%2520nos%2520Jogos%2520Ol%C3%ADmpicos%2520da%2520Juventude%2520de%2520Inverno\"><div class=\"share-item__icon\"><i class=\"fa fa-twitter \" title=\"Twitter\"></i><span>Partilhe no Twitter</span></div></a></li><li class=\"bk_gplus_share \"><a onclick=\"var _____WB$wombat$assign$function_____ = function(name) {return (self._wb_wombat && self._wb_wombat.local_init && self._wb_wombat.local_init(name)) || self[name]; };if (!self.__WB_pmw) { self.__WB_pmw = function(obj) { this.__WB_source = obj; return this; } }{let window = _____WB$wombat$assign$function_____(&quot;window&quot;);let self = _____WB$wombat$assign$function_____(&quot;self&quot;);let document = _____WB$wombat$assign$function_____(&quot;document&quot;);let location = _____WB$wombat$assign$function_____(&quot;location&quot;);let top = _____WB$wombat$assign$function_____(&quot;top&quot;);let parent = _____WB$wombat$assign$function_____(&quot;parent&quot;);let frames = _____WB$wombat$assign$function_____(&quot;frames&quot;);let opener = _____WB$wombat$assign$function_____(&quot;opener&quot;);let arguments;{window.open(\\'https://plus.google.com/share?url=https%3A%2F%2Fwww.noticiasdacovilha.pt%2Fcovilhanense-nos-jogos-olimpicos-da-juventude-de-inverno%2F\\',\\'Google plus\\',\\'width=585,height=666,left=\\'+(screen.availWidth/2-292)+\\',top=\\'+(screen.availHeight/2-333)+\\'\\'); return false;}}\" href=\"https://arquivo.pt/noFrame/replay/20200110181245/https://plus.google.com/share?url=https%3A%2F%2Fwww.noticiasdacovilha.pt%2Fcovilhanense-nos-jogos-olimpicos-da-juventude-de-inverno%2F\"><div class=\"share-item__icon\"><i class=\"fa fa-google-plus \" title=\"Google Plus\"></i></div></a></li><li class=\"bk_pinterest_share \"><a href=\"javascript:var _____WB$wombat$assign$function_____ = function(name) {return (self._wb_wombat && self._wb_wombat.local_init && self._wb_wombat.local_init(name)) || self[name]; };if (!self.__WB_pmw) { self.__WB_pmw = function(obj) { this.__WB_source = obj; return this; } }{let window = _____WB$wombat$assign$function_____(&quot;window&quot;);let self = _____WB$wombat$assign$function_____(&quot;self&quot;);let document = _____WB$wombat$assign$function_____(&quot;document&quot;);let location = _____WB$wombat$assign$function_____(&quot;location&quot;);let top = _____WB$wombat$assign$function_____(&quot;top&quot;);let parent = _____WB$wombat$assign$function_____(&quot;parent&quot;);let frames = _____WB$wombat$assign$function_____(&quot;frames&quot;);let opener = _____WB$wombat$assign$function_____(&quot;opener&quot;);let arguments;{void((function()%7Bvar%20e=document.createElement(&apos;script&apos;);e.setAttribute(&apos;type&apos;,&apos;text/javascript&apos;);e.setAttribute(&apos;charset&apos;,&apos;UTF-8&apos;);e.setAttribute(&apos;src&apos;,&apos;http://assets.pinterest.com/js/pinmarklet.js?r=&apos;+Math.random()*99999999);document.body.appendChild(e)%7D)());}}\"><div class=\"share-item__icon\"><i class=\"fa fa-pinterest \" title=\"Pinterest\"></i></div></a></li><li class=\"bk_stumbleupon_share hide item-hide\"><a onclick=\"var _____WB$wombat$assign$function_____ = function(name) {return (self._wb_wombat && self._wb_wombat.local_init && self._wb_wombat.local_init(name)) || self[name]; };if (!self.__WB_pmw) { self.__WB_pmw = function(obj) { this.__WB_source = obj; return this; } }{let window = _____WB$wombat$assign$function_____(&quot;window&quot;);let self = _____WB$wombat$assign$function_____(&quot;self&quot;);let document = _____WB$wombat$assign$function_____(&quot;document&quot;);let location = _____WB$wombat$assign$function_____(&quot;location&quot;);let top = _____WB$wombat$assign$function_____(&quot;top&quot;);let parent = _____WB$wombat$assign$function_____(&quot;parent&quot;);let frames = _____WB$wombat$assign$function_____(&quot;frames&quot;);let opener = _____WB$wombat$assign$function_____(&quot;opener&quot;);let arguments;{window.open(\\'http://www.stumbleupon.com/submit?url=https%3A%2F%2Fwww.noticiasdacovilha.pt%2Fcovilhanense-nos-jogos-olimpicos-da-juventude-de-inverno%2F\\',\\'Stumbleupon\\',\\'width=600,height=300,left=\\'+(screen.availWidth/2-300)+\\',top=\\'+(screen.availHeight/2-150)+\\'\\'); return false;}}\" href=\"https://arquivo.pt/noFrame/replay/20200110181245/http://www.stumbleupon.com/submit?url=https%3A%2F%2Fwww.noticiasdacovilha.pt%2Fcovilhanense-nos-jogos-olimpicos-da-juventude-de-inverno%2F\"><div class=\"share-item__icon\"><i class=\"fa fa-stumbleupon \" title=\"Stumbleupon\"></i></div></a></li><li class=\"bk_linkedin_share hide item-hide\"><a onclick=\"var _____WB$wombat$assign$function_____ = function(name) {return (self._wb_wombat && self._wb_wombat.local_init && self._wb_wombat.local_init(name)) || self[name]; };if (!self.__WB_pmw) { self.__WB_pmw = function(obj) { this.__WB_source = obj; return this; } }{let window = _____WB$wombat$assign$function_____(&quot;window&quot;);let self = _____WB$wombat$assign$function_____(&quot;self&quot;);let document = _____WB$wombat$assign$function_____(&quot;document&quot;);let location = _____WB$wombat$assign$function_____(&quot;location&quot;);let top = _____WB$wombat$assign$function_____(&quot;top&quot;);let parent = _____WB$wombat$assign$function_____(&quot;parent&quot;);let frames = _____WB$wombat$assign$function_____(&quot;frames&quot;);let opener = _____WB$wombat$assign$function_____(&quot;opener&quot;);let arguments;{window.open(\\'http://www.linkedin.com/shareArticle?mini=true&amp;url=https%3A%2F%2Fwww.noticiasdacovilha.pt%2Fcovilhanense-nos-jogos-olimpicos-da-juventude-de-inverno%2F\\',\\'Linkedin\\',\\'width=863,height=500,left=\\'+(screen.availWidth/2-431)+\\',top=\\'+(screen.availHeight/2-250)+\\'\\'); return false;}}\" href=\"https://arquivo.pt/noFrame/replay/20200110181245/http://www.linkedin.com/shareArticle?mini=true&amp;url=https%3A%2F%2Fwww.noticiasdacovilha.pt%2Fcovilhanense-nos-jogos-olimpicos-da-juventude-de-inverno%2F\"><div class=\"share-item__icon\"><i class=\"fa fa-linkedin \" title=\"Linkedin\"></i></div></a></li><li class=\"bk_share_expand_btn\"><i class=\"fa fa-plus\" aria-hidden=\"true\"></i></li><li class=\"bk_share_close_btn hide\"><i class=\"fa fa-minus\" aria-hidden=\"true\"></i></li></ul></div></div></div><div class=\"article-content clearfix\" itemprop=\"articleBody\"><p style=\"text-align: justify;\">Começou a praticar esqui aos três anos, na Serra da Estrela. Na próxima semana o covilhanense Manuel Ramos, de 17 anos, estreia-se nos Jogos Olímpicos de Inverno da Juventude Lausanne 2020, dia 13 no slalom gigante e a 14 na prova de slalom.</p><p style=\"text-align: justify;\">O aluno da escola Quinta das Palmeiras é um dos dois esquiadores presentes na competição, que decorre na Suíça entre os dias 09 e 22 de Janeiro. Na bagagem leva a ambição de ficar &#8220;a meio da tabela&#8221;.</p><p style=\"text-align: justify;\">A terceira edição da competição, destinada a atletas entre os 15 e os 18 anos, conta também com a presença da lusodescendente Vanina de Oliveira Guerillot, nas mesmas disciplinas.</p><p style=\"text-align: justify;\">O atleta da Covilhã, que participa na modalidade de esqui alpino, sente-se &#8220;mais à vontade&#8221; no slalom gigante e é nessa disciplina que deposita maiores esperanças, embora sublinhe que, por se sentir mais confortável na prova onde atinge maior velocidade, o risco de cair também é maior, como aconteceu no ano passado no Festival Olímpico de Inverno da Juventude Europeia e nos mundiais de juniores.</p><p style=\"text-align: justify;\">&#8220;Vou tentar arriscar com conta, peso e medida, para fazer um bom resultado&#8221;, antecipa Manuel Ramos.</p><p style=\"text-align: justify;\">O esquiador prefere não apontar a lugares, por entender existirem factores externos que condicionam a prestação, como o estado da pista, mas ambiciona conseguir ficar &#8220;a meio da tabela&#8221;, o que para si &#8220;seria um bom resultado&#8221;.</p><p style=\"text-align: justify;\">&#8220;Aquilo com que me comprometo é a fazer o meu melhor. Tenho a referência de alguns atletas com quem competi o ano passado e quero que a diferença para eles seja a menor possível, de maneira a melhorar a minha posição no ‘ranking’ internacional a nível de pontos&#8221;, sublinha Manuel Ramos.</p><p style=\"text-align: justify;\">(Notícia completa na edição papel)</p></div><div class=\"s-tags\"><span><i class=\"fa fa-tags\"></i>Tags</span><a href=\"https://arquivo.pt/noFrame/replay/20200110181245/https://www.noticiasdacovilha.pt/tag/associativismo/\" title=\"Ver todos com a tag associativismo\">associativismo</a><a href=\"https://arquivo.pt/noFrame/replay/20200110181245/https://www.noticiasdacovilha.pt/tag/covilha/\" title=\"Ver todos com a tag Covilhã\">Covilhã</a><a href=\"https://arquivo.pt/noFrame/replay/20200110181245/https://www.noticiasdacovilha.pt/tag/desporto/\" title=\"Ver todos com a tag Desporto\">Desporto</a><a href=\"https://arquivo.pt/noFrame/replay/20200110181245/https://www.noticiasdacovilha.pt/tag/esqui/\" title=\"Ver todos com a tag ESQUI\">ESQUI</a><a href=\"https://arquivo.pt/noFrame/replay/20200110181245/https://www.noticiasdacovilha.pt/tag/federacao-de-desportos-de-inverno/\" title=\"Ver todos com a tag Federação de Desportos de Inverno\">Federação de Desportos de Inverno</a><a href=\"https://arquivo.pt/noFrame/replay/20200110181245/https://www.noticiasdacovilha.pt/tag/juventude/\" title=\"Ver todos com a tag Juventude\">Juventude</a><a href=\"https://arquivo.pt/noFrame/replay/20200110181245/https://www.noticiasdacovilha.pt/tag/manuel-ramos/\" title=\"Ver todos com a tag Manuel Ramos\">Manuel Ramos</a><a href=\"https://arquivo.pt/noFrame/replay/20200110181245/https://www.noticiasdacovilha.pt/tag/montanha/\" title=\"Ver todos com a tag montanha\">montanha</a><a href=\"https://arquivo.pt/noFrame/replay/20200110181245/https://www.noticiasdacovilha.pt/tag/serra-da-estrela/\" title=\"Ver todos com a tag Serra da Estrela\">Serra da Estrela</a></div><div class=\"single-share-box-no-cnt bottom-pos\"><div class=\"share-box-wrap 4\"><div class=\"share-box\"><ul class=\"social-share clearfix\"><li class=\"bk_facebook_share \"><a onclick=\"var _____WB$wombat$assign$function_____ = function(name) {return (self._wb_wombat && self._wb_wombat.local_init && self._wb_wombat.local_init(name)) || self[name]; };if (!self.__WB_pmw) { self.__WB_pmw = function(obj) { this.__WB_source = obj; return this; } }{let window = _____WB$wombat$assign$function_____(&quot;window&quot;);let self = _____WB$wombat$assign$function_____(&quot;self&quot;);let document = _____WB$wombat$assign$function_____(&quot;document&quot;);let location = _____WB$wombat$assign$function_____(&quot;location&quot;);let top = _____WB$wombat$assign$function_____(&quot;top&quot;);let parent = _____WB$wombat$assign$function_____(&quot;parent&quot;);let frames = _____WB$wombat$assign$function_____(&quot;frames&quot;);let opener = _____WB$wombat$assign$function_____(&quot;opener&quot;);let arguments;{window.open(\\'http://www.facebook.com/sharer.php?u=https%3A%2F%2Fwww.noticiasdacovilha.pt%2Fcovilhanense-nos-jogos-olimpicos-da-juventude-de-inverno%2F\\',\\'Facebook\\',\\'width=600,height=300,left=\\'+(screen.availWidth/2-300)+\\',top=\\'+(screen.availHeight/2-150)+\\'\\'); return false;}}\" href=\"https://arquivo.pt/noFrame/replay/20200110181245/http://www.facebook.com/sharer.php?u=https%3A%2F%2Fwww.noticiasdacovilha.pt%2Fcovilhanense-nos-jogos-olimpicos-da-juventude-de-inverno%2F\"><div class=\"share-item__icon\"><i class=\"fa fa-facebook \" title=\"Facebook\"></i><span>Partilhe no Facebook</span></div></a></li><li class=\"bk_twitter_share \"><a onclick=\"var _____WB$wombat$assign$function_____ = function(name) {return (self._wb_wombat && self._wb_wombat.local_init && self._wb_wombat.local_init(name)) || self[name]; };if (!self.__WB_pmw) { self.__WB_pmw = function(obj) { this.__WB_source = obj; return this; } }{let window = _____WB$wombat$assign$function_____(&quot;window&quot;);let self = _____WB$wombat$assign$function_____(&quot;self&quot;);let document = _____WB$wombat$assign$function_____(&quot;document&quot;);let location = _____WB$wombat$assign$function_____(&quot;location&quot;);let top = _____WB$wombat$assign$function_____(&quot;top&quot;);let parent = _____WB$wombat$assign$function_____(&quot;parent&quot;);let frames = _____WB$wombat$assign$function_____(&quot;frames&quot;);let opener = _____WB$wombat$assign$function_____(&quot;opener&quot;);let arguments;{window.open(\\'http://twitter.com/share?url=https%3A%2F%2Fwww.noticiasdacovilha.pt%2Fcovilhanense-nos-jogos-olimpicos-da-juventude-de-inverno%2F&amp;text=Covilhanense%20nos%20Jogos%20Olímpicos%20da%20Juventude%20de%20Inverno\\',\\'Twitter share\\',\\'width=600,height=300,left=\\'+(screen.availWidth/2-300)+\\',top=\\'+(screen.availHeight/2-150)+\\'\\'); return false;}}\" href=\"https://arquivo.pt/noFrame/replay/20200110181245/http://twitter.com/share%3Furl%3Dhttps%253A%252F%252Fwww.noticiasdacovilha.pt%252Fcovilhanense-nos-jogos-olimpicos-da-juventude-de-inverno%252F%26amp%3Btext%3DCovilhanense%2520nos%2520Jogos%2520Ol%C3%ADmpicos%2520da%2520Juventude%2520de%2520Inverno\"><div class=\"share-item__icon\"><i class=\"fa fa-twitter \" title=\"Twitter\"></i><span>Partilhe no Twitter</span></div></a></li><li class=\"bk_gplus_share \"><a onclick=\"var _____WB$wombat$assign$function_____ = function(name) {return (self._wb_wombat && self._wb_wombat.local_init && self._wb_wombat.local_init(name)) || self[name]; };if (!self.__WB_pmw) { self.__WB_pmw = function(obj) { this.__WB_source = obj; return this; } }{let window = _____WB$wombat$assign$function_____(&quot;window&quot;);let self = _____WB$wombat$assign$function_____(&quot;self&quot;);let document = _____WB$wombat$assign$function_____(&quot;document&quot;);let location = _____WB$wombat$assign$function_____(&quot;location&quot;);let top = _____WB$wombat$assign$function_____(&quot;top&quot;);let parent = _____WB$wombat$assign$function_____(&quot;parent&quot;);let frames = _____WB$wombat$assign$function_____(&quot;frames&quot;);let opener = _____WB$wombat$assign$function_____(&quot;opener&quot;);let arguments;{window.open(\\'https://plus.google.com/share?url=https%3A%2F%2Fwww.noticiasdacovilha.pt%2Fcovilhanense-nos-jogos-olimpicos-da-juventude-de-inverno%2F\\',\\'Google plus\\',\\'width=585,height=666,left=\\'+(screen.availWidth/2-292)+\\',top=\\'+(screen.availHeight/2-333)+\\'\\'); return false;}}\" href=\"https://arquivo.pt/noFrame/replay/20200110181245/https://plus.google.com/share?url=https%3A%2F%2Fwww.noticiasdacovilha.pt%2Fcovilhanense-nos-jogos-olimpicos-da-juventude-de-inverno%2F\"><div class=\"share-item__icon\"><i class=\"fa fa-google-plus \" title=\"Google Plus\"></i></div></a></li><li class=\"bk_pinterest_share \"><a href=\"javascript:var _____WB$wombat$assign$function_____ = function(name) {return (self._wb_wombat && self._wb_wombat.local_init && self._wb_wombat.local_init(name)) || self[name]; };if (!self.__WB_pmw) { self.__WB_pmw = function(obj) { this.__WB_source = obj; return this; } }{let window = _____WB$wombat$assign$function_____(&quot;window&quot;);let self = _____WB$wombat$assign$function_____(&quot;self&quot;);let document = _____WB$wombat$assign$function_____(&quot;document&quot;);let location = _____WB$wombat$assign$function_____(&quot;location&quot;);let top = _____WB$wombat$assign$function_____(&quot;top&quot;);let parent = _____WB$wombat$assign$function_____(&quot;parent&quot;);let frames = _____WB$wombat$assign$function_____(&quot;frames&quot;);let opener = _____WB$wombat$assign$function_____(&quot;opener&quot;);let arguments;{void((function()%7Bvar%20e=document.createElement(&apos;script&apos;);e.setAttribute(&apos;type&apos;,&apos;text/javascript&apos;);e.setAttribute(&apos;charset&apos;,&apos;UTF-8&apos;);e.setAttribute(&apos;src&apos;,&apos;http://assets.pinterest.com/js/pinmarklet.js?r=&apos;+Math.random()*99999999);document.body.appendChild(e)%7D)());}}\"><div class=\"share-item__icon\"><i class=\"fa fa-pinterest \" title=\"Pinterest\"></i></div></a></li><li class=\"bk_stumbleupon_share hide item-hide\"><a onclick=\"var _____WB$wombat$assign$function_____ = function(name) {return (self._wb_wombat && self._wb_wombat.local_init && self._wb_wombat.local_init(name)) || self[name]; };if (!self.__WB_pmw) { self.__WB_pmw = function(obj) { this.__WB_source = obj; return this; } }{let window = _____WB$wombat$assign$function_____(&quot;window&quot;);let self = _____WB$wombat$assign$function_____(&quot;self&quot;);let document = _____WB$wombat$assign$function_____(&quot;document&quot;);let location = _____WB$wombat$assign$function_____(&quot;location&quot;);let top = _____WB$wombat$assign$function_____(&quot;top&quot;);let parent = _____WB$wombat$assign$function_____(&quot;parent&quot;);let frames = _____WB$wombat$assign$function_____(&quot;frames&quot;);let opener = _____WB$wombat$assign$function_____(&quot;opener&quot;);let arguments;{window.open(\\'http://www.stumbleupon.com/submit?url=https%3A%2F%2Fwww.noticiasdacovilha.pt%2Fcovilhanense-nos-jogos-olimpicos-da-juventude-de-inverno%2F\\',\\'Stumbleupon\\',\\'width=600,height=300,left=\\'+(screen.availWidth/2-300)+\\',top=\\'+(screen.availHeight/2-150)+\\'\\'); return false;}}\" href=\"https://arquivo.pt/noFrame/replay/20200110181245/http://www.stumbleupon.com/submit?url=https%3A%2F%2Fwww.noticiasdacovilha.pt%2Fcovilhanense-nos-jogos-olimpicos-da-juventude-de-inverno%2F\"><div class=\"share-item__icon\"><i class=\"fa fa-stumbleupon \" title=\"Stumbleupon\"></i></div></a></li><li class=\"bk_linkedin_share hide item-hide\"><a onclick=\"var _____WB$wombat$assign$function_____ = function(name) {return (self._wb_wombat && self._wb_wombat.local_init && self._wb_wombat.local_init(name)) || self[name]; };if (!self.__WB_pmw) { self.__WB_pmw = function(obj) { this.__WB_source = obj; return this; } }{let window = _____WB$wombat$assign$function_____(&quot;window&quot;);let self = _____WB$wombat$assign$function_____(&quot;self&quot;);let document = _____WB$wombat$assign$function_____(&quot;document&quot;);let location = _____WB$wombat$assign$function_____(&quot;location&quot;);let top = _____WB$wombat$assign$function_____(&quot;top&quot;);let parent = _____WB$wombat$assign$function_____(&quot;parent&quot;);let frames = _____WB$wombat$assign$function_____(&quot;frames&quot;);let opener = _____WB$wombat$assign$function_____(&quot;opener&quot;);let arguments;{window.open(\\'http://www.linkedin.com/shareArticle?mini=true&amp;url=https%3A%2F%2Fwww.noticiasdacovilha.pt%2Fcovilhanense-nos-jogos-olimpicos-da-juventude-de-inverno%2F\\',\\'Linkedin\\',\\'width=863,height=500,left=\\'+(screen.availWidth/2-431)+\\',top=\\'+(screen.availHeight/2-250)+\\'\\'); return false;}}\" href=\"https://arquivo.pt/noFrame/replay/20200110181245/http://www.linkedin.com/shareArticle?mini=true&amp;url=https%3A%2F%2Fwww.noticiasdacovilha.pt%2Fcovilhanense-nos-jogos-olimpicos-da-juventude-de-inverno%2F\"><div class=\"share-item__icon\"><i class=\"fa fa-linkedin \" title=\"Linkedin\"></i></div></a></li><li class=\"bk_share_expand_btn\"><i class=\"fa fa-plus\" aria-hidden=\"true\"></i></li><li class=\"bk_share_close_btn hide\"><i class=\"fa fa-minus\" aria-hidden=\"true\"></i></li></ul></div></div></div><div class=\"s-static-post-nav clearfix\"><div class=\"nav-btn hide-nav nav-prev\"><div class=\"nav-c-wrap\"><div class=\"nav-title\"><span class=\"nav-icon\"><i class=\"fa fa-long-arrow-left\"></i></span><span>Notícia Anterior</span><h3><a href=\"https://arquivo.pt/noFrame/replay/20200110181245/https://www.noticiasdacovilha.pt/paixao-pelo-vinil/\">Paixão pelo vinil</a></h3></div></div></div><div class=\"nav-btn hide-nav nav-next\"><div class=\"nav-c-wrap\"><div class=\"nav-title\"><span>Próxima Notícia</span><span class=\"nav-icon\"><i class=\"fa fa-long-arrow-right\"></i></span><h3><a href=\"https://arquivo.pt/noFrame/replay/20200110181245/https://www.noticiasdacovilha.pt/novo-hostel-da-mutualista-no-verao/\">Novo hostel da Mutualista no Verão</a></h3></div></div></div></div><div class=\"bk-author-box clearfix\"><div class=\"bk-author-avatar\"><a href=\"https://arquivo.pt/noFrame/replay/20200110181245/https://www.noticiasdacovilha.pt/author/anarrodriguesgmail-com/\"><img width=\"75\" height=\"75\" alt=\"Avatar\" data-src=\"https://secure.gravatar.com/avatar/e6b6310418d6461185575c1036992af5?s=75&#038;d=mm&#038;r=g\" data-sizes=\"auto\" class=\"avatar avatar-75 wp-user-avatar wp-user-avatar-75 photo avatar-default lazyload\" src=\"data:image/gif;base64,R0lGODlhAQABAAAAACH5BAEKAAEALAAAAAABAAEAAAICTAEAOw==\"><noscript><img src=\"https://arquivo.pt/noFrame/replay/20200110181245im_/https://secure.gravatar.com/avatar/e6b6310418d6461185575c1036992af5?s=75&#038;d=mm&#038;r=g\" width=\"75\" height=\"75\" alt=\"Avatar\" class=\"avatar avatar-75 wp-user-avatar wp-user-avatar-75 photo avatar-default\"></noscript></a></div><div class=\"author-info\" itemprop=\"author\"><div class=\"author-title\"><a href=\"https://arquivo.pt/noFrame/replay/20200110181245/https://www.noticiasdacovilha.pt/author/anarrodriguesgmail-com/\">Ana Ribeiro Rodrigues</a></div></div></div><meta itemprop=\"author\" content=\"4\"><span style=\"display: none;\" itemprop=\"author\" itemscope itemtype=\"https://schema.org/Person\"><meta itemprop=\"name\" content=\"Ana Ribeiro Rodrigues\"></span><meta itemprop=\"headline \" content=\"Covilhanense nos Jogos Olímpicos da Juventude de Inverno\"><meta itemprop=\"datePublished\" content=\"2020-01-08T11:43:07+00:00\"><meta itemprop=\"dateModified\" content=\"2020-01-08T10:43:40+00:00\"><meta itemscope itemprop=\"mainEntityOfPage\" content itemtype=\"https://schema.org/WebPage\" itemid=\"https://www.noticiasdacovilha.pt/covilhanense-nos-jogos-olimpicos-da-juventude-de-inverno/\"><span style=\"display: none;\" itemprop=\"publisher\" itemscope itemtype=\"https://schema.org/Organization\"><span style=\"display: none;\" itemprop=\"logo\" itemscope itemtype=\"https://schema.org/ImageObject\"><meta itemprop=\"url\" content=\"https://arquivo.pt/noFrame/replay/20200110181245/https://www.noticiasdacovilha.pt/wp-content/uploads/2019/05/LOGOS-Not%C3%ADcias-da-Covilh%C3%A3-13.png\"></span><meta itemprop=\"name\" content=\"Jornal Notícias da Covilhã\"></span><span style=\"display: none;\" itemprop=\"image\" itemscope itemtype=\"https://schema.org/ImageObject\"><meta itemprop=\"url\" content=\"https://arquivo.pt/noFrame/replay/20200110181245/https://i2.wp.com/www.noticiasdacovilha.pt/wp-content/uploads/2020/01/manuel-ramos.jpg?fit=960%2C720&ssl=1\"><meta itemprop=\"width\" content=\"960\"><meta itemprop=\"height\" content=\"720\"></span><meta itemprop=\"interactionCount\" content=\"UserComments:0\"><div id=\"s-related-articles\" class=\"related-box\"><div class=\"related-box-tabs\">\\n<a id=\"s-related-article-tab\" class=\"related-tab 3487 active\" href=\"#\">Notícias Relacionadas</a>\\n<a id=\"s-more-from-author-tab\" class=\"related-tab 3487 \" href=\"#\">Mais do autor</a>\\n<a id=\"s-more-from-category-tab\" class=\"related-tab 3487 \" href=\"#\">Mais da categoria</a></div><div class=\"bk-related-posts\"><ul class=\"related-posts row clearfix\"><li class=\"item row-type content_out col-md-4 col-sm-4\"><div class=\"thumb hide-thumb\"><a href=\"https://arquivo.pt/noFrame/replay/20200110181245/https://www.noticiasdacovilha.pt/mais-acidentes-mas-menos-mortes-nas-estradas/\"><img width=\"360\" height=\"240\" alt data-srcset=\"https://i1.wp.com/www.noticiasdacovilha.pt/wp-content/uploads/2020/01/ACIDENTES.jpg?resize=360%2C240&amp;ssl=1 360w, https://i1.wp.com/www.noticiasdacovilha.pt/wp-content/uploads/2020/01/ACIDENTES.jpg?resize=210%2C140&amp;ssl=1 210w, https://i1.wp.com/www.noticiasdacovilha.pt/wp-content/uploads/2020/01/ACIDENTES.jpg?zoom=2&amp;resize=360%2C240&amp;ssl=1 720w, https://i1.wp.com/www.noticiasdacovilha.pt/wp-content/uploads/2020/01/ACIDENTES.jpg?zoom=3&amp;resize=360%2C240&amp;ssl=1 1080w\" sizes=\"(max-width: 360px) 100vw, 360px\" data-src=\"https://i1.wp.com/www.noticiasdacovilha.pt/wp-content/uploads/2020/01/ACIDENTES.jpg?resize=360%2C240&amp;ssl=1\" data-sizes=\"auto\" class=\"attachment-rubik-360-240 size-rubik-360-240 wp-post-image lazyload\" src=\"data:image/gif;base64,R0lGODlhAQABAAAAACH5BAEKAAEALAAAAAABAAEAAAICTAEAOw==\"><noscript><img width=\"360\" height=\"240\" src=\"https://arquivo.pt/noFrame/replay/20200110181245im_/https://i1.wp.com/www.noticiasdacovilha.pt/wp-content/uploads/2020/01/ACIDENTES.jpg?resize=360%2C240&amp;ssl=1\" class=\"attachment-rubik-360-240 size-rubik-360-240 wp-post-image\" alt srcset=\"https://arquivo.pt/noFrame/replay/20200110181245/https://i1.wp.com/www.noticiasdacovilha.pt/wp-content/uploads/2020/01/ACIDENTES.jpg?resize=360%2C240&amp;ssl=1 360w, https://arquivo.pt/noFrame/replay/20200110181245/https://i1.wp.com/www.noticiasdacovilha.pt/wp-content/uploads/2020/01/ACIDENTES.jpg?resize=210%2C140&amp;ssl=1 210w, https://arquivo.pt/noFrame/replay/20200110181245/https://i1.wp.com/www.noticiasdacovilha.pt/wp-content/uploads/2020/01/ACIDENTES.jpg?zoom=2&amp;resize=360%2C240&amp;ssl=1 720w, https://arquivo.pt/noFrame/replay/20200110181245/https://i1.wp.com/www.noticiasdacovilha.pt/wp-content/uploads/2020/01/ACIDENTES.jpg?zoom=3&amp;resize=360%2C240&amp;ssl=1 1080w\" sizes=\"(max-width: 360px) 100vw, 360px\"></noscript></a></div><div class=\"post-c-wrap\"><h4><a href=\"https://arquivo.pt/noFrame/replay/20200110181245/https://www.noticiasdacovilha.pt/mais-acidentes-mas-menos-mortes-nas-estradas/\">Mais acidentes mas menos mortes nas estradas</a></h4><div class=\"meta\"><div class=\"post-date\">10 de Janeiro, 2020</div></div></div></li><li class=\"item row-type content_out col-md-4 col-sm-4\"><div class=\"thumb hide-thumb\"><a href=\"https://arquivo.pt/noFrame/replay/20200110181245/https://www.noticiasdacovilha.pt/este-ano-houve-menos-azeite/\"><img width=\"360\" height=\"240\" alt data-srcset=\"https://i0.wp.com/www.noticiasdacovilha.pt/wp-content/uploads/2020/01/azeite.jpg?resize=360%2C240&amp;ssl=1 360w, https://i0.wp.com/www.noticiasdacovilha.pt/wp-content/uploads/2020/01/azeite.jpg?resize=210%2C140&amp;ssl=1 210w, https://i0.wp.com/www.noticiasdacovilha.pt/wp-content/uploads/2020/01/azeite.jpg?zoom=2&amp;resize=360%2C240&amp;ssl=1 720w, https://i0.wp.com/www.noticiasdacovilha.pt/wp-content/uploads/2020/01/azeite.jpg?zoom=3&amp;resize=360%2C240&amp;ssl=1 1080w\" sizes=\"(max-width: 360px) 100vw, 360px\" data-src=\"https://i0.wp.com/www.noticiasdacovilha.pt/wp-content/uploads/2020/01/azeite.jpg?resize=360%2C240&amp;ssl=1\" data-sizes=\"auto\" class=\"attachment-rubik-360-240 size-rubik-360-240 wp-post-image lazyload\" src=\"data:image/gif;base64,R0lGODlhAQABAAAAACH5BAEKAAEALAAAAAABAAEAAAICTAEAOw==\"><noscript><img width=\"360\" height=\"240\" src=\"https://arquivo.pt/noFrame/replay/20200110181245im_/https://i0.wp.com/www.noticiasdacovilha.pt/wp-content/uploads/2020/01/azeite.jpg?resize=360%2C240&amp;ssl=1\" class=\"attachment-rubik-360-240 size-rubik-360-240 wp-post-image\" alt srcset=\"https://arquivo.pt/noFrame/replay/20200110181245/https://i0.wp.com/www.noticiasdacovilha.pt/wp-content/uploads/2020/01/azeite.jpg?resize=360%2C240&amp;ssl=1 360w, https://arquivo.pt/noFrame/replay/20200110181245/https://i0.wp.com/www.noticiasdacovilha.pt/wp-content/uploads/2020/01/azeite.jpg?resize=210%2C140&amp;ssl=1 210w, https://arquivo.pt/noFrame/replay/20200110181245/https://i0.wp.com/www.noticiasdacovilha.pt/wp-content/uploads/2020/01/azeite.jpg?zoom=2&amp;resize=360%2C240&amp;ssl=1 720w, https://arquivo.pt/noFrame/replay/20200110181245/https://i0.wp.com/www.noticiasdacovilha.pt/wp-content/uploads/2020/01/azeite.jpg?zoom=3&amp;resize=360%2C240&amp;ssl=1 1080w\" sizes=\"(max-width: 360px) 100vw, 360px\"></noscript></a></div><div class=\"post-c-wrap\"><h4><a href=\"https://arquivo.pt/noFrame/replay/20200110181245/https://www.noticiasdacovilha.pt/este-ano-houve-menos-azeite/\">Este ano houve menos azeite</a></h4><div class=\"meta\"><div class=\"post-date\">9 de Janeiro, 2020</div></div></div></li><li class=\"item row-type content_out col-md-4 col-sm-4\"><div class=\"thumb hide-thumb\"><a href=\"https://arquivo.pt/noFrame/replay/20200110181245/https://www.noticiasdacovilha.pt/candidato-a-concelhia-laranja-diz-que-nao-o-e-a-camara/\"><img width=\"360\" height=\"240\" alt data-srcset=\"https://i0.wp.com/www.noticiasdacovilha.pt/wp-content/uploads/2020/01/LUÍS-SANTOS.jpg?resize=360%2C240&amp;ssl=1 360w, https://i0.wp.com/www.noticiasdacovilha.pt/wp-content/uploads/2020/01/LUÍS-SANTOS.jpg?resize=210%2C140&amp;ssl=1 210w, https://i0.wp.com/www.noticiasdacovilha.pt/wp-content/uploads/2020/01/LUÍS-SANTOS.jpg?zoom=2&amp;resize=360%2C240&amp;ssl=1 720w, https://i0.wp.com/www.noticiasdacovilha.pt/wp-content/uploads/2020/01/LUÍS-SANTOS.jpg?zoom=3&amp;resize=360%2C240&amp;ssl=1 1080w\" sizes=\"(max-width: 360px) 100vw, 360px\" data-src=\"https://i0.wp.com/www.noticiasdacovilha.pt/wp-content/uploads/2020/01/LUÍS-SANTOS.jpg?resize=360%2C240&amp;ssl=1\" data-sizes=\"auto\" class=\"attachment-rubik-360-240 size-rubik-360-240 wp-post-image lazyload\" src=\"data:image/gif;base64,R0lGODlhAQABAAAAACH5BAEKAAEALAAAAAABAAEAAAICTAEAOw==\"><noscript><img width=\"360\" height=\"240\" src=\"https://arquivo.pt/noFrame/replay/20200110181245im_/https://i0.wp.com/www.noticiasdacovilha.pt/wp-content/uploads/2020/01/LU%C3%8DS-SANTOS.jpg%3Fresize%3D360%252C240%26amp%3Bssl%3D1\" class=\"attachment-rubik-360-240 size-rubik-360-240 wp-post-image\" alt srcset=\"https://arquivo.pt/noFrame/replay/20200110181245/https://i0.wp.com/www.noticiasdacovilha.pt/wp-content/uploads/2020/01/LU%C3%8DS-SANTOS.jpg%3Fresize%3D360%252C240%26amp%3Bssl%3D1%20360w, https://arquivo.pt/noFrame/replay/20200110181245/https://i0.wp.com/www.noticiasdacovilha.pt/wp-content/uploads/2020/01/LU%C3%8DS-SANTOS.jpg%3Fresize%3D210%252C140%26amp%3Bssl%3D1%20210w, https://arquivo.pt/noFrame/replay/20200110181245/https://i0.wp.com/www.noticiasdacovilha.pt/wp-content/uploads/2020/01/LU%C3%8DS-SANTOS.jpg%3Fzoom%3D2%26amp%3Bresize%3D360%252C240%26amp%3Bssl%3D1%20720w, https://arquivo.pt/noFrame/replay/20200110181245/https://i0.wp.com/www.noticiasdacovilha.pt/wp-content/uploads/2020/01/LU%C3%8DS-SANTOS.jpg%3Fzoom%3D3%26amp%3Bresize%3D360%252C240%26amp%3Bssl%3D1%201080w\" sizes=\"(max-width: 360px) 100vw, 360px\"></noscript></a></div><div class=\"post-c-wrap\"><h4><a href=\"https://arquivo.pt/noFrame/replay/20200110181245/https://www.noticiasdacovilha.pt/candidato-a-concelhia-laranja-diz-que-nao-o-e-a-camara/\">Candidato à concelhia &#8220;laranja&#8221; diz que não o é à Câmara</a></h4><div class=\"meta\"><div class=\"post-date\">9 de Janeiro, 2020</div></div></div></li></ul></div><div class=\"bk-related-pagination\"><a href=\"#\" class=\"related-pagination-btn prev disable-click\" title=\"Previous\" rel=\"prev\"><i class=\"fa fa-angle-left\" aria-hidden=\"true\"></i>Anterior</a><a href=\"#\" class=\"related-pagination-btn next\" title=\"Próximo\" rel=\"next\">Próximo<i class=\"fa fa-angle-right\" aria-hidden=\"true\"></i></a></div></div><div class=\"comment-box clearfix\"><div id=\"respond\" class=\"comment-respond\"><h3 id=\"reply-title\" class=\"comment-reply-title\">Deixe um comentário <small><a rel=\"nofollow\" id=\"cancel-comment-reply-link\" href=\"/noFrame/replay/20200110181245/https://www.noticiasdacovilha.pt/covilhanense-nos-jogos-olimpicos-da-juventude-de-inverno/#respond\" style=\"display:none;\">Cancelar resposta</a></small></h3><form action=\"https://arquivo.pt/noFrame/replay/20200110181245/https://www.noticiasdacovilha.pt/wp-comments-post.php\" method=\"post\" id=\"commentform\" class=\"comment-form\"><p class=\"comment-form-comment\"><textarea id=\"comment\" name=\"comment\" cols=\"45\" rows=\"8\" aria-required=\"true\" placeholder=\"Comentar\"></textarea></p><p class=\"comment-form-author\"><input id=\"author\" name=\"author\" type=\"text\" placeholder=\"Nome*...\" size=\"30\" aria-required=\"true\"></p><p class=\"comment-form-email\"><input id=\"email\" name=\"email\" size=\"30\" type=\"text\" placeholder=\"Email*...\" aria-required=\"true\"></p><p class=\"comment-form-url\"><input id=\"url\" name=\"url\" size=\"30\" placeholder=\"Website...\" type=\"text\"></p><p class=\"comment-form-cookies-consent\"><input id=\"wp-comment-cookies-consent\" name=\"wp-comment-cookies-consent\" type=\"checkbox\" value=\"yes\"><label for=\"wp-comment-cookies-consent\">Guardar o meu nome, email e site neste navegador para a próxima vez que eu comentar.</label></p><p class=\"form-submit\"><input name=\"submit\" type=\"submit\" id=\"comment-submit\" class=\"submit\" value=\"Enviar\"> <input type=\"hidden\" name=\"comment_post_ID\" value=\"3487\" id=\"comment_post_ID\">\\n<input type=\"hidden\" name=\"comment_parent\" id=\"comment_parent\" value=\"0\"></p></form></div></div></div><div class=\"widget recommend-box\">\\n<a class=\"close\" href=\"#\" title=\"Close\"><i class=\"fa fa-long-arrow-right\"></i></a><h3>Mais Notícias</h3><div class=\"entries\"><ul class=\"list-small-post\"><li class=\"small-post content_out clearfix\"><div class=\"small-thumbnail-wrapper\"><div class=\"thumb hide-thumb term-85\"><a href=\"https://arquivo.pt/noFrame/replay/20200110181245/https://www.noticiasdacovilha.pt/paixao-pelo-vinil/\"><img width=\"90\" height=\"65\" alt data-srcset=\"https://i1.wp.com/www.noticiasdacovilha.pt/wp-content/uploads/2020/01/vinil-arr.jpg?resize=90%2C65&amp;ssl=1 90w, https://i1.wp.com/www.noticiasdacovilha.pt/wp-content/uploads/2020/01/vinil-arr.jpg?zoom=2&amp;resize=90%2C65&amp;ssl=1 180w, https://i1.wp.com/www.noticiasdacovilha.pt/wp-content/uploads/2020/01/vinil-arr.jpg?zoom=3&amp;resize=90%2C65&amp;ssl=1 270w\" sizes=\"(max-width: 90px) 100vw, 90px\" data-src=\"https://i1.wp.com/www.noticiasdacovilha.pt/wp-content/uploads/2020/01/vinil-arr.jpg?resize=90%2C65&amp;ssl=1\" data-sizes=\"auto\" class=\"attachment-rubik-90-65 size-rubik-90-65 wp-post-image lazyload\" src=\"data:image/gif;base64,R0lGODlhAQABAAAAACH5BAEKAAEALAAAAAABAAEAAAICTAEAOw==\"><noscript><img width=\"90\" height=\"65\" src=\"https://arquivo.pt/noFrame/replay/20200110181245im_/https://i1.wp.com/www.noticiasdacovilha.pt/wp-content/uploads/2020/01/vinil-arr.jpg?resize=90%2C65&amp;ssl=1\" class=\"attachment-rubik-90-65 size-rubik-90-65 wp-post-image\" alt srcset=\"https://arquivo.pt/noFrame/replay/20200110181245/https://i1.wp.com/www.noticiasdacovilha.pt/wp-content/uploads/2020/01/vinil-arr.jpg?resize=90%2C65&amp;ssl=1 90w, https://arquivo.pt/noFrame/replay/20200110181245/https://i1.wp.com/www.noticiasdacovilha.pt/wp-content/uploads/2020/01/vinil-arr.jpg?zoom=2&amp;resize=90%2C65&amp;ssl=1 180w, https://arquivo.pt/noFrame/replay/20200110181245/https://i1.wp.com/www.noticiasdacovilha.pt/wp-content/uploads/2020/01/vinil-arr.jpg?zoom=3&amp;resize=90%2C65&amp;ssl=1 270w\" sizes=\"(max-width: 90px) 100vw, 90px\"></noscript><div class=\"rubik-post-icon-wrap\"></div></a></div></div><div class=\"post-c-wrap\"><h4 class=\"title\"><a class=\"term-85\" href=\"https://arquivo.pt/noFrame/replay/20200110181245/https://www.noticiasdacovilha.pt/paixao-pelo-vinil/\">Paixão pelo vinil</a></h4><div class=\"meta\"><div class=\"post-date\">8 de Janeiro, 2020</div></div></div></li><li class=\"small-post content_out clearfix\"><div class=\"small-thumbnail-wrapper\"><div class=\"thumb hide-thumb term-8\"><a href=\"https://arquivo.pt/noFrame/replay/20200110181245/https://www.noticiasdacovilha.pt/acidente-com-autocarro-perto-do-barco/\"><img width=\"90\" height=\"65\" alt data-srcset=\"https://i1.wp.com/www.noticiasdacovilha.pt/wp-content/uploads/2019/09/inem.jpg?resize=90%2C65&amp;ssl=1 90w, https://i1.wp.com/www.noticiasdacovilha.pt/wp-content/uploads/2019/09/inem.jpg?zoom=2&amp;resize=90%2C65&amp;ssl=1 180w, https://i1.wp.com/www.noticiasdacovilha.pt/wp-content/uploads/2019/09/inem.jpg?zoom=3&amp;resize=90%2C65&amp;ssl=1 270w\" sizes=\"(max-width: 90px) 100vw, 90px\" data-src=\"https://i1.wp.com/www.noticiasdacovilha.pt/wp-content/uploads/2019/09/inem.jpg?resize=90%2C65&amp;ssl=1\" data-sizes=\"auto\" class=\"attachment-rubik-90-65 size-rubik-90-65 wp-post-image lazyload\" src=\"data:image/gif;base64,R0lGODlhAQABAAAAACH5BAEKAAEALAAAAAABAAEAAAICTAEAOw==\"><noscript><img width=\"90\" height=\"65\" src=\"https://arquivo.pt/noFrame/replay/20200110181245im_/https://i1.wp.com/www.noticiasdacovilha.pt/wp-content/uploads/2019/09/inem.jpg?resize=90%2C65&amp;ssl=1\" class=\"attachment-rubik-90-65 size-rubik-90-65 wp-post-image\" alt srcset=\"https://arquivo.pt/noFrame/replay/20200110181245/https://i1.wp.com/www.noticiasdacovilha.pt/wp-content/uploads/2019/09/inem.jpg?resize=90%2C65&amp;ssl=1 90w, https://arquivo.pt/noFrame/replay/20200110181245/https://i1.wp.com/www.noticiasdacovilha.pt/wp-content/uploads/2019/09/inem.jpg?zoom=2&amp;resize=90%2C65&amp;ssl=1 180w, https://arquivo.pt/noFrame/replay/20200110181245/https://i1.wp.com/www.noticiasdacovilha.pt/wp-content/uploads/2019/09/inem.jpg?zoom=3&amp;resize=90%2C65&amp;ssl=1 270w\" sizes=\"(max-width: 90px) 100vw, 90px\"></noscript><div class=\"rubik-post-icon-wrap\"></div></a></div></div><div class=\"post-c-wrap\"><h4 class=\"title\"><a class=\"term-8\" href=\"https://arquivo.pt/noFrame/replay/20200110181245/https://www.noticiasdacovilha.pt/acidente-com-autocarro-perto-do-barco/\">Acidente com autocarro perto do Barco</a></h4><div class=\"meta\"><div class=\"post-date\">18 de Setembro, 2019</div></div></div></li><li class=\"small-post content_out clearfix\"><div class=\"small-thumbnail-wrapper\"><div class=\"thumb hide-thumb term-8\"><a href=\"https://arquivo.pt/noFrame/replay/20200110181245/https://www.noticiasdacovilha.pt/belmonte-procura-um-doce-de-identidade/\"><img width=\"90\" height=\"65\" alt data-srcset=\"https://i1.wp.com/www.noticiasdacovilha.pt/wp-content/uploads/2019/11/doce.jpg?resize=90%2C65&amp;ssl=1 90w, https://i1.wp.com/www.noticiasdacovilha.pt/wp-content/uploads/2019/11/doce.jpg?zoom=2&amp;resize=90%2C65&amp;ssl=1 180w, https://i1.wp.com/www.noticiasdacovilha.pt/wp-content/uploads/2019/11/doce.jpg?zoom=3&amp;resize=90%2C65&amp;ssl=1 270w\" sizes=\"(max-width: 90px) 100vw, 90px\" data-src=\"https://i1.wp.com/www.noticiasdacovilha.pt/wp-content/uploads/2019/11/doce.jpg?resize=90%2C65&amp;ssl=1\" data-sizes=\"auto\" class=\"attachment-rubik-90-65 size-rubik-90-65 wp-post-image lazyload\" src=\"data:image/gif;base64,R0lGODlhAQABAAAAACH5BAEKAAEALAAAAAABAAEAAAICTAEAOw==\"><noscript><img width=\"90\" height=\"65\" src=\"https://arquivo.pt/noFrame/replay/20200110181245im_/https://i1.wp.com/www.noticiasdacovilha.pt/wp-content/uploads/2019/11/doce.jpg?resize=90%2C65&amp;ssl=1\" class=\"attachment-rubik-90-65 size-rubik-90-65 wp-post-image\" alt srcset=\"https://arquivo.pt/noFrame/replay/20200110181245/https://i1.wp.com/www.noticiasdacovilha.pt/wp-content/uploads/2019/11/doce.jpg?resize=90%2C65&amp;ssl=1 90w, https://arquivo.pt/noFrame/replay/20200110181245/https://i1.wp.com/www.noticiasdacovilha.pt/wp-content/uploads/2019/11/doce.jpg?zoom=2&amp;resize=90%2C65&amp;ssl=1 180w, https://arquivo.pt/noFrame/replay/20200110181245/https://i1.wp.com/www.noticiasdacovilha.pt/wp-content/uploads/2019/11/doce.jpg?zoom=3&amp;resize=90%2C65&amp;ssl=1 270w\" sizes=\"(max-width: 90px) 100vw, 90px\"></noscript><div class=\"rubik-post-icon-wrap\"></div></a></div></div><div class=\"post-c-wrap\"><h4 class=\"title\"><a class=\"term-8\" href=\"https://arquivo.pt/noFrame/replay/20200110181245/https://www.noticiasdacovilha.pt/belmonte-procura-um-doce-de-identidade/\">Belmonte procura um doce de identidade</a></h4><div class=\"meta\"><div class=\"post-date\">13 de Novembro, 2019</div></div></div></li></ul></div></div><div class=\"sidebar col-md-4\"><div class=\"sidebar-wrap stick\" id=\"bk-single-sidebar\"><div id=\"adrotate_widgets-5\" class=\"widget adrotate_widgets\"><div class=\"a-single a-3\"><a class=\"gofollow\" data-track=\"MywwLDEsNjA=\" href=\"https://arquivo.pt/noFrame/replay/20200110181245/https://www.clinicamedicafatimasalvado.com/portal/\" target=\"_blank\"><img src=\"https://arquivo.pt/noFrame/replay/20200110181245im_/https://i0.wp.com/www.noticiasdacovilha.pt/wp-content/uploads/2019/05/fatima-salvado.jpg?ssl=1\"/></a><a class=\"gofollow\" data-track=\"MywwLDEsNjA=\" href=\"https://arquivo.pt/noFrame/replay/20200110181245/https://www.clinicamedicafatimasalvado.com/portal/\"><img src=\"\"/></a></div></div><div id=\"bk_social_counter-2\" class=\"widget widget-social-counter\"><div class=\"bk-header\"><div class=\"widget-title hide\"><h3>Siga-nos</h3></div></div><div class=\"social-counter-wrap clearfix layout-1 light\"><ul class=\"clearfix\"><li class=\"facebook clear-fix\">\\n<a target=\"_blank\" href=\"https://arquivo.pt/noFrame/replay/20200110181245/https://www.facebook.com/Not%C3%ADcias-da-Covilh%C3%A3-107534245992881\"><div class=\"social-icon\"><i class=\"fa fa-facebook\"></i></div><div class=\"data\"><div class=\"counter\">12551</div><div class=\"text\">Likes</div></div>\\n</a></li></ul></div></div><div id=\"bk_latest_posts-3\" class=\"widget widget_latest_posts\"><div class=\"widget_latest_posts_1\"><div class=\"widget-title-wrap\"><div class=\"bk-header\"><div class=\"widget-title hide\"><h3>Últimas Noticias</h3></div></div></div><div id=\"latest_1-5e18b86d298e5\" class=\"bk-widget-wrap\"><ul class=\"list post-list bk-widget-content\"><li class=\"small-post content_out clearfix\"><div class=\"small-thumbnail-wrapper\"><div class=\"thumb hide-thumb term-85\"><a href=\"https://arquivo.pt/noFrame/replay/20200110181245/https://www.noticiasdacovilha.pt/mais-acidentes-mas-menos-mortes-nas-estradas/\"><img width=\"90\" height=\"65\" alt data-srcset=\"https://i1.wp.com/www.noticiasdacovilha.pt/wp-content/uploads/2020/01/ACIDENTES.jpg?resize=90%2C65&amp;ssl=1 90w, https://i1.wp.com/www.noticiasdacovilha.pt/wp-content/uploads/2020/01/ACIDENTES.jpg?zoom=2&amp;resize=90%2C65&amp;ssl=1 180w, https://i1.wp.com/www.noticiasdacovilha.pt/wp-content/uploads/2020/01/ACIDENTES.jpg?zoom=3&amp;resize=90%2C65&amp;ssl=1 270w\" sizes=\"(max-width: 90px) 100vw, 90px\" data-src=\"https://i1.wp.com/www.noticiasdacovilha.pt/wp-content/uploads/2020/01/ACIDENTES.jpg?resize=90%2C65&amp;ssl=1\" data-sizes=\"auto\" class=\"attachment-rubik-90-65 size-rubik-90-65 wp-post-image lazyload\" src=\"data:image/gif;base64,R0lGODlhAQABAAAAACH5BAEKAAEALAAAAAABAAEAAAICTAEAOw==\"><noscript><img width=\"90\" height=\"65\" src=\"https://arquivo.pt/noFrame/replay/20200110181245im_/https://i1.wp.com/www.noticiasdacovilha.pt/wp-content/uploads/2020/01/ACIDENTES.jpg?resize=90%2C65&amp;ssl=1\" class=\"attachment-rubik-90-65 size-rubik-90-65 wp-post-image\" alt srcset=\"https://arquivo.pt/noFrame/replay/20200110181245/https://i1.wp.com/www.noticiasdacovilha.pt/wp-content/uploads/2020/01/ACIDENTES.jpg?resize=90%2C65&amp;ssl=1 90w, https://arquivo.pt/noFrame/replay/20200110181245/https://i1.wp.com/www.noticiasdacovilha.pt/wp-content/uploads/2020/01/ACIDENTES.jpg?zoom=2&amp;resize=90%2C65&amp;ssl=1 180w, https://arquivo.pt/noFrame/replay/20200110181245/https://i1.wp.com/www.noticiasdacovilha.pt/wp-content/uploads/2020/01/ACIDENTES.jpg?zoom=3&amp;resize=90%2C65&amp;ssl=1 270w\" sizes=\"(max-width: 90px) 100vw, 90px\"></noscript><div class=\"rubik-post-icon-wrap\"></div></a></div></div><div class=\"post-c-wrap\"><h4 class=\"title\"><a class=\"term-85\" href=\"https://arquivo.pt/noFrame/replay/20200110181245/https://www.noticiasdacovilha.pt/mais-acidentes-mas-menos-mortes-nas-estradas/\">Mais acidentes mas menos mortes nas estradas</a></h4><div class=\"meta\"><div class=\"post-date\">10 de Janeiro, 2020</div></div></div></li><li class=\"small-post content_out clearfix\"><div class=\"small-thumbnail-wrapper\"><div class=\"thumb hide-thumb term-85\"><a href=\"https://arquivo.pt/noFrame/replay/20200110181245/https://www.noticiasdacovilha.pt/este-ano-houve-menos-azeite/\"><img width=\"90\" height=\"65\" alt data-srcset=\"https://i0.wp.com/www.noticiasdacovilha.pt/wp-content/uploads/2020/01/azeite.jpg?resize=90%2C65&amp;ssl=1 90w, https://i0.wp.com/www.noticiasdacovilha.pt/wp-content/uploads/2020/01/azeite.jpg?zoom=2&amp;resize=90%2C65&amp;ssl=1 180w, https://i0.wp.com/www.noticiasdacovilha.pt/wp-content/uploads/2020/01/azeite.jpg?zoom=3&amp;resize=90%2C65&amp;ssl=1 270w\" sizes=\"(max-width: 90px) 100vw, 90px\" data-src=\"https://i0.wp.com/www.noticiasdacovilha.pt/wp-content/uploads/2020/01/azeite.jpg?resize=90%2C65&amp;ssl=1\" data-sizes=\"auto\" class=\"attachment-rubik-90-65 size-rubik-90-65 wp-post-image lazyload\" src=\"data:image/gif;base64,R0lGODlhAQABAAAAACH5BAEKAAEALAAAAAABAAEAAAICTAEAOw==\"><noscript><img width=\"90\" height=\"65\" src=\"https://arquivo.pt/noFrame/replay/20200110181245im_/https://i0.wp.com/www.noticiasdacovilha.pt/wp-content/uploads/2020/01/azeite.jpg?resize=90%2C65&amp;ssl=1\" class=\"attachment-rubik-90-65 size-rubik-90-65 wp-post-image\" alt srcset=\"https://arquivo.pt/noFrame/replay/20200110181245/https://i0.wp.com/www.noticiasdacovilha.pt/wp-content/uploads/2020/01/azeite.jpg?resize=90%2C65&amp;ssl=1 90w, https://arquivo.pt/noFrame/replay/20200110181245/https://i0.wp.com/www.noticiasdacovilha.pt/wp-content/uploads/2020/01/azeite.jpg?zoom=2&amp;resize=90%2C65&amp;ssl=1 180w, https://arquivo.pt/noFrame/replay/20200110181245/https://i0.wp.com/www.noticiasdacovilha.pt/wp-content/uploads/2020/01/azeite.jpg?zoom=3&amp;resize=90%2C65&amp;ssl=1 270w\" sizes=\"(max-width: 90px) 100vw, 90px\"></noscript><div class=\"rubik-post-icon-wrap\"></div></a></div></div><div class=\"post-c-wrap\"><h4 class=\"title\"><a class=\"term-85\" href=\"https://arquivo.pt/noFrame/replay/20200110181245/https://www.noticiasdacovilha.pt/este-ano-houve-menos-azeite/\">Este ano houve menos azeite</a></h4><div class=\"meta\"><div class=\"post-date\">9 de Janeiro, 2020</div></div></div></li><li class=\"small-post content_out clearfix\"><div class=\"small-thumbnail-wrapper\"><div class=\"thumb hide-thumb term-8\"><a href=\"https://arquivo.pt/noFrame/replay/20200110181245/https://www.noticiasdacovilha.pt/candidato-a-concelhia-laranja-diz-que-nao-o-e-a-camara/\"><img width=\"90\" height=\"65\" alt data-srcset=\"https://i0.wp.com/www.noticiasdacovilha.pt/wp-content/uploads/2020/01/LUÍS-SANTOS.jpg?resize=90%2C65&amp;ssl=1 90w, https://i0.wp.com/www.noticiasdacovilha.pt/wp-content/uploads/2020/01/LUÍS-SANTOS.jpg?zoom=2&amp;resize=90%2C65&amp;ssl=1 180w, https://i0.wp.com/www.noticiasdacovilha.pt/wp-content/uploads/2020/01/LUÍS-SANTOS.jpg?zoom=3&amp;resize=90%2C65&amp;ssl=1 270w\" sizes=\"(max-width: 90px) 100vw, 90px\" data-src=\"https://i0.wp.com/www.noticiasdacovilha.pt/wp-content/uploads/2020/01/LUÍS-SANTOS.jpg?resize=90%2C65&amp;ssl=1\" data-sizes=\"auto\" class=\"attachment-rubik-90-65 size-rubik-90-65 wp-post-image lazyload\" src=\"data:image/gif;base64,R0lGODlhAQABAAAAACH5BAEKAAEALAAAAAABAAEAAAICTAEAOw==\"><noscript><img width=\"90\" height=\"65\" src=\"https://arquivo.pt/noFrame/replay/20200110181245im_/https://i0.wp.com/www.noticiasdacovilha.pt/wp-content/uploads/2020/01/LU%C3%8DS-SANTOS.jpg%3Fresize%3D90%252C65%26amp%3Bssl%3D1\" class=\"attachment-rubik-90-65 size-rubik-90-65 wp-post-image\" alt srcset=\"https://arquivo.pt/noFrame/replay/20200110181245/https://i0.wp.com/www.noticiasdacovilha.pt/wp-content/uploads/2020/01/LU%C3%8DS-SANTOS.jpg%3Fresize%3D90%252C65%26amp%3Bssl%3D1%2090w, https://arquivo.pt/noFrame/replay/20200110181245/https://i0.wp.com/www.noticiasdacovilha.pt/wp-content/uploads/2020/01/LU%C3%8DS-SANTOS.jpg%3Fzoom%3D2%26amp%3Bresize%3D90%252C65%26amp%3Bssl%3D1%20180w, https://arquivo.pt/noFrame/replay/20200110181245/https://i0.wp.com/www.noticiasdacovilha.pt/wp-content/uploads/2020/01/LU%C3%8DS-SANTOS.jpg%3Fzoom%3D3%26amp%3Bresize%3D90%252C65%26amp%3Bssl%3D1%20270w\" sizes=\"(max-width: 90px) 100vw, 90px\"></noscript><div class=\"rubik-post-icon-wrap\"></div></a></div></div><div class=\"post-c-wrap\"><h4 class=\"title\"><a class=\"term-8\" href=\"https://arquivo.pt/noFrame/replay/20200110181245/https://www.noticiasdacovilha.pt/candidato-a-concelhia-laranja-diz-que-nao-o-e-a-camara/\">Candidato à concelhia &#8220;laranja&#8221; diz que não o é à Câmara</a></h4><div class=\"meta\"><div class=\"post-date\">9 de Janeiro, 2020</div></div></div></li><li class=\"small-post content_out clearfix\"><div class=\"small-thumbnail-wrapper\"><div class=\"thumb hide-thumb term-85\"><a href=\"https://arquivo.pt/noFrame/replay/20200110181245/https://www.noticiasdacovilha.pt/novo-hostel-da-mutualista-no-verao/\"><img width=\"90\" height=\"65\" alt data-srcset=\"https://i0.wp.com/www.noticiasdacovilha.pt/wp-content/uploads/2020/01/hostel.jpg?resize=90%2C65&amp;ssl=1 90w, https://i0.wp.com/www.noticiasdacovilha.pt/wp-content/uploads/2020/01/hostel.jpg?zoom=2&amp;resize=90%2C65&amp;ssl=1 180w, https://i0.wp.com/www.noticiasdacovilha.pt/wp-content/uploads/2020/01/hostel.jpg?zoom=3&amp;resize=90%2C65&amp;ssl=1 270w\" sizes=\"(max-width: 90px) 100vw, 90px\" data-src=\"https://i0.wp.com/www.noticiasdacovilha.pt/wp-content/uploads/2020/01/hostel.jpg?resize=90%2C65&amp;ssl=1\" data-sizes=\"auto\" class=\"attachment-rubik-90-65 size-rubik-90-65 wp-post-image lazyload\" src=\"data:image/gif;base64,R0lGODlhAQABAAAAACH5BAEKAAEALAAAAAABAAEAAAICTAEAOw==\"><noscript><img width=\"90\" height=\"65\" src=\"https://arquivo.pt/noFrame/replay/20200110181245im_/https://i0.wp.com/www.noticiasdacovilha.pt/wp-content/uploads/2020/01/hostel.jpg?resize=90%2C65&amp;ssl=1\" class=\"attachment-rubik-90-65 size-rubik-90-65 wp-post-image\" alt srcset=\"https://arquivo.pt/noFrame/replay/20200110181245/https://i0.wp.com/www.noticiasdacovilha.pt/wp-content/uploads/2020/01/hostel.jpg?resize=90%2C65&amp;ssl=1 90w, https://arquivo.pt/noFrame/replay/20200110181245/https://i0.wp.com/www.noticiasdacovilha.pt/wp-content/uploads/2020/01/hostel.jpg?zoom=2&amp;resize=90%2C65&amp;ssl=1 180w, https://arquivo.pt/noFrame/replay/20200110181245/https://i0.wp.com/www.noticiasdacovilha.pt/wp-content/uploads/2020/01/hostel.jpg?zoom=3&amp;resize=90%2C65&amp;ssl=1 270w\" sizes=\"(max-width: 90px) 100vw, 90px\"></noscript><div class=\"rubik-post-icon-wrap\"></div></a></div></div><div class=\"post-c-wrap\"><h4 class=\"title\"><a class=\"term-85\" href=\"https://arquivo.pt/noFrame/replay/20200110181245/https://www.noticiasdacovilha.pt/novo-hostel-da-mutualista-no-verao/\">Novo hostel da Mutualista no Verão</a></h4><div class=\"meta\"><div class=\"post-date\">8 de Janeiro, 2020</div></div></div></li></ul><div class=\"bk-widget-pagination\"><a href=\"#\" class=\"widget-pagination-btn prev disable-click\" title=\"Previous\" rel=\"prev\"><i class=\"fa fa-angle-left\" aria-hidden=\"true\"></i></a><a href=\"#\" class=\"widget-pagination-btn next\" title=\"Próximo\" rel=\"next\"><i class=\"fa fa-angle-right\" aria-hidden=\"true\"></i></a></div></div></div></div><div id=\"adrotate_widgets-6\" class=\"widget adrotate_widgets\"><div class=\"a-single a-3\"><a class=\"gofollow\" data-track=\"MywwLDEsNjA=\" href=\"https://arquivo.pt/noFrame/replay/20200110181245/https://www.clinicamedicafatimasalvado.com/portal/\" target=\"_blank\"><img src=\"https://arquivo.pt/noFrame/replay/20200110181245im_/https://i0.wp.com/www.noticiasdacovilha.pt/wp-content/uploads/2019/05/fatima-salvado.jpg?ssl=1\"/></a><a class=\"gofollow\" data-track=\"MywwLDEsNjA=\" href=\"https://arquivo.pt/noFrame/replay/20200110181245/https://www.clinicamedicafatimasalvado.com/portal/\"><img src=\"\"/></a></div></div><div id=\"bk_latest_posts-4\" class=\"widget widget_latest_posts\"><div class=\"widget_latest_posts_6\"><div class=\"widget-title-wrap\"><div class=\"bk-header\"><div class=\"widget-title hide\"><h3>Mais Vistos</h3></div></div></div><div id=\"latest_6-5e18b86d300d9\" class=\"bk-widget-wrap\"><ul class=\"list post-list bk-widget-content\"><li class=\"small-post content_out clearfix\"><div class=\"post-c-wrap\"><div class=\"post-category\"><a class=\"term-85\" href=\"https://arquivo.pt/noFrame/replay/20200110181245/https://www.noticiasdacovilha.pt/category/a-ver/\">A ver</a><a class=\"term-8\" href=\"https://arquivo.pt/noFrame/replay/20200110181245/https://www.noticiasdacovilha.pt/category/actualidade/\">Actualidade</a><a class=\"term-76\" href=\"https://arquivo.pt/noFrame/replay/20200110181245/https://www.noticiasdacovilha.pt/category/covilha/\">Covilhã</a><a class=\"term-7\" href=\"https://arquivo.pt/noFrame/replay/20200110181245/https://www.noticiasdacovilha.pt/category/desporto/\">Desporto</a><a class=\"term-84\" href=\"https://arquivo.pt/noFrame/replay/20200110181245/https://www.noticiasdacovilha.pt/category/destaque/\">Destaque</a></div><h4 class=\"title\"><a class=\"term-85\" href=\"https://arquivo.pt/noFrame/replay/20200110181245/https://www.noticiasdacovilha.pt/piscina-das-penhas-da-saude-reabre-segunda-feira/\">Piscina das Penhas da Saúde reabre segunda-feira</a></h4><div class=\"meta\"><div class=\"post-date\">25 de Julho, 2019</div></div></div></li><li class=\"small-post content_out clearfix\"><div class=\"post-c-wrap\"><div class=\"post-category\"><a class=\"term-80\" href=\"https://arquivo.pt/noFrame/replay/20200110181245/https://www.noticiasdacovilha.pt/category/opiniao/\">Opinião</a></div><h4 class=\"title\"><a class=\"term-80\" href=\"https://arquivo.pt/noFrame/replay/20200110181245/https://www.noticiasdacovilha.pt/uma-missao-para-continuar/\">Uma Missão para continuar</a></h4><div class=\"meta\"><div class=\"post-date\">23 de Maio, 2019</div></div></div></li><li class=\"small-post content_out clearfix\"><div class=\"post-c-wrap\"><div class=\"post-category\"><a class=\"term-80\" href=\"https://arquivo.pt/noFrame/replay/20200110181245/https://www.noticiasdacovilha.pt/category/opiniao/\">Opinião</a></div><h4 class=\"title\"><a class=\"term-80\" href=\"https://arquivo.pt/noFrame/replay/20200110181245/https://www.noticiasdacovilha.pt/noticias-da-covilha-ha-cem-anos-com-este-titulo/\">Notícias da Covilhã: há cem anos com este título</a></h4><div class=\"meta\"><div class=\"post-date\">23 de Maio, 2019</div></div></div></li><li class=\"small-post content_out clearfix\"><div class=\"post-c-wrap\"><div class=\"post-category\"><a class=\"term-80\" href=\"https://arquivo.pt/noFrame/replay/20200110181245/https://www.noticiasdacovilha.pt/category/opiniao/\">Opinião</a></div><h4 class=\"title\"><a class=\"term-80\" href=\"https://arquivo.pt/noFrame/replay/20200110181245/https://www.noticiasdacovilha.pt/mais-de-um-seculo-de-vida/\">Mais de um século de vida</a></h4><div class=\"meta\"><div class=\"post-date\">23 de Maio, 2019</div></div></div></li></ul><div class=\"bk-widget-pagination\"><a href=\"#\" class=\"widget-pagination-btn prev disable-click\" title=\"Previous\" rel=\"prev\"><i class=\"fa fa-angle-left\" aria-hidden=\"true\"></i></a><a href=\"#\" class=\"widget-pagination-btn next\" title=\"Próximo\" rel=\"next\"><i class=\"fa fa-angle-right\" aria-hidden=\"true\"></i></a></div></div></div></div><div id=\"newsletterwidgetminimal-2\" class=\"widget widget_newsletterwidgetminimal\"><div class=\"bk-header\"><div class=\"widget-title hide\"><h3>Subscreva a nossa Newsletter</h3></div></div><div class=\"tnp tnp-widget-minimal\"><form class=\"tnp-form\" action=\"https://arquivo.pt/noFrame/replay/20200110181245/https://www.noticiasdacovilha.pt/?na=s\" method=\"post\" onsubmit=\"return newsletter_check(this)\"><input type=\"hidden\" name=\"nr\" value=\"widget-minimal\"><input class=\"tnp-email\" type=\"email\" required name=\"ne\" value placeholder=\"Email\"><input class=\"tnp-submit\" type=\"submit\" value=\"Subscrever\"></form></div></div></div></div></div></div></div><div class=\"footer bk-footer-light\"><div class=\"footer-content footer_1_3 bkwrapper clearfix container\"><div class=\"row\"><div class=\"footer-sidebar\"><div id=\"media_image-3\" class=\"widget widget_media_image\"><img width=\"300\" height=\"98\" alt style=\"max-width: 100%; height: auto;\" data-srcset=\"https://i0.wp.com/www.noticiasdacovilha.pt/wp-content/uploads/2019/05/LOGOS-Notícias-da-Covilhã-13.png?w=544&amp;ssl=1 544w, https://i0.wp.com/www.noticiasdacovilha.pt/wp-content/uploads/2019/05/LOGOS-Notícias-da-Covilhã-13.png?resize=300%2C98&amp;ssl=1 300w, https://i0.wp.com/www.noticiasdacovilha.pt/wp-content/uploads/2019/05/LOGOS-Notícias-da-Covilhã-13.png?resize=400%2C130&amp;ssl=1 400w\" sizes=\"(max-width: 300px) 100vw, 300px\" data-src=\"https://i0.wp.com/www.noticiasdacovilha.pt/wp-content/uploads/2019/05/LOGOS-Notícias-da-Covilhã-13.png?fit=300%2C98&amp;ssl=1\" data-sizes=\"auto\" class=\"image wp-image-1789  attachment-medium size-medium lazyload\" src=\"data:image/gif;base64,R0lGODlhAQABAAAAACH5BAEKAAEALAAAAAABAAEAAAICTAEAOw==\"><noscript><img width=\"300\" height=\"98\" src=\"https://arquivo.pt/noFrame/replay/20200110181245im_/https://i0.wp.com/www.noticiasdacovilha.pt/wp-content/uploads/2019/05/LOGOS-Not%C3%ADcias-da-Covilh%C3%A3-13.png%3Ffit%3D300%252C98%26amp%3Bssl%3D1\" class=\"image wp-image-1789  attachment-medium size-medium\" alt style=\"max-width: 100%; height: auto;\" srcset=\"https://arquivo.pt/noFrame/replay/20200110181245/https://i0.wp.com/www.noticiasdacovilha.pt/wp-content/uploads/2019/05/LOGOS-Not%C3%ADcias-da-Covilh%C3%A3-13.png%3Fw%3D544%26amp%3Bssl%3D1%20544w, https://arquivo.pt/noFrame/replay/20200110181245/https://i0.wp.com/www.noticiasdacovilha.pt/wp-content/uploads/2019/05/LOGOS-Not%C3%ADcias-da-Covilh%C3%A3-13.png%3Fresize%3D300%252C98%26amp%3Bssl%3D1%20300w, https://arquivo.pt/noFrame/replay/20200110181245/https://i0.wp.com/www.noticiasdacovilha.pt/wp-content/uploads/2019/05/LOGOS-Not%C3%ADcias-da-Covilh%C3%A3-13.png%3Fresize%3D400%252C130%26amp%3Bssl%3D1%20400w\" sizes=\"(max-width: 300px) 100vw, 300px\"></noscript></div><div id=\"text-2\" class=\"widget widget_text\"><div class=\"bk-header\"><div class=\"widget-title hide\"><h3>Sobre Nós</h3></div></div><div class=\"textwidget\"><p style=\"font-size: 14px; color: #eee;\"><em>Notícias da Covilhã é\\xa0</em>um jornal semanal de informação geral, de âmbito regional e de difusão nacional ao serviço das populações do eixo Guarda – Covilhã – Fundão – Castelo Branco.</p></div></div></div><div class=\"footer-sidebar\"><div id=\"adrotate_widgets-4\" class=\"widget adrotate_widgets\"><div class=\"a-single a-2\"><a class=\"gofollow\" data-track=\"MiwwLDEsNjA=\" href=\"https://arquivo.pt/noFrame/replay/20200110181245/http://www.quintadostermos.pt/\" target=\"_blank\"><img src=\"https://arquivo.pt/noFrame/replay/20200110181245im_/https://i1.wp.com/www.noticiasdacovilha.pt/wp-content/uploads/2019/05/Publicidade-200x200.jpg?ssl=1\"/></a>\\r</div></div></div><div class=\"footer-sidebar\"><div id=\"nav_menu-5\" class=\"widget widget_nav_menu\"><div class=\"bk-header\"><div class=\"widget-title hide\"><h3>Informação</h3></div></div><div class=\"menu-top-menu-container\"><ul id=\"menu-top-menu-1\" class=\"menu\"><li class=\"menu-item menu-item-type-post_type menu-item-object-page menu-item-1502\"><a href=\"https://arquivo.pt/noFrame/replay/20200110181245/https://www.noticiasdacovilha.pt/assinatura/\">Assinatura</a></li><li class=\"menu-item menu-item-type-post_type menu-item-object-page menu-item-1444\"><a href=\"https://arquivo.pt/noFrame/replay/20200110181245/https://www.noticiasdacovilha.pt/contactos/\">Contactos</a></li><li class=\"menu-item menu-item-type-post_type menu-item-object-page menu-item-1495\"><a href=\"https://arquivo.pt/noFrame/replay/20200110181245/https://www.noticiasdacovilha.pt/publicidade/\">Publicidade</a></li><li class=\"menu-item menu-item-type-post_type menu-item-object-page menu-item-1498\"><a href=\"https://arquivo.pt/noFrame/replay/20200110181245/https://www.noticiasdacovilha.pt/ficha-tecnica/\">Ficha Técnica</a></li><li class=\"menu-item menu-item-type-post_type menu-item-object-page menu-item-1605\"><a href=\"https://arquivo.pt/noFrame/replay/20200110181245/https://www.noticiasdacovilha.pt/feed-rss/\">Feed RSS</a></li></ul></div></div></div></div></div><div class=\"footer-lower\"><div class=\"container\"><div class=\"footer-inner clearfix\"><div class=\"footer-lower-left\"><div class=\"bk-copyright\">©2019 Notícias da Covilhã. Todos os direitos reservados. <a href=\"https://arquivo.pt/noFrame/replay/20200110181245/https://www.noticiasdacovilha.pt/politica-privacidade/\">Política de Privacidade. </a>\\nPowered by <a href=\"https://arquivo.pt/noFrame/replay/20200110181245/https://www.peakit.pt/\">PeakIT</a></div></div><div class=\"footer-lower-right\"></div></div></div></div></div></div></div></div>  <script async src=\"https://arquivo.pt/noFrame/replay/20200110181245js_/https://www.googletagmanager.com/gtag/js?id=UA-140578109-1\"></script> <script>\\nvar _____WB$wombat$assign$function_____ = function(name) {return (self._wb_wombat && self._wb_wombat.local_init && self._wb_wombat.local_init(name)) || self[name]; };\\nif (!self.__WB_pmw) { self.__WB_pmw = function(obj) { this.__WB_source = obj; return this; } }\\n{\\nlet window = _____WB$wombat$assign$function_____(\"window\");\\nlet self = _____WB$wombat$assign$function_____(\"self\");\\nlet document = _____WB$wombat$assign$function_____(\"document\");\\nlet location = _____WB$wombat$assign$function_____(\"location\");\\nlet top = _____WB$wombat$assign$function_____(\"top\");\\nlet parent = _____WB$wombat$assign$function_____(\"parent\");\\nlet frames = _____WB$wombat$assign$function_____(\"frames\");\\nlet opener = _____WB$wombat$assign$function_____(\"opener\");\\nlet arguments;\\n\\n{window.dataLayer=window.dataLayer||[];function gtag(){dataLayer.push(arguments);}\\ngtag(\\'js\\',new Date());gtag(\\'config\\',\\'UA-140578109-1\\');\\n\\n}}</script> <script defer=\"defer\" src=\"https://arquivo.pt/noFrame/replay/20200110181245js_/https://c0.wp.com/p/jetpack/8.0/_inc/build/photon/photon.min.js\"></script> <script>\\nvar _____WB$wombat$assign$function_____ = function(name) {return (self._wb_wombat && self._wb_wombat.local_init && self._wb_wombat.local_init(name)) || self[name]; };\\nif (!self.__WB_pmw) { self.__WB_pmw = function(obj) { this.__WB_source = obj; return this; } }\\n{\\nlet window = _____WB$wombat$assign$function_____(\"window\");\\nlet self = _____WB$wombat$assign$function_____(\"self\");\\nlet document = _____WB$wombat$assign$function_____(\"document\");\\nlet location = _____WB$wombat$assign$function_____(\"location\");\\nlet top = _____WB$wombat$assign$function_____(\"top\");\\nlet parent = _____WB$wombat$assign$function_____(\"parent\");\\nlet frames = _____WB$wombat$assign$function_____(\"frames\");\\nlet opener = _____WB$wombat$assign$function_____(\"opener\");\\nlet arguments;\\n\\n{var click_object={\"ajax_url\":\"https:\\\\/\\\\/www.noticiasdacovilha.pt\\\\/wp-admin\\\\/admin-ajax.php\"};\\n\\n}}</script> <script src=\"https://arquivo.pt/noFrame/replay/20200110181245js_/https://www.noticiasdacovilha.pt/wp-content/cache/minify/62f35.js\"></script> <script>\\nvar _____WB$wombat$assign$function_____ = function(name) {return (self._wb_wombat && self._wb_wombat.local_init && self._wb_wombat.local_init(name)) || self[name]; };\\nif (!self.__WB_pmw) { self.__WB_pmw = function(obj) { this.__WB_source = obj; return this; } }\\n{\\nlet window = _____WB$wombat$assign$function_____(\"window\");\\nlet self = _____WB$wombat$assign$function_____(\"self\");\\nlet document = _____WB$wombat$assign$function_____(\"document\");\\nlet location = _____WB$wombat$assign$function_____(\"location\");\\nlet top = _____WB$wombat$assign$function_____(\"top\");\\nlet parent = _____WB$wombat$assign$function_____(\"parent\");\\nlet frames = _____WB$wombat$assign$function_____(\"frames\");\\nlet opener = _____WB$wombat$assign$function_____(\"opener\");\\nlet arguments;\\n\\n{var wpcf7={\"apiSettings\":{\"root\":\"https:\\\\/\\\\/www.noticiasdacovilha.pt\\\\/wp-json\\\\/contact-form-7\\\\/v1\",\"namespace\":\"contact-form-7\\\\/v1\"},\"cached\":\"1\"};\\n\\n}}</script> <script src=\"https://arquivo.pt/noFrame/replay/20200110181245js_/https://www.noticiasdacovilha.pt/wp-content/cache/minify/0fef6.js\"></script> <script defer=\"defer\" src=\"https://arquivo.pt/noFrame/replay/20200110181245js_/https://s0.wp.com/wp-content/js/devicepx-jetpack.js?ver=202002\"></script> <script src=\"https://arquivo.pt/noFrame/replay/20200110181245js_/https://www.noticiasdacovilha.pt/wp-content/cache/minify/f75a2.js\"></script> <script>\\nvar _____WB$wombat$assign$function_____ = function(name) {return (self._wb_wombat && self._wb_wombat.local_init && self._wb_wombat.local_init(name)) || self[name]; };\\nif (!self.__WB_pmw) { self.__WB_pmw = function(obj) { this.__WB_source = obj; return this; } }\\n{\\nlet window = _____WB$wombat$assign$function_____(\"window\");\\nlet self = _____WB$wombat$assign$function_____(\"self\");\\nlet document = _____WB$wombat$assign$function_____(\"document\");\\nlet location = _____WB$wombat$assign$function_____(\"location\");\\nlet top = _____WB$wombat$assign$function_____(\"top\");\\nlet parent = _____WB$wombat$assign$function_____(\"parent\");\\nlet frames = _____WB$wombat$assign$function_____(\"frames\");\\nlet opener = _____WB$wombat$assign$function_____(\"opener\");\\nlet arguments;\\n\\n{var pollsL10n={\"ajax_url\":\"https:\\\\/\\\\/www.noticiasdacovilha.pt\\\\/wp-admin\\\\/admin-ajax.php\",\"text_wait\":\"Your last request is still being processed. Please wait a while ...\",\"text_valid\":\"Please choose a valid poll answer.\",\"text_multiple\":\"Maximum number of choices allowed: \",\"show_loading\":\"1\",\"show_fading\":\"1\"};\\n\\n}}</script> <script src=\"https://arquivo.pt/noFrame/replay/20200110181245js_/https://www.noticiasdacovilha.pt/wp-content/cache/minify/445eb.js\"></script> <script defer=\"defer\" src=\"https://arquivo.pt/noFrame/replay/20200110181245js_/https://c0.wp.com/c/5.2.5/wp-includes/js/jquery/ui/widget.min.js\"></script> <script defer=\"defer\" src=\"https://arquivo.pt/noFrame/replay/20200110181245js_/https://c0.wp.com/c/5.2.5/wp-includes/js/jquery/ui/core.min.js\"></script> <script defer=\"defer\" src=\"https://arquivo.pt/noFrame/replay/20200110181245js_/https://c0.wp.com/c/5.2.5/wp-includes/js/jquery/ui/tabs.min.js\"></script> <script defer=\"defer\" src=\"https://arquivo.pt/noFrame/replay/20200110181245js_/https://c0.wp.com/c/5.2.5/wp-includes/js/jquery/ui/accordion.min.js\"></script> <script defer=\"defer\" src=\"https://arquivo.pt/noFrame/replay/20200110181245js_/https://c0.wp.com/c/5.2.5/wp-includes/js/imagesloaded.min.js\"></script> <script defer=\"defer\" src=\"https://arquivo.pt/noFrame/replay/20200110181245js_/https://c0.wp.com/c/5.2.5/wp-includes/js/masonry.min.js\"></script> <script defer=\"defer\" src=\"https://arquivo.pt/noFrame/replay/20200110181245js_/https://c0.wp.com/c/5.2.5/wp-includes/js/jquery/jquery.masonry.min.js\"></script> <script defer=\"defer\" src=\"https://arquivo.pt/noFrame/replay/20200110181245js_/https://c0.wp.com/c/5.2.5/wp-includes/js/comment-reply.min.js\"></script> <script src=\"https://arquivo.pt/noFrame/replay/20200110181245js_/https://www.noticiasdacovilha.pt/wp-content/cache/minify/a53dc.js\"></script> <script>\\nvar _____WB$wombat$assign$function_____ = function(name) {return (self._wb_wombat && self._wb_wombat.local_init && self._wb_wombat.local_init(name)) || self[name]; };\\nif (!self.__WB_pmw) { self.__WB_pmw = function(obj) { this.__WB_source = obj; return this; } }\\n{\\nlet window = _____WB$wombat$assign$function_____(\"window\");\\nlet self = _____WB$wombat$assign$function_____(\"self\");\\nlet document = _____WB$wombat$assign$function_____(\"document\");\\nlet location = _____WB$wombat$assign$function_____(\"location\");\\nlet top = _____WB$wombat$assign$function_____(\"top\");\\nlet parent = _____WB$wombat$assign$function_____(\"parent\");\\nlet frames = _____WB$wombat$assign$function_____(\"frames\");\\nlet opener = _____WB$wombat$assign$function_____(\"opener\");\\nlet arguments;\\n\\n{var ajax_c={\"tickerid\":\"ticker-5e18b86ce8be5\",\"tickertitle\":\"\\\\u00daltimas\",\"mega-76\":{\"offset\":0},\"megamenu\":{\"76\":{\"content\":\"\",\"cat-link\":\"https:\\\\/\\\\/www.noticiasdacovilha.pt\\\\/category\\\\/covilha\\\\/\"},\"77\":{\"content\":\"\",\"cat-link\":\"https:\\\\/\\\\/www.noticiasdacovilha.pt\\\\/category\\\\/belmonte\\\\/\"},\"79\":{\"content\":\"\",\"cat-link\":\"https:\\\\/\\\\/www.noticiasdacovilha.pt\\\\/category\\\\/regiao\\\\/\"},\"7\":{\"content\":\"\",\"cat-link\":\"https:\\\\/\\\\/www.noticiasdacovilha.pt\\\\/category\\\\/desporto\\\\/\"},\"5\":{\"content\":\"\",\"cat-link\":\"https:\\\\/\\\\/www.noticiasdacovilha.pt\\\\/category\\\\/cultura\\\\/\"},\"6\":{\"content\":\"\",\"cat-link\":\"https:\\\\/\\\\/www.noticiasdacovilha.pt\\\\/category\\\\/religiao\\\\/\"},\"80\":{\"content\":\"\",\"cat-link\":\"https:\\\\/\\\\/www.noticiasdacovilha.pt\\\\/category\\\\/opiniao\\\\/\"},\"81\":{\"content\":\"\",\"cat-link\":\"https:\\\\/\\\\/www.noticiasdacovilha.pt\\\\/category\\\\/editorial\\\\/\"},\"82\":{\"content\":\"\",\"cat-link\":\"https:\\\\/\\\\/www.noticiasdacovilha.pt\\\\/category\\\\/multimedia\\\\/\"}},\"mega-77\":{\"offset\":0},\"mega-79\":{\"offset\":0},\"mega-7\":{\"offset\":0},\"mega-5\":{\"offset\":0},\"mega-6\":{\"offset\":0},\"mega-80\":{\"offset\":0},\"mega-81\":{\"offset\":0},\"mega-82\":{\"offset\":0},\"s-cat-IDs\":[8,2,9,76,7,84,79],\"s-related-article-tab\":{\"content\":\"\"},\"s-more-from-author-tab\":{\"content\":\"\"},\"s-more-from-category-tab\":{\"content\":\"\"},\"current_author\":\"4\",\"s-related-articles\":{\"offset\":0,\"entries\":\"3\",\"next\":0,\"prev\":1,\"args\":{\"posts_per_page\":\"3\",\"post__not_in\":[3487],\"post_status\":\"publish\",\"post_type\":\"post\",\"ignore_sticky_posts\":1,\"tax_query\":{\"relation\":\"OR\",\"0\":{\"taxonomy\":\"category\",\"field\":\"term_id\",\"terms\":[8,2,9,76,7,84,79],\"include_children\":false},\"1\":{\"taxonomy\":\"post_tag\",\"field\":\"term_id\",\"terms\":[128,87,101,546,161,406,682,174,159]}}}},\"s-author-articles\":{\"offset\":0,\"entries\":\"3\",\"next\":0,\"prev\":1,\"args\":{\"posts_per_page\":\"3\",\"post__not_in\":[3487],\"post_status\":\"publish\",\"post_type\":\"post\",\"ignore_sticky_posts\":1,\"author\":\"4\"}},\"s-category-articles\":{\"offset\":0,\"entries\":\"3\",\"next\":0,\"prev\":1,\"args\":{\"posts_per_page\":\"3\",\"post__not_in\":[3487],\"post_status\":\"publish\",\"post_type\":\"post\",\"ignore_sticky_posts\":1,\"category__in\":[8,2,9,76,7,84,79]}},\"latest_1-5e18b86d298e5\":{\"args\":{\"post_status\":\"publish\",\"ignore_sticky_posts\":1,\"post_type\":\"post\",\"orderby\":\"date\",\"posts_per_page\":4,\"cat\":\"all\",\"offset\":0},\"offset\":0,\"entries\":4,\"next\":0,\"prev\":0},\"latest_6-5e18b86d300d9\":{\"args\":{\"post_status\":\"publish\",\"ignore_sticky_posts\":1,\"post_type\":\"post\",\"orderby\":\"meta_value_num\",\"posts_per_page\":4,\"cat\":\"all\",\"offset\":0,\"meta_key\":\"post_views_count\",\"order\":\"DESC\"},\"offset\":0,\"entries\":4,\"next\":0,\"prev\":0}};\\n\\n}}</script> <script src=\"https://arquivo.pt/noFrame/replay/20200110181245js_/https://www.noticiasdacovilha.pt/wp-content/cache/minify/44beb.js\"></script> <script>\\nvar _____WB$wombat$assign$function_____ = function(name) {return (self._wb_wombat && self._wb_wombat.local_init && self._wb_wombat.local_init(name)) || self[name]; };\\nif (!self.__WB_pmw) { self.__WB_pmw = function(obj) { this.__WB_source = obj; return this; } }\\n{\\nlet window = _____WB$wombat$assign$function_____(\"window\");\\nlet self = _____WB$wombat$assign$function_____(\"self\");\\nlet document = _____WB$wombat$assign$function_____(\"document\");\\nlet location = _____WB$wombat$assign$function_____(\"location\");\\nlet top = _____WB$wombat$assign$function_____(\"top\");\\nlet parent = _____WB$wombat$assign$function_____(\"parent\");\\nlet frames = _____WB$wombat$assign$function_____(\"frames\");\\nlet opener = _____WB$wombat$assign$function_____(\"opener\");\\nlet arguments;\\n\\n{/*<![CDATA[*/var fixed_nav=\"2\";var rubik_instagram_col=[\"7\"];var rubik_tabs_more=\"<div class=\\\\\"bk-tabs-dropdown\\\\\"><div class=\\\\\"bk-tabs-more\\\\\"><span>Mais<\\\\/span><i class=\\\\\"fa fa-caret-down\\\\\" aria-hidden=\\\\\"true\\\\\"><\\\\/i><\\\\/div><div class=\\\\\"bk-tabs-pull-list clearfix\\\\\"><\\\\/div><\\\\/div>\";var justified_ids=[];/*]]>*/\\n\\n}}</script> <script src=\"https://arquivo.pt/noFrame/replay/20200110181245js_/https://www.noticiasdacovilha.pt/wp-content/cache/minify/cc7bb.js\"></script> <script>\\nvar _____WB$wombat$assign$function_____ = function(name) {return (self._wb_wombat && self._wb_wombat.local_init && self._wb_wombat.local_init(name)) || self[name]; };\\nif (!self.__WB_pmw) { self.__WB_pmw = function(obj) { this.__WB_source = obj; return this; } }\\n{\\nlet window = _____WB$wombat$assign$function_____(\"window\");\\nlet self = _____WB$wombat$assign$function_____(\"self\");\\nlet document = _____WB$wombat$assign$function_____(\"document\");\\nlet location = _____WB$wombat$assign$function_____(\"location\");\\nlet top = _____WB$wombat$assign$function_____(\"top\");\\nlet parent = _____WB$wombat$assign$function_____(\"parent\");\\nlet frames = _____WB$wombat$assign$function_____(\"frames\");\\nlet opener = _____WB$wombat$assign$function_____(\"opener\");\\nlet arguments;\\n\\n{var newsletter={\"messages\":{\"email_error\":\"Email inv\\\\u00e1lido\",\"name_error\":\"O Nome \\\\u00e9 obrigat\\\\u00f3rio\",\"surname_error\":\"\",\"profile_error\":\"\",\"privacy_error\":\"You must accept the privacy policy\"},\"profile_max\":\"20\"};\\n\\n}}</script> <script src=\"https://arquivo.pt/noFrame/replay/20200110181245js_/https://www.noticiasdacovilha.pt/wp-content/cache/minify/dc9a3.js\"></script> <script defer=\"defer\" src=\"https://arquivo.pt/noFrame/replay/20200110181245js_/https://c0.wp.com/c/5.2.5/wp-includes/js/wp-embed.min.js\"></script> <script src=\"https://arquivo.pt/noFrame/replay/20200110181245js_/https://stats.wp.com/e-202002.js\" async=\"async\" defer=\"defer\"></script> <script>\\nvar _____WB$wombat$assign$function_____ = function(name) {return (self._wb_wombat && self._wb_wombat.local_init && self._wb_wombat.local_init(name)) || self[name]; };\\nif (!self.__WB_pmw) { self.__WB_pmw = function(obj) { this.__WB_source = obj; return this; } }\\n{\\nlet window = _____WB$wombat$assign$function_____(\"window\");\\nlet self = _____WB$wombat$assign$function_____(\"self\");\\nlet document = _____WB$wombat$assign$function_____(\"document\");\\nlet location = _____WB$wombat$assign$function_____(\"location\");\\nlet top = _____WB$wombat$assign$function_____(\"top\");\\nlet parent = _____WB$wombat$assign$function_____(\"parent\");\\nlet frames = _____WB$wombat$assign$function_____(\"frames\");\\nlet opener = _____WB$wombat$assign$function_____(\"opener\");\\nlet arguments;\\n\\n{_stq=window._stq||[];_stq.push([\\'view\\',{v:\\'ext\\',j:\\'1:8.0\\',blog:\\'162553212\\',post:\\'3487\\',tz:\\'0\\',srv:\\'www.noticiasdacovilha.pt\\'}]);_stq.push([\\'clickTrackerInit\\',\\'162553212\\',\\'3487\\']);\\n\\n}}</script> <script>\\nvar _____WB$wombat$assign$function_____ = function(name) {return (self._wb_wombat && self._wb_wombat.local_init && self._wb_wombat.local_init(name)) || self[name]; };\\nif (!self.__WB_pmw) { self.__WB_pmw = function(obj) { this.__WB_source = obj; return this; } }\\n{\\nlet window = _____WB$wombat$assign$function_____(\"window\");\\nlet self = _____WB$wombat$assign$function_____(\"self\");\\nlet document = _____WB$wombat$assign$function_____(\"document\");\\nlet location = _____WB$wombat$assign$function_____(\"location\");\\nlet top = _____WB$wombat$assign$function_____(\"top\");\\nlet parent = _____WB$wombat$assign$function_____(\"parent\");\\nlet frames = _____WB$wombat$assign$function_____(\"frames\");\\nlet opener = _____WB$wombat$assign$function_____(\"opener\");\\nlet arguments;\\n\\n{var MyJSStringVar=\\'<style media=all>.module-title h2, .module-title .bk-tabs,.bk-tabs-more{line-height:40px !important}.footer .widget-title\\nh3{line-height:40px !important}.sidebar-wrap .widget-title\\nh3{line-height:40px !important}.bkmodule .post-c-wrap .title,h4.title{opacity:1}</style>\\';jQuery(document).ready(function($){jQuery(\\'head\\').append(MyJSStringVar);});\\n\\n}}</script> </body></html>'"
      ]
     },
     "execution_count": 3,
     "metadata": {},
     "output_type": "execute_result"
    }
   ],
   "source": [
    "article.download()\n",
    "article.html"
   ]
  },
  {
   "cell_type": "markdown",
   "metadata": {},
   "source": [
    "O próximo código permite fazer um parse ao artigo e extrair informação sobre os autores, título e data de publicação."
   ]
  },
  {
   "cell_type": "code",
   "execution_count": null,
   "metadata": {},
   "outputs": [],
   "source": [
    "import json\n",
    "try:\n",
    "    article.parse()\n",
    "except Exception as e:\n",
    "    if \"404\" in str(e):\n",
    "        print({'message1': str(e)})"
   ]
  },
  {
   "cell_type": "code",
   "execution_count": null,
   "metadata": {},
   "outputs": [],
   "source": [
    "article.authors"
   ]
  },
  {
   "cell_type": "code",
   "execution_count": null,
   "metadata": {},
   "outputs": [],
   "source": [
    "article.title"
   ]
  },
  {
   "cell_type": "code",
   "execution_count": null,
   "metadata": {},
   "outputs": [],
   "source": [
    "article.publish_date"
   ]
  },
  {
   "cell_type": "markdown",
   "metadata": {},
   "source": [
    "Adicionalmente podemos ter acesso ao texto:"
   ]
  },
  {
   "cell_type": "code",
   "execution_count": null,
   "metadata": {},
   "outputs": [],
   "source": [
    "article.text"
   ]
  },
  {
   "cell_type": "markdown",
   "metadata": {},
   "source": [
    "Bem como acesso a algumas keywords e ao sumário."
   ]
  },
  {
   "cell_type": "markdown",
   "metadata": {},
   "source": [
    "Na eventualidade de não ter o `NLTK` instalado deverá proceder à sua instalação e à execução do seguinte código:"
   ]
  },
  {
   "cell_type": "markdown",
   "metadata": {},
   "source": [
    "```python\n",
    "!pip install nltk\n",
    "import nltk\n",
    "nltk.download('punkt')\n",
    "```"
   ]
  },
  {
   "cell_type": "code",
   "execution_count": null,
   "metadata": {},
   "outputs": [],
   "source": [
    "article.nlp()"
   ]
  },
  {
   "cell_type": "code",
   "execution_count": null,
   "metadata": {},
   "outputs": [],
   "source": [
    "article.keywords"
   ]
  },
  {
   "cell_type": "code",
   "execution_count": null,
   "metadata": {},
   "outputs": [],
   "source": [
    "article.summary"
   ]
  },
  {
   "cell_type": "markdown",
   "metadata": {},
   "source": [
    "<hr>"
   ]
  },
  {
   "cell_type": "markdown",
   "metadata": {},
   "source": [
    "## JusText"
   ]
  },
  {
   "cell_type": "markdown",
   "metadata": {},
   "source": [
    "[jusText](https://github.com/miso-belica/jusText) is a tool for removing boilerplate content, such as navigation links, headers, and footers from HTML pages. It is designed to preserve mainly text containing full sentences and it is therefore well suited for creating linguistic resources such as Web corpora. Online demo: https://nlp.fi.muni.cz/projects/justext/"
   ]
  },
  {
   "cell_type": "code",
   "execution_count": null,
   "metadata": {},
   "outputs": [],
   "source": [
    "!pip install justext"
   ]
  },
  {
   "cell_type": "code",
   "execution_count": null,
   "metadata": {},
   "outputs": [],
   "source": [
    "import requests\n",
    "import justext\n",
    "\n",
    "#url = \"http://planet.python.org/\"\n",
    "#url = \"https://arquivo.pt/noFrame/replay/20100326190237/http://www.publico.pt/Pol%C3%ADtica/passos-coelho-ganha-em-macau_1429610\"\n",
    "#url = \"https://arquivo.pt/noFrame/replay/20091218122806/http://www.noticiasdacovilha.pt/pt/artigos/show/scripts/core.htm?p=artigos&f=show&lang=pt&pag=1&area=1&idseccao=1&idartigo=440\"\n",
    "#url = \"https://arquivo.pt/noFrame/replay/20101129034557/http://www.noticiasdacovilha.pt/pt/artigos/show/scripts/core.htm?p=artigos&f=show&lang=pt&pag=5&area=1&idseccao=1&idartigo=763\"\n",
    "url = \"https://arquivo.pt/noFrame/replay/20200110180847/https://www.noticiasdacovilha.pt/covilhanense-nos-jogos-olimpicos-da-juventude-de-inverno/\"\n",
    "#url = \"https://arquivo.pt/noFrame/replay/20100326190237/http://www.publico.pt/Pol%C3%ADtica/passos-coelho-ganha-em-macau_1429610\"\n",
    "\n",
    "response = requests.get(url)\n",
    "paragraphs = justext.justext(response.content, justext.get_stoplist(\"Portuguese\"))\n",
    "for paragraph in paragraphs:\n",
    "    if not paragraph.is_boilerplate:\n",
    "        print (paragraph.text)"
   ]
  },
  {
   "cell_type": "markdown",
   "metadata": {
    "slideshow": {
     "slide_type": "slide"
    }
   },
   "source": [
    "## Wikipedia"
   ]
  },
  {
   "cell_type": "markdown",
   "metadata": {},
   "source": [
    "Para aceder aos dados da Wikipedia comece por instalar o package [wikipedia](https://pypi.org/project/wikipedia/)."
   ]
  },
  {
   "cell_type": "code",
   "execution_count": null,
   "metadata": {},
   "outputs": [],
   "source": [
    "!pip install wikipedia"
   ]
  },
  {
   "cell_type": "markdown",
   "metadata": {},
   "source": [
    "A importação da biblioteca dá-se a partir do seguinte código:"
   ]
  },
  {
   "cell_type": "code",
   "execution_count": null,
   "metadata": {},
   "outputs": [],
   "source": [
    "import wikipedia"
   ]
  },
  {
   "cell_type": "markdown",
   "metadata": {},
   "source": [
    "### Languages Supported"
   ]
  },
  {
   "cell_type": "markdown",
   "metadata": {},
   "source": [
    "Para ter acesso às linguas suportadas pela wikipedia execute o seguinte código."
   ]
  },
  {
   "cell_type": "code",
   "execution_count": null,
   "metadata": {},
   "outputs": [],
   "source": [
    "wikipedia.languages()"
   ]
  },
  {
   "cell_type": "markdown",
   "metadata": {},
   "source": [
    "Se pretender obter resultados a partir do domínio PT execute o seguinte código:"
   ]
  },
  {
   "cell_type": "code",
   "execution_count": null,
   "metadata": {},
   "outputs": [],
   "source": [
    "wikipedia.set_lang(\"pt\")"
   ]
  },
  {
   "cell_type": "markdown",
   "metadata": {},
   "source": [
    "### Search"
   ]
  },
  {
   "cell_type": "markdown",
   "metadata": {},
   "source": [
    "Tal como o Google, a Wikipedia também tem o seu próprio motor de busca que permite uma pesquisa sob a enorme quantidade de artigos aí armazenados. O método `search`, em concreto, recebe uma pesquisa como input, retornando, em resposta, o conjunto de pesquisas relacionadas com o tópico mais habitualmente efetuadas. Naturalmente, os resultados devolvidos variam ao longo do tempo."
   ]
  },
  {
   "cell_type": "code",
   "execution_count": null,
   "metadata": {},
   "outputs": [],
   "source": [
    "print(wikipedia.search(\"covid-19\"))"
   ]
  },
  {
   "cell_type": "markdown",
   "metadata": {},
   "source": [
    "### Text Extraction"
   ]
  },
  {
   "cell_type": "markdown",
   "metadata": {},
   "source": [
    "#### Summary"
   ]
  },
  {
   "cell_type": "markdown",
   "metadata": {},
   "source": [
    "Para obter um sumário de uma dada página use o método `summary`."
   ]
  },
  {
   "cell_type": "code",
   "execution_count": null,
   "metadata": {},
   "outputs": [],
   "source": [
    "summary = wikipedia.summary(\"covid-19\")\n",
    "summary"
   ]
  },
  {
   "cell_type": "markdown",
   "metadata": {},
   "source": [
    "#### Page"
   ]
  },
  {
   "cell_type": "markdown",
   "metadata": {},
   "source": [
    "Para para fazer um parse dos vários elementos da página (title, url, etc) comece por executar o método `page`."
   ]
  },
  {
   "cell_type": "code",
   "execution_count": null,
   "metadata": {},
   "outputs": [],
   "source": [
    "covid = wikipedia.page(\"covid-19\")"
   ]
  },
  {
   "cell_type": "markdown",
   "metadata": {},
   "source": [
    "##### Title"
   ]
  },
  {
   "cell_type": "code",
   "execution_count": null,
   "metadata": {},
   "outputs": [],
   "source": [
    "print(covid.title)"
   ]
  },
  {
   "cell_type": "markdown",
   "metadata": {},
   "source": [
    "##### URL"
   ]
  },
  {
   "cell_type": "code",
   "execution_count": null,
   "metadata": {},
   "outputs": [],
   "source": [
    "print(covid.url)"
   ]
  },
  {
   "cell_type": "markdown",
   "metadata": {},
   "source": [
    "##### Content"
   ]
  },
  {
   "cell_type": "code",
   "execution_count": null,
   "metadata": {},
   "outputs": [],
   "source": [
    "content = covid.content\n",
    "content"
   ]
  },
  {
   "cell_type": "markdown",
   "metadata": {},
   "source": [
    "##### Image Links"
   ]
  },
  {
   "cell_type": "code",
   "execution_count": null,
   "metadata": {},
   "outputs": [],
   "source": [
    "print(covid.images)"
   ]
  },
  {
   "cell_type": "markdown",
   "metadata": {},
   "source": [
    "Recorra ao `urllib` para guardar no seu computador todas as imagens cujo url consta da lista anterior."
   ]
  },
  {
   "cell_type": "markdown",
   "metadata": {},
   "source": [
    "Clique duas vezes <b>aqui</b> para aceder à solução completa\n",
    "<!--\n",
    "import urllib\n",
    "import time\n",
    "from random import randint\n",
    "\n",
    "for i in range(0, len(covid.images)):\n",
    "    url = covid.images[i]\n",
    "    print(url)\n",
    "    time.sleep(randint(0,5))\n",
    "    urllib.request.urlretrieve (url, f'data/covid-{i}.jpg')  \n",
    "-->"
   ]
  },
  {
   "cell_type": "code",
   "execution_count": null,
   "metadata": {},
   "outputs": [],
   "source": [
    "#insira o seu código aqui"
   ]
  },
  {
   "cell_type": "markdown",
   "metadata": {},
   "source": [
    "##### Wikipedia Links"
   ]
  },
  {
   "cell_type": "markdown",
   "metadata": {},
   "source": [
    "Para ter acesso aos labels dos links que apontam para outras páginas wikipedia execute o seguinte código:"
   ]
  },
  {
   "cell_type": "code",
   "execution_count": null,
   "metadata": {},
   "outputs": [],
   "source": [
    "print(covid.links)"
   ]
  },
  {
   "cell_type": "markdown",
   "metadata": {},
   "source": [
    "##### Categories"
   ]
  },
  {
   "cell_type": "code",
   "execution_count": null,
   "metadata": {},
   "outputs": [],
   "source": [
    "print(covid.categories)"
   ]
  },
  {
   "cell_type": "markdown",
   "metadata": {},
   "source": [
    "#### wiki_page function"
   ]
  },
  {
   "cell_type": "code",
   "execution_count": null,
   "metadata": {},
   "outputs": [],
   "source": [
    "import wikipedia\n",
    "\n",
    "def wiki_page(page_name):\n",
    "    \n",
    "    wiki = wikipedia.page(page_name)\n",
    "    \n",
    "    title = wiki.title\n",
    "    content = wiki.content\n",
    "    summary = wiki.summary\n",
    "    url = wiki.url\n",
    "    categories = wiki.categories\n",
    "    wiki_links = wiki.links\n",
    "    \n",
    "    return title, content, summary, url, categories, wiki_links"
   ]
  },
  {
   "cell_type": "code",
   "execution_count": null,
   "metadata": {},
   "outputs": [],
   "source": [
    "title, content, summary, url, categories, wiki_links = wiki_page(\"covid-19\")\n",
    "\n",
    "print(summary)"
   ]
  },
  {
   "cell_type": "markdown",
   "metadata": {},
   "source": [
    "<hr>"
   ]
  },
  {
   "cell_type": "markdown",
   "metadata": {},
   "source": [
    "#### wiki_scraping"
   ]
  },
  {
   "cell_type": "markdown",
   "metadata": {},
   "source": [
    "O código seguinte define a função `wiki_scraping` que, dada uma página da wikipedia, deverá devolver uma lista onde cada posição é ocupada com um dicionário que guarda os títulos, conteúdos, sumário, url, categorias e links de todas as páginas wikipedia referidas na página dada como input. Posteriormente essa lista será usada para alimentar um dataframe. Uma vez que as páginas wikipedia podem ter múltiplas referências a outras tantas páginas wikipedia, possibilitamos ao utilizador a definição do número de links que pretende obter (`num_links`)."
   ]
  },
  {
   "cell_type": "code",
   "execution_count": null,
   "metadata": {},
   "outputs": [],
   "source": [
    "import wikipedia\n",
    "\n",
    "def wiki_page(page_name):\n",
    "    try:\n",
    "        wiki = wikipedia.page(page_name)       \n",
    "        data = {'title': wiki.title, 'content': wiki.content, 'summary': wiki.summary, 'url': wiki.url, 'categories': wiki.categories,  'wiki_links':  wiki.links}\n",
    "\n",
    "        return data\n",
    "    except:\n",
    "        return []\n",
    "    \n",
    "def wiki_scraping(page_name, num_links):\n",
    "    data = []\n",
    "    \n",
    "    wiki_data = wiki_page(page_name)\n",
    "    if len(wiki_data) == 0: #se a pag principal não existir o processo termina\n",
    "        return\n",
    "    \n",
    "    data.append(wiki_data)\n",
    "    \n",
    "    wiki_links = wiki_data['wiki_links']\n",
    "    min_num_links = min(len(wiki_links),num_links)\n",
    "\n",
    "    for j in range(len(wiki_links[:min_num_links])):\n",
    "        wiki_data = wiki_page(wiki_links[j])\n",
    "        if len(wiki_data) > 0: #Apenas adiciona à lista se a pag wikipedia existir\n",
    "            data.append(wiki_data)\n",
    "\n",
    "        if j % 1 == 0:\n",
    "            print(f\"\\r{100*j/len(wiki_links[:min_num_links]):.2f}%\", end='')\n",
    "    \n",
    "    return data"
   ]
  },
  {
   "cell_type": "markdown",
   "metadata": {},
   "source": [
    "O código seguinte invoca a função `wiki_scraping` solicitando a obtenção de 20 páginas wikipedia relacionadas para o assunto dado como input."
   ]
  },
  {
   "cell_type": "code",
   "execution_count": null,
   "metadata": {},
   "outputs": [],
   "source": [
    "data = wiki_scraping(\"covid-19\", 20)"
   ]
  },
  {
   "cell_type": "markdown",
   "metadata": {},
   "source": [
    "Como pôde observar o código é relativamento lento a executar. Para contornar o problema recorremos ao processamento [paralelo](https://analyticsindiamag.com/run-python-code-in-parallel-using-multiprocessing/) do código:"
   ]
  },
  {
   "cell_type": "code",
   "execution_count": null,
   "metadata": {},
   "outputs": [],
   "source": [
    "import wikipedia\n",
    "import concurrent.futures\n",
    "\n",
    "def wiki_page(page_name):\n",
    "    try:\n",
    "        wiki = wikipedia.page(page_name)       \n",
    "        data = {'title': wiki.title, 'content': wiki.content, 'summary': wiki.summary, 'url': wiki.url, 'categories': wiki.categories,  'wiki_links':  wiki.links}\n",
    "\n",
    "        return data\n",
    "    except:\n",
    "        return []\n",
    "    \n",
    "def wiki_scraping(page_name, num_links):\n",
    "    data = []\n",
    "    \n",
    "    wiki_data = wiki_page(page_name)  \n",
    "    if len(wiki_data) == 0: #se a pag principal não existir o processo termina\n",
    "        return\n",
    "    data.append(wiki_data)\n",
    "    \n",
    "    wiki_links = wiki_data['wiki_links']\n",
    "    min_num_links = min(len(wiki_links),num_links)\n",
    "    \n",
    "    j = 1\n",
    "    with concurrent.futures.ThreadPoolExecutor(max_workers=5) as executor:\n",
    "        future_link = {executor.submit(wiki_page, link): link for link in wiki_links[:min_num_links]}\n",
    "        for future in concurrent.futures.as_completed(future_link):\n",
    "            if j % 1 == 0:\n",
    "                print(f\"\\r{100*j/len(wiki_links[:min_num_links]):.2f}%\", end='')\n",
    "                j += 1\n",
    "            \n",
    "            if len(future.result()) > 0:\n",
    "                data.append(future.result()) if data else None\n",
    "\n",
    "    return data"
   ]
  },
  {
   "cell_type": "markdown",
   "metadata": {},
   "source": [
    "O código seguinte invoca a função `wiki_scraping` solicitando a devolução de 20 páginas wikipedia mencionadas no tópico dado como entrada. Observe que a execução é claramente mais rápida."
   ]
  },
  {
   "cell_type": "code",
   "execution_count": null,
   "metadata": {},
   "outputs": [],
   "source": [
    "data = wiki_scraping(\"covid-19\", 20)"
   ]
  },
  {
   "cell_type": "markdown",
   "metadata": {},
   "source": [
    "Podemos agora construir um dataframe:"
   ]
  },
  {
   "cell_type": "code",
   "execution_count": null,
   "metadata": {},
   "outputs": [],
   "source": [
    "import pandas as pd\n",
    "\n",
    "df = pd.DataFrame(data)\n",
    "df"
   ]
  },
  {
   "cell_type": "markdown",
   "metadata": {},
   "source": [
    "<hr>"
   ]
  },
  {
   "cell_type": "markdown",
   "metadata": {},
   "source": [
    "## Google"
   ]
  },
  {
   "cell_type": "markdown",
   "metadata": {},
   "source": [
    "### Search Results"
   ]
  },
  {
   "cell_type": "markdown",
   "metadata": {},
   "source": [
    "#### googlesearch package"
   ]
  },
  {
   "cell_type": "markdown",
   "metadata": {},
   "source": [
    "Para executar o seguinte código necessita do package [google-search](https://pypi.org/project/google-search/)."
   ]
  },
  {
   "cell_type": "code",
   "execution_count": null,
   "metadata": {},
   "outputs": [],
   "source": [
    "!pip install git+https://github.com/MarioVilas/googlesearch"
   ]
  },
  {
   "cell_type": "code",
   "execution_count": null,
   "metadata": {},
   "outputs": [],
   "source": [
    "from googlesearch import search\n",
    "import justext\n",
    "import requests\n",
    "\n",
    "def get_text(url):\n",
    "    text = \"\"\n",
    "    response = requests.get(url)\n",
    "    paragraphs = justext.justext(response.content, justext.get_stoplist(\"Portuguese\"))\n",
    "    for paragraph in paragraphs:\n",
    "        if not paragraph.is_boilerplate:\n",
    "            text += paragraph.text\n",
    "    \n",
    "    return text\n",
    "\n",
    "query = \"marcelo rebelo de sousa\"\n",
    "my_results_list = []\n",
    "for url in search(query,        # The query you want to run\n",
    "                tld = 'pt',  # The top level domain\n",
    "                lang = 'pt',  # The language\n",
    "                num = 10,     # Number of results per page\n",
    "                start = 0,    # First result to retrieve\n",
    "                stop = 10,  # Last result to retrieve\n",
    "                pause = 2.0,  # Lapse between HTTP requests\n",
    "               ):    \n",
    "    \n",
    "    content = get_text(url)\n",
    "    my_results_list.append({'fullContent': content, 'url':url})\n",
    "    print(f\"URL = {url}\")\n",
    "    \n",
    "len(my_results_list)"
   ]
  },
  {
   "cell_type": "code",
   "execution_count": null,
   "metadata": {},
   "outputs": [],
   "source": [
    "import pandas as pd\n",
    "pd.DataFrame(my_results_list)"
   ]
  },
  {
   "cell_type": "markdown",
   "metadata": {},
   "source": [
    "#### googleapiclient package"
   ]
  },
  {
   "cell_type": "markdown",
   "metadata": {},
   "source": [
    "O código seguinte permite-nos ter acesso aos resultados do Google dada uma query. Com vista a esse objetivo vamos usar o Custom Search JSON API."
   ]
  },
  {
   "cell_type": "markdown",
   "metadata": {},
   "source": [
    "Custom Search JSON API provides 100 search queries per day for free. If you need more, you may sign up for [billing](https://support.google.com/cloud#topic=3340599) in the API Console. Additional requests cost $5 per 1000 queries, up to 10k queries per day.\n",
    "\n",
    "If you need more than 10k queries per day and your Custom Search Engine searches 10 sites or fewer, you may be interested in the [Custom Search Site Restricted JSON API](https://developers.google.com/custom-search/v1/site_restricted_api), which does not have a daily query limit."
   ]
  },
  {
   "cell_type": "markdown",
   "metadata": {},
   "source": [
    "A primeira coisa a fazer é proceder à instalação do seguinte package."
   ]
  },
  {
   "cell_type": "code",
   "execution_count": null,
   "metadata": {},
   "outputs": [],
   "source": [
    "!pip install google-api-python-client"
   ]
  },
  {
   "cell_type": "markdown",
   "metadata": {},
   "source": [
    "De seguida é necessário criar a:\n",
    "- [Google Api Key](https://console.developers.google.com)\n",
    "- [Google Custom Search Engine ID](https://cse.google.com/cse)"
   ]
  },
  {
   "cell_type": "markdown",
   "metadata": {},
   "source": [
    "Veja o seguinte vídeo para mais detalhes acerca da criação das keys:"
   ]
  },
  {
   "cell_type": "code",
   "execution_count": null,
   "metadata": {},
   "outputs": [],
   "source": [
    "from IPython.display import HTML\n",
    "HTML('<div align=\"center\"><iframe width=\"560\" height=\"315\" src=\"https://www.youtube.com/embed/Bxy8Yqp5XX0\" frameborder=\"0\" allow=\"autoplay; encrypted-media\" allowfullscreen></iframe></div>')"
   ]
  },
  {
   "cell_type": "markdown",
   "metadata": {},
   "source": [
    "Uma visão mais ampla dos serviços da Google pode ser obtida na [Google Cloud Platform](https://console.cloud.google.com). Note que, um cartão de crédito, é normalmente requerido para a obtenção de uma key. A grande maioria das APIs oferece no entanto um conjunto de execuções gratuitas mensais. Em qualquer dos casos crie um cartão de crédito virtual (no valor de 5€) com validade de 1 mês."
   ]
  },
  {
   "cell_type": "markdown",
   "metadata": {},
   "source": [
    "Mais informações [aqui](https://github.com/googleapis/google-api-python-client/blob/master/docs/start.md)"
   ]
  },
  {
   "cell_type": "markdown",
   "metadata": {},
   "source": [
    "O código seguinte permite-nos ter acesso aos resultados de uma dada query. Não se esqueça de especificar as respetivas keys."
   ]
  },
  {
   "cell_type": "code",
   "execution_count": null,
   "metadata": {},
   "outputs": [],
   "source": [
    "from googleapiclient.discovery import build\n",
    "import pprint\n",
    "\n",
    "#Nao se esqueca de especificar as keys\n",
    "my_api_key = \"\"\n",
    "my_cse_id = \"\"\n",
    "query = \"python\"\n",
    "\n",
    "\n",
    "def google_search(search_term, api_key, cse_id, **kwargs):\n",
    "    service = build(\"customsearch\", \"v1\", developerKey=api_key)\n",
    "    res = service.cse().list(q=search_term, cx=cse_id, **kwargs).execute()\n",
    "    return res\n",
    "\n",
    "results = google_search(query, my_api_key, my_cse_id, num=10)"
   ]
  },
  {
   "cell_type": "markdown",
   "metadata": {},
   "source": [
    "O código seguinte dá-nos acesso à totalidade do JSON."
   ]
  },
  {
   "cell_type": "code",
   "execution_count": null,
   "metadata": {},
   "outputs": [],
   "source": [
    "results"
   ]
  },
  {
   "cell_type": "markdown",
   "metadata": {},
   "source": [
    "Para termos acesso aos principais nós do JSON:"
   ]
  },
  {
   "cell_type": "code",
   "execution_count": null,
   "metadata": {},
   "outputs": [],
   "source": [
    "for node in results:\n",
    "    pprint.pprint(node)"
   ]
  },
  {
   "cell_type": "markdown",
   "metadata": {},
   "source": [
    "Para ter acesso a toda a informação devolvida:"
   ]
  },
  {
   "cell_type": "code",
   "execution_count": null,
   "metadata": {},
   "outputs": [],
   "source": [
    "results['items']"
   ]
  },
  {
   "cell_type": "markdown",
   "metadata": {},
   "source": [
    "A determinada informação em particular:"
   ]
  },
  {
   "cell_type": "code",
   "execution_count": null,
   "metadata": {},
   "outputs": [],
   "source": [
    "for result in results['items']:\n",
    "    pprint.pprint(result['title'])\n",
    "    pprint.pprint(result['snippet'])\n",
    "    pprint.pprint(result['link'])\n",
    "    print(\"\\n\")"
   ]
  },
  {
   "cell_type": "markdown",
   "metadata": {},
   "source": [
    "Informação sobre o número total de resultados indexados para a query em questão:"
   ]
  },
  {
   "cell_type": "code",
   "execution_count": null,
   "metadata": {},
   "outputs": [],
   "source": [
    "results['searchInformation']"
   ]
  },
  {
   "cell_type": "markdown",
   "metadata": {},
   "source": [
    "O Google Custom Search Engine restringe a devolução de resultados a um máximo de 10 páginas com um máximo de 10 resultados. Os resultados acima obtidos dizem respeito aos primeiro 10 resultados (num = 10) da primeira página (default, quando não especificado = 1). Assim se necessitar de mais resultados deverá fazer 10 pedidos com o num = 10 e o parâmetro start = 1, 11, 21, ... 91."
   ]
  },
  {
   "cell_type": "markdown",
   "metadata": {},
   "source": [
    "#### SerpAPI"
   ]
  },
  {
   "cell_type": "markdown",
   "metadata": {},
   "source": [
    "O site [SerpAPI](https://serpapi.com/) fornece um serviço de querying a vários motores de busca (incluindo o Google). No entanto o serviço é pago."
   ]
  },
  {
   "cell_type": "markdown",
   "metadata": {},
   "source": [
    "### Google Maps"
   ]
  },
  {
   "cell_type": "markdown",
   "metadata": {},
   "source": [
    "No exercício abaixo vamos recorrer à API Maps do Google para obtermos a latitute e a longitude de uma data cidade. Se ainda não tem uma API KEY veja como obter uma na seção Google Search Results."
   ]
  },
  {
   "cell_type": "code",
   "execution_count": null,
   "metadata": {},
   "outputs": [],
   "source": [
    "import requests\n",
    "#Nao se esqueca de inserir a key no codigo abaixo\n",
    "key = ''\n",
    "payload = {'sensor':'false','address': 'sport lisboa e benfica','key':key}\n",
    "r = requests.get('https://maps.googleapis.com/maps/api/geocode/json', params=payload)\n",
    "print(\"GET\",r.url)"
   ]
  },
  {
   "cell_type": "code",
   "execution_count": null,
   "metadata": {},
   "outputs": [],
   "source": [
    "# Para termos acesso ao conteúdo JSON pode colocar simplesmente o URL num qualquer browser.\n",
    "# Alternativamente pode imprimir o weatherData. Com vista a esse objetivo recorra ao módulo pprint\n",
    "# o qual tem por objetivo imprimir estruturas de Python (no caso um dicionário) de forma o mais\n",
    "# adequada possível\n",
    "import pprint\n",
    "contentsJSon = r.json()\n",
    "pprint.pprint(contentsJSon)"
   ]
  },
  {
   "cell_type": "markdown",
   "metadata": {},
   "source": [
    "Obtenha por fim a latitude, longitude e localização."
   ]
  },
  {
   "cell_type": "code",
   "execution_count": null,
   "metadata": {},
   "outputs": [],
   "source": [
    "lat = contentsJSon[\"results\"][0][\"geometry\"][\"location\"][\"lat\"]\n",
    "lng = contentsJSon[\"results\"][0][\"geometry\"][\"location\"][\"lng\"]\n",
    "location = contentsJSon['results'][0]['formatted_address']\n",
    "print(lat)\n",
    "print(lng)\n",
    "print(location)"
   ]
  }
 ],
 "metadata": {
  "kernelspec": {
   "display_name": "Python 3 (ipykernel)",
   "language": "python",
   "name": "python3"
  },
  "language_info": {
   "codemirror_mode": {
    "name": "ipython",
    "version": 3
   },
   "file_extension": ".py",
   "mimetype": "text/x-python",
   "name": "python",
   "nbconvert_exporter": "python",
   "pygments_lexer": "ipython3",
   "version": "3.11.7"
  },
  "toc": {
   "base_numbering": 1,
   "nav_menu": {},
   "number_sections": true,
   "sideBar": true,
   "skip_h1_title": true,
   "title_cell": "Table of Contents",
   "title_sidebar": "Contents",
   "toc_cell": true,
   "toc_position": {
    "height": "calc(100% - 180px)",
    "left": "10px",
    "top": "150px",
    "width": "217.067px"
   },
   "toc_section_display": true,
   "toc_window_display": true
  }
 },
 "nbformat": 4,
 "nbformat_minor": 2
}
