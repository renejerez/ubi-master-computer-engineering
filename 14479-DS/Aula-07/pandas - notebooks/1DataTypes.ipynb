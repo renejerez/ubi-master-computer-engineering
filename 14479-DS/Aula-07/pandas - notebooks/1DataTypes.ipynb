{
 "cells": [
  {
   "cell_type": "markdown",
   "metadata": {},
   "source": [
    "<div style=\"border: 1px solid black\">\n",
    "<b><center><font size=\"4\">Data Science</font></center></b>\n",
    "\n",
    "<b><center><font size=\"3\">Manipulação e Análise de Dados com Pandas Dataframes</font></center></b>\n",
    "\n",
    "<b><center><font size=\"2\">1 - Data Types</font></center></b>\n",
    "</div>"
   ]
  },
  {
   "cell_type": "markdown",
   "metadata": {},
   "source": [
    "**Notebook Developed by**: [Ricardo Campos](https://www.di.ubi.pt/~rcampos)<br>\n",
    "**email:**  ricardo.campos@ubi.pt<br>\n",
    "**Affiliation:** *Assistant Professor* @ [University of Beira Interior](http://www.ubi.pt);\n",
    "*Researcher* @ [LIAAD](https://www.inesctec.pt/en/centres/liaad)-[INESC TEC](https://www.inesctec.pt/en)\n",
    "\n",
    "<hr>\n",
    "\n",
    "<p><a href=\"1DataTypes.ipynb\" title=\"Download Notebook\" download><img src=\"https://www.di.ubi.pt/~rcampos/assets/img_tutorials/download.jpg\" align = \"left\" width=\"50\" height=\"50\" alt=\"Download Notebook\"></a></p>\n",
    "<p>&nbsp;</p>\n",
    "<p>&nbsp;</p>\n",
    "\n",
    "<hr>"
   ]
  },
  {
   "cell_type": "markdown",
   "metadata": {
    "toc": true
   },
   "source": [
    "<h1>Table of Contents<span class=\"tocSkip\"></span></h1>\n",
    "<div class=\"toc\"><ul class=\"toc-item\"></ul></div>"
   ]
  },
  {
   "cell_type": "markdown",
   "metadata": {},
   "source": [
    "# Data Types <a class=\"tocSkip\">"
   ]
  },
  {
   "cell_type": "markdown",
   "metadata": {},
   "source": [
    "<div class=\"alert alert-success alertsuccess\" style=\"margin-top: 20px\">\n",
    "\n",
    "## Objetivos de aprendizagem  <a class=\"tocSkip\">\n",
    "    \n",
    "No final deste notebook o aluno deverá ter conhecimento dos diferentes tipos de dados.\n",
    "\n",
    "\n",
    "## Learning Objectives  <a class=\"tocSkip\">\n",
    "       \n",
    "When concluding this notebook, the student should be aware of the different type of data. </div>"
   ]
  },
  {
   "cell_type": "markdown",
   "metadata": {},
   "source": [
    "<div class=\"alert alert-success alertsuccess\" style=\"margin-top: 20px\">\n",
    "\n",
    "## Sumário  <a class=\"tocSkip\">\n",
    "### Tipos de Dados <a class=\"tocSkip\">\n",
    "\n",
    "Introdução dos alunos aos tipos de dados\n",
    "- numérico (contínuo; discreto) \n",
    "- categórico (nominal; ordinal)\n",
    "    \n",
    "## Class Summary  <a class=\"tocSkip\">\n",
    "### Data Types <a class=\"tocSkip\">\n",
    "Introducing students to data types\n",
    "- numeric (continuous; discrete)\n",
    "- categorical (nominal; ordinal)\n",
    "\n",
    "</div>"
   ]
  },
  {
   "cell_type": "markdown",
   "metadata": {},
   "source": [
    "<hr>"
   ]
  },
  {
   "cell_type": "markdown",
   "metadata": {},
   "source": [
    "Para uma análise exploratória de dados, é importante identificar corretamente os diferentes tipos de atributos de uma base de dados."
   ]
  },
  {
   "cell_type": "markdown",
   "metadata": {},
   "source": [
    "A próxima figura armazena os dados de seis pessoas entrevistadas por uma pesquisa sobre renda e mercado de trabalho. Cada pessoa é descrita por 4 atributos: renda (renda mensal do entrevistado em quantidade de salários mínimos: `númerico - contínuo`), empregos (número total de empregos que a pessoa possui: `númerico - discreto`), sexo (\"F\" ou \"M\": `categórico - nominal`) e escolaridade (último nível de escolaridade inteiramente concluído: `categórica - ordinal`)."
   ]
  },
  {
   "cell_type": "markdown",
   "metadata": {},
   "source": [
    "<img src=\"https://www.di.ubi.pt/~rcampos/assets/img_tutorials/DataScience/dataframe4.jpg\" width=\"300\" height=\"300\" align=\"center\"/>"
   ]
  },
  {
   "cell_type": "markdown",
   "metadata": {},
   "source": [
    "<center>Source: https://www.casadocodigo.com.br/products/livro-pandas-python</center>"
   ]
  },
  {
   "cell_type": "markdown",
   "metadata": {},
   "source": [
    "<b>renda</b> é um atributo numérico, isto é, um atributo que pode armazenar uma ampla gama de valores numéricos sobre os quais podemos executar operações como soma, subtração, obtenção de valor médio etc. Sendo assim, renda é classificado como um atributo `numérico` do tipo `contínuo`. Nos DataFrames Python, os atributos contínuos são armazenados em colunas cujo dtype é `float64`."
   ]
  },
  {
   "cell_type": "markdown",
   "metadata": {},
   "source": [
    "Ao seu lado, temos o atributo <b>empregos</b> que também é numérico, possuindo entretanto características diferentes: ele pode armazenar apenas números inteiros (0, 1, 2, ...). Sendo assim, empregos é classificado como um atributo `numérico` do tipo `discreto`. Basicamente, um atributo discreto é aquele que pode assumir um conjunto finito ou infinito contável de valores. Nos DataFrames Python, os atributos discretos são armazenados em colunas cujo dtype é `int64`."
   ]
  },
  {
   "cell_type": "markdown",
   "metadata": {},
   "source": [
    "O terceiro atributo do DataFrame é <b>sexo</b>, que pode armazenar apenas as strings \"F\" e \"M\". Devido ao fato de esses valores serem categorias, sexo é chamado de atributo `categórico`, cujos níveis (levels) ou categorias são {\"F\", \"M\"}. Uma vez que as categorias não possuem nenhum tipo de ordenação especial, este atributo é classificado como do tipo `nominal`. Nos DataFrames, os atributos categóricos nominais, são normalmente armazenados em colunas cujo dtype é object."
   ]
  },
  {
   "cell_type": "markdown",
   "metadata": {},
   "source": [
    "Ao seu lado, temos o atributo <b>escolaridade</b>, cujos níveis são {\"fundamental\", \"médio\", \"superior\", \"pós-graduação\"}. Observe que este atributo também é `categórico`, porém os seus níveis possuem uma ordenação natural (por exemplo, \"médio\" está acima de \"fundamental\"). Um atributo com estas propriedades é classificado\n",
    "como `ordinal`. Nos DataFrames, os atributos categóricos ordinais são normalmente armazenados em colunas cujo\n",
    "dtype é object."
   ]
  },
  {
   "cell_type": "markdown",
   "metadata": {},
   "source": [
    "Entretanto, também é possível estruturar dados categóricos em colunas int64 , bastando para isso mapear\n",
    "as categorias para conjuntos de códigos. Por exemplo, no caso do atributo escolaridade (categórico - ordinal), os códigos 1, 2, 3 e 4 poderiam ser utilizados para representar as categorias \"fundamental\", \"médio\", \"superior\" e \"pós-graduação\", respectivamente (númerico - discreto). Este processo de transformação de valores (ordinais em discretos; contínuos em discretos; contínuos em nominais, etc) será discutido num notebook mais adiante neste curso."
   ]
  },
  {
   "cell_type": "markdown",
   "metadata": {},
   "source": [
    "A figura a seguir apresenta uma taxonomia que caracteriza os\n",
    "tipos de atributos."
   ]
  },
  {
   "cell_type": "markdown",
   "metadata": {},
   "source": [
    "<img src=\"https://www.di.ubi.pt/~rcampos/assets/img_tutorials/DataScience/dataframe5.jpg\" width=\"300\" height=\"300\" align=\"center\"/>"
   ]
  },
  {
   "cell_type": "markdown",
   "metadata": {},
   "source": [
    "<center>Source: https://www.casadocodigo.com.br/products/livro-pandas-python</center>"
   ]
  }
 ],
 "metadata": {
  "kernelspec": {
   "display_name": "Python 3 (ipykernel)",
   "language": "python",
   "name": "python3"
  },
  "language_info": {
   "codemirror_mode": {
    "name": "ipython",
    "version": 3
   },
   "file_extension": ".py",
   "mimetype": "text/x-python",
   "name": "python",
   "nbconvert_exporter": "python",
   "pygments_lexer": "ipython3",
   "version": "3.9.7"
  },
  "toc": {
   "base_numbering": 1,
   "nav_menu": {},
   "number_sections": true,
   "sideBar": true,
   "skip_h1_title": false,
   "title_cell": "Table of Contents",
   "title_sidebar": "Contents",
   "toc_cell": true,
   "toc_position": {
    "height": "calc(100% - 180px)",
    "left": "10px",
    "top": "150px",
    "width": "256px"
   },
   "toc_section_display": true,
   "toc_window_display": true
  }
 },
 "nbformat": 4,
 "nbformat_minor": 2
}
