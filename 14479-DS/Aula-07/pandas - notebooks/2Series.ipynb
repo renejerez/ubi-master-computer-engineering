{
 "cells": [
  {
   "cell_type": "markdown",
   "metadata": {},
   "source": [
    "<div style=\"border: 1px solid black\">\n",
    "<b><center><font size=\"4\">Data Science</font></center></b>\n",
    "\n",
    "<b><center><font size=\"3\">Manipulação e Análise de Dados com Pandas Dataframes</font></center></b>\n",
    "\n",
    "<b><center><font size=\"2\">2 - Series</font></center></b>\n",
    "</div>"
   ]
  },
  {
   "cell_type": "markdown",
   "metadata": {},
   "source": [
    "**Notebook Developed by**: [Ricardo Campos](https://www.di.ubi.pt/~rcampos)<br>\n",
    "**email:**  ricardo.campos@ubi.pt<br>\n",
    "**Affiliation:** *Assistant Professor* @ [University of Beira Interior](http://www.ubi.pt);\n",
    "*Researcher* @ [LIAAD](https://www.inesctec.pt/en/centres/liaad)-[INESC TEC](https://www.inesctec.pt/en)\n",
    "\n",
    "<hr>\n",
    "\n",
    "<p><a href=\"2Series.ipynb\" title=\"Download Notebook\" download><img src=\"https://www.di.ubi.pt/~rcampos/assets/img_tutorials/download.jpg\" align = \"left\" width=\"50\" height=\"50\" alt=\"Download Notebook\"></a></p>\n",
    "<p>&nbsp;</p>\n",
    "<p>&nbsp;</p>\n",
    "\n",
    "<hr>"
   ]
  },
  {
   "cell_type": "markdown",
   "metadata": {
    "toc": true
   },
   "source": [
    "<h1>Table of Contents<span class=\"tocSkip\"></span></h1>\n",
    "<div class=\"toc\"><ul class=\"toc-item\"><li><span><a href=\"#Creating-Series\" data-toc-modified-id=\"Creating-Series-1\"><span class=\"toc-item-num\">1&nbsp;&nbsp;</span>Creating Series</a></span></li><li><span><a href=\"#Data-Types\" data-toc-modified-id=\"Data-Types-2\"><span class=\"toc-item-num\">2&nbsp;&nbsp;</span>Data Types</a></span></li><li><span><a href=\"#Selecting\" data-toc-modified-id=\"Selecting-3\"><span class=\"toc-item-num\">3&nbsp;&nbsp;</span>Selecting</a></span><ul class=\"toc-item\"><li><span><a href=\"#Indexing\" data-toc-modified-id=\"Indexing-3.1\"><span class=\"toc-item-num\">3.1&nbsp;&nbsp;</span>Indexing</a></span></li><li><span><a href=\"#Slicing\" data-toc-modified-id=\"Slicing-3.2\"><span class=\"toc-item-num\">3.2&nbsp;&nbsp;</span>Slicing</a></span></li><li><span><a href=\"#Boolean-Indexing\" data-toc-modified-id=\"Boolean-Indexing-3.3\"><span class=\"toc-item-num\">3.3&nbsp;&nbsp;</span>Boolean Indexing</a></span></li></ul></li><li><span><a href=\"#Searching\" data-toc-modified-id=\"Searching-4\"><span class=\"toc-item-num\">4&nbsp;&nbsp;</span>Searching</a></span></li><li><span><a href=\"#Adding\" data-toc-modified-id=\"Adding-5\"><span class=\"toc-item-num\">5&nbsp;&nbsp;</span>Adding</a></span></li><li><span><a href=\"#Modifying\" data-toc-modified-id=\"Modifying-6\"><span class=\"toc-item-num\">6&nbsp;&nbsp;</span>Modifying</a></span></li><li><span><a href=\"#Dropping\" data-toc-modified-id=\"Dropping-7\"><span class=\"toc-item-num\">7&nbsp;&nbsp;</span>Dropping</a></span></li><li><span><a href=\"#Iterating\" data-toc-modified-id=\"Iterating-8\"><span class=\"toc-item-num\">8&nbsp;&nbsp;</span>Iterating</a></span></li><li><span><a href=\"#Vectorization\" data-toc-modified-id=\"Vectorization-9\"><span class=\"toc-item-num\">9&nbsp;&nbsp;</span>Vectorization</a></span></li><li><span><a href=\"#NaN\" data-toc-modified-id=\"NaN-10\"><span class=\"toc-item-num\">10&nbsp;&nbsp;</span>NaN</a></span></li><li><span><a href=\"#isnull\" data-toc-modified-id=\"isnull-11\"><span class=\"toc-item-num\">11&nbsp;&nbsp;</span>isnull</a></span></li></ul></div>"
   ]
  },
  {
   "cell_type": "markdown",
   "metadata": {},
   "source": [
    "# Series <a class=\"tocSkip\">"
   ]
  },
  {
   "cell_type": "markdown",
   "metadata": {},
   "source": [
    "<div class=\"alert alert-success alertsuccess\" style=\"margin-top: 20px\">\n",
    "\n",
    "## Objetivos de aprendizagem  <a class=\"tocSkip\">\n",
    "    \n",
    "No final deste notebook o aluno deverá ter conhecimento do conceito de series de dados.\n",
    "\n",
    "\n",
    "## Learning Objectives  <a class=\"tocSkip\">\n",
    "       \n",
    "When concluding this notebook, the student should know what a series is. </div>"
   ]
  },
  {
   "cell_type": "markdown",
   "metadata": {},
   "source": [
    "<div class=\"alert alert-success alertsuccess\" style=\"margin-top: 20px\">\n",
    "\n",
    "## Sumário  <a class=\"tocSkip\">\n",
    "### Series <a class=\"tocSkip\">\n",
    "\n",
    "Introdução dos alunos às séries de dados\n",
    "- criação de séries\n",
    "- tipos de dados em séries\n",
    "- seleção, pesquisa, adição, modificação, eliminação, iteração de séries de dados\n",
    "- valores nulos em séries\n",
    "    \n",
    "## Class Summary  <a class=\"tocSkip\">\n",
    "### Series <a class=\"tocSkip\">\n",
    "Introducing students to series\n",
    "- creation of series\n",
    "- data types in series\n",
    "- selecting, searching, adding, modifying, dropping, iterating and vectorization of series\n",
    "- nan values\n",
    "\n",
    "</div>"
   ]
  },
  {
   "cell_type": "markdown",
   "metadata": {},
   "source": [
    "<hr>"
   ]
  },
  {
   "cell_type": "markdown",
   "metadata": {},
   "source": [
    "Series é uma estrutura composta por um vetor de dados e um vetor associado de rótulos, este último chamado de índice (index). Ou seja: `Series = vetor de dados + vetor de rótulos`. No fundo, uma Series é uma espécie de array que pode ser indexado através de rótulos em vez de números."
   ]
  },
  {
   "cell_type": "markdown",
   "metadata": {},
   "source": [
    "A figura abaixo mostra dois exemplos de Series. A primeira Series chama-se notas. Possui rótulos inteiros e dados  reais (notas médias dos alunos de um dado curso). A segunda chama-se alunos. Possui rótulos strings (matrículas dos alunos do curso) e os dados também são strings (nomes)."
   ]
  },
  {
   "cell_type": "markdown",
   "metadata": {},
   "source": [
    "<img src=\"https://www.di.ubi.pt/~rcampos/assets/img_tutorials/DataScience/series.jpg\" width=\"300\" height=\"300\" align=\"center\"/>"
   ]
  },
  {
   "cell_type": "markdown",
   "metadata": {},
   "source": [
    "<center>Adaptado de: https://www.casadocodigo.com.br/products/livro-pandas-python</center>"
   ]
  },
  {
   "cell_type": "markdown",
   "metadata": {},
   "source": [
    "### Creating Series"
   ]
  },
  {
   "cell_type": "markdown",
   "metadata": {},
   "source": [
    "Observe que, para criar a Series notas, é necessário apenas definir uma lista com a relação de notas finais. Uma vez que não especificamos um índice para esta Series, o pandas utilizará inteiros de 0 a N-1."
   ]
  },
  {
   "cell_type": "code",
   "execution_count": null,
   "metadata": {},
   "outputs": [],
   "source": [
    "import pandas as pd\n",
    "\n",
    "#cria a Series notas\n",
    "notas = pd.Series([7.6, 5.0, 8.5, 9.5])\n",
    "notas"
   ]
  },
  {
   "cell_type": "markdown",
   "metadata": {},
   "source": [
    "Por outro lado, ao criar alunos, além da lista de valores (nomes dos alunos), foi também especificada uma lista de índices (números dos alunos), passada para o método construtor com o uso do parâmetro index."
   ]
  },
  {
   "cell_type": "code",
   "execution_count": null,
   "metadata": {},
   "outputs": [],
   "source": [
    "#cria a Series alunos\n",
    "ListOfNumbers = ['A02','A05','A13','A14']\n",
    "ListOfNames = ['Ana','Carla','João','Pedro']\n",
    "alunos = pd.Series(ListOfNames,index=ListOfNumbers)\n",
    "alunos"
   ]
  },
  {
   "cell_type": "markdown",
   "metadata": {},
   "source": [
    "Uma alternativa à criação de séries passa pelo recurso a dicionários. Neste caso, as chaves do dicionário são\n",
    "automaticamente transformadas em índices."
   ]
  },
  {
   "cell_type": "code",
   "execution_count": null,
   "metadata": {},
   "outputs": [],
   "source": [
    "dic_alunos = {'A02':'Ana','A05':'Carla','A13':'João', 'A14':'Pedro'}\n",
    "alunos = pd.Series(dic_alunos)\n",
    "alunos"
   ]
  },
  {
   "cell_type": "markdown",
   "metadata": {},
   "source": [
    "No código seguinte definimos a função `createSeriesNames()` e `createSeriesGrades()` com vista à sua reutilização no resto do notebook."
   ]
  },
  {
   "cell_type": "code",
   "execution_count": null,
   "metadata": {},
   "outputs": [],
   "source": [
    "import pandas as pd\n",
    "\n",
    "#cria a Series alunos\n",
    "def createSeriesNames():\n",
    "    ListOfNumbers = ['A02','A05','A13','A14']\n",
    "    ListOfNames = ['Ana','Carla','João','Pedro']\n",
    "    alunos = pd.Series(ListOfNames,index=ListOfNumbers)\n",
    "    return alunos\n",
    "\n",
    "#cria a Series notas\n",
    "def createSeriesGrades():  \n",
    "    notas = pd.Series([7.6, 5.0, 8.5, 9.5])\n",
    "    return notas"
   ]
  },
  {
   "cell_type": "markdown",
   "metadata": {},
   "source": [
    "<hr>"
   ]
  },
  {
   "cell_type": "markdown",
   "metadata": {},
   "source": [
    "### Data Types"
   ]
  },
  {
   "cell_type": "markdown",
   "metadata": {},
   "source": [
    "Da execução do código anterior é possível observar a existência do `dtype`. Trata-se de uma das propriedades\n",
    "básicas das Series, que corresponde ao tipo dos elementos do vetor de dados. A tabela a seguir apresenta os cinco principais dtypes do pandas."
   ]
  },
  {
   "cell_type": "markdown",
   "metadata": {},
   "source": [
    "| dtype        | Utilização           | Tipo Python |\n",
    "|-------------:|:------------- |:------------- |\n",
    "| **int64**      | números inteiros | int |\n",
    "| **float64** | números reais | float |\n",
    "| **bool** | true/false | bool|\n",
    "| **object** | texto | str |\n",
    "| **datetime64** | data/hora | datetime |"
   ]
  },
  {
   "cell_type": "markdown",
   "metadata": {},
   "source": [
    "É necessário ressaltar que `dtype` não é a mesma coisa que o tipo do objeto (`type`)! O tipo de qualquer objeto Python representa a classe deste objeto e pode ser sempre obtido com o uso da função `type()`. Se aplicar a função `type()` sobre qualquer Series, receberá sempre como resposta o tipo `pandas.core.series.Series`."
   ]
  },
  {
   "cell_type": "code",
   "execution_count": null,
   "metadata": {},
   "outputs": [],
   "source": [
    "alunos = createSeriesNames()\n",
    "type(alunos)"
   ]
  },
  {
   "cell_type": "markdown",
   "metadata": {},
   "source": [
    "Outra consideração importante é que toda a Series está associada a outras propriedades elementares além do dtype. São elas:\n",
    "- values : vetor de dados;\n",
    "- index : vetor de rótulos;\n",
    "- size : tamanho da Series (número de elementos);"
   ]
  },
  {
   "cell_type": "code",
   "execution_count": null,
   "metadata": {},
   "outputs": [],
   "source": [
    "print(f\"dados = {alunos.values}\")\n",
    "print(f\"rótulos = {alunos.index}\")\n",
    "print(f\"tamanho = {alunos.size}\")"
   ]
  },
  {
   "cell_type": "markdown",
   "metadata": {},
   "source": [
    "Por sua vez, o código `str.len` quando aplicado a uma series permite obter o tamanho (número de caracteres) numa string."
   ]
  },
  {
   "cell_type": "code",
   "execution_count": null,
   "metadata": {},
   "outputs": [],
   "source": [
    "alunos.str.len()"
   ]
  },
  {
   "cell_type": "markdown",
   "metadata": {},
   "source": [
    "<hr>"
   ]
  },
  {
   "cell_type": "markdown",
   "metadata": {},
   "source": [
    "### Selecting"
   ]
  },
  {
   "cell_type": "markdown",
   "metadata": {},
   "source": [
    "O pandas permite o emprego de três diferentes técnicas: \n",
    "- indexação tradicional; \n",
    "- fatiamento (slicing); \n",
    "- indexação booleana."
   ]
  },
  {
   "cell_type": "markdown",
   "metadata": {},
   "source": [
    "#### Indexing"
   ]
  },
  {
   "cell_type": "markdown",
   "metadata": {},
   "source": [
    "Usada quando quer recuperar apenas um elemento da Series"
   ]
  },
  {
   "cell_type": "code",
   "execution_count": null,
   "metadata": {},
   "outputs": [],
   "source": [
    "alunos = createSeriesNames()\n",
    "\n",
    "print(f\"primeiro elemento = {alunos[0]}\")\n",
    "print(f\"último elemento = {alunos[-1]}\")\n",
    "print(f\"aluno da matrícula A14 = {alunos['A14']}\")"
   ]
  },
  {
   "cell_type": "markdown",
   "metadata": {},
   "source": [
    "<hr>"
   ]
  },
  {
   "cell_type": "markdown",
   "metadata": {},
   "source": [
    "#### Slicing"
   ]
  },
  {
   "cell_type": "markdown",
   "metadata": {},
   "source": [
    "A técnica de indexação baseada em fatiamento (slicing) deve ser utilizada quando você quiser recuperar mais de um elemento da Series."
   ]
  },
  {
   "cell_type": "code",
   "execution_count": null,
   "metadata": {},
   "outputs": [],
   "source": [
    "alunos = createSeriesNames()\n",
    "notas = createSeriesGrades()\n",
    "\n",
    "print(alunos[0:2])\n",
    "print(\"\\n\")\n",
    "print(alunos[1:])\n",
    "print(\"\\n\")\n",
    "print(alunos[-2:])\n",
    "print(\"\\n\")\n",
    "print(alunos[[0,2]]) #elemento 0 e 2\n",
    "print(\"\\n\")\n",
    "print(alunos[[\"A02\",\"A14\"]]) #elementos com os números de aluno A02 e A14\n",
    "print(\"\\n\")"
   ]
  },
  {
   "cell_type": "markdown",
   "metadata": {},
   "source": [
    "Uma importante diferença entre as operações de indexação e fatiamento diz respeito ao tipo do resultado retornado por cada uma das operações. A indexação tradicional retorna sempre um único elemento, cujo tipo será o tipo básico Python correspondente ao dtype do vetor de dados. Por exemplo, `alunos[0]` retorna uma string (tipo `str`) e `notas[0]`, um `float`."
   ]
  },
  {
   "cell_type": "code",
   "execution_count": null,
   "metadata": {},
   "outputs": [],
   "source": [
    "print(type(alunos[0]))\n",
    "print(type(notas[0]))"
   ]
  },
  {
   "cell_type": "markdown",
   "metadata": {},
   "source": [
    "A operação de fatiamento retorna sempre uma Series, ou seja, um objeto do tipo `pandas.core.series.Series`."
   ]
  },
  {
   "cell_type": "code",
   "execution_count": null,
   "metadata": {},
   "outputs": [],
   "source": [
    "print(type(alunos[0:2]))"
   ]
  },
  {
   "cell_type": "markdown",
   "metadata": {},
   "source": [
    "<hr>"
   ]
  },
  {
   "cell_type": "markdown",
   "metadata": {},
   "source": [
    "#### Boolean Indexing"
   ]
  },
  {
   "cell_type": "markdown",
   "metadata": {},
   "source": [
    "Neste modo de indexação, subconjuntos de dados são selecionados com base em valores retornados por via de uma condição booelana. No próximo programa, apresentamos um exemplo em que a indexação booleana é aplicada para determinar os nomes de todos os alunos com nota igual ou superior a 9.5."
   ]
  },
  {
   "cell_type": "markdown",
   "metadata": {},
   "source": [
    "Vamos começar por recordar as séries de dados `alunos` e `notas`:"
   ]
  },
  {
   "cell_type": "code",
   "execution_count": null,
   "metadata": {},
   "outputs": [],
   "source": [
    "alunos = createSeriesNames()\n",
    "notas = createSeriesGrades()"
   ]
  },
  {
   "cell_type": "code",
   "execution_count": null,
   "metadata": {},
   "outputs": [],
   "source": [
    "alunos"
   ]
  },
  {
   "cell_type": "code",
   "execution_count": null,
   "metadata": {},
   "outputs": [],
   "source": [
    "notas"
   ]
  },
  {
   "cell_type": "code",
   "execution_count": null,
   "metadata": {},
   "outputs": [],
   "source": [
    "indexNota = notas[notas >= 9.5].index\n",
    "indexNota"
   ]
  },
  {
   "cell_type": "markdown",
   "metadata": {},
   "source": [
    "De seguida selecionamos os índices dos alunos com nota igual ou superior a 9.5. Posteriormente usamos esses índices para obter os nomes dos respetivos alunos."
   ]
  },
  {
   "cell_type": "code",
   "execution_count": null,
   "metadata": {},
   "outputs": [],
   "source": [
    "alunos[indexNota]"
   ]
  },
  {
   "cell_type": "markdown",
   "metadata": {},
   "source": [
    "<hr>"
   ]
  },
  {
   "cell_type": "markdown",
   "metadata": {},
   "source": [
    "### Searching"
   ]
  },
  {
   "cell_type": "markdown",
   "metadata": {},
   "source": [
    "O próximo programa mostra como verificar se determinados rótulos ou valores estão presentes numa Series. Para testar se um rótulo existe numa Series (mais precisamente, se faz parte de seu vetor de rótulos), basta utilizar o operador `in` do Python padrão (que retornará `True` ou `False`)."
   ]
  },
  {
   "cell_type": "code",
   "execution_count": null,
   "metadata": {},
   "outputs": [],
   "source": [
    "alunos = createSeriesNames()\n",
    "'A14' in alunos"
   ]
  },
  {
   "cell_type": "markdown",
   "metadata": {},
   "source": [
    "Se, por outro lado deseja verificar se um ou mais valores se encontram numa Series (mais precisamente, se fazem parte de seu vetor de dados), necessitará recorrer ao método `isin()`."
   ]
  },
  {
   "cell_type": "markdown",
   "metadata": {},
   "source": [
    "Este método recebe como entrada uma lista contendo um ou mais valores (no nosso exemplo, utilizamos uma lista contendo apenas um valor, 'Pedro'). Como saída, é gerada uma Series com `dtype bool` que terá o valor `True` para todos os rótulos associados a valores da lista."
   ]
  },
  {
   "cell_type": "code",
   "execution_count": null,
   "metadata": {},
   "outputs": [],
   "source": [
    "alunos.isin(['Pedro'])"
   ]
  },
  {
   "cell_type": "markdown",
   "metadata": {},
   "source": [
    "### Adding"
   ]
  },
  {
   "cell_type": "code",
   "execution_count": null,
   "metadata": {},
   "outputs": [],
   "source": [
    "alunos = createSeriesNames()\n",
    "alunos['A55'] = \"Nuno\"\n",
    "alunos"
   ]
  },
  {
   "cell_type": "markdown",
   "metadata": {},
   "source": [
    "<hr>"
   ]
  },
  {
   "cell_type": "markdown",
   "metadata": {},
   "source": [
    "### Modifying"
   ]
  },
  {
   "cell_type": "code",
   "execution_count": null,
   "metadata": {},
   "outputs": [],
   "source": [
    "alunos = createSeriesNames()\n",
    "alunos['A55'] = \"Filipa\"\n",
    "alunos"
   ]
  },
  {
   "cell_type": "markdown",
   "metadata": {},
   "source": [
    "É possível também alterar mais do que um elemento com uma única instrução."
   ]
  },
  {
   "cell_type": "code",
   "execution_count": null,
   "metadata": {},
   "outputs": [],
   "source": [
    "alunos[['A14','A55']] = ['Paulo', 'Paula']\n",
    "alunos"
   ]
  },
  {
   "cell_type": "markdown",
   "metadata": {},
   "source": [
    "<hr>"
   ]
  },
  {
   "cell_type": "markdown",
   "metadata": {},
   "source": [
    "### Dropping"
   ]
  },
  {
   "cell_type": "code",
   "execution_count": null,
   "metadata": {},
   "outputs": [],
   "source": [
    "alunos = createSeriesNames()\n",
    "alunos.drop('A02',inplace=True)\n",
    "alunos"
   ]
  },
  {
   "cell_type": "markdown",
   "metadata": {},
   "source": [
    "<hr>"
   ]
  },
  {
   "cell_type": "markdown",
   "metadata": {},
   "source": [
    "### Iterating"
   ]
  },
  {
   "cell_type": "code",
   "execution_count": null,
   "metadata": {},
   "outputs": [],
   "source": [
    "alunos = createSeriesNames()\n",
    "for aluno in alunos:\n",
    "    print(aluno)"
   ]
  },
  {
   "cell_type": "code",
   "execution_count": null,
   "metadata": {},
   "outputs": [],
   "source": [
    "for idx in alunos.index:\n",
    "    print(idx)"
   ]
  },
  {
   "cell_type": "markdown",
   "metadata": {},
   "source": [
    "<hr>"
   ]
  },
  {
   "cell_type": "markdown",
   "metadata": {},
   "source": [
    "### Vectorization"
   ]
  },
  {
   "cell_type": "markdown",
   "metadata": {},
   "source": [
    "Em geral, as operações de pandas podem ser executadas através do mecanismo conhecido como computação vetorizada (vectorization). No programa seguinte, as operações são realizadas sobre cada elemento da Series automaticamente, sem a necessidade de programar um ciclo for. O programa seguinte evidencia as vantagens da computação vetorizada em processos de `Data Wrangling`, ao utilizar apenas uma linha de código para implementar um processo de  transformação de dados (e.g., s1 * s2)."
   ]
  },
  {
   "cell_type": "code",
   "execution_count": null,
   "metadata": {},
   "outputs": [],
   "source": [
    "import pandas as pd\n",
    "import numpy as np\n",
    "\n",
    "s1 = pd.Series([2,4,6])\n",
    "s2 = pd.Series([1,3,5])\n",
    "print(s1 * s2)\n",
    "print(\"\\n\")\n",
    "print(s1 + s2)\n",
    "print(\"\\n\")\n",
    "print(np.sqrt(s1))"
   ]
  },
  {
   "cell_type": "markdown",
   "metadata": {},
   "source": [
    "O cálculo da raiz quadrada foi feito com o uso de um método da NumPy, uma biblioteca direcionada para a computação de alto desempenho sobre arrays (vetores e matrizes). Uma Series é na verdade um array NumPy de dados associado a um array de rótulos. Por este motivo, normalmente é possível aplicar qualquer função matemática disponibilizada pela NumPy sobre os dados de uma Series."
   ]
  },
  {
   "cell_type": "markdown",
   "metadata": {},
   "source": [
    "<hr>"
   ]
  },
  {
   "cell_type": "markdown",
   "metadata": {},
   "source": [
    "### NaN"
   ]
  },
  {
   "cell_type": "markdown",
   "metadata": {},
   "source": [
    "A figura a seguir mostra duas Series, denominadas verde e azul. Considere que a primeira indica se a cor verde faz parte das bandeiras do Brasil (BR), França (FR), Itália (IT) e Reino Unido (UK), onde o valor 1 representa sim e 0, não. Por sua vez, a Series azul indica se a cor azul faz parte das bandeiras dos mesmos países anteriormente referidos acrescidos da Argentina (AR)."
   ]
  },
  {
   "cell_type": "markdown",
   "metadata": {},
   "source": [
    "<img src=\"https://www.di.ubi.pt/~rcampos/assets/img_tutorials/DataScience/series1.jpg\" width=\"300\" height=\"300\" align=\"center\"/>"
   ]
  },
  {
   "cell_type": "markdown",
   "metadata": {},
   "source": [
    "O programa a seguir examina o comportamento do pandas ao realizar uma operação aritmética (soma) envolvendo estas duas Series que não possuem os rótulos inteiramente compatíveis."
   ]
  },
  {
   "cell_type": "code",
   "execution_count": null,
   "metadata": {},
   "outputs": [],
   "source": [
    "import pandas as pd\n",
    "verde = pd.Series({'BR':1, 'FR': 0, 'IT':1, 'UK': 0})\n",
    "azul = pd.Series({'AR':1, 'BR':1, 'FR': 1, 'IT':0, 'UK': 1})\n",
    "soma = verde + azul\n",
    "soma"
   ]
  },
  {
   "cell_type": "markdown",
   "metadata": {},
   "source": [
    "O resultado da soma para os rótulos existentes nas duas Series ('BR', 'FR', 'IT' e 'UK') ficou perfeito. No entanto, para o rótulo 'AR', que só existe em azul , o resultado da soma aparece como `NaN` (`not a number`)."
   ]
  },
  {
   "cell_type": "markdown",
   "metadata": {},
   "source": [
    "`NaN` é o conceito utilizado pela pandas para marcar valores nulos/ausentes (`missing`) ou desconhecidos."
   ]
  },
  {
   "cell_type": "markdown",
   "metadata": {},
   "source": [
    "No nosso exemplo, como 'AR' existe em azul , mas não tem um correspondente em verde, o pandas interpreta que o valor de 'AR' em verde é desconhecido. E o resultado de qualquer operação aritmética envolvendo um número conhecido e um desconhecido resultará sempre em desconhecido (ou seja, em NaN, e.g., `1 + desconhecido = NaN`)."
   ]
  },
  {
   "cell_type": "markdown",
   "metadata": {},
   "source": [
    "<hr>"
   ]
  },
  {
   "cell_type": "markdown",
   "metadata": {},
   "source": [
    "### isnull"
   ]
  },
  {
   "cell_type": "markdown",
   "metadata": {},
   "source": [
    "Este método recebe como entrada uma Series, gerando como saída uma outra Series com `dtype bool`, que indica quais dos rótulos da series estão associados a valores nulos (`NaN`)."
   ]
  },
  {
   "cell_type": "code",
   "execution_count": null,
   "metadata": {},
   "outputs": [],
   "source": [
    "import pandas as pd\n",
    "verde = pd.Series({'BR':1, 'FR': 0, 'IT':1, 'UK': 0})\n",
    "azul = pd.Series({'AR':1, 'BR':1, 'FR': 1, 'IT':0, 'UK': 1})\n",
    "soma = verde + azul\n",
    "pd.isnull(soma)"
   ]
  }
 ],
 "metadata": {
  "kernelspec": {
   "display_name": "Python 3 (ipykernel)",
   "language": "python",
   "name": "python3"
  },
  "language_info": {
   "codemirror_mode": {
    "name": "ipython",
    "version": 3
   },
   "file_extension": ".py",
   "mimetype": "text/x-python",
   "name": "python",
   "nbconvert_exporter": "python",
   "pygments_lexer": "ipython3",
   "version": "3.9.7"
  },
  "toc": {
   "base_numbering": 1,
   "nav_menu": {},
   "number_sections": true,
   "sideBar": true,
   "skip_h1_title": false,
   "title_cell": "Table of Contents",
   "title_sidebar": "Contents",
   "toc_cell": true,
   "toc_position": {
    "height": "calc(100% - 180px)",
    "left": "10px",
    "top": "150px",
    "width": "256px"
   },
   "toc_section_display": true,
   "toc_window_display": true
  }
 },
 "nbformat": 4,
 "nbformat_minor": 2
}
