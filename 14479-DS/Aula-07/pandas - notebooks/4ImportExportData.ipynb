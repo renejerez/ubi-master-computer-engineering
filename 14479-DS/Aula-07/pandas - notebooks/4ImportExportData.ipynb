{
 "cells": [
  {
   "cell_type": "markdown",
   "metadata": {},
   "source": [
    "<div style=\"border: 1px solid black\">\n",
    "<b><center><font size=\"4\">Data Science</font></center></b>\n",
    "\n",
    "<b><center><font size=\"3\">Manipulação e Análise de Dados com Pandas Dataframes</font></center></b>\n",
    "\n",
    "<b><center><font size=\"2\">4 - Import/Export Data</font></center></b>\n",
    "</div>"
   ]
  },
  {
   "cell_type": "markdown",
   "metadata": {},
   "source": [
    "**Notebook Developed by**: [Ricardo Campos](https://www.di.ubi.pt/~rcampos)<br>\n",
    "**email:**  ricardo.campos@ubi.pt<br>\n",
    "**Affiliation:** *Assistant Professor* @ [University of Beira Interior](http://www.ubi.pt);\n",
    "*Researcher* @ [LIAAD](https://www.inesctec.pt/en/centres/liaad)-[INESC TEC](https://www.inesctec.pt/en)\n",
    "\n",
    "<hr>\n",
    "\n",
    "<p><a href=\"4ImportExportData.ipynb\" title=\"Download Notebook\" download><img src=\"https://www.di.ubi.pt/~rcampos/assets/img_tutorials/download.jpg\" align = \"left\" width=\"50\" height=\"50\" alt=\"Download Notebook\"></a></p>\n",
    "<p>&nbsp;</p>\n",
    "<p>&nbsp;</p>\n",
    "\n",
    "<hr>"
   ]
  },
  {
   "cell_type": "markdown",
   "metadata": {
    "toc": true
   },
   "source": [
    "<h1>Table of Contents<span class=\"tocSkip\"></span></h1>\n",
    "<div class=\"toc\"><ul class=\"toc-item\"><li><span><a href=\"#Reading-Files\" data-toc-modified-id=\"Reading-Files-1\"><span class=\"toc-item-num\">1&nbsp;&nbsp;</span>Reading Files</a></span><ul class=\"toc-item\"><li><span><a href=\"#Formats\" data-toc-modified-id=\"Formats-1.1\"><span class=\"toc-item-num\">1.1&nbsp;&nbsp;</span>Formats</a></span><ul class=\"toc-item\"><li><span><a href=\"#CSV\" data-toc-modified-id=\"CSV-1.1.1\"><span class=\"toc-item-num\">1.1.1&nbsp;&nbsp;</span>CSV</a></span><ul class=\"toc-item\"><li><span><a href=\"#read_csv\" data-toc-modified-id=\"read_csv-1.1.1.1\"><span class=\"toc-item-num\">1.1.1.1&nbsp;&nbsp;</span>read_csv</a></span></li><li><span><a href=\"#encoding\" data-toc-modified-id=\"encoding-1.1.1.2\"><span class=\"toc-item-num\">1.1.1.2&nbsp;&nbsp;</span>encoding</a></span></li><li><span><a href=\"#read-from-URL\" data-toc-modified-id=\"read-from-URL-1.1.1.3\"><span class=\"toc-item-num\">1.1.1.3&nbsp;&nbsp;</span>read from URL</a></span></li><li><span><a href=\"#read-zip-files\" data-toc-modified-id=\"read-zip-files-1.1.1.4\"><span class=\"toc-item-num\">1.1.1.4&nbsp;&nbsp;</span>read zip files</a></span><ul class=\"toc-item\"><li><span><a href=\"#From-Local-Computer\" data-toc-modified-id=\"From-Local-Computer-1.1.1.4.1\"><span class=\"toc-item-num\">1.1.1.4.1&nbsp;&nbsp;</span>From Local Computer</a></span></li><li><span><a href=\"#From-the-Web\" data-toc-modified-id=\"From-the-Web-1.1.1.4.2\"><span class=\"toc-item-num\">1.1.1.4.2&nbsp;&nbsp;</span>From the Web</a></span></li></ul></li></ul></li><li><span><a href=\"#Excel\" data-toc-modified-id=\"Excel-1.1.2\"><span class=\"toc-item-num\">1.1.2&nbsp;&nbsp;</span>Excel</a></span></li><li><span><a href=\"#HTML\" data-toc-modified-id=\"HTML-1.1.3\"><span class=\"toc-item-num\">1.1.3&nbsp;&nbsp;</span>HTML</a></span></li><li><span><a href=\"#JSon\" data-toc-modified-id=\"JSon-1.1.4\"><span class=\"toc-item-num\">1.1.4&nbsp;&nbsp;</span>JSon</a></span></li><li><span><a href=\"#ClipBoard\" data-toc-modified-id=\"ClipBoard-1.1.5\"><span class=\"toc-item-num\">1.1.5&nbsp;&nbsp;</span>ClipBoard</a></span></li></ul></li><li><span><a href=\"#Define-Specific-Fields\" data-toc-modified-id=\"Define-Specific-Fields-1.2\"><span class=\"toc-item-num\">1.2&nbsp;&nbsp;</span>Define Specific Fields</a></span><ul class=\"toc-item\"><li><span><a href=\"#Define-index\" data-toc-modified-id=\"Define-index-1.2.1\"><span class=\"toc-item-num\">1.2.1&nbsp;&nbsp;</span>Define index</a></span></li><li><span><a href=\"#Load-Specific-Columns\" data-toc-modified-id=\"Load-Specific-Columns-1.2.2\"><span class=\"toc-item-num\">1.2.2&nbsp;&nbsp;</span>Load Specific Columns</a></span></li><li><span><a href=\"#Set-variable-data-type\" data-toc-modified-id=\"Set-variable-data-type-1.2.3\"><span class=\"toc-item-num\">1.2.3&nbsp;&nbsp;</span>Set variable data type</a></span></li><li><span><a href=\"#Treat-specific-values-as-NaN\" data-toc-modified-id=\"Treat-specific-values-as-NaN-1.2.4\"><span class=\"toc-item-num\">1.2.4&nbsp;&nbsp;</span>Treat specific values as NaN</a></span></li><li><span><a href=\"#Specify-header\" data-toc-modified-id=\"Specify-header-1.2.5\"><span class=\"toc-item-num\">1.2.5&nbsp;&nbsp;</span>Specify header</a></span></li><li><span><a href=\"#Specify-delimiter\" data-toc-modified-id=\"Specify-delimiter-1.2.6\"><span class=\"toc-item-num\">1.2.6&nbsp;&nbsp;</span>Specify delimiter</a></span></li><li><span><a href=\"#Select-top-x-rows\" data-toc-modified-id=\"Select-top-x-rows-1.2.7\"><span class=\"toc-item-num\">1.2.7&nbsp;&nbsp;</span>Select top-x rows</a></span></li><li><span><a href=\"#Skip-rows\" data-toc-modified-id=\"Skip-rows-1.2.8\"><span class=\"toc-item-num\">1.2.8&nbsp;&nbsp;</span>Skip rows</a></span><ul class=\"toc-item\"><li><span><a href=\"#Ignore-top-x-rows\" data-toc-modified-id=\"Ignore-top-x-rows-1.2.8.1\"><span class=\"toc-item-num\">1.2.8.1&nbsp;&nbsp;</span>Ignore top-x rows</a></span><ul class=\"toc-item\"><li><span><a href=\"#Dataset-without-header\" data-toc-modified-id=\"Dataset-without-header-1.2.8.1.1\"><span class=\"toc-item-num\">1.2.8.1.1&nbsp;&nbsp;</span>Dataset without header</a></span></li><li><span><a href=\"#Dataset-with-header\" data-toc-modified-id=\"Dataset-with-header-1.2.8.1.2\"><span class=\"toc-item-num\">1.2.8.1.2&nbsp;&nbsp;</span>Dataset with header</a></span></li></ul></li></ul></li></ul></li></ul></li><li><span><a href=\"#Save-Files\" data-toc-modified-id=\"Save-Files-2\"><span class=\"toc-item-num\">2&nbsp;&nbsp;</span>Save Files</a></span><ul class=\"toc-item\"><li><span><a href=\"#Save2Pickle\" data-toc-modified-id=\"Save2Pickle-2.1\"><span class=\"toc-item-num\">2.1&nbsp;&nbsp;</span>Save2Pickle</a></span></li><li><span><a href=\"#Save2CSV\" data-toc-modified-id=\"Save2CSV-2.2\"><span class=\"toc-item-num\">2.2&nbsp;&nbsp;</span>Save2CSV</a></span></li><li><span><a href=\"#Save2Excel\" data-toc-modified-id=\"Save2Excel-2.3\"><span class=\"toc-item-num\">2.3&nbsp;&nbsp;</span>Save2Excel</a></span></li><li><span><a href=\"#Save2HTML\" data-toc-modified-id=\"Save2HTML-2.4\"><span class=\"toc-item-num\">2.4&nbsp;&nbsp;</span>Save2HTML</a></span></li></ul></li><li><span><a href=\"#Memory-Usage\" data-toc-modified-id=\"Memory-Usage-3\"><span class=\"toc-item-num\">3&nbsp;&nbsp;</span>Memory Usage</a></span></li><li><span><a href=\"#Big-Files\" data-toc-modified-id=\"Big-Files-4\"><span class=\"toc-item-num\">4&nbsp;&nbsp;</span>Big Files</a></span></li></ul></div>"
   ]
  },
  {
   "cell_type": "markdown",
   "metadata": {},
   "source": [
    "# Import/Export Data <a class=\"tocSkip\">"
   ]
  },
  {
   "cell_type": "markdown",
   "metadata": {},
   "source": [
    "<div class=\"alert alert-success alertsuccess\" style=\"margin-top: 20px\">\n",
    "\n",
    "## Objetivos de aprendizagem  <a class=\"tocSkip\">\n",
    "    \n",
    "No final deste notebook o aluno deverá saber importar e exportar dados a partir de dataframes.\n",
    "\n",
    "\n",
    "## Learning Objectives  <a class=\"tocSkip\">\n",
    "       \n",
    "When concluding this notebook, the student should know how to import and export data from dataframes. </div>"
   ]
  },
  {
   "cell_type": "markdown",
   "metadata": {},
   "source": [
    "<div class=\"alert alert-success alertsuccess\" style=\"margin-top: 20px\">\n",
    "\n",
    "## Sumário  <a class=\"tocSkip\">\n",
    "### Importação e Exportação de Dados <a class=\"tocSkip\">\n",
    "\n",
    "Introdução dos alunos à importação e exportação de dados a partir de Pandas dataframes\n",
    "- importação de dados a partir de diferentes formatos (CSV; Excel; JSon; Clipboard)\n",
    "- definição de campos específicos na importação de dados (definição de índices, carregamento de colunas específicas, especificação do tipo de dados, tratamento de valores nulos, especificação do cabeçalho, separador, top-x linhas, ignorar determinadas linhas)\n",
    "- exportação de dados (pickle, csv, excel, html)\n",
    "- uso de memória\n",
    "    \n",
    "## Class Summary  <a class=\"tocSkip\">\n",
    "### Importing and Exporting data <a class=\"tocSkip\">\n",
    "Introducing students to data importation and exportation from Pandas dataframes\n",
    "- data importation from different formats (CSV; Excel; JSon; Clipboard)\n",
    "- definition of specific fields when importing data (indexes, load specific columns, set variable data type, treat specific values as NaN, specify header, delimiter, top-x rows, skip rows)\n",
    "- data exportation (pickle, csv, excel, html)\n",
    "- memory usage\n",
    "\n",
    "</div>"
   ]
  },
  {
   "cell_type": "markdown",
   "metadata": {},
   "source": [
    "<hr>"
   ]
  },
  {
   "cell_type": "markdown",
   "metadata": {},
   "source": [
    "Tipicamente, os dados dos DataFrames são obtidos a partir de ficheiros ou tabelas de bases de dados. Nesta seção, serão\n",
    "apresentadas as técnicas básicas para importar dados destas fontes para DataFrames pandas. Os exemplos utilizam pequenas bases de dados que se encontram disponíveis [aqui](https://github.com/edubd/pandas)."
   ]
  },
  {
   "cell_type": "markdown",
   "metadata": {},
   "source": [
    "<img src=\"https://www.di.ubi.pt/~rcampos/assets/img_tutorials/DataScience/Pandas2.jpg\" width=\"600\" height=\"600\" align=\"center\"/>"
   ]
  },
  {
   "cell_type": "markdown",
   "metadata": {},
   "source": [
    "<center>https://www.aiplusinfo.com/blog/pandas-and-large-dataframes-how-to-read-in-chunks/</center>"
   ]
  },
  {
   "cell_type": "markdown",
   "metadata": {},
   "source": [
    "# Reading Files"
   ]
  },
  {
   "cell_type": "markdown",
   "metadata": {},
   "source": [
    "## Formats"
   ]
  },
  {
   "cell_type": "markdown",
   "metadata": {},
   "source": [
    "### CSV"
   ]
  },
  {
   "cell_type": "markdown",
   "metadata": {},
   "source": [
    "#### read_csv"
   ]
  },
  {
   "cell_type": "markdown",
   "metadata": {},
   "source": [
    "Para ler ficheiros CSV (comma-separated values — valores separados por vírgula) recorremos ao método `read_csv()`. No exemplo seguinte importamos o ficheiro `paises.csv`. "
   ]
  },
  {
   "cell_type": "code",
   "execution_count": null,
   "metadata": {},
   "outputs": [],
   "source": [
    "import pandas as pd\n",
    "df = pd.read_csv(\"data/paises.csv\")\n",
    "df"
   ]
  },
  {
   "cell_type": "markdown",
   "metadata": {},
   "source": [
    "#### encoding"
   ]
  },
  {
   "cell_type": "markdown",
   "metadata": {},
   "source": [
    "A codificação default da pandas é utf-8. Se o seu ficheiro estiver codificado no formato ANSI, deverá utilizar o parâmetro encoding='ansi'. Para obter uma lista completa dos encodings, consulte: https://docs.python.org/3/library/codecs.html#standard-encodings"
   ]
  },
  {
   "cell_type": "markdown",
   "metadata": {},
   "source": [
    "Para exemplificar este problema comece por fazer download do ficheiro `Summer-Olympic-medals-1976-to-2008.csv` a partir deste [link](https://www.kaggle.com/divyansh22/summer-olympics-medals) o qual reúne informação dos medalhados olímpicos no período compreendido entre 1976 e 2008. Posteriormente tente ler o ficheiro através do seguinte código. Observe que obtém um erro de encoding."
   ]
  },
  {
   "cell_type": "code",
   "execution_count": null,
   "metadata": {},
   "outputs": [],
   "source": [
    "import pandas as pd\n",
    "df = pd.read_csv(\"data/Summer-Olympic-medals-1976-to-2008.csv\")\n",
    "df"
   ]
  },
  {
   "cell_type": "markdown",
   "metadata": {},
   "source": [
    "Para resolver este problema proceda à definição do `encoding = 'ansi'`."
   ]
  },
  {
   "cell_type": "code",
   "execution_count": null,
   "metadata": {},
   "outputs": [],
   "source": [
    "import pandas as pd\n",
    "df = pd.read_csv(\"data/Summer-Olympic-medals-1976-to-2008.csv\", encoding='ansi')\n",
    "df"
   ]
  },
  {
   "cell_type": "markdown",
   "metadata": {},
   "source": [
    "#### read from URL"
   ]
  },
  {
   "cell_type": "markdown",
   "metadata": {},
   "source": [
    "O método `read_csv` também pode ser usado para ler um ficheiro csv a partir de um URL."
   ]
  },
  {
   "cell_type": "code",
   "execution_count": null,
   "metadata": {},
   "outputs": [],
   "source": [
    "df = pd.read_csv('https://raw.githubusercontent.com/scpike/us-state-county-zip/master/geo-data.csv')\n",
    "df"
   ]
  },
  {
   "cell_type": "markdown",
   "metadata": {},
   "source": [
    "#### read zip files"
   ]
  },
  {
   "cell_type": "markdown",
   "metadata": {},
   "source": [
    "##### From Local Computer"
   ]
  },
  {
   "cell_type": "markdown",
   "metadata": {},
   "source": [
    "By assigning the compression argument in `read_csv()` method as `zip`, pandas will create the dataframe from CSV file present in the zipped file. "
   ]
  },
  {
   "cell_type": "code",
   "execution_count": null,
   "metadata": {},
   "outputs": [],
   "source": [
    "import zipfile\n",
    "import pandas as pd\n",
    "\n",
    "# read the dataset using the compression zip\n",
    "df = pd.read_csv('data/paises.zip',compression='zip')\n",
    "\n",
    "# display dataset\n",
    "df"
   ]
  },
  {
   "cell_type": "markdown",
   "metadata": {},
   "source": [
    "##### From the Web"
   ]
  },
  {
   "cell_type": "markdown",
   "metadata": {},
   "source": [
    "If the data file format is .zip, it might contain several files, such as metadata or data files. To read such data files, we need to unzip them first, and the rest depends on what the data file format compresses in the zip file."
   ]
  },
  {
   "cell_type": "code",
   "execution_count": null,
   "metadata": {},
   "outputs": [],
   "source": [
    "import requests\n",
    "import pandas as pd\n",
    "from zipfile import ZipFile\n",
    "from io import BytesIO\n",
    "\n",
    "r = requests.get(\"https://archive.ics.uci.edu/ml/machine-learning-databases/00544/ObesityDataSet_raw_and_data_sinthetic (2).zip\")\n",
    "files = ZipFile(BytesIO(r.content))\n",
    "df = pd.read_csv(files.open(\"ObesityDataSet_raw_and_data_sinthetic.csv\"))\n",
    "df.head()"
   ]
  },
  {
   "cell_type": "markdown",
   "metadata": {},
   "source": [
    "### Excel"
   ]
  },
  {
   "cell_type": "markdown",
   "metadata": {},
   "source": [
    "Considere o ficheiro de Excel `capitais.xlsx`. Para o importar recorremos ao método `read_excel()`."
   ]
  },
  {
   "cell_type": "code",
   "execution_count": null,
   "metadata": {},
   "outputs": [],
   "source": [
    "import pandas as pd\n",
    "df = pd.read_excel(\"data/capitais.xlsx\")\n",
    "df"
   ]
  },
  {
   "cell_type": "markdown",
   "metadata": {},
   "source": [
    "### HTML"
   ]
  },
  {
   "cell_type": "markdown",
   "metadata": {},
   "source": [
    "A função `read_html` permite extrair tabelas de páginas web. No exemplo abaixo mostramos os resultados da tabela 1 extraída da página https://en.wikipedia.org/wiki/Epyc."
   ]
  },
  {
   "cell_type": "code",
   "execution_count": null,
   "metadata": {},
   "outputs": [],
   "source": [
    "import pandas as pd\n",
    "data = pd.read_html('https://en.wikipedia.org/wiki/Epyc')\n",
    "data"
   ]
  },
  {
   "cell_type": "markdown",
   "metadata": {},
   "source": [
    "### JSon"
   ]
  },
  {
   "cell_type": "markdown",
   "metadata": {},
   "source": [
    "JSON (JavaScript Object Notation) é um modelo para armazenamento e transmissão de informações no formato texto.\n",
    "Apesar de muito simples, é o mais utilizado por aplicações Web devido à sua capacidade de estruturar informações de forma compacta e autodescritiva. A listagem a seguir apresenta um exemplo de um ficheiro no formato JSON. O ficheiro, denominado `notas.json`, contém as matrículas de quatro alunos e as notas por eles obtidas em duas provas."
   ]
  },
  {
   "cell_type": "markdown",
   "metadata": {},
   "source": [
    "<img src=\"https://www.di.ubi.pt/~rcampos/assets/img_tutorials/DataScience/json1.jpg\" width=\"300\" height=\"300\" align=\"center\"/>"
   ]
  },
  {
   "cell_type": "markdown",
   "metadata": {},
   "source": [
    "Neste exemplo, as chaves do dicionário são matricula e notas. A primeira está associada a um valor String (matrícula do aluno). Já a segunda chave é um pouco mais interessante, pois está associada a um vetor de números reais, contendo duas notas. É exatamente aí que está o poder do JSON! Ao contrário do formato CSV, o JSON consegue representar não apenas dados tabulares, mas também dados complexos, como\n",
    "vetores, listas, etc."
   ]
  },
  {
   "cell_type": "markdown",
   "metadata": {},
   "source": [
    "A importação de ficheiros JSon para dataframes pandas consiste de dois passos:\n",
    "- Importar o arquivo JSON para um objeto em memória, utilizando o pacote json do Python padrão;\n",
    "- Transferir os dados do objeto para um DataFrame."
   ]
  },
  {
   "cell_type": "markdown",
   "metadata": {},
   "source": [
    "Na primeira parte temos a \"receita de bolo\" para a leitura de ficheiros JSON, que consiste em utilizar o método `load()` do pacote json . Ao ser chamado, este método faz com que o ficheiro JSON inteiro seja carregado para um objeto em memória (que no nosso programa, foi chamado de `data`)."
   ]
  },
  {
   "cell_type": "code",
   "execution_count": null,
   "metadata": {},
   "outputs": [],
   "source": [
    "import pandas as pd\n",
    "import json\n",
    "\n",
    "#(1)-Importa o arquivo JSON para memória\n",
    "with open(\"data/notas.json\") as f:\n",
    "    data = json.load(f)\n",
    "\n",
    "data"
   ]
  },
  {
   "cell_type": "markdown",
   "metadata": {},
   "source": [
    "Na segunda parte, transfere-se o conteúdo do objeto JSON em memória para um DataFrame."
   ]
  },
  {
   "cell_type": "code",
   "execution_count": null,
   "metadata": {},
   "outputs": [],
   "source": [
    "#(2)-Transfere as informações para um DataFrame\n",
    "df = pd.DataFrame(data)\n",
    "df"
   ]
  },
  {
   "cell_type": "markdown",
   "metadata": {},
   "source": [
    "### ClipBoard"
   ]
  },
  {
   "cell_type": "markdown",
   "metadata": {},
   "source": [
    "Uma outra funcionalidade interessante do pandas prende-se com a possibilidade que existe de poder copiar rapidamente  valores a partir da área de transferência (e.g., uma tabela existente num documento do excel ou mesmo do word). Para simular esse processo, abra o ficheiro excel `Clipboard` existente na pasta `data` e copie a seguinte tabela (4 x 3, sendo que a primeira linha é o cabeçalho):"
   ]
  },
  {
   "cell_type": "markdown",
   "metadata": {},
   "source": [
    "<img src=\"https://www.di.ubi.pt/~rcampos/assets/img_tutorials/DataScience/PandasExcel.jpg\" width=\"300\" height=\"300\" align=\"center\"/>"
   ]
  },
  {
   "cell_type": "markdown",
   "metadata": {},
   "source": [
    "De seguida copie o conjunto de células para a memória do seu pc (CTRL-C) e execute o código abaixo:"
   ]
  },
  {
   "cell_type": "code",
   "execution_count": 1,
   "metadata": {},
   "outputs": [
    {
     "data": {
      "text/html": [
       "<div>\n",
       "<style scoped>\n",
       "    .dataframe tbody tr th:only-of-type {\n",
       "        vertical-align: middle;\n",
       "    }\n",
       "\n",
       "    .dataframe tbody tr th {\n",
       "        vertical-align: top;\n",
       "    }\n",
       "\n",
       "    .dataframe thead th {\n",
       "        text-align: right;\n",
       "    }\n",
       "</style>\n",
       "<table border=\"1\" class=\"dataframe\">\n",
       "  <thead>\n",
       "    <tr style=\"text-align: right;\">\n",
       "      <th></th>\n",
       "      <th>id</th>\n",
       "      <th>nome</th>\n",
       "      <th>nota</th>\n",
       "    </tr>\n",
       "  </thead>\n",
       "  <tbody>\n",
       "    <tr>\n",
       "      <th>0</th>\n",
       "      <td>1</td>\n",
       "      <td>Ana</td>\n",
       "      <td>17</td>\n",
       "    </tr>\n",
       "    <tr>\n",
       "      <th>1</th>\n",
       "      <td>2</td>\n",
       "      <td>Carla</td>\n",
       "      <td>18</td>\n",
       "    </tr>\n",
       "    <tr>\n",
       "      <th>2</th>\n",
       "      <td>3</td>\n",
       "      <td>António</td>\n",
       "      <td>19</td>\n",
       "    </tr>\n",
       "  </tbody>\n",
       "</table>\n",
       "</div>"
      ],
      "text/plain": [
       "   id     nome  nota\n",
       "0   1      Ana    17\n",
       "1   2    Carla    18\n",
       "2   3  António    19"
      ]
     },
     "execution_count": 1,
     "metadata": {},
     "output_type": "execute_result"
    }
   ],
   "source": [
    "import pandas as pd\n",
    "df = pd.read_clipboard()\n",
    "df"
   ]
  },
  {
   "cell_type": "markdown",
   "metadata": {},
   "source": [
    "<hr>"
   ]
  },
  {
   "cell_type": "markdown",
   "metadata": {},
   "source": [
    "## Define Specific Fields"
   ]
  },
  {
   "cell_type": "markdown",
   "metadata": {},
   "source": [
    "As seções seguintes ilustram um conjunto de operações que podem ser realizadas aquando da leitura de um ficheiro `csv`."
   ]
  },
  {
   "cell_type": "markdown",
   "metadata": {},
   "source": [
    "### Define index"
   ]
  },
  {
   "cell_type": "markdown",
   "metadata": {},
   "source": [
    "O parâmetro `index_col` permite definir umas das colunas como index:"
   ]
  },
  {
   "cell_type": "code",
   "execution_count": null,
   "metadata": {},
   "outputs": [],
   "source": [
    "import pandas as pd\n",
    "df = pd.read_csv(\"data/paises.csv\",index_col=\"sigla\")\n",
    "df"
   ]
  },
  {
   "cell_type": "markdown",
   "metadata": {},
   "source": [
    "### Load Specific Columns"
   ]
  },
  {
   "cell_type": "markdown",
   "metadata": {},
   "source": [
    "O parâmetro `usecols` permite definir quais as colunas a importar."
   ]
  },
  {
   "cell_type": "code",
   "execution_count": null,
   "metadata": {},
   "outputs": [],
   "source": [
    "import pandas as pd\n",
    "df = pd.read_csv(\"data/paises.csv\",usecols=['sigla','nome'])\n",
    "df"
   ]
  },
  {
   "cell_type": "markdown",
   "metadata": {},
   "source": [
    "### Set variable data type"
   ]
  },
  {
   "cell_type": "markdown",
   "metadata": {},
   "source": [
    "Por defeito qualquer variável inteira é carregada pelo método `read_csv` como `int64`."
   ]
  },
  {
   "cell_type": "code",
   "execution_count": null,
   "metadata": {},
   "outputs": [],
   "source": [
    "import pandas as pd\n",
    "df = pd.read_csv(\"data/paises.csv\")\n",
    "df.dtypes"
   ]
  },
  {
   "cell_type": "markdown",
   "metadata": {},
   "source": [
    "O parâmetro `dtype` permite especificar a conversão da variável para um outro tipo de dados (e.g., `float`) aquando da leitura do ficheiro (uma técnica de compressão habitualmente utilizada para reduzir o tamanho ocupado pelas variáveis em datasets de dimensão considerável - mais sobre isto no curso de big data - notebook compression). No exemplo abaixo recorremos ao parâmetro `dtype` para definir a variável `extensão` como `float`."
   ]
  },
  {
   "cell_type": "code",
   "execution_count": null,
   "metadata": {},
   "outputs": [],
   "source": [
    "import pandas as pd\n",
    "df = pd.read_csv(\"data/paises.csv\",dtype={'extensao':float})\n",
    "df"
   ]
  },
  {
   "cell_type": "markdown",
   "metadata": {},
   "source": [
    "### Treat specific values as NaN"
   ]
  },
  {
   "cell_type": "markdown",
   "metadata": {},
   "source": [
    "Por defeito o pandas considera `#N/A`, `-NaN`, `-n/a`, `N/A`, `NULL`, etc como `NaN` value. Noutras situações, por opção do responsável pelo desenvolvimento do dataset, os valores nulos são representados com recurso a outras denominações (e.g., `Not Available`) ou mais frequentemente pelo número `-9999`. O parâmetro `na_values` permite especificar que um determinado valor deve ser considerado um valor nulo sendo portanto representado aquando da leitura do dataset por `NaN`."
   ]
  },
  {
   "cell_type": "markdown",
   "metadata": {},
   "source": [
    "O exemplo seguinte especifica que o número `-9999` deve ser tratado como um valor nulo (`NaN`)."
   ]
  },
  {
   "cell_type": "code",
   "execution_count": null,
   "metadata": {},
   "outputs": [],
   "source": [
    "import pandas as pd\n",
    "df = pd.read_csv(\"data/paises.csv\",na_values=-9999)\n",
    "df"
   ]
  },
  {
   "cell_type": "markdown",
   "metadata": {},
   "source": [
    "A especificação de mais do que um valor é feita com recurso a uma lista de dados (e.g., [-9999,'Not Available'])."
   ]
  },
  {
   "cell_type": "markdown",
   "metadata": {},
   "source": [
    "### Specify header"
   ]
  },
  {
   "cell_type": "markdown",
   "metadata": {},
   "source": [
    "Em determinadas situações os datasets não possuem header (é o caso do ficheiro `paises_noheader.csv`). O parâmetro `names` permite a especificação de um header (uma lista de nomes para as colunas)."
   ]
  },
  {
   "cell_type": "code",
   "execution_count": null,
   "metadata": {},
   "outputs": [],
   "source": [
    "import pandas as pd\n",
    "df = pd.read_csv(\"data/paises_noheader.csv\", names=['sigla','nome','continente','extensao','corVerde'])\n",
    "df"
   ]
  },
  {
   "cell_type": "markdown",
   "metadata": {},
   "source": [
    "### Specify delimiter"
   ]
  },
  {
   "cell_type": "markdown",
   "metadata": {},
   "source": [
    "Outros datasets possuem um delimitador diferente da vírgula obrigando à especificação de um separador por intermédio do parâmetro `sep` (em muitos csv files a separação dá-se através da tabulação `\\t`)."
   ]
  },
  {
   "cell_type": "markdown",
   "metadata": {},
   "source": [
    "O código seguinte apresenta um programa capaz de importar e formatar o ficheiro `notas.csv`, cujo conteúdo armazena as matrículas de quatro alunos e as notas por eles obtidas em duas diferentes provas. Note que o ficheiro usa ponto e vírgula (`;`) como separador e não possui uma linha de cabeçalho. Para importá-lo e definir uma linha de cabeçalho, basta fazer da seguinte forma:"
   ]
  },
  {
   "cell_type": "code",
   "execution_count": null,
   "metadata": {},
   "outputs": [],
   "source": [
    "import pandas as pd\n",
    "df = pd.read_csv(\"data/notas.csv\", sep=\";\", names=['matricula','nota1','nota2'])\n",
    "df"
   ]
  },
  {
   "cell_type": "markdown",
   "metadata": {},
   "source": [
    "### Select top-x rows"
   ]
  },
  {
   "cell_type": "markdown",
   "metadata": {},
   "source": [
    "Outro parâmetro importante é o `nrows` que permite selecionar as `top-x` rows aí especificadas."
   ]
  },
  {
   "cell_type": "code",
   "execution_count": null,
   "metadata": {},
   "outputs": [],
   "source": [
    "import pandas as pd\n",
    "df = pd.read_csv(\"data/paises.csv\",nrows=2)\n",
    "df"
   ]
  },
  {
   "cell_type": "markdown",
   "metadata": {},
   "source": [
    "### Skip rows"
   ]
  },
  {
   "cell_type": "markdown",
   "metadata": {},
   "source": [
    "#### Ignore top-x rows"
   ]
  },
  {
   "cell_type": "markdown",
   "metadata": {},
   "source": [
    "O método `skip rows` permite especificar o número de linhas a ignorar desde o início do dataframe. "
   ]
  },
  {
   "cell_type": "markdown",
   "metadata": {},
   "source": [
    "##### Dataset without header"
   ]
  },
  {
   "cell_type": "markdown",
   "metadata": {},
   "source": [
    "Neste exemplo ilustramos o load da totalidade de um dataset (`paises_noheader.csv`) que não possui cabeçalho. "
   ]
  },
  {
   "cell_type": "code",
   "execution_count": 2,
   "metadata": {},
   "outputs": [
    {
     "data": {
      "text/html": [
       "<div>\n",
       "<style scoped>\n",
       "    .dataframe tbody tr th:only-of-type {\n",
       "        vertical-align: middle;\n",
       "    }\n",
       "\n",
       "    .dataframe tbody tr th {\n",
       "        vertical-align: top;\n",
       "    }\n",
       "\n",
       "    .dataframe thead th {\n",
       "        text-align: right;\n",
       "    }\n",
       "</style>\n",
       "<table border=\"1\" class=\"dataframe\">\n",
       "  <thead>\n",
       "    <tr style=\"text-align: right;\">\n",
       "      <th></th>\n",
       "      <th>sigla</th>\n",
       "      <th>nome</th>\n",
       "      <th>continente</th>\n",
       "      <th>extensao</th>\n",
       "      <th>corVerde</th>\n",
       "    </tr>\n",
       "  </thead>\n",
       "  <tbody>\n",
       "    <tr>\n",
       "      <th>0</th>\n",
       "      <td>AR</td>\n",
       "      <td>Argentina</td>\n",
       "      <td>América</td>\n",
       "      <td>2780</td>\n",
       "      <td>0</td>\n",
       "    </tr>\n",
       "    <tr>\n",
       "      <th>1</th>\n",
       "      <td>BR</td>\n",
       "      <td>Brasil</td>\n",
       "      <td>América</td>\n",
       "      <td>8511</td>\n",
       "      <td>1</td>\n",
       "    </tr>\n",
       "    <tr>\n",
       "      <th>2</th>\n",
       "      <td>FR</td>\n",
       "      <td>França</td>\n",
       "      <td>Europa</td>\n",
       "      <td>644</td>\n",
       "      <td>0</td>\n",
       "    </tr>\n",
       "    <tr>\n",
       "      <th>3</th>\n",
       "      <td>IT</td>\n",
       "      <td>Itália</td>\n",
       "      <td>Europa</td>\n",
       "      <td>301</td>\n",
       "      <td>1</td>\n",
       "    </tr>\n",
       "    <tr>\n",
       "      <th>4</th>\n",
       "      <td>UK</td>\n",
       "      <td>Reino Unido</td>\n",
       "      <td>Europa</td>\n",
       "      <td>244</td>\n",
       "      <td>0</td>\n",
       "    </tr>\n",
       "  </tbody>\n",
       "</table>\n",
       "</div>"
      ],
      "text/plain": [
       "  sigla         nome continente  extensao  corVerde\n",
       "0    AR    Argentina    América      2780         0\n",
       "1    BR       Brasil    América      8511         1\n",
       "2    FR       França     Europa       644         0\n",
       "3    IT       Itália     Europa       301         1\n",
       "4    UK  Reino Unido     Europa       244         0"
      ]
     },
     "execution_count": 2,
     "metadata": {},
     "output_type": "execute_result"
    }
   ],
   "source": [
    "import pandas as pd\n",
    "df = pd.read_csv(\"data/paises_noheader.csv\",names=['sigla','nome','continente','extensao','corVerde'])\n",
    "df"
   ]
  },
  {
   "cell_type": "markdown",
   "metadata": {},
   "source": [
    "De seguida atribuímos um header ao dataset (a partir do parâmetro `names`) e especificamos `skiprows=2` o que significa que o sistema vai desconsiderar a seleção das duas primeiras linhas do dataset, ou seja, o registo 0 e o registo 1."
   ]
  },
  {
   "cell_type": "code",
   "execution_count": 3,
   "metadata": {},
   "outputs": [
    {
     "data": {
      "text/html": [
       "<div>\n",
       "<style scoped>\n",
       "    .dataframe tbody tr th:only-of-type {\n",
       "        vertical-align: middle;\n",
       "    }\n",
       "\n",
       "    .dataframe tbody tr th {\n",
       "        vertical-align: top;\n",
       "    }\n",
       "\n",
       "    .dataframe thead th {\n",
       "        text-align: right;\n",
       "    }\n",
       "</style>\n",
       "<table border=\"1\" class=\"dataframe\">\n",
       "  <thead>\n",
       "    <tr style=\"text-align: right;\">\n",
       "      <th></th>\n",
       "      <th>sigla</th>\n",
       "      <th>nome</th>\n",
       "      <th>continente</th>\n",
       "      <th>extensao</th>\n",
       "      <th>corVerde</th>\n",
       "    </tr>\n",
       "  </thead>\n",
       "  <tbody>\n",
       "    <tr>\n",
       "      <th>0</th>\n",
       "      <td>FR</td>\n",
       "      <td>França</td>\n",
       "      <td>Europa</td>\n",
       "      <td>644</td>\n",
       "      <td>0</td>\n",
       "    </tr>\n",
       "    <tr>\n",
       "      <th>1</th>\n",
       "      <td>IT</td>\n",
       "      <td>Itália</td>\n",
       "      <td>Europa</td>\n",
       "      <td>301</td>\n",
       "      <td>1</td>\n",
       "    </tr>\n",
       "    <tr>\n",
       "      <th>2</th>\n",
       "      <td>UK</td>\n",
       "      <td>Reino Unido</td>\n",
       "      <td>Europa</td>\n",
       "      <td>244</td>\n",
       "      <td>0</td>\n",
       "    </tr>\n",
       "  </tbody>\n",
       "</table>\n",
       "</div>"
      ],
      "text/plain": [
       "  sigla         nome continente  extensao  corVerde\n",
       "0    FR       França     Europa       644         0\n",
       "1    IT       Itália     Europa       301         1\n",
       "2    UK  Reino Unido     Europa       244         0"
      ]
     },
     "execution_count": 3,
     "metadata": {},
     "output_type": "execute_result"
    }
   ],
   "source": [
    "import pandas as pd\n",
    "df = pd.read_csv(\"data/paises_noheader.csv\",skiprows=2,names=['sigla','nome','continente','extensao','corVerde'])\n",
    "df"
   ]
  },
  {
   "cell_type": "markdown",
   "metadata": {},
   "source": [
    "Ao invés de especificar `top-x` linhas é possível passar uma lista com os índices a desconsiderar no processo de seleção. No exemplo abaixo indicamos ao sistema que os registos com o índice 0 (da Argentina) e o índice 3 (da Itália) não devem ser selecionados."
   ]
  },
  {
   "cell_type": "code",
   "execution_count": null,
   "metadata": {},
   "outputs": [],
   "source": [
    "import pandas as pd\n",
    "df = pd.read_csv(\"data/paises_noheader.csv\",skiprows=[0,3],names=['sigla','nome','continente','extensao','corVerde'])\n",
    "df"
   ]
  },
  {
   "cell_type": "markdown",
   "metadata": {},
   "source": [
    "##### Dataset with header"
   ]
  },
  {
   "cell_type": "markdown",
   "metadata": {},
   "source": [
    "Nos casos em que o dataset tenha header é necessário especificar não só o parâmetro `header = 0`, assim como o próprio cabeçalho através do parâmetro `names`. A não especificação deste parâmetro faz com que o header seja considerado um registo normal, que não será selecionado, sendo que nestes casos o cabeçalho passaria a ser o de um registo (no caso o do terceiro registo)."
   ]
  },
  {
   "cell_type": "code",
   "execution_count": 4,
   "metadata": {},
   "outputs": [
    {
     "data": {
      "text/html": [
       "<div>\n",
       "<style scoped>\n",
       "    .dataframe tbody tr th:only-of-type {\n",
       "        vertical-align: middle;\n",
       "    }\n",
       "\n",
       "    .dataframe tbody tr th {\n",
       "        vertical-align: top;\n",
       "    }\n",
       "\n",
       "    .dataframe thead th {\n",
       "        text-align: right;\n",
       "    }\n",
       "</style>\n",
       "<table border=\"1\" class=\"dataframe\">\n",
       "  <thead>\n",
       "    <tr style=\"text-align: right;\">\n",
       "      <th></th>\n",
       "      <th>sigla</th>\n",
       "      <th>nome</th>\n",
       "      <th>continente</th>\n",
       "      <th>extensao</th>\n",
       "      <th>corVerde</th>\n",
       "    </tr>\n",
       "  </thead>\n",
       "  <tbody>\n",
       "    <tr>\n",
       "      <th>0</th>\n",
       "      <td>FR</td>\n",
       "      <td>França</td>\n",
       "      <td>Europa</td>\n",
       "      <td>644</td>\n",
       "      <td>0</td>\n",
       "    </tr>\n",
       "    <tr>\n",
       "      <th>1</th>\n",
       "      <td>IT</td>\n",
       "      <td>Itália</td>\n",
       "      <td>Europa</td>\n",
       "      <td>301</td>\n",
       "      <td>1</td>\n",
       "    </tr>\n",
       "    <tr>\n",
       "      <th>2</th>\n",
       "      <td>UK</td>\n",
       "      <td>Reino Unido</td>\n",
       "      <td>Europa</td>\n",
       "      <td>244</td>\n",
       "      <td>0</td>\n",
       "    </tr>\n",
       "  </tbody>\n",
       "</table>\n",
       "</div>"
      ],
      "text/plain": [
       "  sigla         nome continente  extensao  corVerde\n",
       "0    FR       França     Europa       644         0\n",
       "1    IT       Itália     Europa       301         1\n",
       "2    UK  Reino Unido     Europa       244         0"
      ]
     },
     "execution_count": 4,
     "metadata": {},
     "output_type": "execute_result"
    }
   ],
   "source": [
    "import pandas as pd\n",
    "df = pd.read_csv(\"data/paises.csv\",skiprows=2, header = 0, names=['sigla','nome','continente','extensao','corVerde'])\n",
    "df"
   ]
  },
  {
   "cell_type": "markdown",
   "metadata": {},
   "source": [
    "Ao invés de especificar `top-x` linhas é possível passar uma lista com os índices a desconsiderar no processo de seleção. No código abaixo voltamos a fazer o load da totalidade do dataset para efeitos de comparação posterior com o skiprows."
   ]
  },
  {
   "cell_type": "code",
   "execution_count": 5,
   "metadata": {},
   "outputs": [
    {
     "data": {
      "text/html": [
       "<div>\n",
       "<style scoped>\n",
       "    .dataframe tbody tr th:only-of-type {\n",
       "        vertical-align: middle;\n",
       "    }\n",
       "\n",
       "    .dataframe tbody tr th {\n",
       "        vertical-align: top;\n",
       "    }\n",
       "\n",
       "    .dataframe thead th {\n",
       "        text-align: right;\n",
       "    }\n",
       "</style>\n",
       "<table border=\"1\" class=\"dataframe\">\n",
       "  <thead>\n",
       "    <tr style=\"text-align: right;\">\n",
       "      <th></th>\n",
       "      <th>sigla</th>\n",
       "      <th>nome</th>\n",
       "      <th>continente</th>\n",
       "      <th>extensao</th>\n",
       "      <th>corVerde</th>\n",
       "    </tr>\n",
       "  </thead>\n",
       "  <tbody>\n",
       "    <tr>\n",
       "      <th>0</th>\n",
       "      <td>AR</td>\n",
       "      <td>Argentina</td>\n",
       "      <td>América</td>\n",
       "      <td>-9999</td>\n",
       "      <td>0</td>\n",
       "    </tr>\n",
       "    <tr>\n",
       "      <th>1</th>\n",
       "      <td>BR</td>\n",
       "      <td>Brasil</td>\n",
       "      <td>América</td>\n",
       "      <td>8511</td>\n",
       "      <td>1</td>\n",
       "    </tr>\n",
       "    <tr>\n",
       "      <th>2</th>\n",
       "      <td>FR</td>\n",
       "      <td>França</td>\n",
       "      <td>Europa</td>\n",
       "      <td>644</td>\n",
       "      <td>0</td>\n",
       "    </tr>\n",
       "    <tr>\n",
       "      <th>3</th>\n",
       "      <td>IT</td>\n",
       "      <td>Itália</td>\n",
       "      <td>Europa</td>\n",
       "      <td>301</td>\n",
       "      <td>1</td>\n",
       "    </tr>\n",
       "    <tr>\n",
       "      <th>4</th>\n",
       "      <td>UK</td>\n",
       "      <td>Reino Unido</td>\n",
       "      <td>Europa</td>\n",
       "      <td>244</td>\n",
       "      <td>0</td>\n",
       "    </tr>\n",
       "  </tbody>\n",
       "</table>\n",
       "</div>"
      ],
      "text/plain": [
       "  sigla         nome continente  extensao  corVerde\n",
       "0    AR    Argentina    América     -9999         0\n",
       "1    BR       Brasil    América      8511         1\n",
       "2    FR       França     Europa       644         0\n",
       "3    IT       Itália     Europa       301         1\n",
       "4    UK  Reino Unido     Europa       244         0"
      ]
     },
     "execution_count": 5,
     "metadata": {},
     "output_type": "execute_result"
    }
   ],
   "source": [
    "import pandas as pd\n",
    "df = pd.read_csv(\"data/paises.csv\")\n",
    "df"
   ]
  },
  {
   "cell_type": "markdown",
   "metadata": {},
   "source": [
    "Tal como em exemplos anteriores, o objetivo passa por eliminar os registos da Argentina e da Itália. A existência de um header no dataset (correspondente ao índice 0) pressupõe que os índices da Argentina e da Itália são 1 e 4 respetivamente. Ou seja, a existência de um header conta como índice (no caso, índice 0)."
   ]
  },
  {
   "cell_type": "code",
   "execution_count": 6,
   "metadata": {},
   "outputs": [
    {
     "data": {
      "text/html": [
       "<div>\n",
       "<style scoped>\n",
       "    .dataframe tbody tr th:only-of-type {\n",
       "        vertical-align: middle;\n",
       "    }\n",
       "\n",
       "    .dataframe tbody tr th {\n",
       "        vertical-align: top;\n",
       "    }\n",
       "\n",
       "    .dataframe thead th {\n",
       "        text-align: right;\n",
       "    }\n",
       "</style>\n",
       "<table border=\"1\" class=\"dataframe\">\n",
       "  <thead>\n",
       "    <tr style=\"text-align: right;\">\n",
       "      <th></th>\n",
       "      <th>sigla</th>\n",
       "      <th>nome</th>\n",
       "      <th>continente</th>\n",
       "      <th>extensao</th>\n",
       "      <th>corVerde</th>\n",
       "    </tr>\n",
       "  </thead>\n",
       "  <tbody>\n",
       "    <tr>\n",
       "      <th>0</th>\n",
       "      <td>BR</td>\n",
       "      <td>Brasil</td>\n",
       "      <td>América</td>\n",
       "      <td>8511</td>\n",
       "      <td>1</td>\n",
       "    </tr>\n",
       "    <tr>\n",
       "      <th>1</th>\n",
       "      <td>FR</td>\n",
       "      <td>França</td>\n",
       "      <td>Europa</td>\n",
       "      <td>644</td>\n",
       "      <td>0</td>\n",
       "    </tr>\n",
       "    <tr>\n",
       "      <th>2</th>\n",
       "      <td>UK</td>\n",
       "      <td>Reino Unido</td>\n",
       "      <td>Europa</td>\n",
       "      <td>244</td>\n",
       "      <td>0</td>\n",
       "    </tr>\n",
       "  </tbody>\n",
       "</table>\n",
       "</div>"
      ],
      "text/plain": [
       "  sigla         nome continente  extensao  corVerde\n",
       "0    BR       Brasil    América      8511         1\n",
       "1    FR       França     Europa       644         0\n",
       "2    UK  Reino Unido     Europa       244         0"
      ]
     },
     "execution_count": 6,
     "metadata": {},
     "output_type": "execute_result"
    }
   ],
   "source": [
    "import pandas as pd\n",
    "df = pd.read_csv(\"data/paises.csv\",skiprows=[1,4])\n",
    "df"
   ]
  },
  {
   "cell_type": "markdown",
   "metadata": {},
   "source": [
    "Suponha agora que pretende eliminar três registos a partir da segunda linha. Com vista a esse objetivo pode recorrer ao range como exemplificado abaixo:"
   ]
  },
  {
   "cell_type": "code",
   "execution_count": 7,
   "metadata": {},
   "outputs": [
    {
     "data": {
      "text/plain": [
       "[2, 3, 4]"
      ]
     },
     "execution_count": 7,
     "metadata": {},
     "output_type": "execute_result"
    }
   ],
   "source": [
    "ListOfIndexes = [i for i in range(2, 5)]\n",
    "ListOfIndexes"
   ]
  },
  {
   "cell_type": "code",
   "execution_count": 8,
   "metadata": {},
   "outputs": [
    {
     "data": {
      "text/html": [
       "<div>\n",
       "<style scoped>\n",
       "    .dataframe tbody tr th:only-of-type {\n",
       "        vertical-align: middle;\n",
       "    }\n",
       "\n",
       "    .dataframe tbody tr th {\n",
       "        vertical-align: top;\n",
       "    }\n",
       "\n",
       "    .dataframe thead th {\n",
       "        text-align: right;\n",
       "    }\n",
       "</style>\n",
       "<table border=\"1\" class=\"dataframe\">\n",
       "  <thead>\n",
       "    <tr style=\"text-align: right;\">\n",
       "      <th></th>\n",
       "      <th>sigla</th>\n",
       "      <th>nome</th>\n",
       "      <th>continente</th>\n",
       "      <th>extensao</th>\n",
       "      <th>corVerde</th>\n",
       "    </tr>\n",
       "  </thead>\n",
       "  <tbody>\n",
       "    <tr>\n",
       "      <th>0</th>\n",
       "      <td>AR</td>\n",
       "      <td>Argentina</td>\n",
       "      <td>América</td>\n",
       "      <td>-9999</td>\n",
       "      <td>0</td>\n",
       "    </tr>\n",
       "    <tr>\n",
       "      <th>1</th>\n",
       "      <td>UK</td>\n",
       "      <td>Reino Unido</td>\n",
       "      <td>Europa</td>\n",
       "      <td>244</td>\n",
       "      <td>0</td>\n",
       "    </tr>\n",
       "  </tbody>\n",
       "</table>\n",
       "</div>"
      ],
      "text/plain": [
       "  sigla         nome continente  extensao  corVerde\n",
       "0    AR    Argentina    América     -9999         0\n",
       "1    UK  Reino Unido     Europa       244         0"
      ]
     },
     "execution_count": 8,
     "metadata": {},
     "output_type": "execute_result"
    }
   ],
   "source": [
    "import pandas as pd\n",
    "df = pd.read_csv(\"data/paises.csv\",skiprows=ListOfIndexes)\n",
    "df"
   ]
  },
  {
   "cell_type": "markdown",
   "metadata": {},
   "source": [
    "Finalmente é possível recorrer a funções que sejam aplicadas a cada um dos registos do dataset. No exemplo seguinte fazemos um `skip` da linha cujo index é divisivel por 5."
   ]
  },
  {
   "cell_type": "code",
   "execution_count": null,
   "metadata": {},
   "outputs": [],
   "source": [
    "def logic(index):\n",
    "    if index % 5 == 0:\n",
    "        return True\n",
    "    \n",
    "    return False\n",
    "\n",
    "df = pd.read_csv(\"data/paises.csv\", skiprows = lambda x: logic(x), names=['sigla','nome','continente','extensao','corVerde'])\n",
    "df"
   ]
  },
  {
   "cell_type": "markdown",
   "metadata": {},
   "source": [
    "<hr>"
   ]
  },
  {
   "cell_type": "markdown",
   "metadata": {},
   "source": [
    "# Save Files"
   ]
  },
  {
   "cell_type": "markdown",
   "metadata": {},
   "source": [
    "## Save2Pickle"
   ]
  },
  {
   "cell_type": "markdown",
   "metadata": {},
   "source": [
    "Se quiser guardar o conteúdo do dataframe, como dataframe para futura utilização recorra ao seguinte código:"
   ]
  },
  {
   "cell_type": "markdown",
   "metadata": {},
   "source": [
    "Comece por considerar o seguinte dataframe:"
   ]
  },
  {
   "cell_type": "code",
   "execution_count": null,
   "metadata": {},
   "outputs": [],
   "source": [
    "import pandas as pd\n",
    "\n",
    "#cria o DataFrame\n",
    "data = {'codigo': [1001,1002,1003,1004,1005], 'nome': ['Leite','Café','Biscoito','Chá','Torradas']}\n",
    "df = pd.DataFrame(data)\n",
    "df"
   ]
  },
  {
   "cell_type": "markdown",
   "metadata": {},
   "source": [
    "De seguida execute o seguinte código para gravar o dataframe no disco:"
   ]
  },
  {
   "cell_type": "code",
   "execution_count": null,
   "metadata": {},
   "outputs": [],
   "source": [
    "df.to_pickle(\"data/dataframe.pkl\")"
   ]
  },
  {
   "cell_type": "markdown",
   "metadata": {},
   "source": [
    "Posteriormente pode importá-lo da seguinte forma:"
   ]
  },
  {
   "cell_type": "code",
   "execution_count": null,
   "metadata": {},
   "outputs": [],
   "source": [
    "import pandas as pd\n",
    "df = pd.read_pickle(\"data/dataframe.pkl\")\n",
    "df.head()"
   ]
  },
  {
   "cell_type": "markdown",
   "metadata": {},
   "source": [
    "## Save2CSV"
   ]
  },
  {
   "cell_type": "markdown",
   "metadata": {},
   "source": [
    "Se quiser gravar o conteúdo de um DataFrame em memória para um arquivo CSV, deverá utilizar o método `to_csv()`."
   ]
  },
  {
   "cell_type": "code",
   "execution_count": null,
   "metadata": {},
   "outputs": [],
   "source": [
    "import pandas as pd\n",
    "\n",
    "#cria o DataFrame\n",
    "data = {'codigo': [1001,1002,1003,1004,1005], 'nome': ['Leite','Café','Biscoito','Chá','Torradas']}\n",
    "df = pd.DataFrame(data)\n",
    "df"
   ]
  },
  {
   "cell_type": "markdown",
   "metadata": {},
   "source": [
    "Neste exemplo, realiza-se a gravação do ficheiro `produtos.csv` a partir do conteúdo do DataFrame `df`. Nos parâmetros do método `to_csv()`, a tabulação `\\t` foi adotada como caractere delimitador (parâmetro sep ) e a opção `index=False` foi utilizada para evitar que os rótulos dos índices (números inteiros) fossem gravados no ficheiro."
   ]
  },
  {
   "cell_type": "code",
   "execution_count": null,
   "metadata": {},
   "outputs": [],
   "source": [
    "#salva o seu conteúdo para um ficheiro\n",
    "df.to_csv(\"data/produtos.csv\", sep=\"\\t\", index=False)"
   ]
  },
  {
   "cell_type": "markdown",
   "metadata": {},
   "source": [
    "<hr>"
   ]
  },
  {
   "cell_type": "markdown",
   "metadata": {},
   "source": [
    "## Save2Excel"
   ]
  },
  {
   "cell_type": "code",
   "execution_count": null,
   "metadata": {},
   "outputs": [],
   "source": [
    "df.to_excel(\"data/produtos.xlsx\")"
   ]
  },
  {
   "cell_type": "markdown",
   "metadata": {},
   "source": [
    "## Save2HTML"
   ]
  },
  {
   "cell_type": "code",
   "execution_count": null,
   "metadata": {},
   "outputs": [],
   "source": [
    "df.to_html(\"data/pandas.html\")"
   ]
  },
  {
   "cell_type": "markdown",
   "metadata": {},
   "source": [
    "or:"
   ]
  },
  {
   "cell_type": "code",
   "execution_count": null,
   "metadata": {},
   "outputs": [],
   "source": [
    "html = df.to_html()\n",
    "with open(\"pandas.html\", \"w\", encoding=\"utf-8\") as file:\n",
    "    file.write(html)"
   ]
  },
  {
   "cell_type": "markdown",
   "metadata": {},
   "source": [
    "<hr>"
   ]
  },
  {
   "cell_type": "markdown",
   "metadata": {},
   "source": [
    "# Memory Usage"
   ]
  },
  {
   "cell_type": "markdown",
   "metadata": {},
   "source": [
    "Voltamos a fazer load do dataset acima usado:"
   ]
  },
  {
   "cell_type": "code",
   "execution_count": null,
   "metadata": {},
   "outputs": [],
   "source": [
    "import pandas as pd\n",
    "df = pd.read_csv(\"data/paises.csv\",index_col=\"sigla\")\n",
    "df"
   ]
  },
  {
   "cell_type": "markdown",
   "metadata": {},
   "source": [
    "To know the size of the dataset we can use the `info()` function. Pandas `info()` function is mainly used for information about each of the columns, their data types, and how many values are not null for each variable. Pandas `info()` fnction also gives us the memory usage at the end of its report."
   ]
  },
  {
   "cell_type": "code",
   "execution_count": null,
   "metadata": {},
   "outputs": [],
   "source": [
    "df.info()"
   ]
  },
  {
   "cell_type": "markdown",
   "metadata": {},
   "source": [
    "To get the full memory usage (including the memory occupied by the values of each variable), we provide `memory_usage='deep'` argument to `info()`."
   ]
  },
  {
   "cell_type": "code",
   "execution_count": null,
   "metadata": {},
   "outputs": [],
   "source": [
    "df.info(memory_usage=\"deep\")"
   ]
  },
  {
   "cell_type": "markdown",
   "metadata": {},
   "source": [
    "Pandas `info()` function gave the total memory used by a dataframe. However, sometimes you may want memory used by each column in a Pandas dataframe. We can get each column/variable level memory usage (in bytes) using Pandas `memory_usage()` function."
   ]
  },
  {
   "cell_type": "code",
   "execution_count": null,
   "metadata": {},
   "outputs": [],
   "source": [
    "# Finally, let's see the memory usage of each dimension.\n",
    "df.memory_usage() "
   ]
  },
  {
   "cell_type": "markdown",
   "metadata": {},
   "source": [
    "However, that’s not all the memory being used: there’s also the memory being used by the variables themselves. With `deep=False`, the memory used by the strings is not counted; with `deep=True`, it is."
   ]
  },
  {
   "cell_type": "markdown",
   "metadata": {},
   "source": [
    "Since `memory_usage()` function returns a dataframe of memory usage, we can sum it to get the total memory used."
   ]
  },
  {
   "cell_type": "code",
   "execution_count": null,
   "metadata": {},
   "outputs": [],
   "source": [
    "df_memory = df.memory_usage(deep=True).sum()\n",
    "print('Total memory consumption is', df_memory,'Bytes.')"
   ]
  },
  {
   "cell_type": "markdown",
   "metadata": {},
   "source": [
    "# Big Files"
   ]
  },
  {
   "cell_type": "markdown",
   "metadata": {},
   "source": [
    "To process big files see the big data course (namely the compression, databases and chunking notebooks). Optional notebooks: dask and pyspark."
   ]
  },
  {
   "cell_type": "markdown",
   "metadata": {},
   "source": [
    "<img src=\"https://www.di.ubi.pt/~rcampos/assets/img_tutorials/DataScience/dask.jpg\" width=\"300\" height=\"300\" align=\"center\"/>"
   ]
  },
  {
   "cell_type": "markdown",
   "metadata": {},
   "source": [
    "<center>https://medium.datadriveninvestor.com/pandas-dask-or-pyspark-what-should-you-choose-for-your-dataset-c0f67e1b1d36</center>"
   ]
  }
 ],
 "metadata": {
  "kernelspec": {
   "display_name": "Python 3 (ipykernel)",
   "language": "python",
   "name": "python3"
  },
  "language_info": {
   "codemirror_mode": {
    "name": "ipython",
    "version": 3
   },
   "file_extension": ".py",
   "mimetype": "text/x-python",
   "name": "python",
   "nbconvert_exporter": "python",
   "pygments_lexer": "ipython3",
   "version": "3.9.7"
  },
  "toc": {
   "base_numbering": 1,
   "nav_menu": {},
   "number_sections": true,
   "sideBar": true,
   "skip_h1_title": false,
   "title_cell": "Table of Contents",
   "title_sidebar": "Contents",
   "toc_cell": true,
   "toc_position": {
    "height": "calc(100% - 180px)",
    "left": "10px",
    "top": "150px",
    "width": "303.333px"
   },
   "toc_section_display": true,
   "toc_window_display": true
  }
 },
 "nbformat": 4,
 "nbformat_minor": 2
}
