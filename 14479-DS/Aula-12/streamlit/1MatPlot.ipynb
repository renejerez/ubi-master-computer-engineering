{
 "cells": [
  {
   "cell_type": "markdown",
   "metadata": {},
   "source": [
    "<div style=\"border: 1px solid black\">\n",
    "<b><center><font size=\"4\">Data Science</font></center></b>\n",
    "\n",
    "<b><center><font size=\"3\">Visualização de Dados</font></center></b>\n",
    "\n",
    "<b><center><font size=\"2\">1 - Matplotlib</font></center></b>\n",
    "</div>"
   ]
  },
  {
   "cell_type": "markdown",
   "metadata": {},
   "source": [
    "**Notebook Developed by**: [Ricardo Campos](https://www.di.ubi.pt/~rcampos)<br>\n",
    "**email:**  ricardo.campos@ubi.pt<br>\n",
    "**Affiliation:** *Assistant Professor* @ [University of Beira Interior](http://www.ubi.pt);\n",
    "*Researcher* @ [LIAAD](https://www.inesctec.pt/en/centres/liaad)-[INESC TEC](https://www.inesctec.pt/en)\n",
    "\n",
    "<hr>\n",
    "\n",
    "<p><a href=\"1MatPlot.ipynb\" title=\"Download Notebook\" download><img src=\"https://www.di.ubi.pt/~rcampos/assets/img_tutorials/download.jpg\" align = \"left\" width=\"50\" height=\"50\" alt=\"Download Notebook\"></a></p>\n",
    "<p>&nbsp;</p>\n",
    "<p>&nbsp;</p>\n",
    "\n",
    "<hr>"
   ]
  },
  {
   "cell_type": "markdown",
   "metadata": {
    "toc": true
   },
   "source": [
    "<h1>Table of Contents<span class=\"tocSkip\"></span></h1>\n",
    "<div class=\"toc\"><ul class=\"toc-item\"><li><span><a href=\"#Cheat-Sheet\" data-toc-modified-id=\"Cheat-Sheet-1\"><span class=\"toc-item-num\">1&nbsp;&nbsp;</span>Cheat Sheet</a></span></li><li><span><a href=\"#Get-Started\" data-toc-modified-id=\"Get-Started-2\"><span class=\"toc-item-num\">2&nbsp;&nbsp;</span>Get Started</a></span></li><li><span><a href=\"#Create-Plot\" data-toc-modified-id=\"Create-Plot-3\"><span class=\"toc-item-num\">3&nbsp;&nbsp;</span>Create Plot</a></span><ul class=\"toc-item\"><li><span><a href=\"#From-a-List\" data-toc-modified-id=\"From-a-List-3.1\"><span class=\"toc-item-num\">3.1&nbsp;&nbsp;</span>From a List</a></span></li><li><span><a href=\"#From-a-Numpy-Array\" data-toc-modified-id=\"From-a-Numpy-Array-3.2\"><span class=\"toc-item-num\">3.2&nbsp;&nbsp;</span>From a Numpy Array</a></span></li><li><span><a href=\"#From-Pandas\" data-toc-modified-id=\"From-Pandas-3.3\"><span class=\"toc-item-num\">3.3&nbsp;&nbsp;</span>From Pandas</a></span></li></ul></li><li><span><a href=\"#Matplotlib-Features\" data-toc-modified-id=\"Matplotlib-Features-4\"><span class=\"toc-item-num\">4&nbsp;&nbsp;</span>Matplotlib Features</a></span><ul class=\"toc-item\"><li><span><a href=\"#xlim-ylim\" data-toc-modified-id=\"xlim-ylim-4.1\"><span class=\"toc-item-num\">4.1&nbsp;&nbsp;</span>xlim-ylim</a></span></li><li><span><a href=\"#Grid\" data-toc-modified-id=\"Grid-4.2\"><span class=\"toc-item-num\">4.2&nbsp;&nbsp;</span>Grid</a></span></li><li><span><a href=\"#Formatting\" data-toc-modified-id=\"Formatting-4.3\"><span class=\"toc-item-num\">4.3&nbsp;&nbsp;</span>Formatting</a></span><ul class=\"toc-item\"><li><span><a href=\"#Color\" data-toc-modified-id=\"Color-4.3.1\"><span class=\"toc-item-num\">4.3.1&nbsp;&nbsp;</span>Color</a></span></li><li><span><a href=\"#Linewidth\" data-toc-modified-id=\"Linewidth-4.3.2\"><span class=\"toc-item-num\">4.3.2&nbsp;&nbsp;</span>Linewidth</a></span></li><li><span><a href=\"#Alpha\" data-toc-modified-id=\"Alpha-4.3.3\"><span class=\"toc-item-num\">4.3.3&nbsp;&nbsp;</span>Alpha</a></span></li><li><span><a href=\"#Linestyle\" data-toc-modified-id=\"Linestyle-4.3.4\"><span class=\"toc-item-num\">4.3.4&nbsp;&nbsp;</span>Linestyle</a></span></li><li><span><a href=\"#Marker\" data-toc-modified-id=\"Marker-4.3.5\"><span class=\"toc-item-num\">4.3.5&nbsp;&nbsp;</span>Marker</a></span></li></ul></li><li><span><a href=\"#Title\" data-toc-modified-id=\"Title-4.4\"><span class=\"toc-item-num\">4.4&nbsp;&nbsp;</span>Title</a></span></li><li><span><a href=\"#Axis-Caption-(x/y-label)\" data-toc-modified-id=\"Axis-Caption-(x/y-label)-4.5\"><span class=\"toc-item-num\">4.5&nbsp;&nbsp;</span>Axis Caption (x/y label)</a></span></li><li><span><a href=\"#Ticks-(x/y-ticks)\" data-toc-modified-id=\"Ticks-(x/y-ticks)-4.6\"><span class=\"toc-item-num\">4.6&nbsp;&nbsp;</span>Ticks (x/y ticks)</a></span></li><li><span><a href=\"#Legend\" data-toc-modified-id=\"Legend-4.7\"><span class=\"toc-item-num\">4.7&nbsp;&nbsp;</span>Legend</a></span></li><li><span><a href=\"#FigSize\" data-toc-modified-id=\"FigSize-4.8\"><span class=\"toc-item-num\">4.8&nbsp;&nbsp;</span>FigSize</a></span></li><li><span><a href=\"#Save-Plot\" data-toc-modified-id=\"Save-Plot-4.9\"><span class=\"toc-item-num\">4.9&nbsp;&nbsp;</span>Save Plot</a></span></li></ul></li><li><span><a href=\"#Subplots\" data-toc-modified-id=\"Subplots-5\"><span class=\"toc-item-num\">5&nbsp;&nbsp;</span>Subplots</a></span><ul class=\"toc-item\"><li><span><a href=\"#By-Index\" data-toc-modified-id=\"By-Index-5.1\"><span class=\"toc-item-num\">5.1&nbsp;&nbsp;</span>By Index</a></span><ul class=\"toc-item\"><li><span><a href=\"#One-Row-/-Multiple-Columns\" data-toc-modified-id=\"One-Row-/-Multiple-Columns-5.1.1\"><span class=\"toc-item-num\">5.1.1&nbsp;&nbsp;</span>One Row / Multiple Columns</a></span></li><li><span><a href=\"#Multiple-Rows-/-One-Column\" data-toc-modified-id=\"Multiple-Rows-/-One-Column-5.1.2\"><span class=\"toc-item-num\">5.1.2&nbsp;&nbsp;</span>Multiple Rows / One Column</a></span></li><li><span><a href=\"#Multiple-Rows-/-Multiple-Columns\" data-toc-modified-id=\"Multiple-Rows-/-Multiple-Columns-5.1.3\"><span class=\"toc-item-num\">5.1.3&nbsp;&nbsp;</span>Multiple Rows / Multiple Columns</a></span></li></ul></li><li><span><a href=\"#Best-Option-to-Create-SubPlots\" data-toc-modified-id=\"Best-Option-to-Create-SubPlots-5.2\"><span class=\"toc-item-num\">5.2&nbsp;&nbsp;</span>Best Option to Create SubPlots</a></span></li></ul></li><li><span><a href=\"#Plot-Gallery\" data-toc-modified-id=\"Plot-Gallery-6\"><span class=\"toc-item-num\">6&nbsp;&nbsp;</span>Plot Gallery</a></span><ul class=\"toc-item\"><li><span><a href=\"#Datasets\" data-toc-modified-id=\"Datasets-6.1\"><span class=\"toc-item-num\">6.1&nbsp;&nbsp;</span>Datasets</a></span></li><li><span><a href=\"#Line-Chart\" data-toc-modified-id=\"Line-Chart-6.2\"><span class=\"toc-item-num\">6.2&nbsp;&nbsp;</span>Line Chart</a></span></li><li><span><a href=\"#Pie-Chart\" data-toc-modified-id=\"Pie-Chart-6.3\"><span class=\"toc-item-num\">6.3&nbsp;&nbsp;</span>Pie Chart</a></span></li><li><span><a href=\"#Bar-Plot\" data-toc-modified-id=\"Bar-Plot-6.4\"><span class=\"toc-item-num\">6.4&nbsp;&nbsp;</span>Bar Plot</a></span><ul class=\"toc-item\"><li><span><a href=\"#Vertical-Bar-Plot\" data-toc-modified-id=\"Vertical-Bar-Plot-6.4.1\"><span class=\"toc-item-num\">6.4.1&nbsp;&nbsp;</span>Vertical Bar Plot</a></span></li><li><span><a href=\"#Horizontal-Bar-Plot\" data-toc-modified-id=\"Horizontal-Bar-Plot-6.4.2\"><span class=\"toc-item-num\">6.4.2&nbsp;&nbsp;</span>Horizontal Bar Plot</a></span></li><li><span><a href=\"#Grouped-Bar-Plot\" data-toc-modified-id=\"Grouped-Bar-Plot-6.4.3\"><span class=\"toc-item-num\">6.4.3&nbsp;&nbsp;</span>Grouped Bar Plot</a></span></li><li><span><a href=\"#Stacked-Bar-Plot\" data-toc-modified-id=\"Stacked-Bar-Plot-6.4.4\"><span class=\"toc-item-num\">6.4.4&nbsp;&nbsp;</span>Stacked Bar Plot</a></span></li></ul></li><li><span><a href=\"#ScatterPlots\" data-toc-modified-id=\"ScatterPlots-6.5\"><span class=\"toc-item-num\">6.5&nbsp;&nbsp;</span>ScatterPlots</a></span></li><li><span><a href=\"#Histograms\" data-toc-modified-id=\"Histograms-6.6\"><span class=\"toc-item-num\">6.6&nbsp;&nbsp;</span>Histograms</a></span></li><li><span><a href=\"#BoxPlot\" data-toc-modified-id=\"BoxPlot-6.7\"><span class=\"toc-item-num\">6.7&nbsp;&nbsp;</span>BoxPlot</a></span></li><li><span><a href=\"#Heatmap\" data-toc-modified-id=\"Heatmap-6.8\"><span class=\"toc-item-num\">6.8&nbsp;&nbsp;</span>Heatmap</a></span></li><li><span><a href=\"#Log-Log-Plots\" data-toc-modified-id=\"Log-Log-Plots-6.9\"><span class=\"toc-item-num\">6.9&nbsp;&nbsp;</span>Log-Log Plots</a></span></li><li><span><a href=\"#Finance-Plots\" data-toc-modified-id=\"Finance-Plots-6.10\"><span class=\"toc-item-num\">6.10&nbsp;&nbsp;</span>Finance Plots</a></span><ul class=\"toc-item\"><li><span><a href=\"#Pandas_DataReader\" data-toc-modified-id=\"Pandas_DataReader-6.10.1\"><span class=\"toc-item-num\">6.10.1&nbsp;&nbsp;</span>Pandas_DataReader</a></span></li><li><span><a href=\"#Finance-Plots-Candlestick\" data-toc-modified-id=\"Finance-Plots-Candlestick-6.10.2\"><span class=\"toc-item-num\">6.10.2&nbsp;&nbsp;</span>Finance Plots Candlestick</a></span></li></ul></li></ul></li></ul></div>"
   ]
  },
  {
   "cell_type": "markdown",
   "metadata": {},
   "source": [
    "# Matplotlib"
   ]
  },
  {
   "cell_type": "markdown",
   "metadata": {},
   "source": [
    "<div class=\"alert alert-success alertsuccess\" style=\"margin-top: 20px\">\n",
    "\n",
    "## Objetivos de aprendizagem  <a class=\"tocSkip\">\n",
    "    \n",
    "No final deste notebook o aluno deverá dominar a criação de gráficos com recurso ao Matplotlib.\n",
    "\n",
    "\n",
    "## Learning Objectives  <a class=\"tocSkip\">\n",
    "       \n",
    "When concluding this notebook, the student should master the creation of plots using Matplotlib. </div>"
   ]
  },
  {
   "cell_type": "markdown",
   "metadata": {},
   "source": [
    "<div class=\"alert alert-success alertsuccess\" style=\"margin-top: 20px\">\n",
    "\n",
    "## Sumário  <a class=\"tocSkip\">\n",
    "### Visualização de Dados com Matplotlib <a class=\"tocSkip\">\n",
    "\n",
    "Introdução dos alunos à visualização de dados com Matplotlib\n",
    "- criação de plots (a partir de uma lista de dados, arrays numpy, dataframes)\n",
    "- características de um gráfico matplotlib\n",
    "- subplots\n",
    "- galeria de plots (gráficos de linhas, circulares, barras, dispersão, histogramas, mapa de cores, log-log, financeiros)\n",
    "    \n",
    "## Class Summary  <a class=\"tocSkip\">\n",
    "### Data Visualization with Matplotlib <a class=\"tocSkip\">\n",
    "Introducing students to data visulization with Matplotlib\n",
    "- creating plots (from a list, numpy array, dataframes)\n",
    "- matplotlib features\n",
    "- subplots\n",
    "- plot gallery (line plot, pie plot, bar plot, scatter plot, histograms, heatmap, log-log plots, finance plots)\n",
    "\n",
    "</div>"
   ]
  },
  {
   "cell_type": "markdown",
   "metadata": {},
   "source": [
    "[Matplotlib](http://matplotlib.org/) é um módulo em Python que permite construir gráficos científicos em formato 2D e 3D. Foi criada como uma alternativa ao MATLAB e tem, por isso, uma sintaxe semelhante. Algumas das duas principais vantagens são:\n",
    "- fácil iniciação;\n",
    "- elevado controlo sobre qualquer elemento da figura;\n",
    "- output em variadíssimos formatos, incluindo PNG, PDF, SVG, EPS, and PGF."
   ]
  },
  {
   "cell_type": "markdown",
   "metadata": {},
   "source": [
    "## Cheat Sheet"
   ]
  },
  {
   "cell_type": "code",
   "execution_count": null,
   "metadata": {
    "scrolled": true
   },
   "outputs": [],
   "source": [
    "from IPython.display import IFrame\n",
    "IFrame(\"https://s3.amazonaws.com/assets.datacamp.com/blog_assets/Python_Matplotlib_Cheat_Sheet.pdf\", width=800, height=600)"
   ]
  },
  {
   "cell_type": "markdown",
   "metadata": {},
   "source": [
    "<hr>"
   ]
  },
  {
   "cell_type": "markdown",
   "metadata": {},
   "source": [
    "## Get Started"
   ]
  },
  {
   "cell_type": "markdown",
   "metadata": {},
   "source": [
    "Para começar com o matplotlib comece por importar o respetivo módulo. Inclua também um segundo comando, indicando ao Python para mostrar qualquer gráfico dentro do notebook ao invés de o fazer numa janela separada."
   ]
  },
  {
   "cell_type": "code",
   "execution_count": null,
   "metadata": {},
   "outputs": [],
   "source": [
    "import matplotlib.pyplot as plt\n",
    "%matplotlib inline"
   ]
  },
  {
   "cell_type": "markdown",
   "metadata": {},
   "source": [
    "Depois de importarmos o módulo, qualquer função de plotting pode ser chamada a partir de plt.\n",
    "<br>\n",
    "No exemplo a seguir vamos usar a função plot. Comece por solicitar ajuda acerca da função."
   ]
  },
  {
   "cell_type": "code",
   "execution_count": null,
   "metadata": {},
   "outputs": [],
   "source": [
    "plt.plot?"
   ]
  },
  {
   "cell_type": "markdown",
   "metadata": {},
   "source": [
    "## Create Plot"
   ]
  },
  {
   "cell_type": "markdown",
   "metadata": {},
   "source": [
    "### From a List"
   ]
  },
  {
   "cell_type": "markdown",
   "metadata": {},
   "source": [
    "De uma forma sumária, plot pode ser usado com um único argumento através do comando `plot(y)`, colocando os valores de y através do eixo vertical e enumerando o eixo de x a partir de 0."
   ]
  },
  {
   "cell_type": "code",
   "execution_count": null,
   "metadata": {},
   "outputs": [],
   "source": [
    "y = [1,10]\n",
    "plt.plot(y)"
   ]
  },
  {
   "cell_type": "code",
   "execution_count": null,
   "metadata": {},
   "outputs": [],
   "source": [
    "plt.plot([1, 5, 2, 7, 10])"
   ]
  },
  {
   "cell_type": "markdown",
   "metadata": {},
   "source": [
    "O código seguinte gera uma lista com 1000 valores aleatórios compreendidos entre -100 e 100 (posteriormente plotados)."
   ]
  },
  {
   "cell_type": "code",
   "execution_count": null,
   "metadata": {},
   "outputs": [],
   "source": [
    "from random import randint\n",
    "y = [randint(-100,100) for x in range(1000)]"
   ]
  },
  {
   "cell_type": "code",
   "execution_count": null,
   "metadata": {},
   "outputs": [],
   "source": [
    "plt.plot(y)"
   ]
  },
  {
   "cell_type": "markdown",
   "metadata": {},
   "source": [
    "Faça agora um `plot(x,y)`, onde `x` é uma lista com dois números (1 e 20) e `y` é uma lista com 2 números também (1 e 10)."
   ]
  },
  {
   "cell_type": "code",
   "execution_count": null,
   "metadata": {},
   "outputs": [],
   "source": [
    "plt.plot([1, 20], [1, 10])"
   ]
  },
  {
   "cell_type": "markdown",
   "metadata": {},
   "source": [
    "Crie uma linha vertical no ponto 4 do eixo do x, compreendida entre os pontos 1 e 10 do eixo do y."
   ]
  },
  {
   "cell_type": "code",
   "execution_count": null,
   "metadata": {},
   "outputs": [],
   "source": [
    "plt.plot([4, 4], [1, 10])"
   ]
  },
  {
   "cell_type": "markdown",
   "metadata": {},
   "source": [
    "Crie uma linha horizontal no ponto 4 do eixo do y, compreendida entre os pontos 1 e 10 do eixo do x."
   ]
  },
  {
   "cell_type": "code",
   "execution_count": null,
   "metadata": {},
   "outputs": [],
   "source": [
    "plt.plot([1, 10], [4, 4])"
   ]
  },
  {
   "cell_type": "markdown",
   "metadata": {},
   "source": [
    "<hr>"
   ]
  },
  {
   "cell_type": "markdown",
   "metadata": {},
   "source": [
    "### From a Numpy Array"
   ]
  },
  {
   "cell_type": "markdown",
   "metadata": {},
   "source": [
    "Até agora usámos listas para a geração de valores para traçar os gráficos. Esta solução é um pouco limitada. Habitualmente, usam-se arrays (vetores) gerados pela biblioteca `numpy`. Esta biblioteca permite a manipulação de arrays e matrizes."
   ]
  },
  {
   "cell_type": "markdown",
   "metadata": {},
   "source": [
    "No exercício seguinte vamos tentar fazer um `plot(x,y)` com recurso ao módulo `numpy`. Para começar, vamos importar o módulo e atribuir-lhe o alias `np`, por forma que cada função pode ser chamada através de `np`."
   ]
  },
  {
   "cell_type": "code",
   "execution_count": null,
   "metadata": {},
   "outputs": [],
   "source": [
    "import numpy as np"
   ]
  },
  {
   "cell_type": "markdown",
   "metadata": {},
   "source": [
    "Este módulo é usado na quase totalidade das computações numéricas em Python, por providenciar uma elevada performance em estruturas de vectores e matrizes. O código seguinte permite criar um array `numpy` com 5 elementos igualmente separados entre -4 e 4."
   ]
  },
  {
   "cell_type": "code",
   "execution_count": null,
   "metadata": {},
   "outputs": [],
   "source": [
    "x = np.linspace(-4,4,5)\n",
    "x"
   ]
  },
  {
   "cell_type": "markdown",
   "metadata": {},
   "source": [
    "Vamos agora criar os valores de `y` com base nos 5 valores de `x`, e de seguida vamos plotar o gráfico."
   ]
  },
  {
   "cell_type": "code",
   "execution_count": null,
   "metadata": {},
   "outputs": [],
   "source": [
    "y = (x-1) * (x + 1)\n",
    "y"
   ]
  },
  {
   "cell_type": "code",
   "execution_count": null,
   "metadata": {},
   "outputs": [],
   "source": [
    "plt.plot(x,y)"
   ]
  },
  {
   "cell_type": "markdown",
   "metadata": {},
   "source": [
    "Como se pode observar, a curva está mal definida em função de apenas termos definido 5 pontos. Vamos alterar para 100 pontos. Observe o que acontece. Nota: experimente colocar `(;)` após a instrução plot e o sistema deixa de imprimir a mensagem: `matplotlib.lines.Line2D at 0x117cbeae7b8`"
   ]
  },
  {
   "cell_type": "code",
   "execution_count": null,
   "metadata": {},
   "outputs": [],
   "source": [
    "x = np.linspace(-4,4,100)\n",
    "y = (x-1) * (x + 1)\n",
    "plt.plot(x,y);"
   ]
  },
  {
   "cell_type": "markdown",
   "metadata": {},
   "source": [
    "Resumindo, plot pode ser usado com um argumento `plot(y)`, o qual plota os valores de `y` ao longo do eixo `y`, enquanto enumera o eixo de `x` a começar em 0. Por sua vez, `plot(x,y)` plota `y` vs. `x`."
   ]
  },
  {
   "cell_type": "markdown",
   "metadata": {},
   "source": [
    "<u>Quiz</u>"
   ]
  },
  {
   "cell_type": "markdown",
   "metadata": {},
   "source": [
    "<br>\n",
    "Plote um gráfico da equação polinomial $y=1x^2+1x+-6$ para 100 valores de x compreendidos entre -4 e 4."
   ]
  },
  {
   "cell_type": "code",
   "execution_count": null,
   "metadata": {},
   "outputs": [],
   "source": [
    "#Insira o seu código aqui"
   ]
  },
  {
   "cell_type": "markdown",
   "metadata": {},
   "source": [
    "Clique duas vezes <b>aqui</b> para aceder à solução\n",
    "<!--\n",
    "import numpy as np\n",
    "import matplotlib.pyplot as plt\n",
    "%matplotlib inline\n",
    "\n",
    "x = np.linspace(-4, 4, 100)\n",
    "y = x**2 + x - 6\n",
    "plt.plot(x,y);\n",
    "-->"
   ]
  },
  {
   "cell_type": "markdown",
   "metadata": {},
   "source": [
    "<hr>"
   ]
  },
  {
   "cell_type": "markdown",
   "metadata": {},
   "source": [
    "Dados númericos podem ser carregados a partir de ficheiros usando para isso a função numpy `np.loadtxt`. Deve apenas garantir que os dados existem na mesma diretoria que o seu notebook, ou em alternativa deve providenciar o caminho do ficheiro. O código seguinte exemplifica o carregamento dos dados das temperaturas na cidade de Amesterdão."
   ]
  },
  {
   "cell_type": "code",
   "execution_count": null,
   "metadata": {},
   "outputs": [],
   "source": [
    "amsterdam = np.loadtxt('data/amsterdam_temperature.dat')\n",
    "amsterdam"
   ]
  },
  {
   "cell_type": "markdown",
   "metadata": {},
   "source": [
    "<u>Quiz</u>"
   ]
  },
  {
   "cell_type": "markdown",
   "metadata": {},
   "source": [
    "Considere as temperaturas de Amesterdão (`amsterdam_temperature.dat`), Beijing (`beijing_temperature.dat`) e New York (`newyork_temperature.dat`). Plote as temperaturas das 3 localizações no mesmo gráfico."
   ]
  },
  {
   "cell_type": "code",
   "execution_count": null,
   "metadata": {},
   "outputs": [],
   "source": [
    "#Insira aqui o seu código"
   ]
  },
  {
   "cell_type": "markdown",
   "metadata": {},
   "source": [
    "Clique duas vezes <b>aqui</b> para aceder à solução\n",
    "<!--\n",
    "import numpy as np\n",
    "\n",
    "amsterdam = np.loadtxt('data/amsterdam_temperature.dat')\n",
    "newyork = np.loadtxt('data/newyork_temperature.dat')\n",
    "beijing = np.loadtxt('data/beijing_temperature.dat')\n",
    "\n",
    "plt.xticks(np.linspace(1, 12, 12),['jan','feb','mar','apr','may','jun','jul','aug','sep','oct','nov','dec'])\n",
    "plt.plot(amsterdam, label=\"Amsterdam\")\n",
    "plt.plot(newyork, label=\"Beijing\")\n",
    "plt.plot(beijing, label=\"New York\")\n",
    "plt.legend(loc = 'best');\n",
    "-->"
   ]
  },
  {
   "cell_type": "markdown",
   "metadata": {},
   "source": [
    "### From Pandas"
   ]
  },
  {
   "cell_type": "markdown",
   "metadata": {},
   "source": [
    "É possível também gerar um gráfico a partir de dados importados com recurso ao Pandas. O exemplo abaixo carrega em memória um ficheiro com dados de 3 Milhões de cidades de todo o  mundo."
   ]
  },
  {
   "cell_type": "code",
   "execution_count": null,
   "metadata": {},
   "outputs": [],
   "source": [
    "import pandas as pd\n",
    "df = pd.read_csv('data\\worldcitiespop.txt', dtype={'Region': object}, encoding = \"ISO-8859-1\")\n",
    "df.head()"
   ]
  },
  {
   "cell_type": "markdown",
   "metadata": {},
   "source": [
    "Latitude e Longitude guardam as coordenadas de cada cidade. O código abaixo plota cada ponto da coordenada (onde cada ponto é marcado através de uma vírgula)."
   ]
  },
  {
   "cell_type": "code",
   "execution_count": null,
   "metadata": {},
   "outputs": [],
   "source": [
    "plt.plot(df['Longitude'], df['Latitude'], ',')"
   ]
  },
  {
   "cell_type": "markdown",
   "metadata": {},
   "source": [
    "<u>Quiz</u>"
   ]
  },
  {
   "cell_type": "markdown",
   "metadata": {},
   "source": [
    "Considere os ficheiros `amsterdam_temperature.dat`, `beijing_temperature.dat` e `newyork_temperature.dat` que guardam as temperaturas ocorridas durante um determinado ano nas cidades de Amesterdão, Beijing e Nova York, respetivamente. Proceda à importação das temperaturas de cada uma das cidades para um pandas dataframe com recurso ao comando `read_csv`. De seguida crie um gráfico que ilustre as temperaturas das 3 cidades."
   ]
  },
  {
   "cell_type": "code",
   "execution_count": null,
   "metadata": {},
   "outputs": [],
   "source": [
    "#Insira aqui o seu código"
   ]
  },
  {
   "cell_type": "markdown",
   "metadata": {},
   "source": [
    "Clique duas vezes <b>aqui</b> para aceder à solução\n",
    "<!--\n",
    "import pandas as pd\n",
    "\n",
    "labels = ['jan','feb','mar','apr','may','jun','jul','aug','sep','oct','nov','dec']\n",
    "\n",
    "df_ams = pd.read_csv('data/amsterdam_temperature.dat', names= labels, sep = \"\\t\")\n",
    "df_ams['country'] = \"Amsterdam\"\n",
    "\n",
    "df_bei = pd.read_csv('data/beijing_temperature.dat', names= labels, sep = \"\\t\")\n",
    "df_bei['country'] = \"Beijing\"\n",
    "\n",
    "df_ny = pd.read_csv('data/newyork_temperature.dat', names= labels, sep = \"\\t\")\n",
    "df_ny['country'] = \"New York\"\n",
    "\n",
    "df = pd.concat([df_ams, df_bei, df_ny], ignore_index=True)\n",
    "\n",
    "plt.plot(df.iloc[0,:12], label=\"Amsterdam\")\n",
    "plt.plot(df.iloc[1,:12], label=\"Beijing\")\n",
    "plt.plot(df.iloc[2,:12], label=\"New York\")\n",
    "plt.legend(loc = 'best');\n",
    "-->"
   ]
  },
  {
   "cell_type": "markdown",
   "metadata": {},
   "source": [
    "<hr>"
   ]
  },
  {
   "cell_type": "markdown",
   "metadata": {},
   "source": [
    "## Matplotlib Features"
   ]
  },
  {
   "cell_type": "markdown",
   "metadata": {},
   "source": [
    "### xlim-ylim"
   ]
  },
  {
   "cell_type": "markdown",
   "metadata": {},
   "source": [
    "Use `xlim` e `ylim` para definir a escala de cada um dos eixos."
   ]
  },
  {
   "cell_type": "code",
   "execution_count": null,
   "metadata": {},
   "outputs": [],
   "source": [
    "x = np.linspace(-4,4,100)\n",
    "y = (x-1) * (x + 1)\n",
    "plt.xlim(-4, 4)\n",
    "plt.ylim(-1, 14)\n",
    "plt.plot(x,y);"
   ]
  },
  {
   "cell_type": "markdown",
   "metadata": {},
   "source": [
    "<hr>"
   ]
  },
  {
   "cell_type": "markdown",
   "metadata": {},
   "source": [
    "### Grid"
   ]
  },
  {
   "cell_type": "markdown",
   "metadata": {},
   "source": [
    "Com o comando `grid` podemos tornar visível a grid."
   ]
  },
  {
   "cell_type": "code",
   "execution_count": null,
   "metadata": {},
   "outputs": [],
   "source": [
    "x = np.linspace(-4,4,100)\n",
    "y = (x-1) * (x + 1)\n",
    "plt.xlim(-4, 4)\n",
    "plt.ylim(-1, 14)\n",
    "plt.grid(True)\n",
    "plt.plot(x,y);"
   ]
  },
  {
   "cell_type": "markdown",
   "metadata": {},
   "source": [
    "Opcionalmente podemos definir algumas das suas opções."
   ]
  },
  {
   "cell_type": "code",
   "execution_count": null,
   "metadata": {
    "scrolled": true
   },
   "outputs": [],
   "source": [
    "x = np.linspace(-4,4,100)\n",
    "y = (x-1) * (x + 1)\n",
    "plt.xlim(-4, 4)\n",
    "plt.grid(color='b', alpha=0.5, linestyle='dashed', linewidth=0.5)\n",
    "plt.plot(x,y);"
   ]
  },
  {
   "cell_type": "markdown",
   "metadata": {},
   "source": [
    "<hr>"
   ]
  },
  {
   "cell_type": "markdown",
   "metadata": {},
   "source": [
    "### Formatting"
   ]
  },
  {
   "cell_type": "markdown",
   "metadata": {},
   "source": [
    "A formatação de um plot pode ser feita pela simples adição de parâmetros: `plot(x, y, argument=value)`. Por exemplo, para plotar uma linha com espessura 6 pode fazer uso do seguinte código."
   ]
  },
  {
   "cell_type": "code",
   "execution_count": null,
   "metadata": {},
   "outputs": [],
   "source": [
    "plt.plot([1, 2, 3], [2, 4, 3], linewidth=6);"
   ]
  },
  {
   "cell_type": "markdown",
   "metadata": {},
   "source": [
    "Os parâmetros de formatação mais importantes encontram-se listados abaixo:\n",
    "- `Color`;\n",
    "- `Linewidth`;\n",
    "- `Alpha`;\n",
    "- `Linestyle`;\n",
    "- `Marker`."
   ]
  },
  {
   "cell_type": "markdown",
   "metadata": {},
   "source": [
    "<hr>"
   ]
  },
  {
   "cell_type": "markdown",
   "metadata": {},
   "source": [
    "#### Color"
   ]
  },
  {
   "cell_type": "markdown",
   "metadata": {},
   "source": [
    "Para especificar a cor pode recorrer à adição de parâmetros de formato aquando da inicializaçao do plot (`b` para `blue`, `r` para `red`, `g` para `green`, `k` para `black`, etc)."
   ]
  },
  {
   "cell_type": "code",
   "execution_count": null,
   "metadata": {},
   "outputs": [],
   "source": [
    "plt.plot([1, 5, 2, 7, 10],'r');"
   ]
  },
  {
   "cell_type": "markdown",
   "metadata": {},
   "source": [
    "Pode também definir as cores por intermédio dos seus nomes ou codigo RGB."
   ]
  },
  {
   "cell_type": "markdown",
   "metadata": {},
   "source": [
    "<img src=\"https://www.di.ubi.pt/~rcampos/assets/img_tutorials/DataScience/colors.jpg\" width=\"700\" height=\"700\" align=\"center\"/>"
   ]
  },
  {
   "cell_type": "code",
   "execution_count": null,
   "metadata": {},
   "outputs": [],
   "source": [
    "plt.plot([1, 5, 2, 7, 10],color=\"red\");"
   ]
  },
  {
   "cell_type": "markdown",
   "metadata": {},
   "source": [
    "Pode, junto com o formato da cor, especificar apenas umas marcas em determinados pontos do gráfico (e.g., no ponto `x = 1`; `y = 5`) com recurso ao formato (`bs`, onde `b - blue`; `s - square`). Mais sobre marcas abaixo."
   ]
  },
  {
   "cell_type": "code",
   "execution_count": null,
   "metadata": {},
   "outputs": [],
   "source": [
    "plt.plot([1, 5, 2, 7, 10],color=\"red\")\n",
    "plt.plot([1],[5],'bs');"
   ]
  },
  {
   "cell_type": "markdown",
   "metadata": {},
   "source": [
    "<hr>"
   ]
  },
  {
   "cell_type": "markdown",
   "metadata": {},
   "source": [
    "#### Linewidth"
   ]
  },
  {
   "cell_type": "markdown",
   "metadata": {},
   "source": [
    "Para especificar a espessura da linha recorra ao parâmetro `linewidth`."
   ]
  },
  {
   "cell_type": "code",
   "execution_count": null,
   "metadata": {},
   "outputs": [],
   "source": [
    "plt.plot([1, 5, 2, 7, 10],\"red\",linewidth=6.00);"
   ]
  },
  {
   "cell_type": "markdown",
   "metadata": {},
   "source": [
    "<hr>"
   ]
  },
  {
   "cell_type": "markdown",
   "metadata": {},
   "source": [
    "#### Alpha"
   ]
  },
  {
   "cell_type": "markdown",
   "metadata": {},
   "source": [
    "Para definir a transparência recorra ao comando `alpha` (entre 0.1 e 1)."
   ]
  },
  {
   "cell_type": "code",
   "execution_count": null,
   "metadata": {},
   "outputs": [],
   "source": [
    "plt.plot([1, 5, 2, 7, 10],color=\"red\",linewidth=6.00, alpha=0.3);"
   ]
  },
  {
   "cell_type": "markdown",
   "metadata": {},
   "source": [
    "O código seguinte permite definir 4 séries de dados com posicionamento e espessuras distintas."
   ]
  },
  {
   "cell_type": "code",
   "execution_count": null,
   "metadata": {},
   "outputs": [],
   "source": [
    "x = np.linspace(0, 5, 10)\n",
    "\n",
    "plt.plot(x, x+1, color=\"blue\", linewidth=0.25)\n",
    "plt.plot(x, x+2, color=\"blue\", linewidth=0.50)\n",
    "plt.plot(x, x+3, color=\"blue\", linewidth=1.00)\n",
    "plt.plot(x, x+4, color=\"blue\", linewidth=2.00);"
   ]
  },
  {
   "cell_type": "markdown",
   "metadata": {},
   "source": [
    "<hr>"
   ]
  },
  {
   "cell_type": "markdown",
   "metadata": {},
   "source": [
    "#### Linestyle"
   ]
  },
  {
   "cell_type": "markdown",
   "metadata": {},
   "source": [
    "O comando `linestyle` permite-lhe definir os diferentes tipos de linha enquanto `lw` permite definir a espessura."
   ]
  },
  {
   "cell_type": "markdown",
   "metadata": {},
   "source": [
    "<img src=\"https://www.di.ubi.pt/~rcampos/assets/img_tutorials/DataScience/linestyle.jpg\" width=\"300\" height=\"300\" align=\"center\"/>"
   ]
  },
  {
   "cell_type": "code",
   "execution_count": null,
   "metadata": {
    "scrolled": true
   },
   "outputs": [],
   "source": [
    "# possible linestype options ‘-‘, ‘--’, ‘-.’, ‘:’, ‘steps’\n",
    "plt.plot(x, x+1, color=\"red\", lw=2, linestyle='-')\n",
    "plt.plot(x, x+2, color=\"red\", lw=2, ls='--')\n",
    "plt.plot(x, x+3, color=\"red\", lw=2, ls='-.')\n",
    "plt.plot(x, x+4, color=\"red\", lw=2, ls=':')\n",
    "plt.plot(x, x+5, color=\"red\", lw=2, ls='--', drawstyle='steps')"
   ]
  },
  {
   "cell_type": "markdown",
   "metadata": {},
   "source": [
    "<hr>"
   ]
  },
  {
   "cell_type": "markdown",
   "metadata": {},
   "source": [
    "#### Marker"
   ]
  },
  {
   "cell_type": "markdown",
   "metadata": {},
   "source": [
    "É possível também definir marcas nos pontos de dados. O parâmetro `lw` define a espessura, `ls` o linestyle, `marker` a marca, `markersize` o tamanho da marca, `markerfacecolor` a cor da marca, `markeredgewidth` a espessura do limite, e `markeredgecolor` a cor do limite."
   ]
  },
  {
   "cell_type": "markdown",
   "metadata": {},
   "source": [
    "<img src=\"https://www.di.ubi.pt/~rcampos/assets/img_tutorials/DataScience/markers.jpg\" width=\"700\" height=\"700\" align=\"center\"/>"
   ]
  },
  {
   "cell_type": "code",
   "execution_count": null,
   "metadata": {},
   "outputs": [],
   "source": [
    "# possible marker symbols: marker = '+', 'o', '*', 's', ',', '.' ...\n",
    "plt.plot(x, x+ 9, color=\"green\", lw=2, ls='--', marker='+', markersize=8)\n",
    "plt.plot(x, x+10, color=\"green\", lw=2, ls='--', marker='o', markersize=8, markerfacecolor=\"red\", markeredgewidth=2, markeredgecolor=\"blue\")\n",
    "plt.plot(x, x+11, color=\"green\", lw=2, ls='--', marker='*', markersize=8)\n",
    "plt.plot(x, x+12, color=\"green\", lw=2, ls='--', marker='s', markersize=8)\n",
    "plt.plot(x, x+13, color=\"green\", lw=2, ls='--', marker='.', markersize=8);"
   ]
  },
  {
   "cell_type": "markdown",
   "metadata": {},
   "source": [
    "<hr>"
   ]
  },
  {
   "cell_type": "markdown",
   "metadata": {},
   "source": [
    "<u>Quiz</u>"
   ]
  },
  {
   "cell_type": "markdown",
   "metadata": {},
   "source": [
    "<br>\n",
    "Plot o array abaixo. Desenhe duas linhas verticais (cor preta; estilo: tracejado): uma em $x=4$ e outra em $x=14$, com o $y$ a variar entre 8 e 32. Defina o eixo dos $y$ para valores compreendidos entre 8 and 32."
   ]
  },
  {
   "cell_type": "code",
   "execution_count": null,
   "metadata": {},
   "outputs": [],
   "source": [
    "a = np.array([10 for i in range(5)] + [i for i in range(12,31,2)] + [30 for i in range(5)])\n",
    "a"
   ]
  },
  {
   "cell_type": "code",
   "execution_count": null,
   "metadata": {},
   "outputs": [],
   "source": [
    "#Insira o seu código aqui"
   ]
  },
  {
   "cell_type": "markdown",
   "metadata": {},
   "source": [
    "Clique duas vezes <b>aqui</b> para aceder à solução\n",
    "<!--\n",
    "a = np.array([10 for i in range(5)] + [i for i in range(12,31,2)] + [30 for i in range(5)])\n",
    "plt.plot(a)\n",
    "plt.plot([4,4],[8,32],color = 'black', ls='--')\n",
    "plt.plot([14,14],[8,32],color = 'black', ls='--')\n",
    "plt.ylim(8,32)\n",
    "-->"
   ]
  },
  {
   "cell_type": "markdown",
   "metadata": {},
   "source": [
    "<hr>"
   ]
  },
  {
   "cell_type": "markdown",
   "metadata": {},
   "source": [
    "### Title"
   ]
  },
  {
   "cell_type": "markdown",
   "metadata": {},
   "source": [
    "O título pode ser adicionado com recurso ao comando `plt.title`."
   ]
  },
  {
   "cell_type": "code",
   "execution_count": null,
   "metadata": {},
   "outputs": [],
   "source": [
    "plt.plot([1, 5, 2, 7, 10])\n",
    "plt.title(\"Teste\")"
   ]
  },
  {
   "cell_type": "markdown",
   "metadata": {},
   "source": [
    "<hr>"
   ]
  },
  {
   "cell_type": "markdown",
   "metadata": {},
   "source": [
    "### Axis Caption (x/y label)"
   ]
  },
  {
   "cell_type": "markdown",
   "metadata": {},
   "source": [
    "A legenda dos eixos pode ser adicionada facilmente a partir do comando `xlabel` e `ylabel`."
   ]
  },
  {
   "cell_type": "code",
   "execution_count": null,
   "metadata": {},
   "outputs": [],
   "source": [
    "plt.plot([1, 5, 2, 7, 10])\n",
    "plt.xlabel(\"Legenda do x\")\n",
    "plt.ylabel(\"Legenda do y\")"
   ]
  },
  {
   "cell_type": "markdown",
   "metadata": {},
   "source": [
    "<hr>"
   ]
  },
  {
   "cell_type": "markdown",
   "metadata": {},
   "source": [
    "### Ticks (x/y ticks)"
   ]
  },
  {
   "cell_type": "markdown",
   "metadata": {},
   "source": [
    "Pode também ocultar os respetivos eixos (`plt.xticks([])` para ocultar o eixo do `x`)."
   ]
  },
  {
   "cell_type": "code",
   "execution_count": null,
   "metadata": {},
   "outputs": [],
   "source": [
    "x = [i for i in range(1, 13)]\n",
    "y = [95, 38, 54, 35, 34, 56, 7, 78, 12, 24, 46, 45]\n",
    "  \n",
    "plt.plot(x, y)\n",
    "\n",
    "plt.xticks([]);"
   ]
  },
  {
   "cell_type": "markdown",
   "metadata": {},
   "source": [
    "É possível também personalizar os tickets com recurso a `labels`, junto com o parâmetro `rotation` que permite redefinir a orientação desses labels (um aspeto particulamente importante que evita a sobreposição aquando de labels grandes)."
   ]
  },
  {
   "cell_type": "code",
   "execution_count": null,
   "metadata": {},
   "outputs": [],
   "source": [
    "labels = ['jan','feb','mar', 'abr', 'mai', 'jun', 'jul', 'ago', 'set', 'out', 'nov', 'dez']\n",
    "\n",
    "x = list(range(1,len(labels)+1))\n",
    "y = [95, 38, 54, 35, 34, 56, 7, 78, 12, 24, 46, 45]\n",
    "  \n",
    "plt.plot(x, y)\n",
    "\n",
    "plt.xticks(x, labels, rotation ='vertical');"
   ]
  },
  {
   "cell_type": "markdown",
   "metadata": {},
   "source": [
    "<hr>"
   ]
  },
  {
   "cell_type": "markdown",
   "metadata": {},
   "source": [
    "### Legend"
   ]
  },
  {
   "cell_type": "markdown",
   "metadata": {},
   "source": [
    "A legenda da série de dados pode ser adicionada com recurso ao comando `plt.legend(['line1'])`. No caso de termos mais do que uma série de dados, separe as suas descrições com recurso a uma (`,`) (e.g., `plt.legend(['line1','line2'])`). Coloque a legenda num local apropriado ou deixe o Python decidir a melhor localização: \n",
    "<br>\n",
    "`plt.legend(['line1'], loc='best')`\n",
    "<br>\n",
    "`plt.legend(['line1'], loc=1)` # canto superior direito\n",
    "<br>\n",
    "`plt.legend(['line1'], loc=2)` # canto superior esquerdo\n",
    "<br>\n",
    "`plt.legend(['line1'], loc=3)` # canto inferior esquerdo\n",
    "<br>\n",
    "`plt.legend(['line1'], loc=4)` # canto inferior direito\n",
    "<br><br>\n",
    "Se pretender mais informações acerca do funcionamento de legend faça `plt.legend?`"
   ]
  },
  {
   "cell_type": "markdown",
   "metadata": {},
   "source": [
    "No próximo gráfico vamos inserir um título para o gráfico, para os eixos, bem como posicionar a legenda das séries de dados na melhor localização determinada pelo Python."
   ]
  },
  {
   "cell_type": "code",
   "execution_count": null,
   "metadata": {},
   "outputs": [],
   "source": [
    "x = np.linspace(0, 5, 10)\n",
    "\n",
    "plt.title('Gráfico')\n",
    "plt.xlabel('eixo dos x')\n",
    "plt.ylabel('eixo dos y')\n",
    "plt.plot(x, x+1, color=\"blue\", linewidth=0.25)\n",
    "plt.plot(x, x+2, color=\"blue\", linewidth=0.50)\n",
    "plt.plot(x, x+3, color=\"blue\", linewidth=1.00)\n",
    "plt.plot(x, x+4, color=\"blue\", linewidth=2.00);\n",
    "plt.legend(['Line1','Line2','Line3','Line4'], loc = 'best');"
   ]
  },
  {
   "cell_type": "markdown",
   "metadata": {},
   "source": [
    "Se pretender pode definir a legenda como um parâmetro do comando plot (`label`), ao invés de o fazer no comando legend."
   ]
  },
  {
   "cell_type": "code",
   "execution_count": null,
   "metadata": {},
   "outputs": [],
   "source": [
    "x = np.linspace(0, 5, 10)\n",
    "\n",
    "plt.title('Gráfico')\n",
    "plt.xlabel('eixo dos x')\n",
    "plt.ylabel('eixo dos y')\n",
    "plt.plot(x, x+1, color=\"blue\", linewidth=0.25, label = 'Line1')\n",
    "plt.plot(x, x+2, color=\"blue\", linewidth=0.50, label = 'Line2')\n",
    "plt.plot(x, x+3, color=\"blue\", linewidth=1.00, label = 'Line3')\n",
    "plt.plot(x, x+4, color=\"blue\", linewidth=2.00, label = 'Line4');\n",
    "plt.legend(loc = 'best');"
   ]
  },
  {
   "cell_type": "markdown",
   "metadata": {},
   "source": [
    "O label pode ter embedidas fórmulas matemáticas:"
   ]
  },
  {
   "cell_type": "code",
   "execution_count": null,
   "metadata": {},
   "outputs": [],
   "source": [
    "x = np.linspace(0, 5, 10)\n",
    "\n",
    "plt.title('Gráfico')\n",
    "plt.xlabel('eixo dos x')\n",
    "plt.ylabel('eixo dos y')\n",
    "plt.plot(x, x**1, color=\"blue\", linewidth=0.25, label = '$y=x^1$')\n",
    "plt.plot(x, x**2, color=\"blue\", linewidth=0.50, label = '$y=x^2$')\n",
    "plt.plot(x, x**3, color=\"blue\", linewidth=1.00, label = '$y=x^3$')\n",
    "plt.plot(x, x**4, color=\"blue\", linewidth=2.00, label = '$y=x^4$');\n",
    "plt.legend(loc = 'best');"
   ]
  },
  {
   "cell_type": "markdown",
   "metadata": {},
   "source": [
    "<hr>"
   ]
  },
  {
   "cell_type": "markdown",
   "metadata": {},
   "source": [
    "<u>Quiz</u>"
   ]
  },
  {
   "cell_type": "markdown",
   "metadata": {},
   "source": [
    "<br>\n",
    "Plote $y=(x+2)(x-1)(x-2)$ para $x$ de $-3$ a $3$ (considerando 100 valores) usando uma linha a tracejado vermelha. Coloque `x-axis` e `y-axis` como título do eixo do `x` e do `y`. Adicione também o seu nome ao título."
   ]
  },
  {
   "cell_type": "code",
   "execution_count": null,
   "metadata": {},
   "outputs": [],
   "source": [
    "#Insira o seu código aqui"
   ]
  },
  {
   "cell_type": "markdown",
   "metadata": {},
   "source": [
    "Clique duas vezes <b>aqui</b> para aceder à solução\n",
    "<!--\n",
    "import numpy as np\n",
    "\n",
    "x = np.linspace(-3, 3, 100)\n",
    "y = (x + 2) * (x - 1) * (x - 2)\n",
    "plt.plot(x, y, color=\"red\", linestyle='--')\n",
    "plt.xlabel('x-axis')\n",
    "plt.ylabel('y-axis')\n",
    "plt.title('O seu nome');\n",
    "-->"
   ]
  },
  {
   "cell_type": "markdown",
   "metadata": {},
   "source": [
    "<hr>"
   ]
  },
  {
   "cell_type": "markdown",
   "metadata": {},
   "source": [
    "### FigSize"
   ]
  },
  {
   "cell_type": "markdown",
   "metadata": {},
   "source": [
    "O comando seguinte permite definir o tamanho da figura. Note-se no entanto que este comando (e.g. `plt.figure(figsize=(20,5))`) deve, obrigatoriamente, ser colocado antes da geração do plot."
   ]
  },
  {
   "cell_type": "markdown",
   "metadata": {},
   "source": [
    "Observe também que o valor da primeira coordenada (`20`) diz respeito à `largura`, enquanto o valor da segunda coordenada (`5`) diz respeito à `altura`. Note que este valor é extremamente importante na definição de subplots (matéria a ser lecionada mais à frente). Em concreto estes valores correspondem à dimensão total do plot (que agrega os subplots). Por isso se tivermos `duas linhas de plots` deveremos considerar para a segunda coordenada um valor de `2` * 5. Para `três linhas de plots` `3` * 5."
   ]
  },
  {
   "cell_type": "code",
   "execution_count": null,
   "metadata": {},
   "outputs": [],
   "source": [
    "plt.figure(figsize=(20,5))\n",
    "\n",
    "x = np.linspace(0, 5, 10)\n",
    "\n",
    "plt.title('Gráfico')\n",
    "plt.xlabel('eixo dos x')\n",
    "plt.ylabel('eixo dos y')\n",
    "plt.plot(x, x+1, color=\"blue\", linewidth=0.25)\n",
    "plt.plot(x, x+2, color=\"blue\", linewidth=0.50)\n",
    "plt.plot(x, x+3, color=\"blue\", linewidth=1.00)\n",
    "plt.plot(x, x+4, color=\"blue\", linewidth=2.00);\n",
    "plt.legend(['Line1','Line2','Line3','Line4'], loc = 'best');"
   ]
  },
  {
   "cell_type": "markdown",
   "metadata": {},
   "source": [
    "<hr>"
   ]
  },
  {
   "cell_type": "markdown",
   "metadata": {},
   "source": [
    "### Save Plot"
   ]
  },
  {
   "cell_type": "markdown",
   "metadata": {},
   "source": [
    "Os formatos suportados são os seguintes: `eps`; `jpeg`; `jpg`; `pdf`; `pgf`; `png`; `ps`; `raw`; `rgba`; `svg`; `svgz`, `tif`; `tiff`. Pode guardar os gráficos com recurso ao comando `savefig`"
   ]
  },
  {
   "cell_type": "code",
   "execution_count": null,
   "metadata": {},
   "outputs": [],
   "source": [
    "import matplotlib.pyplot as plt\n",
    "%matplotlib inline\n",
    "\n",
    "year = ['2010', '2002', '2004', '2006', '2008']\n",
    "production = [25, 15, 35, 30, 10]\n",
    "  \n",
    "# Plotting barchart\n",
    "plt.plot(year, production)\n",
    "  \n",
    "# Saving the figure.\n",
    "plt.savefig(\"data/output.jpg\");"
   ]
  },
  {
   "cell_type": "markdown",
   "metadata": {},
   "source": [
    "<hr>"
   ]
  },
  {
   "cell_type": "markdown",
   "metadata": {},
   "source": [
    "## Subplots"
   ]
  },
  {
   "cell_type": "markdown",
   "metadata": {},
   "source": [
    "Com o matplotlib é possível criar um plot com vários gráficos embebidos através do comando `subplots(nrows, ncols)` o qual cria um objeto `figure` e um conjunto de sub-plots. Se `ncols` não for especificado assume-se `1` como valor por defeito."
   ]
  },
  {
   "cell_type": "markdown",
   "metadata": {},
   "source": [
    "Para ajustarmos o espaçamento entre os plots recorremos à função `subplots_adjust()` e aos parâmetros `left`, `right`, `top`, `bottom`, `wspace`, `hspace`."
   ]
  },
  {
   "cell_type": "markdown",
   "metadata": {},
   "source": [
    "```\n",
    "left = 0.125  # specifies the left position of the subplots of the figure. Default size is 0.125.\n",
    "right = 0.9   # specifies the right position of the subplots of the figure. Default size is 0.9.\n",
    "bottom = 0.1  # specifies the bottom position of the subplots of the figure. Default size is 0.1.\n",
    "top = 0.9     # specifies the top position of the subplots of the figure. Default size is 0.9.\n",
    "wspace = 0.2  # specifies the size of width for white space between subplots (called padding), as a fraction of   \n",
    "              # the average Axes width. Default size is 0.2.\n",
    "hspace = 0.2  # specifies the size of height for white space between subplots (called padding), as a fraction of\n",
    "              # the average Axes height. Default size is 0.2.\n",
    "```"
   ]
  },
  {
   "cell_type": "markdown",
   "metadata": {},
   "source": [
    "Os próximos são campos importantes em subplots:\n",
    "- `set_title`: permite definir o title de um subplot (e.g., `set_title(\"título\")`);\n",
    "- `set_ylim`: permite definir a escala do eixo dos y's (e.g., `set_ylim(0,1)`)\n",
    "- `set_xlim`: permite definir a escala do eixo dos x's (e.g., `set_xlim(0,1)`)\n",
    "- `set_xticks`: permite definir a legenda de cada elemento de série de dados no eixo do x."
   ]
  },
  {
   "cell_type": "markdown",
   "metadata": {},
   "source": [
    "Adicionalmente o campo `figsize(20,5)` é fundamental para definir a dimensão do plot. Em concreto os valores (20,5) aqui colocados a título de exemplo, correspondem à dimensão total do plot e não a cada um dos subplots. Por isso se, tivermos duas linhas de plots deveremos considerar para a segunda coordenada um valor de 2 * 5. Para três linhas de plots 3 * 5."
   ]
  },
  {
   "cell_type": "markdown",
   "metadata": {},
   "source": [
    "### By Index"
   ]
  },
  {
   "cell_type": "markdown",
   "metadata": {},
   "source": [
    "#### One Row / Multiple Columns"
   ]
  },
  {
   "cell_type": "markdown",
   "metadata": {},
   "source": [
    "O código seguinte cria um plot 1 x 4. Todas as colunas são acedidas através de um índice. A primeira coluna através do índice 0 e assim sucessivamente):"
   ]
  },
  {
   "cell_type": "markdown",
   "metadata": {},
   "source": [
    "Observe que para efeitos da largura do gráfico estamos a considerar uma base de 5 para cada plot (para um total de 20 que decorre do número de columns * 5)."
   ]
  },
  {
   "cell_type": "code",
   "execution_count": null,
   "metadata": {},
   "outputs": [],
   "source": [
    "import matplotlib.pyplot as plt\n",
    "%matplotlib inline\n",
    "\n",
    "import numpy as np\n",
    "x = np.linspace(0, 2*np.pi, 400)\n",
    "y = np.sin(x**2)\n",
    "\n",
    "columns = 4\n",
    "\n",
    "fig, axes = plt.subplots(1, columns,figsize=(columns * 5,5))\n",
    "\n",
    "axes[0].plot(x, y)\n",
    "axes[0].set_title(\"plot(x,y)\")\n",
    "    \n",
    "axes[1].plot(y, x)\n",
    "axes[1].set_title(\"plot(y,x)\")\n",
    "\n",
    "axes[2].scatter(x, y)\n",
    "axes[2].set_title(\"scatter(x,y)\")\n",
    "\n",
    "axes[3].scatter(y, x)\n",
    "axes[3].set_title(\"scatter(y,x)\");"
   ]
  },
  {
   "cell_type": "markdown",
   "metadata": {},
   "source": [
    "Podemos também recorrer a um ciclo `for` para fazer os subplots de forma mais programática. No exemplo a seguir pretendemos construir um subplot 1x4 (no exemplo `x` e `y` têm sempre os mesmo valores. Adicionalmente consideramos sempre o mesmo tipo de plot para efeitos ilustrativos)."
   ]
  },
  {
   "cell_type": "markdown",
   "metadata": {},
   "source": [
    "Observe que para efeitos da largura do gráfico estamos a considerar uma base de 5 para cada plot (para um total de 20 que decorre do número de columns * 5)."
   ]
  },
  {
   "cell_type": "code",
   "execution_count": null,
   "metadata": {},
   "outputs": [],
   "source": [
    "import matplotlib.pyplot as plt\n",
    "%matplotlib inline\n",
    "\n",
    "import numpy as np\n",
    "x = np.linspace(0, 2*np.pi, 400)\n",
    "y = np.sin(x**2)\n",
    "\n",
    "columns = 4\n",
    "\n",
    "fig, axes = plt.subplots(1, columns, figsize=(columns * 5,5))\n",
    "\n",
    "for i in range(columns):\n",
    "    axes[i].plot(x, y)\n",
    "    axes[i].set_title(\"plot(x,y)\")"
   ]
  },
  {
   "cell_type": "markdown",
   "metadata": {},
   "source": [
    "#### Multiple Rows / One Column"
   ]
  },
  {
   "cell_type": "markdown",
   "metadata": {},
   "source": [
    "No código seguinte criamos um plot 4 x 1. O acesso a cada subplot é feito com recurso a índices. O índice 0 corresponde à primeira linha, o índice 1 à segunda linha, e assim sucessivamente."
   ]
  },
  {
   "cell_type": "markdown",
   "metadata": {},
   "source": [
    "Observe que para efeitos de altura do gráfico estamos a considerar uma base de 5 para cada plot (para um total de 20 que decorre do número de rows * 5)."
   ]
  },
  {
   "cell_type": "code",
   "execution_count": null,
   "metadata": {},
   "outputs": [],
   "source": [
    "import matplotlib.pyplot as plt\n",
    "%matplotlib inline\n",
    "\n",
    "import numpy as np\n",
    "x = np.linspace(0, 2*np.pi, 400)\n",
    "y = np.sin(x**2)\n",
    "\n",
    "rows = 4\n",
    "\n",
    "fig, axes = plt.subplots(rows, figsize=(5,rows * 5))\n",
    "axes[0].plot(x, y)\n",
    "axes[0].set_title(\"plot(x,y)\")\n",
    "    \n",
    "axes[1].plot(y, x)\n",
    "axes[1].set_title(\"plot(y,x)\")\n",
    "\n",
    "axes[2].scatter(x, y)\n",
    "axes[2].set_title(\"scatter(x,y)\")\n",
    "\n",
    "axes[3].scatter(y, x)\n",
    "axes[3].set_title(\"scatter(y,x)\");"
   ]
  },
  {
   "cell_type": "markdown",
   "metadata": {},
   "source": [
    "Podemos também recorrer a um ciclo `for` para fazer os subplots de forma mais programática. No exemplo a seguir pretendemos construir um subplot 4x1 (no exemplo `x` e `y` têm sempre os mesmo valores. adicionalmente consideramos sempre o mesmo tipo de plot para efeitos ilustrativos)."
   ]
  },
  {
   "cell_type": "markdown",
   "metadata": {},
   "source": [
    "Observe que para efeitos de altura do gráfico estamos a considerar uma base de 5 para cada plot (para um total de 20 que decorre do número de rows * 5)."
   ]
  },
  {
   "cell_type": "code",
   "execution_count": null,
   "metadata": {},
   "outputs": [],
   "source": [
    "import matplotlib.pyplot as plt\n",
    "%matplotlib inline\n",
    "\n",
    "import numpy as np\n",
    "x = np.linspace(0, 2*np.pi, 400)\n",
    "y = np.sin(x**2)\n",
    "\n",
    "rows = 4\n",
    "\n",
    "fig, axes = plt.subplots(rows, figsize=(5,rows * 5))\n",
    "\n",
    "for i in range(rows):\n",
    "    axes[i].plot(x, y)\n",
    "    axes[i].set_title(\"plot(x,y)\")\n"
   ]
  },
  {
   "cell_type": "markdown",
   "metadata": {},
   "source": [
    "<u>Quiz</u>"
   ]
  },
  {
   "cell_type": "markdown",
   "metadata": {},
   "source": [
    "Importe os ficheiros com os dados mensais de temperatura do ar (`amsterdam_temperature.dat`) e do mar (`amsterdam_seawater.dat`) da cidade de Amesterdão. Com recurso ao comando subplots crie um subplot 2 x 1. \n",
    "<br><br>\n",
    "No gráfico de cima, plote as temperaturas do ar e do mar da cidade de Amesterdão.\n",
    "<br><br>\n",
    "No gráfico de baixo, plote a diferença entre as temperaturas do ar e do mar (air-sea) da cidade de Amesterdão. \n",
    "\n",
    "Personalize o eixo do x para que apareçam os respetivos meses ao invés de 1..12."
   ]
  },
  {
   "cell_type": "code",
   "execution_count": null,
   "metadata": {},
   "outputs": [],
   "source": [
    "#Insira o seu código aqui"
   ]
  },
  {
   "cell_type": "markdown",
   "metadata": {},
   "source": [
    "Clique duas vezes <b>aqui</b> para aceder à solução\n",
    "<!--\n",
    "fig, axes = plt.subplots(nrows=2, ncols=1)\n",
    "\n",
    "air = np.loadtxt('data/amsterdam_temperature.dat') \n",
    "sea = np.loadtxt('data/amsterdam_seawater.dat')\n",
    "\n",
    "axes[0].plot(air, 'b', label='air temp')\n",
    "axes[0].plot(sea, 'r', label='sea temp')\n",
    "axes[0].legend(loc='best')\n",
    "\n",
    "axes[0].set_ylabel('temp (Celcius)')\n",
    "axes[0].set_xlim(-1, 12)\n",
    "axes[0].set_xticks([])\n",
    "\n",
    "axes[1].plot(air-sea, 'ko')\n",
    "axes[1].set_xticks(np.linspace(0, 11, 12),['jan','feb','mar','apr','may','jun','jul','aug','sep','oct','nov','dec'])\n",
    "axes[1].set_xlim(-1, 12)\n",
    "axes[1].set_ylabel('air - sea');\n",
    "-->"
   ]
  },
  {
   "cell_type": "markdown",
   "metadata": {},
   "source": [
    "<hr>"
   ]
  },
  {
   "cell_type": "markdown",
   "metadata": {},
   "source": [
    "#### Multiple Rows / Multiple Columns"
   ]
  },
  {
   "cell_type": "markdown",
   "metadata": {},
   "source": [
    "O código seguinte ilustra um subplot 2 x 2. O campo `sharey=True` significa que os subplots devem partilhar o eixo do `y`, da mesma forma que `sharex=True` significa a partilha do eixo dos `x`."
   ]
  },
  {
   "cell_type": "markdown",
   "metadata": {},
   "source": [
    "Observe que para efeitos de altura do gráfico estamos a considerar uma base de 5 para cada plot (para um total de 10 que decorre do número de rows * 5). Adicionalmente para efeitos da largura do gráfico estamos a considerar uma base de 5 para cada plot (para um total de 10 que decorre do número de columns * 5)."
   ]
  },
  {
   "cell_type": "code",
   "execution_count": null,
   "metadata": {},
   "outputs": [],
   "source": [
    "import matplotlib.pyplot as plt\n",
    "%matplotlib inline\n",
    "\n",
    "import numpy as np\n",
    "x = np.linspace(0, 2*np.pi, 400)\n",
    "y = np.sin(x**2)\n",
    "\n",
    "rows = 2\n",
    "columns = 2\n",
    "\n",
    "fig, axes = plt.subplots(rows, columns, sharey=True, figsize=(columns * 5,rows * 5)) #sharey significa que partilha o eixo do y, evitando especificá-lo novamente\n",
    "\n",
    "axes[0,0].plot(x, y)\n",
    "axes[0,0].set_title(\"plot(x,y)\")\n",
    "    \n",
    "axes[0, 1].scatter(x, y)\n",
    "axes[0,1].set_title(\"scatter(x, y)\")\n",
    "\n",
    "axes[1, 0].plot(y, x)\n",
    "axes[1,0].set_title(\"plot(y,x)\")\n",
    "\n",
    "axes[1, 1].scatter(y, x)\n",
    "axes[1,1].set_title(\"scatter(y,x)\");"
   ]
  },
  {
   "cell_type": "markdown",
   "metadata": {},
   "source": [
    "Podemos também recorrer a dois ciclos `for` para fazer os subplots de forma mais programática. No exemplo a seguir pretendemos construir um subplot 2x2 (no exemplo `x` e `y` têm sempre os mesmo valores. adicionalmente consideramos sempre o mesmo tipo de plot para efeitos ilustrativos)."
   ]
  },
  {
   "cell_type": "markdown",
   "metadata": {},
   "source": [
    "Observe que para efeitos de altura do gráfico estamos a considerar uma base de 5 para cada plot (para um total de 10 que decorre do número de rows * 5). Adicionalmente para efeitos da largura do gráfico estamos a considerar uma base de 5 para cada plot (para um total de 10 que decorre do número de columns * 5)."
   ]
  },
  {
   "cell_type": "code",
   "execution_count": null,
   "metadata": {},
   "outputs": [],
   "source": [
    "import matplotlib.pyplot as plt\n",
    "%matplotlib inline\n",
    "\n",
    "import numpy as np\n",
    "\n",
    "x = np.linspace(0, 2*np.pi, 400)\n",
    "y = np.sin(x**2)\n",
    "\n",
    "rows = 2\n",
    "columns = 2\n",
    "\n",
    "fig, axes = plt.subplots(rows, columns, figsize=(columns * 5,rows * 5)) #sharey significa que partilha o eixo do y, evitando especificá-lo novamente\n",
    "\n",
    "for i in range(0,rows):\n",
    "    for j in range(0,columns):       \n",
    "        axes[i,j].plot(x, y)\n",
    "        axes[i,j].set_title(\"plot(x,y)\")\n",
    "\n"
   ]
  },
  {
   "cell_type": "markdown",
   "metadata": {},
   "source": [
    "<hr>"
   ]
  },
  {
   "cell_type": "markdown",
   "metadata": {},
   "source": [
    "### Best Option to Create SubPlots"
   ]
  },
  {
   "cell_type": "markdown",
   "metadata": {},
   "source": [
    "A melhor hipótese para a criação de subplots passa, no entanto, pelo uso do comando `add_subplot`, onde: \n",
    "- o parâmetro `(1,1,1)` se refere ao primeiro subplot (último número da sequência 111) de um subplot 1x1 (dois primeiros números da sequência (1,1,1)).  \n",
    "- o parâmetro `(2,3,4)` se refere ao 4.º subplot (último número da sequência (2,3,4)) de um subplot 2x3 (dois primeiros números da sequência (2,3,4))."
   ]
  },
  {
   "cell_type": "markdown",
   "metadata": {},
   "source": [
    "A imagem abaixo ilustra a referência aos 4 plots de um subplot 2x2. Assim:\n",
    "- (2,2,1) é o primeiro subplot\n",
    "- (2,2,2) é o segundo subplot\n",
    "- (2,2,3) é o terceiro subplot\n",
    "- (2,2,4) é o quarto subplot"
   ]
  },
  {
   "cell_type": "markdown",
   "metadata": {},
   "source": [
    "<img src=\"https://www.di.ubi.pt/~rcampos/assets/img_tutorials/DataScience/SubPlot.jpg\" width=\"400\" height=\"400\" align=\"center\"/>"
   ]
  },
  {
   "cell_type": "markdown",
   "metadata": {},
   "source": [
    "Naturalmente se quisermos considerar 10 plots teremos que ter uma definição onde a multiplicação dos 2 primeiros digitos dê pelo menos 10. Assim (2,5,1) refere-se ao primeiro plot de 10 possibilidades (2 x 5). Da mesma forma que (5,2,1) se refere ao primeiro plot de 10 possibilidades (5 x 2), tal como (1,10,1) ou (10,1,1) se refere ao primeiro plot de 10 possibilidades."
   ]
  },
  {
   "cell_type": "code",
   "execution_count": null,
   "metadata": {},
   "outputs": [],
   "source": [
    "import matplotlib.pyplot as plt\n",
    "import numpy as np\n",
    "\n",
    "x = np.linspace(0, 2*np.pi, 400)\n",
    "y = np.sin(x**2)\n",
    "\n",
    "fig = plt.figure(figsize=(10,10))\n",
    "\n",
    "ax11 = fig.add_subplot(221)   #top left\n",
    "ax12 = fig.add_subplot(222)   #top right\n",
    "ax21 = fig.add_subplot(223)   #bottom left\n",
    "ax22 = fig.add_subplot(224)   #bottom right \n",
    "\n",
    "ax11.plot(x, y)\n",
    "ax12.plot(y, x)\n",
    "ax21.plot(x, y)\n",
    "ax22.plot(y, x)\n",
    "\n",
    "plt.show()"
   ]
  },
  {
   "cell_type": "markdown",
   "metadata": {},
   "source": [
    "É interessante observar que se definirmos um plot 2x3 (2 linhas x 3 colunas) correspondente a 6 subplots, mas fornecermos um número inferior de subplots o sistema funciona na mesma. No entanto, um número de plots superior ao definido não é possível."
   ]
  },
  {
   "cell_type": "code",
   "execution_count": null,
   "metadata": {},
   "outputs": [],
   "source": [
    "import matplotlib.pyplot as plt\n",
    "import numpy as np\n",
    "\n",
    "x = np.linspace(0, 2*np.pi, 400)\n",
    "y = np.sin(x**2)\n",
    "\n",
    "fig = plt.figure(figsize=(10,10))\n",
    "\n",
    "ax11 = fig.add_subplot(231)   #top left\n",
    "ax12 = fig.add_subplot(232)   #top right\n",
    "ax21 = fig.add_subplot(233)   #bottom left\n",
    "ax22 = fig.add_subplot(234)   #bottom right \n",
    "\n",
    "ax11.plot(x, y)\n",
    "ax12.plot(y, x)\n",
    "ax21.plot(x, y)\n",
    "ax22.plot(y, x)\n",
    "\n",
    "plt.show()"
   ]
  },
  {
   "cell_type": "markdown",
   "metadata": {},
   "source": [
    "O seguinte código permite automatizar o código anterior. Basicamente temos uma variável `i` controlada por um ciclo *for* que vai acrescentando um novo subplot."
   ]
  },
  {
   "cell_type": "markdown",
   "metadata": {},
   "source": [
    "Experimente diferentes configurações alterando os valores de `rows` e de `columns`."
   ]
  },
  {
   "cell_type": "code",
   "execution_count": null,
   "metadata": {},
   "outputs": [],
   "source": [
    "import matplotlib.pyplot as plt\n",
    "import numpy as np\n",
    "\n",
    "x = np.linspace(0, 2*np.pi, 400)\n",
    "y = np.sin(x**2)\n",
    "\n",
    "rows = 2\n",
    "columns = 2\n",
    "\n",
    "fig = plt.figure(figsize=(columns * 5, rows * 5))\n",
    "\n",
    "for i in range(1,(rows * columns) + 1):\n",
    "    ax = fig.add_subplot(rows, columns, i)\n",
    "    ax.plot(x, y)\n",
    "\n",
    "plt.show()"
   ]
  },
  {
   "cell_type": "markdown",
   "metadata": {},
   "source": [
    "<hr>"
   ]
  },
  {
   "cell_type": "markdown",
   "metadata": {},
   "source": [
    "## Plot Gallery"
   ]
  },
  {
   "cell_type": "markdown",
   "metadata": {},
   "source": [
    "O módulo matplotlib permite a criação de um conjunto de gráficos deveras interessante. Visite a [galeria de gráficos](https://matplotlib.org/2.0.2/gallery.html) para ficar com uma visão geral das várias opções."
   ]
  },
  {
   "cell_type": "markdown",
   "metadata": {},
   "source": [
    "### Datasets"
   ]
  },
  {
   "cell_type": "markdown",
   "metadata": {},
   "source": [
    "Neste notebook vamos recorrer a um conjunto de datasets para ilustramos alguns desses gráficos."
   ]
  },
  {
   "cell_type": "markdown",
   "metadata": {},
   "source": [
    "<u>Petrobás</u>"
   ]
  },
  {
   "cell_type": "markdown",
   "metadata": {},
   "source": [
    "O dataset seguinte guarda o histórico das acções da Petrobrás (uma empresa petrolifera brasileira) referentes ao ano de 2010 - 2017 (em concreto, dados de 04-01-2010 a 11-04-2017). Os dados importados (a partir do [Google Finance](https://www.google.com/finance)) reúnem informação tão diversa como a data, o cotação de abertura, a cotação mais alta, mais baixa, o preço de fecho e volume de transações. Do código seguinte é possível observar o recurso ao método `to_datetime` para converter os dados de string para o formato data."
   ]
  },
  {
   "cell_type": "code",
   "execution_count": null,
   "metadata": {},
   "outputs": [],
   "source": [
    "import pandas as pd\n",
    "\n",
    "def get_petrobas_df():\n",
    "    df = pd.read_csv(\"data/petr4_1_2010_11_2017.csv\")\n",
    "    df['Date'] = pd.to_datetime(df['Date'])\n",
    "    \n",
    "    return df\n",
    "\n",
    "df = get_petrobas_df()\n",
    "df.head()"
   ]
  },
  {
   "cell_type": "markdown",
   "metadata": {},
   "source": [
    "<hr>"
   ]
  },
  {
   "cell_type": "markdown",
   "metadata": {},
   "source": [
    "<u>Iris Dataset</u>"
   ]
  },
  {
   "cell_type": "markdown",
   "metadata": {},
   "source": [
    "For illustrative purposes, we will consider the Iris dataset, famously analyzed by Ronald Fisher in 1936, after the person who collected the data directly measuring the size of the various parts of the iris flowers. In this dataset,\n",
    "data from three different `species` of iris (`setosa`, `versicolor`, `virginica`) are\n",
    "collected and these data correspond to the `length` and `width` of the `sepals` and the length\n",
    "and width of the `petals`."
   ]
  },
  {
   "cell_type": "markdown",
   "metadata": {},
   "source": [
    "<img src=\"https://www.di.ubi.pt/~rcampos/assets/img_tutorials/DataScience/IrisDataset.jpg\" width=\"300\" height=\"300\" align=\"center\"/>"
   ]
  },
  {
   "cell_type": "markdown",
   "metadata": {},
   "source": [
    "<center>Source: Python data analytics with pandas numpy and matplotlib. https://www.apress.com/gp/book/9781484239124</center>"
   ]
  },
  {
   "cell_type": "markdown",
   "metadata": {},
   "source": [
    "O código seguinte converte os valores numéricos da target (0, 1, 2) em valores categóricos (setosa, versicolor, virginica)."
   ]
  },
  {
   "cell_type": "code",
   "execution_count": null,
   "metadata": {
    "scrolled": true
   },
   "outputs": [],
   "source": [
    "import pandas as pd\n",
    "import sklearn.datasets\n",
    "\n",
    "def get_iris_df():\n",
    "    ds = sklearn.datasets.load_iris()\n",
    "    df = pd.DataFrame(ds['data'], columns=ds['feature_names'])\n",
    "    code_species_map = dict(zip(range(3), ds['target_names']))\n",
    "    df['target'] = [code_species_map[c] for c in ds['target']]\n",
    "    \n",
    "    return df\n",
    "\n",
    "df = get_iris_df()\n",
    "df.head()"
   ]
  },
  {
   "cell_type": "markdown",
   "metadata": {},
   "source": [
    "<hr>"
   ]
  },
  {
   "cell_type": "markdown",
   "metadata": {},
   "source": [
    "### Line Chart"
   ]
  },
  {
   "cell_type": "markdown",
   "metadata": {},
   "source": [
    "Os gráficos de linhas são particularmente úteis para plotarmos uma linha ao longo do tempo. Para ilustar o gráfico de linhas recorremos ao dataset da `petrobas`."
   ]
  },
  {
   "cell_type": "code",
   "execution_count": null,
   "metadata": {},
   "outputs": [],
   "source": [
    "df = get_petrobas_df()\n",
    "df.head()"
   ]
  },
  {
   "cell_type": "markdown",
   "metadata": {},
   "source": [
    "O gráfico seguinte mostra a evolução da cotação da petrobás ao longo dos anos."
   ]
  },
  {
   "cell_type": "code",
   "execution_count": null,
   "metadata": {},
   "outputs": [],
   "source": [
    "import matplotlib.pyplot as plt\n",
    "%matplotlib inline\n",
    "\n",
    "X = df['Date']\n",
    "Y = df['Close']\n",
    "\n",
    "plt.plot(X,Y)\n",
    "\n",
    "plt.title('Petrobras - Cotação')\n",
    "plt.xlabel('Ano')\n",
    "plt.ylabel('Valor da Ação');"
   ]
  },
  {
   "cell_type": "markdown",
   "metadata": {},
   "source": [
    "Na eventualidade de querermos plotar apenas os dados relativos a 2017 (compreendidos entre 2017-01-01 e 2017-04-11) especificamos uma mask, filtrando assim os valores da tabela."
   ]
  },
  {
   "cell_type": "code",
   "execution_count": null,
   "metadata": {},
   "outputs": [],
   "source": [
    "X = df[(df['Date'] > '2017-01-01') & (df['Date'] <= '2017-04-11')]['Date']\n",
    "Y = df[(df['Date'] > '2017-01-01') & (df['Date'] <= '2017-04-11')]['Close']\n",
    "\n",
    "plt.figure(figsize=(18,6))\n",
    "plt.plot(X,Y)\n",
    "\n",
    "plt.title('Petrobras - Cotação')\n",
    "plt.xlabel('Ano')\n",
    "plt.ylabel('Valor da Ação')\n",
    "plt.xticks(rotation = 'vertical');"
   ]
  },
  {
   "cell_type": "markdown",
   "metadata": {},
   "source": [
    "O próximo código permite determinar a variação na cotação entre o preço de fecho e o preço de abertura."
   ]
  },
  {
   "cell_type": "code",
   "execution_count": null,
   "metadata": {},
   "outputs": [],
   "source": [
    "df['Variation'] = df['Close'] - df['Open']\n",
    "df.head(10)"
   ]
  },
  {
   "cell_type": "markdown",
   "metadata": {},
   "source": [
    "O plot seguinte descreve a forma como esta ação variou ao longo do tempo."
   ]
  },
  {
   "cell_type": "code",
   "execution_count": null,
   "metadata": {},
   "outputs": [],
   "source": [
    "X = df['Date']\n",
    "Y = df['Variation']\n",
    "plt.plot(X,Y);"
   ]
  },
  {
   "cell_type": "markdown",
   "metadata": {},
   "source": [
    "Vamos agora ilustrar como podemos adicionar duas linhas ao mesmo gráfico. Com vista a esse objetivo simulamos uma nova coluna `High_Plus` que nada mais é do que a soma do valor de `High` com mais 5 valores."
   ]
  },
  {
   "cell_type": "code",
   "execution_count": null,
   "metadata": {},
   "outputs": [],
   "source": [
    "df['High_Plus'] = df['High'] + 5\n",
    "df.head()"
   ]
  },
  {
   "cell_type": "markdown",
   "metadata": {},
   "source": [
    "De seguida plotamos as linhas relativas ao valor de `fecho (close)` e do `high_plus`:"
   ]
  },
  {
   "cell_type": "code",
   "execution_count": null,
   "metadata": {},
   "outputs": [],
   "source": [
    "import matplotlib.pyplot as plt\n",
    "%matplotlib inline\n",
    "\n",
    "feature_names = ['High_Plus', 'Close']\n",
    "\n",
    "X = df['Date']\n",
    "\n",
    "for feature in feature_names:\n",
    "    Y = df[feature]\n",
    "    plt.plot(X,Y)\n",
    "\n",
    "plt.title('Petrobras - Cotação')\n",
    "plt.xlabel('Ano')\n",
    "plt.ylabel('Valor da Ação')\n",
    "plt.legend(feature_names);"
   ]
  },
  {
   "cell_type": "markdown",
   "metadata": {},
   "source": [
    "De seguida construímos um gráfico de área o qual preenche o espaço entre as séries de dados com cores. Para isso recorremos ao método `fill_between`."
   ]
  },
  {
   "cell_type": "code",
   "execution_count": null,
   "metadata": {},
   "outputs": [],
   "source": [
    "from matplotlib import dates\n",
    "import matplotlib.pyplot as plt\n",
    "%matplotlib inline\n",
    "\n",
    "feature_names = ['High_Plus', 'Close']\n",
    "color = ['b','r']\n",
    "\n",
    "X = df['Date']\n",
    "\n",
    "for i in range(len(feature_names)):\n",
    "    Y = df[feature_names[i]]\n",
    "    plt.plot(X,Y)\n",
    "    plt.fill_between(X, Y, alpha=0.1, color = color[i], label = feature_names[i])\n",
    "\n",
    "plt.title('Petrobras - Cotação')\n",
    "plt.xlabel('Ano')\n",
    "plt.ylabel('Valor da Ação')\n",
    "plt.legend();"
   ]
  },
  {
   "cell_type": "markdown",
   "metadata": {},
   "source": [
    "Podemos também considerar colocar os plot em formato de sub-plots:"
   ]
  },
  {
   "cell_type": "code",
   "execution_count": null,
   "metadata": {},
   "outputs": [],
   "source": [
    "from matplotlib import dates\n",
    "import matplotlib.pyplot as plt\n",
    "%matplotlib inline\n",
    "\n",
    "feature_names = ['High_Plus', 'Close']\n",
    "\n",
    "rows = 1\n",
    "columns = int((len(feature_names) / rows) + (len(feature_names) % rows))\n",
    "\n",
    "fig = plt.figure(figsize=(columns * 5, rows * 5))\n",
    "\n",
    "for i in range(1,(rows * columns) + 1):\n",
    "    try:\n",
    "        X = df['Date']\n",
    "        Y = df[feature_names[i-1]]\n",
    "        \n",
    "        ax = fig.add_subplot(rows, columns, i)\n",
    "        ax.plot(X,Y)\n",
    "\n",
    "        ax.set_title(f'{feature_names[i-1]}')\n",
    "        ax.tick_params('x', labelrotation=45)\n",
    "    except IndexError as error:\n",
    "        break"
   ]
  },
  {
   "cell_type": "markdown",
   "metadata": {},
   "source": [
    "<hr>"
   ]
  },
  {
   "cell_type": "markdown",
   "metadata": {},
   "source": [
    "<u>Quiz 1</u>"
   ]
  },
  {
   "cell_type": "markdown",
   "metadata": {},
   "source": [
    "Crie um gráfico de linhas que ilustre a evolução da taxa média de desemprego ao longo das últimas décadas tendo por base os seguintes dados:\n",
    "\n",
    "```\n",
    "Year = [1920,1930,1940,1950,1960,1970,1980,1990,2000,2010]\n",
    "Unemployment_Rate = [9.8,12,8,7.2,6.9,7,6.5,6.2,5.5,6.3]\n",
    "```"
   ]
  },
  {
   "cell_type": "code",
   "execution_count": null,
   "metadata": {},
   "outputs": [],
   "source": [
    "#Insira aqui o seu código"
   ]
  },
  {
   "cell_type": "markdown",
   "metadata": {},
   "source": [
    "Clique duas vezes <b>aqui</b> para aceder à solução\n",
    "<!--\n",
    "import matplotlib.pyplot as plt\n",
    "%matplotlib inline\n",
    "   \n",
    "Year = [1920,1930,1940,1950,1960,1970,1980,1990,2000,2010]\n",
    "Unemployment_Rate = [9.8,12,8,7.2,6.9,7,6.5,6.2,5.5,6.3]\n",
    "  \n",
    "plt.plot(Year, Unemployment_Rate)\n",
    "plt.title('Unemployment Rate Vs Year')\n",
    "plt.xlabel('Year')\n",
    "plt.ylabel('Unemployment Rate')\n",
    "-->"
   ]
  },
  {
   "cell_type": "markdown",
   "metadata": {},
   "source": [
    "<hr>"
   ]
  },
  {
   "cell_type": "markdown",
   "metadata": {},
   "source": [
    "<u>Quiz 2</u>"
   ]
  },
  {
   "cell_type": "markdown",
   "metadata": {},
   "source": [
    "Considere as temperaturas mínimas de ar [5.5,  4.5,  5.7,  7.3, 11.7, 14.8, 17.5, 20. , 19. , 17.2, 13. , 8.8] e de mar [3.1,  3.3,  6.2,  9.2, 13.1, 15.6, 17.9, 17.5, 14.5, 10.7,  6.7, 3.7] registadas em Amesterdão durante os 12 meses do ano anterior. Crie um gráfico de área que inclua ambas as temperaturas com relação aos meses em que estas ocorreram."
   ]
  },
  {
   "cell_type": "code",
   "execution_count": null,
   "metadata": {},
   "outputs": [],
   "source": [
    "#Insira aqui o seu código"
   ]
  },
  {
   "cell_type": "markdown",
   "metadata": {},
   "source": [
    "Clique duas vezes <b>aqui</b> para aceder à solução\n",
    "<!--\n",
    "X = ['jan', 'feb', 'mar', 'apr','may', 'jun', 'jul', 'aug', 'sep', ' oct', 'nov', 'dec']\n",
    "Y1 = [3.1,  3.3,  6.2,  9.2, 13.1, 15.6, 17.9, 17.5, 14.5, 10.7,  6.7, 3.7]\n",
    "Y2 = [5.5,  4.5,  5.7,  7.3, 11.7, 14.8, 17.5, 20. , 19. , 17.2, 13. , 8.8]\n",
    "\n",
    "plt.fill_between(X, Y1, color='b', alpha=0.3)\n",
    "plt.fill_between(X, Y2, color='r', alpha=0.3)\n",
    "plt.xticks(months)\n",
    "\n",
    "plt.xlabel('Month')\n",
    "plt.ylabel('Temperature');\n",
    "-->"
   ]
  },
  {
   "cell_type": "markdown",
   "metadata": {},
   "source": [
    "<hr>"
   ]
  },
  {
   "cell_type": "markdown",
   "metadata": {},
   "source": [
    "### Pie Chart"
   ]
  },
  {
   "cell_type": "markdown",
   "metadata": {},
   "source": [
    "Para ilustar o gráfico circular recorremos ao `Iris` dataset. O primeiro passo é proceder a um groupby das `species/target` procedendo à soma dos valores de todas as colunas. O método `reset_index` permite incorporar `species/target` como uma coluna do dataframe fazendo um reset ao índice que dessa forma fica com valores numéricos atribuídos."
   ]
  },
  {
   "cell_type": "code",
   "execution_count": null,
   "metadata": {},
   "outputs": [],
   "source": [
    "df = get_iris_df()\n",
    "\n",
    "df = df.groupby('target').sum()\n",
    "df = df.reset_index()\n",
    "df"
   ]
  },
  {
   "cell_type": "markdown",
   "metadata": {},
   "source": [
    "Em concreto focamo-nos nos valores da coluna `sepal width (cm)`."
   ]
  },
  {
   "cell_type": "code",
   "execution_count": null,
   "metadata": {},
   "outputs": [],
   "source": [
    "import matplotlib.pyplot as plt\n",
    "%matplotlib inline\n",
    "\n",
    "var = 'sepal width (cm)'\n",
    "\n",
    "plt.pie(df[var], labels = df['target'], autopct='%1.1f%%');\n",
    "plt.title(var, fontsize=25);"
   ]
  },
  {
   "cell_type": "markdown",
   "metadata": {},
   "source": [
    "O próximo exemplo ilustra a criação de 4 subplots associados a cada uma das 4 colunas. Pode optar por diferentes combinações procedendo à alteração do número de linhas (`rows`). Pode também fazer uma análise mais restrita em termos do número de features (e.g., `feature_names = ['sepal length (cm)', 'sepal width (cm)']`)."
   ]
  },
  {
   "cell_type": "code",
   "execution_count": null,
   "metadata": {},
   "outputs": [],
   "source": [
    "import matplotlib.pyplot as plt\n",
    "%matplotlib inline\n",
    "import numpy as np\n",
    "\n",
    "feature_names = ['sepal length (cm)', 'sepal width (cm)', 'petal length (cm)', 'petal width (cm)']\n",
    "\n",
    "rows = 1\n",
    "columns = int((len(feature_names) / rows) + (len(feature_names) % rows))\n",
    "\n",
    "fig = plt.figure(figsize=(columns * 5, rows * 5))\n",
    "\n",
    "for i in range(1,(rows * columns) + 1):\n",
    "    try:\n",
    "        feature_name = feature_names[i-1]\n",
    "        ax = fig.add_subplot(rows, columns, i)\n",
    "        ax.pie(df[feature_name], labels = df['target'], autopct='%1.1f%%')\n",
    "        ax.set_title(feature_name)\n",
    "    except IndexError as error:\n",
    "        break\n",
    "\n",
    "plt.show()"
   ]
  },
  {
   "cell_type": "markdown",
   "metadata": {},
   "source": [
    "<hr>"
   ]
  },
  {
   "cell_type": "markdown",
   "metadata": {},
   "source": [
    "<u>Quiz</u>"
   ]
  },
  {
   "cell_type": "markdown",
   "metadata": {},
   "source": [
    "Nos jogos olímpicos de 2012 os países ['USA', 'CHN', 'GBR', 'RUS', 'KOR', 'GER', 'FRA', 'ITA', 'HUN', 'AUS', 'OTHER'] receberam as seguintes medalhas de ouro: [46, 38, 29, 24, 13, 11, 11, 8, 8, 7, 107]. Faça um gráfico circular que represente a distribuição das medalhas."
   ]
  },
  {
   "cell_type": "code",
   "execution_count": null,
   "metadata": {},
   "outputs": [],
   "source": [
    "#Insira aqui o seu código"
   ]
  },
  {
   "cell_type": "markdown",
   "metadata": {},
   "source": [
    "Clique duas vezes <b>aqui</b> para aceder à solução\n",
    "<!--\n",
    "gold = [46, 38, 29, 24, 13, 11, 11, 8, 8, 7, 107]\n",
    "countries = ['USA', 'CHN', 'GBR', 'RUS', 'KOR', 'GER', 'FRA', 'ITA', 'HUN', 'AUS', 'OTHER']\n",
    "plt.pie(gold, labels = countries, colors = ['Gold', 'MediumBlue', 'SpringGreen', 'BlueViolet']);\n",
    "\n",
    "colors especifica uma sequência de cores pretendida (que será repetida acaso o padrão não seja suficiente para garantir todas as fatias do gráfico circular).\n",
    "-->"
   ]
  },
  {
   "cell_type": "markdown",
   "metadata": {},
   "source": [
    "<hr>"
   ]
  },
  {
   "cell_type": "markdown",
   "metadata": {},
   "source": [
    "### Bar Plot"
   ]
  },
  {
   "cell_type": "markdown",
   "metadata": {},
   "source": [
    "Para ilustar o bar plot recorremos ao `Iris` dataset. Primeiro, procedemos a um groupby das `species /target` procedendo à soma dos valores de todas as colunas. O método `reset_index` permite incorporar `species/target` como uma coluna do dataframe fazendo um reset ao índice que dessa forma fica com valores numéricos atribuídos."
   ]
  },
  {
   "cell_type": "code",
   "execution_count": null,
   "metadata": {
    "scrolled": true
   },
   "outputs": [],
   "source": [
    "df = get_iris_df()\n",
    "\n",
    "df = df.groupby('target').sum()\n",
    "df = df.reset_index()\n",
    "df"
   ]
  },
  {
   "cell_type": "markdown",
   "metadata": {},
   "source": [
    "#### Vertical Bar Plot"
   ]
  },
  {
   "cell_type": "markdown",
   "metadata": {},
   "source": [
    "Em concreto, recorremos ao `sepal width (cm)`:"
   ]
  },
  {
   "cell_type": "code",
   "execution_count": null,
   "metadata": {},
   "outputs": [],
   "source": [
    "import matplotlib.pyplot as plt\n",
    "%matplotlib inline\n",
    "\n",
    "var = 'sepal width (cm)'\n",
    "plt.bar(df['target'], df[var])\n",
    "plt.title(var)"
   ]
  },
  {
   "cell_type": "markdown",
   "metadata": {},
   "source": [
    "De seguida criamos um subplot constituído por 1 linha e 4 colunas. Pode optar por diferentes combinações procedendo à alteração do número de linhas (`rows`).  Pode também fazer uma análise mais restrita em termos do número de features (e.g., `feature_names = ['sepal length (cm)', 'sepal width (cm)']`)."
   ]
  },
  {
   "cell_type": "code",
   "execution_count": null,
   "metadata": {},
   "outputs": [],
   "source": [
    "import matplotlib.pyplot as plt\n",
    "%matplotlib inline\n",
    "import numpy as np\n",
    "\n",
    "feature_names = ['sepal length (cm)', 'sepal width (cm)', 'petal length (cm)', 'petal width (cm)']\n",
    "\n",
    "rows = 1\n",
    "columns = int((len(feature_names) / rows) + (len(feature_names) % rows))\n",
    "\n",
    "fig = plt.figure(figsize=(columns * 5, rows * 5))\n",
    "\n",
    "for i in range(1,(rows * columns) + 1):\n",
    "    try:\n",
    "        feature_name = feature_names[i-1]\n",
    "        ax = fig.add_subplot(rows, columns, i)\n",
    "        ax.bar(df['target'],  df[feature_name])\n",
    "        ax.set_title(feature_name)\n",
    "        #ax.tick_params('x', labelrotation=45)\n",
    "    except IndexError as error:\n",
    "        break\n",
    "    \n",
    "\n",
    "plt.show()"
   ]
  },
  {
   "cell_type": "markdown",
   "metadata": {},
   "source": [
    "#### Horizontal Bar Plot"
   ]
  },
  {
   "cell_type": "markdown",
   "metadata": {},
   "source": [
    "Podemos também construir um gráfico barras horizontal com recurso ao comando `barh`. Para ilustrar este plot recorremos ao dataset Iris."
   ]
  },
  {
   "cell_type": "code",
   "execution_count": null,
   "metadata": {},
   "outputs": [],
   "source": [
    "df = get_iris_df()\n",
    "\n",
    "df = df.groupby('target').sum()\n",
    "df = df.reset_index()\n",
    "df"
   ]
  },
  {
   "cell_type": "code",
   "execution_count": null,
   "metadata": {},
   "outputs": [],
   "source": [
    "import matplotlib.pyplot as plt\n",
    "%matplotlib inline\n",
    "\n",
    "var = 'sepal width (cm)'\n",
    "plt.barh(df['target'], df[var])\n",
    "plt.title(var);"
   ]
  },
  {
   "cell_type": "markdown",
   "metadata": {},
   "source": [
    "#### Grouped Bar Plot"
   ]
  },
  {
   "cell_type": "markdown",
   "metadata": {},
   "source": [
    "Para ilustrar este plot recorremos ao dataset Iris."
   ]
  },
  {
   "cell_type": "code",
   "execution_count": null,
   "metadata": {},
   "outputs": [],
   "source": [
    "df = get_iris_df()\n",
    "\n",
    "df = df.groupby('target').sum()\n",
    "df = df.reset_index()\n",
    "df"
   ]
  },
  {
   "cell_type": "markdown",
   "metadata": {},
   "source": [
    "Multiple bar charts are generally used for comparing different entities. No exemplo abaixo definimos 3 grupos (as `species/target` na variável `x`: `setosa`,`versicolor`,`virginica`) cada qual com 4 barras `sepal width (cm)`, `sepal length (cm)`, `petal width (cm)`, `petal length (cm)`), respetivamente variáveis `bar1`, `bar2`, `bar3` e `bar4`. De observar também a variável `width`que permite definir a distância entre os grupos (se pretendessemos inserir uma nova barra teriamos que multiplicar o width * 4)."
   ]
  },
  {
   "cell_type": "code",
   "execution_count": null,
   "metadata": {},
   "outputs": [],
   "source": [
    "import numpy as np\n",
    "import matplotlib.pyplot as plt\n",
    "%matplotlib inline\n",
    "\n",
    "X = df['target']\n",
    "X_axis = np.arange(len(X))\n",
    "\n",
    "width = 0.2\n",
    "\n",
    "feature_names = ['sepal length (cm)', 'sepal width (cm)', 'petal length (cm)', 'petal width (cm)']\n",
    "\n",
    "for i in range(len(feature_names)):\n",
    "    plt.bar(X_axis + (width * i), df[feature_names[i]], width, label = feature_names[i])\n",
    "\n",
    "plt.xticks(X_axis + width, X)\n",
    "plt.xlabel(\"target\")\n",
    "plt.legend();"
   ]
  },
  {
   "cell_type": "markdown",
   "metadata": {},
   "source": [
    "Uma vez que temos os dados num dataframe podemos recorrer ao método `plot(kind='bar')` de dataframe para produzir o gráfico de todos os dados aí constantes:"
   ]
  },
  {
   "cell_type": "code",
   "execution_count": null,
   "metadata": {},
   "outputs": [],
   "source": [
    "df.plot(kind='bar')"
   ]
  },
  {
   "cell_type": "markdown",
   "metadata": {},
   "source": [
    "No exemplo abaixo invertemos a análise e definimos 4 grupos (na variável `x`: `sepal width (cm)`, `sepal length (cm)`, `petal width (cm)`, `petal length (cm)`) cada qual com 3 barras (`setosa`,`versicolor`,`virginica`), respetivamente variáveis `bar1`, `bar2`, `bar3` e `bar4`. Para selecionarmos os valores de `setosa`, `versicolor` e `virginica` recorremos ao método `loc` uma vez que os resultados se encontram dispostos em linha."
   ]
  },
  {
   "cell_type": "code",
   "execution_count": null,
   "metadata": {},
   "outputs": [],
   "source": [
    "import matplotlib.pyplot as plt\n",
    "%matplotlib inline\n",
    "\n",
    "X = df.columns[1:]\n",
    "X_axis = np.arange(len(X))\n",
    "\n",
    "width = 0.2\n",
    "\n",
    "target = ['setosa', 'versicolor', 'virginica']\n",
    "\n",
    "for i in range(len(target)):\n",
    "    plt.bar(X_axis + (width * i), df.loc[i][1:], width, label = target [i])\n",
    "\n",
    "plt.xticks(X_axis + width, X)\n",
    "plt.xlabel(\"features\")\n",
    "plt.legend();"
   ]
  },
  {
   "cell_type": "markdown",
   "metadata": {},
   "source": [
    "#### Stacked Bar Plot"
   ]
  },
  {
   "cell_type": "markdown",
   "metadata": {},
   "source": [
    "Groupe bar charts can be easily converted into stacked area bar charts, where each subgroup is displayed on top of one another. The height of the bar depends on the resulting height of the combination of the results of the groups. It goes from the bottom to the value instead of going from zero to value. The following bar plot represents the contribution of sepal and petal in the length."
   ]
  },
  {
   "cell_type": "markdown",
   "metadata": {},
   "source": [
    "Para ilustrar este plot recorremos ao dataset Iris."
   ]
  },
  {
   "cell_type": "code",
   "execution_count": null,
   "metadata": {},
   "outputs": [],
   "source": [
    "df = get_iris_df()\n",
    "\n",
    "df = df.groupby('target').sum()\n",
    "df = df.reset_index()\n",
    "df"
   ]
  },
  {
   "cell_type": "markdown",
   "metadata": {},
   "source": [
    "Observe-se a necessidade de definir o parâmetro `bottom`. No exemplo em questão os valores de `y2` devem assentar em cima dos valores de `y1` daí termos `bottom = y1`."
   ]
  },
  {
   "cell_type": "code",
   "execution_count": null,
   "metadata": {},
   "outputs": [],
   "source": [
    "import matplotlib.pyplot as plt\n",
    "%matplotlib inline\n",
    "\n",
    "var_y1 = 'sepal length (cm)'\n",
    "var_y2 = 'petal length (cm)'\n",
    "\n",
    "x = df['target']\n",
    "y1 = df[var_y1]\n",
    "y2 = df[var_y2]\n",
    "\n",
    "plt.bar(x, y1, label = 'sepal')\n",
    "plt.bar(x, y2, bottom = y1, label = 'petal')\n",
    "plt.title(\"sepal/petal length (cm)\")\n",
    "plt.xlabel(\"target\")\n",
    "plt.legend();"
   ]
  },
  {
   "cell_type": "markdown",
   "metadata": {},
   "source": [
    "No exemplo seguinte temos 4 stacked bars. Observe-se a necessidade de em `bottom` especificarmos como base os Y's anteriormente adicionados."
   ]
  },
  {
   "cell_type": "code",
   "execution_count": null,
   "metadata": {},
   "outputs": [],
   "source": [
    "import matplotlib.pyplot as plt\n",
    "%matplotlib inline\n",
    "\n",
    "x = df['target']\n",
    "y1 = df['sepal length (cm)']\n",
    "y2 = df['petal length (cm)']\n",
    "y3 = df['sepal width (cm)']\n",
    "y4 = df['petal width (cm)']\n",
    "\n",
    "plt.bar(x, y1, label = 'Sepal Length')\n",
    "plt.bar(x, y2, bottom = y1, label = 'Petal Length')\n",
    "plt.bar(x, y3, bottom = y1+y2, label = 'Sepal Width')\n",
    "plt.bar(x, y4, bottom = y1+y2+y3, label = 'Petal Width')\n",
    "\n",
    "plt.legend();"
   ]
  },
  {
   "cell_type": "markdown",
   "metadata": {},
   "source": [
    "<hr>"
   ]
  },
  {
   "cell_type": "markdown",
   "metadata": {},
   "source": [
    "<u>Quiz</u>"
   ]
  },
  {
   "cell_type": "markdown",
   "metadata": {},
   "source": [
    "Crie um gráfico de colunas com as notas obtidas a 3 UCs do seu curso. Defina o eixo do `X` com o label `UCs`, o eixo do `Y` com o label `Notas` e o Título do gráfico com o label `Notas do Curso`."
   ]
  },
  {
   "cell_type": "code",
   "execution_count": null,
   "metadata": {},
   "outputs": [],
   "source": [
    "#Insira o seu código aqui"
   ]
  },
  {
   "cell_type": "markdown",
   "metadata": {},
   "source": [
    "Clique duas vezes <b>aqui</b> para aceder à solução\n",
    "<!--\n",
    "import numpy as np\n",
    "import matplotlib.pyplot as plt\n",
    "%matplotlib inline\n",
    " \n",
    "UCs = ['Prog I', 'Prog II', 'Prog III'] \n",
    "Notas = [14, 12, 19]\n",
    "  \n",
    "plt.bar(UCs, Notas)\n",
    " \n",
    "plt.xlabel(\"UCs\")\n",
    "plt.ylabel(\"Notas\")\n",
    "plt.title(\"Notas no Curso X\");\n",
    "-->"
   ]
  },
  {
   "cell_type": "markdown",
   "metadata": {},
   "source": [
    "<hr>"
   ]
  },
  {
   "cell_type": "markdown",
   "metadata": {},
   "source": [
    "<u>Quiz</u>"
   ]
  },
  {
   "cell_type": "markdown",
   "metadata": {},
   "source": [
    "As listas seguintes registam o número total de alunos inscritos durante 4 anos letivos num curso de programação:\n",
    "\n",
    "```\n",
    "X = ['2018','2019','2020','2021']\n",
    "girls = [10,20,20,40]\n",
    "boys = [20,30,25,30]\n",
    "```\n",
    "\n",
    "Crie um grouped bar plot com 4 grupos (2018, 2019, 2020 e 2021) cada qual com 2 barras (boys e girls)"
   ]
  },
  {
   "cell_type": "code",
   "execution_count": null,
   "metadata": {},
   "outputs": [],
   "source": [
    "#Insira o seu código aqui"
   ]
  },
  {
   "cell_type": "markdown",
   "metadata": {},
   "source": [
    "Clique duas vezes <b>aqui</b> para aceder à solução\n",
    "<!--\n",
    "import numpy as np \n",
    "import matplotlib.pyplot as plt \n",
    "  \n",
    "X = ['2018','2019','2020','2021']\n",
    "girls = [10,20,20,40]\n",
    "boys = [20,30,25,30]\n",
    "  \n",
    "X_axis = np.arange(len(X))\n",
    "width = 0.2\n",
    "  \n",
    "plt.bar(X_axis, girls, width, label = 'Girls')\n",
    "plt.bar(X_axis + width, boys, width, label = 'Boys')\n",
    "\n",
    "  \n",
    "plt.xticks(X_axis, X)\n",
    "plt.xlabel(\"Years\")\n",
    "plt.ylabel(\"Number of Students\")\n",
    "plt.title(\"Number of Students in each year\")\n",
    "plt.legend();\n",
    "-->"
   ]
  },
  {
   "cell_type": "markdown",
   "metadata": {},
   "source": [
    "<hr>"
   ]
  },
  {
   "cell_type": "markdown",
   "metadata": {},
   "source": [
    "<u>Quiz</u>"
   ]
  },
  {
   "cell_type": "markdown",
   "metadata": {},
   "source": [
    "As listas seguintes registam o número total de alunos inscritos durante 4 anos letivos num curso de programação:\n",
    "\n",
    "```\n",
    "X = ['2018','2019','2020','2021']\n",
    "girls = [10,20,20,40]\n",
    "boys = [20,30,25,30]\n",
    "```\n",
    "\n",
    "Crie um Stacked bar plot com 4 grupos (2018, 2019, 2020 e 2021) cada qual com 1 barra acumulada (boys e girls)."
   ]
  },
  {
   "cell_type": "code",
   "execution_count": null,
   "metadata": {},
   "outputs": [],
   "source": [
    "#Insira o seu código aqui"
   ]
  },
  {
   "cell_type": "markdown",
   "metadata": {},
   "source": [
    "Clique duas vezes <b>aqui</b> para aceder à solução\n",
    "<!--\n",
    "import matplotlib.pyplot as plt\n",
    "%matplotlib inline\n",
    "\n",
    "X = ['2018','2019','2020','2021']\n",
    "girls = np.array([10,20,20,40])\n",
    "boys = np.array([20,30,25,30])\n",
    "\n",
    "plt.bar(X,girls, label='girls')\n",
    "plt.bar(X,boys, bottom=girls, label='boys')\n",
    "\n",
    "plt.xlabel(\"Years\")\n",
    "plt.ylabel(\"Number of Students\")\n",
    "plt.title(\"Number of Students in each year\")\n",
    "plt.legend();\n",
    "-->"
   ]
  },
  {
   "cell_type": "markdown",
   "metadata": {},
   "source": [
    "<hr>"
   ]
  },
  {
   "cell_type": "markdown",
   "metadata": {},
   "source": [
    "### ScatterPlots"
   ]
  },
  {
   "cell_type": "markdown",
   "metadata": {},
   "source": [
    "Para ilustar o gráfico de dispersão recorremos ao `Iris` dataset. "
   ]
  },
  {
   "cell_type": "code",
   "execution_count": null,
   "metadata": {},
   "outputs": [],
   "source": [
    "df = get_iris_df()"
   ]
  },
  {
   "cell_type": "markdown",
   "metadata": {},
   "source": [
    "Um gráfico de dispersão correlaciona duas variáveis e a forma como as alterações numa variável tendem a afetar a outra. "
   ]
  },
  {
   "cell_type": "markdown",
   "metadata": {},
   "source": [
    "O código abaixo permite determinar o coeficiente de correlação (default: pearson) entre pares de atributos (valores numéricos). Os valores de correlação variam entre -1 e 1. Valores próximos de 1 significam uma correlação linear fortemente positiva (significa basicamente que uma variável é praticamente sinónimo da outra), ou seja, à medida que uma variável aumenta a outra variável também aumenta (e.g., mais chuva significa mais inundações). Valores próximos de -1 significam uma correlação linear fortemente negativa (e.g., menos chuva significa mais poluição). Finalmente valores próximos de 0 significam que não existe qualquer tipo de correlação linear."
   ]
  },
  {
   "cell_type": "markdown",
   "metadata": {},
   "source": [
    "<img src=\"https://www.di.ubi.pt/~rcampos/assets/img_tutorials/DataScience/Pearson.jpg\" width=\"500\" height=\"500\" align=\"center\"/>"
   ]
  },
  {
   "cell_type": "markdown",
   "metadata": {},
   "source": [
    "<center>Source: https://statistics.laerd.com/statistical-guides/pearson-correlation-coefficient-statistical-guide.php</center>"
   ]
  },
  {
   "cell_type": "markdown",
   "metadata": {},
   "source": [
    "<img src=\"https://www.di.ubi.pt/~rcampos/assets/img_tutorials/DataScience/Pearson1.jpg\" width=\"500\" height=\"500\" align=\"center\"/>"
   ]
  },
  {
   "cell_type": "markdown",
   "metadata": {},
   "source": [
    "Um artigo interessante sobre correlação/causalidade e bias pode ser lido aqui: https://rbaeza-yates.medium.com/correlation-in-ai-1916fc8a20c8"
   ]
  },
  {
   "cell_type": "markdown",
   "metadata": {},
   "source": [
    "<img src=\"https://www.di.ubi.pt/~rcampos/assets/img_tutorials/DataScience/Correlation.jpg\" width=\"500\" height=\"500\" align=\"center\"/>"
   ]
  },
  {
   "cell_type": "markdown",
   "metadata": {},
   "source": [
    "<center>Source: https://rbaeza-yates.medium.com/correlation-in-ai-1916fc8a20c8</center>"
   ]
  },
  {
   "cell_type": "markdown",
   "metadata": {},
   "source": [
    "O código abaixo exemplifica como se pode obter o valor da correlação entre duas variáveis. O método de default é `Pearson`, daí que o valor obtido seja igual ao obtido anteriormente:"
   ]
  },
  {
   "cell_type": "code",
   "execution_count": null,
   "metadata": {},
   "outputs": [],
   "source": [
    "df[\"sepal length (cm)\"].corr(df[\"sepal width (cm)\"], method=\"pearson\")"
   ]
  },
  {
   "cell_type": "markdown",
   "metadata": {},
   "source": [
    "Outras opções são `spearman` e `kendall`."
   ]
  },
  {
   "cell_type": "code",
   "execution_count": null,
   "metadata": {},
   "outputs": [],
   "source": [
    "df[\"sepal length (cm)\"].corr(df[\"sepal width (cm)\"], method=\"spearman\")"
   ]
  },
  {
   "cell_type": "code",
   "execution_count": null,
   "metadata": {},
   "outputs": [],
   "source": [
    "df[\"sepal length (cm)\"].corr(df[\"sepal width (cm)\"], method=\"kendall\")"
   ]
  },
  {
   "cell_type": "markdown",
   "metadata": {},
   "source": [
    "Do resultado obtido torna-se claro que a correlação entre as duas variáveis é extremamente fraca. Tal pode ser confirmado pelo plot abaixo."
   ]
  },
  {
   "cell_type": "markdown",
   "metadata": {},
   "source": [
    "O código abaixo cria um scatterplot entre as variáveis `sepal length (cm)` e `sepal width (cm)`."
   ]
  },
  {
   "cell_type": "code",
   "execution_count": null,
   "metadata": {},
   "outputs": [],
   "source": [
    "import matplotlib.pyplot as plt\n",
    "%matplotlib inline\n",
    "\n",
    "df = get_iris_df()\n",
    "\n",
    "var_x = 'sepal length (cm)'\n",
    "var_y = 'sepal width (cm)'\n",
    "\n",
    "x = df[var_x]\n",
    "y = df[var_y]\n",
    "\n",
    "plt.scatter(x, y)\n",
    "plt.xlabel(var_x)\n",
    "plt.ylabel(var_y)\n",
    "plt.title(\"Length vs Width\");"
   ]
  },
  {
   "cell_type": "markdown",
   "metadata": {},
   "source": [
    "O parâmetro `c` permite-nos especificar uma cor para cada um dos pontos em função de um determinado valor. No caso abaixo, as cores são definidas em função do valor de y. Tratando-se de um valor contínuo acabamos por ter uma escala de cores."
   ]
  },
  {
   "cell_type": "code",
   "execution_count": null,
   "metadata": {},
   "outputs": [],
   "source": [
    "import matplotlib.pyplot as plt\n",
    "%matplotlib inline\n",
    "\n",
    "df = get_iris_df()\n",
    "\n",
    "var_x = 'sepal length (cm)'\n",
    "var_y = 'sepal width (cm)'\n",
    "\n",
    "x = df[var_x]\n",
    "y = df[var_y]\n",
    "\n",
    "plt.scatter(x, y, c = y, cmap='autumn')\n",
    "plt.xlabel(var_x)\n",
    "plt.ylabel(var_y)\n",
    "plt.title(\"Length vs Width\");"
   ]
  },
  {
   "cell_type": "markdown",
   "metadata": {},
   "source": [
    "O seguinte plot é uma evolução do anterior ao permitir uma análise das duas variáveis em função das espécies. Com vista a esse objetivo recorremos de novo ao parâmetro `c`. Desta vez no entanto definimos as cores, não em função da variável de y (sepal widht (cm)), mas em função das 3 espécies. Uma vez que o parâmetro `c` apenas recebe valores numéricos teremos primeiro que converter as variáveis categóricas (`setosa`, `versicolor`, `virginica`) em variáveis numéricas (0, 1, 2), recorrendo para isso a um processo de categorical variable encoding (por via do comando factorize). No caso em que o target já seja um valor numérico este processo deixa de ser necessário. "
   ]
  },
  {
   "cell_type": "code",
   "execution_count": null,
   "metadata": {},
   "outputs": [],
   "source": [
    "import matplotlib.pyplot as plt\n",
    "%matplotlib inline\n",
    "\n",
    "df = get_iris_df()\n",
    "\n",
    "target_num = pd.factorize(df['target'])[0]\n",
    "\n",
    "var_x = 'sepal length (cm)'\n",
    "var_y = 'sepal width (cm)'\n",
    "\n",
    "x = df[var_x]\n",
    "y = df[var_y]\n",
    "\n",
    "plt.scatter(x, y, c=target_num)\n",
    "plt.xlabel(var_x)\n",
    "plt.ylabel(var_y)\n",
    "plt.title(\"Length vs Width\");\n",
    "\n"
   ]
  },
  {
   "cell_type": "markdown",
   "metadata": {},
   "source": [
    "Podemos definir novamente uma escala de cores com recurso ao `cmap` e à definição de 3 cores explicitas (uma para cada espécie)."
   ]
  },
  {
   "cell_type": "code",
   "execution_count": null,
   "metadata": {},
   "outputs": [],
   "source": [
    "import matplotlib.pyplot as plt\n",
    "from matplotlib.colors import ListedColormap\n",
    "%matplotlib inline\n",
    "import numpy as np\n",
    "\n",
    "df = get_iris_df()\n",
    "\n",
    "target_num = pd.factorize(df['target'])[0]\n",
    "\n",
    "var_x = 'sepal length (cm)'\n",
    "var_y = 'sepal width (cm)'\n",
    "\n",
    "x = df[var_x]\n",
    "y = df[var_y]\n",
    "\n",
    "colors = ListedColormap(['blue','orange','green'])\n",
    "\n",
    "plt.scatter(x, y, c = target_num, cmap = colors)\n",
    "plt.xlabel(var_x)\n",
    "plt.ylabel(var_y)\n",
    "plt.title(\"Length vs Width\");"
   ]
  },
  {
   "cell_type": "markdown",
   "metadata": {},
   "source": [
    "O código anterior é uma forma rápida e simples de termos acesso às diferentes cores da variável target, no entanto, não permite saber qual o label correspondente. Com vista a esse objetivo recorremos ao seguinte código. Da observação do plot é possível constatar uma correlação entre as duas variáveis no caso da espécie `setosa`, sugerindo que quanto maior é o `length` maior é o `width`."
   ]
  },
  {
   "cell_type": "code",
   "execution_count": null,
   "metadata": {},
   "outputs": [],
   "source": [
    "import matplotlib.pyplot as plt\n",
    "%matplotlib inline\n",
    "\n",
    "df = get_iris_df()\n",
    "\n",
    "targets = df['target'].unique()\n",
    "var_x = 'sepal length (cm)'\n",
    "var_y = 'sepal width (cm)'\n",
    "\n",
    "for target in targets:\n",
    "    x = df[df['target']==target][var_x]\n",
    "    y = df[df['target']==target][var_y]\n",
    "    plt.scatter(x, y, label = target)\n",
    "\n",
    "plt.xlabel(var_x)\n",
    "plt.ylabel(var_y)\n",
    "plt.title(\"Length vs Width\")\n",
    "plt.legend();"
   ]
  },
  {
   "cell_type": "markdown",
   "metadata": {},
   "source": [
    "Um dos problemas da visualização de dados prende-se com a imensa quantidade de variáveis que por vezes temos para comparar. Uma possível solução, no âmbito dos gráficos de dispersão, é o recurso a matrizes de dispersão. O próximo código exemplifica a comparação entre as diferentes variáveis numéricas. Na diagonal temos um histograma de cada feature ao invés de um scatterplot da feature contra ela mesmo (a qual retornaria apenas uma linha)."
   ]
  },
  {
   "cell_type": "code",
   "execution_count": null,
   "metadata": {},
   "outputs": [],
   "source": [
    "pd.plotting.scatter_matrix(df, figsize=(9,9));"
   ]
  },
  {
   "cell_type": "markdown",
   "metadata": {},
   "source": [
    "Podemos também especificar as colunas que queremos listar:"
   ]
  },
  {
   "cell_type": "code",
   "execution_count": null,
   "metadata": {},
   "outputs": [],
   "source": [
    "pd.plotting.scatter_matrix(df.iloc[:, 0:2]);"
   ]
  },
  {
   "cell_type": "markdown",
   "metadata": {},
   "source": [
    "<hr>"
   ]
  },
  {
   "cell_type": "markdown",
   "metadata": {},
   "source": [
    "<u>Quiz 1</u>"
   ]
  },
  {
   "cell_type": "markdown",
   "metadata": {},
   "source": [
    "Considere as temperaturas minímas [ 3.1,  3.3,  6.2,  9.2, 13.1, 15.6, 17.9, 17.5, 14.5, 10.7,  6.7, 3.7] registadas na cidade de Amesterdão referentes a Janeiro-Dezembro do último ano. Crie um gráfico de dispersão que correlacione as duas variáveis (meses; temperaturas)."
   ]
  },
  {
   "cell_type": "code",
   "execution_count": null,
   "metadata": {},
   "outputs": [],
   "source": [
    "#Insira o seu código aqui"
   ]
  },
  {
   "cell_type": "markdown",
   "metadata": {},
   "source": [
    "Clique duas vezes <b>aqui</b> para aceder à solução\n",
    "<!--\n",
    "import matplotlib.pyplot as plt\n",
    "%matplotlib inline\n",
    "\n",
    "temp = [ 3.1,  3.3,  6.2,  9.2, 13.1, 15.6, 17.9, 17.5, 14.5, 10.7,  6.7, 3.7]\n",
    "month = ['jan','feb','mar','apr','may','jun','jul','aug','sep','oct','nov','dec']\n",
    "plt.scatter(month, temp)\n",
    "plt.xlabel('month')\n",
    "plt.ylabel('temperatures');\n",
    "-->"
   ]
  },
  {
   "cell_type": "markdown",
   "metadata": {},
   "source": [
    "<hr>"
   ]
  },
  {
   "cell_type": "markdown",
   "metadata": {},
   "source": [
    "### Histograms"
   ]
  },
  {
   "cell_type": "markdown",
   "metadata": {},
   "source": [
    "Para ilustar a criação de um histograma recorremos ao `Iris` dataset. Neste contexto vamos observar a distribuição dos valores da variável `sepal width (cm)` que pode ser encontrada diretamente no dataframe:"
   ]
  },
  {
   "cell_type": "code",
   "execution_count": null,
   "metadata": {},
   "outputs": [],
   "source": [
    "import matplotlib.pyplot as plt\n",
    "%matplotlib inline\n",
    "\n",
    "df = get_iris_df()\n",
    "\n",
    "var = 'sepal width (cm)'\n",
    "\n",
    "plt.hist(df[var])\n",
    "plt.title(var)\n",
    "plt.xlabel(\"cms\")\n",
    "plt.ylabel(\"Frequency\");"
   ]
  },
  {
   "cell_type": "markdown",
   "metadata": {},
   "source": [
    "O campo `bins` permite definir o número de intervalos a considerar:"
   ]
  },
  {
   "cell_type": "code",
   "execution_count": null,
   "metadata": {},
   "outputs": [],
   "source": [
    "import matplotlib.pyplot as plt\n",
    "%matplotlib inline\n",
    "\n",
    "df = get_iris_df()\n",
    "\n",
    "var = 'sepal width (cm)'\n",
    "\n",
    "plt.hist(df[var], bins=3)\n",
    "plt.title(var);"
   ]
  },
  {
   "cell_type": "markdown",
   "metadata": {},
   "source": [
    "É possível também definir um histograma cumulativo:"
   ]
  },
  {
   "cell_type": "code",
   "execution_count": null,
   "metadata": {},
   "outputs": [],
   "source": [
    "import matplotlib.pyplot as plt\n",
    "%matplotlib inline\n",
    "\n",
    "df = get_iris_df()\n",
    "\n",
    "var = 'sepal width (cm)'\n",
    "\n",
    "plt.hist(df[var], cumulative=True)\n",
    "plt.title(var);"
   ]
  },
  {
   "cell_type": "markdown",
   "metadata": {},
   "source": [
    "De seguida criamos um conjunto de subplots (histogramas) para observarmos a distribuição dos valores de cada uma das colunas. Pode optar por diferentes combinações procedendo à alteração do número de linhas (`rows`).  Pode também fazer uma análise mais restrita em termos do número de features (e.g., `feature_names = ['sepal length (cm)', 'sepal width (cm)']`)."
   ]
  },
  {
   "cell_type": "code",
   "execution_count": null,
   "metadata": {},
   "outputs": [],
   "source": [
    "import matplotlib.pyplot as plt\n",
    "%matplotlib inline\n",
    "import numpy as np\n",
    "\n",
    "feature_names = ['sepal length (cm)', 'sepal width (cm)', 'petal length (cm)', 'petal width (cm)']\n",
    "\n",
    "rows = 1\n",
    "columns = int((len(feature_names) / rows) + (len(feature_names) % rows))\n",
    "\n",
    "fig = plt.figure(figsize=(columns * 5, rows * 5))\n",
    "\n",
    "for i in range(1,(rows * columns) + 1):\n",
    "    try:\n",
    "        feature_name = feature_names[i-1]\n",
    "        ax = fig.add_subplot(rows, columns, i)\n",
    "        ax.hist(df[[feature_name]])\n",
    "        ax.set_title(feature_name)\n",
    "    except IndexError as error:\n",
    "        break\n",
    "\n",
    "plt.show()"
   ]
  },
  {
   "cell_type": "markdown",
   "metadata": {},
   "source": [
    "Os 4 histogramas podem também ser visualizados num único plot."
   ]
  },
  {
   "cell_type": "code",
   "execution_count": null,
   "metadata": {},
   "outputs": [],
   "source": [
    "import matplotlib.pyplot as plt\n",
    "%matplotlib inline\n",
    "\n",
    "df = get_iris_df()\n",
    "\n",
    "feature_names = ['sepal length (cm)', 'sepal width (cm)', 'petal length (cm)', 'petal width (cm)']\n",
    "\n",
    "for feature_name in feature_names:\n",
    "    plt.hist(df[feature_name], alpha = 0.4, label=feature_name)\n",
    "\n",
    "plt.xlabel(\"cms\")\n",
    "plt.ylabel(\"Frequency\")\n",
    "plt.legend();"
   ]
  },
  {
   "cell_type": "markdown",
   "metadata": {},
   "source": [
    "Podemos também proceder à análise de uma das variáveis (e.g., `sepal width (cm)`) em função da variável target (`target`). O exemplo a seguir explora a distribuição dos dados do `sepal width (cm)` de acordo com as 3 categorias de `target`, i.e., `setosa`, `versicolor` e `virginica`."
   ]
  },
  {
   "cell_type": "code",
   "execution_count": null,
   "metadata": {},
   "outputs": [],
   "source": [
    "import matplotlib.pyplot as plt\n",
    "%matplotlib inline\n",
    "\n",
    "df = get_iris_df()\n",
    "\n",
    "feature_name = 'sepal width (cm)'\n",
    "\n",
    "for target in df['target'].unique():\n",
    "    values = df[df['target']==target][feature_name]\n",
    "    plt.hist(values, alpha = 0.4, label=target)\n",
    "\n",
    "plt.xlabel(\"cms\")\n",
    "plt.ylabel(\"Frequency\")\n",
    "plt.title(f\"{feature_name} by Target\")\n",
    "plt.legend();"
   ]
  },
  {
   "cell_type": "markdown",
   "metadata": {},
   "source": [
    "Ao invés de analisarmos a distribuição por categoria num único plot podemos recorrer a subplots. No exemplo abaixo analisamos as 4 variáveis (`sepal length (cm)`, `sepal width (cm)`, `petal length (cm)`, `petal width (cm)`) por espécie/target: `setosa`, `versicolor`, `virginica`). Restringimos também a escala do eixo dos x e dos y para uma melhor comparabilidade dos valores. Pode optar por diferentes combinações procedendo à alteração do número de linhas (`rows`).  Pode também fazer uma análise mais restrita em termos do número de features (e.g., `feature_names = ['sepal length (cm)', 'sepal width (cm)']`)."
   ]
  },
  {
   "cell_type": "markdown",
   "metadata": {},
   "source": [
    "Observe que neste caso passa a ter duas variáveis de análise pelo que terá que ter um produto cartesiano que combine as `feature_names` e o `target` numa única variável: `feature_names_by_target`. No fundo os valores constantes dessa variável são os valores de cada subplot."
   ]
  },
  {
   "cell_type": "code",
   "execution_count": null,
   "metadata": {},
   "outputs": [],
   "source": [
    "import matplotlib.pyplot as plt\n",
    "%matplotlib inline\n",
    "import numpy as np\n",
    "\n",
    "df = get_iris_df()\n",
    "\n",
    "feature_names = ['sepal length (cm)', 'sepal width (cm)', 'petal length (cm)', 'petal width (cm)']\n",
    "target = df['target'].unique()\n",
    "\n",
    "xlim = 8 #Adapted to the current example\n",
    "ylim = 30 #Adapted to the current example\n",
    "\n",
    "feature_names_by_target = [(x,y) for x in feature_names for y in target]\n",
    "\n",
    "rows = 3\n",
    "columns = int((len(feature_names_by_target) / rows) + (len(feature_names_by_target) % rows))\n",
    "\n",
    "fig = plt.figure(figsize=(columns * 5, rows * 5))\n",
    "\n",
    "for i in range(1,(rows * columns) + 1):\n",
    "    try:\n",
    "        values = df[df['target']==feature_names_by_target[i-1][1]][feature_names_by_target[i-1][0]]\n",
    "        ax = fig.add_subplot(rows, columns, i)\n",
    "        ax.hist(values, alpha = 0.4, label=feature_names_by_target[i-1][1])\n",
    "        ax.set_title(f\"{feature_names_by_target[i-1][0]} by Target: {feature_names_by_target[i-1][1]}\")\n",
    "        ax.set_xlim(0, xlim); #Adapted to the current example\n",
    "        ax.set_ylim(0, ylim); #Adapted to the current example\n",
    "    except IndexError as error:\n",
    "        break\n",
    "\n",
    "plt.show()"
   ]
  },
  {
   "cell_type": "markdown",
   "metadata": {},
   "source": [
    "Outra hipótese passa por explorar os resultados analisando as diferentes `species/target` em 4 subplots. Pode optar por diferentes combinações procedendo à alteração do número de linhas (`rows`).  Pode também fazer uma análise mais restrita em termos do número de features (e.g., `feature_names = ['sepal length (cm)', 'sepal width (cm)']`)."
   ]
  },
  {
   "cell_type": "code",
   "execution_count": null,
   "metadata": {},
   "outputs": [],
   "source": [
    "import matplotlib.pyplot as plt\n",
    "%matplotlib inline\n",
    "import numpy as np\n",
    "\n",
    "df = get_iris_df()\n",
    "\n",
    "feature_names = ['sepal length (cm)', 'sepal width (cm)', 'petal length (cm)', 'petal width (cm)']\n",
    "target = df['target'].unique()\n",
    "\n",
    "rows = 1\n",
    "columns = int((len(feature_names) / rows) + (len(feature_names) % rows))\n",
    "\n",
    "fig = plt.figure(figsize=(columns * 5, rows * 5))\n",
    "\n",
    "for i in range(1,(rows * columns) + 1):\n",
    "    try:\n",
    "        \n",
    "        feature_name = feature_names[i-1]\n",
    "        ax = fig.add_subplot(rows, columns, i)\n",
    "\n",
    "        #Ciclo for que para cada plot de feature, adiciona as variáveis de target.\n",
    "        for j in range(len(target)):\n",
    "            values = df[df['target']==target[j]][feature_name]\n",
    "            ax.hist(values, alpha = 0.4, label=target[j])\n",
    "\n",
    "        ax.set_title(f'{feature_name} by Target')\n",
    "        ax.legend()\n",
    "    except IndexError as error:\n",
    "        break\n",
    "\n",
    "plt.show()"
   ]
  },
  {
   "cell_type": "markdown",
   "metadata": {},
   "source": [
    "<hr>"
   ]
  },
  {
   "cell_type": "markdown",
   "metadata": {},
   "source": [
    "<u>Quiz</u>"
   ]
  },
  {
   "cell_type": "markdown",
   "metadata": {},
   "source": [
    "Construa um histograma a partir de um conjuntos de dados com a distribuição normal. Com vista a esse objetivo recorra à função `np.random.randn` a qual permite obter uma amostra gerada aleatoriamente de um conjunto de valores que seguem a distribuição normal."
   ]
  },
  {
   "cell_type": "code",
   "execution_count": null,
   "metadata": {},
   "outputs": [],
   "source": [
    "# Insira o seu código aqui:"
   ]
  },
  {
   "cell_type": "markdown",
   "metadata": {},
   "source": [
    "Clique duas vezes <b>aqui</b> para aceder à solução\n",
    "<!--\n",
    "import matplotlib.pyplot as plt\n",
    "%matplotlib inline\n",
    "n = np.random.randn(100000)\n",
    "plt.hist(n);\n",
    "-->"
   ]
  },
  {
   "cell_type": "markdown",
   "metadata": {},
   "source": [
    "<hr>"
   ]
  },
  {
   "cell_type": "markdown",
   "metadata": {},
   "source": [
    "### BoxPlot"
   ]
  },
  {
   "cell_type": "markdown",
   "metadata": {},
   "source": [
    "A boxplot is a graphical and standardised way to display the distribution of data based on five key numbers: The “minimum”, 1st Quartile (25th percentile), median (2nd Quartile./ 50th Percentile), the 3rd Quartile (75th percentile), and the “maximum”. The minimum and maximum values are defined as Q1–1.5 * IQR and Q3 + 1.5 * IQR respectively. Any points that fall outside of these limits are referred to as outliers."
   ]
  },
  {
   "cell_type": "markdown",
   "metadata": {},
   "source": [
    "<img src=\"https://www.di.ubi.pt/~rcampos/assets/img_tutorials/DataScience/boxplot.jpg\" width=\"500\" height=\"500\" align=\"center\"/>"
   ]
  },
  {
   "cell_type": "markdown",
   "metadata": {},
   "source": [
    "<center>Source: https://towardsdatascience.com/understanding-boxplots-5e2df7bcbd51 </center>"
   ]
  },
  {
   "cell_type": "markdown",
   "metadata": {},
   "source": [
    "- primeiro quartil (Q1/25% do Percentil);\n",
    "- mediana (Q2/50% Percentil);\n",
    "- terceiro quartil (Q3/75% Percentil);\n",
    "- wiskers: linha azul;\n",
    "- outliers: círculos verdes;\n",
    "- “maximum”: Q3 + 1.5*IQR\n",
    "- “minimum”: Q1 -1.5*IQR"
   ]
  },
  {
   "cell_type": "markdown",
   "metadata": {},
   "source": [
    "Para ilustar o boxplot recorremos ao `Iris` dataset e aos valores do `sepal length (cm)`. No primeiro exemplo vamos criar um boxplot do `sepal length (cm)` para a espécie/target `setosa`. Do resultado é possível observar, entre outras coisas, uma mediana de 5, assim como a ausência de outliers."
   ]
  },
  {
   "cell_type": "code",
   "execution_count": null,
   "metadata": {},
   "outputs": [],
   "source": [
    "import matplotlib.pyplot as plt\n",
    "%matplotlib inline\n",
    "\n",
    "df = get_iris_df()\n",
    "\n",
    "labels = ['setosa']\n",
    "\n",
    "var = 'sepal length (cm)'\n",
    "data = df[df['target'] == 'setosa'][var]\n",
    "\n",
    "plt.boxplot(data)\n",
    "plt.xticks(list(range(1,len(labels)+1)), labels);"
   ]
  },
  {
   "cell_type": "markdown",
   "metadata": {},
   "source": [
    "O próximo código ilustra a forma como podemos incluir mais do que uma série de dados no boxplot. Neste exemplo, continuamos a considerar o `sepal length (cm)` mas desta feita para as `species/targets`. Do resultado obtido é possível observar que a `specie/target` `virginica` tem um outlier."
   ]
  },
  {
   "cell_type": "code",
   "execution_count": null,
   "metadata": {},
   "outputs": [],
   "source": [
    "import matplotlib.pyplot as plt\n",
    "%matplotlib inline\n",
    "\n",
    "df = get_iris_df()\n",
    "\n",
    "target = df['target'].unique()\n",
    "\n",
    "var = 'sepal length (cm)'\n",
    "\n",
    "data = []\n",
    "\n",
    "for i in range(len(target)):\n",
    "    data.append(df[df['target'] == target[i]][var])\n",
    "\n",
    "plt.boxplot(data)\n",
    "plt.xticks(list(range(1,len(target)+1)), target);"
   ]
  },
  {
   "cell_type": "markdown",
   "metadata": {},
   "source": [
    "Podemos também fazer um subplot. Pode optar por diferentes combinações procedendo à alteração do número de linhas (`rows`).  Pode também fazer uma análise mais restrita em termos do número de features (e.g., `feature_names = ['sepal length (cm)', 'sepal width (cm)']`)."
   ]
  },
  {
   "cell_type": "code",
   "execution_count": null,
   "metadata": {},
   "outputs": [],
   "source": [
    "import matplotlib.pyplot as plt\n",
    "%matplotlib inline\n",
    "import numpy as np\n",
    "\n",
    "df = get_iris_df()\n",
    "\n",
    "feature_names = ['sepal length (cm)', 'sepal width (cm)', 'petal length (cm)', 'petal width (cm)']\n",
    "target = df['target'].unique()\n",
    "\n",
    "rows = 1\n",
    "columns = int((len(feature_names) / rows) + (len(feature_names) % rows))\n",
    "\n",
    "fig = plt.figure(figsize=(columns * 5, rows * 5))\n",
    "\n",
    "for i in range(1,(rows * columns) + 1):\n",
    "    try:\n",
    "        \n",
    "        feature_name = feature_names[i-1]\n",
    "        \n",
    "        ax = fig.add_subplot(rows, columns, i)\n",
    "\n",
    "        data = []\n",
    "        #Ciclo for que para cada plot de feature, adiciona as variáveis de target.\n",
    "        for j in range(len(target)):\n",
    "            data.append(df[df['target'] == target[j]][feature_name])\n",
    "\n",
    "        ax.boxplot(data)\n",
    "        ax.set_title(f'{feature_name}')\n",
    "        ax.set_xticks(list(range(1,len(target)+1)), target);\n",
    "        #ax.tick_params('x', labelrotation=45)\n",
    "    except IndexError as error:\n",
    "        break\n",
    "    \n",
    "plt.show()"
   ]
  },
  {
   "cell_type": "markdown",
   "metadata": {},
   "source": [
    "<hr>"
   ]
  },
  {
   "cell_type": "markdown",
   "metadata": {},
   "source": [
    "### Heatmap"
   ]
  },
  {
   "cell_type": "markdown",
   "metadata": {},
   "source": [
    "Para ilustar a criação deste tipo de gráficos recorremos ao dataset da `petrobas`. "
   ]
  },
  {
   "cell_type": "code",
   "execution_count": null,
   "metadata": {},
   "outputs": [],
   "source": [
    "df = get_petrobas_df()\n",
    "df.head()"
   ]
  },
  {
   "cell_type": "markdown",
   "metadata": {},
   "source": [
    "O código abaixo permite determinar a correlação (default: pearson) entre as diferentes variáveis."
   ]
  },
  {
   "cell_type": "code",
   "execution_count": null,
   "metadata": {},
   "outputs": [],
   "source": [
    "correlations = df.corr(numeric_only=True)\n",
    "correlations"
   ]
  },
  {
   "cell_type": "markdown",
   "metadata": {},
   "source": [
    "O código seguinte permite plotar uma matriz de correlação:"
   ]
  },
  {
   "cell_type": "code",
   "execution_count": null,
   "metadata": {},
   "outputs": [],
   "source": [
    "import matplotlib.pyplot as plt\n",
    "\n",
    "labels = df.columns\n",
    "\n",
    "plt.xticks(ticks=range(len(labels)),labels=labels,rotation=90)\n",
    "plt.yticks(ticks=range(len(labels)), labels=labels)\n",
    "\n",
    "hm = plt.imshow(correlations, cmap = 'autumn' , interpolation = 'nearest' )\n",
    "plt.colorbar(hm)"
   ]
  },
  {
   "cell_type": "markdown",
   "metadata": {},
   "source": [
    "Uma alternativa ao matplot lib muito usada em heatmaps são os plots [seaborn](https://towardsdatascience.com/heatmap-basics-with-pythons-seaborn-fb92ea280a6c)"
   ]
  },
  {
   "cell_type": "code",
   "execution_count": null,
   "metadata": {},
   "outputs": [],
   "source": [
    "import pandas as pd\n",
    "import matplotlib.pyplot as plt\n",
    "import seaborn as sns\n",
    "import numpy as np\n",
    "\n",
    "fig, ax = plt.subplots(figsize=(11, 9))\n",
    "sns.heatmap(df.corr(numeric_only=True), annot=True)\n",
    "plt.show()"
   ]
  },
  {
   "cell_type": "markdown",
   "metadata": {},
   "source": [
    "Arrays bi-dimensionais podem também ser visualizados com recurso à função `plt.matshow`. Uma legenda de escala de cores é adicionada. Note que a primeira linha (e primeira coluna) da matriz é identificada no plot pelo índice 0."
   ]
  },
  {
   "cell_type": "code",
   "execution_count": null,
   "metadata": {},
   "outputs": [],
   "source": [
    "x = np.array([[8, 4, 6, 2],\n",
    "              [4, 8, 6, 2],\n",
    "              [4, 8, 2, 6],\n",
    "              [8, 2, 4, 6]])\n",
    "plt.matshow(x)\n",
    "plt.colorbar(ticks=[2, 4, 6, 8])"
   ]
  },
  {
   "cell_type": "markdown",
   "metadata": {},
   "source": [
    "<hr>"
   ]
  },
  {
   "cell_type": "markdown",
   "metadata": {},
   "source": [
    "<u>Quiz 1</u>"
   ]
  },
  {
   "cell_type": "markdown",
   "metadata": {},
   "source": [
    "Considere o seguinte dataframe que regista as notas de um conjunto de alunos a uma série de disciplinas. Crie um heatmap do dataframe."
   ]
  },
  {
   "cell_type": "code",
   "execution_count": null,
   "metadata": {},
   "outputs": [],
   "source": [
    "#Insira o seu código aqui"
   ]
  },
  {
   "cell_type": "markdown",
   "metadata": {},
   "source": [
    "Clique duas vezes <b>aqui</b> para aceder à solução\n",
    "<!--\n",
    "import pandas as pd\n",
    "import matplotlib.pyplot as plt\n",
    "%matplotlib inline\n",
    "\n",
    "data = {'Sumit':[50, 74, 40, 59,90, 98],\n",
    "    'Ashu':[72, 85, 64, 33, 47, 87],\n",
    "    'Sonu':[52, 97, 44, 73, 17, 56],\n",
    "    'Kajal':[69, 45, 89, 79,70, 48],\n",
    "    'Kavita':[87, 65, 56, 86, 72, 68],\n",
    "    'Naman':[90, 29, 78, 66, 50, 32]} \n",
    "\n",
    "subjects = ['Maths','Hindi','English','Social Studies','Science','Computer Science']\n",
    "    \n",
    "df = pd.DataFrame(data, index=subjects)\n",
    " \n",
    "names=['Sumit','Ashu','Sonu','Kajal','Kavita','Naman']\n",
    " \n",
    "plt.xticks(ticks=range(len(names)),labels=names,rotation=90)\n",
    "plt.yticks(ticks=range(len(subjects)),labels=subjects)\n",
    "\n",
    "hm = plt.imshow(df, cmap='Blues',interpolation=\"nearest\")\n",
    "plt.colorbar(hm);\n",
    "-->"
   ]
  },
  {
   "cell_type": "markdown",
   "metadata": {},
   "source": [
    "<hr>"
   ]
  },
  {
   "cell_type": "markdown",
   "metadata": {},
   "source": [
    "### Log-Log Plots"
   ]
  },
  {
   "cell_type": "markdown",
   "metadata": {},
   "source": [
    "Uma situação bastante comum na criação de gráficos, prende-se com a ocorrência de valores que variam por várias ordens de magnitude. Um exemplo deste cenário prende-se com a observação do tráfego registado numa coleção de websites, maior nuns websites do que noutros. Criar um gráfico nestas condições (de predominância de um conjunto de valores) dificulta a interpretação dos dados uma vez que os dados dominantes acabam por se sobrepôr (em termos de dimensão) aos restantes."
   ]
  },
  {
   "cell_type": "markdown",
   "metadata": {},
   "source": [
    "O código seguinte é um bom exemplo desse cenário. Nele é possível observar (a partir de um dataset do scikit‐learn, relacionado com o valor de uma casa na Califórnia) que a interpretação do gráfico de dispersão fica difícil de entender (ao concentrar a maior parte dos pontos na esquerda) para todos, menos os valores que se concentram mais à direita."
   ]
  },
  {
   "cell_type": "code",
   "execution_count": null,
   "metadata": {},
   "outputs": [],
   "source": [
    "from sklearn.datasets import fetch_openml\n",
    "housing = fetch_openml(name=\"house_prices\", as_frame=True)\n",
    "df = pd.DataFrame(housing.data, columns=housing.feature_names)\n",
    "df['MEDV'] = housing.target #mediana do valor de uma casa\n",
    "df"
   ]
  },
  {
   "cell_type": "code",
   "execution_count": null,
   "metadata": {},
   "outputs": [],
   "source": [
    "# Normal Scatterplot\n",
    "X = df['PoolArea']\n",
    "Y = df['MEDV']\n",
    "plt.scatter(X,Y)\n",
    "\n",
    "plt.xlabel('Pool Area')\n",
    "plt.ylabel('Median House Value')"
   ]
  },
  {
   "cell_type": "markdown",
   "metadata": {},
   "source": [
    "Ao invés, podemos criar um plot log-log, aplicando a função logarítmica aos valores do eixo do X e do Y. Com este reescalonamento, é possível observar a existência de uma clara correlação negativa entre as duas variáveis (quanto maior a taxa de criminalidade, menor é o valor residencial médio). Note que plots log log apenas podem ser criados se na presença de valores superiores a 0. Em muitas situações, por exemplo na contabilização de eventos, é natural encontramos o valor 0 para regitar a ausência de qualquer evento. Neste é comum adicionar o valor de 1 a todos os registos contornando dessa forma a situação."
   ]
  },
  {
   "cell_type": "code",
   "execution_count": null,
   "metadata": {},
   "outputs": [],
   "source": [
    "import numpy as np\n",
    "import pandas as pd\n",
    "import matplotlib.pyplot as plt\n",
    "\n",
    "# Normal Scatterplot\n",
    "X = np.log2(df['PoolArea'])\n",
    "Y = np.log2(df['MEDV'])\n",
    "plt.scatter(X,Y)\n",
    "\n",
    "plt.xlabel('Pool Area')\n",
    "plt.ylabel('Median House Value')"
   ]
  },
  {
   "cell_type": "markdown",
   "metadata": {},
   "source": [
    "O mesmo plot poderia ser feito com recurso ao `loglog` plot. Note que aqui a legenda é bem mais científica."
   ]
  },
  {
   "cell_type": "code",
   "execution_count": null,
   "metadata": {},
   "outputs": [],
   "source": [
    "import numpy as np\n",
    "import pandas as pd\n",
    "import matplotlib.pyplot as plt\n",
    "\n",
    "# Normal Scatterplot\n",
    "X = df['PoolArea']\n",
    "Y = df['MEDV']\n",
    "plt.loglog(X,Y, '.', markersize=10)\n",
    "\n",
    "plt.xlabel('Pool Area')\n",
    "plt.ylabel('Median House Value')\n",
    "\n",
    "plt.title('Crime rate on normal axis');"
   ]
  },
  {
   "cell_type": "markdown",
   "metadata": {},
   "source": [
    "Ao invés de aplicarmos um plot `log-log` podemos aplicar um log a apenas um dos eixos (e.g, `semilogx`, `semilogy`). No exemplo abaixo o log é aplicado ao eixo dos x."
   ]
  },
  {
   "cell_type": "code",
   "execution_count": null,
   "metadata": {},
   "outputs": [],
   "source": [
    "import numpy as np\n",
    "import pandas as pd\n",
    "import matplotlib.pyplot as plt\n",
    "\n",
    "# Normal Scatterplot\n",
    "X = df['PoolArea']\n",
    "Y = df['MEDV']\n",
    "plt.semilogx(X,Y, '.', markersize=10)\n",
    "\n",
    "plt.xlabel('Pool Area')\n",
    "plt.ylabel('Median House Value')"
   ]
  },
  {
   "cell_type": "markdown",
   "metadata": {},
   "source": [
    "<hr>"
   ]
  },
  {
   "cell_type": "markdown",
   "metadata": {},
   "source": [
    "<u>Quiz 1</u>"
   ]
  },
  {
   "cell_type": "markdown",
   "metadata": {},
   "source": [
    "O dataset GOOG.csv (obtido a partir deste link https://finance.yahoo.com/quote/GOOG/history/) reúne informações históricas da evolução das ações da google desde 2004. Importe-o para um dataframe com recurso ao seguinte código:"
   ]
  },
  {
   "cell_type": "code",
   "execution_count": null,
   "metadata": {},
   "outputs": [],
   "source": [
    "#Insira o seu código aqui\n",
    "import pandas as pd\n",
    "df = pd.read_csv(\"data/GOOG.csv\", encoding='ansi')\n",
    "df['Date'] = pd.to_datetime(df['Date'])\n",
    "df"
   ]
  },
  {
   "cell_type": "markdown",
   "metadata": {},
   "source": [
    "1 - Crie um plot que registe a evolução da cotação das ações (valor de fecho) da google ao longo dos anos."
   ]
  },
  {
   "cell_type": "markdown",
   "metadata": {},
   "source": [
    "Clique duas vezes <b>aqui</b> para aceder à solução\n",
    "<!--\n",
    "import matplotlib.pyplot as plt\n",
    "%matplotlib inline\n",
    "\n",
    "X = df['Date']\n",
    "Y = df['Close']\n",
    "\n",
    "plt.plot(X,Y)\n",
    "plt.xticks(rotation='vertical')\n",
    "plt.xlabel('year')\n",
    "plt.ylabel('USD');\n",
    "-->"
   ]
  },
  {
   "cell_type": "markdown",
   "metadata": {},
   "source": [
    "2 - Observe que os resultados ficam dificeis de analisar em função de uma subida do preço das ações nos últimos anos (tornando o lado direito do plot mais dominante). Para ultrapassar essa dificuldade de análise crie um semi-log plot no eixo dos y."
   ]
  },
  {
   "cell_type": "markdown",
   "metadata": {},
   "source": [
    "Clique duas vezes <b>aqui</b> para aceder à solução\n",
    "<!--\n",
    "import matplotlib.pyplot as plt\n",
    "%matplotlib inline\n",
    "\n",
    "X = df['Date']\n",
    "Y = df['Close']\n",
    "\n",
    "plt.semilogy(X,Y)\n",
    "plt.xticks(rotation='vertical')\n",
    "plt.xlabel('year')\n",
    "plt.ylabel('USD');\n",
    "-->"
   ]
  },
  {
   "cell_type": "markdown",
   "metadata": {},
   "source": [
    "### Finance Plots"
   ]
  },
  {
   "cell_type": "markdown",
   "metadata": {},
   "source": [
    "#### Pandas_DataReader"
   ]
  },
  {
   "cell_type": "markdown",
   "metadata": {},
   "source": [
    "Source: https://thecleverprogrammer.com/2021/03/22/pandas-datareader-using-python-tutorial/"
   ]
  },
  {
   "cell_type": "markdown",
   "metadata": {},
   "source": [
    "O Pandas [datareader](https://pandas-datareader.readthedocs.io/en/latest/) é um pacote python que permite criar um dataframe a partir de várias fontes que disponibilizam dados financeiros a partir da internet (e.g., Yahoo Finance, Google Finance, World Bank, OECD)."
   ]
  },
  {
   "cell_type": "code",
   "execution_count": null,
   "metadata": {},
   "outputs": [],
   "source": [
    "!pip install pandas_datareader"
   ]
  },
  {
   "cell_type": "code",
   "execution_count": null,
   "metadata": {},
   "outputs": [],
   "source": [
    "!pip install yfinance"
   ]
  },
  {
   "cell_type": "markdown",
   "metadata": {},
   "source": [
    "No exemplo abaixo recorremos ao pandas data reader para obter dados a partir da definição de um conjunto de tickers. Os dados obtidos têm início no ano de 2008 e são coletados até à data atual."
   ]
  },
  {
   "cell_type": "code",
   "execution_count": null,
   "metadata": {},
   "outputs": [],
   "source": [
    "import pandas as pd\n",
    "import pandas_datareader.data as pdr\n",
    "import yfinance as yf\n",
    "from datetime import date\n",
    "\n",
    "yf.pdr_override()\n",
    "\n",
    "start_date = \"2008-01-1\"\n",
    "end_date = date.today()\n",
    "\n",
    "#LisfOfTickers = ['GOOG','FB', \"IBM\", \"AMZN\", \"MSFT\", \"TSLA\",'PBR']\n",
    "LisfOfTickers = ['AXS-EUR','MANA-EUR','BTC-EUR','ADA-EUR','DOT-EUR','ETH-EUR','SOL-EUR','Aave-EUR','LINK-EUR','AXS-EUR','AVAX-EUR','XTZ-EUR']\n",
    "\n",
    "data_pd = {}\n",
    "\n",
    "for ticker in LisfOfTickers:\n",
    "    data = pdr.get_data_yahoo(ticker, start=start_date, end=end_date)\n",
    "    data_pd[ticker] = data['Close']\n",
    "    \n",
    "df = pd.DataFrame(data_pd)\n",
    "df"
   ]
  },
  {
   "cell_type": "markdown",
   "metadata": {},
   "source": [
    "Depois de ter obtido todos os dados pode agora especificar um filtro ao dataframe. Ajuste o filtro às suas necessidades e execute o código para poder executar todas as boxes que se lhe seguem (e que estão dependentes do `df_filter`)."
   ]
  },
  {
   "cell_type": "code",
   "execution_count": null,
   "metadata": {},
   "outputs": [],
   "source": [
    "df_filter = df[(df.index > '2021-01-01')]\n",
    "df_filter"
   ]
  },
  {
   "cell_type": "code",
   "execution_count": null,
   "metadata": {},
   "outputs": [],
   "source": [
    "import matplotlib.pyplot as plt\n",
    "%matplotlib inline\n",
    "\n",
    "plt.figure(figsize=(15,10))\n",
    "\n",
    "X = df_filter.index\n",
    "\n",
    "for ticker in LisfOfTickers:\n",
    "    Y = df_filter[ticker]\n",
    "    plt.plot(X,Y)\n",
    "\n",
    "plt.title('Cotação')\n",
    "plt.xlabel('Ano')\n",
    "plt.ylabel('Valor da Ação')\n",
    "plt.legend(LisfOfTickers, loc = 'best');\n"
   ]
  },
  {
   "cell_type": "markdown",
   "metadata": {},
   "source": [
    "A diferença de amplitude no valor das ações torna difícil entender a evolução das empresas com ações de valor mais baixo. O código seguinte permite gerar um conjunto de subplots individuais."
   ]
  },
  {
   "cell_type": "code",
   "execution_count": null,
   "metadata": {},
   "outputs": [],
   "source": [
    "import matplotlib.pyplot as plt\n",
    "%matplotlib inline\n",
    "import numpy as np\n",
    "\n",
    "feature_names = LisfOfTickers\n",
    "\n",
    "rows = 5\n",
    "columns = int((len(feature_names) / rows) + (len(feature_names) % rows))\n",
    "\n",
    "fig = plt.figure(figsize=(columns * 5, rows * 7))\n",
    "\n",
    "\n",
    "for i in range(1,(rows * columns) + 1):\n",
    "    try:\n",
    "        X = df_filter.index\n",
    "        Y = df_filter[feature_names[i-1]]\n",
    "        \n",
    "        ax = fig.add_subplot(rows, columns, i)\n",
    "        ax.plot(X,Y)\n",
    "\n",
    "        ax.set_title(f'{feature_names[i-1]}')\n",
    "        ax.tick_params('x', labelrotation=45)\n",
    "    except IndexError as error:\n",
    "        break\n",
    "\n",
    "plt.show()"
   ]
  },
  {
   "cell_type": "markdown",
   "metadata": {},
   "source": [
    "#### Finance Plots Candlestick"
   ]
  },
  {
   "cell_type": "markdown",
   "metadata": {},
   "source": [
    "O candlestick representa graficamente a variação de preços num determinado espaço de tempo. Nele estão representados:"
   ]
  },
  {
   "cell_type": "markdown",
   "metadata": {},
   "source": [
    "- Preço de abertura - é o preço pelo qual foi fechado o primeiro negócio do intervalo.\n",
    "- Preço de fechamento - é o preço pelo qual foi fechado o último negócio do intervalo.\n",
    "- Preço máximo - é o maior preço negociado no intervalo.\n",
    "- Preço mínimo - é o menor preço negociado no intervalo."
   ]
  },
  {
   "cell_type": "markdown",
   "metadata": {},
   "source": [
    "<img src=\"https://www.di.ubi.pt/~rcampos/assets/img_tutorials/DataScience/Candlestick.jpg\" width=\"500\" height=\"500\" align=\"center\"/>"
   ]
  },
  {
   "cell_type": "markdown",
   "metadata": {},
   "source": [
    "A primeira coisa a fazer é proceder à instação do módulo [mplfinance](https://github.com/matplotlib/mplfinance)."
   ]
  },
  {
   "cell_type": "code",
   "execution_count": null,
   "metadata": {},
   "outputs": [],
   "source": [
    "!pip install --upgrade mplfinance"
   ]
  },
  {
   "cell_type": "markdown",
   "metadata": {},
   "source": [
    "Para ilustar a criação deste tipo de gráficos recorremos ao dataset da `petrobas`. "
   ]
  },
  {
   "cell_type": "code",
   "execution_count": null,
   "metadata": {},
   "outputs": [],
   "source": [
    "df = get_petrobas_df()\n",
    "df.head()"
   ]
  },
  {
   "cell_type": "markdown",
   "metadata": {},
   "source": [
    "Comece por garantir que o tipo de dados da coluna `Date` é dtypes."
   ]
  },
  {
   "cell_type": "code",
   "execution_count": null,
   "metadata": {},
   "outputs": [],
   "source": [
    "df.dtypes"
   ]
  },
  {
   "cell_type": "markdown",
   "metadata": {},
   "source": [
    "A primeira coisa a fazer é definir o campo `Date` como index."
   ]
  },
  {
   "cell_type": "code",
   "execution_count": null,
   "metadata": {},
   "outputs": [],
   "source": [
    "df = df.set_index('Date')\n",
    "df.head()"
   ]
  },
  {
   "cell_type": "markdown",
   "metadata": {},
   "source": [
    "Finalmente recorremos às primeiras 7 linhas do dataset (dados correspondentes aos últimos 7 dias registados e que dizem respeito a Abril de 2017) e plotamos o gráfico. Nota: cor preta quando o close < open. Cor branca quando o close > open."
   ]
  },
  {
   "cell_type": "code",
   "execution_count": null,
   "metadata": {},
   "outputs": [],
   "source": [
    "import mplfinance as mpf\n",
    "mpf.plot(df[:7], type='candle')"
   ]
  },
  {
   "cell_type": "markdown",
   "metadata": {},
   "source": [
    "De seguida podemos ver os resultados expressos em termos de linhas (desta vez considerando a totalidade do dataset)."
   ]
  },
  {
   "cell_type": "code",
   "execution_count": null,
   "metadata": {},
   "outputs": [],
   "source": [
    "mpf.plot(df,type='line')"
   ]
  },
  {
   "cell_type": "markdown",
   "metadata": {},
   "source": [
    "Finalmente plotamos os 30 primeiros dias considerando uma moving average de 3, 6 e 9 dias, assim como a inclusão do volume."
   ]
  },
  {
   "cell_type": "code",
   "execution_count": null,
   "metadata": {},
   "outputs": [],
   "source": [
    "mpf.plot(df[:30],type='candle',mav=(3,6,9),volume=True)"
   ]
  }
 ],
 "metadata": {
  "kernelspec": {
   "display_name": "Python 3 (ipykernel)",
   "language": "python",
   "name": "python3"
  },
  "language_info": {
   "codemirror_mode": {
    "name": "ipython",
    "version": 3
   },
   "file_extension": ".py",
   "mimetype": "text/x-python",
   "name": "python",
   "nbconvert_exporter": "python",
   "pygments_lexer": "ipython3",
   "version": "3.11.7"
  },
  "toc": {
   "base_numbering": 1,
   "nav_menu": {},
   "number_sections": true,
   "sideBar": true,
   "skip_h1_title": true,
   "title_cell": "Table of Contents",
   "title_sidebar": "Contents",
   "toc_cell": true,
   "toc_position": {
    "height": "calc(100% - 180px)",
    "left": "10px",
    "top": "150px",
    "width": "320px"
   },
   "toc_section_display": true,
   "toc_window_display": true
  }
 },
 "nbformat": 4,
 "nbformat_minor": 4
}
