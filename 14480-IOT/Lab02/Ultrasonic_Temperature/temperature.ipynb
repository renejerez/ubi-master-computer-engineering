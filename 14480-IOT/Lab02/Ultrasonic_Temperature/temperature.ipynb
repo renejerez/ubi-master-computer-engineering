{
 "cells": [
  {
   "cell_type": "code",
   "execution_count": 1,
   "metadata": {},
   "outputs": [
    {
     "name": "stdout",
     "output_type": "stream",
     "text": [
      "Collecting esptool\n",
      "  Downloading esptool-4.7.0.tar.gz (285 kB)\n",
      "     ---------------------------------------- 0.0/285.5 kB ? eta -:--:--\n",
      "     ------------ -------------------------- 92.2/285.5 kB 2.6 MB/s eta 0:00:01\n",
      "     --------------------- ---------------- 163.8/285.5 kB 2.4 MB/s eta 0:00:01\n",
      "     ------------------------------------ - 276.5/285.5 kB 2.1 MB/s eta 0:00:01\n",
      "     ------------------------------------ - 276.5/285.5 kB 2.1 MB/s eta 0:00:01\n",
      "     ------------------------------------ - 276.5/285.5 kB 2.1 MB/s eta 0:00:01\n",
      "     ------------------------------------ - 276.5/285.5 kB 2.1 MB/s eta 0:00:01\n",
      "     ------------------------------------ - 276.5/285.5 kB 2.1 MB/s eta 0:00:01\n",
      "     ------------------------------------ - 276.5/285.5 kB 2.1 MB/s eta 0:00:01\n",
      "     ------------------------------------ - 276.5/285.5 kB 2.1 MB/s eta 0:00:01\n",
      "     ------------------------------------ - 276.5/285.5 kB 2.1 MB/s eta 0:00:01\n",
      "     ------------------------------------ - 276.5/285.5 kB 2.1 MB/s eta 0:00:01\n",
      "     ------------------------------------ - 276.5/285.5 kB 2.1 MB/s eta 0:00:01\n",
      "     ------------------------------------ - 276.5/285.5 kB 2.1 MB/s eta 0:00:01\n",
      "     ------------------------------------ - 276.5/285.5 kB 2.1 MB/s eta 0:00:01\n",
      "     ------------------------------------ - 276.5/285.5 kB 2.1 MB/s eta 0:00:01\n",
      "     ------------------------------------ - 276.5/285.5 kB 2.1 MB/s eta 0:00:01\n",
      "     ------------------------------------ - 276.5/285.5 kB 2.1 MB/s eta 0:00:01\n",
      "     ------------------------------------ - 276.5/285.5 kB 2.1 MB/s eta 0:00:01\n",
      "     ------------------------------------ 285.5/285.5 kB 284.1 kB/s eta 0:00:00\n",
      "  Preparing metadata (setup.py): started\n",
      "  Preparing metadata (setup.py): finished with status 'done'\n",
      "Collecting bitstring>=3.1.6 (from esptool)\n",
      "  Downloading bitstring-4.1.4-py3-none-any.whl.metadata (5.8 kB)\n",
      "Requirement already satisfied: cryptography>=2.1.4 in c:\\users\\rene_\\anaconda3\\lib\\site-packages (from esptool) (42.0.2)\n",
      "Collecting ecdsa>=0.16.0 (from esptool)\n",
      "  Downloading ecdsa-0.18.0-py2.py3-none-any.whl.metadata (29 kB)\n",
      "Collecting pyserial>=3.0 (from esptool)\n",
      "  Downloading pyserial-3.5-py2.py3-none-any.whl.metadata (1.6 kB)\n",
      "Collecting reedsolo<1.8,>=1.5.3 (from esptool)\n",
      "  Downloading reedsolo-1.7.0-py3-none-any.whl.metadata (23 kB)\n",
      "Requirement already satisfied: PyYAML>=5.1 in c:\\users\\rene_\\anaconda3\\lib\\site-packages (from esptool) (6.0.1)\n",
      "Collecting intelhex (from esptool)\n",
      "  Downloading intelhex-2.3.0-py2.py3-none-any.whl.metadata (2.7 kB)\n",
      "Collecting bitarray<3.0.0,>=2.8.0 (from bitstring>=3.1.6->esptool)\n",
      "  Downloading bitarray-2.9.2-cp311-cp311-win_amd64.whl.metadata (35 kB)\n",
      "Requirement already satisfied: cffi>=1.12 in c:\\users\\rene_\\anaconda3\\lib\\site-packages (from cryptography>=2.1.4->esptool) (1.16.0)\n",
      "Requirement already satisfied: six>=1.9.0 in c:\\users\\rene_\\anaconda3\\lib\\site-packages (from ecdsa>=0.16.0->esptool) (1.16.0)\n",
      "Requirement already satisfied: pycparser in c:\\users\\rene_\\anaconda3\\lib\\site-packages (from cffi>=1.12->cryptography>=2.1.4->esptool) (2.21)\n",
      "Downloading bitstring-4.1.4-py3-none-any.whl (60 kB)\n",
      "   ---------------------------------------- 0.0/61.0 kB ? eta -:--:--\n",
      "   --------------------------------- ------ 51.2/61.0 kB ? eta -:--:--\n",
      "   --------------------------------- ------ 51.2/61.0 kB ? eta -:--:--\n",
      "   ---------------------------------------- 61.0/61.0 kB 461.2 kB/s eta 0:00:00\n",
      "Downloading ecdsa-0.18.0-py2.py3-none-any.whl (142 kB)\n",
      "   ---------------------------------------- 0.0/142.9 kB ? eta -:--:--\n",
      "   ------------------------------------- -- 133.1/142.9 kB ? eta -:--:--\n",
      "   ------------------------------------- -- 133.1/142.9 kB ? eta -:--:--\n",
      "   ------------------------------------- -- 133.1/142.9 kB ? eta -:--:--\n",
      "   ------------------------------------- -- 133.1/142.9 kB ? eta -:--:--\n",
      "   ------------------------------------- -- 133.1/142.9 kB ? eta -:--:--\n",
      "   ------------------------------------- -- 133.1/142.9 kB ? eta -:--:--\n",
      "   ------------------------------------- -- 133.1/142.9 kB ? eta -:--:--\n",
      "   ------------------------------------- -- 133.1/142.9 kB ? eta -:--:--\n",
      "   ------------------------------------- -- 133.1/142.9 kB ? eta -:--:--\n",
      "   ------------------------------------- -- 133.1/142.9 kB ? eta -:--:--\n",
      "   ------------------------------------- -- 133.1/142.9 kB ? eta -:--:--\n",
      "   ------------------------------------- -- 133.1/142.9 kB ? eta -:--:--\n",
      "   ------------------------------------- -- 133.1/142.9 kB ? eta -:--:--\n",
      "   ------------------------------------- -- 133.1/142.9 kB ? eta -:--:--\n",
      "   ------------------------------------- -- 133.1/142.9 kB ? eta -:--:--\n",
      "   ------------------------------------- -- 133.1/142.9 kB ? eta -:--:--\n",
      "   ------------------------------------- -- 133.1/142.9 kB ? eta -:--:--\n",
      "   ------------------------------------- -- 133.1/142.9 kB ? eta -:--:--\n",
      "   ------------------------------------- -- 133.1/142.9 kB ? eta -:--:--\n",
      "   ------------------------------------- -- 133.1/142.9 kB ? eta -:--:--\n",
      "   ------------------------------------- -- 133.1/142.9 kB ? eta -:--:--\n",
      "   ------------------------------------- -- 133.1/142.9 kB ? eta -:--:--\n",
      "   -------------------------------------- 142.9/142.9 kB 110.3 kB/s eta 0:00:00\n",
      "Downloading pyserial-3.5-py2.py3-none-any.whl (90 kB)\n",
      "   ---------------------------------------- 0.0/90.6 kB ? eta -:--:--\n",
      "   ------------------------------------ --- 81.9/90.6 kB ? eta -:--:--\n",
      "   ------------------------------------ --- 81.9/90.6 kB ? eta -:--:--\n",
      "   ------------------------------------ --- 81.9/90.6 kB ? eta -:--:--\n",
      "   ---------------------------------------- 90.6/90.6 kB 569.8 kB/s eta 0:00:00\n",
      "Downloading reedsolo-1.7.0-py3-none-any.whl (32 kB)\n",
      "Downloading intelhex-2.3.0-py2.py3-none-any.whl (50 kB)\n",
      "   ---------------------------------------- 0.0/50.9 kB ? eta -:--:--\n",
      "   -------------------------------- ------- 41.0/50.9 kB ? eta -:--:--\n",
      "   -------------------------------- ------- 41.0/50.9 kB ? eta -:--:--\n",
      "   ---------------------------------------- 50.9/50.9 kB 432.7 kB/s eta 0:00:00\n",
      "Downloading bitarray-2.9.2-cp311-cp311-win_amd64.whl (126 kB)\n",
      "   ---------------------------------------- 0.0/126.0 kB ? eta -:--:--\n",
      "   ---------------------------------------  122.9/126.0 kB 2.4 MB/s eta 0:00:01\n",
      "   ---------------------------------------  122.9/126.0 kB 2.4 MB/s eta 0:00:01\n",
      "   ---------------------------------------  122.9/126.0 kB 2.4 MB/s eta 0:00:01\n",
      "   -------------------------------------- 126.0/126.0 kB 570.3 kB/s eta 0:00:00\n",
      "Building wheels for collected packages: esptool\n",
      "  Building wheel for esptool (setup.py): started\n",
      "  Building wheel for esptool (setup.py): finished with status 'done'\n",
      "  Created wheel for esptool: filename=esptool-4.7.0-py3-none-any.whl size=364540 sha256=44d8acb794d29ae77e41e69a9b66c3d6d682ac194333ff5ba00c241dd4804adf\n",
      "  Stored in directory: c:\\users\\rene_\\appdata\\local\\pip\\cache\\wheels\\4c\\fa\\f6\\3973cbe4122577a221ae11f1d46acc69b92abb0dca99f672c0\n",
      "Successfully built esptool\n",
      "Installing collected packages: reedsolo, pyserial, intelhex, bitarray, ecdsa, bitstring, esptool\n",
      "Successfully installed bitarray-2.9.2 bitstring-4.1.4 ecdsa-0.18.0 esptool-4.7.0 intelhex-2.3.0 pyserial-3.5 reedsolo-1.7.0\n"
     ]
    }
   ],
   "source": [
    "!pip install esptool"
   ]
  },
  {
   "cell_type": "code",
   "execution_count": 3,
   "metadata": {},
   "outputs": [],
   "source": [
    "import esptool\n"
   ]
  },
  {
   "cell_type": "code",
   "execution_count": 5,
   "metadata": {},
   "outputs": [
    {
     "ename": "SyntaxError",
     "evalue": "invalid syntax (1859094317.py, line 1)",
     "output_type": "error",
     "traceback": [
      "\u001b[1;36m  Cell \u001b[1;32mIn[5], line 1\u001b[1;36m\u001b[0m\n\u001b[1;33m    esptool.erase_flash(port:'COM3')\u001b[0m\n\u001b[1;37m                            ^\u001b[0m\n\u001b[1;31mSyntaxError\u001b[0m\u001b[1;31m:\u001b[0m invalid syntax\n"
     ]
    }
   ],
   "source": [
    "esptool.erase_flash(port:'COM3')\n"
   ]
  }
 ],
 "metadata": {
  "kernelspec": {
   "display_name": "base",
   "language": "python",
   "name": "python3"
  },
  "language_info": {
   "codemirror_mode": {
    "name": "ipython",
    "version": 3
   },
   "file_extension": ".py",
   "mimetype": "text/x-python",
   "name": "python",
   "nbconvert_exporter": "python",
   "pygments_lexer": "ipython3",
   "version": "3.11.7"
  }
 },
 "nbformat": 4,
 "nbformat_minor": 2
}
